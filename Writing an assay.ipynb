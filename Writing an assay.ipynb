{
 "cells": [
  {
   "cell_type": "code",
   "execution_count": 1,
   "metadata": {
    "ExecutionTime": {
     "end_time": "2019-03-16T16:14:25.148440Z",
     "start_time": "2019-03-16T16:14:09.681780Z"
    },
    "provenance": [
     {
      "end_time": "Unknown",
      "execution_time": "Unknown",
      "outputs": [],
      "source": "",
      "start_time": "Unknown"
     },
     {
      "end_time": "2019-03-15T11:08:11.717Z",
      "execution_time": "9.45s",
      "outputs": [
       {
        "name": "stdout",
        "output_type": "stream",
        "text": "Please enter the name for the investigation: dada\n"
       },
       {
        "ename": "NameError",
        "evalue": "name 'containing_project_id' is not defined",
        "output_type": "error",
        "traceback": [
         "\u001b[0;31m---------------------------------------------------------------------------\u001b[0m",
         "\u001b[0;31mNameError\u001b[0m                                 Traceback (most recent call last)",
         "\u001b[0;32m<ipython-input-1-8f0274c1b3e2>\u001b[0m in \u001b[0;36m<module>\u001b[0;34m()\u001b[0m\n\u001b[1;32m      6\u001b[0m \u001b[0minvestigation\u001b[0m\u001b[0;34m[\u001b[0m\u001b[0;34m'data'\u001b[0m\u001b[0;34m]\u001b[0m\u001b[0;34m[\u001b[0m\u001b[0;34m'relationships'\u001b[0m\u001b[0;34m]\u001b[0m \u001b[0;34m=\u001b[0m \u001b[0;34m{\u001b[0m\u001b[0;34m}\u001b[0m\u001b[0;34m\u001b[0m\u001b[0m\n\u001b[1;32m      7\u001b[0m \u001b[0minvestigation\u001b[0m\u001b[0;34m[\u001b[0m\u001b[0;34m'data'\u001b[0m\u001b[0;34m]\u001b[0m\u001b[0;34m[\u001b[0m\u001b[0;34m'relationships'\u001b[0m\u001b[0;34m]\u001b[0m\u001b[0;34m[\u001b[0m\u001b[0;34m'projects'\u001b[0m\u001b[0;34m]\u001b[0m \u001b[0;34m=\u001b[0m \u001b[0;34m{\u001b[0m\u001b[0;34m}\u001b[0m\u001b[0;34m\u001b[0m\u001b[0m\n\u001b[0;32m----> 8\u001b[0;31m \u001b[0minvestigation\u001b[0m\u001b[0;34m[\u001b[0m\u001b[0;34m'data'\u001b[0m\u001b[0;34m]\u001b[0m\u001b[0;34m[\u001b[0m\u001b[0;34m'relationships'\u001b[0m\u001b[0;34m]\u001b[0m\u001b[0;34m[\u001b[0m\u001b[0;34m'projects'\u001b[0m\u001b[0;34m]\u001b[0m\u001b[0;34m[\u001b[0m\u001b[0;34m'data'\u001b[0m\u001b[0;34m]\u001b[0m \u001b[0;34m=\u001b[0m \u001b[0;34m[\u001b[0m\u001b[0;34m{\u001b[0m\u001b[0;34m'id'\u001b[0m \u001b[0;34m:\u001b[0m \u001b[0mcontaining_project_id\u001b[0m\u001b[0;34m,\u001b[0m \u001b[0;34m'type'\u001b[0m \u001b[0;34m:\u001b[0m \u001b[0;34m'projects'\u001b[0m\u001b[0;34m}\u001b[0m\u001b[0;34m]\u001b[0m\u001b[0;34m\u001b[0m\u001b[0m\n\u001b[0m",
         "\u001b[0;31mNameError\u001b[0m: name 'containing_project_id' is not defined"
        ]
       }
      ],
      "source": "investigation = {}\ninvestigation['data'] = {}\ninvestigation['data']['type'] = 'investigations'\ninvestigation['data']['attributes'] = {}\ninvestigation['data']['attributes']['title'] = input('Please enter the name for the investigation: ')\ninvestigation['data']['relationships'] = {}\ninvestigation['data']['relationships']['projects'] = {}\ninvestigation['data']['relationships']['projects']['data'] = [{'id' : containing_project_id, 'type' : 'projects'}]",
      "start_time": "2019-03-15T11:08:02.269Z"
     },
     {
      "end_time": "2019-03-15T11:09:21.237Z",
      "execution_time": "6.40s",
      "outputs": [
       {
        "name": "stdout",
        "output_type": "stream",
        "text": "Please enter the name for the investigation: alabala\nPlease enter the id of the project for this investigation23\n"
       }
      ],
      "source": "investigation = {}\ninvestigation['data'] = {}\ninvestigation['data']['type'] = 'investigations'\ninvestigation['data']['attributes'] = {}\ninvestigation['data']['attributes']['title'] = input('Please enter the name for the investigation: ')\ninvestigation['data']['relationships'] = {}\ninvestigation['data']['relationships']['projects'] = {}\ninvestigation['data']['relationships']['projects']['data'] = [{'id' : input('Please enter the id of the project for this investigation'), 'type' : 'projects'}]",
      "start_time": "2019-03-15T11:09:14.836Z"
     },
     {
      "end_time": "2019-03-15T11:09:29.230Z",
      "execution_time": "3.22s",
      "outputs": [
       {
        "name": "stdout",
        "output_type": "stream",
        "text": "Please enter the name for the investigation: alabala\nPlease enter the id of the project for this investigation: 123\n"
       }
      ],
      "source": "investigation = {}\ninvestigation['data'] = {}\ninvestigation['data']['type'] = 'investigations'\ninvestigation['data']['attributes'] = {}\ninvestigation['data']['attributes']['title'] = input('Please enter the name for the investigation: ')\ninvestigation['data']['relationships'] = {}\ninvestigation['data']['relationships']['projects'] = {}\ninvestigation['data']['relationships']['projects']['data'] = [{'id' : input('Please enter the id of the project for this investigation: '), 'type' : 'projects'}]",
      "start_time": "2019-03-15T11:09:26.012Z"
     },
     {
      "end_time": "2019-03-15T11:14:24.938Z",
      "execution_time": "5ms",
      "outputs": [
       {
        "ename": "SyntaxError",
        "evalue": "invalid syntax (WriteObject.py, line 21)",
        "output_type": "error",
        "traceback": [
         "Traceback \u001b[0;36m(most recent call last)\u001b[0m:\n",
         "  File \u001b[1;32m\"/home/bogdan/anaconda3/lib/python3.6/site-packages/IPython/core/interactiveshell.py\"\u001b[0m, line \u001b[1;32m2963\u001b[0m, in \u001b[1;35mrun_code\u001b[0m\n    exec(code_obj, self.user_global_ns, self.user_ns)\n",
         "\u001b[0;36m  File \u001b[0;32m\"<ipython-input-4-cd480b0c800a>\"\u001b[0;36m, line \u001b[0;32m1\u001b[0;36m, in \u001b[0;35m<module>\u001b[0;36m\u001b[0m\n\u001b[0;31m    from WriteObject import WriteObject\u001b[0m\n",
         "\u001b[0;36m  File \u001b[0;32m\"/home/bogdan/Work/ThirdYear/Seek/TheSeekNotebook/WriteObject.py\"\u001b[0;36m, line \u001b[0;32m21\u001b[0m\n\u001b[0;31m    def\u001b[0m\n\u001b[0m        ^\u001b[0m\n\u001b[0;31mSyntaxError\u001b[0m\u001b[0;31m:\u001b[0m invalid syntax\n"
        ]
       }
      ],
      "source": "from WriteObject import WriteObject\n\nWO = WriteObject()\n\nWO.SEEKForm()",
      "start_time": "2019-03-15T11:14:24.933Z"
     },
     {
      "end_time": "2019-03-15T11:14:35.191Z",
      "execution_time": "369ms",
      "outputs": [
       {
        "ename": "ImportError",
        "evalue": "cannot import name 'WriteObject'",
        "output_type": "error",
        "traceback": [
         "\u001b[0;31m---------------------------------------------------------------------------\u001b[0m",
         "\u001b[0;31mImportError\u001b[0m                               Traceback (most recent call last)",
         "\u001b[0;32m<ipython-input-5-cd480b0c800a>\u001b[0m in \u001b[0;36m<module>\u001b[0;34m()\u001b[0m\n\u001b[0;32m----> 1\u001b[0;31m \u001b[0;32mfrom\u001b[0m \u001b[0mWriteObject\u001b[0m \u001b[0;32mimport\u001b[0m \u001b[0mWriteObject\u001b[0m\u001b[0;34m\u001b[0m\u001b[0m\n\u001b[0m\u001b[1;32m      2\u001b[0m \u001b[0;34m\u001b[0m\u001b[0m\n\u001b[1;32m      3\u001b[0m \u001b[0mWO\u001b[0m \u001b[0;34m=\u001b[0m \u001b[0mWriteObject\u001b[0m\u001b[0;34m(\u001b[0m\u001b[0;34m)\u001b[0m\u001b[0;34m\u001b[0m\u001b[0m\n\u001b[1;32m      4\u001b[0m \u001b[0;34m\u001b[0m\u001b[0m\n\u001b[1;32m      5\u001b[0m \u001b[0mWO\u001b[0m\u001b[0;34m.\u001b[0m\u001b[0mSEEKForm\u001b[0m\u001b[0;34m(\u001b[0m\u001b[0;34m)\u001b[0m\u001b[0;34m\u001b[0m\u001b[0m\n",
         "\u001b[0;31mImportError\u001b[0m: cannot import name 'WriteObject'"
        ]
       }
      ],
      "source": "from WriteObject import WriteObject\n\nWO = WriteObject()\n\nWO.SEEKForm()",
      "start_time": "2019-03-15T11:14:34.822Z"
     },
     {
      "end_time": "2019-03-15T11:14:51.721Z",
      "execution_time": "151ms",
      "outputs": [
       {
        "ename": "ImportError",
        "evalue": "cannot import name 'WriteObject'",
        "output_type": "error",
        "traceback": [
         "\u001b[0;31m---------------------------------------------------------------------------\u001b[0m",
         "\u001b[0;31mImportError\u001b[0m                               Traceback (most recent call last)",
         "\u001b[0;32m<ipython-input-1-cd480b0c800a>\u001b[0m in \u001b[0;36m<module>\u001b[0;34m()\u001b[0m\n\u001b[0;32m----> 1\u001b[0;31m \u001b[0;32mfrom\u001b[0m \u001b[0mWriteObject\u001b[0m \u001b[0;32mimport\u001b[0m \u001b[0mWriteObject\u001b[0m\u001b[0;34m\u001b[0m\u001b[0m\n\u001b[0m\u001b[1;32m      2\u001b[0m \u001b[0;34m\u001b[0m\u001b[0m\n\u001b[1;32m      3\u001b[0m \u001b[0mWO\u001b[0m \u001b[0;34m=\u001b[0m \u001b[0mWriteObject\u001b[0m\u001b[0;34m(\u001b[0m\u001b[0;34m)\u001b[0m\u001b[0;34m\u001b[0m\u001b[0m\n\u001b[1;32m      4\u001b[0m \u001b[0;34m\u001b[0m\u001b[0m\n\u001b[1;32m      5\u001b[0m \u001b[0mWO\u001b[0m\u001b[0;34m.\u001b[0m\u001b[0mSEEKForm\u001b[0m\u001b[0;34m(\u001b[0m\u001b[0;34m)\u001b[0m\u001b[0;34m\u001b[0m\u001b[0m\n",
         "\u001b[0;31mImportError\u001b[0m: cannot import name 'WriteObject'"
        ]
       }
      ],
      "source": "from WriteObject import WriteObject\n\nWO = WriteObject()\n\nWO.SEEKForm()",
      "start_time": "2019-03-15T11:14:51.570Z"
     },
     {
      "end_time": "2019-03-15T11:15:05.606Z",
      "execution_time": "19ms",
      "outputs": [
       {
        "ename": "ImportError",
        "evalue": "cannot import name 'WriteObject'",
        "output_type": "error",
        "traceback": [
         "\u001b[0;31m---------------------------------------------------------------------------\u001b[0m",
         "\u001b[0;31mImportError\u001b[0m                               Traceback (most recent call last)",
         "\u001b[0;32m<ipython-input-2-cd480b0c800a>\u001b[0m in \u001b[0;36m<module>\u001b[0;34m()\u001b[0m\n\u001b[0;32m----> 1\u001b[0;31m \u001b[0;32mfrom\u001b[0m \u001b[0mWriteObject\u001b[0m \u001b[0;32mimport\u001b[0m \u001b[0mWriteObject\u001b[0m\u001b[0;34m\u001b[0m\u001b[0m\n\u001b[0m\u001b[1;32m      2\u001b[0m \u001b[0;34m\u001b[0m\u001b[0m\n\u001b[1;32m      3\u001b[0m \u001b[0mWO\u001b[0m \u001b[0;34m=\u001b[0m \u001b[0mWriteObject\u001b[0m\u001b[0;34m(\u001b[0m\u001b[0;34m)\u001b[0m\u001b[0;34m\u001b[0m\u001b[0m\n\u001b[1;32m      4\u001b[0m \u001b[0;34m\u001b[0m\u001b[0m\n\u001b[1;32m      5\u001b[0m \u001b[0mWO\u001b[0m\u001b[0;34m.\u001b[0m\u001b[0mSEEKForm\u001b[0m\u001b[0;34m(\u001b[0m\u001b[0;34m)\u001b[0m\u001b[0;34m\u001b[0m\u001b[0m\n",
         "\u001b[0;31mImportError\u001b[0m: cannot import name 'WriteObject'"
        ]
       }
      ],
      "source": "from WriteObject import WriteObject\n\nWO = WriteObject()\n\nWO.SEEKForm()",
      "start_time": "2019-03-15T11:15:05.587Z"
     },
     {
      "end_time": "2019-03-15T11:15:15.242Z",
      "execution_time": "4.79s",
      "outputs": [
       {
        "data": {
         "text/html": "<h3>SEEK FORM</h3>",
         "text/plain": "<IPython.core.display.HTML object>"
        },
        "metadata": {},
        "output_type": "display_data",
        "transient": {}
       },
       {
        "name": "stdout",
        "output_type": "stream",
        "text": "\nThe type of object you want to upload to SEEK: investigation\nYou need to complete the following for in order to succesfully upload your information to SEEK\n"
       }
      ],
      "source": "from WriteObject import WriteObject\n\nWO = WriteObject()\n\nWO.SEEKForm()",
      "start_time": "2019-03-15T11:15:10.453Z"
     },
     {
      "end_time": "2019-03-15T11:59:52.246Z",
      "execution_time": "4.14s",
      "outputs": [
       {
        "data": {
         "text/html": "<h3>SEEK FORM</h3>",
         "text/plain": "<IPython.core.display.HTML object>"
        },
        "metadata": {},
        "output_type": "display_data",
        "transient": {}
       },
       {
        "name": "stdout",
        "output_type": "stream",
        "text": "\nThe type of object you want to upload to SEEK: da\n\nYou need to complete the following for in order to succesfully upload your information to SEEK\n"
       }
      ],
      "source": "from WriteObject import WriteObject\n\nWO = WriteObject()\n\nWO.SEEKForm()",
      "start_time": "2019-03-15T11:59:48.103Z"
     },
     {
      "end_time": "2019-03-15T12:04:58.709Z",
      "execution_time": "2.12s",
      "outputs": [
       {
        "data": {
         "text/html": "<h3>SEEK FORM</h3>",
         "text/plain": "<IPython.core.display.HTML object>"
        },
        "metadata": {},
        "output_type": "display_data",
        "transient": {}
       },
       {
        "name": "stdout",
        "output_type": "stream",
        "text": "\nThe type of object you want to upload to SEEK: as\n\nYou need to complete the following for in order to succesfully upload your information to SEEK\n"
       }
      ],
      "source": "from WriteObject import WriteObject\n\nWO = WriteObject()\n\nWO.SEEKForm()",
      "start_time": "2019-03-15T12:04:56.593Z"
     },
     {
      "end_time": "2019-03-15T12:09:18.334Z",
      "execution_time": "4.67s",
      "outputs": [
       {
        "name": "stdout",
        "output_type": "stream",
        "text": "Please specify the type: da\nPlease specify the description: da\nPlease specify other creators: da\nPlease specify the snapshots: da\nPlease specify the title: da\nPlease specify how many assays is this investigation related to: 10\n"
       },
       {
        "ename": "TypeError",
        "evalue": "must be str, not int",
        "output_type": "error",
        "traceback": [
         "\u001b[0;31m---------------------------------------------------------------------------\u001b[0m",
         "\u001b[0;31mTypeError\u001b[0m                                 Traceback (most recent call last)",
         "\u001b[0;32m<ipython-input-1-ed7a91e8dfa5>\u001b[0m in \u001b[0;36m<module>\u001b[0;34m()\u001b[0m\n\u001b[1;32m      3\u001b[0m \u001b[0mWO\u001b[0m \u001b[0;34m=\u001b[0m \u001b[0mWriteObject\u001b[0m\u001b[0;34m(\u001b[0m\u001b[0;34m)\u001b[0m\u001b[0;34m\u001b[0m\u001b[0m\n\u001b[1;32m      4\u001b[0m \u001b[0;34m\u001b[0m\u001b[0m\n\u001b[0;32m----> 5\u001b[0;31m \u001b[0mWO\u001b[0m\u001b[0;34m.\u001b[0m\u001b[0mJSONForm\u001b[0m\u001b[0;34m(\u001b[0m\u001b[0;34m)\u001b[0m\u001b[0;34m\u001b[0m\u001b[0m\n\u001b[0m",
         "\u001b[0;32m~/Work/ThirdYear/Seek/TheSeekNotebook/WriteObject.py\u001b[0m in \u001b[0;36mJSONForm\u001b[0;34m(self)\u001b[0m\n\u001b[1;32m     33\u001b[0m     \u001b[0;32mdef\u001b[0m \u001b[0mJSONForm\u001b[0m\u001b[0;34m(\u001b[0m\u001b[0mself\u001b[0m\u001b[0;34m)\u001b[0m\u001b[0;34m:\u001b[0m\u001b[0;34m\u001b[0m\u001b[0m\n\u001b[1;32m     34\u001b[0m \u001b[0;34m\u001b[0m\u001b[0m\n\u001b[0;32m---> 35\u001b[0;31m         \u001b[0mprint\u001b[0m\u001b[0;34m(\u001b[0m\u001b[0mHelper\u001b[0m\u001b[0;34m.\u001b[0m\u001b[0minvestigationFormat\u001b[0m\u001b[0;34m(\u001b[0m\u001b[0;34m)\u001b[0m\u001b[0;34m)\u001b[0m\u001b[0;34m\u001b[0m\u001b[0m\n\u001b[0m",
         "\u001b[0;32m~/Work/ThirdYear/Seek/TheSeekNotebook/Helper.py\u001b[0m in \u001b[0;36minvestigationFormat\u001b[0;34m()\u001b[0m\n\u001b[1;32m     15\u001b[0m     \u001b[0;32mfor\u001b[0m \u001b[0mindex\u001b[0m \u001b[0;32min\u001b[0m \u001b[0mrange\u001b[0m\u001b[0;34m(\u001b[0m\u001b[0;36m0\u001b[0m\u001b[0;34m,\u001b[0m \u001b[0mnumberOfAssays\u001b[0m\u001b[0;34m)\u001b[0m\u001b[0;34m:\u001b[0m\u001b[0;34m\u001b[0m\u001b[0m\n\u001b[1;32m     16\u001b[0m \u001b[0;34m\u001b[0m\u001b[0m\n\u001b[0;32m---> 17\u001b[0;31m         \u001b[0mJSON\u001b[0m\u001b[0;34m[\u001b[0m\u001b[0;34m'data'\u001b[0m\u001b[0;34m]\u001b[0m\u001b[0;34m[\u001b[0m\u001b[0;34m'relationships'\u001b[0m\u001b[0;34m]\u001b[0m\u001b[0;34m[\u001b[0m\u001b[0;34m'assays'\u001b[0m\u001b[0;34m]\u001b[0m\u001b[0;34m[\u001b[0m\u001b[0mindex\u001b[0m\u001b[0;34m]\u001b[0m \u001b[0;34m=\u001b[0m \u001b[0;34m[\u001b[0m\u001b[0;34m{\u001b[0m\u001b[0;34m'id'\u001b[0m \u001b[0;34m:\u001b[0m \u001b[0minput\u001b[0m\u001b[0;34m(\u001b[0m\u001b[0;34m'Please specify the id of the '\u001b[0m \u001b[0;34m+\u001b[0m \u001b[0mindex\u001b[0m \u001b[0;34m+\u001b[0m \u001b[0;34m' assay: '\u001b[0m\u001b[0;34m)\u001b[0m\u001b[0;34m,\u001b[0m \u001b[0;34m'type'\u001b[0m \u001b[0;34m:\u001b[0m \u001b[0;34m'assays'\u001b[0m\u001b[0;34m}\u001b[0m\u001b[0;34m]\u001b[0m\u001b[0;34m\u001b[0m\u001b[0m\n\u001b[0m\u001b[1;32m     18\u001b[0m     \u001b[0mJSON\u001b[0m\u001b[0;34m[\u001b[0m\u001b[0;34m'data'\u001b[0m\u001b[0;34m]\u001b[0m\u001b[0;34m[\u001b[0m\u001b[0;34m'relationships'\u001b[0m\u001b[0;34m]\u001b[0m\u001b[0;34m[\u001b[0m\u001b[0;34m'creators'\u001b[0m\u001b[0;34m]\u001b[0m \u001b[0;34m=\u001b[0m \u001b[0minput\u001b[0m\u001b[0;34m(\u001b[0m\u001b[0;34m'Please input the type: '\u001b[0m\u001b[0;34m)\u001b[0m\u001b[0;34m\u001b[0m\u001b[0m\n\u001b[1;32m     19\u001b[0m     \u001b[0mJSON\u001b[0m\u001b[0;34m[\u001b[0m\u001b[0;34m'data'\u001b[0m\u001b[0;34m]\u001b[0m\u001b[0;34m[\u001b[0m\u001b[0;34m'relationships'\u001b[0m\u001b[0;34m]\u001b[0m\u001b[0;34m[\u001b[0m\u001b[0;34m'data_files'\u001b[0m\u001b[0;34m]\u001b[0m \u001b[0;34m=\u001b[0m \u001b[0minput\u001b[0m\u001b[0;34m(\u001b[0m\u001b[0;34m'Please input the type: '\u001b[0m\u001b[0;34m)\u001b[0m\u001b[0;34m\u001b[0m\u001b[0m\n",
         "\u001b[0;31mTypeError\u001b[0m: must be str, not int"
        ]
       }
      ],
      "source": "from WriteObject import WriteObject\n\nWO = WriteObject()\n\nWO.JSONForm()",
      "start_time": "2019-03-15T12:09:13.663Z"
     },
     {
      "end_time": "2019-03-15T12:11:19.203Z",
      "execution_time": "42.8s",
      "outputs": [
       {
        "name": "stdout",
        "output_type": "stream",
        "text": "Please specify the type: ad\nPlease specify the description: da\nPlease specify other creators: da\nPlease specify the snapshots: da\nPlease specify the title: da\nPlease specify how many assays is this investigation related to: 10\nPlease specify the id of the 0 assay: 123\n"
       },
       {
        "ename": "KeyError",
        "evalue": "'assays'",
        "output_type": "error",
        "traceback": [
         "\u001b[0;31m---------------------------------------------------------------------------\u001b[0m",
         "\u001b[0;31mKeyError\u001b[0m                                  Traceback (most recent call last)",
         "\u001b[0;32m<ipython-input-1-ed7a91e8dfa5>\u001b[0m in \u001b[0;36m<module>\u001b[0;34m()\u001b[0m\n\u001b[1;32m      3\u001b[0m \u001b[0mWO\u001b[0m \u001b[0;34m=\u001b[0m \u001b[0mWriteObject\u001b[0m\u001b[0;34m(\u001b[0m\u001b[0;34m)\u001b[0m\u001b[0;34m\u001b[0m\u001b[0m\n\u001b[1;32m      4\u001b[0m \u001b[0;34m\u001b[0m\u001b[0m\n\u001b[0;32m----> 5\u001b[0;31m \u001b[0mWO\u001b[0m\u001b[0;34m.\u001b[0m\u001b[0mJSONForm\u001b[0m\u001b[0;34m(\u001b[0m\u001b[0;34m)\u001b[0m\u001b[0;34m\u001b[0m\u001b[0m\n\u001b[0m",
         "\u001b[0;32m~/Work/ThirdYear/Seek/TheSeekNotebook/WriteObject.py\u001b[0m in \u001b[0;36mJSONForm\u001b[0;34m(self)\u001b[0m\n\u001b[1;32m     33\u001b[0m     \u001b[0;32mdef\u001b[0m \u001b[0mJSONForm\u001b[0m\u001b[0;34m(\u001b[0m\u001b[0mself\u001b[0m\u001b[0;34m)\u001b[0m\u001b[0;34m:\u001b[0m\u001b[0;34m\u001b[0m\u001b[0m\n\u001b[1;32m     34\u001b[0m \u001b[0;34m\u001b[0m\u001b[0m\n\u001b[0;32m---> 35\u001b[0;31m         \u001b[0mprint\u001b[0m\u001b[0;34m(\u001b[0m\u001b[0mHelper\u001b[0m\u001b[0;34m.\u001b[0m\u001b[0minvestigationFormat\u001b[0m\u001b[0;34m(\u001b[0m\u001b[0;34m)\u001b[0m\u001b[0;34m)\u001b[0m\u001b[0;34m\u001b[0m\u001b[0m\n\u001b[0m",
         "\u001b[0;32m~/Work/ThirdYear/Seek/TheSeekNotebook/Helper.py\u001b[0m in \u001b[0;36minvestigationFormat\u001b[0;34m()\u001b[0m\n\u001b[1;32m     15\u001b[0m     \u001b[0;32mfor\u001b[0m \u001b[0mindex\u001b[0m \u001b[0;32min\u001b[0m \u001b[0mrange\u001b[0m\u001b[0;34m(\u001b[0m\u001b[0;36m0\u001b[0m\u001b[0;34m,\u001b[0m \u001b[0mnumberOfAssays\u001b[0m\u001b[0;34m)\u001b[0m\u001b[0;34m:\u001b[0m\u001b[0;34m\u001b[0m\u001b[0m\n\u001b[1;32m     16\u001b[0m \u001b[0;34m\u001b[0m\u001b[0m\n\u001b[0;32m---> 17\u001b[0;31m         \u001b[0mJSON\u001b[0m\u001b[0;34m[\u001b[0m\u001b[0;34m'data'\u001b[0m\u001b[0;34m]\u001b[0m\u001b[0;34m[\u001b[0m\u001b[0;34m'relationships'\u001b[0m\u001b[0;34m]\u001b[0m\u001b[0;34m[\u001b[0m\u001b[0;34m'assays'\u001b[0m\u001b[0;34m]\u001b[0m\u001b[0;34m[\u001b[0m\u001b[0mindex\u001b[0m\u001b[0;34m]\u001b[0m \u001b[0;34m=\u001b[0m \u001b[0;34m[\u001b[0m\u001b[0;34m{\u001b[0m\u001b[0;34m'id'\u001b[0m \u001b[0;34m:\u001b[0m \u001b[0minput\u001b[0m\u001b[0;34m(\u001b[0m\u001b[0;34m'Please specify the id of the '\u001b[0m \u001b[0;34m+\u001b[0m \u001b[0mstr\u001b[0m\u001b[0;34m(\u001b[0m\u001b[0mindex\u001b[0m\u001b[0;34m)\u001b[0m \u001b[0;34m+\u001b[0m \u001b[0;34m' assay: '\u001b[0m\u001b[0;34m)\u001b[0m\u001b[0;34m,\u001b[0m \u001b[0;34m'type'\u001b[0m \u001b[0;34m:\u001b[0m \u001b[0;34m'assays'\u001b[0m\u001b[0;34m}\u001b[0m\u001b[0;34m]\u001b[0m\u001b[0;34m\u001b[0m\u001b[0m\n\u001b[0m\u001b[1;32m     18\u001b[0m     \u001b[0mJSON\u001b[0m\u001b[0;34m[\u001b[0m\u001b[0;34m'data'\u001b[0m\u001b[0;34m]\u001b[0m\u001b[0;34m[\u001b[0m\u001b[0;34m'relationships'\u001b[0m\u001b[0;34m]\u001b[0m\u001b[0;34m[\u001b[0m\u001b[0;34m'creators'\u001b[0m\u001b[0;34m]\u001b[0m \u001b[0;34m=\u001b[0m \u001b[0minput\u001b[0m\u001b[0;34m(\u001b[0m\u001b[0;34m'Please input the type: '\u001b[0m\u001b[0;34m)\u001b[0m\u001b[0;34m\u001b[0m\u001b[0m\n\u001b[1;32m     19\u001b[0m     \u001b[0mJSON\u001b[0m\u001b[0;34m[\u001b[0m\u001b[0;34m'data'\u001b[0m\u001b[0;34m]\u001b[0m\u001b[0;34m[\u001b[0m\u001b[0;34m'relationships'\u001b[0m\u001b[0;34m]\u001b[0m\u001b[0;34m[\u001b[0m\u001b[0;34m'data_files'\u001b[0m\u001b[0;34m]\u001b[0m \u001b[0;34m=\u001b[0m \u001b[0minput\u001b[0m\u001b[0;34m(\u001b[0m\u001b[0;34m'Please input the type: '\u001b[0m\u001b[0;34m)\u001b[0m\u001b[0;34m\u001b[0m\u001b[0m\n",
         "\u001b[0;31mKeyError\u001b[0m: 'assays'"
        ]
       }
      ],
      "source": "from WriteObject import WriteObject\n\nWO = WriteObject()\n\nWO.JSONForm()",
      "start_time": "2019-03-15T12:10:36.425Z"
     },
     {
      "end_time": "2019-03-15T12:22:14.350Z",
      "execution_time": "8.76s",
      "outputs": [
       {
        "name": "stdout",
        "output_type": "stream",
        "text": "Please specify the type: ad\nPlease specify the description: ad\nPlease specify other creators: ad\nPlease specify the snapshots: ad\nPlease specify the title: ad\nPlease specify how many assays is this investigation related to: 10\nPlease specify the id of the assay number 112\n"
       },
       {
        "ename": "IndexError",
        "evalue": "list assignment index out of range",
        "output_type": "error",
        "traceback": [
         "\u001b[0;31m---------------------------------------------------------------------------\u001b[0m",
         "\u001b[0;31mIndexError\u001b[0m                                Traceback (most recent call last)",
         "\u001b[0;32m<ipython-input-1-ed7a91e8dfa5>\u001b[0m in \u001b[0;36m<module>\u001b[0;34m()\u001b[0m\n\u001b[1;32m      3\u001b[0m \u001b[0mWO\u001b[0m \u001b[0;34m=\u001b[0m \u001b[0mWriteObject\u001b[0m\u001b[0;34m(\u001b[0m\u001b[0;34m)\u001b[0m\u001b[0;34m\u001b[0m\u001b[0m\n\u001b[1;32m      4\u001b[0m \u001b[0;34m\u001b[0m\u001b[0m\n\u001b[0;32m----> 5\u001b[0;31m \u001b[0mWO\u001b[0m\u001b[0;34m.\u001b[0m\u001b[0mJSONForm\u001b[0m\u001b[0;34m(\u001b[0m\u001b[0;34m)\u001b[0m\u001b[0;34m\u001b[0m\u001b[0m\n\u001b[0m",
         "\u001b[0;32m~/Work/ThirdYear/Seek/TheSeekNotebook/WriteObject.py\u001b[0m in \u001b[0;36mJSONForm\u001b[0;34m(self)\u001b[0m\n\u001b[1;32m     33\u001b[0m     \u001b[0;32mdef\u001b[0m \u001b[0mJSONForm\u001b[0m\u001b[0;34m(\u001b[0m\u001b[0mself\u001b[0m\u001b[0;34m)\u001b[0m\u001b[0;34m:\u001b[0m\u001b[0;34m\u001b[0m\u001b[0m\n\u001b[1;32m     34\u001b[0m \u001b[0;34m\u001b[0m\u001b[0m\n\u001b[0;32m---> 35\u001b[0;31m         \u001b[0mprint\u001b[0m\u001b[0;34m(\u001b[0m\u001b[0mHelper\u001b[0m\u001b[0;34m.\u001b[0m\u001b[0minvestigationFormat\u001b[0m\u001b[0;34m(\u001b[0m\u001b[0;34m)\u001b[0m\u001b[0;34m)\u001b[0m\u001b[0;34m\u001b[0m\u001b[0m\n\u001b[0m",
         "\u001b[0;32m~/Work/ThirdYear/Seek/TheSeekNotebook/Helper.py\u001b[0m in \u001b[0;36minvestigationFormat\u001b[0;34m()\u001b[0m\n\u001b[1;32m     17\u001b[0m     \u001b[0;32mfor\u001b[0m \u001b[0mindex\u001b[0m \u001b[0;32min\u001b[0m \u001b[0mrange\u001b[0m\u001b[0;34m(\u001b[0m\u001b[0;36m1\u001b[0m\u001b[0;34m,\u001b[0m \u001b[0mnumberOfAssays\u001b[0m \u001b[0;34m+\u001b[0m \u001b[0;36m1\u001b[0m\u001b[0;34m)\u001b[0m\u001b[0;34m:\u001b[0m\u001b[0;34m\u001b[0m\u001b[0m\n\u001b[1;32m     18\u001b[0m \u001b[0;34m\u001b[0m\u001b[0m\n\u001b[0;32m---> 19\u001b[0;31m         \u001b[0mJSON\u001b[0m\u001b[0;34m[\u001b[0m\u001b[0;34m'data'\u001b[0m\u001b[0;34m]\u001b[0m\u001b[0;34m[\u001b[0m\u001b[0;34m'relationships'\u001b[0m\u001b[0;34m]\u001b[0m\u001b[0;34m[\u001b[0m\u001b[0;34m'assays'\u001b[0m\u001b[0;34m]\u001b[0m\u001b[0;34m[\u001b[0m\u001b[0mindex\u001b[0m\u001b[0;34m]\u001b[0m \u001b[0;34m=\u001b[0m \u001b[0;34m[\u001b[0m\u001b[0;34m{\u001b[0m\u001b[0;34m'id'\u001b[0m \u001b[0;34m:\u001b[0m \u001b[0minput\u001b[0m\u001b[0;34m(\u001b[0m\u001b[0;34m'Please specify the id of the assay number '\u001b[0m \u001b[0;34m+\u001b[0m \u001b[0mstr\u001b[0m\u001b[0;34m(\u001b[0m\u001b[0mindex\u001b[0m\u001b[0;34m)\u001b[0m\u001b[0;34m)\u001b[0m\u001b[0;34m,\u001b[0m \u001b[0;34m'type'\u001b[0m \u001b[0;34m:\u001b[0m \u001b[0;34m'assays'\u001b[0m\u001b[0;34m}\u001b[0m\u001b[0;34m]\u001b[0m\u001b[0;34m\u001b[0m\u001b[0m\n\u001b[0m\u001b[1;32m     20\u001b[0m \u001b[0;34m\u001b[0m\u001b[0m\n\u001b[1;32m     21\u001b[0m     \u001b[0mJSON\u001b[0m\u001b[0;34m[\u001b[0m\u001b[0;34m'data'\u001b[0m\u001b[0;34m]\u001b[0m\u001b[0;34m[\u001b[0m\u001b[0;34m'relationships'\u001b[0m\u001b[0;34m]\u001b[0m\u001b[0;34m[\u001b[0m\u001b[0;34m'assays'\u001b[0m\u001b[0;34m]\u001b[0m \u001b[0;34m=\u001b[0m \u001b[0;34m[\u001b[0m\u001b[0;34m]\u001b[0m\u001b[0;34m\u001b[0m\u001b[0m\n",
         "\u001b[0;31mIndexError\u001b[0m: list assignment index out of range"
        ]
       }
      ],
      "source": "from WriteObject import WriteObject\n\nWO = WriteObject()\n\nWO.JSONForm()",
      "start_time": "2019-03-15T12:22:05.590Z"
     },
     {
      "end_time": "2019-03-15T12:22:29.283Z",
      "execution_time": "5.83s",
      "outputs": [
       {
        "name": "stdout",
        "output_type": "stream",
        "text": "Please specify the type: asd\nPlease specify the description: asd\nPlease specify other creators: asd\nPlease specify the snapshots: asd\nPlease specify the title: asd\nPlease specify how many assays is this investigation related to: 10\nPlease specify the id of the assay number 123\n"
       },
       {
        "ename": "IndexError",
        "evalue": "list assignment index out of range",
        "output_type": "error",
        "traceback": [
         "\u001b[0;31m---------------------------------------------------------------------------\u001b[0m",
         "\u001b[0;31mIndexError\u001b[0m                                Traceback (most recent call last)",
         "\u001b[0;32m<ipython-input-2-ed7a91e8dfa5>\u001b[0m in \u001b[0;36m<module>\u001b[0;34m()\u001b[0m\n\u001b[1;32m      3\u001b[0m \u001b[0mWO\u001b[0m \u001b[0;34m=\u001b[0m \u001b[0mWriteObject\u001b[0m\u001b[0;34m(\u001b[0m\u001b[0;34m)\u001b[0m\u001b[0;34m\u001b[0m\u001b[0m\n\u001b[1;32m      4\u001b[0m \u001b[0;34m\u001b[0m\u001b[0m\n\u001b[0;32m----> 5\u001b[0;31m \u001b[0mWO\u001b[0m\u001b[0;34m.\u001b[0m\u001b[0mJSONForm\u001b[0m\u001b[0;34m(\u001b[0m\u001b[0;34m)\u001b[0m\u001b[0;34m\u001b[0m\u001b[0m\n\u001b[0m",
         "\u001b[0;32m~/Work/ThirdYear/Seek/TheSeekNotebook/WriteObject.py\u001b[0m in \u001b[0;36mJSONForm\u001b[0;34m(self)\u001b[0m\n\u001b[1;32m     33\u001b[0m     \u001b[0;32mdef\u001b[0m \u001b[0mJSONForm\u001b[0m\u001b[0;34m(\u001b[0m\u001b[0mself\u001b[0m\u001b[0;34m)\u001b[0m\u001b[0;34m:\u001b[0m\u001b[0;34m\u001b[0m\u001b[0m\n\u001b[1;32m     34\u001b[0m \u001b[0;34m\u001b[0m\u001b[0m\n\u001b[0;32m---> 35\u001b[0;31m         \u001b[0mprint\u001b[0m\u001b[0;34m(\u001b[0m\u001b[0mHelper\u001b[0m\u001b[0;34m.\u001b[0m\u001b[0minvestigationFormat\u001b[0m\u001b[0;34m(\u001b[0m\u001b[0;34m)\u001b[0m\u001b[0;34m)\u001b[0m\u001b[0;34m\u001b[0m\u001b[0m\n\u001b[0m",
         "\u001b[0;32m~/Work/ThirdYear/Seek/TheSeekNotebook/Helper.py\u001b[0m in \u001b[0;36minvestigationFormat\u001b[0;34m()\u001b[0m\n\u001b[1;32m     17\u001b[0m     \u001b[0;32mfor\u001b[0m \u001b[0mindex\u001b[0m \u001b[0;32min\u001b[0m \u001b[0mrange\u001b[0m\u001b[0;34m(\u001b[0m\u001b[0;36m1\u001b[0m\u001b[0;34m,\u001b[0m \u001b[0mnumberOfAssays\u001b[0m \u001b[0;34m+\u001b[0m \u001b[0;36m1\u001b[0m\u001b[0;34m)\u001b[0m\u001b[0;34m:\u001b[0m\u001b[0;34m\u001b[0m\u001b[0m\n\u001b[1;32m     18\u001b[0m \u001b[0;34m\u001b[0m\u001b[0m\n\u001b[0;32m---> 19\u001b[0;31m         \u001b[0mJSON\u001b[0m\u001b[0;34m[\u001b[0m\u001b[0;34m'data'\u001b[0m\u001b[0;34m]\u001b[0m\u001b[0;34m[\u001b[0m\u001b[0;34m'relationships'\u001b[0m\u001b[0;34m]\u001b[0m\u001b[0;34m[\u001b[0m\u001b[0;34m'assays'\u001b[0m\u001b[0;34m]\u001b[0m\u001b[0;34m[\u001b[0m\u001b[0mindex\u001b[0m\u001b[0;34m]\u001b[0m \u001b[0;34m=\u001b[0m \u001b[0;34m[\u001b[0m\u001b[0;34m{\u001b[0m\u001b[0;34m'id'\u001b[0m \u001b[0;34m:\u001b[0m \u001b[0minput\u001b[0m\u001b[0;34m(\u001b[0m\u001b[0;34m'Please specify the id of the assay number '\u001b[0m \u001b[0;34m+\u001b[0m \u001b[0mstr\u001b[0m\u001b[0;34m(\u001b[0m\u001b[0mindex\u001b[0m\u001b[0;34m)\u001b[0m\u001b[0;34m)\u001b[0m\u001b[0;34m,\u001b[0m \u001b[0;34m'type'\u001b[0m \u001b[0;34m:\u001b[0m \u001b[0;34m'assays'\u001b[0m\u001b[0;34m}\u001b[0m\u001b[0;34m]\u001b[0m\u001b[0;34m\u001b[0m\u001b[0m\n\u001b[0m\u001b[1;32m     20\u001b[0m \u001b[0;34m\u001b[0m\u001b[0m\n\u001b[1;32m     21\u001b[0m     \u001b[0mJSON\u001b[0m\u001b[0;34m[\u001b[0m\u001b[0;34m'data'\u001b[0m\u001b[0;34m]\u001b[0m\u001b[0;34m[\u001b[0m\u001b[0;34m'relationships'\u001b[0m\u001b[0;34m]\u001b[0m\u001b[0;34m[\u001b[0m\u001b[0;34m'assays'\u001b[0m\u001b[0;34m]\u001b[0m \u001b[0;34m=\u001b[0m \u001b[0;34m[\u001b[0m\u001b[0;34m]\u001b[0m\u001b[0;34m\u001b[0m\u001b[0m\n",
         "\u001b[0;31mIndexError\u001b[0m: list assignment index out of range"
        ]
       }
      ],
      "source": "from WriteObject import WriteObject\n\nWO = WriteObject()\n\nWO.JSONForm()",
      "start_time": "2019-03-15T12:22:23.451Z"
     },
     {
      "end_time": "2019-03-15T12:22:56.383Z",
      "execution_time": "103ms",
      "outputs": [
       {
        "ename": "SyntaxError",
        "evalue": "invalid syntax (Helper.py, line 19)",
        "output_type": "error",
        "traceback": [
         "Traceback \u001b[0;36m(most recent call last)\u001b[0m:\n",
         "  File \u001b[1;32m\"/home/bogdan/anaconda3/lib/python3.6/site-packages/IPython/core/interactiveshell.py\"\u001b[0m, line \u001b[1;32m2963\u001b[0m, in \u001b[1;35mrun_code\u001b[0m\n    exec(code_obj, self.user_global_ns, self.user_ns)\n",
         "  File \u001b[1;32m\"<ipython-input-1-ed7a91e8dfa5>\"\u001b[0m, line \u001b[1;32m1\u001b[0m, in \u001b[1;35m<module>\u001b[0m\n    from WriteObject import WriteObject\n",
         "\u001b[0;36m  File \u001b[0;32m\"/home/bogdan/Work/ThirdYear/Seek/TheSeekNotebook/WriteObject.py\"\u001b[0;36m, line \u001b[0;32m5\u001b[0;36m, in \u001b[0;35m<module>\u001b[0;36m\u001b[0m\n\u001b[0;31m    import Helper\u001b[0m\n",
         "\u001b[0;36m  File \u001b[0;32m\"/home/bogdan/Work/ThirdYear/Seek/TheSeekNotebook/Helper.py\"\u001b[0;36m, line \u001b[0;32m19\u001b[0m\n\u001b[0;31m    JSON['data']['relationships']['assays'].append([{'id' : input('Please specify the id of the assay number ' + str(index)), 'type' : 'assays'})\u001b[0m\n\u001b[0m                                                                                                                                                ^\u001b[0m\n\u001b[0;31mSyntaxError\u001b[0m\u001b[0;31m:\u001b[0m invalid syntax\n"
        ]
       }
      ],
      "source": "from WriteObject import WriteObject\n\nWO = WriteObject()\n\nWO.JSONForm()",
      "start_time": "2019-03-15T12:22:56.280Z"
     },
     {
      "end_time": "2019-03-15T12:36:50.929Z",
      "execution_time": "2m 5s",
      "outputs": [
       {
        "name": "stdout",
        "output_type": "stream",
        "text": "Please specify the type: l\nPlease specify the description: l\nPlease specify other creators: \nPlease specify the snapshots: l\nPlease specify the title: l\nPlease specify how many assays is this investigation related to: 0\nPlease specify how many creators is this investigation related to: 0\nPlease specify how many data files is this investigation related to: 1\nPlease specify the id of the data file number 1123\nPlease specify how many documents is this investigation related to: 0\nPlease specify how many models is this investigation related to: 23\nPlease specify the id of the model number 12\nPlease specify the id of the model number 23\nPlease specify the id of the model number 34\nPlease specify the id of the model number 45\nPlease specify the id of the model number 56\nPlease specify the id of the model number 63\nPlease specify the id of the model number 76\nPlease specify the id of the model number 83\nPlease specify the id of the model number 95\nPlease specify the id of the model number 106\nPlease specify the id of the model number 113\nPlease specify the id of the model number 125\nPlease specify the id of the model number 132\nPlease specify the id of the model number 145\nPlease specify the id of the model number 152\nPlease specify the id of the model number 165\nPlease specify the id of the model number 173\nPlease specify the id of the model number 185\nPlease specify the id of the model number 192\nPlease specify the id of the model number 201\nPlease specify the id of the model number 215\nPlease specify the id of the model number 222\nPlease specify the id of the model number 235\nPlease specify how many people is this investigation related to: 0\nPlease specify how many projects is this investigation related to: 0\nPlease specify how many publications is this investigation related to: 0\nPlease specify how many sops is this investigation related to: 0\nPlease specify how many studies is this investigation related to: 0\nPlease specify how many submitters is this investigation related to: 0\nPlease input the type: asd\nPlease input the type: asd\nPlease input the type: asd\nPlease input the type: \nPlease input the type: asd\nPlease input the type: asd\n"
       },
       {
        "ename": "KeyError",
        "evalue": "'links'",
        "output_type": "error",
        "traceback": [
         "\u001b[0;31m---------------------------------------------------------------------------\u001b[0m",
         "\u001b[0;31mKeyError\u001b[0m                                  Traceback (most recent call last)",
         "\u001b[0;32m<ipython-input-1-ed7a91e8dfa5>\u001b[0m in \u001b[0;36m<module>\u001b[0;34m()\u001b[0m\n\u001b[1;32m      3\u001b[0m \u001b[0mWO\u001b[0m \u001b[0;34m=\u001b[0m \u001b[0mWriteObject\u001b[0m\u001b[0;34m(\u001b[0m\u001b[0;34m)\u001b[0m\u001b[0;34m\u001b[0m\u001b[0m\n\u001b[1;32m      4\u001b[0m \u001b[0;34m\u001b[0m\u001b[0m\n\u001b[0;32m----> 5\u001b[0;31m \u001b[0mWO\u001b[0m\u001b[0;34m.\u001b[0m\u001b[0mJSONForm\u001b[0m\u001b[0;34m(\u001b[0m\u001b[0;34m)\u001b[0m\u001b[0;34m\u001b[0m\u001b[0m\n\u001b[0m",
         "\u001b[0;32m~/Work/ThirdYear/Seek/TheSeekNotebook/WriteObject.py\u001b[0m in \u001b[0;36mJSONForm\u001b[0;34m(self)\u001b[0m\n\u001b[1;32m     33\u001b[0m     \u001b[0;32mdef\u001b[0m \u001b[0mJSONForm\u001b[0m\u001b[0;34m(\u001b[0m\u001b[0mself\u001b[0m\u001b[0;34m)\u001b[0m\u001b[0;34m:\u001b[0m\u001b[0;34m\u001b[0m\u001b[0m\n\u001b[1;32m     34\u001b[0m \u001b[0;34m\u001b[0m\u001b[0m\n\u001b[0;32m---> 35\u001b[0;31m         \u001b[0mprint\u001b[0m\u001b[0;34m(\u001b[0m\u001b[0mHelper\u001b[0m\u001b[0;34m.\u001b[0m\u001b[0minvestigationFormat\u001b[0m\u001b[0;34m(\u001b[0m\u001b[0;34m)\u001b[0m\u001b[0;34m)\u001b[0m\u001b[0;34m\u001b[0m\u001b[0m\n\u001b[0m",
         "\u001b[0;32m~/Work/ThirdYear/Seek/TheSeekNotebook/Helper.py\u001b[0m in \u001b[0;36minvestigationFormat\u001b[0;34m()\u001b[0m\n\u001b[1;32m     86\u001b[0m     \u001b[0mJSON\u001b[0m\u001b[0;34m[\u001b[0m\u001b[0;34m'data'\u001b[0m\u001b[0;34m]\u001b[0m\u001b[0;34m[\u001b[0m\u001b[0;34m'meta'\u001b[0m\u001b[0;34m]\u001b[0m\u001b[0;34m[\u001b[0m\u001b[0;34m'modified'\u001b[0m\u001b[0;34m]\u001b[0m \u001b[0;34m=\u001b[0m \u001b[0minput\u001b[0m\u001b[0;34m(\u001b[0m\u001b[0;34m'Please input the type: '\u001b[0m\u001b[0;34m)\u001b[0m\u001b[0;34m\u001b[0m\u001b[0m\n\u001b[1;32m     87\u001b[0m \u001b[0;34m\u001b[0m\u001b[0m\n\u001b[0;32m---> 88\u001b[0;31m     \u001b[0mJSON\u001b[0m\u001b[0;34m[\u001b[0m\u001b[0;34m'data'\u001b[0m\u001b[0;34m]\u001b[0m\u001b[0;34m[\u001b[0m\u001b[0;34m'links'\u001b[0m\u001b[0;34m]\u001b[0m\u001b[0;34m[\u001b[0m\u001b[0;34m'self'\u001b[0m\u001b[0;34m]\u001b[0m \u001b[0;34m=\u001b[0m \u001b[0minput\u001b[0m\u001b[0;34m(\u001b[0m\u001b[0;34m'Please input the type: '\u001b[0m\u001b[0;34m)\u001b[0m\u001b[0;34m\u001b[0m\u001b[0m\n\u001b[0m\u001b[1;32m     89\u001b[0m \u001b[0;34m\u001b[0m\u001b[0m\n\u001b[1;32m     90\u001b[0m     \u001b[0;32mreturn\u001b[0m \u001b[0mJSON\u001b[0m\u001b[0;34m\u001b[0m\u001b[0m\n",
         "\u001b[0;31mKeyError\u001b[0m: 'links'"
        ]
       }
      ],
      "source": "from WriteObject import WriteObject\n\nWO = WriteObject()\n\nWO.JSONForm()",
      "start_time": "2019-03-15T12:34:46.097Z"
     },
     {
      "end_time": "2019-03-15T12:46:25.168Z",
      "execution_time": "38.3s",
      "outputs": [
       {
        "name": "stdout",
        "output_type": "stream",
        "text": "Please specify the type: liver\nPlease specify the description: sd\nPlease specify other creators: asd\nPlease specify the snapshots: asd\nPlease specify the title: a\nPlease specify how many assays is this investigation related to: 1\nPlease specify the id of the assay number 1123\nPlease specify how many creators is this investigation related to: 0\nPlease specify how many data files is this investigation related to: 3\nPlease specify the id of the data file number 1213\nPlease specify the id of the data file number 232\nPlease specify the id of the data file number 342\nPlease specify how many documents is this investigation related to: 1\nPlease specify the id of the document number 1241\nPlease specify how many models is this investigation related to: 1\nPlease specify the id of the model number 1421\nPlease specify how many people is this investigation related to: 1\nPlease specify the id of the person number 142\nPlease specify how many projects is this investigation related to: 1\nPlease specify the id of the project number 1421\nPlease specify how many publications is this investigation related to: 1\nPlease specify the id of the publication number 142\nPlease specify how many sops is this investigation related to: 1\nPlease specify the id of the sop number 142\nPlease specify how many studies is this investigation related to: 0\nPlease specify how many submitters is this investigation related to: 0\n{'data': {'type': 'liver', 'attributes': {'description': 'sd', 'other_creators': 'asd', 'snapshots': 'asd', 'title': 'a'}, 'relationships': {'assays': [[{'id': '123', 'type': 'assays'}]], 'creators': [], 'data_files': [[{'id': '213', 'type': 'data_files'}], [{'id': '32', 'type': 'data_files'}], [{'id': '42', 'type': 'data_files'}]], 'documents': [[{'id': '241', 'type': 'documents'}]], 'models': [[{'id': '421', 'type': 'models'}]], 'people': [[{'id': '42', 'type': 'people'}]], 'projects': [[{'id': '421', 'type': 'projects'}], [{'id': '42', 'type': 'publications'}]], 'publications': [], 'sops': [[{'id': '42', 'type': 'sops'}]], 'studies': [], 'submitter': []}}}\n"
       }
      ],
      "source": "from WriteObject import WriteObject\n\nWO = WriteObject()\n\nWO.JSONForm()",
      "start_time": "2019-03-15T12:45:46.913Z"
     },
     {
      "end_time": "2019-03-15T12:56:27.609Z",
      "execution_time": "32.6s",
      "outputs": [
       {
        "name": "stdout",
        "output_type": "stream",
        "text": "Please specify the type: ds\nPlease specify the description: ds\nPlease specify other creators: ds\nPlease specify the snapshots: ds\nPlease specify the title: ds\nPlease specify how many assays is this investigation related to: 1\nPlease specify the id of the assay number 123\nPlease specify how many creators is this investigation related to: 0\nPlease specify how many data files is this investigation related to: 9\nPlease specify the id of the data file number 1123\nPlease specify the id of the data file number 2123\nPlease specify the id of the data file number 3123\nPlease specify the id of the data file number 41\nPlease specify the id of the data file number 51\nPlease specify the id of the data file number 61\nPlease specify the id of the data file number 71\nPlease specify the id of the data file number 81\nPlease specify the id of the data file number 91\nPlease specify how many documents is this investigation related to: 1\nPlease specify the id of the document number 111\nPlease specify how many models is this investigation related to: 1\nPlease specify the id of the model number 11\nPlease specify how many people is this investigation related to: 1\nPlease specify the id of the person number 11\nPlease specify how many projects is this investigation related to: 1\nPlease specify the id of the project number 11\nPlease specify how many publications is this investigation related to: 1\nPlease specify the id of the publication number 11\nPlease specify how many sops is this investigation related to: 1\nPlease specify the id of the sop number 11\nPlease specify how many studies is this investigation related to: 1\nPlease specify the id of the study number 11\nPlease specify how many submitters is this investigation related to: 1\n"
       },
       {
        "ename": "KeyError",
        "evalue": "'submitters'",
        "output_type": "error",
        "traceback": [
         "\u001b[0;31m---------------------------------------------------------------------------\u001b[0m",
         "\u001b[0;31mKeyError\u001b[0m                                  Traceback (most recent call last)",
         "\u001b[0;32m<ipython-input-1-ed7a91e8dfa5>\u001b[0m in \u001b[0;36m<module>\u001b[0;34m()\u001b[0m\n\u001b[1;32m      3\u001b[0m \u001b[0mWO\u001b[0m \u001b[0;34m=\u001b[0m \u001b[0mWriteObject\u001b[0m\u001b[0;34m(\u001b[0m\u001b[0;34m)\u001b[0m\u001b[0;34m\u001b[0m\u001b[0m\n\u001b[1;32m      4\u001b[0m \u001b[0;34m\u001b[0m\u001b[0m\n\u001b[0;32m----> 5\u001b[0;31m \u001b[0mWO\u001b[0m\u001b[0;34m.\u001b[0m\u001b[0mJSONForm\u001b[0m\u001b[0;34m(\u001b[0m\u001b[0;34m)\u001b[0m\u001b[0;34m\u001b[0m\u001b[0m\n\u001b[0m",
         "\u001b[0;32m~/Work/ThirdYear/Seek/TheSeekNotebook/WriteObject.py\u001b[0m in \u001b[0;36mJSONForm\u001b[0;34m(self)\u001b[0m\n\u001b[1;32m     33\u001b[0m     \u001b[0;32mdef\u001b[0m \u001b[0mJSONForm\u001b[0m\u001b[0;34m(\u001b[0m\u001b[0mself\u001b[0m\u001b[0;34m)\u001b[0m\u001b[0;34m:\u001b[0m\u001b[0;34m\u001b[0m\u001b[0m\n\u001b[1;32m     34\u001b[0m \u001b[0;34m\u001b[0m\u001b[0m\n\u001b[0;32m---> 35\u001b[0;31m         \u001b[0mprint\u001b[0m\u001b[0;34m(\u001b[0m\u001b[0mHelper\u001b[0m\u001b[0;34m.\u001b[0m\u001b[0minvestigationFormat\u001b[0m\u001b[0;34m(\u001b[0m\u001b[0;34m)\u001b[0m\u001b[0;34m)\u001b[0m\u001b[0;34m\u001b[0m\u001b[0m\n\u001b[0m",
         "\u001b[0;32m~/Work/ThirdYear/Seek/TheSeekNotebook/Helper.py\u001b[0m in \u001b[0;36minvestigationFormat\u001b[0;34m()\u001b[0m\n\u001b[1;32m    170\u001b[0m     \u001b[0;32mfor\u001b[0m \u001b[0mindex\u001b[0m \u001b[0;32min\u001b[0m \u001b[0mrange\u001b[0m\u001b[0;34m(\u001b[0m\u001b[0;36m1\u001b[0m\u001b[0;34m,\u001b[0m \u001b[0mnumberOfSubmitters\u001b[0m \u001b[0;34m+\u001b[0m \u001b[0;36m1\u001b[0m\u001b[0;34m)\u001b[0m\u001b[0;34m:\u001b[0m\u001b[0;34m\u001b[0m\u001b[0m\n\u001b[1;32m    171\u001b[0m \u001b[0;34m\u001b[0m\u001b[0m\n\u001b[0;32m--> 172\u001b[0;31m         \u001b[0mJSON\u001b[0m\u001b[0;34m[\u001b[0m\u001b[0;34m'data'\u001b[0m\u001b[0;34m]\u001b[0m\u001b[0;34m[\u001b[0m\u001b[0;34m'relationships'\u001b[0m\u001b[0;34m]\u001b[0m\u001b[0;34m[\u001b[0m\u001b[0;34m'submitters'\u001b[0m\u001b[0;34m]\u001b[0m\u001b[0;34m.\u001b[0m\u001b[0mappend\u001b[0m\u001b[0;34m(\u001b[0m\u001b[0;34m[\u001b[0m\u001b[0;34m{\u001b[0m\u001b[0;34m'id'\u001b[0m \u001b[0;34m:\u001b[0m \u001b[0minput\u001b[0m\u001b[0;34m(\u001b[0m\u001b[0;34m'Please specify the id of the submitters number '\u001b[0m \u001b[0;34m+\u001b[0m \u001b[0mstr\u001b[0m\u001b[0;34m(\u001b[0m\u001b[0mindex\u001b[0m\u001b[0;34m)\u001b[0m\u001b[0;34m)\u001b[0m\u001b[0;34m,\u001b[0m \u001b[0;34m'type'\u001b[0m \u001b[0;34m:\u001b[0m \u001b[0;34m'submitters'\u001b[0m\u001b[0;34m}\u001b[0m\u001b[0;34m]\u001b[0m\u001b[0;34m)\u001b[0m\u001b[0;34m\u001b[0m\u001b[0m\n\u001b[0m\u001b[1;32m    173\u001b[0m \u001b[0;34m\u001b[0m\u001b[0m\n\u001b[1;32m    174\u001b[0m \u001b[0;34m\u001b[0m\u001b[0m\n",
         "\u001b[0;31mKeyError\u001b[0m: 'submitters'"
        ]
       }
      ],
      "source": "from WriteObject import WriteObject\n\nWO = WriteObject()\n\nWO.JSONForm()",
      "start_time": "2019-03-15T12:55:55.039Z"
     },
     {
      "end_time": "2019-03-15T13:13:27.966Z",
      "execution_time": "34.5s",
      "outputs": [
       {
        "name": "stdout",
        "output_type": "stream",
        "text": "Please specify the description: d\nPlease specify other creators: d\nPlease specify the snapshots: d\nPlease specify the title: Mega title\nPlease specify the assay class description: da\nPlease specify the assay class key: da\nPlease specify the assay class title: da\nPlease specify the assay type label: da\nPlease specify the assay type uri: da\nPlease specify the technology type label: da\nPlease specify the technology type uri: da\nPlease specify other creators: daa\nPlease specify the snapshots: da\nPlease specify the title: da\n"
       },
       {
        "ename": "NameError",
        "evalue": "name 'JSON' is not defined",
        "output_type": "error",
        "traceback": [
         "\u001b[0;31m---------------------------------------------------------------------------\u001b[0m",
         "\u001b[0;31mNameError\u001b[0m                                 Traceback (most recent call last)",
         "\u001b[0;32m<ipython-input-1-ed7a91e8dfa5>\u001b[0m in \u001b[0;36m<module>\u001b[0;34m()\u001b[0m\n\u001b[1;32m      3\u001b[0m \u001b[0mWO\u001b[0m \u001b[0;34m=\u001b[0m \u001b[0mWriteObject\u001b[0m\u001b[0;34m(\u001b[0m\u001b[0;34m)\u001b[0m\u001b[0;34m\u001b[0m\u001b[0m\n\u001b[1;32m      4\u001b[0m \u001b[0;34m\u001b[0m\u001b[0m\n\u001b[0;32m----> 5\u001b[0;31m \u001b[0mWO\u001b[0m\u001b[0;34m.\u001b[0m\u001b[0mJSONForm\u001b[0m\u001b[0;34m(\u001b[0m\u001b[0;34m)\u001b[0m\u001b[0;34m\u001b[0m\u001b[0m\n\u001b[0m",
         "\u001b[0;32m~/Work/ThirdYear/Seek/TheSeekNotebook/WriteObject.py\u001b[0m in \u001b[0;36mJSONForm\u001b[0;34m(self)\u001b[0m\n\u001b[1;32m     33\u001b[0m     \u001b[0;32mdef\u001b[0m \u001b[0mJSONForm\u001b[0m\u001b[0;34m(\u001b[0m\u001b[0mself\u001b[0m\u001b[0;34m)\u001b[0m\u001b[0;34m:\u001b[0m\u001b[0;34m\u001b[0m\u001b[0m\n\u001b[1;32m     34\u001b[0m \u001b[0;34m\u001b[0m\u001b[0m\n\u001b[0;32m---> 35\u001b[0;31m         \u001b[0mprint\u001b[0m\u001b[0;34m(\u001b[0m\u001b[0mHelper\u001b[0m\u001b[0;34m.\u001b[0m\u001b[0massayFormat\u001b[0m\u001b[0;34m(\u001b[0m\u001b[0;34m)\u001b[0m\u001b[0;34m)\u001b[0m\u001b[0;34m\u001b[0m\u001b[0m\n\u001b[0m",
         "\u001b[0;32m~/Work/ThirdYear/Seek/TheSeekNotebook/Helper.py\u001b[0m in \u001b[0;36massayFormat\u001b[0;34m()\u001b[0m\n\u001b[1;32m     38\u001b[0m \u001b[0;34m\u001b[0m\u001b[0m\n\u001b[1;32m     39\u001b[0m \u001b[0;34m\u001b[0m\u001b[0m\n\u001b[0;32m---> 40\u001b[0;31m     \u001b[0mrelationsFormat\u001b[0m\u001b[0;34m(\u001b[0m\u001b[0;34m'creators'\u001b[0m\u001b[0;34m)\u001b[0m\u001b[0;34m\u001b[0m\u001b[0m\n\u001b[0m\u001b[1;32m     41\u001b[0m     \u001b[0mrelationsFormat\u001b[0m\u001b[0;34m(\u001b[0m\u001b[0;34m'data_files'\u001b[0m\u001b[0;34m)\u001b[0m\u001b[0;34m\u001b[0m\u001b[0m\n\u001b[1;32m     42\u001b[0m     \u001b[0mrelationsFormat\u001b[0m\u001b[0;34m(\u001b[0m\u001b[0;34m'documents'\u001b[0m\u001b[0;34m)\u001b[0m\u001b[0;34m\u001b[0m\u001b[0m\n",
         "\u001b[0;32m~/Work/ThirdYear/Seek/TheSeekNotebook/Helper.py\u001b[0m in \u001b[0;36mrelationsFormat\u001b[0;34m(type)\u001b[0m\n\u001b[1;32m      1\u001b[0m \u001b[0;32mdef\u001b[0m \u001b[0mrelationsFormat\u001b[0m\u001b[0;34m(\u001b[0m\u001b[0mtype\u001b[0m\u001b[0;34m)\u001b[0m\u001b[0;34m:\u001b[0m\u001b[0;34m\u001b[0m\u001b[0m\n\u001b[0;32m----> 2\u001b[0;31m     \u001b[0mJSON\u001b[0m\u001b[0;34m[\u001b[0m\u001b[0;34m'data'\u001b[0m\u001b[0;34m]\u001b[0m\u001b[0;34m[\u001b[0m\u001b[0;34m'relationships'\u001b[0m\u001b[0;34m]\u001b[0m\u001b[0;34m[\u001b[0m\u001b[0mtype\u001b[0m\u001b[0;34m]\u001b[0m \u001b[0;34m=\u001b[0m \u001b[0;34m[\u001b[0m\u001b[0;34m]\u001b[0m\u001b[0;34m\u001b[0m\u001b[0m\n\u001b[0m\u001b[1;32m      3\u001b[0m     \u001b[0mnumberOfRelations\u001b[0m \u001b[0;34m=\u001b[0m \u001b[0mint\u001b[0m\u001b[0;34m(\u001b[0m\u001b[0minput\u001b[0m\u001b[0;34m(\u001b[0m\u001b[0;34m'Please specify how many '\u001b[0m \u001b[0;34m+\u001b[0m \u001b[0mtype\u001b[0m \u001b[0;34m+\u001b[0m \u001b[0;34m' is this investigation related to: '\u001b[0m\u001b[0;34m)\u001b[0m\u001b[0;34m)\u001b[0m\u001b[0;34m\u001b[0m\u001b[0m\n\u001b[1;32m      4\u001b[0m     \u001b[0;32mfor\u001b[0m \u001b[0mindex\u001b[0m \u001b[0;32min\u001b[0m \u001b[0mrange\u001b[0m\u001b[0;34m(\u001b[0m\u001b[0;36m1\u001b[0m\u001b[0;34m,\u001b[0m \u001b[0mnumberOfRelations\u001b[0m \u001b[0;34m+\u001b[0m \u001b[0;36m1\u001b[0m\u001b[0;34m)\u001b[0m\u001b[0;34m:\u001b[0m\u001b[0;34m\u001b[0m\u001b[0m\n\u001b[1;32m      5\u001b[0m \u001b[0;34m\u001b[0m\u001b[0m\n",
         "\u001b[0;31mNameError\u001b[0m: name 'JSON' is not defined"
        ]
       }
      ],
      "source": "from WriteObject import WriteObject\n\nWO = WriteObject()\n\nWO.JSONForm()",
      "start_time": "2019-03-15T13:12:53.512Z"
     },
     {
      "end_time": "2019-03-15T13:15:02.102Z",
      "execution_time": "19.9s",
      "outputs": [
       {
        "name": "stdout",
        "output_type": "stream",
        "text": "Please specify the description: d\nPlease specify other creators: d\nPlease specify the snapshots: d\nPlease specify the title: d\nPlease specify the assay class description: d\nPlease specify the assay class key: d\nPlease specify the assay class title: d\nPlease specify the assay type label: d\nPlease specify the assay type uri: d\nPlease specify the technology type label: d\nPlease specify the technology type uri: d\nPlease specify other creators: d\nPlease specify the snapshots: d\nPlease specify the title: Mega title\nPlease specify how many creators is this investigation related to: 0\nPlease specify how many data_files is this investigation related to: 0\nPlease specify how many documents is this investigation related to: 0\nPlease specify how many investigations is this investigation related to: 0\nPlease specify how many models is this investigation related to: 0\nPlease specify how many people is this investigation related to: 0\nPlease specify how many projects is this investigation related to: 0\nPlease specify how many publications is this investigation related to: 0\nPlease specify how many sops is this investigation related to: 0\nPlease specify how many studies is this investigation related to: 0\nPlease specify how many submitters is this investigation related to: 0\n{'data': {'type': 'assays', 'attributes': {'description': 'd', 'other_creators': 'd', 'snapshots': 'd', 'title': 'Mega title', 'assay_class': {'description': 'd', 'key': 'd', 'title': 'd'}, 'assay_type': {'label': 'd', 'uri': 'd'}, 'technology_type': {'label': 'd', 'uri': 'd'}}, 'relationships': {'creators': [], 'data_files': [], 'documents': [], 'investigations': [], 'models': [], 'people': [], 'projects': [], 'publications': [], 'sops': [], 'studies': [], 'submitters': []}}}\n"
       }
      ],
      "source": "from WriteObject import WriteObject\n\nWO = WriteObject()\n\nWO.JSONForm()",
      "start_time": "2019-03-15T13:14:42.217Z"
     },
     {
      "end_time": "2019-03-15T13:22:52.251Z",
      "execution_time": "3.58s",
      "outputs": [
       {
        "data": {
         "text/html": "<h3>SEEK FORM</h3>",
         "text/plain": "<IPython.core.display.HTML object>"
        },
        "metadata": {},
        "output_type": "display_data",
        "transient": {}
       },
       {
        "name": "stdout",
        "output_type": "stream",
        "text": "\nThe type of object you want to upload to SEEK: assays\n\nYou need to complete the following for in order to succesfully upload your information to SEEK\n"
       }
      ],
      "source": "from WriteObject import WriteObject\n\nWO = WriteObject()\n\nWO.SEEKForm()",
      "start_time": "2019-03-15T13:22:48.668Z"
     },
     {
      "end_time": "2019-03-15T13:24:49.308Z",
      "execution_time": "40.0s",
      "outputs": [
       {
        "data": {
         "text/html": "<h3>SEEK FORM</h3>",
         "text/plain": "<IPython.core.display.HTML object>"
        },
        "metadata": {},
        "output_type": "display_data",
        "transient": {}
       },
       {
        "name": "stdout",
        "output_type": "stream",
        "text": "\nThe type of object you want to upload to SEEK: assays\n\nYou need to complete the following form in order to succesfully upload your information to SEEK\nPlease specify the description: a\nPlease specify other creators: a\nPlease specify the snapshots: a\nPlease specify the title: a\nPlease specify the assay class description: a\nPlease specify the assay class key: a\nPlease specify the assay class title: a\nPlease specify the assay type label: a\nPlease specify the assay type uri: a\nPlease specify the technology type label: a\nPlease specify the technology type uri: a\nPlease specify other creators: a\nPlease specify the snapshots: a\nPlease specify the title: a\nPlease specify how many creators is this investigation related to: 1\nPlease specify the id of the creator number 11\nPlease specify how many data_files is this investigation related to: 1\nPlease specify the id of the data_file number 11\nPlease specify how many documents is this investigation related to: 1\nPlease specify the id of the document number 11\nPlease specify how many investigations is this investigation related to: 1\nPlease specify the id of the investigation number 11\nPlease specify how many models is this investigation related to: 1\nPlease specify the id of the model number 11\nPlease specify how many people is this investigation related to: 1\nPlease specify the id of the peopl number 11\nPlease specify how many projects is this investigation related to: 1\nPlease specify the id of the project number 11\nPlease specify how many publications is this investigation related to: 1\nPlease specify the id of the publication number 11\nPlease specify how many sops is this investigation related to: 1\nPlease specify the id of the sop number 11\nPlease specify how many studies is this investigation related to: 1\nPlease specify the id of the studie number 11\nPlease specify how many submitters is this investigation related to: 1\nPlease specify the id of the submitter number 11\n{'data': {'type': 'assays', 'attributes': {'description': 'a', 'other_creators': 'a', 'snapshots': 'a', 'title': 'a', 'assay_class': {'description': 'a', 'key': 'a', 'title': 'a'}, 'assay_type': {'label': 'a', 'uri': 'a'}, 'technology_type': {'label': 'a', 'uri': 'a'}}, 'relationships': {'creators': [{}, [{'id': '1', 'type': 'creators'}]], 'data_files': [{}, [{'id': '1', 'type': 'data_files'}]], 'documents': [{}, [{'id': '1', 'type': 'documents'}]], 'investigations': [{}, [{'id': '1', 'type': 'investigations'}]], 'models': [{}, [{'id': '1', 'type': 'models'}]], 'people': [{}, [{'id': '1', 'type': 'people'}]], 'projects': [{}, [{'id': '1', 'type': 'projects'}]], 'publications': [{}, [{'id': '1', 'type': 'publications'}]], 'sops': [{}, [{'id': '1', 'type': 'sops'}]], 'studies': [{}, [{'id': '1', 'type': 'studies'}]], 'submitters': [{}, [{'id': '1', 'type': 'submitters'}]]}}}\n"
       }
      ],
      "source": "from WriteObject import WriteObject\n\nWO = WriteObject()\n\nWO.SEEKForm()",
      "start_time": "2019-03-15T13:24:09.279Z"
     },
     {
      "end_time": "2019-03-15T14:15:29.872Z",
      "execution_time": "2m 22s",
      "outputs": [
       {
        "data": {
         "text/html": "<h3>SEEK FORM</h3>",
         "text/plain": "<IPython.core.display.HTML object>"
        },
        "metadata": {},
        "output_type": "display_data",
        "transient": {}
       },
       {
        "name": "stdout",
        "output_type": "stream",
        "text": "\nThe type of object you want to upload to SEEK: assays\n\nYou need to complete the following form in order to succesfully upload your information to SEEK\nPlease specify the description: This is a template example used to test the POST reqeust from the Jupyter Notebook.\nPlease specify other creators: Bogdan Gherasim\nPlease specify the snapshots: None\nPlease specify the title: TESTING\nPlease specify the assay class description: Test\nPlease specify the assay class key: Test\nPlease specify the assay class title: Test\nPlease specify the assay type label: Test\nPlease specify the assay type uri: https://www.test.test\nPlease specify the technology type label: Test\nPlease specify the technology type uri: Test\nPlease specify other creators: Bogdan Gherasim\nPlease specify the snapshots: None\nPlease specify the title: TESTING\nPlease specify how many creators is this investigation related to: 0\nPlease specify how many data_files is this investigation related to: 0\nPlease specify how many documents is this investigation related to: 0\nPlease specify how many investigations is this investigation related to: 0\nPlease specify how many models is this investigation related to: 0\nPlease specify how many people is this investigation related to: 0\nPlease specify how many projects is this investigation related to: 0\nPlease specify how many publications is this investigation related to: 0\nPlease specify how many sops is this investigation related to: 0\nPlease specify how many studies is this investigation related to: 0\nPlease specify how many submitters is this investigation related to: 0\n{'data': {'type': 'assays', 'attributes': {'description': 'This is a template example used to test the POST reqeust from the Jupyter Notebook.', 'other_creators': 'Bogdan Gherasim', 'snapshots': 'None', 'title': 'TESTING', 'assay_class': {'description': 'Test', 'key': 'Test', 'title': 'Test'}, 'assay_type': {'label': 'Test', 'uri': 'https://www.test.test'}, 'technology_type': {'label': 'Test', 'uri': 'Test'}}, 'relationships': {'creators': [{}], 'data_files': [{}], 'documents': [{}], 'investigations': [{}], 'models': [{}], 'people': [{}], 'projects': [{}], 'publications': [{}], 'sops': [{}], 'studies': [{}], 'submitters': [{}]}}}\n"
       }
      ],
      "source": "from WriteObject import WriteObject\n\nWO = WriteObject()\n\nWO.SEEKForm()",
      "start_time": "2019-03-15T14:13:07.860Z"
     },
     {
      "end_time": "2019-03-15T14:16:13.449Z",
      "execution_time": "23ms",
      "outputs": [
       {
        "ename": "SyntaxError",
        "evalue": "invalid syntax (WriteObject.py, line 37)",
        "output_type": "error",
        "traceback": [
         "Traceback \u001b[0;36m(most recent call last)\u001b[0m:\n",
         "  File \u001b[1;32m\"/home/bogdan/anaconda3/lib/python3.6/site-packages/IPython/core/interactiveshell.py\"\u001b[0m, line \u001b[1;32m2963\u001b[0m, in \u001b[1;35mrun_code\u001b[0m\n    exec(code_obj, self.user_global_ns, self.user_ns)\n",
         "\u001b[0;36m  File \u001b[0;32m\"<ipython-input-1-cd480b0c800a>\"\u001b[0;36m, line \u001b[0;32m1\u001b[0;36m, in \u001b[0;35m<module>\u001b[0;36m\u001b[0m\n\u001b[0;31m    from WriteObject import WriteObject\u001b[0m\n",
         "\u001b[0;36m  File \u001b[0;32m\"/home/bogdan/Work/ThirdYear/Seek/TheSeekNotebook/WriteObject.py\"\u001b[0;36m, line \u001b[0;32m37\u001b[0m\n\u001b[0;31m    self.JSON = Helper.studyFormat()s\u001b[0m\n\u001b[0m                                    ^\u001b[0m\n\u001b[0;31mSyntaxError\u001b[0m\u001b[0;31m:\u001b[0m invalid syntax\n"
        ]
       }
      ],
      "source": "from WriteObject import WriteObject\n\nWO = WriteObject()\n\nWO.SEEKForm()",
      "start_time": "2019-03-15T14:16:13.426Z"
     },
     {
      "end_time": "2019-03-15T14:16:53.879Z",
      "execution_time": "28.8s",
      "outputs": [
       {
        "data": {
         "text/html": "<h3>SEEK FORM</h3>",
         "text/plain": "<IPython.core.display.HTML object>"
        },
        "metadata": {},
        "output_type": "display_data",
        "transient": {}
       },
       {
        "name": "stdout",
        "output_type": "stream",
        "text": "\nThe type of object you want to upload to SEEK: assays\n\nYou need to complete the following form in order to succesfully upload your information to SEEK\nPlease specify the description: This is a template example used to test the POST reqeust from the Jupyter Notebook.\nPlease specify other creators: Bogdan Gherasim\nPlease specify the title: TESTING\nPlease specify the assay class description: test\nPlease specify the assay class key: test\nPlease specify the assay class title: test\nPlease specify the assay type label: test\nPlease specify the assay type uri: test\nPlease specify the technology type label: test\nPlease specify the technology type uri: test\nPlease specify how many creators is this investigation related to: 0\nPlease specify how many data_files is this investigation related to: 0\nPlease specify how many documents is this investigation related to: 0\nPlease specify how many investigations is this investigation related to: 0\nPlease specify how many models is this investigation related to: 0\nPlease specify how many people is this investigation related to: 0\nPlease specify how many projects is this investigation related to: 0\nPlease specify how many publications is this investigation related to: 0\nPlease specify how many sops is this investigation related to: 0\nPlease specify how many studies is this investigation related to: 0\nPlease specify how many submitters is this investigation related to: 0\n{'data': {'type': 'assays', 'attributes': {'description': 'This is a template example used to test the POST reqeust from the Jupyter Notebook.', 'other_creators': 'Bogdan Gherasim', 'title': 'TESTING', 'assay_class': {'description': 'test', 'key': 'test', 'title': 'test'}, 'assay_type': {'label': 'test', 'uri': 'test'}, 'technology_type': {'label': 'test', 'uri': 'test'}}, 'relationships': {'creators': [{}], 'data_files': [{}], 'documents': [{}], 'investigations': [{}], 'models': [{}], 'people': [{}], 'projects': [{}], 'publications': [{}], 'sops': [{}], 'studies': [{}], 'submitters': [{}]}}}\n"
       }
      ],
      "source": "from WriteObject import WriteObject\n\nWO = WriteObject()\n\nWO.SEEKForm()",
      "start_time": "2019-03-15T14:16:25.039Z"
     },
     {
      "end_time": "2019-03-15T14:17:30.872Z",
      "execution_time": "17.0s",
      "outputs": [
       {
        "data": {
         "text/html": "<h3>SEEK FORM</h3>",
         "text/plain": "<IPython.core.display.HTML object>"
        },
        "metadata": {},
        "output_type": "display_data",
        "transient": {}
       },
       {
        "name": "stdout",
        "output_type": "stream",
        "text": "\nThe type of object you want to upload to SEEK: assays\n\nYou need to complete the following form in order to succesfully upload your information to SEEK\nPlease specify the description: This is a template example used to test the POST reqeust from the Jupyter Notebook.\nPlease specify other creators: Bogdan Gherasim\nPlease specify the title: TESTING\nPlease specify the assay class description: test\nPlease specify the assay class key: test\nPlease specify the assay class title: test\nPlease specify the assay type label: test\nPlease specify the assay type uri: test\nPlease specify the technology type label: test\nPlease specify the technology type uri: test\nPlease specify how many creators is this investigation related to: 0\nPlease specify how many data_files is this investigation related to: \n"
       },
       {
        "ename": "ValueError",
        "evalue": "invalid literal for int() with base 10: ''",
        "output_type": "error",
        "traceback": [
         "\u001b[0;31m---------------------------------------------------------------------------\u001b[0m",
         "\u001b[0;31mValueError\u001b[0m                                Traceback (most recent call last)",
         "\u001b[0;32m<ipython-input-1-cd480b0c800a>\u001b[0m in \u001b[0;36m<module>\u001b[0;34m()\u001b[0m\n\u001b[1;32m      3\u001b[0m \u001b[0mWO\u001b[0m \u001b[0;34m=\u001b[0m \u001b[0mWriteObject\u001b[0m\u001b[0;34m(\u001b[0m\u001b[0;34m)\u001b[0m\u001b[0;34m\u001b[0m\u001b[0m\n\u001b[1;32m      4\u001b[0m \u001b[0;34m\u001b[0m\u001b[0m\n\u001b[0;32m----> 5\u001b[0;31m \u001b[0mWO\u001b[0m\u001b[0;34m.\u001b[0m\u001b[0mSEEKForm\u001b[0m\u001b[0;34m(\u001b[0m\u001b[0;34m)\u001b[0m\u001b[0;34m\u001b[0m\u001b[0m\n\u001b[0m",
         "\u001b[0;32m~/Work/ThirdYear/Seek/TheSeekNotebook/WriteObject.py\u001b[0m in \u001b[0;36mSEEKForm\u001b[0;34m(self)\u001b[0m\n\u001b[1;32m     31\u001b[0m \u001b[0;34m\u001b[0m\u001b[0m\n\u001b[1;32m     32\u001b[0m         \u001b[0;32mif\u001b[0m \u001b[0mself\u001b[0m\u001b[0;34m.\u001b[0m\u001b[0mtype\u001b[0m \u001b[0;34m==\u001b[0m \u001b[0;34m'assays'\u001b[0m\u001b[0;34m:\u001b[0m\u001b[0;34m\u001b[0m\u001b[0m\n\u001b[0;32m---> 33\u001b[0;31m             \u001b[0mself\u001b[0m\u001b[0;34m.\u001b[0m\u001b[0mJSON\u001b[0m \u001b[0;34m=\u001b[0m \u001b[0mHelper\u001b[0m\u001b[0;34m.\u001b[0m\u001b[0massayFormat\u001b[0m\u001b[0;34m(\u001b[0m\u001b[0;34m)\u001b[0m\u001b[0;34m\u001b[0m\u001b[0m\n\u001b[0m\u001b[1;32m     34\u001b[0m         \u001b[0;32melif\u001b[0m \u001b[0mself\u001b[0m\u001b[0;34m.\u001b[0m\u001b[0mtype\u001b[0m \u001b[0;34m==\u001b[0m \u001b[0;34m'investigations'\u001b[0m\u001b[0;34m:\u001b[0m\u001b[0;34m\u001b[0m\u001b[0m\n\u001b[1;32m     35\u001b[0m             \u001b[0mself\u001b[0m\u001b[0;34m.\u001b[0m\u001b[0mJSON\u001b[0m \u001b[0;34m=\u001b[0m \u001b[0mHelper\u001b[0m\u001b[0;34m.\u001b[0m\u001b[0minvestigationFormat\u001b[0m\u001b[0;34m(\u001b[0m\u001b[0;34m)\u001b[0m\u001b[0;34m\u001b[0m\u001b[0m\n",
         "\u001b[0;32m~/Work/ThirdYear/Seek/TheSeekNotebook/Helper.py\u001b[0m in \u001b[0;36massayFormat\u001b[0;34m()\u001b[0m\n\u001b[1;32m     39\u001b[0m \u001b[0;34m\u001b[0m\u001b[0m\n\u001b[1;32m     40\u001b[0m     \u001b[0mrelationsFormat\u001b[0m\u001b[0;34m(\u001b[0m\u001b[0mJSON\u001b[0m\u001b[0;34m,\u001b[0m \u001b[0;34m'creators'\u001b[0m\u001b[0;34m)\u001b[0m\u001b[0;34m\u001b[0m\u001b[0m\n\u001b[0;32m---> 41\u001b[0;31m     \u001b[0mrelationsFormat\u001b[0m\u001b[0;34m(\u001b[0m\u001b[0mJSON\u001b[0m\u001b[0;34m,\u001b[0m \u001b[0;34m'data_files'\u001b[0m\u001b[0;34m)\u001b[0m\u001b[0;34m\u001b[0m\u001b[0m\n\u001b[0m\u001b[1;32m     42\u001b[0m     \u001b[0mrelationsFormat\u001b[0m\u001b[0;34m(\u001b[0m\u001b[0mJSON\u001b[0m\u001b[0;34m,\u001b[0m \u001b[0;34m'documents'\u001b[0m\u001b[0;34m)\u001b[0m\u001b[0;34m\u001b[0m\u001b[0m\n\u001b[1;32m     43\u001b[0m     \u001b[0mrelationsFormat\u001b[0m\u001b[0;34m(\u001b[0m\u001b[0mJSON\u001b[0m\u001b[0;34m,\u001b[0m \u001b[0;34m'investigations'\u001b[0m\u001b[0;34m)\u001b[0m\u001b[0;34m\u001b[0m\u001b[0m\n",
         "\u001b[0;32m~/Work/ThirdYear/Seek/TheSeekNotebook/Helper.py\u001b[0m in \u001b[0;36mrelationsFormat\u001b[0;34m(JSON, type)\u001b[0m\n\u001b[1;32m      1\u001b[0m \u001b[0;32mdef\u001b[0m \u001b[0mrelationsFormat\u001b[0m\u001b[0;34m(\u001b[0m\u001b[0mJSON\u001b[0m\u001b[0;34m,\u001b[0m \u001b[0mtype\u001b[0m\u001b[0;34m)\u001b[0m\u001b[0;34m:\u001b[0m\u001b[0;34m\u001b[0m\u001b[0m\n\u001b[1;32m      2\u001b[0m     \u001b[0mJSON\u001b[0m\u001b[0;34m[\u001b[0m\u001b[0;34m'data'\u001b[0m\u001b[0;34m]\u001b[0m\u001b[0;34m[\u001b[0m\u001b[0;34m'relationships'\u001b[0m\u001b[0;34m]\u001b[0m\u001b[0;34m[\u001b[0m\u001b[0mtype\u001b[0m\u001b[0;34m]\u001b[0m \u001b[0;34m=\u001b[0m \u001b[0;34m[\u001b[0m\u001b[0;34m{\u001b[0m\u001b[0;34m}\u001b[0m\u001b[0;34m]\u001b[0m\u001b[0;34m\u001b[0m\u001b[0m\n\u001b[0;32m----> 3\u001b[0;31m     \u001b[0mnumberOfRelations\u001b[0m \u001b[0;34m=\u001b[0m \u001b[0mint\u001b[0m\u001b[0;34m(\u001b[0m\u001b[0minput\u001b[0m\u001b[0;34m(\u001b[0m\u001b[0;34m'Please specify how many '\u001b[0m \u001b[0;34m+\u001b[0m \u001b[0mtype\u001b[0m \u001b[0;34m+\u001b[0m \u001b[0;34m' is this investigation related to: '\u001b[0m\u001b[0;34m)\u001b[0m\u001b[0;34m)\u001b[0m\u001b[0;34m\u001b[0m\u001b[0m\n\u001b[0m\u001b[1;32m      4\u001b[0m     \u001b[0;32mfor\u001b[0m \u001b[0mindex\u001b[0m \u001b[0;32min\u001b[0m \u001b[0mrange\u001b[0m\u001b[0;34m(\u001b[0m\u001b[0;36m1\u001b[0m\u001b[0;34m,\u001b[0m \u001b[0mnumberOfRelations\u001b[0m \u001b[0;34m+\u001b[0m \u001b[0;36m1\u001b[0m\u001b[0;34m)\u001b[0m\u001b[0;34m:\u001b[0m\u001b[0;34m\u001b[0m\u001b[0m\n\u001b[1;32m      5\u001b[0m \u001b[0;34m\u001b[0m\u001b[0m\n",
         "\u001b[0;31mValueError\u001b[0m: invalid literal for int() with base 10: ''"
        ]
       }
      ],
      "source": "from WriteObject import WriteObject\n\nWO = WriteObject()\n\nWO.SEEKForm()",
      "start_time": "2019-03-15T14:17:13.882Z"
     },
     {
      "end_time": "2019-03-15T14:17:58.934Z",
      "execution_time": "21.0s",
      "outputs": [
       {
        "data": {
         "text/html": "<h3>SEEK FORM</h3>",
         "text/plain": "<IPython.core.display.HTML object>"
        },
        "metadata": {},
        "output_type": "display_data",
        "transient": {}
       },
       {
        "name": "stdout",
        "output_type": "stream",
        "text": "\nThe type of object you want to upload to SEEK: assays\n\nYou need to complete the following form in order to succesfully upload your information to SEEK\nPlease specify the description: This is a template example used to test the POST reqeust from the Jupyter Notebook.\nPlease specify other creators: TESTING\nPlease specify the title: test\nPlease specify the assay class description: test\nPlease specify the assay class key: test\nPlease specify the assay class title: test\nPlease specify the assay type label: test\nPlease specify the assay type uri: test\nPlease specify the technology type label: test\nPlease specify the technology type uri: test\nPlease specify how many creators is this investigation related to: 0\nPlease specify how many data_files is this investigation related to: 0\nPlease specify how many documents is this investigation related to: 0\nPlease specify how many investigations is this investigation related to: 0\nPlease specify how many models is this investigation related to: 0\nPlease specify how many people is this investigation related to: 0\nPlease specify how many projects is this investigation related to: 0\nPlease specify how many publications is this investigation related to: 0\nPlease specify how many sops is this investigation related to: 0\nPlease specify how many studies is this investigation related to: 0\nPlease specify how many submitters is this investigation related to: 0\n{'data': {'type': 'assays', 'attributes': {'description': 'This is a template example used to test the POST reqeust from the Jupyter Notebook.', 'other_creators': 'TESTING', 'title': 'test', 'assay_class': {'description': 'test', 'key': 'test', 'title': 'test'}, 'assay_type': {'label': 'test', 'uri': 'test'}, 'technology_type': {'label': 'test', 'uri': 'test'}}, 'relationships': {'creators': [{}], 'data_files': [{}], 'documents': [{}], 'investigations': [{}], 'models': [{}], 'people': [{}], 'projects': [{}], 'publications': [{}], 'sops': [{}], 'studies': [{}], 'submitters': [{}]}}}\n"
       }
      ],
      "source": "from WriteObject import WriteObject\n\nWO = WriteObject()\n\nWO.SEEKForm()",
      "start_time": "2019-03-15T14:17:37.916Z"
     },
     {
      "end_time": "2019-03-15T14:19:34.067Z",
      "execution_time": "25.1s",
      "outputs": [
       {
        "data": {
         "text/html": "<h3>SEEK FORM</h3>",
         "text/plain": "<IPython.core.display.HTML object>"
        },
        "metadata": {},
        "output_type": "display_data",
        "transient": {}
       },
       {
        "name": "stdout",
        "output_type": "stream",
        "text": "\nThe type of object you want to upload to SEEK: assays\n\nYou need to complete the following form in order to succesfully upload your information to SEEK\nPlease specify the description: This is a template example used to test the POST reqeust from the Jupyter Notebook.\nPlease specify other creators: Bogdan Gherasim\nPlease specify the title: TESTING\nPlease specify the assay class description: test\nPlease specify the assay class key: test\nPlease specify the assay class title: test\nPlease specify the assay type label: test\nPlease specify the assay type uri: test\nPlease specify the technology type label: test\nPlease specify the technology type uri: test\nPlease specify how many creators is this investigation related to: 0\nPlease specify how many data_files is this investigation related to: 0\nPlease specify how many documents is this investigation related to: 0\nPlease specify how many investigations is this investigation related to: 0\nPlease specify how many models is this investigation related to: 0\nPlease specify how many people is this investigation related to: 0\nPlease specify how many projects is this investigation related to: 0\nPlease specify how many publications is this investigation related to: 0\nPlease specify how many sops is this investigation related to: 0\nPlease specify how many studies is this investigation related to: 0\nPlease specify how many submitters is this investigation related to: 0\n{'data': {'type': 'assays', 'attributes': {'description': 'This is a template example used to test the POST reqeust from the Jupyter Notebook.', 'other_creators': 'Bogdan Gherasim', 'title': 'TESTING', 'assay_class': {'description': 'test', 'key': 'test', 'title': 'test'}, 'assay_type': {'label': 'test', 'uri': 'test'}, 'technology_type': {'label': 'test', 'uri': 'test'}}, 'relationships': {'creators': [{}], 'data_files': [{}], 'documents': [{}], 'investigations': [{}], 'models': [{}], 'people': [{}], 'projects': [{}], 'publications': [{}], 'sops': [{}], 'studies': [{}], 'submitters': [{}]}}}\n"
       }
      ],
      "source": "from WriteObject import WriteObject\n\nWO = WriteObject()\n\nWO.SEEKForm()",
      "start_time": "2019-03-15T14:19:09.006Z"
     },
     {
      "end_time": "2019-03-15T14:27:16.893Z",
      "execution_time": "21.1s",
      "outputs": [
       {
        "data": {
         "text/html": "<h3>SEEK FORM</h3>",
         "text/plain": "<IPython.core.display.HTML object>"
        },
        "metadata": {},
        "output_type": "display_data",
        "transient": {}
       },
       {
        "name": "stdout",
        "output_type": "stream",
        "text": "\nThe type of object you want to upload to SEEK: assays\n\nYou need to complete the following form in order to succesfully upload your information to SEEK\nPlease specify the description: This is a template example used to test the POST reqeust from the Jupyter Notebook.\nPlease specify other creators: Bogdan Gherasim\nPlease specify the title: TESTING\nPlease specify the assay class description: test\nPlease specify the assay class key: test\nPlease specify the assay class title: test\nPlease specify the assay type label: test\nPlease specify the assay type uri: test\nPlease specify the technology type label: test\nPlease specify the technology type uri: test\nPlease specify how many creators is this investigation related to: 0\nPlease specify how many data_files is this investigation related to: 0\nPlease specify how many documents is this investigation related to: 0\n"
       },
       {
        "ename": "NameError",
        "evalue": "name 'index' is not defined",
        "output_type": "error",
        "traceback": [
         "\u001b[0;31m---------------------------------------------------------------------------\u001b[0m",
         "\u001b[0;31mNameError\u001b[0m                                 Traceback (most recent call last)",
         "\u001b[0;32m<ipython-input-1-cd480b0c800a>\u001b[0m in \u001b[0;36m<module>\u001b[0;34m()\u001b[0m\n\u001b[1;32m      3\u001b[0m \u001b[0mWO\u001b[0m \u001b[0;34m=\u001b[0m \u001b[0mWriteObject\u001b[0m\u001b[0;34m(\u001b[0m\u001b[0;34m)\u001b[0m\u001b[0;34m\u001b[0m\u001b[0m\n\u001b[1;32m      4\u001b[0m \u001b[0;34m\u001b[0m\u001b[0m\n\u001b[0;32m----> 5\u001b[0;31m \u001b[0mWO\u001b[0m\u001b[0;34m.\u001b[0m\u001b[0mSEEKForm\u001b[0m\u001b[0;34m(\u001b[0m\u001b[0;34m)\u001b[0m\u001b[0;34m\u001b[0m\u001b[0m\n\u001b[0m",
         "\u001b[0;32m~/Work/ThirdYear/Seek/TheSeekNotebook/WriteObject.py\u001b[0m in \u001b[0;36mSEEKForm\u001b[0;34m(self)\u001b[0m\n\u001b[1;32m     31\u001b[0m \u001b[0;34m\u001b[0m\u001b[0m\n\u001b[1;32m     32\u001b[0m         \u001b[0;32mif\u001b[0m \u001b[0mself\u001b[0m\u001b[0;34m.\u001b[0m\u001b[0mtype\u001b[0m \u001b[0;34m==\u001b[0m \u001b[0;34m'assays'\u001b[0m\u001b[0;34m:\u001b[0m\u001b[0;34m\u001b[0m\u001b[0m\n\u001b[0;32m---> 33\u001b[0;31m             \u001b[0mself\u001b[0m\u001b[0;34m.\u001b[0m\u001b[0mJSON\u001b[0m \u001b[0;34m=\u001b[0m \u001b[0mHelper\u001b[0m\u001b[0;34m.\u001b[0m\u001b[0massayFormat\u001b[0m\u001b[0;34m(\u001b[0m\u001b[0;34m)\u001b[0m\u001b[0;34m\u001b[0m\u001b[0m\n\u001b[0m\u001b[1;32m     34\u001b[0m         \u001b[0;32melif\u001b[0m \u001b[0mself\u001b[0m\u001b[0;34m.\u001b[0m\u001b[0mtype\u001b[0m \u001b[0;34m==\u001b[0m \u001b[0;34m'investigations'\u001b[0m\u001b[0;34m:\u001b[0m\u001b[0;34m\u001b[0m\u001b[0m\n\u001b[1;32m     35\u001b[0m             \u001b[0mself\u001b[0m\u001b[0;34m.\u001b[0m\u001b[0mJSON\u001b[0m \u001b[0;34m=\u001b[0m \u001b[0mHelper\u001b[0m\u001b[0;34m.\u001b[0m\u001b[0minvestigationFormat\u001b[0m\u001b[0;34m(\u001b[0m\u001b[0;34m)\u001b[0m\u001b[0;34m\u001b[0m\u001b[0m\n",
         "\u001b[0;32m~/Work/ThirdYear/Seek/TheSeekNotebook/Helper.py\u001b[0m in \u001b[0;36massayFormat\u001b[0;34m()\u001b[0m\n\u001b[1;32m     45\u001b[0m     \u001b[0mrelationsFormat\u001b[0m\u001b[0;34m(\u001b[0m\u001b[0mJSON\u001b[0m\u001b[0;34m,\u001b[0m \u001b[0;34m'data_files'\u001b[0m\u001b[0;34m)\u001b[0m\u001b[0;34m\u001b[0m\u001b[0m\n\u001b[1;32m     46\u001b[0m     \u001b[0mrelationsFormat\u001b[0m\u001b[0;34m(\u001b[0m\u001b[0mJSON\u001b[0m\u001b[0;34m,\u001b[0m \u001b[0;34m'documents'\u001b[0m\u001b[0;34m)\u001b[0m\u001b[0;34m\u001b[0m\u001b[0m\n\u001b[0;32m---> 47\u001b[0;31m     \u001b[0mrelationFormat\u001b[0m\u001b[0;34m(\u001b[0m\u001b[0mJSON\u001b[0m\u001b[0;34m,\u001b[0m \u001b[0;34m'investigations'\u001b[0m\u001b[0;34m)\u001b[0m\u001b[0;34m\u001b[0m\u001b[0m\n\u001b[0m\u001b[1;32m     48\u001b[0m     \u001b[0mrelationsFormat\u001b[0m\u001b[0;34m(\u001b[0m\u001b[0mJSON\u001b[0m\u001b[0;34m,\u001b[0m \u001b[0;34m'models'\u001b[0m\u001b[0;34m)\u001b[0m\u001b[0;34m\u001b[0m\u001b[0m\n\u001b[1;32m     49\u001b[0m     \u001b[0mrelationsFormat\u001b[0m\u001b[0;34m(\u001b[0m\u001b[0mJSON\u001b[0m\u001b[0;34m,\u001b[0m \u001b[0;34m'people'\u001b[0m\u001b[0;34m)\u001b[0m\u001b[0;34m\u001b[0m\u001b[0m\n",
         "\u001b[0;32m~/Work/ThirdYear/Seek/TheSeekNotebook/Helper.py\u001b[0m in \u001b[0;36mrelationFormat\u001b[0;34m(JSON, type)\u001b[0m\n\u001b[1;32m      8\u001b[0m \u001b[0;32mdef\u001b[0m \u001b[0mrelationFormat\u001b[0m\u001b[0;34m(\u001b[0m\u001b[0mJSON\u001b[0m\u001b[0;34m,\u001b[0m \u001b[0mtype\u001b[0m\u001b[0;34m)\u001b[0m\u001b[0;34m:\u001b[0m\u001b[0;34m\u001b[0m\u001b[0m\n\u001b[1;32m      9\u001b[0m     \u001b[0mJSON\u001b[0m\u001b[0;34m[\u001b[0m\u001b[0;34m'data'\u001b[0m\u001b[0;34m]\u001b[0m\u001b[0;34m[\u001b[0m\u001b[0;34m'relationships'\u001b[0m\u001b[0;34m]\u001b[0m\u001b[0;34m[\u001b[0m\u001b[0mtype\u001b[0m\u001b[0;34m]\u001b[0m \u001b[0;34m=\u001b[0m \u001b[0;34m[\u001b[0m\u001b[0;34m{\u001b[0m\u001b[0;34m}\u001b[0m\u001b[0;34m]\u001b[0m\u001b[0;34m\u001b[0m\u001b[0m\n\u001b[0;32m---> 10\u001b[0;31m     \u001b[0mJSON\u001b[0m\u001b[0;34m[\u001b[0m\u001b[0;34m'data'\u001b[0m\u001b[0;34m]\u001b[0m\u001b[0;34m[\u001b[0m\u001b[0;34m'relationships'\u001b[0m\u001b[0;34m]\u001b[0m\u001b[0;34m[\u001b[0m\u001b[0mtype\u001b[0m\u001b[0;34m]\u001b[0m \u001b[0;34m=\u001b[0m \u001b[0;34m{\u001b[0m\u001b[0;34m'id'\u001b[0m \u001b[0;34m:\u001b[0m \u001b[0mint\u001b[0m\u001b[0;34m(\u001b[0m\u001b[0minput\u001b[0m\u001b[0;34m(\u001b[0m\u001b[0;34m'Please specify the id of the '\u001b[0m \u001b[0;34m+\u001b[0m \u001b[0mtype\u001b[0m\u001b[0;34m[\u001b[0m\u001b[0;34m:\u001b[0m\u001b[0;34m-\u001b[0m\u001b[0;36m1\u001b[0m\u001b[0;34m]\u001b[0m \u001b[0;34m+\u001b[0m \u001b[0;34m' number:  '\u001b[0m \u001b[0;34m+\u001b[0m \u001b[0mstr\u001b[0m\u001b[0;34m(\u001b[0m\u001b[0mindex\u001b[0m\u001b[0;34m)\u001b[0m\u001b[0;34m)\u001b[0m\u001b[0;34m)\u001b[0m\u001b[0;34m,\u001b[0m \u001b[0;34m'type'\u001b[0m \u001b[0;34m:\u001b[0m \u001b[0mtype\u001b[0m\u001b[0;34m}\u001b[0m\u001b[0;34m\u001b[0m\u001b[0m\n\u001b[0m\u001b[1;32m     11\u001b[0m \u001b[0;34m\u001b[0m\u001b[0m\n\u001b[1;32m     12\u001b[0m \u001b[0;32mdef\u001b[0m \u001b[0massayFormat\u001b[0m\u001b[0;34m(\u001b[0m\u001b[0;34m)\u001b[0m\u001b[0;34m:\u001b[0m\u001b[0;34m\u001b[0m\u001b[0m\n",
         "\u001b[0;31mNameError\u001b[0m: name 'index' is not defined"
        ]
       }
      ],
      "source": "from WriteObject import WriteObject\n\nWO = WriteObject()\n\nWO.SEEKForm()",
      "start_time": "2019-03-15T14:26:55.832Z"
     },
     {
      "end_time": "2019-03-15T14:28:23.972Z",
      "execution_time": "31.6s",
      "outputs": [
       {
        "data": {
         "text/html": "<h3>SEEK FORM</h3>",
         "text/plain": "<IPython.core.display.HTML object>"
        },
        "metadata": {},
        "output_type": "display_data",
        "transient": {}
       },
       {
        "name": "stdout",
        "output_type": "stream",
        "text": "\nThe type of object you want to upload to SEEK: assays\n\nYou need to complete the following form in order to succesfully upload your information to SEEK\nPlease specify the description: This is a template example used to test the POST reqeust from the Jupyter Notebook.\nPlease specify other creators: Bogdan Gherasim\nPlease specify the title: TESTING\nPlease specify the assay class description: test\nPlease specify the assay class key: test\nPlease specify the assay class title: test\nPlease specify the assay type label: test\nPlease specify the assay type uri: test\nPlease specify the technology type label: test\nPlease specify the technology type uri: test\nPlease specify how many creators is this investigation related to: 0\nPlease specify how many data_files is this investigation related to: 0\nPlease specify how many documents is this investigation related to: 0\nPlease specify the id of the investigation0\nPlease specify how many models is this investigation related to: 0\nPlease specify how many people is this investigation related to: 0\nPlease specify how many projects is this investigation related to: 0\nPlease specify how many publications is this investigation related to: 0\nPlease specify how many sops is this investigation related to: 0\nPlease specify the id of the studie0\nPlease specify how many submitters is this investigation related to: 0\n{'data': {'type': 'assays', 'attributes': {'description': 'This is a template example used to test the POST reqeust from the Jupyter Notebook.', 'other_creators': 'Bogdan Gherasim', 'title': 'TESTING', 'assay_class': {'description': 'test', 'key': 'test', 'title': 'test'}, 'assay_type': {'label': 'test', 'uri': 'test'}, 'technology_type': {'label': 'test', 'uri': 'test'}}, 'relationships': {'creators': [{}], 'data_files': [{}], 'documents': [{}], 'investigations': {'id': 0, 'type': 'investigations'}, 'models': [{}], 'people': [{}], 'projects': [{}], 'publications': [{}], 'sops': [{}], 'studies': {'id': 0, 'type': 'studies'}, 'submitters': [{}]}}}\n"
       }
      ],
      "source": "from WriteObject import WriteObject\n\nWO = WriteObject()\n\nWO.SEEKForm()",
      "start_time": "2019-03-15T14:27:52.333Z"
     },
     {
      "end_time": "2019-03-15T14:32:34.826Z",
      "execution_time": "52.3s",
      "outputs": [
       {
        "data": {
         "text/html": "<h3>SEEK FORM</h3>",
         "text/plain": "<IPython.core.display.HTML object>"
        },
        "metadata": {},
        "output_type": "display_data",
        "transient": {}
       },
       {
        "name": "stdout",
        "output_type": "stream",
        "text": "\nThe type of object you want to upload to SEEK: assays\n\nYou need to complete the following form in order to succesfully upload your information to SEEK\nPlease specify the description: This is a template example used to test the POST reqeust from the Jupyter Notebook.\nPlease specify other creators: Bogdan Gherasim\nPlease specify the title: TESTING\nPlease specify the assay class description: test\nPlease specify the assay class key: test\nPlease specify the assay class title: test\nPlease specify the assay type label: test\nPlease specify the assay type uri: test\nPlease specify the technology type label: test\nPlease specify the technology type uri: test\nPlease specify how many creators is this assay related to: 1\nPlease specify the id of the creator number:  132\nPlease specify how many data_files is this assay related to: 0\nPlease specify how many documents is this assay related to: 0\n"
       },
       {
        "ename": "TypeError",
        "evalue": "relationFormat() takes 2 positional arguments but 3 were given",
        "output_type": "error",
        "traceback": [
         "\u001b[0;31m---------------------------------------------------------------------------\u001b[0m",
         "\u001b[0;31mTypeError\u001b[0m                                 Traceback (most recent call last)",
         "\u001b[0;32m<ipython-input-1-cd480b0c800a>\u001b[0m in \u001b[0;36m<module>\u001b[0;34m()\u001b[0m\n\u001b[1;32m      3\u001b[0m \u001b[0mWO\u001b[0m \u001b[0;34m=\u001b[0m \u001b[0mWriteObject\u001b[0m\u001b[0;34m(\u001b[0m\u001b[0;34m)\u001b[0m\u001b[0;34m\u001b[0m\u001b[0m\n\u001b[1;32m      4\u001b[0m \u001b[0;34m\u001b[0m\u001b[0m\n\u001b[0;32m----> 5\u001b[0;31m \u001b[0mWO\u001b[0m\u001b[0;34m.\u001b[0m\u001b[0mSEEKForm\u001b[0m\u001b[0;34m(\u001b[0m\u001b[0;34m)\u001b[0m\u001b[0;34m\u001b[0m\u001b[0m\n\u001b[0m",
         "\u001b[0;32m~/Work/ThirdYear/Seek/TheSeekNotebook/WriteObject.py\u001b[0m in \u001b[0;36mSEEKForm\u001b[0;34m(self)\u001b[0m\n\u001b[1;32m     31\u001b[0m \u001b[0;34m\u001b[0m\u001b[0m\n\u001b[1;32m     32\u001b[0m         \u001b[0;32mif\u001b[0m \u001b[0mself\u001b[0m\u001b[0;34m.\u001b[0m\u001b[0mtype\u001b[0m \u001b[0;34m==\u001b[0m \u001b[0;34m'assays'\u001b[0m\u001b[0;34m:\u001b[0m\u001b[0;34m\u001b[0m\u001b[0m\n\u001b[0;32m---> 33\u001b[0;31m             \u001b[0mself\u001b[0m\u001b[0;34m.\u001b[0m\u001b[0mJSON\u001b[0m \u001b[0;34m=\u001b[0m \u001b[0mHelper\u001b[0m\u001b[0;34m.\u001b[0m\u001b[0massayFormat\u001b[0m\u001b[0;34m(\u001b[0m\u001b[0;34m)\u001b[0m\u001b[0;34m\u001b[0m\u001b[0m\n\u001b[0m\u001b[1;32m     34\u001b[0m         \u001b[0;32melif\u001b[0m \u001b[0mself\u001b[0m\u001b[0;34m.\u001b[0m\u001b[0mtype\u001b[0m \u001b[0;34m==\u001b[0m \u001b[0;34m'investigations'\u001b[0m\u001b[0;34m:\u001b[0m\u001b[0;34m\u001b[0m\u001b[0m\n\u001b[1;32m     35\u001b[0m             \u001b[0mself\u001b[0m\u001b[0;34m.\u001b[0m\u001b[0mJSON\u001b[0m \u001b[0;34m=\u001b[0m \u001b[0mHelper\u001b[0m\u001b[0;34m.\u001b[0m\u001b[0minvestigationFormat\u001b[0m\u001b[0;34m(\u001b[0m\u001b[0;34m)\u001b[0m\u001b[0;34m\u001b[0m\u001b[0m\n",
         "\u001b[0;32m~/Work/ThirdYear/Seek/TheSeekNotebook/Helper.py\u001b[0m in \u001b[0;36massayFormat\u001b[0;34m()\u001b[0m\n\u001b[1;32m     46\u001b[0m     \u001b[0mrelationsFormat\u001b[0m\u001b[0;34m(\u001b[0m\u001b[0mJSON\u001b[0m\u001b[0;34m,\u001b[0m \u001b[0;34m'data_files'\u001b[0m\u001b[0;34m,\u001b[0m \u001b[0;34m'assay'\u001b[0m\u001b[0;34m)\u001b[0m\u001b[0;34m\u001b[0m\u001b[0m\n\u001b[1;32m     47\u001b[0m     \u001b[0mrelationsFormat\u001b[0m\u001b[0;34m(\u001b[0m\u001b[0mJSON\u001b[0m\u001b[0;34m,\u001b[0m \u001b[0;34m'documents'\u001b[0m\u001b[0;34m,\u001b[0m \u001b[0;34m'assay'\u001b[0m\u001b[0;34m)\u001b[0m\u001b[0;34m\u001b[0m\u001b[0m\n\u001b[0;32m---> 48\u001b[0;31m     \u001b[0mrelationFormat\u001b[0m\u001b[0;34m(\u001b[0m\u001b[0mJSON\u001b[0m\u001b[0;34m,\u001b[0m \u001b[0;34m'investigations'\u001b[0m\u001b[0;34m,\u001b[0m \u001b[0;34m'assay'\u001b[0m\u001b[0;34m)\u001b[0m\u001b[0;34m\u001b[0m\u001b[0m\n\u001b[0m\u001b[1;32m     49\u001b[0m     \u001b[0mrelationsFormat\u001b[0m\u001b[0;34m(\u001b[0m\u001b[0mJSON\u001b[0m\u001b[0;34m,\u001b[0m \u001b[0;34m'models'\u001b[0m\u001b[0;34m,\u001b[0m \u001b[0;34m'assay'\u001b[0m\u001b[0;34m)\u001b[0m\u001b[0;34m\u001b[0m\u001b[0m\n\u001b[1;32m     50\u001b[0m     \u001b[0mrelationsFormat\u001b[0m\u001b[0;34m(\u001b[0m\u001b[0mJSON\u001b[0m\u001b[0;34m,\u001b[0m \u001b[0;34m'people'\u001b[0m\u001b[0;34m,\u001b[0m \u001b[0;34m'assay'\u001b[0m\u001b[0;34m)\u001b[0m\u001b[0;34m\u001b[0m\u001b[0m\n",
         "\u001b[0;31mTypeError\u001b[0m: relationFormat() takes 2 positional arguments but 3 were given"
        ]
       }
      ],
      "source": "from WriteObject import WriteObject\n\nWO = WriteObject()\n\nWO.SEEKForm()",
      "start_time": "2019-03-15T14:31:42.513Z"
     },
     {
      "end_time": "2019-03-15T14:40:27.982Z",
      "execution_time": "20.6s",
      "outputs": [
       {
        "data": {
         "text/html": "<h3>SEEK FORM</h3>",
         "text/plain": "<IPython.core.display.HTML object>"
        },
        "metadata": {},
        "output_type": "display_data",
        "transient": {}
       },
       {
        "name": "stdout",
        "output_type": "stream",
        "text": "\nThe type of object you want to upload to SEEK: assays\n\nYou need to complete the following form in order to succesfully upload your information to SEEK\nPlease specify the description: This is a template example used to test the POST reqeust from the Jupyter Notebook.\nPlease specify other creators: Bogdan Gherasim\nPlease specify the title: TESTING\nPlease specify the assay class description: test\nPlease specify the assay class key: test\nPlease specify the assay class title: test\nPlease specify the assay type label: test\nPlease specify the assay type uri: test\nPlease specify the technology type label: test\nPlease specify the technology type uri: test\nPlease specify how many creators is this assay related to: test\n"
       },
       {
        "ename": "ValueError",
        "evalue": "invalid literal for int() with base 10: 'test'",
        "output_type": "error",
        "traceback": [
         "\u001b[0;31m---------------------------------------------------------------------------\u001b[0m",
         "\u001b[0;31mValueError\u001b[0m                                Traceback (most recent call last)",
         "\u001b[0;32m<ipython-input-1-cd480b0c800a>\u001b[0m in \u001b[0;36m<module>\u001b[0;34m()\u001b[0m\n\u001b[1;32m      3\u001b[0m \u001b[0mWO\u001b[0m \u001b[0;34m=\u001b[0m \u001b[0mWriteObject\u001b[0m\u001b[0;34m(\u001b[0m\u001b[0;34m)\u001b[0m\u001b[0;34m\u001b[0m\u001b[0m\n\u001b[1;32m      4\u001b[0m \u001b[0;34m\u001b[0m\u001b[0m\n\u001b[0;32m----> 5\u001b[0;31m \u001b[0mWO\u001b[0m\u001b[0;34m.\u001b[0m\u001b[0mSEEKForm\u001b[0m\u001b[0;34m(\u001b[0m\u001b[0;34m)\u001b[0m\u001b[0;34m\u001b[0m\u001b[0m\n\u001b[0m",
         "\u001b[0;32m~/Work/ThirdYear/Seek/TheSeekNotebook/WriteObject.py\u001b[0m in \u001b[0;36mSEEKForm\u001b[0;34m(self)\u001b[0m\n\u001b[1;32m     31\u001b[0m \u001b[0;34m\u001b[0m\u001b[0m\n\u001b[1;32m     32\u001b[0m         \u001b[0;32mif\u001b[0m \u001b[0mself\u001b[0m\u001b[0;34m.\u001b[0m\u001b[0mtype\u001b[0m \u001b[0;34m==\u001b[0m \u001b[0;34m'assays'\u001b[0m\u001b[0;34m:\u001b[0m\u001b[0;34m\u001b[0m\u001b[0m\n\u001b[0;32m---> 33\u001b[0;31m             \u001b[0mself\u001b[0m\u001b[0;34m.\u001b[0m\u001b[0mJSON\u001b[0m \u001b[0;34m=\u001b[0m \u001b[0mHelper\u001b[0m\u001b[0;34m.\u001b[0m\u001b[0massayFormat\u001b[0m\u001b[0;34m(\u001b[0m\u001b[0;34m)\u001b[0m\u001b[0;34m\u001b[0m\u001b[0m\n\u001b[0m\u001b[1;32m     34\u001b[0m         \u001b[0;32melif\u001b[0m \u001b[0mself\u001b[0m\u001b[0;34m.\u001b[0m\u001b[0mtype\u001b[0m \u001b[0;34m==\u001b[0m \u001b[0;34m'investigations'\u001b[0m\u001b[0;34m:\u001b[0m\u001b[0;34m\u001b[0m\u001b[0m\n\u001b[1;32m     35\u001b[0m             \u001b[0mself\u001b[0m\u001b[0;34m.\u001b[0m\u001b[0mJSON\u001b[0m \u001b[0;34m=\u001b[0m \u001b[0mHelper\u001b[0m\u001b[0;34m.\u001b[0m\u001b[0minvestigationFormat\u001b[0m\u001b[0;34m(\u001b[0m\u001b[0;34m)\u001b[0m\u001b[0;34m\u001b[0m\u001b[0m\n",
         "\u001b[0;32m~/Work/ThirdYear/Seek/TheSeekNotebook/Helper.py\u001b[0m in \u001b[0;36massayFormat\u001b[0;34m()\u001b[0m\n\u001b[1;32m     43\u001b[0m \u001b[0;34m\u001b[0m\u001b[0m\n\u001b[1;32m     44\u001b[0m \u001b[0;34m\u001b[0m\u001b[0m\n\u001b[0;32m---> 45\u001b[0;31m     \u001b[0mrelationsFormat\u001b[0m\u001b[0;34m(\u001b[0m\u001b[0mJSON\u001b[0m\u001b[0;34m,\u001b[0m \u001b[0;34m'creators'\u001b[0m\u001b[0;34m,\u001b[0m \u001b[0;34m'assay'\u001b[0m\u001b[0;34m)\u001b[0m\u001b[0;34m\u001b[0m\u001b[0m\n\u001b[0m\u001b[1;32m     46\u001b[0m     \u001b[0mrelationsFormat\u001b[0m\u001b[0;34m(\u001b[0m\u001b[0mJSON\u001b[0m\u001b[0;34m,\u001b[0m \u001b[0;34m'data_files'\u001b[0m\u001b[0;34m,\u001b[0m \u001b[0;34m'assay'\u001b[0m\u001b[0;34m)\u001b[0m\u001b[0;34m\u001b[0m\u001b[0m\n\u001b[1;32m     47\u001b[0m     \u001b[0mrelationsFormat\u001b[0m\u001b[0;34m(\u001b[0m\u001b[0mJSON\u001b[0m\u001b[0;34m,\u001b[0m \u001b[0;34m'documents'\u001b[0m\u001b[0;34m,\u001b[0m \u001b[0;34m'assay'\u001b[0m\u001b[0;34m)\u001b[0m\u001b[0;34m\u001b[0m\u001b[0m\n",
         "\u001b[0;32m~/Work/ThirdYear/Seek/TheSeekNotebook/Helper.py\u001b[0m in \u001b[0;36mrelationsFormat\u001b[0;34m(JSON, type, source)\u001b[0m\n\u001b[1;32m      1\u001b[0m \u001b[0;32mdef\u001b[0m \u001b[0mrelationsFormat\u001b[0m\u001b[0;34m(\u001b[0m\u001b[0mJSON\u001b[0m\u001b[0;34m,\u001b[0m \u001b[0mtype\u001b[0m\u001b[0;34m,\u001b[0m \u001b[0msource\u001b[0m\u001b[0;34m)\u001b[0m\u001b[0;34m:\u001b[0m\u001b[0;34m\u001b[0m\u001b[0m\n\u001b[1;32m      2\u001b[0m     \u001b[0mJSON\u001b[0m\u001b[0;34m[\u001b[0m\u001b[0;34m'data'\u001b[0m\u001b[0;34m]\u001b[0m\u001b[0;34m[\u001b[0m\u001b[0;34m'relationships'\u001b[0m\u001b[0;34m]\u001b[0m\u001b[0;34m[\u001b[0m\u001b[0mtype\u001b[0m\u001b[0;34m]\u001b[0m \u001b[0;34m=\u001b[0m \u001b[0;34m[\u001b[0m\u001b[0;34m{\u001b[0m\u001b[0;34m}\u001b[0m\u001b[0;34m]\u001b[0m\u001b[0;34m\u001b[0m\u001b[0m\n\u001b[0;32m----> 3\u001b[0;31m     \u001b[0mnumberOfRelations\u001b[0m \u001b[0;34m=\u001b[0m \u001b[0mint\u001b[0m\u001b[0;34m(\u001b[0m\u001b[0minput\u001b[0m\u001b[0;34m(\u001b[0m\u001b[0;34m'Please specify how many '\u001b[0m \u001b[0;34m+\u001b[0m \u001b[0mtype\u001b[0m \u001b[0;34m+\u001b[0m \u001b[0;34m' is this '\u001b[0m \u001b[0;34m+\u001b[0m \u001b[0msource\u001b[0m \u001b[0;34m+\u001b[0m \u001b[0;34m' related to: '\u001b[0m\u001b[0;34m)\u001b[0m\u001b[0;34m)\u001b[0m\u001b[0;34m\u001b[0m\u001b[0m\n\u001b[0m\u001b[1;32m      4\u001b[0m     \u001b[0;32mfor\u001b[0m \u001b[0mindex\u001b[0m \u001b[0;32min\u001b[0m \u001b[0mrange\u001b[0m\u001b[0;34m(\u001b[0m\u001b[0;36m1\u001b[0m\u001b[0;34m,\u001b[0m \u001b[0mnumberOfRelations\u001b[0m \u001b[0;34m+\u001b[0m \u001b[0;36m1\u001b[0m\u001b[0;34m)\u001b[0m\u001b[0;34m:\u001b[0m\u001b[0;34m\u001b[0m\u001b[0m\n\u001b[1;32m      5\u001b[0m \u001b[0;34m\u001b[0m\u001b[0m\n",
         "\u001b[0;31mValueError\u001b[0m: invalid literal for int() with base 10: 'test'"
        ]
       }
      ],
      "source": "from WriteObject import WriteObject\n\nWO = WriteObject()\n\nWO.SEEKForm()",
      "start_time": "2019-03-15T14:40:07.399Z"
     },
     {
      "end_time": "2019-03-15T14:41:43.839Z",
      "execution_time": "1m 7.72s",
      "outputs": [
       {
        "data": {
         "text/html": "<h3>SEEK FORM</h3>",
         "text/plain": "<IPython.core.display.HTML object>"
        },
        "metadata": {},
        "output_type": "display_data",
        "transient": {}
       },
       {
        "name": "stdout",
        "output_type": "stream",
        "text": "\nThe type of object you want to upload to SEEK: assays\n\nYou need to complete the following form in order to succesfully upload your information to SEEK\nPlease specify the description: This is a template example used to test the POST reqeust from the Jupyter Notebook.\nPlease specify other creators: Bogdan Gherasim\nPlease specify the title: TESTING\nPlease specify the assay class description: test\nPlease specify the assay class key: test\nPlease specify the assay class title: test\nPlease specify the assay type label: test\nPlease specify the assay type uri: test\nPlease specify the technology type label: test\nPlease specify the technology type uri: test\nPlease specify how many creators is this assay related to: 1\nPlease specify the id of the creator number 1: 23\nPlease specify how many data_files is this assay related to: 0\nPlease specify how many documents is this assay related to: 0\nPlease specify the id of the investigation0\nPlease specify how many models is this assay related to: 0\nPlease specify how many people is this assay related to: 0\nPlease specify how many projects is this assay related to: 0\nPlease specify how many publications is this assay related to: 0\nPlease specify how many sops is this assay related to: 0\nPlease specify the id of the studie0\nPlease specify how many submitters is this assay related to: 0\n{'data': {'type': 'assays', 'attributes': {'description': 'This is a template example used to test the POST reqeust from the Jupyter Notebook.', 'other_creators': 'Bogdan Gherasim', 'title': 'TESTING', 'assay_class': {'description': 'test', 'key': 'test', 'title': 'test'}, 'assay_type': {'label': 'test', 'uri': 'test'}, 'technology_type': {'label': 'test', 'uri': 'test'}}, 'relationships': {'creators': [{}, [{'id': 23, 'type': 'creators'}]], 'data_files': [{}], 'documents': [{}], 'investigations': {'id': 0, 'type': 'investigations'}, 'models': [{}], 'people': [{}], 'projects': [{}], 'publications': [{}], 'sops': [{}], 'studies': {'id': 0, 'type': 'studies'}, 'submitters': [{}]}}}\n"
       }
      ],
      "source": "from WriteObject import WriteObject\n\nWO = WriteObject()\n\nWO.SEEKForm()",
      "start_time": "2019-03-15T14:40:36.120Z"
     },
     {
      "end_time": "2019-03-15T14:44:12.342Z",
      "execution_time": "46.8s",
      "outputs": [
       {
        "data": {
         "text/html": "<h3>SEEK FORM</h3>",
         "text/plain": "<IPython.core.display.HTML object>"
        },
        "metadata": {},
        "output_type": "display_data",
        "transient": {}
       },
       {
        "name": "stdout",
        "output_type": "stream",
        "text": "\nThe type of object you want to upload to SEEK: assays\n\nYou need to complete the following form in order to succesfully upload your information to SEEK\nPlease specify the description: This is a template example used to test the POST reqeust from the Jupyter Notebook.\nPlease specify other creators: Bogdan Gherasim\nPlease specify the title: TESTING\nPlease specify the assay class description: test\nPlease specify the assay class key: test\nPlease specify the assay class title: test\nPlease specify the assay type label: test\nPlease specify the assay type uri: test\nPlease specify the technology type label: test\nPlease specify the technology type uri: test\nPlease specify how many creators is this assay related to: 1\nPlease specify the id of the creator number 1: 373\nPlease specify how many data_files is this assay related to: 0\nPlease specify how many documents is this assay related to: 0\nPlease specify the id of the investigation0\nPlease specify how many models is this assay related to: 0\nPlease specify how many people is this assay related to: 0\nPlease specify how many projects is this assay related to: 0\nPlease specify how many publications is this assay related to: 0\nPlease specify how many sops is this assay related to: 0\nPlease specify the id of the studie0\nPlease specify how many submitters is this assay related to: 0\n{'data': {'type': 'assays', 'attributes': {'description': 'This is a template example used to test the POST reqeust from the Jupyter Notebook.', 'other_creators': 'Bogdan Gherasim', 'title': 'TESTING', 'assay_class': {'description': 'test', 'key': 'test', 'title': 'test'}, 'assay_type': {'label': 'test', 'uri': 'test'}, 'technology_type': {'label': 'test', 'uri': 'test'}}, 'relationships': {'creators': [[{'id': 373, 'type': 'creators'}]], 'data_files': [], 'documents': [], 'investigations': {'id': 0, 'type': 'investigations'}, 'models': [], 'people': [], 'projects': [], 'publications': [], 'sops': [], 'studies': {'id': 0, 'type': 'studies'}, 'submitters': []}}}\n"
       }
      ],
      "source": "from WriteObject import WriteObject\n\nWO = WriteObject()\n\nWO.SEEKForm()",
      "start_time": "2019-03-15T14:43:25.531Z"
     },
     {
      "end_time": "2019-03-15T14:48:08.374Z",
      "execution_time": "36.6s",
      "outputs": [
       {
        "data": {
         "text/html": "<h3>SEEK FORM</h3>",
         "text/plain": "<IPython.core.display.HTML object>"
        },
        "metadata": {},
        "output_type": "display_data",
        "transient": {}
       },
       {
        "name": "stdout",
        "output_type": "stream",
        "text": "\nThe type of object you want to upload to SEEK: assays\n\nYou need to complete the following form in order to succesfully upload your information to SEEK\nPlease specify the description: This is a template example used to test the POST reqeust from the Jupyter Notebook.\nPlease specify other creators: Bogdan Gherasim\nPlease specify the title: TESTING\nPlease specify the assay class description: test\nPlease specify the assay class key: test\nPlease specify the assay class title: test\nPlease specify the assay type label: test\nPlease specify the assay type uri: test\nPlease specify the technology type label: test\nPlease specify the technology type uri: test\nPlease specify how many creators is this assay related to: 1\nPlease specify the id of the creator number 1: 373\nPlease specify how many data_files is this assay related to: 0\nPlease specify how many documents is this assay related to: 0\nPlease specify the id of the investigation0\nPlease specify how many models is this assay related to: 0\nPlease specify how many people is this assay related to: 0\nPlease specify how many projects is this assay related to: 0\nPlease specify how many publications is this assay related to: 0\nPlease specify how many sops is this assay related to: 0\nPlease specify the id of the studie0\nPlease specify how many submitters is this assay related to: 0\n{'data': {'type': 'assays', 'attributes': {'description': 'This is a template example used to test the POST reqeust from the Jupyter Notebook.', 'other_creators': 'Bogdan Gherasim', 'title': 'TESTING', 'assay_class': {'description': 'test', 'key': 'test', 'title': 'test'}, 'assay_type': {'label': 'test', 'uri': 'test'}, 'technology_type': {'label': 'test', 'uri': 'test'}}, 'relationships': {'creators': [[{'id': 373, 'type': 'creators'}]], 'data_files': [{}], 'documents': [{}], 'investigations': {'id': 0, 'type': 'investigations'}, 'models': [{}], 'people': [{}], 'projects': [{}], 'publications': [{}], 'sops': [{}], 'studies': {'id': 0, 'type': 'studies'}, 'submitters': [{}]}}}\n"
       }
      ],
      "source": "from WriteObject import WriteObject\n\nWO = WriteObject()\n\nWO.SEEKForm()",
      "start_time": "2019-03-15T14:47:31.774Z"
     },
     {
      "end_time": "2019-03-15T14:49:41.016Z",
      "execution_time": "17.2s",
      "outputs": [
       {
        "data": {
         "text/html": "<h3>SEEK FORM</h3>",
         "text/plain": "<IPython.core.display.HTML object>"
        },
        "metadata": {},
        "output_type": "display_data",
        "transient": {}
       },
       {
        "name": "stdout",
        "output_type": "stream",
        "text": "\nThe type of object you want to upload to SEEK: assays\n\nYou need to complete the following form in order to succesfully upload your information to SEEK\nPlease specify the description: d\nPlease specify other creators: d\nPlease specify the title: d\nPlease specify the assay class description: d\nPlease specify the assay class key: d\nPlease specify the assay class title: d\nPlease specify the assay type label: d\nPlease specify the assay type uri: d\nPlease specify the technology type label: d\nPlease specify the technology type uri: d\nPlease specify how many creators is this assay related to: 3\nPlease specify the id of the creator number 1: 23\nPlease specify the id of the creator number 2: 23\nPlease specify the id of the creator number 3: 23\nPlease specify how many data_files is this assay related to: 0\nPlease specify how many documents is this assay related to: 0\nPlease specify the id of the investigation0\nPlease specify how many models is this assay related to: 0\nPlease specify how many people is this assay related to: 0\nPlease specify how many projects is this assay related to: 0\nPlease specify how many publications is this assay related to: 0\nPlease specify how many sops is this assay related to: 0\nPlease specify the id of the studie0\nPlease specify how many submitters is this assay related to: 0\n{'data': {'type': 'assays', 'attributes': {'description': 'd', 'other_creators': 'd', 'title': 'd', 'assay_class': {'description': 'd', 'key': 'd', 'title': 'd'}, 'assay_type': {'label': 'd', 'uri': 'd'}, 'technology_type': {'label': 'd', 'uri': 'd'}}, 'relationships': {'creators': [[{'id': 23, 'type': 'creators'}]], 'data_files': [{}], 'documents': [{}], 'investigations': {'id': 0, 'type': 'investigations'}, 'models': [{}], 'people': [{}], 'projects': [{}], 'publications': [{}], 'sops': [{}], 'studies': {'id': 0, 'type': 'studies'}, 'submitters': [{}]}}}\n"
       }
      ],
      "source": "from WriteObject import WriteObject\n\nWO = WriteObject()\n\nWO.SEEKForm()",
      "start_time": "2019-03-15T14:49:23.845Z"
     },
     {
      "end_time": "2019-03-15T14:50:22.874Z",
      "execution_time": "21.7s",
      "outputs": [
       {
        "data": {
         "text/html": "<h3>SEEK FORM</h3>",
         "text/plain": "<IPython.core.display.HTML object>"
        },
        "metadata": {},
        "output_type": "display_data",
        "transient": {}
       },
       {
        "name": "stdout",
        "output_type": "stream",
        "text": "\nThe type of object you want to upload to SEEK: assays\n\nYou need to complete the following form in order to succesfully upload your information to SEEK\nPlease specify the description: a\nPlease specify other creators: a\nPlease specify the title: a\nPlease specify the assay class description: a\nPlease specify the assay class key: a\nPlease specify the assay class title: a\nPlease specify the assay type label: a\nPlease specify the assay type uri: a\nPlease specify the technology type label: a\nPlease specify the technology type uri: a\nPlease specify how many creators is this assay related to: 3\nPlease specify the id of the creator number 1: 32\nPlease specify the id of the creator number 2: 42\nPlease specify the id of the creator number 3: 12\nPlease specify how many data_files is this assay related to: 0\nPlease specify how many documents is this assay related to: 0\nPlease specify the id of the investigation0\nPlease specify how many models is this assay related to: 0\nPlease specify how many people is this assay related to: 0\nPlease specify how many projects is this assay related to: 0\nPlease specify how many publications is this assay related to: 0\nPlease specify how many sops is this assay related to: 0\nPlease specify the id of the studie0\nPlease specify how many submitters is this assay related to: 0\n{'data': {'type': 'assays', 'attributes': {'description': 'a', 'other_creators': 'a', 'title': 'a', 'assay_class': {'description': 'a', 'key': 'a', 'title': 'a'}, 'assay_type': {'label': 'a', 'uri': 'a'}, 'technology_type': {'label': 'a', 'uri': 'a'}}, 'relationships': {'creators': [[{'id': 12, 'type': 'creators'}]], 'data_files': [{}], 'documents': [{}], 'investigations': {'id': 0, 'type': 'investigations'}, 'models': [{}], 'people': [{}], 'projects': [{}], 'publications': [{}], 'sops': [{}], 'studies': {'id': 0, 'type': 'studies'}, 'submitters': [{}]}}}\n"
       }
      ],
      "source": "from WriteObject import WriteObject\n\nWO = WriteObject()\n\nWO.SEEKForm()",
      "start_time": "2019-03-15T14:50:01.148Z"
     },
     {
      "end_time": "2019-03-15T14:50:55.167Z",
      "execution_time": "18.3s",
      "outputs": [
       {
        "data": {
         "text/html": "<h3>SEEK FORM</h3>",
         "text/plain": "<IPython.core.display.HTML object>"
        },
        "metadata": {},
        "output_type": "display_data",
        "transient": {}
       },
       {
        "name": "stdout",
        "output_type": "stream",
        "text": "\nThe type of object you want to upload to SEEK: assays\n\nYou need to complete the following form in order to succesfully upload your information to SEEK\nPlease specify the description: a\nPlease specify other creators: a\nPlease specify the title: a\nPlease specify the assay class description: a\nPlease specify the assay class key: a\nPlease specify the assay class title: a\nPlease specify the assay type label: a\nPlease specify the assay type uri: a\nPlease specify the technology type label: a\nPlease specify the technology type uri: a\nPlease specify how many creators is this assay related to: 3\nPlease specify the id of the creator number 1: 12\nPlease specify the id of the creator number 2: 23\nPlease specify the id of the creator number 3: 45\nPlease specify how many data_files is this assay related to: 0\nPlease specify how many documents is this assay related to: 0\nPlease specify the id of the investigation0\nPlease specify how many models is this assay related to: 0\nPlease specify how many people is this assay related to: 0\nPlease specify how many projects is this assay related to: 0\nPlease specify how many publications is this assay related to: 0\nPlease specify how many sops is this assay related to: 0\nPlease specify the id of the studie0\nPlease specify how many submitters is this assay related to: 0\n{'data': {'type': 'assays', 'attributes': {'description': 'a', 'other_creators': 'a', 'title': 'a', 'assay_class': {'description': 'a', 'key': 'a', 'title': 'a'}, 'assay_type': {'label': 'a', 'uri': 'a'}, 'technology_type': {'label': 'a', 'uri': 'a'}}, 'relationships': {'creators': [{'id': 45, 'type': 'creators'}], 'data_files': [{}], 'documents': [{}], 'investigations': {'id': 0, 'type': 'investigations'}, 'models': [{}], 'people': [{}], 'projects': [{}], 'publications': [{}], 'sops': [{}], 'studies': {'id': 0, 'type': 'studies'}, 'submitters': [{}]}}}\n"
       }
      ],
      "source": "from WriteObject import WriteObject\n\nWO = WriteObject()\n\nWO.SEEKForm()",
      "start_time": "2019-03-15T14:50:36.891Z"
     },
     {
      "end_time": "2019-03-15T15:56:13.696Z",
      "execution_time": "15.0s",
      "outputs": [
       {
        "data": {
         "text/html": "<h3>SEEK FORM</h3>",
         "text/plain": "<IPython.core.display.HTML object>"
        },
        "metadata": {},
        "output_type": "display_data",
        "transient": {}
       },
       {
        "name": "stdout",
        "output_type": "stream",
        "text": "\nThe type of object you want to upload to SEEK: assays\n\nYou need to complete the following form in order to succesfully upload your information to SEEK\nPlease specify the description: a\nPlease specify other creators: a\nPlease specify the title: a\nPlease specify the assay class description: a\nPlease specify the assay class key: a\nPlease specify the assay class title: a\nPlease specify the assay type label: a\nPlease specify the assay type uri: a\nPlease specify the technology type label: a\nPlease specify the technology type uri: a\nPlease specify how many creators is this assay related to: 3\nPlease specify the id of the creator number 1: 23\nPlease specify the id of the creator number 2: 21\nPlease specify the id of the creator number 3: 42\nPlease specify how many data_files is this assay related to: 0\nPlease specify how many documents is this assay related to: 0\nPlease specify the id of the investigation0\n"
       },
       {
        "ename": "ValueError",
        "evalue": "invalid literal for int() with base 10: '0: '",
        "output_type": "error",
        "traceback": [
         "\u001b[0;31m---------------------------------------------------------------------------\u001b[0m",
         "\u001b[0;31mValueError\u001b[0m                                Traceback (most recent call last)",
         "\u001b[0;32m<ipython-input-1-cd480b0c800a>\u001b[0m in \u001b[0;36m<module>\u001b[0;34m()\u001b[0m\n\u001b[1;32m      3\u001b[0m \u001b[0mWO\u001b[0m \u001b[0;34m=\u001b[0m \u001b[0mWriteObject\u001b[0m\u001b[0;34m(\u001b[0m\u001b[0;34m)\u001b[0m\u001b[0;34m\u001b[0m\u001b[0m\n\u001b[1;32m      4\u001b[0m \u001b[0;34m\u001b[0m\u001b[0m\n\u001b[0;32m----> 5\u001b[0;31m \u001b[0mWO\u001b[0m\u001b[0;34m.\u001b[0m\u001b[0mSEEKForm\u001b[0m\u001b[0;34m(\u001b[0m\u001b[0;34m)\u001b[0m\u001b[0;34m\u001b[0m\u001b[0m\n\u001b[0m",
         "\u001b[0;32m~/Work/ThirdYear/Seek/TheSeekNotebook/WriteObject.py\u001b[0m in \u001b[0;36mSEEKForm\u001b[0;34m(self)\u001b[0m\n\u001b[1;32m     31\u001b[0m \u001b[0;34m\u001b[0m\u001b[0m\n\u001b[1;32m     32\u001b[0m         \u001b[0;32mif\u001b[0m \u001b[0mself\u001b[0m\u001b[0;34m.\u001b[0m\u001b[0mtype\u001b[0m \u001b[0;34m==\u001b[0m \u001b[0;34m'assays'\u001b[0m\u001b[0;34m:\u001b[0m\u001b[0;34m\u001b[0m\u001b[0m\n\u001b[0;32m---> 33\u001b[0;31m             \u001b[0mself\u001b[0m\u001b[0;34m.\u001b[0m\u001b[0mJSON\u001b[0m \u001b[0;34m=\u001b[0m \u001b[0mHelper\u001b[0m\u001b[0;34m.\u001b[0m\u001b[0massayFormat\u001b[0m\u001b[0;34m(\u001b[0m\u001b[0;34m)\u001b[0m\u001b[0;34m\u001b[0m\u001b[0m\n\u001b[0m\u001b[1;32m     34\u001b[0m         \u001b[0;32melif\u001b[0m \u001b[0mself\u001b[0m\u001b[0;34m.\u001b[0m\u001b[0mtype\u001b[0m \u001b[0;34m==\u001b[0m \u001b[0;34m'investigations'\u001b[0m\u001b[0;34m:\u001b[0m\u001b[0;34m\u001b[0m\u001b[0m\n\u001b[1;32m     35\u001b[0m             \u001b[0mself\u001b[0m\u001b[0;34m.\u001b[0m\u001b[0mJSON\u001b[0m \u001b[0;34m=\u001b[0m \u001b[0mHelper\u001b[0m\u001b[0;34m.\u001b[0m\u001b[0minvestigationFormat\u001b[0m\u001b[0;34m(\u001b[0m\u001b[0;34m)\u001b[0m\u001b[0;34m\u001b[0m\u001b[0m\n",
         "\u001b[0;32m~/Work/ThirdYear/Seek/TheSeekNotebook/Helper.py\u001b[0m in \u001b[0;36massayFormat\u001b[0;34m()\u001b[0m\n\u001b[1;32m     48\u001b[0m     \u001b[0mrelationsFormat\u001b[0m\u001b[0;34m(\u001b[0m\u001b[0mJSON\u001b[0m\u001b[0;34m,\u001b[0m \u001b[0;34m'data_files'\u001b[0m\u001b[0;34m,\u001b[0m \u001b[0;34m'assay'\u001b[0m\u001b[0;34m)\u001b[0m\u001b[0;34m\u001b[0m\u001b[0m\n\u001b[1;32m     49\u001b[0m     \u001b[0mrelationsFormat\u001b[0m\u001b[0;34m(\u001b[0m\u001b[0mJSON\u001b[0m\u001b[0;34m,\u001b[0m \u001b[0;34m'documents'\u001b[0m\u001b[0;34m,\u001b[0m \u001b[0;34m'assay'\u001b[0m\u001b[0;34m)\u001b[0m\u001b[0;34m\u001b[0m\u001b[0m\n\u001b[0;32m---> 50\u001b[0;31m     \u001b[0mrelationFormat\u001b[0m\u001b[0;34m(\u001b[0m\u001b[0mJSON\u001b[0m\u001b[0;34m,\u001b[0m \u001b[0;34m'investigations'\u001b[0m\u001b[0;34m)\u001b[0m\u001b[0;34m\u001b[0m\u001b[0m\n\u001b[0m\u001b[1;32m     51\u001b[0m     \u001b[0mrelationsFormat\u001b[0m\u001b[0;34m(\u001b[0m\u001b[0mJSON\u001b[0m\u001b[0;34m,\u001b[0m \u001b[0;34m'models'\u001b[0m\u001b[0;34m,\u001b[0m \u001b[0;34m'assay'\u001b[0m\u001b[0;34m)\u001b[0m\u001b[0;34m\u001b[0m\u001b[0m\n\u001b[1;32m     52\u001b[0m     \u001b[0mrelationsFormat\u001b[0m\u001b[0;34m(\u001b[0m\u001b[0mJSON\u001b[0m\u001b[0;34m,\u001b[0m \u001b[0;34m'people'\u001b[0m\u001b[0;34m,\u001b[0m \u001b[0;34m'assay'\u001b[0m\u001b[0;34m)\u001b[0m\u001b[0;34m\u001b[0m\u001b[0m\n",
         "\u001b[0;32m~/Work/ThirdYear/Seek/TheSeekNotebook/Helper.py\u001b[0m in \u001b[0;36mrelationFormat\u001b[0;34m(JSON, type)\u001b[0m\n\u001b[1;32m     11\u001b[0m \u001b[0;34m\u001b[0m\u001b[0m\n\u001b[1;32m     12\u001b[0m     \u001b[0mJSON\u001b[0m\u001b[0;34m[\u001b[0m\u001b[0;34m'data'\u001b[0m\u001b[0;34m]\u001b[0m\u001b[0;34m[\u001b[0m\u001b[0;34m'relationships'\u001b[0m\u001b[0;34m]\u001b[0m\u001b[0;34m[\u001b[0m\u001b[0mtype\u001b[0m\u001b[0;34m]\u001b[0m \u001b[0;34m=\u001b[0m \u001b[0;34m[\u001b[0m\u001b[0;34m{\u001b[0m\u001b[0;34m}\u001b[0m\u001b[0;34m]\u001b[0m\u001b[0;34m\u001b[0m\u001b[0m\n\u001b[0;32m---> 13\u001b[0;31m     \u001b[0mJSON\u001b[0m\u001b[0;34m[\u001b[0m\u001b[0;34m'data'\u001b[0m\u001b[0;34m]\u001b[0m\u001b[0;34m[\u001b[0m\u001b[0;34m'relationships'\u001b[0m\u001b[0;34m]\u001b[0m\u001b[0;34m[\u001b[0m\u001b[0mtype\u001b[0m\u001b[0;34m]\u001b[0m \u001b[0;34m=\u001b[0m \u001b[0;34m{\u001b[0m\u001b[0;34m'id'\u001b[0m \u001b[0;34m:\u001b[0m \u001b[0mint\u001b[0m\u001b[0;34m(\u001b[0m\u001b[0minput\u001b[0m\u001b[0;34m(\u001b[0m\u001b[0;34m'Please specify the id of the '\u001b[0m \u001b[0;34m+\u001b[0m \u001b[0mtype\u001b[0m\u001b[0;34m[\u001b[0m\u001b[0;34m:\u001b[0m\u001b[0;34m-\u001b[0m\u001b[0;36m1\u001b[0m\u001b[0;34m]\u001b[0m\u001b[0;34m)\u001b[0m \u001b[0;34m+\u001b[0m \u001b[0;34m\": \"\u001b[0m\u001b[0;34m)\u001b[0m\u001b[0;34m,\u001b[0m \u001b[0;34m'type'\u001b[0m \u001b[0;34m:\u001b[0m \u001b[0mtype\u001b[0m\u001b[0;34m}\u001b[0m\u001b[0;34m\u001b[0m\u001b[0m\n\u001b[0m\u001b[1;32m     14\u001b[0m \u001b[0;34m\u001b[0m\u001b[0m\n\u001b[1;32m     15\u001b[0m \u001b[0;32mdef\u001b[0m \u001b[0massayFormat\u001b[0m\u001b[0;34m(\u001b[0m\u001b[0;34m)\u001b[0m\u001b[0;34m:\u001b[0m\u001b[0;34m\u001b[0m\u001b[0m\n",
         "\u001b[0;31mValueError\u001b[0m: invalid literal for int() with base 10: '0: '"
        ]
       }
      ],
      "source": "from WriteObject import WriteObject\n\nWO = WriteObject()\n\nWO.SEEKForm()",
      "start_time": "2019-03-15T15:55:58.725Z"
     },
     {
      "end_time": "2019-03-15T15:57:19.119Z",
      "execution_time": "16.7s",
      "outputs": [
       {
        "data": {
         "text/html": "<h3>SEEK FORM</h3>",
         "text/plain": "<IPython.core.display.HTML object>"
        },
        "metadata": {},
        "output_type": "display_data",
        "transient": {}
       },
       {
        "name": "stdout",
        "output_type": "stream",
        "text": "\nThe type of object you want to upload to SEEK: assays\n\nYou need to complete the following form in order to succesfully upload your information to SEEK\nPlease specify the description: a\nPlease specify other creators: a\nPlease specify the title: a\nPlease specify the assay class description: a\nPlease specify the assay class key: a\nPlease specify the assay class title: a\nPlease specify the assay type label: a\nPlease specify the assay type uri: a\nPlease specify the technology type label: a\nPlease specify the technology type uri: a\nPlease specify how many creators is this assay related to: 3\nPlease specify the id of the creator number 1: 32\nPlease specify the id of the creator number 2: 21\nPlease specify the id of the creator number 3: 24\nPlease specify how many data_files is this assay related to: 0\nPlease specify how many documents is this assay related to: 0\nPlease specify the id of the investigation\n"
       },
       {
        "ename": "ValueError",
        "evalue": "invalid literal for int() with base 10: ': '",
        "output_type": "error",
        "traceback": [
         "\u001b[0;31m---------------------------------------------------------------------------\u001b[0m",
         "\u001b[0;31mValueError\u001b[0m                                Traceback (most recent call last)",
         "\u001b[0;32m<ipython-input-1-cd480b0c800a>\u001b[0m in \u001b[0;36m<module>\u001b[0;34m()\u001b[0m\n\u001b[1;32m      3\u001b[0m \u001b[0mWO\u001b[0m \u001b[0;34m=\u001b[0m \u001b[0mWriteObject\u001b[0m\u001b[0;34m(\u001b[0m\u001b[0;34m)\u001b[0m\u001b[0;34m\u001b[0m\u001b[0m\n\u001b[1;32m      4\u001b[0m \u001b[0;34m\u001b[0m\u001b[0m\n\u001b[0;32m----> 5\u001b[0;31m \u001b[0mWO\u001b[0m\u001b[0;34m.\u001b[0m\u001b[0mSEEKForm\u001b[0m\u001b[0;34m(\u001b[0m\u001b[0;34m)\u001b[0m\u001b[0;34m\u001b[0m\u001b[0m\n\u001b[0m",
         "\u001b[0;32m~/Work/ThirdYear/Seek/TheSeekNotebook/WriteObject.py\u001b[0m in \u001b[0;36mSEEKForm\u001b[0;34m(self)\u001b[0m\n\u001b[1;32m     31\u001b[0m \u001b[0;34m\u001b[0m\u001b[0m\n\u001b[1;32m     32\u001b[0m         \u001b[0;32mif\u001b[0m \u001b[0mself\u001b[0m\u001b[0;34m.\u001b[0m\u001b[0mtype\u001b[0m \u001b[0;34m==\u001b[0m \u001b[0;34m'assays'\u001b[0m\u001b[0;34m:\u001b[0m\u001b[0;34m\u001b[0m\u001b[0m\n\u001b[0;32m---> 33\u001b[0;31m             \u001b[0mself\u001b[0m\u001b[0;34m.\u001b[0m\u001b[0mJSON\u001b[0m \u001b[0;34m=\u001b[0m \u001b[0mHelper\u001b[0m\u001b[0;34m.\u001b[0m\u001b[0massayFormat\u001b[0m\u001b[0;34m(\u001b[0m\u001b[0;34m)\u001b[0m\u001b[0;34m\u001b[0m\u001b[0m\n\u001b[0m\u001b[1;32m     34\u001b[0m         \u001b[0;32melif\u001b[0m \u001b[0mself\u001b[0m\u001b[0;34m.\u001b[0m\u001b[0mtype\u001b[0m \u001b[0;34m==\u001b[0m \u001b[0;34m'investigations'\u001b[0m\u001b[0;34m:\u001b[0m\u001b[0;34m\u001b[0m\u001b[0m\n\u001b[1;32m     35\u001b[0m             \u001b[0mself\u001b[0m\u001b[0;34m.\u001b[0m\u001b[0mJSON\u001b[0m \u001b[0;34m=\u001b[0m \u001b[0mHelper\u001b[0m\u001b[0;34m.\u001b[0m\u001b[0minvestigationFormat\u001b[0m\u001b[0;34m(\u001b[0m\u001b[0;34m)\u001b[0m\u001b[0;34m\u001b[0m\u001b[0m\n",
         "\u001b[0;32m~/Work/ThirdYear/Seek/TheSeekNotebook/Helper.py\u001b[0m in \u001b[0;36massayFormat\u001b[0;34m()\u001b[0m\n\u001b[1;32m     48\u001b[0m     \u001b[0mrelationsFormat\u001b[0m\u001b[0;34m(\u001b[0m\u001b[0mJSON\u001b[0m\u001b[0;34m,\u001b[0m \u001b[0;34m'data_files'\u001b[0m\u001b[0;34m,\u001b[0m \u001b[0;34m'assay'\u001b[0m\u001b[0;34m)\u001b[0m\u001b[0;34m\u001b[0m\u001b[0m\n\u001b[1;32m     49\u001b[0m     \u001b[0mrelationsFormat\u001b[0m\u001b[0;34m(\u001b[0m\u001b[0mJSON\u001b[0m\u001b[0;34m,\u001b[0m \u001b[0;34m'documents'\u001b[0m\u001b[0;34m,\u001b[0m \u001b[0;34m'assay'\u001b[0m\u001b[0;34m)\u001b[0m\u001b[0;34m\u001b[0m\u001b[0m\n\u001b[0;32m---> 50\u001b[0;31m     \u001b[0mrelationFormat\u001b[0m\u001b[0;34m(\u001b[0m\u001b[0mJSON\u001b[0m\u001b[0;34m,\u001b[0m \u001b[0;34m'investigations'\u001b[0m\u001b[0;34m)\u001b[0m\u001b[0;34m\u001b[0m\u001b[0m\n\u001b[0m\u001b[1;32m     51\u001b[0m     \u001b[0mrelationsFormat\u001b[0m\u001b[0;34m(\u001b[0m\u001b[0mJSON\u001b[0m\u001b[0;34m,\u001b[0m \u001b[0;34m'models'\u001b[0m\u001b[0;34m,\u001b[0m \u001b[0;34m'assay'\u001b[0m\u001b[0;34m)\u001b[0m\u001b[0;34m\u001b[0m\u001b[0m\n\u001b[1;32m     52\u001b[0m     \u001b[0mrelationsFormat\u001b[0m\u001b[0;34m(\u001b[0m\u001b[0mJSON\u001b[0m\u001b[0;34m,\u001b[0m \u001b[0;34m'people'\u001b[0m\u001b[0;34m,\u001b[0m \u001b[0;34m'assay'\u001b[0m\u001b[0;34m)\u001b[0m\u001b[0;34m\u001b[0m\u001b[0m\n",
         "\u001b[0;32m~/Work/ThirdYear/Seek/TheSeekNotebook/Helper.py\u001b[0m in \u001b[0;36mrelationFormat\u001b[0;34m(JSON, type)\u001b[0m\n\u001b[1;32m     11\u001b[0m \u001b[0;34m\u001b[0m\u001b[0m\n\u001b[1;32m     12\u001b[0m     \u001b[0mJSON\u001b[0m\u001b[0;34m[\u001b[0m\u001b[0;34m'data'\u001b[0m\u001b[0;34m]\u001b[0m\u001b[0;34m[\u001b[0m\u001b[0;34m'relationships'\u001b[0m\u001b[0;34m]\u001b[0m\u001b[0;34m[\u001b[0m\u001b[0mtype\u001b[0m\u001b[0;34m]\u001b[0m \u001b[0;34m=\u001b[0m \u001b[0;34m[\u001b[0m\u001b[0;34m{\u001b[0m\u001b[0;34m}\u001b[0m\u001b[0;34m]\u001b[0m\u001b[0;34m\u001b[0m\u001b[0m\n\u001b[0;32m---> 13\u001b[0;31m     \u001b[0mJSON\u001b[0m\u001b[0;34m[\u001b[0m\u001b[0;34m'data'\u001b[0m\u001b[0;34m]\u001b[0m\u001b[0;34m[\u001b[0m\u001b[0;34m'relationships'\u001b[0m\u001b[0;34m]\u001b[0m\u001b[0;34m[\u001b[0m\u001b[0mtype\u001b[0m\u001b[0;34m]\u001b[0m \u001b[0;34m=\u001b[0m \u001b[0;34m{\u001b[0m\u001b[0;34m'id'\u001b[0m \u001b[0;34m:\u001b[0m \u001b[0mint\u001b[0m\u001b[0;34m(\u001b[0m\u001b[0minput\u001b[0m\u001b[0;34m(\u001b[0m\u001b[0;34m'Please specify the id of the '\u001b[0m \u001b[0;34m+\u001b[0m \u001b[0mtype\u001b[0m\u001b[0;34m[\u001b[0m\u001b[0;34m:\u001b[0m\u001b[0;34m-\u001b[0m\u001b[0;36m1\u001b[0m\u001b[0;34m]\u001b[0m\u001b[0;34m)\u001b[0m \u001b[0;34m+\u001b[0m \u001b[0;34m\": \"\u001b[0m\u001b[0;34m)\u001b[0m\u001b[0;34m,\u001b[0m \u001b[0;34m'type'\u001b[0m \u001b[0;34m:\u001b[0m \u001b[0mtype\u001b[0m\u001b[0;34m}\u001b[0m\u001b[0;34m\u001b[0m\u001b[0m\n\u001b[0m\u001b[1;32m     14\u001b[0m \u001b[0;34m\u001b[0m\u001b[0m\n\u001b[1;32m     15\u001b[0m \u001b[0;32mdef\u001b[0m \u001b[0massayFormat\u001b[0m\u001b[0;34m(\u001b[0m\u001b[0;34m)\u001b[0m\u001b[0;34m:\u001b[0m\u001b[0;34m\u001b[0m\u001b[0m\n",
         "\u001b[0;31mValueError\u001b[0m: invalid literal for int() with base 10: ': '"
        ]
       }
      ],
      "source": "from WriteObject import WriteObject\n\nWO = WriteObject()\n\nWO.SEEKForm()",
      "start_time": "2019-03-15T15:57:02.373Z"
     },
     {
      "end_time": "2019-03-15T15:58:37.870Z",
      "execution_time": "21.1s",
      "outputs": [
       {
        "data": {
         "text/html": "<h3>SEEK FORM</h3>",
         "text/plain": "<IPython.core.display.HTML object>"
        },
        "metadata": {},
        "output_type": "display_data",
        "transient": {}
       },
       {
        "name": "stdout",
        "output_type": "stream",
        "text": "\nThe type of object you want to upload to SEEK: assays\n\nYou need to complete the following form in order to succesfully upload your information to SEEK\nPlease specify the description: a\nPlease specify other creators: a\nPlease specify the title: a\nPlease specify the assay class description: a\nPlease specify the assay class key: a\nPlease specify the assay class title: a\nPlease specify the assay type label: a\nPlease specify the assay type uri: a\nPlease specify the technology type label: a\nPlease specify the technology type uri: a\nPlease specify how many creators is this assay related to: 3\nPlease specify the id of the creator number 1: 23\nPlease specify the id of the creator number 2: 12\nPlease specify the id of the creator number 3: 43\nPlease specify how many data_files is this assay related to: 0\nPlease specify how many documents is this assay related to: 0\nPlease specify the id of the investigation: \nPlease specify how many models is this assay related to: 0\nPlease specify how many people is this assay related to: 0\nPlease specify how many projects is this assay related to: 0\nPlease specify how many publications is this assay related to: 0\nPlease specify how many sops is this assay related to: 0\nPlease specify the id of the studie: \nPlease specify how many submitters is this assay related to: 0\n{'data': {'type': 'assays', 'attributes': {'description': 'a', 'other_creators': 'a', 'title': 'a', 'assay_class': {'description': 'a', 'key': 'a', 'title': 'a'}, 'assay_type': {'label': 'a', 'uri': 'a'}, 'technology_type': {'label': 'a', 'uri': 'a'}}, 'relationships': {'creators': ['id', 'type'], 'data_files': [{}], 'documents': [{}], 'investigations': [{}], 'models': [{}], 'people': [{}], 'projects': [{}], 'publications': [{}], 'sops': [{}], 'studies': [{}], 'submitters': [{}]}}}\n"
       }
      ],
      "source": "from WriteObject import WriteObject\n\nWO = WriteObject()\n\nWO.SEEKForm()",
      "start_time": "2019-03-15T15:58:16.745Z"
     },
     {
      "end_time": "2019-03-15T15:59:31.802Z",
      "execution_time": "22.2s",
      "outputs": [
       {
        "data": {
         "text/html": "<h3>SEEK FORM</h3>",
         "text/plain": "<IPython.core.display.HTML object>"
        },
        "metadata": {},
        "output_type": "display_data",
        "transient": {}
       },
       {
        "name": "stdout",
        "output_type": "stream",
        "text": "\nThe type of object you want to upload to SEEK: assays\n\nYou need to complete the following form in order to succesfully upload your information to SEEK\nPlease specify the description: a\nPlease specify other creators: a\nPlease specify the title: a\nPlease specify the assay class description: aa\nPlease specify the assay class key: a\nPlease specify the assay class title: a\nPlease specify the assay type label: a\nPlease specify the assay type uri: a\nPlease specify the technology type label: a\nPlease specify the technology type uri: a\nPlease specify how many creators is this assay related to: 4\nPlease specify the id of the creator number 1: 23\nPlease specify the id of the creator number 2: 12\nPlease specify the id of the creator number 3: 43\nPlease specify the id of the creator number 4: 21\nPlease specify how many data_files is this assay related to: 0\nPlease specify how many documents is this assay related to: 0\nPlease specify the id of the investigation: \nPlease specify how many models is this assay related to: 0\nPlease specify how many people is this assay related to: 0\nPlease specify how many projects is this assay related to: 0\nPlease specify how many publications is this assay related to: 0\nPlease specify how many sops is this assay related to: 0\nPlease specify the id of the studie: \nPlease specify how many submitters is this assay related to: 0\n{'data': {'type': 'assays', 'attributes': {'description': 'a', 'other_creators': 'a', 'title': 'a', 'assay_class': {'description': 'aa', 'key': 'a', 'title': 'a'}, 'assay_type': {'label': 'a', 'uri': 'a'}, 'technology_type': {'label': 'a', 'uri': 'a'}}, 'relationships': {'creators': [{}, 'id', 'type', 'id', 'type', 'id', 'type', 'id', 'type'], 'data_files': [{}], 'documents': [{}], 'investigations': [{}], 'models': [{}], 'people': [{}], 'projects': [{}], 'publications': [{}], 'sops': [{}], 'studies': [{}], 'submitters': [{}]}}}\n"
       }
      ],
      "source": "from WriteObject import WriteObject\n\nWO = WriteObject()\n\nWO.SEEKForm()",
      "start_time": "2019-03-15T15:59:09.582Z"
     },
     {
      "end_time": "2019-03-15T16:01:46.535Z",
      "execution_time": "23.8s",
      "outputs": [
       {
        "data": {
         "text/html": "<h3>SEEK FORM</h3>",
         "text/plain": "<IPython.core.display.HTML object>"
        },
        "metadata": {},
        "output_type": "display_data",
        "transient": {}
       },
       {
        "name": "stdout",
        "output_type": "stream",
        "text": "\nThe type of object you want to upload to SEEK: assays\n\nYou need to complete the following form in order to succesfully upload your information to SEEK\nPlease specify the description: a\nPlease specify other creators: a\nPlease specify the title: a\nPlease specify the assay class description: a\nPlease specify the assay class key: a\nPlease specify the assay class title: a\nPlease specify the assay type label: a\nPlease specify the assay type uri: a\nPlease specify the technology type label: a\nPlease specify the technology type uri: a\nPlease specify how many creators is this assay related to: 3\nPlease specify the id of the creator number 1: 23\nPlease specify the id of the creator number 2: 12\nPlease specify the id of the creator number 3: 43\nPlease specify how many data_files is this assay related to: 0\nPlease specify how many documents is this assay related to: 0\nPlease specify the id of the investigation: \nPlease specify how many models is this assay related to: 0\nPlease specify how many people is this assay related to: 0\nPlease specify how many projects is this assay related to: 0\nPlease specify how many publications is this assay related to: 0\nPlease specify how many sops is this assay related to: 0\nPlease specify the id of the studie: \nPlease specify how many submitters is this assay related to: 0\n{'data': {'type': 'assays', 'attributes': {'description': 'a', 'other_creators': 'a', 'title': 'a', 'assay_class': {'description': 'a', 'key': 'a', 'title': 'a'}, 'assay_type': {'label': 'a', 'uri': 'a'}, 'technology_type': {'label': 'a', 'uri': 'a'}}, 'relationships': {'creators': [{}, {'id': 23, 'type': 'creators'}, {'id': 12, 'type': 'creators'}, {'id': 43, 'type': 'creators'}], 'data_files': [{}], 'documents': [{}], 'investigations': [{}], 'models': [{}], 'people': [{}], 'projects': [{}], 'publications': [{}], 'sops': [{}], 'studies': [{}], 'submitters': [{}]}}}\n"
       }
      ],
      "source": "from WriteObject import WriteObject\n\nWO = WriteObject()\n\nWO.SEEKForm()",
      "start_time": "2019-03-15T16:01:22.739Z"
     },
     {
      "end_time": "2019-03-15T16:02:59.497Z",
      "execution_time": "19.8s",
      "outputs": [
       {
        "data": {
         "text/html": "<h3>SEEK FORM</h3>",
         "text/plain": "<IPython.core.display.HTML object>"
        },
        "metadata": {},
        "output_type": "display_data",
        "transient": {}
       },
       {
        "name": "stdout",
        "output_type": "stream",
        "text": "\nThe type of object you want to upload to SEEK: assays\n\nYou need to complete the following form in order to succesfully upload your information to SEEK\nPlease specify the description: a\nPlease specify other creators: a\nPlease specify the title: a\nPlease specify the assay class description: a\nPlease specify the assay class key: a\nPlease specify the assay class title: a\nPlease specify the assay type label: a\nPlease specify the assay type uri: a\nPlease specify the technology type label: a\nPlease specify the technology type uri: a\nPlease specify how many creators is this assay related to: 3\nPlease specify the id of the creator number 1: 12\nPlease specify the id of the creator number 2: 23\nPlease specify the id of the creator number 3: 34\nPlease specify how many data_files is this assay related to: 0\nPlease specify how many documents is this assay related to: 0\nPlease specify the id of the investigation: \nPlease specify how many models is this assay related to: 0\nPlease specify how many people is this assay related to: 0\nPlease specify how many projects is this assay related to: 0\nPlease specify how many publications is this assay related to: 0\nPlease specify how many sops is this assay related to: 0\nPlease specify the id of the studie: \nPlease specify how many submitters is this assay related to: 0\n{'data': {'type': 'assays', 'attributes': {'description': 'a', 'other_creators': 'a', 'title': 'a', 'assay_class': {'description': 'a', 'key': 'a', 'title': 'a'}, 'assay_type': {'label': 'a', 'uri': 'a'}, 'technology_type': {'label': 'a', 'uri': 'a'}}, 'relationships': {'creators': [{'id': 34, 'type': 'creators'}], 'data_files': [{}], 'documents': [{}], 'investigations': [{}], 'models': [{}], 'people': [{}], 'projects': [{}], 'publications': [{}], 'sops': [{}], 'studies': [{}], 'submitters': [{}]}}}\n"
       }
      ],
      "source": "from WriteObject import WriteObject\n\nWO = WriteObject()\n\nWO.SEEKForm()",
      "start_time": "2019-03-15T16:02:39.680Z"
     },
     {
      "end_time": "2019-03-15T16:22:34.150Z",
      "execution_time": "2.55s",
      "outputs": [
       {
        "data": {
         "text/html": "<h3>SEEK FORM</h3>",
         "text/plain": "<IPython.core.display.HTML object>"
        },
        "metadata": {},
        "output_type": "display_data",
        "transient": {}
       },
       {
        "name": "stdout",
        "output_type": "stream",
        "text": "\nThe type of object you want to upload to SEEK: assas\n\nYou need to complete the following form in order to succesfully upload your information to SEEK\n"
       },
       {
        "ename": "AttributeError",
        "evalue": "'WriteObject' object has no attribute 'JSON'",
        "output_type": "error",
        "traceback": [
         "\u001b[0;31m---------------------------------------------------------------------------\u001b[0m",
         "\u001b[0;31mAttributeError\u001b[0m                            Traceback (most recent call last)",
         "\u001b[0;32m<ipython-input-1-cd480b0c800a>\u001b[0m in \u001b[0;36m<module>\u001b[0;34m()\u001b[0m\n\u001b[1;32m      3\u001b[0m \u001b[0mWO\u001b[0m \u001b[0;34m=\u001b[0m \u001b[0mWriteObject\u001b[0m\u001b[0;34m(\u001b[0m\u001b[0;34m)\u001b[0m\u001b[0;34m\u001b[0m\u001b[0m\n\u001b[1;32m      4\u001b[0m \u001b[0;34m\u001b[0m\u001b[0m\n\u001b[0;32m----> 5\u001b[0;31m \u001b[0mWO\u001b[0m\u001b[0;34m.\u001b[0m\u001b[0mSEEKForm\u001b[0m\u001b[0;34m(\u001b[0m\u001b[0;34m)\u001b[0m\u001b[0;34m\u001b[0m\u001b[0m\n\u001b[0m",
         "\u001b[0;32m~/Work/ThirdYear/Seek/TheSeekNotebook/WriteObject.py\u001b[0m in \u001b[0;36mSEEKForm\u001b[0;34m(self)\u001b[0m\n\u001b[1;32m     37\u001b[0m             \u001b[0mself\u001b[0m\u001b[0;34m.\u001b[0m\u001b[0mJSON\u001b[0m \u001b[0;34m=\u001b[0m \u001b[0mHelper\u001b[0m\u001b[0;34m.\u001b[0m\u001b[0mstudyFormat\u001b[0m\u001b[0;34m(\u001b[0m\u001b[0;34m)\u001b[0m\u001b[0;34m\u001b[0m\u001b[0m\n\u001b[1;32m     38\u001b[0m \u001b[0;34m\u001b[0m\u001b[0m\n\u001b[0;32m---> 39\u001b[0;31m         \u001b[0mprint\u001b[0m\u001b[0;34m(\u001b[0m\u001b[0mself\u001b[0m\u001b[0;34m.\u001b[0m\u001b[0mJSON\u001b[0m\u001b[0;34m)\u001b[0m\u001b[0;34m\u001b[0m\u001b[0m\n\u001b[0m\u001b[1;32m     40\u001b[0m \u001b[0;34m\u001b[0m\u001b[0m\n\u001b[1;32m     41\u001b[0m     \u001b[0;32mdef\u001b[0m \u001b[0mrequest\u001b[0m\u001b[0;34m(\u001b[0m\u001b[0mself\u001b[0m\u001b[0;34m)\u001b[0m\u001b[0;34m:\u001b[0m\u001b[0;34m\u001b[0m\u001b[0m\n",
         "\u001b[0;31mAttributeError\u001b[0m: 'WriteObject' object has no attribute 'JSON'"
        ]
       }
      ],
      "source": "from WriteObject import WriteObject\n\nWO = WriteObject()\n\nWO.SEEKForm()",
      "start_time": "2019-03-15T16:22:31.601Z"
     },
     {
      "end_time": "2019-03-15T16:22:40.758Z",
      "execution_time": "5.26s",
      "outputs": [
       {
        "data": {
         "text/html": "<h3>SEEK FORM</h3>",
         "text/plain": "<IPython.core.display.HTML object>"
        },
        "metadata": {},
        "output_type": "display_data",
        "transient": {}
       },
       {
        "name": "stdout",
        "output_type": "stream",
        "text": "\nThe type of object you want to upload to SEEK: assays\n\nYou need to complete the following form in order to succesfully upload your information to SEEK\nPlease specify the description: a\nPlease specify other creators: a\nPlease specify the title: a\nPlease specify the assay class description: a\nPlease specify the assay class key: a\nPlease specify the assay class title: a\nPlease specify the assay type label: a\nPlease specify the assay type uri: a\nPlease specify the technology type label: a\nPlease specify the technology type uri: a\n"
       },
       {
        "ename": "KeyError",
        "evalue": "'creators'",
        "output_type": "error",
        "traceback": [
         "\u001b[0;31m---------------------------------------------------------------------------\u001b[0m",
         "\u001b[0;31mKeyError\u001b[0m                                  Traceback (most recent call last)",
         "\u001b[0;32m<ipython-input-2-cd480b0c800a>\u001b[0m in \u001b[0;36m<module>\u001b[0;34m()\u001b[0m\n\u001b[1;32m      3\u001b[0m \u001b[0mWO\u001b[0m \u001b[0;34m=\u001b[0m \u001b[0mWriteObject\u001b[0m\u001b[0;34m(\u001b[0m\u001b[0;34m)\u001b[0m\u001b[0;34m\u001b[0m\u001b[0m\n\u001b[1;32m      4\u001b[0m \u001b[0;34m\u001b[0m\u001b[0m\n\u001b[0;32m----> 5\u001b[0;31m \u001b[0mWO\u001b[0m\u001b[0;34m.\u001b[0m\u001b[0mSEEKForm\u001b[0m\u001b[0;34m(\u001b[0m\u001b[0;34m)\u001b[0m\u001b[0;34m\u001b[0m\u001b[0m\n\u001b[0m",
         "\u001b[0;32m~/Work/ThirdYear/Seek/TheSeekNotebook/WriteObject.py\u001b[0m in \u001b[0;36mSEEKForm\u001b[0;34m(self)\u001b[0m\n\u001b[1;32m     31\u001b[0m \u001b[0;34m\u001b[0m\u001b[0m\n\u001b[1;32m     32\u001b[0m         \u001b[0;32mif\u001b[0m \u001b[0mself\u001b[0m\u001b[0;34m.\u001b[0m\u001b[0mtype\u001b[0m \u001b[0;34m==\u001b[0m \u001b[0;34m'assays'\u001b[0m\u001b[0;34m:\u001b[0m\u001b[0;34m\u001b[0m\u001b[0m\n\u001b[0;32m---> 33\u001b[0;31m             \u001b[0mself\u001b[0m\u001b[0;34m.\u001b[0m\u001b[0mJSON\u001b[0m \u001b[0;34m=\u001b[0m \u001b[0mHelper\u001b[0m\u001b[0;34m.\u001b[0m\u001b[0massayFormat\u001b[0m\u001b[0;34m(\u001b[0m\u001b[0;34m)\u001b[0m\u001b[0;34m\u001b[0m\u001b[0m\n\u001b[0m\u001b[1;32m     34\u001b[0m         \u001b[0;32melif\u001b[0m \u001b[0mself\u001b[0m\u001b[0;34m.\u001b[0m\u001b[0mtype\u001b[0m \u001b[0;34m==\u001b[0m \u001b[0;34m'investigations'\u001b[0m\u001b[0;34m:\u001b[0m\u001b[0;34m\u001b[0m\u001b[0m\n\u001b[1;32m     35\u001b[0m             \u001b[0mself\u001b[0m\u001b[0;34m.\u001b[0m\u001b[0mJSON\u001b[0m \u001b[0;34m=\u001b[0m \u001b[0mHelper\u001b[0m\u001b[0;34m.\u001b[0m\u001b[0minvestigationFormat\u001b[0m\u001b[0;34m(\u001b[0m\u001b[0;34m)\u001b[0m\u001b[0;34m\u001b[0m\u001b[0m\n",
         "\u001b[0;32m~/Work/ThirdYear/Seek/TheSeekNotebook/Helper.py\u001b[0m in \u001b[0;36massayFormat\u001b[0;34m()\u001b[0m\n\u001b[1;32m     48\u001b[0m \u001b[0;34m\u001b[0m\u001b[0m\n\u001b[1;32m     49\u001b[0m \u001b[0;34m\u001b[0m\u001b[0m\n\u001b[0;32m---> 50\u001b[0;31m     \u001b[0mrelationsFormat\u001b[0m\u001b[0;34m(\u001b[0m\u001b[0mJSON\u001b[0m\u001b[0;34m,\u001b[0m \u001b[0;34m'creators'\u001b[0m\u001b[0;34m,\u001b[0m \u001b[0;34m'assay'\u001b[0m\u001b[0;34m)\u001b[0m\u001b[0;34m\u001b[0m\u001b[0m\n\u001b[0m\u001b[1;32m     51\u001b[0m     \u001b[0mrelationsFormat\u001b[0m\u001b[0;34m(\u001b[0m\u001b[0mJSON\u001b[0m\u001b[0;34m,\u001b[0m \u001b[0;34m'data_files'\u001b[0m\u001b[0;34m,\u001b[0m \u001b[0;34m'assay'\u001b[0m\u001b[0;34m)\u001b[0m\u001b[0;34m\u001b[0m\u001b[0m\n\u001b[1;32m     52\u001b[0m     \u001b[0mrelationsFormat\u001b[0m\u001b[0;34m(\u001b[0m\u001b[0mJSON\u001b[0m\u001b[0;34m,\u001b[0m \u001b[0;34m'documents'\u001b[0m\u001b[0;34m,\u001b[0m \u001b[0;34m'assay'\u001b[0m\u001b[0;34m)\u001b[0m\u001b[0;34m\u001b[0m\u001b[0m\n",
         "\u001b[0;32m~/Work/ThirdYear/Seek/TheSeekNotebook/Helper.py\u001b[0m in \u001b[0;36mrelationsFormat\u001b[0;34m(JSON, type, source)\u001b[0m\n\u001b[1;32m      1\u001b[0m \u001b[0;32mdef\u001b[0m \u001b[0mrelationsFormat\u001b[0m\u001b[0;34m(\u001b[0m\u001b[0mJSON\u001b[0m\u001b[0;34m,\u001b[0m \u001b[0mtype\u001b[0m\u001b[0;34m,\u001b[0m \u001b[0msource\u001b[0m\u001b[0;34m)\u001b[0m\u001b[0;34m:\u001b[0m\u001b[0;34m\u001b[0m\u001b[0m\n\u001b[0;32m----> 2\u001b[0;31m     \u001b[0mJSON\u001b[0m\u001b[0;34m[\u001b[0m\u001b[0;34m'data'\u001b[0m\u001b[0;34m]\u001b[0m\u001b[0;34m[\u001b[0m\u001b[0;34m'relationships'\u001b[0m\u001b[0;34m]\u001b[0m\u001b[0;34m[\u001b[0m\u001b[0mtype\u001b[0m\u001b[0;34m]\u001b[0m\u001b[0;34m[\u001b[0m\u001b[0;34m'data'\u001b[0m\u001b[0;34m]\u001b[0m \u001b[0;34m=\u001b[0m \u001b[0;34m[\u001b[0m\u001b[0;34m{\u001b[0m\u001b[0;34m}\u001b[0m\u001b[0;34m]\u001b[0m\u001b[0;34m\u001b[0m\u001b[0m\n\u001b[0m\u001b[1;32m      3\u001b[0m     \u001b[0mnumberOfRelations\u001b[0m \u001b[0;34m=\u001b[0m \u001b[0mint\u001b[0m\u001b[0;34m(\u001b[0m\u001b[0minput\u001b[0m\u001b[0;34m(\u001b[0m\u001b[0;34m'Please specify how many '\u001b[0m \u001b[0;34m+\u001b[0m \u001b[0mtype\u001b[0m \u001b[0;34m+\u001b[0m \u001b[0;34m' is this '\u001b[0m \u001b[0;34m+\u001b[0m \u001b[0msource\u001b[0m \u001b[0;34m+\u001b[0m \u001b[0;34m' related to: '\u001b[0m\u001b[0;34m)\u001b[0m\u001b[0;34m)\u001b[0m\u001b[0;34m\u001b[0m\u001b[0m\n\u001b[1;32m      4\u001b[0m     \u001b[0;32mfor\u001b[0m \u001b[0mindex\u001b[0m \u001b[0;32min\u001b[0m \u001b[0mrange\u001b[0m\u001b[0;34m(\u001b[0m\u001b[0;36m1\u001b[0m\u001b[0;34m,\u001b[0m \u001b[0mnumberOfRelations\u001b[0m \u001b[0;34m+\u001b[0m \u001b[0;36m1\u001b[0m\u001b[0;34m)\u001b[0m\u001b[0;34m:\u001b[0m\u001b[0;34m\u001b[0m\u001b[0m\n\u001b[1;32m      5\u001b[0m \u001b[0;34m\u001b[0m\u001b[0m\n",
         "\u001b[0;31mKeyError\u001b[0m: 'creators'"
        ]
       }
      ],
      "source": "from WriteObject import WriteObject\n\nWO = WriteObject()\n\nWO.SEEKForm()",
      "start_time": "2019-03-15T16:22:35.496Z"
     },
     {
      "end_time": "2019-03-15T16:23:28.971Z",
      "execution_time": "8.76s",
      "outputs": [
       {
        "data": {
         "text/html": "<h3>SEEK FORM</h3>",
         "text/plain": "<IPython.core.display.HTML object>"
        },
        "metadata": {},
        "output_type": "display_data",
        "transient": {}
       },
       {
        "name": "stdout",
        "output_type": "stream",
        "text": "\nThe type of object you want to upload to SEEK: assays\n\nYou need to complete the following form in order to succesfully upload your information to SEEK\nPlease specify the description: a\nPlease specify other creators: a\nPlease specify the title: a\nPlease specify the assay class description: a\nPlease specify the assay class key: a\nPlease specify the assay class title: a\nPlease specify the assay type label: a\nPlease specify the assay type uri: a\nPlease specify the technology type label: a\nPlease specify the technology type uri: a\nPlease specify how many creators is this assay related to: 3\nPlease specify the id of the creator number 1: 123\n"
       },
       {
        "ename": "KeyError",
        "evalue": "0",
        "output_type": "error",
        "traceback": [
         "\u001b[0;31m---------------------------------------------------------------------------\u001b[0m",
         "\u001b[0;31mKeyError\u001b[0m                                  Traceback (most recent call last)",
         "\u001b[0;32m<ipython-input-1-cd480b0c800a>\u001b[0m in \u001b[0;36m<module>\u001b[0;34m()\u001b[0m\n\u001b[1;32m      3\u001b[0m \u001b[0mWO\u001b[0m \u001b[0;34m=\u001b[0m \u001b[0mWriteObject\u001b[0m\u001b[0;34m(\u001b[0m\u001b[0;34m)\u001b[0m\u001b[0;34m\u001b[0m\u001b[0m\n\u001b[1;32m      4\u001b[0m \u001b[0;34m\u001b[0m\u001b[0m\n\u001b[0;32m----> 5\u001b[0;31m \u001b[0mWO\u001b[0m\u001b[0;34m.\u001b[0m\u001b[0mSEEKForm\u001b[0m\u001b[0;34m(\u001b[0m\u001b[0;34m)\u001b[0m\u001b[0;34m\u001b[0m\u001b[0m\n\u001b[0m",
         "\u001b[0;32m~/Work/ThirdYear/Seek/TheSeekNotebook/WriteObject.py\u001b[0m in \u001b[0;36mSEEKForm\u001b[0;34m(self)\u001b[0m\n\u001b[1;32m     31\u001b[0m \u001b[0;34m\u001b[0m\u001b[0m\n\u001b[1;32m     32\u001b[0m         \u001b[0;32mif\u001b[0m \u001b[0mself\u001b[0m\u001b[0;34m.\u001b[0m\u001b[0mtype\u001b[0m \u001b[0;34m==\u001b[0m \u001b[0;34m'assays'\u001b[0m\u001b[0;34m:\u001b[0m\u001b[0;34m\u001b[0m\u001b[0m\n\u001b[0;32m---> 33\u001b[0;31m             \u001b[0mself\u001b[0m\u001b[0;34m.\u001b[0m\u001b[0mJSON\u001b[0m \u001b[0;34m=\u001b[0m \u001b[0mHelper\u001b[0m\u001b[0;34m.\u001b[0m\u001b[0massayFormat\u001b[0m\u001b[0;34m(\u001b[0m\u001b[0;34m)\u001b[0m\u001b[0;34m\u001b[0m\u001b[0m\n\u001b[0m\u001b[1;32m     34\u001b[0m         \u001b[0;32melif\u001b[0m \u001b[0mself\u001b[0m\u001b[0;34m.\u001b[0m\u001b[0mtype\u001b[0m \u001b[0;34m==\u001b[0m \u001b[0;34m'investigations'\u001b[0m\u001b[0;34m:\u001b[0m\u001b[0;34m\u001b[0m\u001b[0m\n\u001b[1;32m     35\u001b[0m             \u001b[0mself\u001b[0m\u001b[0;34m.\u001b[0m\u001b[0mJSON\u001b[0m \u001b[0;34m=\u001b[0m \u001b[0mHelper\u001b[0m\u001b[0;34m.\u001b[0m\u001b[0minvestigationFormat\u001b[0m\u001b[0;34m(\u001b[0m\u001b[0;34m)\u001b[0m\u001b[0;34m\u001b[0m\u001b[0m\n",
         "\u001b[0;32m~/Work/ThirdYear/Seek/TheSeekNotebook/Helper.py\u001b[0m in \u001b[0;36massayFormat\u001b[0;34m()\u001b[0m\n\u001b[1;32m     50\u001b[0m \u001b[0;34m\u001b[0m\u001b[0m\n\u001b[1;32m     51\u001b[0m \u001b[0;34m\u001b[0m\u001b[0m\n\u001b[0;32m---> 52\u001b[0;31m     \u001b[0mrelationsFormat\u001b[0m\u001b[0;34m(\u001b[0m\u001b[0mJSON\u001b[0m\u001b[0;34m,\u001b[0m \u001b[0;34m'creators'\u001b[0m\u001b[0;34m,\u001b[0m \u001b[0;34m'assay'\u001b[0m\u001b[0;34m)\u001b[0m\u001b[0;34m\u001b[0m\u001b[0m\n\u001b[0m\u001b[1;32m     53\u001b[0m     \u001b[0mrelationsFormat\u001b[0m\u001b[0;34m(\u001b[0m\u001b[0mJSON\u001b[0m\u001b[0;34m,\u001b[0m \u001b[0;34m'data_files'\u001b[0m\u001b[0;34m,\u001b[0m \u001b[0;34m'assay'\u001b[0m\u001b[0;34m)\u001b[0m\u001b[0;34m\u001b[0m\u001b[0m\n\u001b[1;32m     54\u001b[0m     \u001b[0mrelationsFormat\u001b[0m\u001b[0;34m(\u001b[0m\u001b[0mJSON\u001b[0m\u001b[0;34m,\u001b[0m \u001b[0;34m'documents'\u001b[0m\u001b[0;34m,\u001b[0m \u001b[0;34m'assay'\u001b[0m\u001b[0;34m)\u001b[0m\u001b[0;34m\u001b[0m\u001b[0m\n",
         "\u001b[0;32m~/Work/ThirdYear/Seek/TheSeekNotebook/Helper.py\u001b[0m in \u001b[0;36mrelationsFormat\u001b[0;34m(JSON, type, source)\u001b[0m\n\u001b[1;32m      7\u001b[0m \u001b[0;34m\u001b[0m\u001b[0m\n\u001b[1;32m      8\u001b[0m         \u001b[0mid\u001b[0m \u001b[0;34m=\u001b[0m \u001b[0mint\u001b[0m\u001b[0;34m(\u001b[0m\u001b[0minput\u001b[0m\u001b[0;34m(\u001b[0m\u001b[0;34m'Please specify the id of the '\u001b[0m \u001b[0;34m+\u001b[0m \u001b[0mtype\u001b[0m\u001b[0;34m[\u001b[0m\u001b[0;34m:\u001b[0m\u001b[0;34m-\u001b[0m\u001b[0;36m1\u001b[0m\u001b[0;34m]\u001b[0m \u001b[0;34m+\u001b[0m \u001b[0;34m' number '\u001b[0m \u001b[0;34m+\u001b[0m \u001b[0mstr\u001b[0m\u001b[0;34m(\u001b[0m\u001b[0mindex\u001b[0m\u001b[0;34m)\u001b[0m \u001b[0;34m+\u001b[0m \u001b[0;34m': '\u001b[0m\u001b[0;34m)\u001b[0m\u001b[0;34m)\u001b[0m\u001b[0;34m\u001b[0m\u001b[0m\n\u001b[0;32m----> 9\u001b[0;31m         \u001b[0mJSON\u001b[0m\u001b[0;34m[\u001b[0m\u001b[0;34m'data'\u001b[0m\u001b[0;34m]\u001b[0m\u001b[0;34m[\u001b[0m\u001b[0;34m'relationships'\u001b[0m\u001b[0;34m]\u001b[0m\u001b[0;34m[\u001b[0m\u001b[0mtype\u001b[0m\u001b[0;34m]\u001b[0m\u001b[0;34m.\u001b[0m\u001b[0mpop\u001b[0m\u001b[0;34m(\u001b[0m\u001b[0;36m0\u001b[0m\u001b[0;34m)\u001b[0m\u001b[0;34m\u001b[0m\u001b[0m\n\u001b[0m\u001b[1;32m     10\u001b[0m         \u001b[0mJSON\u001b[0m\u001b[0;34m[\u001b[0m\u001b[0;34m'data'\u001b[0m\u001b[0;34m]\u001b[0m\u001b[0;34m[\u001b[0m\u001b[0;34m'relationships'\u001b[0m\u001b[0;34m]\u001b[0m\u001b[0;34m[\u001b[0m\u001b[0mtype\u001b[0m\u001b[0;34m]\u001b[0m\u001b[0;34m.\u001b[0m\u001b[0mappend\u001b[0m\u001b[0;34m(\u001b[0m\u001b[0;34m{\u001b[0m\u001b[0;34m'id'\u001b[0m \u001b[0;34m:\u001b[0m \u001b[0mid\u001b[0m\u001b[0;34m,\u001b[0m \u001b[0;34m'type'\u001b[0m \u001b[0;34m:\u001b[0m \u001b[0mtype\u001b[0m\u001b[0;34m}\u001b[0m\u001b[0;34m)\u001b[0m\u001b[0;34m\u001b[0m\u001b[0m\n\u001b[1;32m     11\u001b[0m \u001b[0;34m\u001b[0m\u001b[0m\n",
         "\u001b[0;31mKeyError\u001b[0m: 0"
        ]
       }
      ],
      "source": "from WriteObject import WriteObject\n\nWO = WriteObject()\n\nWO.SEEKForm()",
      "start_time": "2019-03-15T16:23:20.208Z"
     },
     {
      "end_time": "2019-03-15T16:23:52.218Z",
      "execution_time": "18.5s",
      "outputs": [
       {
        "data": {
         "text/html": "<h3>SEEK FORM</h3>",
         "text/plain": "<IPython.core.display.HTML object>"
        },
        "metadata": {},
        "output_type": "display_data",
        "transient": {}
       },
       {
        "name": "stdout",
        "output_type": "stream",
        "text": "\nThe type of object you want to upload to SEEK: assays\n\nYou need to complete the following form in order to succesfully upload your information to SEEK\nPlease specify the description: a\nPlease specify other creators: a\nPlease specify the title: a\nPlease specify the assay class description: a\nPlease specify the assay class key: a\nPlease specify the assay class title: a\nPlease specify the assay type label: a\nPlease specify the assay type uri: a\nPlease specify the technology type label: a\nPlease specify the technology type uri: a\nPlease specify how many creators is this assay related to: 3\nPlease specify the id of the creator number 1: 123\n"
       },
       {
        "ename": "KeyError",
        "evalue": "0",
        "output_type": "error",
        "traceback": [
         "\u001b[0;31m---------------------------------------------------------------------------\u001b[0m",
         "\u001b[0;31mKeyError\u001b[0m                                  Traceback (most recent call last)",
         "\u001b[0;32m<ipython-input-2-dc20d847a4c2>\u001b[0m in \u001b[0;36m<module>\u001b[0;34m()\u001b[0m\n\u001b[1;32m      3\u001b[0m \u001b[0mWO\u001b[0m \u001b[0;34m=\u001b[0m \u001b[0mWriteObject\u001b[0m\u001b[0;34m(\u001b[0m\u001b[0;34m)\u001b[0m\u001b[0;34m\u001b[0m\u001b[0m\n\u001b[1;32m      4\u001b[0m \u001b[0;34m\u001b[0m\u001b[0m\n\u001b[0;32m----> 5\u001b[0;31m \u001b[0mWO\u001b[0m\u001b[0;34m.\u001b[0m\u001b[0mSEEKForm\u001b[0m\u001b[0;34m(\u001b[0m\u001b[0;34m)\u001b[0m\u001b[0;34m\u001b[0m\u001b[0m\n\u001b[0m",
         "\u001b[0;32m~/Work/ThirdYear/Seek/TheSeekNotebook/WriteObject.py\u001b[0m in \u001b[0;36mSEEKForm\u001b[0;34m(self)\u001b[0m\n\u001b[1;32m     31\u001b[0m \u001b[0;34m\u001b[0m\u001b[0m\n\u001b[1;32m     32\u001b[0m         \u001b[0;32mif\u001b[0m \u001b[0mself\u001b[0m\u001b[0;34m.\u001b[0m\u001b[0mtype\u001b[0m \u001b[0;34m==\u001b[0m \u001b[0;34m'assays'\u001b[0m\u001b[0;34m:\u001b[0m\u001b[0;34m\u001b[0m\u001b[0m\n\u001b[0;32m---> 33\u001b[0;31m             \u001b[0mself\u001b[0m\u001b[0;34m.\u001b[0m\u001b[0mJSON\u001b[0m \u001b[0;34m=\u001b[0m \u001b[0mHelper\u001b[0m\u001b[0;34m.\u001b[0m\u001b[0massayFormat\u001b[0m\u001b[0;34m(\u001b[0m\u001b[0;34m)\u001b[0m\u001b[0;34m\u001b[0m\u001b[0m\n\u001b[0m\u001b[1;32m     34\u001b[0m         \u001b[0;32melif\u001b[0m \u001b[0mself\u001b[0m\u001b[0;34m.\u001b[0m\u001b[0mtype\u001b[0m \u001b[0;34m==\u001b[0m \u001b[0;34m'investigations'\u001b[0m\u001b[0;34m:\u001b[0m\u001b[0;34m\u001b[0m\u001b[0m\n\u001b[1;32m     35\u001b[0m             \u001b[0mself\u001b[0m\u001b[0;34m.\u001b[0m\u001b[0mJSON\u001b[0m \u001b[0;34m=\u001b[0m \u001b[0mHelper\u001b[0m\u001b[0;34m.\u001b[0m\u001b[0minvestigationFormat\u001b[0m\u001b[0;34m(\u001b[0m\u001b[0;34m)\u001b[0m\u001b[0;34m\u001b[0m\u001b[0m\n",
         "\u001b[0;32m~/Work/ThirdYear/Seek/TheSeekNotebook/Helper.py\u001b[0m in \u001b[0;36massayFormat\u001b[0;34m()\u001b[0m\n\u001b[1;32m     50\u001b[0m \u001b[0;34m\u001b[0m\u001b[0m\n\u001b[1;32m     51\u001b[0m \u001b[0;34m\u001b[0m\u001b[0m\n\u001b[0;32m---> 52\u001b[0;31m     \u001b[0mrelationsFormat\u001b[0m\u001b[0;34m(\u001b[0m\u001b[0mJSON\u001b[0m\u001b[0;34m,\u001b[0m \u001b[0;34m'creators'\u001b[0m\u001b[0;34m,\u001b[0m \u001b[0;34m'assay'\u001b[0m\u001b[0;34m)\u001b[0m\u001b[0;34m\u001b[0m\u001b[0m\n\u001b[0m\u001b[1;32m     53\u001b[0m     \u001b[0mrelationsFormat\u001b[0m\u001b[0;34m(\u001b[0m\u001b[0mJSON\u001b[0m\u001b[0;34m,\u001b[0m \u001b[0;34m'data_files'\u001b[0m\u001b[0;34m,\u001b[0m \u001b[0;34m'assay'\u001b[0m\u001b[0;34m)\u001b[0m\u001b[0;34m\u001b[0m\u001b[0m\n\u001b[1;32m     54\u001b[0m     \u001b[0mrelationsFormat\u001b[0m\u001b[0;34m(\u001b[0m\u001b[0mJSON\u001b[0m\u001b[0;34m,\u001b[0m \u001b[0;34m'documents'\u001b[0m\u001b[0;34m,\u001b[0m \u001b[0;34m'assay'\u001b[0m\u001b[0;34m)\u001b[0m\u001b[0;34m\u001b[0m\u001b[0m\n",
         "\u001b[0;32m~/Work/ThirdYear/Seek/TheSeekNotebook/Helper.py\u001b[0m in \u001b[0;36mrelationsFormat\u001b[0;34m(JSON, type, source)\u001b[0m\n\u001b[1;32m      7\u001b[0m \u001b[0;34m\u001b[0m\u001b[0m\n\u001b[1;32m      8\u001b[0m         \u001b[0mid\u001b[0m \u001b[0;34m=\u001b[0m \u001b[0mint\u001b[0m\u001b[0;34m(\u001b[0m\u001b[0minput\u001b[0m\u001b[0;34m(\u001b[0m\u001b[0;34m'Please specify the id of the '\u001b[0m \u001b[0;34m+\u001b[0m \u001b[0mtype\u001b[0m\u001b[0;34m[\u001b[0m\u001b[0;34m:\u001b[0m\u001b[0;34m-\u001b[0m\u001b[0;36m1\u001b[0m\u001b[0;34m]\u001b[0m \u001b[0;34m+\u001b[0m \u001b[0;34m' number '\u001b[0m \u001b[0;34m+\u001b[0m \u001b[0mstr\u001b[0m\u001b[0;34m(\u001b[0m\u001b[0mindex\u001b[0m\u001b[0;34m)\u001b[0m \u001b[0;34m+\u001b[0m \u001b[0;34m': '\u001b[0m\u001b[0;34m)\u001b[0m\u001b[0;34m)\u001b[0m\u001b[0;34m\u001b[0m\u001b[0m\n\u001b[0;32m----> 9\u001b[0;31m         \u001b[0mJSON\u001b[0m\u001b[0;34m[\u001b[0m\u001b[0;34m'data'\u001b[0m\u001b[0;34m]\u001b[0m\u001b[0;34m[\u001b[0m\u001b[0;34m'relationships'\u001b[0m\u001b[0;34m]\u001b[0m\u001b[0;34m[\u001b[0m\u001b[0mtype\u001b[0m\u001b[0;34m]\u001b[0m\u001b[0;34m.\u001b[0m\u001b[0mpop\u001b[0m\u001b[0;34m(\u001b[0m\u001b[0;36m0\u001b[0m\u001b[0;34m)\u001b[0m\u001b[0;34m\u001b[0m\u001b[0m\n\u001b[0m\u001b[1;32m     10\u001b[0m         \u001b[0mJSON\u001b[0m\u001b[0;34m[\u001b[0m\u001b[0;34m'data'\u001b[0m\u001b[0;34m]\u001b[0m\u001b[0;34m[\u001b[0m\u001b[0;34m'relationships'\u001b[0m\u001b[0;34m]\u001b[0m\u001b[0;34m[\u001b[0m\u001b[0mtype\u001b[0m\u001b[0;34m]\u001b[0m\u001b[0;34m.\u001b[0m\u001b[0mappend\u001b[0m\u001b[0;34m(\u001b[0m\u001b[0;34m{\u001b[0m\u001b[0;34m'id'\u001b[0m \u001b[0;34m:\u001b[0m \u001b[0mid\u001b[0m\u001b[0;34m,\u001b[0m \u001b[0;34m'type'\u001b[0m \u001b[0;34m:\u001b[0m \u001b[0mtype\u001b[0m\u001b[0;34m}\u001b[0m\u001b[0;34m)\u001b[0m\u001b[0;34m\u001b[0m\u001b[0m\n\u001b[1;32m     11\u001b[0m \u001b[0;34m\u001b[0m\u001b[0m\n",
         "\u001b[0;31mKeyError\u001b[0m: 0"
        ]
       }
      ],
      "source": "from WriteObject import WriteObject\n\nWO = WriteObject()\n\nWO.SEEKForm()",
      "start_time": "2019-03-15T16:23:33.679Z"
     },
     {
      "end_time": "2019-03-15T16:24:28.673Z",
      "execution_time": "14.1s",
      "outputs": [
       {
        "data": {
         "text/html": "<h3>SEEK FORM</h3>",
         "text/plain": "<IPython.core.display.HTML object>"
        },
        "metadata": {},
        "output_type": "display_data",
        "transient": {}
       },
       {
        "name": "stdout",
        "output_type": "stream",
        "text": "\nThe type of object you want to upload to SEEK: assays\n\nYou need to complete the following form in order to succesfully upload your information to SEEK\nPlease specify the description: a\nPlease specify other creators: a\nPlease specify the title: a\nPlease specify the assay class description: a\nPlease specify the assay class key: a\nPlease specify the assay class title: a\nPlease specify the assay type label: a\nPlease specify the assay type uri: a\nPlease specify the technology type label: a\nPlease specify the technology type uri: a\nPlease specify how many creators is this assay related to: 3\nPlease specify the id of the creator number 1: 12\nPlease specify the id of the creator number 2: 23\nPlease specify the id of the creator number 3: 34\nPlease specify how many data_files is this assay related to: 0\nPlease specify how many documents is this assay related to: 0\nPlease specify the id of the investigation: 0\n"
       },
       {
        "ename": "KeyError",
        "evalue": "'investigations'",
        "output_type": "error",
        "traceback": [
         "\u001b[0;31m---------------------------------------------------------------------------\u001b[0m",
         "\u001b[0;31mKeyError\u001b[0m                                  Traceback (most recent call last)",
         "\u001b[0;32m<ipython-input-1-cd480b0c800a>\u001b[0m in \u001b[0;36m<module>\u001b[0;34m()\u001b[0m\n\u001b[1;32m      3\u001b[0m \u001b[0mWO\u001b[0m \u001b[0;34m=\u001b[0m \u001b[0mWriteObject\u001b[0m\u001b[0;34m(\u001b[0m\u001b[0;34m)\u001b[0m\u001b[0;34m\u001b[0m\u001b[0m\n\u001b[1;32m      4\u001b[0m \u001b[0;34m\u001b[0m\u001b[0m\n\u001b[0;32m----> 5\u001b[0;31m \u001b[0mWO\u001b[0m\u001b[0;34m.\u001b[0m\u001b[0mSEEKForm\u001b[0m\u001b[0;34m(\u001b[0m\u001b[0;34m)\u001b[0m\u001b[0;34m\u001b[0m\u001b[0m\n\u001b[0m",
         "\u001b[0;32m~/Work/ThirdYear/Seek/TheSeekNotebook/WriteObject.py\u001b[0m in \u001b[0;36mSEEKForm\u001b[0;34m(self)\u001b[0m\n\u001b[1;32m     31\u001b[0m \u001b[0;34m\u001b[0m\u001b[0m\n\u001b[1;32m     32\u001b[0m         \u001b[0;32mif\u001b[0m \u001b[0mself\u001b[0m\u001b[0;34m.\u001b[0m\u001b[0mtype\u001b[0m \u001b[0;34m==\u001b[0m \u001b[0;34m'assays'\u001b[0m\u001b[0;34m:\u001b[0m\u001b[0;34m\u001b[0m\u001b[0m\n\u001b[0;32m---> 33\u001b[0;31m             \u001b[0mself\u001b[0m\u001b[0;34m.\u001b[0m\u001b[0mJSON\u001b[0m \u001b[0;34m=\u001b[0m \u001b[0mHelper\u001b[0m\u001b[0;34m.\u001b[0m\u001b[0massayFormat\u001b[0m\u001b[0;34m(\u001b[0m\u001b[0;34m)\u001b[0m\u001b[0;34m\u001b[0m\u001b[0m\n\u001b[0m\u001b[1;32m     34\u001b[0m         \u001b[0;32melif\u001b[0m \u001b[0mself\u001b[0m\u001b[0;34m.\u001b[0m\u001b[0mtype\u001b[0m \u001b[0;34m==\u001b[0m \u001b[0;34m'investigations'\u001b[0m\u001b[0;34m:\u001b[0m\u001b[0;34m\u001b[0m\u001b[0m\n\u001b[1;32m     35\u001b[0m             \u001b[0mself\u001b[0m\u001b[0;34m.\u001b[0m\u001b[0mJSON\u001b[0m \u001b[0;34m=\u001b[0m \u001b[0mHelper\u001b[0m\u001b[0;34m.\u001b[0m\u001b[0minvestigationFormat\u001b[0m\u001b[0;34m(\u001b[0m\u001b[0;34m)\u001b[0m\u001b[0;34m\u001b[0m\u001b[0m\n",
         "\u001b[0;32m~/Work/ThirdYear/Seek/TheSeekNotebook/Helper.py\u001b[0m in \u001b[0;36massayFormat\u001b[0;34m()\u001b[0m\n\u001b[1;32m     53\u001b[0m     \u001b[0mrelationsFormat\u001b[0m\u001b[0;34m(\u001b[0m\u001b[0mJSON\u001b[0m\u001b[0;34m,\u001b[0m \u001b[0;34m'data_files'\u001b[0m\u001b[0;34m,\u001b[0m \u001b[0;34m'assay'\u001b[0m\u001b[0;34m)\u001b[0m\u001b[0;34m\u001b[0m\u001b[0m\n\u001b[1;32m     54\u001b[0m     \u001b[0mrelationsFormat\u001b[0m\u001b[0;34m(\u001b[0m\u001b[0mJSON\u001b[0m\u001b[0;34m,\u001b[0m \u001b[0;34m'documents'\u001b[0m\u001b[0;34m,\u001b[0m \u001b[0;34m'assay'\u001b[0m\u001b[0;34m)\u001b[0m\u001b[0;34m\u001b[0m\u001b[0m\n\u001b[0;32m---> 55\u001b[0;31m     \u001b[0mrelationFormat\u001b[0m\u001b[0;34m(\u001b[0m\u001b[0mJSON\u001b[0m\u001b[0;34m,\u001b[0m \u001b[0;34m'investigations'\u001b[0m\u001b[0;34m)\u001b[0m\u001b[0;34m\u001b[0m\u001b[0m\n\u001b[0m\u001b[1;32m     56\u001b[0m     \u001b[0mrelationsFormat\u001b[0m\u001b[0;34m(\u001b[0m\u001b[0mJSON\u001b[0m\u001b[0;34m,\u001b[0m \u001b[0;34m'models'\u001b[0m\u001b[0;34m,\u001b[0m \u001b[0;34m'assay'\u001b[0m\u001b[0;34m)\u001b[0m\u001b[0;34m\u001b[0m\u001b[0m\n\u001b[1;32m     57\u001b[0m     \u001b[0mrelationsFormat\u001b[0m\u001b[0;34m(\u001b[0m\u001b[0mJSON\u001b[0m\u001b[0;34m,\u001b[0m \u001b[0;34m'people'\u001b[0m\u001b[0;34m,\u001b[0m \u001b[0;34m'assay'\u001b[0m\u001b[0;34m)\u001b[0m\u001b[0;34m\u001b[0m\u001b[0m\n",
         "\u001b[0;32m~/Work/ThirdYear/Seek/TheSeekNotebook/Helper.py\u001b[0m in \u001b[0;36mrelationFormat\u001b[0;34m(JSON, type)\u001b[0m\n\u001b[1;32m     16\u001b[0m     \u001b[0mid\u001b[0m \u001b[0;34m=\u001b[0m \u001b[0minput\u001b[0m\u001b[0;34m(\u001b[0m\u001b[0;34m'Please specify the id of the '\u001b[0m \u001b[0;34m+\u001b[0m \u001b[0mtype\u001b[0m\u001b[0;34m[\u001b[0m\u001b[0;34m:\u001b[0m\u001b[0;34m-\u001b[0m\u001b[0;36m1\u001b[0m\u001b[0;34m]\u001b[0m \u001b[0;34m+\u001b[0m \u001b[0;34m\": \"\u001b[0m\u001b[0;34m)\u001b[0m\u001b[0;34m\u001b[0m\u001b[0m\n\u001b[1;32m     17\u001b[0m     \u001b[0;32mif\u001b[0m \u001b[0mid\u001b[0m \u001b[0;34m!=\u001b[0m \u001b[0;34m''\u001b[0m\u001b[0;34m:\u001b[0m\u001b[0;34m\u001b[0m\u001b[0m\n\u001b[0;32m---> 18\u001b[0;31m         \u001b[0mJSON\u001b[0m\u001b[0;34m[\u001b[0m\u001b[0;34m'data'\u001b[0m\u001b[0;34m]\u001b[0m\u001b[0;34m[\u001b[0m\u001b[0;34m'relationships'\u001b[0m\u001b[0;34m]\u001b[0m\u001b[0;34m[\u001b[0m\u001b[0mtype\u001b[0m\u001b[0;34m]\u001b[0m\u001b[0;34m[\u001b[0m\u001b[0;34m'data'\u001b[0m\u001b[0;34m]\u001b[0m \u001b[0;34m=\u001b[0m \u001b[0;34m{\u001b[0m\u001b[0;34m'id'\u001b[0m \u001b[0;34m:\u001b[0m \u001b[0mint\u001b[0m\u001b[0;34m(\u001b[0m\u001b[0mid\u001b[0m\u001b[0;34m)\u001b[0m\u001b[0;34m,\u001b[0m \u001b[0;34m'type'\u001b[0m \u001b[0;34m:\u001b[0m \u001b[0mtype\u001b[0m\u001b[0;34m}\u001b[0m\u001b[0;34m\u001b[0m\u001b[0m\n\u001b[0m\u001b[1;32m     19\u001b[0m \u001b[0;34m\u001b[0m\u001b[0m\n\u001b[1;32m     20\u001b[0m \u001b[0;32mdef\u001b[0m \u001b[0massayFormat\u001b[0m\u001b[0;34m(\u001b[0m\u001b[0;34m)\u001b[0m\u001b[0;34m:\u001b[0m\u001b[0;34m\u001b[0m\u001b[0m\n",
         "\u001b[0;31mKeyError\u001b[0m: 'investigations'"
        ]
       }
      ],
      "source": "from WriteObject import WriteObject\n\nWO = WriteObject()\n\nWO.SEEKForm()",
      "start_time": "2019-03-15T16:24:14.571Z"
     },
     {
      "end_time": "2019-03-15T16:24:58.303Z",
      "execution_time": "26.4s",
      "outputs": [
       {
        "data": {
         "text/html": "<h3>SEEK FORM</h3>",
         "text/plain": "<IPython.core.display.HTML object>"
        },
        "metadata": {},
        "output_type": "display_data",
        "transient": {}
       },
       {
        "name": "stdout",
        "output_type": "stream",
        "text": "\nThe type of object you want to upload to SEEK: assays\n\nYou need to complete the following form in order to succesfully upload your information to SEEK\nPlease specify the description: a\nPlease specify other creators: a\nPlease specify the title: a\nPlease specify the assay class description: a\nPlease specify the assay class key: a\nPlease specify the assay class title: a\nPlease specify the assay type label: a\nPlease specify the assay type uri: a\nPlease specify the technology type label: a\nPlease specify the technology type uri: a\nPlease specify how many creators is this assay related to: 3\nPlease specify the id of the creator number 1: 12\nPlease specify the id of the creator number 2: 23\nPlease specify the id of the creator number 3: 34\nPlease specify how many data_files is this assay related to: 0\nPlease specify how many documents is this assay related to: 0\nPlease specify the id of the investigation: \nPlease specify how many models is this assay related to: 0\nPlease specify how many people is this assay related to: 0\nPlease specify how many projects is this assay related to: 0\nPlease specify how many publications is this assay related to: 0\nPlease specify how many sops is this assay related to: 0\nPlease specify the id of the studie: \nPlease specify how many submitters is this assay related to: 0\n{'data': {'type': 'assays', 'attributes': {'description': 'a', 'other_creators': 'a', 'title': 'a', 'assay_class': {'description': 'a', 'key': 'a', 'title': 'a'}, 'assay_type': {'label': 'a', 'uri': 'a'}, 'technology_type': {'label': 'a', 'uri': 'a'}}, 'relationships': {'creators': {'data': [{'id': 34, 'type': 'creators'}]}, 'data_files': {'data': [{}]}, 'documents': {'data': [{}]}, 'models': {'data': [{}]}, 'people': {'data': [{}]}, 'projects': {'data': [{}]}, 'publications': {'data': [{}]}, 'sops': {'data': [{}]}, 'submitters': {'data': [{}]}}}}\n"
       }
      ],
      "source": "from WriteObject import WriteObject\n\nWO = WriteObject()\n\nWO.SEEKForm()",
      "start_time": "2019-03-15T16:24:31.863Z"
     },
     {
      "end_time": "2019-03-15T16:26:33.994Z",
      "execution_time": "1m 16.5s",
      "outputs": [
       {
        "data": {
         "text/html": "<h3>SEEK FORM</h3>",
         "text/plain": "<IPython.core.display.HTML object>"
        },
        "metadata": {},
        "output_type": "display_data",
        "transient": {}
       },
       {
        "name": "stdout",
        "output_type": "stream",
        "text": "\nThe type of object you want to upload to SEEK: assays\n\nYou need to complete the following form in order to succesfully upload your information to SEEK\nPlease specify the description: This is a template assay used to test the POST request from the jupyter notebook.\nPlease specify other creators: \nPlease specify the title: TESTING\nPlease specify the assay class description: Modelling\nPlease specify the assay class key: MOD\nPlease specify the assay class title: Experiment\nPlease specify the assay type label: a\nPlease specify the assay type uri: a\nPlease specify the technology type label: a\nPlease specify the technology type uri: a\nPlease specify how many creators is this assay related to: 0\nPlease specify how many data_files is this assay related to: 0\nPlease specify how many documents is this assay related to: 0\nPlease specify the id of the investigation: 0\n"
       },
       {
        "ename": "KeyError",
        "evalue": "'investigations'",
        "output_type": "error",
        "traceback": [
         "\u001b[0;31m---------------------------------------------------------------------------\u001b[0m",
         "\u001b[0;31mKeyError\u001b[0m                                  Traceback (most recent call last)",
         "\u001b[0;32m<ipython-input-3-cd480b0c800a>\u001b[0m in \u001b[0;36m<module>\u001b[0;34m()\u001b[0m\n\u001b[1;32m      3\u001b[0m \u001b[0mWO\u001b[0m \u001b[0;34m=\u001b[0m \u001b[0mWriteObject\u001b[0m\u001b[0;34m(\u001b[0m\u001b[0;34m)\u001b[0m\u001b[0;34m\u001b[0m\u001b[0m\n\u001b[1;32m      4\u001b[0m \u001b[0;34m\u001b[0m\u001b[0m\n\u001b[0;32m----> 5\u001b[0;31m \u001b[0mWO\u001b[0m\u001b[0;34m.\u001b[0m\u001b[0mSEEKForm\u001b[0m\u001b[0;34m(\u001b[0m\u001b[0;34m)\u001b[0m\u001b[0;34m\u001b[0m\u001b[0m\n\u001b[0m",
         "\u001b[0;32m~/Work/ThirdYear/Seek/TheSeekNotebook/WriteObject.py\u001b[0m in \u001b[0;36mSEEKForm\u001b[0;34m(self)\u001b[0m\n\u001b[1;32m     31\u001b[0m \u001b[0;34m\u001b[0m\u001b[0m\n\u001b[1;32m     32\u001b[0m         \u001b[0;32mif\u001b[0m \u001b[0mself\u001b[0m\u001b[0;34m.\u001b[0m\u001b[0mtype\u001b[0m \u001b[0;34m==\u001b[0m \u001b[0;34m'assays'\u001b[0m\u001b[0;34m:\u001b[0m\u001b[0;34m\u001b[0m\u001b[0m\n\u001b[0;32m---> 33\u001b[0;31m             \u001b[0mself\u001b[0m\u001b[0;34m.\u001b[0m\u001b[0mJSON\u001b[0m \u001b[0;34m=\u001b[0m \u001b[0mHelper\u001b[0m\u001b[0;34m.\u001b[0m\u001b[0massayFormat\u001b[0m\u001b[0;34m(\u001b[0m\u001b[0;34m)\u001b[0m\u001b[0;34m\u001b[0m\u001b[0m\n\u001b[0m\u001b[1;32m     34\u001b[0m         \u001b[0;32melif\u001b[0m \u001b[0mself\u001b[0m\u001b[0;34m.\u001b[0m\u001b[0mtype\u001b[0m \u001b[0;34m==\u001b[0m \u001b[0;34m'investigations'\u001b[0m\u001b[0;34m:\u001b[0m\u001b[0;34m\u001b[0m\u001b[0m\n\u001b[1;32m     35\u001b[0m             \u001b[0mself\u001b[0m\u001b[0;34m.\u001b[0m\u001b[0mJSON\u001b[0m \u001b[0;34m=\u001b[0m \u001b[0mHelper\u001b[0m\u001b[0;34m.\u001b[0m\u001b[0minvestigationFormat\u001b[0m\u001b[0;34m(\u001b[0m\u001b[0;34m)\u001b[0m\u001b[0;34m\u001b[0m\u001b[0m\n",
         "\u001b[0;32m~/Work/ThirdYear/Seek/TheSeekNotebook/Helper.py\u001b[0m in \u001b[0;36massayFormat\u001b[0;34m()\u001b[0m\n\u001b[1;32m     53\u001b[0m     \u001b[0mrelationsFormat\u001b[0m\u001b[0;34m(\u001b[0m\u001b[0mJSON\u001b[0m\u001b[0;34m,\u001b[0m \u001b[0;34m'data_files'\u001b[0m\u001b[0;34m,\u001b[0m \u001b[0;34m'assay'\u001b[0m\u001b[0;34m)\u001b[0m\u001b[0;34m\u001b[0m\u001b[0m\n\u001b[1;32m     54\u001b[0m     \u001b[0mrelationsFormat\u001b[0m\u001b[0;34m(\u001b[0m\u001b[0mJSON\u001b[0m\u001b[0;34m,\u001b[0m \u001b[0;34m'documents'\u001b[0m\u001b[0;34m,\u001b[0m \u001b[0;34m'assay'\u001b[0m\u001b[0;34m)\u001b[0m\u001b[0;34m\u001b[0m\u001b[0m\n\u001b[0;32m---> 55\u001b[0;31m     \u001b[0mrelationFormat\u001b[0m\u001b[0;34m(\u001b[0m\u001b[0mJSON\u001b[0m\u001b[0;34m,\u001b[0m \u001b[0;34m'investigations'\u001b[0m\u001b[0;34m)\u001b[0m\u001b[0;34m\u001b[0m\u001b[0m\n\u001b[0m\u001b[1;32m     56\u001b[0m     \u001b[0mrelationsFormat\u001b[0m\u001b[0;34m(\u001b[0m\u001b[0mJSON\u001b[0m\u001b[0;34m,\u001b[0m \u001b[0;34m'models'\u001b[0m\u001b[0;34m,\u001b[0m \u001b[0;34m'assay'\u001b[0m\u001b[0;34m)\u001b[0m\u001b[0;34m\u001b[0m\u001b[0m\n\u001b[1;32m     57\u001b[0m     \u001b[0mrelationsFormat\u001b[0m\u001b[0;34m(\u001b[0m\u001b[0mJSON\u001b[0m\u001b[0;34m,\u001b[0m \u001b[0;34m'people'\u001b[0m\u001b[0;34m,\u001b[0m \u001b[0;34m'assay'\u001b[0m\u001b[0;34m)\u001b[0m\u001b[0;34m\u001b[0m\u001b[0m\n",
         "\u001b[0;32m~/Work/ThirdYear/Seek/TheSeekNotebook/Helper.py\u001b[0m in \u001b[0;36mrelationFormat\u001b[0;34m(JSON, type)\u001b[0m\n\u001b[1;32m     16\u001b[0m     \u001b[0mid\u001b[0m \u001b[0;34m=\u001b[0m \u001b[0minput\u001b[0m\u001b[0;34m(\u001b[0m\u001b[0;34m'Please specify the id of the '\u001b[0m \u001b[0;34m+\u001b[0m \u001b[0mtype\u001b[0m\u001b[0;34m[\u001b[0m\u001b[0;34m:\u001b[0m\u001b[0;34m-\u001b[0m\u001b[0;36m1\u001b[0m\u001b[0;34m]\u001b[0m \u001b[0;34m+\u001b[0m \u001b[0;34m\": \"\u001b[0m\u001b[0;34m)\u001b[0m\u001b[0;34m\u001b[0m\u001b[0m\n\u001b[1;32m     17\u001b[0m     \u001b[0;32mif\u001b[0m \u001b[0mid\u001b[0m \u001b[0;34m!=\u001b[0m \u001b[0;34m''\u001b[0m\u001b[0;34m:\u001b[0m\u001b[0;34m\u001b[0m\u001b[0m\n\u001b[0;32m---> 18\u001b[0;31m         \u001b[0mJSON\u001b[0m\u001b[0;34m[\u001b[0m\u001b[0;34m'data'\u001b[0m\u001b[0;34m]\u001b[0m\u001b[0;34m[\u001b[0m\u001b[0;34m'relationships'\u001b[0m\u001b[0;34m]\u001b[0m\u001b[0;34m[\u001b[0m\u001b[0mtype\u001b[0m\u001b[0;34m]\u001b[0m\u001b[0;34m[\u001b[0m\u001b[0;34m'data'\u001b[0m\u001b[0;34m]\u001b[0m \u001b[0;34m=\u001b[0m \u001b[0;34m{\u001b[0m\u001b[0;34m'id'\u001b[0m \u001b[0;34m:\u001b[0m \u001b[0mint\u001b[0m\u001b[0;34m(\u001b[0m\u001b[0mid\u001b[0m\u001b[0;34m)\u001b[0m\u001b[0;34m,\u001b[0m \u001b[0;34m'type'\u001b[0m \u001b[0;34m:\u001b[0m \u001b[0mtype\u001b[0m\u001b[0;34m}\u001b[0m\u001b[0;34m\u001b[0m\u001b[0m\n\u001b[0m\u001b[1;32m     19\u001b[0m \u001b[0;34m\u001b[0m\u001b[0m\n\u001b[1;32m     20\u001b[0m \u001b[0;32mdef\u001b[0m \u001b[0massayFormat\u001b[0m\u001b[0;34m(\u001b[0m\u001b[0;34m)\u001b[0m\u001b[0;34m:\u001b[0m\u001b[0;34m\u001b[0m\u001b[0m\n",
         "\u001b[0;31mKeyError\u001b[0m: 'investigations'"
        ]
       }
      ],
      "source": "from WriteObject import WriteObject\n\nWO = WriteObject()\n\nWO.SEEKForm()",
      "start_time": "2019-03-15T16:25:17.519Z"
     },
     {
      "end_time": "2019-03-15T16:27:16.424Z",
      "execution_time": "40.4s",
      "outputs": [
       {
        "data": {
         "text/html": "<h3>SEEK FORM</h3>",
         "text/plain": "<IPython.core.display.HTML object>"
        },
        "metadata": {},
        "output_type": "display_data",
        "transient": {}
       },
       {
        "name": "stdout",
        "output_type": "stream",
        "text": "\nThe type of object you want to upload to SEEK: assays\n\nYou need to complete the following form in order to succesfully upload your information to SEEK\nPlease specify the description: a\nPlease specify other creators: test\nPlease specify the title: test\nPlease specify the assay class description: test\nPlease specify the assay class key: test\nPlease specify the assay class title: test\nPlease specify the assay type label: test\nPlease specify the assay type uri: test\nPlease specify the technology type label: test\nPlease specify the technology type uri: test\nPlease specify how many creators is this assay related to: 0\nPlease specify how many data_files is this assay related to: 0\nPlease specify how many documents is this assay related to: 0\nPlease specify the id of the investigation: \nPlease specify how many models is this assay related to: 0\nPlease specify how many people is this assay related to: 0\nPlease specify how many projects is this assay related to: 50\nPlease specify the id of the project number 1: \n"
       },
       {
        "ename": "ValueError",
        "evalue": "invalid literal for int() with base 10: ''",
        "output_type": "error",
        "traceback": [
         "\u001b[0;31m---------------------------------------------------------------------------\u001b[0m",
         "\u001b[0;31mValueError\u001b[0m                                Traceback (most recent call last)",
         "\u001b[0;32m<ipython-input-4-cd480b0c800a>\u001b[0m in \u001b[0;36m<module>\u001b[0;34m()\u001b[0m\n\u001b[1;32m      3\u001b[0m \u001b[0mWO\u001b[0m \u001b[0;34m=\u001b[0m \u001b[0mWriteObject\u001b[0m\u001b[0;34m(\u001b[0m\u001b[0;34m)\u001b[0m\u001b[0;34m\u001b[0m\u001b[0m\n\u001b[1;32m      4\u001b[0m \u001b[0;34m\u001b[0m\u001b[0m\n\u001b[0;32m----> 5\u001b[0;31m \u001b[0mWO\u001b[0m\u001b[0;34m.\u001b[0m\u001b[0mSEEKForm\u001b[0m\u001b[0;34m(\u001b[0m\u001b[0;34m)\u001b[0m\u001b[0;34m\u001b[0m\u001b[0m\n\u001b[0m",
         "\u001b[0;32m~/Work/ThirdYear/Seek/TheSeekNotebook/WriteObject.py\u001b[0m in \u001b[0;36mSEEKForm\u001b[0;34m(self)\u001b[0m\n\u001b[1;32m     31\u001b[0m \u001b[0;34m\u001b[0m\u001b[0m\n\u001b[1;32m     32\u001b[0m         \u001b[0;32mif\u001b[0m \u001b[0mself\u001b[0m\u001b[0;34m.\u001b[0m\u001b[0mtype\u001b[0m \u001b[0;34m==\u001b[0m \u001b[0;34m'assays'\u001b[0m\u001b[0;34m:\u001b[0m\u001b[0;34m\u001b[0m\u001b[0m\n\u001b[0;32m---> 33\u001b[0;31m             \u001b[0mself\u001b[0m\u001b[0;34m.\u001b[0m\u001b[0mJSON\u001b[0m \u001b[0;34m=\u001b[0m \u001b[0mHelper\u001b[0m\u001b[0;34m.\u001b[0m\u001b[0massayFormat\u001b[0m\u001b[0;34m(\u001b[0m\u001b[0;34m)\u001b[0m\u001b[0;34m\u001b[0m\u001b[0m\n\u001b[0m\u001b[1;32m     34\u001b[0m         \u001b[0;32melif\u001b[0m \u001b[0mself\u001b[0m\u001b[0;34m.\u001b[0m\u001b[0mtype\u001b[0m \u001b[0;34m==\u001b[0m \u001b[0;34m'investigations'\u001b[0m\u001b[0;34m:\u001b[0m\u001b[0;34m\u001b[0m\u001b[0m\n\u001b[1;32m     35\u001b[0m             \u001b[0mself\u001b[0m\u001b[0;34m.\u001b[0m\u001b[0mJSON\u001b[0m \u001b[0;34m=\u001b[0m \u001b[0mHelper\u001b[0m\u001b[0;34m.\u001b[0m\u001b[0minvestigationFormat\u001b[0m\u001b[0;34m(\u001b[0m\u001b[0;34m)\u001b[0m\u001b[0;34m\u001b[0m\u001b[0m\n",
         "\u001b[0;32m~/Work/ThirdYear/Seek/TheSeekNotebook/Helper.py\u001b[0m in \u001b[0;36massayFormat\u001b[0;34m()\u001b[0m\n\u001b[1;32m     56\u001b[0m     \u001b[0mrelationsFormat\u001b[0m\u001b[0;34m(\u001b[0m\u001b[0mJSON\u001b[0m\u001b[0;34m,\u001b[0m \u001b[0;34m'models'\u001b[0m\u001b[0;34m,\u001b[0m \u001b[0;34m'assay'\u001b[0m\u001b[0;34m)\u001b[0m\u001b[0;34m\u001b[0m\u001b[0m\n\u001b[1;32m     57\u001b[0m     \u001b[0mrelationsFormat\u001b[0m\u001b[0;34m(\u001b[0m\u001b[0mJSON\u001b[0m\u001b[0;34m,\u001b[0m \u001b[0;34m'people'\u001b[0m\u001b[0;34m,\u001b[0m \u001b[0;34m'assay'\u001b[0m\u001b[0;34m)\u001b[0m\u001b[0;34m\u001b[0m\u001b[0m\n\u001b[0;32m---> 58\u001b[0;31m     \u001b[0mrelationsFormat\u001b[0m\u001b[0;34m(\u001b[0m\u001b[0mJSON\u001b[0m\u001b[0;34m,\u001b[0m \u001b[0;34m'projects'\u001b[0m\u001b[0;34m,\u001b[0m \u001b[0;34m'assay'\u001b[0m\u001b[0;34m)\u001b[0m\u001b[0;34m\u001b[0m\u001b[0m\n\u001b[0m\u001b[1;32m     59\u001b[0m     \u001b[0mrelationsFormat\u001b[0m\u001b[0;34m(\u001b[0m\u001b[0mJSON\u001b[0m\u001b[0;34m,\u001b[0m \u001b[0;34m'publications'\u001b[0m\u001b[0;34m,\u001b[0m \u001b[0;34m'assay'\u001b[0m\u001b[0;34m)\u001b[0m\u001b[0;34m\u001b[0m\u001b[0m\n\u001b[1;32m     60\u001b[0m     \u001b[0mrelationsFormat\u001b[0m\u001b[0;34m(\u001b[0m\u001b[0mJSON\u001b[0m\u001b[0;34m,\u001b[0m \u001b[0;34m'sops'\u001b[0m\u001b[0;34m,\u001b[0m \u001b[0;34m'assay'\u001b[0m\u001b[0;34m)\u001b[0m\u001b[0;34m\u001b[0m\u001b[0m\n",
         "\u001b[0;32m~/Work/ThirdYear/Seek/TheSeekNotebook/Helper.py\u001b[0m in \u001b[0;36mrelationsFormat\u001b[0;34m(JSON, type, source)\u001b[0m\n\u001b[1;32m      6\u001b[0m     \u001b[0;32mfor\u001b[0m \u001b[0mindex\u001b[0m \u001b[0;32min\u001b[0m \u001b[0mrange\u001b[0m\u001b[0;34m(\u001b[0m\u001b[0;36m1\u001b[0m\u001b[0;34m,\u001b[0m \u001b[0mnumberOfRelations\u001b[0m \u001b[0;34m+\u001b[0m \u001b[0;36m1\u001b[0m\u001b[0;34m)\u001b[0m\u001b[0;34m:\u001b[0m\u001b[0;34m\u001b[0m\u001b[0m\n\u001b[1;32m      7\u001b[0m \u001b[0;34m\u001b[0m\u001b[0m\n\u001b[0;32m----> 8\u001b[0;31m         \u001b[0mid\u001b[0m \u001b[0;34m=\u001b[0m \u001b[0mint\u001b[0m\u001b[0;34m(\u001b[0m\u001b[0minput\u001b[0m\u001b[0;34m(\u001b[0m\u001b[0;34m'Please specify the id of the '\u001b[0m \u001b[0;34m+\u001b[0m \u001b[0mtype\u001b[0m\u001b[0;34m[\u001b[0m\u001b[0;34m:\u001b[0m\u001b[0;34m-\u001b[0m\u001b[0;36m1\u001b[0m\u001b[0;34m]\u001b[0m \u001b[0;34m+\u001b[0m \u001b[0;34m' number '\u001b[0m \u001b[0;34m+\u001b[0m \u001b[0mstr\u001b[0m\u001b[0;34m(\u001b[0m\u001b[0mindex\u001b[0m\u001b[0;34m)\u001b[0m \u001b[0;34m+\u001b[0m \u001b[0;34m': '\u001b[0m\u001b[0;34m)\u001b[0m\u001b[0;34m)\u001b[0m\u001b[0;34m\u001b[0m\u001b[0m\n\u001b[0m\u001b[1;32m      9\u001b[0m         \u001b[0mJSON\u001b[0m\u001b[0;34m[\u001b[0m\u001b[0;34m'data'\u001b[0m\u001b[0;34m]\u001b[0m\u001b[0;34m[\u001b[0m\u001b[0;34m'relationships'\u001b[0m\u001b[0;34m]\u001b[0m\u001b[0;34m[\u001b[0m\u001b[0mtype\u001b[0m\u001b[0;34m]\u001b[0m\u001b[0;34m[\u001b[0m\u001b[0;34m'data'\u001b[0m\u001b[0;34m]\u001b[0m\u001b[0;34m.\u001b[0m\u001b[0mpop\u001b[0m\u001b[0;34m(\u001b[0m\u001b[0;36m0\u001b[0m\u001b[0;34m)\u001b[0m\u001b[0;34m\u001b[0m\u001b[0m\n\u001b[1;32m     10\u001b[0m         \u001b[0mJSON\u001b[0m\u001b[0;34m[\u001b[0m\u001b[0;34m'data'\u001b[0m\u001b[0;34m]\u001b[0m\u001b[0;34m[\u001b[0m\u001b[0;34m'relationships'\u001b[0m\u001b[0;34m]\u001b[0m\u001b[0;34m[\u001b[0m\u001b[0mtype\u001b[0m\u001b[0;34m]\u001b[0m\u001b[0;34m[\u001b[0m\u001b[0;34m'data'\u001b[0m\u001b[0;34m]\u001b[0m\u001b[0;34m.\u001b[0m\u001b[0mappend\u001b[0m\u001b[0;34m(\u001b[0m\u001b[0;34m{\u001b[0m\u001b[0;34m'id'\u001b[0m \u001b[0;34m:\u001b[0m \u001b[0mid\u001b[0m\u001b[0;34m,\u001b[0m \u001b[0;34m'type'\u001b[0m \u001b[0;34m:\u001b[0m \u001b[0mtype\u001b[0m\u001b[0;34m}\u001b[0m\u001b[0;34m)\u001b[0m\u001b[0;34m\u001b[0m\u001b[0m\n",
         "\u001b[0;31mValueError\u001b[0m: invalid literal for int() with base 10: ''"
        ]
       }
      ],
      "source": "from WriteObject import WriteObject\n\nWO = WriteObject()\n\nWO.SEEKForm()",
      "start_time": "2019-03-15T16:26:36.027Z"
     },
     {
      "end_time": "2019-03-15T16:28:26.224Z",
      "execution_time": "1m 8.83s",
      "outputs": [
       {
        "data": {
         "text/html": "<h3>SEEK FORM</h3>",
         "text/plain": "<IPython.core.display.HTML object>"
        },
        "metadata": {},
        "output_type": "display_data",
        "transient": {}
       },
       {
        "name": "stdout",
        "output_type": "stream",
        "text": "\nThe type of object you want to upload to SEEK: assays\n\nYou need to complete the following form in order to succesfully upload your information to SEEK\nPlease specify the description: Description\nPlease specify other creators: \nPlease specify the title: Title\nPlease specify the assay class description: test\nPlease specify the assay class key: test\nPlease specify the assay class title: test\nPlease specify the assay type label: test\nPlease specify the assay type uri: test\nPlease specify the technology type label: test\nPlease specify the technology type uri: test\nPlease specify how many creators is this assay related to: 1\nPlease specify the id of the creator number 1: 373\nPlease specify how many data_files is this assay related to: 0\nPlease specify how many documents is this assay related to: 0\nPlease specify the id of the investigation: \nPlease specify how many models is this assay related to: 0\nPlease specify how many people is this assay related to: 1\nPlease specify the id of the peopl number 1: 373\nPlease specify how many projects is this assay related to: 1\nPlease specify the id of the project number 1: 50\nPlease specify how many publications is this assay related to: 0\nPlease specify how many sops is this assay related to: 0\nPlease specify the id of the studie: \nPlease specify how many submitters is this assay related to: 0\n{'data': {'type': 'assays', 'attributes': {'description': 'Description', 'other_creators': '', 'title': 'Title', 'assay_class': {'description': 'test', 'key': 'test', 'title': 'test'}, 'assay_type': {'label': 'test', 'uri': 'test'}, 'technology_type': {'label': 'test', 'uri': 'test'}}, 'relationships': {'creators': {'data': [{'id': 373, 'type': 'creators'}]}, 'data_files': {'data': [{}]}, 'documents': {'data': [{}]}, 'models': {'data': [{}]}, 'people': {'data': [{'id': 373, 'type': 'people'}]}, 'projects': {'data': [{'id': 50, 'type': 'projects'}]}, 'publications': {'data': [{}]}, 'sops': {'data': [{}]}, 'submitters': {'data': [{}]}}}}\n"
       }
      ],
      "source": "from WriteObject import WriteObject\n\nWO = WriteObject()\n\nWO.SEEKForm()",
      "start_time": "2019-03-15T16:27:17.390Z"
     },
     {
      "end_time": "2019-03-15T16:32:04.789Z",
      "execution_time": "33.5s",
      "outputs": [
       {
        "data": {
         "text/html": "<h3>SEEK FORM</h3>",
         "text/plain": "<IPython.core.display.HTML object>"
        },
        "metadata": {},
        "output_type": "display_data",
        "transient": {}
       },
       {
        "name": "stdout",
        "output_type": "stream",
        "text": "\nThe type of object you want to upload to SEEK: assays\n\nYou need to complete the following form in order to succesfully upload your information to SEEK\nPlease specify the description: test\nPlease specify other creators: \nPlease specify the title: test\nPlease specify the assay class description: test\nPlease specify the assay class key: test\nPlease specify the assay class title: test\nPlease specify the assay type label: test\nPlease specify the assay type uri: test\nPlease specify the technology type label: test\nPlease specify the technology type uri: test\nPlease specify how many creators is this assay related to: 1\nPlease specify the id of the creator number 1: 373\nPlease specify how many data_files is this assay related to: 0\nPlease specify how many documents is this assay related to: 0\nPlease specify the id of the investigation: \nPlease specify how many models is this assay related to: 0\nPlease specify how many people is this assay related to: 0\nPlease specify how many projects is this assay related to: 1\nPlease specify the id of the project number 1: 50\nPlease specify how many publications is this assay related to: 0\nPlease specify how many sops is this assay related to: 0\nPlease specify the id of the studie: \nPlease specify how many submitters is this assay related to: 0\n{'data': {'type': 'assays', 'attributes': {'description': 'test', 'other_creators': '', 'title': 'test', 'assay_class': {'description': 'test', 'key': 'test', 'title': 'test'}, 'assay_type': {'label': 'test', 'uri': 'test'}, 'technology_type': {'label': 'test', 'uri': 'test'}}, 'relationships': {'creators': {'data': [{'id': 373, 'type': 'creators'}]}, 'data_files': {'data': [{}]}, 'documents': {'data': [{}]}, 'models': {'data': [{}]}, 'people': {'data': [{}]}, 'projects': {'data': [{'id': 50, 'type': 'projects'}]}, 'publications': {'data': [{}]}, 'sops': {'data': [{}]}, 'submitters': {'data': [{}]}}}}\n"
       }
      ],
      "source": "from WriteObject import WriteObject\n\nWO = WriteObject()\n\nWO.SEEKForm()",
      "start_time": "2019-03-15T16:31:31.335Z"
     },
     {
      "end_time": "2019-03-15T16:34:00.225Z",
      "execution_time": "30.9s",
      "outputs": [
       {
        "data": {
         "text/html": "<h3>SEEK FORM</h3>",
         "text/plain": "<IPython.core.display.HTML object>"
        },
        "metadata": {},
        "output_type": "display_data",
        "transient": {}
       },
       {
        "name": "stdout",
        "output_type": "stream",
        "text": "\nThe type of object you want to upload to SEEK: assays\n\nYou need to complete the following form in order to succesfully upload your information to SEEK\nPlease specify the description: test\nPlease specify other creators: \nPlease specify the title: test\nPlease specify the assay class description: test\nPlease specify the assay class key: test\nPlease specify the assay class title: test\nPlease specify the assay type label: test\nPlease specify the assay type uri: test\nPlease specify the technology type label: test\nPlease specify the technology type uri: test\nPlease specify how many creators is this assay related to: 1\nPlease specify the id of the creator number 1: 373\nPlease specify how many data_files is this assay related to: 0\nPlease specify how many documents is this assay related to: 0\nPlease specify the id of the investigation: \nPlease specify how many models is this assay related to: 0\nPlease specify how many people is this assay related to: 0\nPlease specify how many projects is this assay related to: 1\nPlease specify the id of the project number 1: 50\nPlease specify how many publications is this assay related to: 0\nPlease specify how many sops is this assay related to: 0\nPlease specify the id of the studie: 0\n"
       },
       {
        "ename": "KeyError",
        "evalue": "'studies'",
        "output_type": "error",
        "traceback": [
         "\u001b[0;31m---------------------------------------------------------------------------\u001b[0m",
         "\u001b[0;31mKeyError\u001b[0m                                  Traceback (most recent call last)",
         "\u001b[0;32m<ipython-input-1-cd480b0c800a>\u001b[0m in \u001b[0;36m<module>\u001b[0;34m()\u001b[0m\n\u001b[1;32m      3\u001b[0m \u001b[0mWO\u001b[0m \u001b[0;34m=\u001b[0m \u001b[0mWriteObject\u001b[0m\u001b[0;34m(\u001b[0m\u001b[0;34m)\u001b[0m\u001b[0;34m\u001b[0m\u001b[0m\n\u001b[1;32m      4\u001b[0m \u001b[0;34m\u001b[0m\u001b[0m\n\u001b[0;32m----> 5\u001b[0;31m \u001b[0mWO\u001b[0m\u001b[0;34m.\u001b[0m\u001b[0mSEEKForm\u001b[0m\u001b[0;34m(\u001b[0m\u001b[0;34m)\u001b[0m\u001b[0;34m\u001b[0m\u001b[0m\n\u001b[0m",
         "\u001b[0;32m~/Work/ThirdYear/Seek/TheSeekNotebook/WriteObject.py\u001b[0m in \u001b[0;36mSEEKForm\u001b[0;34m(self)\u001b[0m\n\u001b[1;32m     31\u001b[0m \u001b[0;34m\u001b[0m\u001b[0m\n\u001b[1;32m     32\u001b[0m         \u001b[0;32mif\u001b[0m \u001b[0mself\u001b[0m\u001b[0;34m.\u001b[0m\u001b[0mtype\u001b[0m \u001b[0;34m==\u001b[0m \u001b[0;34m'assays'\u001b[0m\u001b[0;34m:\u001b[0m\u001b[0;34m\u001b[0m\u001b[0m\n\u001b[0;32m---> 33\u001b[0;31m             \u001b[0mself\u001b[0m\u001b[0;34m.\u001b[0m\u001b[0mJSON\u001b[0m \u001b[0;34m=\u001b[0m \u001b[0mHelper\u001b[0m\u001b[0;34m.\u001b[0m\u001b[0massayFormat\u001b[0m\u001b[0;34m(\u001b[0m\u001b[0;34m)\u001b[0m\u001b[0;34m\u001b[0m\u001b[0m\n\u001b[0m\u001b[1;32m     34\u001b[0m         \u001b[0;32melif\u001b[0m \u001b[0mself\u001b[0m\u001b[0;34m.\u001b[0m\u001b[0mtype\u001b[0m \u001b[0;34m==\u001b[0m \u001b[0;34m'investigations'\u001b[0m\u001b[0;34m:\u001b[0m\u001b[0;34m\u001b[0m\u001b[0m\n\u001b[1;32m     35\u001b[0m             \u001b[0mself\u001b[0m\u001b[0;34m.\u001b[0m\u001b[0mJSON\u001b[0m \u001b[0;34m=\u001b[0m \u001b[0mHelper\u001b[0m\u001b[0;34m.\u001b[0m\u001b[0minvestigationFormat\u001b[0m\u001b[0;34m(\u001b[0m\u001b[0;34m)\u001b[0m\u001b[0;34m\u001b[0m\u001b[0m\n",
         "\u001b[0;32m~/Work/ThirdYear/Seek/TheSeekNotebook/Helper.py\u001b[0m in \u001b[0;36massayFormat\u001b[0;34m()\u001b[0m\n\u001b[1;32m     61\u001b[0m     \u001b[0mrelationsFormat\u001b[0m\u001b[0;34m(\u001b[0m\u001b[0mJSON\u001b[0m\u001b[0;34m,\u001b[0m \u001b[0;34m'publications'\u001b[0m\u001b[0;34m,\u001b[0m \u001b[0;34m'assay'\u001b[0m\u001b[0;34m)\u001b[0m\u001b[0;34m\u001b[0m\u001b[0m\n\u001b[1;32m     62\u001b[0m     \u001b[0mrelationsFormat\u001b[0m\u001b[0;34m(\u001b[0m\u001b[0mJSON\u001b[0m\u001b[0;34m,\u001b[0m \u001b[0;34m'sops'\u001b[0m\u001b[0;34m,\u001b[0m \u001b[0;34m'assay'\u001b[0m\u001b[0;34m)\u001b[0m\u001b[0;34m\u001b[0m\u001b[0m\n\u001b[0;32m---> 63\u001b[0;31m     \u001b[0mrelationFormat\u001b[0m\u001b[0;34m(\u001b[0m\u001b[0mJSON\u001b[0m\u001b[0;34m,\u001b[0m \u001b[0;34m'studies'\u001b[0m\u001b[0;34m)\u001b[0m\u001b[0;34m\u001b[0m\u001b[0m\n\u001b[0m\u001b[1;32m     64\u001b[0m     \u001b[0mrelationsFormat\u001b[0m\u001b[0;34m(\u001b[0m\u001b[0mJSON\u001b[0m\u001b[0;34m,\u001b[0m \u001b[0;34m'submitters'\u001b[0m\u001b[0;34m,\u001b[0m \u001b[0;34m'assay'\u001b[0m\u001b[0;34m)\u001b[0m\u001b[0;34m\u001b[0m\u001b[0m\n\u001b[1;32m     65\u001b[0m \u001b[0;34m\u001b[0m\u001b[0m\n",
         "\u001b[0;32m~/Work/ThirdYear/Seek/TheSeekNotebook/Helper.py\u001b[0m in \u001b[0;36mrelationFormat\u001b[0;34m(JSON, type)\u001b[0m\n\u001b[1;32m     18\u001b[0m     \u001b[0mid\u001b[0m \u001b[0;34m=\u001b[0m \u001b[0minput\u001b[0m\u001b[0;34m(\u001b[0m\u001b[0;34m'Please specify the id of the '\u001b[0m \u001b[0;34m+\u001b[0m \u001b[0mtype\u001b[0m\u001b[0;34m[\u001b[0m\u001b[0;34m:\u001b[0m\u001b[0;34m-\u001b[0m\u001b[0;36m1\u001b[0m\u001b[0;34m]\u001b[0m \u001b[0;34m+\u001b[0m \u001b[0;34m\": \"\u001b[0m\u001b[0;34m)\u001b[0m\u001b[0;34m\u001b[0m\u001b[0m\n\u001b[1;32m     19\u001b[0m     \u001b[0;32mif\u001b[0m \u001b[0mid\u001b[0m \u001b[0;34m!=\u001b[0m \u001b[0;34m''\u001b[0m\u001b[0;34m:\u001b[0m\u001b[0;34m\u001b[0m\u001b[0m\n\u001b[0;32m---> 20\u001b[0;31m         \u001b[0mJSON\u001b[0m\u001b[0;34m[\u001b[0m\u001b[0;34m'data'\u001b[0m\u001b[0;34m]\u001b[0m\u001b[0;34m[\u001b[0m\u001b[0;34m'relationships'\u001b[0m\u001b[0;34m]\u001b[0m\u001b[0;34m[\u001b[0m\u001b[0mtype\u001b[0m\u001b[0;34m]\u001b[0m\u001b[0;34m[\u001b[0m\u001b[0;34m'data'\u001b[0m\u001b[0;34m]\u001b[0m \u001b[0;34m=\u001b[0m \u001b[0;34m{\u001b[0m\u001b[0;34m'id'\u001b[0m \u001b[0;34m:\u001b[0m \u001b[0mint\u001b[0m\u001b[0;34m(\u001b[0m\u001b[0mid\u001b[0m\u001b[0;34m)\u001b[0m\u001b[0;34m,\u001b[0m \u001b[0;34m'type'\u001b[0m \u001b[0;34m:\u001b[0m \u001b[0mtype\u001b[0m\u001b[0;34m}\u001b[0m\u001b[0;34m\u001b[0m\u001b[0m\n\u001b[0m\u001b[1;32m     21\u001b[0m \u001b[0;34m\u001b[0m\u001b[0m\n\u001b[1;32m     22\u001b[0m \u001b[0;32mdef\u001b[0m \u001b[0massayFormat\u001b[0m\u001b[0;34m(\u001b[0m\u001b[0;34m)\u001b[0m\u001b[0;34m:\u001b[0m\u001b[0;34m\u001b[0m\u001b[0m\n",
         "\u001b[0;31mKeyError\u001b[0m: 'studies'"
        ]
       }
      ],
      "source": "from WriteObject import WriteObject\n\nWO = WriteObject()\n\nWO.SEEKForm()",
      "start_time": "2019-03-15T16:33:29.346Z"
     },
     {
      "end_time": "2019-03-15T16:34:45.624Z",
      "execution_time": "43.9s",
      "outputs": [
       {
        "data": {
         "text/html": "<h3>SEEK FORM</h3>",
         "text/plain": "<IPython.core.display.HTML object>"
        },
        "metadata": {},
        "output_type": "display_data",
        "transient": {}
       },
       {
        "name": "stdout",
        "output_type": "stream",
        "text": "\nThe type of object you want to upload to SEEK: assays\n\nYou need to complete the following form in order to succesfully upload your information to SEEK\nPlease specify the description: test\nPlease specify other creators: \nPlease specify the title: test\nPlease specify the assay class description: test\nPlease specify the assay class key: test\nPlease specify the assay class title: test\nPlease specify the assay type label: test\nPlease specify the assay type uri: test\nPlease specify the technology type label: test\nPlease specify the technology type uri: test\nPlease specify how many creators is this assay related to: 1\nPlease specify the id of the creator number 1: 373\nPlease specify how many data_files is this assay related to: 0\nPlease specify how many documents is this assay related to: 0\nPlease specify the id of the investigation: \nPlease specify how many models is this assay related to: 0\nPlease specify how many people is this assay related to: 0\nPlease specify how many projects is this assay related to: 1\nPlease specify the id of the project number 1: 50\nPlease specify how many publications is this assay related to: 0\nPlease specify how many sops is this assay related to: 0\nPlease specify the id of the studie: \nPlease specify how many submitters is this assay related to: 0\n{'data': {'type': 'assays', 'attributes': {'description': 'test', 'other_creators': '', 'title': 'test', 'assay_class': {'description': 'test', 'key': 'test', 'title': 'test'}, 'assay_type': {'label': 'test', 'uri': 'test'}, 'technology_type': {'label': 'test', 'uri': 'test'}}, 'relationships': {'creators': {'data': [{'id': 373, 'type': 'creators'}]}, 'projects': {'data': [{'id': 50, 'type': 'projects'}]}}}}\n"
       }
      ],
      "source": "from WriteObject import WriteObject\n\nWO = WriteObject()\n\nWO.SEEKForm()",
      "start_time": "2019-03-15T16:34:01.753Z"
     },
     {
      "end_time": "2019-03-16T11:56:43.099Z",
      "execution_time": "19h 22m 41s",
      "outputs": [],
      "source": "from WriteObject import WriteObject\n\nWO = WriteObject()\n\nWO.SEEKForm()",
      "start_time": "2019-03-15T16:34:01.753Z"
     },
     {
      "end_time": "2019-03-16T12:01:35.840Z",
      "execution_time": "4m 51s",
      "outputs": [
       {
        "data": {
         "text/html": "<h3>SEEK FORM</h3>",
         "text/plain": "<IPython.core.display.HTML object>"
        },
        "metadata": {},
        "output_type": "display_data",
        "transient": {}
       },
       {
        "name": "stdout",
        "output_type": "stream",
        "text": "\nThe type of object you want to upload to SEEK: assays\n\nYou need to complete the following form in order to succesfully upload your information to SEEK\nPlease specify the description: asda\nPlease specify other creators: asda\nPlease specify the title: dasda\nPlease specify the assay class description: asda\nPlease specify the assay class key: dasd\nPlease specify the assay class title: asd\nPlease specify the assay type label: asd\nPlease specify the assay type uri: asd\nPlease specify the technology type label: asd\nPlease specify the technology type uri: asd\nPlease specify how many creators is this assay related to: 1\nPlease specify the id of the creator number 1: 373\nPlease specify how many data_files is this assay related to: 0\nPlease specify how many documents is this assay related to: 0\nPlease specify the id of the investigation: \nPlease specify how many models is this assay related to: 0\nPlease specify how many people is this assay related to: 0\nPlease specify how many projects is this assay related to: 0\nPlease specify how many publications is this assay related to: 0\nPlease specify how many sops is this assay related to: 0\nPlease specify the id of the studie: 0\n"
       },
       {
        "ename": "KeyError",
        "evalue": "'studies'",
        "output_type": "error",
        "traceback": [
         "\u001b[0;31m---------------------------------------------------------------------------\u001b[0m",
         "\u001b[0;31mKeyError\u001b[0m                                  Traceback (most recent call last)",
         "\u001b[0;32m<ipython-input-2-cd480b0c800a>\u001b[0m in \u001b[0;36m<module>\u001b[0;34m()\u001b[0m\n\u001b[1;32m      3\u001b[0m \u001b[0mWO\u001b[0m \u001b[0;34m=\u001b[0m \u001b[0mWriteObject\u001b[0m\u001b[0;34m(\u001b[0m\u001b[0;34m)\u001b[0m\u001b[0;34m\u001b[0m\u001b[0m\n\u001b[1;32m      4\u001b[0m \u001b[0;34m\u001b[0m\u001b[0m\n\u001b[0;32m----> 5\u001b[0;31m \u001b[0mWO\u001b[0m\u001b[0;34m.\u001b[0m\u001b[0mSEEKForm\u001b[0m\u001b[0;34m(\u001b[0m\u001b[0;34m)\u001b[0m\u001b[0;34m\u001b[0m\u001b[0m\n\u001b[0m",
         "\u001b[0;32m~/Work/ThirdYear/Seek/TheSeekNotebook/WriteObject.py\u001b[0m in \u001b[0;36mSEEKForm\u001b[0;34m(self)\u001b[0m\n\u001b[1;32m     31\u001b[0m \u001b[0;34m\u001b[0m\u001b[0m\n\u001b[1;32m     32\u001b[0m         \u001b[0;32mif\u001b[0m \u001b[0mself\u001b[0m\u001b[0;34m.\u001b[0m\u001b[0mtype\u001b[0m \u001b[0;34m==\u001b[0m \u001b[0;34m'assays'\u001b[0m\u001b[0;34m:\u001b[0m\u001b[0;34m\u001b[0m\u001b[0m\n\u001b[0;32m---> 33\u001b[0;31m             \u001b[0mself\u001b[0m\u001b[0;34m.\u001b[0m\u001b[0mJSON\u001b[0m \u001b[0;34m=\u001b[0m \u001b[0mHelper\u001b[0m\u001b[0;34m.\u001b[0m\u001b[0massayFormat\u001b[0m\u001b[0;34m(\u001b[0m\u001b[0;34m)\u001b[0m\u001b[0;34m\u001b[0m\u001b[0m\n\u001b[0m\u001b[1;32m     34\u001b[0m         \u001b[0;32melif\u001b[0m \u001b[0mself\u001b[0m\u001b[0;34m.\u001b[0m\u001b[0mtype\u001b[0m \u001b[0;34m==\u001b[0m \u001b[0;34m'investigations'\u001b[0m\u001b[0;34m:\u001b[0m\u001b[0;34m\u001b[0m\u001b[0m\n\u001b[1;32m     35\u001b[0m             \u001b[0mself\u001b[0m\u001b[0;34m.\u001b[0m\u001b[0mJSON\u001b[0m \u001b[0;34m=\u001b[0m \u001b[0mHelper\u001b[0m\u001b[0;34m.\u001b[0m\u001b[0minvestigationFormat\u001b[0m\u001b[0;34m(\u001b[0m\u001b[0;34m)\u001b[0m\u001b[0;34m\u001b[0m\u001b[0m\n",
         "\u001b[0;32m~/Work/ThirdYear/Seek/TheSeekNotebook/Helper.py\u001b[0m in \u001b[0;36massayFormat\u001b[0;34m()\u001b[0m\n\u001b[1;32m     61\u001b[0m     \u001b[0mrelationsFormat\u001b[0m\u001b[0;34m(\u001b[0m\u001b[0mJSON\u001b[0m\u001b[0;34m,\u001b[0m \u001b[0;34m'publications'\u001b[0m\u001b[0;34m,\u001b[0m \u001b[0;34m'assay'\u001b[0m\u001b[0;34m)\u001b[0m\u001b[0;34m\u001b[0m\u001b[0m\n\u001b[1;32m     62\u001b[0m     \u001b[0mrelationsFormat\u001b[0m\u001b[0;34m(\u001b[0m\u001b[0mJSON\u001b[0m\u001b[0;34m,\u001b[0m \u001b[0;34m'sops'\u001b[0m\u001b[0;34m,\u001b[0m \u001b[0;34m'assay'\u001b[0m\u001b[0;34m)\u001b[0m\u001b[0;34m\u001b[0m\u001b[0m\n\u001b[0;32m---> 63\u001b[0;31m     \u001b[0mrelationFormat\u001b[0m\u001b[0;34m(\u001b[0m\u001b[0mJSON\u001b[0m\u001b[0;34m,\u001b[0m \u001b[0;34m'studies'\u001b[0m\u001b[0;34m)\u001b[0m\u001b[0;34m\u001b[0m\u001b[0m\n\u001b[0m\u001b[1;32m     64\u001b[0m     \u001b[0mrelationsFormat\u001b[0m\u001b[0;34m(\u001b[0m\u001b[0mJSON\u001b[0m\u001b[0;34m,\u001b[0m \u001b[0;34m'submitters'\u001b[0m\u001b[0;34m,\u001b[0m \u001b[0;34m'assay'\u001b[0m\u001b[0;34m)\u001b[0m\u001b[0;34m\u001b[0m\u001b[0m\n\u001b[1;32m     65\u001b[0m \u001b[0;34m\u001b[0m\u001b[0m\n",
         "\u001b[0;32m~/Work/ThirdYear/Seek/TheSeekNotebook/Helper.py\u001b[0m in \u001b[0;36mrelationFormat\u001b[0;34m(JSON, type)\u001b[0m\n\u001b[1;32m     18\u001b[0m     \u001b[0mid\u001b[0m \u001b[0;34m=\u001b[0m \u001b[0minput\u001b[0m\u001b[0;34m(\u001b[0m\u001b[0;34m'Please specify the id of the '\u001b[0m \u001b[0;34m+\u001b[0m \u001b[0mtype\u001b[0m\u001b[0;34m[\u001b[0m\u001b[0;34m:\u001b[0m\u001b[0;34m-\u001b[0m\u001b[0;36m1\u001b[0m\u001b[0;34m]\u001b[0m \u001b[0;34m+\u001b[0m \u001b[0;34m\": \"\u001b[0m\u001b[0;34m)\u001b[0m\u001b[0;34m\u001b[0m\u001b[0m\n\u001b[1;32m     19\u001b[0m     \u001b[0;32mif\u001b[0m \u001b[0mid\u001b[0m \u001b[0;34m!=\u001b[0m \u001b[0;34m''\u001b[0m\u001b[0;34m:\u001b[0m\u001b[0;34m\u001b[0m\u001b[0m\n\u001b[0;32m---> 20\u001b[0;31m         \u001b[0mJSON\u001b[0m\u001b[0;34m[\u001b[0m\u001b[0;34m'data'\u001b[0m\u001b[0;34m]\u001b[0m\u001b[0;34m[\u001b[0m\u001b[0;34m'relationships'\u001b[0m\u001b[0;34m]\u001b[0m\u001b[0;34m[\u001b[0m\u001b[0mtype\u001b[0m\u001b[0;34m]\u001b[0m\u001b[0;34m[\u001b[0m\u001b[0;34m'data'\u001b[0m\u001b[0;34m]\u001b[0m \u001b[0;34m=\u001b[0m \u001b[0;34m{\u001b[0m\u001b[0;34m'id'\u001b[0m \u001b[0;34m:\u001b[0m \u001b[0mint\u001b[0m\u001b[0;34m(\u001b[0m\u001b[0mid\u001b[0m\u001b[0;34m)\u001b[0m\u001b[0;34m,\u001b[0m \u001b[0;34m'type'\u001b[0m \u001b[0;34m:\u001b[0m \u001b[0mtype\u001b[0m\u001b[0;34m}\u001b[0m\u001b[0;34m\u001b[0m\u001b[0m\n\u001b[0m\u001b[1;32m     21\u001b[0m \u001b[0;34m\u001b[0m\u001b[0m\n\u001b[1;32m     22\u001b[0m \u001b[0;32mdef\u001b[0m \u001b[0massayFormat\u001b[0m\u001b[0;34m(\u001b[0m\u001b[0;34m)\u001b[0m\u001b[0;34m:\u001b[0m\u001b[0;34m\u001b[0m\u001b[0m\n",
         "\u001b[0;31mKeyError\u001b[0m: 'studies'"
        ]
       }
      ],
      "source": "from WriteObject import WriteObject\n\nWO = WriteObject()\n\nWO.SEEKForm()",
      "start_time": "2019-03-16T11:56:45.012Z"
     },
     {
      "end_time": "2019-03-16T12:59:49.136Z",
      "execution_time": "16.2s",
      "outputs": [
       {
        "data": {
         "text/html": "<h3>SEEK FORM</h3>",
         "text/plain": "<IPython.core.display.HTML object>"
        },
        "metadata": {},
        "output_type": "display_data",
        "transient": {}
       },
       {
        "name": "stdout",
        "output_type": "stream",
        "text": "\nThe type of object you want to upload to SEEK: assays\n\nYou need to complete the following form in order to succesfully upload your information to SEEK\nPlease specify the description: a\nPlease specify other creators: a\nPlease specify the title: a\nPlease specify the assay class description: a\nPlease specify the assay class title(Experimental assay / Modelling Analysis): a\nPlease specify the assay type label: a\nPlease specify the assay type uri: a\nPlease specify the technology type label: a\nPlease specify the technology type uri: a\nPlease specify how many creators is this assay related to: a\n"
       },
       {
        "ename": "ValueError",
        "evalue": "invalid literal for int() with base 10: 'a'",
        "output_type": "error",
        "traceback": [
         "\u001b[0;31m---------------------------------------------------------------------------\u001b[0m",
         "\u001b[0;31mValueError\u001b[0m                                Traceback (most recent call last)",
         "\u001b[0;32m<ipython-input-1-cd480b0c800a>\u001b[0m in \u001b[0;36m<module>\u001b[0;34m()\u001b[0m\n\u001b[1;32m      3\u001b[0m \u001b[0mWO\u001b[0m \u001b[0;34m=\u001b[0m \u001b[0mWriteObject\u001b[0m\u001b[0;34m(\u001b[0m\u001b[0;34m)\u001b[0m\u001b[0;34m\u001b[0m\u001b[0m\n\u001b[1;32m      4\u001b[0m \u001b[0;34m\u001b[0m\u001b[0m\n\u001b[0;32m----> 5\u001b[0;31m \u001b[0mWO\u001b[0m\u001b[0;34m.\u001b[0m\u001b[0mSEEKForm\u001b[0m\u001b[0;34m(\u001b[0m\u001b[0;34m)\u001b[0m\u001b[0;34m\u001b[0m\u001b[0m\n\u001b[0m",
         "\u001b[0;32m~/Work/ThirdYear/Seek/TheSeekNotebook/WriteObject.py\u001b[0m in \u001b[0;36mSEEKForm\u001b[0;34m(self)\u001b[0m\n\u001b[1;32m     31\u001b[0m \u001b[0;34m\u001b[0m\u001b[0m\n\u001b[1;32m     32\u001b[0m         \u001b[0;32mif\u001b[0m \u001b[0mself\u001b[0m\u001b[0;34m.\u001b[0m\u001b[0mtype\u001b[0m \u001b[0;34m==\u001b[0m \u001b[0;34m'assays'\u001b[0m\u001b[0;34m:\u001b[0m\u001b[0;34m\u001b[0m\u001b[0m\n\u001b[0;32m---> 33\u001b[0;31m             \u001b[0mself\u001b[0m\u001b[0;34m.\u001b[0m\u001b[0mJSON\u001b[0m \u001b[0;34m=\u001b[0m \u001b[0mHelper\u001b[0m\u001b[0;34m.\u001b[0m\u001b[0massayFormat\u001b[0m\u001b[0;34m(\u001b[0m\u001b[0;34m)\u001b[0m\u001b[0;34m\u001b[0m\u001b[0m\n\u001b[0m\u001b[1;32m     34\u001b[0m         \u001b[0;32melif\u001b[0m \u001b[0mself\u001b[0m\u001b[0;34m.\u001b[0m\u001b[0mtype\u001b[0m \u001b[0;34m==\u001b[0m \u001b[0;34m'investigations'\u001b[0m\u001b[0;34m:\u001b[0m\u001b[0;34m\u001b[0m\u001b[0m\n\u001b[1;32m     35\u001b[0m             \u001b[0mself\u001b[0m\u001b[0;34m.\u001b[0m\u001b[0mJSON\u001b[0m \u001b[0;34m=\u001b[0m \u001b[0mHelper\u001b[0m\u001b[0;34m.\u001b[0m\u001b[0minvestigationFormat\u001b[0m\u001b[0;34m(\u001b[0m\u001b[0;34m)\u001b[0m\u001b[0;34m\u001b[0m\u001b[0m\n",
         "\u001b[0;32m~/Work/ThirdYear/Seek/TheSeekNotebook/Helper.py\u001b[0m in \u001b[0;36massayFormat\u001b[0;34m()\u001b[0m\n\u001b[1;32m     59\u001b[0m \u001b[0;34m\u001b[0m\u001b[0m\n\u001b[1;32m     60\u001b[0m \u001b[0;34m\u001b[0m\u001b[0m\n\u001b[0;32m---> 61\u001b[0;31m     \u001b[0mrelationsFormat\u001b[0m\u001b[0;34m(\u001b[0m\u001b[0mJSON\u001b[0m\u001b[0;34m,\u001b[0m \u001b[0;34m'creators'\u001b[0m\u001b[0;34m,\u001b[0m \u001b[0;34m'assay'\u001b[0m\u001b[0;34m)\u001b[0m\u001b[0;34m\u001b[0m\u001b[0m\n\u001b[0m\u001b[1;32m     62\u001b[0m     \u001b[0mrelationsFormat\u001b[0m\u001b[0;34m(\u001b[0m\u001b[0mJSON\u001b[0m\u001b[0;34m,\u001b[0m \u001b[0;34m'data_files'\u001b[0m\u001b[0;34m,\u001b[0m \u001b[0;34m'assay'\u001b[0m\u001b[0;34m)\u001b[0m\u001b[0;34m\u001b[0m\u001b[0m\n\u001b[1;32m     63\u001b[0m     \u001b[0mrelationsFormat\u001b[0m\u001b[0;34m(\u001b[0m\u001b[0mJSON\u001b[0m\u001b[0;34m,\u001b[0m \u001b[0;34m'documents'\u001b[0m\u001b[0;34m,\u001b[0m \u001b[0;34m'assay'\u001b[0m\u001b[0;34m)\u001b[0m\u001b[0;34m\u001b[0m\u001b[0m\n",
         "\u001b[0;32m~/Work/ThirdYear/Seek/TheSeekNotebook/Helper.py\u001b[0m in \u001b[0;36mrelationsFormat\u001b[0;34m(JSON, type, source)\u001b[0m\n\u001b[1;32m      2\u001b[0m \u001b[0;34m\u001b[0m\u001b[0m\n\u001b[1;32m      3\u001b[0m \u001b[0;32mdef\u001b[0m \u001b[0mrelationsFormat\u001b[0m\u001b[0;34m(\u001b[0m\u001b[0mJSON\u001b[0m\u001b[0;34m,\u001b[0m \u001b[0mtype\u001b[0m\u001b[0;34m,\u001b[0m \u001b[0msource\u001b[0m\u001b[0;34m)\u001b[0m\u001b[0;34m:\u001b[0m\u001b[0;34m\u001b[0m\u001b[0m\n\u001b[0;32m----> 4\u001b[0;31m     \u001b[0mnumberOfRelations\u001b[0m \u001b[0;34m=\u001b[0m \u001b[0mint\u001b[0m\u001b[0;34m(\u001b[0m\u001b[0minput\u001b[0m\u001b[0;34m(\u001b[0m\u001b[0;34m'Please specify how many '\u001b[0m \u001b[0;34m+\u001b[0m \u001b[0mtype\u001b[0m \u001b[0;34m+\u001b[0m \u001b[0;34m' is this '\u001b[0m \u001b[0;34m+\u001b[0m \u001b[0msource\u001b[0m \u001b[0;34m+\u001b[0m \u001b[0;34m' related to: '\u001b[0m\u001b[0;34m)\u001b[0m\u001b[0;34m)\u001b[0m\u001b[0;34m\u001b[0m\u001b[0m\n\u001b[0m\u001b[1;32m      5\u001b[0m \u001b[0;34m\u001b[0m\u001b[0m\n\u001b[1;32m      6\u001b[0m     \u001b[0;32mif\u001b[0m \u001b[0mnumberOfRelations\u001b[0m \u001b[0;34m!=\u001b[0m \u001b[0;36m0\u001b[0m\u001b[0;34m:\u001b[0m\u001b[0;34m\u001b[0m\u001b[0m\n",
         "\u001b[0;31mValueError\u001b[0m: invalid literal for int() with base 10: 'a'"
        ]
       }
      ],
      "source": "from WriteObject import WriteObject\n\nWO = WriteObject()\n\nWO.SEEKForm()",
      "start_time": "2019-03-16T12:59:32.972Z"
     },
     {
      "end_time": "2019-03-16T13:02:49.893Z",
      "execution_time": "4.82s",
      "outputs": [
       {
        "data": {
         "text/html": "<h3>SEEK FORM</h3>",
         "text/plain": "<IPython.core.display.HTML object>"
        },
        "metadata": {},
        "output_type": "display_data",
        "transient": {}
       },
       {
        "name": "stdout",
        "output_type": "stream",
        "text": "\nThe type of object you want to upload to SEEK: assays\n\nYou need to complete the following form in order to succesfully upload your information to SEEK\nPlease specify the description: a\nPlease specify other creators: a\nPlease specify the title: a\nPlease specify the assay class description: a\n"
       },
       {
        "ename": "AttributeError",
        "evalue": "'Select' object has no attribute 'display'",
        "output_type": "error",
        "traceback": [
         "\u001b[0;31m---------------------------------------------------------------------------\u001b[0m",
         "\u001b[0;31mAttributeError\u001b[0m                            Traceback (most recent call last)",
         "\u001b[0;32m<ipython-input-1-cd480b0c800a>\u001b[0m in \u001b[0;36m<module>\u001b[0;34m()\u001b[0m\n\u001b[1;32m      3\u001b[0m \u001b[0mWO\u001b[0m \u001b[0;34m=\u001b[0m \u001b[0mWriteObject\u001b[0m\u001b[0;34m(\u001b[0m\u001b[0;34m)\u001b[0m\u001b[0;34m\u001b[0m\u001b[0m\n\u001b[1;32m      4\u001b[0m \u001b[0;34m\u001b[0m\u001b[0m\n\u001b[0;32m----> 5\u001b[0;31m \u001b[0mWO\u001b[0m\u001b[0;34m.\u001b[0m\u001b[0mSEEKForm\u001b[0m\u001b[0;34m(\u001b[0m\u001b[0;34m)\u001b[0m\u001b[0;34m\u001b[0m\u001b[0m\n\u001b[0m",
         "\u001b[0;32m~/Work/ThirdYear/Seek/TheSeekNotebook/WriteObject.py\u001b[0m in \u001b[0;36mSEEKForm\u001b[0;34m(self)\u001b[0m\n\u001b[1;32m     31\u001b[0m \u001b[0;34m\u001b[0m\u001b[0m\n\u001b[1;32m     32\u001b[0m         \u001b[0;32mif\u001b[0m \u001b[0mself\u001b[0m\u001b[0;34m.\u001b[0m\u001b[0mtype\u001b[0m \u001b[0;34m==\u001b[0m \u001b[0;34m'assays'\u001b[0m\u001b[0;34m:\u001b[0m\u001b[0;34m\u001b[0m\u001b[0m\n\u001b[0;32m---> 33\u001b[0;31m             \u001b[0mself\u001b[0m\u001b[0;34m.\u001b[0m\u001b[0mJSON\u001b[0m \u001b[0;34m=\u001b[0m \u001b[0mHelper\u001b[0m\u001b[0;34m.\u001b[0m\u001b[0massayFormat\u001b[0m\u001b[0;34m(\u001b[0m\u001b[0;34m)\u001b[0m\u001b[0;34m\u001b[0m\u001b[0m\n\u001b[0m\u001b[1;32m     34\u001b[0m         \u001b[0;32melif\u001b[0m \u001b[0mself\u001b[0m\u001b[0;34m.\u001b[0m\u001b[0mtype\u001b[0m \u001b[0;34m==\u001b[0m \u001b[0;34m'investigations'\u001b[0m\u001b[0;34m:\u001b[0m\u001b[0;34m\u001b[0m\u001b[0m\n\u001b[1;32m     35\u001b[0m             \u001b[0mself\u001b[0m\u001b[0;34m.\u001b[0m\u001b[0mJSON\u001b[0m \u001b[0;34m=\u001b[0m \u001b[0mHelper\u001b[0m\u001b[0;34m.\u001b[0m\u001b[0minvestigationFormat\u001b[0m\u001b[0;34m(\u001b[0m\u001b[0;34m)\u001b[0m\u001b[0;34m\u001b[0m\u001b[0m\n",
         "\u001b[0;32m~/Work/ThirdYear/Seek/TheSeekNotebook/Helper.py\u001b[0m in \u001b[0;36massayFormat\u001b[0;34m()\u001b[0m\n\u001b[1;32m     42\u001b[0m                         disabled=False)\n\u001b[1;32m     43\u001b[0m \u001b[0;34m\u001b[0m\u001b[0m\n\u001b[0;32m---> 44\u001b[0;31m     \u001b[0mw\u001b[0m\u001b[0;34m.\u001b[0m\u001b[0mdisplay\u001b[0m\u001b[0;34m(\u001b[0m\u001b[0;34m)\u001b[0m\u001b[0;34m\u001b[0m\u001b[0m\n\u001b[0m\u001b[1;32m     45\u001b[0m     \u001b[0mJSON\u001b[0m\u001b[0;34m[\u001b[0m\u001b[0;34m'data'\u001b[0m\u001b[0;34m]\u001b[0m\u001b[0;34m[\u001b[0m\u001b[0;34m'attributes'\u001b[0m\u001b[0;34m]\u001b[0m\u001b[0;34m[\u001b[0m\u001b[0;34m'assay_class'\u001b[0m\u001b[0;34m]\u001b[0m\u001b[0;34m[\u001b[0m\u001b[0;34m'key'\u001b[0m\u001b[0;34m]\u001b[0m \u001b[0;34m=\u001b[0m \u001b[0mw\u001b[0m\u001b[0;34m.\u001b[0m\u001b[0mvalue\u001b[0m\u001b[0;34m\u001b[0m\u001b[0m\n\u001b[1;32m     46\u001b[0m         \u001b[0;31m# input('Please specify the assay class key(EXP / MODEL): ')\u001b[0m\u001b[0;34m\u001b[0m\u001b[0;34m\u001b[0m\u001b[0m\n",
         "\u001b[0;31mAttributeError\u001b[0m: 'Select' object has no attribute 'display'"
        ]
       }
      ],
      "source": "from WriteObject import WriteObject\n\nWO = WriteObject()\n\nWO.SEEKForm()",
      "start_time": "2019-03-16T13:02:45.074Z"
     },
     {
      "end_time": "2019-03-16T13:03:11.280Z",
      "execution_time": "5.44s",
      "outputs": [
       {
        "data": {
         "text/html": "<h3>SEEK FORM</h3>",
         "text/plain": "<IPython.core.display.HTML object>"
        },
        "metadata": {},
        "output_type": "display_data",
        "transient": {}
       },
       {
        "name": "stdout",
        "output_type": "stream",
        "text": "\nThe type of object you want to upload to SEEK: assays\n\nYou need to complete the following form in order to succesfully upload your information to SEEK\nPlease specify the description: a\nPlease specify other creators: a\nPlease specify the title: a\nPlease specify the assay class description: a\n"
       },
       {
        "ename": "AttributeError",
        "evalue": "'Select' object has no attribute 'display'",
        "output_type": "error",
        "traceback": [
         "\u001b[0;31m---------------------------------------------------------------------------\u001b[0m",
         "\u001b[0;31mAttributeError\u001b[0m                            Traceback (most recent call last)",
         "\u001b[0;32m<ipython-input-2-cd480b0c800a>\u001b[0m in \u001b[0;36m<module>\u001b[0;34m()\u001b[0m\n\u001b[1;32m      3\u001b[0m \u001b[0mWO\u001b[0m \u001b[0;34m=\u001b[0m \u001b[0mWriteObject\u001b[0m\u001b[0;34m(\u001b[0m\u001b[0;34m)\u001b[0m\u001b[0;34m\u001b[0m\u001b[0m\n\u001b[1;32m      4\u001b[0m \u001b[0;34m\u001b[0m\u001b[0m\n\u001b[0;32m----> 5\u001b[0;31m \u001b[0mWO\u001b[0m\u001b[0;34m.\u001b[0m\u001b[0mSEEKForm\u001b[0m\u001b[0;34m(\u001b[0m\u001b[0;34m)\u001b[0m\u001b[0;34m\u001b[0m\u001b[0m\n\u001b[0m",
         "\u001b[0;32m~/Work/ThirdYear/Seek/TheSeekNotebook/WriteObject.py\u001b[0m in \u001b[0;36mSEEKForm\u001b[0;34m(self)\u001b[0m\n\u001b[1;32m     31\u001b[0m \u001b[0;34m\u001b[0m\u001b[0m\n\u001b[1;32m     32\u001b[0m         \u001b[0;32mif\u001b[0m \u001b[0mself\u001b[0m\u001b[0;34m.\u001b[0m\u001b[0mtype\u001b[0m \u001b[0;34m==\u001b[0m \u001b[0;34m'assays'\u001b[0m\u001b[0;34m:\u001b[0m\u001b[0;34m\u001b[0m\u001b[0m\n\u001b[0;32m---> 33\u001b[0;31m             \u001b[0mself\u001b[0m\u001b[0;34m.\u001b[0m\u001b[0mJSON\u001b[0m \u001b[0;34m=\u001b[0m \u001b[0mHelper\u001b[0m\u001b[0;34m.\u001b[0m\u001b[0massayFormat\u001b[0m\u001b[0;34m(\u001b[0m\u001b[0;34m)\u001b[0m\u001b[0;34m\u001b[0m\u001b[0m\n\u001b[0m\u001b[1;32m     34\u001b[0m         \u001b[0;32melif\u001b[0m \u001b[0mself\u001b[0m\u001b[0;34m.\u001b[0m\u001b[0mtype\u001b[0m \u001b[0;34m==\u001b[0m \u001b[0;34m'investigations'\u001b[0m\u001b[0;34m:\u001b[0m\u001b[0;34m\u001b[0m\u001b[0m\n\u001b[1;32m     35\u001b[0m             \u001b[0mself\u001b[0m\u001b[0;34m.\u001b[0m\u001b[0mJSON\u001b[0m \u001b[0;34m=\u001b[0m \u001b[0mHelper\u001b[0m\u001b[0;34m.\u001b[0m\u001b[0minvestigationFormat\u001b[0m\u001b[0;34m(\u001b[0m\u001b[0;34m)\u001b[0m\u001b[0;34m\u001b[0m\u001b[0m\n",
         "\u001b[0;32m~/Work/ThirdYear/Seek/TheSeekNotebook/Helper.py\u001b[0m in \u001b[0;36massayFormat\u001b[0;34m()\u001b[0m\n\u001b[1;32m     42\u001b[0m                         disabled=False)\n\u001b[1;32m     43\u001b[0m \u001b[0;34m\u001b[0m\u001b[0m\n\u001b[0;32m---> 44\u001b[0;31m     \u001b[0mdisplay\u001b[0m\u001b[0;34m(\u001b[0m\u001b[0mw\u001b[0m\u001b[0;34m)\u001b[0m\u001b[0;34m\u001b[0m\u001b[0m\n\u001b[0m\u001b[1;32m     45\u001b[0m     \u001b[0mJSON\u001b[0m\u001b[0;34m[\u001b[0m\u001b[0;34m'data'\u001b[0m\u001b[0;34m]\u001b[0m\u001b[0;34m[\u001b[0m\u001b[0;34m'attributes'\u001b[0m\u001b[0;34m]\u001b[0m\u001b[0;34m[\u001b[0m\u001b[0;34m'assay_class'\u001b[0m\u001b[0;34m]\u001b[0m\u001b[0;34m[\u001b[0m\u001b[0;34m'key'\u001b[0m\u001b[0;34m]\u001b[0m \u001b[0;34m=\u001b[0m \u001b[0mw\u001b[0m\u001b[0;34m.\u001b[0m\u001b[0mvalue\u001b[0m\u001b[0;34m\u001b[0m\u001b[0m\n\u001b[1;32m     46\u001b[0m         \u001b[0;31m# input('Please specify the assay class key(EXP / MODEL): ')\u001b[0m\u001b[0;34m\u001b[0m\u001b[0;34m\u001b[0m\u001b[0m\n",
         "\u001b[0;31mAttributeError\u001b[0m: 'Select' object has no attribute 'display'"
        ]
       }
      ],
      "source": "from WriteObject import WriteObject\n\nWO = WriteObject()\n\nWO.SEEKForm()",
      "start_time": "2019-03-16T13:03:05.837Z"
     },
     {
      "end_time": "2019-03-16T13:26:38.455Z",
      "execution_time": "41.3s",
      "outputs": [
       {
        "data": {
         "text/html": "<h3>SEEK FORM</h3>",
         "text/plain": "<IPython.core.display.HTML object>"
        },
        "metadata": {},
        "output_type": "display_data",
        "transient": {}
       },
       {
        "name": "stdout",
        "output_type": "stream",
        "text": "\nThe type of object you want to upload to SEEK: assays\n\nYou need to complete the following form in order to succesfully upload your information to SEEK\nPlease specify the description: aa\nPlease specify other creators: k\nPlease specify the title: k\nPlease specify the assay class description: k\n"
       },
       {
        "data": {
         "application/vnd.jupyter.widget-view+json": {
          "model_id": "",
          "version_major": 2,
          "version_minor": 0
         },
         "text/plain": "Select(description='Assay Class Key', options=('EXP', 'MODEL'), rows=2, value='EXP')"
        },
        "metadata": {},
        "output_type": "display_data",
        "transient": {}
       },
       {
        "data": {
         "application/vnd.jupyter.widget-view+json": {
          "model_id": "",
          "version_major": 2,
          "version_minor": 0
         },
         "text/plain": "Button(button_style='success', description='Accept', icon='check', style=ButtonStyle(), tooltip='Select')"
        },
        "metadata": {},
        "output_type": "display_data",
        "transient": {}
       },
       {
        "ename": "KeyboardInterrupt",
        "evalue": "",
        "output_type": "error",
        "traceback": [
         "\u001b[0;31m---------------------------------------------------------------------------\u001b[0m",
         "\u001b[0;31mKeyboardInterrupt\u001b[0m                         Traceback (most recent call last)",
         "\u001b[0;32m<ipython-input-1-cd480b0c800a>\u001b[0m in \u001b[0;36m<module>\u001b[0;34m()\u001b[0m\n\u001b[1;32m      3\u001b[0m \u001b[0mWO\u001b[0m \u001b[0;34m=\u001b[0m \u001b[0mWriteObject\u001b[0m\u001b[0;34m(\u001b[0m\u001b[0;34m)\u001b[0m\u001b[0;34m\u001b[0m\u001b[0m\n\u001b[1;32m      4\u001b[0m \u001b[0;34m\u001b[0m\u001b[0m\n\u001b[0;32m----> 5\u001b[0;31m \u001b[0mWO\u001b[0m\u001b[0;34m.\u001b[0m\u001b[0mSEEKForm\u001b[0m\u001b[0;34m(\u001b[0m\u001b[0;34m)\u001b[0m\u001b[0;34m\u001b[0m\u001b[0m\n\u001b[0m",
         "\u001b[0;32m~/Work/ThirdYear/Seek/TheSeekNotebook/WriteObject.py\u001b[0m in \u001b[0;36mSEEKForm\u001b[0;34m(self)\u001b[0m\n\u001b[1;32m     31\u001b[0m \u001b[0;34m\u001b[0m\u001b[0m\n\u001b[1;32m     32\u001b[0m         \u001b[0;32mif\u001b[0m \u001b[0mself\u001b[0m\u001b[0;34m.\u001b[0m\u001b[0mtype\u001b[0m \u001b[0;34m==\u001b[0m \u001b[0;34m'assays'\u001b[0m\u001b[0;34m:\u001b[0m\u001b[0;34m\u001b[0m\u001b[0m\n\u001b[0;32m---> 33\u001b[0;31m             \u001b[0mself\u001b[0m\u001b[0;34m.\u001b[0m\u001b[0mJSON\u001b[0m \u001b[0;34m=\u001b[0m \u001b[0mHelper\u001b[0m\u001b[0;34m.\u001b[0m\u001b[0massayFormat\u001b[0m\u001b[0;34m(\u001b[0m\u001b[0;34m)\u001b[0m\u001b[0;34m\u001b[0m\u001b[0m\n\u001b[0m\u001b[1;32m     34\u001b[0m         \u001b[0;32melif\u001b[0m \u001b[0mself\u001b[0m\u001b[0;34m.\u001b[0m\u001b[0mtype\u001b[0m \u001b[0;34m==\u001b[0m \u001b[0;34m'investigations'\u001b[0m\u001b[0;34m:\u001b[0m\u001b[0;34m\u001b[0m\u001b[0m\n\u001b[1;32m     35\u001b[0m             \u001b[0mself\u001b[0m\u001b[0;34m.\u001b[0m\u001b[0mJSON\u001b[0m \u001b[0;34m=\u001b[0m \u001b[0mHelper\u001b[0m\u001b[0;34m.\u001b[0m\u001b[0minvestigationFormat\u001b[0m\u001b[0;34m(\u001b[0m\u001b[0;34m)\u001b[0m\u001b[0;34m\u001b[0m\u001b[0m\n",
         "\u001b[0;32m~/Work/ThirdYear/Seek/TheSeekNotebook/Helper.py\u001b[0m in \u001b[0;36massayFormat\u001b[0;34m()\u001b[0m\n\u001b[1;32m     58\u001b[0m     \u001b[0;32mwhile\u001b[0m \u001b[0;32mnot\u001b[0m \u001b[0misClicked\u001b[0m\u001b[0;34m:\u001b[0m\u001b[0;34m\u001b[0m\u001b[0m\n\u001b[1;32m     59\u001b[0m \u001b[0;34m\u001b[0m\u001b[0m\n\u001b[0;32m---> 60\u001b[0;31m         \u001b[0mbutton\u001b[0m\u001b[0;34m.\u001b[0m\u001b[0mon_click\u001b[0m\u001b[0;34m(\u001b[0m\u001b[0mbuttonClicked\u001b[0m\u001b[0;34m)\u001b[0m\u001b[0;34m\u001b[0m\u001b[0m\n\u001b[0m\u001b[1;32m     61\u001b[0m \u001b[0;34m\u001b[0m\u001b[0m\n\u001b[1;32m     62\u001b[0m     \u001b[0mJSON\u001b[0m\u001b[0;34m[\u001b[0m\u001b[0;34m'data'\u001b[0m\u001b[0;34m]\u001b[0m\u001b[0;34m[\u001b[0m\u001b[0;34m'attributes'\u001b[0m\u001b[0;34m]\u001b[0m\u001b[0;34m[\u001b[0m\u001b[0;34m'assay_class'\u001b[0m\u001b[0;34m]\u001b[0m\u001b[0;34m[\u001b[0m\u001b[0;34m'key'\u001b[0m\u001b[0;34m]\u001b[0m \u001b[0;34m=\u001b[0m \u001b[0mselect\u001b[0m\u001b[0;34m.\u001b[0m\u001b[0mvalue\u001b[0m\u001b[0;34m\u001b[0m\u001b[0m\n",
         "\u001b[0;32m~/anaconda3/lib/python3.6/site-packages/ipywidgets/widgets/widget_button.py\u001b[0m in \u001b[0;36mon_click\u001b[0;34m(self, callback, remove)\u001b[0m\n\u001b[1;32m     73\u001b[0m         \u001b[0;32mreturn\u001b[0m \u001b[0mvalue\u001b[0m\u001b[0;34m\u001b[0m\u001b[0m\n\u001b[1;32m     74\u001b[0m \u001b[0;34m\u001b[0m\u001b[0m\n\u001b[0;32m---> 75\u001b[0;31m     \u001b[0;32mdef\u001b[0m \u001b[0mon_click\u001b[0m\u001b[0;34m(\u001b[0m\u001b[0mself\u001b[0m\u001b[0;34m,\u001b[0m \u001b[0mcallback\u001b[0m\u001b[0;34m,\u001b[0m \u001b[0mremove\u001b[0m\u001b[0;34m=\u001b[0m\u001b[0;32mFalse\u001b[0m\u001b[0;34m)\u001b[0m\u001b[0;34m:\u001b[0m\u001b[0;34m\u001b[0m\u001b[0m\n\u001b[0m\u001b[1;32m     76\u001b[0m         \"\"\"Register a callback to execute when the button is clicked.\n\u001b[1;32m     77\u001b[0m \u001b[0;34m\u001b[0m\u001b[0m\n",
         "\u001b[0;31mKeyboardInterrupt\u001b[0m: "
        ]
       }
      ],
      "source": "from WriteObject import WriteObject\n\nWO = WriteObject()\n\nWO.SEEKForm()",
      "start_time": "2019-03-16T13:25:57.169Z"
     },
     {
      "end_time": "2019-03-16T16:10:01.684Z",
      "execution_time": "15.9s",
      "outputs": [
       {
        "data": {
         "text/html": "<h3>SEEK FORM</h3>",
         "text/plain": "<IPython.core.display.HTML object>"
        },
        "metadata": {},
        "output_type": "display_data",
        "transient": {}
       },
       {
        "name": "stdout",
        "output_type": "stream",
        "text": "\nThe type of object you want to upload to SEEK: assays\n\nYou need to complete the following form in order to succesfully upload your information to SEEK\nPlease specify the description: a\nPlease specify other creators: a\nPlease specify the title: a\nPlease specify the assay class description: a\n"
       },
       {
        "data": {
         "application/vnd.jupyter.widget-view+json": {
          "model_id": "",
          "version_major": 2,
          "version_minor": 0
         },
         "text/plain": "Select(description='Assay Class Key', options=('EXP', 'MODEL'), rows=2, value='EXP')"
        },
        "metadata": {},
        "output_type": "display_data",
        "transient": {}
       },
       {
        "data": {
         "application/vnd.jupyter.widget-view+json": {
          "model_id": "",
          "version_major": 2,
          "version_minor": 0
         },
         "text/plain": "Button(button_style='success', description='Accept', icon='check', style=ButtonStyle(), tooltip='Select')"
        },
        "metadata": {},
        "output_type": "display_data",
        "transient": {}
       },
       {
        "ename": "KeyboardInterrupt",
        "evalue": "",
        "output_type": "error",
        "traceback": [
         "\u001b[0;31m---------------------------------------------------------------------------\u001b[0m",
         "\u001b[0;31mKeyboardInterrupt\u001b[0m                         Traceback (most recent call last)",
         "\u001b[0;32m<ipython-input-2-cd480b0c800a>\u001b[0m in \u001b[0;36m<module>\u001b[0;34m()\u001b[0m\n\u001b[1;32m      3\u001b[0m \u001b[0mWO\u001b[0m \u001b[0;34m=\u001b[0m \u001b[0mWriteObject\u001b[0m\u001b[0;34m(\u001b[0m\u001b[0;34m)\u001b[0m\u001b[0;34m\u001b[0m\u001b[0m\n\u001b[1;32m      4\u001b[0m \u001b[0;34m\u001b[0m\u001b[0m\n\u001b[0;32m----> 5\u001b[0;31m \u001b[0mWO\u001b[0m\u001b[0;34m.\u001b[0m\u001b[0mSEEKForm\u001b[0m\u001b[0;34m(\u001b[0m\u001b[0;34m)\u001b[0m\u001b[0;34m\u001b[0m\u001b[0m\n\u001b[0m",
         "\u001b[0;32m~/Work/ThirdYear/Seek/TheSeekNotebook/WriteObject.py\u001b[0m in \u001b[0;36mSEEKForm\u001b[0;34m(self)\u001b[0m\n\u001b[1;32m     31\u001b[0m \u001b[0;34m\u001b[0m\u001b[0m\n\u001b[1;32m     32\u001b[0m         \u001b[0;32mif\u001b[0m \u001b[0mself\u001b[0m\u001b[0;34m.\u001b[0m\u001b[0mtype\u001b[0m \u001b[0;34m==\u001b[0m \u001b[0;34m'assays'\u001b[0m\u001b[0;34m:\u001b[0m\u001b[0;34m\u001b[0m\u001b[0m\n\u001b[0;32m---> 33\u001b[0;31m             \u001b[0mself\u001b[0m\u001b[0;34m.\u001b[0m\u001b[0mJSON\u001b[0m \u001b[0;34m=\u001b[0m \u001b[0mHelper\u001b[0m\u001b[0;34m.\u001b[0m\u001b[0massayFormat\u001b[0m\u001b[0;34m(\u001b[0m\u001b[0;34m)\u001b[0m\u001b[0;34m\u001b[0m\u001b[0m\n\u001b[0m\u001b[1;32m     34\u001b[0m         \u001b[0;32melif\u001b[0m \u001b[0mself\u001b[0m\u001b[0;34m.\u001b[0m\u001b[0mtype\u001b[0m \u001b[0;34m==\u001b[0m \u001b[0;34m'investigations'\u001b[0m\u001b[0;34m:\u001b[0m\u001b[0;34m\u001b[0m\u001b[0m\n\u001b[1;32m     35\u001b[0m             \u001b[0mself\u001b[0m\u001b[0;34m.\u001b[0m\u001b[0mJSON\u001b[0m \u001b[0;34m=\u001b[0m \u001b[0mHelper\u001b[0m\u001b[0;34m.\u001b[0m\u001b[0minvestigationFormat\u001b[0m\u001b[0;34m(\u001b[0m\u001b[0;34m)\u001b[0m\u001b[0;34m\u001b[0m\u001b[0m\n",
         "\u001b[0;32m~/Work/ThirdYear/Seek/TheSeekNotebook/Helper.py\u001b[0m in \u001b[0;36massayFormat\u001b[0;34m()\u001b[0m\n\u001b[1;32m     58\u001b[0m     \u001b[0;32mwhile\u001b[0m \u001b[0;32mnot\u001b[0m \u001b[0misClicked\u001b[0m\u001b[0;34m:\u001b[0m\u001b[0;34m\u001b[0m\u001b[0m\n\u001b[1;32m     59\u001b[0m \u001b[0;34m\u001b[0m\u001b[0m\n\u001b[0;32m---> 60\u001b[0;31m         \u001b[0mbutton\u001b[0m\u001b[0;34m.\u001b[0m\u001b[0mon_click\u001b[0m\u001b[0;34m(\u001b[0m\u001b[0mbuttonClicked\u001b[0m\u001b[0;34m)\u001b[0m\u001b[0;34m\u001b[0m\u001b[0m\n\u001b[0m\u001b[1;32m     61\u001b[0m \u001b[0;34m\u001b[0m\u001b[0m\n\u001b[1;32m     62\u001b[0m     \u001b[0mJSON\u001b[0m\u001b[0;34m[\u001b[0m\u001b[0;34m'data'\u001b[0m\u001b[0;34m]\u001b[0m\u001b[0;34m[\u001b[0m\u001b[0;34m'attributes'\u001b[0m\u001b[0;34m]\u001b[0m\u001b[0;34m[\u001b[0m\u001b[0;34m'assay_class'\u001b[0m\u001b[0;34m]\u001b[0m\u001b[0;34m[\u001b[0m\u001b[0;34m'key'\u001b[0m\u001b[0;34m]\u001b[0m \u001b[0;34m=\u001b[0m \u001b[0mselect\u001b[0m\u001b[0;34m.\u001b[0m\u001b[0mvalue\u001b[0m\u001b[0;34m\u001b[0m\u001b[0m\n",
         "\u001b[0;32m~/anaconda3/lib/python3.6/site-packages/ipywidgets/widgets/widget_button.py\u001b[0m in \u001b[0;36mon_click\u001b[0;34m(self, callback, remove)\u001b[0m\n\u001b[1;32m     84\u001b[0m             \u001b[0mSet\u001b[0m \u001b[0mto\u001b[0m \u001b[0mtrue\u001b[0m \u001b[0mto\u001b[0m \u001b[0mremove\u001b[0m \u001b[0mthe\u001b[0m \u001b[0mcallback\u001b[0m \u001b[0;32mfrom\u001b[0m \u001b[0mthe\u001b[0m \u001b[0mlist\u001b[0m \u001b[0mof\u001b[0m \u001b[0mcallbacks\u001b[0m\u001b[0;34m.\u001b[0m\u001b[0;34m\u001b[0m\u001b[0m\n\u001b[1;32m     85\u001b[0m         \"\"\"\n\u001b[0;32m---> 86\u001b[0;31m         \u001b[0mself\u001b[0m\u001b[0;34m.\u001b[0m\u001b[0m_click_handlers\u001b[0m\u001b[0;34m.\u001b[0m\u001b[0mregister_callback\u001b[0m\u001b[0;34m(\u001b[0m\u001b[0mcallback\u001b[0m\u001b[0;34m,\u001b[0m \u001b[0mremove\u001b[0m\u001b[0;34m=\u001b[0m\u001b[0mremove\u001b[0m\u001b[0;34m)\u001b[0m\u001b[0;34m\u001b[0m\u001b[0m\n\u001b[0m\u001b[1;32m     87\u001b[0m \u001b[0;34m\u001b[0m\u001b[0m\n\u001b[1;32m     88\u001b[0m     \u001b[0;32mdef\u001b[0m \u001b[0m_handle_button_msg\u001b[0m\u001b[0;34m(\u001b[0m\u001b[0mself\u001b[0m\u001b[0;34m,\u001b[0m \u001b[0m_\u001b[0m\u001b[0;34m,\u001b[0m \u001b[0mcontent\u001b[0m\u001b[0;34m,\u001b[0m \u001b[0mbuffers\u001b[0m\u001b[0;34m)\u001b[0m\u001b[0;34m:\u001b[0m\u001b[0;34m\u001b[0m\u001b[0m\n",
         "\u001b[0;32m~/anaconda3/lib/python3.6/site-packages/ipywidgets/widgets/widget.py\u001b[0m in \u001b[0;36mregister_callback\u001b[0;34m(self, callback, remove)\u001b[0m\n\u001b[1;32m    207\u001b[0m         \u001b[0;32mif\u001b[0m \u001b[0mremove\u001b[0m \u001b[0;32mand\u001b[0m \u001b[0mcallback\u001b[0m \u001b[0;32min\u001b[0m \u001b[0mself\u001b[0m\u001b[0;34m.\u001b[0m\u001b[0mcallbacks\u001b[0m\u001b[0;34m:\u001b[0m\u001b[0;34m\u001b[0m\u001b[0m\n\u001b[1;32m    208\u001b[0m             \u001b[0mself\u001b[0m\u001b[0;34m.\u001b[0m\u001b[0mcallbacks\u001b[0m\u001b[0;34m.\u001b[0m\u001b[0mremove\u001b[0m\u001b[0;34m(\u001b[0m\u001b[0mcallback\u001b[0m\u001b[0;34m)\u001b[0m\u001b[0;34m\u001b[0m\u001b[0m\n\u001b[0;32m--> 209\u001b[0;31m         \u001b[0;32melif\u001b[0m \u001b[0;32mnot\u001b[0m \u001b[0mremove\u001b[0m \u001b[0;32mand\u001b[0m \u001b[0mcallback\u001b[0m \u001b[0;32mnot\u001b[0m \u001b[0;32min\u001b[0m \u001b[0mself\u001b[0m\u001b[0;34m.\u001b[0m\u001b[0mcallbacks\u001b[0m\u001b[0;34m:\u001b[0m\u001b[0;34m\u001b[0m\u001b[0m\n\u001b[0m\u001b[1;32m    210\u001b[0m             \u001b[0mself\u001b[0m\u001b[0;34m.\u001b[0m\u001b[0mcallbacks\u001b[0m\u001b[0;34m.\u001b[0m\u001b[0mappend\u001b[0m\u001b[0;34m(\u001b[0m\u001b[0mcallback\u001b[0m\u001b[0;34m)\u001b[0m\u001b[0;34m\u001b[0m\u001b[0m\n\u001b[1;32m    211\u001b[0m \u001b[0;34m\u001b[0m\u001b[0m\n",
         "\u001b[0;31mKeyboardInterrupt\u001b[0m: "
        ]
       }
      ],
      "source": "from WriteObject import WriteObject\n\nWO = WriteObject()\n\nWO.SEEKForm()",
      "start_time": "2019-03-16T16:09:45.771Z"
     },
     {
      "end_time": "2019-03-16T16:13:50.984Z",
      "execution_time": "59.6s",
      "outputs": [
       {
        "data": {
         "text/html": "<h3>SEEK FORM</h3>",
         "text/plain": "<IPython.core.display.HTML object>"
        },
        "metadata": {},
        "output_type": "display_data",
        "transient": {}
       },
       {
        "name": "stdout",
        "output_type": "stream",
        "text": "\nThe type of object you want to upload to SEEK: assays\n\nYou need to complete the following form in order to succesfully upload your information to SEEK\nPlease specify the description: a\nPlease specify other creators: a\nPlease specify the title: a\nPlease specify the assay class description: a\n"
       },
       {
        "data": {
         "application/vnd.jupyter.widget-view+json": {
          "model_id": "",
          "version_major": 2,
          "version_minor": 0
         },
         "text/plain": "Select(description='Assay Class Key', options=('EXP', 'MODEL'), rows=2, value='EXP')"
        },
        "metadata": {},
        "output_type": "display_data",
        "transient": {}
       },
       {
        "data": {
         "application/vnd.jupyter.widget-view+json": {
          "model_id": "",
          "version_major": 2,
          "version_minor": 0
         },
         "text/plain": "Button(description='Accept', icon='check', style=ButtonStyle(), tooltip='Select')"
        },
        "metadata": {},
        "output_type": "display_data",
        "transient": {}
       },
       {
        "ename": "KeyboardInterrupt",
        "evalue": "",
        "output_type": "error",
        "traceback": [
         "\u001b[0;31m---------------------------------------------------------------------------\u001b[0m",
         "\u001b[0;31mKeyboardInterrupt\u001b[0m                         Traceback (most recent call last)",
         "\u001b[0;32m<ipython-input-1-cd480b0c800a>\u001b[0m in \u001b[0;36m<module>\u001b[0;34m()\u001b[0m\n\u001b[1;32m      3\u001b[0m \u001b[0mWO\u001b[0m \u001b[0;34m=\u001b[0m \u001b[0mWriteObject\u001b[0m\u001b[0;34m(\u001b[0m\u001b[0;34m)\u001b[0m\u001b[0;34m\u001b[0m\u001b[0m\n\u001b[1;32m      4\u001b[0m \u001b[0;34m\u001b[0m\u001b[0m\n\u001b[0;32m----> 5\u001b[0;31m \u001b[0mWO\u001b[0m\u001b[0;34m.\u001b[0m\u001b[0mSEEKForm\u001b[0m\u001b[0;34m(\u001b[0m\u001b[0;34m)\u001b[0m\u001b[0;34m\u001b[0m\u001b[0m\n\u001b[0m",
         "\u001b[0;32m~/Work/ThirdYear/Seek/TheSeekNotebook/WriteObject.py\u001b[0m in \u001b[0;36mSEEKForm\u001b[0;34m(self)\u001b[0m\n\u001b[1;32m     31\u001b[0m \u001b[0;34m\u001b[0m\u001b[0m\n\u001b[1;32m     32\u001b[0m         \u001b[0;32mif\u001b[0m \u001b[0mself\u001b[0m\u001b[0;34m.\u001b[0m\u001b[0mtype\u001b[0m \u001b[0;34m==\u001b[0m \u001b[0;34m'assays'\u001b[0m\u001b[0;34m:\u001b[0m\u001b[0;34m\u001b[0m\u001b[0m\n\u001b[0;32m---> 33\u001b[0;31m             \u001b[0mself\u001b[0m\u001b[0;34m.\u001b[0m\u001b[0mJSON\u001b[0m \u001b[0;34m=\u001b[0m \u001b[0mHelper\u001b[0m\u001b[0;34m.\u001b[0m\u001b[0massayFormat\u001b[0m\u001b[0;34m(\u001b[0m\u001b[0;34m)\u001b[0m\u001b[0;34m\u001b[0m\u001b[0m\n\u001b[0m\u001b[1;32m     34\u001b[0m         \u001b[0;32melif\u001b[0m \u001b[0mself\u001b[0m\u001b[0;34m.\u001b[0m\u001b[0mtype\u001b[0m \u001b[0;34m==\u001b[0m \u001b[0;34m'investigations'\u001b[0m\u001b[0;34m:\u001b[0m\u001b[0;34m\u001b[0m\u001b[0m\n\u001b[1;32m     35\u001b[0m             \u001b[0mself\u001b[0m\u001b[0;34m.\u001b[0m\u001b[0mJSON\u001b[0m \u001b[0;34m=\u001b[0m \u001b[0mHelper\u001b[0m\u001b[0;34m.\u001b[0m\u001b[0minvestigationFormat\u001b[0m\u001b[0;34m(\u001b[0m\u001b[0;34m)\u001b[0m\u001b[0;34m\u001b[0m\u001b[0m\n",
         "\u001b[0;32m~/Work/ThirdYear/Seek/TheSeekNotebook/Helper.py\u001b[0m in \u001b[0;36massayFormat\u001b[0;34m()\u001b[0m\n\u001b[1;32m     58\u001b[0m     \u001b[0;32mwhile\u001b[0m \u001b[0;32mnot\u001b[0m \u001b[0misClicked\u001b[0m\u001b[0;34m:\u001b[0m\u001b[0;34m\u001b[0m\u001b[0m\n\u001b[1;32m     59\u001b[0m \u001b[0;34m\u001b[0m\u001b[0m\n\u001b[0;32m---> 60\u001b[0;31m         \u001b[0mbutton\u001b[0m\u001b[0;34m.\u001b[0m\u001b[0mon_click\u001b[0m\u001b[0;34m(\u001b[0m\u001b[0mbuttonClicked\u001b[0m\u001b[0;34m)\u001b[0m\u001b[0;34m\u001b[0m\u001b[0m\n\u001b[0m\u001b[1;32m     61\u001b[0m \u001b[0;34m\u001b[0m\u001b[0m\n\u001b[1;32m     62\u001b[0m     \u001b[0mJSON\u001b[0m\u001b[0;34m[\u001b[0m\u001b[0;34m'data'\u001b[0m\u001b[0;34m]\u001b[0m\u001b[0;34m[\u001b[0m\u001b[0;34m'attributes'\u001b[0m\u001b[0;34m]\u001b[0m\u001b[0;34m[\u001b[0m\u001b[0;34m'assay_class'\u001b[0m\u001b[0;34m]\u001b[0m\u001b[0;34m[\u001b[0m\u001b[0;34m'key'\u001b[0m\u001b[0;34m]\u001b[0m \u001b[0;34m=\u001b[0m \u001b[0mselect\u001b[0m\u001b[0;34m.\u001b[0m\u001b[0mvalue\u001b[0m\u001b[0;34m\u001b[0m\u001b[0m\n",
         "\u001b[0;32m~/anaconda3/lib/python3.6/site-packages/ipywidgets/widgets/widget_button.py\u001b[0m in \u001b[0;36mon_click\u001b[0;34m(self, callback, remove)\u001b[0m\n\u001b[1;32m     84\u001b[0m             \u001b[0mSet\u001b[0m \u001b[0mto\u001b[0m \u001b[0mtrue\u001b[0m \u001b[0mto\u001b[0m \u001b[0mremove\u001b[0m \u001b[0mthe\u001b[0m \u001b[0mcallback\u001b[0m \u001b[0;32mfrom\u001b[0m \u001b[0mthe\u001b[0m \u001b[0mlist\u001b[0m \u001b[0mof\u001b[0m \u001b[0mcallbacks\u001b[0m\u001b[0;34m.\u001b[0m\u001b[0;34m\u001b[0m\u001b[0m\n\u001b[1;32m     85\u001b[0m         \"\"\"\n\u001b[0;32m---> 86\u001b[0;31m         \u001b[0mself\u001b[0m\u001b[0;34m.\u001b[0m\u001b[0m_click_handlers\u001b[0m\u001b[0;34m.\u001b[0m\u001b[0mregister_callback\u001b[0m\u001b[0;34m(\u001b[0m\u001b[0mcallback\u001b[0m\u001b[0;34m,\u001b[0m \u001b[0mremove\u001b[0m\u001b[0;34m=\u001b[0m\u001b[0mremove\u001b[0m\u001b[0;34m)\u001b[0m\u001b[0;34m\u001b[0m\u001b[0m\n\u001b[0m\u001b[1;32m     87\u001b[0m \u001b[0;34m\u001b[0m\u001b[0m\n\u001b[1;32m     88\u001b[0m     \u001b[0;32mdef\u001b[0m \u001b[0m_handle_button_msg\u001b[0m\u001b[0;34m(\u001b[0m\u001b[0mself\u001b[0m\u001b[0;34m,\u001b[0m \u001b[0m_\u001b[0m\u001b[0;34m,\u001b[0m \u001b[0mcontent\u001b[0m\u001b[0;34m,\u001b[0m \u001b[0mbuffers\u001b[0m\u001b[0;34m)\u001b[0m\u001b[0;34m:\u001b[0m\u001b[0;34m\u001b[0m\u001b[0m\n",
         "\u001b[0;32m~/anaconda3/lib/python3.6/site-packages/ipywidgets/widgets/widget.py\u001b[0m in \u001b[0;36mregister_callback\u001b[0;34m(self, callback, remove)\u001b[0m\n\u001b[1;32m    194\u001b[0m         \u001b[0;32mreturn\u001b[0m \u001b[0mvalue\u001b[0m\u001b[0;34m\u001b[0m\u001b[0m\n\u001b[1;32m    195\u001b[0m \u001b[0;34m\u001b[0m\u001b[0m\n\u001b[0;32m--> 196\u001b[0;31m     \u001b[0;32mdef\u001b[0m \u001b[0mregister_callback\u001b[0m\u001b[0;34m(\u001b[0m\u001b[0mself\u001b[0m\u001b[0;34m,\u001b[0m \u001b[0mcallback\u001b[0m\u001b[0;34m,\u001b[0m \u001b[0mremove\u001b[0m\u001b[0;34m=\u001b[0m\u001b[0;32mFalse\u001b[0m\u001b[0;34m)\u001b[0m\u001b[0;34m:\u001b[0m\u001b[0;34m\u001b[0m\u001b[0m\n\u001b[0m\u001b[1;32m    197\u001b[0m         \"\"\"(Un)Register a callback\n\u001b[1;32m    198\u001b[0m \u001b[0;34m\u001b[0m\u001b[0m\n",
         "\u001b[0;31mKeyboardInterrupt\u001b[0m: "
        ]
       }
      ],
      "source": "from WriteObject import WriteObject\n\nWO = WriteObject()\n\nWO.SEEKForm()",
      "start_time": "2019-03-16T16:12:51.383Z"
     },
     {
      "end_time": "2019-03-16T16:14:25.148Z",
      "execution_time": "15.5s",
      "outputs": [
       {
        "data": {
         "text/html": "<h3>SEEK FORM</h3>",
         "text/plain": "<IPython.core.display.HTML object>"
        },
        "metadata": {},
        "output_type": "display_data",
        "transient": {}
       },
       {
        "name": "stdout",
        "output_type": "stream",
        "text": "\nThe type of object you want to upload to SEEK: assays\n\nYou need to complete the following form in order to succesfully upload your information to SEEK\nPlease specify the description: a\nPlease specify other creators: a\nPlease specify the title: \nPlease specify the assay class description: a\n"
       },
       {
        "data": {
         "application/vnd.jupyter.widget-view+json": {
          "model_id": "99fea7f87b44414eb9d39d84ddaa0f4c",
          "version_major": 2,
          "version_minor": 0
         },
         "text/plain": "Select(description='Assay Class Key', options=('EXP', 'MODEL'), rows=2, value='EXP')"
        },
        "metadata": {},
        "output_type": "display_data",
        "transient": {}
       },
       {
        "data": {
         "application/vnd.jupyter.widget-view+json": {
          "model_id": "9e94c25822704c538336d9ace72d929c",
          "version_major": 2,
          "version_minor": 0
         },
         "text/plain": "Button(description='Accept', icon='check', style=ButtonStyle(), tooltip='Select')"
        },
        "metadata": {},
        "output_type": "display_data",
        "transient": {}
       },
       {
        "ename": "KeyboardInterrupt",
        "evalue": "",
        "output_type": "error",
        "traceback": [
         "\u001b[0;31m---------------------------------------------------------------------------\u001b[0m",
         "\u001b[0;31mKeyboardInterrupt\u001b[0m                         Traceback (most recent call last)",
         "\u001b[0;32m~/anaconda3/lib/python3.6/site-packages/ipykernel/kernelbase.py\u001b[0m in \u001b[0;36m_input_request\u001b[0;34m(self, prompt, ident, parent, password)\u001b[0m\n\u001b[1;32m    728\u001b[0m             \u001b[0;32mtry\u001b[0m\u001b[0;34m:\u001b[0m\u001b[0;34m\u001b[0m\u001b[0m\n\u001b[0;32m--> 729\u001b[0;31m                 \u001b[0mident\u001b[0m\u001b[0;34m,\u001b[0m \u001b[0mreply\u001b[0m \u001b[0;34m=\u001b[0m \u001b[0mself\u001b[0m\u001b[0;34m.\u001b[0m\u001b[0msession\u001b[0m\u001b[0;34m.\u001b[0m\u001b[0mrecv\u001b[0m\u001b[0;34m(\u001b[0m\u001b[0mself\u001b[0m\u001b[0;34m.\u001b[0m\u001b[0mstdin_socket\u001b[0m\u001b[0;34m,\u001b[0m \u001b[0;36m0\u001b[0m\u001b[0;34m)\u001b[0m\u001b[0;34m\u001b[0m\u001b[0m\n\u001b[0m\u001b[1;32m    730\u001b[0m             \u001b[0;32mexcept\u001b[0m \u001b[0mException\u001b[0m\u001b[0;34m:\u001b[0m\u001b[0;34m\u001b[0m\u001b[0m\n",
         "\u001b[0;32m~/anaconda3/lib/python3.6/site-packages/jupyter_client/session.py\u001b[0m in \u001b[0;36mrecv\u001b[0;34m(self, socket, mode, content, copy)\u001b[0m\n\u001b[1;32m    802\u001b[0m         \u001b[0;32mtry\u001b[0m\u001b[0;34m:\u001b[0m\u001b[0;34m\u001b[0m\u001b[0m\n\u001b[0;32m--> 803\u001b[0;31m             \u001b[0mmsg_list\u001b[0m \u001b[0;34m=\u001b[0m \u001b[0msocket\u001b[0m\u001b[0;34m.\u001b[0m\u001b[0mrecv_multipart\u001b[0m\u001b[0;34m(\u001b[0m\u001b[0mmode\u001b[0m\u001b[0;34m,\u001b[0m \u001b[0mcopy\u001b[0m\u001b[0;34m=\u001b[0m\u001b[0mcopy\u001b[0m\u001b[0;34m)\u001b[0m\u001b[0;34m\u001b[0m\u001b[0m\n\u001b[0m\u001b[1;32m    804\u001b[0m         \u001b[0;32mexcept\u001b[0m \u001b[0mzmq\u001b[0m\u001b[0;34m.\u001b[0m\u001b[0mZMQError\u001b[0m \u001b[0;32mas\u001b[0m \u001b[0me\u001b[0m\u001b[0;34m:\u001b[0m\u001b[0;34m\u001b[0m\u001b[0m\n",
         "\u001b[0;32m~/anaconda3/lib/python3.6/site-packages/zmq/sugar/socket.py\u001b[0m in \u001b[0;36mrecv_multipart\u001b[0;34m(self, flags, copy, track)\u001b[0m\n\u001b[1;32m    465\u001b[0m         \"\"\"\n\u001b[0;32m--> 466\u001b[0;31m         \u001b[0mparts\u001b[0m \u001b[0;34m=\u001b[0m \u001b[0;34m[\u001b[0m\u001b[0mself\u001b[0m\u001b[0;34m.\u001b[0m\u001b[0mrecv\u001b[0m\u001b[0;34m(\u001b[0m\u001b[0mflags\u001b[0m\u001b[0;34m,\u001b[0m \u001b[0mcopy\u001b[0m\u001b[0;34m=\u001b[0m\u001b[0mcopy\u001b[0m\u001b[0;34m,\u001b[0m \u001b[0mtrack\u001b[0m\u001b[0;34m=\u001b[0m\u001b[0mtrack\u001b[0m\u001b[0;34m)\u001b[0m\u001b[0;34m]\u001b[0m\u001b[0;34m\u001b[0m\u001b[0m\n\u001b[0m\u001b[1;32m    467\u001b[0m         \u001b[0;31m# have first part already, only loop while more to receive\u001b[0m\u001b[0;34m\u001b[0m\u001b[0;34m\u001b[0m\u001b[0m\n",
         "\u001b[0;32mzmq/backend/cython/socket.pyx\u001b[0m in \u001b[0;36mzmq.backend.cython.socket.Socket.recv\u001b[0;34m()\u001b[0m\n",
         "\u001b[0;32mzmq/backend/cython/socket.pyx\u001b[0m in \u001b[0;36mzmq.backend.cython.socket.Socket.recv\u001b[0;34m()\u001b[0m\n",
         "\u001b[0;32mzmq/backend/cython/socket.pyx\u001b[0m in \u001b[0;36mzmq.backend.cython.socket._recv_copy\u001b[0;34m()\u001b[0m\n",
         "\u001b[0;32m~/anaconda3/lib/python3.6/site-packages/zmq/backend/cython/checkrc.pxd\u001b[0m in \u001b[0;36mzmq.backend.cython.checkrc._check_rc\u001b[0;34m()\u001b[0m\n",
         "\u001b[0;31mKeyboardInterrupt\u001b[0m: ",
         "\nDuring handling of the above exception, another exception occurred:\n",
         "\u001b[0;31mKeyboardInterrupt\u001b[0m                         Traceback (most recent call last)",
         "\u001b[0;32m<ipython-input-1-cd480b0c800a>\u001b[0m in \u001b[0;36m<module>\u001b[0;34m()\u001b[0m\n\u001b[1;32m      3\u001b[0m \u001b[0mWO\u001b[0m \u001b[0;34m=\u001b[0m \u001b[0mWriteObject\u001b[0m\u001b[0;34m(\u001b[0m\u001b[0;34m)\u001b[0m\u001b[0;34m\u001b[0m\u001b[0m\n\u001b[1;32m      4\u001b[0m \u001b[0;34m\u001b[0m\u001b[0m\n\u001b[0;32m----> 5\u001b[0;31m \u001b[0mWO\u001b[0m\u001b[0;34m.\u001b[0m\u001b[0mSEEKForm\u001b[0m\u001b[0;34m(\u001b[0m\u001b[0;34m)\u001b[0m\u001b[0;34m\u001b[0m\u001b[0m\n\u001b[0m",
         "\u001b[0;32m~/Work/ThirdYear/Seek/TheSeekNotebook/WriteObject.py\u001b[0m in \u001b[0;36mSEEKForm\u001b[0;34m(self)\u001b[0m\n\u001b[1;32m     31\u001b[0m \u001b[0;34m\u001b[0m\u001b[0m\n\u001b[1;32m     32\u001b[0m         \u001b[0;32mif\u001b[0m \u001b[0mself\u001b[0m\u001b[0;34m.\u001b[0m\u001b[0mtype\u001b[0m \u001b[0;34m==\u001b[0m \u001b[0;34m'assays'\u001b[0m\u001b[0;34m:\u001b[0m\u001b[0;34m\u001b[0m\u001b[0m\n\u001b[0;32m---> 33\u001b[0;31m             \u001b[0mself\u001b[0m\u001b[0;34m.\u001b[0m\u001b[0mJSON\u001b[0m \u001b[0;34m=\u001b[0m \u001b[0mHelper\u001b[0m\u001b[0;34m.\u001b[0m\u001b[0massayFormat\u001b[0m\u001b[0;34m(\u001b[0m\u001b[0;34m)\u001b[0m\u001b[0;34m\u001b[0m\u001b[0m\n\u001b[0m\u001b[1;32m     34\u001b[0m         \u001b[0;32melif\u001b[0m \u001b[0mself\u001b[0m\u001b[0;34m.\u001b[0m\u001b[0mtype\u001b[0m \u001b[0;34m==\u001b[0m \u001b[0;34m'investigations'\u001b[0m\u001b[0;34m:\u001b[0m\u001b[0;34m\u001b[0m\u001b[0m\n\u001b[1;32m     35\u001b[0m             \u001b[0mself\u001b[0m\u001b[0;34m.\u001b[0m\u001b[0mJSON\u001b[0m \u001b[0;34m=\u001b[0m \u001b[0mHelper\u001b[0m\u001b[0;34m.\u001b[0m\u001b[0minvestigationFormat\u001b[0m\u001b[0;34m(\u001b[0m\u001b[0;34m)\u001b[0m\u001b[0;34m\u001b[0m\u001b[0m\n",
         "\u001b[0;32m~/Work/ThirdYear/Seek/TheSeekNotebook/Helper.py\u001b[0m in \u001b[0;36massayFormat\u001b[0;34m()\u001b[0m\n\u001b[1;32m     62\u001b[0m     \u001b[0mJSON\u001b[0m\u001b[0;34m[\u001b[0m\u001b[0;34m'data'\u001b[0m\u001b[0;34m]\u001b[0m\u001b[0;34m[\u001b[0m\u001b[0;34m'attributes'\u001b[0m\u001b[0;34m]\u001b[0m\u001b[0;34m[\u001b[0m\u001b[0;34m'assay_class'\u001b[0m\u001b[0;34m]\u001b[0m\u001b[0;34m[\u001b[0m\u001b[0;34m'key'\u001b[0m\u001b[0;34m]\u001b[0m \u001b[0;34m=\u001b[0m \u001b[0mselect\u001b[0m\u001b[0;34m.\u001b[0m\u001b[0mvalue\u001b[0m\u001b[0;34m\u001b[0m\u001b[0m\n\u001b[1;32m     63\u001b[0m         \u001b[0;31m# input('Please specify the assay class key(EXP / MODEL): ')\u001b[0m\u001b[0;34m\u001b[0m\u001b[0;34m\u001b[0m\u001b[0m\n\u001b[0;32m---> 64\u001b[0;31m     \u001b[0mJSON\u001b[0m\u001b[0;34m[\u001b[0m\u001b[0;34m'data'\u001b[0m\u001b[0;34m]\u001b[0m\u001b[0;34m[\u001b[0m\u001b[0;34m'attributes'\u001b[0m\u001b[0;34m]\u001b[0m\u001b[0;34m[\u001b[0m\u001b[0;34m'assay_class'\u001b[0m\u001b[0;34m]\u001b[0m\u001b[0;34m[\u001b[0m\u001b[0;34m'title'\u001b[0m\u001b[0;34m]\u001b[0m \u001b[0;34m=\u001b[0m \u001b[0minput\u001b[0m\u001b[0;34m(\u001b[0m\u001b[0;34m'Please specify the assay class title(Experimental assay / Modelling Analysis): '\u001b[0m\u001b[0;34m)\u001b[0m\u001b[0;34m\u001b[0m\u001b[0m\n\u001b[0m\u001b[1;32m     65\u001b[0m \u001b[0;34m\u001b[0m\u001b[0m\n\u001b[1;32m     66\u001b[0m     \u001b[0mJSON\u001b[0m\u001b[0;34m[\u001b[0m\u001b[0;34m'data'\u001b[0m\u001b[0;34m]\u001b[0m\u001b[0;34m[\u001b[0m\u001b[0;34m'attributes'\u001b[0m\u001b[0;34m]\u001b[0m\u001b[0;34m[\u001b[0m\u001b[0;34m'assay_type'\u001b[0m\u001b[0;34m]\u001b[0m \u001b[0;34m=\u001b[0m \u001b[0;34m{\u001b[0m\u001b[0;34m}\u001b[0m\u001b[0;34m\u001b[0m\u001b[0m\n",
         "\u001b[0;32m~/anaconda3/lib/python3.6/site-packages/ipykernel/kernelbase.py\u001b[0m in \u001b[0;36mraw_input\u001b[0;34m(self, prompt)\u001b[0m\n\u001b[1;32m    702\u001b[0m             \u001b[0mself\u001b[0m\u001b[0;34m.\u001b[0m\u001b[0m_parent_ident\u001b[0m\u001b[0;34m,\u001b[0m\u001b[0;34m\u001b[0m\u001b[0m\n\u001b[1;32m    703\u001b[0m             \u001b[0mself\u001b[0m\u001b[0;34m.\u001b[0m\u001b[0m_parent_header\u001b[0m\u001b[0;34m,\u001b[0m\u001b[0;34m\u001b[0m\u001b[0m\n\u001b[0;32m--> 704\u001b[0;31m             \u001b[0mpassword\u001b[0m\u001b[0;34m=\u001b[0m\u001b[0;32mFalse\u001b[0m\u001b[0;34m,\u001b[0m\u001b[0;34m\u001b[0m\u001b[0m\n\u001b[0m\u001b[1;32m    705\u001b[0m         )\n\u001b[1;32m    706\u001b[0m \u001b[0;34m\u001b[0m\u001b[0m\n",
         "\u001b[0;32m~/anaconda3/lib/python3.6/site-packages/ipykernel/kernelbase.py\u001b[0m in \u001b[0;36m_input_request\u001b[0;34m(self, prompt, ident, parent, password)\u001b[0m\n\u001b[1;32m    732\u001b[0m             \u001b[0;32mexcept\u001b[0m \u001b[0mKeyboardInterrupt\u001b[0m\u001b[0;34m:\u001b[0m\u001b[0;34m\u001b[0m\u001b[0m\n\u001b[1;32m    733\u001b[0m                 \u001b[0;31m# re-raise KeyboardInterrupt, to truncate traceback\u001b[0m\u001b[0;34m\u001b[0m\u001b[0;34m\u001b[0m\u001b[0m\n\u001b[0;32m--> 734\u001b[0;31m                 \u001b[0;32mraise\u001b[0m \u001b[0mKeyboardInterrupt\u001b[0m\u001b[0;34m\u001b[0m\u001b[0m\n\u001b[0m\u001b[1;32m    735\u001b[0m             \u001b[0;32melse\u001b[0m\u001b[0;34m:\u001b[0m\u001b[0;34m\u001b[0m\u001b[0m\n\u001b[1;32m    736\u001b[0m                 \u001b[0;32mbreak\u001b[0m\u001b[0;34m\u001b[0m\u001b[0m\n",
         "\u001b[0;31mKeyboardInterrupt\u001b[0m: "
        ]
       }
      ],
      "source": "from WriteObject import WriteObject\n\nWO = WriteObject()\n\nWO.SEEKForm()",
      "start_time": "2019-03-16T16:14:09.681Z"
     }
    ]
   },
   "outputs": [
    {
     "data": {
      "text/html": [
       "<h3>SEEK FORM</h3>"
      ],
      "text/plain": [
       "<IPython.core.display.HTML object>"
      ]
     },
     "metadata": {},
     "output_type": "display_data"
    },
    {
     "name": "stdout",
     "output_type": "stream",
     "text": [
      "\n",
      "The type of object you want to upload to SEEK: assays\n",
      "\n",
      "You need to complete the following form in order to succesfully upload your information to SEEK\n",
      "Please specify the description: a\n",
      "Please specify other creators: a\n",
      "Please specify the title: \n",
      "Please specify the assay class description: a\n"
     ]
    },
    {
     "data": {
      "application/vnd.jupyter.widget-view+json": {
       "model_id": "99fea7f87b44414eb9d39d84ddaa0f4c",
       "version_major": 2,
       "version_minor": 0
      },
      "text/plain": [
       "Select(description='Assay Class Key', options=('EXP', 'MODEL'), rows=2, value='EXP')"
      ]
     },
     "metadata": {},
     "output_type": "display_data"
    },
    {
     "data": {
      "application/vnd.jupyter.widget-view+json": {
       "model_id": "9e94c25822704c538336d9ace72d929c",
       "version_major": 2,
       "version_minor": 0
      },
      "text/plain": [
       "Button(description='Accept', icon='check', style=ButtonStyle(), tooltip='Select')"
      ]
     },
     "metadata": {},
     "output_type": "display_data"
    },
    {
     "ename": "KeyboardInterrupt",
     "evalue": "",
     "output_type": "error",
     "traceback": [
      "\u001b[0;31m---------------------------------------------------------------------------\u001b[0m",
      "\u001b[0;31mKeyboardInterrupt\u001b[0m                         Traceback (most recent call last)",
      "\u001b[0;32m~/anaconda3/lib/python3.6/site-packages/ipykernel/kernelbase.py\u001b[0m in \u001b[0;36m_input_request\u001b[0;34m(self, prompt, ident, parent, password)\u001b[0m\n\u001b[1;32m    728\u001b[0m             \u001b[0;32mtry\u001b[0m\u001b[0;34m:\u001b[0m\u001b[0;34m\u001b[0m\u001b[0m\n\u001b[0;32m--> 729\u001b[0;31m                 \u001b[0mident\u001b[0m\u001b[0;34m,\u001b[0m \u001b[0mreply\u001b[0m \u001b[0;34m=\u001b[0m \u001b[0mself\u001b[0m\u001b[0;34m.\u001b[0m\u001b[0msession\u001b[0m\u001b[0;34m.\u001b[0m\u001b[0mrecv\u001b[0m\u001b[0;34m(\u001b[0m\u001b[0mself\u001b[0m\u001b[0;34m.\u001b[0m\u001b[0mstdin_socket\u001b[0m\u001b[0;34m,\u001b[0m \u001b[0;36m0\u001b[0m\u001b[0;34m)\u001b[0m\u001b[0;34m\u001b[0m\u001b[0m\n\u001b[0m\u001b[1;32m    730\u001b[0m             \u001b[0;32mexcept\u001b[0m \u001b[0mException\u001b[0m\u001b[0;34m:\u001b[0m\u001b[0;34m\u001b[0m\u001b[0m\n",
      "\u001b[0;32m~/anaconda3/lib/python3.6/site-packages/jupyter_client/session.py\u001b[0m in \u001b[0;36mrecv\u001b[0;34m(self, socket, mode, content, copy)\u001b[0m\n\u001b[1;32m    802\u001b[0m         \u001b[0;32mtry\u001b[0m\u001b[0;34m:\u001b[0m\u001b[0;34m\u001b[0m\u001b[0m\n\u001b[0;32m--> 803\u001b[0;31m             \u001b[0mmsg_list\u001b[0m \u001b[0;34m=\u001b[0m \u001b[0msocket\u001b[0m\u001b[0;34m.\u001b[0m\u001b[0mrecv_multipart\u001b[0m\u001b[0;34m(\u001b[0m\u001b[0mmode\u001b[0m\u001b[0;34m,\u001b[0m \u001b[0mcopy\u001b[0m\u001b[0;34m=\u001b[0m\u001b[0mcopy\u001b[0m\u001b[0;34m)\u001b[0m\u001b[0;34m\u001b[0m\u001b[0m\n\u001b[0m\u001b[1;32m    804\u001b[0m         \u001b[0;32mexcept\u001b[0m \u001b[0mzmq\u001b[0m\u001b[0;34m.\u001b[0m\u001b[0mZMQError\u001b[0m \u001b[0;32mas\u001b[0m \u001b[0me\u001b[0m\u001b[0;34m:\u001b[0m\u001b[0;34m\u001b[0m\u001b[0m\n",
      "\u001b[0;32m~/anaconda3/lib/python3.6/site-packages/zmq/sugar/socket.py\u001b[0m in \u001b[0;36mrecv_multipart\u001b[0;34m(self, flags, copy, track)\u001b[0m\n\u001b[1;32m    465\u001b[0m         \"\"\"\n\u001b[0;32m--> 466\u001b[0;31m         \u001b[0mparts\u001b[0m \u001b[0;34m=\u001b[0m \u001b[0;34m[\u001b[0m\u001b[0mself\u001b[0m\u001b[0;34m.\u001b[0m\u001b[0mrecv\u001b[0m\u001b[0;34m(\u001b[0m\u001b[0mflags\u001b[0m\u001b[0;34m,\u001b[0m \u001b[0mcopy\u001b[0m\u001b[0;34m=\u001b[0m\u001b[0mcopy\u001b[0m\u001b[0;34m,\u001b[0m \u001b[0mtrack\u001b[0m\u001b[0;34m=\u001b[0m\u001b[0mtrack\u001b[0m\u001b[0;34m)\u001b[0m\u001b[0;34m]\u001b[0m\u001b[0;34m\u001b[0m\u001b[0m\n\u001b[0m\u001b[1;32m    467\u001b[0m         \u001b[0;31m# have first part already, only loop while more to receive\u001b[0m\u001b[0;34m\u001b[0m\u001b[0;34m\u001b[0m\u001b[0m\n",
      "\u001b[0;32mzmq/backend/cython/socket.pyx\u001b[0m in \u001b[0;36mzmq.backend.cython.socket.Socket.recv\u001b[0;34m()\u001b[0m\n",
      "\u001b[0;32mzmq/backend/cython/socket.pyx\u001b[0m in \u001b[0;36mzmq.backend.cython.socket.Socket.recv\u001b[0;34m()\u001b[0m\n",
      "\u001b[0;32mzmq/backend/cython/socket.pyx\u001b[0m in \u001b[0;36mzmq.backend.cython.socket._recv_copy\u001b[0;34m()\u001b[0m\n",
      "\u001b[0;32m~/anaconda3/lib/python3.6/site-packages/zmq/backend/cython/checkrc.pxd\u001b[0m in \u001b[0;36mzmq.backend.cython.checkrc._check_rc\u001b[0;34m()\u001b[0m\n",
      "\u001b[0;31mKeyboardInterrupt\u001b[0m: ",
      "\nDuring handling of the above exception, another exception occurred:\n",
      "\u001b[0;31mKeyboardInterrupt\u001b[0m                         Traceback (most recent call last)",
      "\u001b[0;32m<ipython-input-1-cd480b0c800a>\u001b[0m in \u001b[0;36m<module>\u001b[0;34m()\u001b[0m\n\u001b[1;32m      3\u001b[0m \u001b[0mWO\u001b[0m \u001b[0;34m=\u001b[0m \u001b[0mWriteObject\u001b[0m\u001b[0;34m(\u001b[0m\u001b[0;34m)\u001b[0m\u001b[0;34m\u001b[0m\u001b[0m\n\u001b[1;32m      4\u001b[0m \u001b[0;34m\u001b[0m\u001b[0m\n\u001b[0;32m----> 5\u001b[0;31m \u001b[0mWO\u001b[0m\u001b[0;34m.\u001b[0m\u001b[0mSEEKForm\u001b[0m\u001b[0;34m(\u001b[0m\u001b[0;34m)\u001b[0m\u001b[0;34m\u001b[0m\u001b[0m\n\u001b[0m",
      "\u001b[0;32m~/Work/ThirdYear/Seek/TheSeekNotebook/WriteObject.py\u001b[0m in \u001b[0;36mSEEKForm\u001b[0;34m(self)\u001b[0m\n\u001b[1;32m     31\u001b[0m \u001b[0;34m\u001b[0m\u001b[0m\n\u001b[1;32m     32\u001b[0m         \u001b[0;32mif\u001b[0m \u001b[0mself\u001b[0m\u001b[0;34m.\u001b[0m\u001b[0mtype\u001b[0m \u001b[0;34m==\u001b[0m \u001b[0;34m'assays'\u001b[0m\u001b[0;34m:\u001b[0m\u001b[0;34m\u001b[0m\u001b[0m\n\u001b[0;32m---> 33\u001b[0;31m             \u001b[0mself\u001b[0m\u001b[0;34m.\u001b[0m\u001b[0mJSON\u001b[0m \u001b[0;34m=\u001b[0m \u001b[0mHelper\u001b[0m\u001b[0;34m.\u001b[0m\u001b[0massayFormat\u001b[0m\u001b[0;34m(\u001b[0m\u001b[0;34m)\u001b[0m\u001b[0;34m\u001b[0m\u001b[0m\n\u001b[0m\u001b[1;32m     34\u001b[0m         \u001b[0;32melif\u001b[0m \u001b[0mself\u001b[0m\u001b[0;34m.\u001b[0m\u001b[0mtype\u001b[0m \u001b[0;34m==\u001b[0m \u001b[0;34m'investigations'\u001b[0m\u001b[0;34m:\u001b[0m\u001b[0;34m\u001b[0m\u001b[0m\n\u001b[1;32m     35\u001b[0m             \u001b[0mself\u001b[0m\u001b[0;34m.\u001b[0m\u001b[0mJSON\u001b[0m \u001b[0;34m=\u001b[0m \u001b[0mHelper\u001b[0m\u001b[0;34m.\u001b[0m\u001b[0minvestigationFormat\u001b[0m\u001b[0;34m(\u001b[0m\u001b[0;34m)\u001b[0m\u001b[0;34m\u001b[0m\u001b[0m\n",
      "\u001b[0;32m~/Work/ThirdYear/Seek/TheSeekNotebook/Helper.py\u001b[0m in \u001b[0;36massayFormat\u001b[0;34m()\u001b[0m\n\u001b[1;32m     62\u001b[0m     \u001b[0mJSON\u001b[0m\u001b[0;34m[\u001b[0m\u001b[0;34m'data'\u001b[0m\u001b[0;34m]\u001b[0m\u001b[0;34m[\u001b[0m\u001b[0;34m'attributes'\u001b[0m\u001b[0;34m]\u001b[0m\u001b[0;34m[\u001b[0m\u001b[0;34m'assay_class'\u001b[0m\u001b[0;34m]\u001b[0m\u001b[0;34m[\u001b[0m\u001b[0;34m'key'\u001b[0m\u001b[0;34m]\u001b[0m \u001b[0;34m=\u001b[0m \u001b[0mselect\u001b[0m\u001b[0;34m.\u001b[0m\u001b[0mvalue\u001b[0m\u001b[0;34m\u001b[0m\u001b[0m\n\u001b[1;32m     63\u001b[0m         \u001b[0;31m# input('Please specify the assay class key(EXP / MODEL): ')\u001b[0m\u001b[0;34m\u001b[0m\u001b[0;34m\u001b[0m\u001b[0m\n\u001b[0;32m---> 64\u001b[0;31m     \u001b[0mJSON\u001b[0m\u001b[0;34m[\u001b[0m\u001b[0;34m'data'\u001b[0m\u001b[0;34m]\u001b[0m\u001b[0;34m[\u001b[0m\u001b[0;34m'attributes'\u001b[0m\u001b[0;34m]\u001b[0m\u001b[0;34m[\u001b[0m\u001b[0;34m'assay_class'\u001b[0m\u001b[0;34m]\u001b[0m\u001b[0;34m[\u001b[0m\u001b[0;34m'title'\u001b[0m\u001b[0;34m]\u001b[0m \u001b[0;34m=\u001b[0m \u001b[0minput\u001b[0m\u001b[0;34m(\u001b[0m\u001b[0;34m'Please specify the assay class title(Experimental assay / Modelling Analysis): '\u001b[0m\u001b[0;34m)\u001b[0m\u001b[0;34m\u001b[0m\u001b[0m\n\u001b[0m\u001b[1;32m     65\u001b[0m \u001b[0;34m\u001b[0m\u001b[0m\n\u001b[1;32m     66\u001b[0m     \u001b[0mJSON\u001b[0m\u001b[0;34m[\u001b[0m\u001b[0;34m'data'\u001b[0m\u001b[0;34m]\u001b[0m\u001b[0;34m[\u001b[0m\u001b[0;34m'attributes'\u001b[0m\u001b[0;34m]\u001b[0m\u001b[0;34m[\u001b[0m\u001b[0;34m'assay_type'\u001b[0m\u001b[0;34m]\u001b[0m \u001b[0;34m=\u001b[0m \u001b[0;34m{\u001b[0m\u001b[0;34m}\u001b[0m\u001b[0;34m\u001b[0m\u001b[0m\n",
      "\u001b[0;32m~/anaconda3/lib/python3.6/site-packages/ipykernel/kernelbase.py\u001b[0m in \u001b[0;36mraw_input\u001b[0;34m(self, prompt)\u001b[0m\n\u001b[1;32m    702\u001b[0m             \u001b[0mself\u001b[0m\u001b[0;34m.\u001b[0m\u001b[0m_parent_ident\u001b[0m\u001b[0;34m,\u001b[0m\u001b[0;34m\u001b[0m\u001b[0m\n\u001b[1;32m    703\u001b[0m             \u001b[0mself\u001b[0m\u001b[0;34m.\u001b[0m\u001b[0m_parent_header\u001b[0m\u001b[0;34m,\u001b[0m\u001b[0;34m\u001b[0m\u001b[0m\n\u001b[0;32m--> 704\u001b[0;31m             \u001b[0mpassword\u001b[0m\u001b[0;34m=\u001b[0m\u001b[0;32mFalse\u001b[0m\u001b[0;34m,\u001b[0m\u001b[0;34m\u001b[0m\u001b[0m\n\u001b[0m\u001b[1;32m    705\u001b[0m         )\n\u001b[1;32m    706\u001b[0m \u001b[0;34m\u001b[0m\u001b[0m\n",
      "\u001b[0;32m~/anaconda3/lib/python3.6/site-packages/ipykernel/kernelbase.py\u001b[0m in \u001b[0;36m_input_request\u001b[0;34m(self, prompt, ident, parent, password)\u001b[0m\n\u001b[1;32m    732\u001b[0m             \u001b[0;32mexcept\u001b[0m \u001b[0mKeyboardInterrupt\u001b[0m\u001b[0;34m:\u001b[0m\u001b[0;34m\u001b[0m\u001b[0m\n\u001b[1;32m    733\u001b[0m                 \u001b[0;31m# re-raise KeyboardInterrupt, to truncate traceback\u001b[0m\u001b[0;34m\u001b[0m\u001b[0;34m\u001b[0m\u001b[0m\n\u001b[0;32m--> 734\u001b[0;31m                 \u001b[0;32mraise\u001b[0m \u001b[0mKeyboardInterrupt\u001b[0m\u001b[0;34m\u001b[0m\u001b[0m\n\u001b[0m\u001b[1;32m    735\u001b[0m             \u001b[0;32melse\u001b[0m\u001b[0;34m:\u001b[0m\u001b[0;34m\u001b[0m\u001b[0m\n\u001b[1;32m    736\u001b[0m                 \u001b[0;32mbreak\u001b[0m\u001b[0;34m\u001b[0m\u001b[0m\n",
      "\u001b[0;31mKeyboardInterrupt\u001b[0m: "
     ]
    }
   ],
   "source": [
    "from WriteObject import WriteObject\n",
    "\n",
    "WO = WriteObject()\n",
    "\n",
    "WO.SEEKForm()"
   ]
  },
  {
   "cell_type": "code",
   "execution_count": null,
   "metadata": {
    "ExecutionTime": {
     "end_time": "2019-03-15T16:35:01.197664Z",
     "start_time": "2019-03-15T16:35:00.988844Z"
    },
    "provenance": [
     {
      "end_time": "2019-03-15T14:15:44.907Z",
      "execution_time": "76ms",
      "outputs": [
       {
        "ename": "NameError",
        "evalue": "name 'session' is not defined",
        "output_type": "error",
        "traceback": [
         "\u001b[0;31m---------------------------------------------------------------------------\u001b[0m",
         "\u001b[0;31mNameError\u001b[0m                                 Traceback (most recent call last)",
         "\u001b[0;32m<ipython-input-2-352cab6f49f8>\u001b[0m in \u001b[0;36m<module>\u001b[0;34m()\u001b[0m\n\u001b[0;32m----> 1\u001b[0;31m \u001b[0mWO\u001b[0m\u001b[0;34m.\u001b[0m\u001b[0mrequest\u001b[0m\u001b[0;34m(\u001b[0m\u001b[0;34m)\u001b[0m\u001b[0;34m\u001b[0m\u001b[0m\n\u001b[0m",
         "\u001b[0;32m~/Work/ThirdYear/Seek/TheSeekNotebook/WriteObject.py\u001b[0m in \u001b[0;36mrequest\u001b[0;34m(self)\u001b[0m\n\u001b[1;32m     40\u001b[0m \u001b[0;34m\u001b[0m\u001b[0m\n\u001b[1;32m     41\u001b[0m     \u001b[0;32mdef\u001b[0m \u001b[0mrequest\u001b[0m\u001b[0;34m(\u001b[0m\u001b[0mself\u001b[0m\u001b[0;34m)\u001b[0m\u001b[0;34m:\u001b[0m\u001b[0;34m\u001b[0m\u001b[0m\n\u001b[0;32m---> 42\u001b[0;31m         \u001b[0mr\u001b[0m \u001b[0;34m=\u001b[0m \u001b[0msession\u001b[0m\u001b[0;34m.\u001b[0m\u001b[0mpost\u001b[0m\u001b[0;34m(\u001b[0m\u001b[0mbase_url\u001b[0m \u001b[0;34m+\u001b[0m \u001b[0;34m'/'\u001b[0m \u001b[0;34m+\u001b[0m \u001b[0mself\u001b[0m\u001b[0;34m.\u001b[0m\u001b[0mtype\u001b[0m\u001b[0;34m,\u001b[0m \u001b[0mjson\u001b[0m\u001b[0;34m=\u001b[0m\u001b[0mself\u001b[0m\u001b[0;34m.\u001b[0m\u001b[0mJSON\u001b[0m\u001b[0;34m)\u001b[0m\u001b[0;34m\u001b[0m\u001b[0m\n\u001b[0m\u001b[1;32m     43\u001b[0m         \u001b[0mr\u001b[0m\u001b[0;34m.\u001b[0m\u001b[0mraise_for_status\u001b[0m\u001b[0;34m(\u001b[0m\u001b[0;34m)\u001b[0m\u001b[0;34m\u001b[0m\u001b[0m\n",
         "\u001b[0;31mNameError\u001b[0m: name 'session' is not defined"
        ]
       }
      ],
      "source": "WO.request()",
      "start_time": "2019-03-15T14:15:44.831Z"
     },
     {
      "end_time": "2019-03-15T14:16:56.450Z",
      "execution_time": "111ms",
      "outputs": [
       {
        "ename": "NameError",
        "evalue": "name 'base_url' is not defined",
        "output_type": "error",
        "traceback": [
         "\u001b[0;31m---------------------------------------------------------------------------\u001b[0m",
         "\u001b[0;31mNameError\u001b[0m                                 Traceback (most recent call last)",
         "\u001b[0;32m<ipython-input-3-352cab6f49f8>\u001b[0m in \u001b[0;36m<module>\u001b[0;34m()\u001b[0m\n\u001b[0;32m----> 1\u001b[0;31m \u001b[0mWO\u001b[0m\u001b[0;34m.\u001b[0m\u001b[0mrequest\u001b[0m\u001b[0;34m(\u001b[0m\u001b[0;34m)\u001b[0m\u001b[0;34m\u001b[0m\u001b[0m\n\u001b[0m",
         "\u001b[0;32m~/Work/ThirdYear/Seek/TheSeekNotebook/WriteObject.py\u001b[0m in \u001b[0;36mrequest\u001b[0;34m(self)\u001b[0m\n\u001b[1;32m     40\u001b[0m \u001b[0;34m\u001b[0m\u001b[0m\n\u001b[1;32m     41\u001b[0m     \u001b[0;32mdef\u001b[0m \u001b[0mrequest\u001b[0m\u001b[0;34m(\u001b[0m\u001b[0mself\u001b[0m\u001b[0;34m)\u001b[0m\u001b[0;34m:\u001b[0m\u001b[0;34m\u001b[0m\u001b[0m\n\u001b[0;32m---> 42\u001b[0;31m         \u001b[0mr\u001b[0m \u001b[0;34m=\u001b[0m \u001b[0mself\u001b[0m\u001b[0;34m.\u001b[0m\u001b[0msession\u001b[0m\u001b[0;34m.\u001b[0m\u001b[0mpost\u001b[0m\u001b[0;34m(\u001b[0m\u001b[0mbase_url\u001b[0m \u001b[0;34m+\u001b[0m \u001b[0;34m'/'\u001b[0m \u001b[0;34m+\u001b[0m \u001b[0mself\u001b[0m\u001b[0;34m.\u001b[0m\u001b[0mtype\u001b[0m\u001b[0;34m,\u001b[0m \u001b[0mjson\u001b[0m\u001b[0;34m=\u001b[0m\u001b[0mself\u001b[0m\u001b[0;34m.\u001b[0m\u001b[0mJSON\u001b[0m\u001b[0;34m)\u001b[0m\u001b[0;34m\u001b[0m\u001b[0m\n\u001b[0m\u001b[1;32m     43\u001b[0m         \u001b[0mr\u001b[0m\u001b[0;34m.\u001b[0m\u001b[0mraise_for_status\u001b[0m\u001b[0;34m(\u001b[0m\u001b[0;34m)\u001b[0m\u001b[0;34m\u001b[0m\u001b[0m\n",
         "\u001b[0;31mNameError\u001b[0m: name 'base_url' is not defined"
        ]
       }
      ],
      "source": "WO.request()",
      "start_time": "2019-03-15T14:16:56.339Z"
     },
     {
      "end_time": "2019-03-15T14:18:01.861Z",
      "execution_time": "29ms",
      "outputs": [
       {
        "ename": "TypeError",
        "evalue": "unsupported operand type(s) for +: 'NoneType' and 'str'",
        "output_type": "error",
        "traceback": [
         "\u001b[0;31m---------------------------------------------------------------------------\u001b[0m",
         "\u001b[0;31mTypeError\u001b[0m                                 Traceback (most recent call last)",
         "\u001b[0;32m<ipython-input-3-352cab6f49f8>\u001b[0m in \u001b[0;36m<module>\u001b[0;34m()\u001b[0m\n\u001b[0;32m----> 1\u001b[0;31m \u001b[0mWO\u001b[0m\u001b[0;34m.\u001b[0m\u001b[0mrequest\u001b[0m\u001b[0;34m(\u001b[0m\u001b[0;34m)\u001b[0m\u001b[0;34m\u001b[0m\u001b[0m\n\u001b[0m",
         "\u001b[0;32m~/Work/ThirdYear/Seek/TheSeekNotebook/WriteObject.py\u001b[0m in \u001b[0;36mrequest\u001b[0;34m(self)\u001b[0m\n\u001b[1;32m     40\u001b[0m \u001b[0;34m\u001b[0m\u001b[0m\n\u001b[1;32m     41\u001b[0m     \u001b[0;32mdef\u001b[0m \u001b[0mrequest\u001b[0m\u001b[0;34m(\u001b[0m\u001b[0mself\u001b[0m\u001b[0;34m)\u001b[0m\u001b[0;34m:\u001b[0m\u001b[0;34m\u001b[0m\u001b[0m\n\u001b[0;32m---> 42\u001b[0;31m         \u001b[0mr\u001b[0m \u001b[0;34m=\u001b[0m \u001b[0mself\u001b[0m\u001b[0;34m.\u001b[0m\u001b[0msession\u001b[0m\u001b[0;34m.\u001b[0m\u001b[0mpost\u001b[0m\u001b[0;34m(\u001b[0m\u001b[0mself\u001b[0m\u001b[0;34m.\u001b[0m\u001b[0mbase_url\u001b[0m \u001b[0;34m+\u001b[0m \u001b[0;34m'/'\u001b[0m \u001b[0;34m+\u001b[0m \u001b[0mself\u001b[0m\u001b[0;34m.\u001b[0m\u001b[0mtype\u001b[0m\u001b[0;34m,\u001b[0m \u001b[0mjson\u001b[0m\u001b[0;34m=\u001b[0m\u001b[0mself\u001b[0m\u001b[0;34m.\u001b[0m\u001b[0mJSON\u001b[0m\u001b[0;34m)\u001b[0m\u001b[0;34m\u001b[0m\u001b[0m\n\u001b[0m\u001b[1;32m     43\u001b[0m         \u001b[0mr\u001b[0m\u001b[0;34m.\u001b[0m\u001b[0mraise_for_status\u001b[0m\u001b[0;34m(\u001b[0m\u001b[0;34m)\u001b[0m\u001b[0;34m\u001b[0m\u001b[0m\n",
         "\u001b[0;31mTypeError\u001b[0m: unsupported operand type(s) for +: 'NoneType' and 'str'"
        ]
       }
      ],
      "source": "WO.request()",
      "start_time": "2019-03-15T14:18:01.832Z"
     },
     {
      "end_time": "2019-03-15T14:19:37.018Z",
      "execution_time": "303ms",
      "outputs": [
       {
        "ename": "HTTPError",
        "evalue": "401 Client Error: Unauthorized for url: https://testing.sysmo-db.org/assays",
        "output_type": "error",
        "traceback": [
         "\u001b[0;31m---------------------------------------------------------------------------\u001b[0m",
         "\u001b[0;31mHTTPError\u001b[0m                                 Traceback (most recent call last)",
         "\u001b[0;32m<ipython-input-2-352cab6f49f8>\u001b[0m in \u001b[0;36m<module>\u001b[0;34m()\u001b[0m\n\u001b[0;32m----> 1\u001b[0;31m \u001b[0mWO\u001b[0m\u001b[0;34m.\u001b[0m\u001b[0mrequest\u001b[0m\u001b[0;34m(\u001b[0m\u001b[0;34m)\u001b[0m\u001b[0;34m\u001b[0m\u001b[0m\n\u001b[0m",
         "\u001b[0;32m~/Work/ThirdYear/Seek/TheSeekNotebook/WriteObject.py\u001b[0m in \u001b[0;36mrequest\u001b[0;34m(self)\u001b[0m\n\u001b[1;32m     41\u001b[0m     \u001b[0;32mdef\u001b[0m \u001b[0mrequest\u001b[0m\u001b[0;34m(\u001b[0m\u001b[0mself\u001b[0m\u001b[0;34m)\u001b[0m\u001b[0;34m:\u001b[0m\u001b[0;34m\u001b[0m\u001b[0m\n\u001b[1;32m     42\u001b[0m         \u001b[0mr\u001b[0m \u001b[0;34m=\u001b[0m \u001b[0mself\u001b[0m\u001b[0;34m.\u001b[0m\u001b[0msession\u001b[0m\u001b[0;34m.\u001b[0m\u001b[0mpost\u001b[0m\u001b[0;34m(\u001b[0m\u001b[0mself\u001b[0m\u001b[0;34m.\u001b[0m\u001b[0mbase_url\u001b[0m \u001b[0;34m+\u001b[0m \u001b[0;34m'/'\u001b[0m \u001b[0;34m+\u001b[0m \u001b[0mself\u001b[0m\u001b[0;34m.\u001b[0m\u001b[0mtype\u001b[0m\u001b[0;34m,\u001b[0m \u001b[0mjson\u001b[0m\u001b[0;34m=\u001b[0m\u001b[0mself\u001b[0m\u001b[0;34m.\u001b[0m\u001b[0mJSON\u001b[0m\u001b[0;34m)\u001b[0m\u001b[0;34m\u001b[0m\u001b[0m\n\u001b[0;32m---> 43\u001b[0;31m         \u001b[0mr\u001b[0m\u001b[0;34m.\u001b[0m\u001b[0mraise_for_status\u001b[0m\u001b[0;34m(\u001b[0m\u001b[0;34m)\u001b[0m\u001b[0;34m\u001b[0m\u001b[0m\n\u001b[0m",
         "\u001b[0;32m~/anaconda3/lib/python3.6/site-packages/requests/models.py\u001b[0m in \u001b[0;36mraise_for_status\u001b[0;34m(self)\u001b[0m\n\u001b[1;32m    933\u001b[0m \u001b[0;34m\u001b[0m\u001b[0m\n\u001b[1;32m    934\u001b[0m         \u001b[0;32mif\u001b[0m \u001b[0mhttp_error_msg\u001b[0m\u001b[0;34m:\u001b[0m\u001b[0;34m\u001b[0m\u001b[0m\n\u001b[0;32m--> 935\u001b[0;31m             \u001b[0;32mraise\u001b[0m \u001b[0mHTTPError\u001b[0m\u001b[0;34m(\u001b[0m\u001b[0mhttp_error_msg\u001b[0m\u001b[0;34m,\u001b[0m \u001b[0mresponse\u001b[0m\u001b[0;34m=\u001b[0m\u001b[0mself\u001b[0m\u001b[0;34m)\u001b[0m\u001b[0;34m\u001b[0m\u001b[0m\n\u001b[0m\u001b[1;32m    936\u001b[0m \u001b[0;34m\u001b[0m\u001b[0m\n\u001b[1;32m    937\u001b[0m     \u001b[0;32mdef\u001b[0m \u001b[0mclose\u001b[0m\u001b[0;34m(\u001b[0m\u001b[0mself\u001b[0m\u001b[0;34m)\u001b[0m\u001b[0;34m:\u001b[0m\u001b[0;34m\u001b[0m\u001b[0m\n",
         "\u001b[0;31mHTTPError\u001b[0m: 401 Client Error: Unauthorized for url: https://testing.sysmo-db.org/assays"
        ]
       }
      ],
      "source": "WO.request()",
      "start_time": "2019-03-15T14:19:36.715Z"
     },
     {
      "end_time": "2019-03-15T14:28:26.550Z",
      "execution_time": "274ms",
      "outputs": [
       {
        "ename": "HTTPError",
        "evalue": "401 Client Error: Unauthorized for url: https://testing.sysmo-db.org/assays",
        "output_type": "error",
        "traceback": [
         "\u001b[0;31m---------------------------------------------------------------------------\u001b[0m",
         "\u001b[0;31mHTTPError\u001b[0m                                 Traceback (most recent call last)",
         "\u001b[0;32m<ipython-input-2-352cab6f49f8>\u001b[0m in \u001b[0;36m<module>\u001b[0;34m()\u001b[0m\n\u001b[0;32m----> 1\u001b[0;31m \u001b[0mWO\u001b[0m\u001b[0;34m.\u001b[0m\u001b[0mrequest\u001b[0m\u001b[0;34m(\u001b[0m\u001b[0;34m)\u001b[0m\u001b[0;34m\u001b[0m\u001b[0m\n\u001b[0m",
         "\u001b[0;32m~/Work/ThirdYear/Seek/TheSeekNotebook/WriteObject.py\u001b[0m in \u001b[0;36mrequest\u001b[0;34m(self)\u001b[0m\n\u001b[1;32m     41\u001b[0m     \u001b[0;32mdef\u001b[0m \u001b[0mrequest\u001b[0m\u001b[0;34m(\u001b[0m\u001b[0mself\u001b[0m\u001b[0;34m)\u001b[0m\u001b[0;34m:\u001b[0m\u001b[0;34m\u001b[0m\u001b[0m\n\u001b[1;32m     42\u001b[0m         \u001b[0mr\u001b[0m \u001b[0;34m=\u001b[0m \u001b[0mself\u001b[0m\u001b[0;34m.\u001b[0m\u001b[0msession\u001b[0m\u001b[0;34m.\u001b[0m\u001b[0mpost\u001b[0m\u001b[0;34m(\u001b[0m\u001b[0mself\u001b[0m\u001b[0;34m.\u001b[0m\u001b[0mbase_url\u001b[0m \u001b[0;34m+\u001b[0m \u001b[0;34m'/'\u001b[0m \u001b[0;34m+\u001b[0m \u001b[0mself\u001b[0m\u001b[0;34m.\u001b[0m\u001b[0mtype\u001b[0m\u001b[0;34m,\u001b[0m \u001b[0mjson\u001b[0m\u001b[0;34m=\u001b[0m\u001b[0mself\u001b[0m\u001b[0;34m.\u001b[0m\u001b[0mJSON\u001b[0m\u001b[0;34m)\u001b[0m\u001b[0;34m\u001b[0m\u001b[0m\n\u001b[0;32m---> 43\u001b[0;31m         \u001b[0mr\u001b[0m\u001b[0;34m.\u001b[0m\u001b[0mraise_for_status\u001b[0m\u001b[0;34m(\u001b[0m\u001b[0;34m)\u001b[0m\u001b[0;34m\u001b[0m\u001b[0m\n\u001b[0m",
         "\u001b[0;32m~/anaconda3/lib/python3.6/site-packages/requests/models.py\u001b[0m in \u001b[0;36mraise_for_status\u001b[0;34m(self)\u001b[0m\n\u001b[1;32m    933\u001b[0m \u001b[0;34m\u001b[0m\u001b[0m\n\u001b[1;32m    934\u001b[0m         \u001b[0;32mif\u001b[0m \u001b[0mhttp_error_msg\u001b[0m\u001b[0;34m:\u001b[0m\u001b[0;34m\u001b[0m\u001b[0m\n\u001b[0;32m--> 935\u001b[0;31m             \u001b[0;32mraise\u001b[0m \u001b[0mHTTPError\u001b[0m\u001b[0;34m(\u001b[0m\u001b[0mhttp_error_msg\u001b[0m\u001b[0;34m,\u001b[0m \u001b[0mresponse\u001b[0m\u001b[0;34m=\u001b[0m\u001b[0mself\u001b[0m\u001b[0;34m)\u001b[0m\u001b[0;34m\u001b[0m\u001b[0m\n\u001b[0m\u001b[1;32m    936\u001b[0m \u001b[0;34m\u001b[0m\u001b[0m\n\u001b[1;32m    937\u001b[0m     \u001b[0;32mdef\u001b[0m \u001b[0mclose\u001b[0m\u001b[0;34m(\u001b[0m\u001b[0mself\u001b[0m\u001b[0;34m)\u001b[0m\u001b[0;34m:\u001b[0m\u001b[0;34m\u001b[0m\u001b[0m\n",
         "\u001b[0;31mHTTPError\u001b[0m: 401 Client Error: Unauthorized for url: https://testing.sysmo-db.org/assays"
        ]
       }
      ],
      "source": "WO.request()",
      "start_time": "2019-03-15T14:28:26.276Z"
     },
     {
      "end_time": "2019-03-15T14:41:47.999Z",
      "execution_time": "313ms",
      "outputs": [
       {
        "ename": "HTTPError",
        "evalue": "401 Client Error: Unauthorized for url: https://testing.sysmo-db.org/assays",
        "output_type": "error",
        "traceback": [
         "\u001b[0;31m---------------------------------------------------------------------------\u001b[0m",
         "\u001b[0;31mHTTPError\u001b[0m                                 Traceback (most recent call last)",
         "\u001b[0;32m<ipython-input-2-352cab6f49f8>\u001b[0m in \u001b[0;36m<module>\u001b[0;34m()\u001b[0m\n\u001b[0;32m----> 1\u001b[0;31m \u001b[0mWO\u001b[0m\u001b[0;34m.\u001b[0m\u001b[0mrequest\u001b[0m\u001b[0;34m(\u001b[0m\u001b[0;34m)\u001b[0m\u001b[0;34m\u001b[0m\u001b[0m\n\u001b[0m",
         "\u001b[0;32m~/Work/ThirdYear/Seek/TheSeekNotebook/WriteObject.py\u001b[0m in \u001b[0;36mrequest\u001b[0;34m(self)\u001b[0m\n\u001b[1;32m     41\u001b[0m     \u001b[0;32mdef\u001b[0m \u001b[0mrequest\u001b[0m\u001b[0;34m(\u001b[0m\u001b[0mself\u001b[0m\u001b[0;34m)\u001b[0m\u001b[0;34m:\u001b[0m\u001b[0;34m\u001b[0m\u001b[0m\n\u001b[1;32m     42\u001b[0m         \u001b[0mr\u001b[0m \u001b[0;34m=\u001b[0m \u001b[0mself\u001b[0m\u001b[0;34m.\u001b[0m\u001b[0msession\u001b[0m\u001b[0;34m.\u001b[0m\u001b[0mpost\u001b[0m\u001b[0;34m(\u001b[0m\u001b[0mself\u001b[0m\u001b[0;34m.\u001b[0m\u001b[0mbase_url\u001b[0m \u001b[0;34m+\u001b[0m \u001b[0;34m'/'\u001b[0m \u001b[0;34m+\u001b[0m \u001b[0mself\u001b[0m\u001b[0;34m.\u001b[0m\u001b[0mtype\u001b[0m\u001b[0;34m,\u001b[0m \u001b[0mjson\u001b[0m\u001b[0;34m=\u001b[0m\u001b[0mself\u001b[0m\u001b[0;34m.\u001b[0m\u001b[0mJSON\u001b[0m\u001b[0;34m)\u001b[0m\u001b[0;34m\u001b[0m\u001b[0m\n\u001b[0;32m---> 43\u001b[0;31m         \u001b[0mr\u001b[0m\u001b[0;34m.\u001b[0m\u001b[0mraise_for_status\u001b[0m\u001b[0;34m(\u001b[0m\u001b[0;34m)\u001b[0m\u001b[0;34m\u001b[0m\u001b[0m\n\u001b[0m",
         "\u001b[0;32m~/anaconda3/lib/python3.6/site-packages/requests/models.py\u001b[0m in \u001b[0;36mraise_for_status\u001b[0;34m(self)\u001b[0m\n\u001b[1;32m    933\u001b[0m \u001b[0;34m\u001b[0m\u001b[0m\n\u001b[1;32m    934\u001b[0m         \u001b[0;32mif\u001b[0m \u001b[0mhttp_error_msg\u001b[0m\u001b[0;34m:\u001b[0m\u001b[0;34m\u001b[0m\u001b[0m\n\u001b[0;32m--> 935\u001b[0;31m             \u001b[0;32mraise\u001b[0m \u001b[0mHTTPError\u001b[0m\u001b[0;34m(\u001b[0m\u001b[0mhttp_error_msg\u001b[0m\u001b[0;34m,\u001b[0m \u001b[0mresponse\u001b[0m\u001b[0;34m=\u001b[0m\u001b[0mself\u001b[0m\u001b[0;34m)\u001b[0m\u001b[0;34m\u001b[0m\u001b[0m\n\u001b[0m\u001b[1;32m    936\u001b[0m \u001b[0;34m\u001b[0m\u001b[0m\n\u001b[1;32m    937\u001b[0m     \u001b[0;32mdef\u001b[0m \u001b[0mclose\u001b[0m\u001b[0;34m(\u001b[0m\u001b[0mself\u001b[0m\u001b[0;34m)\u001b[0m\u001b[0;34m:\u001b[0m\u001b[0;34m\u001b[0m\u001b[0m\n",
         "\u001b[0;31mHTTPError\u001b[0m: 401 Client Error: Unauthorized for url: https://testing.sysmo-db.org/assays"
        ]
       }
      ],
      "source": "WO.request()",
      "start_time": "2019-03-15T14:41:47.686Z"
     },
     {
      "end_time": "2019-03-15T16:28:29.396Z",
      "execution_time": "372ms",
      "outputs": [
       {
        "ename": "HTTPError",
        "evalue": "404 Client Error: Not Found for url: https://testing.sysmo-db.org/assays",
        "output_type": "error",
        "traceback": [
         "\u001b[0;31m---------------------------------------------------------------------------\u001b[0m",
         "\u001b[0;31mHTTPError\u001b[0m                                 Traceback (most recent call last)",
         "\u001b[0;32m<ipython-input-6-352cab6f49f8>\u001b[0m in \u001b[0;36m<module>\u001b[0;34m()\u001b[0m\n\u001b[0;32m----> 1\u001b[0;31m \u001b[0mWO\u001b[0m\u001b[0;34m.\u001b[0m\u001b[0mrequest\u001b[0m\u001b[0;34m(\u001b[0m\u001b[0;34m)\u001b[0m\u001b[0;34m\u001b[0m\u001b[0m\n\u001b[0m",
         "\u001b[0;32m~/Work/ThirdYear/Seek/TheSeekNotebook/WriteObject.py\u001b[0m in \u001b[0;36mrequest\u001b[0;34m(self)\u001b[0m\n\u001b[1;32m     41\u001b[0m     \u001b[0;32mdef\u001b[0m \u001b[0mrequest\u001b[0m\u001b[0;34m(\u001b[0m\u001b[0mself\u001b[0m\u001b[0;34m)\u001b[0m\u001b[0;34m:\u001b[0m\u001b[0;34m\u001b[0m\u001b[0m\n\u001b[1;32m     42\u001b[0m         \u001b[0mr\u001b[0m \u001b[0;34m=\u001b[0m \u001b[0mself\u001b[0m\u001b[0;34m.\u001b[0m\u001b[0msession\u001b[0m\u001b[0;34m.\u001b[0m\u001b[0mpost\u001b[0m\u001b[0;34m(\u001b[0m\u001b[0mself\u001b[0m\u001b[0;34m.\u001b[0m\u001b[0mbase_url\u001b[0m \u001b[0;34m+\u001b[0m \u001b[0;34m'/'\u001b[0m \u001b[0;34m+\u001b[0m \u001b[0mself\u001b[0m\u001b[0;34m.\u001b[0m\u001b[0mtype\u001b[0m\u001b[0;34m,\u001b[0m \u001b[0mjson\u001b[0m\u001b[0;34m=\u001b[0m\u001b[0mself\u001b[0m\u001b[0;34m.\u001b[0m\u001b[0mJSON\u001b[0m\u001b[0;34m)\u001b[0m\u001b[0;34m\u001b[0m\u001b[0m\n\u001b[0;32m---> 43\u001b[0;31m         \u001b[0mr\u001b[0m\u001b[0;34m.\u001b[0m\u001b[0mraise_for_status\u001b[0m\u001b[0;34m(\u001b[0m\u001b[0;34m)\u001b[0m\u001b[0;34m\u001b[0m\u001b[0m\n\u001b[0m",
         "\u001b[0;32m~/anaconda3/lib/python3.6/site-packages/requests/models.py\u001b[0m in \u001b[0;36mraise_for_status\u001b[0;34m(self)\u001b[0m\n\u001b[1;32m    933\u001b[0m \u001b[0;34m\u001b[0m\u001b[0m\n\u001b[1;32m    934\u001b[0m         \u001b[0;32mif\u001b[0m \u001b[0mhttp_error_msg\u001b[0m\u001b[0;34m:\u001b[0m\u001b[0;34m\u001b[0m\u001b[0m\n\u001b[0;32m--> 935\u001b[0;31m             \u001b[0;32mraise\u001b[0m \u001b[0mHTTPError\u001b[0m\u001b[0;34m(\u001b[0m\u001b[0mhttp_error_msg\u001b[0m\u001b[0;34m,\u001b[0m \u001b[0mresponse\u001b[0m\u001b[0;34m=\u001b[0m\u001b[0mself\u001b[0m\u001b[0;34m)\u001b[0m\u001b[0;34m\u001b[0m\u001b[0m\n\u001b[0m\u001b[1;32m    936\u001b[0m \u001b[0;34m\u001b[0m\u001b[0m\n\u001b[1;32m    937\u001b[0m     \u001b[0;32mdef\u001b[0m \u001b[0mclose\u001b[0m\u001b[0;34m(\u001b[0m\u001b[0mself\u001b[0m\u001b[0;34m)\u001b[0m\u001b[0;34m:\u001b[0m\u001b[0;34m\u001b[0m\u001b[0m\n",
         "\u001b[0;31mHTTPError\u001b[0m: 404 Client Error: Not Found for url: https://testing.sysmo-db.org/assays"
        ]
       }
      ],
      "source": "WO.request()",
      "start_time": "2019-03-15T16:28:29.024Z"
     },
     {
      "end_time": "2019-03-15T16:32:09.238Z",
      "execution_time": "249ms",
      "outputs": [
       {
        "ename": "HTTPError",
        "evalue": "404 Client Error: Not Found for url: https://testing.sysmo-db.org/assays/new",
        "output_type": "error",
        "traceback": [
         "\u001b[0;31m---------------------------------------------------------------------------\u001b[0m",
         "\u001b[0;31mHTTPError\u001b[0m                                 Traceback (most recent call last)",
         "\u001b[0;32m<ipython-input-2-352cab6f49f8>\u001b[0m in \u001b[0;36m<module>\u001b[0;34m()\u001b[0m\n\u001b[0;32m----> 1\u001b[0;31m \u001b[0mWO\u001b[0m\u001b[0;34m.\u001b[0m\u001b[0mrequest\u001b[0m\u001b[0;34m(\u001b[0m\u001b[0;34m)\u001b[0m\u001b[0;34m\u001b[0m\u001b[0m\n\u001b[0m",
         "\u001b[0;32m~/Work/ThirdYear/Seek/TheSeekNotebook/WriteObject.py\u001b[0m in \u001b[0;36mrequest\u001b[0;34m(self)\u001b[0m\n\u001b[1;32m     41\u001b[0m     \u001b[0;32mdef\u001b[0m \u001b[0mrequest\u001b[0m\u001b[0;34m(\u001b[0m\u001b[0mself\u001b[0m\u001b[0;34m)\u001b[0m\u001b[0;34m:\u001b[0m\u001b[0;34m\u001b[0m\u001b[0m\n\u001b[1;32m     42\u001b[0m         \u001b[0mr\u001b[0m \u001b[0;34m=\u001b[0m \u001b[0mself\u001b[0m\u001b[0;34m.\u001b[0m\u001b[0msession\u001b[0m\u001b[0;34m.\u001b[0m\u001b[0mpost\u001b[0m\u001b[0;34m(\u001b[0m\u001b[0mself\u001b[0m\u001b[0;34m.\u001b[0m\u001b[0mbase_url\u001b[0m \u001b[0;34m+\u001b[0m \u001b[0;34m'/'\u001b[0m \u001b[0;34m+\u001b[0m \u001b[0mself\u001b[0m\u001b[0;34m.\u001b[0m\u001b[0mtype\u001b[0m \u001b[0;34m+\u001b[0m \u001b[0;34m\"/new\"\u001b[0m\u001b[0;34m,\u001b[0m \u001b[0mjson\u001b[0m\u001b[0;34m=\u001b[0m\u001b[0mself\u001b[0m\u001b[0;34m.\u001b[0m\u001b[0mJSON\u001b[0m\u001b[0;34m)\u001b[0m\u001b[0;34m\u001b[0m\u001b[0m\n\u001b[0;32m---> 43\u001b[0;31m         \u001b[0mr\u001b[0m\u001b[0;34m.\u001b[0m\u001b[0mraise_for_status\u001b[0m\u001b[0;34m(\u001b[0m\u001b[0;34m)\u001b[0m\u001b[0;34m\u001b[0m\u001b[0m\n\u001b[0m",
         "\u001b[0;32m~/anaconda3/lib/python3.6/site-packages/requests/models.py\u001b[0m in \u001b[0;36mraise_for_status\u001b[0;34m(self)\u001b[0m\n\u001b[1;32m    933\u001b[0m \u001b[0;34m\u001b[0m\u001b[0m\n\u001b[1;32m    934\u001b[0m         \u001b[0;32mif\u001b[0m \u001b[0mhttp_error_msg\u001b[0m\u001b[0;34m:\u001b[0m\u001b[0;34m\u001b[0m\u001b[0m\n\u001b[0;32m--> 935\u001b[0;31m             \u001b[0;32mraise\u001b[0m \u001b[0mHTTPError\u001b[0m\u001b[0;34m(\u001b[0m\u001b[0mhttp_error_msg\u001b[0m\u001b[0;34m,\u001b[0m \u001b[0mresponse\u001b[0m\u001b[0;34m=\u001b[0m\u001b[0mself\u001b[0m\u001b[0;34m)\u001b[0m\u001b[0;34m\u001b[0m\u001b[0m\n\u001b[0m\u001b[1;32m    936\u001b[0m \u001b[0;34m\u001b[0m\u001b[0m\n\u001b[1;32m    937\u001b[0m     \u001b[0;32mdef\u001b[0m \u001b[0mclose\u001b[0m\u001b[0;34m(\u001b[0m\u001b[0mself\u001b[0m\u001b[0;34m)\u001b[0m\u001b[0;34m:\u001b[0m\u001b[0;34m\u001b[0m\u001b[0m\n",
         "\u001b[0;31mHTTPError\u001b[0m: 404 Client Error: Not Found for url: https://testing.sysmo-db.org/assays/new"
        ]
       }
      ],
      "source": "WO.request()",
      "start_time": "2019-03-15T16:32:08.989Z"
     },
     {
      "end_time": "2019-03-15T16:35:01.197Z",
      "execution_time": "209ms",
      "outputs": [
       {
        "ename": "HTTPError",
        "evalue": "404 Client Error: Not Found for url: https://testing.sysmo-db.org/assays/new",
        "output_type": "error",
        "traceback": [
         "\u001b[0;31m---------------------------------------------------------------------------\u001b[0m",
         "\u001b[0;31mHTTPError\u001b[0m                                 Traceback (most recent call last)",
         "\u001b[0;32m<ipython-input-3-352cab6f49f8>\u001b[0m in \u001b[0;36m<module>\u001b[0;34m()\u001b[0m\n\u001b[0;32m----> 1\u001b[0;31m \u001b[0mWO\u001b[0m\u001b[0;34m.\u001b[0m\u001b[0mrequest\u001b[0m\u001b[0;34m(\u001b[0m\u001b[0;34m)\u001b[0m\u001b[0;34m\u001b[0m\u001b[0m\n\u001b[0m",
         "\u001b[0;32m~/Work/ThirdYear/Seek/TheSeekNotebook/WriteObject.py\u001b[0m in \u001b[0;36mrequest\u001b[0;34m(self)\u001b[0m\n\u001b[1;32m     41\u001b[0m     \u001b[0;32mdef\u001b[0m \u001b[0mrequest\u001b[0m\u001b[0;34m(\u001b[0m\u001b[0mself\u001b[0m\u001b[0;34m)\u001b[0m\u001b[0;34m:\u001b[0m\u001b[0;34m\u001b[0m\u001b[0m\n\u001b[1;32m     42\u001b[0m         \u001b[0mr\u001b[0m \u001b[0;34m=\u001b[0m \u001b[0mself\u001b[0m\u001b[0;34m.\u001b[0m\u001b[0msession\u001b[0m\u001b[0;34m.\u001b[0m\u001b[0mpost\u001b[0m\u001b[0;34m(\u001b[0m\u001b[0mself\u001b[0m\u001b[0;34m.\u001b[0m\u001b[0mbase_url\u001b[0m \u001b[0;34m+\u001b[0m \u001b[0;34m'/'\u001b[0m \u001b[0;34m+\u001b[0m \u001b[0mself\u001b[0m\u001b[0;34m.\u001b[0m\u001b[0mtype\u001b[0m \u001b[0;34m+\u001b[0m \u001b[0;34m\"/new\"\u001b[0m\u001b[0;34m,\u001b[0m \u001b[0mjson\u001b[0m\u001b[0;34m=\u001b[0m\u001b[0mself\u001b[0m\u001b[0;34m.\u001b[0m\u001b[0mJSON\u001b[0m\u001b[0;34m)\u001b[0m\u001b[0;34m\u001b[0m\u001b[0m\n\u001b[0;32m---> 43\u001b[0;31m         \u001b[0mr\u001b[0m\u001b[0;34m.\u001b[0m\u001b[0mraise_for_status\u001b[0m\u001b[0;34m(\u001b[0m\u001b[0;34m)\u001b[0m\u001b[0;34m\u001b[0m\u001b[0m\n\u001b[0m",
         "\u001b[0;32m~/anaconda3/lib/python3.6/site-packages/requests/models.py\u001b[0m in \u001b[0;36mraise_for_status\u001b[0;34m(self)\u001b[0m\n\u001b[1;32m    933\u001b[0m \u001b[0;34m\u001b[0m\u001b[0m\n\u001b[1;32m    934\u001b[0m         \u001b[0;32mif\u001b[0m \u001b[0mhttp_error_msg\u001b[0m\u001b[0;34m:\u001b[0m\u001b[0;34m\u001b[0m\u001b[0m\n\u001b[0;32m--> 935\u001b[0;31m             \u001b[0;32mraise\u001b[0m \u001b[0mHTTPError\u001b[0m\u001b[0;34m(\u001b[0m\u001b[0mhttp_error_msg\u001b[0m\u001b[0;34m,\u001b[0m \u001b[0mresponse\u001b[0m\u001b[0;34m=\u001b[0m\u001b[0mself\u001b[0m\u001b[0;34m)\u001b[0m\u001b[0;34m\u001b[0m\u001b[0m\n\u001b[0m\u001b[1;32m    936\u001b[0m \u001b[0;34m\u001b[0m\u001b[0m\n\u001b[1;32m    937\u001b[0m     \u001b[0;32mdef\u001b[0m \u001b[0mclose\u001b[0m\u001b[0;34m(\u001b[0m\u001b[0mself\u001b[0m\u001b[0;34m)\u001b[0m\u001b[0;34m:\u001b[0m\u001b[0;34m\u001b[0m\u001b[0m\n",
         "\u001b[0;31mHTTPError\u001b[0m: 404 Client Error: Not Found for url: https://testing.sysmo-db.org/assays/new"
        ]
       }
      ],
      "source": "WO.request()",
      "start_time": "2019-03-15T16:35:00.988Z"
     }
    ]
   },
   "outputs": [],
   "source": [
    "WO.request()"
   ]
  }
 ],
 "metadata": {
  "kernelspec": {
   "display_name": "Python 3",
   "language": "python",
   "name": "python3"
  },
  "language_info": {
   "codemirror_mode": {
    "name": "ipython",
    "version": 3
   },
   "file_extension": ".py",
   "mimetype": "text/x-python",
   "name": "python",
   "nbconvert_exporter": "python",
   "pygments_lexer": "ipython3",
   "version": "3.6.5"
  }
 },
 "nbformat": 4,
 "nbformat_minor": 2
}
