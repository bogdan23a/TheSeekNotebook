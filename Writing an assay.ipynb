{
 "cells": [
  {
   "cell_type": "code",
   "execution_count": 2,
   "metadata": {
    "ExecutionTime": {
     "end_time": "2019-03-19T21:27:22.708388Z",
     "start_time": "2019-03-19T21:27:16.592064Z"
    },
    "provenance": [
     {
      "end_time": "Unknown",
      "execution_time": "Unknown",
      "outputs": [],
      "source": "",
      "start_time": "Unknown"
     },
     {
      "end_time": "2019-03-15T11:08:11.717Z",
      "execution_time": "9.45s",
      "outputs": [
       {
        "name": "stdout",
        "output_type": "stream",
        "text": "Please enter the name for the investigation: dada\n"
       },
       {
        "ename": "NameError",
        "evalue": "name 'containing_project_id' is not defined",
        "output_type": "error",
        "traceback": [
         "\u001b[0;31m---------------------------------------------------------------------------\u001b[0m",
         "\u001b[0;31mNameError\u001b[0m                                 Traceback (most recent call last)",
         "\u001b[0;32m<ipython-input-1-8f0274c1b3e2>\u001b[0m in \u001b[0;36m<module>\u001b[0;34m()\u001b[0m\n\u001b[1;32m      6\u001b[0m \u001b[0minvestigation\u001b[0m\u001b[0;34m[\u001b[0m\u001b[0;34m'data'\u001b[0m\u001b[0;34m]\u001b[0m\u001b[0;34m[\u001b[0m\u001b[0;34m'relationships'\u001b[0m\u001b[0;34m]\u001b[0m \u001b[0;34m=\u001b[0m \u001b[0;34m{\u001b[0m\u001b[0;34m}\u001b[0m\u001b[0;34m\u001b[0m\u001b[0m\n\u001b[1;32m      7\u001b[0m \u001b[0minvestigation\u001b[0m\u001b[0;34m[\u001b[0m\u001b[0;34m'data'\u001b[0m\u001b[0;34m]\u001b[0m\u001b[0;34m[\u001b[0m\u001b[0;34m'relationships'\u001b[0m\u001b[0;34m]\u001b[0m\u001b[0;34m[\u001b[0m\u001b[0;34m'projects'\u001b[0m\u001b[0;34m]\u001b[0m \u001b[0;34m=\u001b[0m \u001b[0;34m{\u001b[0m\u001b[0;34m}\u001b[0m\u001b[0;34m\u001b[0m\u001b[0m\n\u001b[0;32m----> 8\u001b[0;31m \u001b[0minvestigation\u001b[0m\u001b[0;34m[\u001b[0m\u001b[0;34m'data'\u001b[0m\u001b[0;34m]\u001b[0m\u001b[0;34m[\u001b[0m\u001b[0;34m'relationships'\u001b[0m\u001b[0;34m]\u001b[0m\u001b[0;34m[\u001b[0m\u001b[0;34m'projects'\u001b[0m\u001b[0;34m]\u001b[0m\u001b[0;34m[\u001b[0m\u001b[0;34m'data'\u001b[0m\u001b[0;34m]\u001b[0m \u001b[0;34m=\u001b[0m \u001b[0;34m[\u001b[0m\u001b[0;34m{\u001b[0m\u001b[0;34m'id'\u001b[0m \u001b[0;34m:\u001b[0m \u001b[0mcontaining_project_id\u001b[0m\u001b[0;34m,\u001b[0m \u001b[0;34m'type'\u001b[0m \u001b[0;34m:\u001b[0m \u001b[0;34m'projects'\u001b[0m\u001b[0;34m}\u001b[0m\u001b[0;34m]\u001b[0m\u001b[0;34m\u001b[0m\u001b[0m\n\u001b[0m",
         "\u001b[0;31mNameError\u001b[0m: name 'containing_project_id' is not defined"
        ]
       }
      ],
      "source": "investigation = {}\ninvestigation['data'] = {}\ninvestigation['data']['type'] = 'investigations'\ninvestigation['data']['attributes'] = {}\ninvestigation['data']['attributes']['title'] = input('Please enter the name for the investigation: ')\ninvestigation['data']['relationships'] = {}\ninvestigation['data']['relationships']['projects'] = {}\ninvestigation['data']['relationships']['projects']['data'] = [{'id' : containing_project_id, 'type' : 'projects'}]",
      "start_time": "2019-03-15T11:08:02.269Z"
     },
     {
      "end_time": "2019-03-15T11:09:21.237Z",
      "execution_time": "6.40s",
      "outputs": [
       {
        "name": "stdout",
        "output_type": "stream",
        "text": "Please enter the name for the investigation: alabala\nPlease enter the id of the project for this investigation23\n"
       }
      ],
      "source": "investigation = {}\ninvestigation['data'] = {}\ninvestigation['data']['type'] = 'investigations'\ninvestigation['data']['attributes'] = {}\ninvestigation['data']['attributes']['title'] = input('Please enter the name for the investigation: ')\ninvestigation['data']['relationships'] = {}\ninvestigation['data']['relationships']['projects'] = {}\ninvestigation['data']['relationships']['projects']['data'] = [{'id' : input('Please enter the id of the project for this investigation'), 'type' : 'projects'}]",
      "start_time": "2019-03-15T11:09:14.836Z"
     },
     {
      "end_time": "2019-03-15T11:09:29.230Z",
      "execution_time": "3.22s",
      "outputs": [
       {
        "name": "stdout",
        "output_type": "stream",
        "text": "Please enter the name for the investigation: alabala\nPlease enter the id of the project for this investigation: 123\n"
       }
      ],
      "source": "investigation = {}\ninvestigation['data'] = {}\ninvestigation['data']['type'] = 'investigations'\ninvestigation['data']['attributes'] = {}\ninvestigation['data']['attributes']['title'] = input('Please enter the name for the investigation: ')\ninvestigation['data']['relationships'] = {}\ninvestigation['data']['relationships']['projects'] = {}\ninvestigation['data']['relationships']['projects']['data'] = [{'id' : input('Please enter the id of the project for this investigation: '), 'type' : 'projects'}]",
      "start_time": "2019-03-15T11:09:26.012Z"
     },
     {
      "end_time": "2019-03-15T11:14:24.938Z",
      "execution_time": "5ms",
      "outputs": [
       {
        "ename": "SyntaxError",
        "evalue": "invalid syntax (WriteObject.py, line 21)",
        "output_type": "error",
        "traceback": [
         "Traceback \u001b[0;36m(most recent call last)\u001b[0m:\n",
         "  File \u001b[1;32m\"/home/bogdan/anaconda3/lib/python3.6/site-packages/IPython/core/interactiveshell.py\"\u001b[0m, line \u001b[1;32m2963\u001b[0m, in \u001b[1;35mrun_code\u001b[0m\n    exec(code_obj, self.user_global_ns, self.user_ns)\n",
         "\u001b[0;36m  File \u001b[0;32m\"<ipython-input-4-cd480b0c800a>\"\u001b[0;36m, line \u001b[0;32m1\u001b[0;36m, in \u001b[0;35m<module>\u001b[0;36m\u001b[0m\n\u001b[0;31m    from WriteObject import WriteObject\u001b[0m\n",
         "\u001b[0;36m  File \u001b[0;32m\"/home/bogdan/Work/ThirdYear/Seek/TheSeekNotebook/WriteObject.py\"\u001b[0;36m, line \u001b[0;32m21\u001b[0m\n\u001b[0;31m    def\u001b[0m\n\u001b[0m        ^\u001b[0m\n\u001b[0;31mSyntaxError\u001b[0m\u001b[0;31m:\u001b[0m invalid syntax\n"
        ]
       }
      ],
      "source": "from WriteObject import WriteObject\n\nWO = WriteObject()\n\nWO.SEEKForm()",
      "start_time": "2019-03-15T11:14:24.933Z"
     },
     {
      "end_time": "2019-03-15T11:14:35.191Z",
      "execution_time": "369ms",
      "outputs": [
       {
        "ename": "ImportError",
        "evalue": "cannot import name 'WriteObject'",
        "output_type": "error",
        "traceback": [
         "\u001b[0;31m---------------------------------------------------------------------------\u001b[0m",
         "\u001b[0;31mImportError\u001b[0m                               Traceback (most recent call last)",
         "\u001b[0;32m<ipython-input-5-cd480b0c800a>\u001b[0m in \u001b[0;36m<module>\u001b[0;34m()\u001b[0m\n\u001b[0;32m----> 1\u001b[0;31m \u001b[0;32mfrom\u001b[0m \u001b[0mWriteObject\u001b[0m \u001b[0;32mimport\u001b[0m \u001b[0mWriteObject\u001b[0m\u001b[0;34m\u001b[0m\u001b[0m\n\u001b[0m\u001b[1;32m      2\u001b[0m \u001b[0;34m\u001b[0m\u001b[0m\n\u001b[1;32m      3\u001b[0m \u001b[0mWO\u001b[0m \u001b[0;34m=\u001b[0m \u001b[0mWriteObject\u001b[0m\u001b[0;34m(\u001b[0m\u001b[0;34m)\u001b[0m\u001b[0;34m\u001b[0m\u001b[0m\n\u001b[1;32m      4\u001b[0m \u001b[0;34m\u001b[0m\u001b[0m\n\u001b[1;32m      5\u001b[0m \u001b[0mWO\u001b[0m\u001b[0;34m.\u001b[0m\u001b[0mSEEKForm\u001b[0m\u001b[0;34m(\u001b[0m\u001b[0;34m)\u001b[0m\u001b[0;34m\u001b[0m\u001b[0m\n",
         "\u001b[0;31mImportError\u001b[0m: cannot import name 'WriteObject'"
        ]
       }
      ],
      "source": "from WriteObject import WriteObject\n\nWO = WriteObject()\n\nWO.SEEKForm()",
      "start_time": "2019-03-15T11:14:34.822Z"
     },
     {
      "end_time": "2019-03-15T11:14:51.721Z",
      "execution_time": "151ms",
      "outputs": [
       {
        "ename": "ImportError",
        "evalue": "cannot import name 'WriteObject'",
        "output_type": "error",
        "traceback": [
         "\u001b[0;31m---------------------------------------------------------------------------\u001b[0m",
         "\u001b[0;31mImportError\u001b[0m                               Traceback (most recent call last)",
         "\u001b[0;32m<ipython-input-1-cd480b0c800a>\u001b[0m in \u001b[0;36m<module>\u001b[0;34m()\u001b[0m\n\u001b[0;32m----> 1\u001b[0;31m \u001b[0;32mfrom\u001b[0m \u001b[0mWriteObject\u001b[0m \u001b[0;32mimport\u001b[0m \u001b[0mWriteObject\u001b[0m\u001b[0;34m\u001b[0m\u001b[0m\n\u001b[0m\u001b[1;32m      2\u001b[0m \u001b[0;34m\u001b[0m\u001b[0m\n\u001b[1;32m      3\u001b[0m \u001b[0mWO\u001b[0m \u001b[0;34m=\u001b[0m \u001b[0mWriteObject\u001b[0m\u001b[0;34m(\u001b[0m\u001b[0;34m)\u001b[0m\u001b[0;34m\u001b[0m\u001b[0m\n\u001b[1;32m      4\u001b[0m \u001b[0;34m\u001b[0m\u001b[0m\n\u001b[1;32m      5\u001b[0m \u001b[0mWO\u001b[0m\u001b[0;34m.\u001b[0m\u001b[0mSEEKForm\u001b[0m\u001b[0;34m(\u001b[0m\u001b[0;34m)\u001b[0m\u001b[0;34m\u001b[0m\u001b[0m\n",
         "\u001b[0;31mImportError\u001b[0m: cannot import name 'WriteObject'"
        ]
       }
      ],
      "source": "from WriteObject import WriteObject\n\nWO = WriteObject()\n\nWO.SEEKForm()",
      "start_time": "2019-03-15T11:14:51.570Z"
     },
     {
      "end_time": "2019-03-15T11:15:05.606Z",
      "execution_time": "19ms",
      "outputs": [
       {
        "ename": "ImportError",
        "evalue": "cannot import name 'WriteObject'",
        "output_type": "error",
        "traceback": [
         "\u001b[0;31m---------------------------------------------------------------------------\u001b[0m",
         "\u001b[0;31mImportError\u001b[0m                               Traceback (most recent call last)",
         "\u001b[0;32m<ipython-input-2-cd480b0c800a>\u001b[0m in \u001b[0;36m<module>\u001b[0;34m()\u001b[0m\n\u001b[0;32m----> 1\u001b[0;31m \u001b[0;32mfrom\u001b[0m \u001b[0mWriteObject\u001b[0m \u001b[0;32mimport\u001b[0m \u001b[0mWriteObject\u001b[0m\u001b[0;34m\u001b[0m\u001b[0m\n\u001b[0m\u001b[1;32m      2\u001b[0m \u001b[0;34m\u001b[0m\u001b[0m\n\u001b[1;32m      3\u001b[0m \u001b[0mWO\u001b[0m \u001b[0;34m=\u001b[0m \u001b[0mWriteObject\u001b[0m\u001b[0;34m(\u001b[0m\u001b[0;34m)\u001b[0m\u001b[0;34m\u001b[0m\u001b[0m\n\u001b[1;32m      4\u001b[0m \u001b[0;34m\u001b[0m\u001b[0m\n\u001b[1;32m      5\u001b[0m \u001b[0mWO\u001b[0m\u001b[0;34m.\u001b[0m\u001b[0mSEEKForm\u001b[0m\u001b[0;34m(\u001b[0m\u001b[0;34m)\u001b[0m\u001b[0;34m\u001b[0m\u001b[0m\n",
         "\u001b[0;31mImportError\u001b[0m: cannot import name 'WriteObject'"
        ]
       }
      ],
      "source": "from WriteObject import WriteObject\n\nWO = WriteObject()\n\nWO.SEEKForm()",
      "start_time": "2019-03-15T11:15:05.587Z"
     },
     {
      "end_time": "2019-03-15T11:15:15.242Z",
      "execution_time": "4.79s",
      "outputs": [
       {
        "data": {
         "text/html": "<h3>SEEK FORM</h3>",
         "text/plain": "<IPython.core.display.HTML object>"
        },
        "metadata": {},
        "output_type": "display_data",
        "transient": {}
       },
       {
        "name": "stdout",
        "output_type": "stream",
        "text": "\nThe type of object you want to upload to SEEK: investigation\nYou need to complete the following for in order to succesfully upload your information to SEEK\n"
       }
      ],
      "source": "from WriteObject import WriteObject\n\nWO = WriteObject()\n\nWO.SEEKForm()",
      "start_time": "2019-03-15T11:15:10.453Z"
     },
     {
      "end_time": "2019-03-15T11:59:52.246Z",
      "execution_time": "4.14s",
      "outputs": [
       {
        "data": {
         "text/html": "<h3>SEEK FORM</h3>",
         "text/plain": "<IPython.core.display.HTML object>"
        },
        "metadata": {},
        "output_type": "display_data",
        "transient": {}
       },
       {
        "name": "stdout",
        "output_type": "stream",
        "text": "\nThe type of object you want to upload to SEEK: da\n\nYou need to complete the following for in order to succesfully upload your information to SEEK\n"
       }
      ],
      "source": "from WriteObject import WriteObject\n\nWO = WriteObject()\n\nWO.SEEKForm()",
      "start_time": "2019-03-15T11:59:48.103Z"
     },
     {
      "end_time": "2019-03-15T12:04:58.709Z",
      "execution_time": "2.12s",
      "outputs": [
       {
        "data": {
         "text/html": "<h3>SEEK FORM</h3>",
         "text/plain": "<IPython.core.display.HTML object>"
        },
        "metadata": {},
        "output_type": "display_data",
        "transient": {}
       },
       {
        "name": "stdout",
        "output_type": "stream",
        "text": "\nThe type of object you want to upload to SEEK: as\n\nYou need to complete the following for in order to succesfully upload your information to SEEK\n"
       }
      ],
      "source": "from WriteObject import WriteObject\n\nWO = WriteObject()\n\nWO.SEEKForm()",
      "start_time": "2019-03-15T12:04:56.593Z"
     },
     {
      "end_time": "2019-03-15T12:09:18.334Z",
      "execution_time": "4.67s",
      "outputs": [
       {
        "name": "stdout",
        "output_type": "stream",
        "text": "Please specify the type: da\nPlease specify the description: da\nPlease specify other creators: da\nPlease specify the snapshots: da\nPlease specify the title: da\nPlease specify how many assays is this investigation related to: 10\n"
       },
       {
        "ename": "TypeError",
        "evalue": "must be str, not int",
        "output_type": "error",
        "traceback": [
         "\u001b[0;31m---------------------------------------------------------------------------\u001b[0m",
         "\u001b[0;31mTypeError\u001b[0m                                 Traceback (most recent call last)",
         "\u001b[0;32m<ipython-input-1-ed7a91e8dfa5>\u001b[0m in \u001b[0;36m<module>\u001b[0;34m()\u001b[0m\n\u001b[1;32m      3\u001b[0m \u001b[0mWO\u001b[0m \u001b[0;34m=\u001b[0m \u001b[0mWriteObject\u001b[0m\u001b[0;34m(\u001b[0m\u001b[0;34m)\u001b[0m\u001b[0;34m\u001b[0m\u001b[0m\n\u001b[1;32m      4\u001b[0m \u001b[0;34m\u001b[0m\u001b[0m\n\u001b[0;32m----> 5\u001b[0;31m \u001b[0mWO\u001b[0m\u001b[0;34m.\u001b[0m\u001b[0mJSONForm\u001b[0m\u001b[0;34m(\u001b[0m\u001b[0;34m)\u001b[0m\u001b[0;34m\u001b[0m\u001b[0m\n\u001b[0m",
         "\u001b[0;32m~/Work/ThirdYear/Seek/TheSeekNotebook/WriteObject.py\u001b[0m in \u001b[0;36mJSONForm\u001b[0;34m(self)\u001b[0m\n\u001b[1;32m     33\u001b[0m     \u001b[0;32mdef\u001b[0m \u001b[0mJSONForm\u001b[0m\u001b[0;34m(\u001b[0m\u001b[0mself\u001b[0m\u001b[0;34m)\u001b[0m\u001b[0;34m:\u001b[0m\u001b[0;34m\u001b[0m\u001b[0m\n\u001b[1;32m     34\u001b[0m \u001b[0;34m\u001b[0m\u001b[0m\n\u001b[0;32m---> 35\u001b[0;31m         \u001b[0mprint\u001b[0m\u001b[0;34m(\u001b[0m\u001b[0mHelper\u001b[0m\u001b[0;34m.\u001b[0m\u001b[0minvestigationFormat\u001b[0m\u001b[0;34m(\u001b[0m\u001b[0;34m)\u001b[0m\u001b[0;34m)\u001b[0m\u001b[0;34m\u001b[0m\u001b[0m\n\u001b[0m",
         "\u001b[0;32m~/Work/ThirdYear/Seek/TheSeekNotebook/Helper.py\u001b[0m in \u001b[0;36minvestigationFormat\u001b[0;34m()\u001b[0m\n\u001b[1;32m     15\u001b[0m     \u001b[0;32mfor\u001b[0m \u001b[0mindex\u001b[0m \u001b[0;32min\u001b[0m \u001b[0mrange\u001b[0m\u001b[0;34m(\u001b[0m\u001b[0;36m0\u001b[0m\u001b[0;34m,\u001b[0m \u001b[0mnumberOfAssays\u001b[0m\u001b[0;34m)\u001b[0m\u001b[0;34m:\u001b[0m\u001b[0;34m\u001b[0m\u001b[0m\n\u001b[1;32m     16\u001b[0m \u001b[0;34m\u001b[0m\u001b[0m\n\u001b[0;32m---> 17\u001b[0;31m         \u001b[0mJSON\u001b[0m\u001b[0;34m[\u001b[0m\u001b[0;34m'data'\u001b[0m\u001b[0;34m]\u001b[0m\u001b[0;34m[\u001b[0m\u001b[0;34m'relationships'\u001b[0m\u001b[0;34m]\u001b[0m\u001b[0;34m[\u001b[0m\u001b[0;34m'assays'\u001b[0m\u001b[0;34m]\u001b[0m\u001b[0;34m[\u001b[0m\u001b[0mindex\u001b[0m\u001b[0;34m]\u001b[0m \u001b[0;34m=\u001b[0m \u001b[0;34m[\u001b[0m\u001b[0;34m{\u001b[0m\u001b[0;34m'id'\u001b[0m \u001b[0;34m:\u001b[0m \u001b[0minput\u001b[0m\u001b[0;34m(\u001b[0m\u001b[0;34m'Please specify the id of the '\u001b[0m \u001b[0;34m+\u001b[0m \u001b[0mindex\u001b[0m \u001b[0;34m+\u001b[0m \u001b[0;34m' assay: '\u001b[0m\u001b[0;34m)\u001b[0m\u001b[0;34m,\u001b[0m \u001b[0;34m'type'\u001b[0m \u001b[0;34m:\u001b[0m \u001b[0;34m'assays'\u001b[0m\u001b[0;34m}\u001b[0m\u001b[0;34m]\u001b[0m\u001b[0;34m\u001b[0m\u001b[0m\n\u001b[0m\u001b[1;32m     18\u001b[0m     \u001b[0mJSON\u001b[0m\u001b[0;34m[\u001b[0m\u001b[0;34m'data'\u001b[0m\u001b[0;34m]\u001b[0m\u001b[0;34m[\u001b[0m\u001b[0;34m'relationships'\u001b[0m\u001b[0;34m]\u001b[0m\u001b[0;34m[\u001b[0m\u001b[0;34m'creators'\u001b[0m\u001b[0;34m]\u001b[0m \u001b[0;34m=\u001b[0m \u001b[0minput\u001b[0m\u001b[0;34m(\u001b[0m\u001b[0;34m'Please input the type: '\u001b[0m\u001b[0;34m)\u001b[0m\u001b[0;34m\u001b[0m\u001b[0m\n\u001b[1;32m     19\u001b[0m     \u001b[0mJSON\u001b[0m\u001b[0;34m[\u001b[0m\u001b[0;34m'data'\u001b[0m\u001b[0;34m]\u001b[0m\u001b[0;34m[\u001b[0m\u001b[0;34m'relationships'\u001b[0m\u001b[0;34m]\u001b[0m\u001b[0;34m[\u001b[0m\u001b[0;34m'data_files'\u001b[0m\u001b[0;34m]\u001b[0m \u001b[0;34m=\u001b[0m \u001b[0minput\u001b[0m\u001b[0;34m(\u001b[0m\u001b[0;34m'Please input the type: '\u001b[0m\u001b[0;34m)\u001b[0m\u001b[0;34m\u001b[0m\u001b[0m\n",
         "\u001b[0;31mTypeError\u001b[0m: must be str, not int"
        ]
       }
      ],
      "source": "from WriteObject import WriteObject\n\nWO = WriteObject()\n\nWO.JSONForm()",
      "start_time": "2019-03-15T12:09:13.663Z"
     },
     {
      "end_time": "2019-03-15T12:11:19.203Z",
      "execution_time": "42.8s",
      "outputs": [
       {
        "name": "stdout",
        "output_type": "stream",
        "text": "Please specify the type: ad\nPlease specify the description: da\nPlease specify other creators: da\nPlease specify the snapshots: da\nPlease specify the title: da\nPlease specify how many assays is this investigation related to: 10\nPlease specify the id of the 0 assay: 123\n"
       },
       {
        "ename": "KeyError",
        "evalue": "'assays'",
        "output_type": "error",
        "traceback": [
         "\u001b[0;31m---------------------------------------------------------------------------\u001b[0m",
         "\u001b[0;31mKeyError\u001b[0m                                  Traceback (most recent call last)",
         "\u001b[0;32m<ipython-input-1-ed7a91e8dfa5>\u001b[0m in \u001b[0;36m<module>\u001b[0;34m()\u001b[0m\n\u001b[1;32m      3\u001b[0m \u001b[0mWO\u001b[0m \u001b[0;34m=\u001b[0m \u001b[0mWriteObject\u001b[0m\u001b[0;34m(\u001b[0m\u001b[0;34m)\u001b[0m\u001b[0;34m\u001b[0m\u001b[0m\n\u001b[1;32m      4\u001b[0m \u001b[0;34m\u001b[0m\u001b[0m\n\u001b[0;32m----> 5\u001b[0;31m \u001b[0mWO\u001b[0m\u001b[0;34m.\u001b[0m\u001b[0mJSONForm\u001b[0m\u001b[0;34m(\u001b[0m\u001b[0;34m)\u001b[0m\u001b[0;34m\u001b[0m\u001b[0m\n\u001b[0m",
         "\u001b[0;32m~/Work/ThirdYear/Seek/TheSeekNotebook/WriteObject.py\u001b[0m in \u001b[0;36mJSONForm\u001b[0;34m(self)\u001b[0m\n\u001b[1;32m     33\u001b[0m     \u001b[0;32mdef\u001b[0m \u001b[0mJSONForm\u001b[0m\u001b[0;34m(\u001b[0m\u001b[0mself\u001b[0m\u001b[0;34m)\u001b[0m\u001b[0;34m:\u001b[0m\u001b[0;34m\u001b[0m\u001b[0m\n\u001b[1;32m     34\u001b[0m \u001b[0;34m\u001b[0m\u001b[0m\n\u001b[0;32m---> 35\u001b[0;31m         \u001b[0mprint\u001b[0m\u001b[0;34m(\u001b[0m\u001b[0mHelper\u001b[0m\u001b[0;34m.\u001b[0m\u001b[0minvestigationFormat\u001b[0m\u001b[0;34m(\u001b[0m\u001b[0;34m)\u001b[0m\u001b[0;34m)\u001b[0m\u001b[0;34m\u001b[0m\u001b[0m\n\u001b[0m",
         "\u001b[0;32m~/Work/ThirdYear/Seek/TheSeekNotebook/Helper.py\u001b[0m in \u001b[0;36minvestigationFormat\u001b[0;34m()\u001b[0m\n\u001b[1;32m     15\u001b[0m     \u001b[0;32mfor\u001b[0m \u001b[0mindex\u001b[0m \u001b[0;32min\u001b[0m \u001b[0mrange\u001b[0m\u001b[0;34m(\u001b[0m\u001b[0;36m0\u001b[0m\u001b[0;34m,\u001b[0m \u001b[0mnumberOfAssays\u001b[0m\u001b[0;34m)\u001b[0m\u001b[0;34m:\u001b[0m\u001b[0;34m\u001b[0m\u001b[0m\n\u001b[1;32m     16\u001b[0m \u001b[0;34m\u001b[0m\u001b[0m\n\u001b[0;32m---> 17\u001b[0;31m         \u001b[0mJSON\u001b[0m\u001b[0;34m[\u001b[0m\u001b[0;34m'data'\u001b[0m\u001b[0;34m]\u001b[0m\u001b[0;34m[\u001b[0m\u001b[0;34m'relationships'\u001b[0m\u001b[0;34m]\u001b[0m\u001b[0;34m[\u001b[0m\u001b[0;34m'assays'\u001b[0m\u001b[0;34m]\u001b[0m\u001b[0;34m[\u001b[0m\u001b[0mindex\u001b[0m\u001b[0;34m]\u001b[0m \u001b[0;34m=\u001b[0m \u001b[0;34m[\u001b[0m\u001b[0;34m{\u001b[0m\u001b[0;34m'id'\u001b[0m \u001b[0;34m:\u001b[0m \u001b[0minput\u001b[0m\u001b[0;34m(\u001b[0m\u001b[0;34m'Please specify the id of the '\u001b[0m \u001b[0;34m+\u001b[0m \u001b[0mstr\u001b[0m\u001b[0;34m(\u001b[0m\u001b[0mindex\u001b[0m\u001b[0;34m)\u001b[0m \u001b[0;34m+\u001b[0m \u001b[0;34m' assay: '\u001b[0m\u001b[0;34m)\u001b[0m\u001b[0;34m,\u001b[0m \u001b[0;34m'type'\u001b[0m \u001b[0;34m:\u001b[0m \u001b[0;34m'assays'\u001b[0m\u001b[0;34m}\u001b[0m\u001b[0;34m]\u001b[0m\u001b[0;34m\u001b[0m\u001b[0m\n\u001b[0m\u001b[1;32m     18\u001b[0m     \u001b[0mJSON\u001b[0m\u001b[0;34m[\u001b[0m\u001b[0;34m'data'\u001b[0m\u001b[0;34m]\u001b[0m\u001b[0;34m[\u001b[0m\u001b[0;34m'relationships'\u001b[0m\u001b[0;34m]\u001b[0m\u001b[0;34m[\u001b[0m\u001b[0;34m'creators'\u001b[0m\u001b[0;34m]\u001b[0m \u001b[0;34m=\u001b[0m \u001b[0minput\u001b[0m\u001b[0;34m(\u001b[0m\u001b[0;34m'Please input the type: '\u001b[0m\u001b[0;34m)\u001b[0m\u001b[0;34m\u001b[0m\u001b[0m\n\u001b[1;32m     19\u001b[0m     \u001b[0mJSON\u001b[0m\u001b[0;34m[\u001b[0m\u001b[0;34m'data'\u001b[0m\u001b[0;34m]\u001b[0m\u001b[0;34m[\u001b[0m\u001b[0;34m'relationships'\u001b[0m\u001b[0;34m]\u001b[0m\u001b[0;34m[\u001b[0m\u001b[0;34m'data_files'\u001b[0m\u001b[0;34m]\u001b[0m \u001b[0;34m=\u001b[0m \u001b[0minput\u001b[0m\u001b[0;34m(\u001b[0m\u001b[0;34m'Please input the type: '\u001b[0m\u001b[0;34m)\u001b[0m\u001b[0;34m\u001b[0m\u001b[0m\n",
         "\u001b[0;31mKeyError\u001b[0m: 'assays'"
        ]
       }
      ],
      "source": "from WriteObject import WriteObject\n\nWO = WriteObject()\n\nWO.JSONForm()",
      "start_time": "2019-03-15T12:10:36.425Z"
     },
     {
      "end_time": "2019-03-15T12:22:14.350Z",
      "execution_time": "8.76s",
      "outputs": [
       {
        "name": "stdout",
        "output_type": "stream",
        "text": "Please specify the type: ad\nPlease specify the description: ad\nPlease specify other creators: ad\nPlease specify the snapshots: ad\nPlease specify the title: ad\nPlease specify how many assays is this investigation related to: 10\nPlease specify the id of the assay number 112\n"
       },
       {
        "ename": "IndexError",
        "evalue": "list assignment index out of range",
        "output_type": "error",
        "traceback": [
         "\u001b[0;31m---------------------------------------------------------------------------\u001b[0m",
         "\u001b[0;31mIndexError\u001b[0m                                Traceback (most recent call last)",
         "\u001b[0;32m<ipython-input-1-ed7a91e8dfa5>\u001b[0m in \u001b[0;36m<module>\u001b[0;34m()\u001b[0m\n\u001b[1;32m      3\u001b[0m \u001b[0mWO\u001b[0m \u001b[0;34m=\u001b[0m \u001b[0mWriteObject\u001b[0m\u001b[0;34m(\u001b[0m\u001b[0;34m)\u001b[0m\u001b[0;34m\u001b[0m\u001b[0m\n\u001b[1;32m      4\u001b[0m \u001b[0;34m\u001b[0m\u001b[0m\n\u001b[0;32m----> 5\u001b[0;31m \u001b[0mWO\u001b[0m\u001b[0;34m.\u001b[0m\u001b[0mJSONForm\u001b[0m\u001b[0;34m(\u001b[0m\u001b[0;34m)\u001b[0m\u001b[0;34m\u001b[0m\u001b[0m\n\u001b[0m",
         "\u001b[0;32m~/Work/ThirdYear/Seek/TheSeekNotebook/WriteObject.py\u001b[0m in \u001b[0;36mJSONForm\u001b[0;34m(self)\u001b[0m\n\u001b[1;32m     33\u001b[0m     \u001b[0;32mdef\u001b[0m \u001b[0mJSONForm\u001b[0m\u001b[0;34m(\u001b[0m\u001b[0mself\u001b[0m\u001b[0;34m)\u001b[0m\u001b[0;34m:\u001b[0m\u001b[0;34m\u001b[0m\u001b[0m\n\u001b[1;32m     34\u001b[0m \u001b[0;34m\u001b[0m\u001b[0m\n\u001b[0;32m---> 35\u001b[0;31m         \u001b[0mprint\u001b[0m\u001b[0;34m(\u001b[0m\u001b[0mHelper\u001b[0m\u001b[0;34m.\u001b[0m\u001b[0minvestigationFormat\u001b[0m\u001b[0;34m(\u001b[0m\u001b[0;34m)\u001b[0m\u001b[0;34m)\u001b[0m\u001b[0;34m\u001b[0m\u001b[0m\n\u001b[0m",
         "\u001b[0;32m~/Work/ThirdYear/Seek/TheSeekNotebook/Helper.py\u001b[0m in \u001b[0;36minvestigationFormat\u001b[0;34m()\u001b[0m\n\u001b[1;32m     17\u001b[0m     \u001b[0;32mfor\u001b[0m \u001b[0mindex\u001b[0m \u001b[0;32min\u001b[0m \u001b[0mrange\u001b[0m\u001b[0;34m(\u001b[0m\u001b[0;36m1\u001b[0m\u001b[0;34m,\u001b[0m \u001b[0mnumberOfAssays\u001b[0m \u001b[0;34m+\u001b[0m \u001b[0;36m1\u001b[0m\u001b[0;34m)\u001b[0m\u001b[0;34m:\u001b[0m\u001b[0;34m\u001b[0m\u001b[0m\n\u001b[1;32m     18\u001b[0m \u001b[0;34m\u001b[0m\u001b[0m\n\u001b[0;32m---> 19\u001b[0;31m         \u001b[0mJSON\u001b[0m\u001b[0;34m[\u001b[0m\u001b[0;34m'data'\u001b[0m\u001b[0;34m]\u001b[0m\u001b[0;34m[\u001b[0m\u001b[0;34m'relationships'\u001b[0m\u001b[0;34m]\u001b[0m\u001b[0;34m[\u001b[0m\u001b[0;34m'assays'\u001b[0m\u001b[0;34m]\u001b[0m\u001b[0;34m[\u001b[0m\u001b[0mindex\u001b[0m\u001b[0;34m]\u001b[0m \u001b[0;34m=\u001b[0m \u001b[0;34m[\u001b[0m\u001b[0;34m{\u001b[0m\u001b[0;34m'id'\u001b[0m \u001b[0;34m:\u001b[0m \u001b[0minput\u001b[0m\u001b[0;34m(\u001b[0m\u001b[0;34m'Please specify the id of the assay number '\u001b[0m \u001b[0;34m+\u001b[0m \u001b[0mstr\u001b[0m\u001b[0;34m(\u001b[0m\u001b[0mindex\u001b[0m\u001b[0;34m)\u001b[0m\u001b[0;34m)\u001b[0m\u001b[0;34m,\u001b[0m \u001b[0;34m'type'\u001b[0m \u001b[0;34m:\u001b[0m \u001b[0;34m'assays'\u001b[0m\u001b[0;34m}\u001b[0m\u001b[0;34m]\u001b[0m\u001b[0;34m\u001b[0m\u001b[0m\n\u001b[0m\u001b[1;32m     20\u001b[0m \u001b[0;34m\u001b[0m\u001b[0m\n\u001b[1;32m     21\u001b[0m     \u001b[0mJSON\u001b[0m\u001b[0;34m[\u001b[0m\u001b[0;34m'data'\u001b[0m\u001b[0;34m]\u001b[0m\u001b[0;34m[\u001b[0m\u001b[0;34m'relationships'\u001b[0m\u001b[0;34m]\u001b[0m\u001b[0;34m[\u001b[0m\u001b[0;34m'assays'\u001b[0m\u001b[0;34m]\u001b[0m \u001b[0;34m=\u001b[0m \u001b[0;34m[\u001b[0m\u001b[0;34m]\u001b[0m\u001b[0;34m\u001b[0m\u001b[0m\n",
         "\u001b[0;31mIndexError\u001b[0m: list assignment index out of range"
        ]
       }
      ],
      "source": "from WriteObject import WriteObject\n\nWO = WriteObject()\n\nWO.JSONForm()",
      "start_time": "2019-03-15T12:22:05.590Z"
     },
     {
      "end_time": "2019-03-15T12:22:29.283Z",
      "execution_time": "5.83s",
      "outputs": [
       {
        "name": "stdout",
        "output_type": "stream",
        "text": "Please specify the type: asd\nPlease specify the description: asd\nPlease specify other creators: asd\nPlease specify the snapshots: asd\nPlease specify the title: asd\nPlease specify how many assays is this investigation related to: 10\nPlease specify the id of the assay number 123\n"
       },
       {
        "ename": "IndexError",
        "evalue": "list assignment index out of range",
        "output_type": "error",
        "traceback": [
         "\u001b[0;31m---------------------------------------------------------------------------\u001b[0m",
         "\u001b[0;31mIndexError\u001b[0m                                Traceback (most recent call last)",
         "\u001b[0;32m<ipython-input-2-ed7a91e8dfa5>\u001b[0m in \u001b[0;36m<module>\u001b[0;34m()\u001b[0m\n\u001b[1;32m      3\u001b[0m \u001b[0mWO\u001b[0m \u001b[0;34m=\u001b[0m \u001b[0mWriteObject\u001b[0m\u001b[0;34m(\u001b[0m\u001b[0;34m)\u001b[0m\u001b[0;34m\u001b[0m\u001b[0m\n\u001b[1;32m      4\u001b[0m \u001b[0;34m\u001b[0m\u001b[0m\n\u001b[0;32m----> 5\u001b[0;31m \u001b[0mWO\u001b[0m\u001b[0;34m.\u001b[0m\u001b[0mJSONForm\u001b[0m\u001b[0;34m(\u001b[0m\u001b[0;34m)\u001b[0m\u001b[0;34m\u001b[0m\u001b[0m\n\u001b[0m",
         "\u001b[0;32m~/Work/ThirdYear/Seek/TheSeekNotebook/WriteObject.py\u001b[0m in \u001b[0;36mJSONForm\u001b[0;34m(self)\u001b[0m\n\u001b[1;32m     33\u001b[0m     \u001b[0;32mdef\u001b[0m \u001b[0mJSONForm\u001b[0m\u001b[0;34m(\u001b[0m\u001b[0mself\u001b[0m\u001b[0;34m)\u001b[0m\u001b[0;34m:\u001b[0m\u001b[0;34m\u001b[0m\u001b[0m\n\u001b[1;32m     34\u001b[0m \u001b[0;34m\u001b[0m\u001b[0m\n\u001b[0;32m---> 35\u001b[0;31m         \u001b[0mprint\u001b[0m\u001b[0;34m(\u001b[0m\u001b[0mHelper\u001b[0m\u001b[0;34m.\u001b[0m\u001b[0minvestigationFormat\u001b[0m\u001b[0;34m(\u001b[0m\u001b[0;34m)\u001b[0m\u001b[0;34m)\u001b[0m\u001b[0;34m\u001b[0m\u001b[0m\n\u001b[0m",
         "\u001b[0;32m~/Work/ThirdYear/Seek/TheSeekNotebook/Helper.py\u001b[0m in \u001b[0;36minvestigationFormat\u001b[0;34m()\u001b[0m\n\u001b[1;32m     17\u001b[0m     \u001b[0;32mfor\u001b[0m \u001b[0mindex\u001b[0m \u001b[0;32min\u001b[0m \u001b[0mrange\u001b[0m\u001b[0;34m(\u001b[0m\u001b[0;36m1\u001b[0m\u001b[0;34m,\u001b[0m \u001b[0mnumberOfAssays\u001b[0m \u001b[0;34m+\u001b[0m \u001b[0;36m1\u001b[0m\u001b[0;34m)\u001b[0m\u001b[0;34m:\u001b[0m\u001b[0;34m\u001b[0m\u001b[0m\n\u001b[1;32m     18\u001b[0m \u001b[0;34m\u001b[0m\u001b[0m\n\u001b[0;32m---> 19\u001b[0;31m         \u001b[0mJSON\u001b[0m\u001b[0;34m[\u001b[0m\u001b[0;34m'data'\u001b[0m\u001b[0;34m]\u001b[0m\u001b[0;34m[\u001b[0m\u001b[0;34m'relationships'\u001b[0m\u001b[0;34m]\u001b[0m\u001b[0;34m[\u001b[0m\u001b[0;34m'assays'\u001b[0m\u001b[0;34m]\u001b[0m\u001b[0;34m[\u001b[0m\u001b[0mindex\u001b[0m\u001b[0;34m]\u001b[0m \u001b[0;34m=\u001b[0m \u001b[0;34m[\u001b[0m\u001b[0;34m{\u001b[0m\u001b[0;34m'id'\u001b[0m \u001b[0;34m:\u001b[0m \u001b[0minput\u001b[0m\u001b[0;34m(\u001b[0m\u001b[0;34m'Please specify the id of the assay number '\u001b[0m \u001b[0;34m+\u001b[0m \u001b[0mstr\u001b[0m\u001b[0;34m(\u001b[0m\u001b[0mindex\u001b[0m\u001b[0;34m)\u001b[0m\u001b[0;34m)\u001b[0m\u001b[0;34m,\u001b[0m \u001b[0;34m'type'\u001b[0m \u001b[0;34m:\u001b[0m \u001b[0;34m'assays'\u001b[0m\u001b[0;34m}\u001b[0m\u001b[0;34m]\u001b[0m\u001b[0;34m\u001b[0m\u001b[0m\n\u001b[0m\u001b[1;32m     20\u001b[0m \u001b[0;34m\u001b[0m\u001b[0m\n\u001b[1;32m     21\u001b[0m     \u001b[0mJSON\u001b[0m\u001b[0;34m[\u001b[0m\u001b[0;34m'data'\u001b[0m\u001b[0;34m]\u001b[0m\u001b[0;34m[\u001b[0m\u001b[0;34m'relationships'\u001b[0m\u001b[0;34m]\u001b[0m\u001b[0;34m[\u001b[0m\u001b[0;34m'assays'\u001b[0m\u001b[0;34m]\u001b[0m \u001b[0;34m=\u001b[0m \u001b[0;34m[\u001b[0m\u001b[0;34m]\u001b[0m\u001b[0;34m\u001b[0m\u001b[0m\n",
         "\u001b[0;31mIndexError\u001b[0m: list assignment index out of range"
        ]
       }
      ],
      "source": "from WriteObject import WriteObject\n\nWO = WriteObject()\n\nWO.JSONForm()",
      "start_time": "2019-03-15T12:22:23.451Z"
     },
     {
      "end_time": "2019-03-15T12:22:56.383Z",
      "execution_time": "103ms",
      "outputs": [
       {
        "ename": "SyntaxError",
        "evalue": "invalid syntax (Helper.py, line 19)",
        "output_type": "error",
        "traceback": [
         "Traceback \u001b[0;36m(most recent call last)\u001b[0m:\n",
         "  File \u001b[1;32m\"/home/bogdan/anaconda3/lib/python3.6/site-packages/IPython/core/interactiveshell.py\"\u001b[0m, line \u001b[1;32m2963\u001b[0m, in \u001b[1;35mrun_code\u001b[0m\n    exec(code_obj, self.user_global_ns, self.user_ns)\n",
         "  File \u001b[1;32m\"<ipython-input-1-ed7a91e8dfa5>\"\u001b[0m, line \u001b[1;32m1\u001b[0m, in \u001b[1;35m<module>\u001b[0m\n    from WriteObject import WriteObject\n",
         "\u001b[0;36m  File \u001b[0;32m\"/home/bogdan/Work/ThirdYear/Seek/TheSeekNotebook/WriteObject.py\"\u001b[0;36m, line \u001b[0;32m5\u001b[0;36m, in \u001b[0;35m<module>\u001b[0;36m\u001b[0m\n\u001b[0;31m    import Helper\u001b[0m\n",
         "\u001b[0;36m  File \u001b[0;32m\"/home/bogdan/Work/ThirdYear/Seek/TheSeekNotebook/Helper.py\"\u001b[0;36m, line \u001b[0;32m19\u001b[0m\n\u001b[0;31m    JSON['data']['relationships']['assays'].append([{'id' : input('Please specify the id of the assay number ' + str(index)), 'type' : 'assays'})\u001b[0m\n\u001b[0m                                                                                                                                                ^\u001b[0m\n\u001b[0;31mSyntaxError\u001b[0m\u001b[0;31m:\u001b[0m invalid syntax\n"
        ]
       }
      ],
      "source": "from WriteObject import WriteObject\n\nWO = WriteObject()\n\nWO.JSONForm()",
      "start_time": "2019-03-15T12:22:56.280Z"
     },
     {
      "end_time": "2019-03-15T12:36:50.929Z",
      "execution_time": "2m 5s",
      "outputs": [
       {
        "name": "stdout",
        "output_type": "stream",
        "text": "Please specify the type: l\nPlease specify the description: l\nPlease specify other creators: \nPlease specify the snapshots: l\nPlease specify the title: l\nPlease specify how many assays is this investigation related to: 0\nPlease specify how many creators is this investigation related to: 0\nPlease specify how many data files is this investigation related to: 1\nPlease specify the id of the data file number 1123\nPlease specify how many documents is this investigation related to: 0\nPlease specify how many models is this investigation related to: 23\nPlease specify the id of the model number 12\nPlease specify the id of the model number 23\nPlease specify the id of the model number 34\nPlease specify the id of the model number 45\nPlease specify the id of the model number 56\nPlease specify the id of the model number 63\nPlease specify the id of the model number 76\nPlease specify the id of the model number 83\nPlease specify the id of the model number 95\nPlease specify the id of the model number 106\nPlease specify the id of the model number 113\nPlease specify the id of the model number 125\nPlease specify the id of the model number 132\nPlease specify the id of the model number 145\nPlease specify the id of the model number 152\nPlease specify the id of the model number 165\nPlease specify the id of the model number 173\nPlease specify the id of the model number 185\nPlease specify the id of the model number 192\nPlease specify the id of the model number 201\nPlease specify the id of the model number 215\nPlease specify the id of the model number 222\nPlease specify the id of the model number 235\nPlease specify how many people is this investigation related to: 0\nPlease specify how many projects is this investigation related to: 0\nPlease specify how many publications is this investigation related to: 0\nPlease specify how many sops is this investigation related to: 0\nPlease specify how many studies is this investigation related to: 0\nPlease specify how many submitters is this investigation related to: 0\nPlease input the type: asd\nPlease input the type: asd\nPlease input the type: asd\nPlease input the type: \nPlease input the type: asd\nPlease input the type: asd\n"
       },
       {
        "ename": "KeyError",
        "evalue": "'links'",
        "output_type": "error",
        "traceback": [
         "\u001b[0;31m---------------------------------------------------------------------------\u001b[0m",
         "\u001b[0;31mKeyError\u001b[0m                                  Traceback (most recent call last)",
         "\u001b[0;32m<ipython-input-1-ed7a91e8dfa5>\u001b[0m in \u001b[0;36m<module>\u001b[0;34m()\u001b[0m\n\u001b[1;32m      3\u001b[0m \u001b[0mWO\u001b[0m \u001b[0;34m=\u001b[0m \u001b[0mWriteObject\u001b[0m\u001b[0;34m(\u001b[0m\u001b[0;34m)\u001b[0m\u001b[0;34m\u001b[0m\u001b[0m\n\u001b[1;32m      4\u001b[0m \u001b[0;34m\u001b[0m\u001b[0m\n\u001b[0;32m----> 5\u001b[0;31m \u001b[0mWO\u001b[0m\u001b[0;34m.\u001b[0m\u001b[0mJSONForm\u001b[0m\u001b[0;34m(\u001b[0m\u001b[0;34m)\u001b[0m\u001b[0;34m\u001b[0m\u001b[0m\n\u001b[0m",
         "\u001b[0;32m~/Work/ThirdYear/Seek/TheSeekNotebook/WriteObject.py\u001b[0m in \u001b[0;36mJSONForm\u001b[0;34m(self)\u001b[0m\n\u001b[1;32m     33\u001b[0m     \u001b[0;32mdef\u001b[0m \u001b[0mJSONForm\u001b[0m\u001b[0;34m(\u001b[0m\u001b[0mself\u001b[0m\u001b[0;34m)\u001b[0m\u001b[0;34m:\u001b[0m\u001b[0;34m\u001b[0m\u001b[0m\n\u001b[1;32m     34\u001b[0m \u001b[0;34m\u001b[0m\u001b[0m\n\u001b[0;32m---> 35\u001b[0;31m         \u001b[0mprint\u001b[0m\u001b[0;34m(\u001b[0m\u001b[0mHelper\u001b[0m\u001b[0;34m.\u001b[0m\u001b[0minvestigationFormat\u001b[0m\u001b[0;34m(\u001b[0m\u001b[0;34m)\u001b[0m\u001b[0;34m)\u001b[0m\u001b[0;34m\u001b[0m\u001b[0m\n\u001b[0m",
         "\u001b[0;32m~/Work/ThirdYear/Seek/TheSeekNotebook/Helper.py\u001b[0m in \u001b[0;36minvestigationFormat\u001b[0;34m()\u001b[0m\n\u001b[1;32m     86\u001b[0m     \u001b[0mJSON\u001b[0m\u001b[0;34m[\u001b[0m\u001b[0;34m'data'\u001b[0m\u001b[0;34m]\u001b[0m\u001b[0;34m[\u001b[0m\u001b[0;34m'meta'\u001b[0m\u001b[0;34m]\u001b[0m\u001b[0;34m[\u001b[0m\u001b[0;34m'modified'\u001b[0m\u001b[0;34m]\u001b[0m \u001b[0;34m=\u001b[0m \u001b[0minput\u001b[0m\u001b[0;34m(\u001b[0m\u001b[0;34m'Please input the type: '\u001b[0m\u001b[0;34m)\u001b[0m\u001b[0;34m\u001b[0m\u001b[0m\n\u001b[1;32m     87\u001b[0m \u001b[0;34m\u001b[0m\u001b[0m\n\u001b[0;32m---> 88\u001b[0;31m     \u001b[0mJSON\u001b[0m\u001b[0;34m[\u001b[0m\u001b[0;34m'data'\u001b[0m\u001b[0;34m]\u001b[0m\u001b[0;34m[\u001b[0m\u001b[0;34m'links'\u001b[0m\u001b[0;34m]\u001b[0m\u001b[0;34m[\u001b[0m\u001b[0;34m'self'\u001b[0m\u001b[0;34m]\u001b[0m \u001b[0;34m=\u001b[0m \u001b[0minput\u001b[0m\u001b[0;34m(\u001b[0m\u001b[0;34m'Please input the type: '\u001b[0m\u001b[0;34m)\u001b[0m\u001b[0;34m\u001b[0m\u001b[0m\n\u001b[0m\u001b[1;32m     89\u001b[0m \u001b[0;34m\u001b[0m\u001b[0m\n\u001b[1;32m     90\u001b[0m     \u001b[0;32mreturn\u001b[0m \u001b[0mJSON\u001b[0m\u001b[0;34m\u001b[0m\u001b[0m\n",
         "\u001b[0;31mKeyError\u001b[0m: 'links'"
        ]
       }
      ],
      "source": "from WriteObject import WriteObject\n\nWO = WriteObject()\n\nWO.JSONForm()",
      "start_time": "2019-03-15T12:34:46.097Z"
     },
     {
      "end_time": "2019-03-15T12:46:25.168Z",
      "execution_time": "38.3s",
      "outputs": [
       {
        "name": "stdout",
        "output_type": "stream",
        "text": "Please specify the type: liver\nPlease specify the description: sd\nPlease specify other creators: asd\nPlease specify the snapshots: asd\nPlease specify the title: a\nPlease specify how many assays is this investigation related to: 1\nPlease specify the id of the assay number 1123\nPlease specify how many creators is this investigation related to: 0\nPlease specify how many data files is this investigation related to: 3\nPlease specify the id of the data file number 1213\nPlease specify the id of the data file number 232\nPlease specify the id of the data file number 342\nPlease specify how many documents is this investigation related to: 1\nPlease specify the id of the document number 1241\nPlease specify how many models is this investigation related to: 1\nPlease specify the id of the model number 1421\nPlease specify how many people is this investigation related to: 1\nPlease specify the id of the person number 142\nPlease specify how many projects is this investigation related to: 1\nPlease specify the id of the project number 1421\nPlease specify how many publications is this investigation related to: 1\nPlease specify the id of the publication number 142\nPlease specify how many sops is this investigation related to: 1\nPlease specify the id of the sop number 142\nPlease specify how many studies is this investigation related to: 0\nPlease specify how many submitters is this investigation related to: 0\n{'data': {'type': 'liver', 'attributes': {'description': 'sd', 'other_creators': 'asd', 'snapshots': 'asd', 'title': 'a'}, 'relationships': {'assays': [[{'id': '123', 'type': 'assays'}]], 'creators': [], 'data_files': [[{'id': '213', 'type': 'data_files'}], [{'id': '32', 'type': 'data_files'}], [{'id': '42', 'type': 'data_files'}]], 'documents': [[{'id': '241', 'type': 'documents'}]], 'models': [[{'id': '421', 'type': 'models'}]], 'people': [[{'id': '42', 'type': 'people'}]], 'projects': [[{'id': '421', 'type': 'projects'}], [{'id': '42', 'type': 'publications'}]], 'publications': [], 'sops': [[{'id': '42', 'type': 'sops'}]], 'studies': [], 'submitter': []}}}\n"
       }
      ],
      "source": "from WriteObject import WriteObject\n\nWO = WriteObject()\n\nWO.JSONForm()",
      "start_time": "2019-03-15T12:45:46.913Z"
     },
     {
      "end_time": "2019-03-15T12:56:27.609Z",
      "execution_time": "32.6s",
      "outputs": [
       {
        "name": "stdout",
        "output_type": "stream",
        "text": "Please specify the type: ds\nPlease specify the description: ds\nPlease specify other creators: ds\nPlease specify the snapshots: ds\nPlease specify the title: ds\nPlease specify how many assays is this investigation related to: 1\nPlease specify the id of the assay number 123\nPlease specify how many creators is this investigation related to: 0\nPlease specify how many data files is this investigation related to: 9\nPlease specify the id of the data file number 1123\nPlease specify the id of the data file number 2123\nPlease specify the id of the data file number 3123\nPlease specify the id of the data file number 41\nPlease specify the id of the data file number 51\nPlease specify the id of the data file number 61\nPlease specify the id of the data file number 71\nPlease specify the id of the data file number 81\nPlease specify the id of the data file number 91\nPlease specify how many documents is this investigation related to: 1\nPlease specify the id of the document number 111\nPlease specify how many models is this investigation related to: 1\nPlease specify the id of the model number 11\nPlease specify how many people is this investigation related to: 1\nPlease specify the id of the person number 11\nPlease specify how many projects is this investigation related to: 1\nPlease specify the id of the project number 11\nPlease specify how many publications is this investigation related to: 1\nPlease specify the id of the publication number 11\nPlease specify how many sops is this investigation related to: 1\nPlease specify the id of the sop number 11\nPlease specify how many studies is this investigation related to: 1\nPlease specify the id of the study number 11\nPlease specify how many submitters is this investigation related to: 1\n"
       },
       {
        "ename": "KeyError",
        "evalue": "'submitters'",
        "output_type": "error",
        "traceback": [
         "\u001b[0;31m---------------------------------------------------------------------------\u001b[0m",
         "\u001b[0;31mKeyError\u001b[0m                                  Traceback (most recent call last)",
         "\u001b[0;32m<ipython-input-1-ed7a91e8dfa5>\u001b[0m in \u001b[0;36m<module>\u001b[0;34m()\u001b[0m\n\u001b[1;32m      3\u001b[0m \u001b[0mWO\u001b[0m \u001b[0;34m=\u001b[0m \u001b[0mWriteObject\u001b[0m\u001b[0;34m(\u001b[0m\u001b[0;34m)\u001b[0m\u001b[0;34m\u001b[0m\u001b[0m\n\u001b[1;32m      4\u001b[0m \u001b[0;34m\u001b[0m\u001b[0m\n\u001b[0;32m----> 5\u001b[0;31m \u001b[0mWO\u001b[0m\u001b[0;34m.\u001b[0m\u001b[0mJSONForm\u001b[0m\u001b[0;34m(\u001b[0m\u001b[0;34m)\u001b[0m\u001b[0;34m\u001b[0m\u001b[0m\n\u001b[0m",
         "\u001b[0;32m~/Work/ThirdYear/Seek/TheSeekNotebook/WriteObject.py\u001b[0m in \u001b[0;36mJSONForm\u001b[0;34m(self)\u001b[0m\n\u001b[1;32m     33\u001b[0m     \u001b[0;32mdef\u001b[0m \u001b[0mJSONForm\u001b[0m\u001b[0;34m(\u001b[0m\u001b[0mself\u001b[0m\u001b[0;34m)\u001b[0m\u001b[0;34m:\u001b[0m\u001b[0;34m\u001b[0m\u001b[0m\n\u001b[1;32m     34\u001b[0m \u001b[0;34m\u001b[0m\u001b[0m\n\u001b[0;32m---> 35\u001b[0;31m         \u001b[0mprint\u001b[0m\u001b[0;34m(\u001b[0m\u001b[0mHelper\u001b[0m\u001b[0;34m.\u001b[0m\u001b[0minvestigationFormat\u001b[0m\u001b[0;34m(\u001b[0m\u001b[0;34m)\u001b[0m\u001b[0;34m)\u001b[0m\u001b[0;34m\u001b[0m\u001b[0m\n\u001b[0m",
         "\u001b[0;32m~/Work/ThirdYear/Seek/TheSeekNotebook/Helper.py\u001b[0m in \u001b[0;36minvestigationFormat\u001b[0;34m()\u001b[0m\n\u001b[1;32m    170\u001b[0m     \u001b[0;32mfor\u001b[0m \u001b[0mindex\u001b[0m \u001b[0;32min\u001b[0m \u001b[0mrange\u001b[0m\u001b[0;34m(\u001b[0m\u001b[0;36m1\u001b[0m\u001b[0;34m,\u001b[0m \u001b[0mnumberOfSubmitters\u001b[0m \u001b[0;34m+\u001b[0m \u001b[0;36m1\u001b[0m\u001b[0;34m)\u001b[0m\u001b[0;34m:\u001b[0m\u001b[0;34m\u001b[0m\u001b[0m\n\u001b[1;32m    171\u001b[0m \u001b[0;34m\u001b[0m\u001b[0m\n\u001b[0;32m--> 172\u001b[0;31m         \u001b[0mJSON\u001b[0m\u001b[0;34m[\u001b[0m\u001b[0;34m'data'\u001b[0m\u001b[0;34m]\u001b[0m\u001b[0;34m[\u001b[0m\u001b[0;34m'relationships'\u001b[0m\u001b[0;34m]\u001b[0m\u001b[0;34m[\u001b[0m\u001b[0;34m'submitters'\u001b[0m\u001b[0;34m]\u001b[0m\u001b[0;34m.\u001b[0m\u001b[0mappend\u001b[0m\u001b[0;34m(\u001b[0m\u001b[0;34m[\u001b[0m\u001b[0;34m{\u001b[0m\u001b[0;34m'id'\u001b[0m \u001b[0;34m:\u001b[0m \u001b[0minput\u001b[0m\u001b[0;34m(\u001b[0m\u001b[0;34m'Please specify the id of the submitters number '\u001b[0m \u001b[0;34m+\u001b[0m \u001b[0mstr\u001b[0m\u001b[0;34m(\u001b[0m\u001b[0mindex\u001b[0m\u001b[0;34m)\u001b[0m\u001b[0;34m)\u001b[0m\u001b[0;34m,\u001b[0m \u001b[0;34m'type'\u001b[0m \u001b[0;34m:\u001b[0m \u001b[0;34m'submitters'\u001b[0m\u001b[0;34m}\u001b[0m\u001b[0;34m]\u001b[0m\u001b[0;34m)\u001b[0m\u001b[0;34m\u001b[0m\u001b[0m\n\u001b[0m\u001b[1;32m    173\u001b[0m \u001b[0;34m\u001b[0m\u001b[0m\n\u001b[1;32m    174\u001b[0m \u001b[0;34m\u001b[0m\u001b[0m\n",
         "\u001b[0;31mKeyError\u001b[0m: 'submitters'"
        ]
       }
      ],
      "source": "from WriteObject import WriteObject\n\nWO = WriteObject()\n\nWO.JSONForm()",
      "start_time": "2019-03-15T12:55:55.039Z"
     },
     {
      "end_time": "2019-03-15T13:13:27.966Z",
      "execution_time": "34.5s",
      "outputs": [
       {
        "name": "stdout",
        "output_type": "stream",
        "text": "Please specify the description: d\nPlease specify other creators: d\nPlease specify the snapshots: d\nPlease specify the title: Mega title\nPlease specify the assay class description: da\nPlease specify the assay class key: da\nPlease specify the assay class title: da\nPlease specify the assay type label: da\nPlease specify the assay type uri: da\nPlease specify the technology type label: da\nPlease specify the technology type uri: da\nPlease specify other creators: daa\nPlease specify the snapshots: da\nPlease specify the title: da\n"
       },
       {
        "ename": "NameError",
        "evalue": "name 'JSON' is not defined",
        "output_type": "error",
        "traceback": [
         "\u001b[0;31m---------------------------------------------------------------------------\u001b[0m",
         "\u001b[0;31mNameError\u001b[0m                                 Traceback (most recent call last)",
         "\u001b[0;32m<ipython-input-1-ed7a91e8dfa5>\u001b[0m in \u001b[0;36m<module>\u001b[0;34m()\u001b[0m\n\u001b[1;32m      3\u001b[0m \u001b[0mWO\u001b[0m \u001b[0;34m=\u001b[0m \u001b[0mWriteObject\u001b[0m\u001b[0;34m(\u001b[0m\u001b[0;34m)\u001b[0m\u001b[0;34m\u001b[0m\u001b[0m\n\u001b[1;32m      4\u001b[0m \u001b[0;34m\u001b[0m\u001b[0m\n\u001b[0;32m----> 5\u001b[0;31m \u001b[0mWO\u001b[0m\u001b[0;34m.\u001b[0m\u001b[0mJSONForm\u001b[0m\u001b[0;34m(\u001b[0m\u001b[0;34m)\u001b[0m\u001b[0;34m\u001b[0m\u001b[0m\n\u001b[0m",
         "\u001b[0;32m~/Work/ThirdYear/Seek/TheSeekNotebook/WriteObject.py\u001b[0m in \u001b[0;36mJSONForm\u001b[0;34m(self)\u001b[0m\n\u001b[1;32m     33\u001b[0m     \u001b[0;32mdef\u001b[0m \u001b[0mJSONForm\u001b[0m\u001b[0;34m(\u001b[0m\u001b[0mself\u001b[0m\u001b[0;34m)\u001b[0m\u001b[0;34m:\u001b[0m\u001b[0;34m\u001b[0m\u001b[0m\n\u001b[1;32m     34\u001b[0m \u001b[0;34m\u001b[0m\u001b[0m\n\u001b[0;32m---> 35\u001b[0;31m         \u001b[0mprint\u001b[0m\u001b[0;34m(\u001b[0m\u001b[0mHelper\u001b[0m\u001b[0;34m.\u001b[0m\u001b[0massayFormat\u001b[0m\u001b[0;34m(\u001b[0m\u001b[0;34m)\u001b[0m\u001b[0;34m)\u001b[0m\u001b[0;34m\u001b[0m\u001b[0m\n\u001b[0m",
         "\u001b[0;32m~/Work/ThirdYear/Seek/TheSeekNotebook/Helper.py\u001b[0m in \u001b[0;36massayFormat\u001b[0;34m()\u001b[0m\n\u001b[1;32m     38\u001b[0m \u001b[0;34m\u001b[0m\u001b[0m\n\u001b[1;32m     39\u001b[0m \u001b[0;34m\u001b[0m\u001b[0m\n\u001b[0;32m---> 40\u001b[0;31m     \u001b[0mrelationsFormat\u001b[0m\u001b[0;34m(\u001b[0m\u001b[0;34m'creators'\u001b[0m\u001b[0;34m)\u001b[0m\u001b[0;34m\u001b[0m\u001b[0m\n\u001b[0m\u001b[1;32m     41\u001b[0m     \u001b[0mrelationsFormat\u001b[0m\u001b[0;34m(\u001b[0m\u001b[0;34m'data_files'\u001b[0m\u001b[0;34m)\u001b[0m\u001b[0;34m\u001b[0m\u001b[0m\n\u001b[1;32m     42\u001b[0m     \u001b[0mrelationsFormat\u001b[0m\u001b[0;34m(\u001b[0m\u001b[0;34m'documents'\u001b[0m\u001b[0;34m)\u001b[0m\u001b[0;34m\u001b[0m\u001b[0m\n",
         "\u001b[0;32m~/Work/ThirdYear/Seek/TheSeekNotebook/Helper.py\u001b[0m in \u001b[0;36mrelationsFormat\u001b[0;34m(type)\u001b[0m\n\u001b[1;32m      1\u001b[0m \u001b[0;32mdef\u001b[0m \u001b[0mrelationsFormat\u001b[0m\u001b[0;34m(\u001b[0m\u001b[0mtype\u001b[0m\u001b[0;34m)\u001b[0m\u001b[0;34m:\u001b[0m\u001b[0;34m\u001b[0m\u001b[0m\n\u001b[0;32m----> 2\u001b[0;31m     \u001b[0mJSON\u001b[0m\u001b[0;34m[\u001b[0m\u001b[0;34m'data'\u001b[0m\u001b[0;34m]\u001b[0m\u001b[0;34m[\u001b[0m\u001b[0;34m'relationships'\u001b[0m\u001b[0;34m]\u001b[0m\u001b[0;34m[\u001b[0m\u001b[0mtype\u001b[0m\u001b[0;34m]\u001b[0m \u001b[0;34m=\u001b[0m \u001b[0;34m[\u001b[0m\u001b[0;34m]\u001b[0m\u001b[0;34m\u001b[0m\u001b[0m\n\u001b[0m\u001b[1;32m      3\u001b[0m     \u001b[0mnumberOfRelations\u001b[0m \u001b[0;34m=\u001b[0m \u001b[0mint\u001b[0m\u001b[0;34m(\u001b[0m\u001b[0minput\u001b[0m\u001b[0;34m(\u001b[0m\u001b[0;34m'Please specify how many '\u001b[0m \u001b[0;34m+\u001b[0m \u001b[0mtype\u001b[0m \u001b[0;34m+\u001b[0m \u001b[0;34m' is this investigation related to: '\u001b[0m\u001b[0;34m)\u001b[0m\u001b[0;34m)\u001b[0m\u001b[0;34m\u001b[0m\u001b[0m\n\u001b[1;32m      4\u001b[0m     \u001b[0;32mfor\u001b[0m \u001b[0mindex\u001b[0m \u001b[0;32min\u001b[0m \u001b[0mrange\u001b[0m\u001b[0;34m(\u001b[0m\u001b[0;36m1\u001b[0m\u001b[0;34m,\u001b[0m \u001b[0mnumberOfRelations\u001b[0m \u001b[0;34m+\u001b[0m \u001b[0;36m1\u001b[0m\u001b[0;34m)\u001b[0m\u001b[0;34m:\u001b[0m\u001b[0;34m\u001b[0m\u001b[0m\n\u001b[1;32m      5\u001b[0m \u001b[0;34m\u001b[0m\u001b[0m\n",
         "\u001b[0;31mNameError\u001b[0m: name 'JSON' is not defined"
        ]
       }
      ],
      "source": "from WriteObject import WriteObject\n\nWO = WriteObject()\n\nWO.JSONForm()",
      "start_time": "2019-03-15T13:12:53.512Z"
     },
     {
      "end_time": "2019-03-15T13:15:02.102Z",
      "execution_time": "19.9s",
      "outputs": [
       {
        "name": "stdout",
        "output_type": "stream",
        "text": "Please specify the description: d\nPlease specify other creators: d\nPlease specify the snapshots: d\nPlease specify the title: d\nPlease specify the assay class description: d\nPlease specify the assay class key: d\nPlease specify the assay class title: d\nPlease specify the assay type label: d\nPlease specify the assay type uri: d\nPlease specify the technology type label: d\nPlease specify the technology type uri: d\nPlease specify other creators: d\nPlease specify the snapshots: d\nPlease specify the title: Mega title\nPlease specify how many creators is this investigation related to: 0\nPlease specify how many data_files is this investigation related to: 0\nPlease specify how many documents is this investigation related to: 0\nPlease specify how many investigations is this investigation related to: 0\nPlease specify how many models is this investigation related to: 0\nPlease specify how many people is this investigation related to: 0\nPlease specify how many projects is this investigation related to: 0\nPlease specify how many publications is this investigation related to: 0\nPlease specify how many sops is this investigation related to: 0\nPlease specify how many studies is this investigation related to: 0\nPlease specify how many submitters is this investigation related to: 0\n{'data': {'type': 'assays', 'attributes': {'description': 'd', 'other_creators': 'd', 'snapshots': 'd', 'title': 'Mega title', 'assay_class': {'description': 'd', 'key': 'd', 'title': 'd'}, 'assay_type': {'label': 'd', 'uri': 'd'}, 'technology_type': {'label': 'd', 'uri': 'd'}}, 'relationships': {'creators': [], 'data_files': [], 'documents': [], 'investigations': [], 'models': [], 'people': [], 'projects': [], 'publications': [], 'sops': [], 'studies': [], 'submitters': []}}}\n"
       }
      ],
      "source": "from WriteObject import WriteObject\n\nWO = WriteObject()\n\nWO.JSONForm()",
      "start_time": "2019-03-15T13:14:42.217Z"
     },
     {
      "end_time": "2019-03-15T13:22:52.251Z",
      "execution_time": "3.58s",
      "outputs": [
       {
        "data": {
         "text/html": "<h3>SEEK FORM</h3>",
         "text/plain": "<IPython.core.display.HTML object>"
        },
        "metadata": {},
        "output_type": "display_data",
        "transient": {}
       },
       {
        "name": "stdout",
        "output_type": "stream",
        "text": "\nThe type of object you want to upload to SEEK: assays\n\nYou need to complete the following for in order to succesfully upload your information to SEEK\n"
       }
      ],
      "source": "from WriteObject import WriteObject\n\nWO = WriteObject()\n\nWO.SEEKForm()",
      "start_time": "2019-03-15T13:22:48.668Z"
     },
     {
      "end_time": "2019-03-15T13:24:49.308Z",
      "execution_time": "40.0s",
      "outputs": [
       {
        "data": {
         "text/html": "<h3>SEEK FORM</h3>",
         "text/plain": "<IPython.core.display.HTML object>"
        },
        "metadata": {},
        "output_type": "display_data",
        "transient": {}
       },
       {
        "name": "stdout",
        "output_type": "stream",
        "text": "\nThe type of object you want to upload to SEEK: assays\n\nYou need to complete the following form in order to succesfully upload your information to SEEK\nPlease specify the description: a\nPlease specify other creators: a\nPlease specify the snapshots: a\nPlease specify the title: a\nPlease specify the assay class description: a\nPlease specify the assay class key: a\nPlease specify the assay class title: a\nPlease specify the assay type label: a\nPlease specify the assay type uri: a\nPlease specify the technology type label: a\nPlease specify the technology type uri: a\nPlease specify other creators: a\nPlease specify the snapshots: a\nPlease specify the title: a\nPlease specify how many creators is this investigation related to: 1\nPlease specify the id of the creator number 11\nPlease specify how many data_files is this investigation related to: 1\nPlease specify the id of the data_file number 11\nPlease specify how many documents is this investigation related to: 1\nPlease specify the id of the document number 11\nPlease specify how many investigations is this investigation related to: 1\nPlease specify the id of the investigation number 11\nPlease specify how many models is this investigation related to: 1\nPlease specify the id of the model number 11\nPlease specify how many people is this investigation related to: 1\nPlease specify the id of the peopl number 11\nPlease specify how many projects is this investigation related to: 1\nPlease specify the id of the project number 11\nPlease specify how many publications is this investigation related to: 1\nPlease specify the id of the publication number 11\nPlease specify how many sops is this investigation related to: 1\nPlease specify the id of the sop number 11\nPlease specify how many studies is this investigation related to: 1\nPlease specify the id of the studie number 11\nPlease specify how many submitters is this investigation related to: 1\nPlease specify the id of the submitter number 11\n{'data': {'type': 'assays', 'attributes': {'description': 'a', 'other_creators': 'a', 'snapshots': 'a', 'title': 'a', 'assay_class': {'description': 'a', 'key': 'a', 'title': 'a'}, 'assay_type': {'label': 'a', 'uri': 'a'}, 'technology_type': {'label': 'a', 'uri': 'a'}}, 'relationships': {'creators': [{}, [{'id': '1', 'type': 'creators'}]], 'data_files': [{}, [{'id': '1', 'type': 'data_files'}]], 'documents': [{}, [{'id': '1', 'type': 'documents'}]], 'investigations': [{}, [{'id': '1', 'type': 'investigations'}]], 'models': [{}, [{'id': '1', 'type': 'models'}]], 'people': [{}, [{'id': '1', 'type': 'people'}]], 'projects': [{}, [{'id': '1', 'type': 'projects'}]], 'publications': [{}, [{'id': '1', 'type': 'publications'}]], 'sops': [{}, [{'id': '1', 'type': 'sops'}]], 'studies': [{}, [{'id': '1', 'type': 'studies'}]], 'submitters': [{}, [{'id': '1', 'type': 'submitters'}]]}}}\n"
       }
      ],
      "source": "from WriteObject import WriteObject\n\nWO = WriteObject()\n\nWO.SEEKForm()",
      "start_time": "2019-03-15T13:24:09.279Z"
     },
     {
      "end_time": "2019-03-15T14:15:29.872Z",
      "execution_time": "2m 22s",
      "outputs": [
       {
        "data": {
         "text/html": "<h3>SEEK FORM</h3>",
         "text/plain": "<IPython.core.display.HTML object>"
        },
        "metadata": {},
        "output_type": "display_data",
        "transient": {}
       },
       {
        "name": "stdout",
        "output_type": "stream",
        "text": "\nThe type of object you want to upload to SEEK: assays\n\nYou need to complete the following form in order to succesfully upload your information to SEEK\nPlease specify the description: This is a template example used to test the POST reqeust from the Jupyter Notebook.\nPlease specify other creators: Bogdan Gherasim\nPlease specify the snapshots: None\nPlease specify the title: TESTING\nPlease specify the assay class description: Test\nPlease specify the assay class key: Test\nPlease specify the assay class title: Test\nPlease specify the assay type label: Test\nPlease specify the assay type uri: https://www.test.test\nPlease specify the technology type label: Test\nPlease specify the technology type uri: Test\nPlease specify other creators: Bogdan Gherasim\nPlease specify the snapshots: None\nPlease specify the title: TESTING\nPlease specify how many creators is this investigation related to: 0\nPlease specify how many data_files is this investigation related to: 0\nPlease specify how many documents is this investigation related to: 0\nPlease specify how many investigations is this investigation related to: 0\nPlease specify how many models is this investigation related to: 0\nPlease specify how many people is this investigation related to: 0\nPlease specify how many projects is this investigation related to: 0\nPlease specify how many publications is this investigation related to: 0\nPlease specify how many sops is this investigation related to: 0\nPlease specify how many studies is this investigation related to: 0\nPlease specify how many submitters is this investigation related to: 0\n{'data': {'type': 'assays', 'attributes': {'description': 'This is a template example used to test the POST reqeust from the Jupyter Notebook.', 'other_creators': 'Bogdan Gherasim', 'snapshots': 'None', 'title': 'TESTING', 'assay_class': {'description': 'Test', 'key': 'Test', 'title': 'Test'}, 'assay_type': {'label': 'Test', 'uri': 'https://www.test.test'}, 'technology_type': {'label': 'Test', 'uri': 'Test'}}, 'relationships': {'creators': [{}], 'data_files': [{}], 'documents': [{}], 'investigations': [{}], 'models': [{}], 'people': [{}], 'projects': [{}], 'publications': [{}], 'sops': [{}], 'studies': [{}], 'submitters': [{}]}}}\n"
       }
      ],
      "source": "from WriteObject import WriteObject\n\nWO = WriteObject()\n\nWO.SEEKForm()",
      "start_time": "2019-03-15T14:13:07.860Z"
     },
     {
      "end_time": "2019-03-15T14:16:13.449Z",
      "execution_time": "23ms",
      "outputs": [
       {
        "ename": "SyntaxError",
        "evalue": "invalid syntax (WriteObject.py, line 37)",
        "output_type": "error",
        "traceback": [
         "Traceback \u001b[0;36m(most recent call last)\u001b[0m:\n",
         "  File \u001b[1;32m\"/home/bogdan/anaconda3/lib/python3.6/site-packages/IPython/core/interactiveshell.py\"\u001b[0m, line \u001b[1;32m2963\u001b[0m, in \u001b[1;35mrun_code\u001b[0m\n    exec(code_obj, self.user_global_ns, self.user_ns)\n",
         "\u001b[0;36m  File \u001b[0;32m\"<ipython-input-1-cd480b0c800a>\"\u001b[0;36m, line \u001b[0;32m1\u001b[0;36m, in \u001b[0;35m<module>\u001b[0;36m\u001b[0m\n\u001b[0;31m    from WriteObject import WriteObject\u001b[0m\n",
         "\u001b[0;36m  File \u001b[0;32m\"/home/bogdan/Work/ThirdYear/Seek/TheSeekNotebook/WriteObject.py\"\u001b[0;36m, line \u001b[0;32m37\u001b[0m\n\u001b[0;31m    self.JSON = Helper.studyFormat()s\u001b[0m\n\u001b[0m                                    ^\u001b[0m\n\u001b[0;31mSyntaxError\u001b[0m\u001b[0;31m:\u001b[0m invalid syntax\n"
        ]
       }
      ],
      "source": "from WriteObject import WriteObject\n\nWO = WriteObject()\n\nWO.SEEKForm()",
      "start_time": "2019-03-15T14:16:13.426Z"
     },
     {
      "end_time": "2019-03-15T14:16:53.879Z",
      "execution_time": "28.8s",
      "outputs": [
       {
        "data": {
         "text/html": "<h3>SEEK FORM</h3>",
         "text/plain": "<IPython.core.display.HTML object>"
        },
        "metadata": {},
        "output_type": "display_data",
        "transient": {}
       },
       {
        "name": "stdout",
        "output_type": "stream",
        "text": "\nThe type of object you want to upload to SEEK: assays\n\nYou need to complete the following form in order to succesfully upload your information to SEEK\nPlease specify the description: This is a template example used to test the POST reqeust from the Jupyter Notebook.\nPlease specify other creators: Bogdan Gherasim\nPlease specify the title: TESTING\nPlease specify the assay class description: test\nPlease specify the assay class key: test\nPlease specify the assay class title: test\nPlease specify the assay type label: test\nPlease specify the assay type uri: test\nPlease specify the technology type label: test\nPlease specify the technology type uri: test\nPlease specify how many creators is this investigation related to: 0\nPlease specify how many data_files is this investigation related to: 0\nPlease specify how many documents is this investigation related to: 0\nPlease specify how many investigations is this investigation related to: 0\nPlease specify how many models is this investigation related to: 0\nPlease specify how many people is this investigation related to: 0\nPlease specify how many projects is this investigation related to: 0\nPlease specify how many publications is this investigation related to: 0\nPlease specify how many sops is this investigation related to: 0\nPlease specify how many studies is this investigation related to: 0\nPlease specify how many submitters is this investigation related to: 0\n{'data': {'type': 'assays', 'attributes': {'description': 'This is a template example used to test the POST reqeust from the Jupyter Notebook.', 'other_creators': 'Bogdan Gherasim', 'title': 'TESTING', 'assay_class': {'description': 'test', 'key': 'test', 'title': 'test'}, 'assay_type': {'label': 'test', 'uri': 'test'}, 'technology_type': {'label': 'test', 'uri': 'test'}}, 'relationships': {'creators': [{}], 'data_files': [{}], 'documents': [{}], 'investigations': [{}], 'models': [{}], 'people': [{}], 'projects': [{}], 'publications': [{}], 'sops': [{}], 'studies': [{}], 'submitters': [{}]}}}\n"
       }
      ],
      "source": "from WriteObject import WriteObject\n\nWO = WriteObject()\n\nWO.SEEKForm()",
      "start_time": "2019-03-15T14:16:25.039Z"
     },
     {
      "end_time": "2019-03-15T14:17:30.872Z",
      "execution_time": "17.0s",
      "outputs": [
       {
        "data": {
         "text/html": "<h3>SEEK FORM</h3>",
         "text/plain": "<IPython.core.display.HTML object>"
        },
        "metadata": {},
        "output_type": "display_data",
        "transient": {}
       },
       {
        "name": "stdout",
        "output_type": "stream",
        "text": "\nThe type of object you want to upload to SEEK: assays\n\nYou need to complete the following form in order to succesfully upload your information to SEEK\nPlease specify the description: This is a template example used to test the POST reqeust from the Jupyter Notebook.\nPlease specify other creators: Bogdan Gherasim\nPlease specify the title: TESTING\nPlease specify the assay class description: test\nPlease specify the assay class key: test\nPlease specify the assay class title: test\nPlease specify the assay type label: test\nPlease specify the assay type uri: test\nPlease specify the technology type label: test\nPlease specify the technology type uri: test\nPlease specify how many creators is this investigation related to: 0\nPlease specify how many data_files is this investigation related to: \n"
       },
       {
        "ename": "ValueError",
        "evalue": "invalid literal for int() with base 10: ''",
        "output_type": "error",
        "traceback": [
         "\u001b[0;31m---------------------------------------------------------------------------\u001b[0m",
         "\u001b[0;31mValueError\u001b[0m                                Traceback (most recent call last)",
         "\u001b[0;32m<ipython-input-1-cd480b0c800a>\u001b[0m in \u001b[0;36m<module>\u001b[0;34m()\u001b[0m\n\u001b[1;32m      3\u001b[0m \u001b[0mWO\u001b[0m \u001b[0;34m=\u001b[0m \u001b[0mWriteObject\u001b[0m\u001b[0;34m(\u001b[0m\u001b[0;34m)\u001b[0m\u001b[0;34m\u001b[0m\u001b[0m\n\u001b[1;32m      4\u001b[0m \u001b[0;34m\u001b[0m\u001b[0m\n\u001b[0;32m----> 5\u001b[0;31m \u001b[0mWO\u001b[0m\u001b[0;34m.\u001b[0m\u001b[0mSEEKForm\u001b[0m\u001b[0;34m(\u001b[0m\u001b[0;34m)\u001b[0m\u001b[0;34m\u001b[0m\u001b[0m\n\u001b[0m",
         "\u001b[0;32m~/Work/ThirdYear/Seek/TheSeekNotebook/WriteObject.py\u001b[0m in \u001b[0;36mSEEKForm\u001b[0;34m(self)\u001b[0m\n\u001b[1;32m     31\u001b[0m \u001b[0;34m\u001b[0m\u001b[0m\n\u001b[1;32m     32\u001b[0m         \u001b[0;32mif\u001b[0m \u001b[0mself\u001b[0m\u001b[0;34m.\u001b[0m\u001b[0mtype\u001b[0m \u001b[0;34m==\u001b[0m \u001b[0;34m'assays'\u001b[0m\u001b[0;34m:\u001b[0m\u001b[0;34m\u001b[0m\u001b[0m\n\u001b[0;32m---> 33\u001b[0;31m             \u001b[0mself\u001b[0m\u001b[0;34m.\u001b[0m\u001b[0mJSON\u001b[0m \u001b[0;34m=\u001b[0m \u001b[0mHelper\u001b[0m\u001b[0;34m.\u001b[0m\u001b[0massayFormat\u001b[0m\u001b[0;34m(\u001b[0m\u001b[0;34m)\u001b[0m\u001b[0;34m\u001b[0m\u001b[0m\n\u001b[0m\u001b[1;32m     34\u001b[0m         \u001b[0;32melif\u001b[0m \u001b[0mself\u001b[0m\u001b[0;34m.\u001b[0m\u001b[0mtype\u001b[0m \u001b[0;34m==\u001b[0m \u001b[0;34m'investigations'\u001b[0m\u001b[0;34m:\u001b[0m\u001b[0;34m\u001b[0m\u001b[0m\n\u001b[1;32m     35\u001b[0m             \u001b[0mself\u001b[0m\u001b[0;34m.\u001b[0m\u001b[0mJSON\u001b[0m \u001b[0;34m=\u001b[0m \u001b[0mHelper\u001b[0m\u001b[0;34m.\u001b[0m\u001b[0minvestigationFormat\u001b[0m\u001b[0;34m(\u001b[0m\u001b[0;34m)\u001b[0m\u001b[0;34m\u001b[0m\u001b[0m\n",
         "\u001b[0;32m~/Work/ThirdYear/Seek/TheSeekNotebook/Helper.py\u001b[0m in \u001b[0;36massayFormat\u001b[0;34m()\u001b[0m\n\u001b[1;32m     39\u001b[0m \u001b[0;34m\u001b[0m\u001b[0m\n\u001b[1;32m     40\u001b[0m     \u001b[0mrelationsFormat\u001b[0m\u001b[0;34m(\u001b[0m\u001b[0mJSON\u001b[0m\u001b[0;34m,\u001b[0m \u001b[0;34m'creators'\u001b[0m\u001b[0;34m)\u001b[0m\u001b[0;34m\u001b[0m\u001b[0m\n\u001b[0;32m---> 41\u001b[0;31m     \u001b[0mrelationsFormat\u001b[0m\u001b[0;34m(\u001b[0m\u001b[0mJSON\u001b[0m\u001b[0;34m,\u001b[0m \u001b[0;34m'data_files'\u001b[0m\u001b[0;34m)\u001b[0m\u001b[0;34m\u001b[0m\u001b[0m\n\u001b[0m\u001b[1;32m     42\u001b[0m     \u001b[0mrelationsFormat\u001b[0m\u001b[0;34m(\u001b[0m\u001b[0mJSON\u001b[0m\u001b[0;34m,\u001b[0m \u001b[0;34m'documents'\u001b[0m\u001b[0;34m)\u001b[0m\u001b[0;34m\u001b[0m\u001b[0m\n\u001b[1;32m     43\u001b[0m     \u001b[0mrelationsFormat\u001b[0m\u001b[0;34m(\u001b[0m\u001b[0mJSON\u001b[0m\u001b[0;34m,\u001b[0m \u001b[0;34m'investigations'\u001b[0m\u001b[0;34m)\u001b[0m\u001b[0;34m\u001b[0m\u001b[0m\n",
         "\u001b[0;32m~/Work/ThirdYear/Seek/TheSeekNotebook/Helper.py\u001b[0m in \u001b[0;36mrelationsFormat\u001b[0;34m(JSON, type)\u001b[0m\n\u001b[1;32m      1\u001b[0m \u001b[0;32mdef\u001b[0m \u001b[0mrelationsFormat\u001b[0m\u001b[0;34m(\u001b[0m\u001b[0mJSON\u001b[0m\u001b[0;34m,\u001b[0m \u001b[0mtype\u001b[0m\u001b[0;34m)\u001b[0m\u001b[0;34m:\u001b[0m\u001b[0;34m\u001b[0m\u001b[0m\n\u001b[1;32m      2\u001b[0m     \u001b[0mJSON\u001b[0m\u001b[0;34m[\u001b[0m\u001b[0;34m'data'\u001b[0m\u001b[0;34m]\u001b[0m\u001b[0;34m[\u001b[0m\u001b[0;34m'relationships'\u001b[0m\u001b[0;34m]\u001b[0m\u001b[0;34m[\u001b[0m\u001b[0mtype\u001b[0m\u001b[0;34m]\u001b[0m \u001b[0;34m=\u001b[0m \u001b[0;34m[\u001b[0m\u001b[0;34m{\u001b[0m\u001b[0;34m}\u001b[0m\u001b[0;34m]\u001b[0m\u001b[0;34m\u001b[0m\u001b[0m\n\u001b[0;32m----> 3\u001b[0;31m     \u001b[0mnumberOfRelations\u001b[0m \u001b[0;34m=\u001b[0m \u001b[0mint\u001b[0m\u001b[0;34m(\u001b[0m\u001b[0minput\u001b[0m\u001b[0;34m(\u001b[0m\u001b[0;34m'Please specify how many '\u001b[0m \u001b[0;34m+\u001b[0m \u001b[0mtype\u001b[0m \u001b[0;34m+\u001b[0m \u001b[0;34m' is this investigation related to: '\u001b[0m\u001b[0;34m)\u001b[0m\u001b[0;34m)\u001b[0m\u001b[0;34m\u001b[0m\u001b[0m\n\u001b[0m\u001b[1;32m      4\u001b[0m     \u001b[0;32mfor\u001b[0m \u001b[0mindex\u001b[0m \u001b[0;32min\u001b[0m \u001b[0mrange\u001b[0m\u001b[0;34m(\u001b[0m\u001b[0;36m1\u001b[0m\u001b[0;34m,\u001b[0m \u001b[0mnumberOfRelations\u001b[0m \u001b[0;34m+\u001b[0m \u001b[0;36m1\u001b[0m\u001b[0;34m)\u001b[0m\u001b[0;34m:\u001b[0m\u001b[0;34m\u001b[0m\u001b[0m\n\u001b[1;32m      5\u001b[0m \u001b[0;34m\u001b[0m\u001b[0m\n",
         "\u001b[0;31mValueError\u001b[0m: invalid literal for int() with base 10: ''"
        ]
       }
      ],
      "source": "from WriteObject import WriteObject\n\nWO = WriteObject()\n\nWO.SEEKForm()",
      "start_time": "2019-03-15T14:17:13.882Z"
     },
     {
      "end_time": "2019-03-15T14:17:58.934Z",
      "execution_time": "21.0s",
      "outputs": [
       {
        "data": {
         "text/html": "<h3>SEEK FORM</h3>",
         "text/plain": "<IPython.core.display.HTML object>"
        },
        "metadata": {},
        "output_type": "display_data",
        "transient": {}
       },
       {
        "name": "stdout",
        "output_type": "stream",
        "text": "\nThe type of object you want to upload to SEEK: assays\n\nYou need to complete the following form in order to succesfully upload your information to SEEK\nPlease specify the description: This is a template example used to test the POST reqeust from the Jupyter Notebook.\nPlease specify other creators: TESTING\nPlease specify the title: test\nPlease specify the assay class description: test\nPlease specify the assay class key: test\nPlease specify the assay class title: test\nPlease specify the assay type label: test\nPlease specify the assay type uri: test\nPlease specify the technology type label: test\nPlease specify the technology type uri: test\nPlease specify how many creators is this investigation related to: 0\nPlease specify how many data_files is this investigation related to: 0\nPlease specify how many documents is this investigation related to: 0\nPlease specify how many investigations is this investigation related to: 0\nPlease specify how many models is this investigation related to: 0\nPlease specify how many people is this investigation related to: 0\nPlease specify how many projects is this investigation related to: 0\nPlease specify how many publications is this investigation related to: 0\nPlease specify how many sops is this investigation related to: 0\nPlease specify how many studies is this investigation related to: 0\nPlease specify how many submitters is this investigation related to: 0\n{'data': {'type': 'assays', 'attributes': {'description': 'This is a template example used to test the POST reqeust from the Jupyter Notebook.', 'other_creators': 'TESTING', 'title': 'test', 'assay_class': {'description': 'test', 'key': 'test', 'title': 'test'}, 'assay_type': {'label': 'test', 'uri': 'test'}, 'technology_type': {'label': 'test', 'uri': 'test'}}, 'relationships': {'creators': [{}], 'data_files': [{}], 'documents': [{}], 'investigations': [{}], 'models': [{}], 'people': [{}], 'projects': [{}], 'publications': [{}], 'sops': [{}], 'studies': [{}], 'submitters': [{}]}}}\n"
       }
      ],
      "source": "from WriteObject import WriteObject\n\nWO = WriteObject()\n\nWO.SEEKForm()",
      "start_time": "2019-03-15T14:17:37.916Z"
     },
     {
      "end_time": "2019-03-15T14:19:34.067Z",
      "execution_time": "25.1s",
      "outputs": [
       {
        "data": {
         "text/html": "<h3>SEEK FORM</h3>",
         "text/plain": "<IPython.core.display.HTML object>"
        },
        "metadata": {},
        "output_type": "display_data",
        "transient": {}
       },
       {
        "name": "stdout",
        "output_type": "stream",
        "text": "\nThe type of object you want to upload to SEEK: assays\n\nYou need to complete the following form in order to succesfully upload your information to SEEK\nPlease specify the description: This is a template example used to test the POST reqeust from the Jupyter Notebook.\nPlease specify other creators: Bogdan Gherasim\nPlease specify the title: TESTING\nPlease specify the assay class description: test\nPlease specify the assay class key: test\nPlease specify the assay class title: test\nPlease specify the assay type label: test\nPlease specify the assay type uri: test\nPlease specify the technology type label: test\nPlease specify the technology type uri: test\nPlease specify how many creators is this investigation related to: 0\nPlease specify how many data_files is this investigation related to: 0\nPlease specify how many documents is this investigation related to: 0\nPlease specify how many investigations is this investigation related to: 0\nPlease specify how many models is this investigation related to: 0\nPlease specify how many people is this investigation related to: 0\nPlease specify how many projects is this investigation related to: 0\nPlease specify how many publications is this investigation related to: 0\nPlease specify how many sops is this investigation related to: 0\nPlease specify how many studies is this investigation related to: 0\nPlease specify how many submitters is this investigation related to: 0\n{'data': {'type': 'assays', 'attributes': {'description': 'This is a template example used to test the POST reqeust from the Jupyter Notebook.', 'other_creators': 'Bogdan Gherasim', 'title': 'TESTING', 'assay_class': {'description': 'test', 'key': 'test', 'title': 'test'}, 'assay_type': {'label': 'test', 'uri': 'test'}, 'technology_type': {'label': 'test', 'uri': 'test'}}, 'relationships': {'creators': [{}], 'data_files': [{}], 'documents': [{}], 'investigations': [{}], 'models': [{}], 'people': [{}], 'projects': [{}], 'publications': [{}], 'sops': [{}], 'studies': [{}], 'submitters': [{}]}}}\n"
       }
      ],
      "source": "from WriteObject import WriteObject\n\nWO = WriteObject()\n\nWO.SEEKForm()",
      "start_time": "2019-03-15T14:19:09.006Z"
     },
     {
      "end_time": "2019-03-15T14:27:16.893Z",
      "execution_time": "21.1s",
      "outputs": [
       {
        "data": {
         "text/html": "<h3>SEEK FORM</h3>",
         "text/plain": "<IPython.core.display.HTML object>"
        },
        "metadata": {},
        "output_type": "display_data",
        "transient": {}
       },
       {
        "name": "stdout",
        "output_type": "stream",
        "text": "\nThe type of object you want to upload to SEEK: assays\n\nYou need to complete the following form in order to succesfully upload your information to SEEK\nPlease specify the description: This is a template example used to test the POST reqeust from the Jupyter Notebook.\nPlease specify other creators: Bogdan Gherasim\nPlease specify the title: TESTING\nPlease specify the assay class description: test\nPlease specify the assay class key: test\nPlease specify the assay class title: test\nPlease specify the assay type label: test\nPlease specify the assay type uri: test\nPlease specify the technology type label: test\nPlease specify the technology type uri: test\nPlease specify how many creators is this investigation related to: 0\nPlease specify how many data_files is this investigation related to: 0\nPlease specify how many documents is this investigation related to: 0\n"
       },
       {
        "ename": "NameError",
        "evalue": "name 'index' is not defined",
        "output_type": "error",
        "traceback": [
         "\u001b[0;31m---------------------------------------------------------------------------\u001b[0m",
         "\u001b[0;31mNameError\u001b[0m                                 Traceback (most recent call last)",
         "\u001b[0;32m<ipython-input-1-cd480b0c800a>\u001b[0m in \u001b[0;36m<module>\u001b[0;34m()\u001b[0m\n\u001b[1;32m      3\u001b[0m \u001b[0mWO\u001b[0m \u001b[0;34m=\u001b[0m \u001b[0mWriteObject\u001b[0m\u001b[0;34m(\u001b[0m\u001b[0;34m)\u001b[0m\u001b[0;34m\u001b[0m\u001b[0m\n\u001b[1;32m      4\u001b[0m \u001b[0;34m\u001b[0m\u001b[0m\n\u001b[0;32m----> 5\u001b[0;31m \u001b[0mWO\u001b[0m\u001b[0;34m.\u001b[0m\u001b[0mSEEKForm\u001b[0m\u001b[0;34m(\u001b[0m\u001b[0;34m)\u001b[0m\u001b[0;34m\u001b[0m\u001b[0m\n\u001b[0m",
         "\u001b[0;32m~/Work/ThirdYear/Seek/TheSeekNotebook/WriteObject.py\u001b[0m in \u001b[0;36mSEEKForm\u001b[0;34m(self)\u001b[0m\n\u001b[1;32m     31\u001b[0m \u001b[0;34m\u001b[0m\u001b[0m\n\u001b[1;32m     32\u001b[0m         \u001b[0;32mif\u001b[0m \u001b[0mself\u001b[0m\u001b[0;34m.\u001b[0m\u001b[0mtype\u001b[0m \u001b[0;34m==\u001b[0m \u001b[0;34m'assays'\u001b[0m\u001b[0;34m:\u001b[0m\u001b[0;34m\u001b[0m\u001b[0m\n\u001b[0;32m---> 33\u001b[0;31m             \u001b[0mself\u001b[0m\u001b[0;34m.\u001b[0m\u001b[0mJSON\u001b[0m \u001b[0;34m=\u001b[0m \u001b[0mHelper\u001b[0m\u001b[0;34m.\u001b[0m\u001b[0massayFormat\u001b[0m\u001b[0;34m(\u001b[0m\u001b[0;34m)\u001b[0m\u001b[0;34m\u001b[0m\u001b[0m\n\u001b[0m\u001b[1;32m     34\u001b[0m         \u001b[0;32melif\u001b[0m \u001b[0mself\u001b[0m\u001b[0;34m.\u001b[0m\u001b[0mtype\u001b[0m \u001b[0;34m==\u001b[0m \u001b[0;34m'investigations'\u001b[0m\u001b[0;34m:\u001b[0m\u001b[0;34m\u001b[0m\u001b[0m\n\u001b[1;32m     35\u001b[0m             \u001b[0mself\u001b[0m\u001b[0;34m.\u001b[0m\u001b[0mJSON\u001b[0m \u001b[0;34m=\u001b[0m \u001b[0mHelper\u001b[0m\u001b[0;34m.\u001b[0m\u001b[0minvestigationFormat\u001b[0m\u001b[0;34m(\u001b[0m\u001b[0;34m)\u001b[0m\u001b[0;34m\u001b[0m\u001b[0m\n",
         "\u001b[0;32m~/Work/ThirdYear/Seek/TheSeekNotebook/Helper.py\u001b[0m in \u001b[0;36massayFormat\u001b[0;34m()\u001b[0m\n\u001b[1;32m     45\u001b[0m     \u001b[0mrelationsFormat\u001b[0m\u001b[0;34m(\u001b[0m\u001b[0mJSON\u001b[0m\u001b[0;34m,\u001b[0m \u001b[0;34m'data_files'\u001b[0m\u001b[0;34m)\u001b[0m\u001b[0;34m\u001b[0m\u001b[0m\n\u001b[1;32m     46\u001b[0m     \u001b[0mrelationsFormat\u001b[0m\u001b[0;34m(\u001b[0m\u001b[0mJSON\u001b[0m\u001b[0;34m,\u001b[0m \u001b[0;34m'documents'\u001b[0m\u001b[0;34m)\u001b[0m\u001b[0;34m\u001b[0m\u001b[0m\n\u001b[0;32m---> 47\u001b[0;31m     \u001b[0mrelationFormat\u001b[0m\u001b[0;34m(\u001b[0m\u001b[0mJSON\u001b[0m\u001b[0;34m,\u001b[0m \u001b[0;34m'investigations'\u001b[0m\u001b[0;34m)\u001b[0m\u001b[0;34m\u001b[0m\u001b[0m\n\u001b[0m\u001b[1;32m     48\u001b[0m     \u001b[0mrelationsFormat\u001b[0m\u001b[0;34m(\u001b[0m\u001b[0mJSON\u001b[0m\u001b[0;34m,\u001b[0m \u001b[0;34m'models'\u001b[0m\u001b[0;34m)\u001b[0m\u001b[0;34m\u001b[0m\u001b[0m\n\u001b[1;32m     49\u001b[0m     \u001b[0mrelationsFormat\u001b[0m\u001b[0;34m(\u001b[0m\u001b[0mJSON\u001b[0m\u001b[0;34m,\u001b[0m \u001b[0;34m'people'\u001b[0m\u001b[0;34m)\u001b[0m\u001b[0;34m\u001b[0m\u001b[0m\n",
         "\u001b[0;32m~/Work/ThirdYear/Seek/TheSeekNotebook/Helper.py\u001b[0m in \u001b[0;36mrelationFormat\u001b[0;34m(JSON, type)\u001b[0m\n\u001b[1;32m      8\u001b[0m \u001b[0;32mdef\u001b[0m \u001b[0mrelationFormat\u001b[0m\u001b[0;34m(\u001b[0m\u001b[0mJSON\u001b[0m\u001b[0;34m,\u001b[0m \u001b[0mtype\u001b[0m\u001b[0;34m)\u001b[0m\u001b[0;34m:\u001b[0m\u001b[0;34m\u001b[0m\u001b[0m\n\u001b[1;32m      9\u001b[0m     \u001b[0mJSON\u001b[0m\u001b[0;34m[\u001b[0m\u001b[0;34m'data'\u001b[0m\u001b[0;34m]\u001b[0m\u001b[0;34m[\u001b[0m\u001b[0;34m'relationships'\u001b[0m\u001b[0;34m]\u001b[0m\u001b[0;34m[\u001b[0m\u001b[0mtype\u001b[0m\u001b[0;34m]\u001b[0m \u001b[0;34m=\u001b[0m \u001b[0;34m[\u001b[0m\u001b[0;34m{\u001b[0m\u001b[0;34m}\u001b[0m\u001b[0;34m]\u001b[0m\u001b[0;34m\u001b[0m\u001b[0m\n\u001b[0;32m---> 10\u001b[0;31m     \u001b[0mJSON\u001b[0m\u001b[0;34m[\u001b[0m\u001b[0;34m'data'\u001b[0m\u001b[0;34m]\u001b[0m\u001b[0;34m[\u001b[0m\u001b[0;34m'relationships'\u001b[0m\u001b[0;34m]\u001b[0m\u001b[0;34m[\u001b[0m\u001b[0mtype\u001b[0m\u001b[0;34m]\u001b[0m \u001b[0;34m=\u001b[0m \u001b[0;34m{\u001b[0m\u001b[0;34m'id'\u001b[0m \u001b[0;34m:\u001b[0m \u001b[0mint\u001b[0m\u001b[0;34m(\u001b[0m\u001b[0minput\u001b[0m\u001b[0;34m(\u001b[0m\u001b[0;34m'Please specify the id of the '\u001b[0m \u001b[0;34m+\u001b[0m \u001b[0mtype\u001b[0m\u001b[0;34m[\u001b[0m\u001b[0;34m:\u001b[0m\u001b[0;34m-\u001b[0m\u001b[0;36m1\u001b[0m\u001b[0;34m]\u001b[0m \u001b[0;34m+\u001b[0m \u001b[0;34m' number:  '\u001b[0m \u001b[0;34m+\u001b[0m \u001b[0mstr\u001b[0m\u001b[0;34m(\u001b[0m\u001b[0mindex\u001b[0m\u001b[0;34m)\u001b[0m\u001b[0;34m)\u001b[0m\u001b[0;34m)\u001b[0m\u001b[0;34m,\u001b[0m \u001b[0;34m'type'\u001b[0m \u001b[0;34m:\u001b[0m \u001b[0mtype\u001b[0m\u001b[0;34m}\u001b[0m\u001b[0;34m\u001b[0m\u001b[0m\n\u001b[0m\u001b[1;32m     11\u001b[0m \u001b[0;34m\u001b[0m\u001b[0m\n\u001b[1;32m     12\u001b[0m \u001b[0;32mdef\u001b[0m \u001b[0massayFormat\u001b[0m\u001b[0;34m(\u001b[0m\u001b[0;34m)\u001b[0m\u001b[0;34m:\u001b[0m\u001b[0;34m\u001b[0m\u001b[0m\n",
         "\u001b[0;31mNameError\u001b[0m: name 'index' is not defined"
        ]
       }
      ],
      "source": "from WriteObject import WriteObject\n\nWO = WriteObject()\n\nWO.SEEKForm()",
      "start_time": "2019-03-15T14:26:55.832Z"
     },
     {
      "end_time": "2019-03-15T14:28:23.972Z",
      "execution_time": "31.6s",
      "outputs": [
       {
        "data": {
         "text/html": "<h3>SEEK FORM</h3>",
         "text/plain": "<IPython.core.display.HTML object>"
        },
        "metadata": {},
        "output_type": "display_data",
        "transient": {}
       },
       {
        "name": "stdout",
        "output_type": "stream",
        "text": "\nThe type of object you want to upload to SEEK: assays\n\nYou need to complete the following form in order to succesfully upload your information to SEEK\nPlease specify the description: This is a template example used to test the POST reqeust from the Jupyter Notebook.\nPlease specify other creators: Bogdan Gherasim\nPlease specify the title: TESTING\nPlease specify the assay class description: test\nPlease specify the assay class key: test\nPlease specify the assay class title: test\nPlease specify the assay type label: test\nPlease specify the assay type uri: test\nPlease specify the technology type label: test\nPlease specify the technology type uri: test\nPlease specify how many creators is this investigation related to: 0\nPlease specify how many data_files is this investigation related to: 0\nPlease specify how many documents is this investigation related to: 0\nPlease specify the id of the investigation0\nPlease specify how many models is this investigation related to: 0\nPlease specify how many people is this investigation related to: 0\nPlease specify how many projects is this investigation related to: 0\nPlease specify how many publications is this investigation related to: 0\nPlease specify how many sops is this investigation related to: 0\nPlease specify the id of the studie0\nPlease specify how many submitters is this investigation related to: 0\n{'data': {'type': 'assays', 'attributes': {'description': 'This is a template example used to test the POST reqeust from the Jupyter Notebook.', 'other_creators': 'Bogdan Gherasim', 'title': 'TESTING', 'assay_class': {'description': 'test', 'key': 'test', 'title': 'test'}, 'assay_type': {'label': 'test', 'uri': 'test'}, 'technology_type': {'label': 'test', 'uri': 'test'}}, 'relationships': {'creators': [{}], 'data_files': [{}], 'documents': [{}], 'investigations': {'id': 0, 'type': 'investigations'}, 'models': [{}], 'people': [{}], 'projects': [{}], 'publications': [{}], 'sops': [{}], 'studies': {'id': 0, 'type': 'studies'}, 'submitters': [{}]}}}\n"
       }
      ],
      "source": "from WriteObject import WriteObject\n\nWO = WriteObject()\n\nWO.SEEKForm()",
      "start_time": "2019-03-15T14:27:52.333Z"
     },
     {
      "end_time": "2019-03-15T14:32:34.826Z",
      "execution_time": "52.3s",
      "outputs": [
       {
        "data": {
         "text/html": "<h3>SEEK FORM</h3>",
         "text/plain": "<IPython.core.display.HTML object>"
        },
        "metadata": {},
        "output_type": "display_data",
        "transient": {}
       },
       {
        "name": "stdout",
        "output_type": "stream",
        "text": "\nThe type of object you want to upload to SEEK: assays\n\nYou need to complete the following form in order to succesfully upload your information to SEEK\nPlease specify the description: This is a template example used to test the POST reqeust from the Jupyter Notebook.\nPlease specify other creators: Bogdan Gherasim\nPlease specify the title: TESTING\nPlease specify the assay class description: test\nPlease specify the assay class key: test\nPlease specify the assay class title: test\nPlease specify the assay type label: test\nPlease specify the assay type uri: test\nPlease specify the technology type label: test\nPlease specify the technology type uri: test\nPlease specify how many creators is this assay related to: 1\nPlease specify the id of the creator number:  132\nPlease specify how many data_files is this assay related to: 0\nPlease specify how many documents is this assay related to: 0\n"
       },
       {
        "ename": "TypeError",
        "evalue": "relationFormat() takes 2 positional arguments but 3 were given",
        "output_type": "error",
        "traceback": [
         "\u001b[0;31m---------------------------------------------------------------------------\u001b[0m",
         "\u001b[0;31mTypeError\u001b[0m                                 Traceback (most recent call last)",
         "\u001b[0;32m<ipython-input-1-cd480b0c800a>\u001b[0m in \u001b[0;36m<module>\u001b[0;34m()\u001b[0m\n\u001b[1;32m      3\u001b[0m \u001b[0mWO\u001b[0m \u001b[0;34m=\u001b[0m \u001b[0mWriteObject\u001b[0m\u001b[0;34m(\u001b[0m\u001b[0;34m)\u001b[0m\u001b[0;34m\u001b[0m\u001b[0m\n\u001b[1;32m      4\u001b[0m \u001b[0;34m\u001b[0m\u001b[0m\n\u001b[0;32m----> 5\u001b[0;31m \u001b[0mWO\u001b[0m\u001b[0;34m.\u001b[0m\u001b[0mSEEKForm\u001b[0m\u001b[0;34m(\u001b[0m\u001b[0;34m)\u001b[0m\u001b[0;34m\u001b[0m\u001b[0m\n\u001b[0m",
         "\u001b[0;32m~/Work/ThirdYear/Seek/TheSeekNotebook/WriteObject.py\u001b[0m in \u001b[0;36mSEEKForm\u001b[0;34m(self)\u001b[0m\n\u001b[1;32m     31\u001b[0m \u001b[0;34m\u001b[0m\u001b[0m\n\u001b[1;32m     32\u001b[0m         \u001b[0;32mif\u001b[0m \u001b[0mself\u001b[0m\u001b[0;34m.\u001b[0m\u001b[0mtype\u001b[0m \u001b[0;34m==\u001b[0m \u001b[0;34m'assays'\u001b[0m\u001b[0;34m:\u001b[0m\u001b[0;34m\u001b[0m\u001b[0m\n\u001b[0;32m---> 33\u001b[0;31m             \u001b[0mself\u001b[0m\u001b[0;34m.\u001b[0m\u001b[0mJSON\u001b[0m \u001b[0;34m=\u001b[0m \u001b[0mHelper\u001b[0m\u001b[0;34m.\u001b[0m\u001b[0massayFormat\u001b[0m\u001b[0;34m(\u001b[0m\u001b[0;34m)\u001b[0m\u001b[0;34m\u001b[0m\u001b[0m\n\u001b[0m\u001b[1;32m     34\u001b[0m         \u001b[0;32melif\u001b[0m \u001b[0mself\u001b[0m\u001b[0;34m.\u001b[0m\u001b[0mtype\u001b[0m \u001b[0;34m==\u001b[0m \u001b[0;34m'investigations'\u001b[0m\u001b[0;34m:\u001b[0m\u001b[0;34m\u001b[0m\u001b[0m\n\u001b[1;32m     35\u001b[0m             \u001b[0mself\u001b[0m\u001b[0;34m.\u001b[0m\u001b[0mJSON\u001b[0m \u001b[0;34m=\u001b[0m \u001b[0mHelper\u001b[0m\u001b[0;34m.\u001b[0m\u001b[0minvestigationFormat\u001b[0m\u001b[0;34m(\u001b[0m\u001b[0;34m)\u001b[0m\u001b[0;34m\u001b[0m\u001b[0m\n",
         "\u001b[0;32m~/Work/ThirdYear/Seek/TheSeekNotebook/Helper.py\u001b[0m in \u001b[0;36massayFormat\u001b[0;34m()\u001b[0m\n\u001b[1;32m     46\u001b[0m     \u001b[0mrelationsFormat\u001b[0m\u001b[0;34m(\u001b[0m\u001b[0mJSON\u001b[0m\u001b[0;34m,\u001b[0m \u001b[0;34m'data_files'\u001b[0m\u001b[0;34m,\u001b[0m \u001b[0;34m'assay'\u001b[0m\u001b[0;34m)\u001b[0m\u001b[0;34m\u001b[0m\u001b[0m\n\u001b[1;32m     47\u001b[0m     \u001b[0mrelationsFormat\u001b[0m\u001b[0;34m(\u001b[0m\u001b[0mJSON\u001b[0m\u001b[0;34m,\u001b[0m \u001b[0;34m'documents'\u001b[0m\u001b[0;34m,\u001b[0m \u001b[0;34m'assay'\u001b[0m\u001b[0;34m)\u001b[0m\u001b[0;34m\u001b[0m\u001b[0m\n\u001b[0;32m---> 48\u001b[0;31m     \u001b[0mrelationFormat\u001b[0m\u001b[0;34m(\u001b[0m\u001b[0mJSON\u001b[0m\u001b[0;34m,\u001b[0m \u001b[0;34m'investigations'\u001b[0m\u001b[0;34m,\u001b[0m \u001b[0;34m'assay'\u001b[0m\u001b[0;34m)\u001b[0m\u001b[0;34m\u001b[0m\u001b[0m\n\u001b[0m\u001b[1;32m     49\u001b[0m     \u001b[0mrelationsFormat\u001b[0m\u001b[0;34m(\u001b[0m\u001b[0mJSON\u001b[0m\u001b[0;34m,\u001b[0m \u001b[0;34m'models'\u001b[0m\u001b[0;34m,\u001b[0m \u001b[0;34m'assay'\u001b[0m\u001b[0;34m)\u001b[0m\u001b[0;34m\u001b[0m\u001b[0m\n\u001b[1;32m     50\u001b[0m     \u001b[0mrelationsFormat\u001b[0m\u001b[0;34m(\u001b[0m\u001b[0mJSON\u001b[0m\u001b[0;34m,\u001b[0m \u001b[0;34m'people'\u001b[0m\u001b[0;34m,\u001b[0m \u001b[0;34m'assay'\u001b[0m\u001b[0;34m)\u001b[0m\u001b[0;34m\u001b[0m\u001b[0m\n",
         "\u001b[0;31mTypeError\u001b[0m: relationFormat() takes 2 positional arguments but 3 were given"
        ]
       }
      ],
      "source": "from WriteObject import WriteObject\n\nWO = WriteObject()\n\nWO.SEEKForm()",
      "start_time": "2019-03-15T14:31:42.513Z"
     },
     {
      "end_time": "2019-03-15T14:40:27.982Z",
      "execution_time": "20.6s",
      "outputs": [
       {
        "data": {
         "text/html": "<h3>SEEK FORM</h3>",
         "text/plain": "<IPython.core.display.HTML object>"
        },
        "metadata": {},
        "output_type": "display_data",
        "transient": {}
       },
       {
        "name": "stdout",
        "output_type": "stream",
        "text": "\nThe type of object you want to upload to SEEK: assays\n\nYou need to complete the following form in order to succesfully upload your information to SEEK\nPlease specify the description: This is a template example used to test the POST reqeust from the Jupyter Notebook.\nPlease specify other creators: Bogdan Gherasim\nPlease specify the title: TESTING\nPlease specify the assay class description: test\nPlease specify the assay class key: test\nPlease specify the assay class title: test\nPlease specify the assay type label: test\nPlease specify the assay type uri: test\nPlease specify the technology type label: test\nPlease specify the technology type uri: test\nPlease specify how many creators is this assay related to: test\n"
       },
       {
        "ename": "ValueError",
        "evalue": "invalid literal for int() with base 10: 'test'",
        "output_type": "error",
        "traceback": [
         "\u001b[0;31m---------------------------------------------------------------------------\u001b[0m",
         "\u001b[0;31mValueError\u001b[0m                                Traceback (most recent call last)",
         "\u001b[0;32m<ipython-input-1-cd480b0c800a>\u001b[0m in \u001b[0;36m<module>\u001b[0;34m()\u001b[0m\n\u001b[1;32m      3\u001b[0m \u001b[0mWO\u001b[0m \u001b[0;34m=\u001b[0m \u001b[0mWriteObject\u001b[0m\u001b[0;34m(\u001b[0m\u001b[0;34m)\u001b[0m\u001b[0;34m\u001b[0m\u001b[0m\n\u001b[1;32m      4\u001b[0m \u001b[0;34m\u001b[0m\u001b[0m\n\u001b[0;32m----> 5\u001b[0;31m \u001b[0mWO\u001b[0m\u001b[0;34m.\u001b[0m\u001b[0mSEEKForm\u001b[0m\u001b[0;34m(\u001b[0m\u001b[0;34m)\u001b[0m\u001b[0;34m\u001b[0m\u001b[0m\n\u001b[0m",
         "\u001b[0;32m~/Work/ThirdYear/Seek/TheSeekNotebook/WriteObject.py\u001b[0m in \u001b[0;36mSEEKForm\u001b[0;34m(self)\u001b[0m\n\u001b[1;32m     31\u001b[0m \u001b[0;34m\u001b[0m\u001b[0m\n\u001b[1;32m     32\u001b[0m         \u001b[0;32mif\u001b[0m \u001b[0mself\u001b[0m\u001b[0;34m.\u001b[0m\u001b[0mtype\u001b[0m \u001b[0;34m==\u001b[0m \u001b[0;34m'assays'\u001b[0m\u001b[0;34m:\u001b[0m\u001b[0;34m\u001b[0m\u001b[0m\n\u001b[0;32m---> 33\u001b[0;31m             \u001b[0mself\u001b[0m\u001b[0;34m.\u001b[0m\u001b[0mJSON\u001b[0m \u001b[0;34m=\u001b[0m \u001b[0mHelper\u001b[0m\u001b[0;34m.\u001b[0m\u001b[0massayFormat\u001b[0m\u001b[0;34m(\u001b[0m\u001b[0;34m)\u001b[0m\u001b[0;34m\u001b[0m\u001b[0m\n\u001b[0m\u001b[1;32m     34\u001b[0m         \u001b[0;32melif\u001b[0m \u001b[0mself\u001b[0m\u001b[0;34m.\u001b[0m\u001b[0mtype\u001b[0m \u001b[0;34m==\u001b[0m \u001b[0;34m'investigations'\u001b[0m\u001b[0;34m:\u001b[0m\u001b[0;34m\u001b[0m\u001b[0m\n\u001b[1;32m     35\u001b[0m             \u001b[0mself\u001b[0m\u001b[0;34m.\u001b[0m\u001b[0mJSON\u001b[0m \u001b[0;34m=\u001b[0m \u001b[0mHelper\u001b[0m\u001b[0;34m.\u001b[0m\u001b[0minvestigationFormat\u001b[0m\u001b[0;34m(\u001b[0m\u001b[0;34m)\u001b[0m\u001b[0;34m\u001b[0m\u001b[0m\n",
         "\u001b[0;32m~/Work/ThirdYear/Seek/TheSeekNotebook/Helper.py\u001b[0m in \u001b[0;36massayFormat\u001b[0;34m()\u001b[0m\n\u001b[1;32m     43\u001b[0m \u001b[0;34m\u001b[0m\u001b[0m\n\u001b[1;32m     44\u001b[0m \u001b[0;34m\u001b[0m\u001b[0m\n\u001b[0;32m---> 45\u001b[0;31m     \u001b[0mrelationsFormat\u001b[0m\u001b[0;34m(\u001b[0m\u001b[0mJSON\u001b[0m\u001b[0;34m,\u001b[0m \u001b[0;34m'creators'\u001b[0m\u001b[0;34m,\u001b[0m \u001b[0;34m'assay'\u001b[0m\u001b[0;34m)\u001b[0m\u001b[0;34m\u001b[0m\u001b[0m\n\u001b[0m\u001b[1;32m     46\u001b[0m     \u001b[0mrelationsFormat\u001b[0m\u001b[0;34m(\u001b[0m\u001b[0mJSON\u001b[0m\u001b[0;34m,\u001b[0m \u001b[0;34m'data_files'\u001b[0m\u001b[0;34m,\u001b[0m \u001b[0;34m'assay'\u001b[0m\u001b[0;34m)\u001b[0m\u001b[0;34m\u001b[0m\u001b[0m\n\u001b[1;32m     47\u001b[0m     \u001b[0mrelationsFormat\u001b[0m\u001b[0;34m(\u001b[0m\u001b[0mJSON\u001b[0m\u001b[0;34m,\u001b[0m \u001b[0;34m'documents'\u001b[0m\u001b[0;34m,\u001b[0m \u001b[0;34m'assay'\u001b[0m\u001b[0;34m)\u001b[0m\u001b[0;34m\u001b[0m\u001b[0m\n",
         "\u001b[0;32m~/Work/ThirdYear/Seek/TheSeekNotebook/Helper.py\u001b[0m in \u001b[0;36mrelationsFormat\u001b[0;34m(JSON, type, source)\u001b[0m\n\u001b[1;32m      1\u001b[0m \u001b[0;32mdef\u001b[0m \u001b[0mrelationsFormat\u001b[0m\u001b[0;34m(\u001b[0m\u001b[0mJSON\u001b[0m\u001b[0;34m,\u001b[0m \u001b[0mtype\u001b[0m\u001b[0;34m,\u001b[0m \u001b[0msource\u001b[0m\u001b[0;34m)\u001b[0m\u001b[0;34m:\u001b[0m\u001b[0;34m\u001b[0m\u001b[0m\n\u001b[1;32m      2\u001b[0m     \u001b[0mJSON\u001b[0m\u001b[0;34m[\u001b[0m\u001b[0;34m'data'\u001b[0m\u001b[0;34m]\u001b[0m\u001b[0;34m[\u001b[0m\u001b[0;34m'relationships'\u001b[0m\u001b[0;34m]\u001b[0m\u001b[0;34m[\u001b[0m\u001b[0mtype\u001b[0m\u001b[0;34m]\u001b[0m \u001b[0;34m=\u001b[0m \u001b[0;34m[\u001b[0m\u001b[0;34m{\u001b[0m\u001b[0;34m}\u001b[0m\u001b[0;34m]\u001b[0m\u001b[0;34m\u001b[0m\u001b[0m\n\u001b[0;32m----> 3\u001b[0;31m     \u001b[0mnumberOfRelations\u001b[0m \u001b[0;34m=\u001b[0m \u001b[0mint\u001b[0m\u001b[0;34m(\u001b[0m\u001b[0minput\u001b[0m\u001b[0;34m(\u001b[0m\u001b[0;34m'Please specify how many '\u001b[0m \u001b[0;34m+\u001b[0m \u001b[0mtype\u001b[0m \u001b[0;34m+\u001b[0m \u001b[0;34m' is this '\u001b[0m \u001b[0;34m+\u001b[0m \u001b[0msource\u001b[0m \u001b[0;34m+\u001b[0m \u001b[0;34m' related to: '\u001b[0m\u001b[0;34m)\u001b[0m\u001b[0;34m)\u001b[0m\u001b[0;34m\u001b[0m\u001b[0m\n\u001b[0m\u001b[1;32m      4\u001b[0m     \u001b[0;32mfor\u001b[0m \u001b[0mindex\u001b[0m \u001b[0;32min\u001b[0m \u001b[0mrange\u001b[0m\u001b[0;34m(\u001b[0m\u001b[0;36m1\u001b[0m\u001b[0;34m,\u001b[0m \u001b[0mnumberOfRelations\u001b[0m \u001b[0;34m+\u001b[0m \u001b[0;36m1\u001b[0m\u001b[0;34m)\u001b[0m\u001b[0;34m:\u001b[0m\u001b[0;34m\u001b[0m\u001b[0m\n\u001b[1;32m      5\u001b[0m \u001b[0;34m\u001b[0m\u001b[0m\n",
         "\u001b[0;31mValueError\u001b[0m: invalid literal for int() with base 10: 'test'"
        ]
       }
      ],
      "source": "from WriteObject import WriteObject\n\nWO = WriteObject()\n\nWO.SEEKForm()",
      "start_time": "2019-03-15T14:40:07.399Z"
     },
     {
      "end_time": "2019-03-15T14:41:43.839Z",
      "execution_time": "1m 7.72s",
      "outputs": [
       {
        "data": {
         "text/html": "<h3>SEEK FORM</h3>",
         "text/plain": "<IPython.core.display.HTML object>"
        },
        "metadata": {},
        "output_type": "display_data",
        "transient": {}
       },
       {
        "name": "stdout",
        "output_type": "stream",
        "text": "\nThe type of object you want to upload to SEEK: assays\n\nYou need to complete the following form in order to succesfully upload your information to SEEK\nPlease specify the description: This is a template example used to test the POST reqeust from the Jupyter Notebook.\nPlease specify other creators: Bogdan Gherasim\nPlease specify the title: TESTING\nPlease specify the assay class description: test\nPlease specify the assay class key: test\nPlease specify the assay class title: test\nPlease specify the assay type label: test\nPlease specify the assay type uri: test\nPlease specify the technology type label: test\nPlease specify the technology type uri: test\nPlease specify how many creators is this assay related to: 1\nPlease specify the id of the creator number 1: 23\nPlease specify how many data_files is this assay related to: 0\nPlease specify how many documents is this assay related to: 0\nPlease specify the id of the investigation0\nPlease specify how many models is this assay related to: 0\nPlease specify how many people is this assay related to: 0\nPlease specify how many projects is this assay related to: 0\nPlease specify how many publications is this assay related to: 0\nPlease specify how many sops is this assay related to: 0\nPlease specify the id of the studie0\nPlease specify how many submitters is this assay related to: 0\n{'data': {'type': 'assays', 'attributes': {'description': 'This is a template example used to test the POST reqeust from the Jupyter Notebook.', 'other_creators': 'Bogdan Gherasim', 'title': 'TESTING', 'assay_class': {'description': 'test', 'key': 'test', 'title': 'test'}, 'assay_type': {'label': 'test', 'uri': 'test'}, 'technology_type': {'label': 'test', 'uri': 'test'}}, 'relationships': {'creators': [{}, [{'id': 23, 'type': 'creators'}]], 'data_files': [{}], 'documents': [{}], 'investigations': {'id': 0, 'type': 'investigations'}, 'models': [{}], 'people': [{}], 'projects': [{}], 'publications': [{}], 'sops': [{}], 'studies': {'id': 0, 'type': 'studies'}, 'submitters': [{}]}}}\n"
       }
      ],
      "source": "from WriteObject import WriteObject\n\nWO = WriteObject()\n\nWO.SEEKForm()",
      "start_time": "2019-03-15T14:40:36.120Z"
     },
     {
      "end_time": "2019-03-15T14:44:12.342Z",
      "execution_time": "46.8s",
      "outputs": [
       {
        "data": {
         "text/html": "<h3>SEEK FORM</h3>",
         "text/plain": "<IPython.core.display.HTML object>"
        },
        "metadata": {},
        "output_type": "display_data",
        "transient": {}
       },
       {
        "name": "stdout",
        "output_type": "stream",
        "text": "\nThe type of object you want to upload to SEEK: assays\n\nYou need to complete the following form in order to succesfully upload your information to SEEK\nPlease specify the description: This is a template example used to test the POST reqeust from the Jupyter Notebook.\nPlease specify other creators: Bogdan Gherasim\nPlease specify the title: TESTING\nPlease specify the assay class description: test\nPlease specify the assay class key: test\nPlease specify the assay class title: test\nPlease specify the assay type label: test\nPlease specify the assay type uri: test\nPlease specify the technology type label: test\nPlease specify the technology type uri: test\nPlease specify how many creators is this assay related to: 1\nPlease specify the id of the creator number 1: 373\nPlease specify how many data_files is this assay related to: 0\nPlease specify how many documents is this assay related to: 0\nPlease specify the id of the investigation0\nPlease specify how many models is this assay related to: 0\nPlease specify how many people is this assay related to: 0\nPlease specify how many projects is this assay related to: 0\nPlease specify how many publications is this assay related to: 0\nPlease specify how many sops is this assay related to: 0\nPlease specify the id of the studie0\nPlease specify how many submitters is this assay related to: 0\n{'data': {'type': 'assays', 'attributes': {'description': 'This is a template example used to test the POST reqeust from the Jupyter Notebook.', 'other_creators': 'Bogdan Gherasim', 'title': 'TESTING', 'assay_class': {'description': 'test', 'key': 'test', 'title': 'test'}, 'assay_type': {'label': 'test', 'uri': 'test'}, 'technology_type': {'label': 'test', 'uri': 'test'}}, 'relationships': {'creators': [[{'id': 373, 'type': 'creators'}]], 'data_files': [], 'documents': [], 'investigations': {'id': 0, 'type': 'investigations'}, 'models': [], 'people': [], 'projects': [], 'publications': [], 'sops': [], 'studies': {'id': 0, 'type': 'studies'}, 'submitters': []}}}\n"
       }
      ],
      "source": "from WriteObject import WriteObject\n\nWO = WriteObject()\n\nWO.SEEKForm()",
      "start_time": "2019-03-15T14:43:25.531Z"
     },
     {
      "end_time": "2019-03-15T14:48:08.374Z",
      "execution_time": "36.6s",
      "outputs": [
       {
        "data": {
         "text/html": "<h3>SEEK FORM</h3>",
         "text/plain": "<IPython.core.display.HTML object>"
        },
        "metadata": {},
        "output_type": "display_data",
        "transient": {}
       },
       {
        "name": "stdout",
        "output_type": "stream",
        "text": "\nThe type of object you want to upload to SEEK: assays\n\nYou need to complete the following form in order to succesfully upload your information to SEEK\nPlease specify the description: This is a template example used to test the POST reqeust from the Jupyter Notebook.\nPlease specify other creators: Bogdan Gherasim\nPlease specify the title: TESTING\nPlease specify the assay class description: test\nPlease specify the assay class key: test\nPlease specify the assay class title: test\nPlease specify the assay type label: test\nPlease specify the assay type uri: test\nPlease specify the technology type label: test\nPlease specify the technology type uri: test\nPlease specify how many creators is this assay related to: 1\nPlease specify the id of the creator number 1: 373\nPlease specify how many data_files is this assay related to: 0\nPlease specify how many documents is this assay related to: 0\nPlease specify the id of the investigation0\nPlease specify how many models is this assay related to: 0\nPlease specify how many people is this assay related to: 0\nPlease specify how many projects is this assay related to: 0\nPlease specify how many publications is this assay related to: 0\nPlease specify how many sops is this assay related to: 0\nPlease specify the id of the studie0\nPlease specify how many submitters is this assay related to: 0\n{'data': {'type': 'assays', 'attributes': {'description': 'This is a template example used to test the POST reqeust from the Jupyter Notebook.', 'other_creators': 'Bogdan Gherasim', 'title': 'TESTING', 'assay_class': {'description': 'test', 'key': 'test', 'title': 'test'}, 'assay_type': {'label': 'test', 'uri': 'test'}, 'technology_type': {'label': 'test', 'uri': 'test'}}, 'relationships': {'creators': [[{'id': 373, 'type': 'creators'}]], 'data_files': [{}], 'documents': [{}], 'investigations': {'id': 0, 'type': 'investigations'}, 'models': [{}], 'people': [{}], 'projects': [{}], 'publications': [{}], 'sops': [{}], 'studies': {'id': 0, 'type': 'studies'}, 'submitters': [{}]}}}\n"
       }
      ],
      "source": "from WriteObject import WriteObject\n\nWO = WriteObject()\n\nWO.SEEKForm()",
      "start_time": "2019-03-15T14:47:31.774Z"
     },
     {
      "end_time": "2019-03-15T14:49:41.016Z",
      "execution_time": "17.2s",
      "outputs": [
       {
        "data": {
         "text/html": "<h3>SEEK FORM</h3>",
         "text/plain": "<IPython.core.display.HTML object>"
        },
        "metadata": {},
        "output_type": "display_data",
        "transient": {}
       },
       {
        "name": "stdout",
        "output_type": "stream",
        "text": "\nThe type of object you want to upload to SEEK: assays\n\nYou need to complete the following form in order to succesfully upload your information to SEEK\nPlease specify the description: d\nPlease specify other creators: d\nPlease specify the title: d\nPlease specify the assay class description: d\nPlease specify the assay class key: d\nPlease specify the assay class title: d\nPlease specify the assay type label: d\nPlease specify the assay type uri: d\nPlease specify the technology type label: d\nPlease specify the technology type uri: d\nPlease specify how many creators is this assay related to: 3\nPlease specify the id of the creator number 1: 23\nPlease specify the id of the creator number 2: 23\nPlease specify the id of the creator number 3: 23\nPlease specify how many data_files is this assay related to: 0\nPlease specify how many documents is this assay related to: 0\nPlease specify the id of the investigation0\nPlease specify how many models is this assay related to: 0\nPlease specify how many people is this assay related to: 0\nPlease specify how many projects is this assay related to: 0\nPlease specify how many publications is this assay related to: 0\nPlease specify how many sops is this assay related to: 0\nPlease specify the id of the studie0\nPlease specify how many submitters is this assay related to: 0\n{'data': {'type': 'assays', 'attributes': {'description': 'd', 'other_creators': 'd', 'title': 'd', 'assay_class': {'description': 'd', 'key': 'd', 'title': 'd'}, 'assay_type': {'label': 'd', 'uri': 'd'}, 'technology_type': {'label': 'd', 'uri': 'd'}}, 'relationships': {'creators': [[{'id': 23, 'type': 'creators'}]], 'data_files': [{}], 'documents': [{}], 'investigations': {'id': 0, 'type': 'investigations'}, 'models': [{}], 'people': [{}], 'projects': [{}], 'publications': [{}], 'sops': [{}], 'studies': {'id': 0, 'type': 'studies'}, 'submitters': [{}]}}}\n"
       }
      ],
      "source": "from WriteObject import WriteObject\n\nWO = WriteObject()\n\nWO.SEEKForm()",
      "start_time": "2019-03-15T14:49:23.845Z"
     },
     {
      "end_time": "2019-03-15T14:50:22.874Z",
      "execution_time": "21.7s",
      "outputs": [
       {
        "data": {
         "text/html": "<h3>SEEK FORM</h3>",
         "text/plain": "<IPython.core.display.HTML object>"
        },
        "metadata": {},
        "output_type": "display_data",
        "transient": {}
       },
       {
        "name": "stdout",
        "output_type": "stream",
        "text": "\nThe type of object you want to upload to SEEK: assays\n\nYou need to complete the following form in order to succesfully upload your information to SEEK\nPlease specify the description: a\nPlease specify other creators: a\nPlease specify the title: a\nPlease specify the assay class description: a\nPlease specify the assay class key: a\nPlease specify the assay class title: a\nPlease specify the assay type label: a\nPlease specify the assay type uri: a\nPlease specify the technology type label: a\nPlease specify the technology type uri: a\nPlease specify how many creators is this assay related to: 3\nPlease specify the id of the creator number 1: 32\nPlease specify the id of the creator number 2: 42\nPlease specify the id of the creator number 3: 12\nPlease specify how many data_files is this assay related to: 0\nPlease specify how many documents is this assay related to: 0\nPlease specify the id of the investigation0\nPlease specify how many models is this assay related to: 0\nPlease specify how many people is this assay related to: 0\nPlease specify how many projects is this assay related to: 0\nPlease specify how many publications is this assay related to: 0\nPlease specify how many sops is this assay related to: 0\nPlease specify the id of the studie0\nPlease specify how many submitters is this assay related to: 0\n{'data': {'type': 'assays', 'attributes': {'description': 'a', 'other_creators': 'a', 'title': 'a', 'assay_class': {'description': 'a', 'key': 'a', 'title': 'a'}, 'assay_type': {'label': 'a', 'uri': 'a'}, 'technology_type': {'label': 'a', 'uri': 'a'}}, 'relationships': {'creators': [[{'id': 12, 'type': 'creators'}]], 'data_files': [{}], 'documents': [{}], 'investigations': {'id': 0, 'type': 'investigations'}, 'models': [{}], 'people': [{}], 'projects': [{}], 'publications': [{}], 'sops': [{}], 'studies': {'id': 0, 'type': 'studies'}, 'submitters': [{}]}}}\n"
       }
      ],
      "source": "from WriteObject import WriteObject\n\nWO = WriteObject()\n\nWO.SEEKForm()",
      "start_time": "2019-03-15T14:50:01.148Z"
     },
     {
      "end_time": "2019-03-15T14:50:55.167Z",
      "execution_time": "18.3s",
      "outputs": [
       {
        "data": {
         "text/html": "<h3>SEEK FORM</h3>",
         "text/plain": "<IPython.core.display.HTML object>"
        },
        "metadata": {},
        "output_type": "display_data",
        "transient": {}
       },
       {
        "name": "stdout",
        "output_type": "stream",
        "text": "\nThe type of object you want to upload to SEEK: assays\n\nYou need to complete the following form in order to succesfully upload your information to SEEK\nPlease specify the description: a\nPlease specify other creators: a\nPlease specify the title: a\nPlease specify the assay class description: a\nPlease specify the assay class key: a\nPlease specify the assay class title: a\nPlease specify the assay type label: a\nPlease specify the assay type uri: a\nPlease specify the technology type label: a\nPlease specify the technology type uri: a\nPlease specify how many creators is this assay related to: 3\nPlease specify the id of the creator number 1: 12\nPlease specify the id of the creator number 2: 23\nPlease specify the id of the creator number 3: 45\nPlease specify how many data_files is this assay related to: 0\nPlease specify how many documents is this assay related to: 0\nPlease specify the id of the investigation0\nPlease specify how many models is this assay related to: 0\nPlease specify how many people is this assay related to: 0\nPlease specify how many projects is this assay related to: 0\nPlease specify how many publications is this assay related to: 0\nPlease specify how many sops is this assay related to: 0\nPlease specify the id of the studie0\nPlease specify how many submitters is this assay related to: 0\n{'data': {'type': 'assays', 'attributes': {'description': 'a', 'other_creators': 'a', 'title': 'a', 'assay_class': {'description': 'a', 'key': 'a', 'title': 'a'}, 'assay_type': {'label': 'a', 'uri': 'a'}, 'technology_type': {'label': 'a', 'uri': 'a'}}, 'relationships': {'creators': [{'id': 45, 'type': 'creators'}], 'data_files': [{}], 'documents': [{}], 'investigations': {'id': 0, 'type': 'investigations'}, 'models': [{}], 'people': [{}], 'projects': [{}], 'publications': [{}], 'sops': [{}], 'studies': {'id': 0, 'type': 'studies'}, 'submitters': [{}]}}}\n"
       }
      ],
      "source": "from WriteObject import WriteObject\n\nWO = WriteObject()\n\nWO.SEEKForm()",
      "start_time": "2019-03-15T14:50:36.891Z"
     },
     {
      "end_time": "2019-03-15T15:56:13.696Z",
      "execution_time": "15.0s",
      "outputs": [
       {
        "data": {
         "text/html": "<h3>SEEK FORM</h3>",
         "text/plain": "<IPython.core.display.HTML object>"
        },
        "metadata": {},
        "output_type": "display_data",
        "transient": {}
       },
       {
        "name": "stdout",
        "output_type": "stream",
        "text": "\nThe type of object you want to upload to SEEK: assays\n\nYou need to complete the following form in order to succesfully upload your information to SEEK\nPlease specify the description: a\nPlease specify other creators: a\nPlease specify the title: a\nPlease specify the assay class description: a\nPlease specify the assay class key: a\nPlease specify the assay class title: a\nPlease specify the assay type label: a\nPlease specify the assay type uri: a\nPlease specify the technology type label: a\nPlease specify the technology type uri: a\nPlease specify how many creators is this assay related to: 3\nPlease specify the id of the creator number 1: 23\nPlease specify the id of the creator number 2: 21\nPlease specify the id of the creator number 3: 42\nPlease specify how many data_files is this assay related to: 0\nPlease specify how many documents is this assay related to: 0\nPlease specify the id of the investigation0\n"
       },
       {
        "ename": "ValueError",
        "evalue": "invalid literal for int() with base 10: '0: '",
        "output_type": "error",
        "traceback": [
         "\u001b[0;31m---------------------------------------------------------------------------\u001b[0m",
         "\u001b[0;31mValueError\u001b[0m                                Traceback (most recent call last)",
         "\u001b[0;32m<ipython-input-1-cd480b0c800a>\u001b[0m in \u001b[0;36m<module>\u001b[0;34m()\u001b[0m\n\u001b[1;32m      3\u001b[0m \u001b[0mWO\u001b[0m \u001b[0;34m=\u001b[0m \u001b[0mWriteObject\u001b[0m\u001b[0;34m(\u001b[0m\u001b[0;34m)\u001b[0m\u001b[0;34m\u001b[0m\u001b[0m\n\u001b[1;32m      4\u001b[0m \u001b[0;34m\u001b[0m\u001b[0m\n\u001b[0;32m----> 5\u001b[0;31m \u001b[0mWO\u001b[0m\u001b[0;34m.\u001b[0m\u001b[0mSEEKForm\u001b[0m\u001b[0;34m(\u001b[0m\u001b[0;34m)\u001b[0m\u001b[0;34m\u001b[0m\u001b[0m\n\u001b[0m",
         "\u001b[0;32m~/Work/ThirdYear/Seek/TheSeekNotebook/WriteObject.py\u001b[0m in \u001b[0;36mSEEKForm\u001b[0;34m(self)\u001b[0m\n\u001b[1;32m     31\u001b[0m \u001b[0;34m\u001b[0m\u001b[0m\n\u001b[1;32m     32\u001b[0m         \u001b[0;32mif\u001b[0m \u001b[0mself\u001b[0m\u001b[0;34m.\u001b[0m\u001b[0mtype\u001b[0m \u001b[0;34m==\u001b[0m \u001b[0;34m'assays'\u001b[0m\u001b[0;34m:\u001b[0m\u001b[0;34m\u001b[0m\u001b[0m\n\u001b[0;32m---> 33\u001b[0;31m             \u001b[0mself\u001b[0m\u001b[0;34m.\u001b[0m\u001b[0mJSON\u001b[0m \u001b[0;34m=\u001b[0m \u001b[0mHelper\u001b[0m\u001b[0;34m.\u001b[0m\u001b[0massayFormat\u001b[0m\u001b[0;34m(\u001b[0m\u001b[0;34m)\u001b[0m\u001b[0;34m\u001b[0m\u001b[0m\n\u001b[0m\u001b[1;32m     34\u001b[0m         \u001b[0;32melif\u001b[0m \u001b[0mself\u001b[0m\u001b[0;34m.\u001b[0m\u001b[0mtype\u001b[0m \u001b[0;34m==\u001b[0m \u001b[0;34m'investigations'\u001b[0m\u001b[0;34m:\u001b[0m\u001b[0;34m\u001b[0m\u001b[0m\n\u001b[1;32m     35\u001b[0m             \u001b[0mself\u001b[0m\u001b[0;34m.\u001b[0m\u001b[0mJSON\u001b[0m \u001b[0;34m=\u001b[0m \u001b[0mHelper\u001b[0m\u001b[0;34m.\u001b[0m\u001b[0minvestigationFormat\u001b[0m\u001b[0;34m(\u001b[0m\u001b[0;34m)\u001b[0m\u001b[0;34m\u001b[0m\u001b[0m\n",
         "\u001b[0;32m~/Work/ThirdYear/Seek/TheSeekNotebook/Helper.py\u001b[0m in \u001b[0;36massayFormat\u001b[0;34m()\u001b[0m\n\u001b[1;32m     48\u001b[0m     \u001b[0mrelationsFormat\u001b[0m\u001b[0;34m(\u001b[0m\u001b[0mJSON\u001b[0m\u001b[0;34m,\u001b[0m \u001b[0;34m'data_files'\u001b[0m\u001b[0;34m,\u001b[0m \u001b[0;34m'assay'\u001b[0m\u001b[0;34m)\u001b[0m\u001b[0;34m\u001b[0m\u001b[0m\n\u001b[1;32m     49\u001b[0m     \u001b[0mrelationsFormat\u001b[0m\u001b[0;34m(\u001b[0m\u001b[0mJSON\u001b[0m\u001b[0;34m,\u001b[0m \u001b[0;34m'documents'\u001b[0m\u001b[0;34m,\u001b[0m \u001b[0;34m'assay'\u001b[0m\u001b[0;34m)\u001b[0m\u001b[0;34m\u001b[0m\u001b[0m\n\u001b[0;32m---> 50\u001b[0;31m     \u001b[0mrelationFormat\u001b[0m\u001b[0;34m(\u001b[0m\u001b[0mJSON\u001b[0m\u001b[0;34m,\u001b[0m \u001b[0;34m'investigations'\u001b[0m\u001b[0;34m)\u001b[0m\u001b[0;34m\u001b[0m\u001b[0m\n\u001b[0m\u001b[1;32m     51\u001b[0m     \u001b[0mrelationsFormat\u001b[0m\u001b[0;34m(\u001b[0m\u001b[0mJSON\u001b[0m\u001b[0;34m,\u001b[0m \u001b[0;34m'models'\u001b[0m\u001b[0;34m,\u001b[0m \u001b[0;34m'assay'\u001b[0m\u001b[0;34m)\u001b[0m\u001b[0;34m\u001b[0m\u001b[0m\n\u001b[1;32m     52\u001b[0m     \u001b[0mrelationsFormat\u001b[0m\u001b[0;34m(\u001b[0m\u001b[0mJSON\u001b[0m\u001b[0;34m,\u001b[0m \u001b[0;34m'people'\u001b[0m\u001b[0;34m,\u001b[0m \u001b[0;34m'assay'\u001b[0m\u001b[0;34m)\u001b[0m\u001b[0;34m\u001b[0m\u001b[0m\n",
         "\u001b[0;32m~/Work/ThirdYear/Seek/TheSeekNotebook/Helper.py\u001b[0m in \u001b[0;36mrelationFormat\u001b[0;34m(JSON, type)\u001b[0m\n\u001b[1;32m     11\u001b[0m \u001b[0;34m\u001b[0m\u001b[0m\n\u001b[1;32m     12\u001b[0m     \u001b[0mJSON\u001b[0m\u001b[0;34m[\u001b[0m\u001b[0;34m'data'\u001b[0m\u001b[0;34m]\u001b[0m\u001b[0;34m[\u001b[0m\u001b[0;34m'relationships'\u001b[0m\u001b[0;34m]\u001b[0m\u001b[0;34m[\u001b[0m\u001b[0mtype\u001b[0m\u001b[0;34m]\u001b[0m \u001b[0;34m=\u001b[0m \u001b[0;34m[\u001b[0m\u001b[0;34m{\u001b[0m\u001b[0;34m}\u001b[0m\u001b[0;34m]\u001b[0m\u001b[0;34m\u001b[0m\u001b[0m\n\u001b[0;32m---> 13\u001b[0;31m     \u001b[0mJSON\u001b[0m\u001b[0;34m[\u001b[0m\u001b[0;34m'data'\u001b[0m\u001b[0;34m]\u001b[0m\u001b[0;34m[\u001b[0m\u001b[0;34m'relationships'\u001b[0m\u001b[0;34m]\u001b[0m\u001b[0;34m[\u001b[0m\u001b[0mtype\u001b[0m\u001b[0;34m]\u001b[0m \u001b[0;34m=\u001b[0m \u001b[0;34m{\u001b[0m\u001b[0;34m'id'\u001b[0m \u001b[0;34m:\u001b[0m \u001b[0mint\u001b[0m\u001b[0;34m(\u001b[0m\u001b[0minput\u001b[0m\u001b[0;34m(\u001b[0m\u001b[0;34m'Please specify the id of the '\u001b[0m \u001b[0;34m+\u001b[0m \u001b[0mtype\u001b[0m\u001b[0;34m[\u001b[0m\u001b[0;34m:\u001b[0m\u001b[0;34m-\u001b[0m\u001b[0;36m1\u001b[0m\u001b[0;34m]\u001b[0m\u001b[0;34m)\u001b[0m \u001b[0;34m+\u001b[0m \u001b[0;34m\": \"\u001b[0m\u001b[0;34m)\u001b[0m\u001b[0;34m,\u001b[0m \u001b[0;34m'type'\u001b[0m \u001b[0;34m:\u001b[0m \u001b[0mtype\u001b[0m\u001b[0;34m}\u001b[0m\u001b[0;34m\u001b[0m\u001b[0m\n\u001b[0m\u001b[1;32m     14\u001b[0m \u001b[0;34m\u001b[0m\u001b[0m\n\u001b[1;32m     15\u001b[0m \u001b[0;32mdef\u001b[0m \u001b[0massayFormat\u001b[0m\u001b[0;34m(\u001b[0m\u001b[0;34m)\u001b[0m\u001b[0;34m:\u001b[0m\u001b[0;34m\u001b[0m\u001b[0m\n",
         "\u001b[0;31mValueError\u001b[0m: invalid literal for int() with base 10: '0: '"
        ]
       }
      ],
      "source": "from WriteObject import WriteObject\n\nWO = WriteObject()\n\nWO.SEEKForm()",
      "start_time": "2019-03-15T15:55:58.725Z"
     },
     {
      "end_time": "2019-03-15T15:57:19.119Z",
      "execution_time": "16.7s",
      "outputs": [
       {
        "data": {
         "text/html": "<h3>SEEK FORM</h3>",
         "text/plain": "<IPython.core.display.HTML object>"
        },
        "metadata": {},
        "output_type": "display_data",
        "transient": {}
       },
       {
        "name": "stdout",
        "output_type": "stream",
        "text": "\nThe type of object you want to upload to SEEK: assays\n\nYou need to complete the following form in order to succesfully upload your information to SEEK\nPlease specify the description: a\nPlease specify other creators: a\nPlease specify the title: a\nPlease specify the assay class description: a\nPlease specify the assay class key: a\nPlease specify the assay class title: a\nPlease specify the assay type label: a\nPlease specify the assay type uri: a\nPlease specify the technology type label: a\nPlease specify the technology type uri: a\nPlease specify how many creators is this assay related to: 3\nPlease specify the id of the creator number 1: 32\nPlease specify the id of the creator number 2: 21\nPlease specify the id of the creator number 3: 24\nPlease specify how many data_files is this assay related to: 0\nPlease specify how many documents is this assay related to: 0\nPlease specify the id of the investigation\n"
       },
       {
        "ename": "ValueError",
        "evalue": "invalid literal for int() with base 10: ': '",
        "output_type": "error",
        "traceback": [
         "\u001b[0;31m---------------------------------------------------------------------------\u001b[0m",
         "\u001b[0;31mValueError\u001b[0m                                Traceback (most recent call last)",
         "\u001b[0;32m<ipython-input-1-cd480b0c800a>\u001b[0m in \u001b[0;36m<module>\u001b[0;34m()\u001b[0m\n\u001b[1;32m      3\u001b[0m \u001b[0mWO\u001b[0m \u001b[0;34m=\u001b[0m \u001b[0mWriteObject\u001b[0m\u001b[0;34m(\u001b[0m\u001b[0;34m)\u001b[0m\u001b[0;34m\u001b[0m\u001b[0m\n\u001b[1;32m      4\u001b[0m \u001b[0;34m\u001b[0m\u001b[0m\n\u001b[0;32m----> 5\u001b[0;31m \u001b[0mWO\u001b[0m\u001b[0;34m.\u001b[0m\u001b[0mSEEKForm\u001b[0m\u001b[0;34m(\u001b[0m\u001b[0;34m)\u001b[0m\u001b[0;34m\u001b[0m\u001b[0m\n\u001b[0m",
         "\u001b[0;32m~/Work/ThirdYear/Seek/TheSeekNotebook/WriteObject.py\u001b[0m in \u001b[0;36mSEEKForm\u001b[0;34m(self)\u001b[0m\n\u001b[1;32m     31\u001b[0m \u001b[0;34m\u001b[0m\u001b[0m\n\u001b[1;32m     32\u001b[0m         \u001b[0;32mif\u001b[0m \u001b[0mself\u001b[0m\u001b[0;34m.\u001b[0m\u001b[0mtype\u001b[0m \u001b[0;34m==\u001b[0m \u001b[0;34m'assays'\u001b[0m\u001b[0;34m:\u001b[0m\u001b[0;34m\u001b[0m\u001b[0m\n\u001b[0;32m---> 33\u001b[0;31m             \u001b[0mself\u001b[0m\u001b[0;34m.\u001b[0m\u001b[0mJSON\u001b[0m \u001b[0;34m=\u001b[0m \u001b[0mHelper\u001b[0m\u001b[0;34m.\u001b[0m\u001b[0massayFormat\u001b[0m\u001b[0;34m(\u001b[0m\u001b[0;34m)\u001b[0m\u001b[0;34m\u001b[0m\u001b[0m\n\u001b[0m\u001b[1;32m     34\u001b[0m         \u001b[0;32melif\u001b[0m \u001b[0mself\u001b[0m\u001b[0;34m.\u001b[0m\u001b[0mtype\u001b[0m \u001b[0;34m==\u001b[0m \u001b[0;34m'investigations'\u001b[0m\u001b[0;34m:\u001b[0m\u001b[0;34m\u001b[0m\u001b[0m\n\u001b[1;32m     35\u001b[0m             \u001b[0mself\u001b[0m\u001b[0;34m.\u001b[0m\u001b[0mJSON\u001b[0m \u001b[0;34m=\u001b[0m \u001b[0mHelper\u001b[0m\u001b[0;34m.\u001b[0m\u001b[0minvestigationFormat\u001b[0m\u001b[0;34m(\u001b[0m\u001b[0;34m)\u001b[0m\u001b[0;34m\u001b[0m\u001b[0m\n",
         "\u001b[0;32m~/Work/ThirdYear/Seek/TheSeekNotebook/Helper.py\u001b[0m in \u001b[0;36massayFormat\u001b[0;34m()\u001b[0m\n\u001b[1;32m     48\u001b[0m     \u001b[0mrelationsFormat\u001b[0m\u001b[0;34m(\u001b[0m\u001b[0mJSON\u001b[0m\u001b[0;34m,\u001b[0m \u001b[0;34m'data_files'\u001b[0m\u001b[0;34m,\u001b[0m \u001b[0;34m'assay'\u001b[0m\u001b[0;34m)\u001b[0m\u001b[0;34m\u001b[0m\u001b[0m\n\u001b[1;32m     49\u001b[0m     \u001b[0mrelationsFormat\u001b[0m\u001b[0;34m(\u001b[0m\u001b[0mJSON\u001b[0m\u001b[0;34m,\u001b[0m \u001b[0;34m'documents'\u001b[0m\u001b[0;34m,\u001b[0m \u001b[0;34m'assay'\u001b[0m\u001b[0;34m)\u001b[0m\u001b[0;34m\u001b[0m\u001b[0m\n\u001b[0;32m---> 50\u001b[0;31m     \u001b[0mrelationFormat\u001b[0m\u001b[0;34m(\u001b[0m\u001b[0mJSON\u001b[0m\u001b[0;34m,\u001b[0m \u001b[0;34m'investigations'\u001b[0m\u001b[0;34m)\u001b[0m\u001b[0;34m\u001b[0m\u001b[0m\n\u001b[0m\u001b[1;32m     51\u001b[0m     \u001b[0mrelationsFormat\u001b[0m\u001b[0;34m(\u001b[0m\u001b[0mJSON\u001b[0m\u001b[0;34m,\u001b[0m \u001b[0;34m'models'\u001b[0m\u001b[0;34m,\u001b[0m \u001b[0;34m'assay'\u001b[0m\u001b[0;34m)\u001b[0m\u001b[0;34m\u001b[0m\u001b[0m\n\u001b[1;32m     52\u001b[0m     \u001b[0mrelationsFormat\u001b[0m\u001b[0;34m(\u001b[0m\u001b[0mJSON\u001b[0m\u001b[0;34m,\u001b[0m \u001b[0;34m'people'\u001b[0m\u001b[0;34m,\u001b[0m \u001b[0;34m'assay'\u001b[0m\u001b[0;34m)\u001b[0m\u001b[0;34m\u001b[0m\u001b[0m\n",
         "\u001b[0;32m~/Work/ThirdYear/Seek/TheSeekNotebook/Helper.py\u001b[0m in \u001b[0;36mrelationFormat\u001b[0;34m(JSON, type)\u001b[0m\n\u001b[1;32m     11\u001b[0m \u001b[0;34m\u001b[0m\u001b[0m\n\u001b[1;32m     12\u001b[0m     \u001b[0mJSON\u001b[0m\u001b[0;34m[\u001b[0m\u001b[0;34m'data'\u001b[0m\u001b[0;34m]\u001b[0m\u001b[0;34m[\u001b[0m\u001b[0;34m'relationships'\u001b[0m\u001b[0;34m]\u001b[0m\u001b[0;34m[\u001b[0m\u001b[0mtype\u001b[0m\u001b[0;34m]\u001b[0m \u001b[0;34m=\u001b[0m \u001b[0;34m[\u001b[0m\u001b[0;34m{\u001b[0m\u001b[0;34m}\u001b[0m\u001b[0;34m]\u001b[0m\u001b[0;34m\u001b[0m\u001b[0m\n\u001b[0;32m---> 13\u001b[0;31m     \u001b[0mJSON\u001b[0m\u001b[0;34m[\u001b[0m\u001b[0;34m'data'\u001b[0m\u001b[0;34m]\u001b[0m\u001b[0;34m[\u001b[0m\u001b[0;34m'relationships'\u001b[0m\u001b[0;34m]\u001b[0m\u001b[0;34m[\u001b[0m\u001b[0mtype\u001b[0m\u001b[0;34m]\u001b[0m \u001b[0;34m=\u001b[0m \u001b[0;34m{\u001b[0m\u001b[0;34m'id'\u001b[0m \u001b[0;34m:\u001b[0m \u001b[0mint\u001b[0m\u001b[0;34m(\u001b[0m\u001b[0minput\u001b[0m\u001b[0;34m(\u001b[0m\u001b[0;34m'Please specify the id of the '\u001b[0m \u001b[0;34m+\u001b[0m \u001b[0mtype\u001b[0m\u001b[0;34m[\u001b[0m\u001b[0;34m:\u001b[0m\u001b[0;34m-\u001b[0m\u001b[0;36m1\u001b[0m\u001b[0;34m]\u001b[0m\u001b[0;34m)\u001b[0m \u001b[0;34m+\u001b[0m \u001b[0;34m\": \"\u001b[0m\u001b[0;34m)\u001b[0m\u001b[0;34m,\u001b[0m \u001b[0;34m'type'\u001b[0m \u001b[0;34m:\u001b[0m \u001b[0mtype\u001b[0m\u001b[0;34m}\u001b[0m\u001b[0;34m\u001b[0m\u001b[0m\n\u001b[0m\u001b[1;32m     14\u001b[0m \u001b[0;34m\u001b[0m\u001b[0m\n\u001b[1;32m     15\u001b[0m \u001b[0;32mdef\u001b[0m \u001b[0massayFormat\u001b[0m\u001b[0;34m(\u001b[0m\u001b[0;34m)\u001b[0m\u001b[0;34m:\u001b[0m\u001b[0;34m\u001b[0m\u001b[0m\n",
         "\u001b[0;31mValueError\u001b[0m: invalid literal for int() with base 10: ': '"
        ]
       }
      ],
      "source": "from WriteObject import WriteObject\n\nWO = WriteObject()\n\nWO.SEEKForm()",
      "start_time": "2019-03-15T15:57:02.373Z"
     },
     {
      "end_time": "2019-03-15T15:58:37.870Z",
      "execution_time": "21.1s",
      "outputs": [
       {
        "data": {
         "text/html": "<h3>SEEK FORM</h3>",
         "text/plain": "<IPython.core.display.HTML object>"
        },
        "metadata": {},
        "output_type": "display_data",
        "transient": {}
       },
       {
        "name": "stdout",
        "output_type": "stream",
        "text": "\nThe type of object you want to upload to SEEK: assays\n\nYou need to complete the following form in order to succesfully upload your information to SEEK\nPlease specify the description: a\nPlease specify other creators: a\nPlease specify the title: a\nPlease specify the assay class description: a\nPlease specify the assay class key: a\nPlease specify the assay class title: a\nPlease specify the assay type label: a\nPlease specify the assay type uri: a\nPlease specify the technology type label: a\nPlease specify the technology type uri: a\nPlease specify how many creators is this assay related to: 3\nPlease specify the id of the creator number 1: 23\nPlease specify the id of the creator number 2: 12\nPlease specify the id of the creator number 3: 43\nPlease specify how many data_files is this assay related to: 0\nPlease specify how many documents is this assay related to: 0\nPlease specify the id of the investigation: \nPlease specify how many models is this assay related to: 0\nPlease specify how many people is this assay related to: 0\nPlease specify how many projects is this assay related to: 0\nPlease specify how many publications is this assay related to: 0\nPlease specify how many sops is this assay related to: 0\nPlease specify the id of the studie: \nPlease specify how many submitters is this assay related to: 0\n{'data': {'type': 'assays', 'attributes': {'description': 'a', 'other_creators': 'a', 'title': 'a', 'assay_class': {'description': 'a', 'key': 'a', 'title': 'a'}, 'assay_type': {'label': 'a', 'uri': 'a'}, 'technology_type': {'label': 'a', 'uri': 'a'}}, 'relationships': {'creators': ['id', 'type'], 'data_files': [{}], 'documents': [{}], 'investigations': [{}], 'models': [{}], 'people': [{}], 'projects': [{}], 'publications': [{}], 'sops': [{}], 'studies': [{}], 'submitters': [{}]}}}\n"
       }
      ],
      "source": "from WriteObject import WriteObject\n\nWO = WriteObject()\n\nWO.SEEKForm()",
      "start_time": "2019-03-15T15:58:16.745Z"
     },
     {
      "end_time": "2019-03-15T15:59:31.802Z",
      "execution_time": "22.2s",
      "outputs": [
       {
        "data": {
         "text/html": "<h3>SEEK FORM</h3>",
         "text/plain": "<IPython.core.display.HTML object>"
        },
        "metadata": {},
        "output_type": "display_data",
        "transient": {}
       },
       {
        "name": "stdout",
        "output_type": "stream",
        "text": "\nThe type of object you want to upload to SEEK: assays\n\nYou need to complete the following form in order to succesfully upload your information to SEEK\nPlease specify the description: a\nPlease specify other creators: a\nPlease specify the title: a\nPlease specify the assay class description: aa\nPlease specify the assay class key: a\nPlease specify the assay class title: a\nPlease specify the assay type label: a\nPlease specify the assay type uri: a\nPlease specify the technology type label: a\nPlease specify the technology type uri: a\nPlease specify how many creators is this assay related to: 4\nPlease specify the id of the creator number 1: 23\nPlease specify the id of the creator number 2: 12\nPlease specify the id of the creator number 3: 43\nPlease specify the id of the creator number 4: 21\nPlease specify how many data_files is this assay related to: 0\nPlease specify how many documents is this assay related to: 0\nPlease specify the id of the investigation: \nPlease specify how many models is this assay related to: 0\nPlease specify how many people is this assay related to: 0\nPlease specify how many projects is this assay related to: 0\nPlease specify how many publications is this assay related to: 0\nPlease specify how many sops is this assay related to: 0\nPlease specify the id of the studie: \nPlease specify how many submitters is this assay related to: 0\n{'data': {'type': 'assays', 'attributes': {'description': 'a', 'other_creators': 'a', 'title': 'a', 'assay_class': {'description': 'aa', 'key': 'a', 'title': 'a'}, 'assay_type': {'label': 'a', 'uri': 'a'}, 'technology_type': {'label': 'a', 'uri': 'a'}}, 'relationships': {'creators': [{}, 'id', 'type', 'id', 'type', 'id', 'type', 'id', 'type'], 'data_files': [{}], 'documents': [{}], 'investigations': [{}], 'models': [{}], 'people': [{}], 'projects': [{}], 'publications': [{}], 'sops': [{}], 'studies': [{}], 'submitters': [{}]}}}\n"
       }
      ],
      "source": "from WriteObject import WriteObject\n\nWO = WriteObject()\n\nWO.SEEKForm()",
      "start_time": "2019-03-15T15:59:09.582Z"
     },
     {
      "end_time": "2019-03-15T16:01:46.535Z",
      "execution_time": "23.8s",
      "outputs": [
       {
        "data": {
         "text/html": "<h3>SEEK FORM</h3>",
         "text/plain": "<IPython.core.display.HTML object>"
        },
        "metadata": {},
        "output_type": "display_data",
        "transient": {}
       },
       {
        "name": "stdout",
        "output_type": "stream",
        "text": "\nThe type of object you want to upload to SEEK: assays\n\nYou need to complete the following form in order to succesfully upload your information to SEEK\nPlease specify the description: a\nPlease specify other creators: a\nPlease specify the title: a\nPlease specify the assay class description: a\nPlease specify the assay class key: a\nPlease specify the assay class title: a\nPlease specify the assay type label: a\nPlease specify the assay type uri: a\nPlease specify the technology type label: a\nPlease specify the technology type uri: a\nPlease specify how many creators is this assay related to: 3\nPlease specify the id of the creator number 1: 23\nPlease specify the id of the creator number 2: 12\nPlease specify the id of the creator number 3: 43\nPlease specify how many data_files is this assay related to: 0\nPlease specify how many documents is this assay related to: 0\nPlease specify the id of the investigation: \nPlease specify how many models is this assay related to: 0\nPlease specify how many people is this assay related to: 0\nPlease specify how many projects is this assay related to: 0\nPlease specify how many publications is this assay related to: 0\nPlease specify how many sops is this assay related to: 0\nPlease specify the id of the studie: \nPlease specify how many submitters is this assay related to: 0\n{'data': {'type': 'assays', 'attributes': {'description': 'a', 'other_creators': 'a', 'title': 'a', 'assay_class': {'description': 'a', 'key': 'a', 'title': 'a'}, 'assay_type': {'label': 'a', 'uri': 'a'}, 'technology_type': {'label': 'a', 'uri': 'a'}}, 'relationships': {'creators': [{}, {'id': 23, 'type': 'creators'}, {'id': 12, 'type': 'creators'}, {'id': 43, 'type': 'creators'}], 'data_files': [{}], 'documents': [{}], 'investigations': [{}], 'models': [{}], 'people': [{}], 'projects': [{}], 'publications': [{}], 'sops': [{}], 'studies': [{}], 'submitters': [{}]}}}\n"
       }
      ],
      "source": "from WriteObject import WriteObject\n\nWO = WriteObject()\n\nWO.SEEKForm()",
      "start_time": "2019-03-15T16:01:22.739Z"
     },
     {
      "end_time": "2019-03-15T16:02:59.497Z",
      "execution_time": "19.8s",
      "outputs": [
       {
        "data": {
         "text/html": "<h3>SEEK FORM</h3>",
         "text/plain": "<IPython.core.display.HTML object>"
        },
        "metadata": {},
        "output_type": "display_data",
        "transient": {}
       },
       {
        "name": "stdout",
        "output_type": "stream",
        "text": "\nThe type of object you want to upload to SEEK: assays\n\nYou need to complete the following form in order to succesfully upload your information to SEEK\nPlease specify the description: a\nPlease specify other creators: a\nPlease specify the title: a\nPlease specify the assay class description: a\nPlease specify the assay class key: a\nPlease specify the assay class title: a\nPlease specify the assay type label: a\nPlease specify the assay type uri: a\nPlease specify the technology type label: a\nPlease specify the technology type uri: a\nPlease specify how many creators is this assay related to: 3\nPlease specify the id of the creator number 1: 12\nPlease specify the id of the creator number 2: 23\nPlease specify the id of the creator number 3: 34\nPlease specify how many data_files is this assay related to: 0\nPlease specify how many documents is this assay related to: 0\nPlease specify the id of the investigation: \nPlease specify how many models is this assay related to: 0\nPlease specify how many people is this assay related to: 0\nPlease specify how many projects is this assay related to: 0\nPlease specify how many publications is this assay related to: 0\nPlease specify how many sops is this assay related to: 0\nPlease specify the id of the studie: \nPlease specify how many submitters is this assay related to: 0\n{'data': {'type': 'assays', 'attributes': {'description': 'a', 'other_creators': 'a', 'title': 'a', 'assay_class': {'description': 'a', 'key': 'a', 'title': 'a'}, 'assay_type': {'label': 'a', 'uri': 'a'}, 'technology_type': {'label': 'a', 'uri': 'a'}}, 'relationships': {'creators': [{'id': 34, 'type': 'creators'}], 'data_files': [{}], 'documents': [{}], 'investigations': [{}], 'models': [{}], 'people': [{}], 'projects': [{}], 'publications': [{}], 'sops': [{}], 'studies': [{}], 'submitters': [{}]}}}\n"
       }
      ],
      "source": "from WriteObject import WriteObject\n\nWO = WriteObject()\n\nWO.SEEKForm()",
      "start_time": "2019-03-15T16:02:39.680Z"
     },
     {
      "end_time": "2019-03-15T16:22:34.150Z",
      "execution_time": "2.55s",
      "outputs": [
       {
        "data": {
         "text/html": "<h3>SEEK FORM</h3>",
         "text/plain": "<IPython.core.display.HTML object>"
        },
        "metadata": {},
        "output_type": "display_data",
        "transient": {}
       },
       {
        "name": "stdout",
        "output_type": "stream",
        "text": "\nThe type of object you want to upload to SEEK: assas\n\nYou need to complete the following form in order to succesfully upload your information to SEEK\n"
       },
       {
        "ename": "AttributeError",
        "evalue": "'WriteObject' object has no attribute 'JSON'",
        "output_type": "error",
        "traceback": [
         "\u001b[0;31m---------------------------------------------------------------------------\u001b[0m",
         "\u001b[0;31mAttributeError\u001b[0m                            Traceback (most recent call last)",
         "\u001b[0;32m<ipython-input-1-cd480b0c800a>\u001b[0m in \u001b[0;36m<module>\u001b[0;34m()\u001b[0m\n\u001b[1;32m      3\u001b[0m \u001b[0mWO\u001b[0m \u001b[0;34m=\u001b[0m \u001b[0mWriteObject\u001b[0m\u001b[0;34m(\u001b[0m\u001b[0;34m)\u001b[0m\u001b[0;34m\u001b[0m\u001b[0m\n\u001b[1;32m      4\u001b[0m \u001b[0;34m\u001b[0m\u001b[0m\n\u001b[0;32m----> 5\u001b[0;31m \u001b[0mWO\u001b[0m\u001b[0;34m.\u001b[0m\u001b[0mSEEKForm\u001b[0m\u001b[0;34m(\u001b[0m\u001b[0;34m)\u001b[0m\u001b[0;34m\u001b[0m\u001b[0m\n\u001b[0m",
         "\u001b[0;32m~/Work/ThirdYear/Seek/TheSeekNotebook/WriteObject.py\u001b[0m in \u001b[0;36mSEEKForm\u001b[0;34m(self)\u001b[0m\n\u001b[1;32m     37\u001b[0m             \u001b[0mself\u001b[0m\u001b[0;34m.\u001b[0m\u001b[0mJSON\u001b[0m \u001b[0;34m=\u001b[0m \u001b[0mHelper\u001b[0m\u001b[0;34m.\u001b[0m\u001b[0mstudyFormat\u001b[0m\u001b[0;34m(\u001b[0m\u001b[0;34m)\u001b[0m\u001b[0;34m\u001b[0m\u001b[0m\n\u001b[1;32m     38\u001b[0m \u001b[0;34m\u001b[0m\u001b[0m\n\u001b[0;32m---> 39\u001b[0;31m         \u001b[0mprint\u001b[0m\u001b[0;34m(\u001b[0m\u001b[0mself\u001b[0m\u001b[0;34m.\u001b[0m\u001b[0mJSON\u001b[0m\u001b[0;34m)\u001b[0m\u001b[0;34m\u001b[0m\u001b[0m\n\u001b[0m\u001b[1;32m     40\u001b[0m \u001b[0;34m\u001b[0m\u001b[0m\n\u001b[1;32m     41\u001b[0m     \u001b[0;32mdef\u001b[0m \u001b[0mrequest\u001b[0m\u001b[0;34m(\u001b[0m\u001b[0mself\u001b[0m\u001b[0;34m)\u001b[0m\u001b[0;34m:\u001b[0m\u001b[0;34m\u001b[0m\u001b[0m\n",
         "\u001b[0;31mAttributeError\u001b[0m: 'WriteObject' object has no attribute 'JSON'"
        ]
       }
      ],
      "source": "from WriteObject import WriteObject\n\nWO = WriteObject()\n\nWO.SEEKForm()",
      "start_time": "2019-03-15T16:22:31.601Z"
     },
     {
      "end_time": "2019-03-15T16:22:40.758Z",
      "execution_time": "5.26s",
      "outputs": [
       {
        "data": {
         "text/html": "<h3>SEEK FORM</h3>",
         "text/plain": "<IPython.core.display.HTML object>"
        },
        "metadata": {},
        "output_type": "display_data",
        "transient": {}
       },
       {
        "name": "stdout",
        "output_type": "stream",
        "text": "\nThe type of object you want to upload to SEEK: assays\n\nYou need to complete the following form in order to succesfully upload your information to SEEK\nPlease specify the description: a\nPlease specify other creators: a\nPlease specify the title: a\nPlease specify the assay class description: a\nPlease specify the assay class key: a\nPlease specify the assay class title: a\nPlease specify the assay type label: a\nPlease specify the assay type uri: a\nPlease specify the technology type label: a\nPlease specify the technology type uri: a\n"
       },
       {
        "ename": "KeyError",
        "evalue": "'creators'",
        "output_type": "error",
        "traceback": [
         "\u001b[0;31m---------------------------------------------------------------------------\u001b[0m",
         "\u001b[0;31mKeyError\u001b[0m                                  Traceback (most recent call last)",
         "\u001b[0;32m<ipython-input-2-cd480b0c800a>\u001b[0m in \u001b[0;36m<module>\u001b[0;34m()\u001b[0m\n\u001b[1;32m      3\u001b[0m \u001b[0mWO\u001b[0m \u001b[0;34m=\u001b[0m \u001b[0mWriteObject\u001b[0m\u001b[0;34m(\u001b[0m\u001b[0;34m)\u001b[0m\u001b[0;34m\u001b[0m\u001b[0m\n\u001b[1;32m      4\u001b[0m \u001b[0;34m\u001b[0m\u001b[0m\n\u001b[0;32m----> 5\u001b[0;31m \u001b[0mWO\u001b[0m\u001b[0;34m.\u001b[0m\u001b[0mSEEKForm\u001b[0m\u001b[0;34m(\u001b[0m\u001b[0;34m)\u001b[0m\u001b[0;34m\u001b[0m\u001b[0m\n\u001b[0m",
         "\u001b[0;32m~/Work/ThirdYear/Seek/TheSeekNotebook/WriteObject.py\u001b[0m in \u001b[0;36mSEEKForm\u001b[0;34m(self)\u001b[0m\n\u001b[1;32m     31\u001b[0m \u001b[0;34m\u001b[0m\u001b[0m\n\u001b[1;32m     32\u001b[0m         \u001b[0;32mif\u001b[0m \u001b[0mself\u001b[0m\u001b[0;34m.\u001b[0m\u001b[0mtype\u001b[0m \u001b[0;34m==\u001b[0m \u001b[0;34m'assays'\u001b[0m\u001b[0;34m:\u001b[0m\u001b[0;34m\u001b[0m\u001b[0m\n\u001b[0;32m---> 33\u001b[0;31m             \u001b[0mself\u001b[0m\u001b[0;34m.\u001b[0m\u001b[0mJSON\u001b[0m \u001b[0;34m=\u001b[0m \u001b[0mHelper\u001b[0m\u001b[0;34m.\u001b[0m\u001b[0massayFormat\u001b[0m\u001b[0;34m(\u001b[0m\u001b[0;34m)\u001b[0m\u001b[0;34m\u001b[0m\u001b[0m\n\u001b[0m\u001b[1;32m     34\u001b[0m         \u001b[0;32melif\u001b[0m \u001b[0mself\u001b[0m\u001b[0;34m.\u001b[0m\u001b[0mtype\u001b[0m \u001b[0;34m==\u001b[0m \u001b[0;34m'investigations'\u001b[0m\u001b[0;34m:\u001b[0m\u001b[0;34m\u001b[0m\u001b[0m\n\u001b[1;32m     35\u001b[0m             \u001b[0mself\u001b[0m\u001b[0;34m.\u001b[0m\u001b[0mJSON\u001b[0m \u001b[0;34m=\u001b[0m \u001b[0mHelper\u001b[0m\u001b[0;34m.\u001b[0m\u001b[0minvestigationFormat\u001b[0m\u001b[0;34m(\u001b[0m\u001b[0;34m)\u001b[0m\u001b[0;34m\u001b[0m\u001b[0m\n",
         "\u001b[0;32m~/Work/ThirdYear/Seek/TheSeekNotebook/Helper.py\u001b[0m in \u001b[0;36massayFormat\u001b[0;34m()\u001b[0m\n\u001b[1;32m     48\u001b[0m \u001b[0;34m\u001b[0m\u001b[0m\n\u001b[1;32m     49\u001b[0m \u001b[0;34m\u001b[0m\u001b[0m\n\u001b[0;32m---> 50\u001b[0;31m     \u001b[0mrelationsFormat\u001b[0m\u001b[0;34m(\u001b[0m\u001b[0mJSON\u001b[0m\u001b[0;34m,\u001b[0m \u001b[0;34m'creators'\u001b[0m\u001b[0;34m,\u001b[0m \u001b[0;34m'assay'\u001b[0m\u001b[0;34m)\u001b[0m\u001b[0;34m\u001b[0m\u001b[0m\n\u001b[0m\u001b[1;32m     51\u001b[0m     \u001b[0mrelationsFormat\u001b[0m\u001b[0;34m(\u001b[0m\u001b[0mJSON\u001b[0m\u001b[0;34m,\u001b[0m \u001b[0;34m'data_files'\u001b[0m\u001b[0;34m,\u001b[0m \u001b[0;34m'assay'\u001b[0m\u001b[0;34m)\u001b[0m\u001b[0;34m\u001b[0m\u001b[0m\n\u001b[1;32m     52\u001b[0m     \u001b[0mrelationsFormat\u001b[0m\u001b[0;34m(\u001b[0m\u001b[0mJSON\u001b[0m\u001b[0;34m,\u001b[0m \u001b[0;34m'documents'\u001b[0m\u001b[0;34m,\u001b[0m \u001b[0;34m'assay'\u001b[0m\u001b[0;34m)\u001b[0m\u001b[0;34m\u001b[0m\u001b[0m\n",
         "\u001b[0;32m~/Work/ThirdYear/Seek/TheSeekNotebook/Helper.py\u001b[0m in \u001b[0;36mrelationsFormat\u001b[0;34m(JSON, type, source)\u001b[0m\n\u001b[1;32m      1\u001b[0m \u001b[0;32mdef\u001b[0m \u001b[0mrelationsFormat\u001b[0m\u001b[0;34m(\u001b[0m\u001b[0mJSON\u001b[0m\u001b[0;34m,\u001b[0m \u001b[0mtype\u001b[0m\u001b[0;34m,\u001b[0m \u001b[0msource\u001b[0m\u001b[0;34m)\u001b[0m\u001b[0;34m:\u001b[0m\u001b[0;34m\u001b[0m\u001b[0m\n\u001b[0;32m----> 2\u001b[0;31m     \u001b[0mJSON\u001b[0m\u001b[0;34m[\u001b[0m\u001b[0;34m'data'\u001b[0m\u001b[0;34m]\u001b[0m\u001b[0;34m[\u001b[0m\u001b[0;34m'relationships'\u001b[0m\u001b[0;34m]\u001b[0m\u001b[0;34m[\u001b[0m\u001b[0mtype\u001b[0m\u001b[0;34m]\u001b[0m\u001b[0;34m[\u001b[0m\u001b[0;34m'data'\u001b[0m\u001b[0;34m]\u001b[0m \u001b[0;34m=\u001b[0m \u001b[0;34m[\u001b[0m\u001b[0;34m{\u001b[0m\u001b[0;34m}\u001b[0m\u001b[0;34m]\u001b[0m\u001b[0;34m\u001b[0m\u001b[0m\n\u001b[0m\u001b[1;32m      3\u001b[0m     \u001b[0mnumberOfRelations\u001b[0m \u001b[0;34m=\u001b[0m \u001b[0mint\u001b[0m\u001b[0;34m(\u001b[0m\u001b[0minput\u001b[0m\u001b[0;34m(\u001b[0m\u001b[0;34m'Please specify how many '\u001b[0m \u001b[0;34m+\u001b[0m \u001b[0mtype\u001b[0m \u001b[0;34m+\u001b[0m \u001b[0;34m' is this '\u001b[0m \u001b[0;34m+\u001b[0m \u001b[0msource\u001b[0m \u001b[0;34m+\u001b[0m \u001b[0;34m' related to: '\u001b[0m\u001b[0;34m)\u001b[0m\u001b[0;34m)\u001b[0m\u001b[0;34m\u001b[0m\u001b[0m\n\u001b[1;32m      4\u001b[0m     \u001b[0;32mfor\u001b[0m \u001b[0mindex\u001b[0m \u001b[0;32min\u001b[0m \u001b[0mrange\u001b[0m\u001b[0;34m(\u001b[0m\u001b[0;36m1\u001b[0m\u001b[0;34m,\u001b[0m \u001b[0mnumberOfRelations\u001b[0m \u001b[0;34m+\u001b[0m \u001b[0;36m1\u001b[0m\u001b[0;34m)\u001b[0m\u001b[0;34m:\u001b[0m\u001b[0;34m\u001b[0m\u001b[0m\n\u001b[1;32m      5\u001b[0m \u001b[0;34m\u001b[0m\u001b[0m\n",
         "\u001b[0;31mKeyError\u001b[0m: 'creators'"
        ]
       }
      ],
      "source": "from WriteObject import WriteObject\n\nWO = WriteObject()\n\nWO.SEEKForm()",
      "start_time": "2019-03-15T16:22:35.496Z"
     },
     {
      "end_time": "2019-03-15T16:23:28.971Z",
      "execution_time": "8.76s",
      "outputs": [
       {
        "data": {
         "text/html": "<h3>SEEK FORM</h3>",
         "text/plain": "<IPython.core.display.HTML object>"
        },
        "metadata": {},
        "output_type": "display_data",
        "transient": {}
       },
       {
        "name": "stdout",
        "output_type": "stream",
        "text": "\nThe type of object you want to upload to SEEK: assays\n\nYou need to complete the following form in order to succesfully upload your information to SEEK\nPlease specify the description: a\nPlease specify other creators: a\nPlease specify the title: a\nPlease specify the assay class description: a\nPlease specify the assay class key: a\nPlease specify the assay class title: a\nPlease specify the assay type label: a\nPlease specify the assay type uri: a\nPlease specify the technology type label: a\nPlease specify the technology type uri: a\nPlease specify how many creators is this assay related to: 3\nPlease specify the id of the creator number 1: 123\n"
       },
       {
        "ename": "KeyError",
        "evalue": "0",
        "output_type": "error",
        "traceback": [
         "\u001b[0;31m---------------------------------------------------------------------------\u001b[0m",
         "\u001b[0;31mKeyError\u001b[0m                                  Traceback (most recent call last)",
         "\u001b[0;32m<ipython-input-1-cd480b0c800a>\u001b[0m in \u001b[0;36m<module>\u001b[0;34m()\u001b[0m\n\u001b[1;32m      3\u001b[0m \u001b[0mWO\u001b[0m \u001b[0;34m=\u001b[0m \u001b[0mWriteObject\u001b[0m\u001b[0;34m(\u001b[0m\u001b[0;34m)\u001b[0m\u001b[0;34m\u001b[0m\u001b[0m\n\u001b[1;32m      4\u001b[0m \u001b[0;34m\u001b[0m\u001b[0m\n\u001b[0;32m----> 5\u001b[0;31m \u001b[0mWO\u001b[0m\u001b[0;34m.\u001b[0m\u001b[0mSEEKForm\u001b[0m\u001b[0;34m(\u001b[0m\u001b[0;34m)\u001b[0m\u001b[0;34m\u001b[0m\u001b[0m\n\u001b[0m",
         "\u001b[0;32m~/Work/ThirdYear/Seek/TheSeekNotebook/WriteObject.py\u001b[0m in \u001b[0;36mSEEKForm\u001b[0;34m(self)\u001b[0m\n\u001b[1;32m     31\u001b[0m \u001b[0;34m\u001b[0m\u001b[0m\n\u001b[1;32m     32\u001b[0m         \u001b[0;32mif\u001b[0m \u001b[0mself\u001b[0m\u001b[0;34m.\u001b[0m\u001b[0mtype\u001b[0m \u001b[0;34m==\u001b[0m \u001b[0;34m'assays'\u001b[0m\u001b[0;34m:\u001b[0m\u001b[0;34m\u001b[0m\u001b[0m\n\u001b[0;32m---> 33\u001b[0;31m             \u001b[0mself\u001b[0m\u001b[0;34m.\u001b[0m\u001b[0mJSON\u001b[0m \u001b[0;34m=\u001b[0m \u001b[0mHelper\u001b[0m\u001b[0;34m.\u001b[0m\u001b[0massayFormat\u001b[0m\u001b[0;34m(\u001b[0m\u001b[0;34m)\u001b[0m\u001b[0;34m\u001b[0m\u001b[0m\n\u001b[0m\u001b[1;32m     34\u001b[0m         \u001b[0;32melif\u001b[0m \u001b[0mself\u001b[0m\u001b[0;34m.\u001b[0m\u001b[0mtype\u001b[0m \u001b[0;34m==\u001b[0m \u001b[0;34m'investigations'\u001b[0m\u001b[0;34m:\u001b[0m\u001b[0;34m\u001b[0m\u001b[0m\n\u001b[1;32m     35\u001b[0m             \u001b[0mself\u001b[0m\u001b[0;34m.\u001b[0m\u001b[0mJSON\u001b[0m \u001b[0;34m=\u001b[0m \u001b[0mHelper\u001b[0m\u001b[0;34m.\u001b[0m\u001b[0minvestigationFormat\u001b[0m\u001b[0;34m(\u001b[0m\u001b[0;34m)\u001b[0m\u001b[0;34m\u001b[0m\u001b[0m\n",
         "\u001b[0;32m~/Work/ThirdYear/Seek/TheSeekNotebook/Helper.py\u001b[0m in \u001b[0;36massayFormat\u001b[0;34m()\u001b[0m\n\u001b[1;32m     50\u001b[0m \u001b[0;34m\u001b[0m\u001b[0m\n\u001b[1;32m     51\u001b[0m \u001b[0;34m\u001b[0m\u001b[0m\n\u001b[0;32m---> 52\u001b[0;31m     \u001b[0mrelationsFormat\u001b[0m\u001b[0;34m(\u001b[0m\u001b[0mJSON\u001b[0m\u001b[0;34m,\u001b[0m \u001b[0;34m'creators'\u001b[0m\u001b[0;34m,\u001b[0m \u001b[0;34m'assay'\u001b[0m\u001b[0;34m)\u001b[0m\u001b[0;34m\u001b[0m\u001b[0m\n\u001b[0m\u001b[1;32m     53\u001b[0m     \u001b[0mrelationsFormat\u001b[0m\u001b[0;34m(\u001b[0m\u001b[0mJSON\u001b[0m\u001b[0;34m,\u001b[0m \u001b[0;34m'data_files'\u001b[0m\u001b[0;34m,\u001b[0m \u001b[0;34m'assay'\u001b[0m\u001b[0;34m)\u001b[0m\u001b[0;34m\u001b[0m\u001b[0m\n\u001b[1;32m     54\u001b[0m     \u001b[0mrelationsFormat\u001b[0m\u001b[0;34m(\u001b[0m\u001b[0mJSON\u001b[0m\u001b[0;34m,\u001b[0m \u001b[0;34m'documents'\u001b[0m\u001b[0;34m,\u001b[0m \u001b[0;34m'assay'\u001b[0m\u001b[0;34m)\u001b[0m\u001b[0;34m\u001b[0m\u001b[0m\n",
         "\u001b[0;32m~/Work/ThirdYear/Seek/TheSeekNotebook/Helper.py\u001b[0m in \u001b[0;36mrelationsFormat\u001b[0;34m(JSON, type, source)\u001b[0m\n\u001b[1;32m      7\u001b[0m \u001b[0;34m\u001b[0m\u001b[0m\n\u001b[1;32m      8\u001b[0m         \u001b[0mid\u001b[0m \u001b[0;34m=\u001b[0m \u001b[0mint\u001b[0m\u001b[0;34m(\u001b[0m\u001b[0minput\u001b[0m\u001b[0;34m(\u001b[0m\u001b[0;34m'Please specify the id of the '\u001b[0m \u001b[0;34m+\u001b[0m \u001b[0mtype\u001b[0m\u001b[0;34m[\u001b[0m\u001b[0;34m:\u001b[0m\u001b[0;34m-\u001b[0m\u001b[0;36m1\u001b[0m\u001b[0;34m]\u001b[0m \u001b[0;34m+\u001b[0m \u001b[0;34m' number '\u001b[0m \u001b[0;34m+\u001b[0m \u001b[0mstr\u001b[0m\u001b[0;34m(\u001b[0m\u001b[0mindex\u001b[0m\u001b[0;34m)\u001b[0m \u001b[0;34m+\u001b[0m \u001b[0;34m': '\u001b[0m\u001b[0;34m)\u001b[0m\u001b[0;34m)\u001b[0m\u001b[0;34m\u001b[0m\u001b[0m\n\u001b[0;32m----> 9\u001b[0;31m         \u001b[0mJSON\u001b[0m\u001b[0;34m[\u001b[0m\u001b[0;34m'data'\u001b[0m\u001b[0;34m]\u001b[0m\u001b[0;34m[\u001b[0m\u001b[0;34m'relationships'\u001b[0m\u001b[0;34m]\u001b[0m\u001b[0;34m[\u001b[0m\u001b[0mtype\u001b[0m\u001b[0;34m]\u001b[0m\u001b[0;34m.\u001b[0m\u001b[0mpop\u001b[0m\u001b[0;34m(\u001b[0m\u001b[0;36m0\u001b[0m\u001b[0;34m)\u001b[0m\u001b[0;34m\u001b[0m\u001b[0m\n\u001b[0m\u001b[1;32m     10\u001b[0m         \u001b[0mJSON\u001b[0m\u001b[0;34m[\u001b[0m\u001b[0;34m'data'\u001b[0m\u001b[0;34m]\u001b[0m\u001b[0;34m[\u001b[0m\u001b[0;34m'relationships'\u001b[0m\u001b[0;34m]\u001b[0m\u001b[0;34m[\u001b[0m\u001b[0mtype\u001b[0m\u001b[0;34m]\u001b[0m\u001b[0;34m.\u001b[0m\u001b[0mappend\u001b[0m\u001b[0;34m(\u001b[0m\u001b[0;34m{\u001b[0m\u001b[0;34m'id'\u001b[0m \u001b[0;34m:\u001b[0m \u001b[0mid\u001b[0m\u001b[0;34m,\u001b[0m \u001b[0;34m'type'\u001b[0m \u001b[0;34m:\u001b[0m \u001b[0mtype\u001b[0m\u001b[0;34m}\u001b[0m\u001b[0;34m)\u001b[0m\u001b[0;34m\u001b[0m\u001b[0m\n\u001b[1;32m     11\u001b[0m \u001b[0;34m\u001b[0m\u001b[0m\n",
         "\u001b[0;31mKeyError\u001b[0m: 0"
        ]
       }
      ],
      "source": "from WriteObject import WriteObject\n\nWO = WriteObject()\n\nWO.SEEKForm()",
      "start_time": "2019-03-15T16:23:20.208Z"
     },
     {
      "end_time": "2019-03-15T16:23:52.218Z",
      "execution_time": "18.5s",
      "outputs": [
       {
        "data": {
         "text/html": "<h3>SEEK FORM</h3>",
         "text/plain": "<IPython.core.display.HTML object>"
        },
        "metadata": {},
        "output_type": "display_data",
        "transient": {}
       },
       {
        "name": "stdout",
        "output_type": "stream",
        "text": "\nThe type of object you want to upload to SEEK: assays\n\nYou need to complete the following form in order to succesfully upload your information to SEEK\nPlease specify the description: a\nPlease specify other creators: a\nPlease specify the title: a\nPlease specify the assay class description: a\nPlease specify the assay class key: a\nPlease specify the assay class title: a\nPlease specify the assay type label: a\nPlease specify the assay type uri: a\nPlease specify the technology type label: a\nPlease specify the technology type uri: a\nPlease specify how many creators is this assay related to: 3\nPlease specify the id of the creator number 1: 123\n"
       },
       {
        "ename": "KeyError",
        "evalue": "0",
        "output_type": "error",
        "traceback": [
         "\u001b[0;31m---------------------------------------------------------------------------\u001b[0m",
         "\u001b[0;31mKeyError\u001b[0m                                  Traceback (most recent call last)",
         "\u001b[0;32m<ipython-input-2-dc20d847a4c2>\u001b[0m in \u001b[0;36m<module>\u001b[0;34m()\u001b[0m\n\u001b[1;32m      3\u001b[0m \u001b[0mWO\u001b[0m \u001b[0;34m=\u001b[0m \u001b[0mWriteObject\u001b[0m\u001b[0;34m(\u001b[0m\u001b[0;34m)\u001b[0m\u001b[0;34m\u001b[0m\u001b[0m\n\u001b[1;32m      4\u001b[0m \u001b[0;34m\u001b[0m\u001b[0m\n\u001b[0;32m----> 5\u001b[0;31m \u001b[0mWO\u001b[0m\u001b[0;34m.\u001b[0m\u001b[0mSEEKForm\u001b[0m\u001b[0;34m(\u001b[0m\u001b[0;34m)\u001b[0m\u001b[0;34m\u001b[0m\u001b[0m\n\u001b[0m",
         "\u001b[0;32m~/Work/ThirdYear/Seek/TheSeekNotebook/WriteObject.py\u001b[0m in \u001b[0;36mSEEKForm\u001b[0;34m(self)\u001b[0m\n\u001b[1;32m     31\u001b[0m \u001b[0;34m\u001b[0m\u001b[0m\n\u001b[1;32m     32\u001b[0m         \u001b[0;32mif\u001b[0m \u001b[0mself\u001b[0m\u001b[0;34m.\u001b[0m\u001b[0mtype\u001b[0m \u001b[0;34m==\u001b[0m \u001b[0;34m'assays'\u001b[0m\u001b[0;34m:\u001b[0m\u001b[0;34m\u001b[0m\u001b[0m\n\u001b[0;32m---> 33\u001b[0;31m             \u001b[0mself\u001b[0m\u001b[0;34m.\u001b[0m\u001b[0mJSON\u001b[0m \u001b[0;34m=\u001b[0m \u001b[0mHelper\u001b[0m\u001b[0;34m.\u001b[0m\u001b[0massayFormat\u001b[0m\u001b[0;34m(\u001b[0m\u001b[0;34m)\u001b[0m\u001b[0;34m\u001b[0m\u001b[0m\n\u001b[0m\u001b[1;32m     34\u001b[0m         \u001b[0;32melif\u001b[0m \u001b[0mself\u001b[0m\u001b[0;34m.\u001b[0m\u001b[0mtype\u001b[0m \u001b[0;34m==\u001b[0m \u001b[0;34m'investigations'\u001b[0m\u001b[0;34m:\u001b[0m\u001b[0;34m\u001b[0m\u001b[0m\n\u001b[1;32m     35\u001b[0m             \u001b[0mself\u001b[0m\u001b[0;34m.\u001b[0m\u001b[0mJSON\u001b[0m \u001b[0;34m=\u001b[0m \u001b[0mHelper\u001b[0m\u001b[0;34m.\u001b[0m\u001b[0minvestigationFormat\u001b[0m\u001b[0;34m(\u001b[0m\u001b[0;34m)\u001b[0m\u001b[0;34m\u001b[0m\u001b[0m\n",
         "\u001b[0;32m~/Work/ThirdYear/Seek/TheSeekNotebook/Helper.py\u001b[0m in \u001b[0;36massayFormat\u001b[0;34m()\u001b[0m\n\u001b[1;32m     50\u001b[0m \u001b[0;34m\u001b[0m\u001b[0m\n\u001b[1;32m     51\u001b[0m \u001b[0;34m\u001b[0m\u001b[0m\n\u001b[0;32m---> 52\u001b[0;31m     \u001b[0mrelationsFormat\u001b[0m\u001b[0;34m(\u001b[0m\u001b[0mJSON\u001b[0m\u001b[0;34m,\u001b[0m \u001b[0;34m'creators'\u001b[0m\u001b[0;34m,\u001b[0m \u001b[0;34m'assay'\u001b[0m\u001b[0;34m)\u001b[0m\u001b[0;34m\u001b[0m\u001b[0m\n\u001b[0m\u001b[1;32m     53\u001b[0m     \u001b[0mrelationsFormat\u001b[0m\u001b[0;34m(\u001b[0m\u001b[0mJSON\u001b[0m\u001b[0;34m,\u001b[0m \u001b[0;34m'data_files'\u001b[0m\u001b[0;34m,\u001b[0m \u001b[0;34m'assay'\u001b[0m\u001b[0;34m)\u001b[0m\u001b[0;34m\u001b[0m\u001b[0m\n\u001b[1;32m     54\u001b[0m     \u001b[0mrelationsFormat\u001b[0m\u001b[0;34m(\u001b[0m\u001b[0mJSON\u001b[0m\u001b[0;34m,\u001b[0m \u001b[0;34m'documents'\u001b[0m\u001b[0;34m,\u001b[0m \u001b[0;34m'assay'\u001b[0m\u001b[0;34m)\u001b[0m\u001b[0;34m\u001b[0m\u001b[0m\n",
         "\u001b[0;32m~/Work/ThirdYear/Seek/TheSeekNotebook/Helper.py\u001b[0m in \u001b[0;36mrelationsFormat\u001b[0;34m(JSON, type, source)\u001b[0m\n\u001b[1;32m      7\u001b[0m \u001b[0;34m\u001b[0m\u001b[0m\n\u001b[1;32m      8\u001b[0m         \u001b[0mid\u001b[0m \u001b[0;34m=\u001b[0m \u001b[0mint\u001b[0m\u001b[0;34m(\u001b[0m\u001b[0minput\u001b[0m\u001b[0;34m(\u001b[0m\u001b[0;34m'Please specify the id of the '\u001b[0m \u001b[0;34m+\u001b[0m \u001b[0mtype\u001b[0m\u001b[0;34m[\u001b[0m\u001b[0;34m:\u001b[0m\u001b[0;34m-\u001b[0m\u001b[0;36m1\u001b[0m\u001b[0;34m]\u001b[0m \u001b[0;34m+\u001b[0m \u001b[0;34m' number '\u001b[0m \u001b[0;34m+\u001b[0m \u001b[0mstr\u001b[0m\u001b[0;34m(\u001b[0m\u001b[0mindex\u001b[0m\u001b[0;34m)\u001b[0m \u001b[0;34m+\u001b[0m \u001b[0;34m': '\u001b[0m\u001b[0;34m)\u001b[0m\u001b[0;34m)\u001b[0m\u001b[0;34m\u001b[0m\u001b[0m\n\u001b[0;32m----> 9\u001b[0;31m         \u001b[0mJSON\u001b[0m\u001b[0;34m[\u001b[0m\u001b[0;34m'data'\u001b[0m\u001b[0;34m]\u001b[0m\u001b[0;34m[\u001b[0m\u001b[0;34m'relationships'\u001b[0m\u001b[0;34m]\u001b[0m\u001b[0;34m[\u001b[0m\u001b[0mtype\u001b[0m\u001b[0;34m]\u001b[0m\u001b[0;34m.\u001b[0m\u001b[0mpop\u001b[0m\u001b[0;34m(\u001b[0m\u001b[0;36m0\u001b[0m\u001b[0;34m)\u001b[0m\u001b[0;34m\u001b[0m\u001b[0m\n\u001b[0m\u001b[1;32m     10\u001b[0m         \u001b[0mJSON\u001b[0m\u001b[0;34m[\u001b[0m\u001b[0;34m'data'\u001b[0m\u001b[0;34m]\u001b[0m\u001b[0;34m[\u001b[0m\u001b[0;34m'relationships'\u001b[0m\u001b[0;34m]\u001b[0m\u001b[0;34m[\u001b[0m\u001b[0mtype\u001b[0m\u001b[0;34m]\u001b[0m\u001b[0;34m.\u001b[0m\u001b[0mappend\u001b[0m\u001b[0;34m(\u001b[0m\u001b[0;34m{\u001b[0m\u001b[0;34m'id'\u001b[0m \u001b[0;34m:\u001b[0m \u001b[0mid\u001b[0m\u001b[0;34m,\u001b[0m \u001b[0;34m'type'\u001b[0m \u001b[0;34m:\u001b[0m \u001b[0mtype\u001b[0m\u001b[0;34m}\u001b[0m\u001b[0;34m)\u001b[0m\u001b[0;34m\u001b[0m\u001b[0m\n\u001b[1;32m     11\u001b[0m \u001b[0;34m\u001b[0m\u001b[0m\n",
         "\u001b[0;31mKeyError\u001b[0m: 0"
        ]
       }
      ],
      "source": "from WriteObject import WriteObject\n\nWO = WriteObject()\n\nWO.SEEKForm()",
      "start_time": "2019-03-15T16:23:33.679Z"
     },
     {
      "end_time": "2019-03-15T16:24:28.673Z",
      "execution_time": "14.1s",
      "outputs": [
       {
        "data": {
         "text/html": "<h3>SEEK FORM</h3>",
         "text/plain": "<IPython.core.display.HTML object>"
        },
        "metadata": {},
        "output_type": "display_data",
        "transient": {}
       },
       {
        "name": "stdout",
        "output_type": "stream",
        "text": "\nThe type of object you want to upload to SEEK: assays\n\nYou need to complete the following form in order to succesfully upload your information to SEEK\nPlease specify the description: a\nPlease specify other creators: a\nPlease specify the title: a\nPlease specify the assay class description: a\nPlease specify the assay class key: a\nPlease specify the assay class title: a\nPlease specify the assay type label: a\nPlease specify the assay type uri: a\nPlease specify the technology type label: a\nPlease specify the technology type uri: a\nPlease specify how many creators is this assay related to: 3\nPlease specify the id of the creator number 1: 12\nPlease specify the id of the creator number 2: 23\nPlease specify the id of the creator number 3: 34\nPlease specify how many data_files is this assay related to: 0\nPlease specify how many documents is this assay related to: 0\nPlease specify the id of the investigation: 0\n"
       },
       {
        "ename": "KeyError",
        "evalue": "'investigations'",
        "output_type": "error",
        "traceback": [
         "\u001b[0;31m---------------------------------------------------------------------------\u001b[0m",
         "\u001b[0;31mKeyError\u001b[0m                                  Traceback (most recent call last)",
         "\u001b[0;32m<ipython-input-1-cd480b0c800a>\u001b[0m in \u001b[0;36m<module>\u001b[0;34m()\u001b[0m\n\u001b[1;32m      3\u001b[0m \u001b[0mWO\u001b[0m \u001b[0;34m=\u001b[0m \u001b[0mWriteObject\u001b[0m\u001b[0;34m(\u001b[0m\u001b[0;34m)\u001b[0m\u001b[0;34m\u001b[0m\u001b[0m\n\u001b[1;32m      4\u001b[0m \u001b[0;34m\u001b[0m\u001b[0m\n\u001b[0;32m----> 5\u001b[0;31m \u001b[0mWO\u001b[0m\u001b[0;34m.\u001b[0m\u001b[0mSEEKForm\u001b[0m\u001b[0;34m(\u001b[0m\u001b[0;34m)\u001b[0m\u001b[0;34m\u001b[0m\u001b[0m\n\u001b[0m",
         "\u001b[0;32m~/Work/ThirdYear/Seek/TheSeekNotebook/WriteObject.py\u001b[0m in \u001b[0;36mSEEKForm\u001b[0;34m(self)\u001b[0m\n\u001b[1;32m     31\u001b[0m \u001b[0;34m\u001b[0m\u001b[0m\n\u001b[1;32m     32\u001b[0m         \u001b[0;32mif\u001b[0m \u001b[0mself\u001b[0m\u001b[0;34m.\u001b[0m\u001b[0mtype\u001b[0m \u001b[0;34m==\u001b[0m \u001b[0;34m'assays'\u001b[0m\u001b[0;34m:\u001b[0m\u001b[0;34m\u001b[0m\u001b[0m\n\u001b[0;32m---> 33\u001b[0;31m             \u001b[0mself\u001b[0m\u001b[0;34m.\u001b[0m\u001b[0mJSON\u001b[0m \u001b[0;34m=\u001b[0m \u001b[0mHelper\u001b[0m\u001b[0;34m.\u001b[0m\u001b[0massayFormat\u001b[0m\u001b[0;34m(\u001b[0m\u001b[0;34m)\u001b[0m\u001b[0;34m\u001b[0m\u001b[0m\n\u001b[0m\u001b[1;32m     34\u001b[0m         \u001b[0;32melif\u001b[0m \u001b[0mself\u001b[0m\u001b[0;34m.\u001b[0m\u001b[0mtype\u001b[0m \u001b[0;34m==\u001b[0m \u001b[0;34m'investigations'\u001b[0m\u001b[0;34m:\u001b[0m\u001b[0;34m\u001b[0m\u001b[0m\n\u001b[1;32m     35\u001b[0m             \u001b[0mself\u001b[0m\u001b[0;34m.\u001b[0m\u001b[0mJSON\u001b[0m \u001b[0;34m=\u001b[0m \u001b[0mHelper\u001b[0m\u001b[0;34m.\u001b[0m\u001b[0minvestigationFormat\u001b[0m\u001b[0;34m(\u001b[0m\u001b[0;34m)\u001b[0m\u001b[0;34m\u001b[0m\u001b[0m\n",
         "\u001b[0;32m~/Work/ThirdYear/Seek/TheSeekNotebook/Helper.py\u001b[0m in \u001b[0;36massayFormat\u001b[0;34m()\u001b[0m\n\u001b[1;32m     53\u001b[0m     \u001b[0mrelationsFormat\u001b[0m\u001b[0;34m(\u001b[0m\u001b[0mJSON\u001b[0m\u001b[0;34m,\u001b[0m \u001b[0;34m'data_files'\u001b[0m\u001b[0;34m,\u001b[0m \u001b[0;34m'assay'\u001b[0m\u001b[0;34m)\u001b[0m\u001b[0;34m\u001b[0m\u001b[0m\n\u001b[1;32m     54\u001b[0m     \u001b[0mrelationsFormat\u001b[0m\u001b[0;34m(\u001b[0m\u001b[0mJSON\u001b[0m\u001b[0;34m,\u001b[0m \u001b[0;34m'documents'\u001b[0m\u001b[0;34m,\u001b[0m \u001b[0;34m'assay'\u001b[0m\u001b[0;34m)\u001b[0m\u001b[0;34m\u001b[0m\u001b[0m\n\u001b[0;32m---> 55\u001b[0;31m     \u001b[0mrelationFormat\u001b[0m\u001b[0;34m(\u001b[0m\u001b[0mJSON\u001b[0m\u001b[0;34m,\u001b[0m \u001b[0;34m'investigations'\u001b[0m\u001b[0;34m)\u001b[0m\u001b[0;34m\u001b[0m\u001b[0m\n\u001b[0m\u001b[1;32m     56\u001b[0m     \u001b[0mrelationsFormat\u001b[0m\u001b[0;34m(\u001b[0m\u001b[0mJSON\u001b[0m\u001b[0;34m,\u001b[0m \u001b[0;34m'models'\u001b[0m\u001b[0;34m,\u001b[0m \u001b[0;34m'assay'\u001b[0m\u001b[0;34m)\u001b[0m\u001b[0;34m\u001b[0m\u001b[0m\n\u001b[1;32m     57\u001b[0m     \u001b[0mrelationsFormat\u001b[0m\u001b[0;34m(\u001b[0m\u001b[0mJSON\u001b[0m\u001b[0;34m,\u001b[0m \u001b[0;34m'people'\u001b[0m\u001b[0;34m,\u001b[0m \u001b[0;34m'assay'\u001b[0m\u001b[0;34m)\u001b[0m\u001b[0;34m\u001b[0m\u001b[0m\n",
         "\u001b[0;32m~/Work/ThirdYear/Seek/TheSeekNotebook/Helper.py\u001b[0m in \u001b[0;36mrelationFormat\u001b[0;34m(JSON, type)\u001b[0m\n\u001b[1;32m     16\u001b[0m     \u001b[0mid\u001b[0m \u001b[0;34m=\u001b[0m \u001b[0minput\u001b[0m\u001b[0;34m(\u001b[0m\u001b[0;34m'Please specify the id of the '\u001b[0m \u001b[0;34m+\u001b[0m \u001b[0mtype\u001b[0m\u001b[0;34m[\u001b[0m\u001b[0;34m:\u001b[0m\u001b[0;34m-\u001b[0m\u001b[0;36m1\u001b[0m\u001b[0;34m]\u001b[0m \u001b[0;34m+\u001b[0m \u001b[0;34m\": \"\u001b[0m\u001b[0;34m)\u001b[0m\u001b[0;34m\u001b[0m\u001b[0m\n\u001b[1;32m     17\u001b[0m     \u001b[0;32mif\u001b[0m \u001b[0mid\u001b[0m \u001b[0;34m!=\u001b[0m \u001b[0;34m''\u001b[0m\u001b[0;34m:\u001b[0m\u001b[0;34m\u001b[0m\u001b[0m\n\u001b[0;32m---> 18\u001b[0;31m         \u001b[0mJSON\u001b[0m\u001b[0;34m[\u001b[0m\u001b[0;34m'data'\u001b[0m\u001b[0;34m]\u001b[0m\u001b[0;34m[\u001b[0m\u001b[0;34m'relationships'\u001b[0m\u001b[0;34m]\u001b[0m\u001b[0;34m[\u001b[0m\u001b[0mtype\u001b[0m\u001b[0;34m]\u001b[0m\u001b[0;34m[\u001b[0m\u001b[0;34m'data'\u001b[0m\u001b[0;34m]\u001b[0m \u001b[0;34m=\u001b[0m \u001b[0;34m{\u001b[0m\u001b[0;34m'id'\u001b[0m \u001b[0;34m:\u001b[0m \u001b[0mint\u001b[0m\u001b[0;34m(\u001b[0m\u001b[0mid\u001b[0m\u001b[0;34m)\u001b[0m\u001b[0;34m,\u001b[0m \u001b[0;34m'type'\u001b[0m \u001b[0;34m:\u001b[0m \u001b[0mtype\u001b[0m\u001b[0;34m}\u001b[0m\u001b[0;34m\u001b[0m\u001b[0m\n\u001b[0m\u001b[1;32m     19\u001b[0m \u001b[0;34m\u001b[0m\u001b[0m\n\u001b[1;32m     20\u001b[0m \u001b[0;32mdef\u001b[0m \u001b[0massayFormat\u001b[0m\u001b[0;34m(\u001b[0m\u001b[0;34m)\u001b[0m\u001b[0;34m:\u001b[0m\u001b[0;34m\u001b[0m\u001b[0m\n",
         "\u001b[0;31mKeyError\u001b[0m: 'investigations'"
        ]
       }
      ],
      "source": "from WriteObject import WriteObject\n\nWO = WriteObject()\n\nWO.SEEKForm()",
      "start_time": "2019-03-15T16:24:14.571Z"
     },
     {
      "end_time": "2019-03-15T16:24:58.303Z",
      "execution_time": "26.4s",
      "outputs": [
       {
        "data": {
         "text/html": "<h3>SEEK FORM</h3>",
         "text/plain": "<IPython.core.display.HTML object>"
        },
        "metadata": {},
        "output_type": "display_data",
        "transient": {}
       },
       {
        "name": "stdout",
        "output_type": "stream",
        "text": "\nThe type of object you want to upload to SEEK: assays\n\nYou need to complete the following form in order to succesfully upload your information to SEEK\nPlease specify the description: a\nPlease specify other creators: a\nPlease specify the title: a\nPlease specify the assay class description: a\nPlease specify the assay class key: a\nPlease specify the assay class title: a\nPlease specify the assay type label: a\nPlease specify the assay type uri: a\nPlease specify the technology type label: a\nPlease specify the technology type uri: a\nPlease specify how many creators is this assay related to: 3\nPlease specify the id of the creator number 1: 12\nPlease specify the id of the creator number 2: 23\nPlease specify the id of the creator number 3: 34\nPlease specify how many data_files is this assay related to: 0\nPlease specify how many documents is this assay related to: 0\nPlease specify the id of the investigation: \nPlease specify how many models is this assay related to: 0\nPlease specify how many people is this assay related to: 0\nPlease specify how many projects is this assay related to: 0\nPlease specify how many publications is this assay related to: 0\nPlease specify how many sops is this assay related to: 0\nPlease specify the id of the studie: \nPlease specify how many submitters is this assay related to: 0\n{'data': {'type': 'assays', 'attributes': {'description': 'a', 'other_creators': 'a', 'title': 'a', 'assay_class': {'description': 'a', 'key': 'a', 'title': 'a'}, 'assay_type': {'label': 'a', 'uri': 'a'}, 'technology_type': {'label': 'a', 'uri': 'a'}}, 'relationships': {'creators': {'data': [{'id': 34, 'type': 'creators'}]}, 'data_files': {'data': [{}]}, 'documents': {'data': [{}]}, 'models': {'data': [{}]}, 'people': {'data': [{}]}, 'projects': {'data': [{}]}, 'publications': {'data': [{}]}, 'sops': {'data': [{}]}, 'submitters': {'data': [{}]}}}}\n"
       }
      ],
      "source": "from WriteObject import WriteObject\n\nWO = WriteObject()\n\nWO.SEEKForm()",
      "start_time": "2019-03-15T16:24:31.863Z"
     },
     {
      "end_time": "2019-03-15T16:26:33.994Z",
      "execution_time": "1m 16.5s",
      "outputs": [
       {
        "data": {
         "text/html": "<h3>SEEK FORM</h3>",
         "text/plain": "<IPython.core.display.HTML object>"
        },
        "metadata": {},
        "output_type": "display_data",
        "transient": {}
       },
       {
        "name": "stdout",
        "output_type": "stream",
        "text": "\nThe type of object you want to upload to SEEK: assays\n\nYou need to complete the following form in order to succesfully upload your information to SEEK\nPlease specify the description: This is a template assay used to test the POST request from the jupyter notebook.\nPlease specify other creators: \nPlease specify the title: TESTING\nPlease specify the assay class description: Modelling\nPlease specify the assay class key: MOD\nPlease specify the assay class title: Experiment\nPlease specify the assay type label: a\nPlease specify the assay type uri: a\nPlease specify the technology type label: a\nPlease specify the technology type uri: a\nPlease specify how many creators is this assay related to: 0\nPlease specify how many data_files is this assay related to: 0\nPlease specify how many documents is this assay related to: 0\nPlease specify the id of the investigation: 0\n"
       },
       {
        "ename": "KeyError",
        "evalue": "'investigations'",
        "output_type": "error",
        "traceback": [
         "\u001b[0;31m---------------------------------------------------------------------------\u001b[0m",
         "\u001b[0;31mKeyError\u001b[0m                                  Traceback (most recent call last)",
         "\u001b[0;32m<ipython-input-3-cd480b0c800a>\u001b[0m in \u001b[0;36m<module>\u001b[0;34m()\u001b[0m\n\u001b[1;32m      3\u001b[0m \u001b[0mWO\u001b[0m \u001b[0;34m=\u001b[0m \u001b[0mWriteObject\u001b[0m\u001b[0;34m(\u001b[0m\u001b[0;34m)\u001b[0m\u001b[0;34m\u001b[0m\u001b[0m\n\u001b[1;32m      4\u001b[0m \u001b[0;34m\u001b[0m\u001b[0m\n\u001b[0;32m----> 5\u001b[0;31m \u001b[0mWO\u001b[0m\u001b[0;34m.\u001b[0m\u001b[0mSEEKForm\u001b[0m\u001b[0;34m(\u001b[0m\u001b[0;34m)\u001b[0m\u001b[0;34m\u001b[0m\u001b[0m\n\u001b[0m",
         "\u001b[0;32m~/Work/ThirdYear/Seek/TheSeekNotebook/WriteObject.py\u001b[0m in \u001b[0;36mSEEKForm\u001b[0;34m(self)\u001b[0m\n\u001b[1;32m     31\u001b[0m \u001b[0;34m\u001b[0m\u001b[0m\n\u001b[1;32m     32\u001b[0m         \u001b[0;32mif\u001b[0m \u001b[0mself\u001b[0m\u001b[0;34m.\u001b[0m\u001b[0mtype\u001b[0m \u001b[0;34m==\u001b[0m \u001b[0;34m'assays'\u001b[0m\u001b[0;34m:\u001b[0m\u001b[0;34m\u001b[0m\u001b[0m\n\u001b[0;32m---> 33\u001b[0;31m             \u001b[0mself\u001b[0m\u001b[0;34m.\u001b[0m\u001b[0mJSON\u001b[0m \u001b[0;34m=\u001b[0m \u001b[0mHelper\u001b[0m\u001b[0;34m.\u001b[0m\u001b[0massayFormat\u001b[0m\u001b[0;34m(\u001b[0m\u001b[0;34m)\u001b[0m\u001b[0;34m\u001b[0m\u001b[0m\n\u001b[0m\u001b[1;32m     34\u001b[0m         \u001b[0;32melif\u001b[0m \u001b[0mself\u001b[0m\u001b[0;34m.\u001b[0m\u001b[0mtype\u001b[0m \u001b[0;34m==\u001b[0m \u001b[0;34m'investigations'\u001b[0m\u001b[0;34m:\u001b[0m\u001b[0;34m\u001b[0m\u001b[0m\n\u001b[1;32m     35\u001b[0m             \u001b[0mself\u001b[0m\u001b[0;34m.\u001b[0m\u001b[0mJSON\u001b[0m \u001b[0;34m=\u001b[0m \u001b[0mHelper\u001b[0m\u001b[0;34m.\u001b[0m\u001b[0minvestigationFormat\u001b[0m\u001b[0;34m(\u001b[0m\u001b[0;34m)\u001b[0m\u001b[0;34m\u001b[0m\u001b[0m\n",
         "\u001b[0;32m~/Work/ThirdYear/Seek/TheSeekNotebook/Helper.py\u001b[0m in \u001b[0;36massayFormat\u001b[0;34m()\u001b[0m\n\u001b[1;32m     53\u001b[0m     \u001b[0mrelationsFormat\u001b[0m\u001b[0;34m(\u001b[0m\u001b[0mJSON\u001b[0m\u001b[0;34m,\u001b[0m \u001b[0;34m'data_files'\u001b[0m\u001b[0;34m,\u001b[0m \u001b[0;34m'assay'\u001b[0m\u001b[0;34m)\u001b[0m\u001b[0;34m\u001b[0m\u001b[0m\n\u001b[1;32m     54\u001b[0m     \u001b[0mrelationsFormat\u001b[0m\u001b[0;34m(\u001b[0m\u001b[0mJSON\u001b[0m\u001b[0;34m,\u001b[0m \u001b[0;34m'documents'\u001b[0m\u001b[0;34m,\u001b[0m \u001b[0;34m'assay'\u001b[0m\u001b[0;34m)\u001b[0m\u001b[0;34m\u001b[0m\u001b[0m\n\u001b[0;32m---> 55\u001b[0;31m     \u001b[0mrelationFormat\u001b[0m\u001b[0;34m(\u001b[0m\u001b[0mJSON\u001b[0m\u001b[0;34m,\u001b[0m \u001b[0;34m'investigations'\u001b[0m\u001b[0;34m)\u001b[0m\u001b[0;34m\u001b[0m\u001b[0m\n\u001b[0m\u001b[1;32m     56\u001b[0m     \u001b[0mrelationsFormat\u001b[0m\u001b[0;34m(\u001b[0m\u001b[0mJSON\u001b[0m\u001b[0;34m,\u001b[0m \u001b[0;34m'models'\u001b[0m\u001b[0;34m,\u001b[0m \u001b[0;34m'assay'\u001b[0m\u001b[0;34m)\u001b[0m\u001b[0;34m\u001b[0m\u001b[0m\n\u001b[1;32m     57\u001b[0m     \u001b[0mrelationsFormat\u001b[0m\u001b[0;34m(\u001b[0m\u001b[0mJSON\u001b[0m\u001b[0;34m,\u001b[0m \u001b[0;34m'people'\u001b[0m\u001b[0;34m,\u001b[0m \u001b[0;34m'assay'\u001b[0m\u001b[0;34m)\u001b[0m\u001b[0;34m\u001b[0m\u001b[0m\n",
         "\u001b[0;32m~/Work/ThirdYear/Seek/TheSeekNotebook/Helper.py\u001b[0m in \u001b[0;36mrelationFormat\u001b[0;34m(JSON, type)\u001b[0m\n\u001b[1;32m     16\u001b[0m     \u001b[0mid\u001b[0m \u001b[0;34m=\u001b[0m \u001b[0minput\u001b[0m\u001b[0;34m(\u001b[0m\u001b[0;34m'Please specify the id of the '\u001b[0m \u001b[0;34m+\u001b[0m \u001b[0mtype\u001b[0m\u001b[0;34m[\u001b[0m\u001b[0;34m:\u001b[0m\u001b[0;34m-\u001b[0m\u001b[0;36m1\u001b[0m\u001b[0;34m]\u001b[0m \u001b[0;34m+\u001b[0m \u001b[0;34m\": \"\u001b[0m\u001b[0;34m)\u001b[0m\u001b[0;34m\u001b[0m\u001b[0m\n\u001b[1;32m     17\u001b[0m     \u001b[0;32mif\u001b[0m \u001b[0mid\u001b[0m \u001b[0;34m!=\u001b[0m \u001b[0;34m''\u001b[0m\u001b[0;34m:\u001b[0m\u001b[0;34m\u001b[0m\u001b[0m\n\u001b[0;32m---> 18\u001b[0;31m         \u001b[0mJSON\u001b[0m\u001b[0;34m[\u001b[0m\u001b[0;34m'data'\u001b[0m\u001b[0;34m]\u001b[0m\u001b[0;34m[\u001b[0m\u001b[0;34m'relationships'\u001b[0m\u001b[0;34m]\u001b[0m\u001b[0;34m[\u001b[0m\u001b[0mtype\u001b[0m\u001b[0;34m]\u001b[0m\u001b[0;34m[\u001b[0m\u001b[0;34m'data'\u001b[0m\u001b[0;34m]\u001b[0m \u001b[0;34m=\u001b[0m \u001b[0;34m{\u001b[0m\u001b[0;34m'id'\u001b[0m \u001b[0;34m:\u001b[0m \u001b[0mint\u001b[0m\u001b[0;34m(\u001b[0m\u001b[0mid\u001b[0m\u001b[0;34m)\u001b[0m\u001b[0;34m,\u001b[0m \u001b[0;34m'type'\u001b[0m \u001b[0;34m:\u001b[0m \u001b[0mtype\u001b[0m\u001b[0;34m}\u001b[0m\u001b[0;34m\u001b[0m\u001b[0m\n\u001b[0m\u001b[1;32m     19\u001b[0m \u001b[0;34m\u001b[0m\u001b[0m\n\u001b[1;32m     20\u001b[0m \u001b[0;32mdef\u001b[0m \u001b[0massayFormat\u001b[0m\u001b[0;34m(\u001b[0m\u001b[0;34m)\u001b[0m\u001b[0;34m:\u001b[0m\u001b[0;34m\u001b[0m\u001b[0m\n",
         "\u001b[0;31mKeyError\u001b[0m: 'investigations'"
        ]
       }
      ],
      "source": "from WriteObject import WriteObject\n\nWO = WriteObject()\n\nWO.SEEKForm()",
      "start_time": "2019-03-15T16:25:17.519Z"
     },
     {
      "end_time": "2019-03-15T16:27:16.424Z",
      "execution_time": "40.4s",
      "outputs": [
       {
        "data": {
         "text/html": "<h3>SEEK FORM</h3>",
         "text/plain": "<IPython.core.display.HTML object>"
        },
        "metadata": {},
        "output_type": "display_data",
        "transient": {}
       },
       {
        "name": "stdout",
        "output_type": "stream",
        "text": "\nThe type of object you want to upload to SEEK: assays\n\nYou need to complete the following form in order to succesfully upload your information to SEEK\nPlease specify the description: a\nPlease specify other creators: test\nPlease specify the title: test\nPlease specify the assay class description: test\nPlease specify the assay class key: test\nPlease specify the assay class title: test\nPlease specify the assay type label: test\nPlease specify the assay type uri: test\nPlease specify the technology type label: test\nPlease specify the technology type uri: test\nPlease specify how many creators is this assay related to: 0\nPlease specify how many data_files is this assay related to: 0\nPlease specify how many documents is this assay related to: 0\nPlease specify the id of the investigation: \nPlease specify how many models is this assay related to: 0\nPlease specify how many people is this assay related to: 0\nPlease specify how many projects is this assay related to: 50\nPlease specify the id of the project number 1: \n"
       },
       {
        "ename": "ValueError",
        "evalue": "invalid literal for int() with base 10: ''",
        "output_type": "error",
        "traceback": [
         "\u001b[0;31m---------------------------------------------------------------------------\u001b[0m",
         "\u001b[0;31mValueError\u001b[0m                                Traceback (most recent call last)",
         "\u001b[0;32m<ipython-input-4-cd480b0c800a>\u001b[0m in \u001b[0;36m<module>\u001b[0;34m()\u001b[0m\n\u001b[1;32m      3\u001b[0m \u001b[0mWO\u001b[0m \u001b[0;34m=\u001b[0m \u001b[0mWriteObject\u001b[0m\u001b[0;34m(\u001b[0m\u001b[0;34m)\u001b[0m\u001b[0;34m\u001b[0m\u001b[0m\n\u001b[1;32m      4\u001b[0m \u001b[0;34m\u001b[0m\u001b[0m\n\u001b[0;32m----> 5\u001b[0;31m \u001b[0mWO\u001b[0m\u001b[0;34m.\u001b[0m\u001b[0mSEEKForm\u001b[0m\u001b[0;34m(\u001b[0m\u001b[0;34m)\u001b[0m\u001b[0;34m\u001b[0m\u001b[0m\n\u001b[0m",
         "\u001b[0;32m~/Work/ThirdYear/Seek/TheSeekNotebook/WriteObject.py\u001b[0m in \u001b[0;36mSEEKForm\u001b[0;34m(self)\u001b[0m\n\u001b[1;32m     31\u001b[0m \u001b[0;34m\u001b[0m\u001b[0m\n\u001b[1;32m     32\u001b[0m         \u001b[0;32mif\u001b[0m \u001b[0mself\u001b[0m\u001b[0;34m.\u001b[0m\u001b[0mtype\u001b[0m \u001b[0;34m==\u001b[0m \u001b[0;34m'assays'\u001b[0m\u001b[0;34m:\u001b[0m\u001b[0;34m\u001b[0m\u001b[0m\n\u001b[0;32m---> 33\u001b[0;31m             \u001b[0mself\u001b[0m\u001b[0;34m.\u001b[0m\u001b[0mJSON\u001b[0m \u001b[0;34m=\u001b[0m \u001b[0mHelper\u001b[0m\u001b[0;34m.\u001b[0m\u001b[0massayFormat\u001b[0m\u001b[0;34m(\u001b[0m\u001b[0;34m)\u001b[0m\u001b[0;34m\u001b[0m\u001b[0m\n\u001b[0m\u001b[1;32m     34\u001b[0m         \u001b[0;32melif\u001b[0m \u001b[0mself\u001b[0m\u001b[0;34m.\u001b[0m\u001b[0mtype\u001b[0m \u001b[0;34m==\u001b[0m \u001b[0;34m'investigations'\u001b[0m\u001b[0;34m:\u001b[0m\u001b[0;34m\u001b[0m\u001b[0m\n\u001b[1;32m     35\u001b[0m             \u001b[0mself\u001b[0m\u001b[0;34m.\u001b[0m\u001b[0mJSON\u001b[0m \u001b[0;34m=\u001b[0m \u001b[0mHelper\u001b[0m\u001b[0;34m.\u001b[0m\u001b[0minvestigationFormat\u001b[0m\u001b[0;34m(\u001b[0m\u001b[0;34m)\u001b[0m\u001b[0;34m\u001b[0m\u001b[0m\n",
         "\u001b[0;32m~/Work/ThirdYear/Seek/TheSeekNotebook/Helper.py\u001b[0m in \u001b[0;36massayFormat\u001b[0;34m()\u001b[0m\n\u001b[1;32m     56\u001b[0m     \u001b[0mrelationsFormat\u001b[0m\u001b[0;34m(\u001b[0m\u001b[0mJSON\u001b[0m\u001b[0;34m,\u001b[0m \u001b[0;34m'models'\u001b[0m\u001b[0;34m,\u001b[0m \u001b[0;34m'assay'\u001b[0m\u001b[0;34m)\u001b[0m\u001b[0;34m\u001b[0m\u001b[0m\n\u001b[1;32m     57\u001b[0m     \u001b[0mrelationsFormat\u001b[0m\u001b[0;34m(\u001b[0m\u001b[0mJSON\u001b[0m\u001b[0;34m,\u001b[0m \u001b[0;34m'people'\u001b[0m\u001b[0;34m,\u001b[0m \u001b[0;34m'assay'\u001b[0m\u001b[0;34m)\u001b[0m\u001b[0;34m\u001b[0m\u001b[0m\n\u001b[0;32m---> 58\u001b[0;31m     \u001b[0mrelationsFormat\u001b[0m\u001b[0;34m(\u001b[0m\u001b[0mJSON\u001b[0m\u001b[0;34m,\u001b[0m \u001b[0;34m'projects'\u001b[0m\u001b[0;34m,\u001b[0m \u001b[0;34m'assay'\u001b[0m\u001b[0;34m)\u001b[0m\u001b[0;34m\u001b[0m\u001b[0m\n\u001b[0m\u001b[1;32m     59\u001b[0m     \u001b[0mrelationsFormat\u001b[0m\u001b[0;34m(\u001b[0m\u001b[0mJSON\u001b[0m\u001b[0;34m,\u001b[0m \u001b[0;34m'publications'\u001b[0m\u001b[0;34m,\u001b[0m \u001b[0;34m'assay'\u001b[0m\u001b[0;34m)\u001b[0m\u001b[0;34m\u001b[0m\u001b[0m\n\u001b[1;32m     60\u001b[0m     \u001b[0mrelationsFormat\u001b[0m\u001b[0;34m(\u001b[0m\u001b[0mJSON\u001b[0m\u001b[0;34m,\u001b[0m \u001b[0;34m'sops'\u001b[0m\u001b[0;34m,\u001b[0m \u001b[0;34m'assay'\u001b[0m\u001b[0;34m)\u001b[0m\u001b[0;34m\u001b[0m\u001b[0m\n",
         "\u001b[0;32m~/Work/ThirdYear/Seek/TheSeekNotebook/Helper.py\u001b[0m in \u001b[0;36mrelationsFormat\u001b[0;34m(JSON, type, source)\u001b[0m\n\u001b[1;32m      6\u001b[0m     \u001b[0;32mfor\u001b[0m \u001b[0mindex\u001b[0m \u001b[0;32min\u001b[0m \u001b[0mrange\u001b[0m\u001b[0;34m(\u001b[0m\u001b[0;36m1\u001b[0m\u001b[0;34m,\u001b[0m \u001b[0mnumberOfRelations\u001b[0m \u001b[0;34m+\u001b[0m \u001b[0;36m1\u001b[0m\u001b[0;34m)\u001b[0m\u001b[0;34m:\u001b[0m\u001b[0;34m\u001b[0m\u001b[0m\n\u001b[1;32m      7\u001b[0m \u001b[0;34m\u001b[0m\u001b[0m\n\u001b[0;32m----> 8\u001b[0;31m         \u001b[0mid\u001b[0m \u001b[0;34m=\u001b[0m \u001b[0mint\u001b[0m\u001b[0;34m(\u001b[0m\u001b[0minput\u001b[0m\u001b[0;34m(\u001b[0m\u001b[0;34m'Please specify the id of the '\u001b[0m \u001b[0;34m+\u001b[0m \u001b[0mtype\u001b[0m\u001b[0;34m[\u001b[0m\u001b[0;34m:\u001b[0m\u001b[0;34m-\u001b[0m\u001b[0;36m1\u001b[0m\u001b[0;34m]\u001b[0m \u001b[0;34m+\u001b[0m \u001b[0;34m' number '\u001b[0m \u001b[0;34m+\u001b[0m \u001b[0mstr\u001b[0m\u001b[0;34m(\u001b[0m\u001b[0mindex\u001b[0m\u001b[0;34m)\u001b[0m \u001b[0;34m+\u001b[0m \u001b[0;34m': '\u001b[0m\u001b[0;34m)\u001b[0m\u001b[0;34m)\u001b[0m\u001b[0;34m\u001b[0m\u001b[0m\n\u001b[0m\u001b[1;32m      9\u001b[0m         \u001b[0mJSON\u001b[0m\u001b[0;34m[\u001b[0m\u001b[0;34m'data'\u001b[0m\u001b[0;34m]\u001b[0m\u001b[0;34m[\u001b[0m\u001b[0;34m'relationships'\u001b[0m\u001b[0;34m]\u001b[0m\u001b[0;34m[\u001b[0m\u001b[0mtype\u001b[0m\u001b[0;34m]\u001b[0m\u001b[0;34m[\u001b[0m\u001b[0;34m'data'\u001b[0m\u001b[0;34m]\u001b[0m\u001b[0;34m.\u001b[0m\u001b[0mpop\u001b[0m\u001b[0;34m(\u001b[0m\u001b[0;36m0\u001b[0m\u001b[0;34m)\u001b[0m\u001b[0;34m\u001b[0m\u001b[0m\n\u001b[1;32m     10\u001b[0m         \u001b[0mJSON\u001b[0m\u001b[0;34m[\u001b[0m\u001b[0;34m'data'\u001b[0m\u001b[0;34m]\u001b[0m\u001b[0;34m[\u001b[0m\u001b[0;34m'relationships'\u001b[0m\u001b[0;34m]\u001b[0m\u001b[0;34m[\u001b[0m\u001b[0mtype\u001b[0m\u001b[0;34m]\u001b[0m\u001b[0;34m[\u001b[0m\u001b[0;34m'data'\u001b[0m\u001b[0;34m]\u001b[0m\u001b[0;34m.\u001b[0m\u001b[0mappend\u001b[0m\u001b[0;34m(\u001b[0m\u001b[0;34m{\u001b[0m\u001b[0;34m'id'\u001b[0m \u001b[0;34m:\u001b[0m \u001b[0mid\u001b[0m\u001b[0;34m,\u001b[0m \u001b[0;34m'type'\u001b[0m \u001b[0;34m:\u001b[0m \u001b[0mtype\u001b[0m\u001b[0;34m}\u001b[0m\u001b[0;34m)\u001b[0m\u001b[0;34m\u001b[0m\u001b[0m\n",
         "\u001b[0;31mValueError\u001b[0m: invalid literal for int() with base 10: ''"
        ]
       }
      ],
      "source": "from WriteObject import WriteObject\n\nWO = WriteObject()\n\nWO.SEEKForm()",
      "start_time": "2019-03-15T16:26:36.027Z"
     },
     {
      "end_time": "2019-03-15T16:28:26.224Z",
      "execution_time": "1m 8.83s",
      "outputs": [
       {
        "data": {
         "text/html": "<h3>SEEK FORM</h3>",
         "text/plain": "<IPython.core.display.HTML object>"
        },
        "metadata": {},
        "output_type": "display_data",
        "transient": {}
       },
       {
        "name": "stdout",
        "output_type": "stream",
        "text": "\nThe type of object you want to upload to SEEK: assays\n\nYou need to complete the following form in order to succesfully upload your information to SEEK\nPlease specify the description: Description\nPlease specify other creators: \nPlease specify the title: Title\nPlease specify the assay class description: test\nPlease specify the assay class key: test\nPlease specify the assay class title: test\nPlease specify the assay type label: test\nPlease specify the assay type uri: test\nPlease specify the technology type label: test\nPlease specify the technology type uri: test\nPlease specify how many creators is this assay related to: 1\nPlease specify the id of the creator number 1: 373\nPlease specify how many data_files is this assay related to: 0\nPlease specify how many documents is this assay related to: 0\nPlease specify the id of the investigation: \nPlease specify how many models is this assay related to: 0\nPlease specify how many people is this assay related to: 1\nPlease specify the id of the peopl number 1: 373\nPlease specify how many projects is this assay related to: 1\nPlease specify the id of the project number 1: 50\nPlease specify how many publications is this assay related to: 0\nPlease specify how many sops is this assay related to: 0\nPlease specify the id of the studie: \nPlease specify how many submitters is this assay related to: 0\n{'data': {'type': 'assays', 'attributes': {'description': 'Description', 'other_creators': '', 'title': 'Title', 'assay_class': {'description': 'test', 'key': 'test', 'title': 'test'}, 'assay_type': {'label': 'test', 'uri': 'test'}, 'technology_type': {'label': 'test', 'uri': 'test'}}, 'relationships': {'creators': {'data': [{'id': 373, 'type': 'creators'}]}, 'data_files': {'data': [{}]}, 'documents': {'data': [{}]}, 'models': {'data': [{}]}, 'people': {'data': [{'id': 373, 'type': 'people'}]}, 'projects': {'data': [{'id': 50, 'type': 'projects'}]}, 'publications': {'data': [{}]}, 'sops': {'data': [{}]}, 'submitters': {'data': [{}]}}}}\n"
       }
      ],
      "source": "from WriteObject import WriteObject\n\nWO = WriteObject()\n\nWO.SEEKForm()",
      "start_time": "2019-03-15T16:27:17.390Z"
     },
     {
      "end_time": "2019-03-15T16:32:04.789Z",
      "execution_time": "33.5s",
      "outputs": [
       {
        "data": {
         "text/html": "<h3>SEEK FORM</h3>",
         "text/plain": "<IPython.core.display.HTML object>"
        },
        "metadata": {},
        "output_type": "display_data",
        "transient": {}
       },
       {
        "name": "stdout",
        "output_type": "stream",
        "text": "\nThe type of object you want to upload to SEEK: assays\n\nYou need to complete the following form in order to succesfully upload your information to SEEK\nPlease specify the description: test\nPlease specify other creators: \nPlease specify the title: test\nPlease specify the assay class description: test\nPlease specify the assay class key: test\nPlease specify the assay class title: test\nPlease specify the assay type label: test\nPlease specify the assay type uri: test\nPlease specify the technology type label: test\nPlease specify the technology type uri: test\nPlease specify how many creators is this assay related to: 1\nPlease specify the id of the creator number 1: 373\nPlease specify how many data_files is this assay related to: 0\nPlease specify how many documents is this assay related to: 0\nPlease specify the id of the investigation: \nPlease specify how many models is this assay related to: 0\nPlease specify how many people is this assay related to: 0\nPlease specify how many projects is this assay related to: 1\nPlease specify the id of the project number 1: 50\nPlease specify how many publications is this assay related to: 0\nPlease specify how many sops is this assay related to: 0\nPlease specify the id of the studie: \nPlease specify how many submitters is this assay related to: 0\n{'data': {'type': 'assays', 'attributes': {'description': 'test', 'other_creators': '', 'title': 'test', 'assay_class': {'description': 'test', 'key': 'test', 'title': 'test'}, 'assay_type': {'label': 'test', 'uri': 'test'}, 'technology_type': {'label': 'test', 'uri': 'test'}}, 'relationships': {'creators': {'data': [{'id': 373, 'type': 'creators'}]}, 'data_files': {'data': [{}]}, 'documents': {'data': [{}]}, 'models': {'data': [{}]}, 'people': {'data': [{}]}, 'projects': {'data': [{'id': 50, 'type': 'projects'}]}, 'publications': {'data': [{}]}, 'sops': {'data': [{}]}, 'submitters': {'data': [{}]}}}}\n"
       }
      ],
      "source": "from WriteObject import WriteObject\n\nWO = WriteObject()\n\nWO.SEEKForm()",
      "start_time": "2019-03-15T16:31:31.335Z"
     },
     {
      "end_time": "2019-03-15T16:34:00.225Z",
      "execution_time": "30.9s",
      "outputs": [
       {
        "data": {
         "text/html": "<h3>SEEK FORM</h3>",
         "text/plain": "<IPython.core.display.HTML object>"
        },
        "metadata": {},
        "output_type": "display_data",
        "transient": {}
       },
       {
        "name": "stdout",
        "output_type": "stream",
        "text": "\nThe type of object you want to upload to SEEK: assays\n\nYou need to complete the following form in order to succesfully upload your information to SEEK\nPlease specify the description: test\nPlease specify other creators: \nPlease specify the title: test\nPlease specify the assay class description: test\nPlease specify the assay class key: test\nPlease specify the assay class title: test\nPlease specify the assay type label: test\nPlease specify the assay type uri: test\nPlease specify the technology type label: test\nPlease specify the technology type uri: test\nPlease specify how many creators is this assay related to: 1\nPlease specify the id of the creator number 1: 373\nPlease specify how many data_files is this assay related to: 0\nPlease specify how many documents is this assay related to: 0\nPlease specify the id of the investigation: \nPlease specify how many models is this assay related to: 0\nPlease specify how many people is this assay related to: 0\nPlease specify how many projects is this assay related to: 1\nPlease specify the id of the project number 1: 50\nPlease specify how many publications is this assay related to: 0\nPlease specify how many sops is this assay related to: 0\nPlease specify the id of the studie: 0\n"
       },
       {
        "ename": "KeyError",
        "evalue": "'studies'",
        "output_type": "error",
        "traceback": [
         "\u001b[0;31m---------------------------------------------------------------------------\u001b[0m",
         "\u001b[0;31mKeyError\u001b[0m                                  Traceback (most recent call last)",
         "\u001b[0;32m<ipython-input-1-cd480b0c800a>\u001b[0m in \u001b[0;36m<module>\u001b[0;34m()\u001b[0m\n\u001b[1;32m      3\u001b[0m \u001b[0mWO\u001b[0m \u001b[0;34m=\u001b[0m \u001b[0mWriteObject\u001b[0m\u001b[0;34m(\u001b[0m\u001b[0;34m)\u001b[0m\u001b[0;34m\u001b[0m\u001b[0m\n\u001b[1;32m      4\u001b[0m \u001b[0;34m\u001b[0m\u001b[0m\n\u001b[0;32m----> 5\u001b[0;31m \u001b[0mWO\u001b[0m\u001b[0;34m.\u001b[0m\u001b[0mSEEKForm\u001b[0m\u001b[0;34m(\u001b[0m\u001b[0;34m)\u001b[0m\u001b[0;34m\u001b[0m\u001b[0m\n\u001b[0m",
         "\u001b[0;32m~/Work/ThirdYear/Seek/TheSeekNotebook/WriteObject.py\u001b[0m in \u001b[0;36mSEEKForm\u001b[0;34m(self)\u001b[0m\n\u001b[1;32m     31\u001b[0m \u001b[0;34m\u001b[0m\u001b[0m\n\u001b[1;32m     32\u001b[0m         \u001b[0;32mif\u001b[0m \u001b[0mself\u001b[0m\u001b[0;34m.\u001b[0m\u001b[0mtype\u001b[0m \u001b[0;34m==\u001b[0m \u001b[0;34m'assays'\u001b[0m\u001b[0;34m:\u001b[0m\u001b[0;34m\u001b[0m\u001b[0m\n\u001b[0;32m---> 33\u001b[0;31m             \u001b[0mself\u001b[0m\u001b[0;34m.\u001b[0m\u001b[0mJSON\u001b[0m \u001b[0;34m=\u001b[0m \u001b[0mHelper\u001b[0m\u001b[0;34m.\u001b[0m\u001b[0massayFormat\u001b[0m\u001b[0;34m(\u001b[0m\u001b[0;34m)\u001b[0m\u001b[0;34m\u001b[0m\u001b[0m\n\u001b[0m\u001b[1;32m     34\u001b[0m         \u001b[0;32melif\u001b[0m \u001b[0mself\u001b[0m\u001b[0;34m.\u001b[0m\u001b[0mtype\u001b[0m \u001b[0;34m==\u001b[0m \u001b[0;34m'investigations'\u001b[0m\u001b[0;34m:\u001b[0m\u001b[0;34m\u001b[0m\u001b[0m\n\u001b[1;32m     35\u001b[0m             \u001b[0mself\u001b[0m\u001b[0;34m.\u001b[0m\u001b[0mJSON\u001b[0m \u001b[0;34m=\u001b[0m \u001b[0mHelper\u001b[0m\u001b[0;34m.\u001b[0m\u001b[0minvestigationFormat\u001b[0m\u001b[0;34m(\u001b[0m\u001b[0;34m)\u001b[0m\u001b[0;34m\u001b[0m\u001b[0m\n",
         "\u001b[0;32m~/Work/ThirdYear/Seek/TheSeekNotebook/Helper.py\u001b[0m in \u001b[0;36massayFormat\u001b[0;34m()\u001b[0m\n\u001b[1;32m     61\u001b[0m     \u001b[0mrelationsFormat\u001b[0m\u001b[0;34m(\u001b[0m\u001b[0mJSON\u001b[0m\u001b[0;34m,\u001b[0m \u001b[0;34m'publications'\u001b[0m\u001b[0;34m,\u001b[0m \u001b[0;34m'assay'\u001b[0m\u001b[0;34m)\u001b[0m\u001b[0;34m\u001b[0m\u001b[0m\n\u001b[1;32m     62\u001b[0m     \u001b[0mrelationsFormat\u001b[0m\u001b[0;34m(\u001b[0m\u001b[0mJSON\u001b[0m\u001b[0;34m,\u001b[0m \u001b[0;34m'sops'\u001b[0m\u001b[0;34m,\u001b[0m \u001b[0;34m'assay'\u001b[0m\u001b[0;34m)\u001b[0m\u001b[0;34m\u001b[0m\u001b[0m\n\u001b[0;32m---> 63\u001b[0;31m     \u001b[0mrelationFormat\u001b[0m\u001b[0;34m(\u001b[0m\u001b[0mJSON\u001b[0m\u001b[0;34m,\u001b[0m \u001b[0;34m'studies'\u001b[0m\u001b[0;34m)\u001b[0m\u001b[0;34m\u001b[0m\u001b[0m\n\u001b[0m\u001b[1;32m     64\u001b[0m     \u001b[0mrelationsFormat\u001b[0m\u001b[0;34m(\u001b[0m\u001b[0mJSON\u001b[0m\u001b[0;34m,\u001b[0m \u001b[0;34m'submitters'\u001b[0m\u001b[0;34m,\u001b[0m \u001b[0;34m'assay'\u001b[0m\u001b[0;34m)\u001b[0m\u001b[0;34m\u001b[0m\u001b[0m\n\u001b[1;32m     65\u001b[0m \u001b[0;34m\u001b[0m\u001b[0m\n",
         "\u001b[0;32m~/Work/ThirdYear/Seek/TheSeekNotebook/Helper.py\u001b[0m in \u001b[0;36mrelationFormat\u001b[0;34m(JSON, type)\u001b[0m\n\u001b[1;32m     18\u001b[0m     \u001b[0mid\u001b[0m \u001b[0;34m=\u001b[0m \u001b[0minput\u001b[0m\u001b[0;34m(\u001b[0m\u001b[0;34m'Please specify the id of the '\u001b[0m \u001b[0;34m+\u001b[0m \u001b[0mtype\u001b[0m\u001b[0;34m[\u001b[0m\u001b[0;34m:\u001b[0m\u001b[0;34m-\u001b[0m\u001b[0;36m1\u001b[0m\u001b[0;34m]\u001b[0m \u001b[0;34m+\u001b[0m \u001b[0;34m\": \"\u001b[0m\u001b[0;34m)\u001b[0m\u001b[0;34m\u001b[0m\u001b[0m\n\u001b[1;32m     19\u001b[0m     \u001b[0;32mif\u001b[0m \u001b[0mid\u001b[0m \u001b[0;34m!=\u001b[0m \u001b[0;34m''\u001b[0m\u001b[0;34m:\u001b[0m\u001b[0;34m\u001b[0m\u001b[0m\n\u001b[0;32m---> 20\u001b[0;31m         \u001b[0mJSON\u001b[0m\u001b[0;34m[\u001b[0m\u001b[0;34m'data'\u001b[0m\u001b[0;34m]\u001b[0m\u001b[0;34m[\u001b[0m\u001b[0;34m'relationships'\u001b[0m\u001b[0;34m]\u001b[0m\u001b[0;34m[\u001b[0m\u001b[0mtype\u001b[0m\u001b[0;34m]\u001b[0m\u001b[0;34m[\u001b[0m\u001b[0;34m'data'\u001b[0m\u001b[0;34m]\u001b[0m \u001b[0;34m=\u001b[0m \u001b[0;34m{\u001b[0m\u001b[0;34m'id'\u001b[0m \u001b[0;34m:\u001b[0m \u001b[0mint\u001b[0m\u001b[0;34m(\u001b[0m\u001b[0mid\u001b[0m\u001b[0;34m)\u001b[0m\u001b[0;34m,\u001b[0m \u001b[0;34m'type'\u001b[0m \u001b[0;34m:\u001b[0m \u001b[0mtype\u001b[0m\u001b[0;34m}\u001b[0m\u001b[0;34m\u001b[0m\u001b[0m\n\u001b[0m\u001b[1;32m     21\u001b[0m \u001b[0;34m\u001b[0m\u001b[0m\n\u001b[1;32m     22\u001b[0m \u001b[0;32mdef\u001b[0m \u001b[0massayFormat\u001b[0m\u001b[0;34m(\u001b[0m\u001b[0;34m)\u001b[0m\u001b[0;34m:\u001b[0m\u001b[0;34m\u001b[0m\u001b[0m\n",
         "\u001b[0;31mKeyError\u001b[0m: 'studies'"
        ]
       }
      ],
      "source": "from WriteObject import WriteObject\n\nWO = WriteObject()\n\nWO.SEEKForm()",
      "start_time": "2019-03-15T16:33:29.346Z"
     },
     {
      "end_time": "2019-03-15T16:34:45.624Z",
      "execution_time": "43.9s",
      "outputs": [
       {
        "data": {
         "text/html": "<h3>SEEK FORM</h3>",
         "text/plain": "<IPython.core.display.HTML object>"
        },
        "metadata": {},
        "output_type": "display_data",
        "transient": {}
       },
       {
        "name": "stdout",
        "output_type": "stream",
        "text": "\nThe type of object you want to upload to SEEK: assays\n\nYou need to complete the following form in order to succesfully upload your information to SEEK\nPlease specify the description: test\nPlease specify other creators: \nPlease specify the title: test\nPlease specify the assay class description: test\nPlease specify the assay class key: test\nPlease specify the assay class title: test\nPlease specify the assay type label: test\nPlease specify the assay type uri: test\nPlease specify the technology type label: test\nPlease specify the technology type uri: test\nPlease specify how many creators is this assay related to: 1\nPlease specify the id of the creator number 1: 373\nPlease specify how many data_files is this assay related to: 0\nPlease specify how many documents is this assay related to: 0\nPlease specify the id of the investigation: \nPlease specify how many models is this assay related to: 0\nPlease specify how many people is this assay related to: 0\nPlease specify how many projects is this assay related to: 1\nPlease specify the id of the project number 1: 50\nPlease specify how many publications is this assay related to: 0\nPlease specify how many sops is this assay related to: 0\nPlease specify the id of the studie: \nPlease specify how many submitters is this assay related to: 0\n{'data': {'type': 'assays', 'attributes': {'description': 'test', 'other_creators': '', 'title': 'test', 'assay_class': {'description': 'test', 'key': 'test', 'title': 'test'}, 'assay_type': {'label': 'test', 'uri': 'test'}, 'technology_type': {'label': 'test', 'uri': 'test'}}, 'relationships': {'creators': {'data': [{'id': 373, 'type': 'creators'}]}, 'projects': {'data': [{'id': 50, 'type': 'projects'}]}}}}\n"
       }
      ],
      "source": "from WriteObject import WriteObject\n\nWO = WriteObject()\n\nWO.SEEKForm()",
      "start_time": "2019-03-15T16:34:01.753Z"
     },
     {
      "end_time": "2019-03-16T11:56:43.099Z",
      "execution_time": "19h 22m 41s",
      "outputs": [],
      "source": "from WriteObject import WriteObject\n\nWO = WriteObject()\n\nWO.SEEKForm()",
      "start_time": "2019-03-15T16:34:01.753Z"
     },
     {
      "end_time": "2019-03-16T12:01:35.840Z",
      "execution_time": "4m 51s",
      "outputs": [
       {
        "data": {
         "text/html": "<h3>SEEK FORM</h3>",
         "text/plain": "<IPython.core.display.HTML object>"
        },
        "metadata": {},
        "output_type": "display_data",
        "transient": {}
       },
       {
        "name": "stdout",
        "output_type": "stream",
        "text": "\nThe type of object you want to upload to SEEK: assays\n\nYou need to complete the following form in order to succesfully upload your information to SEEK\nPlease specify the description: asda\nPlease specify other creators: asda\nPlease specify the title: dasda\nPlease specify the assay class description: asda\nPlease specify the assay class key: dasd\nPlease specify the assay class title: asd\nPlease specify the assay type label: asd\nPlease specify the assay type uri: asd\nPlease specify the technology type label: asd\nPlease specify the technology type uri: asd\nPlease specify how many creators is this assay related to: 1\nPlease specify the id of the creator number 1: 373\nPlease specify how many data_files is this assay related to: 0\nPlease specify how many documents is this assay related to: 0\nPlease specify the id of the investigation: \nPlease specify how many models is this assay related to: 0\nPlease specify how many people is this assay related to: 0\nPlease specify how many projects is this assay related to: 0\nPlease specify how many publications is this assay related to: 0\nPlease specify how many sops is this assay related to: 0\nPlease specify the id of the studie: 0\n"
       },
       {
        "ename": "KeyError",
        "evalue": "'studies'",
        "output_type": "error",
        "traceback": [
         "\u001b[0;31m---------------------------------------------------------------------------\u001b[0m",
         "\u001b[0;31mKeyError\u001b[0m                                  Traceback (most recent call last)",
         "\u001b[0;32m<ipython-input-2-cd480b0c800a>\u001b[0m in \u001b[0;36m<module>\u001b[0;34m()\u001b[0m\n\u001b[1;32m      3\u001b[0m \u001b[0mWO\u001b[0m \u001b[0;34m=\u001b[0m \u001b[0mWriteObject\u001b[0m\u001b[0;34m(\u001b[0m\u001b[0;34m)\u001b[0m\u001b[0;34m\u001b[0m\u001b[0m\n\u001b[1;32m      4\u001b[0m \u001b[0;34m\u001b[0m\u001b[0m\n\u001b[0;32m----> 5\u001b[0;31m \u001b[0mWO\u001b[0m\u001b[0;34m.\u001b[0m\u001b[0mSEEKForm\u001b[0m\u001b[0;34m(\u001b[0m\u001b[0;34m)\u001b[0m\u001b[0;34m\u001b[0m\u001b[0m\n\u001b[0m",
         "\u001b[0;32m~/Work/ThirdYear/Seek/TheSeekNotebook/WriteObject.py\u001b[0m in \u001b[0;36mSEEKForm\u001b[0;34m(self)\u001b[0m\n\u001b[1;32m     31\u001b[0m \u001b[0;34m\u001b[0m\u001b[0m\n\u001b[1;32m     32\u001b[0m         \u001b[0;32mif\u001b[0m \u001b[0mself\u001b[0m\u001b[0;34m.\u001b[0m\u001b[0mtype\u001b[0m \u001b[0;34m==\u001b[0m \u001b[0;34m'assays'\u001b[0m\u001b[0;34m:\u001b[0m\u001b[0;34m\u001b[0m\u001b[0m\n\u001b[0;32m---> 33\u001b[0;31m             \u001b[0mself\u001b[0m\u001b[0;34m.\u001b[0m\u001b[0mJSON\u001b[0m \u001b[0;34m=\u001b[0m \u001b[0mHelper\u001b[0m\u001b[0;34m.\u001b[0m\u001b[0massayFormat\u001b[0m\u001b[0;34m(\u001b[0m\u001b[0;34m)\u001b[0m\u001b[0;34m\u001b[0m\u001b[0m\n\u001b[0m\u001b[1;32m     34\u001b[0m         \u001b[0;32melif\u001b[0m \u001b[0mself\u001b[0m\u001b[0;34m.\u001b[0m\u001b[0mtype\u001b[0m \u001b[0;34m==\u001b[0m \u001b[0;34m'investigations'\u001b[0m\u001b[0;34m:\u001b[0m\u001b[0;34m\u001b[0m\u001b[0m\n\u001b[1;32m     35\u001b[0m             \u001b[0mself\u001b[0m\u001b[0;34m.\u001b[0m\u001b[0mJSON\u001b[0m \u001b[0;34m=\u001b[0m \u001b[0mHelper\u001b[0m\u001b[0;34m.\u001b[0m\u001b[0minvestigationFormat\u001b[0m\u001b[0;34m(\u001b[0m\u001b[0;34m)\u001b[0m\u001b[0;34m\u001b[0m\u001b[0m\n",
         "\u001b[0;32m~/Work/ThirdYear/Seek/TheSeekNotebook/Helper.py\u001b[0m in \u001b[0;36massayFormat\u001b[0;34m()\u001b[0m\n\u001b[1;32m     61\u001b[0m     \u001b[0mrelationsFormat\u001b[0m\u001b[0;34m(\u001b[0m\u001b[0mJSON\u001b[0m\u001b[0;34m,\u001b[0m \u001b[0;34m'publications'\u001b[0m\u001b[0;34m,\u001b[0m \u001b[0;34m'assay'\u001b[0m\u001b[0;34m)\u001b[0m\u001b[0;34m\u001b[0m\u001b[0m\n\u001b[1;32m     62\u001b[0m     \u001b[0mrelationsFormat\u001b[0m\u001b[0;34m(\u001b[0m\u001b[0mJSON\u001b[0m\u001b[0;34m,\u001b[0m \u001b[0;34m'sops'\u001b[0m\u001b[0;34m,\u001b[0m \u001b[0;34m'assay'\u001b[0m\u001b[0;34m)\u001b[0m\u001b[0;34m\u001b[0m\u001b[0m\n\u001b[0;32m---> 63\u001b[0;31m     \u001b[0mrelationFormat\u001b[0m\u001b[0;34m(\u001b[0m\u001b[0mJSON\u001b[0m\u001b[0;34m,\u001b[0m \u001b[0;34m'studies'\u001b[0m\u001b[0;34m)\u001b[0m\u001b[0;34m\u001b[0m\u001b[0m\n\u001b[0m\u001b[1;32m     64\u001b[0m     \u001b[0mrelationsFormat\u001b[0m\u001b[0;34m(\u001b[0m\u001b[0mJSON\u001b[0m\u001b[0;34m,\u001b[0m \u001b[0;34m'submitters'\u001b[0m\u001b[0;34m,\u001b[0m \u001b[0;34m'assay'\u001b[0m\u001b[0;34m)\u001b[0m\u001b[0;34m\u001b[0m\u001b[0m\n\u001b[1;32m     65\u001b[0m \u001b[0;34m\u001b[0m\u001b[0m\n",
         "\u001b[0;32m~/Work/ThirdYear/Seek/TheSeekNotebook/Helper.py\u001b[0m in \u001b[0;36mrelationFormat\u001b[0;34m(JSON, type)\u001b[0m\n\u001b[1;32m     18\u001b[0m     \u001b[0mid\u001b[0m \u001b[0;34m=\u001b[0m \u001b[0minput\u001b[0m\u001b[0;34m(\u001b[0m\u001b[0;34m'Please specify the id of the '\u001b[0m \u001b[0;34m+\u001b[0m \u001b[0mtype\u001b[0m\u001b[0;34m[\u001b[0m\u001b[0;34m:\u001b[0m\u001b[0;34m-\u001b[0m\u001b[0;36m1\u001b[0m\u001b[0;34m]\u001b[0m \u001b[0;34m+\u001b[0m \u001b[0;34m\": \"\u001b[0m\u001b[0;34m)\u001b[0m\u001b[0;34m\u001b[0m\u001b[0m\n\u001b[1;32m     19\u001b[0m     \u001b[0;32mif\u001b[0m \u001b[0mid\u001b[0m \u001b[0;34m!=\u001b[0m \u001b[0;34m''\u001b[0m\u001b[0;34m:\u001b[0m\u001b[0;34m\u001b[0m\u001b[0m\n\u001b[0;32m---> 20\u001b[0;31m         \u001b[0mJSON\u001b[0m\u001b[0;34m[\u001b[0m\u001b[0;34m'data'\u001b[0m\u001b[0;34m]\u001b[0m\u001b[0;34m[\u001b[0m\u001b[0;34m'relationships'\u001b[0m\u001b[0;34m]\u001b[0m\u001b[0;34m[\u001b[0m\u001b[0mtype\u001b[0m\u001b[0;34m]\u001b[0m\u001b[0;34m[\u001b[0m\u001b[0;34m'data'\u001b[0m\u001b[0;34m]\u001b[0m \u001b[0;34m=\u001b[0m \u001b[0;34m{\u001b[0m\u001b[0;34m'id'\u001b[0m \u001b[0;34m:\u001b[0m \u001b[0mint\u001b[0m\u001b[0;34m(\u001b[0m\u001b[0mid\u001b[0m\u001b[0;34m)\u001b[0m\u001b[0;34m,\u001b[0m \u001b[0;34m'type'\u001b[0m \u001b[0;34m:\u001b[0m \u001b[0mtype\u001b[0m\u001b[0;34m}\u001b[0m\u001b[0;34m\u001b[0m\u001b[0m\n\u001b[0m\u001b[1;32m     21\u001b[0m \u001b[0;34m\u001b[0m\u001b[0m\n\u001b[1;32m     22\u001b[0m \u001b[0;32mdef\u001b[0m \u001b[0massayFormat\u001b[0m\u001b[0;34m(\u001b[0m\u001b[0;34m)\u001b[0m\u001b[0;34m:\u001b[0m\u001b[0;34m\u001b[0m\u001b[0m\n",
         "\u001b[0;31mKeyError\u001b[0m: 'studies'"
        ]
       }
      ],
      "source": "from WriteObject import WriteObject\n\nWO = WriteObject()\n\nWO.SEEKForm()",
      "start_time": "2019-03-16T11:56:45.012Z"
     },
     {
      "end_time": "2019-03-16T12:59:49.136Z",
      "execution_time": "16.2s",
      "outputs": [
       {
        "data": {
         "text/html": "<h3>SEEK FORM</h3>",
         "text/plain": "<IPython.core.display.HTML object>"
        },
        "metadata": {},
        "output_type": "display_data",
        "transient": {}
       },
       {
        "name": "stdout",
        "output_type": "stream",
        "text": "\nThe type of object you want to upload to SEEK: assays\n\nYou need to complete the following form in order to succesfully upload your information to SEEK\nPlease specify the description: a\nPlease specify other creators: a\nPlease specify the title: a\nPlease specify the assay class description: a\nPlease specify the assay class title(Experimental assay / Modelling Analysis): a\nPlease specify the assay type label: a\nPlease specify the assay type uri: a\nPlease specify the technology type label: a\nPlease specify the technology type uri: a\nPlease specify how many creators is this assay related to: a\n"
       },
       {
        "ename": "ValueError",
        "evalue": "invalid literal for int() with base 10: 'a'",
        "output_type": "error",
        "traceback": [
         "\u001b[0;31m---------------------------------------------------------------------------\u001b[0m",
         "\u001b[0;31mValueError\u001b[0m                                Traceback (most recent call last)",
         "\u001b[0;32m<ipython-input-1-cd480b0c800a>\u001b[0m in \u001b[0;36m<module>\u001b[0;34m()\u001b[0m\n\u001b[1;32m      3\u001b[0m \u001b[0mWO\u001b[0m \u001b[0;34m=\u001b[0m \u001b[0mWriteObject\u001b[0m\u001b[0;34m(\u001b[0m\u001b[0;34m)\u001b[0m\u001b[0;34m\u001b[0m\u001b[0m\n\u001b[1;32m      4\u001b[0m \u001b[0;34m\u001b[0m\u001b[0m\n\u001b[0;32m----> 5\u001b[0;31m \u001b[0mWO\u001b[0m\u001b[0;34m.\u001b[0m\u001b[0mSEEKForm\u001b[0m\u001b[0;34m(\u001b[0m\u001b[0;34m)\u001b[0m\u001b[0;34m\u001b[0m\u001b[0m\n\u001b[0m",
         "\u001b[0;32m~/Work/ThirdYear/Seek/TheSeekNotebook/WriteObject.py\u001b[0m in \u001b[0;36mSEEKForm\u001b[0;34m(self)\u001b[0m\n\u001b[1;32m     31\u001b[0m \u001b[0;34m\u001b[0m\u001b[0m\n\u001b[1;32m     32\u001b[0m         \u001b[0;32mif\u001b[0m \u001b[0mself\u001b[0m\u001b[0;34m.\u001b[0m\u001b[0mtype\u001b[0m \u001b[0;34m==\u001b[0m \u001b[0;34m'assays'\u001b[0m\u001b[0;34m:\u001b[0m\u001b[0;34m\u001b[0m\u001b[0m\n\u001b[0;32m---> 33\u001b[0;31m             \u001b[0mself\u001b[0m\u001b[0;34m.\u001b[0m\u001b[0mJSON\u001b[0m \u001b[0;34m=\u001b[0m \u001b[0mHelper\u001b[0m\u001b[0;34m.\u001b[0m\u001b[0massayFormat\u001b[0m\u001b[0;34m(\u001b[0m\u001b[0;34m)\u001b[0m\u001b[0;34m\u001b[0m\u001b[0m\n\u001b[0m\u001b[1;32m     34\u001b[0m         \u001b[0;32melif\u001b[0m \u001b[0mself\u001b[0m\u001b[0;34m.\u001b[0m\u001b[0mtype\u001b[0m \u001b[0;34m==\u001b[0m \u001b[0;34m'investigations'\u001b[0m\u001b[0;34m:\u001b[0m\u001b[0;34m\u001b[0m\u001b[0m\n\u001b[1;32m     35\u001b[0m             \u001b[0mself\u001b[0m\u001b[0;34m.\u001b[0m\u001b[0mJSON\u001b[0m \u001b[0;34m=\u001b[0m \u001b[0mHelper\u001b[0m\u001b[0;34m.\u001b[0m\u001b[0minvestigationFormat\u001b[0m\u001b[0;34m(\u001b[0m\u001b[0;34m)\u001b[0m\u001b[0;34m\u001b[0m\u001b[0m\n",
         "\u001b[0;32m~/Work/ThirdYear/Seek/TheSeekNotebook/Helper.py\u001b[0m in \u001b[0;36massayFormat\u001b[0;34m()\u001b[0m\n\u001b[1;32m     59\u001b[0m \u001b[0;34m\u001b[0m\u001b[0m\n\u001b[1;32m     60\u001b[0m \u001b[0;34m\u001b[0m\u001b[0m\n\u001b[0;32m---> 61\u001b[0;31m     \u001b[0mrelationsFormat\u001b[0m\u001b[0;34m(\u001b[0m\u001b[0mJSON\u001b[0m\u001b[0;34m,\u001b[0m \u001b[0;34m'creators'\u001b[0m\u001b[0;34m,\u001b[0m \u001b[0;34m'assay'\u001b[0m\u001b[0;34m)\u001b[0m\u001b[0;34m\u001b[0m\u001b[0m\n\u001b[0m\u001b[1;32m     62\u001b[0m     \u001b[0mrelationsFormat\u001b[0m\u001b[0;34m(\u001b[0m\u001b[0mJSON\u001b[0m\u001b[0;34m,\u001b[0m \u001b[0;34m'data_files'\u001b[0m\u001b[0;34m,\u001b[0m \u001b[0;34m'assay'\u001b[0m\u001b[0;34m)\u001b[0m\u001b[0;34m\u001b[0m\u001b[0m\n\u001b[1;32m     63\u001b[0m     \u001b[0mrelationsFormat\u001b[0m\u001b[0;34m(\u001b[0m\u001b[0mJSON\u001b[0m\u001b[0;34m,\u001b[0m \u001b[0;34m'documents'\u001b[0m\u001b[0;34m,\u001b[0m \u001b[0;34m'assay'\u001b[0m\u001b[0;34m)\u001b[0m\u001b[0;34m\u001b[0m\u001b[0m\n",
         "\u001b[0;32m~/Work/ThirdYear/Seek/TheSeekNotebook/Helper.py\u001b[0m in \u001b[0;36mrelationsFormat\u001b[0;34m(JSON, type, source)\u001b[0m\n\u001b[1;32m      2\u001b[0m \u001b[0;34m\u001b[0m\u001b[0m\n\u001b[1;32m      3\u001b[0m \u001b[0;32mdef\u001b[0m \u001b[0mrelationsFormat\u001b[0m\u001b[0;34m(\u001b[0m\u001b[0mJSON\u001b[0m\u001b[0;34m,\u001b[0m \u001b[0mtype\u001b[0m\u001b[0;34m,\u001b[0m \u001b[0msource\u001b[0m\u001b[0;34m)\u001b[0m\u001b[0;34m:\u001b[0m\u001b[0;34m\u001b[0m\u001b[0m\n\u001b[0;32m----> 4\u001b[0;31m     \u001b[0mnumberOfRelations\u001b[0m \u001b[0;34m=\u001b[0m \u001b[0mint\u001b[0m\u001b[0;34m(\u001b[0m\u001b[0minput\u001b[0m\u001b[0;34m(\u001b[0m\u001b[0;34m'Please specify how many '\u001b[0m \u001b[0;34m+\u001b[0m \u001b[0mtype\u001b[0m \u001b[0;34m+\u001b[0m \u001b[0;34m' is this '\u001b[0m \u001b[0;34m+\u001b[0m \u001b[0msource\u001b[0m \u001b[0;34m+\u001b[0m \u001b[0;34m' related to: '\u001b[0m\u001b[0;34m)\u001b[0m\u001b[0;34m)\u001b[0m\u001b[0;34m\u001b[0m\u001b[0m\n\u001b[0m\u001b[1;32m      5\u001b[0m \u001b[0;34m\u001b[0m\u001b[0m\n\u001b[1;32m      6\u001b[0m     \u001b[0;32mif\u001b[0m \u001b[0mnumberOfRelations\u001b[0m \u001b[0;34m!=\u001b[0m \u001b[0;36m0\u001b[0m\u001b[0;34m:\u001b[0m\u001b[0;34m\u001b[0m\u001b[0m\n",
         "\u001b[0;31mValueError\u001b[0m: invalid literal for int() with base 10: 'a'"
        ]
       }
      ],
      "source": "from WriteObject import WriteObject\n\nWO = WriteObject()\n\nWO.SEEKForm()",
      "start_time": "2019-03-16T12:59:32.972Z"
     },
     {
      "end_time": "2019-03-16T13:02:49.893Z",
      "execution_time": "4.82s",
      "outputs": [
       {
        "data": {
         "text/html": "<h3>SEEK FORM</h3>",
         "text/plain": "<IPython.core.display.HTML object>"
        },
        "metadata": {},
        "output_type": "display_data",
        "transient": {}
       },
       {
        "name": "stdout",
        "output_type": "stream",
        "text": "\nThe type of object you want to upload to SEEK: assays\n\nYou need to complete the following form in order to succesfully upload your information to SEEK\nPlease specify the description: a\nPlease specify other creators: a\nPlease specify the title: a\nPlease specify the assay class description: a\n"
       },
       {
        "ename": "AttributeError",
        "evalue": "'Select' object has no attribute 'display'",
        "output_type": "error",
        "traceback": [
         "\u001b[0;31m---------------------------------------------------------------------------\u001b[0m",
         "\u001b[0;31mAttributeError\u001b[0m                            Traceback (most recent call last)",
         "\u001b[0;32m<ipython-input-1-cd480b0c800a>\u001b[0m in \u001b[0;36m<module>\u001b[0;34m()\u001b[0m\n\u001b[1;32m      3\u001b[0m \u001b[0mWO\u001b[0m \u001b[0;34m=\u001b[0m \u001b[0mWriteObject\u001b[0m\u001b[0;34m(\u001b[0m\u001b[0;34m)\u001b[0m\u001b[0;34m\u001b[0m\u001b[0m\n\u001b[1;32m      4\u001b[0m \u001b[0;34m\u001b[0m\u001b[0m\n\u001b[0;32m----> 5\u001b[0;31m \u001b[0mWO\u001b[0m\u001b[0;34m.\u001b[0m\u001b[0mSEEKForm\u001b[0m\u001b[0;34m(\u001b[0m\u001b[0;34m)\u001b[0m\u001b[0;34m\u001b[0m\u001b[0m\n\u001b[0m",
         "\u001b[0;32m~/Work/ThirdYear/Seek/TheSeekNotebook/WriteObject.py\u001b[0m in \u001b[0;36mSEEKForm\u001b[0;34m(self)\u001b[0m\n\u001b[1;32m     31\u001b[0m \u001b[0;34m\u001b[0m\u001b[0m\n\u001b[1;32m     32\u001b[0m         \u001b[0;32mif\u001b[0m \u001b[0mself\u001b[0m\u001b[0;34m.\u001b[0m\u001b[0mtype\u001b[0m \u001b[0;34m==\u001b[0m \u001b[0;34m'assays'\u001b[0m\u001b[0;34m:\u001b[0m\u001b[0;34m\u001b[0m\u001b[0m\n\u001b[0;32m---> 33\u001b[0;31m             \u001b[0mself\u001b[0m\u001b[0;34m.\u001b[0m\u001b[0mJSON\u001b[0m \u001b[0;34m=\u001b[0m \u001b[0mHelper\u001b[0m\u001b[0;34m.\u001b[0m\u001b[0massayFormat\u001b[0m\u001b[0;34m(\u001b[0m\u001b[0;34m)\u001b[0m\u001b[0;34m\u001b[0m\u001b[0m\n\u001b[0m\u001b[1;32m     34\u001b[0m         \u001b[0;32melif\u001b[0m \u001b[0mself\u001b[0m\u001b[0;34m.\u001b[0m\u001b[0mtype\u001b[0m \u001b[0;34m==\u001b[0m \u001b[0;34m'investigations'\u001b[0m\u001b[0;34m:\u001b[0m\u001b[0;34m\u001b[0m\u001b[0m\n\u001b[1;32m     35\u001b[0m             \u001b[0mself\u001b[0m\u001b[0;34m.\u001b[0m\u001b[0mJSON\u001b[0m \u001b[0;34m=\u001b[0m \u001b[0mHelper\u001b[0m\u001b[0;34m.\u001b[0m\u001b[0minvestigationFormat\u001b[0m\u001b[0;34m(\u001b[0m\u001b[0;34m)\u001b[0m\u001b[0;34m\u001b[0m\u001b[0m\n",
         "\u001b[0;32m~/Work/ThirdYear/Seek/TheSeekNotebook/Helper.py\u001b[0m in \u001b[0;36massayFormat\u001b[0;34m()\u001b[0m\n\u001b[1;32m     42\u001b[0m                         disabled=False)\n\u001b[1;32m     43\u001b[0m \u001b[0;34m\u001b[0m\u001b[0m\n\u001b[0;32m---> 44\u001b[0;31m     \u001b[0mw\u001b[0m\u001b[0;34m.\u001b[0m\u001b[0mdisplay\u001b[0m\u001b[0;34m(\u001b[0m\u001b[0;34m)\u001b[0m\u001b[0;34m\u001b[0m\u001b[0m\n\u001b[0m\u001b[1;32m     45\u001b[0m     \u001b[0mJSON\u001b[0m\u001b[0;34m[\u001b[0m\u001b[0;34m'data'\u001b[0m\u001b[0;34m]\u001b[0m\u001b[0;34m[\u001b[0m\u001b[0;34m'attributes'\u001b[0m\u001b[0;34m]\u001b[0m\u001b[0;34m[\u001b[0m\u001b[0;34m'assay_class'\u001b[0m\u001b[0;34m]\u001b[0m\u001b[0;34m[\u001b[0m\u001b[0;34m'key'\u001b[0m\u001b[0;34m]\u001b[0m \u001b[0;34m=\u001b[0m \u001b[0mw\u001b[0m\u001b[0;34m.\u001b[0m\u001b[0mvalue\u001b[0m\u001b[0;34m\u001b[0m\u001b[0m\n\u001b[1;32m     46\u001b[0m         \u001b[0;31m# input('Please specify the assay class key(EXP / MODEL): ')\u001b[0m\u001b[0;34m\u001b[0m\u001b[0;34m\u001b[0m\u001b[0m\n",
         "\u001b[0;31mAttributeError\u001b[0m: 'Select' object has no attribute 'display'"
        ]
       }
      ],
      "source": "from WriteObject import WriteObject\n\nWO = WriteObject()\n\nWO.SEEKForm()",
      "start_time": "2019-03-16T13:02:45.074Z"
     },
     {
      "end_time": "2019-03-16T13:03:11.280Z",
      "execution_time": "5.44s",
      "outputs": [
       {
        "data": {
         "text/html": "<h3>SEEK FORM</h3>",
         "text/plain": "<IPython.core.display.HTML object>"
        },
        "metadata": {},
        "output_type": "display_data",
        "transient": {}
       },
       {
        "name": "stdout",
        "output_type": "stream",
        "text": "\nThe type of object you want to upload to SEEK: assays\n\nYou need to complete the following form in order to succesfully upload your information to SEEK\nPlease specify the description: a\nPlease specify other creators: a\nPlease specify the title: a\nPlease specify the assay class description: a\n"
       },
       {
        "ename": "AttributeError",
        "evalue": "'Select' object has no attribute 'display'",
        "output_type": "error",
        "traceback": [
         "\u001b[0;31m---------------------------------------------------------------------------\u001b[0m",
         "\u001b[0;31mAttributeError\u001b[0m                            Traceback (most recent call last)",
         "\u001b[0;32m<ipython-input-2-cd480b0c800a>\u001b[0m in \u001b[0;36m<module>\u001b[0;34m()\u001b[0m\n\u001b[1;32m      3\u001b[0m \u001b[0mWO\u001b[0m \u001b[0;34m=\u001b[0m \u001b[0mWriteObject\u001b[0m\u001b[0;34m(\u001b[0m\u001b[0;34m)\u001b[0m\u001b[0;34m\u001b[0m\u001b[0m\n\u001b[1;32m      4\u001b[0m \u001b[0;34m\u001b[0m\u001b[0m\n\u001b[0;32m----> 5\u001b[0;31m \u001b[0mWO\u001b[0m\u001b[0;34m.\u001b[0m\u001b[0mSEEKForm\u001b[0m\u001b[0;34m(\u001b[0m\u001b[0;34m)\u001b[0m\u001b[0;34m\u001b[0m\u001b[0m\n\u001b[0m",
         "\u001b[0;32m~/Work/ThirdYear/Seek/TheSeekNotebook/WriteObject.py\u001b[0m in \u001b[0;36mSEEKForm\u001b[0;34m(self)\u001b[0m\n\u001b[1;32m     31\u001b[0m \u001b[0;34m\u001b[0m\u001b[0m\n\u001b[1;32m     32\u001b[0m         \u001b[0;32mif\u001b[0m \u001b[0mself\u001b[0m\u001b[0;34m.\u001b[0m\u001b[0mtype\u001b[0m \u001b[0;34m==\u001b[0m \u001b[0;34m'assays'\u001b[0m\u001b[0;34m:\u001b[0m\u001b[0;34m\u001b[0m\u001b[0m\n\u001b[0;32m---> 33\u001b[0;31m             \u001b[0mself\u001b[0m\u001b[0;34m.\u001b[0m\u001b[0mJSON\u001b[0m \u001b[0;34m=\u001b[0m \u001b[0mHelper\u001b[0m\u001b[0;34m.\u001b[0m\u001b[0massayFormat\u001b[0m\u001b[0;34m(\u001b[0m\u001b[0;34m)\u001b[0m\u001b[0;34m\u001b[0m\u001b[0m\n\u001b[0m\u001b[1;32m     34\u001b[0m         \u001b[0;32melif\u001b[0m \u001b[0mself\u001b[0m\u001b[0;34m.\u001b[0m\u001b[0mtype\u001b[0m \u001b[0;34m==\u001b[0m \u001b[0;34m'investigations'\u001b[0m\u001b[0;34m:\u001b[0m\u001b[0;34m\u001b[0m\u001b[0m\n\u001b[1;32m     35\u001b[0m             \u001b[0mself\u001b[0m\u001b[0;34m.\u001b[0m\u001b[0mJSON\u001b[0m \u001b[0;34m=\u001b[0m \u001b[0mHelper\u001b[0m\u001b[0;34m.\u001b[0m\u001b[0minvestigationFormat\u001b[0m\u001b[0;34m(\u001b[0m\u001b[0;34m)\u001b[0m\u001b[0;34m\u001b[0m\u001b[0m\n",
         "\u001b[0;32m~/Work/ThirdYear/Seek/TheSeekNotebook/Helper.py\u001b[0m in \u001b[0;36massayFormat\u001b[0;34m()\u001b[0m\n\u001b[1;32m     42\u001b[0m                         disabled=False)\n\u001b[1;32m     43\u001b[0m \u001b[0;34m\u001b[0m\u001b[0m\n\u001b[0;32m---> 44\u001b[0;31m     \u001b[0mdisplay\u001b[0m\u001b[0;34m(\u001b[0m\u001b[0mw\u001b[0m\u001b[0;34m)\u001b[0m\u001b[0;34m\u001b[0m\u001b[0m\n\u001b[0m\u001b[1;32m     45\u001b[0m     \u001b[0mJSON\u001b[0m\u001b[0;34m[\u001b[0m\u001b[0;34m'data'\u001b[0m\u001b[0;34m]\u001b[0m\u001b[0;34m[\u001b[0m\u001b[0;34m'attributes'\u001b[0m\u001b[0;34m]\u001b[0m\u001b[0;34m[\u001b[0m\u001b[0;34m'assay_class'\u001b[0m\u001b[0;34m]\u001b[0m\u001b[0;34m[\u001b[0m\u001b[0;34m'key'\u001b[0m\u001b[0;34m]\u001b[0m \u001b[0;34m=\u001b[0m \u001b[0mw\u001b[0m\u001b[0;34m.\u001b[0m\u001b[0mvalue\u001b[0m\u001b[0;34m\u001b[0m\u001b[0m\n\u001b[1;32m     46\u001b[0m         \u001b[0;31m# input('Please specify the assay class key(EXP / MODEL): ')\u001b[0m\u001b[0;34m\u001b[0m\u001b[0;34m\u001b[0m\u001b[0m\n",
         "\u001b[0;31mAttributeError\u001b[0m: 'Select' object has no attribute 'display'"
        ]
       }
      ],
      "source": "from WriteObject import WriteObject\n\nWO = WriteObject()\n\nWO.SEEKForm()",
      "start_time": "2019-03-16T13:03:05.837Z"
     },
     {
      "end_time": "2019-03-16T13:26:38.455Z",
      "execution_time": "41.3s",
      "outputs": [
       {
        "data": {
         "text/html": "<h3>SEEK FORM</h3>",
         "text/plain": "<IPython.core.display.HTML object>"
        },
        "metadata": {},
        "output_type": "display_data",
        "transient": {}
       },
       {
        "name": "stdout",
        "output_type": "stream",
        "text": "\nThe type of object you want to upload to SEEK: assays\n\nYou need to complete the following form in order to succesfully upload your information to SEEK\nPlease specify the description: aa\nPlease specify other creators: k\nPlease specify the title: k\nPlease specify the assay class description: k\n"
       },
       {
        "data": {
         "application/vnd.jupyter.widget-view+json": {
          "model_id": "",
          "version_major": 2,
          "version_minor": 0
         },
         "text/plain": "Select(description='Assay Class Key', options=('EXP', 'MODEL'), rows=2, value='EXP')"
        },
        "metadata": {},
        "output_type": "display_data",
        "transient": {}
       },
       {
        "data": {
         "application/vnd.jupyter.widget-view+json": {
          "model_id": "",
          "version_major": 2,
          "version_minor": 0
         },
         "text/plain": "Button(button_style='success', description='Accept', icon='check', style=ButtonStyle(), tooltip='Select')"
        },
        "metadata": {},
        "output_type": "display_data",
        "transient": {}
       },
       {
        "ename": "KeyboardInterrupt",
        "evalue": "",
        "output_type": "error",
        "traceback": [
         "\u001b[0;31m---------------------------------------------------------------------------\u001b[0m",
         "\u001b[0;31mKeyboardInterrupt\u001b[0m                         Traceback (most recent call last)",
         "\u001b[0;32m<ipython-input-1-cd480b0c800a>\u001b[0m in \u001b[0;36m<module>\u001b[0;34m()\u001b[0m\n\u001b[1;32m      3\u001b[0m \u001b[0mWO\u001b[0m \u001b[0;34m=\u001b[0m \u001b[0mWriteObject\u001b[0m\u001b[0;34m(\u001b[0m\u001b[0;34m)\u001b[0m\u001b[0;34m\u001b[0m\u001b[0m\n\u001b[1;32m      4\u001b[0m \u001b[0;34m\u001b[0m\u001b[0m\n\u001b[0;32m----> 5\u001b[0;31m \u001b[0mWO\u001b[0m\u001b[0;34m.\u001b[0m\u001b[0mSEEKForm\u001b[0m\u001b[0;34m(\u001b[0m\u001b[0;34m)\u001b[0m\u001b[0;34m\u001b[0m\u001b[0m\n\u001b[0m",
         "\u001b[0;32m~/Work/ThirdYear/Seek/TheSeekNotebook/WriteObject.py\u001b[0m in \u001b[0;36mSEEKForm\u001b[0;34m(self)\u001b[0m\n\u001b[1;32m     31\u001b[0m \u001b[0;34m\u001b[0m\u001b[0m\n\u001b[1;32m     32\u001b[0m         \u001b[0;32mif\u001b[0m \u001b[0mself\u001b[0m\u001b[0;34m.\u001b[0m\u001b[0mtype\u001b[0m \u001b[0;34m==\u001b[0m \u001b[0;34m'assays'\u001b[0m\u001b[0;34m:\u001b[0m\u001b[0;34m\u001b[0m\u001b[0m\n\u001b[0;32m---> 33\u001b[0;31m             \u001b[0mself\u001b[0m\u001b[0;34m.\u001b[0m\u001b[0mJSON\u001b[0m \u001b[0;34m=\u001b[0m \u001b[0mHelper\u001b[0m\u001b[0;34m.\u001b[0m\u001b[0massayFormat\u001b[0m\u001b[0;34m(\u001b[0m\u001b[0;34m)\u001b[0m\u001b[0;34m\u001b[0m\u001b[0m\n\u001b[0m\u001b[1;32m     34\u001b[0m         \u001b[0;32melif\u001b[0m \u001b[0mself\u001b[0m\u001b[0;34m.\u001b[0m\u001b[0mtype\u001b[0m \u001b[0;34m==\u001b[0m \u001b[0;34m'investigations'\u001b[0m\u001b[0;34m:\u001b[0m\u001b[0;34m\u001b[0m\u001b[0m\n\u001b[1;32m     35\u001b[0m             \u001b[0mself\u001b[0m\u001b[0;34m.\u001b[0m\u001b[0mJSON\u001b[0m \u001b[0;34m=\u001b[0m \u001b[0mHelper\u001b[0m\u001b[0;34m.\u001b[0m\u001b[0minvestigationFormat\u001b[0m\u001b[0;34m(\u001b[0m\u001b[0;34m)\u001b[0m\u001b[0;34m\u001b[0m\u001b[0m\n",
         "\u001b[0;32m~/Work/ThirdYear/Seek/TheSeekNotebook/Helper.py\u001b[0m in \u001b[0;36massayFormat\u001b[0;34m()\u001b[0m\n\u001b[1;32m     58\u001b[0m     \u001b[0;32mwhile\u001b[0m \u001b[0;32mnot\u001b[0m \u001b[0misClicked\u001b[0m\u001b[0;34m:\u001b[0m\u001b[0;34m\u001b[0m\u001b[0m\n\u001b[1;32m     59\u001b[0m \u001b[0;34m\u001b[0m\u001b[0m\n\u001b[0;32m---> 60\u001b[0;31m         \u001b[0mbutton\u001b[0m\u001b[0;34m.\u001b[0m\u001b[0mon_click\u001b[0m\u001b[0;34m(\u001b[0m\u001b[0mbuttonClicked\u001b[0m\u001b[0;34m)\u001b[0m\u001b[0;34m\u001b[0m\u001b[0m\n\u001b[0m\u001b[1;32m     61\u001b[0m \u001b[0;34m\u001b[0m\u001b[0m\n\u001b[1;32m     62\u001b[0m     \u001b[0mJSON\u001b[0m\u001b[0;34m[\u001b[0m\u001b[0;34m'data'\u001b[0m\u001b[0;34m]\u001b[0m\u001b[0;34m[\u001b[0m\u001b[0;34m'attributes'\u001b[0m\u001b[0;34m]\u001b[0m\u001b[0;34m[\u001b[0m\u001b[0;34m'assay_class'\u001b[0m\u001b[0;34m]\u001b[0m\u001b[0;34m[\u001b[0m\u001b[0;34m'key'\u001b[0m\u001b[0;34m]\u001b[0m \u001b[0;34m=\u001b[0m \u001b[0mselect\u001b[0m\u001b[0;34m.\u001b[0m\u001b[0mvalue\u001b[0m\u001b[0;34m\u001b[0m\u001b[0m\n",
         "\u001b[0;32m~/anaconda3/lib/python3.6/site-packages/ipywidgets/widgets/widget_button.py\u001b[0m in \u001b[0;36mon_click\u001b[0;34m(self, callback, remove)\u001b[0m\n\u001b[1;32m     73\u001b[0m         \u001b[0;32mreturn\u001b[0m \u001b[0mvalue\u001b[0m\u001b[0;34m\u001b[0m\u001b[0m\n\u001b[1;32m     74\u001b[0m \u001b[0;34m\u001b[0m\u001b[0m\n\u001b[0;32m---> 75\u001b[0;31m     \u001b[0;32mdef\u001b[0m \u001b[0mon_click\u001b[0m\u001b[0;34m(\u001b[0m\u001b[0mself\u001b[0m\u001b[0;34m,\u001b[0m \u001b[0mcallback\u001b[0m\u001b[0;34m,\u001b[0m \u001b[0mremove\u001b[0m\u001b[0;34m=\u001b[0m\u001b[0;32mFalse\u001b[0m\u001b[0;34m)\u001b[0m\u001b[0;34m:\u001b[0m\u001b[0;34m\u001b[0m\u001b[0m\n\u001b[0m\u001b[1;32m     76\u001b[0m         \"\"\"Register a callback to execute when the button is clicked.\n\u001b[1;32m     77\u001b[0m \u001b[0;34m\u001b[0m\u001b[0m\n",
         "\u001b[0;31mKeyboardInterrupt\u001b[0m: "
        ]
       }
      ],
      "source": "from WriteObject import WriteObject\n\nWO = WriteObject()\n\nWO.SEEKForm()",
      "start_time": "2019-03-16T13:25:57.169Z"
     },
     {
      "end_time": "2019-03-16T16:10:01.684Z",
      "execution_time": "15.9s",
      "outputs": [
       {
        "data": {
         "text/html": "<h3>SEEK FORM</h3>",
         "text/plain": "<IPython.core.display.HTML object>"
        },
        "metadata": {},
        "output_type": "display_data",
        "transient": {}
       },
       {
        "name": "stdout",
        "output_type": "stream",
        "text": "\nThe type of object you want to upload to SEEK: assays\n\nYou need to complete the following form in order to succesfully upload your information to SEEK\nPlease specify the description: a\nPlease specify other creators: a\nPlease specify the title: a\nPlease specify the assay class description: a\n"
       },
       {
        "data": {
         "application/vnd.jupyter.widget-view+json": {
          "model_id": "",
          "version_major": 2,
          "version_minor": 0
         },
         "text/plain": "Select(description='Assay Class Key', options=('EXP', 'MODEL'), rows=2, value='EXP')"
        },
        "metadata": {},
        "output_type": "display_data",
        "transient": {}
       },
       {
        "data": {
         "application/vnd.jupyter.widget-view+json": {
          "model_id": "",
          "version_major": 2,
          "version_minor": 0
         },
         "text/plain": "Button(button_style='success', description='Accept', icon='check', style=ButtonStyle(), tooltip='Select')"
        },
        "metadata": {},
        "output_type": "display_data",
        "transient": {}
       },
       {
        "ename": "KeyboardInterrupt",
        "evalue": "",
        "output_type": "error",
        "traceback": [
         "\u001b[0;31m---------------------------------------------------------------------------\u001b[0m",
         "\u001b[0;31mKeyboardInterrupt\u001b[0m                         Traceback (most recent call last)",
         "\u001b[0;32m<ipython-input-2-cd480b0c800a>\u001b[0m in \u001b[0;36m<module>\u001b[0;34m()\u001b[0m\n\u001b[1;32m      3\u001b[0m \u001b[0mWO\u001b[0m \u001b[0;34m=\u001b[0m \u001b[0mWriteObject\u001b[0m\u001b[0;34m(\u001b[0m\u001b[0;34m)\u001b[0m\u001b[0;34m\u001b[0m\u001b[0m\n\u001b[1;32m      4\u001b[0m \u001b[0;34m\u001b[0m\u001b[0m\n\u001b[0;32m----> 5\u001b[0;31m \u001b[0mWO\u001b[0m\u001b[0;34m.\u001b[0m\u001b[0mSEEKForm\u001b[0m\u001b[0;34m(\u001b[0m\u001b[0;34m)\u001b[0m\u001b[0;34m\u001b[0m\u001b[0m\n\u001b[0m",
         "\u001b[0;32m~/Work/ThirdYear/Seek/TheSeekNotebook/WriteObject.py\u001b[0m in \u001b[0;36mSEEKForm\u001b[0;34m(self)\u001b[0m\n\u001b[1;32m     31\u001b[0m \u001b[0;34m\u001b[0m\u001b[0m\n\u001b[1;32m     32\u001b[0m         \u001b[0;32mif\u001b[0m \u001b[0mself\u001b[0m\u001b[0;34m.\u001b[0m\u001b[0mtype\u001b[0m \u001b[0;34m==\u001b[0m \u001b[0;34m'assays'\u001b[0m\u001b[0;34m:\u001b[0m\u001b[0;34m\u001b[0m\u001b[0m\n\u001b[0;32m---> 33\u001b[0;31m             \u001b[0mself\u001b[0m\u001b[0;34m.\u001b[0m\u001b[0mJSON\u001b[0m \u001b[0;34m=\u001b[0m \u001b[0mHelper\u001b[0m\u001b[0;34m.\u001b[0m\u001b[0massayFormat\u001b[0m\u001b[0;34m(\u001b[0m\u001b[0;34m)\u001b[0m\u001b[0;34m\u001b[0m\u001b[0m\n\u001b[0m\u001b[1;32m     34\u001b[0m         \u001b[0;32melif\u001b[0m \u001b[0mself\u001b[0m\u001b[0;34m.\u001b[0m\u001b[0mtype\u001b[0m \u001b[0;34m==\u001b[0m \u001b[0;34m'investigations'\u001b[0m\u001b[0;34m:\u001b[0m\u001b[0;34m\u001b[0m\u001b[0m\n\u001b[1;32m     35\u001b[0m             \u001b[0mself\u001b[0m\u001b[0;34m.\u001b[0m\u001b[0mJSON\u001b[0m \u001b[0;34m=\u001b[0m \u001b[0mHelper\u001b[0m\u001b[0;34m.\u001b[0m\u001b[0minvestigationFormat\u001b[0m\u001b[0;34m(\u001b[0m\u001b[0;34m)\u001b[0m\u001b[0;34m\u001b[0m\u001b[0m\n",
         "\u001b[0;32m~/Work/ThirdYear/Seek/TheSeekNotebook/Helper.py\u001b[0m in \u001b[0;36massayFormat\u001b[0;34m()\u001b[0m\n\u001b[1;32m     58\u001b[0m     \u001b[0;32mwhile\u001b[0m \u001b[0;32mnot\u001b[0m \u001b[0misClicked\u001b[0m\u001b[0;34m:\u001b[0m\u001b[0;34m\u001b[0m\u001b[0m\n\u001b[1;32m     59\u001b[0m \u001b[0;34m\u001b[0m\u001b[0m\n\u001b[0;32m---> 60\u001b[0;31m         \u001b[0mbutton\u001b[0m\u001b[0;34m.\u001b[0m\u001b[0mon_click\u001b[0m\u001b[0;34m(\u001b[0m\u001b[0mbuttonClicked\u001b[0m\u001b[0;34m)\u001b[0m\u001b[0;34m\u001b[0m\u001b[0m\n\u001b[0m\u001b[1;32m     61\u001b[0m \u001b[0;34m\u001b[0m\u001b[0m\n\u001b[1;32m     62\u001b[0m     \u001b[0mJSON\u001b[0m\u001b[0;34m[\u001b[0m\u001b[0;34m'data'\u001b[0m\u001b[0;34m]\u001b[0m\u001b[0;34m[\u001b[0m\u001b[0;34m'attributes'\u001b[0m\u001b[0;34m]\u001b[0m\u001b[0;34m[\u001b[0m\u001b[0;34m'assay_class'\u001b[0m\u001b[0;34m]\u001b[0m\u001b[0;34m[\u001b[0m\u001b[0;34m'key'\u001b[0m\u001b[0;34m]\u001b[0m \u001b[0;34m=\u001b[0m \u001b[0mselect\u001b[0m\u001b[0;34m.\u001b[0m\u001b[0mvalue\u001b[0m\u001b[0;34m\u001b[0m\u001b[0m\n",
         "\u001b[0;32m~/anaconda3/lib/python3.6/site-packages/ipywidgets/widgets/widget_button.py\u001b[0m in \u001b[0;36mon_click\u001b[0;34m(self, callback, remove)\u001b[0m\n\u001b[1;32m     84\u001b[0m             \u001b[0mSet\u001b[0m \u001b[0mto\u001b[0m \u001b[0mtrue\u001b[0m \u001b[0mto\u001b[0m \u001b[0mremove\u001b[0m \u001b[0mthe\u001b[0m \u001b[0mcallback\u001b[0m \u001b[0;32mfrom\u001b[0m \u001b[0mthe\u001b[0m \u001b[0mlist\u001b[0m \u001b[0mof\u001b[0m \u001b[0mcallbacks\u001b[0m\u001b[0;34m.\u001b[0m\u001b[0;34m\u001b[0m\u001b[0m\n\u001b[1;32m     85\u001b[0m         \"\"\"\n\u001b[0;32m---> 86\u001b[0;31m         \u001b[0mself\u001b[0m\u001b[0;34m.\u001b[0m\u001b[0m_click_handlers\u001b[0m\u001b[0;34m.\u001b[0m\u001b[0mregister_callback\u001b[0m\u001b[0;34m(\u001b[0m\u001b[0mcallback\u001b[0m\u001b[0;34m,\u001b[0m \u001b[0mremove\u001b[0m\u001b[0;34m=\u001b[0m\u001b[0mremove\u001b[0m\u001b[0;34m)\u001b[0m\u001b[0;34m\u001b[0m\u001b[0m\n\u001b[0m\u001b[1;32m     87\u001b[0m \u001b[0;34m\u001b[0m\u001b[0m\n\u001b[1;32m     88\u001b[0m     \u001b[0;32mdef\u001b[0m \u001b[0m_handle_button_msg\u001b[0m\u001b[0;34m(\u001b[0m\u001b[0mself\u001b[0m\u001b[0;34m,\u001b[0m \u001b[0m_\u001b[0m\u001b[0;34m,\u001b[0m \u001b[0mcontent\u001b[0m\u001b[0;34m,\u001b[0m \u001b[0mbuffers\u001b[0m\u001b[0;34m)\u001b[0m\u001b[0;34m:\u001b[0m\u001b[0;34m\u001b[0m\u001b[0m\n",
         "\u001b[0;32m~/anaconda3/lib/python3.6/site-packages/ipywidgets/widgets/widget.py\u001b[0m in \u001b[0;36mregister_callback\u001b[0;34m(self, callback, remove)\u001b[0m\n\u001b[1;32m    207\u001b[0m         \u001b[0;32mif\u001b[0m \u001b[0mremove\u001b[0m \u001b[0;32mand\u001b[0m \u001b[0mcallback\u001b[0m \u001b[0;32min\u001b[0m \u001b[0mself\u001b[0m\u001b[0;34m.\u001b[0m\u001b[0mcallbacks\u001b[0m\u001b[0;34m:\u001b[0m\u001b[0;34m\u001b[0m\u001b[0m\n\u001b[1;32m    208\u001b[0m             \u001b[0mself\u001b[0m\u001b[0;34m.\u001b[0m\u001b[0mcallbacks\u001b[0m\u001b[0;34m.\u001b[0m\u001b[0mremove\u001b[0m\u001b[0;34m(\u001b[0m\u001b[0mcallback\u001b[0m\u001b[0;34m)\u001b[0m\u001b[0;34m\u001b[0m\u001b[0m\n\u001b[0;32m--> 209\u001b[0;31m         \u001b[0;32melif\u001b[0m \u001b[0;32mnot\u001b[0m \u001b[0mremove\u001b[0m \u001b[0;32mand\u001b[0m \u001b[0mcallback\u001b[0m \u001b[0;32mnot\u001b[0m \u001b[0;32min\u001b[0m \u001b[0mself\u001b[0m\u001b[0;34m.\u001b[0m\u001b[0mcallbacks\u001b[0m\u001b[0;34m:\u001b[0m\u001b[0;34m\u001b[0m\u001b[0m\n\u001b[0m\u001b[1;32m    210\u001b[0m             \u001b[0mself\u001b[0m\u001b[0;34m.\u001b[0m\u001b[0mcallbacks\u001b[0m\u001b[0;34m.\u001b[0m\u001b[0mappend\u001b[0m\u001b[0;34m(\u001b[0m\u001b[0mcallback\u001b[0m\u001b[0;34m)\u001b[0m\u001b[0;34m\u001b[0m\u001b[0m\n\u001b[1;32m    211\u001b[0m \u001b[0;34m\u001b[0m\u001b[0m\n",
         "\u001b[0;31mKeyboardInterrupt\u001b[0m: "
        ]
       }
      ],
      "source": "from WriteObject import WriteObject\n\nWO = WriteObject()\n\nWO.SEEKForm()",
      "start_time": "2019-03-16T16:09:45.771Z"
     },
     {
      "end_time": "2019-03-16T16:13:50.984Z",
      "execution_time": "59.6s",
      "outputs": [
       {
        "data": {
         "text/html": "<h3>SEEK FORM</h3>",
         "text/plain": "<IPython.core.display.HTML object>"
        },
        "metadata": {},
        "output_type": "display_data",
        "transient": {}
       },
       {
        "name": "stdout",
        "output_type": "stream",
        "text": "\nThe type of object you want to upload to SEEK: assays\n\nYou need to complete the following form in order to succesfully upload your information to SEEK\nPlease specify the description: a\nPlease specify other creators: a\nPlease specify the title: a\nPlease specify the assay class description: a\n"
       },
       {
        "data": {
         "application/vnd.jupyter.widget-view+json": {
          "model_id": "",
          "version_major": 2,
          "version_minor": 0
         },
         "text/plain": "Select(description='Assay Class Key', options=('EXP', 'MODEL'), rows=2, value='EXP')"
        },
        "metadata": {},
        "output_type": "display_data",
        "transient": {}
       },
       {
        "data": {
         "application/vnd.jupyter.widget-view+json": {
          "model_id": "",
          "version_major": 2,
          "version_minor": 0
         },
         "text/plain": "Button(description='Accept', icon='check', style=ButtonStyle(), tooltip='Select')"
        },
        "metadata": {},
        "output_type": "display_data",
        "transient": {}
       },
       {
        "ename": "KeyboardInterrupt",
        "evalue": "",
        "output_type": "error",
        "traceback": [
         "\u001b[0;31m---------------------------------------------------------------------------\u001b[0m",
         "\u001b[0;31mKeyboardInterrupt\u001b[0m                         Traceback (most recent call last)",
         "\u001b[0;32m<ipython-input-1-cd480b0c800a>\u001b[0m in \u001b[0;36m<module>\u001b[0;34m()\u001b[0m\n\u001b[1;32m      3\u001b[0m \u001b[0mWO\u001b[0m \u001b[0;34m=\u001b[0m \u001b[0mWriteObject\u001b[0m\u001b[0;34m(\u001b[0m\u001b[0;34m)\u001b[0m\u001b[0;34m\u001b[0m\u001b[0m\n\u001b[1;32m      4\u001b[0m \u001b[0;34m\u001b[0m\u001b[0m\n\u001b[0;32m----> 5\u001b[0;31m \u001b[0mWO\u001b[0m\u001b[0;34m.\u001b[0m\u001b[0mSEEKForm\u001b[0m\u001b[0;34m(\u001b[0m\u001b[0;34m)\u001b[0m\u001b[0;34m\u001b[0m\u001b[0m\n\u001b[0m",
         "\u001b[0;32m~/Work/ThirdYear/Seek/TheSeekNotebook/WriteObject.py\u001b[0m in \u001b[0;36mSEEKForm\u001b[0;34m(self)\u001b[0m\n\u001b[1;32m     31\u001b[0m \u001b[0;34m\u001b[0m\u001b[0m\n\u001b[1;32m     32\u001b[0m         \u001b[0;32mif\u001b[0m \u001b[0mself\u001b[0m\u001b[0;34m.\u001b[0m\u001b[0mtype\u001b[0m \u001b[0;34m==\u001b[0m \u001b[0;34m'assays'\u001b[0m\u001b[0;34m:\u001b[0m\u001b[0;34m\u001b[0m\u001b[0m\n\u001b[0;32m---> 33\u001b[0;31m             \u001b[0mself\u001b[0m\u001b[0;34m.\u001b[0m\u001b[0mJSON\u001b[0m \u001b[0;34m=\u001b[0m \u001b[0mHelper\u001b[0m\u001b[0;34m.\u001b[0m\u001b[0massayFormat\u001b[0m\u001b[0;34m(\u001b[0m\u001b[0;34m)\u001b[0m\u001b[0;34m\u001b[0m\u001b[0m\n\u001b[0m\u001b[1;32m     34\u001b[0m         \u001b[0;32melif\u001b[0m \u001b[0mself\u001b[0m\u001b[0;34m.\u001b[0m\u001b[0mtype\u001b[0m \u001b[0;34m==\u001b[0m \u001b[0;34m'investigations'\u001b[0m\u001b[0;34m:\u001b[0m\u001b[0;34m\u001b[0m\u001b[0m\n\u001b[1;32m     35\u001b[0m             \u001b[0mself\u001b[0m\u001b[0;34m.\u001b[0m\u001b[0mJSON\u001b[0m \u001b[0;34m=\u001b[0m \u001b[0mHelper\u001b[0m\u001b[0;34m.\u001b[0m\u001b[0minvestigationFormat\u001b[0m\u001b[0;34m(\u001b[0m\u001b[0;34m)\u001b[0m\u001b[0;34m\u001b[0m\u001b[0m\n",
         "\u001b[0;32m~/Work/ThirdYear/Seek/TheSeekNotebook/Helper.py\u001b[0m in \u001b[0;36massayFormat\u001b[0;34m()\u001b[0m\n\u001b[1;32m     58\u001b[0m     \u001b[0;32mwhile\u001b[0m \u001b[0;32mnot\u001b[0m \u001b[0misClicked\u001b[0m\u001b[0;34m:\u001b[0m\u001b[0;34m\u001b[0m\u001b[0m\n\u001b[1;32m     59\u001b[0m \u001b[0;34m\u001b[0m\u001b[0m\n\u001b[0;32m---> 60\u001b[0;31m         \u001b[0mbutton\u001b[0m\u001b[0;34m.\u001b[0m\u001b[0mon_click\u001b[0m\u001b[0;34m(\u001b[0m\u001b[0mbuttonClicked\u001b[0m\u001b[0;34m)\u001b[0m\u001b[0;34m\u001b[0m\u001b[0m\n\u001b[0m\u001b[1;32m     61\u001b[0m \u001b[0;34m\u001b[0m\u001b[0m\n\u001b[1;32m     62\u001b[0m     \u001b[0mJSON\u001b[0m\u001b[0;34m[\u001b[0m\u001b[0;34m'data'\u001b[0m\u001b[0;34m]\u001b[0m\u001b[0;34m[\u001b[0m\u001b[0;34m'attributes'\u001b[0m\u001b[0;34m]\u001b[0m\u001b[0;34m[\u001b[0m\u001b[0;34m'assay_class'\u001b[0m\u001b[0;34m]\u001b[0m\u001b[0;34m[\u001b[0m\u001b[0;34m'key'\u001b[0m\u001b[0;34m]\u001b[0m \u001b[0;34m=\u001b[0m \u001b[0mselect\u001b[0m\u001b[0;34m.\u001b[0m\u001b[0mvalue\u001b[0m\u001b[0;34m\u001b[0m\u001b[0m\n",
         "\u001b[0;32m~/anaconda3/lib/python3.6/site-packages/ipywidgets/widgets/widget_button.py\u001b[0m in \u001b[0;36mon_click\u001b[0;34m(self, callback, remove)\u001b[0m\n\u001b[1;32m     84\u001b[0m             \u001b[0mSet\u001b[0m \u001b[0mto\u001b[0m \u001b[0mtrue\u001b[0m \u001b[0mto\u001b[0m \u001b[0mremove\u001b[0m \u001b[0mthe\u001b[0m \u001b[0mcallback\u001b[0m \u001b[0;32mfrom\u001b[0m \u001b[0mthe\u001b[0m \u001b[0mlist\u001b[0m \u001b[0mof\u001b[0m \u001b[0mcallbacks\u001b[0m\u001b[0;34m.\u001b[0m\u001b[0;34m\u001b[0m\u001b[0m\n\u001b[1;32m     85\u001b[0m         \"\"\"\n\u001b[0;32m---> 86\u001b[0;31m         \u001b[0mself\u001b[0m\u001b[0;34m.\u001b[0m\u001b[0m_click_handlers\u001b[0m\u001b[0;34m.\u001b[0m\u001b[0mregister_callback\u001b[0m\u001b[0;34m(\u001b[0m\u001b[0mcallback\u001b[0m\u001b[0;34m,\u001b[0m \u001b[0mremove\u001b[0m\u001b[0;34m=\u001b[0m\u001b[0mremove\u001b[0m\u001b[0;34m)\u001b[0m\u001b[0;34m\u001b[0m\u001b[0m\n\u001b[0m\u001b[1;32m     87\u001b[0m \u001b[0;34m\u001b[0m\u001b[0m\n\u001b[1;32m     88\u001b[0m     \u001b[0;32mdef\u001b[0m \u001b[0m_handle_button_msg\u001b[0m\u001b[0;34m(\u001b[0m\u001b[0mself\u001b[0m\u001b[0;34m,\u001b[0m \u001b[0m_\u001b[0m\u001b[0;34m,\u001b[0m \u001b[0mcontent\u001b[0m\u001b[0;34m,\u001b[0m \u001b[0mbuffers\u001b[0m\u001b[0;34m)\u001b[0m\u001b[0;34m:\u001b[0m\u001b[0;34m\u001b[0m\u001b[0m\n",
         "\u001b[0;32m~/anaconda3/lib/python3.6/site-packages/ipywidgets/widgets/widget.py\u001b[0m in \u001b[0;36mregister_callback\u001b[0;34m(self, callback, remove)\u001b[0m\n\u001b[1;32m    194\u001b[0m         \u001b[0;32mreturn\u001b[0m \u001b[0mvalue\u001b[0m\u001b[0;34m\u001b[0m\u001b[0m\n\u001b[1;32m    195\u001b[0m \u001b[0;34m\u001b[0m\u001b[0m\n\u001b[0;32m--> 196\u001b[0;31m     \u001b[0;32mdef\u001b[0m \u001b[0mregister_callback\u001b[0m\u001b[0;34m(\u001b[0m\u001b[0mself\u001b[0m\u001b[0;34m,\u001b[0m \u001b[0mcallback\u001b[0m\u001b[0;34m,\u001b[0m \u001b[0mremove\u001b[0m\u001b[0;34m=\u001b[0m\u001b[0;32mFalse\u001b[0m\u001b[0;34m)\u001b[0m\u001b[0;34m:\u001b[0m\u001b[0;34m\u001b[0m\u001b[0m\n\u001b[0m\u001b[1;32m    197\u001b[0m         \"\"\"(Un)Register a callback\n\u001b[1;32m    198\u001b[0m \u001b[0;34m\u001b[0m\u001b[0m\n",
         "\u001b[0;31mKeyboardInterrupt\u001b[0m: "
        ]
       }
      ],
      "source": "from WriteObject import WriteObject\n\nWO = WriteObject()\n\nWO.SEEKForm()",
      "start_time": "2019-03-16T16:12:51.383Z"
     },
     {
      "end_time": "2019-03-16T16:14:25.148Z",
      "execution_time": "15.5s",
      "outputs": [
       {
        "data": {
         "text/html": "<h3>SEEK FORM</h3>",
         "text/plain": "<IPython.core.display.HTML object>"
        },
        "metadata": {},
        "output_type": "display_data",
        "transient": {}
       },
       {
        "name": "stdout",
        "output_type": "stream",
        "text": "\nThe type of object you want to upload to SEEK: assays\n\nYou need to complete the following form in order to succesfully upload your information to SEEK\nPlease specify the description: a\nPlease specify other creators: a\nPlease specify the title: \nPlease specify the assay class description: a\n"
       },
       {
        "data": {
         "application/vnd.jupyter.widget-view+json": {
          "model_id": "99fea7f87b44414eb9d39d84ddaa0f4c",
          "version_major": 2,
          "version_minor": 0
         },
         "text/plain": "Select(description='Assay Class Key', options=('EXP', 'MODEL'), rows=2, value='EXP')"
        },
        "metadata": {},
        "output_type": "display_data",
        "transient": {}
       },
       {
        "data": {
         "application/vnd.jupyter.widget-view+json": {
          "model_id": "9e94c25822704c538336d9ace72d929c",
          "version_major": 2,
          "version_minor": 0
         },
         "text/plain": "Button(description='Accept', icon='check', style=ButtonStyle(), tooltip='Select')"
        },
        "metadata": {},
        "output_type": "display_data",
        "transient": {}
       },
       {
        "ename": "KeyboardInterrupt",
        "evalue": "",
        "output_type": "error",
        "traceback": [
         "\u001b[0;31m---------------------------------------------------------------------------\u001b[0m",
         "\u001b[0;31mKeyboardInterrupt\u001b[0m                         Traceback (most recent call last)",
         "\u001b[0;32m~/anaconda3/lib/python3.6/site-packages/ipykernel/kernelbase.py\u001b[0m in \u001b[0;36m_input_request\u001b[0;34m(self, prompt, ident, parent, password)\u001b[0m\n\u001b[1;32m    728\u001b[0m             \u001b[0;32mtry\u001b[0m\u001b[0;34m:\u001b[0m\u001b[0;34m\u001b[0m\u001b[0m\n\u001b[0;32m--> 729\u001b[0;31m                 \u001b[0mident\u001b[0m\u001b[0;34m,\u001b[0m \u001b[0mreply\u001b[0m \u001b[0;34m=\u001b[0m \u001b[0mself\u001b[0m\u001b[0;34m.\u001b[0m\u001b[0msession\u001b[0m\u001b[0;34m.\u001b[0m\u001b[0mrecv\u001b[0m\u001b[0;34m(\u001b[0m\u001b[0mself\u001b[0m\u001b[0;34m.\u001b[0m\u001b[0mstdin_socket\u001b[0m\u001b[0;34m,\u001b[0m \u001b[0;36m0\u001b[0m\u001b[0;34m)\u001b[0m\u001b[0;34m\u001b[0m\u001b[0m\n\u001b[0m\u001b[1;32m    730\u001b[0m             \u001b[0;32mexcept\u001b[0m \u001b[0mException\u001b[0m\u001b[0;34m:\u001b[0m\u001b[0;34m\u001b[0m\u001b[0m\n",
         "\u001b[0;32m~/anaconda3/lib/python3.6/site-packages/jupyter_client/session.py\u001b[0m in \u001b[0;36mrecv\u001b[0;34m(self, socket, mode, content, copy)\u001b[0m\n\u001b[1;32m    802\u001b[0m         \u001b[0;32mtry\u001b[0m\u001b[0;34m:\u001b[0m\u001b[0;34m\u001b[0m\u001b[0m\n\u001b[0;32m--> 803\u001b[0;31m             \u001b[0mmsg_list\u001b[0m \u001b[0;34m=\u001b[0m \u001b[0msocket\u001b[0m\u001b[0;34m.\u001b[0m\u001b[0mrecv_multipart\u001b[0m\u001b[0;34m(\u001b[0m\u001b[0mmode\u001b[0m\u001b[0;34m,\u001b[0m \u001b[0mcopy\u001b[0m\u001b[0;34m=\u001b[0m\u001b[0mcopy\u001b[0m\u001b[0;34m)\u001b[0m\u001b[0;34m\u001b[0m\u001b[0m\n\u001b[0m\u001b[1;32m    804\u001b[0m         \u001b[0;32mexcept\u001b[0m \u001b[0mzmq\u001b[0m\u001b[0;34m.\u001b[0m\u001b[0mZMQError\u001b[0m \u001b[0;32mas\u001b[0m \u001b[0me\u001b[0m\u001b[0;34m:\u001b[0m\u001b[0;34m\u001b[0m\u001b[0m\n",
         "\u001b[0;32m~/anaconda3/lib/python3.6/site-packages/zmq/sugar/socket.py\u001b[0m in \u001b[0;36mrecv_multipart\u001b[0;34m(self, flags, copy, track)\u001b[0m\n\u001b[1;32m    465\u001b[0m         \"\"\"\n\u001b[0;32m--> 466\u001b[0;31m         \u001b[0mparts\u001b[0m \u001b[0;34m=\u001b[0m \u001b[0;34m[\u001b[0m\u001b[0mself\u001b[0m\u001b[0;34m.\u001b[0m\u001b[0mrecv\u001b[0m\u001b[0;34m(\u001b[0m\u001b[0mflags\u001b[0m\u001b[0;34m,\u001b[0m \u001b[0mcopy\u001b[0m\u001b[0;34m=\u001b[0m\u001b[0mcopy\u001b[0m\u001b[0;34m,\u001b[0m \u001b[0mtrack\u001b[0m\u001b[0;34m=\u001b[0m\u001b[0mtrack\u001b[0m\u001b[0;34m)\u001b[0m\u001b[0;34m]\u001b[0m\u001b[0;34m\u001b[0m\u001b[0m\n\u001b[0m\u001b[1;32m    467\u001b[0m         \u001b[0;31m# have first part already, only loop while more to receive\u001b[0m\u001b[0;34m\u001b[0m\u001b[0;34m\u001b[0m\u001b[0m\n",
         "\u001b[0;32mzmq/backend/cython/socket.pyx\u001b[0m in \u001b[0;36mzmq.backend.cython.socket.Socket.recv\u001b[0;34m()\u001b[0m\n",
         "\u001b[0;32mzmq/backend/cython/socket.pyx\u001b[0m in \u001b[0;36mzmq.backend.cython.socket.Socket.recv\u001b[0;34m()\u001b[0m\n",
         "\u001b[0;32mzmq/backend/cython/socket.pyx\u001b[0m in \u001b[0;36mzmq.backend.cython.socket._recv_copy\u001b[0;34m()\u001b[0m\n",
         "\u001b[0;32m~/anaconda3/lib/python3.6/site-packages/zmq/backend/cython/checkrc.pxd\u001b[0m in \u001b[0;36mzmq.backend.cython.checkrc._check_rc\u001b[0;34m()\u001b[0m\n",
         "\u001b[0;31mKeyboardInterrupt\u001b[0m: ",
         "\nDuring handling of the above exception, another exception occurred:\n",
         "\u001b[0;31mKeyboardInterrupt\u001b[0m                         Traceback (most recent call last)",
         "\u001b[0;32m<ipython-input-1-cd480b0c800a>\u001b[0m in \u001b[0;36m<module>\u001b[0;34m()\u001b[0m\n\u001b[1;32m      3\u001b[0m \u001b[0mWO\u001b[0m \u001b[0;34m=\u001b[0m \u001b[0mWriteObject\u001b[0m\u001b[0;34m(\u001b[0m\u001b[0;34m)\u001b[0m\u001b[0;34m\u001b[0m\u001b[0m\n\u001b[1;32m      4\u001b[0m \u001b[0;34m\u001b[0m\u001b[0m\n\u001b[0;32m----> 5\u001b[0;31m \u001b[0mWO\u001b[0m\u001b[0;34m.\u001b[0m\u001b[0mSEEKForm\u001b[0m\u001b[0;34m(\u001b[0m\u001b[0;34m)\u001b[0m\u001b[0;34m\u001b[0m\u001b[0m\n\u001b[0m",
         "\u001b[0;32m~/Work/ThirdYear/Seek/TheSeekNotebook/WriteObject.py\u001b[0m in \u001b[0;36mSEEKForm\u001b[0;34m(self)\u001b[0m\n\u001b[1;32m     31\u001b[0m \u001b[0;34m\u001b[0m\u001b[0m\n\u001b[1;32m     32\u001b[0m         \u001b[0;32mif\u001b[0m \u001b[0mself\u001b[0m\u001b[0;34m.\u001b[0m\u001b[0mtype\u001b[0m \u001b[0;34m==\u001b[0m \u001b[0;34m'assays'\u001b[0m\u001b[0;34m:\u001b[0m\u001b[0;34m\u001b[0m\u001b[0m\n\u001b[0;32m---> 33\u001b[0;31m             \u001b[0mself\u001b[0m\u001b[0;34m.\u001b[0m\u001b[0mJSON\u001b[0m \u001b[0;34m=\u001b[0m \u001b[0mHelper\u001b[0m\u001b[0;34m.\u001b[0m\u001b[0massayFormat\u001b[0m\u001b[0;34m(\u001b[0m\u001b[0;34m)\u001b[0m\u001b[0;34m\u001b[0m\u001b[0m\n\u001b[0m\u001b[1;32m     34\u001b[0m         \u001b[0;32melif\u001b[0m \u001b[0mself\u001b[0m\u001b[0;34m.\u001b[0m\u001b[0mtype\u001b[0m \u001b[0;34m==\u001b[0m \u001b[0;34m'investigations'\u001b[0m\u001b[0;34m:\u001b[0m\u001b[0;34m\u001b[0m\u001b[0m\n\u001b[1;32m     35\u001b[0m             \u001b[0mself\u001b[0m\u001b[0;34m.\u001b[0m\u001b[0mJSON\u001b[0m \u001b[0;34m=\u001b[0m \u001b[0mHelper\u001b[0m\u001b[0;34m.\u001b[0m\u001b[0minvestigationFormat\u001b[0m\u001b[0;34m(\u001b[0m\u001b[0;34m)\u001b[0m\u001b[0;34m\u001b[0m\u001b[0m\n",
         "\u001b[0;32m~/Work/ThirdYear/Seek/TheSeekNotebook/Helper.py\u001b[0m in \u001b[0;36massayFormat\u001b[0;34m()\u001b[0m\n\u001b[1;32m     62\u001b[0m     \u001b[0mJSON\u001b[0m\u001b[0;34m[\u001b[0m\u001b[0;34m'data'\u001b[0m\u001b[0;34m]\u001b[0m\u001b[0;34m[\u001b[0m\u001b[0;34m'attributes'\u001b[0m\u001b[0;34m]\u001b[0m\u001b[0;34m[\u001b[0m\u001b[0;34m'assay_class'\u001b[0m\u001b[0;34m]\u001b[0m\u001b[0;34m[\u001b[0m\u001b[0;34m'key'\u001b[0m\u001b[0;34m]\u001b[0m \u001b[0;34m=\u001b[0m \u001b[0mselect\u001b[0m\u001b[0;34m.\u001b[0m\u001b[0mvalue\u001b[0m\u001b[0;34m\u001b[0m\u001b[0m\n\u001b[1;32m     63\u001b[0m         \u001b[0;31m# input('Please specify the assay class key(EXP / MODEL): ')\u001b[0m\u001b[0;34m\u001b[0m\u001b[0;34m\u001b[0m\u001b[0m\n\u001b[0;32m---> 64\u001b[0;31m     \u001b[0mJSON\u001b[0m\u001b[0;34m[\u001b[0m\u001b[0;34m'data'\u001b[0m\u001b[0;34m]\u001b[0m\u001b[0;34m[\u001b[0m\u001b[0;34m'attributes'\u001b[0m\u001b[0;34m]\u001b[0m\u001b[0;34m[\u001b[0m\u001b[0;34m'assay_class'\u001b[0m\u001b[0;34m]\u001b[0m\u001b[0;34m[\u001b[0m\u001b[0;34m'title'\u001b[0m\u001b[0;34m]\u001b[0m \u001b[0;34m=\u001b[0m \u001b[0minput\u001b[0m\u001b[0;34m(\u001b[0m\u001b[0;34m'Please specify the assay class title(Experimental assay / Modelling Analysis): '\u001b[0m\u001b[0;34m)\u001b[0m\u001b[0;34m\u001b[0m\u001b[0m\n\u001b[0m\u001b[1;32m     65\u001b[0m \u001b[0;34m\u001b[0m\u001b[0m\n\u001b[1;32m     66\u001b[0m     \u001b[0mJSON\u001b[0m\u001b[0;34m[\u001b[0m\u001b[0;34m'data'\u001b[0m\u001b[0;34m]\u001b[0m\u001b[0;34m[\u001b[0m\u001b[0;34m'attributes'\u001b[0m\u001b[0;34m]\u001b[0m\u001b[0;34m[\u001b[0m\u001b[0;34m'assay_type'\u001b[0m\u001b[0;34m]\u001b[0m \u001b[0;34m=\u001b[0m \u001b[0;34m{\u001b[0m\u001b[0;34m}\u001b[0m\u001b[0;34m\u001b[0m\u001b[0m\n",
         "\u001b[0;32m~/anaconda3/lib/python3.6/site-packages/ipykernel/kernelbase.py\u001b[0m in \u001b[0;36mraw_input\u001b[0;34m(self, prompt)\u001b[0m\n\u001b[1;32m    702\u001b[0m             \u001b[0mself\u001b[0m\u001b[0;34m.\u001b[0m\u001b[0m_parent_ident\u001b[0m\u001b[0;34m,\u001b[0m\u001b[0;34m\u001b[0m\u001b[0m\n\u001b[1;32m    703\u001b[0m             \u001b[0mself\u001b[0m\u001b[0;34m.\u001b[0m\u001b[0m_parent_header\u001b[0m\u001b[0;34m,\u001b[0m\u001b[0;34m\u001b[0m\u001b[0m\n\u001b[0;32m--> 704\u001b[0;31m             \u001b[0mpassword\u001b[0m\u001b[0;34m=\u001b[0m\u001b[0;32mFalse\u001b[0m\u001b[0;34m,\u001b[0m\u001b[0;34m\u001b[0m\u001b[0m\n\u001b[0m\u001b[1;32m    705\u001b[0m         )\n\u001b[1;32m    706\u001b[0m \u001b[0;34m\u001b[0m\u001b[0m\n",
         "\u001b[0;32m~/anaconda3/lib/python3.6/site-packages/ipykernel/kernelbase.py\u001b[0m in \u001b[0;36m_input_request\u001b[0;34m(self, prompt, ident, parent, password)\u001b[0m\n\u001b[1;32m    732\u001b[0m             \u001b[0;32mexcept\u001b[0m \u001b[0mKeyboardInterrupt\u001b[0m\u001b[0;34m:\u001b[0m\u001b[0;34m\u001b[0m\u001b[0m\n\u001b[1;32m    733\u001b[0m                 \u001b[0;31m# re-raise KeyboardInterrupt, to truncate traceback\u001b[0m\u001b[0;34m\u001b[0m\u001b[0;34m\u001b[0m\u001b[0m\n\u001b[0;32m--> 734\u001b[0;31m                 \u001b[0;32mraise\u001b[0m \u001b[0mKeyboardInterrupt\u001b[0m\u001b[0;34m\u001b[0m\u001b[0m\n\u001b[0m\u001b[1;32m    735\u001b[0m             \u001b[0;32melse\u001b[0m\u001b[0;34m:\u001b[0m\u001b[0;34m\u001b[0m\u001b[0m\n\u001b[1;32m    736\u001b[0m                 \u001b[0;32mbreak\u001b[0m\u001b[0;34m\u001b[0m\u001b[0m\n",
         "\u001b[0;31mKeyboardInterrupt\u001b[0m: "
        ]
       }
      ],
      "source": "from WriteObject import WriteObject\n\nWO = WriteObject()\n\nWO.SEEKForm()",
      "start_time": "2019-03-16T16:14:09.681Z"
     },
     {
      "end_time": "2019-03-19T13:55:04.945Z",
      "execution_time": "2d 21h 40m",
      "outputs": [],
      "source": "from WriteObject import WriteObject\n\nWO = WriteObject()\n\nWO.SEEKForm()",
      "start_time": "2019-03-16T16:14:09.681Z"
     },
     {
      "end_time": "2019-03-19T13:57:00.672Z",
      "execution_time": "1m 50.9s",
      "outputs": [
       {
        "data": {
         "text/html": "<h3>SEEK FORM</h3>",
         "text/plain": "<IPython.core.display.HTML object>"
        },
        "metadata": {},
        "output_type": "display_data",
        "transient": {}
       },
       {
        "name": "stdout",
        "output_type": "stream",
        "text": "\nThe type of object you want to upload to SEEK: assays\n\nYou need to complete the following form in order to succesfully upload your information to SEEK\n"
       },
       {
        "ename": "KeyboardInterrupt",
        "evalue": "",
        "output_type": "error",
        "traceback": [
         "\u001b[0;31m---------------------------------------------------------------------------\u001b[0m",
         "\u001b[0;31mKeyboardInterrupt\u001b[0m                         Traceback (most recent call last)",
         "\u001b[0;32m~/anaconda3/lib/python3.6/site-packages/ipykernel/kernelbase.py\u001b[0m in \u001b[0;36m_input_request\u001b[0;34m(self, prompt, ident, parent, password)\u001b[0m\n\u001b[1;32m    728\u001b[0m             \u001b[0;32mtry\u001b[0m\u001b[0;34m:\u001b[0m\u001b[0;34m\u001b[0m\u001b[0m\n\u001b[0;32m--> 729\u001b[0;31m                 \u001b[0mident\u001b[0m\u001b[0;34m,\u001b[0m \u001b[0mreply\u001b[0m \u001b[0;34m=\u001b[0m \u001b[0mself\u001b[0m\u001b[0;34m.\u001b[0m\u001b[0msession\u001b[0m\u001b[0;34m.\u001b[0m\u001b[0mrecv\u001b[0m\u001b[0;34m(\u001b[0m\u001b[0mself\u001b[0m\u001b[0;34m.\u001b[0m\u001b[0mstdin_socket\u001b[0m\u001b[0;34m,\u001b[0m \u001b[0;36m0\u001b[0m\u001b[0;34m)\u001b[0m\u001b[0;34m\u001b[0m\u001b[0m\n\u001b[0m\u001b[1;32m    730\u001b[0m             \u001b[0;32mexcept\u001b[0m \u001b[0mException\u001b[0m\u001b[0;34m:\u001b[0m\u001b[0;34m\u001b[0m\u001b[0m\n",
         "\u001b[0;32m~/anaconda3/lib/python3.6/site-packages/jupyter_client/session.py\u001b[0m in \u001b[0;36mrecv\u001b[0;34m(self, socket, mode, content, copy)\u001b[0m\n\u001b[1;32m    802\u001b[0m         \u001b[0;32mtry\u001b[0m\u001b[0;34m:\u001b[0m\u001b[0;34m\u001b[0m\u001b[0m\n\u001b[0;32m--> 803\u001b[0;31m             \u001b[0mmsg_list\u001b[0m \u001b[0;34m=\u001b[0m \u001b[0msocket\u001b[0m\u001b[0;34m.\u001b[0m\u001b[0mrecv_multipart\u001b[0m\u001b[0;34m(\u001b[0m\u001b[0mmode\u001b[0m\u001b[0;34m,\u001b[0m \u001b[0mcopy\u001b[0m\u001b[0;34m=\u001b[0m\u001b[0mcopy\u001b[0m\u001b[0;34m)\u001b[0m\u001b[0;34m\u001b[0m\u001b[0m\n\u001b[0m\u001b[1;32m    804\u001b[0m         \u001b[0;32mexcept\u001b[0m \u001b[0mzmq\u001b[0m\u001b[0;34m.\u001b[0m\u001b[0mZMQError\u001b[0m \u001b[0;32mas\u001b[0m \u001b[0me\u001b[0m\u001b[0;34m:\u001b[0m\u001b[0;34m\u001b[0m\u001b[0m\n",
         "\u001b[0;32m~/anaconda3/lib/python3.6/site-packages/zmq/sugar/socket.py\u001b[0m in \u001b[0;36mrecv_multipart\u001b[0;34m(self, flags, copy, track)\u001b[0m\n\u001b[1;32m    465\u001b[0m         \"\"\"\n\u001b[0;32m--> 466\u001b[0;31m         \u001b[0mparts\u001b[0m \u001b[0;34m=\u001b[0m \u001b[0;34m[\u001b[0m\u001b[0mself\u001b[0m\u001b[0;34m.\u001b[0m\u001b[0mrecv\u001b[0m\u001b[0;34m(\u001b[0m\u001b[0mflags\u001b[0m\u001b[0;34m,\u001b[0m \u001b[0mcopy\u001b[0m\u001b[0;34m=\u001b[0m\u001b[0mcopy\u001b[0m\u001b[0;34m,\u001b[0m \u001b[0mtrack\u001b[0m\u001b[0;34m=\u001b[0m\u001b[0mtrack\u001b[0m\u001b[0;34m)\u001b[0m\u001b[0;34m]\u001b[0m\u001b[0;34m\u001b[0m\u001b[0m\n\u001b[0m\u001b[1;32m    467\u001b[0m         \u001b[0;31m# have first part already, only loop while more to receive\u001b[0m\u001b[0;34m\u001b[0m\u001b[0;34m\u001b[0m\u001b[0m\n",
         "\u001b[0;32mzmq/backend/cython/socket.pyx\u001b[0m in \u001b[0;36mzmq.backend.cython.socket.Socket.recv\u001b[0;34m()\u001b[0m\n",
         "\u001b[0;32mzmq/backend/cython/socket.pyx\u001b[0m in \u001b[0;36mzmq.backend.cython.socket.Socket.recv\u001b[0;34m()\u001b[0m\n",
         "\u001b[0;32mzmq/backend/cython/socket.pyx\u001b[0m in \u001b[0;36mzmq.backend.cython.socket._recv_copy\u001b[0;34m()\u001b[0m\n",
         "\u001b[0;32m~/anaconda3/lib/python3.6/site-packages/zmq/backend/cython/checkrc.pxd\u001b[0m in \u001b[0;36mzmq.backend.cython.checkrc._check_rc\u001b[0;34m()\u001b[0m\n",
         "\u001b[0;31mKeyboardInterrupt\u001b[0m: ",
         "\nDuring handling of the above exception, another exception occurred:\n",
         "\u001b[0;31mKeyboardInterrupt\u001b[0m                         Traceback (most recent call last)",
         "\u001b[0;32m<ipython-input-1-cd480b0c800a>\u001b[0m in \u001b[0;36m<module>\u001b[0;34m()\u001b[0m\n\u001b[1;32m      3\u001b[0m \u001b[0mWO\u001b[0m \u001b[0;34m=\u001b[0m \u001b[0mWriteObject\u001b[0m\u001b[0;34m(\u001b[0m\u001b[0;34m)\u001b[0m\u001b[0;34m\u001b[0m\u001b[0m\n\u001b[1;32m      4\u001b[0m \u001b[0;34m\u001b[0m\u001b[0m\n\u001b[0;32m----> 5\u001b[0;31m \u001b[0mWO\u001b[0m\u001b[0;34m.\u001b[0m\u001b[0mSEEKForm\u001b[0m\u001b[0;34m(\u001b[0m\u001b[0;34m)\u001b[0m\u001b[0;34m\u001b[0m\u001b[0m\n\u001b[0m",
         "\u001b[0;32m~/Work/ThirdYear/Seek/TheSeekNotebook/WriteObject.py\u001b[0m in \u001b[0;36mSEEKForm\u001b[0;34m(self)\u001b[0m\n\u001b[1;32m     30\u001b[0m \u001b[0;34m\u001b[0m\u001b[0m\n\u001b[1;32m     31\u001b[0m         \u001b[0;32mif\u001b[0m \u001b[0mself\u001b[0m\u001b[0;34m.\u001b[0m\u001b[0mtype\u001b[0m \u001b[0;34m==\u001b[0m \u001b[0;34m'assays'\u001b[0m\u001b[0;34m:\u001b[0m\u001b[0;34m\u001b[0m\u001b[0m\n\u001b[0;32m---> 32\u001b[0;31m             \u001b[0mself\u001b[0m\u001b[0;34m.\u001b[0m\u001b[0mJSON\u001b[0m \u001b[0;34m=\u001b[0m \u001b[0mHelper\u001b[0m\u001b[0;34m.\u001b[0m\u001b[0massayFormat\u001b[0m\u001b[0;34m(\u001b[0m\u001b[0;34m)\u001b[0m\u001b[0;34m\u001b[0m\u001b[0m\n\u001b[0m\u001b[1;32m     33\u001b[0m         \u001b[0;32melif\u001b[0m \u001b[0mself\u001b[0m\u001b[0;34m.\u001b[0m\u001b[0mtype\u001b[0m \u001b[0;34m==\u001b[0m \u001b[0;34m'investigations'\u001b[0m\u001b[0;34m:\u001b[0m\u001b[0;34m\u001b[0m\u001b[0m\n\u001b[1;32m     34\u001b[0m             \u001b[0mself\u001b[0m\u001b[0;34m.\u001b[0m\u001b[0mJSON\u001b[0m \u001b[0;34m=\u001b[0m \u001b[0mHelper\u001b[0m\u001b[0;34m.\u001b[0m\u001b[0minvestigationFormat\u001b[0m\u001b[0;34m(\u001b[0m\u001b[0;34m)\u001b[0m\u001b[0;34m\u001b[0m\u001b[0m\n",
         "\u001b[0;32m~/Work/ThirdYear/Seek/TheSeekNotebook/Helper.py\u001b[0m in \u001b[0;36massayFormat\u001b[0;34m()\u001b[0m\n\u001b[1;32m     34\u001b[0m \u001b[0;34m\u001b[0m\u001b[0m\n\u001b[1;32m     35\u001b[0m     \u001b[0mJSON\u001b[0m\u001b[0;34m[\u001b[0m\u001b[0;34m'data'\u001b[0m\u001b[0;34m]\u001b[0m\u001b[0;34m[\u001b[0m\u001b[0;34m'attributes'\u001b[0m\u001b[0;34m]\u001b[0m \u001b[0;34m=\u001b[0m \u001b[0;34m{\u001b[0m\u001b[0;34m}\u001b[0m\u001b[0;34m\u001b[0m\u001b[0m\n\u001b[0;32m---> 36\u001b[0;31m     \u001b[0mJSON\u001b[0m\u001b[0;34m[\u001b[0m\u001b[0;34m'data'\u001b[0m\u001b[0;34m]\u001b[0m\u001b[0;34m[\u001b[0m\u001b[0;34m'attributes'\u001b[0m\u001b[0;34m]\u001b[0m\u001b[0;34m[\u001b[0m\u001b[0;34m'description'\u001b[0m\u001b[0;34m]\u001b[0m \u001b[0;34m=\u001b[0m \u001b[0minput\u001b[0m\u001b[0;34m(\u001b[0m\u001b[0;34m'Please specify the description: '\u001b[0m\u001b[0;34m)\u001b[0m\u001b[0;34m\u001b[0m\u001b[0m\n\u001b[0m\u001b[1;32m     37\u001b[0m     \u001b[0mJSON\u001b[0m\u001b[0;34m[\u001b[0m\u001b[0;34m'data'\u001b[0m\u001b[0;34m]\u001b[0m\u001b[0;34m[\u001b[0m\u001b[0;34m'attributes'\u001b[0m\u001b[0;34m]\u001b[0m\u001b[0;34m[\u001b[0m\u001b[0;34m'other_creators'\u001b[0m\u001b[0;34m]\u001b[0m \u001b[0;34m=\u001b[0m \u001b[0minput\u001b[0m\u001b[0;34m(\u001b[0m\u001b[0;34m'Please specify other creators: '\u001b[0m\u001b[0;34m)\u001b[0m\u001b[0;34m\u001b[0m\u001b[0m\n\u001b[1;32m     38\u001b[0m     \u001b[0;31m# JSON['data']['attributes']['snapshots'] = input('Please specify the snapshots: ')\u001b[0m\u001b[0;34m\u001b[0m\u001b[0;34m\u001b[0m\u001b[0m\n",
         "\u001b[0;32m~/anaconda3/lib/python3.6/site-packages/ipykernel/kernelbase.py\u001b[0m in \u001b[0;36mraw_input\u001b[0;34m(self, prompt)\u001b[0m\n\u001b[1;32m    702\u001b[0m             \u001b[0mself\u001b[0m\u001b[0;34m.\u001b[0m\u001b[0m_parent_ident\u001b[0m\u001b[0;34m,\u001b[0m\u001b[0;34m\u001b[0m\u001b[0m\n\u001b[1;32m    703\u001b[0m             \u001b[0mself\u001b[0m\u001b[0;34m.\u001b[0m\u001b[0m_parent_header\u001b[0m\u001b[0;34m,\u001b[0m\u001b[0;34m\u001b[0m\u001b[0m\n\u001b[0;32m--> 704\u001b[0;31m             \u001b[0mpassword\u001b[0m\u001b[0;34m=\u001b[0m\u001b[0;32mFalse\u001b[0m\u001b[0;34m,\u001b[0m\u001b[0;34m\u001b[0m\u001b[0m\n\u001b[0m\u001b[1;32m    705\u001b[0m         )\n\u001b[1;32m    706\u001b[0m \u001b[0;34m\u001b[0m\u001b[0m\n",
         "\u001b[0;32m~/anaconda3/lib/python3.6/site-packages/ipykernel/kernelbase.py\u001b[0m in \u001b[0;36m_input_request\u001b[0;34m(self, prompt, ident, parent, password)\u001b[0m\n\u001b[1;32m    732\u001b[0m             \u001b[0;32mexcept\u001b[0m \u001b[0mKeyboardInterrupt\u001b[0m\u001b[0;34m:\u001b[0m\u001b[0;34m\u001b[0m\u001b[0m\n\u001b[1;32m    733\u001b[0m                 \u001b[0;31m# re-raise KeyboardInterrupt, to truncate traceback\u001b[0m\u001b[0;34m\u001b[0m\u001b[0;34m\u001b[0m\u001b[0m\n\u001b[0;32m--> 734\u001b[0;31m                 \u001b[0;32mraise\u001b[0m \u001b[0mKeyboardInterrupt\u001b[0m\u001b[0;34m\u001b[0m\u001b[0m\n\u001b[0m\u001b[1;32m    735\u001b[0m             \u001b[0;32melse\u001b[0m\u001b[0;34m:\u001b[0m\u001b[0;34m\u001b[0m\u001b[0m\n\u001b[1;32m    736\u001b[0m                 \u001b[0;32mbreak\u001b[0m\u001b[0;34m\u001b[0m\u001b[0m\n",
         "\u001b[0;31mKeyboardInterrupt\u001b[0m: "
        ]
       }
      ],
      "source": "from WriteObject import WriteObject\n\nWO = WriteObject()\n\nWO.SEEKForm()\ninput()",
      "start_time": "2019-03-19T13:55:09.769Z"
     },
     {
      "end_time": "2019-03-19T14:07:38.931Z",
      "execution_time": "20ms",
      "outputs": [
       {
        "ename": "SyntaxError",
        "evalue": "EOL while scanning string literal (WriteObject.py, line 28)",
        "output_type": "error",
        "traceback": [
         "Traceback \u001b[0;36m(most recent call last)\u001b[0m:\n",
         "  File \u001b[1;32m\"/home/bogdan/anaconda3/lib/python3.6/site-packages/IPython/core/interactiveshell.py\"\u001b[0m, line \u001b[1;32m2963\u001b[0m, in \u001b[1;35mrun_code\u001b[0m\n    exec(code_obj, self.user_global_ns, self.user_ns)\n",
         "\u001b[0;36m  File \u001b[0;32m\"<ipython-input-1-db0ce1ca52c6>\"\u001b[0;36m, line \u001b[0;32m1\u001b[0;36m, in \u001b[0;35m<module>\u001b[0;36m\u001b[0m\n\u001b[0;31m    from WriteObject import WriteObject\u001b[0m\n",
         "\u001b[0;36m  File \u001b[0;32m\"/home/bogdan/Work/ThirdYear/Seek/TheSeekNotebook/WriteObject.py\"\u001b[0;36m, line \u001b[0;32m28\u001b[0m\n\u001b[0;31m    self.type = widgets.Dropdown(options=[\"assays\",\"data_files\"],description=\"\\nThe type of object you want to upload to SEEK: ')\u001b[0m\n\u001b[0m                                                                                                                                 ^\u001b[0m\n\u001b[0;31mSyntaxError\u001b[0m\u001b[0;31m:\u001b[0m EOL while scanning string literal\n"
        ]
       }
      ],
      "source": "from WriteObject import WriteObject\n\nWO = WriteObject()\n\nWO.SEEKForm()\ninput()",
      "start_time": "2019-03-19T14:07:38.911Z"
     },
     {
      "end_time": "2019-03-19T14:07:58.690Z",
      "execution_time": "162ms",
      "outputs": [
       {
        "data": {
         "text/html": "<h3>SEEK FORM</h3>",
         "text/plain": "<IPython.core.display.HTML object>"
        },
        "metadata": {},
        "output_type": "display_data",
        "transient": {}
       },
       {
        "name": "stdout",
        "output_type": "stream",
        "text": "\nYou need to complete the following form in order to succesfully upload your information to SEEK\n"
       },
       {
        "ename": "AttributeError",
        "evalue": "'WriteObject' object has no attribute 'JSON'",
        "output_type": "error",
        "traceback": [
         "\u001b[0;31m---------------------------------------------------------------------------\u001b[0m",
         "\u001b[0;31mAttributeError\u001b[0m                            Traceback (most recent call last)",
         "\u001b[0;32m<ipython-input-1-db0ce1ca52c6>\u001b[0m in \u001b[0;36m<module>\u001b[0;34m()\u001b[0m\n\u001b[1;32m      3\u001b[0m \u001b[0mWO\u001b[0m \u001b[0;34m=\u001b[0m \u001b[0mWriteObject\u001b[0m\u001b[0;34m(\u001b[0m\u001b[0;34m)\u001b[0m\u001b[0;34m\u001b[0m\u001b[0m\n\u001b[1;32m      4\u001b[0m \u001b[0;34m\u001b[0m\u001b[0m\n\u001b[0;32m----> 5\u001b[0;31m \u001b[0mWO\u001b[0m\u001b[0;34m.\u001b[0m\u001b[0mSEEKForm\u001b[0m\u001b[0;34m(\u001b[0m\u001b[0;34m)\u001b[0m\u001b[0;34m\u001b[0m\u001b[0m\n\u001b[0m\u001b[1;32m      6\u001b[0m \u001b[0minput\u001b[0m\u001b[0;34m(\u001b[0m\u001b[0;34m)\u001b[0m\u001b[0;34m\u001b[0m\u001b[0m\n",
         "\u001b[0;32m~/Work/ThirdYear/Seek/TheSeekNotebook/WriteObject.py\u001b[0m in \u001b[0;36mSEEKForm\u001b[0;34m(self)\u001b[0m\n\u001b[1;32m     36\u001b[0m             \u001b[0mself\u001b[0m\u001b[0;34m.\u001b[0m\u001b[0mJSON\u001b[0m \u001b[0;34m=\u001b[0m \u001b[0mHelper\u001b[0m\u001b[0;34m.\u001b[0m\u001b[0mstudyFormat\u001b[0m\u001b[0;34m(\u001b[0m\u001b[0;34m)\u001b[0m\u001b[0;34m\u001b[0m\u001b[0m\n\u001b[1;32m     37\u001b[0m \u001b[0;34m\u001b[0m\u001b[0m\n\u001b[0;32m---> 38\u001b[0;31m         \u001b[0mprint\u001b[0m\u001b[0;34m(\u001b[0m\u001b[0mself\u001b[0m\u001b[0;34m.\u001b[0m\u001b[0mJSON\u001b[0m\u001b[0;34m)\u001b[0m\u001b[0;34m\u001b[0m\u001b[0m\n\u001b[0m\u001b[1;32m     39\u001b[0m \u001b[0;34m\u001b[0m\u001b[0m\n\u001b[1;32m     40\u001b[0m     \u001b[0;32mdef\u001b[0m \u001b[0mrequest\u001b[0m\u001b[0;34m(\u001b[0m\u001b[0mself\u001b[0m\u001b[0;34m)\u001b[0m\u001b[0;34m:\u001b[0m\u001b[0;34m\u001b[0m\u001b[0m\n",
         "\u001b[0;31mAttributeError\u001b[0m: 'WriteObject' object has no attribute 'JSON'"
        ]
       }
      ],
      "source": "from WriteObject import WriteObject\n\nWO = WriteObject()\n\nWO.SEEKForm()\ninput()",
      "start_time": "2019-03-19T14:07:58.528Z"
     },
     {
      "end_time": "2019-03-19T14:08:30.675Z",
      "execution_time": "20ms",
      "outputs": [
       {
        "data": {
         "text/html": "<h3>SEEK FORM</h3>",
         "text/plain": "<IPython.core.display.HTML object>"
        },
        "metadata": {},
        "output_type": "display_data",
        "transient": {}
       },
       {
        "name": "stdout",
        "output_type": "stream",
        "text": "\nYou need to complete the following form in order to succesfully upload your information to SEEK\n"
       },
       {
        "ename": "AttributeError",
        "evalue": "'WriteObject' object has no attribute 'JSON'",
        "output_type": "error",
        "traceback": [
         "\u001b[0;31m---------------------------------------------------------------------------\u001b[0m",
         "\u001b[0;31mAttributeError\u001b[0m                            Traceback (most recent call last)",
         "\u001b[0;32m<ipython-input-2-db0ce1ca52c6>\u001b[0m in \u001b[0;36m<module>\u001b[0;34m()\u001b[0m\n\u001b[1;32m      3\u001b[0m \u001b[0mWO\u001b[0m \u001b[0;34m=\u001b[0m \u001b[0mWriteObject\u001b[0m\u001b[0;34m(\u001b[0m\u001b[0;34m)\u001b[0m\u001b[0;34m\u001b[0m\u001b[0m\n\u001b[1;32m      4\u001b[0m \u001b[0;34m\u001b[0m\u001b[0m\n\u001b[0;32m----> 5\u001b[0;31m \u001b[0mWO\u001b[0m\u001b[0;34m.\u001b[0m\u001b[0mSEEKForm\u001b[0m\u001b[0;34m(\u001b[0m\u001b[0;34m)\u001b[0m\u001b[0;34m\u001b[0m\u001b[0m\n\u001b[0m\u001b[1;32m      6\u001b[0m \u001b[0minput\u001b[0m\u001b[0;34m(\u001b[0m\u001b[0;34m)\u001b[0m\u001b[0;34m\u001b[0m\u001b[0m\n",
         "\u001b[0;32m~/Work/ThirdYear/Seek/TheSeekNotebook/WriteObject.py\u001b[0m in \u001b[0;36mSEEKForm\u001b[0;34m(self)\u001b[0m\n\u001b[1;32m     36\u001b[0m             \u001b[0mself\u001b[0m\u001b[0;34m.\u001b[0m\u001b[0mJSON\u001b[0m \u001b[0;34m=\u001b[0m \u001b[0mHelper\u001b[0m\u001b[0;34m.\u001b[0m\u001b[0mstudyFormat\u001b[0m\u001b[0;34m(\u001b[0m\u001b[0;34m)\u001b[0m\u001b[0;34m\u001b[0m\u001b[0m\n\u001b[1;32m     37\u001b[0m \u001b[0;34m\u001b[0m\u001b[0m\n\u001b[0;32m---> 38\u001b[0;31m         \u001b[0;31m# print(self.JSON)\u001b[0m\u001b[0;34m\u001b[0m\u001b[0;34m\u001b[0m\u001b[0m\n\u001b[0m\u001b[1;32m     39\u001b[0m \u001b[0;34m\u001b[0m\u001b[0m\n\u001b[1;32m     40\u001b[0m     \u001b[0;32mdef\u001b[0m \u001b[0mrequest\u001b[0m\u001b[0;34m(\u001b[0m\u001b[0mself\u001b[0m\u001b[0;34m)\u001b[0m\u001b[0;34m:\u001b[0m\u001b[0;34m\u001b[0m\u001b[0m\n",
         "\u001b[0;31mAttributeError\u001b[0m: 'WriteObject' object has no attribute 'JSON'"
        ]
       }
      ],
      "source": "from WriteObject import WriteObject\n\nWO = WriteObject()\n\nWO.SEEKForm()\ninput()",
      "start_time": "2019-03-19T14:08:30.655Z"
     },
     {
      "end_time": "2019-03-19T14:08:44.418Z",
      "execution_time": "4.02s",
      "outputs": [
       {
        "data": {
         "text/html": "<h3>SEEK FORM</h3>",
         "text/plain": "<IPython.core.display.HTML object>"
        },
        "metadata": {},
        "output_type": "display_data",
        "transient": {}
       },
       {
        "name": "stdout",
        "output_type": "stream",
        "text": "\nYou need to complete the following form in order to succesfully upload your information to SEEK\nuhm\n"
       },
       {
        "data": {
         "text/plain": "'uhm'"
        },
        "execution_count": 1,
        "metadata": {},
        "output_type": "execute_result"
       }
      ],
      "source": "from WriteObject import WriteObject\n\nWO = WriteObject()\n\nWO.SEEKForm()\ninput()",
      "start_time": "2019-03-19T14:08:40.400Z"
     },
     {
      "end_time": "2019-03-19T14:17:09.209Z",
      "execution_time": "8m 29s",
      "outputs": [],
      "source": "from WriteObject import WriteObject\n\nWO = WriteObject()\n\nWO.SEEKForm()\ninput()",
      "start_time": "2019-03-19T14:08:40.400Z"
     },
     {
      "end_time": "2019-03-19T14:18:30.845Z",
      "execution_time": "52.5s",
      "outputs": [
       {
        "data": {
         "text/html": "<h3>SEEK FORM</h3>",
         "text/plain": "<IPython.core.display.HTML object>"
        },
        "metadata": {},
        "output_type": "display_data",
        "transient": {}
       },
       {
        "name": "stdout",
        "output_type": "stream",
        "text": "\nThe type of object you want to upload to SEEK: assays\n\nYou need to complete the following form in order to succesfully upload your information to SEEK\nPlease specify the description: a\nPlease specify other creators: a\nPlease specify the title: a\nPlease specify the assay class title(Experimental assay / Modelling Analysis): a\nPlease specify the assay type label: a\nPlease specify the assay type uri: a\nPlease specify the technology type label: a\nPlease specify the technology type uri: a\nPlease specify how many creators is this assay related to: 0\nPlease specify how many data_files is this assay related to: 00\nPlease specify how many documents is this assay related to: 0\nPlease specify the id of the investigation: \nPlease specify how many models is this assay related to: 0\nPlease specify how many people is this assay related to: 0\nPlease specify how many projects is this assay related to: 0\nPlease specify how many publications is this assay related to: 0\nPlease specify how many sops is this assay related to: 0\nPlease specify the id of the studie: \nPlease specify how many submitters is this assay related to: 0\n{'data': {'type': 'assays', 'attributes': {'description': 'a', 'other_creators': 'a', 'title': 'a', 'assay_class': {'description': '', 'key': 'EXP', 'title': 'a'}, 'assay_type': {'label': 'a', 'uri': 'a'}, 'technology_type': {'label': 'a', 'uri': 'a'}}, 'relationships': {}}}\n\n"
       },
       {
        "data": {
         "text/plain": "''"
        },
        "execution_count": 1,
        "metadata": {},
        "output_type": "execute_result"
       }
      ],
      "source": "from WriteObject import WriteObject\n\nWO = WriteObject()\n\nWO.SEEKForm()\ninput()",
      "start_time": "2019-03-19T14:17:38.327Z"
     },
     {
      "end_time": "2019-03-19T16:29:51.163Z",
      "execution_time": "57ms",
      "outputs": [
       {
        "ename": "TypeError",
        "evalue": "'module' object is not callable",
        "output_type": "error",
        "traceback": [
         "\u001b[0;31m---------------------------------------------------------------------------\u001b[0m",
         "\u001b[0;31mTypeError\u001b[0m                                 Traceback (most recent call last)",
         "\u001b[0;32m<ipython-input-2-facb51c4f5ef>\u001b[0m in \u001b[0;36m<module>\u001b[0;34m()\u001b[0m\n\u001b[1;32m      1\u001b[0m \u001b[0;32mimport\u001b[0m \u001b[0mWriteObject\u001b[0m\u001b[0;34m\u001b[0m\u001b[0m\n\u001b[1;32m      2\u001b[0m \u001b[0;34m\u001b[0m\u001b[0m\n\u001b[0;32m----> 3\u001b[0;31m \u001b[0mWO\u001b[0m \u001b[0;34m=\u001b[0m \u001b[0mWriteObject\u001b[0m\u001b[0;34m(\u001b[0m\u001b[0;34m)\u001b[0m\u001b[0;34m\u001b[0m\u001b[0m\n\u001b[0m\u001b[1;32m      4\u001b[0m \u001b[0;34m\u001b[0m\u001b[0m\n\u001b[1;32m      5\u001b[0m \u001b[0mWO\u001b[0m\u001b[0;34m.\u001b[0m\u001b[0mSEEKForm\u001b[0m\u001b[0;34m(\u001b[0m\u001b[0;34m)\u001b[0m\u001b[0;34m\u001b[0m\u001b[0m\n",
         "\u001b[0;31mTypeError\u001b[0m: 'module' object is not callable"
        ]
       }
      ],
      "source": "import WriteObject\n\nWO = WriteObject()\n\nWO.SEEKForm()\ninput()",
      "start_time": "2019-03-19T16:29:51.106Z"
     },
     {
      "end_time": "2019-03-19T16:30:05.618Z",
      "execution_time": "8ms",
      "outputs": [
       {
        "ename": "TypeError",
        "evalue": "'module' object is not callable",
        "output_type": "error",
        "traceback": [
         "\u001b[0;31m---------------------------------------------------------------------------\u001b[0m",
         "\u001b[0;31mTypeError\u001b[0m                                 Traceback (most recent call last)",
         "\u001b[0;32m<ipython-input-3-7a2cc4b724fd>\u001b[0m in \u001b[0;36m<module>\u001b[0;34m()\u001b[0m\n\u001b[1;32m      1\u001b[0m \u001b[0;32mimport\u001b[0m \u001b[0mWriteObject\u001b[0m \u001b[0;32mas\u001b[0m \u001b[0mwo\u001b[0m\u001b[0;34m\u001b[0m\u001b[0m\n\u001b[1;32m      2\u001b[0m \u001b[0;34m\u001b[0m\u001b[0m\n\u001b[0;32m----> 3\u001b[0;31m \u001b[0mWO\u001b[0m \u001b[0;34m=\u001b[0m \u001b[0mwo\u001b[0m\u001b[0;34m(\u001b[0m\u001b[0;34m)\u001b[0m\u001b[0;34m\u001b[0m\u001b[0m\n\u001b[0m\u001b[1;32m      4\u001b[0m \u001b[0;34m\u001b[0m\u001b[0m\n\u001b[1;32m      5\u001b[0m \u001b[0mWO\u001b[0m\u001b[0;34m.\u001b[0m\u001b[0mSEEKForm\u001b[0m\u001b[0;34m(\u001b[0m\u001b[0;34m)\u001b[0m\u001b[0;34m\u001b[0m\u001b[0m\n",
         "\u001b[0;31mTypeError\u001b[0m: 'module' object is not callable"
        ]
       }
      ],
      "source": "import WriteObject as wo\n\nWO = wo()\n\nWO.SEEKForm()\ninput()",
      "start_time": "2019-03-19T16:30:05.610Z"
     },
     {
      "end_time": "2019-03-19T16:31:17.110Z",
      "execution_time": "1m 11.5s",
      "outputs": [],
      "source": "import WriteObject as wo\n\nWO = wo.WriteObject()\n\nWO.SEEKForm()",
      "start_time": "2019-03-19T16:30:05.610Z"
     },
     {
      "end_time": "2019-03-19T16:31:35.124Z",
      "execution_time": "495ms",
      "outputs": [
       {
        "data": {
         "text/html": "<h3>SEEK FORM</h3>",
         "text/plain": "<IPython.core.display.HTML object>"
        },
        "metadata": {},
        "output_type": "display_data",
        "transient": {}
       },
       {
        "name": "stdout",
        "output_type": "stream",
        "text": "\nYou need to complete the following form in order to succesfully upload your information to SEEK\n"
       },
       {
        "ename": "AttributeError",
        "evalue": "'WriteObject' object has no attribute 'JSON'",
        "output_type": "error",
        "traceback": [
         "\u001b[0;31m---------------------------------------------------------------------------\u001b[0m",
         "\u001b[0;31mAttributeError\u001b[0m                            Traceback (most recent call last)",
         "\u001b[0;32m<ipython-input-1-e7e875206f73>\u001b[0m in \u001b[0;36m<module>\u001b[0;34m()\u001b[0m\n\u001b[1;32m      3\u001b[0m \u001b[0mWO\u001b[0m \u001b[0;34m=\u001b[0m \u001b[0mwo\u001b[0m\u001b[0;34m.\u001b[0m\u001b[0mWriteObject\u001b[0m\u001b[0;34m(\u001b[0m\u001b[0;34m)\u001b[0m\u001b[0;34m\u001b[0m\u001b[0m\n\u001b[1;32m      4\u001b[0m \u001b[0;34m\u001b[0m\u001b[0m\n\u001b[0;32m----> 5\u001b[0;31m \u001b[0mWO\u001b[0m\u001b[0;34m.\u001b[0m\u001b[0mSEEKForm\u001b[0m\u001b[0;34m(\u001b[0m\u001b[0;34m)\u001b[0m\u001b[0;34m\u001b[0m\u001b[0m\n\u001b[0m",
         "\u001b[0;32m~/Work/ThirdYear/Seek/TheSeekNotebook/WriteObject.py\u001b[0m in \u001b[0;36mSEEKForm\u001b[0;34m(self)\u001b[0m\n\u001b[1;32m     37\u001b[0m             \u001b[0mself\u001b[0m\u001b[0;34m.\u001b[0m\u001b[0mJSON\u001b[0m \u001b[0;34m=\u001b[0m \u001b[0mHelper\u001b[0m\u001b[0;34m.\u001b[0m\u001b[0mstudyFormat\u001b[0m\u001b[0;34m(\u001b[0m\u001b[0;34m)\u001b[0m\u001b[0;34m\u001b[0m\u001b[0m\n\u001b[1;32m     38\u001b[0m \u001b[0;34m\u001b[0m\u001b[0m\n\u001b[0;32m---> 39\u001b[0;31m         \u001b[0mprint\u001b[0m\u001b[0;34m(\u001b[0m\u001b[0mself\u001b[0m\u001b[0;34m.\u001b[0m\u001b[0mJSON\u001b[0m\u001b[0;34m)\u001b[0m\u001b[0;34m\u001b[0m\u001b[0m\n\u001b[0m\u001b[1;32m     40\u001b[0m \u001b[0;34m\u001b[0m\u001b[0m\n\u001b[1;32m     41\u001b[0m     \u001b[0;32mdef\u001b[0m \u001b[0mrequest\u001b[0m\u001b[0;34m(\u001b[0m\u001b[0mself\u001b[0m\u001b[0;34m)\u001b[0m\u001b[0;34m:\u001b[0m\u001b[0;34m\u001b[0m\u001b[0m\n",
         "\u001b[0;31mAttributeError\u001b[0m: 'WriteObject' object has no attribute 'JSON'"
        ]
       }
      ],
      "source": "import WriteObject as wo\n\nWO = wo.WriteObject()\n\nWO.SEEKForm()",
      "start_time": "2019-03-19T16:31:34.629Z"
     },
     {
      "end_time": "2019-03-19T16:32:03.294Z",
      "execution_time": "39ms",
      "outputs": [
       {
        "data": {
         "text/html": "<h3>SEEK FORM</h3>",
         "text/plain": "<IPython.core.display.HTML object>"
        },
        "metadata": {},
        "output_type": "display_data",
        "transient": {}
       },
       {
        "name": "stdout",
        "output_type": "stream",
        "text": "\nYou need to complete the following form in order to succesfully upload your information to SEEK\n"
       },
       {
        "ename": "AttributeError",
        "evalue": "'WriteObject' object has no attribute 'JSON'",
        "output_type": "error",
        "traceback": [
         "\u001b[0;31m---------------------------------------------------------------------------\u001b[0m",
         "\u001b[0;31mAttributeError\u001b[0m                            Traceback (most recent call last)",
         "\u001b[0;32m<ipython-input-2-e7e875206f73>\u001b[0m in \u001b[0;36m<module>\u001b[0;34m()\u001b[0m\n\u001b[1;32m      3\u001b[0m \u001b[0mWO\u001b[0m \u001b[0;34m=\u001b[0m \u001b[0mwo\u001b[0m\u001b[0;34m.\u001b[0m\u001b[0mWriteObject\u001b[0m\u001b[0;34m(\u001b[0m\u001b[0;34m)\u001b[0m\u001b[0;34m\u001b[0m\u001b[0m\n\u001b[1;32m      4\u001b[0m \u001b[0;34m\u001b[0m\u001b[0m\n\u001b[0;32m----> 5\u001b[0;31m \u001b[0mWO\u001b[0m\u001b[0;34m.\u001b[0m\u001b[0mSEEKForm\u001b[0m\u001b[0;34m(\u001b[0m\u001b[0;34m)\u001b[0m\u001b[0;34m\u001b[0m\u001b[0m\n\u001b[0m",
         "\u001b[0;32m~/Work/ThirdYear/Seek/TheSeekNotebook/WriteObject.py\u001b[0m in \u001b[0;36mSEEKForm\u001b[0;34m(self)\u001b[0m\n\u001b[1;32m     37\u001b[0m             \u001b[0mself\u001b[0m\u001b[0;34m.\u001b[0m\u001b[0mJSON\u001b[0m \u001b[0;34m=\u001b[0m \u001b[0mHelper\u001b[0m\u001b[0;34m.\u001b[0m\u001b[0mstudyFormat\u001b[0m\u001b[0;34m(\u001b[0m\u001b[0;34m)\u001b[0m\u001b[0;34m\u001b[0m\u001b[0m\n\u001b[1;32m     38\u001b[0m \u001b[0;34m\u001b[0m\u001b[0m\n\u001b[0;32m---> 39\u001b[0;31m         \u001b[0mprint\u001b[0m\u001b[0;34m(\u001b[0m\u001b[0mself\u001b[0m\u001b[0;34m.\u001b[0m\u001b[0mJSON\u001b[0m\u001b[0;34m)\u001b[0m\u001b[0;34m\u001b[0m\u001b[0m\n\u001b[0m\u001b[1;32m     40\u001b[0m \u001b[0;34m\u001b[0m\u001b[0m\n\u001b[1;32m     41\u001b[0m     \u001b[0;32mdef\u001b[0m \u001b[0mrequest\u001b[0m\u001b[0;34m(\u001b[0m\u001b[0mself\u001b[0m\u001b[0;34m)\u001b[0m\u001b[0;34m:\u001b[0m\u001b[0;34m\u001b[0m\u001b[0m\n",
         "\u001b[0;31mAttributeError\u001b[0m: 'WriteObject' object has no attribute 'JSON'"
        ]
       }
      ],
      "source": "import WriteObject as wo\n\nWO = wo.WriteObject()\n\nWO.SEEKForm()",
      "start_time": "2019-03-19T16:32:03.255Z"
     },
     {
      "end_time": "2019-03-19T16:32:11.398Z",
      "execution_time": "127ms",
      "outputs": [
       {
        "data": {
         "text/html": "<h3>SEEK FORM</h3>",
         "text/plain": "<IPython.core.display.HTML object>"
        },
        "metadata": {},
        "output_type": "display_data",
        "transient": {}
       },
       {
        "name": "stdout",
        "output_type": "stream",
        "text": "\nYou need to complete the following form in order to succesfully upload your information to SEEK\nNone\n"
       }
      ],
      "source": "import WriteObject as wo\n\nWO = wo.WriteObject()\n\nWO.SEEKForm()",
      "start_time": "2019-03-19T16:32:11.271Z"
     },
     {
      "end_time": "2019-03-19T16:35:18.856Z",
      "execution_time": "125ms",
      "outputs": [
       {
        "data": {
         "text/html": "<h3>SEEK FORM</h3>",
         "text/plain": "<IPython.core.display.HTML object>"
        },
        "metadata": {},
        "output_type": "display_data",
        "transient": {}
       },
       {
        "name": "stdout",
        "output_type": "stream",
        "text": "\nYou need to complete the following form in order to succesfully upload your information to SEEK\nNone\n"
       }
      ],
      "source": "import WriteObject as wo\n\nWO = wo.WriteObject()\n\nWO.SEEKForm()",
      "start_time": "2019-03-19T16:35:18.731Z"
     },
     {
      "end_time": "2019-03-19T16:36:20.234Z",
      "execution_time": "32ms",
      "outputs": [
       {
        "data": {
         "text/html": "<h3>SEEK FORM</h3>",
         "text/plain": "<IPython.core.display.HTML object>"
        },
        "metadata": {},
        "output_type": "display_data",
        "transient": {}
       },
       {
        "name": "stdout",
        "output_type": "stream",
        "text": "\nYou need to complete the following form in order to succesfully upload your information to SEEK\nNone\n"
       }
      ],
      "source": "import WriteObject as wo\n\nWO = wo.WriteObject()\n\nWO.SEEKForm()",
      "start_time": "2019-03-19T16:36:20.202Z"
     },
     {
      "end_time": "2019-03-19T16:36:43.874Z",
      "execution_time": "125ms",
      "outputs": [
       {
        "data": {
         "text/html": "<h3>SEEK FORM</h3>",
         "text/plain": "<IPython.core.display.HTML object>"
        },
        "metadata": {},
        "output_type": "display_data",
        "transient": {}
       },
       {
        "name": "stdout",
        "output_type": "stream",
        "text": "\nYou need to complete the following form in order to succesfully upload your information to SEEK\nNone\n"
       }
      ],
      "source": "import WriteObject as wo\n\nWO = wo.WriteObject()\n\nWO.SEEKForm()",
      "start_time": "2019-03-19T16:36:43.749Z"
     },
     {
      "end_time": "2019-03-19T16:38:47.863Z",
      "execution_time": "121ms",
      "outputs": [
       {
        "data": {
         "text/html": "<h3>SEEK FORM</h3>",
         "text/plain": "<IPython.core.display.HTML object>"
        },
        "metadata": {},
        "output_type": "display_data",
        "transient": {}
       },
       {
        "name": "stdout",
        "output_type": "stream",
        "text": "\nYou need to complete the following form in order to succesfully upload your information to SEEK\nNone\n"
       }
      ],
      "source": "import WriteObject as wo\n\nWO = wo.WriteObject()\n\nWO.SEEKForm()",
      "start_time": "2019-03-19T16:38:47.742Z"
     },
     {
      "end_time": "2019-03-19T16:38:59.572Z",
      "execution_time": "144ms",
      "outputs": [
       {
        "data": {
         "text/html": "<h3>SEEK FORM</h3>",
         "text/plain": "<IPython.core.display.HTML object>"
        },
        "metadata": {},
        "output_type": "display_data",
        "transient": {}
       },
       {
        "name": "stdout",
        "output_type": "stream",
        "text": "None\n"
       }
      ],
      "source": "import WriteObject as wo\n\nWO = wo.WriteObject()\n\nWO.SEEKForm()",
      "start_time": "2019-03-19T16:38:59.428Z"
     },
     {
      "end_time": "2019-03-19T16:39:16.109Z",
      "execution_time": "121ms",
      "outputs": [
       {
        "data": {
         "text/html": "<h3>SEEK FORM</h3>",
         "text/plain": "<IPython.core.display.HTML object>"
        },
        "metadata": {},
        "output_type": "display_data",
        "transient": {}
       }
      ],
      "source": "import WriteObject as wo\n\nWO = wo.WriteObject()\n\nWO.SEEKForm()",
      "start_time": "2019-03-19T16:39:15.988Z"
     },
     {
      "end_time": "2019-03-19T16:39:28.766Z",
      "execution_time": "117ms",
      "outputs": [],
      "source": "import WriteObject as wo\n\nWO = wo.WriteObject()\n\nWO.SEEKForm()",
      "start_time": "2019-03-19T16:39:28.649Z"
     },
     {
      "end_time": "2019-03-19T16:40:15.789Z",
      "execution_time": "108ms",
      "outputs": [],
      "source": "import WriteObject as wo\n\nWO = wo.WriteObject()\n\nWO.SEEKForm()",
      "start_time": "2019-03-19T16:40:15.681Z"
     },
     {
      "end_time": "2019-03-19T16:40:43.428Z",
      "execution_time": "119ms",
      "outputs": [],
      "source": "import WriteObject as wo\n\nWO = wo.WriteObject()\n\nWO.SEEKForm()",
      "start_time": "2019-03-19T16:40:43.309Z"
     },
     {
      "end_time": "2019-03-19T16:43:07.328Z",
      "execution_time": "34ms",
      "outputs": [],
      "source": "import WriteObject as wo\n\nWO = wo.WriteObject()\n\nWO.SEEKForm()",
      "start_time": "2019-03-19T16:43:07.294Z"
     },
     {
      "end_time": "2019-03-19T16:43:22.724Z",
      "execution_time": "32ms",
      "outputs": [],
      "source": "import WriteObject as wo\n\nWO = wo.WriteObject()\n\nWO.SEEKForm()",
      "start_time": "2019-03-19T16:43:22.692Z"
     },
     {
      "end_time": "2019-03-19T16:43:27.893Z",
      "execution_time": "34ms",
      "outputs": [
       {
        "name": "stdout",
        "output_type": "stream",
        "text": "muie\n"
       }
      ],
      "source": "import WriteObject as wo\n\nWO = wo.WriteObject()\n\nWO.SEEKForm()",
      "start_time": "2019-03-19T16:43:27.859Z"
     },
     {
      "end_time": "2019-03-19T16:44:08.587Z",
      "execution_time": "28ms",
      "outputs": [],
      "source": "import WriteObject as wo\n\nWO = wo.WriteObject()\n\nWO.SEEKForm()",
      "start_time": "2019-03-19T16:44:08.559Z"
     },
     {
      "end_time": "2019-03-19T16:44:33.846Z",
      "execution_time": "38ms",
      "outputs": [
       {
        "data": {
         "application/vnd.jupyter.widget-view+json": {
          "model_id": "",
          "version_major": 2,
          "version_minor": 0
         },
         "text/plain": "Dropdown(description='Number:', index=1, options=('1', '2', '3'), value='2')"
        },
        "metadata": {},
        "output_type": "display_data",
        "transient": {}
       }
      ],
      "source": "import WriteObject as wo\n\nWO = wo.WriteObject()\n\nWO.SEEKForm()",
      "start_time": "2019-03-19T16:44:33.808Z"
     },
     {
      "end_time": "2019-03-19T16:46:53.907Z",
      "execution_time": "248ms",
      "outputs": [
       {
        "data": {
         "text/html": "<h3>SEEK FORM</h3>",
         "text/plain": "<IPython.core.display.HTML object>"
        },
        "metadata": {},
        "output_type": "display_data",
        "transient": {}
       },
       {
        "ename": "TraitError",
        "evalue": "Invalid selection: value not found",
        "output_type": "error",
        "traceback": [
         "\u001b[0;31m---------------------------------------------------------------------------\u001b[0m",
         "\u001b[0;31mStopIteration\u001b[0m                             Traceback (most recent call last)",
         "\u001b[0;32m~/anaconda3/lib/python3.6/site-packages/ipywidgets/widgets/widget_selection.py\u001b[0m in \u001b[0;36mfindvalue\u001b[0;34m(array, value, compare)\u001b[0m\n\u001b[1;32m    136\u001b[0m     \u001b[0;32mtry\u001b[0m\u001b[0;34m:\u001b[0m\u001b[0;34m\u001b[0m\u001b[0m\n\u001b[0;32m--> 137\u001b[0;31m         \u001b[0;32mreturn\u001b[0m \u001b[0mnext\u001b[0m\u001b[0;34m(\u001b[0m\u001b[0mx\u001b[0m \u001b[0;32mfor\u001b[0m \u001b[0mx\u001b[0m \u001b[0;32min\u001b[0m \u001b[0marray\u001b[0m \u001b[0;32mif\u001b[0m \u001b[0mcompare\u001b[0m\u001b[0;34m(\u001b[0m\u001b[0mx\u001b[0m\u001b[0;34m,\u001b[0m \u001b[0mvalue\u001b[0m\u001b[0;34m)\u001b[0m\u001b[0;34m)\u001b[0m\u001b[0;34m\u001b[0m\u001b[0m\n\u001b[0m\u001b[1;32m    138\u001b[0m     \u001b[0;32mexcept\u001b[0m \u001b[0mStopIteration\u001b[0m\u001b[0;34m:\u001b[0m\u001b[0;34m\u001b[0m\u001b[0m\n",
         "\u001b[0;31mStopIteration\u001b[0m: ",
         "\nDuring handling of the above exception, another exception occurred:\n",
         "\u001b[0;31mValueError\u001b[0m                                Traceback (most recent call last)",
         "\u001b[0;32m~/anaconda3/lib/python3.6/site-packages/ipywidgets/widgets/widget_selection.py\u001b[0m in \u001b[0;36m_validate_value\u001b[0;34m(self, proposal)\u001b[0m\n\u001b[1;32m    238\u001b[0m         \u001b[0;32mtry\u001b[0m\u001b[0;34m:\u001b[0m\u001b[0;34m\u001b[0m\u001b[0m\n\u001b[0;32m--> 239\u001b[0;31m             \u001b[0;32mreturn\u001b[0m \u001b[0mfindvalue\u001b[0m\u001b[0;34m(\u001b[0m\u001b[0mself\u001b[0m\u001b[0;34m.\u001b[0m\u001b[0m_options_values\u001b[0m\u001b[0;34m,\u001b[0m \u001b[0mvalue\u001b[0m\u001b[0;34m,\u001b[0m \u001b[0mself\u001b[0m\u001b[0;34m.\u001b[0m\u001b[0mequals\u001b[0m\u001b[0;34m)\u001b[0m \u001b[0;32mif\u001b[0m \u001b[0mvalue\u001b[0m \u001b[0;32mis\u001b[0m \u001b[0;32mnot\u001b[0m \u001b[0;32mNone\u001b[0m \u001b[0;32melse\u001b[0m \u001b[0;32mNone\u001b[0m\u001b[0;34m\u001b[0m\u001b[0m\n\u001b[0m\u001b[1;32m    240\u001b[0m         \u001b[0;32mexcept\u001b[0m \u001b[0mValueError\u001b[0m\u001b[0;34m:\u001b[0m\u001b[0;34m\u001b[0m\u001b[0m\n",
         "\u001b[0;32m~/anaconda3/lib/python3.6/site-packages/ipywidgets/widgets/widget_selection.py\u001b[0m in \u001b[0;36mfindvalue\u001b[0;34m(array, value, compare)\u001b[0m\n\u001b[1;32m    138\u001b[0m     \u001b[0;32mexcept\u001b[0m \u001b[0mStopIteration\u001b[0m\u001b[0;34m:\u001b[0m\u001b[0;34m\u001b[0m\u001b[0m\n\u001b[0;32m--> 139\u001b[0;31m         \u001b[0;32mraise\u001b[0m \u001b[0mValueError\u001b[0m\u001b[0;34m(\u001b[0m\u001b[0;34m'%r not in array'\u001b[0m\u001b[0;34m%\u001b[0m\u001b[0mvalue\u001b[0m\u001b[0;34m)\u001b[0m\u001b[0;34m\u001b[0m\u001b[0m\n\u001b[0m\u001b[1;32m    140\u001b[0m \u001b[0;34m\u001b[0m\u001b[0m\n",
         "\u001b[0;31mValueError\u001b[0m: '2' not in array",
         "\nDuring handling of the above exception, another exception occurred:\n",
         "\u001b[0;31mTraitError\u001b[0m                                Traceback (most recent call last)",
         "\u001b[0;32m<ipython-input-1-e7e875206f73>\u001b[0m in \u001b[0;36m<module>\u001b[0;34m()\u001b[0m\n\u001b[1;32m      3\u001b[0m \u001b[0mWO\u001b[0m \u001b[0;34m=\u001b[0m \u001b[0mwo\u001b[0m\u001b[0;34m.\u001b[0m\u001b[0mWriteObject\u001b[0m\u001b[0;34m(\u001b[0m\u001b[0;34m)\u001b[0m\u001b[0;34m\u001b[0m\u001b[0m\n\u001b[1;32m      4\u001b[0m \u001b[0;34m\u001b[0m\u001b[0m\n\u001b[0;32m----> 5\u001b[0;31m \u001b[0mWO\u001b[0m\u001b[0;34m.\u001b[0m\u001b[0mSEEKForm\u001b[0m\u001b[0;34m(\u001b[0m\u001b[0;34m)\u001b[0m\u001b[0;34m\u001b[0m\u001b[0m\n\u001b[0m",
         "\u001b[0;32m~/Work/ThirdYear/Seek/TheSeekNotebook/WriteObject.py\u001b[0m in \u001b[0;36mSEEKForm\u001b[0;34m(self)\u001b[0m\n\u001b[1;32m     41\u001b[0m         \u001b[0mdisplay\u001b[0m\u001b[0;34m(\u001b[0m\u001b[0mHTML\u001b[0m\u001b[0;34m(\u001b[0m\u001b[0;34m'<h3>SEEK FORM</h3>'\u001b[0m\u001b[0;34m)\u001b[0m\u001b[0;34m)\u001b[0m\u001b[0;34m\u001b[0m\u001b[0m\n\u001b[1;32m     42\u001b[0m         self.createDropdown(op=[\"assays\",\"data_files\"], \n\u001b[0;32m---> 43\u001b[0;31m                             desc='\\nThe type of object you want to upload to SEEK:  ')\n\u001b[0m\u001b[1;32m     44\u001b[0m \u001b[0;34m\u001b[0m\u001b[0m\n\u001b[1;32m     45\u001b[0m \u001b[0;34m\u001b[0m\u001b[0m\n",
         "\u001b[0;32m~/Work/ThirdYear/Seek/TheSeekNotebook/WriteObject.py\u001b[0m in \u001b[0;36mcreateDropdown\u001b[0;34m(self, op, desc)\u001b[0m\n\u001b[1;32m     33\u001b[0m             \u001b[0mvalue\u001b[0m\u001b[0;34m=\u001b[0m\u001b[0;34m'2'\u001b[0m\u001b[0;34m,\u001b[0m\u001b[0;34m\u001b[0m\u001b[0m\n\u001b[1;32m     34\u001b[0m             \u001b[0mdescription\u001b[0m\u001b[0;34m=\u001b[0m\u001b[0mdesc\u001b[0m\u001b[0;34m,\u001b[0m\u001b[0;34m\u001b[0m\u001b[0m\n\u001b[0;32m---> 35\u001b[0;31m             \u001b[0mdisabled\u001b[0m\u001b[0;34m=\u001b[0m\u001b[0;32mFalse\u001b[0m\u001b[0;34m,\u001b[0m\u001b[0;34m\u001b[0m\u001b[0m\n\u001b[0m\u001b[1;32m     36\u001b[0m         )\n\u001b[1;32m     37\u001b[0m \u001b[0;34m\u001b[0m\u001b[0m\n",
         "\u001b[0;32m~/anaconda3/lib/python3.6/site-packages/ipywidgets/widgets/widget_selection.py\u001b[0m in \u001b[0;36m__init__\u001b[0;34m(self, *args, **kwargs)\u001b[0m\n\u001b[1;32m    188\u001b[0m             \u001b[0mkwargs\u001b[0m\u001b[0;34m[\u001b[0m\u001b[0;34m'label'\u001b[0m\u001b[0;34m]\u001b[0m\u001b[0;34m,\u001b[0m \u001b[0mkwargs\u001b[0m\u001b[0;34m[\u001b[0m\u001b[0;34m'value'\u001b[0m\u001b[0;34m]\u001b[0m \u001b[0;34m=\u001b[0m \u001b[0moptions\u001b[0m\u001b[0;34m[\u001b[0m\u001b[0;36m0\u001b[0m\u001b[0;34m]\u001b[0m \u001b[0;32mif\u001b[0m \u001b[0mnonempty\u001b[0m \u001b[0;32melse\u001b[0m \u001b[0;34m(\u001b[0m\u001b[0;32mNone\u001b[0m\u001b[0;34m,\u001b[0m \u001b[0;32mNone\u001b[0m\u001b[0;34m)\u001b[0m\u001b[0;34m\u001b[0m\u001b[0m\n\u001b[1;32m    189\u001b[0m \u001b[0;34m\u001b[0m\u001b[0m\n\u001b[0;32m--> 190\u001b[0;31m         \u001b[0msuper\u001b[0m\u001b[0;34m(\u001b[0m\u001b[0m_Selection\u001b[0m\u001b[0;34m,\u001b[0m \u001b[0mself\u001b[0m\u001b[0;34m)\u001b[0m\u001b[0;34m.\u001b[0m\u001b[0m__init__\u001b[0m\u001b[0;34m(\u001b[0m\u001b[0;34m*\u001b[0m\u001b[0margs\u001b[0m\u001b[0;34m,\u001b[0m \u001b[0;34m**\u001b[0m\u001b[0mkwargs\u001b[0m\u001b[0;34m)\u001b[0m\u001b[0;34m\u001b[0m\u001b[0m\n\u001b[0m\u001b[1;32m    191\u001b[0m         \u001b[0mself\u001b[0m\u001b[0;34m.\u001b[0m\u001b[0m_initializing_traits_\u001b[0m \u001b[0;34m=\u001b[0m \u001b[0;32mFalse\u001b[0m\u001b[0;34m\u001b[0m\u001b[0m\n\u001b[1;32m    192\u001b[0m \u001b[0;34m\u001b[0m\u001b[0m\n",
         "\u001b[0;32m~/anaconda3/lib/python3.6/site-packages/ipywidgets/widgets/widget.py\u001b[0m in \u001b[0;36m__init__\u001b[0;34m(self, **kwargs)\u001b[0m\n\u001b[1;32m    409\u001b[0m         \u001b[0;34m\"\"\"Public constructor\"\"\"\u001b[0m\u001b[0;34m\u001b[0m\u001b[0m\n\u001b[1;32m    410\u001b[0m         \u001b[0mself\u001b[0m\u001b[0;34m.\u001b[0m\u001b[0m_model_id\u001b[0m \u001b[0;34m=\u001b[0m \u001b[0mkwargs\u001b[0m\u001b[0;34m.\u001b[0m\u001b[0mpop\u001b[0m\u001b[0;34m(\u001b[0m\u001b[0;34m'model_id'\u001b[0m\u001b[0;34m,\u001b[0m \u001b[0;32mNone\u001b[0m\u001b[0;34m)\u001b[0m\u001b[0;34m\u001b[0m\u001b[0m\n\u001b[0;32m--> 411\u001b[0;31m         \u001b[0msuper\u001b[0m\u001b[0;34m(\u001b[0m\u001b[0mWidget\u001b[0m\u001b[0;34m,\u001b[0m \u001b[0mself\u001b[0m\u001b[0;34m)\u001b[0m\u001b[0;34m.\u001b[0m\u001b[0m__init__\u001b[0m\u001b[0;34m(\u001b[0m\u001b[0;34m**\u001b[0m\u001b[0mkwargs\u001b[0m\u001b[0;34m)\u001b[0m\u001b[0;34m\u001b[0m\u001b[0m\n\u001b[0m\u001b[1;32m    412\u001b[0m \u001b[0;34m\u001b[0m\u001b[0m\n\u001b[1;32m    413\u001b[0m         \u001b[0mWidget\u001b[0m\u001b[0;34m.\u001b[0m\u001b[0m_call_widget_constructed\u001b[0m\u001b[0;34m(\u001b[0m\u001b[0mself\u001b[0m\u001b[0;34m)\u001b[0m\u001b[0;34m\u001b[0m\u001b[0m\n",
         "\u001b[0;32m~/anaconda3/lib/python3.6/site-packages/traitlets/traitlets.py\u001b[0m in \u001b[0;36m__init__\u001b[0;34m(self, *args, **kwargs)\u001b[0m\n\u001b[1;32m    998\u001b[0m                 \u001b[0;32melse\u001b[0m\u001b[0;34m:\u001b[0m\u001b[0;34m\u001b[0m\u001b[0m\n\u001b[1;32m    999\u001b[0m                     \u001b[0;31m# passthrough args that don't set traits to super\u001b[0m\u001b[0;34m\u001b[0m\u001b[0;34m\u001b[0m\u001b[0m\n\u001b[0;32m-> 1000\u001b[0;31m                     \u001b[0msuper_kwargs\u001b[0m\u001b[0;34m[\u001b[0m\u001b[0mkey\u001b[0m\u001b[0;34m]\u001b[0m \u001b[0;34m=\u001b[0m \u001b[0mvalue\u001b[0m\u001b[0;34m\u001b[0m\u001b[0m\n\u001b[0m\u001b[1;32m   1001\u001b[0m         \u001b[0;32mtry\u001b[0m\u001b[0;34m:\u001b[0m\u001b[0;34m\u001b[0m\u001b[0m\n\u001b[1;32m   1002\u001b[0m             \u001b[0msuper\u001b[0m\u001b[0;34m(\u001b[0m\u001b[0mHasTraits\u001b[0m\u001b[0;34m,\u001b[0m \u001b[0mself\u001b[0m\u001b[0;34m)\u001b[0m\u001b[0;34m.\u001b[0m\u001b[0m__init__\u001b[0m\u001b[0;34m(\u001b[0m\u001b[0;34m*\u001b[0m\u001b[0msuper_args\u001b[0m\u001b[0;34m,\u001b[0m \u001b[0;34m**\u001b[0m\u001b[0msuper_kwargs\u001b[0m\u001b[0;34m)\u001b[0m\u001b[0;34m\u001b[0m\u001b[0m\n",
         "\u001b[0;32m~/anaconda3/lib/python3.6/contextlib.py\u001b[0m in \u001b[0;36m__exit__\u001b[0;34m(self, type, value, traceback)\u001b[0m\n\u001b[1;32m     86\u001b[0m         \u001b[0;32mif\u001b[0m \u001b[0mtype\u001b[0m \u001b[0;32mis\u001b[0m \u001b[0;32mNone\u001b[0m\u001b[0;34m:\u001b[0m\u001b[0;34m\u001b[0m\u001b[0m\n\u001b[1;32m     87\u001b[0m             \u001b[0;32mtry\u001b[0m\u001b[0;34m:\u001b[0m\u001b[0;34m\u001b[0m\u001b[0m\n\u001b[0;32m---> 88\u001b[0;31m                 \u001b[0mnext\u001b[0m\u001b[0;34m(\u001b[0m\u001b[0mself\u001b[0m\u001b[0;34m.\u001b[0m\u001b[0mgen\u001b[0m\u001b[0;34m)\u001b[0m\u001b[0;34m\u001b[0m\u001b[0m\n\u001b[0m\u001b[1;32m     89\u001b[0m             \u001b[0;32mexcept\u001b[0m \u001b[0mStopIteration\u001b[0m\u001b[0;34m:\u001b[0m\u001b[0;34m\u001b[0m\u001b[0m\n\u001b[1;32m     90\u001b[0m                 \u001b[0;32mreturn\u001b[0m \u001b[0;32mFalse\u001b[0m\u001b[0;34m\u001b[0m\u001b[0m\n",
         "\u001b[0;32m~/anaconda3/lib/python3.6/site-packages/traitlets/traitlets.py\u001b[0m in \u001b[0;36mhold_trait_notifications\u001b[0;34m(self)\u001b[0m\n\u001b[1;32m   1120\u001b[0m                                 \u001b[0mself\u001b[0m\u001b[0;34m.\u001b[0m\u001b[0m_trait_values\u001b[0m\u001b[0;34m.\u001b[0m\u001b[0mpop\u001b[0m\u001b[0;34m(\u001b[0m\u001b[0mname\u001b[0m\u001b[0;34m)\u001b[0m\u001b[0;34m\u001b[0m\u001b[0m\n\u001b[1;32m   1121\u001b[0m                 \u001b[0mcache\u001b[0m \u001b[0;34m=\u001b[0m \u001b[0;34m{\u001b[0m\u001b[0;34m}\u001b[0m\u001b[0;34m\u001b[0m\u001b[0m\n\u001b[0;32m-> 1122\u001b[0;31m                 \u001b[0;32mraise\u001b[0m \u001b[0me\u001b[0m\u001b[0;34m\u001b[0m\u001b[0m\n\u001b[0m\u001b[1;32m   1123\u001b[0m             \u001b[0;32mfinally\u001b[0m\u001b[0;34m:\u001b[0m\u001b[0;34m\u001b[0m\u001b[0m\n\u001b[1;32m   1124\u001b[0m                 \u001b[0mself\u001b[0m\u001b[0;34m.\u001b[0m\u001b[0m_cross_validation_lock\u001b[0m \u001b[0;34m=\u001b[0m \u001b[0;32mFalse\u001b[0m\u001b[0;34m\u001b[0m\u001b[0m\n",
         "\u001b[0;32m~/anaconda3/lib/python3.6/site-packages/traitlets/traitlets.py\u001b[0m in \u001b[0;36mhold_trait_notifications\u001b[0;34m(self)\u001b[0m\n\u001b[1;32m   1106\u001b[0m                 \u001b[0;32mfor\u001b[0m \u001b[0mname\u001b[0m \u001b[0;32min\u001b[0m \u001b[0mlist\u001b[0m\u001b[0;34m(\u001b[0m\u001b[0mcache\u001b[0m\u001b[0;34m.\u001b[0m\u001b[0mkeys\u001b[0m\u001b[0;34m(\u001b[0m\u001b[0;34m)\u001b[0m\u001b[0;34m)\u001b[0m\u001b[0;34m:\u001b[0m\u001b[0;34m\u001b[0m\u001b[0m\n\u001b[1;32m   1107\u001b[0m                     \u001b[0mtrait\u001b[0m \u001b[0;34m=\u001b[0m \u001b[0mgetattr\u001b[0m\u001b[0;34m(\u001b[0m\u001b[0mself\u001b[0m\u001b[0;34m.\u001b[0m\u001b[0m__class__\u001b[0m\u001b[0;34m,\u001b[0m \u001b[0mname\u001b[0m\u001b[0;34m)\u001b[0m\u001b[0;34m\u001b[0m\u001b[0m\n\u001b[0;32m-> 1108\u001b[0;31m                     \u001b[0mvalue\u001b[0m \u001b[0;34m=\u001b[0m \u001b[0mtrait\u001b[0m\u001b[0;34m.\u001b[0m\u001b[0m_cross_validate\u001b[0m\u001b[0;34m(\u001b[0m\u001b[0mself\u001b[0m\u001b[0;34m,\u001b[0m \u001b[0mgetattr\u001b[0m\u001b[0;34m(\u001b[0m\u001b[0mself\u001b[0m\u001b[0;34m,\u001b[0m \u001b[0mname\u001b[0m\u001b[0;34m)\u001b[0m\u001b[0;34m)\u001b[0m\u001b[0;34m\u001b[0m\u001b[0m\n\u001b[0m\u001b[1;32m   1109\u001b[0m                     \u001b[0mself\u001b[0m\u001b[0;34m.\u001b[0m\u001b[0mset_trait\u001b[0m\u001b[0;34m(\u001b[0m\u001b[0mname\u001b[0m\u001b[0;34m,\u001b[0m \u001b[0mvalue\u001b[0m\u001b[0;34m)\u001b[0m\u001b[0;34m\u001b[0m\u001b[0m\n\u001b[1;32m   1110\u001b[0m             \u001b[0;32mexcept\u001b[0m \u001b[0mTraitError\u001b[0m \u001b[0;32mas\u001b[0m \u001b[0me\u001b[0m\u001b[0;34m:\u001b[0m\u001b[0;34m\u001b[0m\u001b[0m\n",
         "\u001b[0;32m~/anaconda3/lib/python3.6/site-packages/traitlets/traitlets.py\u001b[0m in \u001b[0;36m_cross_validate\u001b[0;34m(self, obj, value)\u001b[0m\n\u001b[1;32m    597\u001b[0m         \u001b[0;32mif\u001b[0m \u001b[0mself\u001b[0m\u001b[0;34m.\u001b[0m\u001b[0mname\u001b[0m \u001b[0;32min\u001b[0m \u001b[0mobj\u001b[0m\u001b[0;34m.\u001b[0m\u001b[0m_trait_validators\u001b[0m\u001b[0;34m:\u001b[0m\u001b[0;34m\u001b[0m\u001b[0m\n\u001b[1;32m    598\u001b[0m             \u001b[0mproposal\u001b[0m \u001b[0;34m=\u001b[0m \u001b[0mBunch\u001b[0m\u001b[0;34m(\u001b[0m\u001b[0;34m{\u001b[0m\u001b[0;34m'trait'\u001b[0m\u001b[0;34m:\u001b[0m \u001b[0mself\u001b[0m\u001b[0;34m,\u001b[0m \u001b[0;34m'value'\u001b[0m\u001b[0;34m:\u001b[0m \u001b[0mvalue\u001b[0m\u001b[0;34m,\u001b[0m \u001b[0;34m'owner'\u001b[0m\u001b[0;34m:\u001b[0m \u001b[0mobj\u001b[0m\u001b[0;34m}\u001b[0m\u001b[0;34m)\u001b[0m\u001b[0;34m\u001b[0m\u001b[0m\n\u001b[0;32m--> 599\u001b[0;31m             \u001b[0mvalue\u001b[0m \u001b[0;34m=\u001b[0m \u001b[0mobj\u001b[0m\u001b[0;34m.\u001b[0m\u001b[0m_trait_validators\u001b[0m\u001b[0;34m[\u001b[0m\u001b[0mself\u001b[0m\u001b[0;34m.\u001b[0m\u001b[0mname\u001b[0m\u001b[0;34m]\u001b[0m\u001b[0;34m(\u001b[0m\u001b[0mobj\u001b[0m\u001b[0;34m,\u001b[0m \u001b[0mproposal\u001b[0m\u001b[0;34m)\u001b[0m\u001b[0;34m\u001b[0m\u001b[0m\n\u001b[0m\u001b[1;32m    600\u001b[0m         \u001b[0;32melif\u001b[0m \u001b[0mhasattr\u001b[0m\u001b[0;34m(\u001b[0m\u001b[0mobj\u001b[0m\u001b[0;34m,\u001b[0m \u001b[0;34m'_%s_validate'\u001b[0m \u001b[0;34m%\u001b[0m \u001b[0mself\u001b[0m\u001b[0;34m.\u001b[0m\u001b[0mname\u001b[0m\u001b[0;34m)\u001b[0m\u001b[0;34m:\u001b[0m\u001b[0;34m\u001b[0m\u001b[0m\n\u001b[1;32m    601\u001b[0m             \u001b[0mmeth_name\u001b[0m \u001b[0;34m=\u001b[0m \u001b[0;34m'_%s_validate'\u001b[0m \u001b[0;34m%\u001b[0m \u001b[0mself\u001b[0m\u001b[0;34m.\u001b[0m\u001b[0mname\u001b[0m\u001b[0;34m\u001b[0m\u001b[0m\n",
         "\u001b[0;32m~/anaconda3/lib/python3.6/site-packages/traitlets/traitlets.py\u001b[0m in \u001b[0;36m__call__\u001b[0;34m(self, *args, **kwargs)\u001b[0m\n\u001b[1;32m    905\u001b[0m         \u001b[0;34m\"\"\"Pass `*args` and `**kwargs` to the handler's function if it exists.\"\"\"\u001b[0m\u001b[0;34m\u001b[0m\u001b[0m\n\u001b[1;32m    906\u001b[0m         \u001b[0;32mif\u001b[0m \u001b[0mhasattr\u001b[0m\u001b[0;34m(\u001b[0m\u001b[0mself\u001b[0m\u001b[0;34m,\u001b[0m \u001b[0;34m'func'\u001b[0m\u001b[0;34m)\u001b[0m\u001b[0;34m:\u001b[0m\u001b[0;34m\u001b[0m\u001b[0m\n\u001b[0;32m--> 907\u001b[0;31m             \u001b[0;32mreturn\u001b[0m \u001b[0mself\u001b[0m\u001b[0;34m.\u001b[0m\u001b[0mfunc\u001b[0m\u001b[0;34m(\u001b[0m\u001b[0;34m*\u001b[0m\u001b[0margs\u001b[0m\u001b[0;34m,\u001b[0m \u001b[0;34m**\u001b[0m\u001b[0mkwargs\u001b[0m\u001b[0;34m)\u001b[0m\u001b[0;34m\u001b[0m\u001b[0m\n\u001b[0m\u001b[1;32m    908\u001b[0m         \u001b[0;32melse\u001b[0m\u001b[0;34m:\u001b[0m\u001b[0;34m\u001b[0m\u001b[0m\n\u001b[1;32m    909\u001b[0m             \u001b[0;32mreturn\u001b[0m \u001b[0mself\u001b[0m\u001b[0;34m.\u001b[0m\u001b[0m_init_call\u001b[0m\u001b[0;34m(\u001b[0m\u001b[0;34m*\u001b[0m\u001b[0margs\u001b[0m\u001b[0;34m,\u001b[0m \u001b[0;34m**\u001b[0m\u001b[0mkwargs\u001b[0m\u001b[0;34m)\u001b[0m\u001b[0;34m\u001b[0m\u001b[0m\n",
         "\u001b[0;32m~/anaconda3/lib/python3.6/site-packages/ipywidgets/widgets/widget_selection.py\u001b[0m in \u001b[0;36m_validate_value\u001b[0;34m(self, proposal)\u001b[0m\n\u001b[1;32m    239\u001b[0m             \u001b[0;32mreturn\u001b[0m \u001b[0mfindvalue\u001b[0m\u001b[0;34m(\u001b[0m\u001b[0mself\u001b[0m\u001b[0;34m.\u001b[0m\u001b[0m_options_values\u001b[0m\u001b[0;34m,\u001b[0m \u001b[0mvalue\u001b[0m\u001b[0;34m,\u001b[0m \u001b[0mself\u001b[0m\u001b[0;34m.\u001b[0m\u001b[0mequals\u001b[0m\u001b[0;34m)\u001b[0m \u001b[0;32mif\u001b[0m \u001b[0mvalue\u001b[0m \u001b[0;32mis\u001b[0m \u001b[0;32mnot\u001b[0m \u001b[0;32mNone\u001b[0m \u001b[0;32melse\u001b[0m \u001b[0;32mNone\u001b[0m\u001b[0;34m\u001b[0m\u001b[0m\n\u001b[1;32m    240\u001b[0m         \u001b[0;32mexcept\u001b[0m \u001b[0mValueError\u001b[0m\u001b[0;34m:\u001b[0m\u001b[0;34m\u001b[0m\u001b[0m\n\u001b[0;32m--> 241\u001b[0;31m             \u001b[0;32mraise\u001b[0m \u001b[0mTraitError\u001b[0m\u001b[0;34m(\u001b[0m\u001b[0;34m'Invalid selection: value not found'\u001b[0m\u001b[0;34m)\u001b[0m\u001b[0;34m\u001b[0m\u001b[0m\n\u001b[0m\u001b[1;32m    242\u001b[0m \u001b[0;34m\u001b[0m\u001b[0m\n\u001b[1;32m    243\u001b[0m     \u001b[0;34m@\u001b[0m\u001b[0mobserve\u001b[0m\u001b[0;34m(\u001b[0m\u001b[0;34m'value'\u001b[0m\u001b[0;34m)\u001b[0m\u001b[0;34m\u001b[0m\u001b[0m\n",
         "\u001b[0;31mTraitError\u001b[0m: Invalid selection: value not found"
        ]
       }
      ],
      "source": "import WriteObject as wo\n\nWO = wo.WriteObject()\n\nWO.SEEKForm()",
      "start_time": "2019-03-19T16:46:53.659Z"
     },
     {
      "end_time": "2019-03-19T16:47:17.984Z",
      "execution_time": "30ms",
      "outputs": [
       {
        "data": {
         "text/html": "<h3>SEEK FORM</h3>",
         "text/plain": "<IPython.core.display.HTML object>"
        },
        "metadata": {},
        "output_type": "display_data",
        "transient": {}
       },
       {
        "ename": "TraitError",
        "evalue": "Invalid selection: value not found",
        "output_type": "error",
        "traceback": [
         "\u001b[0;31m---------------------------------------------------------------------------\u001b[0m",
         "\u001b[0;31mStopIteration\u001b[0m                             Traceback (most recent call last)",
         "\u001b[0;32m~/anaconda3/lib/python3.6/site-packages/ipywidgets/widgets/widget_selection.py\u001b[0m in \u001b[0;36mfindvalue\u001b[0;34m(array, value, compare)\u001b[0m\n\u001b[1;32m    136\u001b[0m     \u001b[0;32mtry\u001b[0m\u001b[0;34m:\u001b[0m\u001b[0;34m\u001b[0m\u001b[0m\n\u001b[0;32m--> 137\u001b[0;31m         \u001b[0;32mreturn\u001b[0m \u001b[0mnext\u001b[0m\u001b[0;34m(\u001b[0m\u001b[0mx\u001b[0m \u001b[0;32mfor\u001b[0m \u001b[0mx\u001b[0m \u001b[0;32min\u001b[0m \u001b[0marray\u001b[0m \u001b[0;32mif\u001b[0m \u001b[0mcompare\u001b[0m\u001b[0;34m(\u001b[0m\u001b[0mx\u001b[0m\u001b[0;34m,\u001b[0m \u001b[0mvalue\u001b[0m\u001b[0;34m)\u001b[0m\u001b[0;34m)\u001b[0m\u001b[0;34m\u001b[0m\u001b[0m\n\u001b[0m\u001b[1;32m    138\u001b[0m     \u001b[0;32mexcept\u001b[0m \u001b[0mStopIteration\u001b[0m\u001b[0;34m:\u001b[0m\u001b[0;34m\u001b[0m\u001b[0m\n",
         "\u001b[0;31mStopIteration\u001b[0m: ",
         "\nDuring handling of the above exception, another exception occurred:\n",
         "\u001b[0;31mValueError\u001b[0m                                Traceback (most recent call last)",
         "\u001b[0;32m~/anaconda3/lib/python3.6/site-packages/ipywidgets/widgets/widget_selection.py\u001b[0m in \u001b[0;36m_validate_value\u001b[0;34m(self, proposal)\u001b[0m\n\u001b[1;32m    238\u001b[0m         \u001b[0;32mtry\u001b[0m\u001b[0;34m:\u001b[0m\u001b[0;34m\u001b[0m\u001b[0m\n\u001b[0;32m--> 239\u001b[0;31m             \u001b[0;32mreturn\u001b[0m \u001b[0mfindvalue\u001b[0m\u001b[0;34m(\u001b[0m\u001b[0mself\u001b[0m\u001b[0;34m.\u001b[0m\u001b[0m_options_values\u001b[0m\u001b[0;34m,\u001b[0m \u001b[0mvalue\u001b[0m\u001b[0;34m,\u001b[0m \u001b[0mself\u001b[0m\u001b[0;34m.\u001b[0m\u001b[0mequals\u001b[0m\u001b[0;34m)\u001b[0m \u001b[0;32mif\u001b[0m \u001b[0mvalue\u001b[0m \u001b[0;32mis\u001b[0m \u001b[0;32mnot\u001b[0m \u001b[0;32mNone\u001b[0m \u001b[0;32melse\u001b[0m \u001b[0;32mNone\u001b[0m\u001b[0;34m\u001b[0m\u001b[0m\n\u001b[0m\u001b[1;32m    240\u001b[0m         \u001b[0;32mexcept\u001b[0m \u001b[0mValueError\u001b[0m\u001b[0;34m:\u001b[0m\u001b[0;34m\u001b[0m\u001b[0m\n",
         "\u001b[0;32m~/anaconda3/lib/python3.6/site-packages/ipywidgets/widgets/widget_selection.py\u001b[0m in \u001b[0;36mfindvalue\u001b[0;34m(array, value, compare)\u001b[0m\n\u001b[1;32m    138\u001b[0m     \u001b[0;32mexcept\u001b[0m \u001b[0mStopIteration\u001b[0m\u001b[0;34m:\u001b[0m\u001b[0;34m\u001b[0m\u001b[0m\n\u001b[0;32m--> 139\u001b[0;31m         \u001b[0;32mraise\u001b[0m \u001b[0mValueError\u001b[0m\u001b[0;34m(\u001b[0m\u001b[0;34m'%r not in array'\u001b[0m\u001b[0;34m%\u001b[0m\u001b[0mvalue\u001b[0m\u001b[0;34m)\u001b[0m\u001b[0;34m\u001b[0m\u001b[0m\n\u001b[0m\u001b[1;32m    140\u001b[0m \u001b[0;34m\u001b[0m\u001b[0m\n",
         "\u001b[0;31mValueError\u001b[0m: '2' not in array",
         "\nDuring handling of the above exception, another exception occurred:\n",
         "\u001b[0;31mTraitError\u001b[0m                                Traceback (most recent call last)",
         "\u001b[0;32m<ipython-input-2-e7e875206f73>\u001b[0m in \u001b[0;36m<module>\u001b[0;34m()\u001b[0m\n\u001b[1;32m      3\u001b[0m \u001b[0mWO\u001b[0m \u001b[0;34m=\u001b[0m \u001b[0mwo\u001b[0m\u001b[0;34m.\u001b[0m\u001b[0mWriteObject\u001b[0m\u001b[0;34m(\u001b[0m\u001b[0;34m)\u001b[0m\u001b[0;34m\u001b[0m\u001b[0m\n\u001b[1;32m      4\u001b[0m \u001b[0;34m\u001b[0m\u001b[0m\n\u001b[0;32m----> 5\u001b[0;31m \u001b[0mWO\u001b[0m\u001b[0;34m.\u001b[0m\u001b[0mSEEKForm\u001b[0m\u001b[0;34m(\u001b[0m\u001b[0;34m)\u001b[0m\u001b[0;34m\u001b[0m\u001b[0m\n\u001b[0m",
         "\u001b[0;32m~/Work/ThirdYear/Seek/TheSeekNotebook/WriteObject.py\u001b[0m in \u001b[0;36mSEEKForm\u001b[0;34m(self)\u001b[0m\n\u001b[1;32m     41\u001b[0m         self.createDropdown(op=[\"assays\",\"data_files\"], \n\u001b[1;32m     42\u001b[0m                             desc='\\nThe type of object you want to upload to SEEK:  ')\n\u001b[0;32m---> 43\u001b[0;31m \u001b[0;34m\u001b[0m\u001b[0m\n\u001b[0m\u001b[1;32m     44\u001b[0m \u001b[0;34m\u001b[0m\u001b[0m\n\u001b[1;32m     45\u001b[0m         \u001b[0;31m# print('\\nYou need to complete the following form in order to succesfully upload your information to SEEK')\u001b[0m\u001b[0;34m\u001b[0m\u001b[0;34m\u001b[0m\u001b[0m\n",
         "\u001b[0;32m~/Work/ThirdYear/Seek/TheSeekNotebook/WriteObject.py\u001b[0m in \u001b[0;36mcreateDropdown\u001b[0;34m(self, op, desc)\u001b[0m\n\u001b[1;32m     33\u001b[0m             \u001b[0mvalue\u001b[0m\u001b[0;34m=\u001b[0m\u001b[0;34m'2'\u001b[0m\u001b[0;34m,\u001b[0m\u001b[0;34m\u001b[0m\u001b[0m\n\u001b[1;32m     34\u001b[0m             \u001b[0mdescription\u001b[0m\u001b[0;34m=\u001b[0m\u001b[0mdesc\u001b[0m\u001b[0;34m,\u001b[0m\u001b[0;34m\u001b[0m\u001b[0m\n\u001b[0;32m---> 35\u001b[0;31m         )\n\u001b[0m\u001b[1;32m     36\u001b[0m \u001b[0;34m\u001b[0m\u001b[0m\n\u001b[1;32m     37\u001b[0m \u001b[0;34m\u001b[0m\u001b[0m\n",
         "\u001b[0;32m~/anaconda3/lib/python3.6/site-packages/ipywidgets/widgets/widget_selection.py\u001b[0m in \u001b[0;36m__init__\u001b[0;34m(self, *args, **kwargs)\u001b[0m\n\u001b[1;32m    188\u001b[0m             \u001b[0mkwargs\u001b[0m\u001b[0;34m[\u001b[0m\u001b[0;34m'label'\u001b[0m\u001b[0;34m]\u001b[0m\u001b[0;34m,\u001b[0m \u001b[0mkwargs\u001b[0m\u001b[0;34m[\u001b[0m\u001b[0;34m'value'\u001b[0m\u001b[0;34m]\u001b[0m \u001b[0;34m=\u001b[0m \u001b[0moptions\u001b[0m\u001b[0;34m[\u001b[0m\u001b[0;36m0\u001b[0m\u001b[0;34m]\u001b[0m \u001b[0;32mif\u001b[0m \u001b[0mnonempty\u001b[0m \u001b[0;32melse\u001b[0m \u001b[0;34m(\u001b[0m\u001b[0;32mNone\u001b[0m\u001b[0;34m,\u001b[0m \u001b[0;32mNone\u001b[0m\u001b[0;34m)\u001b[0m\u001b[0;34m\u001b[0m\u001b[0m\n\u001b[1;32m    189\u001b[0m \u001b[0;34m\u001b[0m\u001b[0m\n\u001b[0;32m--> 190\u001b[0;31m         \u001b[0msuper\u001b[0m\u001b[0;34m(\u001b[0m\u001b[0m_Selection\u001b[0m\u001b[0;34m,\u001b[0m \u001b[0mself\u001b[0m\u001b[0;34m)\u001b[0m\u001b[0;34m.\u001b[0m\u001b[0m__init__\u001b[0m\u001b[0;34m(\u001b[0m\u001b[0;34m*\u001b[0m\u001b[0margs\u001b[0m\u001b[0;34m,\u001b[0m \u001b[0;34m**\u001b[0m\u001b[0mkwargs\u001b[0m\u001b[0;34m)\u001b[0m\u001b[0;34m\u001b[0m\u001b[0m\n\u001b[0m\u001b[1;32m    191\u001b[0m         \u001b[0mself\u001b[0m\u001b[0;34m.\u001b[0m\u001b[0m_initializing_traits_\u001b[0m \u001b[0;34m=\u001b[0m \u001b[0;32mFalse\u001b[0m\u001b[0;34m\u001b[0m\u001b[0m\n\u001b[1;32m    192\u001b[0m \u001b[0;34m\u001b[0m\u001b[0m\n",
         "\u001b[0;32m~/anaconda3/lib/python3.6/site-packages/ipywidgets/widgets/widget.py\u001b[0m in \u001b[0;36m__init__\u001b[0;34m(self, **kwargs)\u001b[0m\n\u001b[1;32m    409\u001b[0m         \u001b[0;34m\"\"\"Public constructor\"\"\"\u001b[0m\u001b[0;34m\u001b[0m\u001b[0m\n\u001b[1;32m    410\u001b[0m         \u001b[0mself\u001b[0m\u001b[0;34m.\u001b[0m\u001b[0m_model_id\u001b[0m \u001b[0;34m=\u001b[0m \u001b[0mkwargs\u001b[0m\u001b[0;34m.\u001b[0m\u001b[0mpop\u001b[0m\u001b[0;34m(\u001b[0m\u001b[0;34m'model_id'\u001b[0m\u001b[0;34m,\u001b[0m \u001b[0;32mNone\u001b[0m\u001b[0;34m)\u001b[0m\u001b[0;34m\u001b[0m\u001b[0m\n\u001b[0;32m--> 411\u001b[0;31m         \u001b[0msuper\u001b[0m\u001b[0;34m(\u001b[0m\u001b[0mWidget\u001b[0m\u001b[0;34m,\u001b[0m \u001b[0mself\u001b[0m\u001b[0;34m)\u001b[0m\u001b[0;34m.\u001b[0m\u001b[0m__init__\u001b[0m\u001b[0;34m(\u001b[0m\u001b[0;34m**\u001b[0m\u001b[0mkwargs\u001b[0m\u001b[0;34m)\u001b[0m\u001b[0;34m\u001b[0m\u001b[0m\n\u001b[0m\u001b[1;32m    412\u001b[0m \u001b[0;34m\u001b[0m\u001b[0m\n\u001b[1;32m    413\u001b[0m         \u001b[0mWidget\u001b[0m\u001b[0;34m.\u001b[0m\u001b[0m_call_widget_constructed\u001b[0m\u001b[0;34m(\u001b[0m\u001b[0mself\u001b[0m\u001b[0;34m)\u001b[0m\u001b[0;34m\u001b[0m\u001b[0m\n",
         "\u001b[0;32m~/anaconda3/lib/python3.6/site-packages/traitlets/traitlets.py\u001b[0m in \u001b[0;36m__init__\u001b[0;34m(self, *args, **kwargs)\u001b[0m\n\u001b[1;32m    998\u001b[0m                 \u001b[0;32melse\u001b[0m\u001b[0;34m:\u001b[0m\u001b[0;34m\u001b[0m\u001b[0m\n\u001b[1;32m    999\u001b[0m                     \u001b[0;31m# passthrough args that don't set traits to super\u001b[0m\u001b[0;34m\u001b[0m\u001b[0;34m\u001b[0m\u001b[0m\n\u001b[0;32m-> 1000\u001b[0;31m                     \u001b[0msuper_kwargs\u001b[0m\u001b[0;34m[\u001b[0m\u001b[0mkey\u001b[0m\u001b[0;34m]\u001b[0m \u001b[0;34m=\u001b[0m \u001b[0mvalue\u001b[0m\u001b[0;34m\u001b[0m\u001b[0m\n\u001b[0m\u001b[1;32m   1001\u001b[0m         \u001b[0;32mtry\u001b[0m\u001b[0;34m:\u001b[0m\u001b[0;34m\u001b[0m\u001b[0m\n\u001b[1;32m   1002\u001b[0m             \u001b[0msuper\u001b[0m\u001b[0;34m(\u001b[0m\u001b[0mHasTraits\u001b[0m\u001b[0;34m,\u001b[0m \u001b[0mself\u001b[0m\u001b[0;34m)\u001b[0m\u001b[0;34m.\u001b[0m\u001b[0m__init__\u001b[0m\u001b[0;34m(\u001b[0m\u001b[0;34m*\u001b[0m\u001b[0msuper_args\u001b[0m\u001b[0;34m,\u001b[0m \u001b[0;34m**\u001b[0m\u001b[0msuper_kwargs\u001b[0m\u001b[0;34m)\u001b[0m\u001b[0;34m\u001b[0m\u001b[0m\n",
         "\u001b[0;32m~/anaconda3/lib/python3.6/contextlib.py\u001b[0m in \u001b[0;36m__exit__\u001b[0;34m(self, type, value, traceback)\u001b[0m\n\u001b[1;32m     86\u001b[0m         \u001b[0;32mif\u001b[0m \u001b[0mtype\u001b[0m \u001b[0;32mis\u001b[0m \u001b[0;32mNone\u001b[0m\u001b[0;34m:\u001b[0m\u001b[0;34m\u001b[0m\u001b[0m\n\u001b[1;32m     87\u001b[0m             \u001b[0;32mtry\u001b[0m\u001b[0;34m:\u001b[0m\u001b[0;34m\u001b[0m\u001b[0m\n\u001b[0;32m---> 88\u001b[0;31m                 \u001b[0mnext\u001b[0m\u001b[0;34m(\u001b[0m\u001b[0mself\u001b[0m\u001b[0;34m.\u001b[0m\u001b[0mgen\u001b[0m\u001b[0;34m)\u001b[0m\u001b[0;34m\u001b[0m\u001b[0m\n\u001b[0m\u001b[1;32m     89\u001b[0m             \u001b[0;32mexcept\u001b[0m \u001b[0mStopIteration\u001b[0m\u001b[0;34m:\u001b[0m\u001b[0;34m\u001b[0m\u001b[0m\n\u001b[1;32m     90\u001b[0m                 \u001b[0;32mreturn\u001b[0m \u001b[0;32mFalse\u001b[0m\u001b[0;34m\u001b[0m\u001b[0m\n",
         "\u001b[0;32m~/anaconda3/lib/python3.6/site-packages/traitlets/traitlets.py\u001b[0m in \u001b[0;36mhold_trait_notifications\u001b[0;34m(self)\u001b[0m\n\u001b[1;32m   1120\u001b[0m                                 \u001b[0mself\u001b[0m\u001b[0;34m.\u001b[0m\u001b[0m_trait_values\u001b[0m\u001b[0;34m.\u001b[0m\u001b[0mpop\u001b[0m\u001b[0;34m(\u001b[0m\u001b[0mname\u001b[0m\u001b[0;34m)\u001b[0m\u001b[0;34m\u001b[0m\u001b[0m\n\u001b[1;32m   1121\u001b[0m                 \u001b[0mcache\u001b[0m \u001b[0;34m=\u001b[0m \u001b[0;34m{\u001b[0m\u001b[0;34m}\u001b[0m\u001b[0;34m\u001b[0m\u001b[0m\n\u001b[0;32m-> 1122\u001b[0;31m                 \u001b[0;32mraise\u001b[0m \u001b[0me\u001b[0m\u001b[0;34m\u001b[0m\u001b[0m\n\u001b[0m\u001b[1;32m   1123\u001b[0m             \u001b[0;32mfinally\u001b[0m\u001b[0;34m:\u001b[0m\u001b[0;34m\u001b[0m\u001b[0m\n\u001b[1;32m   1124\u001b[0m                 \u001b[0mself\u001b[0m\u001b[0;34m.\u001b[0m\u001b[0m_cross_validation_lock\u001b[0m \u001b[0;34m=\u001b[0m \u001b[0;32mFalse\u001b[0m\u001b[0;34m\u001b[0m\u001b[0m\n",
         "\u001b[0;32m~/anaconda3/lib/python3.6/site-packages/traitlets/traitlets.py\u001b[0m in \u001b[0;36mhold_trait_notifications\u001b[0;34m(self)\u001b[0m\n\u001b[1;32m   1106\u001b[0m                 \u001b[0;32mfor\u001b[0m \u001b[0mname\u001b[0m \u001b[0;32min\u001b[0m \u001b[0mlist\u001b[0m\u001b[0;34m(\u001b[0m\u001b[0mcache\u001b[0m\u001b[0;34m.\u001b[0m\u001b[0mkeys\u001b[0m\u001b[0;34m(\u001b[0m\u001b[0;34m)\u001b[0m\u001b[0;34m)\u001b[0m\u001b[0;34m:\u001b[0m\u001b[0;34m\u001b[0m\u001b[0m\n\u001b[1;32m   1107\u001b[0m                     \u001b[0mtrait\u001b[0m \u001b[0;34m=\u001b[0m \u001b[0mgetattr\u001b[0m\u001b[0;34m(\u001b[0m\u001b[0mself\u001b[0m\u001b[0;34m.\u001b[0m\u001b[0m__class__\u001b[0m\u001b[0;34m,\u001b[0m \u001b[0mname\u001b[0m\u001b[0;34m)\u001b[0m\u001b[0;34m\u001b[0m\u001b[0m\n\u001b[0;32m-> 1108\u001b[0;31m                     \u001b[0mvalue\u001b[0m \u001b[0;34m=\u001b[0m \u001b[0mtrait\u001b[0m\u001b[0;34m.\u001b[0m\u001b[0m_cross_validate\u001b[0m\u001b[0;34m(\u001b[0m\u001b[0mself\u001b[0m\u001b[0;34m,\u001b[0m \u001b[0mgetattr\u001b[0m\u001b[0;34m(\u001b[0m\u001b[0mself\u001b[0m\u001b[0;34m,\u001b[0m \u001b[0mname\u001b[0m\u001b[0;34m)\u001b[0m\u001b[0;34m)\u001b[0m\u001b[0;34m\u001b[0m\u001b[0m\n\u001b[0m\u001b[1;32m   1109\u001b[0m                     \u001b[0mself\u001b[0m\u001b[0;34m.\u001b[0m\u001b[0mset_trait\u001b[0m\u001b[0;34m(\u001b[0m\u001b[0mname\u001b[0m\u001b[0;34m,\u001b[0m \u001b[0mvalue\u001b[0m\u001b[0;34m)\u001b[0m\u001b[0;34m\u001b[0m\u001b[0m\n\u001b[1;32m   1110\u001b[0m             \u001b[0;32mexcept\u001b[0m \u001b[0mTraitError\u001b[0m \u001b[0;32mas\u001b[0m \u001b[0me\u001b[0m\u001b[0;34m:\u001b[0m\u001b[0;34m\u001b[0m\u001b[0m\n",
         "\u001b[0;32m~/anaconda3/lib/python3.6/site-packages/traitlets/traitlets.py\u001b[0m in \u001b[0;36m_cross_validate\u001b[0;34m(self, obj, value)\u001b[0m\n\u001b[1;32m    597\u001b[0m         \u001b[0;32mif\u001b[0m \u001b[0mself\u001b[0m\u001b[0;34m.\u001b[0m\u001b[0mname\u001b[0m \u001b[0;32min\u001b[0m \u001b[0mobj\u001b[0m\u001b[0;34m.\u001b[0m\u001b[0m_trait_validators\u001b[0m\u001b[0;34m:\u001b[0m\u001b[0;34m\u001b[0m\u001b[0m\n\u001b[1;32m    598\u001b[0m             \u001b[0mproposal\u001b[0m \u001b[0;34m=\u001b[0m \u001b[0mBunch\u001b[0m\u001b[0;34m(\u001b[0m\u001b[0;34m{\u001b[0m\u001b[0;34m'trait'\u001b[0m\u001b[0;34m:\u001b[0m \u001b[0mself\u001b[0m\u001b[0;34m,\u001b[0m \u001b[0;34m'value'\u001b[0m\u001b[0;34m:\u001b[0m \u001b[0mvalue\u001b[0m\u001b[0;34m,\u001b[0m \u001b[0;34m'owner'\u001b[0m\u001b[0;34m:\u001b[0m \u001b[0mobj\u001b[0m\u001b[0;34m}\u001b[0m\u001b[0;34m)\u001b[0m\u001b[0;34m\u001b[0m\u001b[0m\n\u001b[0;32m--> 599\u001b[0;31m             \u001b[0mvalue\u001b[0m \u001b[0;34m=\u001b[0m \u001b[0mobj\u001b[0m\u001b[0;34m.\u001b[0m\u001b[0m_trait_validators\u001b[0m\u001b[0;34m[\u001b[0m\u001b[0mself\u001b[0m\u001b[0;34m.\u001b[0m\u001b[0mname\u001b[0m\u001b[0;34m]\u001b[0m\u001b[0;34m(\u001b[0m\u001b[0mobj\u001b[0m\u001b[0;34m,\u001b[0m \u001b[0mproposal\u001b[0m\u001b[0;34m)\u001b[0m\u001b[0;34m\u001b[0m\u001b[0m\n\u001b[0m\u001b[1;32m    600\u001b[0m         \u001b[0;32melif\u001b[0m \u001b[0mhasattr\u001b[0m\u001b[0;34m(\u001b[0m\u001b[0mobj\u001b[0m\u001b[0;34m,\u001b[0m \u001b[0;34m'_%s_validate'\u001b[0m \u001b[0;34m%\u001b[0m \u001b[0mself\u001b[0m\u001b[0;34m.\u001b[0m\u001b[0mname\u001b[0m\u001b[0;34m)\u001b[0m\u001b[0;34m:\u001b[0m\u001b[0;34m\u001b[0m\u001b[0m\n\u001b[1;32m    601\u001b[0m             \u001b[0mmeth_name\u001b[0m \u001b[0;34m=\u001b[0m \u001b[0;34m'_%s_validate'\u001b[0m \u001b[0;34m%\u001b[0m \u001b[0mself\u001b[0m\u001b[0;34m.\u001b[0m\u001b[0mname\u001b[0m\u001b[0;34m\u001b[0m\u001b[0m\n",
         "\u001b[0;32m~/anaconda3/lib/python3.6/site-packages/traitlets/traitlets.py\u001b[0m in \u001b[0;36m__call__\u001b[0;34m(self, *args, **kwargs)\u001b[0m\n\u001b[1;32m    905\u001b[0m         \u001b[0;34m\"\"\"Pass `*args` and `**kwargs` to the handler's function if it exists.\"\"\"\u001b[0m\u001b[0;34m\u001b[0m\u001b[0m\n\u001b[1;32m    906\u001b[0m         \u001b[0;32mif\u001b[0m \u001b[0mhasattr\u001b[0m\u001b[0;34m(\u001b[0m\u001b[0mself\u001b[0m\u001b[0;34m,\u001b[0m \u001b[0;34m'func'\u001b[0m\u001b[0;34m)\u001b[0m\u001b[0;34m:\u001b[0m\u001b[0;34m\u001b[0m\u001b[0m\n\u001b[0;32m--> 907\u001b[0;31m             \u001b[0;32mreturn\u001b[0m \u001b[0mself\u001b[0m\u001b[0;34m.\u001b[0m\u001b[0mfunc\u001b[0m\u001b[0;34m(\u001b[0m\u001b[0;34m*\u001b[0m\u001b[0margs\u001b[0m\u001b[0;34m,\u001b[0m \u001b[0;34m**\u001b[0m\u001b[0mkwargs\u001b[0m\u001b[0;34m)\u001b[0m\u001b[0;34m\u001b[0m\u001b[0m\n\u001b[0m\u001b[1;32m    908\u001b[0m         \u001b[0;32melse\u001b[0m\u001b[0;34m:\u001b[0m\u001b[0;34m\u001b[0m\u001b[0m\n\u001b[1;32m    909\u001b[0m             \u001b[0;32mreturn\u001b[0m \u001b[0mself\u001b[0m\u001b[0;34m.\u001b[0m\u001b[0m_init_call\u001b[0m\u001b[0;34m(\u001b[0m\u001b[0;34m*\u001b[0m\u001b[0margs\u001b[0m\u001b[0;34m,\u001b[0m \u001b[0;34m**\u001b[0m\u001b[0mkwargs\u001b[0m\u001b[0;34m)\u001b[0m\u001b[0;34m\u001b[0m\u001b[0m\n",
         "\u001b[0;32m~/anaconda3/lib/python3.6/site-packages/ipywidgets/widgets/widget_selection.py\u001b[0m in \u001b[0;36m_validate_value\u001b[0;34m(self, proposal)\u001b[0m\n\u001b[1;32m    239\u001b[0m             \u001b[0;32mreturn\u001b[0m \u001b[0mfindvalue\u001b[0m\u001b[0;34m(\u001b[0m\u001b[0mself\u001b[0m\u001b[0;34m.\u001b[0m\u001b[0m_options_values\u001b[0m\u001b[0;34m,\u001b[0m \u001b[0mvalue\u001b[0m\u001b[0;34m,\u001b[0m \u001b[0mself\u001b[0m\u001b[0;34m.\u001b[0m\u001b[0mequals\u001b[0m\u001b[0;34m)\u001b[0m \u001b[0;32mif\u001b[0m \u001b[0mvalue\u001b[0m \u001b[0;32mis\u001b[0m \u001b[0;32mnot\u001b[0m \u001b[0;32mNone\u001b[0m \u001b[0;32melse\u001b[0m \u001b[0;32mNone\u001b[0m\u001b[0;34m\u001b[0m\u001b[0m\n\u001b[1;32m    240\u001b[0m         \u001b[0;32mexcept\u001b[0m \u001b[0mValueError\u001b[0m\u001b[0;34m:\u001b[0m\u001b[0;34m\u001b[0m\u001b[0m\n\u001b[0;32m--> 241\u001b[0;31m             \u001b[0;32mraise\u001b[0m \u001b[0mTraitError\u001b[0m\u001b[0;34m(\u001b[0m\u001b[0;34m'Invalid selection: value not found'\u001b[0m\u001b[0;34m)\u001b[0m\u001b[0;34m\u001b[0m\u001b[0m\n\u001b[0m\u001b[1;32m    242\u001b[0m \u001b[0;34m\u001b[0m\u001b[0m\n\u001b[1;32m    243\u001b[0m     \u001b[0;34m@\u001b[0m\u001b[0mobserve\u001b[0m\u001b[0;34m(\u001b[0m\u001b[0;34m'value'\u001b[0m\u001b[0;34m)\u001b[0m\u001b[0;34m\u001b[0m\u001b[0m\n",
         "\u001b[0;31mTraitError\u001b[0m: Invalid selection: value not found"
        ]
       }
      ],
      "source": "import WriteObject as wo\n\nWO = wo.WriteObject()\n\nWO.SEEKForm()",
      "start_time": "2019-03-19T16:47:17.954Z"
     },
     {
      "end_time": "2019-03-19T16:47:25.918Z",
      "execution_time": "178ms",
      "outputs": [
       {
        "data": {
         "text/html": "<h3>SEEK FORM</h3>",
         "text/plain": "<IPython.core.display.HTML object>"
        },
        "metadata": {},
        "output_type": "display_data",
        "transient": {}
       },
       {
        "ename": "TraitError",
        "evalue": "Invalid selection: value not found",
        "output_type": "error",
        "traceback": [
         "\u001b[0;31m---------------------------------------------------------------------------\u001b[0m",
         "\u001b[0;31mStopIteration\u001b[0m                             Traceback (most recent call last)",
         "\u001b[0;32m~/anaconda3/lib/python3.6/site-packages/ipywidgets/widgets/widget_selection.py\u001b[0m in \u001b[0;36mfindvalue\u001b[0;34m(array, value, compare)\u001b[0m\n\u001b[1;32m    136\u001b[0m     \u001b[0;32mtry\u001b[0m\u001b[0;34m:\u001b[0m\u001b[0;34m\u001b[0m\u001b[0m\n\u001b[0;32m--> 137\u001b[0;31m         \u001b[0;32mreturn\u001b[0m \u001b[0mnext\u001b[0m\u001b[0;34m(\u001b[0m\u001b[0mx\u001b[0m \u001b[0;32mfor\u001b[0m \u001b[0mx\u001b[0m \u001b[0;32min\u001b[0m \u001b[0marray\u001b[0m \u001b[0;32mif\u001b[0m \u001b[0mcompare\u001b[0m\u001b[0;34m(\u001b[0m\u001b[0mx\u001b[0m\u001b[0;34m,\u001b[0m \u001b[0mvalue\u001b[0m\u001b[0;34m)\u001b[0m\u001b[0;34m)\u001b[0m\u001b[0;34m\u001b[0m\u001b[0m\n\u001b[0m\u001b[1;32m    138\u001b[0m     \u001b[0;32mexcept\u001b[0m \u001b[0mStopIteration\u001b[0m\u001b[0;34m:\u001b[0m\u001b[0;34m\u001b[0m\u001b[0m\n",
         "\u001b[0;31mStopIteration\u001b[0m: ",
         "\nDuring handling of the above exception, another exception occurred:\n",
         "\u001b[0;31mValueError\u001b[0m                                Traceback (most recent call last)",
         "\u001b[0;32m~/anaconda3/lib/python3.6/site-packages/ipywidgets/widgets/widget_selection.py\u001b[0m in \u001b[0;36m_validate_value\u001b[0;34m(self, proposal)\u001b[0m\n\u001b[1;32m    238\u001b[0m         \u001b[0;32mtry\u001b[0m\u001b[0;34m:\u001b[0m\u001b[0;34m\u001b[0m\u001b[0m\n\u001b[0;32m--> 239\u001b[0;31m             \u001b[0;32mreturn\u001b[0m \u001b[0mfindvalue\u001b[0m\u001b[0;34m(\u001b[0m\u001b[0mself\u001b[0m\u001b[0;34m.\u001b[0m\u001b[0m_options_values\u001b[0m\u001b[0;34m,\u001b[0m \u001b[0mvalue\u001b[0m\u001b[0;34m,\u001b[0m \u001b[0mself\u001b[0m\u001b[0;34m.\u001b[0m\u001b[0mequals\u001b[0m\u001b[0;34m)\u001b[0m \u001b[0;32mif\u001b[0m \u001b[0mvalue\u001b[0m \u001b[0;32mis\u001b[0m \u001b[0;32mnot\u001b[0m \u001b[0;32mNone\u001b[0m \u001b[0;32melse\u001b[0m \u001b[0;32mNone\u001b[0m\u001b[0;34m\u001b[0m\u001b[0m\n\u001b[0m\u001b[1;32m    240\u001b[0m         \u001b[0;32mexcept\u001b[0m \u001b[0mValueError\u001b[0m\u001b[0;34m:\u001b[0m\u001b[0;34m\u001b[0m\u001b[0m\n",
         "\u001b[0;32m~/anaconda3/lib/python3.6/site-packages/ipywidgets/widgets/widget_selection.py\u001b[0m in \u001b[0;36mfindvalue\u001b[0;34m(array, value, compare)\u001b[0m\n\u001b[1;32m    138\u001b[0m     \u001b[0;32mexcept\u001b[0m \u001b[0mStopIteration\u001b[0m\u001b[0;34m:\u001b[0m\u001b[0;34m\u001b[0m\u001b[0m\n\u001b[0;32m--> 139\u001b[0;31m         \u001b[0;32mraise\u001b[0m \u001b[0mValueError\u001b[0m\u001b[0;34m(\u001b[0m\u001b[0;34m'%r not in array'\u001b[0m\u001b[0;34m%\u001b[0m\u001b[0mvalue\u001b[0m\u001b[0;34m)\u001b[0m\u001b[0;34m\u001b[0m\u001b[0m\n\u001b[0m\u001b[1;32m    140\u001b[0m \u001b[0;34m\u001b[0m\u001b[0m\n",
         "\u001b[0;31mValueError\u001b[0m: '2' not in array",
         "\nDuring handling of the above exception, another exception occurred:\n",
         "\u001b[0;31mTraitError\u001b[0m                                Traceback (most recent call last)",
         "\u001b[0;32m<ipython-input-1-e7e875206f73>\u001b[0m in \u001b[0;36m<module>\u001b[0;34m()\u001b[0m\n\u001b[1;32m      3\u001b[0m \u001b[0mWO\u001b[0m \u001b[0;34m=\u001b[0m \u001b[0mwo\u001b[0m\u001b[0;34m.\u001b[0m\u001b[0mWriteObject\u001b[0m\u001b[0;34m(\u001b[0m\u001b[0;34m)\u001b[0m\u001b[0;34m\u001b[0m\u001b[0m\n\u001b[1;32m      4\u001b[0m \u001b[0;34m\u001b[0m\u001b[0m\n\u001b[0;32m----> 5\u001b[0;31m \u001b[0mWO\u001b[0m\u001b[0;34m.\u001b[0m\u001b[0mSEEKForm\u001b[0m\u001b[0;34m(\u001b[0m\u001b[0;34m)\u001b[0m\u001b[0;34m\u001b[0m\u001b[0m\n\u001b[0m",
         "\u001b[0;32m~/Work/ThirdYear/Seek/TheSeekNotebook/WriteObject.py\u001b[0m in \u001b[0;36mSEEKForm\u001b[0;34m(self)\u001b[0m\n\u001b[1;32m     40\u001b[0m         \u001b[0mdisplay\u001b[0m\u001b[0;34m(\u001b[0m\u001b[0mHTML\u001b[0m\u001b[0;34m(\u001b[0m\u001b[0;34m'<h3>SEEK FORM</h3>'\u001b[0m\u001b[0;34m)\u001b[0m\u001b[0;34m)\u001b[0m\u001b[0;34m\u001b[0m\u001b[0m\n\u001b[1;32m     41\u001b[0m         self.createDropdown(op=[\"assays\",\"data_files\"], \n\u001b[0;32m---> 42\u001b[0;31m                             desc='\\nThe type of object you want to upload to SEEK:  ')\n\u001b[0m\u001b[1;32m     43\u001b[0m \u001b[0;34m\u001b[0m\u001b[0m\n\u001b[1;32m     44\u001b[0m \u001b[0;34m\u001b[0m\u001b[0m\n",
         "\u001b[0;32m~/Work/ThirdYear/Seek/TheSeekNotebook/WriteObject.py\u001b[0m in \u001b[0;36mcreateDropdown\u001b[0;34m(self, op, desc)\u001b[0m\n\u001b[1;32m     32\u001b[0m             \u001b[0moptions\u001b[0m\u001b[0;34m=\u001b[0m\u001b[0mop\u001b[0m\u001b[0;34m,\u001b[0m\u001b[0;34m\u001b[0m\u001b[0m\n\u001b[1;32m     33\u001b[0m             \u001b[0mvalue\u001b[0m\u001b[0;34m=\u001b[0m\u001b[0;34m'2'\u001b[0m\u001b[0;34m,\u001b[0m\u001b[0;34m\u001b[0m\u001b[0m\n\u001b[0;32m---> 34\u001b[0;31m             \u001b[0mdescription\u001b[0m\u001b[0;34m=\u001b[0m\u001b[0mdesc\u001b[0m\u001b[0;34m,\u001b[0m\u001b[0;34m\u001b[0m\u001b[0m\n\u001b[0m\u001b[1;32m     35\u001b[0m         )\n\u001b[1;32m     36\u001b[0m \u001b[0;34m\u001b[0m\u001b[0m\n",
         "\u001b[0;32m~/anaconda3/lib/python3.6/site-packages/ipywidgets/widgets/widget_selection.py\u001b[0m in \u001b[0;36m__init__\u001b[0;34m(self, *args, **kwargs)\u001b[0m\n\u001b[1;32m    188\u001b[0m             \u001b[0mkwargs\u001b[0m\u001b[0;34m[\u001b[0m\u001b[0;34m'label'\u001b[0m\u001b[0;34m]\u001b[0m\u001b[0;34m,\u001b[0m \u001b[0mkwargs\u001b[0m\u001b[0;34m[\u001b[0m\u001b[0;34m'value'\u001b[0m\u001b[0;34m]\u001b[0m \u001b[0;34m=\u001b[0m \u001b[0moptions\u001b[0m\u001b[0;34m[\u001b[0m\u001b[0;36m0\u001b[0m\u001b[0;34m]\u001b[0m \u001b[0;32mif\u001b[0m \u001b[0mnonempty\u001b[0m \u001b[0;32melse\u001b[0m \u001b[0;34m(\u001b[0m\u001b[0;32mNone\u001b[0m\u001b[0;34m,\u001b[0m \u001b[0;32mNone\u001b[0m\u001b[0;34m)\u001b[0m\u001b[0;34m\u001b[0m\u001b[0m\n\u001b[1;32m    189\u001b[0m \u001b[0;34m\u001b[0m\u001b[0m\n\u001b[0;32m--> 190\u001b[0;31m         \u001b[0msuper\u001b[0m\u001b[0;34m(\u001b[0m\u001b[0m_Selection\u001b[0m\u001b[0;34m,\u001b[0m \u001b[0mself\u001b[0m\u001b[0;34m)\u001b[0m\u001b[0;34m.\u001b[0m\u001b[0m__init__\u001b[0m\u001b[0;34m(\u001b[0m\u001b[0;34m*\u001b[0m\u001b[0margs\u001b[0m\u001b[0;34m,\u001b[0m \u001b[0;34m**\u001b[0m\u001b[0mkwargs\u001b[0m\u001b[0;34m)\u001b[0m\u001b[0;34m\u001b[0m\u001b[0m\n\u001b[0m\u001b[1;32m    191\u001b[0m         \u001b[0mself\u001b[0m\u001b[0;34m.\u001b[0m\u001b[0m_initializing_traits_\u001b[0m \u001b[0;34m=\u001b[0m \u001b[0;32mFalse\u001b[0m\u001b[0;34m\u001b[0m\u001b[0m\n\u001b[1;32m    192\u001b[0m \u001b[0;34m\u001b[0m\u001b[0m\n",
         "\u001b[0;32m~/anaconda3/lib/python3.6/site-packages/ipywidgets/widgets/widget.py\u001b[0m in \u001b[0;36m__init__\u001b[0;34m(self, **kwargs)\u001b[0m\n\u001b[1;32m    409\u001b[0m         \u001b[0;34m\"\"\"Public constructor\"\"\"\u001b[0m\u001b[0;34m\u001b[0m\u001b[0m\n\u001b[1;32m    410\u001b[0m         \u001b[0mself\u001b[0m\u001b[0;34m.\u001b[0m\u001b[0m_model_id\u001b[0m \u001b[0;34m=\u001b[0m \u001b[0mkwargs\u001b[0m\u001b[0;34m.\u001b[0m\u001b[0mpop\u001b[0m\u001b[0;34m(\u001b[0m\u001b[0;34m'model_id'\u001b[0m\u001b[0;34m,\u001b[0m \u001b[0;32mNone\u001b[0m\u001b[0;34m)\u001b[0m\u001b[0;34m\u001b[0m\u001b[0m\n\u001b[0;32m--> 411\u001b[0;31m         \u001b[0msuper\u001b[0m\u001b[0;34m(\u001b[0m\u001b[0mWidget\u001b[0m\u001b[0;34m,\u001b[0m \u001b[0mself\u001b[0m\u001b[0;34m)\u001b[0m\u001b[0;34m.\u001b[0m\u001b[0m__init__\u001b[0m\u001b[0;34m(\u001b[0m\u001b[0;34m**\u001b[0m\u001b[0mkwargs\u001b[0m\u001b[0;34m)\u001b[0m\u001b[0;34m\u001b[0m\u001b[0m\n\u001b[0m\u001b[1;32m    412\u001b[0m \u001b[0;34m\u001b[0m\u001b[0m\n\u001b[1;32m    413\u001b[0m         \u001b[0mWidget\u001b[0m\u001b[0;34m.\u001b[0m\u001b[0m_call_widget_constructed\u001b[0m\u001b[0;34m(\u001b[0m\u001b[0mself\u001b[0m\u001b[0;34m)\u001b[0m\u001b[0;34m\u001b[0m\u001b[0m\n",
         "\u001b[0;32m~/anaconda3/lib/python3.6/site-packages/traitlets/traitlets.py\u001b[0m in \u001b[0;36m__init__\u001b[0;34m(self, *args, **kwargs)\u001b[0m\n\u001b[1;32m    998\u001b[0m                 \u001b[0;32melse\u001b[0m\u001b[0;34m:\u001b[0m\u001b[0;34m\u001b[0m\u001b[0m\n\u001b[1;32m    999\u001b[0m                     \u001b[0;31m# passthrough args that don't set traits to super\u001b[0m\u001b[0;34m\u001b[0m\u001b[0;34m\u001b[0m\u001b[0m\n\u001b[0;32m-> 1000\u001b[0;31m                     \u001b[0msuper_kwargs\u001b[0m\u001b[0;34m[\u001b[0m\u001b[0mkey\u001b[0m\u001b[0;34m]\u001b[0m \u001b[0;34m=\u001b[0m \u001b[0mvalue\u001b[0m\u001b[0;34m\u001b[0m\u001b[0m\n\u001b[0m\u001b[1;32m   1001\u001b[0m         \u001b[0;32mtry\u001b[0m\u001b[0;34m:\u001b[0m\u001b[0;34m\u001b[0m\u001b[0m\n\u001b[1;32m   1002\u001b[0m             \u001b[0msuper\u001b[0m\u001b[0;34m(\u001b[0m\u001b[0mHasTraits\u001b[0m\u001b[0;34m,\u001b[0m \u001b[0mself\u001b[0m\u001b[0;34m)\u001b[0m\u001b[0;34m.\u001b[0m\u001b[0m__init__\u001b[0m\u001b[0;34m(\u001b[0m\u001b[0;34m*\u001b[0m\u001b[0msuper_args\u001b[0m\u001b[0;34m,\u001b[0m \u001b[0;34m**\u001b[0m\u001b[0msuper_kwargs\u001b[0m\u001b[0;34m)\u001b[0m\u001b[0;34m\u001b[0m\u001b[0m\n",
         "\u001b[0;32m~/anaconda3/lib/python3.6/contextlib.py\u001b[0m in \u001b[0;36m__exit__\u001b[0;34m(self, type, value, traceback)\u001b[0m\n\u001b[1;32m     86\u001b[0m         \u001b[0;32mif\u001b[0m \u001b[0mtype\u001b[0m \u001b[0;32mis\u001b[0m \u001b[0;32mNone\u001b[0m\u001b[0;34m:\u001b[0m\u001b[0;34m\u001b[0m\u001b[0m\n\u001b[1;32m     87\u001b[0m             \u001b[0;32mtry\u001b[0m\u001b[0;34m:\u001b[0m\u001b[0;34m\u001b[0m\u001b[0m\n\u001b[0;32m---> 88\u001b[0;31m                 \u001b[0mnext\u001b[0m\u001b[0;34m(\u001b[0m\u001b[0mself\u001b[0m\u001b[0;34m.\u001b[0m\u001b[0mgen\u001b[0m\u001b[0;34m)\u001b[0m\u001b[0;34m\u001b[0m\u001b[0m\n\u001b[0m\u001b[1;32m     89\u001b[0m             \u001b[0;32mexcept\u001b[0m \u001b[0mStopIteration\u001b[0m\u001b[0;34m:\u001b[0m\u001b[0;34m\u001b[0m\u001b[0m\n\u001b[1;32m     90\u001b[0m                 \u001b[0;32mreturn\u001b[0m \u001b[0;32mFalse\u001b[0m\u001b[0;34m\u001b[0m\u001b[0m\n",
         "\u001b[0;32m~/anaconda3/lib/python3.6/site-packages/traitlets/traitlets.py\u001b[0m in \u001b[0;36mhold_trait_notifications\u001b[0;34m(self)\u001b[0m\n\u001b[1;32m   1120\u001b[0m                                 \u001b[0mself\u001b[0m\u001b[0;34m.\u001b[0m\u001b[0m_trait_values\u001b[0m\u001b[0;34m.\u001b[0m\u001b[0mpop\u001b[0m\u001b[0;34m(\u001b[0m\u001b[0mname\u001b[0m\u001b[0;34m)\u001b[0m\u001b[0;34m\u001b[0m\u001b[0m\n\u001b[1;32m   1121\u001b[0m                 \u001b[0mcache\u001b[0m \u001b[0;34m=\u001b[0m \u001b[0;34m{\u001b[0m\u001b[0;34m}\u001b[0m\u001b[0;34m\u001b[0m\u001b[0m\n\u001b[0;32m-> 1122\u001b[0;31m                 \u001b[0;32mraise\u001b[0m \u001b[0me\u001b[0m\u001b[0;34m\u001b[0m\u001b[0m\n\u001b[0m\u001b[1;32m   1123\u001b[0m             \u001b[0;32mfinally\u001b[0m\u001b[0;34m:\u001b[0m\u001b[0;34m\u001b[0m\u001b[0m\n\u001b[1;32m   1124\u001b[0m                 \u001b[0mself\u001b[0m\u001b[0;34m.\u001b[0m\u001b[0m_cross_validation_lock\u001b[0m \u001b[0;34m=\u001b[0m \u001b[0;32mFalse\u001b[0m\u001b[0;34m\u001b[0m\u001b[0m\n",
         "\u001b[0;32m~/anaconda3/lib/python3.6/site-packages/traitlets/traitlets.py\u001b[0m in \u001b[0;36mhold_trait_notifications\u001b[0;34m(self)\u001b[0m\n\u001b[1;32m   1106\u001b[0m                 \u001b[0;32mfor\u001b[0m \u001b[0mname\u001b[0m \u001b[0;32min\u001b[0m \u001b[0mlist\u001b[0m\u001b[0;34m(\u001b[0m\u001b[0mcache\u001b[0m\u001b[0;34m.\u001b[0m\u001b[0mkeys\u001b[0m\u001b[0;34m(\u001b[0m\u001b[0;34m)\u001b[0m\u001b[0;34m)\u001b[0m\u001b[0;34m:\u001b[0m\u001b[0;34m\u001b[0m\u001b[0m\n\u001b[1;32m   1107\u001b[0m                     \u001b[0mtrait\u001b[0m \u001b[0;34m=\u001b[0m \u001b[0mgetattr\u001b[0m\u001b[0;34m(\u001b[0m\u001b[0mself\u001b[0m\u001b[0;34m.\u001b[0m\u001b[0m__class__\u001b[0m\u001b[0;34m,\u001b[0m \u001b[0mname\u001b[0m\u001b[0;34m)\u001b[0m\u001b[0;34m\u001b[0m\u001b[0m\n\u001b[0;32m-> 1108\u001b[0;31m                     \u001b[0mvalue\u001b[0m \u001b[0;34m=\u001b[0m \u001b[0mtrait\u001b[0m\u001b[0;34m.\u001b[0m\u001b[0m_cross_validate\u001b[0m\u001b[0;34m(\u001b[0m\u001b[0mself\u001b[0m\u001b[0;34m,\u001b[0m \u001b[0mgetattr\u001b[0m\u001b[0;34m(\u001b[0m\u001b[0mself\u001b[0m\u001b[0;34m,\u001b[0m \u001b[0mname\u001b[0m\u001b[0;34m)\u001b[0m\u001b[0;34m)\u001b[0m\u001b[0;34m\u001b[0m\u001b[0m\n\u001b[0m\u001b[1;32m   1109\u001b[0m                     \u001b[0mself\u001b[0m\u001b[0;34m.\u001b[0m\u001b[0mset_trait\u001b[0m\u001b[0;34m(\u001b[0m\u001b[0mname\u001b[0m\u001b[0;34m,\u001b[0m \u001b[0mvalue\u001b[0m\u001b[0;34m)\u001b[0m\u001b[0;34m\u001b[0m\u001b[0m\n\u001b[1;32m   1110\u001b[0m             \u001b[0;32mexcept\u001b[0m \u001b[0mTraitError\u001b[0m \u001b[0;32mas\u001b[0m \u001b[0me\u001b[0m\u001b[0;34m:\u001b[0m\u001b[0;34m\u001b[0m\u001b[0m\n",
         "\u001b[0;32m~/anaconda3/lib/python3.6/site-packages/traitlets/traitlets.py\u001b[0m in \u001b[0;36m_cross_validate\u001b[0;34m(self, obj, value)\u001b[0m\n\u001b[1;32m    597\u001b[0m         \u001b[0;32mif\u001b[0m \u001b[0mself\u001b[0m\u001b[0;34m.\u001b[0m\u001b[0mname\u001b[0m \u001b[0;32min\u001b[0m \u001b[0mobj\u001b[0m\u001b[0;34m.\u001b[0m\u001b[0m_trait_validators\u001b[0m\u001b[0;34m:\u001b[0m\u001b[0;34m\u001b[0m\u001b[0m\n\u001b[1;32m    598\u001b[0m             \u001b[0mproposal\u001b[0m \u001b[0;34m=\u001b[0m \u001b[0mBunch\u001b[0m\u001b[0;34m(\u001b[0m\u001b[0;34m{\u001b[0m\u001b[0;34m'trait'\u001b[0m\u001b[0;34m:\u001b[0m \u001b[0mself\u001b[0m\u001b[0;34m,\u001b[0m \u001b[0;34m'value'\u001b[0m\u001b[0;34m:\u001b[0m \u001b[0mvalue\u001b[0m\u001b[0;34m,\u001b[0m \u001b[0;34m'owner'\u001b[0m\u001b[0;34m:\u001b[0m \u001b[0mobj\u001b[0m\u001b[0;34m}\u001b[0m\u001b[0;34m)\u001b[0m\u001b[0;34m\u001b[0m\u001b[0m\n\u001b[0;32m--> 599\u001b[0;31m             \u001b[0mvalue\u001b[0m \u001b[0;34m=\u001b[0m \u001b[0mobj\u001b[0m\u001b[0;34m.\u001b[0m\u001b[0m_trait_validators\u001b[0m\u001b[0;34m[\u001b[0m\u001b[0mself\u001b[0m\u001b[0;34m.\u001b[0m\u001b[0mname\u001b[0m\u001b[0;34m]\u001b[0m\u001b[0;34m(\u001b[0m\u001b[0mobj\u001b[0m\u001b[0;34m,\u001b[0m \u001b[0mproposal\u001b[0m\u001b[0;34m)\u001b[0m\u001b[0;34m\u001b[0m\u001b[0m\n\u001b[0m\u001b[1;32m    600\u001b[0m         \u001b[0;32melif\u001b[0m \u001b[0mhasattr\u001b[0m\u001b[0;34m(\u001b[0m\u001b[0mobj\u001b[0m\u001b[0;34m,\u001b[0m \u001b[0;34m'_%s_validate'\u001b[0m \u001b[0;34m%\u001b[0m \u001b[0mself\u001b[0m\u001b[0;34m.\u001b[0m\u001b[0mname\u001b[0m\u001b[0;34m)\u001b[0m\u001b[0;34m:\u001b[0m\u001b[0;34m\u001b[0m\u001b[0m\n\u001b[1;32m    601\u001b[0m             \u001b[0mmeth_name\u001b[0m \u001b[0;34m=\u001b[0m \u001b[0;34m'_%s_validate'\u001b[0m \u001b[0;34m%\u001b[0m \u001b[0mself\u001b[0m\u001b[0;34m.\u001b[0m\u001b[0mname\u001b[0m\u001b[0;34m\u001b[0m\u001b[0m\n",
         "\u001b[0;32m~/anaconda3/lib/python3.6/site-packages/traitlets/traitlets.py\u001b[0m in \u001b[0;36m__call__\u001b[0;34m(self, *args, **kwargs)\u001b[0m\n\u001b[1;32m    905\u001b[0m         \u001b[0;34m\"\"\"Pass `*args` and `**kwargs` to the handler's function if it exists.\"\"\"\u001b[0m\u001b[0;34m\u001b[0m\u001b[0m\n\u001b[1;32m    906\u001b[0m         \u001b[0;32mif\u001b[0m \u001b[0mhasattr\u001b[0m\u001b[0;34m(\u001b[0m\u001b[0mself\u001b[0m\u001b[0;34m,\u001b[0m \u001b[0;34m'func'\u001b[0m\u001b[0;34m)\u001b[0m\u001b[0;34m:\u001b[0m\u001b[0;34m\u001b[0m\u001b[0m\n\u001b[0;32m--> 907\u001b[0;31m             \u001b[0;32mreturn\u001b[0m \u001b[0mself\u001b[0m\u001b[0;34m.\u001b[0m\u001b[0mfunc\u001b[0m\u001b[0;34m(\u001b[0m\u001b[0;34m*\u001b[0m\u001b[0margs\u001b[0m\u001b[0;34m,\u001b[0m \u001b[0;34m**\u001b[0m\u001b[0mkwargs\u001b[0m\u001b[0;34m)\u001b[0m\u001b[0;34m\u001b[0m\u001b[0m\n\u001b[0m\u001b[1;32m    908\u001b[0m         \u001b[0;32melse\u001b[0m\u001b[0;34m:\u001b[0m\u001b[0;34m\u001b[0m\u001b[0m\n\u001b[1;32m    909\u001b[0m             \u001b[0;32mreturn\u001b[0m \u001b[0mself\u001b[0m\u001b[0;34m.\u001b[0m\u001b[0m_init_call\u001b[0m\u001b[0;34m(\u001b[0m\u001b[0;34m*\u001b[0m\u001b[0margs\u001b[0m\u001b[0;34m,\u001b[0m \u001b[0;34m**\u001b[0m\u001b[0mkwargs\u001b[0m\u001b[0;34m)\u001b[0m\u001b[0;34m\u001b[0m\u001b[0m\n",
         "\u001b[0;32m~/anaconda3/lib/python3.6/site-packages/ipywidgets/widgets/widget_selection.py\u001b[0m in \u001b[0;36m_validate_value\u001b[0;34m(self, proposal)\u001b[0m\n\u001b[1;32m    239\u001b[0m             \u001b[0;32mreturn\u001b[0m \u001b[0mfindvalue\u001b[0m\u001b[0;34m(\u001b[0m\u001b[0mself\u001b[0m\u001b[0;34m.\u001b[0m\u001b[0m_options_values\u001b[0m\u001b[0;34m,\u001b[0m \u001b[0mvalue\u001b[0m\u001b[0;34m,\u001b[0m \u001b[0mself\u001b[0m\u001b[0;34m.\u001b[0m\u001b[0mequals\u001b[0m\u001b[0;34m)\u001b[0m \u001b[0;32mif\u001b[0m \u001b[0mvalue\u001b[0m \u001b[0;32mis\u001b[0m \u001b[0;32mnot\u001b[0m \u001b[0;32mNone\u001b[0m \u001b[0;32melse\u001b[0m \u001b[0;32mNone\u001b[0m\u001b[0;34m\u001b[0m\u001b[0m\n\u001b[1;32m    240\u001b[0m         \u001b[0;32mexcept\u001b[0m \u001b[0mValueError\u001b[0m\u001b[0;34m:\u001b[0m\u001b[0;34m\u001b[0m\u001b[0m\n\u001b[0;32m--> 241\u001b[0;31m             \u001b[0;32mraise\u001b[0m \u001b[0mTraitError\u001b[0m\u001b[0;34m(\u001b[0m\u001b[0;34m'Invalid selection: value not found'\u001b[0m\u001b[0;34m)\u001b[0m\u001b[0;34m\u001b[0m\u001b[0m\n\u001b[0m\u001b[1;32m    242\u001b[0m \u001b[0;34m\u001b[0m\u001b[0m\n\u001b[1;32m    243\u001b[0m     \u001b[0;34m@\u001b[0m\u001b[0mobserve\u001b[0m\u001b[0;34m(\u001b[0m\u001b[0;34m'value'\u001b[0m\u001b[0;34m)\u001b[0m\u001b[0;34m\u001b[0m\u001b[0m\n",
         "\u001b[0;31mTraitError\u001b[0m: Invalid selection: value not found"
        ]
       }
      ],
      "source": "import WriteObject as wo\n\nWO = wo.WriteObject()\n\nWO.SEEKForm()",
      "start_time": "2019-03-19T16:47:25.740Z"
     },
     {
      "end_time": "2019-03-19T16:47:43.849Z",
      "execution_time": "47ms",
      "outputs": [
       {
        "data": {
         "text/html": "<h3>SEEK FORM</h3>",
         "text/plain": "<IPython.core.display.HTML object>"
        },
        "metadata": {},
        "output_type": "display_data",
        "transient": {}
       },
       {
        "ename": "TraitError",
        "evalue": "Invalid selection: value not found",
        "output_type": "error",
        "traceback": [
         "\u001b[0;31m---------------------------------------------------------------------------\u001b[0m",
         "\u001b[0;31mStopIteration\u001b[0m                             Traceback (most recent call last)",
         "\u001b[0;32m~/anaconda3/lib/python3.6/site-packages/ipywidgets/widgets/widget_selection.py\u001b[0m in \u001b[0;36mfindvalue\u001b[0;34m(array, value, compare)\u001b[0m\n\u001b[1;32m    136\u001b[0m     \u001b[0;32mtry\u001b[0m\u001b[0;34m:\u001b[0m\u001b[0;34m\u001b[0m\u001b[0m\n\u001b[0;32m--> 137\u001b[0;31m         \u001b[0;32mreturn\u001b[0m \u001b[0mnext\u001b[0m\u001b[0;34m(\u001b[0m\u001b[0mx\u001b[0m \u001b[0;32mfor\u001b[0m \u001b[0mx\u001b[0m \u001b[0;32min\u001b[0m \u001b[0marray\u001b[0m \u001b[0;32mif\u001b[0m \u001b[0mcompare\u001b[0m\u001b[0;34m(\u001b[0m\u001b[0mx\u001b[0m\u001b[0;34m,\u001b[0m \u001b[0mvalue\u001b[0m\u001b[0;34m)\u001b[0m\u001b[0;34m)\u001b[0m\u001b[0;34m\u001b[0m\u001b[0m\n\u001b[0m\u001b[1;32m    138\u001b[0m     \u001b[0;32mexcept\u001b[0m \u001b[0mStopIteration\u001b[0m\u001b[0;34m:\u001b[0m\u001b[0;34m\u001b[0m\u001b[0m\n",
         "\u001b[0;31mStopIteration\u001b[0m: ",
         "\nDuring handling of the above exception, another exception occurred:\n",
         "\u001b[0;31mValueError\u001b[0m                                Traceback (most recent call last)",
         "\u001b[0;32m~/anaconda3/lib/python3.6/site-packages/ipywidgets/widgets/widget_selection.py\u001b[0m in \u001b[0;36m_validate_value\u001b[0;34m(self, proposal)\u001b[0m\n\u001b[1;32m    238\u001b[0m         \u001b[0;32mtry\u001b[0m\u001b[0;34m:\u001b[0m\u001b[0;34m\u001b[0m\u001b[0m\n\u001b[0;32m--> 239\u001b[0;31m             \u001b[0;32mreturn\u001b[0m \u001b[0mfindvalue\u001b[0m\u001b[0;34m(\u001b[0m\u001b[0mself\u001b[0m\u001b[0;34m.\u001b[0m\u001b[0m_options_values\u001b[0m\u001b[0;34m,\u001b[0m \u001b[0mvalue\u001b[0m\u001b[0;34m,\u001b[0m \u001b[0mself\u001b[0m\u001b[0;34m.\u001b[0m\u001b[0mequals\u001b[0m\u001b[0;34m)\u001b[0m \u001b[0;32mif\u001b[0m \u001b[0mvalue\u001b[0m \u001b[0;32mis\u001b[0m \u001b[0;32mnot\u001b[0m \u001b[0;32mNone\u001b[0m \u001b[0;32melse\u001b[0m \u001b[0;32mNone\u001b[0m\u001b[0;34m\u001b[0m\u001b[0m\n\u001b[0m\u001b[1;32m    240\u001b[0m         \u001b[0;32mexcept\u001b[0m \u001b[0mValueError\u001b[0m\u001b[0;34m:\u001b[0m\u001b[0;34m\u001b[0m\u001b[0m\n",
         "\u001b[0;32m~/anaconda3/lib/python3.6/site-packages/ipywidgets/widgets/widget_selection.py\u001b[0m in \u001b[0;36mfindvalue\u001b[0;34m(array, value, compare)\u001b[0m\n\u001b[1;32m    138\u001b[0m     \u001b[0;32mexcept\u001b[0m \u001b[0mStopIteration\u001b[0m\u001b[0;34m:\u001b[0m\u001b[0;34m\u001b[0m\u001b[0m\n\u001b[0;32m--> 139\u001b[0;31m         \u001b[0;32mraise\u001b[0m \u001b[0mValueError\u001b[0m\u001b[0;34m(\u001b[0m\u001b[0;34m'%r not in array'\u001b[0m\u001b[0;34m%\u001b[0m\u001b[0mvalue\u001b[0m\u001b[0;34m)\u001b[0m\u001b[0;34m\u001b[0m\u001b[0m\n\u001b[0m\u001b[1;32m    140\u001b[0m \u001b[0;34m\u001b[0m\u001b[0m\n",
         "\u001b[0;31mValueError\u001b[0m: '2' not in array",
         "\nDuring handling of the above exception, another exception occurred:\n",
         "\u001b[0;31mTraitError\u001b[0m                                Traceback (most recent call last)",
         "\u001b[0;32m<ipython-input-2-e7e875206f73>\u001b[0m in \u001b[0;36m<module>\u001b[0;34m()\u001b[0m\n\u001b[1;32m      3\u001b[0m \u001b[0mWO\u001b[0m \u001b[0;34m=\u001b[0m \u001b[0mwo\u001b[0m\u001b[0;34m.\u001b[0m\u001b[0mWriteObject\u001b[0m\u001b[0;34m(\u001b[0m\u001b[0;34m)\u001b[0m\u001b[0;34m\u001b[0m\u001b[0m\n\u001b[1;32m      4\u001b[0m \u001b[0;34m\u001b[0m\u001b[0m\n\u001b[0;32m----> 5\u001b[0;31m \u001b[0mWO\u001b[0m\u001b[0;34m.\u001b[0m\u001b[0mSEEKForm\u001b[0m\u001b[0;34m(\u001b[0m\u001b[0;34m)\u001b[0m\u001b[0;34m\u001b[0m\u001b[0m\n\u001b[0m",
         "\u001b[0;32m~/Work/ThirdYear/Seek/TheSeekNotebook/WriteObject.py\u001b[0m in \u001b[0;36mSEEKForm\u001b[0;34m(self)\u001b[0m\n\u001b[1;32m     40\u001b[0m \u001b[0;34m\u001b[0m\u001b[0m\n\u001b[1;32m     41\u001b[0m         \u001b[0mdisplay\u001b[0m\u001b[0;34m(\u001b[0m\u001b[0mHTML\u001b[0m\u001b[0;34m(\u001b[0m\u001b[0;34m'<h3>SEEK FORM</h3>'\u001b[0m\u001b[0;34m)\u001b[0m\u001b[0;34m)\u001b[0m\u001b[0;34m\u001b[0m\u001b[0m\n\u001b[0;32m---> 42\u001b[0;31m         self.createDropdown(op=[\"assays\",\"data_files\"], \n\u001b[0m\u001b[1;32m     43\u001b[0m                             desc='\\nThe type of object you want to upload to SEEK:  ')\n\u001b[1;32m     44\u001b[0m \u001b[0;34m\u001b[0m\u001b[0m\n",
         "\u001b[0;32m~/Work/ThirdYear/Seek/TheSeekNotebook/WriteObject.py\u001b[0m in \u001b[0;36mcreateDropdown\u001b[0;34m(self, op, desc)\u001b[0m\n\u001b[1;32m     32\u001b[0m             \u001b[0moptions\u001b[0m\u001b[0;34m=\u001b[0m\u001b[0mop\u001b[0m\u001b[0;34m,\u001b[0m\u001b[0;34m\u001b[0m\u001b[0m\n\u001b[1;32m     33\u001b[0m             \u001b[0mvalue\u001b[0m\u001b[0;34m=\u001b[0m\u001b[0;34m'assays'\u001b[0m\u001b[0;34m,\u001b[0m\u001b[0;34m\u001b[0m\u001b[0m\n\u001b[0;32m---> 34\u001b[0;31m             \u001b[0mdescription\u001b[0m\u001b[0;34m=\u001b[0m\u001b[0mdesc\u001b[0m\u001b[0;34m,\u001b[0m\u001b[0;34m\u001b[0m\u001b[0m\n\u001b[0m\u001b[1;32m     35\u001b[0m             \u001b[0mdisabled\u001b[0m\u001b[0;34m=\u001b[0m\u001b[0;32mFalse\u001b[0m\u001b[0;34m,\u001b[0m\u001b[0;34m\u001b[0m\u001b[0m\n\u001b[1;32m     36\u001b[0m         )\n",
         "\u001b[0;32m~/anaconda3/lib/python3.6/site-packages/ipywidgets/widgets/widget_selection.py\u001b[0m in \u001b[0;36m__init__\u001b[0;34m(self, *args, **kwargs)\u001b[0m\n\u001b[1;32m    188\u001b[0m             \u001b[0mkwargs\u001b[0m\u001b[0;34m[\u001b[0m\u001b[0;34m'label'\u001b[0m\u001b[0;34m]\u001b[0m\u001b[0;34m,\u001b[0m \u001b[0mkwargs\u001b[0m\u001b[0;34m[\u001b[0m\u001b[0;34m'value'\u001b[0m\u001b[0;34m]\u001b[0m \u001b[0;34m=\u001b[0m \u001b[0moptions\u001b[0m\u001b[0;34m[\u001b[0m\u001b[0;36m0\u001b[0m\u001b[0;34m]\u001b[0m \u001b[0;32mif\u001b[0m \u001b[0mnonempty\u001b[0m \u001b[0;32melse\u001b[0m \u001b[0;34m(\u001b[0m\u001b[0;32mNone\u001b[0m\u001b[0;34m,\u001b[0m \u001b[0;32mNone\u001b[0m\u001b[0;34m)\u001b[0m\u001b[0;34m\u001b[0m\u001b[0m\n\u001b[1;32m    189\u001b[0m \u001b[0;34m\u001b[0m\u001b[0m\n\u001b[0;32m--> 190\u001b[0;31m         \u001b[0msuper\u001b[0m\u001b[0;34m(\u001b[0m\u001b[0m_Selection\u001b[0m\u001b[0;34m,\u001b[0m \u001b[0mself\u001b[0m\u001b[0;34m)\u001b[0m\u001b[0;34m.\u001b[0m\u001b[0m__init__\u001b[0m\u001b[0;34m(\u001b[0m\u001b[0;34m*\u001b[0m\u001b[0margs\u001b[0m\u001b[0;34m,\u001b[0m \u001b[0;34m**\u001b[0m\u001b[0mkwargs\u001b[0m\u001b[0;34m)\u001b[0m\u001b[0;34m\u001b[0m\u001b[0m\n\u001b[0m\u001b[1;32m    191\u001b[0m         \u001b[0mself\u001b[0m\u001b[0;34m.\u001b[0m\u001b[0m_initializing_traits_\u001b[0m \u001b[0;34m=\u001b[0m \u001b[0;32mFalse\u001b[0m\u001b[0;34m\u001b[0m\u001b[0m\n\u001b[1;32m    192\u001b[0m \u001b[0;34m\u001b[0m\u001b[0m\n",
         "\u001b[0;32m~/anaconda3/lib/python3.6/site-packages/ipywidgets/widgets/widget.py\u001b[0m in \u001b[0;36m__init__\u001b[0;34m(self, **kwargs)\u001b[0m\n\u001b[1;32m    409\u001b[0m         \u001b[0;34m\"\"\"Public constructor\"\"\"\u001b[0m\u001b[0;34m\u001b[0m\u001b[0m\n\u001b[1;32m    410\u001b[0m         \u001b[0mself\u001b[0m\u001b[0;34m.\u001b[0m\u001b[0m_model_id\u001b[0m \u001b[0;34m=\u001b[0m \u001b[0mkwargs\u001b[0m\u001b[0;34m.\u001b[0m\u001b[0mpop\u001b[0m\u001b[0;34m(\u001b[0m\u001b[0;34m'model_id'\u001b[0m\u001b[0;34m,\u001b[0m \u001b[0;32mNone\u001b[0m\u001b[0;34m)\u001b[0m\u001b[0;34m\u001b[0m\u001b[0m\n\u001b[0;32m--> 411\u001b[0;31m         \u001b[0msuper\u001b[0m\u001b[0;34m(\u001b[0m\u001b[0mWidget\u001b[0m\u001b[0;34m,\u001b[0m \u001b[0mself\u001b[0m\u001b[0;34m)\u001b[0m\u001b[0;34m.\u001b[0m\u001b[0m__init__\u001b[0m\u001b[0;34m(\u001b[0m\u001b[0;34m**\u001b[0m\u001b[0mkwargs\u001b[0m\u001b[0;34m)\u001b[0m\u001b[0;34m\u001b[0m\u001b[0m\n\u001b[0m\u001b[1;32m    412\u001b[0m \u001b[0;34m\u001b[0m\u001b[0m\n\u001b[1;32m    413\u001b[0m         \u001b[0mWidget\u001b[0m\u001b[0;34m.\u001b[0m\u001b[0m_call_widget_constructed\u001b[0m\u001b[0;34m(\u001b[0m\u001b[0mself\u001b[0m\u001b[0;34m)\u001b[0m\u001b[0;34m\u001b[0m\u001b[0m\n",
         "\u001b[0;32m~/anaconda3/lib/python3.6/site-packages/traitlets/traitlets.py\u001b[0m in \u001b[0;36m__init__\u001b[0;34m(self, *args, **kwargs)\u001b[0m\n\u001b[1;32m    998\u001b[0m                 \u001b[0;32melse\u001b[0m\u001b[0;34m:\u001b[0m\u001b[0;34m\u001b[0m\u001b[0m\n\u001b[1;32m    999\u001b[0m                     \u001b[0;31m# passthrough args that don't set traits to super\u001b[0m\u001b[0;34m\u001b[0m\u001b[0;34m\u001b[0m\u001b[0m\n\u001b[0;32m-> 1000\u001b[0;31m                     \u001b[0msuper_kwargs\u001b[0m\u001b[0;34m[\u001b[0m\u001b[0mkey\u001b[0m\u001b[0;34m]\u001b[0m \u001b[0;34m=\u001b[0m \u001b[0mvalue\u001b[0m\u001b[0;34m\u001b[0m\u001b[0m\n\u001b[0m\u001b[1;32m   1001\u001b[0m         \u001b[0;32mtry\u001b[0m\u001b[0;34m:\u001b[0m\u001b[0;34m\u001b[0m\u001b[0m\n\u001b[1;32m   1002\u001b[0m             \u001b[0msuper\u001b[0m\u001b[0;34m(\u001b[0m\u001b[0mHasTraits\u001b[0m\u001b[0;34m,\u001b[0m \u001b[0mself\u001b[0m\u001b[0;34m)\u001b[0m\u001b[0;34m.\u001b[0m\u001b[0m__init__\u001b[0m\u001b[0;34m(\u001b[0m\u001b[0;34m*\u001b[0m\u001b[0msuper_args\u001b[0m\u001b[0;34m,\u001b[0m \u001b[0;34m**\u001b[0m\u001b[0msuper_kwargs\u001b[0m\u001b[0;34m)\u001b[0m\u001b[0;34m\u001b[0m\u001b[0m\n",
         "\u001b[0;32m~/anaconda3/lib/python3.6/contextlib.py\u001b[0m in \u001b[0;36m__exit__\u001b[0;34m(self, type, value, traceback)\u001b[0m\n\u001b[1;32m     86\u001b[0m         \u001b[0;32mif\u001b[0m \u001b[0mtype\u001b[0m \u001b[0;32mis\u001b[0m \u001b[0;32mNone\u001b[0m\u001b[0;34m:\u001b[0m\u001b[0;34m\u001b[0m\u001b[0m\n\u001b[1;32m     87\u001b[0m             \u001b[0;32mtry\u001b[0m\u001b[0;34m:\u001b[0m\u001b[0;34m\u001b[0m\u001b[0m\n\u001b[0;32m---> 88\u001b[0;31m                 \u001b[0mnext\u001b[0m\u001b[0;34m(\u001b[0m\u001b[0mself\u001b[0m\u001b[0;34m.\u001b[0m\u001b[0mgen\u001b[0m\u001b[0;34m)\u001b[0m\u001b[0;34m\u001b[0m\u001b[0m\n\u001b[0m\u001b[1;32m     89\u001b[0m             \u001b[0;32mexcept\u001b[0m \u001b[0mStopIteration\u001b[0m\u001b[0;34m:\u001b[0m\u001b[0;34m\u001b[0m\u001b[0m\n\u001b[1;32m     90\u001b[0m                 \u001b[0;32mreturn\u001b[0m \u001b[0;32mFalse\u001b[0m\u001b[0;34m\u001b[0m\u001b[0m\n",
         "\u001b[0;32m~/anaconda3/lib/python3.6/site-packages/traitlets/traitlets.py\u001b[0m in \u001b[0;36mhold_trait_notifications\u001b[0;34m(self)\u001b[0m\n\u001b[1;32m   1120\u001b[0m                                 \u001b[0mself\u001b[0m\u001b[0;34m.\u001b[0m\u001b[0m_trait_values\u001b[0m\u001b[0;34m.\u001b[0m\u001b[0mpop\u001b[0m\u001b[0;34m(\u001b[0m\u001b[0mname\u001b[0m\u001b[0;34m)\u001b[0m\u001b[0;34m\u001b[0m\u001b[0m\n\u001b[1;32m   1121\u001b[0m                 \u001b[0mcache\u001b[0m \u001b[0;34m=\u001b[0m \u001b[0;34m{\u001b[0m\u001b[0;34m}\u001b[0m\u001b[0;34m\u001b[0m\u001b[0m\n\u001b[0;32m-> 1122\u001b[0;31m                 \u001b[0;32mraise\u001b[0m \u001b[0me\u001b[0m\u001b[0;34m\u001b[0m\u001b[0m\n\u001b[0m\u001b[1;32m   1123\u001b[0m             \u001b[0;32mfinally\u001b[0m\u001b[0;34m:\u001b[0m\u001b[0;34m\u001b[0m\u001b[0m\n\u001b[1;32m   1124\u001b[0m                 \u001b[0mself\u001b[0m\u001b[0;34m.\u001b[0m\u001b[0m_cross_validation_lock\u001b[0m \u001b[0;34m=\u001b[0m \u001b[0;32mFalse\u001b[0m\u001b[0;34m\u001b[0m\u001b[0m\n",
         "\u001b[0;32m~/anaconda3/lib/python3.6/site-packages/traitlets/traitlets.py\u001b[0m in \u001b[0;36mhold_trait_notifications\u001b[0;34m(self)\u001b[0m\n\u001b[1;32m   1106\u001b[0m                 \u001b[0;32mfor\u001b[0m \u001b[0mname\u001b[0m \u001b[0;32min\u001b[0m \u001b[0mlist\u001b[0m\u001b[0;34m(\u001b[0m\u001b[0mcache\u001b[0m\u001b[0;34m.\u001b[0m\u001b[0mkeys\u001b[0m\u001b[0;34m(\u001b[0m\u001b[0;34m)\u001b[0m\u001b[0;34m)\u001b[0m\u001b[0;34m:\u001b[0m\u001b[0;34m\u001b[0m\u001b[0m\n\u001b[1;32m   1107\u001b[0m                     \u001b[0mtrait\u001b[0m \u001b[0;34m=\u001b[0m \u001b[0mgetattr\u001b[0m\u001b[0;34m(\u001b[0m\u001b[0mself\u001b[0m\u001b[0;34m.\u001b[0m\u001b[0m__class__\u001b[0m\u001b[0;34m,\u001b[0m \u001b[0mname\u001b[0m\u001b[0;34m)\u001b[0m\u001b[0;34m\u001b[0m\u001b[0m\n\u001b[0;32m-> 1108\u001b[0;31m                     \u001b[0mvalue\u001b[0m \u001b[0;34m=\u001b[0m \u001b[0mtrait\u001b[0m\u001b[0;34m.\u001b[0m\u001b[0m_cross_validate\u001b[0m\u001b[0;34m(\u001b[0m\u001b[0mself\u001b[0m\u001b[0;34m,\u001b[0m \u001b[0mgetattr\u001b[0m\u001b[0;34m(\u001b[0m\u001b[0mself\u001b[0m\u001b[0;34m,\u001b[0m \u001b[0mname\u001b[0m\u001b[0;34m)\u001b[0m\u001b[0;34m)\u001b[0m\u001b[0;34m\u001b[0m\u001b[0m\n\u001b[0m\u001b[1;32m   1109\u001b[0m                     \u001b[0mself\u001b[0m\u001b[0;34m.\u001b[0m\u001b[0mset_trait\u001b[0m\u001b[0;34m(\u001b[0m\u001b[0mname\u001b[0m\u001b[0;34m,\u001b[0m \u001b[0mvalue\u001b[0m\u001b[0;34m)\u001b[0m\u001b[0;34m\u001b[0m\u001b[0m\n\u001b[1;32m   1110\u001b[0m             \u001b[0;32mexcept\u001b[0m \u001b[0mTraitError\u001b[0m \u001b[0;32mas\u001b[0m \u001b[0me\u001b[0m\u001b[0;34m:\u001b[0m\u001b[0;34m\u001b[0m\u001b[0m\n",
         "\u001b[0;32m~/anaconda3/lib/python3.6/site-packages/traitlets/traitlets.py\u001b[0m in \u001b[0;36m_cross_validate\u001b[0;34m(self, obj, value)\u001b[0m\n\u001b[1;32m    597\u001b[0m         \u001b[0;32mif\u001b[0m \u001b[0mself\u001b[0m\u001b[0;34m.\u001b[0m\u001b[0mname\u001b[0m \u001b[0;32min\u001b[0m \u001b[0mobj\u001b[0m\u001b[0;34m.\u001b[0m\u001b[0m_trait_validators\u001b[0m\u001b[0;34m:\u001b[0m\u001b[0;34m\u001b[0m\u001b[0m\n\u001b[1;32m    598\u001b[0m             \u001b[0mproposal\u001b[0m \u001b[0;34m=\u001b[0m \u001b[0mBunch\u001b[0m\u001b[0;34m(\u001b[0m\u001b[0;34m{\u001b[0m\u001b[0;34m'trait'\u001b[0m\u001b[0;34m:\u001b[0m \u001b[0mself\u001b[0m\u001b[0;34m,\u001b[0m \u001b[0;34m'value'\u001b[0m\u001b[0;34m:\u001b[0m \u001b[0mvalue\u001b[0m\u001b[0;34m,\u001b[0m \u001b[0;34m'owner'\u001b[0m\u001b[0;34m:\u001b[0m \u001b[0mobj\u001b[0m\u001b[0;34m}\u001b[0m\u001b[0;34m)\u001b[0m\u001b[0;34m\u001b[0m\u001b[0m\n\u001b[0;32m--> 599\u001b[0;31m             \u001b[0mvalue\u001b[0m \u001b[0;34m=\u001b[0m \u001b[0mobj\u001b[0m\u001b[0;34m.\u001b[0m\u001b[0m_trait_validators\u001b[0m\u001b[0;34m[\u001b[0m\u001b[0mself\u001b[0m\u001b[0;34m.\u001b[0m\u001b[0mname\u001b[0m\u001b[0;34m]\u001b[0m\u001b[0;34m(\u001b[0m\u001b[0mobj\u001b[0m\u001b[0;34m,\u001b[0m \u001b[0mproposal\u001b[0m\u001b[0;34m)\u001b[0m\u001b[0;34m\u001b[0m\u001b[0m\n\u001b[0m\u001b[1;32m    600\u001b[0m         \u001b[0;32melif\u001b[0m \u001b[0mhasattr\u001b[0m\u001b[0;34m(\u001b[0m\u001b[0mobj\u001b[0m\u001b[0;34m,\u001b[0m \u001b[0;34m'_%s_validate'\u001b[0m \u001b[0;34m%\u001b[0m \u001b[0mself\u001b[0m\u001b[0;34m.\u001b[0m\u001b[0mname\u001b[0m\u001b[0;34m)\u001b[0m\u001b[0;34m:\u001b[0m\u001b[0;34m\u001b[0m\u001b[0m\n\u001b[1;32m    601\u001b[0m             \u001b[0mmeth_name\u001b[0m \u001b[0;34m=\u001b[0m \u001b[0;34m'_%s_validate'\u001b[0m \u001b[0;34m%\u001b[0m \u001b[0mself\u001b[0m\u001b[0;34m.\u001b[0m\u001b[0mname\u001b[0m\u001b[0;34m\u001b[0m\u001b[0m\n",
         "\u001b[0;32m~/anaconda3/lib/python3.6/site-packages/traitlets/traitlets.py\u001b[0m in \u001b[0;36m__call__\u001b[0;34m(self, *args, **kwargs)\u001b[0m\n\u001b[1;32m    905\u001b[0m         \u001b[0;34m\"\"\"Pass `*args` and `**kwargs` to the handler's function if it exists.\"\"\"\u001b[0m\u001b[0;34m\u001b[0m\u001b[0m\n\u001b[1;32m    906\u001b[0m         \u001b[0;32mif\u001b[0m \u001b[0mhasattr\u001b[0m\u001b[0;34m(\u001b[0m\u001b[0mself\u001b[0m\u001b[0;34m,\u001b[0m \u001b[0;34m'func'\u001b[0m\u001b[0;34m)\u001b[0m\u001b[0;34m:\u001b[0m\u001b[0;34m\u001b[0m\u001b[0m\n\u001b[0;32m--> 907\u001b[0;31m             \u001b[0;32mreturn\u001b[0m \u001b[0mself\u001b[0m\u001b[0;34m.\u001b[0m\u001b[0mfunc\u001b[0m\u001b[0;34m(\u001b[0m\u001b[0;34m*\u001b[0m\u001b[0margs\u001b[0m\u001b[0;34m,\u001b[0m \u001b[0;34m**\u001b[0m\u001b[0mkwargs\u001b[0m\u001b[0;34m)\u001b[0m\u001b[0;34m\u001b[0m\u001b[0m\n\u001b[0m\u001b[1;32m    908\u001b[0m         \u001b[0;32melse\u001b[0m\u001b[0;34m:\u001b[0m\u001b[0;34m\u001b[0m\u001b[0m\n\u001b[1;32m    909\u001b[0m             \u001b[0;32mreturn\u001b[0m \u001b[0mself\u001b[0m\u001b[0;34m.\u001b[0m\u001b[0m_init_call\u001b[0m\u001b[0;34m(\u001b[0m\u001b[0;34m*\u001b[0m\u001b[0margs\u001b[0m\u001b[0;34m,\u001b[0m \u001b[0;34m**\u001b[0m\u001b[0mkwargs\u001b[0m\u001b[0;34m)\u001b[0m\u001b[0;34m\u001b[0m\u001b[0m\n",
         "\u001b[0;32m~/anaconda3/lib/python3.6/site-packages/ipywidgets/widgets/widget_selection.py\u001b[0m in \u001b[0;36m_validate_value\u001b[0;34m(self, proposal)\u001b[0m\n\u001b[1;32m    239\u001b[0m             \u001b[0;32mreturn\u001b[0m \u001b[0mfindvalue\u001b[0m\u001b[0;34m(\u001b[0m\u001b[0mself\u001b[0m\u001b[0;34m.\u001b[0m\u001b[0m_options_values\u001b[0m\u001b[0;34m,\u001b[0m \u001b[0mvalue\u001b[0m\u001b[0;34m,\u001b[0m \u001b[0mself\u001b[0m\u001b[0;34m.\u001b[0m\u001b[0mequals\u001b[0m\u001b[0;34m)\u001b[0m \u001b[0;32mif\u001b[0m \u001b[0mvalue\u001b[0m \u001b[0;32mis\u001b[0m \u001b[0;32mnot\u001b[0m \u001b[0;32mNone\u001b[0m \u001b[0;32melse\u001b[0m \u001b[0;32mNone\u001b[0m\u001b[0;34m\u001b[0m\u001b[0m\n\u001b[1;32m    240\u001b[0m         \u001b[0;32mexcept\u001b[0m \u001b[0mValueError\u001b[0m\u001b[0;34m:\u001b[0m\u001b[0;34m\u001b[0m\u001b[0m\n\u001b[0;32m--> 241\u001b[0;31m             \u001b[0;32mraise\u001b[0m \u001b[0mTraitError\u001b[0m\u001b[0;34m(\u001b[0m\u001b[0;34m'Invalid selection: value not found'\u001b[0m\u001b[0;34m)\u001b[0m\u001b[0;34m\u001b[0m\u001b[0m\n\u001b[0m\u001b[1;32m    242\u001b[0m \u001b[0;34m\u001b[0m\u001b[0m\n\u001b[1;32m    243\u001b[0m     \u001b[0;34m@\u001b[0m\u001b[0mobserve\u001b[0m\u001b[0;34m(\u001b[0m\u001b[0;34m'value'\u001b[0m\u001b[0;34m)\u001b[0m\u001b[0;34m\u001b[0m\u001b[0m\n",
         "\u001b[0;31mTraitError\u001b[0m: Invalid selection: value not found"
        ]
       }
      ],
      "source": "import WriteObject as wo\n\nWO = wo.WriteObject()\n\nWO.SEEKForm()",
      "start_time": "2019-03-19T16:47:43.802Z"
     },
     {
      "end_time": "2019-03-19T16:47:49.526Z",
      "execution_time": "128ms",
      "outputs": [
       {
        "data": {
         "text/html": "<h3>SEEK FORM</h3>",
         "text/plain": "<IPython.core.display.HTML object>"
        },
        "metadata": {},
        "output_type": "display_data",
        "transient": {}
       }
      ],
      "source": "import WriteObject as wo\n\nWO = wo.WriteObject()\n\nWO.SEEKForm()",
      "start_time": "2019-03-19T16:47:49.398Z"
     },
     {
      "end_time": "2019-03-19T16:53:02.635Z",
      "execution_time": "166ms",
      "outputs": [
       {
        "data": {
         "text/html": "<h3>SEEK FORM</h3>",
         "text/plain": "<IPython.core.display.HTML object>"
        },
        "metadata": {},
        "output_type": "display_data",
        "transient": {}
       },
       {
        "ename": "NameError",
        "evalue": "name 'op' is not defined",
        "output_type": "error",
        "traceback": [
         "\u001b[0;31m---------------------------------------------------------------------------\u001b[0m",
         "\u001b[0;31mNameError\u001b[0m                                 Traceback (most recent call last)",
         "\u001b[0;32m<ipython-input-1-e7e875206f73>\u001b[0m in \u001b[0;36m<module>\u001b[0;34m()\u001b[0m\n\u001b[1;32m      3\u001b[0m \u001b[0mWO\u001b[0m \u001b[0;34m=\u001b[0m \u001b[0mwo\u001b[0m\u001b[0;34m.\u001b[0m\u001b[0mWriteObject\u001b[0m\u001b[0;34m(\u001b[0m\u001b[0;34m)\u001b[0m\u001b[0;34m\u001b[0m\u001b[0m\n\u001b[1;32m      4\u001b[0m \u001b[0;34m\u001b[0m\u001b[0m\n\u001b[0;32m----> 5\u001b[0;31m \u001b[0mWO\u001b[0m\u001b[0;34m.\u001b[0m\u001b[0mSEEKForm\u001b[0m\u001b[0;34m(\u001b[0m\u001b[0;34m)\u001b[0m\u001b[0;34m\u001b[0m\u001b[0m\n\u001b[0m",
         "\u001b[0;32m~/Work/ThirdYear/Seek/TheSeekNotebook/WriteObject.py\u001b[0m in \u001b[0;36mSEEKForm\u001b[0;34m(self)\u001b[0m\n\u001b[1;32m     33\u001b[0m         \u001b[0mdisplay\u001b[0m\u001b[0;34m(\u001b[0m\u001b[0mHTML\u001b[0m\u001b[0;34m(\u001b[0m\u001b[0;34m'<h3>SEEK FORM</h3>'\u001b[0m\u001b[0;34m)\u001b[0m\u001b[0;34m)\u001b[0m\u001b[0;34m\u001b[0m\u001b[0m\n\u001b[1;32m     34\u001b[0m         dropdown = widgets.Dropdown(\n\u001b[0;32m---> 35\u001b[0;31m             \u001b[0moptions\u001b[0m\u001b[0;34m=\u001b[0m\u001b[0mop\u001b[0m\u001b[0;34m,\u001b[0m\u001b[0;34m\u001b[0m\u001b[0m\n\u001b[0m\u001b[1;32m     36\u001b[0m             \u001b[0mvalue\u001b[0m\u001b[0;34m=\u001b[0m\u001b[0;34m'assays'\u001b[0m\u001b[0;34m,\u001b[0m\u001b[0;34m\u001b[0m\u001b[0m\n\u001b[1;32m     37\u001b[0m             \u001b[0mdescription\u001b[0m\u001b[0;34m=\u001b[0m\u001b[0mdesc\u001b[0m\u001b[0;34m,\u001b[0m\u001b[0;34m\u001b[0m\u001b[0m\n",
         "\u001b[0;31mNameError\u001b[0m: name 'op' is not defined"
        ]
       }
      ],
      "source": "import WriteObject as wo\n\nWO = wo.WriteObject()\n\nWO.SEEKForm()",
      "start_time": "2019-03-19T16:53:02.469Z"
     },
     {
      "end_time": "2019-03-19T16:54:01.250Z",
      "execution_time": "105ms",
      "outputs": [
       {
        "data": {
         "text/html": "<h3>SEEK FORM</h3>",
         "text/plain": "<IPython.core.display.HTML object>"
        },
        "metadata": {},
        "output_type": "display_data",
        "transient": {}
       }
      ],
      "source": "import WriteObject as wo\n\nWO = wo.WriteObject()\n\nWO.SEEKForm()",
      "start_time": "2019-03-19T16:54:01.145Z"
     },
     {
      "end_time": "2019-03-19T16:57:40.463Z",
      "execution_time": "1.95s",
      "outputs": [
       {
        "name": "stdout",
        "output_type": "stream",
        "text": "Username: asd\nPassword: ········\n"
       },
       {
        "data": {
         "text/html": "<h3>SEEK FORM</h3>",
         "text/plain": "<IPython.core.display.HTML object>"
        },
        "metadata": {},
        "output_type": "display_data",
        "transient": {}
       }
      ],
      "source": "import WriteObject as wo\n\nWO = wo.WriteObject()\n\nWO.SEEKForm()",
      "start_time": "2019-03-19T16:57:38.516Z"
     },
     {
      "end_time": "2019-03-19T16:58:42.109Z",
      "execution_time": "1.71s",
      "outputs": [
       {
        "name": "stdout",
        "output_type": "stream",
        "text": "Username: dasd\nPassword: ········\n"
       },
       {
        "data": {
         "text/html": "<h3>SEEK FORM</h3>",
         "text/plain": "<IPython.core.display.HTML object>"
        },
        "metadata": {},
        "output_type": "display_data",
        "transient": {}
       }
      ],
      "source": "import WriteObject as wo\n\nWO = wo.WriteObject()\n\nWO.SEEKForm()",
      "start_time": "2019-03-19T16:58:40.404Z"
     },
     {
      "end_time": "2019-03-19T17:08:23.074Z",
      "execution_time": "1.51s",
      "outputs": [
       {
        "name": "stdout",
        "output_type": "stream",
        "text": "Username: asd\nPassword: ········\n"
       },
       {
        "data": {
         "text/html": "<h3>SEEK FORM</h3>",
         "text/plain": "<IPython.core.display.HTML object>"
        },
        "metadata": {},
        "output_type": "display_data",
        "transient": {}
       }
      ],
      "source": "import WriteObject as wo\n\nWO = wo.WriteObject()\n\nWO.SEEKForm()",
      "start_time": "2019-03-19T17:08:21.567Z"
     },
     {
      "end_time": "2019-03-19T17:08:37.980Z",
      "execution_time": "992ms",
      "outputs": [
       {
        "name": "stdout",
        "output_type": "stream",
        "text": "Username: asd\nPassword: ········\n"
       },
       {
        "data": {
         "text/html": "<h3>SEEK FORM</h3>",
         "text/plain": "<IPython.core.display.HTML object>"
        },
        "metadata": {},
        "output_type": "display_data",
        "transient": {}
       },
       {
        "data": {
         "application/vnd.jupyter.widget-view+json": {
          "model_id": "",
          "version_major": 2,
          "version_minor": 0
         },
         "text/plain": "Dropdown(description='What is it that you want to post?', options=('assays', 'data_files'), value='assays')"
        },
        "metadata": {},
        "output_type": "display_data",
        "transient": {}
       }
      ],
      "source": "import WriteObject as wo\n\nWO = wo.WriteObject()\n\nWO.SEEKForm()",
      "start_time": "2019-03-19T17:08:36.988Z"
     },
     {
      "end_time": "2019-03-19T17:13:19.784Z",
      "execution_time": "1.69s",
      "outputs": [
       {
        "name": "stdout",
        "output_type": "stream",
        "text": "Username: as\nPassword: ········\n"
       },
       {
        "data": {
         "text/html": "<h3>SEEK FORM</h3>",
         "text/plain": "<IPython.core.display.HTML object>"
        },
        "metadata": {},
        "output_type": "display_data",
        "transient": {}
       },
       {
        "data": {
         "application/vnd.jupyter.widget-view+json": {
          "model_id": "",
          "version_major": 2,
          "version_minor": 0
         },
         "text/plain": "HBox(children=(Label(value='What is it that you want to post?'), Dropdown(description='What is it that you wan…"
        },
        "metadata": {},
        "output_type": "display_data",
        "transient": {}
       }
      ],
      "source": "import WriteObject as wo\n\nWO = wo.WriteObject()\n\nWO.SEEKForm()",
      "start_time": "2019-03-19T17:13:18.090Z"
     },
     {
      "end_time": "2019-03-19T17:13:37.948Z",
      "execution_time": "1.64s",
      "outputs": [
       {
        "name": "stdout",
        "output_type": "stream",
        "text": "Username: as\nPassword: ········\n"
       },
       {
        "data": {
         "text/html": "<h3>SEEK FORM</h3>",
         "text/plain": "<IPython.core.display.HTML object>"
        },
        "metadata": {},
        "output_type": "display_data",
        "transient": {}
       },
       {
        "data": {
         "application/vnd.jupyter.widget-view+json": {
          "model_id": "",
          "version_major": 2,
          "version_minor": 0
         },
         "text/plain": "HBox(children=(Label(value='What is it that you want to post?'), Dropdown(options=('assays', 'data_files', 'st…"
        },
        "metadata": {},
        "output_type": "display_data",
        "transient": {}
       }
      ],
      "source": "import WriteObject as wo\n\nWO = wo.WriteObject()\n\nWO.SEEKForm()",
      "start_time": "2019-03-19T17:13:36.307Z"
     },
     {
      "end_time": "2019-03-19T17:14:45.874Z",
      "execution_time": "1.26s",
      "outputs": [
       {
        "name": "stdout",
        "output_type": "stream",
        "text": "Username: as\nPassword: ········\n"
       },
       {
        "data": {
         "text/html": "<h3>SEEK FORM</h3>",
         "text/plain": "<IPython.core.display.HTML object>"
        },
        "metadata": {},
        "output_type": "display_data",
        "transient": {}
       },
       {
        "data": {
         "application/vnd.jupyter.widget-view+json": {
          "model_id": "",
          "version_major": 2,
          "version_minor": 0
         },
         "text/plain": "HBox(children=(Label(value='What is it that you want to post?'), Dropdown(options=('assays', 'data_files', 'st…"
        },
        "metadata": {},
        "output_type": "display_data",
        "transient": {}
       }
      ],
      "source": "import WriteObject as wo\n\nWO = wo.WriteObject()\n\nWO.SEEKForm()",
      "start_time": "2019-03-19T17:14:44.617Z"
     },
     {
      "end_time": "2019-03-19T17:16:18.091Z",
      "execution_time": "2.00s",
      "outputs": [
       {
        "name": "stdout",
        "output_type": "stream",
        "text": "Username: asd\nPassword: ········\n"
       },
       {
        "data": {
         "text/html": "<h3>SEEK FORM</h3>",
         "text/plain": "<IPython.core.display.HTML object>"
        },
        "metadata": {},
        "output_type": "display_data",
        "transient": {}
       },
       {
        "data": {
         "application/vnd.jupyter.widget-view+json": {
          "model_id": "",
          "version_major": 2,
          "version_minor": 0
         },
         "text/plain": "HBox(children=(Label(value='What is it that you want to post?'), Dropdown(options=('assays', 'data_files', 'st…"
        },
        "metadata": {},
        "output_type": "display_data",
        "transient": {}
       }
      ],
      "source": "import WriteObject as wo\n\nWO = wo.WriteObject()\n\nWO.SEEKForm()",
      "start_time": "2019-03-19T17:16:16.086Z"
     },
     {
      "end_time": "2019-03-19T17:19:15.368Z",
      "execution_time": "1.60s",
      "outputs": [
       {
        "name": "stdout",
        "output_type": "stream",
        "text": "Username: as\nPassword: ········\n"
       },
       {
        "data": {
         "text/html": "<h3>SEEK FORM</h3>",
         "text/plain": "<IPython.core.display.HTML object>"
        },
        "metadata": {},
        "output_type": "display_data",
        "transient": {}
       },
       {
        "name": "stdout",
        "output_type": "stream",
        "text": "\nYou need to complete the following form in order to succesfully upload your information to SEEK\n"
       },
       {
        "data": {
         "application/vnd.jupyter.widget-view+json": {
          "model_id": "",
          "version_major": 2,
          "version_minor": 0
         },
         "text/plain": "HBox(children=(Label(value='What is it that you want to post?'), Dropdown(options=('assays', 'data_files', 'st…"
        },
        "metadata": {},
        "output_type": "display_data",
        "transient": {}
       }
      ],
      "source": "import WriteObject as wo\n\nWO = wo.WriteObject()\n\nWO.selectResearchType()",
      "start_time": "2019-03-19T17:19:13.763Z"
     },
     {
      "end_time": "2019-03-19T17:24:49.468Z",
      "execution_time": "1.86s",
      "outputs": [
       {
        "name": "stdout",
        "output_type": "stream",
        "text": "Username: asd\nPassword: ········\n"
       },
       {
        "data": {
         "text/html": "<h3>SEEK FORM</h3>",
         "text/plain": "<IPython.core.display.HTML object>"
        },
        "metadata": {},
        "output_type": "display_data",
        "transient": {}
       }
      ],
      "source": "import WriteObject as wo\n\nWO = wo.WriteObject()\n\nWO.selectResearchType()",
      "start_time": "2019-03-19T17:24:47.606Z"
     },
     {
      "end_time": "2019-03-19T17:33:05.205Z",
      "execution_time": "1.35s",
      "outputs": [
       {
        "name": "stdout",
        "output_type": "stream",
        "text": "Username: asd\nPassword: ········\n"
       },
       {
        "data": {
         "text/html": "<h3>SEEK FORM</h3>",
         "text/plain": "<IPython.core.display.HTML object>"
        },
        "metadata": {},
        "output_type": "display_data",
        "transient": {}
       },
       {
        "name": "stdout",
        "output_type": "stream",
        "text": "\nYou need to complete the following form in order to succesfully upload your information to SEEK\n"
       }
      ],
      "source": "import WriteObject as wo\n\nWO = wo.WriteObject()\n\nWO.selectResearchType()\nWO.fillDescription()",
      "start_time": "2019-03-19T17:33:03.850Z"
     },
     {
      "end_time": "2019-03-19T17:33:11.406Z",
      "execution_time": "1.32s",
      "outputs": [
       {
        "name": "stdout",
        "output_type": "stream",
        "text": "Username: asd\nPassword: ········\n"
       },
       {
        "data": {
         "text/html": "<h3>SEEK FORM</h3>",
         "text/plain": "<IPython.core.display.HTML object>"
        },
        "metadata": {},
        "output_type": "display_data",
        "transient": {}
       },
       {
        "name": "stdout",
        "output_type": "stream",
        "text": "\nYou need to complete the following form in order to succesfully upload your information to SEEK\n"
       },
       {
        "data": {
         "application/vnd.jupyter.widget-view+json": {
          "model_id": "",
          "version_major": 2,
          "version_minor": 0
         },
         "text/plain": "HBox(children=(Label(value='What is it that you want to post?'), Dropdown(options=('assays', 'data_files', 'st…"
        },
        "metadata": {},
        "output_type": "display_data",
        "transient": {}
       }
      ],
      "source": "import WriteObject as wo\n\nWO = wo.WriteObject()\n\nWO.selectResearchType()\n# WO.fillDescription()",
      "start_time": "2019-03-19T17:33:10.084Z"
     },
     {
      "end_time": "2019-03-19T17:34:53.399Z",
      "execution_time": "1.29s",
      "outputs": [
       {
        "name": "stdout",
        "output_type": "stream",
        "text": "Username: asd\nPassword: ········\n"
       },
       {
        "data": {
         "text/html": "<h3>SEEK FORM</h3>",
         "text/plain": "<IPython.core.display.HTML object>"
        },
        "metadata": {},
        "output_type": "display_data",
        "transient": {}
       },
       {
        "name": "stdout",
        "output_type": "stream",
        "text": "\nYou need to complete the following form in order to succesfully upload your information to SEEK\n"
       },
       {
        "data": {
         "application/vnd.jupyter.widget-view+json": {
          "model_id": "",
          "version_major": 2,
          "version_minor": 0
         },
         "text/plain": "HBox(children=(Label(value='Please provide your description'), Textarea(value='')))"
        },
        "metadata": {},
        "output_type": "display_data",
        "transient": {}
       }
      ],
      "source": "import WriteObject as wo\n\nWO = wo.WriteObject()\n\nWO.selectResearchType()\nWO.fillDescription()",
      "start_time": "2019-03-19T17:34:52.104Z"
     },
     {
      "end_time": "2019-03-19T17:34:58.528Z",
      "execution_time": "1.08s",
      "outputs": [
       {
        "name": "stdout",
        "output_type": "stream",
        "text": "Username: asd\nPassword: ········\n"
       },
       {
        "data": {
         "text/html": "<h3>SEEK FORM</h3>",
         "text/plain": "<IPython.core.display.HTML object>"
        },
        "metadata": {},
        "output_type": "display_data",
        "transient": {}
       },
       {
        "name": "stdout",
        "output_type": "stream",
        "text": "\nYou need to complete the following form in order to succesfully upload your information to SEEK\n"
       },
       {
        "data": {
         "application/vnd.jupyter.widget-view+json": {
          "model_id": "",
          "version_major": 2,
          "version_minor": 0
         },
         "text/plain": "HBox(children=(Label(value='What is it that you want to post?'), Dropdown(options=('assays', 'data_files', 'st…"
        },
        "metadata": {},
        "output_type": "display_data",
        "transient": {}
       }
      ],
      "source": "import WriteObject as wo\n\nWO = wo.WriteObject()\n\nWO.selectResearchType()\n# WO.fillDescription()",
      "start_time": "2019-03-19T17:34:57.448Z"
     },
     {
      "end_time": "2019-03-19T17:39:40.887Z",
      "execution_time": "1.48s",
      "outputs": [
       {
        "name": "stdout",
        "output_type": "stream",
        "text": "Username: asd\nPassword: ········\n"
       },
       {
        "data": {
         "text/html": "<h3>SEEK FORM</h3>",
         "text/plain": "<IPython.core.display.HTML object>"
        },
        "metadata": {},
        "output_type": "display_data",
        "transient": {}
       },
       {
        "name": "stdout",
        "output_type": "stream",
        "text": "\nYou need to complete the following form in order to succesfully upload your information to SEEK\n"
       },
       {
        "data": {
         "application/vnd.jupyter.widget-view+json": {
          "model_id": "",
          "version_major": 2,
          "version_minor": 0
         },
         "text/plain": "HBox(children=(Label(value='What is it that you want to post?'), Dropdown(options=('assays', 'data_files', 'st…"
        },
        "metadata": {},
        "output_type": "display_data",
        "transient": {}
       }
      ],
      "source": "import WriteObject as wo\n\nWO = wo.WriteObject()\n\nWO.selectResearchType()",
      "start_time": "2019-03-19T17:39:39.412Z"
     },
     {
      "end_time": "2019-03-19T17:40:05.483Z",
      "execution_time": "1.40s",
      "outputs": [
       {
        "name": "stdout",
        "output_type": "stream",
        "text": "Username: asd\nPassword: ········\n"
       },
       {
        "data": {
         "text/html": "<h3>SEEK FORM</h3>",
         "text/plain": "<IPython.core.display.HTML object>"
        },
        "metadata": {},
        "output_type": "display_data",
        "transient": {}
       },
       {
        "name": "stdout",
        "output_type": "stream",
        "text": "\nYou need to complete the following form in order to succesfully upload your information to SEEK\n"
       },
       {
        "data": {
         "application/vnd.jupyter.widget-view+json": {
          "model_id": "",
          "version_major": 2,
          "version_minor": 0
         },
         "text/plain": "HBox(children=(Label(value='What is it that you want to post?'), Dropdown(options=('assays', 'data_files', 'st…"
        },
        "metadata": {},
        "output_type": "display_data",
        "transient": {}
       }
      ],
      "source": "import WriteObject as wo\n\nWO = wo.WriteObject()\n\nWO.selectResearchType()",
      "start_time": "2019-03-19T17:40:04.083Z"
     },
     {
      "end_time": "2019-03-19T17:40:25.216Z",
      "execution_time": "1.80s",
      "outputs": [
       {
        "name": "stdout",
        "output_type": "stream",
        "text": "Username: asd\nPassword: ········\n"
       },
       {
        "data": {
         "text/html": "<h3>SEEK FORM</h3>",
         "text/plain": "<IPython.core.display.HTML object>"
        },
        "metadata": {},
        "output_type": "display_data",
        "transient": {}
       },
       {
        "name": "stdout",
        "output_type": "stream",
        "text": "\nYou need to complete the following form in order to succesfully upload your information to SEEK\n"
       },
       {
        "data": {
         "application/vnd.jupyter.widget-view+json": {
          "model_id": "",
          "version_major": 2,
          "version_minor": 0
         },
         "text/plain": "HBox(children=(Label(value='What is it that you want to post?'), Dropdown(options=('assays', 'data_files', 'st…"
        },
        "metadata": {},
        "output_type": "display_data",
        "transient": {}
       }
      ],
      "source": "import WriteObject as wo\n\nWO = wo.WriteObject()\n\nWO.selectResearchType()",
      "start_time": "2019-03-19T17:40:23.415Z"
     },
     {
      "end_time": "2019-03-19T17:41:13.596Z",
      "execution_time": "2.14s",
      "outputs": [
       {
        "name": "stdout",
        "output_type": "stream",
        "text": "Username: asd\nPassword: ········\n"
       },
       {
        "data": {
         "text/html": "<h3>SEEK FORM</h3>",
         "text/plain": "<IPython.core.display.HTML object>"
        },
        "metadata": {},
        "output_type": "display_data",
        "transient": {}
       },
       {
        "name": "stdout",
        "output_type": "stream",
        "text": "\nYou need to complete the following form in order to succesfully upload your information to SEEK\n"
       },
       {
        "data": {
         "application/vnd.jupyter.widget-view+json": {
          "model_id": "",
          "version_major": 2,
          "version_minor": 0
         },
         "text/plain": "HBox(children=(Label(value='What is it that you want to post?'), Dropdown(options=('assays', 'data_files', 'st…"
        },
        "metadata": {},
        "output_type": "display_data",
        "transient": {}
       }
      ],
      "source": "import WriteObject as wo\n\nWO = wo.WriteObject()\n\nWO.selectResearchType()",
      "start_time": "2019-03-19T17:41:11.457Z"
     },
     {
      "end_time": "2019-03-19T17:57:13.823Z",
      "execution_time": "2.76s",
      "outputs": [
       {
        "name": "stdout",
        "output_type": "stream",
        "text": "Username: asd\nPassword: ········\n"
       },
       {
        "data": {
         "text/html": "<h3>SEEK FORM</h3>",
         "text/plain": "<IPython.core.display.HTML object>"
        },
        "metadata": {},
        "output_type": "display_data",
        "transient": {}
       },
       {
        "name": "stdout",
        "output_type": "stream",
        "text": "\nYou need to complete the following form in order to succesfully upload your information to SEEK\n"
       },
       {
        "data": {
         "application/vnd.jupyter.widget-view+json": {
          "model_id": "",
          "version_major": 2,
          "version_minor": 0
         },
         "text/plain": "HBox(children=(Label(value='What is it that you want to post?'), Dropdown(options=('assays', 'data_files', 'st…"
        },
        "metadata": {},
        "output_type": "display_data",
        "transient": {}
       }
      ],
      "source": "import WriteObject as wo\n\nWO = wo.WriteObject()\n\nWO.selectResearchType()",
      "start_time": "2019-03-19T17:57:11.067Z"
     },
     {
      "end_time": "2019-03-19T18:02:42.119Z",
      "execution_time": "1.32s",
      "outputs": [
       {
        "name": "stdout",
        "output_type": "stream",
        "text": "Username: asd\nPassword: ········\n"
       },
       {
        "data": {
         "text/html": "<h3>SEEK FORM</h3>",
         "text/plain": "<IPython.core.display.HTML object>"
        },
        "metadata": {},
        "output_type": "display_data",
        "transient": {}
       },
       {
        "name": "stdout",
        "output_type": "stream",
        "text": "\nYou need to complete the following form in order to succesfully upload your information to SEEK\n"
       },
       {
        "data": {
         "application/vnd.jupyter.widget-view+json": {
          "model_id": "",
          "version_major": 2,
          "version_minor": 0
         },
         "text/plain": "HBox(children=(Label(value='What is it that you want to post?'), Dropdown(options=('assays', 'data_files', 'st…"
        },
        "metadata": {},
        "output_type": "display_data",
        "transient": {}
       }
      ],
      "source": "import WriteObject as wo\n\nWO = wo.WriteObject()\n\nWO.selectResearchType()",
      "start_time": "2019-03-19T18:02:40.798Z"
     },
     {
      "end_time": "2019-03-19T18:02:54.767Z",
      "execution_time": "22ms",
      "outputs": [
       {
        "ename": "SyntaxError",
        "evalue": "EOL while scanning string literal (WriteObject.py, line 94)",
        "output_type": "error",
        "traceback": [
         "Traceback \u001b[0;36m(most recent call last)\u001b[0m:\n",
         "  File \u001b[1;32m\"/home/bogdan/anaconda3/lib/python3.6/site-packages/IPython/core/interactiveshell.py\"\u001b[0m, line \u001b[1;32m2963\u001b[0m, in \u001b[1;35mrun_code\u001b[0m\n    exec(code_obj, self.user_global_ns, self.user_ns)\n",
         "\u001b[0;36m  File \u001b[0;32m\"<ipython-input-1-37dcdf329261>\"\u001b[0;36m, line \u001b[0;32m1\u001b[0;36m, in \u001b[0;35m<module>\u001b[0;36m\u001b[0m\n\u001b[0;31m    import WriteObject as wo\u001b[0m\n",
         "\u001b[0;36m  File \u001b[0;32m\"/home/bogdan/Work/ThirdYear/Seek/TheSeekNotebook/WriteObject.py\"\u001b[0;36m, line \u001b[0;32m94\u001b[0m\n\u001b[0;31m    value=\"Please select the class of Assay you wish to create:),\u001b[0m\n\u001b[0m                                                                  ^\u001b[0m\n\u001b[0;31mSyntaxError\u001b[0m\u001b[0;31m:\u001b[0m EOL while scanning string literal\n"
        ]
       }
      ],
      "source": "import WriteObject as wo\n\nWO = wo.WriteObject()\n\nWO.selectResearchType()",
      "start_time": "2019-03-19T18:02:54.745Z"
     },
     {
      "end_time": "2019-03-19T18:03:19.493Z",
      "execution_time": "1.58s",
      "outputs": [
       {
        "name": "stdout",
        "output_type": "stream",
        "text": "Username: asd\nPassword: ········\n"
       },
       {
        "data": {
         "text/html": "<h3>SEEK FORM</h3>",
         "text/plain": "<IPython.core.display.HTML object>"
        },
        "metadata": {},
        "output_type": "display_data",
        "transient": {}
       },
       {
        "name": "stdout",
        "output_type": "stream",
        "text": "\nYou need to complete the following form in order to succesfully upload your information to SEEK\n"
       },
       {
        "data": {
         "application/vnd.jupyter.widget-view+json": {
          "model_id": "",
          "version_major": 2,
          "version_minor": 0
         },
         "text/plain": "HBox(children=(Label(value='What is it that you want to post?'), Dropdown(options=('assays', 'data_files', 'st…"
        },
        "metadata": {},
        "output_type": "display_data",
        "transient": {}
       }
      ],
      "source": "import WriteObject as wo\n\nWO = wo.WriteObject()\n\nWO.selectResearchType()",
      "start_time": "2019-03-19T18:03:17.914Z"
     },
     {
      "end_time": "2019-03-19T18:08:41.440Z",
      "execution_time": "1.43s",
      "outputs": [
       {
        "name": "stdout",
        "output_type": "stream",
        "text": "Username: asd\nPassword: ········\n"
       },
       {
        "data": {
         "text/html": "<h3>SEEK FORM</h3>",
         "text/plain": "<IPython.core.display.HTML object>"
        },
        "metadata": {},
        "output_type": "display_data",
        "transient": {}
       },
       {
        "name": "stdout",
        "output_type": "stream",
        "text": "\nYou need to complete the following form in order to succesfully upload your information to SEEK\n"
       },
       {
        "data": {
         "application/vnd.jupyter.widget-view+json": {
          "model_id": "",
          "version_major": 2,
          "version_minor": 0
         },
         "text/plain": "HBox(children=(Label(value='What is it that you want to post?'), Dropdown(options=('assays', 'data_files', 'st…"
        },
        "metadata": {},
        "output_type": "display_data",
        "transient": {}
       }
      ],
      "source": "import WriteObject as wo\n\nWO = wo.WriteObject()\n\nWO.selectResearchType()",
      "start_time": "2019-03-19T18:08:40.008Z"
     },
     {
      "end_time": "2019-03-19T18:10:08.511Z",
      "execution_time": "1.27s",
      "outputs": [
       {
        "name": "stdout",
        "output_type": "stream",
        "text": "Username: asd\nPassword: ········\n"
       },
       {
        "data": {
         "text/html": "<h3>SEEK FORM</h3>",
         "text/plain": "<IPython.core.display.HTML object>"
        },
        "metadata": {},
        "output_type": "display_data",
        "transient": {}
       },
       {
        "name": "stdout",
        "output_type": "stream",
        "text": "\nYou need to complete the following form in order to succesfully upload your information to SEEK\n"
       },
       {
        "data": {
         "application/vnd.jupyter.widget-view+json": {
          "model_id": "",
          "version_major": 2,
          "version_minor": 0
         },
         "text/plain": "HBox(children=(Label(value='What is it that you want to post?'), Dropdown(options=('assays', 'data_files', 'st…"
        },
        "metadata": {},
        "output_type": "display_data",
        "transient": {}
       }
      ],
      "source": "import WriteObject as wo\n\nWO = wo.WriteObject()\n\nWO.selectResearchType()",
      "start_time": "2019-03-19T18:10:07.238Z"
     },
     {
      "end_time": "2019-03-19T18:11:49.100Z",
      "execution_time": "1.19s",
      "outputs": [
       {
        "name": "stdout",
        "output_type": "stream",
        "text": "Username: asda\nPassword: ········\n"
       },
       {
        "data": {
         "text/html": "<h3>SEEK FORM</h3>",
         "text/plain": "<IPython.core.display.HTML object>"
        },
        "metadata": {},
        "output_type": "display_data",
        "transient": {}
       },
       {
        "name": "stdout",
        "output_type": "stream",
        "text": "\nYou need to complete the following form in order to succesfully upload your information to SEEK\n"
       },
       {
        "data": {
         "application/vnd.jupyter.widget-view+json": {
          "model_id": "",
          "version_major": 2,
          "version_minor": 0
         },
         "text/plain": "HBox(children=(Label(value='What is it that you want to post?'), Dropdown(options=('assays', 'data_files', 'st…"
        },
        "metadata": {},
        "output_type": "display_data",
        "transient": {}
       }
      ],
      "source": "import WriteObject as wo\n\nWO = wo.WriteObject()\n\nWO.selectResearchType()",
      "start_time": "2019-03-19T18:11:47.908Z"
     },
     {
      "end_time": "2019-03-19T18:17:28.518Z",
      "execution_time": "1.74s",
      "outputs": [
       {
        "name": "stdout",
        "output_type": "stream",
        "text": "Username: sad\nPassword: ········\n"
       },
       {
        "data": {
         "text/html": "<h3>SEEK FORM</h3>",
         "text/plain": "<IPython.core.display.HTML object>"
        },
        "metadata": {},
        "output_type": "display_data",
        "transient": {}
       },
       {
        "name": "stdout",
        "output_type": "stream",
        "text": "\nYou need to complete the following form in order to succesfully upload your information to SEEK\n"
       },
       {
        "data": {
         "application/vnd.jupyter.widget-view+json": {
          "model_id": "",
          "version_major": 2,
          "version_minor": 0
         },
         "text/plain": "HBox(children=(Label(value='What is it that you want to post?'), Dropdown(options=('assays', 'data_files', 'st…"
        },
        "metadata": {},
        "output_type": "display_data",
        "transient": {}
       }
      ],
      "source": "import WriteObject as wo\n\nWO = wo.WriteObject()\n\nWO.selectResearchType()",
      "start_time": "2019-03-19T18:17:26.780Z"
     },
     {
      "end_time": "2019-03-19T19:54:10.326Z",
      "execution_time": "3.29s",
      "outputs": [
       {
        "name": "stdout",
        "output_type": "stream",
        "text": "Username: as\nPassword: ········\n"
       },
       {
        "data": {
         "text/html": "<h3>SEEK FORM</h3>",
         "text/plain": "<IPython.core.display.HTML object>"
        },
        "metadata": {},
        "output_type": "display_data",
        "transient": {}
       },
       {
        "name": "stdout",
        "output_type": "stream",
        "text": "\nYou need to complete the following form in order to succesfully upload your information to SEEK\n"
       },
       {
        "data": {
         "application/vnd.jupyter.widget-view+json": {
          "model_id": "",
          "version_major": 2,
          "version_minor": 0
         },
         "text/plain": "HBox(children=(Label(value='What is it that you want to post?'), Dropdown(options=('assays', 'data_files', 'st…"
        },
        "metadata": {},
        "output_type": "display_data",
        "transient": {}
       }
      ],
      "source": "import WriteObject as wo\n\nWO = wo.WriteObject()\n\nWO.selectResearchType()",
      "start_time": "2019-03-19T19:54:07.034Z"
     },
     {
      "end_time": "2019-03-19T19:58:16.277Z",
      "execution_time": "6.81s",
      "outputs": [
       {
        "name": "stdout",
        "output_type": "stream",
        "text": "Username: bogdan23a\nPassword: ········\n"
       },
       {
        "data": {
         "text/html": "<h3>SEEK FORM</h3>",
         "text/plain": "<IPython.core.display.HTML object>"
        },
        "metadata": {},
        "output_type": "display_data",
        "transient": {}
       },
       {
        "name": "stdout",
        "output_type": "stream",
        "text": "\nYou need to complete the following form in order to succesfully upload your information to SEEK\n"
       },
       {
        "data": {
         "application/vnd.jupyter.widget-view+json": {
          "model_id": "",
          "version_major": 2,
          "version_minor": 0
         },
         "text/plain": "HBox(children=(Label(value='What is it that you want to post?'), Dropdown(options=('assays', 'data_files', 'st…"
        },
        "metadata": {},
        "output_type": "display_data",
        "transient": {}
       }
      ],
      "source": "import WriteObject as wo\n\nWO = wo.WriteObject()\n\nWO.selectResearchType()",
      "start_time": "2019-03-19T19:58:09.471Z"
     },
     {
      "end_time": "2019-03-19T20:00:00.060Z",
      "execution_time": "5.19s",
      "outputs": [
       {
        "name": "stdout",
        "output_type": "stream",
        "text": "Username: bogdan23a\nPassword: ········\n"
       },
       {
        "data": {
         "text/html": "<h3>SEEK FORM</h3>",
         "text/plain": "<IPython.core.display.HTML object>"
        },
        "metadata": {},
        "output_type": "display_data",
        "transient": {}
       },
       {
        "name": "stdout",
        "output_type": "stream",
        "text": "\nYou need to complete the following form in order to succesfully upload your information to SEEK\n"
       },
       {
        "data": {
         "application/vnd.jupyter.widget-view+json": {
          "model_id": "",
          "version_major": 2,
          "version_minor": 0
         },
         "text/plain": "HBox(children=(Label(value='What is it that you want to post?'), Dropdown(options=('assays', 'data_files', 'st…"
        },
        "metadata": {},
        "output_type": "display_data",
        "transient": {}
       }
      ],
      "source": "import WriteObject as wo\n\nWO = wo.WriteObject()\n\nWO.selectResearchType()",
      "start_time": "2019-03-19T19:59:54.870Z"
     },
     {
      "end_time": "2019-03-19T20:11:30.708Z",
      "execution_time": "5.10s",
      "outputs": [
       {
        "name": "stdout",
        "output_type": "stream",
        "text": "Username: bogdan23a\nPassword: ········\n"
       },
       {
        "data": {
         "text/html": "<h3>SEEK FORM</h3>",
         "text/plain": "<IPython.core.display.HTML object>"
        },
        "metadata": {},
        "output_type": "display_data",
        "transient": {}
       },
       {
        "name": "stdout",
        "output_type": "stream",
        "text": "\nYou need to complete the following form in order to succesfully upload your information to SEEK\n"
       },
       {
        "data": {
         "application/vnd.jupyter.widget-view+json": {
          "model_id": "",
          "version_major": 2,
          "version_minor": 0
         },
         "text/plain": "HBox(children=(Label(value='What is it that you want to post?'), Dropdown(options=('assays', 'data_files', 'st…"
        },
        "metadata": {},
        "output_type": "display_data",
        "transient": {}
       }
      ],
      "source": "import WriteObject as wo\n\nWO = wo.WriteObject()\n\nWO.selectResearchType()",
      "start_time": "2019-03-19T20:11:25.605Z"
     },
     {
      "end_time": "2019-03-19T20:19:23.367Z",
      "execution_time": "9.96s",
      "outputs": [
       {
        "name": "stdout",
        "output_type": "stream",
        "text": "Username: bogdan23a\nPassword: ········\n"
       },
       {
        "data": {
         "text/html": "<h3>SEEK FORM</h3>",
         "text/plain": "<IPython.core.display.HTML object>"
        },
        "metadata": {},
        "output_type": "display_data",
        "transient": {}
       },
       {
        "name": "stdout",
        "output_type": "stream",
        "text": "\nYou need to complete the following form in order to succesfully upload your information to SEEK\n"
       },
       {
        "data": {
         "application/vnd.jupyter.widget-view+json": {
          "model_id": "",
          "version_major": 2,
          "version_minor": 0
         },
         "text/plain": "HBox(children=(Label(value='What is it that you want to post?'), Dropdown(options=('assays', 'data_files', 'st…"
        },
        "metadata": {},
        "output_type": "display_data",
        "transient": {}
       }
      ],
      "source": "import WriteObject as wo\n\nWO = wo.WriteObject()\n\nWO.selectResearchType()",
      "start_time": "2019-03-19T20:19:13.406Z"
     },
     {
      "end_time": "2019-03-19T20:58:26.508Z",
      "execution_time": "6.14s",
      "outputs": [
       {
        "name": "stdout",
        "output_type": "stream",
        "text": "Username: bogdan23a\nPassword: ········\n"
       },
       {
        "data": {
         "text/html": "<h3>SEEK FORM</h3>",
         "text/plain": "<IPython.core.display.HTML object>"
        },
        "metadata": {},
        "output_type": "display_data",
        "transient": {}
       },
       {
        "name": "stdout",
        "output_type": "stream",
        "text": "\nYou need to complete the following form in order to succesfully upload your information to SEEK\n"
       },
       {
        "data": {
         "application/vnd.jupyter.widget-view+json": {
          "model_id": "",
          "version_major": 2,
          "version_minor": 0
         },
         "text/plain": "HBox(children=(Label(value='What is it that you want to post?'), Dropdown(options=('assays', 'data_files', 'st…"
        },
        "metadata": {},
        "output_type": "display_data",
        "transient": {}
       }
      ],
      "source": "import WriteObject as wo\n\nWO = wo.WriteObject()\n\nWO.selectResearchType()",
      "start_time": "2019-03-19T20:58:20.370Z"
     },
     {
      "end_time": "2019-03-19T20:59:35.402Z",
      "execution_time": "6.16s",
      "outputs": [
       {
        "name": "stdout",
        "output_type": "stream",
        "text": "Username: bogdan23a\nPassword: ········\n"
       },
       {
        "data": {
         "text/html": "<h3>SEEK FORM</h3>",
         "text/plain": "<IPython.core.display.HTML object>"
        },
        "metadata": {},
        "output_type": "display_data",
        "transient": {}
       },
       {
        "name": "stdout",
        "output_type": "stream",
        "text": "\nYou need to complete the following form in order to succesfully upload your information to SEEK\n"
       },
       {
        "data": {
         "application/vnd.jupyter.widget-view+json": {
          "model_id": "",
          "version_major": 2,
          "version_minor": 0
         },
         "text/plain": "HBox(children=(Label(value='What is it that you want to post?'), Dropdown(options=('assays', 'data_files', 'st…"
        },
        "metadata": {},
        "output_type": "display_data",
        "transient": {}
       }
      ],
      "source": "import WriteObject as wo\n\nWO = wo.WriteObject()\n\nWO.selectResearchType()",
      "start_time": "2019-03-19T20:59:29.242Z"
     },
     {
      "end_time": "2019-03-19T21:00:09.002Z",
      "execution_time": "8.96s",
      "outputs": [
       {
        "name": "stdout",
        "output_type": "stream",
        "text": "Username: bogdan23a\nPassword: ········\n"
       },
       {
        "data": {
         "text/html": "<h3>SEEK FORM</h3>",
         "text/plain": "<IPython.core.display.HTML object>"
        },
        "metadata": {},
        "output_type": "display_data",
        "transient": {}
       },
       {
        "name": "stdout",
        "output_type": "stream",
        "text": "\nYou need to complete the following form in order to succesfully upload your information to SEEK\n"
       },
       {
        "data": {
         "application/vnd.jupyter.widget-view+json": {
          "model_id": "",
          "version_major": 2,
          "version_minor": 0
         },
         "text/plain": "HBox(children=(Label(value='What is it that you want to post?'), Dropdown(options=('assays', 'data_files', 'st…"
        },
        "metadata": {},
        "output_type": "display_data",
        "transient": {}
       }
      ],
      "source": "import WriteObject as wo\n\nWO = wo.WriteObject()\n\nWO.selectResearchType()",
      "start_time": "2019-03-19T21:00:00.045Z"
     },
     {
      "end_time": "2019-03-19T21:27:22.708Z",
      "execution_time": "6.12s",
      "outputs": [
       {
        "name": "stdout",
        "output_type": "stream",
        "text": "Username: bogdan23a\nPassword: ········\n"
       },
       {
        "data": {
         "text/html": "<h3>SEEK FORM</h3>",
         "text/plain": "<IPython.core.display.HTML object>"
        },
        "metadata": {},
        "output_type": "display_data",
        "transient": {}
       },
       {
        "name": "stdout",
        "output_type": "stream",
        "text": "\nYou need to complete the following form in order to succesfully upload your information to SEEK\n"
       },
       {
        "data": {
         "application/vnd.jupyter.widget-view+json": {
          "model_id": "5e8b31d296484c83b5e1ccd5313f2229",
          "version_major": 2,
          "version_minor": 0
         },
         "text/plain": "HBox(children=(Label(value='What is it that you want to post?'), Dropdown(options=('assays', 'data_files', 'st…"
        },
        "metadata": {},
        "output_type": "display_data",
        "transient": {}
       }
      ],
      "source": "import WriteObject as wo\n\nWO = wo.WriteObject()\n\nWO.selectResearchType()",
      "start_time": "2019-03-19T21:27:16.592Z"
     }
    ],
    "scrolled": false
   },
   "outputs": [
    {
     "name": "stdout",
     "output_type": "stream",
     "text": [
      "Username: bogdan23a\n",
      "Password: ········\n"
     ]
    },
    {
     "data": {
      "text/html": [
       "<h3>SEEK FORM</h3>"
      ],
      "text/plain": [
       "<IPython.core.display.HTML object>"
      ]
     },
     "metadata": {},
     "output_type": "display_data"
    },
    {
     "name": "stdout",
     "output_type": "stream",
     "text": [
      "\n",
      "You need to complete the following form in order to succesfully upload your information to SEEK\n"
     ]
    },
    {
     "data": {
      "application/vnd.jupyter.widget-view+json": {
       "model_id": "5e8b31d296484c83b5e1ccd5313f2229",
       "version_major": 2,
       "version_minor": 0
      },
      "text/plain": [
       "HBox(children=(Label(value='What is it that you want to post?'), Dropdown(options=('assays', 'data_files', 'st…"
      ]
     },
     "metadata": {},
     "output_type": "display_data"
    }
   ],
   "source": [
    "import WriteObject as wo\n",
    "\n",
    "WO = wo.WriteObject()\n",
    "\n",
    "WO.selectResearchType()"
   ]
  },
  {
   "cell_type": "code",
   "execution_count": null,
   "metadata": {
    "ExecutionTime": {
     "end_time": "2019-03-19T20:19:25.796383Z",
     "start_time": "2019-03-19T20:19:25.749497Z"
    },
    "provenance": [
     {
      "end_time": "2019-03-19T17:33:22.715Z",
      "execution_time": "35ms",
      "outputs": [],
      "source": "WO.fillDescription()",
      "start_time": "2019-03-19T17:33:22.680Z"
     },
     {
      "end_time": "2019-03-19T17:35:00.596Z",
      "execution_time": "45ms",
      "outputs": [
       {
        "data": {
         "application/vnd.jupyter.widget-view+json": {
          "model_id": "",
          "version_major": 2,
          "version_minor": 0
         },
         "text/plain": "HBox(children=(Label(value='Please provide your description'), Textarea(value='')))"
        },
        "metadata": {},
        "output_type": "display_data",
        "transient": {}
       }
      ],
      "source": "WO.fillDescription()",
      "start_time": "2019-03-19T17:35:00.551Z"
     },
     {
      "end_time": "2019-03-19T17:39:42.875Z",
      "execution_time": "73ms",
      "outputs": [
       {
        "ename": "NameError",
        "evalue": "name 'Layout' is not defined",
        "output_type": "error",
        "traceback": [
         "\u001b[0;31m---------------------------------------------------------------------------\u001b[0m",
         "\u001b[0;31mNameError\u001b[0m                                 Traceback (most recent call last)",
         "\u001b[0;32m<ipython-input-2-562b794bc803>\u001b[0m in \u001b[0;36m<module>\u001b[0;34m()\u001b[0m\n\u001b[0;32m----> 1\u001b[0;31m \u001b[0mWO\u001b[0m\u001b[0;34m.\u001b[0m\u001b[0mfillDescription\u001b[0m\u001b[0;34m(\u001b[0m\u001b[0;34m)\u001b[0m\u001b[0;34m\u001b[0m\u001b[0m\n\u001b[0m",
         "\u001b[0;32m~/Work/ThirdYear/Seek/TheSeekNotebook/WriteObject.py\u001b[0m in \u001b[0;36mfillDescription\u001b[0;34m(self)\u001b[0m\n\u001b[1;32m     57\u001b[0m     \u001b[0;32mdef\u001b[0m \u001b[0mfillDescription\u001b[0m\u001b[0;34m(\u001b[0m\u001b[0mself\u001b[0m\u001b[0;34m)\u001b[0m\u001b[0;34m:\u001b[0m\u001b[0;34m\u001b[0m\u001b[0m\n\u001b[1;32m     58\u001b[0m \u001b[0;34m\u001b[0m\u001b[0m\n\u001b[0;32m---> 59\u001b[0;31m         \u001b[0ml\u001b[0m \u001b[0;34m=\u001b[0m \u001b[0mLayout\u001b[0m\u001b[0;34m(\u001b[0m\u001b[0mflex\u001b[0m\u001b[0;34m=\u001b[0m\u001b[0;34m'0 1 auto'\u001b[0m\u001b[0;34m,\u001b[0m \u001b[0mheight\u001b[0m\u001b[0;34m=\u001b[0m\u001b[0;34m'40px'\u001b[0m\u001b[0;34m,\u001b[0m \u001b[0mmin_height\u001b[0m\u001b[0;34m=\u001b[0m\u001b[0;34m'40px'\u001b[0m\u001b[0;34m,\u001b[0m \u001b[0mwidth\u001b[0m\u001b[0;34m=\u001b[0m\u001b[0;34m'500px'\u001b[0m\u001b[0;34m)\u001b[0m\u001b[0;34m\u001b[0m\u001b[0m\n\u001b[0m\u001b[1;32m     60\u001b[0m         \u001b[0mself\u001b[0m\u001b[0;34m.\u001b[0m\u001b[0mdescription\u001b[0m \u001b[0;34m=\u001b[0m \u001b[0mwidgets\u001b[0m\u001b[0;34m.\u001b[0m\u001b[0mTextarea\u001b[0m\u001b[0;34m(\u001b[0m\u001b[0mdisabled\u001b[0m\u001b[0;34m=\u001b[0m\u001b[0;32mFalse\u001b[0m\u001b[0;34m,\u001b[0m\u001b[0mlayout\u001b[0m\u001b[0;34m=\u001b[0m\u001b[0ml\u001b[0m\u001b[0;34m)\u001b[0m\u001b[0;34m\u001b[0m\u001b[0m\n\u001b[1;32m     61\u001b[0m \u001b[0;34m\u001b[0m\u001b[0m\n",
         "\u001b[0;31mNameError\u001b[0m: name 'Layout' is not defined"
        ]
       }
      ],
      "source": "WO.fillDescription()",
      "start_time": "2019-03-19T17:39:42.802Z"
     },
     {
      "end_time": "2019-03-19T17:39:58.520Z",
      "execution_time": "27ms",
      "outputs": [
       {
        "ename": "NameError",
        "evalue": "name 'Layout' is not defined",
        "output_type": "error",
        "traceback": [
         "\u001b[0;31m---------------------------------------------------------------------------\u001b[0m",
         "\u001b[0;31mNameError\u001b[0m                                 Traceback (most recent call last)",
         "\u001b[0;32m<ipython-input-3-562b794bc803>\u001b[0m in \u001b[0;36m<module>\u001b[0;34m()\u001b[0m\n\u001b[0;32m----> 1\u001b[0;31m \u001b[0mWO\u001b[0m\u001b[0;34m.\u001b[0m\u001b[0mfillDescription\u001b[0m\u001b[0;34m(\u001b[0m\u001b[0;34m)\u001b[0m\u001b[0;34m\u001b[0m\u001b[0m\n\u001b[0m",
         "\u001b[0;32m~/Work/ThirdYear/Seek/TheSeekNotebook/WriteObject.py\u001b[0m in \u001b[0;36mfillDescription\u001b[0;34m(self)\u001b[0m\n\u001b[1;32m     57\u001b[0m     \u001b[0;32mdef\u001b[0m \u001b[0mfillDescription\u001b[0m\u001b[0;34m(\u001b[0m\u001b[0mself\u001b[0m\u001b[0;34m)\u001b[0m\u001b[0;34m:\u001b[0m\u001b[0;34m\u001b[0m\u001b[0m\n\u001b[1;32m     58\u001b[0m \u001b[0;34m\u001b[0m\u001b[0m\n\u001b[0;32m---> 59\u001b[0;31m         \u001b[0ml\u001b[0m \u001b[0;34m=\u001b[0m \u001b[0mwidget\u001b[0m\u001b[0;34m.\u001b[0m\u001b[0mLayout\u001b[0m\u001b[0;34m(\u001b[0m\u001b[0mflex\u001b[0m\u001b[0;34m=\u001b[0m\u001b[0;34m'0 1 auto'\u001b[0m\u001b[0;34m,\u001b[0m \u001b[0mheight\u001b[0m\u001b[0;34m=\u001b[0m\u001b[0;34m'40px'\u001b[0m\u001b[0;34m,\u001b[0m \u001b[0mmin_height\u001b[0m\u001b[0;34m=\u001b[0m\u001b[0;34m'40px'\u001b[0m\u001b[0;34m,\u001b[0m \u001b[0mwidth\u001b[0m\u001b[0;34m=\u001b[0m\u001b[0;34m'500px'\u001b[0m\u001b[0;34m)\u001b[0m\u001b[0;34m\u001b[0m\u001b[0m\n\u001b[0m\u001b[1;32m     60\u001b[0m         \u001b[0mself\u001b[0m\u001b[0;34m.\u001b[0m\u001b[0mdescription\u001b[0m \u001b[0;34m=\u001b[0m \u001b[0mwidgets\u001b[0m\u001b[0;34m.\u001b[0m\u001b[0mTextarea\u001b[0m\u001b[0;34m(\u001b[0m\u001b[0mdisabled\u001b[0m\u001b[0;34m=\u001b[0m\u001b[0;32mFalse\u001b[0m\u001b[0;34m,\u001b[0m\u001b[0mlayout\u001b[0m\u001b[0;34m=\u001b[0m\u001b[0ml\u001b[0m\u001b[0;34m)\u001b[0m\u001b[0;34m\u001b[0m\u001b[0m\n\u001b[1;32m     61\u001b[0m \u001b[0;34m\u001b[0m\u001b[0m\n",
         "\u001b[0;31mNameError\u001b[0m: name 'Layout' is not defined"
        ]
       }
      ],
      "source": "WO.fillDescription()",
      "start_time": "2019-03-19T17:39:58.493Z"
     },
     {
      "end_time": "2019-03-19T17:40:06.666Z",
      "execution_time": "103ms",
      "outputs": [
       {
        "ename": "NameError",
        "evalue": "name 'widget' is not defined",
        "output_type": "error",
        "traceback": [
         "\u001b[0;31m---------------------------------------------------------------------------\u001b[0m",
         "\u001b[0;31mNameError\u001b[0m                                 Traceback (most recent call last)",
         "\u001b[0;32m<ipython-input-2-562b794bc803>\u001b[0m in \u001b[0;36m<module>\u001b[0;34m()\u001b[0m\n\u001b[0;32m----> 1\u001b[0;31m \u001b[0mWO\u001b[0m\u001b[0;34m.\u001b[0m\u001b[0mfillDescription\u001b[0m\u001b[0;34m(\u001b[0m\u001b[0;34m)\u001b[0m\u001b[0;34m\u001b[0m\u001b[0m\n\u001b[0m",
         "\u001b[0;32m~/Work/ThirdYear/Seek/TheSeekNotebook/WriteObject.py\u001b[0m in \u001b[0;36mfillDescription\u001b[0;34m(self)\u001b[0m\n\u001b[1;32m     57\u001b[0m     \u001b[0;32mdef\u001b[0m \u001b[0mfillDescription\u001b[0m\u001b[0;34m(\u001b[0m\u001b[0mself\u001b[0m\u001b[0;34m)\u001b[0m\u001b[0;34m:\u001b[0m\u001b[0;34m\u001b[0m\u001b[0m\n\u001b[1;32m     58\u001b[0m \u001b[0;34m\u001b[0m\u001b[0m\n\u001b[0;32m---> 59\u001b[0;31m         \u001b[0ml\u001b[0m \u001b[0;34m=\u001b[0m \u001b[0mwidget\u001b[0m\u001b[0;34m.\u001b[0m\u001b[0mLayout\u001b[0m\u001b[0;34m(\u001b[0m\u001b[0mflex\u001b[0m\u001b[0;34m=\u001b[0m\u001b[0;34m'0 1 auto'\u001b[0m\u001b[0;34m,\u001b[0m \u001b[0mheight\u001b[0m\u001b[0;34m=\u001b[0m\u001b[0;34m'40px'\u001b[0m\u001b[0;34m,\u001b[0m \u001b[0mmin_height\u001b[0m\u001b[0;34m=\u001b[0m\u001b[0;34m'40px'\u001b[0m\u001b[0;34m,\u001b[0m \u001b[0mwidth\u001b[0m\u001b[0;34m=\u001b[0m\u001b[0;34m'500px'\u001b[0m\u001b[0;34m)\u001b[0m\u001b[0;34m\u001b[0m\u001b[0m\n\u001b[0m\u001b[1;32m     60\u001b[0m         \u001b[0mself\u001b[0m\u001b[0;34m.\u001b[0m\u001b[0mdescription\u001b[0m \u001b[0;34m=\u001b[0m \u001b[0mwidgets\u001b[0m\u001b[0;34m.\u001b[0m\u001b[0mTextarea\u001b[0m\u001b[0;34m(\u001b[0m\u001b[0mdisabled\u001b[0m\u001b[0;34m=\u001b[0m\u001b[0;32mFalse\u001b[0m\u001b[0;34m,\u001b[0m\u001b[0mlayout\u001b[0m\u001b[0;34m=\u001b[0m\u001b[0ml\u001b[0m\u001b[0;34m)\u001b[0m\u001b[0;34m\u001b[0m\u001b[0m\n\u001b[1;32m     61\u001b[0m \u001b[0;34m\u001b[0m\u001b[0m\n",
         "\u001b[0;31mNameError\u001b[0m: name 'widget' is not defined"
        ]
       }
      ],
      "source": "WO.fillDescription()",
      "start_time": "2019-03-19T17:40:06.563Z"
     },
     {
      "end_time": "2019-03-19T17:40:18.076Z",
      "execution_time": "23ms",
      "outputs": [
       {
        "ename": "NameError",
        "evalue": "name 'widget' is not defined",
        "output_type": "error",
        "traceback": [
         "\u001b[0;31m---------------------------------------------------------------------------\u001b[0m",
         "\u001b[0;31mNameError\u001b[0m                                 Traceback (most recent call last)",
         "\u001b[0;32m<ipython-input-3-562b794bc803>\u001b[0m in \u001b[0;36m<module>\u001b[0;34m()\u001b[0m\n\u001b[0;32m----> 1\u001b[0;31m \u001b[0mWO\u001b[0m\u001b[0;34m.\u001b[0m\u001b[0mfillDescription\u001b[0m\u001b[0;34m(\u001b[0m\u001b[0;34m)\u001b[0m\u001b[0;34m\u001b[0m\u001b[0m\n\u001b[0m",
         "\u001b[0;32m~/Work/ThirdYear/Seek/TheSeekNotebook/WriteObject.py\u001b[0m in \u001b[0;36mfillDescription\u001b[0;34m(self)\u001b[0m\n\u001b[1;32m     57\u001b[0m     \u001b[0;32mdef\u001b[0m \u001b[0mfillDescription\u001b[0m\u001b[0;34m(\u001b[0m\u001b[0mself\u001b[0m\u001b[0;34m)\u001b[0m\u001b[0;34m:\u001b[0m\u001b[0;34m\u001b[0m\u001b[0m\n\u001b[1;32m     58\u001b[0m \u001b[0;34m\u001b[0m\u001b[0m\n\u001b[0;32m---> 59\u001b[0;31m         \u001b[0ml\u001b[0m \u001b[0;34m=\u001b[0m \u001b[0mwidgets\u001b[0m\u001b[0;34m.\u001b[0m\u001b[0mLayout\u001b[0m\u001b[0;34m(\u001b[0m\u001b[0mflex\u001b[0m\u001b[0;34m=\u001b[0m\u001b[0;34m'0 1 auto'\u001b[0m\u001b[0;34m,\u001b[0m \u001b[0mheight\u001b[0m\u001b[0;34m=\u001b[0m\u001b[0;34m'40px'\u001b[0m\u001b[0;34m,\u001b[0m \u001b[0mmin_height\u001b[0m\u001b[0;34m=\u001b[0m\u001b[0;34m'40px'\u001b[0m\u001b[0;34m,\u001b[0m \u001b[0mwidth\u001b[0m\u001b[0;34m=\u001b[0m\u001b[0;34m'500px'\u001b[0m\u001b[0;34m)\u001b[0m\u001b[0;34m\u001b[0m\u001b[0m\n\u001b[0m\u001b[1;32m     60\u001b[0m         \u001b[0mself\u001b[0m\u001b[0;34m.\u001b[0m\u001b[0mdescription\u001b[0m \u001b[0;34m=\u001b[0m \u001b[0mwidgets\u001b[0m\u001b[0;34m.\u001b[0m\u001b[0mTextarea\u001b[0m\u001b[0;34m(\u001b[0m\u001b[0mdisabled\u001b[0m\u001b[0;34m=\u001b[0m\u001b[0;32mFalse\u001b[0m\u001b[0;34m,\u001b[0m\u001b[0mlayout\u001b[0m\u001b[0;34m=\u001b[0m\u001b[0ml\u001b[0m\u001b[0;34m)\u001b[0m\u001b[0;34m\u001b[0m\u001b[0m\n\u001b[1;32m     61\u001b[0m \u001b[0;34m\u001b[0m\u001b[0m\n",
         "\u001b[0;31mNameError\u001b[0m: name 'widget' is not defined"
        ]
       }
      ],
      "source": "WO.fillDescription()",
      "start_time": "2019-03-19T17:40:18.053Z"
     },
     {
      "end_time": "2019-03-19T17:40:26.461Z",
      "execution_time": "63ms",
      "outputs": [
       {
        "data": {
         "application/vnd.jupyter.widget-view+json": {
          "model_id": "",
          "version_major": 2,
          "version_minor": 0
         },
         "text/plain": "HBox(children=(Label(value='Please provide your description'), Textarea(value='', layout=Layout(flex='0 1 auto…"
        },
        "metadata": {},
        "output_type": "display_data",
        "transient": {}
       }
      ],
      "source": "WO.fillDescription()",
      "start_time": "2019-03-19T17:40:26.398Z"
     },
     {
      "end_time": "2019-03-19T17:41:15.248Z",
      "execution_time": "72ms",
      "outputs": [
       {
        "data": {
         "application/vnd.jupyter.widget-view+json": {
          "model_id": "",
          "version_major": 2,
          "version_minor": 0
         },
         "text/plain": "HBox(children=(Label(value='Please provide your description'), Textarea(value='', layout=Layout(flex='0 1 auto…"
        },
        "metadata": {},
        "output_type": "display_data",
        "transient": {}
       }
      ],
      "source": "WO.fillDescription()",
      "start_time": "2019-03-19T17:41:15.176Z"
     },
     {
      "end_time": "2019-03-19T17:57:16.833Z",
      "execution_time": "46ms",
      "outputs": [
       {
        "data": {
         "application/vnd.jupyter.widget-view+json": {
          "model_id": "",
          "version_major": 2,
          "version_minor": 0
         },
         "text/plain": "HBox(children=(Label(value='Please provide your description:'), Textarea(value='', layout=Layout(flex='0 1 aut…"
        },
        "metadata": {},
        "output_type": "display_data",
        "transient": {}
       }
      ],
      "source": "WO.fillDescription()",
      "start_time": "2019-03-19T17:57:16.787Z"
     },
     {
      "end_time": "2019-03-19T18:02:45.606Z",
      "execution_time": "44ms",
      "outputs": [
       {
        "data": {
         "application/vnd.jupyter.widget-view+json": {
          "model_id": "",
          "version_major": 2,
          "version_minor": 0
         },
         "text/plain": "HBox(children=(Label(value='Please provide your description:'), Textarea(value='', layout=Layout(flex='0 1 aut…"
        },
        "metadata": {},
        "output_type": "display_data",
        "transient": {}
       }
      ],
      "source": "WO.fillDescription()",
      "start_time": "2019-03-19T18:02:45.562Z"
     },
     {
      "end_time": "2019-03-19T18:03:20.997Z",
      "execution_time": "48ms",
      "outputs": [
       {
        "data": {
         "application/vnd.jupyter.widget-view+json": {
          "model_id": "",
          "version_major": 2,
          "version_minor": 0
         },
         "text/plain": "HBox(children=(Label(value='Please provide your description:'), Textarea(value='', layout=Layout(flex='0 1 aut…"
        },
        "metadata": {},
        "output_type": "display_data",
        "transient": {}
       }
      ],
      "source": "WO.fillDescription()",
      "start_time": "2019-03-19T18:03:20.949Z"
     },
     {
      "end_time": "2019-03-19T18:08:42.747Z",
      "execution_time": "47ms",
      "outputs": [
       {
        "data": {
         "application/vnd.jupyter.widget-view+json": {
          "model_id": "",
          "version_major": 2,
          "version_minor": 0
         },
         "text/plain": "HBox(children=(Label(value='Please provide your description:'), Textarea(value='', layout=Layout(flex='0 1 aut…"
        },
        "metadata": {},
        "output_type": "display_data",
        "transient": {}
       }
      ],
      "source": "WO.fillDescription()",
      "start_time": "2019-03-19T18:08:42.700Z"
     },
     {
      "end_time": "2019-03-19T18:10:09.851Z",
      "execution_time": "44ms",
      "outputs": [
       {
        "data": {
         "application/vnd.jupyter.widget-view+json": {
          "model_id": "",
          "version_major": 2,
          "version_minor": 0
         },
         "text/plain": "HBox(children=(Label(value='Please provide your description:'), Textarea(value='', layout=Layout(flex='0 1 aut…"
        },
        "metadata": {},
        "output_type": "display_data",
        "transient": {}
       }
      ],
      "source": "WO.fillDescription()",
      "start_time": "2019-03-19T18:10:09.807Z"
     },
     {
      "end_time": "2019-03-19T18:11:50.380Z",
      "execution_time": "49ms",
      "outputs": [
       {
        "data": {
         "application/vnd.jupyter.widget-view+json": {
          "model_id": "",
          "version_major": 2,
          "version_minor": 0
         },
         "text/plain": "HBox(children=(Label(value='Please provide your description:'), Textarea(value='', layout=Layout(flex='0 1 aut…"
        },
        "metadata": {},
        "output_type": "display_data",
        "transient": {}
       }
      ],
      "source": "WO.fillDescription()",
      "start_time": "2019-03-19T18:11:50.331Z"
     },
     {
      "end_time": "2019-03-19T18:17:29.932Z",
      "execution_time": "40ms",
      "outputs": [
       {
        "data": {
         "application/vnd.jupyter.widget-view+json": {
          "model_id": "",
          "version_major": 2,
          "version_minor": 0
         },
         "text/plain": "HBox(children=(Label(value='Please provide your description:'), Textarea(value='', layout=Layout(flex='0 1 aut…"
        },
        "metadata": {},
        "output_type": "display_data",
        "transient": {}
       }
      ],
      "source": "WO.fillDescription()",
      "start_time": "2019-03-19T18:17:29.892Z"
     },
     {
      "end_time": "2019-03-19T19:54:11.487Z",
      "execution_time": "35ms",
      "outputs": [
       {
        "data": {
         "application/vnd.jupyter.widget-view+json": {
          "model_id": "",
          "version_major": 2,
          "version_minor": 0
         },
         "text/plain": "HBox(children=(Label(value='Please provide your description:'), Textarea(value='', layout=Layout(flex='0 1 aut…"
        },
        "metadata": {},
        "output_type": "display_data",
        "transient": {}
       }
      ],
      "source": "WO.fillDescription()",
      "start_time": "2019-03-19T19:54:11.452Z"
     },
     {
      "end_time": "2019-03-19T19:58:18.179Z",
      "execution_time": "41ms",
      "outputs": [
       {
        "data": {
         "application/vnd.jupyter.widget-view+json": {
          "model_id": "",
          "version_major": 2,
          "version_minor": 0
         },
         "text/plain": "HBox(children=(Label(value='Please provide your description:'), Textarea(value='', layout=Layout(flex='0 1 aut…"
        },
        "metadata": {},
        "output_type": "display_data",
        "transient": {}
       }
      ],
      "source": "WO.fillDescription()",
      "start_time": "2019-03-19T19:58:18.138Z"
     },
     {
      "end_time": "2019-03-19T20:00:01.242Z",
      "execution_time": "43ms",
      "outputs": [
       {
        "data": {
         "application/vnd.jupyter.widget-view+json": {
          "model_id": "",
          "version_major": 2,
          "version_minor": 0
         },
         "text/plain": "HBox(children=(Label(value='Please provide your description:'), Textarea(value='', layout=Layout(flex='0 1 aut…"
        },
        "metadata": {},
        "output_type": "display_data",
        "transient": {}
       }
      ],
      "source": "WO.fillDescription()",
      "start_time": "2019-03-19T20:00:01.199Z"
     },
     {
      "end_time": "2019-03-19T20:11:31.926Z",
      "execution_time": "45ms",
      "outputs": [
       {
        "data": {
         "application/vnd.jupyter.widget-view+json": {
          "model_id": "",
          "version_major": 2,
          "version_minor": 0
         },
         "text/plain": "HBox(children=(Label(value='Please provide your description:'), Textarea(value='', layout=Layout(flex='0 1 aut…"
        },
        "metadata": {},
        "output_type": "display_data",
        "transient": {}
       }
      ],
      "source": "WO.fillDescription()",
      "start_time": "2019-03-19T20:11:31.881Z"
     },
     {
      "end_time": "2019-03-19T20:19:25.796Z",
      "execution_time": "47ms",
      "outputs": [
       {
        "data": {
         "application/vnd.jupyter.widget-view+json": {
          "model_id": "",
          "version_major": 2,
          "version_minor": 0
         },
         "text/plain": "HBox(children=(Label(value='Please provide your description:'), Textarea(value='', layout=Layout(flex='0 1 aut…"
        },
        "metadata": {},
        "output_type": "display_data",
        "transient": {}
       }
      ],
      "source": "WO.fillDescription()",
      "start_time": "2019-03-19T20:19:25.749Z"
     }
    ]
   },
   "outputs": [],
   "source": [
    "# WO.fillDescription()"
   ]
  },
  {
   "cell_type": "code",
   "execution_count": null,
   "metadata": {
    "ExecutionTime": {
     "end_time": "2019-03-19T21:00:13.156067Z",
     "start_time": "2019-03-19T21:00:13.110411Z"
    },
    "provenance": [
     {
      "end_time": "2019-03-19T17:37:32.213Z",
      "execution_time": "12ms",
      "outputs": [
       {
        "data": {
         "application/vnd.jupyter.widget-view+json": {
          "model_id": "",
          "version_major": 2,
          "version_minor": 0
         },
         "text/plain": "Textarea(value='My assay is the best, the best assay of all. The time have passed and although every other ass…"
        },
        "metadata": {},
        "output_type": "display_data",
        "transient": {}
       }
      ],
      "source": "WO.description",
      "start_time": "2019-03-19T17:37:32.201Z"
     },
     {
      "end_time": "2019-03-19T17:37:36.817Z",
      "execution_time": "11ms",
      "outputs": [
       {
        "data": {
         "text/plain": "'My assay is the best, the best assay of all. The time have passed and although every other assay has changed, my assay stays the same till this day. Every assay has his moment of change in his lifetime when he questions his entire existence, a time of struggle in the assay world. Going trough such a hard time, my assay stayed loyal and never backed down. '"
        },
        "execution_count": 5,
        "metadata": {},
        "output_type": "execute_result"
       }
      ],
      "source": "WO.description.value",
      "start_time": "2019-03-19T17:37:36.806Z"
     },
     {
      "end_time": "2019-03-19T17:57:28.748Z",
      "execution_time": "50ms",
      "outputs": [
       {
        "data": {
         "application/vnd.jupyter.widget-view+json": {
          "model_id": "",
          "version_major": 2,
          "version_minor": 0
         },
         "text/plain": "HBox(children=(Label(value='Please select the class of Assay you wish to create'), Dropdown(options=('EXP', 'M…"
        },
        "metadata": {},
        "output_type": "display_data",
        "transient": {}
       }
      ],
      "source": "WO.selectAssayKind()",
      "start_time": "2019-03-19T17:57:28.698Z"
     },
     {
      "end_time": "2019-03-19T17:57:34.708Z",
      "execution_time": "50ms",
      "outputs": [
       {
        "data": {
         "application/vnd.jupyter.widget-view+json": {
          "model_id": "",
          "version_major": 2,
          "version_minor": 0
         },
         "text/plain": "HBox(children=(Label(value='Please select the class of Assay you wish to create'), Dropdown(options=('EXP', 'M…"
        },
        "metadata": {},
        "output_type": "display_data",
        "transient": {}
       }
      ],
      "source": "WO.selectAssayKind()",
      "start_time": "2019-03-19T17:57:34.658Z"
     },
     {
      "end_time": "2019-03-19T17:57:38.508Z",
      "execution_time": "44ms",
      "outputs": [
       {
        "data": {
         "application/vnd.jupyter.widget-view+json": {
          "model_id": "",
          "version_major": 2,
          "version_minor": 0
         },
         "text/plain": "HBox(children=(Label(value='Please select the class of Assay you wish to create'), Dropdown(options=('EXP', 'M…"
        },
        "metadata": {},
        "output_type": "display_data",
        "transient": {}
       }
      ],
      "source": "WO.selectAssayKind()",
      "start_time": "2019-03-19T17:57:38.464Z"
     },
     {
      "end_time": "2019-03-19T17:57:41.660Z",
      "execution_time": "43ms",
      "outputs": [
       {
        "data": {
         "application/vnd.jupyter.widget-view+json": {
          "model_id": "",
          "version_major": 2,
          "version_minor": 0
         },
         "text/plain": "HBox(children=(Label(value='Please select the class of Assay you wish to create'), Dropdown(options=('EXP', 'M…"
        },
        "metadata": {},
        "output_type": "display_data",
        "transient": {}
       }
      ],
      "source": "WO.selectAssayKind()",
      "start_time": "2019-03-19T17:57:41.617Z"
     },
     {
      "end_time": "2019-03-19T18:03:29.123Z",
      "execution_time": "46ms",
      "outputs": [
       {
        "data": {
         "application/vnd.jupyter.widget-view+json": {
          "model_id": "",
          "version_major": 2,
          "version_minor": 0
         },
         "text/plain": "HBox(children=(Label(value='Please select the class of Assay you wish to create:'), Dropdown(options=('EXP', '…"
        },
        "metadata": {},
        "output_type": "display_data",
        "transient": {}
       }
      ],
      "source": "WO.selectAssayKind()",
      "start_time": "2019-03-19T18:03:29.077Z"
     },
     {
      "end_time": "2019-03-19T18:08:48.984Z",
      "execution_time": "81ms",
      "outputs": [
       {
        "data": {
         "application/vnd.jupyter.widget-view+json": {
          "model_id": "",
          "version_major": 2,
          "version_minor": 0
         },
         "text/plain": "HBox(children=(Label(value='Please select the class of Assay you wish to create:'), Dropdown(options=('EXP', '…"
        },
        "metadata": {},
        "output_type": "display_data",
        "transient": {}
       }
      ],
      "source": "WO.selectAssayKind()",
      "start_time": "2019-03-19T18:08:48.903Z"
     },
     {
      "end_time": "2019-03-19T18:10:18.216Z",
      "execution_time": "70ms",
      "outputs": [
       {
        "data": {
         "application/vnd.jupyter.widget-view+json": {
          "model_id": "",
          "version_major": 2,
          "version_minor": 0
         },
         "text/plain": "HBox(children=(Label(value='Please select the class of Assay you wish to create:'), Dropdown(options=('EXP', '…"
        },
        "metadata": {},
        "output_type": "display_data",
        "transient": {}
       }
      ],
      "source": "WO.selectAssayKind()",
      "start_time": "2019-03-19T18:10:18.146Z"
     },
     {
      "end_time": "2019-03-19T18:11:55.100Z",
      "execution_time": "81ms",
      "outputs": [
       {
        "data": {
         "application/vnd.jupyter.widget-view+json": {
          "model_id": "",
          "version_major": 2,
          "version_minor": 0
         },
         "text/plain": "HBox(children=(Label(value='Please select the class of Assay you wish to create:'), Dropdown(options=('EXP', '…"
        },
        "metadata": {},
        "output_type": "display_data",
        "transient": {}
       }
      ],
      "source": "WO.selectAssayKind()",
      "start_time": "2019-03-19T18:11:55.019Z"
     },
     {
      "end_time": "2019-03-19T18:17:37.100Z",
      "execution_time": "65ms",
      "outputs": [
       {
        "data": {
         "application/vnd.jupyter.widget-view+json": {
          "model_id": "",
          "version_major": 2,
          "version_minor": 0
         },
         "text/plain": "HBox(children=(Label(value='Please select the class of Assay you wish to create:'), Dropdown(options=('EXP', '…"
        },
        "metadata": {},
        "output_type": "display_data",
        "transient": {}
       }
      ],
      "source": "WO.selectAssayKind()",
      "start_time": "2019-03-19T18:17:37.035Z"
     },
     {
      "end_time": "2019-03-19T19:54:23.908Z",
      "execution_time": "90ms",
      "outputs": [
       {
        "data": {
         "application/vnd.jupyter.widget-view+json": {
          "model_id": "",
          "version_major": 2,
          "version_minor": 0
         },
         "text/plain": "HBox(children=(Label(value='Please select the class of Assay you wish to create:'), Dropdown(options=('EXP', '…"
        },
        "metadata": {},
        "output_type": "display_data",
        "transient": {}
       }
      ],
      "source": "WO.selectAssayKind()",
      "start_time": "2019-03-19T19:54:23.818Z"
     },
     {
      "end_time": "2019-03-19T19:58:25.871Z",
      "execution_time": "37ms",
      "outputs": [
       {
        "data": {
         "application/vnd.jupyter.widget-view+json": {
          "model_id": "",
          "version_major": 2,
          "version_minor": 0
         },
         "text/plain": "HBox(children=(Label(value='Please select the class of Assay you wish to create:'), Dropdown(options=('EXP', '…"
        },
        "metadata": {},
        "output_type": "display_data",
        "transient": {}
       }
      ],
      "source": "WO.selectAssayKind()",
      "start_time": "2019-03-19T19:58:25.834Z"
     },
     {
      "end_time": "2019-03-19T20:00:07.776Z",
      "execution_time": "57ms",
      "outputs": [
       {
        "data": {
         "application/vnd.jupyter.widget-view+json": {
          "model_id": "",
          "version_major": 2,
          "version_minor": 0
         },
         "text/plain": "HBox(children=(Label(value='Please select the class of Assay you wish to create:'), Dropdown(options=('EXP', '…"
        },
        "metadata": {},
        "output_type": "display_data",
        "transient": {}
       }
      ],
      "source": "WO.selectAssayKind()",
      "start_time": "2019-03-19T20:00:07.719Z"
     },
     {
      "end_time": "2019-03-19T20:11:36.473Z",
      "execution_time": "57ms",
      "outputs": [
       {
        "data": {
         "application/vnd.jupyter.widget-view+json": {
          "model_id": "",
          "version_major": 2,
          "version_minor": 0
         },
         "text/plain": "HBox(children=(Label(value='Please select the class of Assay you wish to create:'), Dropdown(options=('EXP', '…"
        },
        "metadata": {},
        "output_type": "display_data",
        "transient": {}
       }
      ],
      "source": "WO.selectAssayKind()",
      "start_time": "2019-03-19T20:11:36.416Z"
     },
     {
      "end_time": "2019-03-19T20:19:36.943Z",
      "execution_time": "33ms",
      "outputs": [
       {
        "data": {
         "application/vnd.jupyter.widget-view+json": {
          "model_id": "",
          "version_major": 2,
          "version_minor": 0
         },
         "text/plain": "HBox(children=(Label(value='Please select the class of Assay you wish to create:'), Dropdown(options=('EXP', '…"
        },
        "metadata": {},
        "output_type": "display_data",
        "transient": {}
       }
      ],
      "source": "WO.selectAssayKind()",
      "start_time": "2019-03-19T20:19:36.910Z"
     },
     {
      "end_time": "2019-03-19T20:58:30.945Z",
      "execution_time": "41ms",
      "outputs": [
       {
        "data": {
         "application/vnd.jupyter.widget-view+json": {
          "model_id": "",
          "version_major": 2,
          "version_minor": 0
         },
         "text/plain": "HBox(children=(Label(value='Please select the class of Assay you wish to create:'), Dropdown(options=('EXP', '…"
        },
        "metadata": {},
        "output_type": "display_data",
        "transient": {}
       }
      ],
      "source": "WO.selectAssayKind()",
      "start_time": "2019-03-19T20:58:30.904Z"
     },
     {
      "end_time": "2019-03-19T20:59:37.397Z",
      "execution_time": "39ms",
      "outputs": [
       {
        "data": {
         "application/vnd.jupyter.widget-view+json": {
          "model_id": "",
          "version_major": 2,
          "version_minor": 0
         },
         "text/plain": "HBox(children=(Label(value='Please select the class of Assay you wish to create:'), Dropdown(options=('EXP', '…"
        },
        "metadata": {},
        "output_type": "display_data",
        "transient": {}
       }
      ],
      "source": "WO.selectAssayKind()",
      "start_time": "2019-03-19T20:59:37.358Z"
     },
     {
      "end_time": "2019-03-19T21:00:13.156Z",
      "execution_time": "46ms",
      "outputs": [
       {
        "data": {
         "application/vnd.jupyter.widget-view+json": {
          "model_id": "",
          "version_major": 2,
          "version_minor": 0
         },
         "text/plain": "HBox(children=(Label(value='Please select the class of Assay you wish to create:'), Dropdown(options=('EXP', '…"
        },
        "metadata": {},
        "output_type": "display_data",
        "transient": {}
       }
      ],
      "source": "WO.selectAssayKind()",
      "start_time": "2019-03-19T21:00:13.110Z"
     }
    ]
   },
   "outputs": [],
   "source": [
    "WO.selectAssayKind()"
   ]
  },
  {
   "cell_type": "code",
   "execution_count": null,
   "metadata": {
    "ExecutionTime": {
     "end_time": "2019-03-19T20:19:38.222043Z",
     "start_time": "2019-03-19T20:19:38.174707Z"
    },
    "provenance": [
     {
      "end_time": "2019-03-19T18:03:30.825Z",
      "execution_time": "82ms",
      "outputs": [
       {
        "ename": "TraitError",
        "evalue": "Invalid selection: value not found",
        "output_type": "error",
        "traceback": [
         "\u001b[0;31m---------------------------------------------------------------------------\u001b[0m",
         "\u001b[0;31mStopIteration\u001b[0m                             Traceback (most recent call last)",
         "\u001b[0;32m~/anaconda3/lib/python3.6/site-packages/ipywidgets/widgets/widget_selection.py\u001b[0m in \u001b[0;36mfindvalue\u001b[0;34m(array, value, compare)\u001b[0m\n\u001b[1;32m    136\u001b[0m     \u001b[0;32mtry\u001b[0m\u001b[0;34m:\u001b[0m\u001b[0;34m\u001b[0m\u001b[0m\n\u001b[0;32m--> 137\u001b[0;31m         \u001b[0;32mreturn\u001b[0m \u001b[0mnext\u001b[0m\u001b[0;34m(\u001b[0m\u001b[0mx\u001b[0m \u001b[0;32mfor\u001b[0m \u001b[0mx\u001b[0m \u001b[0;32min\u001b[0m \u001b[0marray\u001b[0m \u001b[0;32mif\u001b[0m \u001b[0mcompare\u001b[0m\u001b[0;34m(\u001b[0m\u001b[0mx\u001b[0m\u001b[0;34m,\u001b[0m \u001b[0mvalue\u001b[0m\u001b[0;34m)\u001b[0m\u001b[0;34m)\u001b[0m\u001b[0;34m\u001b[0m\u001b[0m\n\u001b[0m\u001b[1;32m    138\u001b[0m     \u001b[0;32mexcept\u001b[0m \u001b[0mStopIteration\u001b[0m\u001b[0;34m:\u001b[0m\u001b[0;34m\u001b[0m\u001b[0m\n",
         "\u001b[0;31mStopIteration\u001b[0m: ",
         "\nDuring handling of the above exception, another exception occurred:\n",
         "\u001b[0;31mValueError\u001b[0m                                Traceback (most recent call last)",
         "\u001b[0;32m~/anaconda3/lib/python3.6/site-packages/ipywidgets/widgets/widget_selection.py\u001b[0m in \u001b[0;36m_validate_value\u001b[0;34m(self, proposal)\u001b[0m\n\u001b[1;32m    238\u001b[0m         \u001b[0;32mtry\u001b[0m\u001b[0;34m:\u001b[0m\u001b[0;34m\u001b[0m\u001b[0m\n\u001b[0;32m--> 239\u001b[0;31m             \u001b[0;32mreturn\u001b[0m \u001b[0mfindvalue\u001b[0m\u001b[0;34m(\u001b[0m\u001b[0mself\u001b[0m\u001b[0;34m.\u001b[0m\u001b[0m_options_values\u001b[0m\u001b[0;34m,\u001b[0m \u001b[0mvalue\u001b[0m\u001b[0;34m,\u001b[0m \u001b[0mself\u001b[0m\u001b[0;34m.\u001b[0m\u001b[0mequals\u001b[0m\u001b[0;34m)\u001b[0m \u001b[0;32mif\u001b[0m \u001b[0mvalue\u001b[0m \u001b[0;32mis\u001b[0m \u001b[0;32mnot\u001b[0m \u001b[0;32mNone\u001b[0m \u001b[0;32melse\u001b[0m \u001b[0;32mNone\u001b[0m\u001b[0;34m\u001b[0m\u001b[0m\n\u001b[0m\u001b[1;32m    240\u001b[0m         \u001b[0;32mexcept\u001b[0m \u001b[0mValueError\u001b[0m\u001b[0;34m:\u001b[0m\u001b[0;34m\u001b[0m\u001b[0m\n",
         "\u001b[0;32m~/anaconda3/lib/python3.6/site-packages/ipywidgets/widgets/widget_selection.py\u001b[0m in \u001b[0;36mfindvalue\u001b[0;34m(array, value, compare)\u001b[0m\n\u001b[1;32m    138\u001b[0m     \u001b[0;32mexcept\u001b[0m \u001b[0mStopIteration\u001b[0m\u001b[0;34m:\u001b[0m\u001b[0;34m\u001b[0m\u001b[0m\n\u001b[0;32m--> 139\u001b[0;31m         \u001b[0;32mraise\u001b[0m \u001b[0mValueError\u001b[0m\u001b[0;34m(\u001b[0m\u001b[0;34m'%r not in array'\u001b[0m\u001b[0;34m%\u001b[0m\u001b[0mvalue\u001b[0m\u001b[0;34m)\u001b[0m\u001b[0;34m\u001b[0m\u001b[0m\n\u001b[0m\u001b[1;32m    140\u001b[0m \u001b[0;34m\u001b[0m\u001b[0m\n",
         "\u001b[0;31mValueError\u001b[0m: 'EXP' not in array",
         "\nDuring handling of the above exception, another exception occurred:\n",
         "\u001b[0;31mTraitError\u001b[0m                                Traceback (most recent call last)",
         "\u001b[0;32m<ipython-input-5-3f7bce8f5e1e>\u001b[0m in \u001b[0;36m<module>\u001b[0;34m()\u001b[0m\n\u001b[0;32m----> 1\u001b[0;31m \u001b[0mWO\u001b[0m\u001b[0;34m.\u001b[0m\u001b[0mselectPolicyAccess\u001b[0m\u001b[0;34m(\u001b[0m\u001b[0;34m)\u001b[0m\u001b[0;34m\u001b[0m\u001b[0m\n\u001b[0m",
         "\u001b[0;32m~/Work/ThirdYear/Seek/TheSeekNotebook/WriteObject.py\u001b[0m in \u001b[0;36mselectPolicyAccess\u001b[0;34m(self)\u001b[0m\n\u001b[1;32m    106\u001b[0m             ],\n\u001b[1;32m    107\u001b[0m             \u001b[0mvalue\u001b[0m\u001b[0;34m=\u001b[0m\u001b[0;34m'EXP'\u001b[0m\u001b[0;34m,\u001b[0m\u001b[0;34m\u001b[0m\u001b[0m\n\u001b[0;32m--> 108\u001b[0;31m             \u001b[0mdisabled\u001b[0m\u001b[0;34m=\u001b[0m\u001b[0;32mFalse\u001b[0m\u001b[0;34m,\u001b[0m\u001b[0;34m\u001b[0m\u001b[0m\n\u001b[0m\u001b[1;32m    109\u001b[0m         )\n\u001b[1;32m    110\u001b[0m \u001b[0;34m\u001b[0m\u001b[0m\n",
         "\u001b[0;32m~/anaconda3/lib/python3.6/site-packages/ipywidgets/widgets/widget_selection.py\u001b[0m in \u001b[0;36m__init__\u001b[0;34m(self, *args, **kwargs)\u001b[0m\n\u001b[1;32m    188\u001b[0m             \u001b[0mkwargs\u001b[0m\u001b[0;34m[\u001b[0m\u001b[0;34m'label'\u001b[0m\u001b[0;34m]\u001b[0m\u001b[0;34m,\u001b[0m \u001b[0mkwargs\u001b[0m\u001b[0;34m[\u001b[0m\u001b[0;34m'value'\u001b[0m\u001b[0;34m]\u001b[0m \u001b[0;34m=\u001b[0m \u001b[0moptions\u001b[0m\u001b[0;34m[\u001b[0m\u001b[0;36m0\u001b[0m\u001b[0;34m]\u001b[0m \u001b[0;32mif\u001b[0m \u001b[0mnonempty\u001b[0m \u001b[0;32melse\u001b[0m \u001b[0;34m(\u001b[0m\u001b[0;32mNone\u001b[0m\u001b[0;34m,\u001b[0m \u001b[0;32mNone\u001b[0m\u001b[0;34m)\u001b[0m\u001b[0;34m\u001b[0m\u001b[0m\n\u001b[1;32m    189\u001b[0m \u001b[0;34m\u001b[0m\u001b[0m\n\u001b[0;32m--> 190\u001b[0;31m         \u001b[0msuper\u001b[0m\u001b[0;34m(\u001b[0m\u001b[0m_Selection\u001b[0m\u001b[0;34m,\u001b[0m \u001b[0mself\u001b[0m\u001b[0;34m)\u001b[0m\u001b[0;34m.\u001b[0m\u001b[0m__init__\u001b[0m\u001b[0;34m(\u001b[0m\u001b[0;34m*\u001b[0m\u001b[0margs\u001b[0m\u001b[0;34m,\u001b[0m \u001b[0;34m**\u001b[0m\u001b[0mkwargs\u001b[0m\u001b[0;34m)\u001b[0m\u001b[0;34m\u001b[0m\u001b[0m\n\u001b[0m\u001b[1;32m    191\u001b[0m         \u001b[0mself\u001b[0m\u001b[0;34m.\u001b[0m\u001b[0m_initializing_traits_\u001b[0m \u001b[0;34m=\u001b[0m \u001b[0;32mFalse\u001b[0m\u001b[0;34m\u001b[0m\u001b[0m\n\u001b[1;32m    192\u001b[0m \u001b[0;34m\u001b[0m\u001b[0m\n",
         "\u001b[0;32m~/anaconda3/lib/python3.6/site-packages/ipywidgets/widgets/widget.py\u001b[0m in \u001b[0;36m__init__\u001b[0;34m(self, **kwargs)\u001b[0m\n\u001b[1;32m    409\u001b[0m         \u001b[0;34m\"\"\"Public constructor\"\"\"\u001b[0m\u001b[0;34m\u001b[0m\u001b[0m\n\u001b[1;32m    410\u001b[0m         \u001b[0mself\u001b[0m\u001b[0;34m.\u001b[0m\u001b[0m_model_id\u001b[0m \u001b[0;34m=\u001b[0m \u001b[0mkwargs\u001b[0m\u001b[0;34m.\u001b[0m\u001b[0mpop\u001b[0m\u001b[0;34m(\u001b[0m\u001b[0;34m'model_id'\u001b[0m\u001b[0;34m,\u001b[0m \u001b[0;32mNone\u001b[0m\u001b[0;34m)\u001b[0m\u001b[0;34m\u001b[0m\u001b[0m\n\u001b[0;32m--> 411\u001b[0;31m         \u001b[0msuper\u001b[0m\u001b[0;34m(\u001b[0m\u001b[0mWidget\u001b[0m\u001b[0;34m,\u001b[0m \u001b[0mself\u001b[0m\u001b[0;34m)\u001b[0m\u001b[0;34m.\u001b[0m\u001b[0m__init__\u001b[0m\u001b[0;34m(\u001b[0m\u001b[0;34m**\u001b[0m\u001b[0mkwargs\u001b[0m\u001b[0;34m)\u001b[0m\u001b[0;34m\u001b[0m\u001b[0m\n\u001b[0m\u001b[1;32m    412\u001b[0m \u001b[0;34m\u001b[0m\u001b[0m\n\u001b[1;32m    413\u001b[0m         \u001b[0mWidget\u001b[0m\u001b[0;34m.\u001b[0m\u001b[0m_call_widget_constructed\u001b[0m\u001b[0;34m(\u001b[0m\u001b[0mself\u001b[0m\u001b[0;34m)\u001b[0m\u001b[0;34m\u001b[0m\u001b[0m\n",
         "\u001b[0;32m~/anaconda3/lib/python3.6/site-packages/traitlets/traitlets.py\u001b[0m in \u001b[0;36m__init__\u001b[0;34m(self, *args, **kwargs)\u001b[0m\n\u001b[1;32m    998\u001b[0m                 \u001b[0;32melse\u001b[0m\u001b[0;34m:\u001b[0m\u001b[0;34m\u001b[0m\u001b[0m\n\u001b[1;32m    999\u001b[0m                     \u001b[0;31m# passthrough args that don't set traits to super\u001b[0m\u001b[0;34m\u001b[0m\u001b[0;34m\u001b[0m\u001b[0m\n\u001b[0;32m-> 1000\u001b[0;31m                     \u001b[0msuper_kwargs\u001b[0m\u001b[0;34m[\u001b[0m\u001b[0mkey\u001b[0m\u001b[0;34m]\u001b[0m \u001b[0;34m=\u001b[0m \u001b[0mvalue\u001b[0m\u001b[0;34m\u001b[0m\u001b[0m\n\u001b[0m\u001b[1;32m   1001\u001b[0m         \u001b[0;32mtry\u001b[0m\u001b[0;34m:\u001b[0m\u001b[0;34m\u001b[0m\u001b[0m\n\u001b[1;32m   1002\u001b[0m             \u001b[0msuper\u001b[0m\u001b[0;34m(\u001b[0m\u001b[0mHasTraits\u001b[0m\u001b[0;34m,\u001b[0m \u001b[0mself\u001b[0m\u001b[0;34m)\u001b[0m\u001b[0;34m.\u001b[0m\u001b[0m__init__\u001b[0m\u001b[0;34m(\u001b[0m\u001b[0;34m*\u001b[0m\u001b[0msuper_args\u001b[0m\u001b[0;34m,\u001b[0m \u001b[0;34m**\u001b[0m\u001b[0msuper_kwargs\u001b[0m\u001b[0;34m)\u001b[0m\u001b[0;34m\u001b[0m\u001b[0m\n",
         "\u001b[0;32m~/anaconda3/lib/python3.6/contextlib.py\u001b[0m in \u001b[0;36m__exit__\u001b[0;34m(self, type, value, traceback)\u001b[0m\n\u001b[1;32m     86\u001b[0m         \u001b[0;32mif\u001b[0m \u001b[0mtype\u001b[0m \u001b[0;32mis\u001b[0m \u001b[0;32mNone\u001b[0m\u001b[0;34m:\u001b[0m\u001b[0;34m\u001b[0m\u001b[0m\n\u001b[1;32m     87\u001b[0m             \u001b[0;32mtry\u001b[0m\u001b[0;34m:\u001b[0m\u001b[0;34m\u001b[0m\u001b[0m\n\u001b[0;32m---> 88\u001b[0;31m                 \u001b[0mnext\u001b[0m\u001b[0;34m(\u001b[0m\u001b[0mself\u001b[0m\u001b[0;34m.\u001b[0m\u001b[0mgen\u001b[0m\u001b[0;34m)\u001b[0m\u001b[0;34m\u001b[0m\u001b[0m\n\u001b[0m\u001b[1;32m     89\u001b[0m             \u001b[0;32mexcept\u001b[0m \u001b[0mStopIteration\u001b[0m\u001b[0;34m:\u001b[0m\u001b[0;34m\u001b[0m\u001b[0m\n\u001b[1;32m     90\u001b[0m                 \u001b[0;32mreturn\u001b[0m \u001b[0;32mFalse\u001b[0m\u001b[0;34m\u001b[0m\u001b[0m\n",
         "\u001b[0;32m~/anaconda3/lib/python3.6/site-packages/traitlets/traitlets.py\u001b[0m in \u001b[0;36mhold_trait_notifications\u001b[0;34m(self)\u001b[0m\n\u001b[1;32m   1120\u001b[0m                                 \u001b[0mself\u001b[0m\u001b[0;34m.\u001b[0m\u001b[0m_trait_values\u001b[0m\u001b[0;34m.\u001b[0m\u001b[0mpop\u001b[0m\u001b[0;34m(\u001b[0m\u001b[0mname\u001b[0m\u001b[0;34m)\u001b[0m\u001b[0;34m\u001b[0m\u001b[0m\n\u001b[1;32m   1121\u001b[0m                 \u001b[0mcache\u001b[0m \u001b[0;34m=\u001b[0m \u001b[0;34m{\u001b[0m\u001b[0;34m}\u001b[0m\u001b[0;34m\u001b[0m\u001b[0m\n\u001b[0;32m-> 1122\u001b[0;31m                 \u001b[0;32mraise\u001b[0m \u001b[0me\u001b[0m\u001b[0;34m\u001b[0m\u001b[0m\n\u001b[0m\u001b[1;32m   1123\u001b[0m             \u001b[0;32mfinally\u001b[0m\u001b[0;34m:\u001b[0m\u001b[0;34m\u001b[0m\u001b[0m\n\u001b[1;32m   1124\u001b[0m                 \u001b[0mself\u001b[0m\u001b[0;34m.\u001b[0m\u001b[0m_cross_validation_lock\u001b[0m \u001b[0;34m=\u001b[0m \u001b[0;32mFalse\u001b[0m\u001b[0;34m\u001b[0m\u001b[0m\n",
         "\u001b[0;32m~/anaconda3/lib/python3.6/site-packages/traitlets/traitlets.py\u001b[0m in \u001b[0;36mhold_trait_notifications\u001b[0;34m(self)\u001b[0m\n\u001b[1;32m   1106\u001b[0m                 \u001b[0;32mfor\u001b[0m \u001b[0mname\u001b[0m \u001b[0;32min\u001b[0m \u001b[0mlist\u001b[0m\u001b[0;34m(\u001b[0m\u001b[0mcache\u001b[0m\u001b[0;34m.\u001b[0m\u001b[0mkeys\u001b[0m\u001b[0;34m(\u001b[0m\u001b[0;34m)\u001b[0m\u001b[0;34m)\u001b[0m\u001b[0;34m:\u001b[0m\u001b[0;34m\u001b[0m\u001b[0m\n\u001b[1;32m   1107\u001b[0m                     \u001b[0mtrait\u001b[0m \u001b[0;34m=\u001b[0m \u001b[0mgetattr\u001b[0m\u001b[0;34m(\u001b[0m\u001b[0mself\u001b[0m\u001b[0;34m.\u001b[0m\u001b[0m__class__\u001b[0m\u001b[0;34m,\u001b[0m \u001b[0mname\u001b[0m\u001b[0;34m)\u001b[0m\u001b[0;34m\u001b[0m\u001b[0m\n\u001b[0;32m-> 1108\u001b[0;31m                     \u001b[0mvalue\u001b[0m \u001b[0;34m=\u001b[0m \u001b[0mtrait\u001b[0m\u001b[0;34m.\u001b[0m\u001b[0m_cross_validate\u001b[0m\u001b[0;34m(\u001b[0m\u001b[0mself\u001b[0m\u001b[0;34m,\u001b[0m \u001b[0mgetattr\u001b[0m\u001b[0;34m(\u001b[0m\u001b[0mself\u001b[0m\u001b[0;34m,\u001b[0m \u001b[0mname\u001b[0m\u001b[0;34m)\u001b[0m\u001b[0;34m)\u001b[0m\u001b[0;34m\u001b[0m\u001b[0m\n\u001b[0m\u001b[1;32m   1109\u001b[0m                     \u001b[0mself\u001b[0m\u001b[0;34m.\u001b[0m\u001b[0mset_trait\u001b[0m\u001b[0;34m(\u001b[0m\u001b[0mname\u001b[0m\u001b[0;34m,\u001b[0m \u001b[0mvalue\u001b[0m\u001b[0;34m)\u001b[0m\u001b[0;34m\u001b[0m\u001b[0m\n\u001b[1;32m   1110\u001b[0m             \u001b[0;32mexcept\u001b[0m \u001b[0mTraitError\u001b[0m \u001b[0;32mas\u001b[0m \u001b[0me\u001b[0m\u001b[0;34m:\u001b[0m\u001b[0;34m\u001b[0m\u001b[0m\n",
         "\u001b[0;32m~/anaconda3/lib/python3.6/site-packages/traitlets/traitlets.py\u001b[0m in \u001b[0;36m_cross_validate\u001b[0;34m(self, obj, value)\u001b[0m\n\u001b[1;32m    597\u001b[0m         \u001b[0;32mif\u001b[0m \u001b[0mself\u001b[0m\u001b[0;34m.\u001b[0m\u001b[0mname\u001b[0m \u001b[0;32min\u001b[0m \u001b[0mobj\u001b[0m\u001b[0;34m.\u001b[0m\u001b[0m_trait_validators\u001b[0m\u001b[0;34m:\u001b[0m\u001b[0;34m\u001b[0m\u001b[0m\n\u001b[1;32m    598\u001b[0m             \u001b[0mproposal\u001b[0m \u001b[0;34m=\u001b[0m \u001b[0mBunch\u001b[0m\u001b[0;34m(\u001b[0m\u001b[0;34m{\u001b[0m\u001b[0;34m'trait'\u001b[0m\u001b[0;34m:\u001b[0m \u001b[0mself\u001b[0m\u001b[0;34m,\u001b[0m \u001b[0;34m'value'\u001b[0m\u001b[0;34m:\u001b[0m \u001b[0mvalue\u001b[0m\u001b[0;34m,\u001b[0m \u001b[0;34m'owner'\u001b[0m\u001b[0;34m:\u001b[0m \u001b[0mobj\u001b[0m\u001b[0;34m}\u001b[0m\u001b[0;34m)\u001b[0m\u001b[0;34m\u001b[0m\u001b[0m\n\u001b[0;32m--> 599\u001b[0;31m             \u001b[0mvalue\u001b[0m \u001b[0;34m=\u001b[0m \u001b[0mobj\u001b[0m\u001b[0;34m.\u001b[0m\u001b[0m_trait_validators\u001b[0m\u001b[0;34m[\u001b[0m\u001b[0mself\u001b[0m\u001b[0;34m.\u001b[0m\u001b[0mname\u001b[0m\u001b[0;34m]\u001b[0m\u001b[0;34m(\u001b[0m\u001b[0mobj\u001b[0m\u001b[0;34m,\u001b[0m \u001b[0mproposal\u001b[0m\u001b[0;34m)\u001b[0m\u001b[0;34m\u001b[0m\u001b[0m\n\u001b[0m\u001b[1;32m    600\u001b[0m         \u001b[0;32melif\u001b[0m \u001b[0mhasattr\u001b[0m\u001b[0;34m(\u001b[0m\u001b[0mobj\u001b[0m\u001b[0;34m,\u001b[0m \u001b[0;34m'_%s_validate'\u001b[0m \u001b[0;34m%\u001b[0m \u001b[0mself\u001b[0m\u001b[0;34m.\u001b[0m\u001b[0mname\u001b[0m\u001b[0;34m)\u001b[0m\u001b[0;34m:\u001b[0m\u001b[0;34m\u001b[0m\u001b[0m\n\u001b[1;32m    601\u001b[0m             \u001b[0mmeth_name\u001b[0m \u001b[0;34m=\u001b[0m \u001b[0;34m'_%s_validate'\u001b[0m \u001b[0;34m%\u001b[0m \u001b[0mself\u001b[0m\u001b[0;34m.\u001b[0m\u001b[0mname\u001b[0m\u001b[0;34m\u001b[0m\u001b[0m\n",
         "\u001b[0;32m~/anaconda3/lib/python3.6/site-packages/traitlets/traitlets.py\u001b[0m in \u001b[0;36m__call__\u001b[0;34m(self, *args, **kwargs)\u001b[0m\n\u001b[1;32m    905\u001b[0m         \u001b[0;34m\"\"\"Pass `*args` and `**kwargs` to the handler's function if it exists.\"\"\"\u001b[0m\u001b[0;34m\u001b[0m\u001b[0m\n\u001b[1;32m    906\u001b[0m         \u001b[0;32mif\u001b[0m \u001b[0mhasattr\u001b[0m\u001b[0;34m(\u001b[0m\u001b[0mself\u001b[0m\u001b[0;34m,\u001b[0m \u001b[0;34m'func'\u001b[0m\u001b[0;34m)\u001b[0m\u001b[0;34m:\u001b[0m\u001b[0;34m\u001b[0m\u001b[0m\n\u001b[0;32m--> 907\u001b[0;31m             \u001b[0;32mreturn\u001b[0m \u001b[0mself\u001b[0m\u001b[0;34m.\u001b[0m\u001b[0mfunc\u001b[0m\u001b[0;34m(\u001b[0m\u001b[0;34m*\u001b[0m\u001b[0margs\u001b[0m\u001b[0;34m,\u001b[0m \u001b[0;34m**\u001b[0m\u001b[0mkwargs\u001b[0m\u001b[0;34m)\u001b[0m\u001b[0;34m\u001b[0m\u001b[0m\n\u001b[0m\u001b[1;32m    908\u001b[0m         \u001b[0;32melse\u001b[0m\u001b[0;34m:\u001b[0m\u001b[0;34m\u001b[0m\u001b[0m\n\u001b[1;32m    909\u001b[0m             \u001b[0;32mreturn\u001b[0m \u001b[0mself\u001b[0m\u001b[0;34m.\u001b[0m\u001b[0m_init_call\u001b[0m\u001b[0;34m(\u001b[0m\u001b[0;34m*\u001b[0m\u001b[0margs\u001b[0m\u001b[0;34m,\u001b[0m \u001b[0;34m**\u001b[0m\u001b[0mkwargs\u001b[0m\u001b[0;34m)\u001b[0m\u001b[0;34m\u001b[0m\u001b[0m\n",
         "\u001b[0;32m~/anaconda3/lib/python3.6/site-packages/ipywidgets/widgets/widget_selection.py\u001b[0m in \u001b[0;36m_validate_value\u001b[0;34m(self, proposal)\u001b[0m\n\u001b[1;32m    239\u001b[0m             \u001b[0;32mreturn\u001b[0m \u001b[0mfindvalue\u001b[0m\u001b[0;34m(\u001b[0m\u001b[0mself\u001b[0m\u001b[0;34m.\u001b[0m\u001b[0m_options_values\u001b[0m\u001b[0;34m,\u001b[0m \u001b[0mvalue\u001b[0m\u001b[0;34m,\u001b[0m \u001b[0mself\u001b[0m\u001b[0;34m.\u001b[0m\u001b[0mequals\u001b[0m\u001b[0;34m)\u001b[0m \u001b[0;32mif\u001b[0m \u001b[0mvalue\u001b[0m \u001b[0;32mis\u001b[0m \u001b[0;32mnot\u001b[0m \u001b[0;32mNone\u001b[0m \u001b[0;32melse\u001b[0m \u001b[0;32mNone\u001b[0m\u001b[0;34m\u001b[0m\u001b[0m\n\u001b[1;32m    240\u001b[0m         \u001b[0;32mexcept\u001b[0m \u001b[0mValueError\u001b[0m\u001b[0;34m:\u001b[0m\u001b[0;34m\u001b[0m\u001b[0m\n\u001b[0;32m--> 241\u001b[0;31m             \u001b[0;32mraise\u001b[0m \u001b[0mTraitError\u001b[0m\u001b[0;34m(\u001b[0m\u001b[0;34m'Invalid selection: value not found'\u001b[0m\u001b[0;34m)\u001b[0m\u001b[0;34m\u001b[0m\u001b[0m\n\u001b[0m\u001b[1;32m    242\u001b[0m \u001b[0;34m\u001b[0m\u001b[0m\n\u001b[1;32m    243\u001b[0m     \u001b[0;34m@\u001b[0m\u001b[0mobserve\u001b[0m\u001b[0;34m(\u001b[0m\u001b[0;34m'value'\u001b[0m\u001b[0;34m)\u001b[0m\u001b[0;34m\u001b[0m\u001b[0m\n",
         "\u001b[0;31mTraitError\u001b[0m: Invalid selection: value not found"
        ]
       }
      ],
      "source": "WO.selectPolicyAccess()",
      "start_time": "2019-03-19T18:03:30.743Z"
     },
     {
      "end_time": "2019-03-19T18:03:44.233Z",
      "execution_time": "38ms",
      "outputs": [
       {
        "ename": "TraitError",
        "evalue": "Invalid selection: value not found",
        "output_type": "error",
        "traceback": [
         "\u001b[0;31m---------------------------------------------------------------------------\u001b[0m",
         "\u001b[0;31mStopIteration\u001b[0m                             Traceback (most recent call last)",
         "\u001b[0;32m~/anaconda3/lib/python3.6/site-packages/ipywidgets/widgets/widget_selection.py\u001b[0m in \u001b[0;36mfindvalue\u001b[0;34m(array, value, compare)\u001b[0m\n\u001b[1;32m    136\u001b[0m     \u001b[0;32mtry\u001b[0m\u001b[0;34m:\u001b[0m\u001b[0;34m\u001b[0m\u001b[0m\n\u001b[0;32m--> 137\u001b[0;31m         \u001b[0;32mreturn\u001b[0m \u001b[0mnext\u001b[0m\u001b[0;34m(\u001b[0m\u001b[0mx\u001b[0m \u001b[0;32mfor\u001b[0m \u001b[0mx\u001b[0m \u001b[0;32min\u001b[0m \u001b[0marray\u001b[0m \u001b[0;32mif\u001b[0m \u001b[0mcompare\u001b[0m\u001b[0;34m(\u001b[0m\u001b[0mx\u001b[0m\u001b[0;34m,\u001b[0m \u001b[0mvalue\u001b[0m\u001b[0;34m)\u001b[0m\u001b[0;34m)\u001b[0m\u001b[0;34m\u001b[0m\u001b[0m\n\u001b[0m\u001b[1;32m    138\u001b[0m     \u001b[0;32mexcept\u001b[0m \u001b[0mStopIteration\u001b[0m\u001b[0;34m:\u001b[0m\u001b[0;34m\u001b[0m\u001b[0m\n",
         "\u001b[0;31mStopIteration\u001b[0m: ",
         "\nDuring handling of the above exception, another exception occurred:\n",
         "\u001b[0;31mValueError\u001b[0m                                Traceback (most recent call last)",
         "\u001b[0;32m~/anaconda3/lib/python3.6/site-packages/ipywidgets/widgets/widget_selection.py\u001b[0m in \u001b[0;36m_validate_value\u001b[0;34m(self, proposal)\u001b[0m\n\u001b[1;32m    238\u001b[0m         \u001b[0;32mtry\u001b[0m\u001b[0;34m:\u001b[0m\u001b[0;34m\u001b[0m\u001b[0m\n\u001b[0;32m--> 239\u001b[0;31m             \u001b[0;32mreturn\u001b[0m \u001b[0mfindvalue\u001b[0m\u001b[0;34m(\u001b[0m\u001b[0mself\u001b[0m\u001b[0;34m.\u001b[0m\u001b[0m_options_values\u001b[0m\u001b[0;34m,\u001b[0m \u001b[0mvalue\u001b[0m\u001b[0;34m,\u001b[0m \u001b[0mself\u001b[0m\u001b[0;34m.\u001b[0m\u001b[0mequals\u001b[0m\u001b[0;34m)\u001b[0m \u001b[0;32mif\u001b[0m \u001b[0mvalue\u001b[0m \u001b[0;32mis\u001b[0m \u001b[0;32mnot\u001b[0m \u001b[0;32mNone\u001b[0m \u001b[0;32melse\u001b[0m \u001b[0;32mNone\u001b[0m\u001b[0;34m\u001b[0m\u001b[0m\n\u001b[0m\u001b[1;32m    240\u001b[0m         \u001b[0;32mexcept\u001b[0m \u001b[0mValueError\u001b[0m\u001b[0;34m:\u001b[0m\u001b[0;34m\u001b[0m\u001b[0m\n",
         "\u001b[0;32m~/anaconda3/lib/python3.6/site-packages/ipywidgets/widgets/widget_selection.py\u001b[0m in \u001b[0;36mfindvalue\u001b[0;34m(array, value, compare)\u001b[0m\n\u001b[1;32m    138\u001b[0m     \u001b[0;32mexcept\u001b[0m \u001b[0mStopIteration\u001b[0m\u001b[0;34m:\u001b[0m\u001b[0;34m\u001b[0m\u001b[0m\n\u001b[0;32m--> 139\u001b[0;31m         \u001b[0;32mraise\u001b[0m \u001b[0mValueError\u001b[0m\u001b[0;34m(\u001b[0m\u001b[0;34m'%r not in array'\u001b[0m\u001b[0;34m%\u001b[0m\u001b[0mvalue\u001b[0m\u001b[0;34m)\u001b[0m\u001b[0;34m\u001b[0m\u001b[0m\n\u001b[0m\u001b[1;32m    140\u001b[0m \u001b[0;34m\u001b[0m\u001b[0m\n",
         "\u001b[0;31mValueError\u001b[0m: 'EXP' not in array",
         "\nDuring handling of the above exception, another exception occurred:\n",
         "\u001b[0;31mTraitError\u001b[0m                                Traceback (most recent call last)",
         "\u001b[0;32m<ipython-input-6-3f7bce8f5e1e>\u001b[0m in \u001b[0;36m<module>\u001b[0;34m()\u001b[0m\n\u001b[0;32m----> 1\u001b[0;31m \u001b[0mWO\u001b[0m\u001b[0;34m.\u001b[0m\u001b[0mselectPolicyAccess\u001b[0m\u001b[0;34m(\u001b[0m\u001b[0;34m)\u001b[0m\u001b[0;34m\u001b[0m\u001b[0m\n\u001b[0m",
         "\u001b[0;32m~/Work/ThirdYear/Seek/TheSeekNotebook/WriteObject.py\u001b[0m in \u001b[0;36mselectPolicyAccess\u001b[0;34m(self)\u001b[0m\n\u001b[1;32m    106\u001b[0m             ],\n\u001b[1;32m    107\u001b[0m             \u001b[0mvalue\u001b[0m\u001b[0;34m=\u001b[0m\u001b[0;34m'no_access'\u001b[0m\u001b[0;34m,\u001b[0m\u001b[0;34m\u001b[0m\u001b[0m\n\u001b[0;32m--> 108\u001b[0;31m             \u001b[0mdisabled\u001b[0m\u001b[0;34m=\u001b[0m\u001b[0;32mFalse\u001b[0m\u001b[0;34m,\u001b[0m\u001b[0;34m\u001b[0m\u001b[0m\n\u001b[0m\u001b[1;32m    109\u001b[0m         )\n\u001b[1;32m    110\u001b[0m \u001b[0;34m\u001b[0m\u001b[0m\n",
         "\u001b[0;32m~/anaconda3/lib/python3.6/site-packages/ipywidgets/widgets/widget_selection.py\u001b[0m in \u001b[0;36m__init__\u001b[0;34m(self, *args, **kwargs)\u001b[0m\n\u001b[1;32m    188\u001b[0m             \u001b[0mkwargs\u001b[0m\u001b[0;34m[\u001b[0m\u001b[0;34m'label'\u001b[0m\u001b[0;34m]\u001b[0m\u001b[0;34m,\u001b[0m \u001b[0mkwargs\u001b[0m\u001b[0;34m[\u001b[0m\u001b[0;34m'value'\u001b[0m\u001b[0;34m]\u001b[0m \u001b[0;34m=\u001b[0m \u001b[0moptions\u001b[0m\u001b[0;34m[\u001b[0m\u001b[0;36m0\u001b[0m\u001b[0;34m]\u001b[0m \u001b[0;32mif\u001b[0m \u001b[0mnonempty\u001b[0m \u001b[0;32melse\u001b[0m \u001b[0;34m(\u001b[0m\u001b[0;32mNone\u001b[0m\u001b[0;34m,\u001b[0m \u001b[0;32mNone\u001b[0m\u001b[0;34m)\u001b[0m\u001b[0;34m\u001b[0m\u001b[0m\n\u001b[1;32m    189\u001b[0m \u001b[0;34m\u001b[0m\u001b[0m\n\u001b[0;32m--> 190\u001b[0;31m         \u001b[0msuper\u001b[0m\u001b[0;34m(\u001b[0m\u001b[0m_Selection\u001b[0m\u001b[0;34m,\u001b[0m \u001b[0mself\u001b[0m\u001b[0;34m)\u001b[0m\u001b[0;34m.\u001b[0m\u001b[0m__init__\u001b[0m\u001b[0;34m(\u001b[0m\u001b[0;34m*\u001b[0m\u001b[0margs\u001b[0m\u001b[0;34m,\u001b[0m \u001b[0;34m**\u001b[0m\u001b[0mkwargs\u001b[0m\u001b[0;34m)\u001b[0m\u001b[0;34m\u001b[0m\u001b[0m\n\u001b[0m\u001b[1;32m    191\u001b[0m         \u001b[0mself\u001b[0m\u001b[0;34m.\u001b[0m\u001b[0m_initializing_traits_\u001b[0m \u001b[0;34m=\u001b[0m \u001b[0;32mFalse\u001b[0m\u001b[0;34m\u001b[0m\u001b[0m\n\u001b[1;32m    192\u001b[0m \u001b[0;34m\u001b[0m\u001b[0m\n",
         "\u001b[0;32m~/anaconda3/lib/python3.6/site-packages/ipywidgets/widgets/widget.py\u001b[0m in \u001b[0;36m__init__\u001b[0;34m(self, **kwargs)\u001b[0m\n\u001b[1;32m    409\u001b[0m         \u001b[0;34m\"\"\"Public constructor\"\"\"\u001b[0m\u001b[0;34m\u001b[0m\u001b[0m\n\u001b[1;32m    410\u001b[0m         \u001b[0mself\u001b[0m\u001b[0;34m.\u001b[0m\u001b[0m_model_id\u001b[0m \u001b[0;34m=\u001b[0m \u001b[0mkwargs\u001b[0m\u001b[0;34m.\u001b[0m\u001b[0mpop\u001b[0m\u001b[0;34m(\u001b[0m\u001b[0;34m'model_id'\u001b[0m\u001b[0;34m,\u001b[0m \u001b[0;32mNone\u001b[0m\u001b[0;34m)\u001b[0m\u001b[0;34m\u001b[0m\u001b[0m\n\u001b[0;32m--> 411\u001b[0;31m         \u001b[0msuper\u001b[0m\u001b[0;34m(\u001b[0m\u001b[0mWidget\u001b[0m\u001b[0;34m,\u001b[0m \u001b[0mself\u001b[0m\u001b[0;34m)\u001b[0m\u001b[0;34m.\u001b[0m\u001b[0m__init__\u001b[0m\u001b[0;34m(\u001b[0m\u001b[0;34m**\u001b[0m\u001b[0mkwargs\u001b[0m\u001b[0;34m)\u001b[0m\u001b[0;34m\u001b[0m\u001b[0m\n\u001b[0m\u001b[1;32m    412\u001b[0m \u001b[0;34m\u001b[0m\u001b[0m\n\u001b[1;32m    413\u001b[0m         \u001b[0mWidget\u001b[0m\u001b[0;34m.\u001b[0m\u001b[0m_call_widget_constructed\u001b[0m\u001b[0;34m(\u001b[0m\u001b[0mself\u001b[0m\u001b[0;34m)\u001b[0m\u001b[0;34m\u001b[0m\u001b[0m\n",
         "\u001b[0;32m~/anaconda3/lib/python3.6/site-packages/traitlets/traitlets.py\u001b[0m in \u001b[0;36m__init__\u001b[0;34m(self, *args, **kwargs)\u001b[0m\n\u001b[1;32m    998\u001b[0m                 \u001b[0;32melse\u001b[0m\u001b[0;34m:\u001b[0m\u001b[0;34m\u001b[0m\u001b[0m\n\u001b[1;32m    999\u001b[0m                     \u001b[0;31m# passthrough args that don't set traits to super\u001b[0m\u001b[0;34m\u001b[0m\u001b[0;34m\u001b[0m\u001b[0m\n\u001b[0;32m-> 1000\u001b[0;31m                     \u001b[0msuper_kwargs\u001b[0m\u001b[0;34m[\u001b[0m\u001b[0mkey\u001b[0m\u001b[0;34m]\u001b[0m \u001b[0;34m=\u001b[0m \u001b[0mvalue\u001b[0m\u001b[0;34m\u001b[0m\u001b[0m\n\u001b[0m\u001b[1;32m   1001\u001b[0m         \u001b[0;32mtry\u001b[0m\u001b[0;34m:\u001b[0m\u001b[0;34m\u001b[0m\u001b[0m\n\u001b[1;32m   1002\u001b[0m             \u001b[0msuper\u001b[0m\u001b[0;34m(\u001b[0m\u001b[0mHasTraits\u001b[0m\u001b[0;34m,\u001b[0m \u001b[0mself\u001b[0m\u001b[0;34m)\u001b[0m\u001b[0;34m.\u001b[0m\u001b[0m__init__\u001b[0m\u001b[0;34m(\u001b[0m\u001b[0;34m*\u001b[0m\u001b[0msuper_args\u001b[0m\u001b[0;34m,\u001b[0m \u001b[0;34m**\u001b[0m\u001b[0msuper_kwargs\u001b[0m\u001b[0;34m)\u001b[0m\u001b[0;34m\u001b[0m\u001b[0m\n",
         "\u001b[0;32m~/anaconda3/lib/python3.6/contextlib.py\u001b[0m in \u001b[0;36m__exit__\u001b[0;34m(self, type, value, traceback)\u001b[0m\n\u001b[1;32m     86\u001b[0m         \u001b[0;32mif\u001b[0m \u001b[0mtype\u001b[0m \u001b[0;32mis\u001b[0m \u001b[0;32mNone\u001b[0m\u001b[0;34m:\u001b[0m\u001b[0;34m\u001b[0m\u001b[0m\n\u001b[1;32m     87\u001b[0m             \u001b[0;32mtry\u001b[0m\u001b[0;34m:\u001b[0m\u001b[0;34m\u001b[0m\u001b[0m\n\u001b[0;32m---> 88\u001b[0;31m                 \u001b[0mnext\u001b[0m\u001b[0;34m(\u001b[0m\u001b[0mself\u001b[0m\u001b[0;34m.\u001b[0m\u001b[0mgen\u001b[0m\u001b[0;34m)\u001b[0m\u001b[0;34m\u001b[0m\u001b[0m\n\u001b[0m\u001b[1;32m     89\u001b[0m             \u001b[0;32mexcept\u001b[0m \u001b[0mStopIteration\u001b[0m\u001b[0;34m:\u001b[0m\u001b[0;34m\u001b[0m\u001b[0m\n\u001b[1;32m     90\u001b[0m                 \u001b[0;32mreturn\u001b[0m \u001b[0;32mFalse\u001b[0m\u001b[0;34m\u001b[0m\u001b[0m\n",
         "\u001b[0;32m~/anaconda3/lib/python3.6/site-packages/traitlets/traitlets.py\u001b[0m in \u001b[0;36mhold_trait_notifications\u001b[0;34m(self)\u001b[0m\n\u001b[1;32m   1120\u001b[0m                                 \u001b[0mself\u001b[0m\u001b[0;34m.\u001b[0m\u001b[0m_trait_values\u001b[0m\u001b[0;34m.\u001b[0m\u001b[0mpop\u001b[0m\u001b[0;34m(\u001b[0m\u001b[0mname\u001b[0m\u001b[0;34m)\u001b[0m\u001b[0;34m\u001b[0m\u001b[0m\n\u001b[1;32m   1121\u001b[0m                 \u001b[0mcache\u001b[0m \u001b[0;34m=\u001b[0m \u001b[0;34m{\u001b[0m\u001b[0;34m}\u001b[0m\u001b[0;34m\u001b[0m\u001b[0m\n\u001b[0;32m-> 1122\u001b[0;31m                 \u001b[0;32mraise\u001b[0m \u001b[0me\u001b[0m\u001b[0;34m\u001b[0m\u001b[0m\n\u001b[0m\u001b[1;32m   1123\u001b[0m             \u001b[0;32mfinally\u001b[0m\u001b[0;34m:\u001b[0m\u001b[0;34m\u001b[0m\u001b[0m\n\u001b[1;32m   1124\u001b[0m                 \u001b[0mself\u001b[0m\u001b[0;34m.\u001b[0m\u001b[0m_cross_validation_lock\u001b[0m \u001b[0;34m=\u001b[0m \u001b[0;32mFalse\u001b[0m\u001b[0;34m\u001b[0m\u001b[0m\n",
         "\u001b[0;32m~/anaconda3/lib/python3.6/site-packages/traitlets/traitlets.py\u001b[0m in \u001b[0;36mhold_trait_notifications\u001b[0;34m(self)\u001b[0m\n\u001b[1;32m   1106\u001b[0m                 \u001b[0;32mfor\u001b[0m \u001b[0mname\u001b[0m \u001b[0;32min\u001b[0m \u001b[0mlist\u001b[0m\u001b[0;34m(\u001b[0m\u001b[0mcache\u001b[0m\u001b[0;34m.\u001b[0m\u001b[0mkeys\u001b[0m\u001b[0;34m(\u001b[0m\u001b[0;34m)\u001b[0m\u001b[0;34m)\u001b[0m\u001b[0;34m:\u001b[0m\u001b[0;34m\u001b[0m\u001b[0m\n\u001b[1;32m   1107\u001b[0m                     \u001b[0mtrait\u001b[0m \u001b[0;34m=\u001b[0m \u001b[0mgetattr\u001b[0m\u001b[0;34m(\u001b[0m\u001b[0mself\u001b[0m\u001b[0;34m.\u001b[0m\u001b[0m__class__\u001b[0m\u001b[0;34m,\u001b[0m \u001b[0mname\u001b[0m\u001b[0;34m)\u001b[0m\u001b[0;34m\u001b[0m\u001b[0m\n\u001b[0;32m-> 1108\u001b[0;31m                     \u001b[0mvalue\u001b[0m \u001b[0;34m=\u001b[0m \u001b[0mtrait\u001b[0m\u001b[0;34m.\u001b[0m\u001b[0m_cross_validate\u001b[0m\u001b[0;34m(\u001b[0m\u001b[0mself\u001b[0m\u001b[0;34m,\u001b[0m \u001b[0mgetattr\u001b[0m\u001b[0;34m(\u001b[0m\u001b[0mself\u001b[0m\u001b[0;34m,\u001b[0m \u001b[0mname\u001b[0m\u001b[0;34m)\u001b[0m\u001b[0;34m)\u001b[0m\u001b[0;34m\u001b[0m\u001b[0m\n\u001b[0m\u001b[1;32m   1109\u001b[0m                     \u001b[0mself\u001b[0m\u001b[0;34m.\u001b[0m\u001b[0mset_trait\u001b[0m\u001b[0;34m(\u001b[0m\u001b[0mname\u001b[0m\u001b[0;34m,\u001b[0m \u001b[0mvalue\u001b[0m\u001b[0;34m)\u001b[0m\u001b[0;34m\u001b[0m\u001b[0m\n\u001b[1;32m   1110\u001b[0m             \u001b[0;32mexcept\u001b[0m \u001b[0mTraitError\u001b[0m \u001b[0;32mas\u001b[0m \u001b[0me\u001b[0m\u001b[0;34m:\u001b[0m\u001b[0;34m\u001b[0m\u001b[0m\n",
         "\u001b[0;32m~/anaconda3/lib/python3.6/site-packages/traitlets/traitlets.py\u001b[0m in \u001b[0;36m_cross_validate\u001b[0;34m(self, obj, value)\u001b[0m\n\u001b[1;32m    597\u001b[0m         \u001b[0;32mif\u001b[0m \u001b[0mself\u001b[0m\u001b[0;34m.\u001b[0m\u001b[0mname\u001b[0m \u001b[0;32min\u001b[0m \u001b[0mobj\u001b[0m\u001b[0;34m.\u001b[0m\u001b[0m_trait_validators\u001b[0m\u001b[0;34m:\u001b[0m\u001b[0;34m\u001b[0m\u001b[0m\n\u001b[1;32m    598\u001b[0m             \u001b[0mproposal\u001b[0m \u001b[0;34m=\u001b[0m \u001b[0mBunch\u001b[0m\u001b[0;34m(\u001b[0m\u001b[0;34m{\u001b[0m\u001b[0;34m'trait'\u001b[0m\u001b[0;34m:\u001b[0m \u001b[0mself\u001b[0m\u001b[0;34m,\u001b[0m \u001b[0;34m'value'\u001b[0m\u001b[0;34m:\u001b[0m \u001b[0mvalue\u001b[0m\u001b[0;34m,\u001b[0m \u001b[0;34m'owner'\u001b[0m\u001b[0;34m:\u001b[0m \u001b[0mobj\u001b[0m\u001b[0;34m}\u001b[0m\u001b[0;34m)\u001b[0m\u001b[0;34m\u001b[0m\u001b[0m\n\u001b[0;32m--> 599\u001b[0;31m             \u001b[0mvalue\u001b[0m \u001b[0;34m=\u001b[0m \u001b[0mobj\u001b[0m\u001b[0;34m.\u001b[0m\u001b[0m_trait_validators\u001b[0m\u001b[0;34m[\u001b[0m\u001b[0mself\u001b[0m\u001b[0;34m.\u001b[0m\u001b[0mname\u001b[0m\u001b[0;34m]\u001b[0m\u001b[0;34m(\u001b[0m\u001b[0mobj\u001b[0m\u001b[0;34m,\u001b[0m \u001b[0mproposal\u001b[0m\u001b[0;34m)\u001b[0m\u001b[0;34m\u001b[0m\u001b[0m\n\u001b[0m\u001b[1;32m    600\u001b[0m         \u001b[0;32melif\u001b[0m \u001b[0mhasattr\u001b[0m\u001b[0;34m(\u001b[0m\u001b[0mobj\u001b[0m\u001b[0;34m,\u001b[0m \u001b[0;34m'_%s_validate'\u001b[0m \u001b[0;34m%\u001b[0m \u001b[0mself\u001b[0m\u001b[0;34m.\u001b[0m\u001b[0mname\u001b[0m\u001b[0;34m)\u001b[0m\u001b[0;34m:\u001b[0m\u001b[0;34m\u001b[0m\u001b[0m\n\u001b[1;32m    601\u001b[0m             \u001b[0mmeth_name\u001b[0m \u001b[0;34m=\u001b[0m \u001b[0;34m'_%s_validate'\u001b[0m \u001b[0;34m%\u001b[0m \u001b[0mself\u001b[0m\u001b[0;34m.\u001b[0m\u001b[0mname\u001b[0m\u001b[0;34m\u001b[0m\u001b[0m\n",
         "\u001b[0;32m~/anaconda3/lib/python3.6/site-packages/traitlets/traitlets.py\u001b[0m in \u001b[0;36m__call__\u001b[0;34m(self, *args, **kwargs)\u001b[0m\n\u001b[1;32m    905\u001b[0m         \u001b[0;34m\"\"\"Pass `*args` and `**kwargs` to the handler's function if it exists.\"\"\"\u001b[0m\u001b[0;34m\u001b[0m\u001b[0m\n\u001b[1;32m    906\u001b[0m         \u001b[0;32mif\u001b[0m \u001b[0mhasattr\u001b[0m\u001b[0;34m(\u001b[0m\u001b[0mself\u001b[0m\u001b[0;34m,\u001b[0m \u001b[0;34m'func'\u001b[0m\u001b[0;34m)\u001b[0m\u001b[0;34m:\u001b[0m\u001b[0;34m\u001b[0m\u001b[0m\n\u001b[0;32m--> 907\u001b[0;31m             \u001b[0;32mreturn\u001b[0m \u001b[0mself\u001b[0m\u001b[0;34m.\u001b[0m\u001b[0mfunc\u001b[0m\u001b[0;34m(\u001b[0m\u001b[0;34m*\u001b[0m\u001b[0margs\u001b[0m\u001b[0;34m,\u001b[0m \u001b[0;34m**\u001b[0m\u001b[0mkwargs\u001b[0m\u001b[0;34m)\u001b[0m\u001b[0;34m\u001b[0m\u001b[0m\n\u001b[0m\u001b[1;32m    908\u001b[0m         \u001b[0;32melse\u001b[0m\u001b[0;34m:\u001b[0m\u001b[0;34m\u001b[0m\u001b[0m\n\u001b[1;32m    909\u001b[0m             \u001b[0;32mreturn\u001b[0m \u001b[0mself\u001b[0m\u001b[0;34m.\u001b[0m\u001b[0m_init_call\u001b[0m\u001b[0;34m(\u001b[0m\u001b[0;34m*\u001b[0m\u001b[0margs\u001b[0m\u001b[0;34m,\u001b[0m \u001b[0;34m**\u001b[0m\u001b[0mkwargs\u001b[0m\u001b[0;34m)\u001b[0m\u001b[0;34m\u001b[0m\u001b[0m\n",
         "\u001b[0;32m~/anaconda3/lib/python3.6/site-packages/ipywidgets/widgets/widget_selection.py\u001b[0m in \u001b[0;36m_validate_value\u001b[0;34m(self, proposal)\u001b[0m\n\u001b[1;32m    239\u001b[0m             \u001b[0;32mreturn\u001b[0m \u001b[0mfindvalue\u001b[0m\u001b[0;34m(\u001b[0m\u001b[0mself\u001b[0m\u001b[0;34m.\u001b[0m\u001b[0m_options_values\u001b[0m\u001b[0;34m,\u001b[0m \u001b[0mvalue\u001b[0m\u001b[0;34m,\u001b[0m \u001b[0mself\u001b[0m\u001b[0;34m.\u001b[0m\u001b[0mequals\u001b[0m\u001b[0;34m)\u001b[0m \u001b[0;32mif\u001b[0m \u001b[0mvalue\u001b[0m \u001b[0;32mis\u001b[0m \u001b[0;32mnot\u001b[0m \u001b[0;32mNone\u001b[0m \u001b[0;32melse\u001b[0m \u001b[0;32mNone\u001b[0m\u001b[0;34m\u001b[0m\u001b[0m\n\u001b[1;32m    240\u001b[0m         \u001b[0;32mexcept\u001b[0m \u001b[0mValueError\u001b[0m\u001b[0;34m:\u001b[0m\u001b[0;34m\u001b[0m\u001b[0m\n\u001b[0;32m--> 241\u001b[0;31m             \u001b[0;32mraise\u001b[0m \u001b[0mTraitError\u001b[0m\u001b[0;34m(\u001b[0m\u001b[0;34m'Invalid selection: value not found'\u001b[0m\u001b[0;34m)\u001b[0m\u001b[0;34m\u001b[0m\u001b[0m\n\u001b[0m\u001b[1;32m    242\u001b[0m \u001b[0;34m\u001b[0m\u001b[0m\n\u001b[1;32m    243\u001b[0m     \u001b[0;34m@\u001b[0m\u001b[0mobserve\u001b[0m\u001b[0;34m(\u001b[0m\u001b[0;34m'value'\u001b[0m\u001b[0;34m)\u001b[0m\u001b[0;34m\u001b[0m\u001b[0m\n",
         "\u001b[0;31mTraitError\u001b[0m: Invalid selection: value not found"
        ]
       }
      ],
      "source": "WO.selectPolicyAccess()",
      "start_time": "2019-03-19T18:03:44.195Z"
     },
     {
      "end_time": "2019-03-19T18:08:50.379Z",
      "execution_time": "51ms",
      "outputs": [
       {
        "data": {
         "application/vnd.jupyter.widget-view+json": {
          "model_id": "",
          "version_major": 2,
          "version_minor": 0
         },
         "text/plain": "HBox(children=(Label(value='Please select the policy access:'), Dropdown(options=('no_access', 'view', 'downlo…"
        },
        "metadata": {},
        "output_type": "display_data",
        "transient": {}
       }
      ],
      "source": "WO.selectPolicyAccess()",
      "start_time": "2019-03-19T18:08:50.328Z"
     },
     {
      "end_time": "2019-03-19T18:10:19.753Z",
      "execution_time": "41ms",
      "outputs": [
       {
        "data": {
         "application/vnd.jupyter.widget-view+json": {
          "model_id": "",
          "version_major": 2,
          "version_minor": 0
         },
         "text/plain": "HBox(children=(Label(value='Please select the policy access:'), Dropdown(options=('no_access', 'view', 'downlo…"
        },
        "metadata": {},
        "output_type": "display_data",
        "transient": {}
       }
      ],
      "source": "WO.selectPolicyAccess()",
      "start_time": "2019-03-19T18:10:19.712Z"
     },
     {
      "end_time": "2019-03-19T18:11:56.227Z",
      "execution_time": "65ms",
      "outputs": [
       {
        "data": {
         "application/vnd.jupyter.widget-view+json": {
          "model_id": "",
          "version_major": 2,
          "version_minor": 0
         },
         "text/plain": "HBox(children=(Label(value='Please select the policy access:'), Dropdown(options=('no_access', 'view', 'downlo…"
        },
        "metadata": {},
        "output_type": "display_data",
        "transient": {}
       }
      ],
      "source": "WO.selectPolicyAccess()",
      "start_time": "2019-03-19T18:11:56.162Z"
     },
     {
      "end_time": "2019-03-19T18:17:37.946Z",
      "execution_time": "79ms",
      "outputs": [
       {
        "data": {
         "application/vnd.jupyter.widget-view+json": {
          "model_id": "",
          "version_major": 2,
          "version_minor": 0
         },
         "text/plain": "HBox(children=(Label(value='Please select the policy access:'), Dropdown(options=('no_access', 'view', 'downlo…"
        },
        "metadata": {},
        "output_type": "display_data",
        "transient": {}
       }
      ],
      "source": "WO.selectPolicyAccess()",
      "start_time": "2019-03-19T18:17:37.867Z"
     },
     {
      "end_time": "2019-03-19T19:54:25.443Z",
      "execution_time": "45ms",
      "outputs": [
       {
        "data": {
         "application/vnd.jupyter.widget-view+json": {
          "model_id": "",
          "version_major": 2,
          "version_minor": 0
         },
         "text/plain": "HBox(children=(Label(value='Please select the policy access:'), Dropdown(options=('no_access', 'view', 'downlo…"
        },
        "metadata": {},
        "output_type": "display_data",
        "transient": {}
       }
      ],
      "source": "WO.selectPolicyAccess()",
      "start_time": "2019-03-19T19:54:25.398Z"
     },
     {
      "end_time": "2019-03-19T19:58:26.979Z",
      "execution_time": "87ms",
      "outputs": [
       {
        "data": {
         "application/vnd.jupyter.widget-view+json": {
          "model_id": "",
          "version_major": 2,
          "version_minor": 0
         },
         "text/plain": "HBox(children=(Label(value='Please select the policy access:'), Dropdown(options=('no_access', 'view', 'downlo…"
        },
        "metadata": {},
        "output_type": "display_data",
        "transient": {}
       }
      ],
      "source": "WO.selectPolicyAccess()",
      "start_time": "2019-03-19T19:58:26.892Z"
     },
     {
      "end_time": "2019-03-19T20:00:08.780Z",
      "execution_time": "54ms",
      "outputs": [
       {
        "data": {
         "application/vnd.jupyter.widget-view+json": {
          "model_id": "",
          "version_major": 2,
          "version_minor": 0
         },
         "text/plain": "HBox(children=(Label(value='Please select the policy access:'), Dropdown(options=('no_access', 'view', 'downlo…"
        },
        "metadata": {},
        "output_type": "display_data",
        "transient": {}
       }
      ],
      "source": "WO.selectPolicyAccess()",
      "start_time": "2019-03-19T20:00:08.726Z"
     },
     {
      "end_time": "2019-03-19T20:11:37.720Z",
      "execution_time": "168ms",
      "outputs": [
       {
        "data": {
         "application/vnd.jupyter.widget-view+json": {
          "model_id": "",
          "version_major": 2,
          "version_minor": 0
         },
         "text/plain": "HBox(children=(Label(value='Please select the policy access:'), Dropdown(options=('no_access', 'view', 'downlo…"
        },
        "metadata": {},
        "output_type": "display_data",
        "transient": {}
       }
      ],
      "source": "WO.selectPolicyAccess()",
      "start_time": "2019-03-19T20:11:37.552Z"
     },
     {
      "end_time": "2019-03-19T20:19:38.222Z",
      "execution_time": "48ms",
      "outputs": [
       {
        "data": {
         "application/vnd.jupyter.widget-view+json": {
          "model_id": "",
          "version_major": 2,
          "version_minor": 0
         },
         "text/plain": "HBox(children=(Label(value='Please select the policy access:'), Dropdown(options=('no_access', 'view', 'downlo…"
        },
        "metadata": {},
        "output_type": "display_data",
        "transient": {}
       }
      ],
      "source": "WO.selectPolicyAccess()",
      "start_time": "2019-03-19T20:19:38.174Z"
     }
    ]
   },
   "outputs": [],
   "source": [
    "WO.selectPolicyAccess()"
   ]
  },
  {
   "cell_type": "code",
   "execution_count": null,
   "metadata": {
    "ExecutionTime": {
     "end_time": "2019-03-19T21:00:56.734943Z",
     "start_time": "2019-03-19T21:00:14.939050Z"
    },
    "provenance": [
     {
      "end_time": "2019-03-19T17:14:56.936Z",
      "execution_time": "84ms",
      "outputs": [
       {
        "data": {
         "text/html": "<h3>SEEK FORM</h3>",
         "text/plain": "<IPython.core.display.HTML object>"
        },
        "metadata": {},
        "output_type": "display_data",
        "transient": {}
       },
       {
        "ename": "AttributeError",
        "evalue": "'HBox' object has no attribute 'value'",
        "output_type": "error",
        "traceback": [
         "\u001b[0;31m---------------------------------------------------------------------------\u001b[0m",
         "\u001b[0;31mAttributeError\u001b[0m                            Traceback (most recent call last)",
         "\u001b[0;32m<ipython-input-2-c4fbdd204ac2>\u001b[0m in \u001b[0;36m<module>\u001b[0;34m()\u001b[0m\n\u001b[0;32m----> 1\u001b[0;31m \u001b[0mWO\u001b[0m\u001b[0;34m.\u001b[0m\u001b[0mSEEKForm\u001b[0m\u001b[0;34m(\u001b[0m\u001b[0;34m)\u001b[0m\u001b[0;34m.\u001b[0m\u001b[0mvalue\u001b[0m\u001b[0;34m\u001b[0m\u001b[0m\n\u001b[0m",
         "\u001b[0;31mAttributeError\u001b[0m: 'HBox' object has no attribute 'value'"
        ]
       }
      ],
      "source": "WO.SEEKForm().value",
      "start_time": "2019-03-19T17:14:56.852Z"
     },
     {
      "end_time": "2019-03-19T17:15:06.012Z",
      "execution_time": "32ms",
      "outputs": [
       {
        "ename": "AttributeError",
        "evalue": "'Dropdown' object has no attribute 'vallue'",
        "output_type": "error",
        "traceback": [
         "\u001b[0;31m---------------------------------------------------------------------------\u001b[0m",
         "\u001b[0;31mAttributeError\u001b[0m                            Traceback (most recent call last)",
         "\u001b[0;32m<ipython-input-3-fdb41c3bd0e5>\u001b[0m in \u001b[0;36m<module>\u001b[0;34m()\u001b[0m\n\u001b[0;32m----> 1\u001b[0;31m \u001b[0mWO\u001b[0m\u001b[0;34m.\u001b[0m\u001b[0mdd\u001b[0m\u001b[0;34m.\u001b[0m\u001b[0mvallue\u001b[0m\u001b[0;34m\u001b[0m\u001b[0m\n\u001b[0m",
         "\u001b[0;31mAttributeError\u001b[0m: 'Dropdown' object has no attribute 'vallue'"
        ]
       }
      ],
      "source": "WO.dd.vallue",
      "start_time": "2019-03-19T17:15:05.980Z"
     },
     {
      "end_time": "2019-03-19T17:15:08.365Z",
      "execution_time": "15ms",
      "outputs": [
       {
        "data": {
         "text/plain": "'assays'"
        },
        "execution_count": 4,
        "metadata": {},
        "output_type": "execute_result"
       }
      ],
      "source": "WO.dd.value",
      "start_time": "2019-03-19T17:15:08.350Z"
     },
     {
      "end_time": "2019-03-19T17:15:12.212Z",
      "execution_time": "10ms",
      "outputs": [
       {
        "data": {
         "text/plain": "'assays'"
        },
        "execution_count": 5,
        "metadata": {},
        "output_type": "execute_result"
       }
      ],
      "source": "WO.dd.value",
      "start_time": "2019-03-19T17:15:12.202Z"
     },
     {
      "end_time": "2019-03-19T17:15:15.025Z",
      "execution_time": "18ms",
      "outputs": [
       {
        "data": {
         "text/plain": "'assays'"
        },
        "execution_count": 6,
        "metadata": {},
        "output_type": "execute_result"
       }
      ],
      "source": "WO.dd.value",
      "start_time": "2019-03-19T17:15:15.007Z"
     },
     {
      "end_time": "2019-03-19T17:16:21.684Z",
      "execution_time": "10ms",
      "outputs": [
       {
        "data": {
         "text/plain": "'data_files'"
        },
        "execution_count": 8,
        "metadata": {},
        "output_type": "execute_result"
       }
      ],
      "source": "WO.dd.value",
      "start_time": "2019-03-19T17:16:21.674Z"
     },
     {
      "end_time": "2019-03-19T17:16:29.777Z",
      "execution_time": "14ms",
      "outputs": [
       {
        "data": {
         "text/plain": "'investigations'"
        },
        "execution_count": 9,
        "metadata": {},
        "output_type": "execute_result"
       }
      ],
      "source": "WO.dd.value",
      "start_time": "2019-03-19T17:16:29.763Z"
     },
     {
      "end_time": "2019-03-19T17:24:53.925Z",
      "execution_time": "63ms",
      "outputs": [
       {
        "ename": "NameError",
        "evalue": "name 'widgets' is not defined",
        "output_type": "error",
        "traceback": [
         "\u001b[0;31m---------------------------------------------------------------------------\u001b[0m",
         "\u001b[0;31mNameError\u001b[0m                                 Traceback (most recent call last)",
         "\u001b[0;32m<ipython-input-2-b37f0c557f2d>\u001b[0m in \u001b[0;36m<module>\u001b[0;34m()\u001b[0m\n\u001b[0;32m----> 1\u001b[0;31m widgets.Textarea(\n\u001b[0m\u001b[1;32m      2\u001b[0m     \u001b[0mvalue\u001b[0m\u001b[0;34m=\u001b[0m\u001b[0;34m'Hello World'\u001b[0m\u001b[0;34m,\u001b[0m\u001b[0;34m\u001b[0m\u001b[0m\n\u001b[1;32m      3\u001b[0m     \u001b[0mplaceholder\u001b[0m\u001b[0;34m=\u001b[0m\u001b[0;34m'Type something'\u001b[0m\u001b[0;34m,\u001b[0m\u001b[0;34m\u001b[0m\u001b[0m\n\u001b[1;32m      4\u001b[0m     \u001b[0mdescription\u001b[0m\u001b[0;34m=\u001b[0m\u001b[0;34m'String:'\u001b[0m\u001b[0;34m,\u001b[0m\u001b[0;34m\u001b[0m\u001b[0m\n\u001b[1;32m      5\u001b[0m     \u001b[0mdisabled\u001b[0m\u001b[0;34m=\u001b[0m\u001b[0;32mFalse\u001b[0m\u001b[0;34m\u001b[0m\u001b[0m\n",
         "\u001b[0;31mNameError\u001b[0m: name 'widgets' is not defined"
        ]
       }
      ],
      "source": "widgets.Textarea(\n    value='Hello World',\n    placeholder='Type something',\n    description='String:',\n    disabled=False\n)",
      "start_time": "2019-03-19T17:24:53.862Z"
     },
     {
      "end_time": "2019-03-19T17:25:04.861Z",
      "execution_time": "9ms",
      "outputs": [
       {
        "ename": "SyntaxError",
        "evalue": "invalid syntax (<ipython-input-3-3eef1eaa51a7>, line 1)",
        "output_type": "error",
        "traceback": [
         "\u001b[0;36m  File \u001b[0;32m\"<ipython-input-3-3eef1eaa51a7>\"\u001b[0;36m, line \u001b[0;32m1\u001b[0m\n\u001b[0;31m    import ipywidget widgets\u001b[0m\n\u001b[0m                           ^\u001b[0m\n\u001b[0;31mSyntaxError\u001b[0m\u001b[0;31m:\u001b[0m invalid syntax\n"
        ]
       }
      ],
      "source": "import ipywidget widgets\nwidgets.Textarea(\n    value='Hello World',\n    placeholder='Type something',\n    description='String:',\n    disabled=False\n)",
      "start_time": "2019-03-19T17:25:04.852Z"
     },
     {
      "end_time": "2019-03-19T17:25:09.672Z",
      "execution_time": "27ms",
      "outputs": [
       {
        "data": {
         "application/vnd.jupyter.widget-view+json": {
          "model_id": "",
          "version_major": 2,
          "version_minor": 0
         },
         "text/plain": "Textarea(value='Hello World', description='String:', placeholder='Type something')"
        },
        "metadata": {},
        "output_type": "display_data",
        "transient": {}
       }
      ],
      "source": "import ipywidgets as widgets\nwidgets.Textarea(\n    value='Hello World',\n    placeholder='Type something',\n    description='String:',\n    disabled=False\n)",
      "start_time": "2019-03-19T17:25:09.645Z"
     },
     {
      "end_time": "2019-03-19T18:08:52.320Z",
      "execution_time": "63ms",
      "outputs": [
       {
        "ename": "AttributeError",
        "evalue": "'WriteObject' object has no attribute 'SEEKForm'",
        "output_type": "error",
        "traceback": [
         "\u001b[0;31m---------------------------------------------------------------------------\u001b[0m",
         "\u001b[0;31mAttributeError\u001b[0m                            Traceback (most recent call last)",
         "\u001b[0;32m<ipython-input-5-f3a80bffc804>\u001b[0m in \u001b[0;36m<module>\u001b[0;34m()\u001b[0m\n\u001b[0;32m----> 1\u001b[0;31m \u001b[0mWO\u001b[0m\u001b[0;34m.\u001b[0m\u001b[0mSEEKForm\u001b[0m\u001b[0;34m(\u001b[0m\u001b[0;34m)\u001b[0m\u001b[0;34m\u001b[0m\u001b[0m\n\u001b[0m",
         "\u001b[0;31mAttributeError\u001b[0m: 'WriteObject' object has no attribute 'SEEKForm'"
        ]
       }
      ],
      "source": "WO.SEEKForm()",
      "start_time": "2019-03-19T18:08:52.257Z"
     },
     {
      "end_time": "2019-03-19T18:09:01.744Z",
      "execution_time": "2.91s",
      "outputs": [
       {
        "name": "stdout",
        "output_type": "stream",
        "text": "Please list other creators: \n"
       },
       {
        "ename": "KeyError",
        "evalue": "'policy'",
        "output_type": "error",
        "traceback": [
         "\u001b[0;31m---------------------------------------------------------------------------\u001b[0m",
         "\u001b[0;31mKeyError\u001b[0m                                  Traceback (most recent call last)",
         "\u001b[0;32m<ipython-input-6-aab3ee8483e7>\u001b[0m in \u001b[0;36m<module>\u001b[0;34m()\u001b[0m\n\u001b[0;32m----> 1\u001b[0;31m \u001b[0mWO\u001b[0m\u001b[0;34m.\u001b[0m\u001b[0mfillSEEKForm\u001b[0m\u001b[0;34m(\u001b[0m\u001b[0;34m)\u001b[0m\u001b[0;34m\u001b[0m\u001b[0m\n\u001b[0m",
         "\u001b[0;32m~/Work/ThirdYear/Seek/TheSeekNotebook/WriteObject.py\u001b[0m in \u001b[0;36mfillSEEKForm\u001b[0;34m(self)\u001b[0m\n\u001b[1;32m     63\u001b[0m             self.JSON = Helper.assayFormat(self.description, \n\u001b[1;32m     64\u001b[0m                                            \u001b[0mself\u001b[0m\u001b[0;34m.\u001b[0m\u001b[0massayKind\u001b[0m\u001b[0;34m,\u001b[0m\u001b[0;34m\u001b[0m\u001b[0m\n\u001b[0;32m---> 65\u001b[0;31m                                            self.policyAccess)\n\u001b[0m\u001b[1;32m     66\u001b[0m \u001b[0;34m\u001b[0m\u001b[0m\n\u001b[1;32m     67\u001b[0m         \u001b[0;32melif\u001b[0m \u001b[0mself\u001b[0m\u001b[0;34m.\u001b[0m\u001b[0mtype\u001b[0m\u001b[0;34m.\u001b[0m\u001b[0mvalue\u001b[0m \u001b[0;34m==\u001b[0m \u001b[0;34m'investigations'\u001b[0m\u001b[0;34m:\u001b[0m\u001b[0;34m\u001b[0m\u001b[0m\n",
         "\u001b[0;32m~/Work/ThirdYear/Seek/TheSeekNotebook/Helper.py\u001b[0m in \u001b[0;36massayFormat\u001b[0;34m(assayKind, description, policy)\u001b[0m\n\u001b[1;32m     37\u001b[0m     \u001b[0mJSON\u001b[0m\u001b[0;34m[\u001b[0m\u001b[0;34m'data'\u001b[0m\u001b[0;34m]\u001b[0m\u001b[0;34m[\u001b[0m\u001b[0;34m'attributes'\u001b[0m\u001b[0;34m]\u001b[0m\u001b[0;34m[\u001b[0m\u001b[0;34m'description'\u001b[0m\u001b[0;34m]\u001b[0m \u001b[0;34m=\u001b[0m \u001b[0mdescription\u001b[0m\u001b[0;34m\u001b[0m\u001b[0m\n\u001b[1;32m     38\u001b[0m     \u001b[0mJSON\u001b[0m\u001b[0;34m[\u001b[0m\u001b[0;34m'data'\u001b[0m\u001b[0;34m]\u001b[0m\u001b[0;34m[\u001b[0m\u001b[0;34m'attributes'\u001b[0m\u001b[0;34m]\u001b[0m\u001b[0;34m[\u001b[0m\u001b[0;34m'other_creators'\u001b[0m\u001b[0;34m]\u001b[0m \u001b[0;34m=\u001b[0m \u001b[0minput\u001b[0m\u001b[0;34m(\u001b[0m\u001b[0;34m'Please list other creators: '\u001b[0m\u001b[0;34m)\u001b[0m\u001b[0;34m\u001b[0m\u001b[0m\n\u001b[0;32m---> 39\u001b[0;31m     \u001b[0mJSON\u001b[0m\u001b[0;34m[\u001b[0m\u001b[0;34m'data'\u001b[0m\u001b[0;34m]\u001b[0m\u001b[0;34m[\u001b[0m\u001b[0;34m'attributes'\u001b[0m\u001b[0;34m]\u001b[0m\u001b[0;34m[\u001b[0m\u001b[0;34m'policy'\u001b[0m\u001b[0;34m]\u001b[0m\u001b[0;34m[\u001b[0m\u001b[0;34m'access'\u001b[0m\u001b[0;34m]\u001b[0m \u001b[0;34m=\u001b[0m \u001b[0mpolicy\u001b[0m\u001b[0;34m\u001b[0m\u001b[0m\n\u001b[0m\u001b[1;32m     40\u001b[0m     \u001b[0mJSON\u001b[0m\u001b[0;34m[\u001b[0m\u001b[0;34m'data'\u001b[0m\u001b[0;34m]\u001b[0m\u001b[0;34m[\u001b[0m\u001b[0;34m'attributes'\u001b[0m\u001b[0;34m]\u001b[0m\u001b[0;34m[\u001b[0m\u001b[0;34m'title'\u001b[0m\u001b[0;34m]\u001b[0m \u001b[0;34m=\u001b[0m \u001b[0minput\u001b[0m\u001b[0;34m(\u001b[0m\u001b[0;34m'Please specify the title: '\u001b[0m\u001b[0;34m)\u001b[0m\u001b[0;34m\u001b[0m\u001b[0m\n\u001b[1;32m     41\u001b[0m \u001b[0;34m\u001b[0m\u001b[0m\n",
         "\u001b[0;31mKeyError\u001b[0m: 'policy'"
        ]
       }
      ],
      "source": "WO.fillSEEKForm()",
      "start_time": "2019-03-19T18:08:58.834Z"
     },
     {
      "end_time": "2019-03-19T18:11:15.069Z",
      "execution_time": "54.5s",
      "outputs": [
       {
        "name": "stdout",
        "output_type": "stream",
        "text": "Please list other creators: \nPlease specify the title: Test Assay\nPlease specify the assay type uri: \nPlease specify the technology type uri: \nPlease specify how many creators is this assay related to: 1\nPlease specify the id of the creator number 1: 373\nPlease specify how many data_files is this assay related to: 0\nPlease specify how many documents is this assay related to: 0\nPlease specify the id of the investigation: \nPlease specify how many models is this assay related to: 0\nPlease specify how many people is this assay related to: 1\nPlease specify the id of the peopl number 1: 373\nPlease specify how many projects is this assay related to: 1\nPlease specify the id of the project number 1: 50\nPlease specify how many publications is this assay related to: 0\nPlease specify how many sops is this assay related to: 0\nPlease specify the id of the studie: \nPlease specify how many submitters is this assay related to: 1\nPlease specify the id of the submitter number 1: 373\n{'data': {'type': 'assays', 'attributes': {'description': Dropdown(options=('EXP', 'MOD'), value='EXP'), 'other_creators': '', 'policy': {'access': Dropdown(options=('no_access', 'view', 'download', 'edit', 'manage'), value='no_access')}, 'title': 'Test Assay', 'assay_class': {'key': Textarea(value='My assay is the best, the best assay of all. The time have passed and although every other assay has changed, my assay stays the same till this day. Every assay has his moment of change in his lifetime when he questions his entire existence, a time of struggle in the assay world. Going trough such a hard time, my assay stayed loyal and never backed down. ', layout=Layout(flex='0 1 auto', height='120px', min_height='40px', width='500px'))}, 'assay_type': {'uri': ''}, 'technology_type': {'uri': ''}}, 'relationships': {'creators': {'data': [{'id': 373, 'type': 'creators'}]}, 'people': {'data': [{'id': 373, 'type': 'people'}]}, 'projects': {'data': [{'id': 50, 'type': 'projects'}]}, 'submitters': {'data': [{'id': 373, 'type': 'submitters'}]}}}}\n"
       }
      ],
      "source": "WO.fillSEEKForm()",
      "start_time": "2019-03-19T18:10:20.550Z"
     },
     {
      "end_time": "2019-03-19T18:12:39.211Z",
      "execution_time": "41.8s",
      "outputs": [
       {
        "name": "stdout",
        "output_type": "stream",
        "text": "Please list other creators: Bogdan Gherasim\nPlease specify the title: Test Assay\nPlease specify the assay type uri: \nPlease specify the technology type uri: \nPlease specify how many creators is this assay related to: 1\nPlease specify the id of the creator number 1: 373\nPlease specify how many data_files is this assay related to: 0\nPlease specify how many documents is this assay related to: 0\nPlease specify the id of the investigation: \nPlease specify how many models is this assay related to: 0\nPlease specify how many people is this assay related to: 1\nPlease specify the id of the peopl number 1: 373\nPlease specify how many projects is this assay related to: 1\nPlease specify the id of the project number 1: 50\nPlease specify how many publications is this assay related to: 0\nPlease specify how many sops is this assay related to: 0\nPlease specify the id of the studie: \nPlease specify how many submitters is this assay related to: 1\nPlease specify the id of the submitter number 1: 373\n{'data': {'type': 'assays', 'attributes': {'description': 'EXP', 'other_creators': 'Bogdan Gherasim', 'policy': {'access': 'no_access'}, 'title': 'Test Assay', 'assay_class': {'key': 'My assay is the best, the best assay of all. The time have passed and although every other assay has changed, my assay stays the same till this day. Every assay has his moment of change in his lifetime when he questions his entire existence, a time of struggle in the assay world. Going trough such a hard time, my assay stayed loyal and never backed down. '}, 'assay_type': {'uri': ''}, 'technology_type': {'uri': ''}}, 'relationships': {'creators': {'data': [{'id': 373, 'type': 'creators'}]}, 'people': {'data': [{'id': 373, 'type': 'people'}]}, 'projects': {'data': [{'id': 50, 'type': 'projects'}]}, 'submitters': {'data': [{'id': 373, 'type': 'submitters'}]}}}}\n"
       }
      ],
      "source": "WO.fillSEEKForm()",
      "start_time": "2019-03-19T18:11:57.399Z"
     },
     {
      "end_time": "2019-03-19T18:18:13.110Z",
      "execution_time": "34.4s",
      "outputs": [
       {
        "name": "stdout",
        "output_type": "stream",
        "text": "Please list other creators: Bogdan Gherasim\nPlease specify the title: Test Assay\nPlease specify the assay type uri: \nPlease specify the technology type uri: \nPlease specify how many creators is this assay related to: 1\nPlease specify the id of the creator number 1: 373\nPlease specify how many data_files is this assay related to: 0\nPlease specify how many documents is this assay related to: 0\nPlease specify the id of the investigation: \nPlease specify how many models is this assay related to: 0\nPlease specify how many people is this assay related to: 1\nPlease specify the id of the peopl number 1: 373\nPlease specify how many projects is this assay related to: 1\nPlease specify the id of the project number 1: 50\nPlease specify how many publications is this assay related to: 0\nPlease specify how many sops is this assay related to: 0\nPlease specify the id of the studie: \nPlease specify how many submitters is this assay related to: 1\nPlease specify the id of the submitter number 1: 373\n{'data': {'type': 'assays', 'attributes': {'description': 'EXP', 'other_creators': 'Bogdan Gherasim', 'policy': {'access': 'no_access'}, 'title': 'Test Assay', 'assay_class': {'key': 'My assay is the best, the best assay of all. The time have passed and although every other assay has changed, my assay stays the same till this day. Every assay has his moment of change in his lifetime when he questions his entire existence, a time of struggle in the assay world. Going trough such a hard time, my assay stayed loyal and never backed down. '}, 'assay_type': {'uri': ''}, 'technology_type': {'uri': ''}}, 'relationships': {'creators': {'data': [{'id': 373, 'type': 'creators'}]}, 'people': {'data': [{'id': 373, 'type': 'people'}]}, 'projects': {'data': [{'id': 50, 'type': 'projects'}]}, 'submitters': {'data': [{'id': 373, 'type': 'submitters'}]}}}}\n"
       }
      ],
      "source": "WO.fillSEEKForm()",
      "start_time": "2019-03-19T18:17:38.699Z"
     },
     {
      "end_time": "2019-03-19T19:57:37.367Z",
      "execution_time": "3m 11s",
      "outputs": [
       {
        "name": "stdout",
        "output_type": "stream",
        "text": "Please list other creators: Bogdan Gherasim\nPlease specify the title: Test Assay\nPlease specify the assay type uri: \nPlease specify the technology type uri: \nPlease specify how many creators is this assay related to: 1\nPlease specify the id of the creator number 1: 373\nPlease specify how many data_files is this assay related to: 1\nPlease specify the id of the data_file number 1: 278\nPlease specify how many documents is this assay related to: 1\nPlease specify the id of the document number 1: 2\nPlease specify the id of the investigation: 36\n"
       },
       {
        "ename": "KeyError",
        "evalue": "'investigations'",
        "output_type": "error",
        "traceback": [
         "\u001b[0;31m---------------------------------------------------------------------------\u001b[0m",
         "\u001b[0;31mKeyError\u001b[0m                                  Traceback (most recent call last)",
         "\u001b[0;32m<ipython-input-5-aab3ee8483e7>\u001b[0m in \u001b[0;36m<module>\u001b[0;34m()\u001b[0m\n\u001b[0;32m----> 1\u001b[0;31m \u001b[0mWO\u001b[0m\u001b[0;34m.\u001b[0m\u001b[0mfillSEEKForm\u001b[0m\u001b[0;34m(\u001b[0m\u001b[0;34m)\u001b[0m\u001b[0;34m\u001b[0m\u001b[0m\n\u001b[0m",
         "\u001b[0;32m~/Work/ThirdYear/Seek/TheSeekNotebook/WriteObject.py\u001b[0m in \u001b[0;36mfillSEEKForm\u001b[0;34m(self)\u001b[0m\n\u001b[1;32m     62\u001b[0m             self.JSON = Helper.assayFormat(self.assayKind.value,\n\u001b[1;32m     63\u001b[0m                                            \u001b[0mself\u001b[0m\u001b[0;34m.\u001b[0m\u001b[0mdescription\u001b[0m\u001b[0;34m.\u001b[0m\u001b[0mvalue\u001b[0m\u001b[0;34m,\u001b[0m\u001b[0;34m\u001b[0m\u001b[0m\n\u001b[0;32m---> 64\u001b[0;31m                                            self.policyAccess.value)\n\u001b[0m\u001b[1;32m     65\u001b[0m \u001b[0;34m\u001b[0m\u001b[0m\n\u001b[1;32m     66\u001b[0m         \u001b[0;32melif\u001b[0m \u001b[0mself\u001b[0m\u001b[0;34m.\u001b[0m\u001b[0mtype\u001b[0m\u001b[0;34m.\u001b[0m\u001b[0mvalue\u001b[0m \u001b[0;34m==\u001b[0m \u001b[0;34m'investigations'\u001b[0m\u001b[0;34m:\u001b[0m\u001b[0;34m\u001b[0m\u001b[0m\n",
         "\u001b[0;32m~/Work/ThirdYear/Seek/TheSeekNotebook/Helper.py\u001b[0m in \u001b[0;36massayFormat\u001b[0;34m(assayKind, description, policy)\u001b[0m\n\u001b[1;32m     57\u001b[0m     \u001b[0mrelationsFormat\u001b[0m\u001b[0;34m(\u001b[0m\u001b[0mJSON\u001b[0m\u001b[0;34m,\u001b[0m \u001b[0;34m'data_files'\u001b[0m\u001b[0;34m,\u001b[0m \u001b[0;34m'assay'\u001b[0m\u001b[0;34m)\u001b[0m\u001b[0;34m\u001b[0m\u001b[0m\n\u001b[1;32m     58\u001b[0m     \u001b[0mrelationsFormat\u001b[0m\u001b[0;34m(\u001b[0m\u001b[0mJSON\u001b[0m\u001b[0;34m,\u001b[0m \u001b[0;34m'documents'\u001b[0m\u001b[0;34m,\u001b[0m \u001b[0;34m'assay'\u001b[0m\u001b[0;34m)\u001b[0m\u001b[0;34m\u001b[0m\u001b[0m\n\u001b[0;32m---> 59\u001b[0;31m     \u001b[0mrelationFormat\u001b[0m\u001b[0;34m(\u001b[0m\u001b[0mJSON\u001b[0m\u001b[0;34m,\u001b[0m \u001b[0;34m'investigations'\u001b[0m\u001b[0;34m)\u001b[0m\u001b[0;34m\u001b[0m\u001b[0m\n\u001b[0m\u001b[1;32m     60\u001b[0m     \u001b[0mrelationsFormat\u001b[0m\u001b[0;34m(\u001b[0m\u001b[0mJSON\u001b[0m\u001b[0;34m,\u001b[0m \u001b[0;34m'models'\u001b[0m\u001b[0;34m,\u001b[0m \u001b[0;34m'assay'\u001b[0m\u001b[0;34m)\u001b[0m\u001b[0;34m\u001b[0m\u001b[0m\n\u001b[1;32m     61\u001b[0m     \u001b[0mrelationsFormat\u001b[0m\u001b[0;34m(\u001b[0m\u001b[0mJSON\u001b[0m\u001b[0;34m,\u001b[0m \u001b[0;34m'people'\u001b[0m\u001b[0;34m,\u001b[0m \u001b[0;34m'assay'\u001b[0m\u001b[0;34m)\u001b[0m\u001b[0;34m\u001b[0m\u001b[0m\n",
         "\u001b[0;32m~/Work/ThirdYear/Seek/TheSeekNotebook/Helper.py\u001b[0m in \u001b[0;36mrelationFormat\u001b[0;34m(JSON, type)\u001b[0m\n\u001b[1;32m     22\u001b[0m     \u001b[0mid\u001b[0m \u001b[0;34m=\u001b[0m \u001b[0minput\u001b[0m\u001b[0;34m(\u001b[0m\u001b[0;34m'Please specify the id of the '\u001b[0m \u001b[0;34m+\u001b[0m \u001b[0mtype\u001b[0m\u001b[0;34m[\u001b[0m\u001b[0;34m:\u001b[0m\u001b[0;34m-\u001b[0m\u001b[0;36m1\u001b[0m\u001b[0;34m]\u001b[0m \u001b[0;34m+\u001b[0m \u001b[0;34m\": \"\u001b[0m\u001b[0;34m)\u001b[0m\u001b[0;34m\u001b[0m\u001b[0m\n\u001b[1;32m     23\u001b[0m     \u001b[0;32mif\u001b[0m \u001b[0mid\u001b[0m \u001b[0;34m!=\u001b[0m \u001b[0;34m''\u001b[0m\u001b[0;34m:\u001b[0m\u001b[0;34m\u001b[0m\u001b[0m\n\u001b[0;32m---> 24\u001b[0;31m         \u001b[0mJSON\u001b[0m\u001b[0;34m[\u001b[0m\u001b[0;34m'data'\u001b[0m\u001b[0;34m]\u001b[0m\u001b[0;34m[\u001b[0m\u001b[0;34m'relationships'\u001b[0m\u001b[0;34m]\u001b[0m\u001b[0;34m[\u001b[0m\u001b[0mtype\u001b[0m\u001b[0;34m]\u001b[0m\u001b[0;34m[\u001b[0m\u001b[0;34m'data'\u001b[0m\u001b[0;34m]\u001b[0m \u001b[0;34m=\u001b[0m \u001b[0;34m{\u001b[0m\u001b[0;34m'id'\u001b[0m \u001b[0;34m:\u001b[0m \u001b[0mint\u001b[0m\u001b[0;34m(\u001b[0m\u001b[0mid\u001b[0m\u001b[0;34m)\u001b[0m\u001b[0;34m,\u001b[0m \u001b[0;34m'type'\u001b[0m \u001b[0;34m:\u001b[0m \u001b[0mtype\u001b[0m\u001b[0;34m}\u001b[0m\u001b[0;34m\u001b[0m\u001b[0m\n\u001b[0m\u001b[1;32m     25\u001b[0m \u001b[0;34m\u001b[0m\u001b[0m\n\u001b[1;32m     26\u001b[0m \u001b[0;32mdef\u001b[0m \u001b[0mbuttonClicked\u001b[0m\u001b[0;34m(\u001b[0m\u001b[0;34m)\u001b[0m\u001b[0;34m:\u001b[0m\u001b[0;34m\u001b[0m\u001b[0m\n",
         "\u001b[0;31mKeyError\u001b[0m: 'investigations'"
        ]
       }
      ],
      "source": "WO.fillSEEKForm()",
      "start_time": "2019-03-19T19:54:26.385Z"
     },
     {
      "end_time": "2019-03-19T19:59:05.693Z",
      "execution_time": "37.8s",
      "outputs": [
       {
        "name": "stdout",
        "output_type": "stream",
        "text": "Please list other creators: Bogdan Gherasim\nPlease specify the title: Test Assay\nPlease specify the assay type uri: \nPlease specify the technology type uri: \nPlease specify how many creators is this assay related to: 1\nPlease specify the id of the creator number 1: 373\nPlease specify how many data_files is this assay related to: 1\nPlease specify the id of the data_file number 1: 278\nPlease specify how many documents is this assay related to: 1\nPlease specify the id of the document number 1: 2\nPlease specify the id of the investigatio: 36\n"
       },
       {
        "ename": "KeyError",
        "evalue": "'investigation'",
        "output_type": "error",
        "traceback": [
         "\u001b[0;31m---------------------------------------------------------------------------\u001b[0m",
         "\u001b[0;31mKeyError\u001b[0m                                  Traceback (most recent call last)",
         "\u001b[0;32m<ipython-input-5-aab3ee8483e7>\u001b[0m in \u001b[0;36m<module>\u001b[0;34m()\u001b[0m\n\u001b[0;32m----> 1\u001b[0;31m \u001b[0mWO\u001b[0m\u001b[0;34m.\u001b[0m\u001b[0mfillSEEKForm\u001b[0m\u001b[0;34m(\u001b[0m\u001b[0;34m)\u001b[0m\u001b[0;34m\u001b[0m\u001b[0m\n\u001b[0m",
         "\u001b[0;32m~/Work/ThirdYear/Seek/TheSeekNotebook/WriteObject.py\u001b[0m in \u001b[0;36mfillSEEKForm\u001b[0;34m(self)\u001b[0m\n\u001b[1;32m     62\u001b[0m             self.JSON = Helper.assayFormat(self.assayKind.value,\n\u001b[1;32m     63\u001b[0m                                            \u001b[0mself\u001b[0m\u001b[0;34m.\u001b[0m\u001b[0mdescription\u001b[0m\u001b[0;34m.\u001b[0m\u001b[0mvalue\u001b[0m\u001b[0;34m,\u001b[0m\u001b[0;34m\u001b[0m\u001b[0m\n\u001b[0;32m---> 64\u001b[0;31m                                            self.policyAccess.value)\n\u001b[0m\u001b[1;32m     65\u001b[0m \u001b[0;34m\u001b[0m\u001b[0m\n\u001b[1;32m     66\u001b[0m         \u001b[0;32melif\u001b[0m \u001b[0mself\u001b[0m\u001b[0;34m.\u001b[0m\u001b[0mtype\u001b[0m\u001b[0;34m.\u001b[0m\u001b[0mvalue\u001b[0m \u001b[0;34m==\u001b[0m \u001b[0;34m'investigations'\u001b[0m\u001b[0;34m:\u001b[0m\u001b[0;34m\u001b[0m\u001b[0m\n",
         "\u001b[0;32m~/Work/ThirdYear/Seek/TheSeekNotebook/Helper.py\u001b[0m in \u001b[0;36massayFormat\u001b[0;34m(assayKind, description, policy)\u001b[0m\n\u001b[1;32m     57\u001b[0m     \u001b[0mrelationsFormat\u001b[0m\u001b[0;34m(\u001b[0m\u001b[0mJSON\u001b[0m\u001b[0;34m,\u001b[0m \u001b[0;34m'data_files'\u001b[0m\u001b[0;34m,\u001b[0m \u001b[0;34m'assay'\u001b[0m\u001b[0;34m)\u001b[0m\u001b[0;34m\u001b[0m\u001b[0m\n\u001b[1;32m     58\u001b[0m     \u001b[0mrelationsFormat\u001b[0m\u001b[0;34m(\u001b[0m\u001b[0mJSON\u001b[0m\u001b[0;34m,\u001b[0m \u001b[0;34m'documents'\u001b[0m\u001b[0;34m,\u001b[0m \u001b[0;34m'assay'\u001b[0m\u001b[0;34m)\u001b[0m\u001b[0;34m\u001b[0m\u001b[0m\n\u001b[0;32m---> 59\u001b[0;31m     \u001b[0mrelationFormat\u001b[0m\u001b[0;34m(\u001b[0m\u001b[0mJSON\u001b[0m\u001b[0;34m,\u001b[0m \u001b[0;34m'investigation'\u001b[0m\u001b[0;34m)\u001b[0m\u001b[0;34m\u001b[0m\u001b[0m\n\u001b[0m\u001b[1;32m     60\u001b[0m     \u001b[0mrelationsFormat\u001b[0m\u001b[0;34m(\u001b[0m\u001b[0mJSON\u001b[0m\u001b[0;34m,\u001b[0m \u001b[0;34m'models'\u001b[0m\u001b[0;34m,\u001b[0m \u001b[0;34m'assay'\u001b[0m\u001b[0;34m)\u001b[0m\u001b[0;34m\u001b[0m\u001b[0m\n\u001b[1;32m     61\u001b[0m     \u001b[0mrelationsFormat\u001b[0m\u001b[0;34m(\u001b[0m\u001b[0mJSON\u001b[0m\u001b[0;34m,\u001b[0m \u001b[0;34m'people'\u001b[0m\u001b[0;34m,\u001b[0m \u001b[0;34m'assay'\u001b[0m\u001b[0;34m)\u001b[0m\u001b[0;34m\u001b[0m\u001b[0m\n",
         "\u001b[0;32m~/Work/ThirdYear/Seek/TheSeekNotebook/Helper.py\u001b[0m in \u001b[0;36mrelationFormat\u001b[0;34m(JSON, type)\u001b[0m\n\u001b[1;32m     22\u001b[0m     \u001b[0mid\u001b[0m \u001b[0;34m=\u001b[0m \u001b[0minput\u001b[0m\u001b[0;34m(\u001b[0m\u001b[0;34m'Please specify the id of the '\u001b[0m \u001b[0;34m+\u001b[0m \u001b[0mtype\u001b[0m\u001b[0;34m[\u001b[0m\u001b[0;34m:\u001b[0m\u001b[0;34m-\u001b[0m\u001b[0;36m1\u001b[0m\u001b[0;34m]\u001b[0m \u001b[0;34m+\u001b[0m \u001b[0;34m\": \"\u001b[0m\u001b[0;34m)\u001b[0m\u001b[0;34m\u001b[0m\u001b[0m\n\u001b[1;32m     23\u001b[0m     \u001b[0;32mif\u001b[0m \u001b[0mid\u001b[0m \u001b[0;34m!=\u001b[0m \u001b[0;34m''\u001b[0m\u001b[0;34m:\u001b[0m\u001b[0;34m\u001b[0m\u001b[0m\n\u001b[0;32m---> 24\u001b[0;31m         \u001b[0mJSON\u001b[0m\u001b[0;34m[\u001b[0m\u001b[0;34m'data'\u001b[0m\u001b[0;34m]\u001b[0m\u001b[0;34m[\u001b[0m\u001b[0;34m'relationships'\u001b[0m\u001b[0;34m]\u001b[0m\u001b[0;34m[\u001b[0m\u001b[0mtype\u001b[0m\u001b[0;34m]\u001b[0m\u001b[0;34m[\u001b[0m\u001b[0;34m'data'\u001b[0m\u001b[0;34m]\u001b[0m \u001b[0;34m=\u001b[0m \u001b[0;34m{\u001b[0m\u001b[0;34m'id'\u001b[0m \u001b[0;34m:\u001b[0m \u001b[0mint\u001b[0m\u001b[0;34m(\u001b[0m\u001b[0mid\u001b[0m\u001b[0;34m)\u001b[0m\u001b[0;34m,\u001b[0m \u001b[0;34m'type'\u001b[0m \u001b[0;34m:\u001b[0m \u001b[0mtype\u001b[0m\u001b[0;34m}\u001b[0m\u001b[0;34m\u001b[0m\u001b[0m\n\u001b[0m\u001b[1;32m     25\u001b[0m \u001b[0;34m\u001b[0m\u001b[0m\n\u001b[1;32m     26\u001b[0m \u001b[0;32mdef\u001b[0m \u001b[0mbuttonClicked\u001b[0m\u001b[0;34m(\u001b[0m\u001b[0;34m)\u001b[0m\u001b[0;34m:\u001b[0m\u001b[0;34m\u001b[0m\u001b[0m\n",
         "\u001b[0;31mKeyError\u001b[0m: 'investigation'"
        ]
       }
      ],
      "source": "WO.fillSEEKForm()",
      "start_time": "2019-03-19T19:58:27.865Z"
     },
     {
      "end_time": "2019-03-19T20:01:53.023Z",
      "execution_time": "1m 42.7s",
      "outputs": [
       {
        "name": "stdout",
        "output_type": "stream",
        "text": "Please list other creators: Bogdan Gherasim\nPlease specify the title: Test Assay\nPlease specify the assay type uri: \nPlease specify the technology type uri: \nPlease specify how many creators is this assay related to: 1\nPlease specify the id of the creator number 1: 373\nPlease specify how many data_files is this assay related to: 1\nPlease specify the id of the data_file number 1: 278\nPlease specify how many documents is this assay related to: 1\nPlease specify the id of the document number 1: 2\nPlease specify the id of the investigatio: 36\nPlease specify how many models is this assay related to: 1\nPlease specify the id of the model number 1: 103\nPlease specify how many people is this assay related to: 1\nPlease specify the id of the peopl number 1: 373\nPlease specify how many projects is this assay related to: 1\nPlease specify the id of the project number 1: 50\nPlease specify how many publications is this assay related to: 1\nPlease specify the id of the publication number 1: 62\nPlease specify how many sops is this assay related to: 1\nPlease specify the id of the sop number 1: 43\nPlease specify the id of the stud: 54\nPlease specify how many submitters is this assay related to: 1\nPlease specify the id of the submitter number 1: 373\n{'data': {'type': 'assays', 'attributes': {'description': 'My assay is the best, the best assay of all. The time have passed and although every other assay has changed, my assay stays the same till this day. Every assay has his moment of change in his lifetime when he questions his entire existence, a time of struggle in the assay world. Going trough such a hard time, my assay stayed loyal and never backed down. ', 'other_creators': 'Bogdan Gherasim', 'policy': {'access': 'no_access', 'permissions': []}, 'title': 'Test Assay', 'assay_class': {'key': 'EXP'}, 'assay_type': {'uri': ''}, 'technology_type': {'uri': ''}}, 'relationships': {'creators': {'data': [{'id': 373, 'type': 'creators'}]}, 'data_files': {'data': [{'id': 278, 'type': 'data_files'}]}, 'documents': {'data': [{'id': 2, 'type': 'documents'}]}, 'investigation': {'data': {'id': 36, 'type': 'investigation'}}, 'models': {'data': [{'id': 103, 'type': 'models'}]}, 'people': {'data': [{'id': 373, 'type': 'people'}]}, 'projects': {'data': [{'id': 50, 'type': 'projects'}]}, 'publications': {'data': [{'id': 62, 'type': 'publications'}]}, 'sops': {'data': [{'id': 43, 'type': 'sops'}]}, 'study': {'data': {'id': 54, 'type': 'study'}}, 'submitters': {'data': [{'id': 373, 'type': 'submitters'}]}}}}\n"
       }
      ],
      "source": "WO.fillSEEKForm()",
      "start_time": "2019-03-19T20:00:10.318Z"
     },
     {
      "end_time": "2019-03-19T20:13:07.476Z",
      "execution_time": "1m 29.0s",
      "outputs": [
       {
        "name": "stdout",
        "output_type": "stream",
        "text": "Please list other creators: Bogdan Gherasim\nPlease specify the title: Test Assay\nPlease specify the assay type uri: \nPlease specify the technology type uri: \nPlease specify how many creators is this assay related to: 1\nPlease specify the id of the creator number 1: 373\nPlease specify how many data_files is this assay related to: 1\nPlease specify the id of the data_file number 1: 278\nPlease specify how many documents is this assay related to: 1\nPlease specify the id of the document number 1: 2\nPlease specify the id of the investigation: 1\nPlease specify how many models is this assay related to: 1\nPlease specify the id of the model number 1: 103\nPlease specify how many people is this assay related to: 1\nPlease specify the id of the peopl number 1: 373\nPlease specify how many projects is this assay related to: 1\nPlease specify the id of the project number 1: 50\nPlease specify how many publications is this assay related to: 1\nPlease specify the id of the publication number 1: 62\nPlease specify how many sops is this assay related to: 1\nPlease specify the id of the sop number 1: 43\nPlease specify the id of the study: 54\nPlease specify how many submitters is this assay related to: 1\nPlease specify the id of the submitter number 1: 373\n{'data': {'type': 'assays', 'attributes': {'description': 'My assay is the best, the best assay of all. The time have passed and although every other assay has changed, my assay stays the same till this day. Every assay has his moment of change in his lifetime when he questions his entire existence, a time of struggle in the assay world. Going trough such a hard time, my assay stayed loyal and never backed down. \\n', 'other_creators': 'Bogdan Gherasim', 'policy': {'access': 'no_access', 'permissions': []}, 'title': 'Test Assay', 'assay_class': {'key': 'EXP'}, 'assay_type': {'uri': ''}, 'technology_type': {'uri': ''}}, 'relationships': {'creators': {'data': [{'id': 373, 'type': 'creators'}]}, 'data_files': {'data': [{'id': 278, 'type': 'data_files'}]}, 'documents': {'data': [{'id': 2, 'type': 'documents'}]}, 'investigation': {'data': {'id': '1', 'type': 'investigations'}}, 'models': {'data': [{'id': 103, 'type': 'models'}]}, 'people': {'data': [{'id': 373, 'type': 'people'}]}, 'projects': {'data': [{'id': 50, 'type': 'projects'}]}, 'publications': {'data': [{'id': 62, 'type': 'publications'}]}, 'sops': {'data': [{'id': 43, 'type': 'sops'}]}, 'study': {'data': {'id': '54', 'type': 'studies'}}, 'submitters': {'data': [{'id': 373, 'type': 'submitters'}]}}}}\n"
       }
      ],
      "source": "WO.fillSEEKForm()",
      "start_time": "2019-03-19T20:11:38.497Z"
     },
     {
      "end_time": "2019-03-19T20:21:52.574Z",
      "execution_time": "2m 14s",
      "outputs": [
       {
        "name": "stdout",
        "output_type": "stream",
        "text": "Please list other creators: Bogdan Gherasim\nPlease specify the title: Test Assay\nPlease specify the assay type uri: https://www.youtube.com/watch?v=T2p3dpA_zwg&list=PL9nj4j0NRA_nBXy1dihC91oOBgqmpAmVa&index=6&t=150s\nPlease specify the technology type uri: https://www.youtube.com/watch?v=T2p3dpA_zwg&list=PL9nj4j0NRA_nBXy1dihC91oOBgqmpAmVa&index=6&t=150s\nPlease specify how many data_files is this assay related to: 1\nPlease specify the id of the data_file number 1: 278\nPlease specify how many documents is this assay related to: 1\nPlease specify the id of the document number 1: 2\nPlease specify the id of the investigation: 36\nPlease specify how many models is this assay related to: 1\nPlease specify the id of the model number 1: 103\nPlease specify how many people is this assay related to: 1\nPlease specify the id of the peopl number 1: 373\nPlease specify how many publications is this assay related to: 1\nPlease specify the id of the publication number 1: 62\nPlease specify how many sops is this assay related to: 1\nPlease specify the id of the sop number 1: 43\nPlease specify the id of the study: 54\nPlease specify how many organisms is this assay related to: 1\nPlease specify the id of the organism number 1: 1933753703\n{'data': {'type': 'assays', 'attributes': {'description': 'My assay is the best, the best assay of all. The time have passed and although every other assay has changed, my assay stays the same till this day. Every assay has his moment of change in his lifetime when he questions his entire existence, a time of struggle in the assay world. Going trough such a hard time, my assay stayed loyal and never backed down. ', 'other_creators': 'Bogdan Gherasim', 'policy': {'access': 'no_access', 'permissions': []}, 'title': 'Test Assay', 'assay_class': {'key': 'EXP'}, 'assay_type': {'uri': 'https://www.youtube.com/watch?v=T2p3dpA_zwg&list=PL9nj4j0NRA_nBXy1dihC91oOBgqmpAmVa&index=6&t=150s'}, 'technology_type': {'uri': 'https://www.youtube.com/watch?v=T2p3dpA_zwg&list=PL9nj4j0NRA_nBXy1dihC91oOBgqmpAmVa&index=6&t=150s'}}, 'relationships': {'data_files': {'data': [{'id': 278, 'type': 'data_files'}]}, 'documents': {'data': [{'id': 2, 'type': 'documents'}]}, 'investigation': {'data': {'id': '36', 'type': 'investigations'}}, 'models': {'data': [{'id': 103, 'type': 'models'}]}, 'people': {'data': [{'id': 373, 'type': 'people'}]}, 'publications': {'data': [{'id': 62, 'type': 'publications'}]}, 'sops': {'data': [{'id': 43, 'type': 'sops'}]}, 'study': {'data': {'id': '54', 'type': 'studies'}}, 'organisms': {'data': [{'id': 1933753703, 'type': 'organisms'}]}}}}\n"
       }
      ],
      "source": "WO.fillSEEKForm()",
      "start_time": "2019-03-19T20:19:38.958Z"
     },
     {
      "end_time": "2019-03-19T20:58:37.310Z",
      "execution_time": "254ms",
      "outputs": [
       {
        "ename": "AttributeError",
        "evalue": "'WriteObject' object has no attribute 'description'",
        "output_type": "error",
        "traceback": [
         "\u001b[0;31m---------------------------------------------------------------------------\u001b[0m",
         "\u001b[0;31mAttributeError\u001b[0m                            Traceback (most recent call last)",
         "\u001b[0;32m<ipython-input-3-aab3ee8483e7>\u001b[0m in \u001b[0;36m<module>\u001b[0;34m()\u001b[0m\n\u001b[0;32m----> 1\u001b[0;31m \u001b[0mWO\u001b[0m\u001b[0;34m.\u001b[0m\u001b[0mfillSEEKForm\u001b[0m\u001b[0;34m(\u001b[0m\u001b[0;34m)\u001b[0m\u001b[0;34m\u001b[0m\u001b[0m\n\u001b[0m",
         "\u001b[0;32m~/Work/ThirdYear/Seek/TheSeekNotebook/WriteObject.py\u001b[0m in \u001b[0;36mfillSEEKForm\u001b[0;34m(self)\u001b[0m\n\u001b[1;32m     61\u001b[0m         \u001b[0;32mif\u001b[0m \u001b[0mself\u001b[0m\u001b[0;34m.\u001b[0m\u001b[0mtype\u001b[0m\u001b[0;34m.\u001b[0m\u001b[0mvalue\u001b[0m \u001b[0;34m==\u001b[0m \u001b[0;34m'assays'\u001b[0m\u001b[0;34m:\u001b[0m\u001b[0;34m\u001b[0m\u001b[0m\n\u001b[1;32m     62\u001b[0m             self.JSON = Helper.assayFormat(self.assayKind.value,\n\u001b[0;32m---> 63\u001b[0;31m                                            \u001b[0mself\u001b[0m\u001b[0;34m.\u001b[0m\u001b[0mdescription\u001b[0m\u001b[0;34m.\u001b[0m\u001b[0mvalue\u001b[0m\u001b[0;34m,\u001b[0m\u001b[0;34m\u001b[0m\u001b[0m\n\u001b[0m\u001b[1;32m     64\u001b[0m                                            self.policyAccess.value)\n\u001b[1;32m     65\u001b[0m \u001b[0;34m\u001b[0m\u001b[0m\n",
         "\u001b[0;31mAttributeError\u001b[0m: 'WriteObject' object has no attribute 'description'"
        ]
       }
      ],
      "source": "WO.fillSEEKForm()",
      "start_time": "2019-03-19T20:58:37.056Z"
     },
     {
      "end_time": "2019-03-19T20:59:39.057Z",
      "execution_time": "76ms",
      "outputs": [
       {
        "ename": "AttributeError",
        "evalue": "'WriteObject' object has no attribute 'policyAccess'",
        "output_type": "error",
        "traceback": [
         "\u001b[0;31m---------------------------------------------------------------------------\u001b[0m",
         "\u001b[0;31mAttributeError\u001b[0m                            Traceback (most recent call last)",
         "\u001b[0;32m<ipython-input-3-aab3ee8483e7>\u001b[0m in \u001b[0;36m<module>\u001b[0;34m()\u001b[0m\n\u001b[0;32m----> 1\u001b[0;31m \u001b[0mWO\u001b[0m\u001b[0;34m.\u001b[0m\u001b[0mfillSEEKForm\u001b[0m\u001b[0;34m(\u001b[0m\u001b[0;34m)\u001b[0m\u001b[0;34m\u001b[0m\u001b[0m\n\u001b[0m",
         "\u001b[0;32m~/Work/ThirdYear/Seek/TheSeekNotebook/WriteObject.py\u001b[0m in \u001b[0;36mfillSEEKForm\u001b[0;34m(self)\u001b[0m\n\u001b[1;32m     61\u001b[0m         \u001b[0;32mif\u001b[0m \u001b[0mself\u001b[0m\u001b[0;34m.\u001b[0m\u001b[0mtype\u001b[0m\u001b[0;34m.\u001b[0m\u001b[0mvalue\u001b[0m \u001b[0;34m==\u001b[0m \u001b[0;34m'assays'\u001b[0m\u001b[0;34m:\u001b[0m\u001b[0;34m\u001b[0m\u001b[0m\n\u001b[1;32m     62\u001b[0m             self.JSON = Helper.assayFormat(self.assayKind.value, \n\u001b[0;32m---> 63\u001b[0;31m                                            self.policyAccess.value)\n\u001b[0m\u001b[1;32m     64\u001b[0m \u001b[0;34m\u001b[0m\u001b[0m\n\u001b[1;32m     65\u001b[0m         \u001b[0;32melif\u001b[0m \u001b[0mself\u001b[0m\u001b[0;34m.\u001b[0m\u001b[0mtype\u001b[0m\u001b[0;34m.\u001b[0m\u001b[0mvalue\u001b[0m \u001b[0;34m==\u001b[0m \u001b[0;34m'investigations'\u001b[0m\u001b[0;34m:\u001b[0m\u001b[0;34m\u001b[0m\u001b[0m\n",
         "\u001b[0;31mAttributeError\u001b[0m: 'WriteObject' object has no attribute 'policyAccess'"
        ]
       }
      ],
      "source": "WO.fillSEEKForm()",
      "start_time": "2019-03-19T20:59:38.981Z"
     },
     {
      "end_time": "2019-03-19T21:00:56.734Z",
      "execution_time": "41.8s",
      "outputs": [
       {
        "name": "stdout",
        "output_type": "stream",
        "text": "Please specify the title: Assay title\nPlease specify the assay type uri: https://www.youtube.com/watch?v=SXFBJufngkA&list=PL9nj4j0NRA_nBXy1dihC91oOBgqmpAmVa&index=23\nPlease specify the technology type uri: https://www.youtube.com/watch?v=SXFBJufngkA&list=PL9nj4j0NRA_nBXy1dihC91oOBgqmpAmVa&index=23\nPlease specify the id of the study: 54\n{'data': {'type': 'assays', 'attributes': {'title': 'Assay title', 'assay_class': {'key': 'EXP'}, 'assay_type': {'uri': 'https://www.youtube.com/watch?v=SXFBJufngkA&list=PL9nj4j0NRA_nBXy1dihC91oOBgqmpAmVa&index=23'}, 'technology_type': {'uri': 'https://www.youtube.com/watch?v=SXFBJufngkA&list=PL9nj4j0NRA_nBXy1dihC91oOBgqmpAmVa&index=23'}}, 'relationships': {'study': {'data': {'id': '54', 'type': 'studies'}}}}}\n"
       }
      ],
      "source": "WO.fillSEEKForm()",
      "start_time": "2019-03-19T21:00:14.939Z"
     }
    ]
   },
   "outputs": [],
   "source": [
    "WO.fillSEEKForm()"
   ]
  },
  {
   "cell_type": "markdown",
   "metadata": {},
   "source": [
    "{\n",
    "  \"data\": {\n",
    "    \"type\": \"assays\",\n",
    "    \"attributes\": {\n",
    "      \"title\": \"A Maximal experimental Assay\",\n",
    "      \"assay_class\": {\n",
    "        \"key\": \"EXP\"\n",
    "      },\n",
    "      \"assay_type\": {\n",
    "        \"uri\": \"http://www.mygrid.org.uk/ontology/JERMOntology#Transcriptomics\"\n",
    "      },\n",
    "      \"technology_type\": {\n",
    "        \"uri\": \"http://www.mygrid.org.uk/ontology/JERMOntology#RNA-Seq\"\n",
    "      },\n",
    "      \"other_creators\": \"Anonymous creator\",\n",
    "      \"description\": \"A Western Blot Assay\",\n",
    "      \"policy\": {\n",
    "        \"access\": \"download\",\n",
    "        \"permissions\": [\n",
    "          {\n",
    "            \"resource\": {\n",
    "              \"id\": \"442\",\n",
    "              \"type\": \"projects\"\n",
    "            },\n",
    "            \"access\": \"manage\"\n",
    "          }\n",
    "        ]\n",
    "      }\n",
    "    },\n",
    "    \"relationships\": {\n",
    "      \"study\": {\n",
    "        \"data\": {\n",
    "          \"id\": \"66\",\n",
    "          \"type\": \"studies\"\n",
    "        }\n",
    "      },\n",
    "      \"publications\": {\n",
    "        \"data\": [\n",
    "          {\n",
    "            \"id\": \"16\",\n",
    "            \"type\": \"publications\"\n",
    "          }\n",
    "        ]\n",
    "      },\n",
    "      \"organisms\": {\n",
    "        \"data\": [\n",
    "          {\n",
    "            \"id\": \"3\",\n",
    "            \"type\": \"organisms\"\n",
    "          }\n",
    "        ]\n",
    "      },\n",
    "      \"sops\": {\n",
    "        \"data\": [\n",
    "          {\n",
    "            \"id\": \"4\",\n",
    "            \"type\": \"sops\"\n",
    "          }\n",
    "        ]\n",
    "      },\n",
    "      \"models\": {\n",
    "        \"data\": [\n",
    "          {\n",
    "            \"id\": \"5\",\n",
    "            \"type\": \"models\"\n",
    "          }\n",
    "        ]\n",
    "      },\n",
    "      \"data_files\": {\n",
    "        \"data\": [\n",
    "          {\n",
    "            \"id\": \"16\",\n",
    "            \"type\": \"data_files\"\n",
    "          }\n",
    "        ]\n",
    "      },\n",
    "      \"documents\": {\n",
    "        \"data\": [\n",
    "          {\n",
    "            \"id\": \"32\",\n",
    "            \"type\": \"documents\"\n",
    "          }\n",
    "        ]\n",
    "      },\n",
    "      \"creators\": {\n",
    "        \"data\": [\n",
    "          {\n",
    "            \"id\": \"287\",\n",
    "            \"type\": \"people\"\n",
    "          }\n",
    "        ]\n",
    "      }\n",
    "    }\n",
    "  }\n",
    "}"
   ]
  },
  {
   "cell_type": "code",
   "execution_count": 3,
   "metadata": {
    "ExecutionTime": {
     "end_time": "2019-03-19T21:27:35.974449Z",
     "start_time": "2019-03-19T21:27:35.937812Z"
    },
    "provenance": [
     {
      "end_time": "2019-03-19T16:50:59.480Z",
      "execution_time": "53ms",
      "outputs": [
       {
        "ename": "TypeError",
        "evalue": "createDropdown() missing 2 required positional arguments: 'op' and 'desc'",
        "output_type": "error",
        "traceback": [
         "\u001b[0;31m---------------------------------------------------------------------------\u001b[0m",
         "\u001b[0;31mTypeError\u001b[0m                                 Traceback (most recent call last)",
         "\u001b[0;32m<ipython-input-2-254243900375>\u001b[0m in \u001b[0;36m<module>\u001b[0;34m()\u001b[0m\n\u001b[0;32m----> 1\u001b[0;31m \u001b[0mtype\u001b[0m\u001b[0;34m(\u001b[0m\u001b[0mWO\u001b[0m\u001b[0;34m.\u001b[0m\u001b[0mcreateDropdown\u001b[0m\u001b[0;34m(\u001b[0m\u001b[0;34m)\u001b[0m\u001b[0;34m)\u001b[0m\u001b[0;34m\u001b[0m\u001b[0m\n\u001b[0m",
         "\u001b[0;31mTypeError\u001b[0m: createDropdown() missing 2 required positional arguments: 'op' and 'desc'"
        ]
       }
      ],
      "source": "type(WO.createDropdown())",
      "start_time": "2019-03-19T16:50:59.427Z"
     },
     {
      "end_time": "2019-03-19T16:51:14.269Z",
      "execution_time": "46ms",
      "outputs": [
       {
        "ename": "TraitError",
        "evalue": "Invalid selection: value not found",
        "output_type": "error",
        "traceback": [
         "\u001b[0;31m---------------------------------------------------------------------------\u001b[0m",
         "\u001b[0;31mStopIteration\u001b[0m                             Traceback (most recent call last)",
         "\u001b[0;32m~/anaconda3/lib/python3.6/site-packages/ipywidgets/widgets/widget_selection.py\u001b[0m in \u001b[0;36mfindvalue\u001b[0;34m(array, value, compare)\u001b[0m\n\u001b[1;32m    136\u001b[0m     \u001b[0;32mtry\u001b[0m\u001b[0;34m:\u001b[0m\u001b[0;34m\u001b[0m\u001b[0m\n\u001b[0;32m--> 137\u001b[0;31m         \u001b[0;32mreturn\u001b[0m \u001b[0mnext\u001b[0m\u001b[0;34m(\u001b[0m\u001b[0mx\u001b[0m \u001b[0;32mfor\u001b[0m \u001b[0mx\u001b[0m \u001b[0;32min\u001b[0m \u001b[0marray\u001b[0m \u001b[0;32mif\u001b[0m \u001b[0mcompare\u001b[0m\u001b[0;34m(\u001b[0m\u001b[0mx\u001b[0m\u001b[0;34m,\u001b[0m \u001b[0mvalue\u001b[0m\u001b[0;34m)\u001b[0m\u001b[0;34m)\u001b[0m\u001b[0;34m\u001b[0m\u001b[0m\n\u001b[0m\u001b[1;32m    138\u001b[0m     \u001b[0;32mexcept\u001b[0m \u001b[0mStopIteration\u001b[0m\u001b[0;34m:\u001b[0m\u001b[0;34m\u001b[0m\u001b[0m\n",
         "\u001b[0;31mStopIteration\u001b[0m: ",
         "\nDuring handling of the above exception, another exception occurred:\n",
         "\u001b[0;31mValueError\u001b[0m                                Traceback (most recent call last)",
         "\u001b[0;32m~/anaconda3/lib/python3.6/site-packages/ipywidgets/widgets/widget_selection.py\u001b[0m in \u001b[0;36m_validate_value\u001b[0;34m(self, proposal)\u001b[0m\n\u001b[1;32m    238\u001b[0m         \u001b[0;32mtry\u001b[0m\u001b[0;34m:\u001b[0m\u001b[0;34m\u001b[0m\u001b[0m\n\u001b[0;32m--> 239\u001b[0;31m             \u001b[0;32mreturn\u001b[0m \u001b[0mfindvalue\u001b[0m\u001b[0;34m(\u001b[0m\u001b[0mself\u001b[0m\u001b[0;34m.\u001b[0m\u001b[0m_options_values\u001b[0m\u001b[0;34m,\u001b[0m \u001b[0mvalue\u001b[0m\u001b[0;34m,\u001b[0m \u001b[0mself\u001b[0m\u001b[0;34m.\u001b[0m\u001b[0mequals\u001b[0m\u001b[0;34m)\u001b[0m \u001b[0;32mif\u001b[0m \u001b[0mvalue\u001b[0m \u001b[0;32mis\u001b[0m \u001b[0;32mnot\u001b[0m \u001b[0;32mNone\u001b[0m \u001b[0;32melse\u001b[0m \u001b[0;32mNone\u001b[0m\u001b[0;34m\u001b[0m\u001b[0m\n\u001b[0m\u001b[1;32m    240\u001b[0m         \u001b[0;32mexcept\u001b[0m \u001b[0mValueError\u001b[0m\u001b[0;34m:\u001b[0m\u001b[0;34m\u001b[0m\u001b[0m\n",
         "\u001b[0;32m~/anaconda3/lib/python3.6/site-packages/ipywidgets/widgets/widget_selection.py\u001b[0m in \u001b[0;36mfindvalue\u001b[0;34m(array, value, compare)\u001b[0m\n\u001b[1;32m    138\u001b[0m     \u001b[0;32mexcept\u001b[0m \u001b[0mStopIteration\u001b[0m\u001b[0;34m:\u001b[0m\u001b[0;34m\u001b[0m\u001b[0m\n\u001b[0;32m--> 139\u001b[0;31m         \u001b[0;32mraise\u001b[0m \u001b[0mValueError\u001b[0m\u001b[0;34m(\u001b[0m\u001b[0;34m'%r not in array'\u001b[0m\u001b[0;34m%\u001b[0m\u001b[0mvalue\u001b[0m\u001b[0;34m)\u001b[0m\u001b[0;34m\u001b[0m\u001b[0m\n\u001b[0m\u001b[1;32m    140\u001b[0m \u001b[0;34m\u001b[0m\u001b[0m\n",
         "\u001b[0;31mValueError\u001b[0m: 'assays' not in array",
         "\nDuring handling of the above exception, another exception occurred:\n",
         "\u001b[0;31mTraitError\u001b[0m                                Traceback (most recent call last)",
         "\u001b[0;32m<ipython-input-3-d625edeaca20>\u001b[0m in \u001b[0;36m<module>\u001b[0;34m()\u001b[0m\n\u001b[0;32m----> 1\u001b[0;31m \u001b[0mtype\u001b[0m\u001b[0;34m(\u001b[0m\u001b[0mWO\u001b[0m\u001b[0;34m.\u001b[0m\u001b[0mcreateDropdown\u001b[0m\u001b[0;34m(\u001b[0m\u001b[0;34m[\u001b[0m\u001b[0;34m\"s\"\u001b[0m\u001b[0;34m,\u001b[0m\u001b[0;34m\"z\"\u001b[0m\u001b[0;34m]\u001b[0m\u001b[0;34m,\u001b[0m\u001b[0;34m\"muie\"\u001b[0m\u001b[0;34m)\u001b[0m\u001b[0;34m)\u001b[0m\u001b[0;34m\u001b[0m\u001b[0m\n\u001b[0m",
         "\u001b[0;32m~/Work/ThirdYear/Seek/TheSeekNotebook/WriteObject.py\u001b[0m in \u001b[0;36mcreateDropdown\u001b[0;34m(self, op, desc)\u001b[0m\n\u001b[1;32m     33\u001b[0m             \u001b[0mvalue\u001b[0m\u001b[0;34m=\u001b[0m\u001b[0;34m'assays'\u001b[0m\u001b[0;34m,\u001b[0m\u001b[0;34m\u001b[0m\u001b[0m\n\u001b[1;32m     34\u001b[0m             \u001b[0mdescription\u001b[0m\u001b[0;34m=\u001b[0m\u001b[0mdesc\u001b[0m\u001b[0;34m,\u001b[0m\u001b[0;34m\u001b[0m\u001b[0m\n\u001b[0;32m---> 35\u001b[0;31m             \u001b[0mdisabled\u001b[0m\u001b[0;34m=\u001b[0m\u001b[0;32mFalse\u001b[0m\u001b[0;34m,\u001b[0m\u001b[0;34m\u001b[0m\u001b[0m\n\u001b[0m\u001b[1;32m     36\u001b[0m         )\n\u001b[1;32m     37\u001b[0m \u001b[0;34m\u001b[0m\u001b[0m\n",
         "\u001b[0;32m~/anaconda3/lib/python3.6/site-packages/ipywidgets/widgets/widget_selection.py\u001b[0m in \u001b[0;36m__init__\u001b[0;34m(self, *args, **kwargs)\u001b[0m\n\u001b[1;32m    188\u001b[0m             \u001b[0mkwargs\u001b[0m\u001b[0;34m[\u001b[0m\u001b[0;34m'label'\u001b[0m\u001b[0;34m]\u001b[0m\u001b[0;34m,\u001b[0m \u001b[0mkwargs\u001b[0m\u001b[0;34m[\u001b[0m\u001b[0;34m'value'\u001b[0m\u001b[0;34m]\u001b[0m \u001b[0;34m=\u001b[0m \u001b[0moptions\u001b[0m\u001b[0;34m[\u001b[0m\u001b[0;36m0\u001b[0m\u001b[0;34m]\u001b[0m \u001b[0;32mif\u001b[0m \u001b[0mnonempty\u001b[0m \u001b[0;32melse\u001b[0m \u001b[0;34m(\u001b[0m\u001b[0;32mNone\u001b[0m\u001b[0;34m,\u001b[0m \u001b[0;32mNone\u001b[0m\u001b[0;34m)\u001b[0m\u001b[0;34m\u001b[0m\u001b[0m\n\u001b[1;32m    189\u001b[0m \u001b[0;34m\u001b[0m\u001b[0m\n\u001b[0;32m--> 190\u001b[0;31m         \u001b[0msuper\u001b[0m\u001b[0;34m(\u001b[0m\u001b[0m_Selection\u001b[0m\u001b[0;34m,\u001b[0m \u001b[0mself\u001b[0m\u001b[0;34m)\u001b[0m\u001b[0;34m.\u001b[0m\u001b[0m__init__\u001b[0m\u001b[0;34m(\u001b[0m\u001b[0;34m*\u001b[0m\u001b[0margs\u001b[0m\u001b[0;34m,\u001b[0m \u001b[0;34m**\u001b[0m\u001b[0mkwargs\u001b[0m\u001b[0;34m)\u001b[0m\u001b[0;34m\u001b[0m\u001b[0m\n\u001b[0m\u001b[1;32m    191\u001b[0m         \u001b[0mself\u001b[0m\u001b[0;34m.\u001b[0m\u001b[0m_initializing_traits_\u001b[0m \u001b[0;34m=\u001b[0m \u001b[0;32mFalse\u001b[0m\u001b[0;34m\u001b[0m\u001b[0m\n\u001b[1;32m    192\u001b[0m \u001b[0;34m\u001b[0m\u001b[0m\n",
         "\u001b[0;32m~/anaconda3/lib/python3.6/site-packages/ipywidgets/widgets/widget.py\u001b[0m in \u001b[0;36m__init__\u001b[0;34m(self, **kwargs)\u001b[0m\n\u001b[1;32m    409\u001b[0m         \u001b[0;34m\"\"\"Public constructor\"\"\"\u001b[0m\u001b[0;34m\u001b[0m\u001b[0m\n\u001b[1;32m    410\u001b[0m         \u001b[0mself\u001b[0m\u001b[0;34m.\u001b[0m\u001b[0m_model_id\u001b[0m \u001b[0;34m=\u001b[0m \u001b[0mkwargs\u001b[0m\u001b[0;34m.\u001b[0m\u001b[0mpop\u001b[0m\u001b[0;34m(\u001b[0m\u001b[0;34m'model_id'\u001b[0m\u001b[0;34m,\u001b[0m \u001b[0;32mNone\u001b[0m\u001b[0;34m)\u001b[0m\u001b[0;34m\u001b[0m\u001b[0m\n\u001b[0;32m--> 411\u001b[0;31m         \u001b[0msuper\u001b[0m\u001b[0;34m(\u001b[0m\u001b[0mWidget\u001b[0m\u001b[0;34m,\u001b[0m \u001b[0mself\u001b[0m\u001b[0;34m)\u001b[0m\u001b[0;34m.\u001b[0m\u001b[0m__init__\u001b[0m\u001b[0;34m(\u001b[0m\u001b[0;34m**\u001b[0m\u001b[0mkwargs\u001b[0m\u001b[0;34m)\u001b[0m\u001b[0;34m\u001b[0m\u001b[0m\n\u001b[0m\u001b[1;32m    412\u001b[0m \u001b[0;34m\u001b[0m\u001b[0m\n\u001b[1;32m    413\u001b[0m         \u001b[0mWidget\u001b[0m\u001b[0;34m.\u001b[0m\u001b[0m_call_widget_constructed\u001b[0m\u001b[0;34m(\u001b[0m\u001b[0mself\u001b[0m\u001b[0;34m)\u001b[0m\u001b[0;34m\u001b[0m\u001b[0m\n",
         "\u001b[0;32m~/anaconda3/lib/python3.6/site-packages/traitlets/traitlets.py\u001b[0m in \u001b[0;36m__init__\u001b[0;34m(self, *args, **kwargs)\u001b[0m\n\u001b[1;32m    998\u001b[0m                 \u001b[0;32melse\u001b[0m\u001b[0;34m:\u001b[0m\u001b[0;34m\u001b[0m\u001b[0m\n\u001b[1;32m    999\u001b[0m                     \u001b[0;31m# passthrough args that don't set traits to super\u001b[0m\u001b[0;34m\u001b[0m\u001b[0;34m\u001b[0m\u001b[0m\n\u001b[0;32m-> 1000\u001b[0;31m                     \u001b[0msuper_kwargs\u001b[0m\u001b[0;34m[\u001b[0m\u001b[0mkey\u001b[0m\u001b[0;34m]\u001b[0m \u001b[0;34m=\u001b[0m \u001b[0mvalue\u001b[0m\u001b[0;34m\u001b[0m\u001b[0m\n\u001b[0m\u001b[1;32m   1001\u001b[0m         \u001b[0;32mtry\u001b[0m\u001b[0;34m:\u001b[0m\u001b[0;34m\u001b[0m\u001b[0m\n\u001b[1;32m   1002\u001b[0m             \u001b[0msuper\u001b[0m\u001b[0;34m(\u001b[0m\u001b[0mHasTraits\u001b[0m\u001b[0;34m,\u001b[0m \u001b[0mself\u001b[0m\u001b[0;34m)\u001b[0m\u001b[0;34m.\u001b[0m\u001b[0m__init__\u001b[0m\u001b[0;34m(\u001b[0m\u001b[0;34m*\u001b[0m\u001b[0msuper_args\u001b[0m\u001b[0;34m,\u001b[0m \u001b[0;34m**\u001b[0m\u001b[0msuper_kwargs\u001b[0m\u001b[0;34m)\u001b[0m\u001b[0;34m\u001b[0m\u001b[0m\n",
         "\u001b[0;32m~/anaconda3/lib/python3.6/contextlib.py\u001b[0m in \u001b[0;36m__exit__\u001b[0;34m(self, type, value, traceback)\u001b[0m\n\u001b[1;32m     86\u001b[0m         \u001b[0;32mif\u001b[0m \u001b[0mtype\u001b[0m \u001b[0;32mis\u001b[0m \u001b[0;32mNone\u001b[0m\u001b[0;34m:\u001b[0m\u001b[0;34m\u001b[0m\u001b[0m\n\u001b[1;32m     87\u001b[0m             \u001b[0;32mtry\u001b[0m\u001b[0;34m:\u001b[0m\u001b[0;34m\u001b[0m\u001b[0m\n\u001b[0;32m---> 88\u001b[0;31m                 \u001b[0mnext\u001b[0m\u001b[0;34m(\u001b[0m\u001b[0mself\u001b[0m\u001b[0;34m.\u001b[0m\u001b[0mgen\u001b[0m\u001b[0;34m)\u001b[0m\u001b[0;34m\u001b[0m\u001b[0m\n\u001b[0m\u001b[1;32m     89\u001b[0m             \u001b[0;32mexcept\u001b[0m \u001b[0mStopIteration\u001b[0m\u001b[0;34m:\u001b[0m\u001b[0;34m\u001b[0m\u001b[0m\n\u001b[1;32m     90\u001b[0m                 \u001b[0;32mreturn\u001b[0m \u001b[0;32mFalse\u001b[0m\u001b[0;34m\u001b[0m\u001b[0m\n",
         "\u001b[0;32m~/anaconda3/lib/python3.6/site-packages/traitlets/traitlets.py\u001b[0m in \u001b[0;36mhold_trait_notifications\u001b[0;34m(self)\u001b[0m\n\u001b[1;32m   1120\u001b[0m                                 \u001b[0mself\u001b[0m\u001b[0;34m.\u001b[0m\u001b[0m_trait_values\u001b[0m\u001b[0;34m.\u001b[0m\u001b[0mpop\u001b[0m\u001b[0;34m(\u001b[0m\u001b[0mname\u001b[0m\u001b[0;34m)\u001b[0m\u001b[0;34m\u001b[0m\u001b[0m\n\u001b[1;32m   1121\u001b[0m                 \u001b[0mcache\u001b[0m \u001b[0;34m=\u001b[0m \u001b[0;34m{\u001b[0m\u001b[0;34m}\u001b[0m\u001b[0;34m\u001b[0m\u001b[0m\n\u001b[0;32m-> 1122\u001b[0;31m                 \u001b[0;32mraise\u001b[0m \u001b[0me\u001b[0m\u001b[0;34m\u001b[0m\u001b[0m\n\u001b[0m\u001b[1;32m   1123\u001b[0m             \u001b[0;32mfinally\u001b[0m\u001b[0;34m:\u001b[0m\u001b[0;34m\u001b[0m\u001b[0m\n\u001b[1;32m   1124\u001b[0m                 \u001b[0mself\u001b[0m\u001b[0;34m.\u001b[0m\u001b[0m_cross_validation_lock\u001b[0m \u001b[0;34m=\u001b[0m \u001b[0;32mFalse\u001b[0m\u001b[0;34m\u001b[0m\u001b[0m\n",
         "\u001b[0;32m~/anaconda3/lib/python3.6/site-packages/traitlets/traitlets.py\u001b[0m in \u001b[0;36mhold_trait_notifications\u001b[0;34m(self)\u001b[0m\n\u001b[1;32m   1106\u001b[0m                 \u001b[0;32mfor\u001b[0m \u001b[0mname\u001b[0m \u001b[0;32min\u001b[0m \u001b[0mlist\u001b[0m\u001b[0;34m(\u001b[0m\u001b[0mcache\u001b[0m\u001b[0;34m.\u001b[0m\u001b[0mkeys\u001b[0m\u001b[0;34m(\u001b[0m\u001b[0;34m)\u001b[0m\u001b[0;34m)\u001b[0m\u001b[0;34m:\u001b[0m\u001b[0;34m\u001b[0m\u001b[0m\n\u001b[1;32m   1107\u001b[0m                     \u001b[0mtrait\u001b[0m \u001b[0;34m=\u001b[0m \u001b[0mgetattr\u001b[0m\u001b[0;34m(\u001b[0m\u001b[0mself\u001b[0m\u001b[0;34m.\u001b[0m\u001b[0m__class__\u001b[0m\u001b[0;34m,\u001b[0m \u001b[0mname\u001b[0m\u001b[0;34m)\u001b[0m\u001b[0;34m\u001b[0m\u001b[0m\n\u001b[0;32m-> 1108\u001b[0;31m                     \u001b[0mvalue\u001b[0m \u001b[0;34m=\u001b[0m \u001b[0mtrait\u001b[0m\u001b[0;34m.\u001b[0m\u001b[0m_cross_validate\u001b[0m\u001b[0;34m(\u001b[0m\u001b[0mself\u001b[0m\u001b[0;34m,\u001b[0m \u001b[0mgetattr\u001b[0m\u001b[0;34m(\u001b[0m\u001b[0mself\u001b[0m\u001b[0;34m,\u001b[0m \u001b[0mname\u001b[0m\u001b[0;34m)\u001b[0m\u001b[0;34m)\u001b[0m\u001b[0;34m\u001b[0m\u001b[0m\n\u001b[0m\u001b[1;32m   1109\u001b[0m                     \u001b[0mself\u001b[0m\u001b[0;34m.\u001b[0m\u001b[0mset_trait\u001b[0m\u001b[0;34m(\u001b[0m\u001b[0mname\u001b[0m\u001b[0;34m,\u001b[0m \u001b[0mvalue\u001b[0m\u001b[0;34m)\u001b[0m\u001b[0;34m\u001b[0m\u001b[0m\n\u001b[1;32m   1110\u001b[0m             \u001b[0;32mexcept\u001b[0m \u001b[0mTraitError\u001b[0m \u001b[0;32mas\u001b[0m \u001b[0me\u001b[0m\u001b[0;34m:\u001b[0m\u001b[0;34m\u001b[0m\u001b[0m\n",
         "\u001b[0;32m~/anaconda3/lib/python3.6/site-packages/traitlets/traitlets.py\u001b[0m in \u001b[0;36m_cross_validate\u001b[0;34m(self, obj, value)\u001b[0m\n\u001b[1;32m    597\u001b[0m         \u001b[0;32mif\u001b[0m \u001b[0mself\u001b[0m\u001b[0;34m.\u001b[0m\u001b[0mname\u001b[0m \u001b[0;32min\u001b[0m \u001b[0mobj\u001b[0m\u001b[0;34m.\u001b[0m\u001b[0m_trait_validators\u001b[0m\u001b[0;34m:\u001b[0m\u001b[0;34m\u001b[0m\u001b[0m\n\u001b[1;32m    598\u001b[0m             \u001b[0mproposal\u001b[0m \u001b[0;34m=\u001b[0m \u001b[0mBunch\u001b[0m\u001b[0;34m(\u001b[0m\u001b[0;34m{\u001b[0m\u001b[0;34m'trait'\u001b[0m\u001b[0;34m:\u001b[0m \u001b[0mself\u001b[0m\u001b[0;34m,\u001b[0m \u001b[0;34m'value'\u001b[0m\u001b[0;34m:\u001b[0m \u001b[0mvalue\u001b[0m\u001b[0;34m,\u001b[0m \u001b[0;34m'owner'\u001b[0m\u001b[0;34m:\u001b[0m \u001b[0mobj\u001b[0m\u001b[0;34m}\u001b[0m\u001b[0;34m)\u001b[0m\u001b[0;34m\u001b[0m\u001b[0m\n\u001b[0;32m--> 599\u001b[0;31m             \u001b[0mvalue\u001b[0m \u001b[0;34m=\u001b[0m \u001b[0mobj\u001b[0m\u001b[0;34m.\u001b[0m\u001b[0m_trait_validators\u001b[0m\u001b[0;34m[\u001b[0m\u001b[0mself\u001b[0m\u001b[0;34m.\u001b[0m\u001b[0mname\u001b[0m\u001b[0;34m]\u001b[0m\u001b[0;34m(\u001b[0m\u001b[0mobj\u001b[0m\u001b[0;34m,\u001b[0m \u001b[0mproposal\u001b[0m\u001b[0;34m)\u001b[0m\u001b[0;34m\u001b[0m\u001b[0m\n\u001b[0m\u001b[1;32m    600\u001b[0m         \u001b[0;32melif\u001b[0m \u001b[0mhasattr\u001b[0m\u001b[0;34m(\u001b[0m\u001b[0mobj\u001b[0m\u001b[0;34m,\u001b[0m \u001b[0;34m'_%s_validate'\u001b[0m \u001b[0;34m%\u001b[0m \u001b[0mself\u001b[0m\u001b[0;34m.\u001b[0m\u001b[0mname\u001b[0m\u001b[0;34m)\u001b[0m\u001b[0;34m:\u001b[0m\u001b[0;34m\u001b[0m\u001b[0m\n\u001b[1;32m    601\u001b[0m             \u001b[0mmeth_name\u001b[0m \u001b[0;34m=\u001b[0m \u001b[0;34m'_%s_validate'\u001b[0m \u001b[0;34m%\u001b[0m \u001b[0mself\u001b[0m\u001b[0;34m.\u001b[0m\u001b[0mname\u001b[0m\u001b[0;34m\u001b[0m\u001b[0m\n",
         "\u001b[0;32m~/anaconda3/lib/python3.6/site-packages/traitlets/traitlets.py\u001b[0m in \u001b[0;36m__call__\u001b[0;34m(self, *args, **kwargs)\u001b[0m\n\u001b[1;32m    905\u001b[0m         \u001b[0;34m\"\"\"Pass `*args` and `**kwargs` to the handler's function if it exists.\"\"\"\u001b[0m\u001b[0;34m\u001b[0m\u001b[0m\n\u001b[1;32m    906\u001b[0m         \u001b[0;32mif\u001b[0m \u001b[0mhasattr\u001b[0m\u001b[0;34m(\u001b[0m\u001b[0mself\u001b[0m\u001b[0;34m,\u001b[0m \u001b[0;34m'func'\u001b[0m\u001b[0;34m)\u001b[0m\u001b[0;34m:\u001b[0m\u001b[0;34m\u001b[0m\u001b[0m\n\u001b[0;32m--> 907\u001b[0;31m             \u001b[0;32mreturn\u001b[0m \u001b[0mself\u001b[0m\u001b[0;34m.\u001b[0m\u001b[0mfunc\u001b[0m\u001b[0;34m(\u001b[0m\u001b[0;34m*\u001b[0m\u001b[0margs\u001b[0m\u001b[0;34m,\u001b[0m \u001b[0;34m**\u001b[0m\u001b[0mkwargs\u001b[0m\u001b[0;34m)\u001b[0m\u001b[0;34m\u001b[0m\u001b[0m\n\u001b[0m\u001b[1;32m    908\u001b[0m         \u001b[0;32melse\u001b[0m\u001b[0;34m:\u001b[0m\u001b[0;34m\u001b[0m\u001b[0m\n\u001b[1;32m    909\u001b[0m             \u001b[0;32mreturn\u001b[0m \u001b[0mself\u001b[0m\u001b[0;34m.\u001b[0m\u001b[0m_init_call\u001b[0m\u001b[0;34m(\u001b[0m\u001b[0;34m*\u001b[0m\u001b[0margs\u001b[0m\u001b[0;34m,\u001b[0m \u001b[0;34m**\u001b[0m\u001b[0mkwargs\u001b[0m\u001b[0;34m)\u001b[0m\u001b[0;34m\u001b[0m\u001b[0m\n",
         "\u001b[0;32m~/anaconda3/lib/python3.6/site-packages/ipywidgets/widgets/widget_selection.py\u001b[0m in \u001b[0;36m_validate_value\u001b[0;34m(self, proposal)\u001b[0m\n\u001b[1;32m    239\u001b[0m             \u001b[0;32mreturn\u001b[0m \u001b[0mfindvalue\u001b[0m\u001b[0;34m(\u001b[0m\u001b[0mself\u001b[0m\u001b[0;34m.\u001b[0m\u001b[0m_options_values\u001b[0m\u001b[0;34m,\u001b[0m \u001b[0mvalue\u001b[0m\u001b[0;34m,\u001b[0m \u001b[0mself\u001b[0m\u001b[0;34m.\u001b[0m\u001b[0mequals\u001b[0m\u001b[0;34m)\u001b[0m \u001b[0;32mif\u001b[0m \u001b[0mvalue\u001b[0m \u001b[0;32mis\u001b[0m \u001b[0;32mnot\u001b[0m \u001b[0;32mNone\u001b[0m \u001b[0;32melse\u001b[0m \u001b[0;32mNone\u001b[0m\u001b[0;34m\u001b[0m\u001b[0m\n\u001b[1;32m    240\u001b[0m         \u001b[0;32mexcept\u001b[0m \u001b[0mValueError\u001b[0m\u001b[0;34m:\u001b[0m\u001b[0;34m\u001b[0m\u001b[0m\n\u001b[0;32m--> 241\u001b[0;31m             \u001b[0;32mraise\u001b[0m \u001b[0mTraitError\u001b[0m\u001b[0;34m(\u001b[0m\u001b[0;34m'Invalid selection: value not found'\u001b[0m\u001b[0;34m)\u001b[0m\u001b[0;34m\u001b[0m\u001b[0m\n\u001b[0m\u001b[1;32m    242\u001b[0m \u001b[0;34m\u001b[0m\u001b[0m\n\u001b[1;32m    243\u001b[0m     \u001b[0;34m@\u001b[0m\u001b[0mobserve\u001b[0m\u001b[0;34m(\u001b[0m\u001b[0;34m'value'\u001b[0m\u001b[0;34m)\u001b[0m\u001b[0;34m\u001b[0m\u001b[0m\n",
         "\u001b[0;31mTraitError\u001b[0m: Invalid selection: value not found"
        ]
       }
      ],
      "source": "type(WO.createDropdown([\"s\",\"z\"],\"muie\"))",
      "start_time": "2019-03-19T16:51:14.223Z"
     },
     {
      "end_time": "2019-03-19T16:51:28.158Z",
      "execution_time": "24ms",
      "outputs": [
       {
        "data": {
         "text/plain": "ipywidgets.widgets.widget_selection.Dropdown"
        },
        "execution_count": 4,
        "metadata": {},
        "output_type": "execute_result"
       }
      ],
      "source": "type(WO.createDropdown([\"assays\",\"z\"],\"muie\"))",
      "start_time": "2019-03-19T16:51:28.134Z"
     },
     {
      "end_time": "2019-03-19T16:58:49.145Z",
      "execution_time": "5ms",
      "outputs": [
       {
        "data": {
         "application/vnd.jupyter.widget-view+json": {
          "model_id": "",
          "version_major": 2,
          "version_minor": 0
         },
         "text/plain": "Dropdown(description='What is it that you want to post?', options=('assays', 'data_files'), value='assays')"
        },
        "metadata": {},
        "output_type": "display_data",
        "transient": {}
       }
      ],
      "source": "WO.dropdown",
      "start_time": "2019-03-19T16:58:49.140Z"
     },
     {
      "end_time": "2019-03-19T17:00:45.639Z",
      "execution_time": "95ms",
      "outputs": [
       {
        "ename": "NameError",
        "evalue": "name 'widgets' is not defined",
        "output_type": "error",
        "traceback": [
         "\u001b[0;31m---------------------------------------------------------------------------\u001b[0m",
         "\u001b[0;31mNameError\u001b[0m                                 Traceback (most recent call last)",
         "\u001b[0;32m<ipython-input-3-a84be9999b66>\u001b[0m in \u001b[0;36m<module>\u001b[0;34m()\u001b[0m\n\u001b[1;32m      1\u001b[0m \u001b[0;34m\u001b[0m\u001b[0m\n\u001b[0;32m----> 2\u001b[0;31m \u001b[0mout\u001b[0m \u001b[0;34m=\u001b[0m \u001b[0mwidgets\u001b[0m\u001b[0;34m.\u001b[0m\u001b[0mOutput\u001b[0m\u001b[0;34m(\u001b[0m\u001b[0mlayout\u001b[0m\u001b[0;34m=\u001b[0m\u001b[0;34m{\u001b[0m\u001b[0;34m'border'\u001b[0m\u001b[0;34m:\u001b[0m \u001b[0;34m'1px solid black'\u001b[0m\u001b[0;34m}\u001b[0m\u001b[0;34m)\u001b[0m\u001b[0;34m\u001b[0m\u001b[0m\n\u001b[0m\u001b[1;32m      3\u001b[0m \u001b[0mout\u001b[0m\u001b[0;34m.\u001b[0m\u001b[0mappend_stdout\u001b[0m\u001b[0;34m(\u001b[0m\u001b[0;34m'Output appended with append_stdout'\u001b[0m\u001b[0;34m)\u001b[0m\u001b[0;34m\u001b[0m\u001b[0m\n\u001b[1;32m      4\u001b[0m \u001b[0mout\u001b[0m\u001b[0;34m.\u001b[0m\u001b[0mappend_display_data\u001b[0m\u001b[0;34m(\u001b[0m\u001b[0mYouTubeVideo\u001b[0m\u001b[0;34m(\u001b[0m\u001b[0;34m'eWzY2nGfkXk'\u001b[0m\u001b[0;34m)\u001b[0m\u001b[0;34m)\u001b[0m\u001b[0;34m\u001b[0m\u001b[0m\n\u001b[1;32m      5\u001b[0m \u001b[0mout\u001b[0m\u001b[0;34m\u001b[0m\u001b[0m\n",
         "\u001b[0;31mNameError\u001b[0m: name 'widgets' is not defined"
        ]
       }
      ],
      "source": "\nout = widgets.Output(layout={'border': '1px solid black'})\nout.append_stdout('Output appended with append_stdout')\nout.append_display_data(YouTubeVideo('eWzY2nGfkXk'))\nout",
      "start_time": "2019-03-19T17:00:45.544Z"
     },
     {
      "end_time": "2019-03-19T17:00:59.316Z",
      "execution_time": "62ms",
      "outputs": [
       {
        "ename": "NameError",
        "evalue": "name 'YouTubeVideo' is not defined",
        "output_type": "error",
        "traceback": [
         "\u001b[0;31m---------------------------------------------------------------------------\u001b[0m",
         "\u001b[0;31mNameError\u001b[0m                                 Traceback (most recent call last)",
         "\u001b[0;32m<ipython-input-4-682553597045>\u001b[0m in \u001b[0;36m<module>\u001b[0;34m()\u001b[0m\n\u001b[1;32m      2\u001b[0m \u001b[0mout\u001b[0m \u001b[0;34m=\u001b[0m \u001b[0mwidgets\u001b[0m\u001b[0;34m.\u001b[0m\u001b[0mOutput\u001b[0m\u001b[0;34m(\u001b[0m\u001b[0mlayout\u001b[0m\u001b[0;34m=\u001b[0m\u001b[0;34m{\u001b[0m\u001b[0;34m'border'\u001b[0m\u001b[0;34m:\u001b[0m \u001b[0;34m'1px solid black'\u001b[0m\u001b[0;34m}\u001b[0m\u001b[0;34m)\u001b[0m\u001b[0;34m\u001b[0m\u001b[0m\n\u001b[1;32m      3\u001b[0m \u001b[0mout\u001b[0m\u001b[0;34m.\u001b[0m\u001b[0mappend_stdout\u001b[0m\u001b[0;34m(\u001b[0m\u001b[0;34m'Output appended with append_stdout'\u001b[0m\u001b[0;34m)\u001b[0m\u001b[0;34m\u001b[0m\u001b[0m\n\u001b[0;32m----> 4\u001b[0;31m \u001b[0mout\u001b[0m\u001b[0;34m.\u001b[0m\u001b[0mappend_display_data\u001b[0m\u001b[0;34m(\u001b[0m\u001b[0mYouTubeVideo\u001b[0m\u001b[0;34m(\u001b[0m\u001b[0;34m'eWzY2nGfkXk'\u001b[0m\u001b[0;34m)\u001b[0m\u001b[0;34m)\u001b[0m\u001b[0;34m\u001b[0m\u001b[0m\n\u001b[0m\u001b[1;32m      5\u001b[0m \u001b[0mout\u001b[0m\u001b[0;34m\u001b[0m\u001b[0m\n",
         "\u001b[0;31mNameError\u001b[0m: name 'YouTubeVideo' is not defined"
        ]
       }
      ],
      "source": "import ipywidgets as widgets\nout = widgets.Output(layout={'border': '1px solid black'})\nout.append_stdout('Output appended with append_stdout')\nout.append_display_data(YouTubeVideo('eWzY2nGfkXk'))\nout",
      "start_time": "2019-03-19T17:00:59.254Z"
     },
     {
      "end_time": "2019-03-19T17:01:16.478Z",
      "execution_time": "697ms",
      "outputs": [
       {
        "data": {
         "application/vnd.jupyter.widget-view+json": {
          "model_id": "",
          "version_major": 2,
          "version_minor": 0
         },
         "text/plain": "Output(layout=Layout(border='1px solid black'), outputs=({'output_type': 'stream', 'name': 'stdout', 'text': '…"
        },
        "metadata": {},
        "output_type": "display_data",
        "transient": {}
       }
      ],
      "source": "import ipywidgets as widgets\n\nfrom IPython.display import YouTubeVideo\nout = widgets.Output(layout={'border': '1px solid black'})\nout.append_stdout('Output appended with append_stdout')\nout.append_display_data(YouTubeVideo('eWzY2nGfkXk'))\nout",
      "start_time": "2019-03-19T17:01:15.781Z"
     },
     {
      "end_time": "2019-03-19T17:10:40.423Z",
      "execution_time": "189ms",
      "outputs": [
       {
        "data": {
         "application/vnd.jupyter.widget-view+json": {
          "model_id": "",
          "version_major": 2,
          "version_minor": 0
         },
         "text/plain": "Output(layout=Layout(border='1px solid black'), outputs=({'output_type': 'stream', 'name': 'stdout', 'text': '…"
        },
        "metadata": {},
        "output_type": "display_data",
        "transient": {}
       }
      ],
      "source": "import ipywidgets as widgets\n\nfrom IPython.display import YouTubeVideo\nout = widgets.Output(layout={'border': '1px solid black'})\nout.append_stdout('Output appended with append_stdout')\nout.append_display_data(YouTubeVideo('eWzY2nGfkXk'))\nout",
      "start_time": "2019-03-19T17:10:40.234Z"
     },
     {
      "end_time": "2019-03-19T21:17:50.471Z",
      "execution_time": "72ms",
      "outputs": [
       {
        "ename": "SyntaxError",
        "evalue": "EOL while scanning string literal (<ipython-input-5-a8ace52c0d50>, line 1)",
        "output_type": "error",
        "traceback": [
         "\u001b[0;36m  File \u001b[0;32m\"<ipython-input-5-a8ace52c0d50>\"\u001b[0;36m, line \u001b[0;32m1\u001b[0m\n\u001b[0;31m    WO.JSON='{\u001b[0m\n\u001b[0m              ^\u001b[0m\n\u001b[0;31mSyntaxError\u001b[0m\u001b[0;31m:\u001b[0m EOL while scanning string literal\n"
        ]
       }
      ],
      "source": "WO.JSON='{\n  \"data\": {\n    \"type\": \"assays\",\n    \"attributes\": {\n      \"title\": \"A Maximal experimental Assay\",\n      \"assay_class\": {\n        \"key\": \"EXP\"\n      },\n      \"assay_type\": {\n        \"uri\": \"http://www.mygrid.org.uk/ontology/JERMOntology#Transcriptomics\"\n      },\n      \"technology_type\": {\n        \"uri\": \"http://www.mygrid.org.uk/ontology/JERMOntology#RNA-Seq\"\n      },\n      \"other_creators\": \"Anonymous creator\",\n      \"description\": \"A Western Blot Assay\",\n      \"policy\": {\n        \"access\": \"download\",\n        \"permissions\": [\n          {\n            \"resource\": {\n              \"id\": \"442\",\n              \"type\": \"projects\"\n            },\n            \"access\": \"manage\"\n          }\n        ]\n      }\n    },\n    \"relationships\": {\n      \"study\": {\n        \"data\": {\n          \"id\": \"66\",\n          \"type\": \"studies\"\n        }\n      },\n      \"publications\": {\n        \"data\": [\n          {\n            \"id\": \"16\",\n            \"type\": \"publications\"\n          }\n        ]\n      },\n      \"organisms\": {\n        \"data\": [\n          {\n            \"id\": \"3\",\n            \"type\": \"organisms\"\n          }\n        ]\n      },\n      \"sops\": {\n        \"data\": [\n          {\n            \"id\": \"4\",\n            \"type\": \"sops\"\n          }\n        ]\n      },\n      \"models\": {\n        \"data\": [\n          {\n            \"id\": \"5\",\n            \"type\": \"models\"\n          }\n        ]\n      },\n      \"data_files\": {\n        \"data\": [\n          {\n            \"id\": \"16\",\n            \"type\": \"data_files\"\n          }\n        ]\n      },\n      \"documents\": {\n        \"data\": [\n          {\n            \"id\": \"32\",\n            \"type\": \"documents\"\n          }\n        ]\n      },\n      \"creators\": {\n        \"data\": [\n          {\n            \"id\": \"287\",\n            \"type\": \"people\"\n          }\n        ]\n      }\n    }\n  }\n}'",
      "start_time": "2019-03-19T21:17:50.399Z"
     },
     {
      "end_time": "2019-03-19T21:18:07.211Z",
      "execution_time": "30ms",
      "outputs": [],
      "source": "WO.JSON=\"\"\"{\n  \"data\": {\n    \"type\": \"assays\",\n    \"attributes\": {\n      \"title\": \"A Maximal experimental Assay\",\n      \"assay_class\": {\n        \"key\": \"EXP\"\n      },\n      \"assay_type\": {\n        \"uri\": \"http://www.mygrid.org.uk/ontology/JERMOntology#Transcriptomics\"\n      },\n      \"technology_type\": {\n        \"uri\": \"http://www.mygrid.org.uk/ontology/JERMOntology#RNA-Seq\"\n      },\n      \"other_creators\": \"Anonymous creator\",\n      \"description\": \"A Western Blot Assay\",\n      \"policy\": {\n        \"access\": \"download\",\n        \"permissions\": [\n          {\n            \"resource\": {\n              \"id\": \"442\",\n              \"type\": \"projects\"\n            },\n            \"access\": \"manage\"\n          }\n        ]\n      }\n    },\n    \"relationships\": {\n      \"study\": {\n        \"data\": {\n          \"id\": \"66\",\n          \"type\": \"studies\"\n        }\n      },\n      \"publications\": {\n        \"data\": [\n          {\n            \"id\": \"16\",\n            \"type\": \"publications\"\n          }\n        ]\n      },\n      \"organisms\": {\n        \"data\": [\n          {\n            \"id\": \"3\",\n            \"type\": \"organisms\"\n          }\n        ]\n      },\n      \"sops\": {\n        \"data\": [\n          {\n            \"id\": \"4\",\n            \"type\": \"sops\"\n          }\n        ]\n      },\n      \"models\": {\n        \"data\": [\n          {\n            \"id\": \"5\",\n            \"type\": \"models\"\n          }\n        ]\n      },\n      \"data_files\": {\n        \"data\": [\n          {\n            \"id\": \"16\",\n            \"type\": \"data_files\"\n          }\n        ]\n      },\n      \"documents\": {\n        \"data\": [\n          {\n            \"id\": \"32\",\n            \"type\": \"documents\"\n          }\n        ]\n      },\n      \"creators\": {\n        \"data\": [\n          {\n            \"id\": \"287\",\n            \"type\": \"people\"\n          }\n        ]\n      }\n    }\n  }\n}\"\"\"",
      "start_time": "2019-03-19T21:18:07.181Z"
     },
     {
      "end_time": "2019-03-19T21:27:13.387Z",
      "execution_time": "78ms",
      "outputs": [
       {
        "ename": "NameError",
        "evalue": "name 'WO' is not defined",
        "output_type": "error",
        "traceback": [
         "\u001b[0;31m---------------------------------------------------------------------------\u001b[0m",
         "\u001b[0;31mNameError\u001b[0m                                 Traceback (most recent call last)",
         "\u001b[0;32m<ipython-input-1-d40b8f4c190f>\u001b[0m in \u001b[0;36m<module>\u001b[0;34m()\u001b[0m\n\u001b[1;32m     93\u001b[0m     }\n\u001b[1;32m     94\u001b[0m   }\n\u001b[0;32m---> 95\u001b[0;31m }\"\"\"\n\u001b[0m",
         "\u001b[0;31mNameError\u001b[0m: name 'WO' is not defined"
        ]
       }
      ],
      "source": "WO.JSON=\"\"\"{\n  \"data\": {\n    \"type\": \"assays\",\n    \"attributes\": {\n      \"title\": \"A Maximal experimental Assay\",\n      \"assay_class\": {\n        \"key\": \"EXP\"\n      },\n      \"assay_type\": {\n        \"uri\": \"http://www.mygrid.org.uk/ontology/JERMOntology#Transcriptomics\"\n      },\n      \"technology_type\": {\n        \"uri\": \"http://www.mygrid.org.uk/ontology/JERMOntology#RNA-Seq\"\n      },\n      \"other_creators\": \"Anonymous creator\",\n      \"description\": \"A Western Blot Assay\",\n      \"policy\": {\n        \"access\": \"download\",\n        \"permissions\": [\n          {\n            \"resource\": {\n              \"id\": \"442\",\n              \"type\": \"projects\"\n            },\n            \"access\": \"manage\"\n          }\n        ]\n      }\n    },\n    \"relationships\": {\n      \"study\": {\n        \"data\": {\n          \"id\": \"66\",\n          \"type\": \"studies\"\n        }\n      },\n      \"publications\": {\n        \"data\": [\n          {\n            \"id\": \"16\",\n            \"type\": \"publications\"\n          }\n        ]\n      },\n      \"organisms\": {\n        \"data\": [\n          {\n            \"id\": \"3\",\n            \"type\": \"organisms\"\n          }\n        ]\n      },\n      \"sops\": {\n        \"data\": [\n          {\n            \"id\": \"4\",\n            \"type\": \"sops\"\n          }\n        ]\n      },\n      \"models\": {\n        \"data\": [\n          {\n            \"id\": \"5\",\n            \"type\": \"models\"\n          }\n        ]\n      },\n      \"data_files\": {\n        \"data\": [\n          {\n            \"id\": \"16\",\n            \"type\": \"data_files\"\n          }\n        ]\n      },\n      \"documents\": {\n        \"data\": [\n          {\n            \"id\": \"32\",\n            \"type\": \"documents\"\n          }\n        ]\n      },\n      \"creators\": {\n        \"data\": [\n          {\n            \"id\": \"287\",\n            \"type\": \"people\"\n          }\n        ]\n      }\n    }\n  }\n}\"\"\"",
      "start_time": "2019-03-19T21:27:13.309Z"
     },
     {
      "end_time": "2019-03-19T21:27:35.974Z",
      "execution_time": "37ms",
      "outputs": [],
      "source": "WO.JSON=\"\"\"{\n  \"data\": {\n    \"type\": \"assays\",\n    \"attributes\": {\n      \"title\": \"A Maximal experimental Assay\",\n      \"assay_class\": {\n        \"key\": \"EXP\"\n      },\n      \"assay_type\": {\n        \"uri\": \"http://www.mygrid.org.uk/ontology/JERMOntology#Transcriptomics\"\n      },\n      \"technology_type\": {\n        \"uri\": \"http://www.mygrid.org.uk/ontology/JERMOntology#RNA-Seq\"\n      },\n      \"other_creators\": \"Anonymous creator\",\n      \"description\": \"A Western Blot Assay\",\n      \"policy\": {\n        \"access\": \"download\",\n        \"permissions\": [\n          {\n            \"resource\": {\n              \"id\": \"442\",\n              \"type\": \"projects\"\n            },\n            \"access\": \"manage\"\n          }\n        ]\n      }\n    },\n    \"relationships\": {\n      \"study\": {\n        \"data\": {\n          \"id\": \"66\",\n          \"type\": \"studies\"\n        }\n      },\n      \"publications\": {\n        \"data\": [\n          {\n            \"id\": \"16\",\n            \"type\": \"publications\"\n          }\n        ]\n      },\n      \"organisms\": {\n        \"data\": [\n          {\n            \"id\": \"3\",\n            \"type\": \"organisms\"\n          }\n        ]\n      },\n      \"sops\": {\n        \"data\": [\n          {\n            \"id\": \"4\",\n            \"type\": \"sops\"\n          }\n        ]\n      },\n      \"models\": {\n        \"data\": [\n          {\n            \"id\": \"5\",\n            \"type\": \"models\"\n          }\n        ]\n      },\n      \"data_files\": {\n        \"data\": [\n          {\n            \"id\": \"16\",\n            \"type\": \"data_files\"\n          }\n        ]\n      },\n      \"documents\": {\n        \"data\": [\n          {\n            \"id\": \"32\",\n            \"type\": \"documents\"\n          }\n        ]\n      },\n      \"creators\": {\n        \"data\": [\n          {\n            \"id\": \"287\",\n            \"type\": \"people\"\n          }\n        ]\n      }\n    }\n  }\n}\"\"\"",
      "start_time": "2019-03-19T21:27:35.937Z"
     }
    ]
   },
   "outputs": [],
   "source": [
    "WO.JSON=\"\"\"{\n",
    "  \"data\": {\n",
    "    \"type\": \"assays\",\n",
    "    \"attributes\": {\n",
    "      \"title\": \"A Maximal experimental Assay\",\n",
    "      \"assay_class\": {\n",
    "        \"key\": \"EXP\"\n",
    "      },\n",
    "      \"assay_type\": {\n",
    "        \"uri\": \"http://www.mygrid.org.uk/ontology/JERMOntology#Transcriptomics\"\n",
    "      },\n",
    "      \"technology_type\": {\n",
    "        \"uri\": \"http://www.mygrid.org.uk/ontology/JERMOntology#RNA-Seq\"\n",
    "      },\n",
    "      \"other_creators\": \"Anonymous creator\",\n",
    "      \"description\": \"A Western Blot Assay\",\n",
    "      \"policy\": {\n",
    "        \"access\": \"download\",\n",
    "        \"permissions\": [\n",
    "          {\n",
    "            \"resource\": {\n",
    "              \"id\": \"442\",\n",
    "              \"type\": \"projects\"\n",
    "            },\n",
    "            \"access\": \"manage\"\n",
    "          }\n",
    "        ]\n",
    "      }\n",
    "    },\n",
    "    \"relationships\": {\n",
    "      \"study\": {\n",
    "        \"data\": {\n",
    "          \"id\": \"66\",\n",
    "          \"type\": \"studies\"\n",
    "        }\n",
    "      },\n",
    "      \"publications\": {\n",
    "        \"data\": [\n",
    "          {\n",
    "            \"id\": \"16\",\n",
    "            \"type\": \"publications\"\n",
    "          }\n",
    "        ]\n",
    "      },\n",
    "      \"organisms\": {\n",
    "        \"data\": [\n",
    "          {\n",
    "            \"id\": \"3\",\n",
    "            \"type\": \"organisms\"\n",
    "          }\n",
    "        ]\n",
    "      },\n",
    "      \"sops\": {\n",
    "        \"data\": [\n",
    "          {\n",
    "            \"id\": \"4\",\n",
    "            \"type\": \"sops\"\n",
    "          }\n",
    "        ]\n",
    "      },\n",
    "      \"models\": {\n",
    "        \"data\": [\n",
    "          {\n",
    "            \"id\": \"5\",\n",
    "            \"type\": \"models\"\n",
    "          }\n",
    "        ]\n",
    "      },\n",
    "      \"data_files\": {\n",
    "        \"data\": [\n",
    "          {\n",
    "            \"id\": \"16\",\n",
    "            \"type\": \"data_files\"\n",
    "          }\n",
    "        ]\n",
    "      },\n",
    "      \"documents\": {\n",
    "        \"data\": [\n",
    "          {\n",
    "            \"id\": \"32\",\n",
    "            \"type\": \"documents\"\n",
    "          }\n",
    "        ]\n",
    "      },\n",
    "      \"creators\": {\n",
    "        \"data\": [\n",
    "          {\n",
    "            \"id\": \"287\",\n",
    "            \"type\": \"people\"\n",
    "          }\n",
    "        ]\n",
    "      }\n",
    "    }\n",
    "  }\n",
    "}\"\"\""
   ]
  },
  {
   "cell_type": "code",
   "execution_count": 5,
   "metadata": {
    "ExecutionTime": {
     "end_time": "2019-03-19T21:27:44.348877Z",
     "start_time": "2019-03-19T21:27:44.155302Z"
    },
    "provenance": [
     {
      "end_time": "2019-03-15T14:15:44.907Z",
      "execution_time": "76ms",
      "outputs": [
       {
        "ename": "NameError",
        "evalue": "name 'session' is not defined",
        "output_type": "error",
        "traceback": [
         "\u001b[0;31m---------------------------------------------------------------------------\u001b[0m",
         "\u001b[0;31mNameError\u001b[0m                                 Traceback (most recent call last)",
         "\u001b[0;32m<ipython-input-2-352cab6f49f8>\u001b[0m in \u001b[0;36m<module>\u001b[0;34m()\u001b[0m\n\u001b[0;32m----> 1\u001b[0;31m \u001b[0mWO\u001b[0m\u001b[0;34m.\u001b[0m\u001b[0mrequest\u001b[0m\u001b[0;34m(\u001b[0m\u001b[0;34m)\u001b[0m\u001b[0;34m\u001b[0m\u001b[0m\n\u001b[0m",
         "\u001b[0;32m~/Work/ThirdYear/Seek/TheSeekNotebook/WriteObject.py\u001b[0m in \u001b[0;36mrequest\u001b[0;34m(self)\u001b[0m\n\u001b[1;32m     40\u001b[0m \u001b[0;34m\u001b[0m\u001b[0m\n\u001b[1;32m     41\u001b[0m     \u001b[0;32mdef\u001b[0m \u001b[0mrequest\u001b[0m\u001b[0;34m(\u001b[0m\u001b[0mself\u001b[0m\u001b[0;34m)\u001b[0m\u001b[0;34m:\u001b[0m\u001b[0;34m\u001b[0m\u001b[0m\n\u001b[0;32m---> 42\u001b[0;31m         \u001b[0mr\u001b[0m \u001b[0;34m=\u001b[0m \u001b[0msession\u001b[0m\u001b[0;34m.\u001b[0m\u001b[0mpost\u001b[0m\u001b[0;34m(\u001b[0m\u001b[0mbase_url\u001b[0m \u001b[0;34m+\u001b[0m \u001b[0;34m'/'\u001b[0m \u001b[0;34m+\u001b[0m \u001b[0mself\u001b[0m\u001b[0;34m.\u001b[0m\u001b[0mtype\u001b[0m\u001b[0;34m,\u001b[0m \u001b[0mjson\u001b[0m\u001b[0;34m=\u001b[0m\u001b[0mself\u001b[0m\u001b[0;34m.\u001b[0m\u001b[0mJSON\u001b[0m\u001b[0;34m)\u001b[0m\u001b[0;34m\u001b[0m\u001b[0m\n\u001b[0m\u001b[1;32m     43\u001b[0m         \u001b[0mr\u001b[0m\u001b[0;34m.\u001b[0m\u001b[0mraise_for_status\u001b[0m\u001b[0;34m(\u001b[0m\u001b[0;34m)\u001b[0m\u001b[0;34m\u001b[0m\u001b[0m\n",
         "\u001b[0;31mNameError\u001b[0m: name 'session' is not defined"
        ]
       }
      ],
      "source": "WO.request()",
      "start_time": "2019-03-15T14:15:44.831Z"
     },
     {
      "end_time": "2019-03-15T14:16:56.450Z",
      "execution_time": "111ms",
      "outputs": [
       {
        "ename": "NameError",
        "evalue": "name 'base_url' is not defined",
        "output_type": "error",
        "traceback": [
         "\u001b[0;31m---------------------------------------------------------------------------\u001b[0m",
         "\u001b[0;31mNameError\u001b[0m                                 Traceback (most recent call last)",
         "\u001b[0;32m<ipython-input-3-352cab6f49f8>\u001b[0m in \u001b[0;36m<module>\u001b[0;34m()\u001b[0m\n\u001b[0;32m----> 1\u001b[0;31m \u001b[0mWO\u001b[0m\u001b[0;34m.\u001b[0m\u001b[0mrequest\u001b[0m\u001b[0;34m(\u001b[0m\u001b[0;34m)\u001b[0m\u001b[0;34m\u001b[0m\u001b[0m\n\u001b[0m",
         "\u001b[0;32m~/Work/ThirdYear/Seek/TheSeekNotebook/WriteObject.py\u001b[0m in \u001b[0;36mrequest\u001b[0;34m(self)\u001b[0m\n\u001b[1;32m     40\u001b[0m \u001b[0;34m\u001b[0m\u001b[0m\n\u001b[1;32m     41\u001b[0m     \u001b[0;32mdef\u001b[0m \u001b[0mrequest\u001b[0m\u001b[0;34m(\u001b[0m\u001b[0mself\u001b[0m\u001b[0;34m)\u001b[0m\u001b[0;34m:\u001b[0m\u001b[0;34m\u001b[0m\u001b[0m\n\u001b[0;32m---> 42\u001b[0;31m         \u001b[0mr\u001b[0m \u001b[0;34m=\u001b[0m \u001b[0mself\u001b[0m\u001b[0;34m.\u001b[0m\u001b[0msession\u001b[0m\u001b[0;34m.\u001b[0m\u001b[0mpost\u001b[0m\u001b[0;34m(\u001b[0m\u001b[0mbase_url\u001b[0m \u001b[0;34m+\u001b[0m \u001b[0;34m'/'\u001b[0m \u001b[0;34m+\u001b[0m \u001b[0mself\u001b[0m\u001b[0;34m.\u001b[0m\u001b[0mtype\u001b[0m\u001b[0;34m,\u001b[0m \u001b[0mjson\u001b[0m\u001b[0;34m=\u001b[0m\u001b[0mself\u001b[0m\u001b[0;34m.\u001b[0m\u001b[0mJSON\u001b[0m\u001b[0;34m)\u001b[0m\u001b[0;34m\u001b[0m\u001b[0m\n\u001b[0m\u001b[1;32m     43\u001b[0m         \u001b[0mr\u001b[0m\u001b[0;34m.\u001b[0m\u001b[0mraise_for_status\u001b[0m\u001b[0;34m(\u001b[0m\u001b[0;34m)\u001b[0m\u001b[0;34m\u001b[0m\u001b[0m\n",
         "\u001b[0;31mNameError\u001b[0m: name 'base_url' is not defined"
        ]
       }
      ],
      "source": "WO.request()",
      "start_time": "2019-03-15T14:16:56.339Z"
     },
     {
      "end_time": "2019-03-15T14:18:01.861Z",
      "execution_time": "29ms",
      "outputs": [
       {
        "ename": "TypeError",
        "evalue": "unsupported operand type(s) for +: 'NoneType' and 'str'",
        "output_type": "error",
        "traceback": [
         "\u001b[0;31m---------------------------------------------------------------------------\u001b[0m",
         "\u001b[0;31mTypeError\u001b[0m                                 Traceback (most recent call last)",
         "\u001b[0;32m<ipython-input-3-352cab6f49f8>\u001b[0m in \u001b[0;36m<module>\u001b[0;34m()\u001b[0m\n\u001b[0;32m----> 1\u001b[0;31m \u001b[0mWO\u001b[0m\u001b[0;34m.\u001b[0m\u001b[0mrequest\u001b[0m\u001b[0;34m(\u001b[0m\u001b[0;34m)\u001b[0m\u001b[0;34m\u001b[0m\u001b[0m\n\u001b[0m",
         "\u001b[0;32m~/Work/ThirdYear/Seek/TheSeekNotebook/WriteObject.py\u001b[0m in \u001b[0;36mrequest\u001b[0;34m(self)\u001b[0m\n\u001b[1;32m     40\u001b[0m \u001b[0;34m\u001b[0m\u001b[0m\n\u001b[1;32m     41\u001b[0m     \u001b[0;32mdef\u001b[0m \u001b[0mrequest\u001b[0m\u001b[0;34m(\u001b[0m\u001b[0mself\u001b[0m\u001b[0;34m)\u001b[0m\u001b[0;34m:\u001b[0m\u001b[0;34m\u001b[0m\u001b[0m\n\u001b[0;32m---> 42\u001b[0;31m         \u001b[0mr\u001b[0m \u001b[0;34m=\u001b[0m \u001b[0mself\u001b[0m\u001b[0;34m.\u001b[0m\u001b[0msession\u001b[0m\u001b[0;34m.\u001b[0m\u001b[0mpost\u001b[0m\u001b[0;34m(\u001b[0m\u001b[0mself\u001b[0m\u001b[0;34m.\u001b[0m\u001b[0mbase_url\u001b[0m \u001b[0;34m+\u001b[0m \u001b[0;34m'/'\u001b[0m \u001b[0;34m+\u001b[0m \u001b[0mself\u001b[0m\u001b[0;34m.\u001b[0m\u001b[0mtype\u001b[0m\u001b[0;34m,\u001b[0m \u001b[0mjson\u001b[0m\u001b[0;34m=\u001b[0m\u001b[0mself\u001b[0m\u001b[0;34m.\u001b[0m\u001b[0mJSON\u001b[0m\u001b[0;34m)\u001b[0m\u001b[0;34m\u001b[0m\u001b[0m\n\u001b[0m\u001b[1;32m     43\u001b[0m         \u001b[0mr\u001b[0m\u001b[0;34m.\u001b[0m\u001b[0mraise_for_status\u001b[0m\u001b[0;34m(\u001b[0m\u001b[0;34m)\u001b[0m\u001b[0;34m\u001b[0m\u001b[0m\n",
         "\u001b[0;31mTypeError\u001b[0m: unsupported operand type(s) for +: 'NoneType' and 'str'"
        ]
       }
      ],
      "source": "WO.request()",
      "start_time": "2019-03-15T14:18:01.832Z"
     },
     {
      "end_time": "2019-03-15T14:19:37.018Z",
      "execution_time": "303ms",
      "outputs": [
       {
        "ename": "HTTPError",
        "evalue": "401 Client Error: Unauthorized for url: https://testing.sysmo-db.org/assays",
        "output_type": "error",
        "traceback": [
         "\u001b[0;31m---------------------------------------------------------------------------\u001b[0m",
         "\u001b[0;31mHTTPError\u001b[0m                                 Traceback (most recent call last)",
         "\u001b[0;32m<ipython-input-2-352cab6f49f8>\u001b[0m in \u001b[0;36m<module>\u001b[0;34m()\u001b[0m\n\u001b[0;32m----> 1\u001b[0;31m \u001b[0mWO\u001b[0m\u001b[0;34m.\u001b[0m\u001b[0mrequest\u001b[0m\u001b[0;34m(\u001b[0m\u001b[0;34m)\u001b[0m\u001b[0;34m\u001b[0m\u001b[0m\n\u001b[0m",
         "\u001b[0;32m~/Work/ThirdYear/Seek/TheSeekNotebook/WriteObject.py\u001b[0m in \u001b[0;36mrequest\u001b[0;34m(self)\u001b[0m\n\u001b[1;32m     41\u001b[0m     \u001b[0;32mdef\u001b[0m \u001b[0mrequest\u001b[0m\u001b[0;34m(\u001b[0m\u001b[0mself\u001b[0m\u001b[0;34m)\u001b[0m\u001b[0;34m:\u001b[0m\u001b[0;34m\u001b[0m\u001b[0m\n\u001b[1;32m     42\u001b[0m         \u001b[0mr\u001b[0m \u001b[0;34m=\u001b[0m \u001b[0mself\u001b[0m\u001b[0;34m.\u001b[0m\u001b[0msession\u001b[0m\u001b[0;34m.\u001b[0m\u001b[0mpost\u001b[0m\u001b[0;34m(\u001b[0m\u001b[0mself\u001b[0m\u001b[0;34m.\u001b[0m\u001b[0mbase_url\u001b[0m \u001b[0;34m+\u001b[0m \u001b[0;34m'/'\u001b[0m \u001b[0;34m+\u001b[0m \u001b[0mself\u001b[0m\u001b[0;34m.\u001b[0m\u001b[0mtype\u001b[0m\u001b[0;34m,\u001b[0m \u001b[0mjson\u001b[0m\u001b[0;34m=\u001b[0m\u001b[0mself\u001b[0m\u001b[0;34m.\u001b[0m\u001b[0mJSON\u001b[0m\u001b[0;34m)\u001b[0m\u001b[0;34m\u001b[0m\u001b[0m\n\u001b[0;32m---> 43\u001b[0;31m         \u001b[0mr\u001b[0m\u001b[0;34m.\u001b[0m\u001b[0mraise_for_status\u001b[0m\u001b[0;34m(\u001b[0m\u001b[0;34m)\u001b[0m\u001b[0;34m\u001b[0m\u001b[0m\n\u001b[0m",
         "\u001b[0;32m~/anaconda3/lib/python3.6/site-packages/requests/models.py\u001b[0m in \u001b[0;36mraise_for_status\u001b[0;34m(self)\u001b[0m\n\u001b[1;32m    933\u001b[0m \u001b[0;34m\u001b[0m\u001b[0m\n\u001b[1;32m    934\u001b[0m         \u001b[0;32mif\u001b[0m \u001b[0mhttp_error_msg\u001b[0m\u001b[0;34m:\u001b[0m\u001b[0;34m\u001b[0m\u001b[0m\n\u001b[0;32m--> 935\u001b[0;31m             \u001b[0;32mraise\u001b[0m \u001b[0mHTTPError\u001b[0m\u001b[0;34m(\u001b[0m\u001b[0mhttp_error_msg\u001b[0m\u001b[0;34m,\u001b[0m \u001b[0mresponse\u001b[0m\u001b[0;34m=\u001b[0m\u001b[0mself\u001b[0m\u001b[0;34m)\u001b[0m\u001b[0;34m\u001b[0m\u001b[0m\n\u001b[0m\u001b[1;32m    936\u001b[0m \u001b[0;34m\u001b[0m\u001b[0m\n\u001b[1;32m    937\u001b[0m     \u001b[0;32mdef\u001b[0m \u001b[0mclose\u001b[0m\u001b[0;34m(\u001b[0m\u001b[0mself\u001b[0m\u001b[0;34m)\u001b[0m\u001b[0;34m:\u001b[0m\u001b[0;34m\u001b[0m\u001b[0m\n",
         "\u001b[0;31mHTTPError\u001b[0m: 401 Client Error: Unauthorized for url: https://testing.sysmo-db.org/assays"
        ]
       }
      ],
      "source": "WO.request()",
      "start_time": "2019-03-15T14:19:36.715Z"
     },
     {
      "end_time": "2019-03-15T14:28:26.550Z",
      "execution_time": "274ms",
      "outputs": [
       {
        "ename": "HTTPError",
        "evalue": "401 Client Error: Unauthorized for url: https://testing.sysmo-db.org/assays",
        "output_type": "error",
        "traceback": [
         "\u001b[0;31m---------------------------------------------------------------------------\u001b[0m",
         "\u001b[0;31mHTTPError\u001b[0m                                 Traceback (most recent call last)",
         "\u001b[0;32m<ipython-input-2-352cab6f49f8>\u001b[0m in \u001b[0;36m<module>\u001b[0;34m()\u001b[0m\n\u001b[0;32m----> 1\u001b[0;31m \u001b[0mWO\u001b[0m\u001b[0;34m.\u001b[0m\u001b[0mrequest\u001b[0m\u001b[0;34m(\u001b[0m\u001b[0;34m)\u001b[0m\u001b[0;34m\u001b[0m\u001b[0m\n\u001b[0m",
         "\u001b[0;32m~/Work/ThirdYear/Seek/TheSeekNotebook/WriteObject.py\u001b[0m in \u001b[0;36mrequest\u001b[0;34m(self)\u001b[0m\n\u001b[1;32m     41\u001b[0m     \u001b[0;32mdef\u001b[0m \u001b[0mrequest\u001b[0m\u001b[0;34m(\u001b[0m\u001b[0mself\u001b[0m\u001b[0;34m)\u001b[0m\u001b[0;34m:\u001b[0m\u001b[0;34m\u001b[0m\u001b[0m\n\u001b[1;32m     42\u001b[0m         \u001b[0mr\u001b[0m \u001b[0;34m=\u001b[0m \u001b[0mself\u001b[0m\u001b[0;34m.\u001b[0m\u001b[0msession\u001b[0m\u001b[0;34m.\u001b[0m\u001b[0mpost\u001b[0m\u001b[0;34m(\u001b[0m\u001b[0mself\u001b[0m\u001b[0;34m.\u001b[0m\u001b[0mbase_url\u001b[0m \u001b[0;34m+\u001b[0m \u001b[0;34m'/'\u001b[0m \u001b[0;34m+\u001b[0m \u001b[0mself\u001b[0m\u001b[0;34m.\u001b[0m\u001b[0mtype\u001b[0m\u001b[0;34m,\u001b[0m \u001b[0mjson\u001b[0m\u001b[0;34m=\u001b[0m\u001b[0mself\u001b[0m\u001b[0;34m.\u001b[0m\u001b[0mJSON\u001b[0m\u001b[0;34m)\u001b[0m\u001b[0;34m\u001b[0m\u001b[0m\n\u001b[0;32m---> 43\u001b[0;31m         \u001b[0mr\u001b[0m\u001b[0;34m.\u001b[0m\u001b[0mraise_for_status\u001b[0m\u001b[0;34m(\u001b[0m\u001b[0;34m)\u001b[0m\u001b[0;34m\u001b[0m\u001b[0m\n\u001b[0m",
         "\u001b[0;32m~/anaconda3/lib/python3.6/site-packages/requests/models.py\u001b[0m in \u001b[0;36mraise_for_status\u001b[0;34m(self)\u001b[0m\n\u001b[1;32m    933\u001b[0m \u001b[0;34m\u001b[0m\u001b[0m\n\u001b[1;32m    934\u001b[0m         \u001b[0;32mif\u001b[0m \u001b[0mhttp_error_msg\u001b[0m\u001b[0;34m:\u001b[0m\u001b[0;34m\u001b[0m\u001b[0m\n\u001b[0;32m--> 935\u001b[0;31m             \u001b[0;32mraise\u001b[0m \u001b[0mHTTPError\u001b[0m\u001b[0;34m(\u001b[0m\u001b[0mhttp_error_msg\u001b[0m\u001b[0;34m,\u001b[0m \u001b[0mresponse\u001b[0m\u001b[0;34m=\u001b[0m\u001b[0mself\u001b[0m\u001b[0;34m)\u001b[0m\u001b[0;34m\u001b[0m\u001b[0m\n\u001b[0m\u001b[1;32m    936\u001b[0m \u001b[0;34m\u001b[0m\u001b[0m\n\u001b[1;32m    937\u001b[0m     \u001b[0;32mdef\u001b[0m \u001b[0mclose\u001b[0m\u001b[0;34m(\u001b[0m\u001b[0mself\u001b[0m\u001b[0;34m)\u001b[0m\u001b[0;34m:\u001b[0m\u001b[0;34m\u001b[0m\u001b[0m\n",
         "\u001b[0;31mHTTPError\u001b[0m: 401 Client Error: Unauthorized for url: https://testing.sysmo-db.org/assays"
        ]
       }
      ],
      "source": "WO.request()",
      "start_time": "2019-03-15T14:28:26.276Z"
     },
     {
      "end_time": "2019-03-15T14:41:47.999Z",
      "execution_time": "313ms",
      "outputs": [
       {
        "ename": "HTTPError",
        "evalue": "401 Client Error: Unauthorized for url: https://testing.sysmo-db.org/assays",
        "output_type": "error",
        "traceback": [
         "\u001b[0;31m---------------------------------------------------------------------------\u001b[0m",
         "\u001b[0;31mHTTPError\u001b[0m                                 Traceback (most recent call last)",
         "\u001b[0;32m<ipython-input-2-352cab6f49f8>\u001b[0m in \u001b[0;36m<module>\u001b[0;34m()\u001b[0m\n\u001b[0;32m----> 1\u001b[0;31m \u001b[0mWO\u001b[0m\u001b[0;34m.\u001b[0m\u001b[0mrequest\u001b[0m\u001b[0;34m(\u001b[0m\u001b[0;34m)\u001b[0m\u001b[0;34m\u001b[0m\u001b[0m\n\u001b[0m",
         "\u001b[0;32m~/Work/ThirdYear/Seek/TheSeekNotebook/WriteObject.py\u001b[0m in \u001b[0;36mrequest\u001b[0;34m(self)\u001b[0m\n\u001b[1;32m     41\u001b[0m     \u001b[0;32mdef\u001b[0m \u001b[0mrequest\u001b[0m\u001b[0;34m(\u001b[0m\u001b[0mself\u001b[0m\u001b[0;34m)\u001b[0m\u001b[0;34m:\u001b[0m\u001b[0;34m\u001b[0m\u001b[0m\n\u001b[1;32m     42\u001b[0m         \u001b[0mr\u001b[0m \u001b[0;34m=\u001b[0m \u001b[0mself\u001b[0m\u001b[0;34m.\u001b[0m\u001b[0msession\u001b[0m\u001b[0;34m.\u001b[0m\u001b[0mpost\u001b[0m\u001b[0;34m(\u001b[0m\u001b[0mself\u001b[0m\u001b[0;34m.\u001b[0m\u001b[0mbase_url\u001b[0m \u001b[0;34m+\u001b[0m \u001b[0;34m'/'\u001b[0m \u001b[0;34m+\u001b[0m \u001b[0mself\u001b[0m\u001b[0;34m.\u001b[0m\u001b[0mtype\u001b[0m\u001b[0;34m,\u001b[0m \u001b[0mjson\u001b[0m\u001b[0;34m=\u001b[0m\u001b[0mself\u001b[0m\u001b[0;34m.\u001b[0m\u001b[0mJSON\u001b[0m\u001b[0;34m)\u001b[0m\u001b[0;34m\u001b[0m\u001b[0m\n\u001b[0;32m---> 43\u001b[0;31m         \u001b[0mr\u001b[0m\u001b[0;34m.\u001b[0m\u001b[0mraise_for_status\u001b[0m\u001b[0;34m(\u001b[0m\u001b[0;34m)\u001b[0m\u001b[0;34m\u001b[0m\u001b[0m\n\u001b[0m",
         "\u001b[0;32m~/anaconda3/lib/python3.6/site-packages/requests/models.py\u001b[0m in \u001b[0;36mraise_for_status\u001b[0;34m(self)\u001b[0m\n\u001b[1;32m    933\u001b[0m \u001b[0;34m\u001b[0m\u001b[0m\n\u001b[1;32m    934\u001b[0m         \u001b[0;32mif\u001b[0m \u001b[0mhttp_error_msg\u001b[0m\u001b[0;34m:\u001b[0m\u001b[0;34m\u001b[0m\u001b[0m\n\u001b[0;32m--> 935\u001b[0;31m             \u001b[0;32mraise\u001b[0m \u001b[0mHTTPError\u001b[0m\u001b[0;34m(\u001b[0m\u001b[0mhttp_error_msg\u001b[0m\u001b[0;34m,\u001b[0m \u001b[0mresponse\u001b[0m\u001b[0;34m=\u001b[0m\u001b[0mself\u001b[0m\u001b[0;34m)\u001b[0m\u001b[0;34m\u001b[0m\u001b[0m\n\u001b[0m\u001b[1;32m    936\u001b[0m \u001b[0;34m\u001b[0m\u001b[0m\n\u001b[1;32m    937\u001b[0m     \u001b[0;32mdef\u001b[0m \u001b[0mclose\u001b[0m\u001b[0;34m(\u001b[0m\u001b[0mself\u001b[0m\u001b[0;34m)\u001b[0m\u001b[0;34m:\u001b[0m\u001b[0;34m\u001b[0m\u001b[0m\n",
         "\u001b[0;31mHTTPError\u001b[0m: 401 Client Error: Unauthorized for url: https://testing.sysmo-db.org/assays"
        ]
       }
      ],
      "source": "WO.request()",
      "start_time": "2019-03-15T14:41:47.686Z"
     },
     {
      "end_time": "2019-03-15T16:28:29.396Z",
      "execution_time": "372ms",
      "outputs": [
       {
        "ename": "HTTPError",
        "evalue": "404 Client Error: Not Found for url: https://testing.sysmo-db.org/assays",
        "output_type": "error",
        "traceback": [
         "\u001b[0;31m---------------------------------------------------------------------------\u001b[0m",
         "\u001b[0;31mHTTPError\u001b[0m                                 Traceback (most recent call last)",
         "\u001b[0;32m<ipython-input-6-352cab6f49f8>\u001b[0m in \u001b[0;36m<module>\u001b[0;34m()\u001b[0m\n\u001b[0;32m----> 1\u001b[0;31m \u001b[0mWO\u001b[0m\u001b[0;34m.\u001b[0m\u001b[0mrequest\u001b[0m\u001b[0;34m(\u001b[0m\u001b[0;34m)\u001b[0m\u001b[0;34m\u001b[0m\u001b[0m\n\u001b[0m",
         "\u001b[0;32m~/Work/ThirdYear/Seek/TheSeekNotebook/WriteObject.py\u001b[0m in \u001b[0;36mrequest\u001b[0;34m(self)\u001b[0m\n\u001b[1;32m     41\u001b[0m     \u001b[0;32mdef\u001b[0m \u001b[0mrequest\u001b[0m\u001b[0;34m(\u001b[0m\u001b[0mself\u001b[0m\u001b[0;34m)\u001b[0m\u001b[0;34m:\u001b[0m\u001b[0;34m\u001b[0m\u001b[0m\n\u001b[1;32m     42\u001b[0m         \u001b[0mr\u001b[0m \u001b[0;34m=\u001b[0m \u001b[0mself\u001b[0m\u001b[0;34m.\u001b[0m\u001b[0msession\u001b[0m\u001b[0;34m.\u001b[0m\u001b[0mpost\u001b[0m\u001b[0;34m(\u001b[0m\u001b[0mself\u001b[0m\u001b[0;34m.\u001b[0m\u001b[0mbase_url\u001b[0m \u001b[0;34m+\u001b[0m \u001b[0;34m'/'\u001b[0m \u001b[0;34m+\u001b[0m \u001b[0mself\u001b[0m\u001b[0;34m.\u001b[0m\u001b[0mtype\u001b[0m\u001b[0;34m,\u001b[0m \u001b[0mjson\u001b[0m\u001b[0;34m=\u001b[0m\u001b[0mself\u001b[0m\u001b[0;34m.\u001b[0m\u001b[0mJSON\u001b[0m\u001b[0;34m)\u001b[0m\u001b[0;34m\u001b[0m\u001b[0m\n\u001b[0;32m---> 43\u001b[0;31m         \u001b[0mr\u001b[0m\u001b[0;34m.\u001b[0m\u001b[0mraise_for_status\u001b[0m\u001b[0;34m(\u001b[0m\u001b[0;34m)\u001b[0m\u001b[0;34m\u001b[0m\u001b[0m\n\u001b[0m",
         "\u001b[0;32m~/anaconda3/lib/python3.6/site-packages/requests/models.py\u001b[0m in \u001b[0;36mraise_for_status\u001b[0;34m(self)\u001b[0m\n\u001b[1;32m    933\u001b[0m \u001b[0;34m\u001b[0m\u001b[0m\n\u001b[1;32m    934\u001b[0m         \u001b[0;32mif\u001b[0m \u001b[0mhttp_error_msg\u001b[0m\u001b[0;34m:\u001b[0m\u001b[0;34m\u001b[0m\u001b[0m\n\u001b[0;32m--> 935\u001b[0;31m             \u001b[0;32mraise\u001b[0m \u001b[0mHTTPError\u001b[0m\u001b[0;34m(\u001b[0m\u001b[0mhttp_error_msg\u001b[0m\u001b[0;34m,\u001b[0m \u001b[0mresponse\u001b[0m\u001b[0;34m=\u001b[0m\u001b[0mself\u001b[0m\u001b[0;34m)\u001b[0m\u001b[0;34m\u001b[0m\u001b[0m\n\u001b[0m\u001b[1;32m    936\u001b[0m \u001b[0;34m\u001b[0m\u001b[0m\n\u001b[1;32m    937\u001b[0m     \u001b[0;32mdef\u001b[0m \u001b[0mclose\u001b[0m\u001b[0;34m(\u001b[0m\u001b[0mself\u001b[0m\u001b[0;34m)\u001b[0m\u001b[0;34m:\u001b[0m\u001b[0;34m\u001b[0m\u001b[0m\n",
         "\u001b[0;31mHTTPError\u001b[0m: 404 Client Error: Not Found for url: https://testing.sysmo-db.org/assays"
        ]
       }
      ],
      "source": "WO.request()",
      "start_time": "2019-03-15T16:28:29.024Z"
     },
     {
      "end_time": "2019-03-15T16:32:09.238Z",
      "execution_time": "249ms",
      "outputs": [
       {
        "ename": "HTTPError",
        "evalue": "404 Client Error: Not Found for url: https://testing.sysmo-db.org/assays/new",
        "output_type": "error",
        "traceback": [
         "\u001b[0;31m---------------------------------------------------------------------------\u001b[0m",
         "\u001b[0;31mHTTPError\u001b[0m                                 Traceback (most recent call last)",
         "\u001b[0;32m<ipython-input-2-352cab6f49f8>\u001b[0m in \u001b[0;36m<module>\u001b[0;34m()\u001b[0m\n\u001b[0;32m----> 1\u001b[0;31m \u001b[0mWO\u001b[0m\u001b[0;34m.\u001b[0m\u001b[0mrequest\u001b[0m\u001b[0;34m(\u001b[0m\u001b[0;34m)\u001b[0m\u001b[0;34m\u001b[0m\u001b[0m\n\u001b[0m",
         "\u001b[0;32m~/Work/ThirdYear/Seek/TheSeekNotebook/WriteObject.py\u001b[0m in \u001b[0;36mrequest\u001b[0;34m(self)\u001b[0m\n\u001b[1;32m     41\u001b[0m     \u001b[0;32mdef\u001b[0m \u001b[0mrequest\u001b[0m\u001b[0;34m(\u001b[0m\u001b[0mself\u001b[0m\u001b[0;34m)\u001b[0m\u001b[0;34m:\u001b[0m\u001b[0;34m\u001b[0m\u001b[0m\n\u001b[1;32m     42\u001b[0m         \u001b[0mr\u001b[0m \u001b[0;34m=\u001b[0m \u001b[0mself\u001b[0m\u001b[0;34m.\u001b[0m\u001b[0msession\u001b[0m\u001b[0;34m.\u001b[0m\u001b[0mpost\u001b[0m\u001b[0;34m(\u001b[0m\u001b[0mself\u001b[0m\u001b[0;34m.\u001b[0m\u001b[0mbase_url\u001b[0m \u001b[0;34m+\u001b[0m \u001b[0;34m'/'\u001b[0m \u001b[0;34m+\u001b[0m \u001b[0mself\u001b[0m\u001b[0;34m.\u001b[0m\u001b[0mtype\u001b[0m \u001b[0;34m+\u001b[0m \u001b[0;34m\"/new\"\u001b[0m\u001b[0;34m,\u001b[0m \u001b[0mjson\u001b[0m\u001b[0;34m=\u001b[0m\u001b[0mself\u001b[0m\u001b[0;34m.\u001b[0m\u001b[0mJSON\u001b[0m\u001b[0;34m)\u001b[0m\u001b[0;34m\u001b[0m\u001b[0m\n\u001b[0;32m---> 43\u001b[0;31m         \u001b[0mr\u001b[0m\u001b[0;34m.\u001b[0m\u001b[0mraise_for_status\u001b[0m\u001b[0;34m(\u001b[0m\u001b[0;34m)\u001b[0m\u001b[0;34m\u001b[0m\u001b[0m\n\u001b[0m",
         "\u001b[0;32m~/anaconda3/lib/python3.6/site-packages/requests/models.py\u001b[0m in \u001b[0;36mraise_for_status\u001b[0;34m(self)\u001b[0m\n\u001b[1;32m    933\u001b[0m \u001b[0;34m\u001b[0m\u001b[0m\n\u001b[1;32m    934\u001b[0m         \u001b[0;32mif\u001b[0m \u001b[0mhttp_error_msg\u001b[0m\u001b[0;34m:\u001b[0m\u001b[0;34m\u001b[0m\u001b[0m\n\u001b[0;32m--> 935\u001b[0;31m             \u001b[0;32mraise\u001b[0m \u001b[0mHTTPError\u001b[0m\u001b[0;34m(\u001b[0m\u001b[0mhttp_error_msg\u001b[0m\u001b[0;34m,\u001b[0m \u001b[0mresponse\u001b[0m\u001b[0;34m=\u001b[0m\u001b[0mself\u001b[0m\u001b[0;34m)\u001b[0m\u001b[0;34m\u001b[0m\u001b[0m\n\u001b[0m\u001b[1;32m    936\u001b[0m \u001b[0;34m\u001b[0m\u001b[0m\n\u001b[1;32m    937\u001b[0m     \u001b[0;32mdef\u001b[0m \u001b[0mclose\u001b[0m\u001b[0;34m(\u001b[0m\u001b[0mself\u001b[0m\u001b[0;34m)\u001b[0m\u001b[0;34m:\u001b[0m\u001b[0;34m\u001b[0m\u001b[0m\n",
         "\u001b[0;31mHTTPError\u001b[0m: 404 Client Error: Not Found for url: https://testing.sysmo-db.org/assays/new"
        ]
       }
      ],
      "source": "WO.request()",
      "start_time": "2019-03-15T16:32:08.989Z"
     },
     {
      "end_time": "2019-03-15T16:35:01.197Z",
      "execution_time": "209ms",
      "outputs": [
       {
        "ename": "HTTPError",
        "evalue": "404 Client Error: Not Found for url: https://testing.sysmo-db.org/assays/new",
        "output_type": "error",
        "traceback": [
         "\u001b[0;31m---------------------------------------------------------------------------\u001b[0m",
         "\u001b[0;31mHTTPError\u001b[0m                                 Traceback (most recent call last)",
         "\u001b[0;32m<ipython-input-3-352cab6f49f8>\u001b[0m in \u001b[0;36m<module>\u001b[0;34m()\u001b[0m\n\u001b[0;32m----> 1\u001b[0;31m \u001b[0mWO\u001b[0m\u001b[0;34m.\u001b[0m\u001b[0mrequest\u001b[0m\u001b[0;34m(\u001b[0m\u001b[0;34m)\u001b[0m\u001b[0;34m\u001b[0m\u001b[0m\n\u001b[0m",
         "\u001b[0;32m~/Work/ThirdYear/Seek/TheSeekNotebook/WriteObject.py\u001b[0m in \u001b[0;36mrequest\u001b[0;34m(self)\u001b[0m\n\u001b[1;32m     41\u001b[0m     \u001b[0;32mdef\u001b[0m \u001b[0mrequest\u001b[0m\u001b[0;34m(\u001b[0m\u001b[0mself\u001b[0m\u001b[0;34m)\u001b[0m\u001b[0;34m:\u001b[0m\u001b[0;34m\u001b[0m\u001b[0m\n\u001b[1;32m     42\u001b[0m         \u001b[0mr\u001b[0m \u001b[0;34m=\u001b[0m \u001b[0mself\u001b[0m\u001b[0;34m.\u001b[0m\u001b[0msession\u001b[0m\u001b[0;34m.\u001b[0m\u001b[0mpost\u001b[0m\u001b[0;34m(\u001b[0m\u001b[0mself\u001b[0m\u001b[0;34m.\u001b[0m\u001b[0mbase_url\u001b[0m \u001b[0;34m+\u001b[0m \u001b[0;34m'/'\u001b[0m \u001b[0;34m+\u001b[0m \u001b[0mself\u001b[0m\u001b[0;34m.\u001b[0m\u001b[0mtype\u001b[0m \u001b[0;34m+\u001b[0m \u001b[0;34m\"/new\"\u001b[0m\u001b[0;34m,\u001b[0m \u001b[0mjson\u001b[0m\u001b[0;34m=\u001b[0m\u001b[0mself\u001b[0m\u001b[0;34m.\u001b[0m\u001b[0mJSON\u001b[0m\u001b[0;34m)\u001b[0m\u001b[0;34m\u001b[0m\u001b[0m\n\u001b[0;32m---> 43\u001b[0;31m         \u001b[0mr\u001b[0m\u001b[0;34m.\u001b[0m\u001b[0mraise_for_status\u001b[0m\u001b[0;34m(\u001b[0m\u001b[0;34m)\u001b[0m\u001b[0;34m\u001b[0m\u001b[0m\n\u001b[0m",
         "\u001b[0;32m~/anaconda3/lib/python3.6/site-packages/requests/models.py\u001b[0m in \u001b[0;36mraise_for_status\u001b[0;34m(self)\u001b[0m\n\u001b[1;32m    933\u001b[0m \u001b[0;34m\u001b[0m\u001b[0m\n\u001b[1;32m    934\u001b[0m         \u001b[0;32mif\u001b[0m \u001b[0mhttp_error_msg\u001b[0m\u001b[0;34m:\u001b[0m\u001b[0;34m\u001b[0m\u001b[0m\n\u001b[0;32m--> 935\u001b[0;31m             \u001b[0;32mraise\u001b[0m \u001b[0mHTTPError\u001b[0m\u001b[0;34m(\u001b[0m\u001b[0mhttp_error_msg\u001b[0m\u001b[0;34m,\u001b[0m \u001b[0mresponse\u001b[0m\u001b[0;34m=\u001b[0m\u001b[0mself\u001b[0m\u001b[0;34m)\u001b[0m\u001b[0;34m\u001b[0m\u001b[0m\n\u001b[0m\u001b[1;32m    936\u001b[0m \u001b[0;34m\u001b[0m\u001b[0m\n\u001b[1;32m    937\u001b[0m     \u001b[0;32mdef\u001b[0m \u001b[0mclose\u001b[0m\u001b[0;34m(\u001b[0m\u001b[0mself\u001b[0m\u001b[0;34m)\u001b[0m\u001b[0;34m:\u001b[0m\u001b[0;34m\u001b[0m\u001b[0m\n",
         "\u001b[0;31mHTTPError\u001b[0m: 404 Client Error: Not Found for url: https://testing.sysmo-db.org/assays/new"
        ]
       }
      ],
      "source": "WO.request()",
      "start_time": "2019-03-15T16:35:00.988Z"
     },
     {
      "end_time": "2019-03-19T18:13:50.451Z",
      "execution_time": "54ms",
      "outputs": [
       {
        "ename": "TypeError",
        "evalue": "must be str, not Dropdown",
        "output_type": "error",
        "traceback": [
         "\u001b[0;31m---------------------------------------------------------------------------\u001b[0m",
         "\u001b[0;31mTypeError\u001b[0m                                 Traceback (most recent call last)",
         "\u001b[0;32m<ipython-input-6-a88cfb6a4f2a>\u001b[0m in \u001b[0;36m<module>\u001b[0;34m()\u001b[0m\n\u001b[0;32m----> 1\u001b[0;31m \u001b[0mWO\u001b[0m\u001b[0;34m.\u001b[0m\u001b[0mrequest\u001b[0m\u001b[0;34m(\u001b[0m\u001b[0;34m)\u001b[0m\u001b[0;34m\u001b[0m\u001b[0m\n\u001b[0m\u001b[1;32m      2\u001b[0m \u001b[0;34m\u001b[0m\u001b[0m\n\u001b[1;32m      3\u001b[0m \u001b[0;31m# JUST ENOUGH\u001b[0m\u001b[0;34m\u001b[0m\u001b[0;34m\u001b[0m\u001b[0m\n\u001b[1;32m      4\u001b[0m \u001b[0;34m\u001b[0m\u001b[0m\n\u001b[1;32m      5\u001b[0m \u001b[0;31m# file version vs new file\u001b[0m\u001b[0;34m\u001b[0m\u001b[0;34m\u001b[0m\u001b[0m\n",
         "\u001b[0;32m~/Work/ThirdYear/Seek/TheSeekNotebook/WriteObject.py\u001b[0m in \u001b[0;36mrequest\u001b[0;34m(self)\u001b[0m\n\u001b[1;32m    118\u001b[0m \u001b[0;34m\u001b[0m\u001b[0m\n\u001b[1;32m    119\u001b[0m     \u001b[0;32mdef\u001b[0m \u001b[0mrequest\u001b[0m\u001b[0;34m(\u001b[0m\u001b[0mself\u001b[0m\u001b[0;34m)\u001b[0m\u001b[0;34m:\u001b[0m\u001b[0;34m\u001b[0m\u001b[0m\n\u001b[0;32m--> 120\u001b[0;31m         \u001b[0mr\u001b[0m \u001b[0;34m=\u001b[0m \u001b[0mself\u001b[0m\u001b[0;34m.\u001b[0m\u001b[0msession\u001b[0m\u001b[0;34m.\u001b[0m\u001b[0mpost\u001b[0m\u001b[0;34m(\u001b[0m\u001b[0mself\u001b[0m\u001b[0;34m.\u001b[0m\u001b[0mbase_url\u001b[0m \u001b[0;34m+\u001b[0m \u001b[0;34m'/'\u001b[0m \u001b[0;34m+\u001b[0m \u001b[0mself\u001b[0m\u001b[0;34m.\u001b[0m\u001b[0mtype\u001b[0m\u001b[0;34m,\u001b[0m \u001b[0mjson\u001b[0m\u001b[0;34m=\u001b[0m\u001b[0mself\u001b[0m\u001b[0;34m.\u001b[0m\u001b[0mJSON\u001b[0m\u001b[0;34m)\u001b[0m\u001b[0;34m\u001b[0m\u001b[0m\n\u001b[0m\u001b[1;32m    121\u001b[0m         \u001b[0mr\u001b[0m\u001b[0;34m.\u001b[0m\u001b[0mraise_for_status\u001b[0m\u001b[0;34m(\u001b[0m\u001b[0;34m)\u001b[0m\u001b[0;34m\u001b[0m\u001b[0m\n",
         "\u001b[0;31mTypeError\u001b[0m: must be str, not Dropdown"
        ]
       }
      ],
      "source": "WO.request()\n\n# JUST ENOUGH \n\n# file version vs new file",
      "start_time": "2019-03-19T18:13:50.397Z"
     },
     {
      "end_time": "2019-03-19T18:17:19.366Z",
      "execution_time": "24ms",
      "outputs": [
       {
        "ename": "TypeError",
        "evalue": "must be str, not Dropdown",
        "output_type": "error",
        "traceback": [
         "\u001b[0;31m---------------------------------------------------------------------------\u001b[0m",
         "\u001b[0;31mTypeError\u001b[0m                                 Traceback (most recent call last)",
         "\u001b[0;32m<ipython-input-9-a88cfb6a4f2a>\u001b[0m in \u001b[0;36m<module>\u001b[0;34m()\u001b[0m\n\u001b[0;32m----> 1\u001b[0;31m \u001b[0mWO\u001b[0m\u001b[0;34m.\u001b[0m\u001b[0mrequest\u001b[0m\u001b[0;34m(\u001b[0m\u001b[0;34m)\u001b[0m\u001b[0;34m\u001b[0m\u001b[0m\n\u001b[0m\u001b[1;32m      2\u001b[0m \u001b[0;34m\u001b[0m\u001b[0m\n\u001b[1;32m      3\u001b[0m \u001b[0;31m# JUST ENOUGH\u001b[0m\u001b[0;34m\u001b[0m\u001b[0;34m\u001b[0m\u001b[0m\n\u001b[1;32m      4\u001b[0m \u001b[0;34m\u001b[0m\u001b[0m\n\u001b[1;32m      5\u001b[0m \u001b[0;31m# file version vs new file\u001b[0m\u001b[0;34m\u001b[0m\u001b[0;34m\u001b[0m\u001b[0m\n",
         "\u001b[0;32m~/Work/ThirdYear/Seek/TheSeekNotebook/WriteObject.py\u001b[0m in \u001b[0;36mrequest\u001b[0;34m(self)\u001b[0m\n\u001b[1;32m    118\u001b[0m \u001b[0;34m\u001b[0m\u001b[0m\n\u001b[1;32m    119\u001b[0m     \u001b[0;32mdef\u001b[0m \u001b[0mrequest\u001b[0m\u001b[0;34m(\u001b[0m\u001b[0mself\u001b[0m\u001b[0;34m)\u001b[0m\u001b[0;34m:\u001b[0m\u001b[0;34m\u001b[0m\u001b[0m\n\u001b[0;32m--> 120\u001b[0;31m         \u001b[0mr\u001b[0m \u001b[0;34m=\u001b[0m \u001b[0mself\u001b[0m\u001b[0;34m.\u001b[0m\u001b[0msession\u001b[0m\u001b[0;34m.\u001b[0m\u001b[0mpost\u001b[0m\u001b[0;34m(\u001b[0m\u001b[0mself\u001b[0m\u001b[0;34m.\u001b[0m\u001b[0mbase_url\u001b[0m \u001b[0;34m+\u001b[0m \u001b[0;34m'/'\u001b[0m \u001b[0;34m+\u001b[0m \u001b[0mself\u001b[0m\u001b[0;34m.\u001b[0m\u001b[0mtype\u001b[0m\u001b[0;34m.\u001b[0m\u001b[0mvalue\u001b[0m\u001b[0;34m,\u001b[0m \u001b[0mjson\u001b[0m\u001b[0;34m=\u001b[0m\u001b[0mself\u001b[0m\u001b[0;34m.\u001b[0m\u001b[0mJSON\u001b[0m\u001b[0;34m)\u001b[0m\u001b[0;34m\u001b[0m\u001b[0m\n\u001b[0m\u001b[1;32m    121\u001b[0m         \u001b[0mr\u001b[0m\u001b[0;34m.\u001b[0m\u001b[0mraise_for_status\u001b[0m\u001b[0;34m(\u001b[0m\u001b[0;34m)\u001b[0m\u001b[0;34m\u001b[0m\u001b[0m\n",
         "\u001b[0;31mTypeError\u001b[0m: must be str, not Dropdown"
        ]
       }
      ],
      "source": "WO.request()\n\n# JUST ENOUGH \n\n# file version vs new file",
      "start_time": "2019-03-19T18:17:19.342Z"
     },
     {
      "end_time": "2019-03-19T18:18:20.754Z",
      "execution_time": "3.59s",
      "outputs": [
       {
        "ename": "HTTPError",
        "evalue": "401 Client Error: Unauthorized for url: https://testing.sysmo-db.org/assays",
        "output_type": "error",
        "traceback": [
         "\u001b[0;31m---------------------------------------------------------------------------\u001b[0m",
         "\u001b[0;31mHTTPError\u001b[0m                                 Traceback (most recent call last)",
         "\u001b[0;32m<ipython-input-6-a88cfb6a4f2a>\u001b[0m in \u001b[0;36m<module>\u001b[0;34m()\u001b[0m\n\u001b[0;32m----> 1\u001b[0;31m \u001b[0mWO\u001b[0m\u001b[0;34m.\u001b[0m\u001b[0mrequest\u001b[0m\u001b[0;34m(\u001b[0m\u001b[0;34m)\u001b[0m\u001b[0;34m\u001b[0m\u001b[0m\n\u001b[0m\u001b[1;32m      2\u001b[0m \u001b[0;34m\u001b[0m\u001b[0m\n\u001b[1;32m      3\u001b[0m \u001b[0;31m# JUST ENOUGH\u001b[0m\u001b[0;34m\u001b[0m\u001b[0;34m\u001b[0m\u001b[0m\n\u001b[1;32m      4\u001b[0m \u001b[0;34m\u001b[0m\u001b[0m\n\u001b[1;32m      5\u001b[0m \u001b[0;31m# file version vs new file\u001b[0m\u001b[0;34m\u001b[0m\u001b[0;34m\u001b[0m\u001b[0m\n",
         "\u001b[0;32m~/Work/ThirdYear/Seek/TheSeekNotebook/WriteObject.py\u001b[0m in \u001b[0;36mrequest\u001b[0;34m(self)\u001b[0m\n\u001b[1;32m    119\u001b[0m     \u001b[0;32mdef\u001b[0m \u001b[0mrequest\u001b[0m\u001b[0;34m(\u001b[0m\u001b[0mself\u001b[0m\u001b[0;34m)\u001b[0m\u001b[0;34m:\u001b[0m\u001b[0;34m\u001b[0m\u001b[0m\n\u001b[1;32m    120\u001b[0m         \u001b[0mr\u001b[0m \u001b[0;34m=\u001b[0m \u001b[0mself\u001b[0m\u001b[0;34m.\u001b[0m\u001b[0msession\u001b[0m\u001b[0;34m.\u001b[0m\u001b[0mpost\u001b[0m\u001b[0;34m(\u001b[0m\u001b[0mself\u001b[0m\u001b[0;34m.\u001b[0m\u001b[0mbase_url\u001b[0m \u001b[0;34m+\u001b[0m \u001b[0;34m'/'\u001b[0m \u001b[0;34m+\u001b[0m \u001b[0mself\u001b[0m\u001b[0;34m.\u001b[0m\u001b[0mtype\u001b[0m\u001b[0;34m.\u001b[0m\u001b[0mvalue\u001b[0m\u001b[0;34m,\u001b[0m \u001b[0mjson\u001b[0m\u001b[0;34m=\u001b[0m\u001b[0mself\u001b[0m\u001b[0;34m.\u001b[0m\u001b[0mJSON\u001b[0m\u001b[0;34m)\u001b[0m\u001b[0;34m\u001b[0m\u001b[0m\n\u001b[0;32m--> 121\u001b[0;31m         \u001b[0mr\u001b[0m\u001b[0;34m.\u001b[0m\u001b[0mraise_for_status\u001b[0m\u001b[0;34m(\u001b[0m\u001b[0;34m)\u001b[0m\u001b[0;34m\u001b[0m\u001b[0m\n\u001b[0m",
         "\u001b[0;32m~/anaconda3/lib/python3.6/site-packages/requests/models.py\u001b[0m in \u001b[0;36mraise_for_status\u001b[0;34m(self)\u001b[0m\n\u001b[1;32m    933\u001b[0m \u001b[0;34m\u001b[0m\u001b[0m\n\u001b[1;32m    934\u001b[0m         \u001b[0;32mif\u001b[0m \u001b[0mhttp_error_msg\u001b[0m\u001b[0;34m:\u001b[0m\u001b[0;34m\u001b[0m\u001b[0m\n\u001b[0;32m--> 935\u001b[0;31m             \u001b[0;32mraise\u001b[0m \u001b[0mHTTPError\u001b[0m\u001b[0;34m(\u001b[0m\u001b[0mhttp_error_msg\u001b[0m\u001b[0;34m,\u001b[0m \u001b[0mresponse\u001b[0m\u001b[0;34m=\u001b[0m\u001b[0mself\u001b[0m\u001b[0;34m)\u001b[0m\u001b[0;34m\u001b[0m\u001b[0m\n\u001b[0m\u001b[1;32m    936\u001b[0m \u001b[0;34m\u001b[0m\u001b[0m\n\u001b[1;32m    937\u001b[0m     \u001b[0;32mdef\u001b[0m \u001b[0mclose\u001b[0m\u001b[0;34m(\u001b[0m\u001b[0mself\u001b[0m\u001b[0;34m)\u001b[0m\u001b[0;34m:\u001b[0m\u001b[0;34m\u001b[0m\u001b[0m\n",
         "\u001b[0;31mHTTPError\u001b[0m: 401 Client Error: Unauthorized for url: https://testing.sysmo-db.org/assays"
        ]
       }
      ],
      "source": "WO.request()\n\n# JUST ENOUGH \n\n# file version vs new file",
      "start_time": "2019-03-19T18:18:17.160Z"
     },
     {
      "end_time": "2019-03-19T20:02:02.883Z",
      "execution_time": "2.88s",
      "outputs": [
       {
        "ename": "HTTPError",
        "evalue": "422 Client Error: Unprocessable Entity for url: https://testing.sysmo-db.org/assays",
        "output_type": "error",
        "traceback": [
         "\u001b[0;31m---------------------------------------------------------------------------\u001b[0m",
         "\u001b[0;31mHTTPError\u001b[0m                                 Traceback (most recent call last)",
         "\u001b[0;32m<ipython-input-6-dc9a99fa8eac>\u001b[0m in \u001b[0;36m<module>\u001b[0;34m()\u001b[0m\n\u001b[0;32m----> 1\u001b[0;31m \u001b[0mWO\u001b[0m\u001b[0;34m.\u001b[0m\u001b[0mrequest\u001b[0m\u001b[0;34m(\u001b[0m\u001b[0;34m)\u001b[0m\u001b[0;34m\u001b[0m\u001b[0m\n\u001b[0m\u001b[1;32m      2\u001b[0m \u001b[0;31m# HTTPError: 401 Client Error: Unauthorized for url: https://testing.sysmo-db.org/assays\u001b[0m\u001b[0;34m\u001b[0m\u001b[0;34m\u001b[0m\u001b[0m\n\u001b[1;32m      3\u001b[0m \u001b[0;31m# JUST ENOUGH\u001b[0m\u001b[0;34m\u001b[0m\u001b[0;34m\u001b[0m\u001b[0m\n\u001b[1;32m      4\u001b[0m \u001b[0;34m\u001b[0m\u001b[0m\n\u001b[1;32m      5\u001b[0m \u001b[0;31m# file version vs new file\u001b[0m\u001b[0;34m\u001b[0m\u001b[0;34m\u001b[0m\u001b[0m\n",
         "\u001b[0;32m~/Work/ThirdYear/Seek/TheSeekNotebook/WriteObject.py\u001b[0m in \u001b[0;36mrequest\u001b[0;34m(self)\u001b[0m\n\u001b[1;32m    118\u001b[0m     \u001b[0;32mdef\u001b[0m \u001b[0mrequest\u001b[0m\u001b[0;34m(\u001b[0m\u001b[0mself\u001b[0m\u001b[0;34m)\u001b[0m\u001b[0;34m:\u001b[0m\u001b[0;34m\u001b[0m\u001b[0m\n\u001b[1;32m    119\u001b[0m         \u001b[0mr\u001b[0m \u001b[0;34m=\u001b[0m \u001b[0mself\u001b[0m\u001b[0;34m.\u001b[0m\u001b[0msession\u001b[0m\u001b[0;34m.\u001b[0m\u001b[0mpost\u001b[0m\u001b[0;34m(\u001b[0m\u001b[0mself\u001b[0m\u001b[0;34m.\u001b[0m\u001b[0mbase_url\u001b[0m \u001b[0;34m+\u001b[0m \u001b[0;34m'/'\u001b[0m \u001b[0;34m+\u001b[0m \u001b[0mself\u001b[0m\u001b[0;34m.\u001b[0m\u001b[0mtype\u001b[0m\u001b[0;34m.\u001b[0m\u001b[0mvalue\u001b[0m\u001b[0;34m,\u001b[0m \u001b[0mjson\u001b[0m\u001b[0;34m=\u001b[0m\u001b[0mself\u001b[0m\u001b[0;34m.\u001b[0m\u001b[0mJSON\u001b[0m\u001b[0;34m)\u001b[0m\u001b[0;34m\u001b[0m\u001b[0m\n\u001b[0;32m--> 120\u001b[0;31m         \u001b[0mr\u001b[0m\u001b[0;34m.\u001b[0m\u001b[0mraise_for_status\u001b[0m\u001b[0;34m(\u001b[0m\u001b[0;34m)\u001b[0m\u001b[0;34m\u001b[0m\u001b[0m\n\u001b[0m",
         "\u001b[0;32m~/anaconda3/lib/python3.6/site-packages/requests/models.py\u001b[0m in \u001b[0;36mraise_for_status\u001b[0;34m(self)\u001b[0m\n\u001b[1;32m    933\u001b[0m \u001b[0;34m\u001b[0m\u001b[0m\n\u001b[1;32m    934\u001b[0m         \u001b[0;32mif\u001b[0m \u001b[0mhttp_error_msg\u001b[0m\u001b[0;34m:\u001b[0m\u001b[0;34m\u001b[0m\u001b[0m\n\u001b[0;32m--> 935\u001b[0;31m             \u001b[0;32mraise\u001b[0m \u001b[0mHTTPError\u001b[0m\u001b[0;34m(\u001b[0m\u001b[0mhttp_error_msg\u001b[0m\u001b[0;34m,\u001b[0m \u001b[0mresponse\u001b[0m\u001b[0;34m=\u001b[0m\u001b[0mself\u001b[0m\u001b[0;34m)\u001b[0m\u001b[0;34m\u001b[0m\u001b[0m\n\u001b[0m\u001b[1;32m    936\u001b[0m \u001b[0;34m\u001b[0m\u001b[0m\n\u001b[1;32m    937\u001b[0m     \u001b[0;32mdef\u001b[0m \u001b[0mclose\u001b[0m\u001b[0;34m(\u001b[0m\u001b[0mself\u001b[0m\u001b[0;34m)\u001b[0m\u001b[0;34m:\u001b[0m\u001b[0;34m\u001b[0m\u001b[0m\n",
         "\u001b[0;31mHTTPError\u001b[0m: 422 Client Error: Unprocessable Entity for url: https://testing.sysmo-db.org/assays"
        ]
       }
      ],
      "source": "WO.request()\n# HTTPError: 401 Client Error: Unauthorized for url: https://testing.sysmo-db.org/assays\n# JUST ENOUGH \n\n# file version vs new file",
      "start_time": "2019-03-19T20:01:59.998Z"
     },
     {
      "end_time": "2019-03-19T20:13:11.147Z",
      "execution_time": "481ms",
      "outputs": [
       {
        "ename": "HTTPError",
        "evalue": "422 Client Error: Unprocessable Entity for url: https://testing.sysmo-db.org/assays",
        "output_type": "error",
        "traceback": [
         "\u001b[0;31m---------------------------------------------------------------------------\u001b[0m",
         "\u001b[0;31mHTTPError\u001b[0m                                 Traceback (most recent call last)",
         "\u001b[0;32m<ipython-input-6-dc9a99fa8eac>\u001b[0m in \u001b[0;36m<module>\u001b[0;34m()\u001b[0m\n\u001b[0;32m----> 1\u001b[0;31m \u001b[0mWO\u001b[0m\u001b[0;34m.\u001b[0m\u001b[0mrequest\u001b[0m\u001b[0;34m(\u001b[0m\u001b[0;34m)\u001b[0m\u001b[0;34m\u001b[0m\u001b[0m\n\u001b[0m\u001b[1;32m      2\u001b[0m \u001b[0;31m# HTTPError: 401 Client Error: Unauthorized for url: https://testing.sysmo-db.org/assays\u001b[0m\u001b[0;34m\u001b[0m\u001b[0;34m\u001b[0m\u001b[0m\n\u001b[1;32m      3\u001b[0m \u001b[0;31m# JUST ENOUGH\u001b[0m\u001b[0;34m\u001b[0m\u001b[0;34m\u001b[0m\u001b[0m\n\u001b[1;32m      4\u001b[0m \u001b[0;34m\u001b[0m\u001b[0m\n\u001b[1;32m      5\u001b[0m \u001b[0;31m# file version vs new file\u001b[0m\u001b[0;34m\u001b[0m\u001b[0;34m\u001b[0m\u001b[0m\n",
         "\u001b[0;32m~/Work/ThirdYear/Seek/TheSeekNotebook/WriteObject.py\u001b[0m in \u001b[0;36mrequest\u001b[0;34m(self)\u001b[0m\n\u001b[1;32m    118\u001b[0m     \u001b[0;32mdef\u001b[0m \u001b[0mrequest\u001b[0m\u001b[0;34m(\u001b[0m\u001b[0mself\u001b[0m\u001b[0;34m)\u001b[0m\u001b[0;34m:\u001b[0m\u001b[0;34m\u001b[0m\u001b[0m\n\u001b[1;32m    119\u001b[0m         \u001b[0mr\u001b[0m \u001b[0;34m=\u001b[0m \u001b[0mself\u001b[0m\u001b[0;34m.\u001b[0m\u001b[0msession\u001b[0m\u001b[0;34m.\u001b[0m\u001b[0mpost\u001b[0m\u001b[0;34m(\u001b[0m\u001b[0mself\u001b[0m\u001b[0;34m.\u001b[0m\u001b[0mbase_url\u001b[0m \u001b[0;34m+\u001b[0m \u001b[0;34m'/'\u001b[0m \u001b[0;34m+\u001b[0m \u001b[0mself\u001b[0m\u001b[0;34m.\u001b[0m\u001b[0mtype\u001b[0m\u001b[0;34m.\u001b[0m\u001b[0mvalue\u001b[0m\u001b[0;34m,\u001b[0m \u001b[0mjson\u001b[0m\u001b[0;34m=\u001b[0m\u001b[0mself\u001b[0m\u001b[0;34m.\u001b[0m\u001b[0mJSON\u001b[0m\u001b[0;34m)\u001b[0m\u001b[0;34m\u001b[0m\u001b[0m\n\u001b[0;32m--> 120\u001b[0;31m         \u001b[0mr\u001b[0m\u001b[0;34m.\u001b[0m\u001b[0mraise_for_status\u001b[0m\u001b[0;34m(\u001b[0m\u001b[0;34m)\u001b[0m\u001b[0;34m\u001b[0m\u001b[0m\n\u001b[0m",
         "\u001b[0;32m~/anaconda3/lib/python3.6/site-packages/requests/models.py\u001b[0m in \u001b[0;36mraise_for_status\u001b[0;34m(self)\u001b[0m\n\u001b[1;32m    933\u001b[0m \u001b[0;34m\u001b[0m\u001b[0m\n\u001b[1;32m    934\u001b[0m         \u001b[0;32mif\u001b[0m \u001b[0mhttp_error_msg\u001b[0m\u001b[0;34m:\u001b[0m\u001b[0;34m\u001b[0m\u001b[0m\n\u001b[0;32m--> 935\u001b[0;31m             \u001b[0;32mraise\u001b[0m \u001b[0mHTTPError\u001b[0m\u001b[0;34m(\u001b[0m\u001b[0mhttp_error_msg\u001b[0m\u001b[0;34m,\u001b[0m \u001b[0mresponse\u001b[0m\u001b[0;34m=\u001b[0m\u001b[0mself\u001b[0m\u001b[0;34m)\u001b[0m\u001b[0;34m\u001b[0m\u001b[0m\n\u001b[0m\u001b[1;32m    936\u001b[0m \u001b[0;34m\u001b[0m\u001b[0m\n\u001b[1;32m    937\u001b[0m     \u001b[0;32mdef\u001b[0m \u001b[0mclose\u001b[0m\u001b[0;34m(\u001b[0m\u001b[0mself\u001b[0m\u001b[0;34m)\u001b[0m\u001b[0;34m:\u001b[0m\u001b[0;34m\u001b[0m\u001b[0m\n",
         "\u001b[0;31mHTTPError\u001b[0m: 422 Client Error: Unprocessable Entity for url: https://testing.sysmo-db.org/assays"
        ]
       }
      ],
      "source": "WO.request()\n# HTTPError: 401 Client Error: Unauthorized for url: https://testing.sysmo-db.org/assays\n# JUST ENOUGH \n\n# file version vs new file",
      "start_time": "2019-03-19T20:13:10.666Z"
     },
     {
      "end_time": "2019-03-19T20:21:59.119Z",
      "execution_time": "2.24s",
      "outputs": [
       {
        "ename": "HTTPError",
        "evalue": "401 Client Error: Unauthorized for url: https://testing.sysmo-db.org/assays",
        "output_type": "error",
        "traceback": [
         "\u001b[0;31m---------------------------------------------------------------------------\u001b[0m",
         "\u001b[0;31mHTTPError\u001b[0m                                 Traceback (most recent call last)",
         "\u001b[0;32m<ipython-input-6-29bade0fc531>\u001b[0m in \u001b[0;36m<module>\u001b[0;34m()\u001b[0m\n\u001b[0;32m----> 1\u001b[0;31m \u001b[0mWO\u001b[0m\u001b[0;34m.\u001b[0m\u001b[0mrequest\u001b[0m\u001b[0;34m(\u001b[0m\u001b[0;34m)\u001b[0m\u001b[0;34m\u001b[0m\u001b[0m\n\u001b[0m\u001b[1;32m      2\u001b[0m \u001b[0;31m# HTTPError: 401 Client Error: Unauthorized for url: https://testing.sysmo-db.org/assays\u001b[0m\u001b[0;34m\u001b[0m\u001b[0;34m\u001b[0m\u001b[0m\n\u001b[1;32m      3\u001b[0m \u001b[0;31m# 422 Client Error: Unprocessable Entity for url: https://testing.sysmo-db.org/assays\u001b[0m\u001b[0;34m\u001b[0m\u001b[0;34m\u001b[0m\u001b[0m\n\u001b[1;32m      4\u001b[0m \u001b[0;31m# JUST ENOUGH\u001b[0m\u001b[0;34m\u001b[0m\u001b[0;34m\u001b[0m\u001b[0m\n\u001b[1;32m      5\u001b[0m \u001b[0;34m\u001b[0m\u001b[0m\n",
         "\u001b[0;32m~/Work/ThirdYear/Seek/TheSeekNotebook/WriteObject.py\u001b[0m in \u001b[0;36mrequest\u001b[0;34m(self)\u001b[0m\n\u001b[1;32m    118\u001b[0m     \u001b[0;32mdef\u001b[0m \u001b[0mrequest\u001b[0m\u001b[0;34m(\u001b[0m\u001b[0mself\u001b[0m\u001b[0;34m)\u001b[0m\u001b[0;34m:\u001b[0m\u001b[0;34m\u001b[0m\u001b[0m\n\u001b[1;32m    119\u001b[0m         \u001b[0mr\u001b[0m \u001b[0;34m=\u001b[0m \u001b[0mself\u001b[0m\u001b[0;34m.\u001b[0m\u001b[0msession\u001b[0m\u001b[0;34m.\u001b[0m\u001b[0mpost\u001b[0m\u001b[0;34m(\u001b[0m\u001b[0mself\u001b[0m\u001b[0;34m.\u001b[0m\u001b[0mbase_url\u001b[0m \u001b[0;34m+\u001b[0m \u001b[0;34m'/'\u001b[0m \u001b[0;34m+\u001b[0m \u001b[0mself\u001b[0m\u001b[0;34m.\u001b[0m\u001b[0mtype\u001b[0m\u001b[0;34m.\u001b[0m\u001b[0mvalue\u001b[0m\u001b[0;34m,\u001b[0m \u001b[0mjson\u001b[0m\u001b[0;34m=\u001b[0m\u001b[0mself\u001b[0m\u001b[0;34m.\u001b[0m\u001b[0mJSON\u001b[0m\u001b[0;34m)\u001b[0m\u001b[0;34m\u001b[0m\u001b[0m\n\u001b[0;32m--> 120\u001b[0;31m         \u001b[0mr\u001b[0m\u001b[0;34m.\u001b[0m\u001b[0mraise_for_status\u001b[0m\u001b[0;34m(\u001b[0m\u001b[0;34m)\u001b[0m\u001b[0;34m\u001b[0m\u001b[0m\n\u001b[0m",
         "\u001b[0;32m~/anaconda3/lib/python3.6/site-packages/requests/models.py\u001b[0m in \u001b[0;36mraise_for_status\u001b[0;34m(self)\u001b[0m\n\u001b[1;32m    933\u001b[0m \u001b[0;34m\u001b[0m\u001b[0m\n\u001b[1;32m    934\u001b[0m         \u001b[0;32mif\u001b[0m \u001b[0mhttp_error_msg\u001b[0m\u001b[0;34m:\u001b[0m\u001b[0;34m\u001b[0m\u001b[0m\n\u001b[0;32m--> 935\u001b[0;31m             \u001b[0;32mraise\u001b[0m \u001b[0mHTTPError\u001b[0m\u001b[0;34m(\u001b[0m\u001b[0mhttp_error_msg\u001b[0m\u001b[0;34m,\u001b[0m \u001b[0mresponse\u001b[0m\u001b[0;34m=\u001b[0m\u001b[0mself\u001b[0m\u001b[0;34m)\u001b[0m\u001b[0;34m\u001b[0m\u001b[0m\n\u001b[0m\u001b[1;32m    936\u001b[0m \u001b[0;34m\u001b[0m\u001b[0m\n\u001b[1;32m    937\u001b[0m     \u001b[0;32mdef\u001b[0m \u001b[0mclose\u001b[0m\u001b[0;34m(\u001b[0m\u001b[0mself\u001b[0m\u001b[0;34m)\u001b[0m\u001b[0;34m:\u001b[0m\u001b[0;34m\u001b[0m\u001b[0m\n",
         "\u001b[0;31mHTTPError\u001b[0m: 401 Client Error: Unauthorized for url: https://testing.sysmo-db.org/assays"
        ]
       }
      ],
      "source": "WO.request()\n# HTTPError: 401 Client Error: Unauthorized for url: https://testing.sysmo-db.org/assays\n# 422 Client Error: Unprocessable Entity for url: https://testing.sysmo-db.org/assays\n# JUST ENOUGH \n\n# file version vs new file",
      "start_time": "2019-03-19T20:21:56.882Z"
     },
     {
      "end_time": "2019-03-19T21:01:01.345Z",
      "execution_time": "372ms",
      "outputs": [
       {
        "ename": "HTTPError",
        "evalue": "422 Client Error: Unprocessable Entity for url: https://testing.sysmo-db.org/assays",
        "output_type": "error",
        "traceback": [
         "\u001b[0;31m---------------------------------------------------------------------------\u001b[0m",
         "\u001b[0;31mHTTPError\u001b[0m                                 Traceback (most recent call last)",
         "\u001b[0;32m<ipython-input-4-55fcb232b75e>\u001b[0m in \u001b[0;36m<module>\u001b[0;34m()\u001b[0m\n\u001b[0;32m----> 1\u001b[0;31m \u001b[0mWO\u001b[0m\u001b[0;34m.\u001b[0m\u001b[0mrequest\u001b[0m\u001b[0;34m(\u001b[0m\u001b[0;34m)\u001b[0m\u001b[0;34m\u001b[0m\u001b[0m\n\u001b[0m\u001b[1;32m      2\u001b[0m \u001b[0;31m# HTTPError: 401 Client Error: Unauthorized for url: https://testing.sysmo-db.org/assays\u001b[0m\u001b[0;34m\u001b[0m\u001b[0;34m\u001b[0m\u001b[0m\n\u001b[1;32m      3\u001b[0m \u001b[0;31m# 422 Client Error: Unprocessable Entity for url: https://testing.sysmo-db.org/assays\u001b[0m\u001b[0;34m\u001b[0m\u001b[0;34m\u001b[0m\u001b[0m\n\u001b[1;32m      4\u001b[0m \u001b[0;31m# 401 Client Error: Unauthorized for url: https://testing.sysmo-db.org/assays\u001b[0m\u001b[0;34m\u001b[0m\u001b[0;34m\u001b[0m\u001b[0m\n\u001b[1;32m      5\u001b[0m \u001b[0;34m\u001b[0m\u001b[0m\n",
         "\u001b[0;32m~/Work/ThirdYear/Seek/TheSeekNotebook/WriteObject.py\u001b[0m in \u001b[0;36mrequest\u001b[0;34m(self)\u001b[0m\n\u001b[1;32m    116\u001b[0m     \u001b[0;32mdef\u001b[0m \u001b[0mrequest\u001b[0m\u001b[0;34m(\u001b[0m\u001b[0mself\u001b[0m\u001b[0;34m)\u001b[0m\u001b[0;34m:\u001b[0m\u001b[0;34m\u001b[0m\u001b[0m\n\u001b[1;32m    117\u001b[0m         \u001b[0mr\u001b[0m \u001b[0;34m=\u001b[0m \u001b[0mself\u001b[0m\u001b[0;34m.\u001b[0m\u001b[0msession\u001b[0m\u001b[0;34m.\u001b[0m\u001b[0mpost\u001b[0m\u001b[0;34m(\u001b[0m\u001b[0mself\u001b[0m\u001b[0;34m.\u001b[0m\u001b[0mbase_url\u001b[0m \u001b[0;34m+\u001b[0m \u001b[0;34m'/'\u001b[0m \u001b[0;34m+\u001b[0m \u001b[0mself\u001b[0m\u001b[0;34m.\u001b[0m\u001b[0mtype\u001b[0m\u001b[0;34m.\u001b[0m\u001b[0mvalue\u001b[0m\u001b[0;34m,\u001b[0m \u001b[0mjson\u001b[0m\u001b[0;34m=\u001b[0m\u001b[0mself\u001b[0m\u001b[0;34m.\u001b[0m\u001b[0mJSON\u001b[0m\u001b[0;34m)\u001b[0m\u001b[0;34m\u001b[0m\u001b[0m\n\u001b[0;32m--> 118\u001b[0;31m         \u001b[0mr\u001b[0m\u001b[0;34m.\u001b[0m\u001b[0mraise_for_status\u001b[0m\u001b[0;34m(\u001b[0m\u001b[0;34m)\u001b[0m\u001b[0;34m\u001b[0m\u001b[0m\n\u001b[0m",
         "\u001b[0;32m~/anaconda3/lib/python3.6/site-packages/requests/models.py\u001b[0m in \u001b[0;36mraise_for_status\u001b[0;34m(self)\u001b[0m\n\u001b[1;32m    933\u001b[0m \u001b[0;34m\u001b[0m\u001b[0m\n\u001b[1;32m    934\u001b[0m         \u001b[0;32mif\u001b[0m \u001b[0mhttp_error_msg\u001b[0m\u001b[0;34m:\u001b[0m\u001b[0;34m\u001b[0m\u001b[0m\n\u001b[0;32m--> 935\u001b[0;31m             \u001b[0;32mraise\u001b[0m \u001b[0mHTTPError\u001b[0m\u001b[0;34m(\u001b[0m\u001b[0mhttp_error_msg\u001b[0m\u001b[0;34m,\u001b[0m \u001b[0mresponse\u001b[0m\u001b[0;34m=\u001b[0m\u001b[0mself\u001b[0m\u001b[0;34m)\u001b[0m\u001b[0;34m\u001b[0m\u001b[0m\n\u001b[0m\u001b[1;32m    936\u001b[0m \u001b[0;34m\u001b[0m\u001b[0m\n\u001b[1;32m    937\u001b[0m     \u001b[0;32mdef\u001b[0m \u001b[0mclose\u001b[0m\u001b[0;34m(\u001b[0m\u001b[0mself\u001b[0m\u001b[0;34m)\u001b[0m\u001b[0;34m:\u001b[0m\u001b[0;34m\u001b[0m\u001b[0m\n",
         "\u001b[0;31mHTTPError\u001b[0m: 422 Client Error: Unprocessable Entity for url: https://testing.sysmo-db.org/assays"
        ]
       }
      ],
      "source": "WO.request()\n# HTTPError: 401 Client Error: Unauthorized for url: https://testing.sysmo-db.org/assays\n# 422 Client Error: Unprocessable Entity for url: https://testing.sysmo-db.org/assays\n# 401 Client Error: Unauthorized for url: https://testing.sysmo-db.org/assays\n\n# JUST ENOUGH \n\n# file version vs new file",
      "start_time": "2019-03-19T21:01:00.973Z"
     },
     {
      "end_time": "2019-03-19T21:18:09.503Z",
      "execution_time": "205ms",
      "outputs": [
       {
        "ename": "HTTPError",
        "evalue": "422 Client Error: Unprocessable Entity for url: https://testing.sysmo-db.org/assays",
        "output_type": "error",
        "traceback": [
         "\u001b[0;31m---------------------------------------------------------------------------\u001b[0m",
         "\u001b[0;31mHTTPError\u001b[0m                                 Traceback (most recent call last)",
         "\u001b[0;32m<ipython-input-7-55fcb232b75e>\u001b[0m in \u001b[0;36m<module>\u001b[0;34m()\u001b[0m\n\u001b[0;32m----> 1\u001b[0;31m \u001b[0mWO\u001b[0m\u001b[0;34m.\u001b[0m\u001b[0mrequest\u001b[0m\u001b[0;34m(\u001b[0m\u001b[0;34m)\u001b[0m\u001b[0;34m\u001b[0m\u001b[0m\n\u001b[0m\u001b[1;32m      2\u001b[0m \u001b[0;31m# HTTPError: 401 Client Error: Unauthorized for url: https://testing.sysmo-db.org/assays\u001b[0m\u001b[0;34m\u001b[0m\u001b[0;34m\u001b[0m\u001b[0m\n\u001b[1;32m      3\u001b[0m \u001b[0;31m# 422 Client Error: Unprocessable Entity for url: https://testing.sysmo-db.org/assays\u001b[0m\u001b[0;34m\u001b[0m\u001b[0;34m\u001b[0m\u001b[0m\n\u001b[1;32m      4\u001b[0m \u001b[0;31m# 401 Client Error: Unauthorized for url: https://testing.sysmo-db.org/assays\u001b[0m\u001b[0;34m\u001b[0m\u001b[0;34m\u001b[0m\u001b[0m\n\u001b[1;32m      5\u001b[0m \u001b[0;34m\u001b[0m\u001b[0m\n",
         "\u001b[0;32m~/Work/ThirdYear/Seek/TheSeekNotebook/WriteObject.py\u001b[0m in \u001b[0;36mrequest\u001b[0;34m(self)\u001b[0m\n\u001b[1;32m    116\u001b[0m     \u001b[0;32mdef\u001b[0m \u001b[0mrequest\u001b[0m\u001b[0;34m(\u001b[0m\u001b[0mself\u001b[0m\u001b[0;34m)\u001b[0m\u001b[0;34m:\u001b[0m\u001b[0;34m\u001b[0m\u001b[0m\n\u001b[1;32m    117\u001b[0m         \u001b[0mr\u001b[0m \u001b[0;34m=\u001b[0m \u001b[0mself\u001b[0m\u001b[0;34m.\u001b[0m\u001b[0msession\u001b[0m\u001b[0;34m.\u001b[0m\u001b[0mpost\u001b[0m\u001b[0;34m(\u001b[0m\u001b[0mself\u001b[0m\u001b[0;34m.\u001b[0m\u001b[0mbase_url\u001b[0m \u001b[0;34m+\u001b[0m \u001b[0;34m'/'\u001b[0m \u001b[0;34m+\u001b[0m \u001b[0mself\u001b[0m\u001b[0;34m.\u001b[0m\u001b[0mtype\u001b[0m\u001b[0;34m.\u001b[0m\u001b[0mvalue\u001b[0m\u001b[0;34m,\u001b[0m \u001b[0mjson\u001b[0m\u001b[0;34m=\u001b[0m\u001b[0mself\u001b[0m\u001b[0;34m.\u001b[0m\u001b[0mJSON\u001b[0m\u001b[0;34m)\u001b[0m\u001b[0;34m\u001b[0m\u001b[0m\n\u001b[0;32m--> 118\u001b[0;31m         \u001b[0mr\u001b[0m\u001b[0;34m.\u001b[0m\u001b[0mraise_for_status\u001b[0m\u001b[0;34m(\u001b[0m\u001b[0;34m)\u001b[0m\u001b[0;34m\u001b[0m\u001b[0m\n\u001b[0m",
         "\u001b[0;32m~/anaconda3/lib/python3.6/site-packages/requests/models.py\u001b[0m in \u001b[0;36mraise_for_status\u001b[0;34m(self)\u001b[0m\n\u001b[1;32m    933\u001b[0m \u001b[0;34m\u001b[0m\u001b[0m\n\u001b[1;32m    934\u001b[0m         \u001b[0;32mif\u001b[0m \u001b[0mhttp_error_msg\u001b[0m\u001b[0;34m:\u001b[0m\u001b[0;34m\u001b[0m\u001b[0m\n\u001b[0;32m--> 935\u001b[0;31m             \u001b[0;32mraise\u001b[0m \u001b[0mHTTPError\u001b[0m\u001b[0;34m(\u001b[0m\u001b[0mhttp_error_msg\u001b[0m\u001b[0;34m,\u001b[0m \u001b[0mresponse\u001b[0m\u001b[0;34m=\u001b[0m\u001b[0mself\u001b[0m\u001b[0;34m)\u001b[0m\u001b[0;34m\u001b[0m\u001b[0m\n\u001b[0m\u001b[1;32m    936\u001b[0m \u001b[0;34m\u001b[0m\u001b[0m\n\u001b[1;32m    937\u001b[0m     \u001b[0;32mdef\u001b[0m \u001b[0mclose\u001b[0m\u001b[0;34m(\u001b[0m\u001b[0mself\u001b[0m\u001b[0;34m)\u001b[0m\u001b[0;34m:\u001b[0m\u001b[0;34m\u001b[0m\u001b[0m\n",
         "\u001b[0;31mHTTPError\u001b[0m: 422 Client Error: Unprocessable Entity for url: https://testing.sysmo-db.org/assays"
        ]
       }
      ],
      "source": "WO.request()\n# HTTPError: 401 Client Error: Unauthorized for url: https://testing.sysmo-db.org/assays\n# 422 Client Error: Unprocessable Entity for url: https://testing.sysmo-db.org/assays\n# 401 Client Error: Unauthorized for url: https://testing.sysmo-db.org/assays\n\n# JUST ENOUGH \n\n# file version vs new file",
      "start_time": "2019-03-19T21:18:09.298Z"
     },
     {
      "end_time": "2019-03-19T21:27:44.348Z",
      "execution_time": "193ms",
      "outputs": [
       {
        "ename": "HTTPError",
        "evalue": "422 Client Error: Unprocessable Entity for url: https://testing.sysmo-db.org/assays",
        "output_type": "error",
        "traceback": [
         "\u001b[0;31m---------------------------------------------------------------------------\u001b[0m",
         "\u001b[0;31mHTTPError\u001b[0m                                 Traceback (most recent call last)",
         "\u001b[0;32m<ipython-input-5-55fcb232b75e>\u001b[0m in \u001b[0;36m<module>\u001b[0;34m()\u001b[0m\n\u001b[0;32m----> 1\u001b[0;31m \u001b[0mWO\u001b[0m\u001b[0;34m.\u001b[0m\u001b[0mrequest\u001b[0m\u001b[0;34m(\u001b[0m\u001b[0;34m)\u001b[0m\u001b[0;34m\u001b[0m\u001b[0m\n\u001b[0m\u001b[1;32m      2\u001b[0m \u001b[0;31m# HTTPError: 401 Client Error: Unauthorized for url: https://testing.sysmo-db.org/assays\u001b[0m\u001b[0;34m\u001b[0m\u001b[0;34m\u001b[0m\u001b[0m\n\u001b[1;32m      3\u001b[0m \u001b[0;31m# 422 Client Error: Unprocessable Entity for url: https://testing.sysmo-db.org/assays\u001b[0m\u001b[0;34m\u001b[0m\u001b[0;34m\u001b[0m\u001b[0m\n\u001b[1;32m      4\u001b[0m \u001b[0;31m# 401 Client Error: Unauthorized for url: https://testing.sysmo-db.org/assays\u001b[0m\u001b[0;34m\u001b[0m\u001b[0;34m\u001b[0m\u001b[0m\n\u001b[1;32m      5\u001b[0m \u001b[0;34m\u001b[0m\u001b[0m\n",
         "\u001b[0;32m~/Work/ThirdYear/Seek/TheSeekNotebook/WriteObject.py\u001b[0m in \u001b[0;36mrequest\u001b[0;34m(self)\u001b[0m\n\u001b[1;32m    116\u001b[0m     \u001b[0;32mdef\u001b[0m \u001b[0mrequest\u001b[0m\u001b[0;34m(\u001b[0m\u001b[0mself\u001b[0m\u001b[0;34m)\u001b[0m\u001b[0;34m:\u001b[0m\u001b[0;34m\u001b[0m\u001b[0m\n\u001b[1;32m    117\u001b[0m         \u001b[0mr\u001b[0m \u001b[0;34m=\u001b[0m \u001b[0mself\u001b[0m\u001b[0;34m.\u001b[0m\u001b[0msession\u001b[0m\u001b[0;34m.\u001b[0m\u001b[0mpost\u001b[0m\u001b[0;34m(\u001b[0m\u001b[0mself\u001b[0m\u001b[0;34m.\u001b[0m\u001b[0mbase_url\u001b[0m \u001b[0;34m+\u001b[0m \u001b[0;34m'/'\u001b[0m \u001b[0;34m+\u001b[0m \u001b[0mself\u001b[0m\u001b[0;34m.\u001b[0m\u001b[0mtype\u001b[0m\u001b[0;34m.\u001b[0m\u001b[0mvalue\u001b[0m\u001b[0;34m,\u001b[0m \u001b[0mjson\u001b[0m\u001b[0;34m=\u001b[0m\u001b[0mself\u001b[0m\u001b[0;34m.\u001b[0m\u001b[0mJSON\u001b[0m\u001b[0;34m)\u001b[0m\u001b[0;34m\u001b[0m\u001b[0m\n\u001b[0;32m--> 118\u001b[0;31m         \u001b[0mr\u001b[0m\u001b[0;34m.\u001b[0m\u001b[0mraise_for_status\u001b[0m\u001b[0;34m(\u001b[0m\u001b[0;34m)\u001b[0m\u001b[0;34m\u001b[0m\u001b[0m\n\u001b[0m",
         "\u001b[0;32m~/anaconda3/lib/python3.6/site-packages/requests/models.py\u001b[0m in \u001b[0;36mraise_for_status\u001b[0;34m(self)\u001b[0m\n\u001b[1;32m    933\u001b[0m \u001b[0;34m\u001b[0m\u001b[0m\n\u001b[1;32m    934\u001b[0m         \u001b[0;32mif\u001b[0m \u001b[0mhttp_error_msg\u001b[0m\u001b[0;34m:\u001b[0m\u001b[0;34m\u001b[0m\u001b[0m\n\u001b[0;32m--> 935\u001b[0;31m             \u001b[0;32mraise\u001b[0m \u001b[0mHTTPError\u001b[0m\u001b[0;34m(\u001b[0m\u001b[0mhttp_error_msg\u001b[0m\u001b[0;34m,\u001b[0m \u001b[0mresponse\u001b[0m\u001b[0;34m=\u001b[0m\u001b[0mself\u001b[0m\u001b[0;34m)\u001b[0m\u001b[0;34m\u001b[0m\u001b[0m\n\u001b[0m\u001b[1;32m    936\u001b[0m \u001b[0;34m\u001b[0m\u001b[0m\n\u001b[1;32m    937\u001b[0m     \u001b[0;32mdef\u001b[0m \u001b[0mclose\u001b[0m\u001b[0;34m(\u001b[0m\u001b[0mself\u001b[0m\u001b[0;34m)\u001b[0m\u001b[0;34m:\u001b[0m\u001b[0;34m\u001b[0m\u001b[0m\n",
         "\u001b[0;31mHTTPError\u001b[0m: 422 Client Error: Unprocessable Entity for url: https://testing.sysmo-db.org/assays"
        ]
       }
      ],
      "source": "WO.request()\n# HTTPError: 401 Client Error: Unauthorized for url: https://testing.sysmo-db.org/assays\n# 422 Client Error: Unprocessable Entity for url: https://testing.sysmo-db.org/assays\n# 401 Client Error: Unauthorized for url: https://testing.sysmo-db.org/assays\n\n# JUST ENOUGH \n\n# file version vs new file",
      "start_time": "2019-03-19T21:27:44.155Z"
     }
    ]
   },
   "outputs": [
    {
     "ename": "HTTPError",
     "evalue": "422 Client Error: Unprocessable Entity for url: https://testing.sysmo-db.org/assays",
     "output_type": "error",
     "traceback": [
      "\u001b[0;31m---------------------------------------------------------------------------\u001b[0m",
      "\u001b[0;31mHTTPError\u001b[0m                                 Traceback (most recent call last)",
      "\u001b[0;32m<ipython-input-5-55fcb232b75e>\u001b[0m in \u001b[0;36m<module>\u001b[0;34m()\u001b[0m\n\u001b[0;32m----> 1\u001b[0;31m \u001b[0mWO\u001b[0m\u001b[0;34m.\u001b[0m\u001b[0mrequest\u001b[0m\u001b[0;34m(\u001b[0m\u001b[0;34m)\u001b[0m\u001b[0;34m\u001b[0m\u001b[0m\n\u001b[0m\u001b[1;32m      2\u001b[0m \u001b[0;31m# HTTPError: 401 Client Error: Unauthorized for url: https://testing.sysmo-db.org/assays\u001b[0m\u001b[0;34m\u001b[0m\u001b[0;34m\u001b[0m\u001b[0m\n\u001b[1;32m      3\u001b[0m \u001b[0;31m# 422 Client Error: Unprocessable Entity for url: https://testing.sysmo-db.org/assays\u001b[0m\u001b[0;34m\u001b[0m\u001b[0;34m\u001b[0m\u001b[0m\n\u001b[1;32m      4\u001b[0m \u001b[0;31m# 401 Client Error: Unauthorized for url: https://testing.sysmo-db.org/assays\u001b[0m\u001b[0;34m\u001b[0m\u001b[0;34m\u001b[0m\u001b[0m\n\u001b[1;32m      5\u001b[0m \u001b[0;34m\u001b[0m\u001b[0m\n",
      "\u001b[0;32m~/Work/ThirdYear/Seek/TheSeekNotebook/WriteObject.py\u001b[0m in \u001b[0;36mrequest\u001b[0;34m(self)\u001b[0m\n\u001b[1;32m    116\u001b[0m     \u001b[0;32mdef\u001b[0m \u001b[0mrequest\u001b[0m\u001b[0;34m(\u001b[0m\u001b[0mself\u001b[0m\u001b[0;34m)\u001b[0m\u001b[0;34m:\u001b[0m\u001b[0;34m\u001b[0m\u001b[0m\n\u001b[1;32m    117\u001b[0m         \u001b[0mr\u001b[0m \u001b[0;34m=\u001b[0m \u001b[0mself\u001b[0m\u001b[0;34m.\u001b[0m\u001b[0msession\u001b[0m\u001b[0;34m.\u001b[0m\u001b[0mpost\u001b[0m\u001b[0;34m(\u001b[0m\u001b[0mself\u001b[0m\u001b[0;34m.\u001b[0m\u001b[0mbase_url\u001b[0m \u001b[0;34m+\u001b[0m \u001b[0;34m'/'\u001b[0m \u001b[0;34m+\u001b[0m \u001b[0mself\u001b[0m\u001b[0;34m.\u001b[0m\u001b[0mtype\u001b[0m\u001b[0;34m.\u001b[0m\u001b[0mvalue\u001b[0m\u001b[0;34m,\u001b[0m \u001b[0mjson\u001b[0m\u001b[0;34m=\u001b[0m\u001b[0mself\u001b[0m\u001b[0;34m.\u001b[0m\u001b[0mJSON\u001b[0m\u001b[0;34m)\u001b[0m\u001b[0;34m\u001b[0m\u001b[0m\n\u001b[0;32m--> 118\u001b[0;31m         \u001b[0mr\u001b[0m\u001b[0;34m.\u001b[0m\u001b[0mraise_for_status\u001b[0m\u001b[0;34m(\u001b[0m\u001b[0;34m)\u001b[0m\u001b[0;34m\u001b[0m\u001b[0m\n\u001b[0m",
      "\u001b[0;32m~/anaconda3/lib/python3.6/site-packages/requests/models.py\u001b[0m in \u001b[0;36mraise_for_status\u001b[0;34m(self)\u001b[0m\n\u001b[1;32m    933\u001b[0m \u001b[0;34m\u001b[0m\u001b[0m\n\u001b[1;32m    934\u001b[0m         \u001b[0;32mif\u001b[0m \u001b[0mhttp_error_msg\u001b[0m\u001b[0;34m:\u001b[0m\u001b[0;34m\u001b[0m\u001b[0m\n\u001b[0;32m--> 935\u001b[0;31m             \u001b[0;32mraise\u001b[0m \u001b[0mHTTPError\u001b[0m\u001b[0;34m(\u001b[0m\u001b[0mhttp_error_msg\u001b[0m\u001b[0;34m,\u001b[0m \u001b[0mresponse\u001b[0m\u001b[0;34m=\u001b[0m\u001b[0mself\u001b[0m\u001b[0;34m)\u001b[0m\u001b[0;34m\u001b[0m\u001b[0m\n\u001b[0m\u001b[1;32m    936\u001b[0m \u001b[0;34m\u001b[0m\u001b[0m\n\u001b[1;32m    937\u001b[0m     \u001b[0;32mdef\u001b[0m \u001b[0mclose\u001b[0m\u001b[0;34m(\u001b[0m\u001b[0mself\u001b[0m\u001b[0;34m)\u001b[0m\u001b[0;34m:\u001b[0m\u001b[0;34m\u001b[0m\u001b[0m\n",
      "\u001b[0;31mHTTPError\u001b[0m: 422 Client Error: Unprocessable Entity for url: https://testing.sysmo-db.org/assays"
     ]
    }
   ],
   "source": [
    "WO.request()\n",
    "# HTTPError: 401 Client Error: Unauthorized for url: https://testing.sysmo-db.org/assays\n",
    "# 422 Client Error: Unprocessable Entity for url: https://testing.sysmo-db.org/assays\n",
    "# 401 Client Error: Unauthorized for url: https://testing.sysmo-db.org/assays\n",
    "\n",
    "# JUST ENOUGH \n",
    "\n",
    "# file version vs new file"
   ]
  },
  {
   "cell_type": "code",
   "execution_count": 4,
   "metadata": {
    "ExecutionTime": {
     "end_time": "2019-03-19T21:27:41.582849Z",
     "start_time": "2019-03-19T21:27:41.572251Z"
    },
    "provenance": [
     {
      "end_time": "2019-03-19T21:21:15.662Z",
      "execution_time": "15ms",
      "outputs": [
       {
        "data": {
         "text/plain": "'{\\n  \"data\": {\\n    \"type\": \"assays\",\\n    \"attributes\": {\\n      \"title\": \"A Maximal experimental Assay\",\\n      \"assay_class\": {\\n        \"key\": \"EXP\"\\n      },\\n      \"assay_type\": {\\n        \"uri\": \"http://www.mygrid.org.uk/ontology/JERMOntology#Transcriptomics\"\\n      },\\n      \"technology_type\": {\\n        \"uri\": \"http://www.mygrid.org.uk/ontology/JERMOntology#RNA-Seq\"\\n      },\\n      \"other_creators\": \"Anonymous creator\",\\n      \"description\": \"A Western Blot Assay\",\\n      \"policy\": {\\n        \"access\": \"download\",\\n        \"permissions\": [\\n          {\\n            \"resource\": {\\n              \"id\": \"442\",\\n              \"type\": \"projects\"\\n            },\\n            \"access\": \"manage\"\\n          }\\n        ]\\n      }\\n    },\\n    \"relationships\": {\\n      \"study\": {\\n        \"data\": {\\n          \"id\": \"66\",\\n          \"type\": \"studies\"\\n        }\\n      },\\n      \"publications\": {\\n        \"data\": [\\n          {\\n            \"id\": \"16\",\\n            \"type\": \"publications\"\\n          }\\n        ]\\n      },\\n      \"organisms\": {\\n        \"data\": [\\n          {\\n            \"id\": \"3\",\\n            \"type\": \"organisms\"\\n          }\\n        ]\\n      },\\n      \"sops\": {\\n        \"data\": [\\n          {\\n            \"id\": \"4\",\\n            \"type\": \"sops\"\\n          }\\n        ]\\n      },\\n      \"models\": {\\n        \"data\": [\\n          {\\n            \"id\": \"5\",\\n            \"type\": \"models\"\\n          }\\n        ]\\n      },\\n      \"data_files\": {\\n        \"data\": [\\n          {\\n            \"id\": \"16\",\\n            \"type\": \"data_files\"\\n          }\\n        ]\\n      },\\n      \"documents\": {\\n        \"data\": [\\n          {\\n            \"id\": \"32\",\\n            \"type\": \"documents\"\\n          }\\n        ]\\n      },\\n      \"creators\": {\\n        \"data\": [\\n          {\\n            \"id\": \"287\",\\n            \"type\": \"people\"\\n          }\\n        ]\\n      }\\n    }\\n  }\\n}'"
        },
        "execution_count": 10,
        "metadata": {},
        "output_type": "execute_result"
       }
      ],
      "source": "WO.JSON",
      "start_time": "2019-03-19T21:21:15.647Z"
     },
     {
      "end_time": "2019-03-19T21:27:41.582Z",
      "execution_time": "10ms",
      "outputs": [
       {
        "data": {
         "text/plain": "'{\\n  \"data\": {\\n    \"type\": \"assays\",\\n    \"attributes\": {\\n      \"title\": \"A Maximal experimental Assay\",\\n      \"assay_class\": {\\n        \"key\": \"EXP\"\\n      },\\n      \"assay_type\": {\\n        \"uri\": \"http://www.mygrid.org.uk/ontology/JERMOntology#Transcriptomics\"\\n      },\\n      \"technology_type\": {\\n        \"uri\": \"http://www.mygrid.org.uk/ontology/JERMOntology#RNA-Seq\"\\n      },\\n      \"other_creators\": \"Anonymous creator\",\\n      \"description\": \"A Western Blot Assay\",\\n      \"policy\": {\\n        \"access\": \"download\",\\n        \"permissions\": [\\n          {\\n            \"resource\": {\\n              \"id\": \"442\",\\n              \"type\": \"projects\"\\n            },\\n            \"access\": \"manage\"\\n          }\\n        ]\\n      }\\n    },\\n    \"relationships\": {\\n      \"study\": {\\n        \"data\": {\\n          \"id\": \"66\",\\n          \"type\": \"studies\"\\n        }\\n      },\\n      \"publications\": {\\n        \"data\": [\\n          {\\n            \"id\": \"16\",\\n            \"type\": \"publications\"\\n          }\\n        ]\\n      },\\n      \"organisms\": {\\n        \"data\": [\\n          {\\n            \"id\": \"3\",\\n            \"type\": \"organisms\"\\n          }\\n        ]\\n      },\\n      \"sops\": {\\n        \"data\": [\\n          {\\n            \"id\": \"4\",\\n            \"type\": \"sops\"\\n          }\\n        ]\\n      },\\n      \"models\": {\\n        \"data\": [\\n          {\\n            \"id\": \"5\",\\n            \"type\": \"models\"\\n          }\\n        ]\\n      },\\n      \"data_files\": {\\n        \"data\": [\\n          {\\n            \"id\": \"16\",\\n            \"type\": \"data_files\"\\n          }\\n        ]\\n      },\\n      \"documents\": {\\n        \"data\": [\\n          {\\n            \"id\": \"32\",\\n            \"type\": \"documents\"\\n          }\\n        ]\\n      },\\n      \"creators\": {\\n        \"data\": [\\n          {\\n            \"id\": \"287\",\\n            \"type\": \"people\"\\n          }\\n        ]\\n      }\\n    }\\n  }\\n}'"
        },
        "execution_count": 4,
        "metadata": {},
        "output_type": "execute_result"
       }
      ],
      "source": "WO.JSON",
      "start_time": "2019-03-19T21:27:41.572Z"
     }
    ]
   },
   "outputs": [
    {
     "data": {
      "text/plain": [
       "'{\\n  \"data\": {\\n    \"type\": \"assays\",\\n    \"attributes\": {\\n      \"title\": \"A Maximal experimental Assay\",\\n      \"assay_class\": {\\n        \"key\": \"EXP\"\\n      },\\n      \"assay_type\": {\\n        \"uri\": \"http://www.mygrid.org.uk/ontology/JERMOntology#Transcriptomics\"\\n      },\\n      \"technology_type\": {\\n        \"uri\": \"http://www.mygrid.org.uk/ontology/JERMOntology#RNA-Seq\"\\n      },\\n      \"other_creators\": \"Anonymous creator\",\\n      \"description\": \"A Western Blot Assay\",\\n      \"policy\": {\\n        \"access\": \"download\",\\n        \"permissions\": [\\n          {\\n            \"resource\": {\\n              \"id\": \"442\",\\n              \"type\": \"projects\"\\n            },\\n            \"access\": \"manage\"\\n          }\\n        ]\\n      }\\n    },\\n    \"relationships\": {\\n      \"study\": {\\n        \"data\": {\\n          \"id\": \"66\",\\n          \"type\": \"studies\"\\n        }\\n      },\\n      \"publications\": {\\n        \"data\": [\\n          {\\n            \"id\": \"16\",\\n            \"type\": \"publications\"\\n          }\\n        ]\\n      },\\n      \"organisms\": {\\n        \"data\": [\\n          {\\n            \"id\": \"3\",\\n            \"type\": \"organisms\"\\n          }\\n        ]\\n      },\\n      \"sops\": {\\n        \"data\": [\\n          {\\n            \"id\": \"4\",\\n            \"type\": \"sops\"\\n          }\\n        ]\\n      },\\n      \"models\": {\\n        \"data\": [\\n          {\\n            \"id\": \"5\",\\n            \"type\": \"models\"\\n          }\\n        ]\\n      },\\n      \"data_files\": {\\n        \"data\": [\\n          {\\n            \"id\": \"16\",\\n            \"type\": \"data_files\"\\n          }\\n        ]\\n      },\\n      \"documents\": {\\n        \"data\": [\\n          {\\n            \"id\": \"32\",\\n            \"type\": \"documents\"\\n          }\\n        ]\\n      },\\n      \"creators\": {\\n        \"data\": [\\n          {\\n            \"id\": \"287\",\\n            \"type\": \"people\"\\n          }\\n        ]\\n      }\\n    }\\n  }\\n}'"
      ]
     },
     "execution_count": 4,
     "metadata": {},
     "output_type": "execute_result"
    }
   ],
   "source": [
    "WO.JSON"
   ]
  },
  {
   "cell_type": "code",
   "execution_count": null,
   "metadata": {
    "ExecutionTime": {
     "end_time": "2019-03-19T21:25:09.642257Z",
     "start_time": "2019-03-19T21:25:09.486460Z"
    },
    "provenance": [
     {
      "end_time": "2019-03-19T21:19:43.373Z",
      "execution_time": "10ms",
      "outputs": [
       {
        "ename": "AttributeError",
        "evalue": "'WriteObject' object has no attribute 'json'",
        "output_type": "error",
        "traceback": [
         "\u001b[0;31m---------------------------------------------------------------------------\u001b[0m",
         "\u001b[0;31mAttributeError\u001b[0m                            Traceback (most recent call last)",
         "\u001b[0;32m<ipython-input-8-e3eb1449a5af>\u001b[0m in \u001b[0;36m<module>\u001b[0;34m()\u001b[0m\n\u001b[0;32m----> 1\u001b[0;31m \u001b[0mWO\u001b[0m\u001b[0;34m.\u001b[0m\u001b[0mjson\u001b[0m\u001b[0;34m(\u001b[0m\u001b[0;34m)\u001b[0m\u001b[0;34m\u001b[0m\u001b[0m\n\u001b[0m",
         "\u001b[0;31mAttributeError\u001b[0m: 'WriteObject' object has no attribute 'json'"
        ]
       }
      ],
      "source": "WO.json()",
      "start_time": "2019-03-19T21:19:43.363Z"
     },
     {
      "end_time": "2019-03-19T21:20:31.962Z",
      "execution_time": "3ms",
      "outputs": [
       {
        "data": {
         "text/plain": "'https://testing.sysmo-db.org'"
        },
        "execution_count": 9,
        "metadata": {},
        "output_type": "execute_result"
       }
      ],
      "source": "WO.base_url",
      "start_time": "2019-03-19T21:20:31.959Z"
     },
     {
      "end_time": "2019-03-19T21:21:24.695Z",
      "execution_time": "176ms",
      "outputs": [
       {
        "data": {
         "text/plain": "<Response [422]>"
        },
        "execution_count": 11,
        "metadata": {},
        "output_type": "execute_result"
       }
      ],
      "source": "WO.session.post(WO.base_url + '/' + WO.type.value, json=WO.JSON)",
      "start_time": "2019-03-19T21:21:24.519Z"
     },
     {
      "end_time": "2019-03-19T21:21:35.742Z",
      "execution_time": "163ms",
      "outputs": [
       {
        "ename": "AttributeError",
        "evalue": "'WriteObject' object has no attribute 'json'",
        "output_type": "error",
        "traceback": [
         "\u001b[0;31m---------------------------------------------------------------------------\u001b[0m",
         "\u001b[0;31mAttributeError\u001b[0m                            Traceback (most recent call last)",
         "\u001b[0;32m<ipython-input-12-b18782fa312b>\u001b[0m in \u001b[0;36m<module>\u001b[0;34m()\u001b[0m\n\u001b[1;32m      1\u001b[0m \u001b[0mWO\u001b[0m\u001b[0;34m.\u001b[0m\u001b[0msession\u001b[0m\u001b[0;34m.\u001b[0m\u001b[0mpost\u001b[0m\u001b[0;34m(\u001b[0m\u001b[0mWO\u001b[0m\u001b[0;34m.\u001b[0m\u001b[0mbase_url\u001b[0m \u001b[0;34m+\u001b[0m \u001b[0;34m'/'\u001b[0m \u001b[0;34m+\u001b[0m \u001b[0mWO\u001b[0m\u001b[0;34m.\u001b[0m\u001b[0mtype\u001b[0m\u001b[0;34m.\u001b[0m\u001b[0mvalue\u001b[0m\u001b[0;34m,\u001b[0m \u001b[0mjson\u001b[0m\u001b[0;34m=\u001b[0m\u001b[0mWO\u001b[0m\u001b[0;34m.\u001b[0m\u001b[0mJSON\u001b[0m\u001b[0;34m)\u001b[0m\u001b[0;34m\u001b[0m\u001b[0m\n\u001b[0;32m----> 2\u001b[0;31m \u001b[0mWO\u001b[0m\u001b[0;34m.\u001b[0m\u001b[0mjson\u001b[0m\u001b[0;34m(\u001b[0m\u001b[0;34m)\u001b[0m\u001b[0;34m\u001b[0m\u001b[0m\n\u001b[0m",
         "\u001b[0;31mAttributeError\u001b[0m: 'WriteObject' object has no attribute 'json'"
        ]
       }
      ],
      "source": "WO.session.post(WO.base_url + '/' + WO.type.value, json=WO.JSON)\nWO.json()",
      "start_time": "2019-03-19T21:21:35.579Z"
     },
     {
      "end_time": "2019-03-19T21:21:40.830Z",
      "execution_time": "216ms",
      "outputs": [
       {
        "ename": "AttributeError",
        "evalue": "'Session' object has no attribute 'json'",
        "output_type": "error",
        "traceback": [
         "\u001b[0;31m---------------------------------------------------------------------------\u001b[0m",
         "\u001b[0;31mAttributeError\u001b[0m                            Traceback (most recent call last)",
         "\u001b[0;32m<ipython-input-13-ed75b00a0aef>\u001b[0m in \u001b[0;36m<module>\u001b[0;34m()\u001b[0m\n\u001b[1;32m      1\u001b[0m \u001b[0mWO\u001b[0m\u001b[0;34m.\u001b[0m\u001b[0msession\u001b[0m\u001b[0;34m.\u001b[0m\u001b[0mpost\u001b[0m\u001b[0;34m(\u001b[0m\u001b[0mWO\u001b[0m\u001b[0;34m.\u001b[0m\u001b[0mbase_url\u001b[0m \u001b[0;34m+\u001b[0m \u001b[0;34m'/'\u001b[0m \u001b[0;34m+\u001b[0m \u001b[0mWO\u001b[0m\u001b[0;34m.\u001b[0m\u001b[0mtype\u001b[0m\u001b[0;34m.\u001b[0m\u001b[0mvalue\u001b[0m\u001b[0;34m,\u001b[0m \u001b[0mjson\u001b[0m\u001b[0;34m=\u001b[0m\u001b[0mWO\u001b[0m\u001b[0;34m.\u001b[0m\u001b[0mJSON\u001b[0m\u001b[0;34m)\u001b[0m\u001b[0;34m\u001b[0m\u001b[0m\n\u001b[0;32m----> 2\u001b[0;31m \u001b[0mWO\u001b[0m\u001b[0;34m.\u001b[0m\u001b[0msession\u001b[0m\u001b[0;34m.\u001b[0m\u001b[0mjson\u001b[0m\u001b[0;34m(\u001b[0m\u001b[0;34m)\u001b[0m\u001b[0;34m\u001b[0m\u001b[0m\n\u001b[0m",
         "\u001b[0;31mAttributeError\u001b[0m: 'Session' object has no attribute 'json'"
        ]
       }
      ],
      "source": "WO.session.post(WO.base_url + '/' + WO.type.value, json=WO.JSON)\nWO.session.json()",
      "start_time": "2019-03-19T21:21:40.614Z"
     },
     {
      "end_time": "2019-03-19T21:22:01.202Z",
      "execution_time": "153ms",
      "outputs": [
       {
        "data": {
         "text/plain": "{'errors': [{'detail': 'A POST/PUT request must have a data record complying with JSONAPI specs'}]}"
        },
        "execution_count": 14,
        "metadata": {},
        "output_type": "execute_result"
       }
      ],
      "source": "x = WO.session.post(WO.base_url + '/' + WO.type.value, json=WO.JSON)\nx.json()",
      "start_time": "2019-03-19T21:22:01.049Z"
     },
     {
      "end_time": "2019-03-19T21:24:47.762Z",
      "execution_time": "155ms",
      "outputs": [],
      "source": "x = WO.session.post(WO.base_url + '/' + WO.type.value, json=WO.JSON)\n# x.json()",
      "start_time": "2019-03-19T21:24:47.607Z"
     },
     {
      "end_time": "2019-03-19T21:25:02.051Z",
      "execution_time": "159ms",
      "outputs": [],
      "source": "x = WO.session.post(WO.base_url + '/' + WO.type.value, json=WO.JSON)\n# x.json()x",
      "start_time": "2019-03-19T21:25:01.892Z"
     },
     {
      "end_time": "2019-03-19T21:25:04.226Z",
      "execution_time": "169ms",
      "outputs": [
       {
        "data": {
         "text/plain": "<Response [422]>"
        },
        "execution_count": 17,
        "metadata": {},
        "output_type": "execute_result"
       }
      ],
      "source": "x = WO.session.post(WO.base_url + '/' + WO.type.value, json=WO.JSON)\n# x.json()xx\nx",
      "start_time": "2019-03-19T21:25:04.057Z"
     },
     {
      "end_time": "2019-03-19T21:25:09.642Z",
      "execution_time": "156ms",
      "outputs": [
       {
        "data": {
         "text/plain": "<Response [422]>"
        },
        "execution_count": 18,
        "metadata": {},
        "output_type": "execute_result"
       }
      ],
      "source": "WO.session.post(WO.base_url + '/' + WO.type.value, json=WO.JSON)\n# x.json()xx\n",
      "start_time": "2019-03-19T21:25:09.486Z"
     }
    ]
   },
   "outputs": [],
   "source": [
    "WO.session.post(WO.base_url + '/' + WO.type.value, json=WO.JSON)\n",
    "# x.json()xx\n"
   ]
  }
 ],
 "metadata": {
  "kernelspec": {
   "display_name": "Python 3",
   "language": "python",
   "name": "python3"
  },
  "language_info": {
   "codemirror_mode": {
    "name": "ipython",
    "version": 3
   },
   "file_extension": ".py",
   "mimetype": "text/x-python",
   "name": "python",
   "nbconvert_exporter": "python",
   "pygments_lexer": "ipython3",
   "version": "3.6.5"
  }
 },
 "nbformat": 4,
 "nbformat_minor": 2
}
