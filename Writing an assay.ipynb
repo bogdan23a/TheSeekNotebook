{
 "cells": [
  {
   "cell_type": "code",
   "execution_count": 1,
   "metadata": {
    "ExecutionTime": {
     "end_time": "2019-03-25T12:43:15.925338Z",
     "start_time": "2019-03-25T12:43:10.828949Z"
    },
    "provenance": [
     {
      "end_time": "Unknown",
      "execution_time": "Unknown",
      "outputs": [],
      "source": "",
      "start_time": "Unknown"
     },
     {
      "end_time": "2019-03-15T11:08:11.717Z",
      "execution_time": "9.45s",
      "outputs": [
       {
        "name": "stdout",
        "output_type": "stream",
        "text": "Please enter the name for the investigation: dada\n"
       },
       {
        "ename": "NameError",
        "evalue": "name 'containing_project_id' is not defined",
        "output_type": "error",
        "traceback": [
         "\u001b[0;31m---------------------------------------------------------------------------\u001b[0m",
         "\u001b[0;31mNameError\u001b[0m                                 Traceback (most recent call last)",
         "\u001b[0;32m<ipython-input-1-8f0274c1b3e2>\u001b[0m in \u001b[0;36m<module>\u001b[0;34m()\u001b[0m\n\u001b[1;32m      6\u001b[0m \u001b[0minvestigation\u001b[0m\u001b[0;34m[\u001b[0m\u001b[0;34m'data'\u001b[0m\u001b[0;34m]\u001b[0m\u001b[0;34m[\u001b[0m\u001b[0;34m'relationships'\u001b[0m\u001b[0;34m]\u001b[0m \u001b[0;34m=\u001b[0m \u001b[0;34m{\u001b[0m\u001b[0;34m}\u001b[0m\u001b[0;34m\u001b[0m\u001b[0m\n\u001b[1;32m      7\u001b[0m \u001b[0minvestigation\u001b[0m\u001b[0;34m[\u001b[0m\u001b[0;34m'data'\u001b[0m\u001b[0;34m]\u001b[0m\u001b[0;34m[\u001b[0m\u001b[0;34m'relationships'\u001b[0m\u001b[0;34m]\u001b[0m\u001b[0;34m[\u001b[0m\u001b[0;34m'projects'\u001b[0m\u001b[0;34m]\u001b[0m \u001b[0;34m=\u001b[0m \u001b[0;34m{\u001b[0m\u001b[0;34m}\u001b[0m\u001b[0;34m\u001b[0m\u001b[0m\n\u001b[0;32m----> 8\u001b[0;31m \u001b[0minvestigation\u001b[0m\u001b[0;34m[\u001b[0m\u001b[0;34m'data'\u001b[0m\u001b[0;34m]\u001b[0m\u001b[0;34m[\u001b[0m\u001b[0;34m'relationships'\u001b[0m\u001b[0;34m]\u001b[0m\u001b[0;34m[\u001b[0m\u001b[0;34m'projects'\u001b[0m\u001b[0;34m]\u001b[0m\u001b[0;34m[\u001b[0m\u001b[0;34m'data'\u001b[0m\u001b[0;34m]\u001b[0m \u001b[0;34m=\u001b[0m \u001b[0;34m[\u001b[0m\u001b[0;34m{\u001b[0m\u001b[0;34m'id'\u001b[0m \u001b[0;34m:\u001b[0m \u001b[0mcontaining_project_id\u001b[0m\u001b[0;34m,\u001b[0m \u001b[0;34m'type'\u001b[0m \u001b[0;34m:\u001b[0m \u001b[0;34m'projects'\u001b[0m\u001b[0;34m}\u001b[0m\u001b[0;34m]\u001b[0m\u001b[0;34m\u001b[0m\u001b[0m\n\u001b[0m",
         "\u001b[0;31mNameError\u001b[0m: name 'containing_project_id' is not defined"
        ]
       }
      ],
      "source": "investigation = {}\ninvestigation['data'] = {}\ninvestigation['data']['type'] = 'investigations'\ninvestigation['data']['attributes'] = {}\ninvestigation['data']['attributes']['title'] = input('Please enter the name for the investigation: ')\ninvestigation['data']['relationships'] = {}\ninvestigation['data']['relationships']['projects'] = {}\ninvestigation['data']['relationships']['projects']['data'] = [{'id' : containing_project_id, 'type' : 'projects'}]",
      "start_time": "2019-03-15T11:08:02.269Z"
     },
     {
      "end_time": "2019-03-15T11:09:21.237Z",
      "execution_time": "6.40s",
      "outputs": [
       {
        "name": "stdout",
        "output_type": "stream",
        "text": "Please enter the name for the investigation: alabala\nPlease enter the id of the project for this investigation23\n"
       }
      ],
      "source": "investigation = {}\ninvestigation['data'] = {}\ninvestigation['data']['type'] = 'investigations'\ninvestigation['data']['attributes'] = {}\ninvestigation['data']['attributes']['title'] = input('Please enter the name for the investigation: ')\ninvestigation['data']['relationships'] = {}\ninvestigation['data']['relationships']['projects'] = {}\ninvestigation['data']['relationships']['projects']['data'] = [{'id' : input('Please enter the id of the project for this investigation'), 'type' : 'projects'}]",
      "start_time": "2019-03-15T11:09:14.836Z"
     },
     {
      "end_time": "2019-03-15T11:09:29.230Z",
      "execution_time": "3.22s",
      "outputs": [
       {
        "name": "stdout",
        "output_type": "stream",
        "text": "Please enter the name for the investigation: alabala\nPlease enter the id of the project for this investigation: 123\n"
       }
      ],
      "source": "investigation = {}\ninvestigation['data'] = {}\ninvestigation['data']['type'] = 'investigations'\ninvestigation['data']['attributes'] = {}\ninvestigation['data']['attributes']['title'] = input('Please enter the name for the investigation: ')\ninvestigation['data']['relationships'] = {}\ninvestigation['data']['relationships']['projects'] = {}\ninvestigation['data']['relationships']['projects']['data'] = [{'id' : input('Please enter the id of the project for this investigation: '), 'type' : 'projects'}]",
      "start_time": "2019-03-15T11:09:26.012Z"
     },
     {
      "end_time": "2019-03-15T11:14:24.938Z",
      "execution_time": "5ms",
      "outputs": [
       {
        "ename": "SyntaxError",
        "evalue": "invalid syntax (WriteObject.py, line 21)",
        "output_type": "error",
        "traceback": [
         "Traceback \u001b[0;36m(most recent call last)\u001b[0m:\n",
         "  File \u001b[1;32m\"/home/bogdan/anaconda3/lib/python3.6/site-packages/IPython/core/interactiveshell.py\"\u001b[0m, line \u001b[1;32m2963\u001b[0m, in \u001b[1;35mrun_code\u001b[0m\n    exec(code_obj, self.user_global_ns, self.user_ns)\n",
         "\u001b[0;36m  File \u001b[0;32m\"<ipython-input-4-cd480b0c800a>\"\u001b[0;36m, line \u001b[0;32m1\u001b[0;36m, in \u001b[0;35m<module>\u001b[0;36m\u001b[0m\n\u001b[0;31m    from WriteObject import WriteObject\u001b[0m\n",
         "\u001b[0;36m  File \u001b[0;32m\"/home/bogdan/Work/ThirdYear/Seek/TheSeekNotebook/WriteObject.py\"\u001b[0;36m, line \u001b[0;32m21\u001b[0m\n\u001b[0;31m    def\u001b[0m\n\u001b[0m        ^\u001b[0m\n\u001b[0;31mSyntaxError\u001b[0m\u001b[0;31m:\u001b[0m invalid syntax\n"
        ]
       }
      ],
      "source": "from WriteObject import WriteObject\n\nWO = WriteObject()\n\nWO.SEEKForm()",
      "start_time": "2019-03-15T11:14:24.933Z"
     },
     {
      "end_time": "2019-03-15T11:14:35.191Z",
      "execution_time": "369ms",
      "outputs": [
       {
        "ename": "ImportError",
        "evalue": "cannot import name 'WriteObject'",
        "output_type": "error",
        "traceback": [
         "\u001b[0;31m---------------------------------------------------------------------------\u001b[0m",
         "\u001b[0;31mImportError\u001b[0m                               Traceback (most recent call last)",
         "\u001b[0;32m<ipython-input-5-cd480b0c800a>\u001b[0m in \u001b[0;36m<module>\u001b[0;34m()\u001b[0m\n\u001b[0;32m----> 1\u001b[0;31m \u001b[0;32mfrom\u001b[0m \u001b[0mWriteObject\u001b[0m \u001b[0;32mimport\u001b[0m \u001b[0mWriteObject\u001b[0m\u001b[0;34m\u001b[0m\u001b[0m\n\u001b[0m\u001b[1;32m      2\u001b[0m \u001b[0;34m\u001b[0m\u001b[0m\n\u001b[1;32m      3\u001b[0m \u001b[0mWO\u001b[0m \u001b[0;34m=\u001b[0m \u001b[0mWriteObject\u001b[0m\u001b[0;34m(\u001b[0m\u001b[0;34m)\u001b[0m\u001b[0;34m\u001b[0m\u001b[0m\n\u001b[1;32m      4\u001b[0m \u001b[0;34m\u001b[0m\u001b[0m\n\u001b[1;32m      5\u001b[0m \u001b[0mWO\u001b[0m\u001b[0;34m.\u001b[0m\u001b[0mSEEKForm\u001b[0m\u001b[0;34m(\u001b[0m\u001b[0;34m)\u001b[0m\u001b[0;34m\u001b[0m\u001b[0m\n",
         "\u001b[0;31mImportError\u001b[0m: cannot import name 'WriteObject'"
        ]
       }
      ],
      "source": "from WriteObject import WriteObject\n\nWO = WriteObject()\n\nWO.SEEKForm()",
      "start_time": "2019-03-15T11:14:34.822Z"
     },
     {
      "end_time": "2019-03-15T11:14:51.721Z",
      "execution_time": "151ms",
      "outputs": [
       {
        "ename": "ImportError",
        "evalue": "cannot import name 'WriteObject'",
        "output_type": "error",
        "traceback": [
         "\u001b[0;31m---------------------------------------------------------------------------\u001b[0m",
         "\u001b[0;31mImportError\u001b[0m                               Traceback (most recent call last)",
         "\u001b[0;32m<ipython-input-1-cd480b0c800a>\u001b[0m in \u001b[0;36m<module>\u001b[0;34m()\u001b[0m\n\u001b[0;32m----> 1\u001b[0;31m \u001b[0;32mfrom\u001b[0m \u001b[0mWriteObject\u001b[0m \u001b[0;32mimport\u001b[0m \u001b[0mWriteObject\u001b[0m\u001b[0;34m\u001b[0m\u001b[0m\n\u001b[0m\u001b[1;32m      2\u001b[0m \u001b[0;34m\u001b[0m\u001b[0m\n\u001b[1;32m      3\u001b[0m \u001b[0mWO\u001b[0m \u001b[0;34m=\u001b[0m \u001b[0mWriteObject\u001b[0m\u001b[0;34m(\u001b[0m\u001b[0;34m)\u001b[0m\u001b[0;34m\u001b[0m\u001b[0m\n\u001b[1;32m      4\u001b[0m \u001b[0;34m\u001b[0m\u001b[0m\n\u001b[1;32m      5\u001b[0m \u001b[0mWO\u001b[0m\u001b[0;34m.\u001b[0m\u001b[0mSEEKForm\u001b[0m\u001b[0;34m(\u001b[0m\u001b[0;34m)\u001b[0m\u001b[0;34m\u001b[0m\u001b[0m\n",
         "\u001b[0;31mImportError\u001b[0m: cannot import name 'WriteObject'"
        ]
       }
      ],
      "source": "from WriteObject import WriteObject\n\nWO = WriteObject()\n\nWO.SEEKForm()",
      "start_time": "2019-03-15T11:14:51.570Z"
     },
     {
      "end_time": "2019-03-15T11:15:05.606Z",
      "execution_time": "19ms",
      "outputs": [
       {
        "ename": "ImportError",
        "evalue": "cannot import name 'WriteObject'",
        "output_type": "error",
        "traceback": [
         "\u001b[0;31m---------------------------------------------------------------------------\u001b[0m",
         "\u001b[0;31mImportError\u001b[0m                               Traceback (most recent call last)",
         "\u001b[0;32m<ipython-input-2-cd480b0c800a>\u001b[0m in \u001b[0;36m<module>\u001b[0;34m()\u001b[0m\n\u001b[0;32m----> 1\u001b[0;31m \u001b[0;32mfrom\u001b[0m \u001b[0mWriteObject\u001b[0m \u001b[0;32mimport\u001b[0m \u001b[0mWriteObject\u001b[0m\u001b[0;34m\u001b[0m\u001b[0m\n\u001b[0m\u001b[1;32m      2\u001b[0m \u001b[0;34m\u001b[0m\u001b[0m\n\u001b[1;32m      3\u001b[0m \u001b[0mWO\u001b[0m \u001b[0;34m=\u001b[0m \u001b[0mWriteObject\u001b[0m\u001b[0;34m(\u001b[0m\u001b[0;34m)\u001b[0m\u001b[0;34m\u001b[0m\u001b[0m\n\u001b[1;32m      4\u001b[0m \u001b[0;34m\u001b[0m\u001b[0m\n\u001b[1;32m      5\u001b[0m \u001b[0mWO\u001b[0m\u001b[0;34m.\u001b[0m\u001b[0mSEEKForm\u001b[0m\u001b[0;34m(\u001b[0m\u001b[0;34m)\u001b[0m\u001b[0;34m\u001b[0m\u001b[0m\n",
         "\u001b[0;31mImportError\u001b[0m: cannot import name 'WriteObject'"
        ]
       }
      ],
      "source": "from WriteObject import WriteObject\n\nWO = WriteObject()\n\nWO.SEEKForm()",
      "start_time": "2019-03-15T11:15:05.587Z"
     },
     {
      "end_time": "2019-03-15T11:15:15.242Z",
      "execution_time": "4.79s",
      "outputs": [
       {
        "data": {
         "text/html": "<h3>SEEK FORM</h3>",
         "text/plain": "<IPython.core.display.HTML object>"
        },
        "metadata": {},
        "output_type": "display_data",
        "transient": {}
       },
       {
        "name": "stdout",
        "output_type": "stream",
        "text": "\nThe type of object you want to upload to SEEK: investigation\nYou need to complete the following for in order to succesfully upload your information to SEEK\n"
       }
      ],
      "source": "from WriteObject import WriteObject\n\nWO = WriteObject()\n\nWO.SEEKForm()",
      "start_time": "2019-03-15T11:15:10.453Z"
     },
     {
      "end_time": "2019-03-15T11:59:52.246Z",
      "execution_time": "4.14s",
      "outputs": [
       {
        "data": {
         "text/html": "<h3>SEEK FORM</h3>",
         "text/plain": "<IPython.core.display.HTML object>"
        },
        "metadata": {},
        "output_type": "display_data",
        "transient": {}
       },
       {
        "name": "stdout",
        "output_type": "stream",
        "text": "\nThe type of object you want to upload to SEEK: da\n\nYou need to complete the following for in order to succesfully upload your information to SEEK\n"
       }
      ],
      "source": "from WriteObject import WriteObject\n\nWO = WriteObject()\n\nWO.SEEKForm()",
      "start_time": "2019-03-15T11:59:48.103Z"
     },
     {
      "end_time": "2019-03-15T12:04:58.709Z",
      "execution_time": "2.12s",
      "outputs": [
       {
        "data": {
         "text/html": "<h3>SEEK FORM</h3>",
         "text/plain": "<IPython.core.display.HTML object>"
        },
        "metadata": {},
        "output_type": "display_data",
        "transient": {}
       },
       {
        "name": "stdout",
        "output_type": "stream",
        "text": "\nThe type of object you want to upload to SEEK: as\n\nYou need to complete the following for in order to succesfully upload your information to SEEK\n"
       }
      ],
      "source": "from WriteObject import WriteObject\n\nWO = WriteObject()\n\nWO.SEEKForm()",
      "start_time": "2019-03-15T12:04:56.593Z"
     },
     {
      "end_time": "2019-03-15T12:09:18.334Z",
      "execution_time": "4.67s",
      "outputs": [
       {
        "name": "stdout",
        "output_type": "stream",
        "text": "Please specify the type: da\nPlease specify the description: da\nPlease specify other creators: da\nPlease specify the snapshots: da\nPlease specify the title: da\nPlease specify how many assays is this investigation related to: 10\n"
       },
       {
        "ename": "TypeError",
        "evalue": "must be str, not int",
        "output_type": "error",
        "traceback": [
         "\u001b[0;31m---------------------------------------------------------------------------\u001b[0m",
         "\u001b[0;31mTypeError\u001b[0m                                 Traceback (most recent call last)",
         "\u001b[0;32m<ipython-input-1-ed7a91e8dfa5>\u001b[0m in \u001b[0;36m<module>\u001b[0;34m()\u001b[0m\n\u001b[1;32m      3\u001b[0m \u001b[0mWO\u001b[0m \u001b[0;34m=\u001b[0m \u001b[0mWriteObject\u001b[0m\u001b[0;34m(\u001b[0m\u001b[0;34m)\u001b[0m\u001b[0;34m\u001b[0m\u001b[0m\n\u001b[1;32m      4\u001b[0m \u001b[0;34m\u001b[0m\u001b[0m\n\u001b[0;32m----> 5\u001b[0;31m \u001b[0mWO\u001b[0m\u001b[0;34m.\u001b[0m\u001b[0mJSONForm\u001b[0m\u001b[0;34m(\u001b[0m\u001b[0;34m)\u001b[0m\u001b[0;34m\u001b[0m\u001b[0m\n\u001b[0m",
         "\u001b[0;32m~/Work/ThirdYear/Seek/TheSeekNotebook/WriteObject.py\u001b[0m in \u001b[0;36mJSONForm\u001b[0;34m(self)\u001b[0m\n\u001b[1;32m     33\u001b[0m     \u001b[0;32mdef\u001b[0m \u001b[0mJSONForm\u001b[0m\u001b[0;34m(\u001b[0m\u001b[0mself\u001b[0m\u001b[0;34m)\u001b[0m\u001b[0;34m:\u001b[0m\u001b[0;34m\u001b[0m\u001b[0m\n\u001b[1;32m     34\u001b[0m \u001b[0;34m\u001b[0m\u001b[0m\n\u001b[0;32m---> 35\u001b[0;31m         \u001b[0mprint\u001b[0m\u001b[0;34m(\u001b[0m\u001b[0mHelper\u001b[0m\u001b[0;34m.\u001b[0m\u001b[0minvestigationFormat\u001b[0m\u001b[0;34m(\u001b[0m\u001b[0;34m)\u001b[0m\u001b[0;34m)\u001b[0m\u001b[0;34m\u001b[0m\u001b[0m\n\u001b[0m",
         "\u001b[0;32m~/Work/ThirdYear/Seek/TheSeekNotebook/Helper.py\u001b[0m in \u001b[0;36minvestigationFormat\u001b[0;34m()\u001b[0m\n\u001b[1;32m     15\u001b[0m     \u001b[0;32mfor\u001b[0m \u001b[0mindex\u001b[0m \u001b[0;32min\u001b[0m \u001b[0mrange\u001b[0m\u001b[0;34m(\u001b[0m\u001b[0;36m0\u001b[0m\u001b[0;34m,\u001b[0m \u001b[0mnumberOfAssays\u001b[0m\u001b[0;34m)\u001b[0m\u001b[0;34m:\u001b[0m\u001b[0;34m\u001b[0m\u001b[0m\n\u001b[1;32m     16\u001b[0m \u001b[0;34m\u001b[0m\u001b[0m\n\u001b[0;32m---> 17\u001b[0;31m         \u001b[0mJSON\u001b[0m\u001b[0;34m[\u001b[0m\u001b[0;34m'data'\u001b[0m\u001b[0;34m]\u001b[0m\u001b[0;34m[\u001b[0m\u001b[0;34m'relationships'\u001b[0m\u001b[0;34m]\u001b[0m\u001b[0;34m[\u001b[0m\u001b[0;34m'assays'\u001b[0m\u001b[0;34m]\u001b[0m\u001b[0;34m[\u001b[0m\u001b[0mindex\u001b[0m\u001b[0;34m]\u001b[0m \u001b[0;34m=\u001b[0m \u001b[0;34m[\u001b[0m\u001b[0;34m{\u001b[0m\u001b[0;34m'id'\u001b[0m \u001b[0;34m:\u001b[0m \u001b[0minput\u001b[0m\u001b[0;34m(\u001b[0m\u001b[0;34m'Please specify the id of the '\u001b[0m \u001b[0;34m+\u001b[0m \u001b[0mindex\u001b[0m \u001b[0;34m+\u001b[0m \u001b[0;34m' assay: '\u001b[0m\u001b[0;34m)\u001b[0m\u001b[0;34m,\u001b[0m \u001b[0;34m'type'\u001b[0m \u001b[0;34m:\u001b[0m \u001b[0;34m'assays'\u001b[0m\u001b[0;34m}\u001b[0m\u001b[0;34m]\u001b[0m\u001b[0;34m\u001b[0m\u001b[0m\n\u001b[0m\u001b[1;32m     18\u001b[0m     \u001b[0mJSON\u001b[0m\u001b[0;34m[\u001b[0m\u001b[0;34m'data'\u001b[0m\u001b[0;34m]\u001b[0m\u001b[0;34m[\u001b[0m\u001b[0;34m'relationships'\u001b[0m\u001b[0;34m]\u001b[0m\u001b[0;34m[\u001b[0m\u001b[0;34m'creators'\u001b[0m\u001b[0;34m]\u001b[0m \u001b[0;34m=\u001b[0m \u001b[0minput\u001b[0m\u001b[0;34m(\u001b[0m\u001b[0;34m'Please input the type: '\u001b[0m\u001b[0;34m)\u001b[0m\u001b[0;34m\u001b[0m\u001b[0m\n\u001b[1;32m     19\u001b[0m     \u001b[0mJSON\u001b[0m\u001b[0;34m[\u001b[0m\u001b[0;34m'data'\u001b[0m\u001b[0;34m]\u001b[0m\u001b[0;34m[\u001b[0m\u001b[0;34m'relationships'\u001b[0m\u001b[0;34m]\u001b[0m\u001b[0;34m[\u001b[0m\u001b[0;34m'data_files'\u001b[0m\u001b[0;34m]\u001b[0m \u001b[0;34m=\u001b[0m \u001b[0minput\u001b[0m\u001b[0;34m(\u001b[0m\u001b[0;34m'Please input the type: '\u001b[0m\u001b[0;34m)\u001b[0m\u001b[0;34m\u001b[0m\u001b[0m\n",
         "\u001b[0;31mTypeError\u001b[0m: must be str, not int"
        ]
       }
      ],
      "source": "from WriteObject import WriteObject\n\nWO = WriteObject()\n\nWO.JSONForm()",
      "start_time": "2019-03-15T12:09:13.663Z"
     },
     {
      "end_time": "2019-03-15T12:11:19.203Z",
      "execution_time": "42.8s",
      "outputs": [
       {
        "name": "stdout",
        "output_type": "stream",
        "text": "Please specify the type: ad\nPlease specify the description: da\nPlease specify other creators: da\nPlease specify the snapshots: da\nPlease specify the title: da\nPlease specify how many assays is this investigation related to: 10\nPlease specify the id of the 0 assay: 123\n"
       },
       {
        "ename": "KeyError",
        "evalue": "'assays'",
        "output_type": "error",
        "traceback": [
         "\u001b[0;31m---------------------------------------------------------------------------\u001b[0m",
         "\u001b[0;31mKeyError\u001b[0m                                  Traceback (most recent call last)",
         "\u001b[0;32m<ipython-input-1-ed7a91e8dfa5>\u001b[0m in \u001b[0;36m<module>\u001b[0;34m()\u001b[0m\n\u001b[1;32m      3\u001b[0m \u001b[0mWO\u001b[0m \u001b[0;34m=\u001b[0m \u001b[0mWriteObject\u001b[0m\u001b[0;34m(\u001b[0m\u001b[0;34m)\u001b[0m\u001b[0;34m\u001b[0m\u001b[0m\n\u001b[1;32m      4\u001b[0m \u001b[0;34m\u001b[0m\u001b[0m\n\u001b[0;32m----> 5\u001b[0;31m \u001b[0mWO\u001b[0m\u001b[0;34m.\u001b[0m\u001b[0mJSONForm\u001b[0m\u001b[0;34m(\u001b[0m\u001b[0;34m)\u001b[0m\u001b[0;34m\u001b[0m\u001b[0m\n\u001b[0m",
         "\u001b[0;32m~/Work/ThirdYear/Seek/TheSeekNotebook/WriteObject.py\u001b[0m in \u001b[0;36mJSONForm\u001b[0;34m(self)\u001b[0m\n\u001b[1;32m     33\u001b[0m     \u001b[0;32mdef\u001b[0m \u001b[0mJSONForm\u001b[0m\u001b[0;34m(\u001b[0m\u001b[0mself\u001b[0m\u001b[0;34m)\u001b[0m\u001b[0;34m:\u001b[0m\u001b[0;34m\u001b[0m\u001b[0m\n\u001b[1;32m     34\u001b[0m \u001b[0;34m\u001b[0m\u001b[0m\n\u001b[0;32m---> 35\u001b[0;31m         \u001b[0mprint\u001b[0m\u001b[0;34m(\u001b[0m\u001b[0mHelper\u001b[0m\u001b[0;34m.\u001b[0m\u001b[0minvestigationFormat\u001b[0m\u001b[0;34m(\u001b[0m\u001b[0;34m)\u001b[0m\u001b[0;34m)\u001b[0m\u001b[0;34m\u001b[0m\u001b[0m\n\u001b[0m",
         "\u001b[0;32m~/Work/ThirdYear/Seek/TheSeekNotebook/Helper.py\u001b[0m in \u001b[0;36minvestigationFormat\u001b[0;34m()\u001b[0m\n\u001b[1;32m     15\u001b[0m     \u001b[0;32mfor\u001b[0m \u001b[0mindex\u001b[0m \u001b[0;32min\u001b[0m \u001b[0mrange\u001b[0m\u001b[0;34m(\u001b[0m\u001b[0;36m0\u001b[0m\u001b[0;34m,\u001b[0m \u001b[0mnumberOfAssays\u001b[0m\u001b[0;34m)\u001b[0m\u001b[0;34m:\u001b[0m\u001b[0;34m\u001b[0m\u001b[0m\n\u001b[1;32m     16\u001b[0m \u001b[0;34m\u001b[0m\u001b[0m\n\u001b[0;32m---> 17\u001b[0;31m         \u001b[0mJSON\u001b[0m\u001b[0;34m[\u001b[0m\u001b[0;34m'data'\u001b[0m\u001b[0;34m]\u001b[0m\u001b[0;34m[\u001b[0m\u001b[0;34m'relationships'\u001b[0m\u001b[0;34m]\u001b[0m\u001b[0;34m[\u001b[0m\u001b[0;34m'assays'\u001b[0m\u001b[0;34m]\u001b[0m\u001b[0;34m[\u001b[0m\u001b[0mindex\u001b[0m\u001b[0;34m]\u001b[0m \u001b[0;34m=\u001b[0m \u001b[0;34m[\u001b[0m\u001b[0;34m{\u001b[0m\u001b[0;34m'id'\u001b[0m \u001b[0;34m:\u001b[0m \u001b[0minput\u001b[0m\u001b[0;34m(\u001b[0m\u001b[0;34m'Please specify the id of the '\u001b[0m \u001b[0;34m+\u001b[0m \u001b[0mstr\u001b[0m\u001b[0;34m(\u001b[0m\u001b[0mindex\u001b[0m\u001b[0;34m)\u001b[0m \u001b[0;34m+\u001b[0m \u001b[0;34m' assay: '\u001b[0m\u001b[0;34m)\u001b[0m\u001b[0;34m,\u001b[0m \u001b[0;34m'type'\u001b[0m \u001b[0;34m:\u001b[0m \u001b[0;34m'assays'\u001b[0m\u001b[0;34m}\u001b[0m\u001b[0;34m]\u001b[0m\u001b[0;34m\u001b[0m\u001b[0m\n\u001b[0m\u001b[1;32m     18\u001b[0m     \u001b[0mJSON\u001b[0m\u001b[0;34m[\u001b[0m\u001b[0;34m'data'\u001b[0m\u001b[0;34m]\u001b[0m\u001b[0;34m[\u001b[0m\u001b[0;34m'relationships'\u001b[0m\u001b[0;34m]\u001b[0m\u001b[0;34m[\u001b[0m\u001b[0;34m'creators'\u001b[0m\u001b[0;34m]\u001b[0m \u001b[0;34m=\u001b[0m \u001b[0minput\u001b[0m\u001b[0;34m(\u001b[0m\u001b[0;34m'Please input the type: '\u001b[0m\u001b[0;34m)\u001b[0m\u001b[0;34m\u001b[0m\u001b[0m\n\u001b[1;32m     19\u001b[0m     \u001b[0mJSON\u001b[0m\u001b[0;34m[\u001b[0m\u001b[0;34m'data'\u001b[0m\u001b[0;34m]\u001b[0m\u001b[0;34m[\u001b[0m\u001b[0;34m'relationships'\u001b[0m\u001b[0;34m]\u001b[0m\u001b[0;34m[\u001b[0m\u001b[0;34m'data_files'\u001b[0m\u001b[0;34m]\u001b[0m \u001b[0;34m=\u001b[0m \u001b[0minput\u001b[0m\u001b[0;34m(\u001b[0m\u001b[0;34m'Please input the type: '\u001b[0m\u001b[0;34m)\u001b[0m\u001b[0;34m\u001b[0m\u001b[0m\n",
         "\u001b[0;31mKeyError\u001b[0m: 'assays'"
        ]
       }
      ],
      "source": "from WriteObject import WriteObject\n\nWO = WriteObject()\n\nWO.JSONForm()",
      "start_time": "2019-03-15T12:10:36.425Z"
     },
     {
      "end_time": "2019-03-15T12:22:14.350Z",
      "execution_time": "8.76s",
      "outputs": [
       {
        "name": "stdout",
        "output_type": "stream",
        "text": "Please specify the type: ad\nPlease specify the description: ad\nPlease specify other creators: ad\nPlease specify the snapshots: ad\nPlease specify the title: ad\nPlease specify how many assays is this investigation related to: 10\nPlease specify the id of the assay number 112\n"
       },
       {
        "ename": "IndexError",
        "evalue": "list assignment index out of range",
        "output_type": "error",
        "traceback": [
         "\u001b[0;31m---------------------------------------------------------------------------\u001b[0m",
         "\u001b[0;31mIndexError\u001b[0m                                Traceback (most recent call last)",
         "\u001b[0;32m<ipython-input-1-ed7a91e8dfa5>\u001b[0m in \u001b[0;36m<module>\u001b[0;34m()\u001b[0m\n\u001b[1;32m      3\u001b[0m \u001b[0mWO\u001b[0m \u001b[0;34m=\u001b[0m \u001b[0mWriteObject\u001b[0m\u001b[0;34m(\u001b[0m\u001b[0;34m)\u001b[0m\u001b[0;34m\u001b[0m\u001b[0m\n\u001b[1;32m      4\u001b[0m \u001b[0;34m\u001b[0m\u001b[0m\n\u001b[0;32m----> 5\u001b[0;31m \u001b[0mWO\u001b[0m\u001b[0;34m.\u001b[0m\u001b[0mJSONForm\u001b[0m\u001b[0;34m(\u001b[0m\u001b[0;34m)\u001b[0m\u001b[0;34m\u001b[0m\u001b[0m\n\u001b[0m",
         "\u001b[0;32m~/Work/ThirdYear/Seek/TheSeekNotebook/WriteObject.py\u001b[0m in \u001b[0;36mJSONForm\u001b[0;34m(self)\u001b[0m\n\u001b[1;32m     33\u001b[0m     \u001b[0;32mdef\u001b[0m \u001b[0mJSONForm\u001b[0m\u001b[0;34m(\u001b[0m\u001b[0mself\u001b[0m\u001b[0;34m)\u001b[0m\u001b[0;34m:\u001b[0m\u001b[0;34m\u001b[0m\u001b[0m\n\u001b[1;32m     34\u001b[0m \u001b[0;34m\u001b[0m\u001b[0m\n\u001b[0;32m---> 35\u001b[0;31m         \u001b[0mprint\u001b[0m\u001b[0;34m(\u001b[0m\u001b[0mHelper\u001b[0m\u001b[0;34m.\u001b[0m\u001b[0minvestigationFormat\u001b[0m\u001b[0;34m(\u001b[0m\u001b[0;34m)\u001b[0m\u001b[0;34m)\u001b[0m\u001b[0;34m\u001b[0m\u001b[0m\n\u001b[0m",
         "\u001b[0;32m~/Work/ThirdYear/Seek/TheSeekNotebook/Helper.py\u001b[0m in \u001b[0;36minvestigationFormat\u001b[0;34m()\u001b[0m\n\u001b[1;32m     17\u001b[0m     \u001b[0;32mfor\u001b[0m \u001b[0mindex\u001b[0m \u001b[0;32min\u001b[0m \u001b[0mrange\u001b[0m\u001b[0;34m(\u001b[0m\u001b[0;36m1\u001b[0m\u001b[0;34m,\u001b[0m \u001b[0mnumberOfAssays\u001b[0m \u001b[0;34m+\u001b[0m \u001b[0;36m1\u001b[0m\u001b[0;34m)\u001b[0m\u001b[0;34m:\u001b[0m\u001b[0;34m\u001b[0m\u001b[0m\n\u001b[1;32m     18\u001b[0m \u001b[0;34m\u001b[0m\u001b[0m\n\u001b[0;32m---> 19\u001b[0;31m         \u001b[0mJSON\u001b[0m\u001b[0;34m[\u001b[0m\u001b[0;34m'data'\u001b[0m\u001b[0;34m]\u001b[0m\u001b[0;34m[\u001b[0m\u001b[0;34m'relationships'\u001b[0m\u001b[0;34m]\u001b[0m\u001b[0;34m[\u001b[0m\u001b[0;34m'assays'\u001b[0m\u001b[0;34m]\u001b[0m\u001b[0;34m[\u001b[0m\u001b[0mindex\u001b[0m\u001b[0;34m]\u001b[0m \u001b[0;34m=\u001b[0m \u001b[0;34m[\u001b[0m\u001b[0;34m{\u001b[0m\u001b[0;34m'id'\u001b[0m \u001b[0;34m:\u001b[0m \u001b[0minput\u001b[0m\u001b[0;34m(\u001b[0m\u001b[0;34m'Please specify the id of the assay number '\u001b[0m \u001b[0;34m+\u001b[0m \u001b[0mstr\u001b[0m\u001b[0;34m(\u001b[0m\u001b[0mindex\u001b[0m\u001b[0;34m)\u001b[0m\u001b[0;34m)\u001b[0m\u001b[0;34m,\u001b[0m \u001b[0;34m'type'\u001b[0m \u001b[0;34m:\u001b[0m \u001b[0;34m'assays'\u001b[0m\u001b[0;34m}\u001b[0m\u001b[0;34m]\u001b[0m\u001b[0;34m\u001b[0m\u001b[0m\n\u001b[0m\u001b[1;32m     20\u001b[0m \u001b[0;34m\u001b[0m\u001b[0m\n\u001b[1;32m     21\u001b[0m     \u001b[0mJSON\u001b[0m\u001b[0;34m[\u001b[0m\u001b[0;34m'data'\u001b[0m\u001b[0;34m]\u001b[0m\u001b[0;34m[\u001b[0m\u001b[0;34m'relationships'\u001b[0m\u001b[0;34m]\u001b[0m\u001b[0;34m[\u001b[0m\u001b[0;34m'assays'\u001b[0m\u001b[0;34m]\u001b[0m \u001b[0;34m=\u001b[0m \u001b[0;34m[\u001b[0m\u001b[0;34m]\u001b[0m\u001b[0;34m\u001b[0m\u001b[0m\n",
         "\u001b[0;31mIndexError\u001b[0m: list assignment index out of range"
        ]
       }
      ],
      "source": "from WriteObject import WriteObject\n\nWO = WriteObject()\n\nWO.JSONForm()",
      "start_time": "2019-03-15T12:22:05.590Z"
     },
     {
      "end_time": "2019-03-15T12:22:29.283Z",
      "execution_time": "5.83s",
      "outputs": [
       {
        "name": "stdout",
        "output_type": "stream",
        "text": "Please specify the type: asd\nPlease specify the description: asd\nPlease specify other creators: asd\nPlease specify the snapshots: asd\nPlease specify the title: asd\nPlease specify how many assays is this investigation related to: 10\nPlease specify the id of the assay number 123\n"
       },
       {
        "ename": "IndexError",
        "evalue": "list assignment index out of range",
        "output_type": "error",
        "traceback": [
         "\u001b[0;31m---------------------------------------------------------------------------\u001b[0m",
         "\u001b[0;31mIndexError\u001b[0m                                Traceback (most recent call last)",
         "\u001b[0;32m<ipython-input-2-ed7a91e8dfa5>\u001b[0m in \u001b[0;36m<module>\u001b[0;34m()\u001b[0m\n\u001b[1;32m      3\u001b[0m \u001b[0mWO\u001b[0m \u001b[0;34m=\u001b[0m \u001b[0mWriteObject\u001b[0m\u001b[0;34m(\u001b[0m\u001b[0;34m)\u001b[0m\u001b[0;34m\u001b[0m\u001b[0m\n\u001b[1;32m      4\u001b[0m \u001b[0;34m\u001b[0m\u001b[0m\n\u001b[0;32m----> 5\u001b[0;31m \u001b[0mWO\u001b[0m\u001b[0;34m.\u001b[0m\u001b[0mJSONForm\u001b[0m\u001b[0;34m(\u001b[0m\u001b[0;34m)\u001b[0m\u001b[0;34m\u001b[0m\u001b[0m\n\u001b[0m",
         "\u001b[0;32m~/Work/ThirdYear/Seek/TheSeekNotebook/WriteObject.py\u001b[0m in \u001b[0;36mJSONForm\u001b[0;34m(self)\u001b[0m\n\u001b[1;32m     33\u001b[0m     \u001b[0;32mdef\u001b[0m \u001b[0mJSONForm\u001b[0m\u001b[0;34m(\u001b[0m\u001b[0mself\u001b[0m\u001b[0;34m)\u001b[0m\u001b[0;34m:\u001b[0m\u001b[0;34m\u001b[0m\u001b[0m\n\u001b[1;32m     34\u001b[0m \u001b[0;34m\u001b[0m\u001b[0m\n\u001b[0;32m---> 35\u001b[0;31m         \u001b[0mprint\u001b[0m\u001b[0;34m(\u001b[0m\u001b[0mHelper\u001b[0m\u001b[0;34m.\u001b[0m\u001b[0minvestigationFormat\u001b[0m\u001b[0;34m(\u001b[0m\u001b[0;34m)\u001b[0m\u001b[0;34m)\u001b[0m\u001b[0;34m\u001b[0m\u001b[0m\n\u001b[0m",
         "\u001b[0;32m~/Work/ThirdYear/Seek/TheSeekNotebook/Helper.py\u001b[0m in \u001b[0;36minvestigationFormat\u001b[0;34m()\u001b[0m\n\u001b[1;32m     17\u001b[0m     \u001b[0;32mfor\u001b[0m \u001b[0mindex\u001b[0m \u001b[0;32min\u001b[0m \u001b[0mrange\u001b[0m\u001b[0;34m(\u001b[0m\u001b[0;36m1\u001b[0m\u001b[0;34m,\u001b[0m \u001b[0mnumberOfAssays\u001b[0m \u001b[0;34m+\u001b[0m \u001b[0;36m1\u001b[0m\u001b[0;34m)\u001b[0m\u001b[0;34m:\u001b[0m\u001b[0;34m\u001b[0m\u001b[0m\n\u001b[1;32m     18\u001b[0m \u001b[0;34m\u001b[0m\u001b[0m\n\u001b[0;32m---> 19\u001b[0;31m         \u001b[0mJSON\u001b[0m\u001b[0;34m[\u001b[0m\u001b[0;34m'data'\u001b[0m\u001b[0;34m]\u001b[0m\u001b[0;34m[\u001b[0m\u001b[0;34m'relationships'\u001b[0m\u001b[0;34m]\u001b[0m\u001b[0;34m[\u001b[0m\u001b[0;34m'assays'\u001b[0m\u001b[0;34m]\u001b[0m\u001b[0;34m[\u001b[0m\u001b[0mindex\u001b[0m\u001b[0;34m]\u001b[0m \u001b[0;34m=\u001b[0m \u001b[0;34m[\u001b[0m\u001b[0;34m{\u001b[0m\u001b[0;34m'id'\u001b[0m \u001b[0;34m:\u001b[0m \u001b[0minput\u001b[0m\u001b[0;34m(\u001b[0m\u001b[0;34m'Please specify the id of the assay number '\u001b[0m \u001b[0;34m+\u001b[0m \u001b[0mstr\u001b[0m\u001b[0;34m(\u001b[0m\u001b[0mindex\u001b[0m\u001b[0;34m)\u001b[0m\u001b[0;34m)\u001b[0m\u001b[0;34m,\u001b[0m \u001b[0;34m'type'\u001b[0m \u001b[0;34m:\u001b[0m \u001b[0;34m'assays'\u001b[0m\u001b[0;34m}\u001b[0m\u001b[0;34m]\u001b[0m\u001b[0;34m\u001b[0m\u001b[0m\n\u001b[0m\u001b[1;32m     20\u001b[0m \u001b[0;34m\u001b[0m\u001b[0m\n\u001b[1;32m     21\u001b[0m     \u001b[0mJSON\u001b[0m\u001b[0;34m[\u001b[0m\u001b[0;34m'data'\u001b[0m\u001b[0;34m]\u001b[0m\u001b[0;34m[\u001b[0m\u001b[0;34m'relationships'\u001b[0m\u001b[0;34m]\u001b[0m\u001b[0;34m[\u001b[0m\u001b[0;34m'assays'\u001b[0m\u001b[0;34m]\u001b[0m \u001b[0;34m=\u001b[0m \u001b[0;34m[\u001b[0m\u001b[0;34m]\u001b[0m\u001b[0;34m\u001b[0m\u001b[0m\n",
         "\u001b[0;31mIndexError\u001b[0m: list assignment index out of range"
        ]
       }
      ],
      "source": "from WriteObject import WriteObject\n\nWO = WriteObject()\n\nWO.JSONForm()",
      "start_time": "2019-03-15T12:22:23.451Z"
     },
     {
      "end_time": "2019-03-15T12:22:56.383Z",
      "execution_time": "103ms",
      "outputs": [
       {
        "ename": "SyntaxError",
        "evalue": "invalid syntax (Helper.py, line 19)",
        "output_type": "error",
        "traceback": [
         "Traceback \u001b[0;36m(most recent call last)\u001b[0m:\n",
         "  File \u001b[1;32m\"/home/bogdan/anaconda3/lib/python3.6/site-packages/IPython/core/interactiveshell.py\"\u001b[0m, line \u001b[1;32m2963\u001b[0m, in \u001b[1;35mrun_code\u001b[0m\n    exec(code_obj, self.user_global_ns, self.user_ns)\n",
         "  File \u001b[1;32m\"<ipython-input-1-ed7a91e8dfa5>\"\u001b[0m, line \u001b[1;32m1\u001b[0m, in \u001b[1;35m<module>\u001b[0m\n    from WriteObject import WriteObject\n",
         "\u001b[0;36m  File \u001b[0;32m\"/home/bogdan/Work/ThirdYear/Seek/TheSeekNotebook/WriteObject.py\"\u001b[0;36m, line \u001b[0;32m5\u001b[0;36m, in \u001b[0;35m<module>\u001b[0;36m\u001b[0m\n\u001b[0;31m    import Helper\u001b[0m\n",
         "\u001b[0;36m  File \u001b[0;32m\"/home/bogdan/Work/ThirdYear/Seek/TheSeekNotebook/Helper.py\"\u001b[0;36m, line \u001b[0;32m19\u001b[0m\n\u001b[0;31m    JSON['data']['relationships']['assays'].append([{'id' : input('Please specify the id of the assay number ' + str(index)), 'type' : 'assays'})\u001b[0m\n\u001b[0m                                                                                                                                                ^\u001b[0m\n\u001b[0;31mSyntaxError\u001b[0m\u001b[0;31m:\u001b[0m invalid syntax\n"
        ]
       }
      ],
      "source": "from WriteObject import WriteObject\n\nWO = WriteObject()\n\nWO.JSONForm()",
      "start_time": "2019-03-15T12:22:56.280Z"
     },
     {
      "end_time": "2019-03-15T12:36:50.929Z",
      "execution_time": "2m 5s",
      "outputs": [
       {
        "name": "stdout",
        "output_type": "stream",
        "text": "Please specify the type: l\nPlease specify the description: l\nPlease specify other creators: \nPlease specify the snapshots: l\nPlease specify the title: l\nPlease specify how many assays is this investigation related to: 0\nPlease specify how many creators is this investigation related to: 0\nPlease specify how many data files is this investigation related to: 1\nPlease specify the id of the data file number 1123\nPlease specify how many documents is this investigation related to: 0\nPlease specify how many models is this investigation related to: 23\nPlease specify the id of the model number 12\nPlease specify the id of the model number 23\nPlease specify the id of the model number 34\nPlease specify the id of the model number 45\nPlease specify the id of the model number 56\nPlease specify the id of the model number 63\nPlease specify the id of the model number 76\nPlease specify the id of the model number 83\nPlease specify the id of the model number 95\nPlease specify the id of the model number 106\nPlease specify the id of the model number 113\nPlease specify the id of the model number 125\nPlease specify the id of the model number 132\nPlease specify the id of the model number 145\nPlease specify the id of the model number 152\nPlease specify the id of the model number 165\nPlease specify the id of the model number 173\nPlease specify the id of the model number 185\nPlease specify the id of the model number 192\nPlease specify the id of the model number 201\nPlease specify the id of the model number 215\nPlease specify the id of the model number 222\nPlease specify the id of the model number 235\nPlease specify how many people is this investigation related to: 0\nPlease specify how many projects is this investigation related to: 0\nPlease specify how many publications is this investigation related to: 0\nPlease specify how many sops is this investigation related to: 0\nPlease specify how many studies is this investigation related to: 0\nPlease specify how many submitters is this investigation related to: 0\nPlease input the type: asd\nPlease input the type: asd\nPlease input the type: asd\nPlease input the type: \nPlease input the type: asd\nPlease input the type: asd\n"
       },
       {
        "ename": "KeyError",
        "evalue": "'links'",
        "output_type": "error",
        "traceback": [
         "\u001b[0;31m---------------------------------------------------------------------------\u001b[0m",
         "\u001b[0;31mKeyError\u001b[0m                                  Traceback (most recent call last)",
         "\u001b[0;32m<ipython-input-1-ed7a91e8dfa5>\u001b[0m in \u001b[0;36m<module>\u001b[0;34m()\u001b[0m\n\u001b[1;32m      3\u001b[0m \u001b[0mWO\u001b[0m \u001b[0;34m=\u001b[0m \u001b[0mWriteObject\u001b[0m\u001b[0;34m(\u001b[0m\u001b[0;34m)\u001b[0m\u001b[0;34m\u001b[0m\u001b[0m\n\u001b[1;32m      4\u001b[0m \u001b[0;34m\u001b[0m\u001b[0m\n\u001b[0;32m----> 5\u001b[0;31m \u001b[0mWO\u001b[0m\u001b[0;34m.\u001b[0m\u001b[0mJSONForm\u001b[0m\u001b[0;34m(\u001b[0m\u001b[0;34m)\u001b[0m\u001b[0;34m\u001b[0m\u001b[0m\n\u001b[0m",
         "\u001b[0;32m~/Work/ThirdYear/Seek/TheSeekNotebook/WriteObject.py\u001b[0m in \u001b[0;36mJSONForm\u001b[0;34m(self)\u001b[0m\n\u001b[1;32m     33\u001b[0m     \u001b[0;32mdef\u001b[0m \u001b[0mJSONForm\u001b[0m\u001b[0;34m(\u001b[0m\u001b[0mself\u001b[0m\u001b[0;34m)\u001b[0m\u001b[0;34m:\u001b[0m\u001b[0;34m\u001b[0m\u001b[0m\n\u001b[1;32m     34\u001b[0m \u001b[0;34m\u001b[0m\u001b[0m\n\u001b[0;32m---> 35\u001b[0;31m         \u001b[0mprint\u001b[0m\u001b[0;34m(\u001b[0m\u001b[0mHelper\u001b[0m\u001b[0;34m.\u001b[0m\u001b[0minvestigationFormat\u001b[0m\u001b[0;34m(\u001b[0m\u001b[0;34m)\u001b[0m\u001b[0;34m)\u001b[0m\u001b[0;34m\u001b[0m\u001b[0m\n\u001b[0m",
         "\u001b[0;32m~/Work/ThirdYear/Seek/TheSeekNotebook/Helper.py\u001b[0m in \u001b[0;36minvestigationFormat\u001b[0;34m()\u001b[0m\n\u001b[1;32m     86\u001b[0m     \u001b[0mJSON\u001b[0m\u001b[0;34m[\u001b[0m\u001b[0;34m'data'\u001b[0m\u001b[0;34m]\u001b[0m\u001b[0;34m[\u001b[0m\u001b[0;34m'meta'\u001b[0m\u001b[0;34m]\u001b[0m\u001b[0;34m[\u001b[0m\u001b[0;34m'modified'\u001b[0m\u001b[0;34m]\u001b[0m \u001b[0;34m=\u001b[0m \u001b[0minput\u001b[0m\u001b[0;34m(\u001b[0m\u001b[0;34m'Please input the type: '\u001b[0m\u001b[0;34m)\u001b[0m\u001b[0;34m\u001b[0m\u001b[0m\n\u001b[1;32m     87\u001b[0m \u001b[0;34m\u001b[0m\u001b[0m\n\u001b[0;32m---> 88\u001b[0;31m     \u001b[0mJSON\u001b[0m\u001b[0;34m[\u001b[0m\u001b[0;34m'data'\u001b[0m\u001b[0;34m]\u001b[0m\u001b[0;34m[\u001b[0m\u001b[0;34m'links'\u001b[0m\u001b[0;34m]\u001b[0m\u001b[0;34m[\u001b[0m\u001b[0;34m'self'\u001b[0m\u001b[0;34m]\u001b[0m \u001b[0;34m=\u001b[0m \u001b[0minput\u001b[0m\u001b[0;34m(\u001b[0m\u001b[0;34m'Please input the type: '\u001b[0m\u001b[0;34m)\u001b[0m\u001b[0;34m\u001b[0m\u001b[0m\n\u001b[0m\u001b[1;32m     89\u001b[0m \u001b[0;34m\u001b[0m\u001b[0m\n\u001b[1;32m     90\u001b[0m     \u001b[0;32mreturn\u001b[0m \u001b[0mJSON\u001b[0m\u001b[0;34m\u001b[0m\u001b[0m\n",
         "\u001b[0;31mKeyError\u001b[0m: 'links'"
        ]
       }
      ],
      "source": "from WriteObject import WriteObject\n\nWO = WriteObject()\n\nWO.JSONForm()",
      "start_time": "2019-03-15T12:34:46.097Z"
     },
     {
      "end_time": "2019-03-15T12:46:25.168Z",
      "execution_time": "38.3s",
      "outputs": [
       {
        "name": "stdout",
        "output_type": "stream",
        "text": "Please specify the type: liver\nPlease specify the description: sd\nPlease specify other creators: asd\nPlease specify the snapshots: asd\nPlease specify the title: a\nPlease specify how many assays is this investigation related to: 1\nPlease specify the id of the assay number 1123\nPlease specify how many creators is this investigation related to: 0\nPlease specify how many data files is this investigation related to: 3\nPlease specify the id of the data file number 1213\nPlease specify the id of the data file number 232\nPlease specify the id of the data file number 342\nPlease specify how many documents is this investigation related to: 1\nPlease specify the id of the document number 1241\nPlease specify how many models is this investigation related to: 1\nPlease specify the id of the model number 1421\nPlease specify how many people is this investigation related to: 1\nPlease specify the id of the person number 142\nPlease specify how many projects is this investigation related to: 1\nPlease specify the id of the project number 1421\nPlease specify how many publications is this investigation related to: 1\nPlease specify the id of the publication number 142\nPlease specify how many sops is this investigation related to: 1\nPlease specify the id of the sop number 142\nPlease specify how many studies is this investigation related to: 0\nPlease specify how many submitters is this investigation related to: 0\n{'data': {'type': 'liver', 'attributes': {'description': 'sd', 'other_creators': 'asd', 'snapshots': 'asd', 'title': 'a'}, 'relationships': {'assays': [[{'id': '123', 'type': 'assays'}]], 'creators': [], 'data_files': [[{'id': '213', 'type': 'data_files'}], [{'id': '32', 'type': 'data_files'}], [{'id': '42', 'type': 'data_files'}]], 'documents': [[{'id': '241', 'type': 'documents'}]], 'models': [[{'id': '421', 'type': 'models'}]], 'people': [[{'id': '42', 'type': 'people'}]], 'projects': [[{'id': '421', 'type': 'projects'}], [{'id': '42', 'type': 'publications'}]], 'publications': [], 'sops': [[{'id': '42', 'type': 'sops'}]], 'studies': [], 'submitter': []}}}\n"
       }
      ],
      "source": "from WriteObject import WriteObject\n\nWO = WriteObject()\n\nWO.JSONForm()",
      "start_time": "2019-03-15T12:45:46.913Z"
     },
     {
      "end_time": "2019-03-15T12:56:27.609Z",
      "execution_time": "32.6s",
      "outputs": [
       {
        "name": "stdout",
        "output_type": "stream",
        "text": "Please specify the type: ds\nPlease specify the description: ds\nPlease specify other creators: ds\nPlease specify the snapshots: ds\nPlease specify the title: ds\nPlease specify how many assays is this investigation related to: 1\nPlease specify the id of the assay number 123\nPlease specify how many creators is this investigation related to: 0\nPlease specify how many data files is this investigation related to: 9\nPlease specify the id of the data file number 1123\nPlease specify the id of the data file number 2123\nPlease specify the id of the data file number 3123\nPlease specify the id of the data file number 41\nPlease specify the id of the data file number 51\nPlease specify the id of the data file number 61\nPlease specify the id of the data file number 71\nPlease specify the id of the data file number 81\nPlease specify the id of the data file number 91\nPlease specify how many documents is this investigation related to: 1\nPlease specify the id of the document number 111\nPlease specify how many models is this investigation related to: 1\nPlease specify the id of the model number 11\nPlease specify how many people is this investigation related to: 1\nPlease specify the id of the person number 11\nPlease specify how many projects is this investigation related to: 1\nPlease specify the id of the project number 11\nPlease specify how many publications is this investigation related to: 1\nPlease specify the id of the publication number 11\nPlease specify how many sops is this investigation related to: 1\nPlease specify the id of the sop number 11\nPlease specify how many studies is this investigation related to: 1\nPlease specify the id of the study number 11\nPlease specify how many submitters is this investigation related to: 1\n"
       },
       {
        "ename": "KeyError",
        "evalue": "'submitters'",
        "output_type": "error",
        "traceback": [
         "\u001b[0;31m---------------------------------------------------------------------------\u001b[0m",
         "\u001b[0;31mKeyError\u001b[0m                                  Traceback (most recent call last)",
         "\u001b[0;32m<ipython-input-1-ed7a91e8dfa5>\u001b[0m in \u001b[0;36m<module>\u001b[0;34m()\u001b[0m\n\u001b[1;32m      3\u001b[0m \u001b[0mWO\u001b[0m \u001b[0;34m=\u001b[0m \u001b[0mWriteObject\u001b[0m\u001b[0;34m(\u001b[0m\u001b[0;34m)\u001b[0m\u001b[0;34m\u001b[0m\u001b[0m\n\u001b[1;32m      4\u001b[0m \u001b[0;34m\u001b[0m\u001b[0m\n\u001b[0;32m----> 5\u001b[0;31m \u001b[0mWO\u001b[0m\u001b[0;34m.\u001b[0m\u001b[0mJSONForm\u001b[0m\u001b[0;34m(\u001b[0m\u001b[0;34m)\u001b[0m\u001b[0;34m\u001b[0m\u001b[0m\n\u001b[0m",
         "\u001b[0;32m~/Work/ThirdYear/Seek/TheSeekNotebook/WriteObject.py\u001b[0m in \u001b[0;36mJSONForm\u001b[0;34m(self)\u001b[0m\n\u001b[1;32m     33\u001b[0m     \u001b[0;32mdef\u001b[0m \u001b[0mJSONForm\u001b[0m\u001b[0;34m(\u001b[0m\u001b[0mself\u001b[0m\u001b[0;34m)\u001b[0m\u001b[0;34m:\u001b[0m\u001b[0;34m\u001b[0m\u001b[0m\n\u001b[1;32m     34\u001b[0m \u001b[0;34m\u001b[0m\u001b[0m\n\u001b[0;32m---> 35\u001b[0;31m         \u001b[0mprint\u001b[0m\u001b[0;34m(\u001b[0m\u001b[0mHelper\u001b[0m\u001b[0;34m.\u001b[0m\u001b[0minvestigationFormat\u001b[0m\u001b[0;34m(\u001b[0m\u001b[0;34m)\u001b[0m\u001b[0;34m)\u001b[0m\u001b[0;34m\u001b[0m\u001b[0m\n\u001b[0m",
         "\u001b[0;32m~/Work/ThirdYear/Seek/TheSeekNotebook/Helper.py\u001b[0m in \u001b[0;36minvestigationFormat\u001b[0;34m()\u001b[0m\n\u001b[1;32m    170\u001b[0m     \u001b[0;32mfor\u001b[0m \u001b[0mindex\u001b[0m \u001b[0;32min\u001b[0m \u001b[0mrange\u001b[0m\u001b[0;34m(\u001b[0m\u001b[0;36m1\u001b[0m\u001b[0;34m,\u001b[0m \u001b[0mnumberOfSubmitters\u001b[0m \u001b[0;34m+\u001b[0m \u001b[0;36m1\u001b[0m\u001b[0;34m)\u001b[0m\u001b[0;34m:\u001b[0m\u001b[0;34m\u001b[0m\u001b[0m\n\u001b[1;32m    171\u001b[0m \u001b[0;34m\u001b[0m\u001b[0m\n\u001b[0;32m--> 172\u001b[0;31m         \u001b[0mJSON\u001b[0m\u001b[0;34m[\u001b[0m\u001b[0;34m'data'\u001b[0m\u001b[0;34m]\u001b[0m\u001b[0;34m[\u001b[0m\u001b[0;34m'relationships'\u001b[0m\u001b[0;34m]\u001b[0m\u001b[0;34m[\u001b[0m\u001b[0;34m'submitters'\u001b[0m\u001b[0;34m]\u001b[0m\u001b[0;34m.\u001b[0m\u001b[0mappend\u001b[0m\u001b[0;34m(\u001b[0m\u001b[0;34m[\u001b[0m\u001b[0;34m{\u001b[0m\u001b[0;34m'id'\u001b[0m \u001b[0;34m:\u001b[0m \u001b[0minput\u001b[0m\u001b[0;34m(\u001b[0m\u001b[0;34m'Please specify the id of the submitters number '\u001b[0m \u001b[0;34m+\u001b[0m \u001b[0mstr\u001b[0m\u001b[0;34m(\u001b[0m\u001b[0mindex\u001b[0m\u001b[0;34m)\u001b[0m\u001b[0;34m)\u001b[0m\u001b[0;34m,\u001b[0m \u001b[0;34m'type'\u001b[0m \u001b[0;34m:\u001b[0m \u001b[0;34m'submitters'\u001b[0m\u001b[0;34m}\u001b[0m\u001b[0;34m]\u001b[0m\u001b[0;34m)\u001b[0m\u001b[0;34m\u001b[0m\u001b[0m\n\u001b[0m\u001b[1;32m    173\u001b[0m \u001b[0;34m\u001b[0m\u001b[0m\n\u001b[1;32m    174\u001b[0m \u001b[0;34m\u001b[0m\u001b[0m\n",
         "\u001b[0;31mKeyError\u001b[0m: 'submitters'"
        ]
       }
      ],
      "source": "from WriteObject import WriteObject\n\nWO = WriteObject()\n\nWO.JSONForm()",
      "start_time": "2019-03-15T12:55:55.039Z"
     },
     {
      "end_time": "2019-03-15T13:13:27.966Z",
      "execution_time": "34.5s",
      "outputs": [
       {
        "name": "stdout",
        "output_type": "stream",
        "text": "Please specify the description: d\nPlease specify other creators: d\nPlease specify the snapshots: d\nPlease specify the title: Mega title\nPlease specify the assay class description: da\nPlease specify the assay class key: da\nPlease specify the assay class title: da\nPlease specify the assay type label: da\nPlease specify the assay type uri: da\nPlease specify the technology type label: da\nPlease specify the technology type uri: da\nPlease specify other creators: daa\nPlease specify the snapshots: da\nPlease specify the title: da\n"
       },
       {
        "ename": "NameError",
        "evalue": "name 'JSON' is not defined",
        "output_type": "error",
        "traceback": [
         "\u001b[0;31m---------------------------------------------------------------------------\u001b[0m",
         "\u001b[0;31mNameError\u001b[0m                                 Traceback (most recent call last)",
         "\u001b[0;32m<ipython-input-1-ed7a91e8dfa5>\u001b[0m in \u001b[0;36m<module>\u001b[0;34m()\u001b[0m\n\u001b[1;32m      3\u001b[0m \u001b[0mWO\u001b[0m \u001b[0;34m=\u001b[0m \u001b[0mWriteObject\u001b[0m\u001b[0;34m(\u001b[0m\u001b[0;34m)\u001b[0m\u001b[0;34m\u001b[0m\u001b[0m\n\u001b[1;32m      4\u001b[0m \u001b[0;34m\u001b[0m\u001b[0m\n\u001b[0;32m----> 5\u001b[0;31m \u001b[0mWO\u001b[0m\u001b[0;34m.\u001b[0m\u001b[0mJSONForm\u001b[0m\u001b[0;34m(\u001b[0m\u001b[0;34m)\u001b[0m\u001b[0;34m\u001b[0m\u001b[0m\n\u001b[0m",
         "\u001b[0;32m~/Work/ThirdYear/Seek/TheSeekNotebook/WriteObject.py\u001b[0m in \u001b[0;36mJSONForm\u001b[0;34m(self)\u001b[0m\n\u001b[1;32m     33\u001b[0m     \u001b[0;32mdef\u001b[0m \u001b[0mJSONForm\u001b[0m\u001b[0;34m(\u001b[0m\u001b[0mself\u001b[0m\u001b[0;34m)\u001b[0m\u001b[0;34m:\u001b[0m\u001b[0;34m\u001b[0m\u001b[0m\n\u001b[1;32m     34\u001b[0m \u001b[0;34m\u001b[0m\u001b[0m\n\u001b[0;32m---> 35\u001b[0;31m         \u001b[0mprint\u001b[0m\u001b[0;34m(\u001b[0m\u001b[0mHelper\u001b[0m\u001b[0;34m.\u001b[0m\u001b[0massayFormat\u001b[0m\u001b[0;34m(\u001b[0m\u001b[0;34m)\u001b[0m\u001b[0;34m)\u001b[0m\u001b[0;34m\u001b[0m\u001b[0m\n\u001b[0m",
         "\u001b[0;32m~/Work/ThirdYear/Seek/TheSeekNotebook/Helper.py\u001b[0m in \u001b[0;36massayFormat\u001b[0;34m()\u001b[0m\n\u001b[1;32m     38\u001b[0m \u001b[0;34m\u001b[0m\u001b[0m\n\u001b[1;32m     39\u001b[0m \u001b[0;34m\u001b[0m\u001b[0m\n\u001b[0;32m---> 40\u001b[0;31m     \u001b[0mrelationsFormat\u001b[0m\u001b[0;34m(\u001b[0m\u001b[0;34m'creators'\u001b[0m\u001b[0;34m)\u001b[0m\u001b[0;34m\u001b[0m\u001b[0m\n\u001b[0m\u001b[1;32m     41\u001b[0m     \u001b[0mrelationsFormat\u001b[0m\u001b[0;34m(\u001b[0m\u001b[0;34m'data_files'\u001b[0m\u001b[0;34m)\u001b[0m\u001b[0;34m\u001b[0m\u001b[0m\n\u001b[1;32m     42\u001b[0m     \u001b[0mrelationsFormat\u001b[0m\u001b[0;34m(\u001b[0m\u001b[0;34m'documents'\u001b[0m\u001b[0;34m)\u001b[0m\u001b[0;34m\u001b[0m\u001b[0m\n",
         "\u001b[0;32m~/Work/ThirdYear/Seek/TheSeekNotebook/Helper.py\u001b[0m in \u001b[0;36mrelationsFormat\u001b[0;34m(type)\u001b[0m\n\u001b[1;32m      1\u001b[0m \u001b[0;32mdef\u001b[0m \u001b[0mrelationsFormat\u001b[0m\u001b[0;34m(\u001b[0m\u001b[0mtype\u001b[0m\u001b[0;34m)\u001b[0m\u001b[0;34m:\u001b[0m\u001b[0;34m\u001b[0m\u001b[0m\n\u001b[0;32m----> 2\u001b[0;31m     \u001b[0mJSON\u001b[0m\u001b[0;34m[\u001b[0m\u001b[0;34m'data'\u001b[0m\u001b[0;34m]\u001b[0m\u001b[0;34m[\u001b[0m\u001b[0;34m'relationships'\u001b[0m\u001b[0;34m]\u001b[0m\u001b[0;34m[\u001b[0m\u001b[0mtype\u001b[0m\u001b[0;34m]\u001b[0m \u001b[0;34m=\u001b[0m \u001b[0;34m[\u001b[0m\u001b[0;34m]\u001b[0m\u001b[0;34m\u001b[0m\u001b[0m\n\u001b[0m\u001b[1;32m      3\u001b[0m     \u001b[0mnumberOfRelations\u001b[0m \u001b[0;34m=\u001b[0m \u001b[0mint\u001b[0m\u001b[0;34m(\u001b[0m\u001b[0minput\u001b[0m\u001b[0;34m(\u001b[0m\u001b[0;34m'Please specify how many '\u001b[0m \u001b[0;34m+\u001b[0m \u001b[0mtype\u001b[0m \u001b[0;34m+\u001b[0m \u001b[0;34m' is this investigation related to: '\u001b[0m\u001b[0;34m)\u001b[0m\u001b[0;34m)\u001b[0m\u001b[0;34m\u001b[0m\u001b[0m\n\u001b[1;32m      4\u001b[0m     \u001b[0;32mfor\u001b[0m \u001b[0mindex\u001b[0m \u001b[0;32min\u001b[0m \u001b[0mrange\u001b[0m\u001b[0;34m(\u001b[0m\u001b[0;36m1\u001b[0m\u001b[0;34m,\u001b[0m \u001b[0mnumberOfRelations\u001b[0m \u001b[0;34m+\u001b[0m \u001b[0;36m1\u001b[0m\u001b[0;34m)\u001b[0m\u001b[0;34m:\u001b[0m\u001b[0;34m\u001b[0m\u001b[0m\n\u001b[1;32m      5\u001b[0m \u001b[0;34m\u001b[0m\u001b[0m\n",
         "\u001b[0;31mNameError\u001b[0m: name 'JSON' is not defined"
        ]
       }
      ],
      "source": "from WriteObject import WriteObject\n\nWO = WriteObject()\n\nWO.JSONForm()",
      "start_time": "2019-03-15T13:12:53.512Z"
     },
     {
      "end_time": "2019-03-15T13:15:02.102Z",
      "execution_time": "19.9s",
      "outputs": [
       {
        "name": "stdout",
        "output_type": "stream",
        "text": "Please specify the description: d\nPlease specify other creators: d\nPlease specify the snapshots: d\nPlease specify the title: d\nPlease specify the assay class description: d\nPlease specify the assay class key: d\nPlease specify the assay class title: d\nPlease specify the assay type label: d\nPlease specify the assay type uri: d\nPlease specify the technology type label: d\nPlease specify the technology type uri: d\nPlease specify other creators: d\nPlease specify the snapshots: d\nPlease specify the title: Mega title\nPlease specify how many creators is this investigation related to: 0\nPlease specify how many data_files is this investigation related to: 0\nPlease specify how many documents is this investigation related to: 0\nPlease specify how many investigations is this investigation related to: 0\nPlease specify how many models is this investigation related to: 0\nPlease specify how many people is this investigation related to: 0\nPlease specify how many projects is this investigation related to: 0\nPlease specify how many publications is this investigation related to: 0\nPlease specify how many sops is this investigation related to: 0\nPlease specify how many studies is this investigation related to: 0\nPlease specify how many submitters is this investigation related to: 0\n{'data': {'type': 'assays', 'attributes': {'description': 'd', 'other_creators': 'd', 'snapshots': 'd', 'title': 'Mega title', 'assay_class': {'description': 'd', 'key': 'd', 'title': 'd'}, 'assay_type': {'label': 'd', 'uri': 'd'}, 'technology_type': {'label': 'd', 'uri': 'd'}}, 'relationships': {'creators': [], 'data_files': [], 'documents': [], 'investigations': [], 'models': [], 'people': [], 'projects': [], 'publications': [], 'sops': [], 'studies': [], 'submitters': []}}}\n"
       }
      ],
      "source": "from WriteObject import WriteObject\n\nWO = WriteObject()\n\nWO.JSONForm()",
      "start_time": "2019-03-15T13:14:42.217Z"
     },
     {
      "end_time": "2019-03-15T13:22:52.251Z",
      "execution_time": "3.58s",
      "outputs": [
       {
        "data": {
         "text/html": "<h3>SEEK FORM</h3>",
         "text/plain": "<IPython.core.display.HTML object>"
        },
        "metadata": {},
        "output_type": "display_data",
        "transient": {}
       },
       {
        "name": "stdout",
        "output_type": "stream",
        "text": "\nThe type of object you want to upload to SEEK: assays\n\nYou need to complete the following for in order to succesfully upload your information to SEEK\n"
       }
      ],
      "source": "from WriteObject import WriteObject\n\nWO = WriteObject()\n\nWO.SEEKForm()",
      "start_time": "2019-03-15T13:22:48.668Z"
     },
     {
      "end_time": "2019-03-15T13:24:49.308Z",
      "execution_time": "40.0s",
      "outputs": [
       {
        "data": {
         "text/html": "<h3>SEEK FORM</h3>",
         "text/plain": "<IPython.core.display.HTML object>"
        },
        "metadata": {},
        "output_type": "display_data",
        "transient": {}
       },
       {
        "name": "stdout",
        "output_type": "stream",
        "text": "\nThe type of object you want to upload to SEEK: assays\n\nYou need to complete the following form in order to succesfully upload your information to SEEK\nPlease specify the description: a\nPlease specify other creators: a\nPlease specify the snapshots: a\nPlease specify the title: a\nPlease specify the assay class description: a\nPlease specify the assay class key: a\nPlease specify the assay class title: a\nPlease specify the assay type label: a\nPlease specify the assay type uri: a\nPlease specify the technology type label: a\nPlease specify the technology type uri: a\nPlease specify other creators: a\nPlease specify the snapshots: a\nPlease specify the title: a\nPlease specify how many creators is this investigation related to: 1\nPlease specify the id of the creator number 11\nPlease specify how many data_files is this investigation related to: 1\nPlease specify the id of the data_file number 11\nPlease specify how many documents is this investigation related to: 1\nPlease specify the id of the document number 11\nPlease specify how many investigations is this investigation related to: 1\nPlease specify the id of the investigation number 11\nPlease specify how many models is this investigation related to: 1\nPlease specify the id of the model number 11\nPlease specify how many people is this investigation related to: 1\nPlease specify the id of the peopl number 11\nPlease specify how many projects is this investigation related to: 1\nPlease specify the id of the project number 11\nPlease specify how many publications is this investigation related to: 1\nPlease specify the id of the publication number 11\nPlease specify how many sops is this investigation related to: 1\nPlease specify the id of the sop number 11\nPlease specify how many studies is this investigation related to: 1\nPlease specify the id of the studie number 11\nPlease specify how many submitters is this investigation related to: 1\nPlease specify the id of the submitter number 11\n{'data': {'type': 'assays', 'attributes': {'description': 'a', 'other_creators': 'a', 'snapshots': 'a', 'title': 'a', 'assay_class': {'description': 'a', 'key': 'a', 'title': 'a'}, 'assay_type': {'label': 'a', 'uri': 'a'}, 'technology_type': {'label': 'a', 'uri': 'a'}}, 'relationships': {'creators': [{}, [{'id': '1', 'type': 'creators'}]], 'data_files': [{}, [{'id': '1', 'type': 'data_files'}]], 'documents': [{}, [{'id': '1', 'type': 'documents'}]], 'investigations': [{}, [{'id': '1', 'type': 'investigations'}]], 'models': [{}, [{'id': '1', 'type': 'models'}]], 'people': [{}, [{'id': '1', 'type': 'people'}]], 'projects': [{}, [{'id': '1', 'type': 'projects'}]], 'publications': [{}, [{'id': '1', 'type': 'publications'}]], 'sops': [{}, [{'id': '1', 'type': 'sops'}]], 'studies': [{}, [{'id': '1', 'type': 'studies'}]], 'submitters': [{}, [{'id': '1', 'type': 'submitters'}]]}}}\n"
       }
      ],
      "source": "from WriteObject import WriteObject\n\nWO = WriteObject()\n\nWO.SEEKForm()",
      "start_time": "2019-03-15T13:24:09.279Z"
     },
     {
      "end_time": "2019-03-15T14:15:29.872Z",
      "execution_time": "2m 22s",
      "outputs": [
       {
        "data": {
         "text/html": "<h3>SEEK FORM</h3>",
         "text/plain": "<IPython.core.display.HTML object>"
        },
        "metadata": {},
        "output_type": "display_data",
        "transient": {}
       },
       {
        "name": "stdout",
        "output_type": "stream",
        "text": "\nThe type of object you want to upload to SEEK: assays\n\nYou need to complete the following form in order to succesfully upload your information to SEEK\nPlease specify the description: This is a template example used to test the POST reqeust from the Jupyter Notebook.\nPlease specify other creators: Bogdan Gherasim\nPlease specify the snapshots: None\nPlease specify the title: TESTING\nPlease specify the assay class description: Test\nPlease specify the assay class key: Test\nPlease specify the assay class title: Test\nPlease specify the assay type label: Test\nPlease specify the assay type uri: https://www.test.test\nPlease specify the technology type label: Test\nPlease specify the technology type uri: Test\nPlease specify other creators: Bogdan Gherasim\nPlease specify the snapshots: None\nPlease specify the title: TESTING\nPlease specify how many creators is this investigation related to: 0\nPlease specify how many data_files is this investigation related to: 0\nPlease specify how many documents is this investigation related to: 0\nPlease specify how many investigations is this investigation related to: 0\nPlease specify how many models is this investigation related to: 0\nPlease specify how many people is this investigation related to: 0\nPlease specify how many projects is this investigation related to: 0\nPlease specify how many publications is this investigation related to: 0\nPlease specify how many sops is this investigation related to: 0\nPlease specify how many studies is this investigation related to: 0\nPlease specify how many submitters is this investigation related to: 0\n{'data': {'type': 'assays', 'attributes': {'description': 'This is a template example used to test the POST reqeust from the Jupyter Notebook.', 'other_creators': 'Bogdan Gherasim', 'snapshots': 'None', 'title': 'TESTING', 'assay_class': {'description': 'Test', 'key': 'Test', 'title': 'Test'}, 'assay_type': {'label': 'Test', 'uri': 'https://www.test.test'}, 'technology_type': {'label': 'Test', 'uri': 'Test'}}, 'relationships': {'creators': [{}], 'data_files': [{}], 'documents': [{}], 'investigations': [{}], 'models': [{}], 'people': [{}], 'projects': [{}], 'publications': [{}], 'sops': [{}], 'studies': [{}], 'submitters': [{}]}}}\n"
       }
      ],
      "source": "from WriteObject import WriteObject\n\nWO = WriteObject()\n\nWO.SEEKForm()",
      "start_time": "2019-03-15T14:13:07.860Z"
     },
     {
      "end_time": "2019-03-15T14:16:13.449Z",
      "execution_time": "23ms",
      "outputs": [
       {
        "ename": "SyntaxError",
        "evalue": "invalid syntax (WriteObject.py, line 37)",
        "output_type": "error",
        "traceback": [
         "Traceback \u001b[0;36m(most recent call last)\u001b[0m:\n",
         "  File \u001b[1;32m\"/home/bogdan/anaconda3/lib/python3.6/site-packages/IPython/core/interactiveshell.py\"\u001b[0m, line \u001b[1;32m2963\u001b[0m, in \u001b[1;35mrun_code\u001b[0m\n    exec(code_obj, self.user_global_ns, self.user_ns)\n",
         "\u001b[0;36m  File \u001b[0;32m\"<ipython-input-1-cd480b0c800a>\"\u001b[0;36m, line \u001b[0;32m1\u001b[0;36m, in \u001b[0;35m<module>\u001b[0;36m\u001b[0m\n\u001b[0;31m    from WriteObject import WriteObject\u001b[0m\n",
         "\u001b[0;36m  File \u001b[0;32m\"/home/bogdan/Work/ThirdYear/Seek/TheSeekNotebook/WriteObject.py\"\u001b[0;36m, line \u001b[0;32m37\u001b[0m\n\u001b[0;31m    self.JSON = Helper.studyFormat()s\u001b[0m\n\u001b[0m                                    ^\u001b[0m\n\u001b[0;31mSyntaxError\u001b[0m\u001b[0;31m:\u001b[0m invalid syntax\n"
        ]
       }
      ],
      "source": "from WriteObject import WriteObject\n\nWO = WriteObject()\n\nWO.SEEKForm()",
      "start_time": "2019-03-15T14:16:13.426Z"
     },
     {
      "end_time": "2019-03-15T14:16:53.879Z",
      "execution_time": "28.8s",
      "outputs": [
       {
        "data": {
         "text/html": "<h3>SEEK FORM</h3>",
         "text/plain": "<IPython.core.display.HTML object>"
        },
        "metadata": {},
        "output_type": "display_data",
        "transient": {}
       },
       {
        "name": "stdout",
        "output_type": "stream",
        "text": "\nThe type of object you want to upload to SEEK: assays\n\nYou need to complete the following form in order to succesfully upload your information to SEEK\nPlease specify the description: This is a template example used to test the POST reqeust from the Jupyter Notebook.\nPlease specify other creators: Bogdan Gherasim\nPlease specify the title: TESTING\nPlease specify the assay class description: test\nPlease specify the assay class key: test\nPlease specify the assay class title: test\nPlease specify the assay type label: test\nPlease specify the assay type uri: test\nPlease specify the technology type label: test\nPlease specify the technology type uri: test\nPlease specify how many creators is this investigation related to: 0\nPlease specify how many data_files is this investigation related to: 0\nPlease specify how many documents is this investigation related to: 0\nPlease specify how many investigations is this investigation related to: 0\nPlease specify how many models is this investigation related to: 0\nPlease specify how many people is this investigation related to: 0\nPlease specify how many projects is this investigation related to: 0\nPlease specify how many publications is this investigation related to: 0\nPlease specify how many sops is this investigation related to: 0\nPlease specify how many studies is this investigation related to: 0\nPlease specify how many submitters is this investigation related to: 0\n{'data': {'type': 'assays', 'attributes': {'description': 'This is a template example used to test the POST reqeust from the Jupyter Notebook.', 'other_creators': 'Bogdan Gherasim', 'title': 'TESTING', 'assay_class': {'description': 'test', 'key': 'test', 'title': 'test'}, 'assay_type': {'label': 'test', 'uri': 'test'}, 'technology_type': {'label': 'test', 'uri': 'test'}}, 'relationships': {'creators': [{}], 'data_files': [{}], 'documents': [{}], 'investigations': [{}], 'models': [{}], 'people': [{}], 'projects': [{}], 'publications': [{}], 'sops': [{}], 'studies': [{}], 'submitters': [{}]}}}\n"
       }
      ],
      "source": "from WriteObject import WriteObject\n\nWO = WriteObject()\n\nWO.SEEKForm()",
      "start_time": "2019-03-15T14:16:25.039Z"
     },
     {
      "end_time": "2019-03-15T14:17:30.872Z",
      "execution_time": "17.0s",
      "outputs": [
       {
        "data": {
         "text/html": "<h3>SEEK FORM</h3>",
         "text/plain": "<IPython.core.display.HTML object>"
        },
        "metadata": {},
        "output_type": "display_data",
        "transient": {}
       },
       {
        "name": "stdout",
        "output_type": "stream",
        "text": "\nThe type of object you want to upload to SEEK: assays\n\nYou need to complete the following form in order to succesfully upload your information to SEEK\nPlease specify the description: This is a template example used to test the POST reqeust from the Jupyter Notebook.\nPlease specify other creators: Bogdan Gherasim\nPlease specify the title: TESTING\nPlease specify the assay class description: test\nPlease specify the assay class key: test\nPlease specify the assay class title: test\nPlease specify the assay type label: test\nPlease specify the assay type uri: test\nPlease specify the technology type label: test\nPlease specify the technology type uri: test\nPlease specify how many creators is this investigation related to: 0\nPlease specify how many data_files is this investigation related to: \n"
       },
       {
        "ename": "ValueError",
        "evalue": "invalid literal for int() with base 10: ''",
        "output_type": "error",
        "traceback": [
         "\u001b[0;31m---------------------------------------------------------------------------\u001b[0m",
         "\u001b[0;31mValueError\u001b[0m                                Traceback (most recent call last)",
         "\u001b[0;32m<ipython-input-1-cd480b0c800a>\u001b[0m in \u001b[0;36m<module>\u001b[0;34m()\u001b[0m\n\u001b[1;32m      3\u001b[0m \u001b[0mWO\u001b[0m \u001b[0;34m=\u001b[0m \u001b[0mWriteObject\u001b[0m\u001b[0;34m(\u001b[0m\u001b[0;34m)\u001b[0m\u001b[0;34m\u001b[0m\u001b[0m\n\u001b[1;32m      4\u001b[0m \u001b[0;34m\u001b[0m\u001b[0m\n\u001b[0;32m----> 5\u001b[0;31m \u001b[0mWO\u001b[0m\u001b[0;34m.\u001b[0m\u001b[0mSEEKForm\u001b[0m\u001b[0;34m(\u001b[0m\u001b[0;34m)\u001b[0m\u001b[0;34m\u001b[0m\u001b[0m\n\u001b[0m",
         "\u001b[0;32m~/Work/ThirdYear/Seek/TheSeekNotebook/WriteObject.py\u001b[0m in \u001b[0;36mSEEKForm\u001b[0;34m(self)\u001b[0m\n\u001b[1;32m     31\u001b[0m \u001b[0;34m\u001b[0m\u001b[0m\n\u001b[1;32m     32\u001b[0m         \u001b[0;32mif\u001b[0m \u001b[0mself\u001b[0m\u001b[0;34m.\u001b[0m\u001b[0mtype\u001b[0m \u001b[0;34m==\u001b[0m \u001b[0;34m'assays'\u001b[0m\u001b[0;34m:\u001b[0m\u001b[0;34m\u001b[0m\u001b[0m\n\u001b[0;32m---> 33\u001b[0;31m             \u001b[0mself\u001b[0m\u001b[0;34m.\u001b[0m\u001b[0mJSON\u001b[0m \u001b[0;34m=\u001b[0m \u001b[0mHelper\u001b[0m\u001b[0;34m.\u001b[0m\u001b[0massayFormat\u001b[0m\u001b[0;34m(\u001b[0m\u001b[0;34m)\u001b[0m\u001b[0;34m\u001b[0m\u001b[0m\n\u001b[0m\u001b[1;32m     34\u001b[0m         \u001b[0;32melif\u001b[0m \u001b[0mself\u001b[0m\u001b[0;34m.\u001b[0m\u001b[0mtype\u001b[0m \u001b[0;34m==\u001b[0m \u001b[0;34m'investigations'\u001b[0m\u001b[0;34m:\u001b[0m\u001b[0;34m\u001b[0m\u001b[0m\n\u001b[1;32m     35\u001b[0m             \u001b[0mself\u001b[0m\u001b[0;34m.\u001b[0m\u001b[0mJSON\u001b[0m \u001b[0;34m=\u001b[0m \u001b[0mHelper\u001b[0m\u001b[0;34m.\u001b[0m\u001b[0minvestigationFormat\u001b[0m\u001b[0;34m(\u001b[0m\u001b[0;34m)\u001b[0m\u001b[0;34m\u001b[0m\u001b[0m\n",
         "\u001b[0;32m~/Work/ThirdYear/Seek/TheSeekNotebook/Helper.py\u001b[0m in \u001b[0;36massayFormat\u001b[0;34m()\u001b[0m\n\u001b[1;32m     39\u001b[0m \u001b[0;34m\u001b[0m\u001b[0m\n\u001b[1;32m     40\u001b[0m     \u001b[0mrelationsFormat\u001b[0m\u001b[0;34m(\u001b[0m\u001b[0mJSON\u001b[0m\u001b[0;34m,\u001b[0m \u001b[0;34m'creators'\u001b[0m\u001b[0;34m)\u001b[0m\u001b[0;34m\u001b[0m\u001b[0m\n\u001b[0;32m---> 41\u001b[0;31m     \u001b[0mrelationsFormat\u001b[0m\u001b[0;34m(\u001b[0m\u001b[0mJSON\u001b[0m\u001b[0;34m,\u001b[0m \u001b[0;34m'data_files'\u001b[0m\u001b[0;34m)\u001b[0m\u001b[0;34m\u001b[0m\u001b[0m\n\u001b[0m\u001b[1;32m     42\u001b[0m     \u001b[0mrelationsFormat\u001b[0m\u001b[0;34m(\u001b[0m\u001b[0mJSON\u001b[0m\u001b[0;34m,\u001b[0m \u001b[0;34m'documents'\u001b[0m\u001b[0;34m)\u001b[0m\u001b[0;34m\u001b[0m\u001b[0m\n\u001b[1;32m     43\u001b[0m     \u001b[0mrelationsFormat\u001b[0m\u001b[0;34m(\u001b[0m\u001b[0mJSON\u001b[0m\u001b[0;34m,\u001b[0m \u001b[0;34m'investigations'\u001b[0m\u001b[0;34m)\u001b[0m\u001b[0;34m\u001b[0m\u001b[0m\n",
         "\u001b[0;32m~/Work/ThirdYear/Seek/TheSeekNotebook/Helper.py\u001b[0m in \u001b[0;36mrelationsFormat\u001b[0;34m(JSON, type)\u001b[0m\n\u001b[1;32m      1\u001b[0m \u001b[0;32mdef\u001b[0m \u001b[0mrelationsFormat\u001b[0m\u001b[0;34m(\u001b[0m\u001b[0mJSON\u001b[0m\u001b[0;34m,\u001b[0m \u001b[0mtype\u001b[0m\u001b[0;34m)\u001b[0m\u001b[0;34m:\u001b[0m\u001b[0;34m\u001b[0m\u001b[0m\n\u001b[1;32m      2\u001b[0m     \u001b[0mJSON\u001b[0m\u001b[0;34m[\u001b[0m\u001b[0;34m'data'\u001b[0m\u001b[0;34m]\u001b[0m\u001b[0;34m[\u001b[0m\u001b[0;34m'relationships'\u001b[0m\u001b[0;34m]\u001b[0m\u001b[0;34m[\u001b[0m\u001b[0mtype\u001b[0m\u001b[0;34m]\u001b[0m \u001b[0;34m=\u001b[0m \u001b[0;34m[\u001b[0m\u001b[0;34m{\u001b[0m\u001b[0;34m}\u001b[0m\u001b[0;34m]\u001b[0m\u001b[0;34m\u001b[0m\u001b[0m\n\u001b[0;32m----> 3\u001b[0;31m     \u001b[0mnumberOfRelations\u001b[0m \u001b[0;34m=\u001b[0m \u001b[0mint\u001b[0m\u001b[0;34m(\u001b[0m\u001b[0minput\u001b[0m\u001b[0;34m(\u001b[0m\u001b[0;34m'Please specify how many '\u001b[0m \u001b[0;34m+\u001b[0m \u001b[0mtype\u001b[0m \u001b[0;34m+\u001b[0m \u001b[0;34m' is this investigation related to: '\u001b[0m\u001b[0;34m)\u001b[0m\u001b[0;34m)\u001b[0m\u001b[0;34m\u001b[0m\u001b[0m\n\u001b[0m\u001b[1;32m      4\u001b[0m     \u001b[0;32mfor\u001b[0m \u001b[0mindex\u001b[0m \u001b[0;32min\u001b[0m \u001b[0mrange\u001b[0m\u001b[0;34m(\u001b[0m\u001b[0;36m1\u001b[0m\u001b[0;34m,\u001b[0m \u001b[0mnumberOfRelations\u001b[0m \u001b[0;34m+\u001b[0m \u001b[0;36m1\u001b[0m\u001b[0;34m)\u001b[0m\u001b[0;34m:\u001b[0m\u001b[0;34m\u001b[0m\u001b[0m\n\u001b[1;32m      5\u001b[0m \u001b[0;34m\u001b[0m\u001b[0m\n",
         "\u001b[0;31mValueError\u001b[0m: invalid literal for int() with base 10: ''"
        ]
       }
      ],
      "source": "from WriteObject import WriteObject\n\nWO = WriteObject()\n\nWO.SEEKForm()",
      "start_time": "2019-03-15T14:17:13.882Z"
     },
     {
      "end_time": "2019-03-15T14:17:58.934Z",
      "execution_time": "21.0s",
      "outputs": [
       {
        "data": {
         "text/html": "<h3>SEEK FORM</h3>",
         "text/plain": "<IPython.core.display.HTML object>"
        },
        "metadata": {},
        "output_type": "display_data",
        "transient": {}
       },
       {
        "name": "stdout",
        "output_type": "stream",
        "text": "\nThe type of object you want to upload to SEEK: assays\n\nYou need to complete the following form in order to succesfully upload your information to SEEK\nPlease specify the description: This is a template example used to test the POST reqeust from the Jupyter Notebook.\nPlease specify other creators: TESTING\nPlease specify the title: test\nPlease specify the assay class description: test\nPlease specify the assay class key: test\nPlease specify the assay class title: test\nPlease specify the assay type label: test\nPlease specify the assay type uri: test\nPlease specify the technology type label: test\nPlease specify the technology type uri: test\nPlease specify how many creators is this investigation related to: 0\nPlease specify how many data_files is this investigation related to: 0\nPlease specify how many documents is this investigation related to: 0\nPlease specify how many investigations is this investigation related to: 0\nPlease specify how many models is this investigation related to: 0\nPlease specify how many people is this investigation related to: 0\nPlease specify how many projects is this investigation related to: 0\nPlease specify how many publications is this investigation related to: 0\nPlease specify how many sops is this investigation related to: 0\nPlease specify how many studies is this investigation related to: 0\nPlease specify how many submitters is this investigation related to: 0\n{'data': {'type': 'assays', 'attributes': {'description': 'This is a template example used to test the POST reqeust from the Jupyter Notebook.', 'other_creators': 'TESTING', 'title': 'test', 'assay_class': {'description': 'test', 'key': 'test', 'title': 'test'}, 'assay_type': {'label': 'test', 'uri': 'test'}, 'technology_type': {'label': 'test', 'uri': 'test'}}, 'relationships': {'creators': [{}], 'data_files': [{}], 'documents': [{}], 'investigations': [{}], 'models': [{}], 'people': [{}], 'projects': [{}], 'publications': [{}], 'sops': [{}], 'studies': [{}], 'submitters': [{}]}}}\n"
       }
      ],
      "source": "from WriteObject import WriteObject\n\nWO = WriteObject()\n\nWO.SEEKForm()",
      "start_time": "2019-03-15T14:17:37.916Z"
     },
     {
      "end_time": "2019-03-15T14:19:34.067Z",
      "execution_time": "25.1s",
      "outputs": [
       {
        "data": {
         "text/html": "<h3>SEEK FORM</h3>",
         "text/plain": "<IPython.core.display.HTML object>"
        },
        "metadata": {},
        "output_type": "display_data",
        "transient": {}
       },
       {
        "name": "stdout",
        "output_type": "stream",
        "text": "\nThe type of object you want to upload to SEEK: assays\n\nYou need to complete the following form in order to succesfully upload your information to SEEK\nPlease specify the description: This is a template example used to test the POST reqeust from the Jupyter Notebook.\nPlease specify other creators: Bogdan Gherasim\nPlease specify the title: TESTING\nPlease specify the assay class description: test\nPlease specify the assay class key: test\nPlease specify the assay class title: test\nPlease specify the assay type label: test\nPlease specify the assay type uri: test\nPlease specify the technology type label: test\nPlease specify the technology type uri: test\nPlease specify how many creators is this investigation related to: 0\nPlease specify how many data_files is this investigation related to: 0\nPlease specify how many documents is this investigation related to: 0\nPlease specify how many investigations is this investigation related to: 0\nPlease specify how many models is this investigation related to: 0\nPlease specify how many people is this investigation related to: 0\nPlease specify how many projects is this investigation related to: 0\nPlease specify how many publications is this investigation related to: 0\nPlease specify how many sops is this investigation related to: 0\nPlease specify how many studies is this investigation related to: 0\nPlease specify how many submitters is this investigation related to: 0\n{'data': {'type': 'assays', 'attributes': {'description': 'This is a template example used to test the POST reqeust from the Jupyter Notebook.', 'other_creators': 'Bogdan Gherasim', 'title': 'TESTING', 'assay_class': {'description': 'test', 'key': 'test', 'title': 'test'}, 'assay_type': {'label': 'test', 'uri': 'test'}, 'technology_type': {'label': 'test', 'uri': 'test'}}, 'relationships': {'creators': [{}], 'data_files': [{}], 'documents': [{}], 'investigations': [{}], 'models': [{}], 'people': [{}], 'projects': [{}], 'publications': [{}], 'sops': [{}], 'studies': [{}], 'submitters': [{}]}}}\n"
       }
      ],
      "source": "from WriteObject import WriteObject\n\nWO = WriteObject()\n\nWO.SEEKForm()",
      "start_time": "2019-03-15T14:19:09.006Z"
     },
     {
      "end_time": "2019-03-15T14:27:16.893Z",
      "execution_time": "21.1s",
      "outputs": [
       {
        "data": {
         "text/html": "<h3>SEEK FORM</h3>",
         "text/plain": "<IPython.core.display.HTML object>"
        },
        "metadata": {},
        "output_type": "display_data",
        "transient": {}
       },
       {
        "name": "stdout",
        "output_type": "stream",
        "text": "\nThe type of object you want to upload to SEEK: assays\n\nYou need to complete the following form in order to succesfully upload your information to SEEK\nPlease specify the description: This is a template example used to test the POST reqeust from the Jupyter Notebook.\nPlease specify other creators: Bogdan Gherasim\nPlease specify the title: TESTING\nPlease specify the assay class description: test\nPlease specify the assay class key: test\nPlease specify the assay class title: test\nPlease specify the assay type label: test\nPlease specify the assay type uri: test\nPlease specify the technology type label: test\nPlease specify the technology type uri: test\nPlease specify how many creators is this investigation related to: 0\nPlease specify how many data_files is this investigation related to: 0\nPlease specify how many documents is this investigation related to: 0\n"
       },
       {
        "ename": "NameError",
        "evalue": "name 'index' is not defined",
        "output_type": "error",
        "traceback": [
         "\u001b[0;31m---------------------------------------------------------------------------\u001b[0m",
         "\u001b[0;31mNameError\u001b[0m                                 Traceback (most recent call last)",
         "\u001b[0;32m<ipython-input-1-cd480b0c800a>\u001b[0m in \u001b[0;36m<module>\u001b[0;34m()\u001b[0m\n\u001b[1;32m      3\u001b[0m \u001b[0mWO\u001b[0m \u001b[0;34m=\u001b[0m \u001b[0mWriteObject\u001b[0m\u001b[0;34m(\u001b[0m\u001b[0;34m)\u001b[0m\u001b[0;34m\u001b[0m\u001b[0m\n\u001b[1;32m      4\u001b[0m \u001b[0;34m\u001b[0m\u001b[0m\n\u001b[0;32m----> 5\u001b[0;31m \u001b[0mWO\u001b[0m\u001b[0;34m.\u001b[0m\u001b[0mSEEKForm\u001b[0m\u001b[0;34m(\u001b[0m\u001b[0;34m)\u001b[0m\u001b[0;34m\u001b[0m\u001b[0m\n\u001b[0m",
         "\u001b[0;32m~/Work/ThirdYear/Seek/TheSeekNotebook/WriteObject.py\u001b[0m in \u001b[0;36mSEEKForm\u001b[0;34m(self)\u001b[0m\n\u001b[1;32m     31\u001b[0m \u001b[0;34m\u001b[0m\u001b[0m\n\u001b[1;32m     32\u001b[0m         \u001b[0;32mif\u001b[0m \u001b[0mself\u001b[0m\u001b[0;34m.\u001b[0m\u001b[0mtype\u001b[0m \u001b[0;34m==\u001b[0m \u001b[0;34m'assays'\u001b[0m\u001b[0;34m:\u001b[0m\u001b[0;34m\u001b[0m\u001b[0m\n\u001b[0;32m---> 33\u001b[0;31m             \u001b[0mself\u001b[0m\u001b[0;34m.\u001b[0m\u001b[0mJSON\u001b[0m \u001b[0;34m=\u001b[0m \u001b[0mHelper\u001b[0m\u001b[0;34m.\u001b[0m\u001b[0massayFormat\u001b[0m\u001b[0;34m(\u001b[0m\u001b[0;34m)\u001b[0m\u001b[0;34m\u001b[0m\u001b[0m\n\u001b[0m\u001b[1;32m     34\u001b[0m         \u001b[0;32melif\u001b[0m \u001b[0mself\u001b[0m\u001b[0;34m.\u001b[0m\u001b[0mtype\u001b[0m \u001b[0;34m==\u001b[0m \u001b[0;34m'investigations'\u001b[0m\u001b[0;34m:\u001b[0m\u001b[0;34m\u001b[0m\u001b[0m\n\u001b[1;32m     35\u001b[0m             \u001b[0mself\u001b[0m\u001b[0;34m.\u001b[0m\u001b[0mJSON\u001b[0m \u001b[0;34m=\u001b[0m \u001b[0mHelper\u001b[0m\u001b[0;34m.\u001b[0m\u001b[0minvestigationFormat\u001b[0m\u001b[0;34m(\u001b[0m\u001b[0;34m)\u001b[0m\u001b[0;34m\u001b[0m\u001b[0m\n",
         "\u001b[0;32m~/Work/ThirdYear/Seek/TheSeekNotebook/Helper.py\u001b[0m in \u001b[0;36massayFormat\u001b[0;34m()\u001b[0m\n\u001b[1;32m     45\u001b[0m     \u001b[0mrelationsFormat\u001b[0m\u001b[0;34m(\u001b[0m\u001b[0mJSON\u001b[0m\u001b[0;34m,\u001b[0m \u001b[0;34m'data_files'\u001b[0m\u001b[0;34m)\u001b[0m\u001b[0;34m\u001b[0m\u001b[0m\n\u001b[1;32m     46\u001b[0m     \u001b[0mrelationsFormat\u001b[0m\u001b[0;34m(\u001b[0m\u001b[0mJSON\u001b[0m\u001b[0;34m,\u001b[0m \u001b[0;34m'documents'\u001b[0m\u001b[0;34m)\u001b[0m\u001b[0;34m\u001b[0m\u001b[0m\n\u001b[0;32m---> 47\u001b[0;31m     \u001b[0mrelationFormat\u001b[0m\u001b[0;34m(\u001b[0m\u001b[0mJSON\u001b[0m\u001b[0;34m,\u001b[0m \u001b[0;34m'investigations'\u001b[0m\u001b[0;34m)\u001b[0m\u001b[0;34m\u001b[0m\u001b[0m\n\u001b[0m\u001b[1;32m     48\u001b[0m     \u001b[0mrelationsFormat\u001b[0m\u001b[0;34m(\u001b[0m\u001b[0mJSON\u001b[0m\u001b[0;34m,\u001b[0m \u001b[0;34m'models'\u001b[0m\u001b[0;34m)\u001b[0m\u001b[0;34m\u001b[0m\u001b[0m\n\u001b[1;32m     49\u001b[0m     \u001b[0mrelationsFormat\u001b[0m\u001b[0;34m(\u001b[0m\u001b[0mJSON\u001b[0m\u001b[0;34m,\u001b[0m \u001b[0;34m'people'\u001b[0m\u001b[0;34m)\u001b[0m\u001b[0;34m\u001b[0m\u001b[0m\n",
         "\u001b[0;32m~/Work/ThirdYear/Seek/TheSeekNotebook/Helper.py\u001b[0m in \u001b[0;36mrelationFormat\u001b[0;34m(JSON, type)\u001b[0m\n\u001b[1;32m      8\u001b[0m \u001b[0;32mdef\u001b[0m \u001b[0mrelationFormat\u001b[0m\u001b[0;34m(\u001b[0m\u001b[0mJSON\u001b[0m\u001b[0;34m,\u001b[0m \u001b[0mtype\u001b[0m\u001b[0;34m)\u001b[0m\u001b[0;34m:\u001b[0m\u001b[0;34m\u001b[0m\u001b[0m\n\u001b[1;32m      9\u001b[0m     \u001b[0mJSON\u001b[0m\u001b[0;34m[\u001b[0m\u001b[0;34m'data'\u001b[0m\u001b[0;34m]\u001b[0m\u001b[0;34m[\u001b[0m\u001b[0;34m'relationships'\u001b[0m\u001b[0;34m]\u001b[0m\u001b[0;34m[\u001b[0m\u001b[0mtype\u001b[0m\u001b[0;34m]\u001b[0m \u001b[0;34m=\u001b[0m \u001b[0;34m[\u001b[0m\u001b[0;34m{\u001b[0m\u001b[0;34m}\u001b[0m\u001b[0;34m]\u001b[0m\u001b[0;34m\u001b[0m\u001b[0m\n\u001b[0;32m---> 10\u001b[0;31m     \u001b[0mJSON\u001b[0m\u001b[0;34m[\u001b[0m\u001b[0;34m'data'\u001b[0m\u001b[0;34m]\u001b[0m\u001b[0;34m[\u001b[0m\u001b[0;34m'relationships'\u001b[0m\u001b[0;34m]\u001b[0m\u001b[0;34m[\u001b[0m\u001b[0mtype\u001b[0m\u001b[0;34m]\u001b[0m \u001b[0;34m=\u001b[0m \u001b[0;34m{\u001b[0m\u001b[0;34m'id'\u001b[0m \u001b[0;34m:\u001b[0m \u001b[0mint\u001b[0m\u001b[0;34m(\u001b[0m\u001b[0minput\u001b[0m\u001b[0;34m(\u001b[0m\u001b[0;34m'Please specify the id of the '\u001b[0m \u001b[0;34m+\u001b[0m \u001b[0mtype\u001b[0m\u001b[0;34m[\u001b[0m\u001b[0;34m:\u001b[0m\u001b[0;34m-\u001b[0m\u001b[0;36m1\u001b[0m\u001b[0;34m]\u001b[0m \u001b[0;34m+\u001b[0m \u001b[0;34m' number:  '\u001b[0m \u001b[0;34m+\u001b[0m \u001b[0mstr\u001b[0m\u001b[0;34m(\u001b[0m\u001b[0mindex\u001b[0m\u001b[0;34m)\u001b[0m\u001b[0;34m)\u001b[0m\u001b[0;34m)\u001b[0m\u001b[0;34m,\u001b[0m \u001b[0;34m'type'\u001b[0m \u001b[0;34m:\u001b[0m \u001b[0mtype\u001b[0m\u001b[0;34m}\u001b[0m\u001b[0;34m\u001b[0m\u001b[0m\n\u001b[0m\u001b[1;32m     11\u001b[0m \u001b[0;34m\u001b[0m\u001b[0m\n\u001b[1;32m     12\u001b[0m \u001b[0;32mdef\u001b[0m \u001b[0massayFormat\u001b[0m\u001b[0;34m(\u001b[0m\u001b[0;34m)\u001b[0m\u001b[0;34m:\u001b[0m\u001b[0;34m\u001b[0m\u001b[0m\n",
         "\u001b[0;31mNameError\u001b[0m: name 'index' is not defined"
        ]
       }
      ],
      "source": "from WriteObject import WriteObject\n\nWO = WriteObject()\n\nWO.SEEKForm()",
      "start_time": "2019-03-15T14:26:55.832Z"
     },
     {
      "end_time": "2019-03-15T14:28:23.972Z",
      "execution_time": "31.6s",
      "outputs": [
       {
        "data": {
         "text/html": "<h3>SEEK FORM</h3>",
         "text/plain": "<IPython.core.display.HTML object>"
        },
        "metadata": {},
        "output_type": "display_data",
        "transient": {}
       },
       {
        "name": "stdout",
        "output_type": "stream",
        "text": "\nThe type of object you want to upload to SEEK: assays\n\nYou need to complete the following form in order to succesfully upload your information to SEEK\nPlease specify the description: This is a template example used to test the POST reqeust from the Jupyter Notebook.\nPlease specify other creators: Bogdan Gherasim\nPlease specify the title: TESTING\nPlease specify the assay class description: test\nPlease specify the assay class key: test\nPlease specify the assay class title: test\nPlease specify the assay type label: test\nPlease specify the assay type uri: test\nPlease specify the technology type label: test\nPlease specify the technology type uri: test\nPlease specify how many creators is this investigation related to: 0\nPlease specify how many data_files is this investigation related to: 0\nPlease specify how many documents is this investigation related to: 0\nPlease specify the id of the investigation0\nPlease specify how many models is this investigation related to: 0\nPlease specify how many people is this investigation related to: 0\nPlease specify how many projects is this investigation related to: 0\nPlease specify how many publications is this investigation related to: 0\nPlease specify how many sops is this investigation related to: 0\nPlease specify the id of the studie0\nPlease specify how many submitters is this investigation related to: 0\n{'data': {'type': 'assays', 'attributes': {'description': 'This is a template example used to test the POST reqeust from the Jupyter Notebook.', 'other_creators': 'Bogdan Gherasim', 'title': 'TESTING', 'assay_class': {'description': 'test', 'key': 'test', 'title': 'test'}, 'assay_type': {'label': 'test', 'uri': 'test'}, 'technology_type': {'label': 'test', 'uri': 'test'}}, 'relationships': {'creators': [{}], 'data_files': [{}], 'documents': [{}], 'investigations': {'id': 0, 'type': 'investigations'}, 'models': [{}], 'people': [{}], 'projects': [{}], 'publications': [{}], 'sops': [{}], 'studies': {'id': 0, 'type': 'studies'}, 'submitters': [{}]}}}\n"
       }
      ],
      "source": "from WriteObject import WriteObject\n\nWO = WriteObject()\n\nWO.SEEKForm()",
      "start_time": "2019-03-15T14:27:52.333Z"
     },
     {
      "end_time": "2019-03-15T14:32:34.826Z",
      "execution_time": "52.3s",
      "outputs": [
       {
        "data": {
         "text/html": "<h3>SEEK FORM</h3>",
         "text/plain": "<IPython.core.display.HTML object>"
        },
        "metadata": {},
        "output_type": "display_data",
        "transient": {}
       },
       {
        "name": "stdout",
        "output_type": "stream",
        "text": "\nThe type of object you want to upload to SEEK: assays\n\nYou need to complete the following form in order to succesfully upload your information to SEEK\nPlease specify the description: This is a template example used to test the POST reqeust from the Jupyter Notebook.\nPlease specify other creators: Bogdan Gherasim\nPlease specify the title: TESTING\nPlease specify the assay class description: test\nPlease specify the assay class key: test\nPlease specify the assay class title: test\nPlease specify the assay type label: test\nPlease specify the assay type uri: test\nPlease specify the technology type label: test\nPlease specify the technology type uri: test\nPlease specify how many creators is this assay related to: 1\nPlease specify the id of the creator number:  132\nPlease specify how many data_files is this assay related to: 0\nPlease specify how many documents is this assay related to: 0\n"
       },
       {
        "ename": "TypeError",
        "evalue": "relationFormat() takes 2 positional arguments but 3 were given",
        "output_type": "error",
        "traceback": [
         "\u001b[0;31m---------------------------------------------------------------------------\u001b[0m",
         "\u001b[0;31mTypeError\u001b[0m                                 Traceback (most recent call last)",
         "\u001b[0;32m<ipython-input-1-cd480b0c800a>\u001b[0m in \u001b[0;36m<module>\u001b[0;34m()\u001b[0m\n\u001b[1;32m      3\u001b[0m \u001b[0mWO\u001b[0m \u001b[0;34m=\u001b[0m \u001b[0mWriteObject\u001b[0m\u001b[0;34m(\u001b[0m\u001b[0;34m)\u001b[0m\u001b[0;34m\u001b[0m\u001b[0m\n\u001b[1;32m      4\u001b[0m \u001b[0;34m\u001b[0m\u001b[0m\n\u001b[0;32m----> 5\u001b[0;31m \u001b[0mWO\u001b[0m\u001b[0;34m.\u001b[0m\u001b[0mSEEKForm\u001b[0m\u001b[0;34m(\u001b[0m\u001b[0;34m)\u001b[0m\u001b[0;34m\u001b[0m\u001b[0m\n\u001b[0m",
         "\u001b[0;32m~/Work/ThirdYear/Seek/TheSeekNotebook/WriteObject.py\u001b[0m in \u001b[0;36mSEEKForm\u001b[0;34m(self)\u001b[0m\n\u001b[1;32m     31\u001b[0m \u001b[0;34m\u001b[0m\u001b[0m\n\u001b[1;32m     32\u001b[0m         \u001b[0;32mif\u001b[0m \u001b[0mself\u001b[0m\u001b[0;34m.\u001b[0m\u001b[0mtype\u001b[0m \u001b[0;34m==\u001b[0m \u001b[0;34m'assays'\u001b[0m\u001b[0;34m:\u001b[0m\u001b[0;34m\u001b[0m\u001b[0m\n\u001b[0;32m---> 33\u001b[0;31m             \u001b[0mself\u001b[0m\u001b[0;34m.\u001b[0m\u001b[0mJSON\u001b[0m \u001b[0;34m=\u001b[0m \u001b[0mHelper\u001b[0m\u001b[0;34m.\u001b[0m\u001b[0massayFormat\u001b[0m\u001b[0;34m(\u001b[0m\u001b[0;34m)\u001b[0m\u001b[0;34m\u001b[0m\u001b[0m\n\u001b[0m\u001b[1;32m     34\u001b[0m         \u001b[0;32melif\u001b[0m \u001b[0mself\u001b[0m\u001b[0;34m.\u001b[0m\u001b[0mtype\u001b[0m \u001b[0;34m==\u001b[0m \u001b[0;34m'investigations'\u001b[0m\u001b[0;34m:\u001b[0m\u001b[0;34m\u001b[0m\u001b[0m\n\u001b[1;32m     35\u001b[0m             \u001b[0mself\u001b[0m\u001b[0;34m.\u001b[0m\u001b[0mJSON\u001b[0m \u001b[0;34m=\u001b[0m \u001b[0mHelper\u001b[0m\u001b[0;34m.\u001b[0m\u001b[0minvestigationFormat\u001b[0m\u001b[0;34m(\u001b[0m\u001b[0;34m)\u001b[0m\u001b[0;34m\u001b[0m\u001b[0m\n",
         "\u001b[0;32m~/Work/ThirdYear/Seek/TheSeekNotebook/Helper.py\u001b[0m in \u001b[0;36massayFormat\u001b[0;34m()\u001b[0m\n\u001b[1;32m     46\u001b[0m     \u001b[0mrelationsFormat\u001b[0m\u001b[0;34m(\u001b[0m\u001b[0mJSON\u001b[0m\u001b[0;34m,\u001b[0m \u001b[0;34m'data_files'\u001b[0m\u001b[0;34m,\u001b[0m \u001b[0;34m'assay'\u001b[0m\u001b[0;34m)\u001b[0m\u001b[0;34m\u001b[0m\u001b[0m\n\u001b[1;32m     47\u001b[0m     \u001b[0mrelationsFormat\u001b[0m\u001b[0;34m(\u001b[0m\u001b[0mJSON\u001b[0m\u001b[0;34m,\u001b[0m \u001b[0;34m'documents'\u001b[0m\u001b[0;34m,\u001b[0m \u001b[0;34m'assay'\u001b[0m\u001b[0;34m)\u001b[0m\u001b[0;34m\u001b[0m\u001b[0m\n\u001b[0;32m---> 48\u001b[0;31m     \u001b[0mrelationFormat\u001b[0m\u001b[0;34m(\u001b[0m\u001b[0mJSON\u001b[0m\u001b[0;34m,\u001b[0m \u001b[0;34m'investigations'\u001b[0m\u001b[0;34m,\u001b[0m \u001b[0;34m'assay'\u001b[0m\u001b[0;34m)\u001b[0m\u001b[0;34m\u001b[0m\u001b[0m\n\u001b[0m\u001b[1;32m     49\u001b[0m     \u001b[0mrelationsFormat\u001b[0m\u001b[0;34m(\u001b[0m\u001b[0mJSON\u001b[0m\u001b[0;34m,\u001b[0m \u001b[0;34m'models'\u001b[0m\u001b[0;34m,\u001b[0m \u001b[0;34m'assay'\u001b[0m\u001b[0;34m)\u001b[0m\u001b[0;34m\u001b[0m\u001b[0m\n\u001b[1;32m     50\u001b[0m     \u001b[0mrelationsFormat\u001b[0m\u001b[0;34m(\u001b[0m\u001b[0mJSON\u001b[0m\u001b[0;34m,\u001b[0m \u001b[0;34m'people'\u001b[0m\u001b[0;34m,\u001b[0m \u001b[0;34m'assay'\u001b[0m\u001b[0;34m)\u001b[0m\u001b[0;34m\u001b[0m\u001b[0m\n",
         "\u001b[0;31mTypeError\u001b[0m: relationFormat() takes 2 positional arguments but 3 were given"
        ]
       }
      ],
      "source": "from WriteObject import WriteObject\n\nWO = WriteObject()\n\nWO.SEEKForm()",
      "start_time": "2019-03-15T14:31:42.513Z"
     },
     {
      "end_time": "2019-03-15T14:40:27.982Z",
      "execution_time": "20.6s",
      "outputs": [
       {
        "data": {
         "text/html": "<h3>SEEK FORM</h3>",
         "text/plain": "<IPython.core.display.HTML object>"
        },
        "metadata": {},
        "output_type": "display_data",
        "transient": {}
       },
       {
        "name": "stdout",
        "output_type": "stream",
        "text": "\nThe type of object you want to upload to SEEK: assays\n\nYou need to complete the following form in order to succesfully upload your information to SEEK\nPlease specify the description: This is a template example used to test the POST reqeust from the Jupyter Notebook.\nPlease specify other creators: Bogdan Gherasim\nPlease specify the title: TESTING\nPlease specify the assay class description: test\nPlease specify the assay class key: test\nPlease specify the assay class title: test\nPlease specify the assay type label: test\nPlease specify the assay type uri: test\nPlease specify the technology type label: test\nPlease specify the technology type uri: test\nPlease specify how many creators is this assay related to: test\n"
       },
       {
        "ename": "ValueError",
        "evalue": "invalid literal for int() with base 10: 'test'",
        "output_type": "error",
        "traceback": [
         "\u001b[0;31m---------------------------------------------------------------------------\u001b[0m",
         "\u001b[0;31mValueError\u001b[0m                                Traceback (most recent call last)",
         "\u001b[0;32m<ipython-input-1-cd480b0c800a>\u001b[0m in \u001b[0;36m<module>\u001b[0;34m()\u001b[0m\n\u001b[1;32m      3\u001b[0m \u001b[0mWO\u001b[0m \u001b[0;34m=\u001b[0m \u001b[0mWriteObject\u001b[0m\u001b[0;34m(\u001b[0m\u001b[0;34m)\u001b[0m\u001b[0;34m\u001b[0m\u001b[0m\n\u001b[1;32m      4\u001b[0m \u001b[0;34m\u001b[0m\u001b[0m\n\u001b[0;32m----> 5\u001b[0;31m \u001b[0mWO\u001b[0m\u001b[0;34m.\u001b[0m\u001b[0mSEEKForm\u001b[0m\u001b[0;34m(\u001b[0m\u001b[0;34m)\u001b[0m\u001b[0;34m\u001b[0m\u001b[0m\n\u001b[0m",
         "\u001b[0;32m~/Work/ThirdYear/Seek/TheSeekNotebook/WriteObject.py\u001b[0m in \u001b[0;36mSEEKForm\u001b[0;34m(self)\u001b[0m\n\u001b[1;32m     31\u001b[0m \u001b[0;34m\u001b[0m\u001b[0m\n\u001b[1;32m     32\u001b[0m         \u001b[0;32mif\u001b[0m \u001b[0mself\u001b[0m\u001b[0;34m.\u001b[0m\u001b[0mtype\u001b[0m \u001b[0;34m==\u001b[0m \u001b[0;34m'assays'\u001b[0m\u001b[0;34m:\u001b[0m\u001b[0;34m\u001b[0m\u001b[0m\n\u001b[0;32m---> 33\u001b[0;31m             \u001b[0mself\u001b[0m\u001b[0;34m.\u001b[0m\u001b[0mJSON\u001b[0m \u001b[0;34m=\u001b[0m \u001b[0mHelper\u001b[0m\u001b[0;34m.\u001b[0m\u001b[0massayFormat\u001b[0m\u001b[0;34m(\u001b[0m\u001b[0;34m)\u001b[0m\u001b[0;34m\u001b[0m\u001b[0m\n\u001b[0m\u001b[1;32m     34\u001b[0m         \u001b[0;32melif\u001b[0m \u001b[0mself\u001b[0m\u001b[0;34m.\u001b[0m\u001b[0mtype\u001b[0m \u001b[0;34m==\u001b[0m \u001b[0;34m'investigations'\u001b[0m\u001b[0;34m:\u001b[0m\u001b[0;34m\u001b[0m\u001b[0m\n\u001b[1;32m     35\u001b[0m             \u001b[0mself\u001b[0m\u001b[0;34m.\u001b[0m\u001b[0mJSON\u001b[0m \u001b[0;34m=\u001b[0m \u001b[0mHelper\u001b[0m\u001b[0;34m.\u001b[0m\u001b[0minvestigationFormat\u001b[0m\u001b[0;34m(\u001b[0m\u001b[0;34m)\u001b[0m\u001b[0;34m\u001b[0m\u001b[0m\n",
         "\u001b[0;32m~/Work/ThirdYear/Seek/TheSeekNotebook/Helper.py\u001b[0m in \u001b[0;36massayFormat\u001b[0;34m()\u001b[0m\n\u001b[1;32m     43\u001b[0m \u001b[0;34m\u001b[0m\u001b[0m\n\u001b[1;32m     44\u001b[0m \u001b[0;34m\u001b[0m\u001b[0m\n\u001b[0;32m---> 45\u001b[0;31m     \u001b[0mrelationsFormat\u001b[0m\u001b[0;34m(\u001b[0m\u001b[0mJSON\u001b[0m\u001b[0;34m,\u001b[0m \u001b[0;34m'creators'\u001b[0m\u001b[0;34m,\u001b[0m \u001b[0;34m'assay'\u001b[0m\u001b[0;34m)\u001b[0m\u001b[0;34m\u001b[0m\u001b[0m\n\u001b[0m\u001b[1;32m     46\u001b[0m     \u001b[0mrelationsFormat\u001b[0m\u001b[0;34m(\u001b[0m\u001b[0mJSON\u001b[0m\u001b[0;34m,\u001b[0m \u001b[0;34m'data_files'\u001b[0m\u001b[0;34m,\u001b[0m \u001b[0;34m'assay'\u001b[0m\u001b[0;34m)\u001b[0m\u001b[0;34m\u001b[0m\u001b[0m\n\u001b[1;32m     47\u001b[0m     \u001b[0mrelationsFormat\u001b[0m\u001b[0;34m(\u001b[0m\u001b[0mJSON\u001b[0m\u001b[0;34m,\u001b[0m \u001b[0;34m'documents'\u001b[0m\u001b[0;34m,\u001b[0m \u001b[0;34m'assay'\u001b[0m\u001b[0;34m)\u001b[0m\u001b[0;34m\u001b[0m\u001b[0m\n",
         "\u001b[0;32m~/Work/ThirdYear/Seek/TheSeekNotebook/Helper.py\u001b[0m in \u001b[0;36mrelationsFormat\u001b[0;34m(JSON, type, source)\u001b[0m\n\u001b[1;32m      1\u001b[0m \u001b[0;32mdef\u001b[0m \u001b[0mrelationsFormat\u001b[0m\u001b[0;34m(\u001b[0m\u001b[0mJSON\u001b[0m\u001b[0;34m,\u001b[0m \u001b[0mtype\u001b[0m\u001b[0;34m,\u001b[0m \u001b[0msource\u001b[0m\u001b[0;34m)\u001b[0m\u001b[0;34m:\u001b[0m\u001b[0;34m\u001b[0m\u001b[0m\n\u001b[1;32m      2\u001b[0m     \u001b[0mJSON\u001b[0m\u001b[0;34m[\u001b[0m\u001b[0;34m'data'\u001b[0m\u001b[0;34m]\u001b[0m\u001b[0;34m[\u001b[0m\u001b[0;34m'relationships'\u001b[0m\u001b[0;34m]\u001b[0m\u001b[0;34m[\u001b[0m\u001b[0mtype\u001b[0m\u001b[0;34m]\u001b[0m \u001b[0;34m=\u001b[0m \u001b[0;34m[\u001b[0m\u001b[0;34m{\u001b[0m\u001b[0;34m}\u001b[0m\u001b[0;34m]\u001b[0m\u001b[0;34m\u001b[0m\u001b[0m\n\u001b[0;32m----> 3\u001b[0;31m     \u001b[0mnumberOfRelations\u001b[0m \u001b[0;34m=\u001b[0m \u001b[0mint\u001b[0m\u001b[0;34m(\u001b[0m\u001b[0minput\u001b[0m\u001b[0;34m(\u001b[0m\u001b[0;34m'Please specify how many '\u001b[0m \u001b[0;34m+\u001b[0m \u001b[0mtype\u001b[0m \u001b[0;34m+\u001b[0m \u001b[0;34m' is this '\u001b[0m \u001b[0;34m+\u001b[0m \u001b[0msource\u001b[0m \u001b[0;34m+\u001b[0m \u001b[0;34m' related to: '\u001b[0m\u001b[0;34m)\u001b[0m\u001b[0;34m)\u001b[0m\u001b[0;34m\u001b[0m\u001b[0m\n\u001b[0m\u001b[1;32m      4\u001b[0m     \u001b[0;32mfor\u001b[0m \u001b[0mindex\u001b[0m \u001b[0;32min\u001b[0m \u001b[0mrange\u001b[0m\u001b[0;34m(\u001b[0m\u001b[0;36m1\u001b[0m\u001b[0;34m,\u001b[0m \u001b[0mnumberOfRelations\u001b[0m \u001b[0;34m+\u001b[0m \u001b[0;36m1\u001b[0m\u001b[0;34m)\u001b[0m\u001b[0;34m:\u001b[0m\u001b[0;34m\u001b[0m\u001b[0m\n\u001b[1;32m      5\u001b[0m \u001b[0;34m\u001b[0m\u001b[0m\n",
         "\u001b[0;31mValueError\u001b[0m: invalid literal for int() with base 10: 'test'"
        ]
       }
      ],
      "source": "from WriteObject import WriteObject\n\nWO = WriteObject()\n\nWO.SEEKForm()",
      "start_time": "2019-03-15T14:40:07.399Z"
     },
     {
      "end_time": "2019-03-15T14:41:43.839Z",
      "execution_time": "1m 7.72s",
      "outputs": [
       {
        "data": {
         "text/html": "<h3>SEEK FORM</h3>",
         "text/plain": "<IPython.core.display.HTML object>"
        },
        "metadata": {},
        "output_type": "display_data",
        "transient": {}
       },
       {
        "name": "stdout",
        "output_type": "stream",
        "text": "\nThe type of object you want to upload to SEEK: assays\n\nYou need to complete the following form in order to succesfully upload your information to SEEK\nPlease specify the description: This is a template example used to test the POST reqeust from the Jupyter Notebook.\nPlease specify other creators: Bogdan Gherasim\nPlease specify the title: TESTING\nPlease specify the assay class description: test\nPlease specify the assay class key: test\nPlease specify the assay class title: test\nPlease specify the assay type label: test\nPlease specify the assay type uri: test\nPlease specify the technology type label: test\nPlease specify the technology type uri: test\nPlease specify how many creators is this assay related to: 1\nPlease specify the id of the creator number 1: 23\nPlease specify how many data_files is this assay related to: 0\nPlease specify how many documents is this assay related to: 0\nPlease specify the id of the investigation0\nPlease specify how many models is this assay related to: 0\nPlease specify how many people is this assay related to: 0\nPlease specify how many projects is this assay related to: 0\nPlease specify how many publications is this assay related to: 0\nPlease specify how many sops is this assay related to: 0\nPlease specify the id of the studie0\nPlease specify how many submitters is this assay related to: 0\n{'data': {'type': 'assays', 'attributes': {'description': 'This is a template example used to test the POST reqeust from the Jupyter Notebook.', 'other_creators': 'Bogdan Gherasim', 'title': 'TESTING', 'assay_class': {'description': 'test', 'key': 'test', 'title': 'test'}, 'assay_type': {'label': 'test', 'uri': 'test'}, 'technology_type': {'label': 'test', 'uri': 'test'}}, 'relationships': {'creators': [{}, [{'id': 23, 'type': 'creators'}]], 'data_files': [{}], 'documents': [{}], 'investigations': {'id': 0, 'type': 'investigations'}, 'models': [{}], 'people': [{}], 'projects': [{}], 'publications': [{}], 'sops': [{}], 'studies': {'id': 0, 'type': 'studies'}, 'submitters': [{}]}}}\n"
       }
      ],
      "source": "from WriteObject import WriteObject\n\nWO = WriteObject()\n\nWO.SEEKForm()",
      "start_time": "2019-03-15T14:40:36.120Z"
     },
     {
      "end_time": "2019-03-15T14:44:12.342Z",
      "execution_time": "46.8s",
      "outputs": [
       {
        "data": {
         "text/html": "<h3>SEEK FORM</h3>",
         "text/plain": "<IPython.core.display.HTML object>"
        },
        "metadata": {},
        "output_type": "display_data",
        "transient": {}
       },
       {
        "name": "stdout",
        "output_type": "stream",
        "text": "\nThe type of object you want to upload to SEEK: assays\n\nYou need to complete the following form in order to succesfully upload your information to SEEK\nPlease specify the description: This is a template example used to test the POST reqeust from the Jupyter Notebook.\nPlease specify other creators: Bogdan Gherasim\nPlease specify the title: TESTING\nPlease specify the assay class description: test\nPlease specify the assay class key: test\nPlease specify the assay class title: test\nPlease specify the assay type label: test\nPlease specify the assay type uri: test\nPlease specify the technology type label: test\nPlease specify the technology type uri: test\nPlease specify how many creators is this assay related to: 1\nPlease specify the id of the creator number 1: 373\nPlease specify how many data_files is this assay related to: 0\nPlease specify how many documents is this assay related to: 0\nPlease specify the id of the investigation0\nPlease specify how many models is this assay related to: 0\nPlease specify how many people is this assay related to: 0\nPlease specify how many projects is this assay related to: 0\nPlease specify how many publications is this assay related to: 0\nPlease specify how many sops is this assay related to: 0\nPlease specify the id of the studie0\nPlease specify how many submitters is this assay related to: 0\n{'data': {'type': 'assays', 'attributes': {'description': 'This is a template example used to test the POST reqeust from the Jupyter Notebook.', 'other_creators': 'Bogdan Gherasim', 'title': 'TESTING', 'assay_class': {'description': 'test', 'key': 'test', 'title': 'test'}, 'assay_type': {'label': 'test', 'uri': 'test'}, 'technology_type': {'label': 'test', 'uri': 'test'}}, 'relationships': {'creators': [[{'id': 373, 'type': 'creators'}]], 'data_files': [], 'documents': [], 'investigations': {'id': 0, 'type': 'investigations'}, 'models': [], 'people': [], 'projects': [], 'publications': [], 'sops': [], 'studies': {'id': 0, 'type': 'studies'}, 'submitters': []}}}\n"
       }
      ],
      "source": "from WriteObject import WriteObject\n\nWO = WriteObject()\n\nWO.SEEKForm()",
      "start_time": "2019-03-15T14:43:25.531Z"
     },
     {
      "end_time": "2019-03-15T14:48:08.374Z",
      "execution_time": "36.6s",
      "outputs": [
       {
        "data": {
         "text/html": "<h3>SEEK FORM</h3>",
         "text/plain": "<IPython.core.display.HTML object>"
        },
        "metadata": {},
        "output_type": "display_data",
        "transient": {}
       },
       {
        "name": "stdout",
        "output_type": "stream",
        "text": "\nThe type of object you want to upload to SEEK: assays\n\nYou need to complete the following form in order to succesfully upload your information to SEEK\nPlease specify the description: This is a template example used to test the POST reqeust from the Jupyter Notebook.\nPlease specify other creators: Bogdan Gherasim\nPlease specify the title: TESTING\nPlease specify the assay class description: test\nPlease specify the assay class key: test\nPlease specify the assay class title: test\nPlease specify the assay type label: test\nPlease specify the assay type uri: test\nPlease specify the technology type label: test\nPlease specify the technology type uri: test\nPlease specify how many creators is this assay related to: 1\nPlease specify the id of the creator number 1: 373\nPlease specify how many data_files is this assay related to: 0\nPlease specify how many documents is this assay related to: 0\nPlease specify the id of the investigation0\nPlease specify how many models is this assay related to: 0\nPlease specify how many people is this assay related to: 0\nPlease specify how many projects is this assay related to: 0\nPlease specify how many publications is this assay related to: 0\nPlease specify how many sops is this assay related to: 0\nPlease specify the id of the studie0\nPlease specify how many submitters is this assay related to: 0\n{'data': {'type': 'assays', 'attributes': {'description': 'This is a template example used to test the POST reqeust from the Jupyter Notebook.', 'other_creators': 'Bogdan Gherasim', 'title': 'TESTING', 'assay_class': {'description': 'test', 'key': 'test', 'title': 'test'}, 'assay_type': {'label': 'test', 'uri': 'test'}, 'technology_type': {'label': 'test', 'uri': 'test'}}, 'relationships': {'creators': [[{'id': 373, 'type': 'creators'}]], 'data_files': [{}], 'documents': [{}], 'investigations': {'id': 0, 'type': 'investigations'}, 'models': [{}], 'people': [{}], 'projects': [{}], 'publications': [{}], 'sops': [{}], 'studies': {'id': 0, 'type': 'studies'}, 'submitters': [{}]}}}\n"
       }
      ],
      "source": "from WriteObject import WriteObject\n\nWO = WriteObject()\n\nWO.SEEKForm()",
      "start_time": "2019-03-15T14:47:31.774Z"
     },
     {
      "end_time": "2019-03-15T14:49:41.016Z",
      "execution_time": "17.2s",
      "outputs": [
       {
        "data": {
         "text/html": "<h3>SEEK FORM</h3>",
         "text/plain": "<IPython.core.display.HTML object>"
        },
        "metadata": {},
        "output_type": "display_data",
        "transient": {}
       },
       {
        "name": "stdout",
        "output_type": "stream",
        "text": "\nThe type of object you want to upload to SEEK: assays\n\nYou need to complete the following form in order to succesfully upload your information to SEEK\nPlease specify the description: d\nPlease specify other creators: d\nPlease specify the title: d\nPlease specify the assay class description: d\nPlease specify the assay class key: d\nPlease specify the assay class title: d\nPlease specify the assay type label: d\nPlease specify the assay type uri: d\nPlease specify the technology type label: d\nPlease specify the technology type uri: d\nPlease specify how many creators is this assay related to: 3\nPlease specify the id of the creator number 1: 23\nPlease specify the id of the creator number 2: 23\nPlease specify the id of the creator number 3: 23\nPlease specify how many data_files is this assay related to: 0\nPlease specify how many documents is this assay related to: 0\nPlease specify the id of the investigation0\nPlease specify how many models is this assay related to: 0\nPlease specify how many people is this assay related to: 0\nPlease specify how many projects is this assay related to: 0\nPlease specify how many publications is this assay related to: 0\nPlease specify how many sops is this assay related to: 0\nPlease specify the id of the studie0\nPlease specify how many submitters is this assay related to: 0\n{'data': {'type': 'assays', 'attributes': {'description': 'd', 'other_creators': 'd', 'title': 'd', 'assay_class': {'description': 'd', 'key': 'd', 'title': 'd'}, 'assay_type': {'label': 'd', 'uri': 'd'}, 'technology_type': {'label': 'd', 'uri': 'd'}}, 'relationships': {'creators': [[{'id': 23, 'type': 'creators'}]], 'data_files': [{}], 'documents': [{}], 'investigations': {'id': 0, 'type': 'investigations'}, 'models': [{}], 'people': [{}], 'projects': [{}], 'publications': [{}], 'sops': [{}], 'studies': {'id': 0, 'type': 'studies'}, 'submitters': [{}]}}}\n"
       }
      ],
      "source": "from WriteObject import WriteObject\n\nWO = WriteObject()\n\nWO.SEEKForm()",
      "start_time": "2019-03-15T14:49:23.845Z"
     },
     {
      "end_time": "2019-03-15T14:50:22.874Z",
      "execution_time": "21.7s",
      "outputs": [
       {
        "data": {
         "text/html": "<h3>SEEK FORM</h3>",
         "text/plain": "<IPython.core.display.HTML object>"
        },
        "metadata": {},
        "output_type": "display_data",
        "transient": {}
       },
       {
        "name": "stdout",
        "output_type": "stream",
        "text": "\nThe type of object you want to upload to SEEK: assays\n\nYou need to complete the following form in order to succesfully upload your information to SEEK\nPlease specify the description: a\nPlease specify other creators: a\nPlease specify the title: a\nPlease specify the assay class description: a\nPlease specify the assay class key: a\nPlease specify the assay class title: a\nPlease specify the assay type label: a\nPlease specify the assay type uri: a\nPlease specify the technology type label: a\nPlease specify the technology type uri: a\nPlease specify how many creators is this assay related to: 3\nPlease specify the id of the creator number 1: 32\nPlease specify the id of the creator number 2: 42\nPlease specify the id of the creator number 3: 12\nPlease specify how many data_files is this assay related to: 0\nPlease specify how many documents is this assay related to: 0\nPlease specify the id of the investigation0\nPlease specify how many models is this assay related to: 0\nPlease specify how many people is this assay related to: 0\nPlease specify how many projects is this assay related to: 0\nPlease specify how many publications is this assay related to: 0\nPlease specify how many sops is this assay related to: 0\nPlease specify the id of the studie0\nPlease specify how many submitters is this assay related to: 0\n{'data': {'type': 'assays', 'attributes': {'description': 'a', 'other_creators': 'a', 'title': 'a', 'assay_class': {'description': 'a', 'key': 'a', 'title': 'a'}, 'assay_type': {'label': 'a', 'uri': 'a'}, 'technology_type': {'label': 'a', 'uri': 'a'}}, 'relationships': {'creators': [[{'id': 12, 'type': 'creators'}]], 'data_files': [{}], 'documents': [{}], 'investigations': {'id': 0, 'type': 'investigations'}, 'models': [{}], 'people': [{}], 'projects': [{}], 'publications': [{}], 'sops': [{}], 'studies': {'id': 0, 'type': 'studies'}, 'submitters': [{}]}}}\n"
       }
      ],
      "source": "from WriteObject import WriteObject\n\nWO = WriteObject()\n\nWO.SEEKForm()",
      "start_time": "2019-03-15T14:50:01.148Z"
     },
     {
      "end_time": "2019-03-15T14:50:55.167Z",
      "execution_time": "18.3s",
      "outputs": [
       {
        "data": {
         "text/html": "<h3>SEEK FORM</h3>",
         "text/plain": "<IPython.core.display.HTML object>"
        },
        "metadata": {},
        "output_type": "display_data",
        "transient": {}
       },
       {
        "name": "stdout",
        "output_type": "stream",
        "text": "\nThe type of object you want to upload to SEEK: assays\n\nYou need to complete the following form in order to succesfully upload your information to SEEK\nPlease specify the description: a\nPlease specify other creators: a\nPlease specify the title: a\nPlease specify the assay class description: a\nPlease specify the assay class key: a\nPlease specify the assay class title: a\nPlease specify the assay type label: a\nPlease specify the assay type uri: a\nPlease specify the technology type label: a\nPlease specify the technology type uri: a\nPlease specify how many creators is this assay related to: 3\nPlease specify the id of the creator number 1: 12\nPlease specify the id of the creator number 2: 23\nPlease specify the id of the creator number 3: 45\nPlease specify how many data_files is this assay related to: 0\nPlease specify how many documents is this assay related to: 0\nPlease specify the id of the investigation0\nPlease specify how many models is this assay related to: 0\nPlease specify how many people is this assay related to: 0\nPlease specify how many projects is this assay related to: 0\nPlease specify how many publications is this assay related to: 0\nPlease specify how many sops is this assay related to: 0\nPlease specify the id of the studie0\nPlease specify how many submitters is this assay related to: 0\n{'data': {'type': 'assays', 'attributes': {'description': 'a', 'other_creators': 'a', 'title': 'a', 'assay_class': {'description': 'a', 'key': 'a', 'title': 'a'}, 'assay_type': {'label': 'a', 'uri': 'a'}, 'technology_type': {'label': 'a', 'uri': 'a'}}, 'relationships': {'creators': [{'id': 45, 'type': 'creators'}], 'data_files': [{}], 'documents': [{}], 'investigations': {'id': 0, 'type': 'investigations'}, 'models': [{}], 'people': [{}], 'projects': [{}], 'publications': [{}], 'sops': [{}], 'studies': {'id': 0, 'type': 'studies'}, 'submitters': [{}]}}}\n"
       }
      ],
      "source": "from WriteObject import WriteObject\n\nWO = WriteObject()\n\nWO.SEEKForm()",
      "start_time": "2019-03-15T14:50:36.891Z"
     },
     {
      "end_time": "2019-03-15T15:56:13.696Z",
      "execution_time": "15.0s",
      "outputs": [
       {
        "data": {
         "text/html": "<h3>SEEK FORM</h3>",
         "text/plain": "<IPython.core.display.HTML object>"
        },
        "metadata": {},
        "output_type": "display_data",
        "transient": {}
       },
       {
        "name": "stdout",
        "output_type": "stream",
        "text": "\nThe type of object you want to upload to SEEK: assays\n\nYou need to complete the following form in order to succesfully upload your information to SEEK\nPlease specify the description: a\nPlease specify other creators: a\nPlease specify the title: a\nPlease specify the assay class description: a\nPlease specify the assay class key: a\nPlease specify the assay class title: a\nPlease specify the assay type label: a\nPlease specify the assay type uri: a\nPlease specify the technology type label: a\nPlease specify the technology type uri: a\nPlease specify how many creators is this assay related to: 3\nPlease specify the id of the creator number 1: 23\nPlease specify the id of the creator number 2: 21\nPlease specify the id of the creator number 3: 42\nPlease specify how many data_files is this assay related to: 0\nPlease specify how many documents is this assay related to: 0\nPlease specify the id of the investigation0\n"
       },
       {
        "ename": "ValueError",
        "evalue": "invalid literal for int() with base 10: '0: '",
        "output_type": "error",
        "traceback": [
         "\u001b[0;31m---------------------------------------------------------------------------\u001b[0m",
         "\u001b[0;31mValueError\u001b[0m                                Traceback (most recent call last)",
         "\u001b[0;32m<ipython-input-1-cd480b0c800a>\u001b[0m in \u001b[0;36m<module>\u001b[0;34m()\u001b[0m\n\u001b[1;32m      3\u001b[0m \u001b[0mWO\u001b[0m \u001b[0;34m=\u001b[0m \u001b[0mWriteObject\u001b[0m\u001b[0;34m(\u001b[0m\u001b[0;34m)\u001b[0m\u001b[0;34m\u001b[0m\u001b[0m\n\u001b[1;32m      4\u001b[0m \u001b[0;34m\u001b[0m\u001b[0m\n\u001b[0;32m----> 5\u001b[0;31m \u001b[0mWO\u001b[0m\u001b[0;34m.\u001b[0m\u001b[0mSEEKForm\u001b[0m\u001b[0;34m(\u001b[0m\u001b[0;34m)\u001b[0m\u001b[0;34m\u001b[0m\u001b[0m\n\u001b[0m",
         "\u001b[0;32m~/Work/ThirdYear/Seek/TheSeekNotebook/WriteObject.py\u001b[0m in \u001b[0;36mSEEKForm\u001b[0;34m(self)\u001b[0m\n\u001b[1;32m     31\u001b[0m \u001b[0;34m\u001b[0m\u001b[0m\n\u001b[1;32m     32\u001b[0m         \u001b[0;32mif\u001b[0m \u001b[0mself\u001b[0m\u001b[0;34m.\u001b[0m\u001b[0mtype\u001b[0m \u001b[0;34m==\u001b[0m \u001b[0;34m'assays'\u001b[0m\u001b[0;34m:\u001b[0m\u001b[0;34m\u001b[0m\u001b[0m\n\u001b[0;32m---> 33\u001b[0;31m             \u001b[0mself\u001b[0m\u001b[0;34m.\u001b[0m\u001b[0mJSON\u001b[0m \u001b[0;34m=\u001b[0m \u001b[0mHelper\u001b[0m\u001b[0;34m.\u001b[0m\u001b[0massayFormat\u001b[0m\u001b[0;34m(\u001b[0m\u001b[0;34m)\u001b[0m\u001b[0;34m\u001b[0m\u001b[0m\n\u001b[0m\u001b[1;32m     34\u001b[0m         \u001b[0;32melif\u001b[0m \u001b[0mself\u001b[0m\u001b[0;34m.\u001b[0m\u001b[0mtype\u001b[0m \u001b[0;34m==\u001b[0m \u001b[0;34m'investigations'\u001b[0m\u001b[0;34m:\u001b[0m\u001b[0;34m\u001b[0m\u001b[0m\n\u001b[1;32m     35\u001b[0m             \u001b[0mself\u001b[0m\u001b[0;34m.\u001b[0m\u001b[0mJSON\u001b[0m \u001b[0;34m=\u001b[0m \u001b[0mHelper\u001b[0m\u001b[0;34m.\u001b[0m\u001b[0minvestigationFormat\u001b[0m\u001b[0;34m(\u001b[0m\u001b[0;34m)\u001b[0m\u001b[0;34m\u001b[0m\u001b[0m\n",
         "\u001b[0;32m~/Work/ThirdYear/Seek/TheSeekNotebook/Helper.py\u001b[0m in \u001b[0;36massayFormat\u001b[0;34m()\u001b[0m\n\u001b[1;32m     48\u001b[0m     \u001b[0mrelationsFormat\u001b[0m\u001b[0;34m(\u001b[0m\u001b[0mJSON\u001b[0m\u001b[0;34m,\u001b[0m \u001b[0;34m'data_files'\u001b[0m\u001b[0;34m,\u001b[0m \u001b[0;34m'assay'\u001b[0m\u001b[0;34m)\u001b[0m\u001b[0;34m\u001b[0m\u001b[0m\n\u001b[1;32m     49\u001b[0m     \u001b[0mrelationsFormat\u001b[0m\u001b[0;34m(\u001b[0m\u001b[0mJSON\u001b[0m\u001b[0;34m,\u001b[0m \u001b[0;34m'documents'\u001b[0m\u001b[0;34m,\u001b[0m \u001b[0;34m'assay'\u001b[0m\u001b[0;34m)\u001b[0m\u001b[0;34m\u001b[0m\u001b[0m\n\u001b[0;32m---> 50\u001b[0;31m     \u001b[0mrelationFormat\u001b[0m\u001b[0;34m(\u001b[0m\u001b[0mJSON\u001b[0m\u001b[0;34m,\u001b[0m \u001b[0;34m'investigations'\u001b[0m\u001b[0;34m)\u001b[0m\u001b[0;34m\u001b[0m\u001b[0m\n\u001b[0m\u001b[1;32m     51\u001b[0m     \u001b[0mrelationsFormat\u001b[0m\u001b[0;34m(\u001b[0m\u001b[0mJSON\u001b[0m\u001b[0;34m,\u001b[0m \u001b[0;34m'models'\u001b[0m\u001b[0;34m,\u001b[0m \u001b[0;34m'assay'\u001b[0m\u001b[0;34m)\u001b[0m\u001b[0;34m\u001b[0m\u001b[0m\n\u001b[1;32m     52\u001b[0m     \u001b[0mrelationsFormat\u001b[0m\u001b[0;34m(\u001b[0m\u001b[0mJSON\u001b[0m\u001b[0;34m,\u001b[0m \u001b[0;34m'people'\u001b[0m\u001b[0;34m,\u001b[0m \u001b[0;34m'assay'\u001b[0m\u001b[0;34m)\u001b[0m\u001b[0;34m\u001b[0m\u001b[0m\n",
         "\u001b[0;32m~/Work/ThirdYear/Seek/TheSeekNotebook/Helper.py\u001b[0m in \u001b[0;36mrelationFormat\u001b[0;34m(JSON, type)\u001b[0m\n\u001b[1;32m     11\u001b[0m \u001b[0;34m\u001b[0m\u001b[0m\n\u001b[1;32m     12\u001b[0m     \u001b[0mJSON\u001b[0m\u001b[0;34m[\u001b[0m\u001b[0;34m'data'\u001b[0m\u001b[0;34m]\u001b[0m\u001b[0;34m[\u001b[0m\u001b[0;34m'relationships'\u001b[0m\u001b[0;34m]\u001b[0m\u001b[0;34m[\u001b[0m\u001b[0mtype\u001b[0m\u001b[0;34m]\u001b[0m \u001b[0;34m=\u001b[0m \u001b[0;34m[\u001b[0m\u001b[0;34m{\u001b[0m\u001b[0;34m}\u001b[0m\u001b[0;34m]\u001b[0m\u001b[0;34m\u001b[0m\u001b[0m\n\u001b[0;32m---> 13\u001b[0;31m     \u001b[0mJSON\u001b[0m\u001b[0;34m[\u001b[0m\u001b[0;34m'data'\u001b[0m\u001b[0;34m]\u001b[0m\u001b[0;34m[\u001b[0m\u001b[0;34m'relationships'\u001b[0m\u001b[0;34m]\u001b[0m\u001b[0;34m[\u001b[0m\u001b[0mtype\u001b[0m\u001b[0;34m]\u001b[0m \u001b[0;34m=\u001b[0m \u001b[0;34m{\u001b[0m\u001b[0;34m'id'\u001b[0m \u001b[0;34m:\u001b[0m \u001b[0mint\u001b[0m\u001b[0;34m(\u001b[0m\u001b[0minput\u001b[0m\u001b[0;34m(\u001b[0m\u001b[0;34m'Please specify the id of the '\u001b[0m \u001b[0;34m+\u001b[0m \u001b[0mtype\u001b[0m\u001b[0;34m[\u001b[0m\u001b[0;34m:\u001b[0m\u001b[0;34m-\u001b[0m\u001b[0;36m1\u001b[0m\u001b[0;34m]\u001b[0m\u001b[0;34m)\u001b[0m \u001b[0;34m+\u001b[0m \u001b[0;34m\": \"\u001b[0m\u001b[0;34m)\u001b[0m\u001b[0;34m,\u001b[0m \u001b[0;34m'type'\u001b[0m \u001b[0;34m:\u001b[0m \u001b[0mtype\u001b[0m\u001b[0;34m}\u001b[0m\u001b[0;34m\u001b[0m\u001b[0m\n\u001b[0m\u001b[1;32m     14\u001b[0m \u001b[0;34m\u001b[0m\u001b[0m\n\u001b[1;32m     15\u001b[0m \u001b[0;32mdef\u001b[0m \u001b[0massayFormat\u001b[0m\u001b[0;34m(\u001b[0m\u001b[0;34m)\u001b[0m\u001b[0;34m:\u001b[0m\u001b[0;34m\u001b[0m\u001b[0m\n",
         "\u001b[0;31mValueError\u001b[0m: invalid literal for int() with base 10: '0: '"
        ]
       }
      ],
      "source": "from WriteObject import WriteObject\n\nWO = WriteObject()\n\nWO.SEEKForm()",
      "start_time": "2019-03-15T15:55:58.725Z"
     },
     {
      "end_time": "2019-03-15T15:57:19.119Z",
      "execution_time": "16.7s",
      "outputs": [
       {
        "data": {
         "text/html": "<h3>SEEK FORM</h3>",
         "text/plain": "<IPython.core.display.HTML object>"
        },
        "metadata": {},
        "output_type": "display_data",
        "transient": {}
       },
       {
        "name": "stdout",
        "output_type": "stream",
        "text": "\nThe type of object you want to upload to SEEK: assays\n\nYou need to complete the following form in order to succesfully upload your information to SEEK\nPlease specify the description: a\nPlease specify other creators: a\nPlease specify the title: a\nPlease specify the assay class description: a\nPlease specify the assay class key: a\nPlease specify the assay class title: a\nPlease specify the assay type label: a\nPlease specify the assay type uri: a\nPlease specify the technology type label: a\nPlease specify the technology type uri: a\nPlease specify how many creators is this assay related to: 3\nPlease specify the id of the creator number 1: 32\nPlease specify the id of the creator number 2: 21\nPlease specify the id of the creator number 3: 24\nPlease specify how many data_files is this assay related to: 0\nPlease specify how many documents is this assay related to: 0\nPlease specify the id of the investigation\n"
       },
       {
        "ename": "ValueError",
        "evalue": "invalid literal for int() with base 10: ': '",
        "output_type": "error",
        "traceback": [
         "\u001b[0;31m---------------------------------------------------------------------------\u001b[0m",
         "\u001b[0;31mValueError\u001b[0m                                Traceback (most recent call last)",
         "\u001b[0;32m<ipython-input-1-cd480b0c800a>\u001b[0m in \u001b[0;36m<module>\u001b[0;34m()\u001b[0m\n\u001b[1;32m      3\u001b[0m \u001b[0mWO\u001b[0m \u001b[0;34m=\u001b[0m \u001b[0mWriteObject\u001b[0m\u001b[0;34m(\u001b[0m\u001b[0;34m)\u001b[0m\u001b[0;34m\u001b[0m\u001b[0m\n\u001b[1;32m      4\u001b[0m \u001b[0;34m\u001b[0m\u001b[0m\n\u001b[0;32m----> 5\u001b[0;31m \u001b[0mWO\u001b[0m\u001b[0;34m.\u001b[0m\u001b[0mSEEKForm\u001b[0m\u001b[0;34m(\u001b[0m\u001b[0;34m)\u001b[0m\u001b[0;34m\u001b[0m\u001b[0m\n\u001b[0m",
         "\u001b[0;32m~/Work/ThirdYear/Seek/TheSeekNotebook/WriteObject.py\u001b[0m in \u001b[0;36mSEEKForm\u001b[0;34m(self)\u001b[0m\n\u001b[1;32m     31\u001b[0m \u001b[0;34m\u001b[0m\u001b[0m\n\u001b[1;32m     32\u001b[0m         \u001b[0;32mif\u001b[0m \u001b[0mself\u001b[0m\u001b[0;34m.\u001b[0m\u001b[0mtype\u001b[0m \u001b[0;34m==\u001b[0m \u001b[0;34m'assays'\u001b[0m\u001b[0;34m:\u001b[0m\u001b[0;34m\u001b[0m\u001b[0m\n\u001b[0;32m---> 33\u001b[0;31m             \u001b[0mself\u001b[0m\u001b[0;34m.\u001b[0m\u001b[0mJSON\u001b[0m \u001b[0;34m=\u001b[0m \u001b[0mHelper\u001b[0m\u001b[0;34m.\u001b[0m\u001b[0massayFormat\u001b[0m\u001b[0;34m(\u001b[0m\u001b[0;34m)\u001b[0m\u001b[0;34m\u001b[0m\u001b[0m\n\u001b[0m\u001b[1;32m     34\u001b[0m         \u001b[0;32melif\u001b[0m \u001b[0mself\u001b[0m\u001b[0;34m.\u001b[0m\u001b[0mtype\u001b[0m \u001b[0;34m==\u001b[0m \u001b[0;34m'investigations'\u001b[0m\u001b[0;34m:\u001b[0m\u001b[0;34m\u001b[0m\u001b[0m\n\u001b[1;32m     35\u001b[0m             \u001b[0mself\u001b[0m\u001b[0;34m.\u001b[0m\u001b[0mJSON\u001b[0m \u001b[0;34m=\u001b[0m \u001b[0mHelper\u001b[0m\u001b[0;34m.\u001b[0m\u001b[0minvestigationFormat\u001b[0m\u001b[0;34m(\u001b[0m\u001b[0;34m)\u001b[0m\u001b[0;34m\u001b[0m\u001b[0m\n",
         "\u001b[0;32m~/Work/ThirdYear/Seek/TheSeekNotebook/Helper.py\u001b[0m in \u001b[0;36massayFormat\u001b[0;34m()\u001b[0m\n\u001b[1;32m     48\u001b[0m     \u001b[0mrelationsFormat\u001b[0m\u001b[0;34m(\u001b[0m\u001b[0mJSON\u001b[0m\u001b[0;34m,\u001b[0m \u001b[0;34m'data_files'\u001b[0m\u001b[0;34m,\u001b[0m \u001b[0;34m'assay'\u001b[0m\u001b[0;34m)\u001b[0m\u001b[0;34m\u001b[0m\u001b[0m\n\u001b[1;32m     49\u001b[0m     \u001b[0mrelationsFormat\u001b[0m\u001b[0;34m(\u001b[0m\u001b[0mJSON\u001b[0m\u001b[0;34m,\u001b[0m \u001b[0;34m'documents'\u001b[0m\u001b[0;34m,\u001b[0m \u001b[0;34m'assay'\u001b[0m\u001b[0;34m)\u001b[0m\u001b[0;34m\u001b[0m\u001b[0m\n\u001b[0;32m---> 50\u001b[0;31m     \u001b[0mrelationFormat\u001b[0m\u001b[0;34m(\u001b[0m\u001b[0mJSON\u001b[0m\u001b[0;34m,\u001b[0m \u001b[0;34m'investigations'\u001b[0m\u001b[0;34m)\u001b[0m\u001b[0;34m\u001b[0m\u001b[0m\n\u001b[0m\u001b[1;32m     51\u001b[0m     \u001b[0mrelationsFormat\u001b[0m\u001b[0;34m(\u001b[0m\u001b[0mJSON\u001b[0m\u001b[0;34m,\u001b[0m \u001b[0;34m'models'\u001b[0m\u001b[0;34m,\u001b[0m \u001b[0;34m'assay'\u001b[0m\u001b[0;34m)\u001b[0m\u001b[0;34m\u001b[0m\u001b[0m\n\u001b[1;32m     52\u001b[0m     \u001b[0mrelationsFormat\u001b[0m\u001b[0;34m(\u001b[0m\u001b[0mJSON\u001b[0m\u001b[0;34m,\u001b[0m \u001b[0;34m'people'\u001b[0m\u001b[0;34m,\u001b[0m \u001b[0;34m'assay'\u001b[0m\u001b[0;34m)\u001b[0m\u001b[0;34m\u001b[0m\u001b[0m\n",
         "\u001b[0;32m~/Work/ThirdYear/Seek/TheSeekNotebook/Helper.py\u001b[0m in \u001b[0;36mrelationFormat\u001b[0;34m(JSON, type)\u001b[0m\n\u001b[1;32m     11\u001b[0m \u001b[0;34m\u001b[0m\u001b[0m\n\u001b[1;32m     12\u001b[0m     \u001b[0mJSON\u001b[0m\u001b[0;34m[\u001b[0m\u001b[0;34m'data'\u001b[0m\u001b[0;34m]\u001b[0m\u001b[0;34m[\u001b[0m\u001b[0;34m'relationships'\u001b[0m\u001b[0;34m]\u001b[0m\u001b[0;34m[\u001b[0m\u001b[0mtype\u001b[0m\u001b[0;34m]\u001b[0m \u001b[0;34m=\u001b[0m \u001b[0;34m[\u001b[0m\u001b[0;34m{\u001b[0m\u001b[0;34m}\u001b[0m\u001b[0;34m]\u001b[0m\u001b[0;34m\u001b[0m\u001b[0m\n\u001b[0;32m---> 13\u001b[0;31m     \u001b[0mJSON\u001b[0m\u001b[0;34m[\u001b[0m\u001b[0;34m'data'\u001b[0m\u001b[0;34m]\u001b[0m\u001b[0;34m[\u001b[0m\u001b[0;34m'relationships'\u001b[0m\u001b[0;34m]\u001b[0m\u001b[0;34m[\u001b[0m\u001b[0mtype\u001b[0m\u001b[0;34m]\u001b[0m \u001b[0;34m=\u001b[0m \u001b[0;34m{\u001b[0m\u001b[0;34m'id'\u001b[0m \u001b[0;34m:\u001b[0m \u001b[0mint\u001b[0m\u001b[0;34m(\u001b[0m\u001b[0minput\u001b[0m\u001b[0;34m(\u001b[0m\u001b[0;34m'Please specify the id of the '\u001b[0m \u001b[0;34m+\u001b[0m \u001b[0mtype\u001b[0m\u001b[0;34m[\u001b[0m\u001b[0;34m:\u001b[0m\u001b[0;34m-\u001b[0m\u001b[0;36m1\u001b[0m\u001b[0;34m]\u001b[0m\u001b[0;34m)\u001b[0m \u001b[0;34m+\u001b[0m \u001b[0;34m\": \"\u001b[0m\u001b[0;34m)\u001b[0m\u001b[0;34m,\u001b[0m \u001b[0;34m'type'\u001b[0m \u001b[0;34m:\u001b[0m \u001b[0mtype\u001b[0m\u001b[0;34m}\u001b[0m\u001b[0;34m\u001b[0m\u001b[0m\n\u001b[0m\u001b[1;32m     14\u001b[0m \u001b[0;34m\u001b[0m\u001b[0m\n\u001b[1;32m     15\u001b[0m \u001b[0;32mdef\u001b[0m \u001b[0massayFormat\u001b[0m\u001b[0;34m(\u001b[0m\u001b[0;34m)\u001b[0m\u001b[0;34m:\u001b[0m\u001b[0;34m\u001b[0m\u001b[0m\n",
         "\u001b[0;31mValueError\u001b[0m: invalid literal for int() with base 10: ': '"
        ]
       }
      ],
      "source": "from WriteObject import WriteObject\n\nWO = WriteObject()\n\nWO.SEEKForm()",
      "start_time": "2019-03-15T15:57:02.373Z"
     },
     {
      "end_time": "2019-03-15T15:58:37.870Z",
      "execution_time": "21.1s",
      "outputs": [
       {
        "data": {
         "text/html": "<h3>SEEK FORM</h3>",
         "text/plain": "<IPython.core.display.HTML object>"
        },
        "metadata": {},
        "output_type": "display_data",
        "transient": {}
       },
       {
        "name": "stdout",
        "output_type": "stream",
        "text": "\nThe type of object you want to upload to SEEK: assays\n\nYou need to complete the following form in order to succesfully upload your information to SEEK\nPlease specify the description: a\nPlease specify other creators: a\nPlease specify the title: a\nPlease specify the assay class description: a\nPlease specify the assay class key: a\nPlease specify the assay class title: a\nPlease specify the assay type label: a\nPlease specify the assay type uri: a\nPlease specify the technology type label: a\nPlease specify the technology type uri: a\nPlease specify how many creators is this assay related to: 3\nPlease specify the id of the creator number 1: 23\nPlease specify the id of the creator number 2: 12\nPlease specify the id of the creator number 3: 43\nPlease specify how many data_files is this assay related to: 0\nPlease specify how many documents is this assay related to: 0\nPlease specify the id of the investigation: \nPlease specify how many models is this assay related to: 0\nPlease specify how many people is this assay related to: 0\nPlease specify how many projects is this assay related to: 0\nPlease specify how many publications is this assay related to: 0\nPlease specify how many sops is this assay related to: 0\nPlease specify the id of the studie: \nPlease specify how many submitters is this assay related to: 0\n{'data': {'type': 'assays', 'attributes': {'description': 'a', 'other_creators': 'a', 'title': 'a', 'assay_class': {'description': 'a', 'key': 'a', 'title': 'a'}, 'assay_type': {'label': 'a', 'uri': 'a'}, 'technology_type': {'label': 'a', 'uri': 'a'}}, 'relationships': {'creators': ['id', 'type'], 'data_files': [{}], 'documents': [{}], 'investigations': [{}], 'models': [{}], 'people': [{}], 'projects': [{}], 'publications': [{}], 'sops': [{}], 'studies': [{}], 'submitters': [{}]}}}\n"
       }
      ],
      "source": "from WriteObject import WriteObject\n\nWO = WriteObject()\n\nWO.SEEKForm()",
      "start_time": "2019-03-15T15:58:16.745Z"
     },
     {
      "end_time": "2019-03-15T15:59:31.802Z",
      "execution_time": "22.2s",
      "outputs": [
       {
        "data": {
         "text/html": "<h3>SEEK FORM</h3>",
         "text/plain": "<IPython.core.display.HTML object>"
        },
        "metadata": {},
        "output_type": "display_data",
        "transient": {}
       },
       {
        "name": "stdout",
        "output_type": "stream",
        "text": "\nThe type of object you want to upload to SEEK: assays\n\nYou need to complete the following form in order to succesfully upload your information to SEEK\nPlease specify the description: a\nPlease specify other creators: a\nPlease specify the title: a\nPlease specify the assay class description: aa\nPlease specify the assay class key: a\nPlease specify the assay class title: a\nPlease specify the assay type label: a\nPlease specify the assay type uri: a\nPlease specify the technology type label: a\nPlease specify the technology type uri: a\nPlease specify how many creators is this assay related to: 4\nPlease specify the id of the creator number 1: 23\nPlease specify the id of the creator number 2: 12\nPlease specify the id of the creator number 3: 43\nPlease specify the id of the creator number 4: 21\nPlease specify how many data_files is this assay related to: 0\nPlease specify how many documents is this assay related to: 0\nPlease specify the id of the investigation: \nPlease specify how many models is this assay related to: 0\nPlease specify how many people is this assay related to: 0\nPlease specify how many projects is this assay related to: 0\nPlease specify how many publications is this assay related to: 0\nPlease specify how many sops is this assay related to: 0\nPlease specify the id of the studie: \nPlease specify how many submitters is this assay related to: 0\n{'data': {'type': 'assays', 'attributes': {'description': 'a', 'other_creators': 'a', 'title': 'a', 'assay_class': {'description': 'aa', 'key': 'a', 'title': 'a'}, 'assay_type': {'label': 'a', 'uri': 'a'}, 'technology_type': {'label': 'a', 'uri': 'a'}}, 'relationships': {'creators': [{}, 'id', 'type', 'id', 'type', 'id', 'type', 'id', 'type'], 'data_files': [{}], 'documents': [{}], 'investigations': [{}], 'models': [{}], 'people': [{}], 'projects': [{}], 'publications': [{}], 'sops': [{}], 'studies': [{}], 'submitters': [{}]}}}\n"
       }
      ],
      "source": "from WriteObject import WriteObject\n\nWO = WriteObject()\n\nWO.SEEKForm()",
      "start_time": "2019-03-15T15:59:09.582Z"
     },
     {
      "end_time": "2019-03-15T16:01:46.535Z",
      "execution_time": "23.8s",
      "outputs": [
       {
        "data": {
         "text/html": "<h3>SEEK FORM</h3>",
         "text/plain": "<IPython.core.display.HTML object>"
        },
        "metadata": {},
        "output_type": "display_data",
        "transient": {}
       },
       {
        "name": "stdout",
        "output_type": "stream",
        "text": "\nThe type of object you want to upload to SEEK: assays\n\nYou need to complete the following form in order to succesfully upload your information to SEEK\nPlease specify the description: a\nPlease specify other creators: a\nPlease specify the title: a\nPlease specify the assay class description: a\nPlease specify the assay class key: a\nPlease specify the assay class title: a\nPlease specify the assay type label: a\nPlease specify the assay type uri: a\nPlease specify the technology type label: a\nPlease specify the technology type uri: a\nPlease specify how many creators is this assay related to: 3\nPlease specify the id of the creator number 1: 23\nPlease specify the id of the creator number 2: 12\nPlease specify the id of the creator number 3: 43\nPlease specify how many data_files is this assay related to: 0\nPlease specify how many documents is this assay related to: 0\nPlease specify the id of the investigation: \nPlease specify how many models is this assay related to: 0\nPlease specify how many people is this assay related to: 0\nPlease specify how many projects is this assay related to: 0\nPlease specify how many publications is this assay related to: 0\nPlease specify how many sops is this assay related to: 0\nPlease specify the id of the studie: \nPlease specify how many submitters is this assay related to: 0\n{'data': {'type': 'assays', 'attributes': {'description': 'a', 'other_creators': 'a', 'title': 'a', 'assay_class': {'description': 'a', 'key': 'a', 'title': 'a'}, 'assay_type': {'label': 'a', 'uri': 'a'}, 'technology_type': {'label': 'a', 'uri': 'a'}}, 'relationships': {'creators': [{}, {'id': 23, 'type': 'creators'}, {'id': 12, 'type': 'creators'}, {'id': 43, 'type': 'creators'}], 'data_files': [{}], 'documents': [{}], 'investigations': [{}], 'models': [{}], 'people': [{}], 'projects': [{}], 'publications': [{}], 'sops': [{}], 'studies': [{}], 'submitters': [{}]}}}\n"
       }
      ],
      "source": "from WriteObject import WriteObject\n\nWO = WriteObject()\n\nWO.SEEKForm()",
      "start_time": "2019-03-15T16:01:22.739Z"
     },
     {
      "end_time": "2019-03-15T16:02:59.497Z",
      "execution_time": "19.8s",
      "outputs": [
       {
        "data": {
         "text/html": "<h3>SEEK FORM</h3>",
         "text/plain": "<IPython.core.display.HTML object>"
        },
        "metadata": {},
        "output_type": "display_data",
        "transient": {}
       },
       {
        "name": "stdout",
        "output_type": "stream",
        "text": "\nThe type of object you want to upload to SEEK: assays\n\nYou need to complete the following form in order to succesfully upload your information to SEEK\nPlease specify the description: a\nPlease specify other creators: a\nPlease specify the title: a\nPlease specify the assay class description: a\nPlease specify the assay class key: a\nPlease specify the assay class title: a\nPlease specify the assay type label: a\nPlease specify the assay type uri: a\nPlease specify the technology type label: a\nPlease specify the technology type uri: a\nPlease specify how many creators is this assay related to: 3\nPlease specify the id of the creator number 1: 12\nPlease specify the id of the creator number 2: 23\nPlease specify the id of the creator number 3: 34\nPlease specify how many data_files is this assay related to: 0\nPlease specify how many documents is this assay related to: 0\nPlease specify the id of the investigation: \nPlease specify how many models is this assay related to: 0\nPlease specify how many people is this assay related to: 0\nPlease specify how many projects is this assay related to: 0\nPlease specify how many publications is this assay related to: 0\nPlease specify how many sops is this assay related to: 0\nPlease specify the id of the studie: \nPlease specify how many submitters is this assay related to: 0\n{'data': {'type': 'assays', 'attributes': {'description': 'a', 'other_creators': 'a', 'title': 'a', 'assay_class': {'description': 'a', 'key': 'a', 'title': 'a'}, 'assay_type': {'label': 'a', 'uri': 'a'}, 'technology_type': {'label': 'a', 'uri': 'a'}}, 'relationships': {'creators': [{'id': 34, 'type': 'creators'}], 'data_files': [{}], 'documents': [{}], 'investigations': [{}], 'models': [{}], 'people': [{}], 'projects': [{}], 'publications': [{}], 'sops': [{}], 'studies': [{}], 'submitters': [{}]}}}\n"
       }
      ],
      "source": "from WriteObject import WriteObject\n\nWO = WriteObject()\n\nWO.SEEKForm()",
      "start_time": "2019-03-15T16:02:39.680Z"
     },
     {
      "end_time": "2019-03-15T16:22:34.150Z",
      "execution_time": "2.55s",
      "outputs": [
       {
        "data": {
         "text/html": "<h3>SEEK FORM</h3>",
         "text/plain": "<IPython.core.display.HTML object>"
        },
        "metadata": {},
        "output_type": "display_data",
        "transient": {}
       },
       {
        "name": "stdout",
        "output_type": "stream",
        "text": "\nThe type of object you want to upload to SEEK: assas\n\nYou need to complete the following form in order to succesfully upload your information to SEEK\n"
       },
       {
        "ename": "AttributeError",
        "evalue": "'WriteObject' object has no attribute 'JSON'",
        "output_type": "error",
        "traceback": [
         "\u001b[0;31m---------------------------------------------------------------------------\u001b[0m",
         "\u001b[0;31mAttributeError\u001b[0m                            Traceback (most recent call last)",
         "\u001b[0;32m<ipython-input-1-cd480b0c800a>\u001b[0m in \u001b[0;36m<module>\u001b[0;34m()\u001b[0m\n\u001b[1;32m      3\u001b[0m \u001b[0mWO\u001b[0m \u001b[0;34m=\u001b[0m \u001b[0mWriteObject\u001b[0m\u001b[0;34m(\u001b[0m\u001b[0;34m)\u001b[0m\u001b[0;34m\u001b[0m\u001b[0m\n\u001b[1;32m      4\u001b[0m \u001b[0;34m\u001b[0m\u001b[0m\n\u001b[0;32m----> 5\u001b[0;31m \u001b[0mWO\u001b[0m\u001b[0;34m.\u001b[0m\u001b[0mSEEKForm\u001b[0m\u001b[0;34m(\u001b[0m\u001b[0;34m)\u001b[0m\u001b[0;34m\u001b[0m\u001b[0m\n\u001b[0m",
         "\u001b[0;32m~/Work/ThirdYear/Seek/TheSeekNotebook/WriteObject.py\u001b[0m in \u001b[0;36mSEEKForm\u001b[0;34m(self)\u001b[0m\n\u001b[1;32m     37\u001b[0m             \u001b[0mself\u001b[0m\u001b[0;34m.\u001b[0m\u001b[0mJSON\u001b[0m \u001b[0;34m=\u001b[0m \u001b[0mHelper\u001b[0m\u001b[0;34m.\u001b[0m\u001b[0mstudyFormat\u001b[0m\u001b[0;34m(\u001b[0m\u001b[0;34m)\u001b[0m\u001b[0;34m\u001b[0m\u001b[0m\n\u001b[1;32m     38\u001b[0m \u001b[0;34m\u001b[0m\u001b[0m\n\u001b[0;32m---> 39\u001b[0;31m         \u001b[0mprint\u001b[0m\u001b[0;34m(\u001b[0m\u001b[0mself\u001b[0m\u001b[0;34m.\u001b[0m\u001b[0mJSON\u001b[0m\u001b[0;34m)\u001b[0m\u001b[0;34m\u001b[0m\u001b[0m\n\u001b[0m\u001b[1;32m     40\u001b[0m \u001b[0;34m\u001b[0m\u001b[0m\n\u001b[1;32m     41\u001b[0m     \u001b[0;32mdef\u001b[0m \u001b[0mrequest\u001b[0m\u001b[0;34m(\u001b[0m\u001b[0mself\u001b[0m\u001b[0;34m)\u001b[0m\u001b[0;34m:\u001b[0m\u001b[0;34m\u001b[0m\u001b[0m\n",
         "\u001b[0;31mAttributeError\u001b[0m: 'WriteObject' object has no attribute 'JSON'"
        ]
       }
      ],
      "source": "from WriteObject import WriteObject\n\nWO = WriteObject()\n\nWO.SEEKForm()",
      "start_time": "2019-03-15T16:22:31.601Z"
     },
     {
      "end_time": "2019-03-15T16:22:40.758Z",
      "execution_time": "5.26s",
      "outputs": [
       {
        "data": {
         "text/html": "<h3>SEEK FORM</h3>",
         "text/plain": "<IPython.core.display.HTML object>"
        },
        "metadata": {},
        "output_type": "display_data",
        "transient": {}
       },
       {
        "name": "stdout",
        "output_type": "stream",
        "text": "\nThe type of object you want to upload to SEEK: assays\n\nYou need to complete the following form in order to succesfully upload your information to SEEK\nPlease specify the description: a\nPlease specify other creators: a\nPlease specify the title: a\nPlease specify the assay class description: a\nPlease specify the assay class key: a\nPlease specify the assay class title: a\nPlease specify the assay type label: a\nPlease specify the assay type uri: a\nPlease specify the technology type label: a\nPlease specify the technology type uri: a\n"
       },
       {
        "ename": "KeyError",
        "evalue": "'creators'",
        "output_type": "error",
        "traceback": [
         "\u001b[0;31m---------------------------------------------------------------------------\u001b[0m",
         "\u001b[0;31mKeyError\u001b[0m                                  Traceback (most recent call last)",
         "\u001b[0;32m<ipython-input-2-cd480b0c800a>\u001b[0m in \u001b[0;36m<module>\u001b[0;34m()\u001b[0m\n\u001b[1;32m      3\u001b[0m \u001b[0mWO\u001b[0m \u001b[0;34m=\u001b[0m \u001b[0mWriteObject\u001b[0m\u001b[0;34m(\u001b[0m\u001b[0;34m)\u001b[0m\u001b[0;34m\u001b[0m\u001b[0m\n\u001b[1;32m      4\u001b[0m \u001b[0;34m\u001b[0m\u001b[0m\n\u001b[0;32m----> 5\u001b[0;31m \u001b[0mWO\u001b[0m\u001b[0;34m.\u001b[0m\u001b[0mSEEKForm\u001b[0m\u001b[0;34m(\u001b[0m\u001b[0;34m)\u001b[0m\u001b[0;34m\u001b[0m\u001b[0m\n\u001b[0m",
         "\u001b[0;32m~/Work/ThirdYear/Seek/TheSeekNotebook/WriteObject.py\u001b[0m in \u001b[0;36mSEEKForm\u001b[0;34m(self)\u001b[0m\n\u001b[1;32m     31\u001b[0m \u001b[0;34m\u001b[0m\u001b[0m\n\u001b[1;32m     32\u001b[0m         \u001b[0;32mif\u001b[0m \u001b[0mself\u001b[0m\u001b[0;34m.\u001b[0m\u001b[0mtype\u001b[0m \u001b[0;34m==\u001b[0m \u001b[0;34m'assays'\u001b[0m\u001b[0;34m:\u001b[0m\u001b[0;34m\u001b[0m\u001b[0m\n\u001b[0;32m---> 33\u001b[0;31m             \u001b[0mself\u001b[0m\u001b[0;34m.\u001b[0m\u001b[0mJSON\u001b[0m \u001b[0;34m=\u001b[0m \u001b[0mHelper\u001b[0m\u001b[0;34m.\u001b[0m\u001b[0massayFormat\u001b[0m\u001b[0;34m(\u001b[0m\u001b[0;34m)\u001b[0m\u001b[0;34m\u001b[0m\u001b[0m\n\u001b[0m\u001b[1;32m     34\u001b[0m         \u001b[0;32melif\u001b[0m \u001b[0mself\u001b[0m\u001b[0;34m.\u001b[0m\u001b[0mtype\u001b[0m \u001b[0;34m==\u001b[0m \u001b[0;34m'investigations'\u001b[0m\u001b[0;34m:\u001b[0m\u001b[0;34m\u001b[0m\u001b[0m\n\u001b[1;32m     35\u001b[0m             \u001b[0mself\u001b[0m\u001b[0;34m.\u001b[0m\u001b[0mJSON\u001b[0m \u001b[0;34m=\u001b[0m \u001b[0mHelper\u001b[0m\u001b[0;34m.\u001b[0m\u001b[0minvestigationFormat\u001b[0m\u001b[0;34m(\u001b[0m\u001b[0;34m)\u001b[0m\u001b[0;34m\u001b[0m\u001b[0m\n",
         "\u001b[0;32m~/Work/ThirdYear/Seek/TheSeekNotebook/Helper.py\u001b[0m in \u001b[0;36massayFormat\u001b[0;34m()\u001b[0m\n\u001b[1;32m     48\u001b[0m \u001b[0;34m\u001b[0m\u001b[0m\n\u001b[1;32m     49\u001b[0m \u001b[0;34m\u001b[0m\u001b[0m\n\u001b[0;32m---> 50\u001b[0;31m     \u001b[0mrelationsFormat\u001b[0m\u001b[0;34m(\u001b[0m\u001b[0mJSON\u001b[0m\u001b[0;34m,\u001b[0m \u001b[0;34m'creators'\u001b[0m\u001b[0;34m,\u001b[0m \u001b[0;34m'assay'\u001b[0m\u001b[0;34m)\u001b[0m\u001b[0;34m\u001b[0m\u001b[0m\n\u001b[0m\u001b[1;32m     51\u001b[0m     \u001b[0mrelationsFormat\u001b[0m\u001b[0;34m(\u001b[0m\u001b[0mJSON\u001b[0m\u001b[0;34m,\u001b[0m \u001b[0;34m'data_files'\u001b[0m\u001b[0;34m,\u001b[0m \u001b[0;34m'assay'\u001b[0m\u001b[0;34m)\u001b[0m\u001b[0;34m\u001b[0m\u001b[0m\n\u001b[1;32m     52\u001b[0m     \u001b[0mrelationsFormat\u001b[0m\u001b[0;34m(\u001b[0m\u001b[0mJSON\u001b[0m\u001b[0;34m,\u001b[0m \u001b[0;34m'documents'\u001b[0m\u001b[0;34m,\u001b[0m \u001b[0;34m'assay'\u001b[0m\u001b[0;34m)\u001b[0m\u001b[0;34m\u001b[0m\u001b[0m\n",
         "\u001b[0;32m~/Work/ThirdYear/Seek/TheSeekNotebook/Helper.py\u001b[0m in \u001b[0;36mrelationsFormat\u001b[0;34m(JSON, type, source)\u001b[0m\n\u001b[1;32m      1\u001b[0m \u001b[0;32mdef\u001b[0m \u001b[0mrelationsFormat\u001b[0m\u001b[0;34m(\u001b[0m\u001b[0mJSON\u001b[0m\u001b[0;34m,\u001b[0m \u001b[0mtype\u001b[0m\u001b[0;34m,\u001b[0m \u001b[0msource\u001b[0m\u001b[0;34m)\u001b[0m\u001b[0;34m:\u001b[0m\u001b[0;34m\u001b[0m\u001b[0m\n\u001b[0;32m----> 2\u001b[0;31m     \u001b[0mJSON\u001b[0m\u001b[0;34m[\u001b[0m\u001b[0;34m'data'\u001b[0m\u001b[0;34m]\u001b[0m\u001b[0;34m[\u001b[0m\u001b[0;34m'relationships'\u001b[0m\u001b[0;34m]\u001b[0m\u001b[0;34m[\u001b[0m\u001b[0mtype\u001b[0m\u001b[0;34m]\u001b[0m\u001b[0;34m[\u001b[0m\u001b[0;34m'data'\u001b[0m\u001b[0;34m]\u001b[0m \u001b[0;34m=\u001b[0m \u001b[0;34m[\u001b[0m\u001b[0;34m{\u001b[0m\u001b[0;34m}\u001b[0m\u001b[0;34m]\u001b[0m\u001b[0;34m\u001b[0m\u001b[0m\n\u001b[0m\u001b[1;32m      3\u001b[0m     \u001b[0mnumberOfRelations\u001b[0m \u001b[0;34m=\u001b[0m \u001b[0mint\u001b[0m\u001b[0;34m(\u001b[0m\u001b[0minput\u001b[0m\u001b[0;34m(\u001b[0m\u001b[0;34m'Please specify how many '\u001b[0m \u001b[0;34m+\u001b[0m \u001b[0mtype\u001b[0m \u001b[0;34m+\u001b[0m \u001b[0;34m' is this '\u001b[0m \u001b[0;34m+\u001b[0m \u001b[0msource\u001b[0m \u001b[0;34m+\u001b[0m \u001b[0;34m' related to: '\u001b[0m\u001b[0;34m)\u001b[0m\u001b[0;34m)\u001b[0m\u001b[0;34m\u001b[0m\u001b[0m\n\u001b[1;32m      4\u001b[0m     \u001b[0;32mfor\u001b[0m \u001b[0mindex\u001b[0m \u001b[0;32min\u001b[0m \u001b[0mrange\u001b[0m\u001b[0;34m(\u001b[0m\u001b[0;36m1\u001b[0m\u001b[0;34m,\u001b[0m \u001b[0mnumberOfRelations\u001b[0m \u001b[0;34m+\u001b[0m \u001b[0;36m1\u001b[0m\u001b[0;34m)\u001b[0m\u001b[0;34m:\u001b[0m\u001b[0;34m\u001b[0m\u001b[0m\n\u001b[1;32m      5\u001b[0m \u001b[0;34m\u001b[0m\u001b[0m\n",
         "\u001b[0;31mKeyError\u001b[0m: 'creators'"
        ]
       }
      ],
      "source": "from WriteObject import WriteObject\n\nWO = WriteObject()\n\nWO.SEEKForm()",
      "start_time": "2019-03-15T16:22:35.496Z"
     },
     {
      "end_time": "2019-03-15T16:23:28.971Z",
      "execution_time": "8.76s",
      "outputs": [
       {
        "data": {
         "text/html": "<h3>SEEK FORM</h3>",
         "text/plain": "<IPython.core.display.HTML object>"
        },
        "metadata": {},
        "output_type": "display_data",
        "transient": {}
       },
       {
        "name": "stdout",
        "output_type": "stream",
        "text": "\nThe type of object you want to upload to SEEK: assays\n\nYou need to complete the following form in order to succesfully upload your information to SEEK\nPlease specify the description: a\nPlease specify other creators: a\nPlease specify the title: a\nPlease specify the assay class description: a\nPlease specify the assay class key: a\nPlease specify the assay class title: a\nPlease specify the assay type label: a\nPlease specify the assay type uri: a\nPlease specify the technology type label: a\nPlease specify the technology type uri: a\nPlease specify how many creators is this assay related to: 3\nPlease specify the id of the creator number 1: 123\n"
       },
       {
        "ename": "KeyError",
        "evalue": "0",
        "output_type": "error",
        "traceback": [
         "\u001b[0;31m---------------------------------------------------------------------------\u001b[0m",
         "\u001b[0;31mKeyError\u001b[0m                                  Traceback (most recent call last)",
         "\u001b[0;32m<ipython-input-1-cd480b0c800a>\u001b[0m in \u001b[0;36m<module>\u001b[0;34m()\u001b[0m\n\u001b[1;32m      3\u001b[0m \u001b[0mWO\u001b[0m \u001b[0;34m=\u001b[0m \u001b[0mWriteObject\u001b[0m\u001b[0;34m(\u001b[0m\u001b[0;34m)\u001b[0m\u001b[0;34m\u001b[0m\u001b[0m\n\u001b[1;32m      4\u001b[0m \u001b[0;34m\u001b[0m\u001b[0m\n\u001b[0;32m----> 5\u001b[0;31m \u001b[0mWO\u001b[0m\u001b[0;34m.\u001b[0m\u001b[0mSEEKForm\u001b[0m\u001b[0;34m(\u001b[0m\u001b[0;34m)\u001b[0m\u001b[0;34m\u001b[0m\u001b[0m\n\u001b[0m",
         "\u001b[0;32m~/Work/ThirdYear/Seek/TheSeekNotebook/WriteObject.py\u001b[0m in \u001b[0;36mSEEKForm\u001b[0;34m(self)\u001b[0m\n\u001b[1;32m     31\u001b[0m \u001b[0;34m\u001b[0m\u001b[0m\n\u001b[1;32m     32\u001b[0m         \u001b[0;32mif\u001b[0m \u001b[0mself\u001b[0m\u001b[0;34m.\u001b[0m\u001b[0mtype\u001b[0m \u001b[0;34m==\u001b[0m \u001b[0;34m'assays'\u001b[0m\u001b[0;34m:\u001b[0m\u001b[0;34m\u001b[0m\u001b[0m\n\u001b[0;32m---> 33\u001b[0;31m             \u001b[0mself\u001b[0m\u001b[0;34m.\u001b[0m\u001b[0mJSON\u001b[0m \u001b[0;34m=\u001b[0m \u001b[0mHelper\u001b[0m\u001b[0;34m.\u001b[0m\u001b[0massayFormat\u001b[0m\u001b[0;34m(\u001b[0m\u001b[0;34m)\u001b[0m\u001b[0;34m\u001b[0m\u001b[0m\n\u001b[0m\u001b[1;32m     34\u001b[0m         \u001b[0;32melif\u001b[0m \u001b[0mself\u001b[0m\u001b[0;34m.\u001b[0m\u001b[0mtype\u001b[0m \u001b[0;34m==\u001b[0m \u001b[0;34m'investigations'\u001b[0m\u001b[0;34m:\u001b[0m\u001b[0;34m\u001b[0m\u001b[0m\n\u001b[1;32m     35\u001b[0m             \u001b[0mself\u001b[0m\u001b[0;34m.\u001b[0m\u001b[0mJSON\u001b[0m \u001b[0;34m=\u001b[0m \u001b[0mHelper\u001b[0m\u001b[0;34m.\u001b[0m\u001b[0minvestigationFormat\u001b[0m\u001b[0;34m(\u001b[0m\u001b[0;34m)\u001b[0m\u001b[0;34m\u001b[0m\u001b[0m\n",
         "\u001b[0;32m~/Work/ThirdYear/Seek/TheSeekNotebook/Helper.py\u001b[0m in \u001b[0;36massayFormat\u001b[0;34m()\u001b[0m\n\u001b[1;32m     50\u001b[0m \u001b[0;34m\u001b[0m\u001b[0m\n\u001b[1;32m     51\u001b[0m \u001b[0;34m\u001b[0m\u001b[0m\n\u001b[0;32m---> 52\u001b[0;31m     \u001b[0mrelationsFormat\u001b[0m\u001b[0;34m(\u001b[0m\u001b[0mJSON\u001b[0m\u001b[0;34m,\u001b[0m \u001b[0;34m'creators'\u001b[0m\u001b[0;34m,\u001b[0m \u001b[0;34m'assay'\u001b[0m\u001b[0;34m)\u001b[0m\u001b[0;34m\u001b[0m\u001b[0m\n\u001b[0m\u001b[1;32m     53\u001b[0m     \u001b[0mrelationsFormat\u001b[0m\u001b[0;34m(\u001b[0m\u001b[0mJSON\u001b[0m\u001b[0;34m,\u001b[0m \u001b[0;34m'data_files'\u001b[0m\u001b[0;34m,\u001b[0m \u001b[0;34m'assay'\u001b[0m\u001b[0;34m)\u001b[0m\u001b[0;34m\u001b[0m\u001b[0m\n\u001b[1;32m     54\u001b[0m     \u001b[0mrelationsFormat\u001b[0m\u001b[0;34m(\u001b[0m\u001b[0mJSON\u001b[0m\u001b[0;34m,\u001b[0m \u001b[0;34m'documents'\u001b[0m\u001b[0;34m,\u001b[0m \u001b[0;34m'assay'\u001b[0m\u001b[0;34m)\u001b[0m\u001b[0;34m\u001b[0m\u001b[0m\n",
         "\u001b[0;32m~/Work/ThirdYear/Seek/TheSeekNotebook/Helper.py\u001b[0m in \u001b[0;36mrelationsFormat\u001b[0;34m(JSON, type, source)\u001b[0m\n\u001b[1;32m      7\u001b[0m \u001b[0;34m\u001b[0m\u001b[0m\n\u001b[1;32m      8\u001b[0m         \u001b[0mid\u001b[0m \u001b[0;34m=\u001b[0m \u001b[0mint\u001b[0m\u001b[0;34m(\u001b[0m\u001b[0minput\u001b[0m\u001b[0;34m(\u001b[0m\u001b[0;34m'Please specify the id of the '\u001b[0m \u001b[0;34m+\u001b[0m \u001b[0mtype\u001b[0m\u001b[0;34m[\u001b[0m\u001b[0;34m:\u001b[0m\u001b[0;34m-\u001b[0m\u001b[0;36m1\u001b[0m\u001b[0;34m]\u001b[0m \u001b[0;34m+\u001b[0m \u001b[0;34m' number '\u001b[0m \u001b[0;34m+\u001b[0m \u001b[0mstr\u001b[0m\u001b[0;34m(\u001b[0m\u001b[0mindex\u001b[0m\u001b[0;34m)\u001b[0m \u001b[0;34m+\u001b[0m \u001b[0;34m': '\u001b[0m\u001b[0;34m)\u001b[0m\u001b[0;34m)\u001b[0m\u001b[0;34m\u001b[0m\u001b[0m\n\u001b[0;32m----> 9\u001b[0;31m         \u001b[0mJSON\u001b[0m\u001b[0;34m[\u001b[0m\u001b[0;34m'data'\u001b[0m\u001b[0;34m]\u001b[0m\u001b[0;34m[\u001b[0m\u001b[0;34m'relationships'\u001b[0m\u001b[0;34m]\u001b[0m\u001b[0;34m[\u001b[0m\u001b[0mtype\u001b[0m\u001b[0;34m]\u001b[0m\u001b[0;34m.\u001b[0m\u001b[0mpop\u001b[0m\u001b[0;34m(\u001b[0m\u001b[0;36m0\u001b[0m\u001b[0;34m)\u001b[0m\u001b[0;34m\u001b[0m\u001b[0m\n\u001b[0m\u001b[1;32m     10\u001b[0m         \u001b[0mJSON\u001b[0m\u001b[0;34m[\u001b[0m\u001b[0;34m'data'\u001b[0m\u001b[0;34m]\u001b[0m\u001b[0;34m[\u001b[0m\u001b[0;34m'relationships'\u001b[0m\u001b[0;34m]\u001b[0m\u001b[0;34m[\u001b[0m\u001b[0mtype\u001b[0m\u001b[0;34m]\u001b[0m\u001b[0;34m.\u001b[0m\u001b[0mappend\u001b[0m\u001b[0;34m(\u001b[0m\u001b[0;34m{\u001b[0m\u001b[0;34m'id'\u001b[0m \u001b[0;34m:\u001b[0m \u001b[0mid\u001b[0m\u001b[0;34m,\u001b[0m \u001b[0;34m'type'\u001b[0m \u001b[0;34m:\u001b[0m \u001b[0mtype\u001b[0m\u001b[0;34m}\u001b[0m\u001b[0;34m)\u001b[0m\u001b[0;34m\u001b[0m\u001b[0m\n\u001b[1;32m     11\u001b[0m \u001b[0;34m\u001b[0m\u001b[0m\n",
         "\u001b[0;31mKeyError\u001b[0m: 0"
        ]
       }
      ],
      "source": "from WriteObject import WriteObject\n\nWO = WriteObject()\n\nWO.SEEKForm()",
      "start_time": "2019-03-15T16:23:20.208Z"
     },
     {
      "end_time": "2019-03-15T16:23:52.218Z",
      "execution_time": "18.5s",
      "outputs": [
       {
        "data": {
         "text/html": "<h3>SEEK FORM</h3>",
         "text/plain": "<IPython.core.display.HTML object>"
        },
        "metadata": {},
        "output_type": "display_data",
        "transient": {}
       },
       {
        "name": "stdout",
        "output_type": "stream",
        "text": "\nThe type of object you want to upload to SEEK: assays\n\nYou need to complete the following form in order to succesfully upload your information to SEEK\nPlease specify the description: a\nPlease specify other creators: a\nPlease specify the title: a\nPlease specify the assay class description: a\nPlease specify the assay class key: a\nPlease specify the assay class title: a\nPlease specify the assay type label: a\nPlease specify the assay type uri: a\nPlease specify the technology type label: a\nPlease specify the technology type uri: a\nPlease specify how many creators is this assay related to: 3\nPlease specify the id of the creator number 1: 123\n"
       },
       {
        "ename": "KeyError",
        "evalue": "0",
        "output_type": "error",
        "traceback": [
         "\u001b[0;31m---------------------------------------------------------------------------\u001b[0m",
         "\u001b[0;31mKeyError\u001b[0m                                  Traceback (most recent call last)",
         "\u001b[0;32m<ipython-input-2-dc20d847a4c2>\u001b[0m in \u001b[0;36m<module>\u001b[0;34m()\u001b[0m\n\u001b[1;32m      3\u001b[0m \u001b[0mWO\u001b[0m \u001b[0;34m=\u001b[0m \u001b[0mWriteObject\u001b[0m\u001b[0;34m(\u001b[0m\u001b[0;34m)\u001b[0m\u001b[0;34m\u001b[0m\u001b[0m\n\u001b[1;32m      4\u001b[0m \u001b[0;34m\u001b[0m\u001b[0m\n\u001b[0;32m----> 5\u001b[0;31m \u001b[0mWO\u001b[0m\u001b[0;34m.\u001b[0m\u001b[0mSEEKForm\u001b[0m\u001b[0;34m(\u001b[0m\u001b[0;34m)\u001b[0m\u001b[0;34m\u001b[0m\u001b[0m\n\u001b[0m",
         "\u001b[0;32m~/Work/ThirdYear/Seek/TheSeekNotebook/WriteObject.py\u001b[0m in \u001b[0;36mSEEKForm\u001b[0;34m(self)\u001b[0m\n\u001b[1;32m     31\u001b[0m \u001b[0;34m\u001b[0m\u001b[0m\n\u001b[1;32m     32\u001b[0m         \u001b[0;32mif\u001b[0m \u001b[0mself\u001b[0m\u001b[0;34m.\u001b[0m\u001b[0mtype\u001b[0m \u001b[0;34m==\u001b[0m \u001b[0;34m'assays'\u001b[0m\u001b[0;34m:\u001b[0m\u001b[0;34m\u001b[0m\u001b[0m\n\u001b[0;32m---> 33\u001b[0;31m             \u001b[0mself\u001b[0m\u001b[0;34m.\u001b[0m\u001b[0mJSON\u001b[0m \u001b[0;34m=\u001b[0m \u001b[0mHelper\u001b[0m\u001b[0;34m.\u001b[0m\u001b[0massayFormat\u001b[0m\u001b[0;34m(\u001b[0m\u001b[0;34m)\u001b[0m\u001b[0;34m\u001b[0m\u001b[0m\n\u001b[0m\u001b[1;32m     34\u001b[0m         \u001b[0;32melif\u001b[0m \u001b[0mself\u001b[0m\u001b[0;34m.\u001b[0m\u001b[0mtype\u001b[0m \u001b[0;34m==\u001b[0m \u001b[0;34m'investigations'\u001b[0m\u001b[0;34m:\u001b[0m\u001b[0;34m\u001b[0m\u001b[0m\n\u001b[1;32m     35\u001b[0m             \u001b[0mself\u001b[0m\u001b[0;34m.\u001b[0m\u001b[0mJSON\u001b[0m \u001b[0;34m=\u001b[0m \u001b[0mHelper\u001b[0m\u001b[0;34m.\u001b[0m\u001b[0minvestigationFormat\u001b[0m\u001b[0;34m(\u001b[0m\u001b[0;34m)\u001b[0m\u001b[0;34m\u001b[0m\u001b[0m\n",
         "\u001b[0;32m~/Work/ThirdYear/Seek/TheSeekNotebook/Helper.py\u001b[0m in \u001b[0;36massayFormat\u001b[0;34m()\u001b[0m\n\u001b[1;32m     50\u001b[0m \u001b[0;34m\u001b[0m\u001b[0m\n\u001b[1;32m     51\u001b[0m \u001b[0;34m\u001b[0m\u001b[0m\n\u001b[0;32m---> 52\u001b[0;31m     \u001b[0mrelationsFormat\u001b[0m\u001b[0;34m(\u001b[0m\u001b[0mJSON\u001b[0m\u001b[0;34m,\u001b[0m \u001b[0;34m'creators'\u001b[0m\u001b[0;34m,\u001b[0m \u001b[0;34m'assay'\u001b[0m\u001b[0;34m)\u001b[0m\u001b[0;34m\u001b[0m\u001b[0m\n\u001b[0m\u001b[1;32m     53\u001b[0m     \u001b[0mrelationsFormat\u001b[0m\u001b[0;34m(\u001b[0m\u001b[0mJSON\u001b[0m\u001b[0;34m,\u001b[0m \u001b[0;34m'data_files'\u001b[0m\u001b[0;34m,\u001b[0m \u001b[0;34m'assay'\u001b[0m\u001b[0;34m)\u001b[0m\u001b[0;34m\u001b[0m\u001b[0m\n\u001b[1;32m     54\u001b[0m     \u001b[0mrelationsFormat\u001b[0m\u001b[0;34m(\u001b[0m\u001b[0mJSON\u001b[0m\u001b[0;34m,\u001b[0m \u001b[0;34m'documents'\u001b[0m\u001b[0;34m,\u001b[0m \u001b[0;34m'assay'\u001b[0m\u001b[0;34m)\u001b[0m\u001b[0;34m\u001b[0m\u001b[0m\n",
         "\u001b[0;32m~/Work/ThirdYear/Seek/TheSeekNotebook/Helper.py\u001b[0m in \u001b[0;36mrelationsFormat\u001b[0;34m(JSON, type, source)\u001b[0m\n\u001b[1;32m      7\u001b[0m \u001b[0;34m\u001b[0m\u001b[0m\n\u001b[1;32m      8\u001b[0m         \u001b[0mid\u001b[0m \u001b[0;34m=\u001b[0m \u001b[0mint\u001b[0m\u001b[0;34m(\u001b[0m\u001b[0minput\u001b[0m\u001b[0;34m(\u001b[0m\u001b[0;34m'Please specify the id of the '\u001b[0m \u001b[0;34m+\u001b[0m \u001b[0mtype\u001b[0m\u001b[0;34m[\u001b[0m\u001b[0;34m:\u001b[0m\u001b[0;34m-\u001b[0m\u001b[0;36m1\u001b[0m\u001b[0;34m]\u001b[0m \u001b[0;34m+\u001b[0m \u001b[0;34m' number '\u001b[0m \u001b[0;34m+\u001b[0m \u001b[0mstr\u001b[0m\u001b[0;34m(\u001b[0m\u001b[0mindex\u001b[0m\u001b[0;34m)\u001b[0m \u001b[0;34m+\u001b[0m \u001b[0;34m': '\u001b[0m\u001b[0;34m)\u001b[0m\u001b[0;34m)\u001b[0m\u001b[0;34m\u001b[0m\u001b[0m\n\u001b[0;32m----> 9\u001b[0;31m         \u001b[0mJSON\u001b[0m\u001b[0;34m[\u001b[0m\u001b[0;34m'data'\u001b[0m\u001b[0;34m]\u001b[0m\u001b[0;34m[\u001b[0m\u001b[0;34m'relationships'\u001b[0m\u001b[0;34m]\u001b[0m\u001b[0;34m[\u001b[0m\u001b[0mtype\u001b[0m\u001b[0;34m]\u001b[0m\u001b[0;34m.\u001b[0m\u001b[0mpop\u001b[0m\u001b[0;34m(\u001b[0m\u001b[0;36m0\u001b[0m\u001b[0;34m)\u001b[0m\u001b[0;34m\u001b[0m\u001b[0m\n\u001b[0m\u001b[1;32m     10\u001b[0m         \u001b[0mJSON\u001b[0m\u001b[0;34m[\u001b[0m\u001b[0;34m'data'\u001b[0m\u001b[0;34m]\u001b[0m\u001b[0;34m[\u001b[0m\u001b[0;34m'relationships'\u001b[0m\u001b[0;34m]\u001b[0m\u001b[0;34m[\u001b[0m\u001b[0mtype\u001b[0m\u001b[0;34m]\u001b[0m\u001b[0;34m.\u001b[0m\u001b[0mappend\u001b[0m\u001b[0;34m(\u001b[0m\u001b[0;34m{\u001b[0m\u001b[0;34m'id'\u001b[0m \u001b[0;34m:\u001b[0m \u001b[0mid\u001b[0m\u001b[0;34m,\u001b[0m \u001b[0;34m'type'\u001b[0m \u001b[0;34m:\u001b[0m \u001b[0mtype\u001b[0m\u001b[0;34m}\u001b[0m\u001b[0;34m)\u001b[0m\u001b[0;34m\u001b[0m\u001b[0m\n\u001b[1;32m     11\u001b[0m \u001b[0;34m\u001b[0m\u001b[0m\n",
         "\u001b[0;31mKeyError\u001b[0m: 0"
        ]
       }
      ],
      "source": "from WriteObject import WriteObject\n\nWO = WriteObject()\n\nWO.SEEKForm()",
      "start_time": "2019-03-15T16:23:33.679Z"
     },
     {
      "end_time": "2019-03-15T16:24:28.673Z",
      "execution_time": "14.1s",
      "outputs": [
       {
        "data": {
         "text/html": "<h3>SEEK FORM</h3>",
         "text/plain": "<IPython.core.display.HTML object>"
        },
        "metadata": {},
        "output_type": "display_data",
        "transient": {}
       },
       {
        "name": "stdout",
        "output_type": "stream",
        "text": "\nThe type of object you want to upload to SEEK: assays\n\nYou need to complete the following form in order to succesfully upload your information to SEEK\nPlease specify the description: a\nPlease specify other creators: a\nPlease specify the title: a\nPlease specify the assay class description: a\nPlease specify the assay class key: a\nPlease specify the assay class title: a\nPlease specify the assay type label: a\nPlease specify the assay type uri: a\nPlease specify the technology type label: a\nPlease specify the technology type uri: a\nPlease specify how many creators is this assay related to: 3\nPlease specify the id of the creator number 1: 12\nPlease specify the id of the creator number 2: 23\nPlease specify the id of the creator number 3: 34\nPlease specify how many data_files is this assay related to: 0\nPlease specify how many documents is this assay related to: 0\nPlease specify the id of the investigation: 0\n"
       },
       {
        "ename": "KeyError",
        "evalue": "'investigations'",
        "output_type": "error",
        "traceback": [
         "\u001b[0;31m---------------------------------------------------------------------------\u001b[0m",
         "\u001b[0;31mKeyError\u001b[0m                                  Traceback (most recent call last)",
         "\u001b[0;32m<ipython-input-1-cd480b0c800a>\u001b[0m in \u001b[0;36m<module>\u001b[0;34m()\u001b[0m\n\u001b[1;32m      3\u001b[0m \u001b[0mWO\u001b[0m \u001b[0;34m=\u001b[0m \u001b[0mWriteObject\u001b[0m\u001b[0;34m(\u001b[0m\u001b[0;34m)\u001b[0m\u001b[0;34m\u001b[0m\u001b[0m\n\u001b[1;32m      4\u001b[0m \u001b[0;34m\u001b[0m\u001b[0m\n\u001b[0;32m----> 5\u001b[0;31m \u001b[0mWO\u001b[0m\u001b[0;34m.\u001b[0m\u001b[0mSEEKForm\u001b[0m\u001b[0;34m(\u001b[0m\u001b[0;34m)\u001b[0m\u001b[0;34m\u001b[0m\u001b[0m\n\u001b[0m",
         "\u001b[0;32m~/Work/ThirdYear/Seek/TheSeekNotebook/WriteObject.py\u001b[0m in \u001b[0;36mSEEKForm\u001b[0;34m(self)\u001b[0m\n\u001b[1;32m     31\u001b[0m \u001b[0;34m\u001b[0m\u001b[0m\n\u001b[1;32m     32\u001b[0m         \u001b[0;32mif\u001b[0m \u001b[0mself\u001b[0m\u001b[0;34m.\u001b[0m\u001b[0mtype\u001b[0m \u001b[0;34m==\u001b[0m \u001b[0;34m'assays'\u001b[0m\u001b[0;34m:\u001b[0m\u001b[0;34m\u001b[0m\u001b[0m\n\u001b[0;32m---> 33\u001b[0;31m             \u001b[0mself\u001b[0m\u001b[0;34m.\u001b[0m\u001b[0mJSON\u001b[0m \u001b[0;34m=\u001b[0m \u001b[0mHelper\u001b[0m\u001b[0;34m.\u001b[0m\u001b[0massayFormat\u001b[0m\u001b[0;34m(\u001b[0m\u001b[0;34m)\u001b[0m\u001b[0;34m\u001b[0m\u001b[0m\n\u001b[0m\u001b[1;32m     34\u001b[0m         \u001b[0;32melif\u001b[0m \u001b[0mself\u001b[0m\u001b[0;34m.\u001b[0m\u001b[0mtype\u001b[0m \u001b[0;34m==\u001b[0m \u001b[0;34m'investigations'\u001b[0m\u001b[0;34m:\u001b[0m\u001b[0;34m\u001b[0m\u001b[0m\n\u001b[1;32m     35\u001b[0m             \u001b[0mself\u001b[0m\u001b[0;34m.\u001b[0m\u001b[0mJSON\u001b[0m \u001b[0;34m=\u001b[0m \u001b[0mHelper\u001b[0m\u001b[0;34m.\u001b[0m\u001b[0minvestigationFormat\u001b[0m\u001b[0;34m(\u001b[0m\u001b[0;34m)\u001b[0m\u001b[0;34m\u001b[0m\u001b[0m\n",
         "\u001b[0;32m~/Work/ThirdYear/Seek/TheSeekNotebook/Helper.py\u001b[0m in \u001b[0;36massayFormat\u001b[0;34m()\u001b[0m\n\u001b[1;32m     53\u001b[0m     \u001b[0mrelationsFormat\u001b[0m\u001b[0;34m(\u001b[0m\u001b[0mJSON\u001b[0m\u001b[0;34m,\u001b[0m \u001b[0;34m'data_files'\u001b[0m\u001b[0;34m,\u001b[0m \u001b[0;34m'assay'\u001b[0m\u001b[0;34m)\u001b[0m\u001b[0;34m\u001b[0m\u001b[0m\n\u001b[1;32m     54\u001b[0m     \u001b[0mrelationsFormat\u001b[0m\u001b[0;34m(\u001b[0m\u001b[0mJSON\u001b[0m\u001b[0;34m,\u001b[0m \u001b[0;34m'documents'\u001b[0m\u001b[0;34m,\u001b[0m \u001b[0;34m'assay'\u001b[0m\u001b[0;34m)\u001b[0m\u001b[0;34m\u001b[0m\u001b[0m\n\u001b[0;32m---> 55\u001b[0;31m     \u001b[0mrelationFormat\u001b[0m\u001b[0;34m(\u001b[0m\u001b[0mJSON\u001b[0m\u001b[0;34m,\u001b[0m \u001b[0;34m'investigations'\u001b[0m\u001b[0;34m)\u001b[0m\u001b[0;34m\u001b[0m\u001b[0m\n\u001b[0m\u001b[1;32m     56\u001b[0m     \u001b[0mrelationsFormat\u001b[0m\u001b[0;34m(\u001b[0m\u001b[0mJSON\u001b[0m\u001b[0;34m,\u001b[0m \u001b[0;34m'models'\u001b[0m\u001b[0;34m,\u001b[0m \u001b[0;34m'assay'\u001b[0m\u001b[0;34m)\u001b[0m\u001b[0;34m\u001b[0m\u001b[0m\n\u001b[1;32m     57\u001b[0m     \u001b[0mrelationsFormat\u001b[0m\u001b[0;34m(\u001b[0m\u001b[0mJSON\u001b[0m\u001b[0;34m,\u001b[0m \u001b[0;34m'people'\u001b[0m\u001b[0;34m,\u001b[0m \u001b[0;34m'assay'\u001b[0m\u001b[0;34m)\u001b[0m\u001b[0;34m\u001b[0m\u001b[0m\n",
         "\u001b[0;32m~/Work/ThirdYear/Seek/TheSeekNotebook/Helper.py\u001b[0m in \u001b[0;36mrelationFormat\u001b[0;34m(JSON, type)\u001b[0m\n\u001b[1;32m     16\u001b[0m     \u001b[0mid\u001b[0m \u001b[0;34m=\u001b[0m \u001b[0minput\u001b[0m\u001b[0;34m(\u001b[0m\u001b[0;34m'Please specify the id of the '\u001b[0m \u001b[0;34m+\u001b[0m \u001b[0mtype\u001b[0m\u001b[0;34m[\u001b[0m\u001b[0;34m:\u001b[0m\u001b[0;34m-\u001b[0m\u001b[0;36m1\u001b[0m\u001b[0;34m]\u001b[0m \u001b[0;34m+\u001b[0m \u001b[0;34m\": \"\u001b[0m\u001b[0;34m)\u001b[0m\u001b[0;34m\u001b[0m\u001b[0m\n\u001b[1;32m     17\u001b[0m     \u001b[0;32mif\u001b[0m \u001b[0mid\u001b[0m \u001b[0;34m!=\u001b[0m \u001b[0;34m''\u001b[0m\u001b[0;34m:\u001b[0m\u001b[0;34m\u001b[0m\u001b[0m\n\u001b[0;32m---> 18\u001b[0;31m         \u001b[0mJSON\u001b[0m\u001b[0;34m[\u001b[0m\u001b[0;34m'data'\u001b[0m\u001b[0;34m]\u001b[0m\u001b[0;34m[\u001b[0m\u001b[0;34m'relationships'\u001b[0m\u001b[0;34m]\u001b[0m\u001b[0;34m[\u001b[0m\u001b[0mtype\u001b[0m\u001b[0;34m]\u001b[0m\u001b[0;34m[\u001b[0m\u001b[0;34m'data'\u001b[0m\u001b[0;34m]\u001b[0m \u001b[0;34m=\u001b[0m \u001b[0;34m{\u001b[0m\u001b[0;34m'id'\u001b[0m \u001b[0;34m:\u001b[0m \u001b[0mint\u001b[0m\u001b[0;34m(\u001b[0m\u001b[0mid\u001b[0m\u001b[0;34m)\u001b[0m\u001b[0;34m,\u001b[0m \u001b[0;34m'type'\u001b[0m \u001b[0;34m:\u001b[0m \u001b[0mtype\u001b[0m\u001b[0;34m}\u001b[0m\u001b[0;34m\u001b[0m\u001b[0m\n\u001b[0m\u001b[1;32m     19\u001b[0m \u001b[0;34m\u001b[0m\u001b[0m\n\u001b[1;32m     20\u001b[0m \u001b[0;32mdef\u001b[0m \u001b[0massayFormat\u001b[0m\u001b[0;34m(\u001b[0m\u001b[0;34m)\u001b[0m\u001b[0;34m:\u001b[0m\u001b[0;34m\u001b[0m\u001b[0m\n",
         "\u001b[0;31mKeyError\u001b[0m: 'investigations'"
        ]
       }
      ],
      "source": "from WriteObject import WriteObject\n\nWO = WriteObject()\n\nWO.SEEKForm()",
      "start_time": "2019-03-15T16:24:14.571Z"
     },
     {
      "end_time": "2019-03-15T16:24:58.303Z",
      "execution_time": "26.4s",
      "outputs": [
       {
        "data": {
         "text/html": "<h3>SEEK FORM</h3>",
         "text/plain": "<IPython.core.display.HTML object>"
        },
        "metadata": {},
        "output_type": "display_data",
        "transient": {}
       },
       {
        "name": "stdout",
        "output_type": "stream",
        "text": "\nThe type of object you want to upload to SEEK: assays\n\nYou need to complete the following form in order to succesfully upload your information to SEEK\nPlease specify the description: a\nPlease specify other creators: a\nPlease specify the title: a\nPlease specify the assay class description: a\nPlease specify the assay class key: a\nPlease specify the assay class title: a\nPlease specify the assay type label: a\nPlease specify the assay type uri: a\nPlease specify the technology type label: a\nPlease specify the technology type uri: a\nPlease specify how many creators is this assay related to: 3\nPlease specify the id of the creator number 1: 12\nPlease specify the id of the creator number 2: 23\nPlease specify the id of the creator number 3: 34\nPlease specify how many data_files is this assay related to: 0\nPlease specify how many documents is this assay related to: 0\nPlease specify the id of the investigation: \nPlease specify how many models is this assay related to: 0\nPlease specify how many people is this assay related to: 0\nPlease specify how many projects is this assay related to: 0\nPlease specify how many publications is this assay related to: 0\nPlease specify how many sops is this assay related to: 0\nPlease specify the id of the studie: \nPlease specify how many submitters is this assay related to: 0\n{'data': {'type': 'assays', 'attributes': {'description': 'a', 'other_creators': 'a', 'title': 'a', 'assay_class': {'description': 'a', 'key': 'a', 'title': 'a'}, 'assay_type': {'label': 'a', 'uri': 'a'}, 'technology_type': {'label': 'a', 'uri': 'a'}}, 'relationships': {'creators': {'data': [{'id': 34, 'type': 'creators'}]}, 'data_files': {'data': [{}]}, 'documents': {'data': [{}]}, 'models': {'data': [{}]}, 'people': {'data': [{}]}, 'projects': {'data': [{}]}, 'publications': {'data': [{}]}, 'sops': {'data': [{}]}, 'submitters': {'data': [{}]}}}}\n"
       }
      ],
      "source": "from WriteObject import WriteObject\n\nWO = WriteObject()\n\nWO.SEEKForm()",
      "start_time": "2019-03-15T16:24:31.863Z"
     },
     {
      "end_time": "2019-03-15T16:26:33.994Z",
      "execution_time": "1m 16.5s",
      "outputs": [
       {
        "data": {
         "text/html": "<h3>SEEK FORM</h3>",
         "text/plain": "<IPython.core.display.HTML object>"
        },
        "metadata": {},
        "output_type": "display_data",
        "transient": {}
       },
       {
        "name": "stdout",
        "output_type": "stream",
        "text": "\nThe type of object you want to upload to SEEK: assays\n\nYou need to complete the following form in order to succesfully upload your information to SEEK\nPlease specify the description: This is a template assay used to test the POST request from the jupyter notebook.\nPlease specify other creators: \nPlease specify the title: TESTING\nPlease specify the assay class description: Modelling\nPlease specify the assay class key: MOD\nPlease specify the assay class title: Experiment\nPlease specify the assay type label: a\nPlease specify the assay type uri: a\nPlease specify the technology type label: a\nPlease specify the technology type uri: a\nPlease specify how many creators is this assay related to: 0\nPlease specify how many data_files is this assay related to: 0\nPlease specify how many documents is this assay related to: 0\nPlease specify the id of the investigation: 0\n"
       },
       {
        "ename": "KeyError",
        "evalue": "'investigations'",
        "output_type": "error",
        "traceback": [
         "\u001b[0;31m---------------------------------------------------------------------------\u001b[0m",
         "\u001b[0;31mKeyError\u001b[0m                                  Traceback (most recent call last)",
         "\u001b[0;32m<ipython-input-3-cd480b0c800a>\u001b[0m in \u001b[0;36m<module>\u001b[0;34m()\u001b[0m\n\u001b[1;32m      3\u001b[0m \u001b[0mWO\u001b[0m \u001b[0;34m=\u001b[0m \u001b[0mWriteObject\u001b[0m\u001b[0;34m(\u001b[0m\u001b[0;34m)\u001b[0m\u001b[0;34m\u001b[0m\u001b[0m\n\u001b[1;32m      4\u001b[0m \u001b[0;34m\u001b[0m\u001b[0m\n\u001b[0;32m----> 5\u001b[0;31m \u001b[0mWO\u001b[0m\u001b[0;34m.\u001b[0m\u001b[0mSEEKForm\u001b[0m\u001b[0;34m(\u001b[0m\u001b[0;34m)\u001b[0m\u001b[0;34m\u001b[0m\u001b[0m\n\u001b[0m",
         "\u001b[0;32m~/Work/ThirdYear/Seek/TheSeekNotebook/WriteObject.py\u001b[0m in \u001b[0;36mSEEKForm\u001b[0;34m(self)\u001b[0m\n\u001b[1;32m     31\u001b[0m \u001b[0;34m\u001b[0m\u001b[0m\n\u001b[1;32m     32\u001b[0m         \u001b[0;32mif\u001b[0m \u001b[0mself\u001b[0m\u001b[0;34m.\u001b[0m\u001b[0mtype\u001b[0m \u001b[0;34m==\u001b[0m \u001b[0;34m'assays'\u001b[0m\u001b[0;34m:\u001b[0m\u001b[0;34m\u001b[0m\u001b[0m\n\u001b[0;32m---> 33\u001b[0;31m             \u001b[0mself\u001b[0m\u001b[0;34m.\u001b[0m\u001b[0mJSON\u001b[0m \u001b[0;34m=\u001b[0m \u001b[0mHelper\u001b[0m\u001b[0;34m.\u001b[0m\u001b[0massayFormat\u001b[0m\u001b[0;34m(\u001b[0m\u001b[0;34m)\u001b[0m\u001b[0;34m\u001b[0m\u001b[0m\n\u001b[0m\u001b[1;32m     34\u001b[0m         \u001b[0;32melif\u001b[0m \u001b[0mself\u001b[0m\u001b[0;34m.\u001b[0m\u001b[0mtype\u001b[0m \u001b[0;34m==\u001b[0m \u001b[0;34m'investigations'\u001b[0m\u001b[0;34m:\u001b[0m\u001b[0;34m\u001b[0m\u001b[0m\n\u001b[1;32m     35\u001b[0m             \u001b[0mself\u001b[0m\u001b[0;34m.\u001b[0m\u001b[0mJSON\u001b[0m \u001b[0;34m=\u001b[0m \u001b[0mHelper\u001b[0m\u001b[0;34m.\u001b[0m\u001b[0minvestigationFormat\u001b[0m\u001b[0;34m(\u001b[0m\u001b[0;34m)\u001b[0m\u001b[0;34m\u001b[0m\u001b[0m\n",
         "\u001b[0;32m~/Work/ThirdYear/Seek/TheSeekNotebook/Helper.py\u001b[0m in \u001b[0;36massayFormat\u001b[0;34m()\u001b[0m\n\u001b[1;32m     53\u001b[0m     \u001b[0mrelationsFormat\u001b[0m\u001b[0;34m(\u001b[0m\u001b[0mJSON\u001b[0m\u001b[0;34m,\u001b[0m \u001b[0;34m'data_files'\u001b[0m\u001b[0;34m,\u001b[0m \u001b[0;34m'assay'\u001b[0m\u001b[0;34m)\u001b[0m\u001b[0;34m\u001b[0m\u001b[0m\n\u001b[1;32m     54\u001b[0m     \u001b[0mrelationsFormat\u001b[0m\u001b[0;34m(\u001b[0m\u001b[0mJSON\u001b[0m\u001b[0;34m,\u001b[0m \u001b[0;34m'documents'\u001b[0m\u001b[0;34m,\u001b[0m \u001b[0;34m'assay'\u001b[0m\u001b[0;34m)\u001b[0m\u001b[0;34m\u001b[0m\u001b[0m\n\u001b[0;32m---> 55\u001b[0;31m     \u001b[0mrelationFormat\u001b[0m\u001b[0;34m(\u001b[0m\u001b[0mJSON\u001b[0m\u001b[0;34m,\u001b[0m \u001b[0;34m'investigations'\u001b[0m\u001b[0;34m)\u001b[0m\u001b[0;34m\u001b[0m\u001b[0m\n\u001b[0m\u001b[1;32m     56\u001b[0m     \u001b[0mrelationsFormat\u001b[0m\u001b[0;34m(\u001b[0m\u001b[0mJSON\u001b[0m\u001b[0;34m,\u001b[0m \u001b[0;34m'models'\u001b[0m\u001b[0;34m,\u001b[0m \u001b[0;34m'assay'\u001b[0m\u001b[0;34m)\u001b[0m\u001b[0;34m\u001b[0m\u001b[0m\n\u001b[1;32m     57\u001b[0m     \u001b[0mrelationsFormat\u001b[0m\u001b[0;34m(\u001b[0m\u001b[0mJSON\u001b[0m\u001b[0;34m,\u001b[0m \u001b[0;34m'people'\u001b[0m\u001b[0;34m,\u001b[0m \u001b[0;34m'assay'\u001b[0m\u001b[0;34m)\u001b[0m\u001b[0;34m\u001b[0m\u001b[0m\n",
         "\u001b[0;32m~/Work/ThirdYear/Seek/TheSeekNotebook/Helper.py\u001b[0m in \u001b[0;36mrelationFormat\u001b[0;34m(JSON, type)\u001b[0m\n\u001b[1;32m     16\u001b[0m     \u001b[0mid\u001b[0m \u001b[0;34m=\u001b[0m \u001b[0minput\u001b[0m\u001b[0;34m(\u001b[0m\u001b[0;34m'Please specify the id of the '\u001b[0m \u001b[0;34m+\u001b[0m \u001b[0mtype\u001b[0m\u001b[0;34m[\u001b[0m\u001b[0;34m:\u001b[0m\u001b[0;34m-\u001b[0m\u001b[0;36m1\u001b[0m\u001b[0;34m]\u001b[0m \u001b[0;34m+\u001b[0m \u001b[0;34m\": \"\u001b[0m\u001b[0;34m)\u001b[0m\u001b[0;34m\u001b[0m\u001b[0m\n\u001b[1;32m     17\u001b[0m     \u001b[0;32mif\u001b[0m \u001b[0mid\u001b[0m \u001b[0;34m!=\u001b[0m \u001b[0;34m''\u001b[0m\u001b[0;34m:\u001b[0m\u001b[0;34m\u001b[0m\u001b[0m\n\u001b[0;32m---> 18\u001b[0;31m         \u001b[0mJSON\u001b[0m\u001b[0;34m[\u001b[0m\u001b[0;34m'data'\u001b[0m\u001b[0;34m]\u001b[0m\u001b[0;34m[\u001b[0m\u001b[0;34m'relationships'\u001b[0m\u001b[0;34m]\u001b[0m\u001b[0;34m[\u001b[0m\u001b[0mtype\u001b[0m\u001b[0;34m]\u001b[0m\u001b[0;34m[\u001b[0m\u001b[0;34m'data'\u001b[0m\u001b[0;34m]\u001b[0m \u001b[0;34m=\u001b[0m \u001b[0;34m{\u001b[0m\u001b[0;34m'id'\u001b[0m \u001b[0;34m:\u001b[0m \u001b[0mint\u001b[0m\u001b[0;34m(\u001b[0m\u001b[0mid\u001b[0m\u001b[0;34m)\u001b[0m\u001b[0;34m,\u001b[0m \u001b[0;34m'type'\u001b[0m \u001b[0;34m:\u001b[0m \u001b[0mtype\u001b[0m\u001b[0;34m}\u001b[0m\u001b[0;34m\u001b[0m\u001b[0m\n\u001b[0m\u001b[1;32m     19\u001b[0m \u001b[0;34m\u001b[0m\u001b[0m\n\u001b[1;32m     20\u001b[0m \u001b[0;32mdef\u001b[0m \u001b[0massayFormat\u001b[0m\u001b[0;34m(\u001b[0m\u001b[0;34m)\u001b[0m\u001b[0;34m:\u001b[0m\u001b[0;34m\u001b[0m\u001b[0m\n",
         "\u001b[0;31mKeyError\u001b[0m: 'investigations'"
        ]
       }
      ],
      "source": "from WriteObject import WriteObject\n\nWO = WriteObject()\n\nWO.SEEKForm()",
      "start_time": "2019-03-15T16:25:17.519Z"
     },
     {
      "end_time": "2019-03-15T16:27:16.424Z",
      "execution_time": "40.4s",
      "outputs": [
       {
        "data": {
         "text/html": "<h3>SEEK FORM</h3>",
         "text/plain": "<IPython.core.display.HTML object>"
        },
        "metadata": {},
        "output_type": "display_data",
        "transient": {}
       },
       {
        "name": "stdout",
        "output_type": "stream",
        "text": "\nThe type of object you want to upload to SEEK: assays\n\nYou need to complete the following form in order to succesfully upload your information to SEEK\nPlease specify the description: a\nPlease specify other creators: test\nPlease specify the title: test\nPlease specify the assay class description: test\nPlease specify the assay class key: test\nPlease specify the assay class title: test\nPlease specify the assay type label: test\nPlease specify the assay type uri: test\nPlease specify the technology type label: test\nPlease specify the technology type uri: test\nPlease specify how many creators is this assay related to: 0\nPlease specify how many data_files is this assay related to: 0\nPlease specify how many documents is this assay related to: 0\nPlease specify the id of the investigation: \nPlease specify how many models is this assay related to: 0\nPlease specify how many people is this assay related to: 0\nPlease specify how many projects is this assay related to: 50\nPlease specify the id of the project number 1: \n"
       },
       {
        "ename": "ValueError",
        "evalue": "invalid literal for int() with base 10: ''",
        "output_type": "error",
        "traceback": [
         "\u001b[0;31m---------------------------------------------------------------------------\u001b[0m",
         "\u001b[0;31mValueError\u001b[0m                                Traceback (most recent call last)",
         "\u001b[0;32m<ipython-input-4-cd480b0c800a>\u001b[0m in \u001b[0;36m<module>\u001b[0;34m()\u001b[0m\n\u001b[1;32m      3\u001b[0m \u001b[0mWO\u001b[0m \u001b[0;34m=\u001b[0m \u001b[0mWriteObject\u001b[0m\u001b[0;34m(\u001b[0m\u001b[0;34m)\u001b[0m\u001b[0;34m\u001b[0m\u001b[0m\n\u001b[1;32m      4\u001b[0m \u001b[0;34m\u001b[0m\u001b[0m\n\u001b[0;32m----> 5\u001b[0;31m \u001b[0mWO\u001b[0m\u001b[0;34m.\u001b[0m\u001b[0mSEEKForm\u001b[0m\u001b[0;34m(\u001b[0m\u001b[0;34m)\u001b[0m\u001b[0;34m\u001b[0m\u001b[0m\n\u001b[0m",
         "\u001b[0;32m~/Work/ThirdYear/Seek/TheSeekNotebook/WriteObject.py\u001b[0m in \u001b[0;36mSEEKForm\u001b[0;34m(self)\u001b[0m\n\u001b[1;32m     31\u001b[0m \u001b[0;34m\u001b[0m\u001b[0m\n\u001b[1;32m     32\u001b[0m         \u001b[0;32mif\u001b[0m \u001b[0mself\u001b[0m\u001b[0;34m.\u001b[0m\u001b[0mtype\u001b[0m \u001b[0;34m==\u001b[0m \u001b[0;34m'assays'\u001b[0m\u001b[0;34m:\u001b[0m\u001b[0;34m\u001b[0m\u001b[0m\n\u001b[0;32m---> 33\u001b[0;31m             \u001b[0mself\u001b[0m\u001b[0;34m.\u001b[0m\u001b[0mJSON\u001b[0m \u001b[0;34m=\u001b[0m \u001b[0mHelper\u001b[0m\u001b[0;34m.\u001b[0m\u001b[0massayFormat\u001b[0m\u001b[0;34m(\u001b[0m\u001b[0;34m)\u001b[0m\u001b[0;34m\u001b[0m\u001b[0m\n\u001b[0m\u001b[1;32m     34\u001b[0m         \u001b[0;32melif\u001b[0m \u001b[0mself\u001b[0m\u001b[0;34m.\u001b[0m\u001b[0mtype\u001b[0m \u001b[0;34m==\u001b[0m \u001b[0;34m'investigations'\u001b[0m\u001b[0;34m:\u001b[0m\u001b[0;34m\u001b[0m\u001b[0m\n\u001b[1;32m     35\u001b[0m             \u001b[0mself\u001b[0m\u001b[0;34m.\u001b[0m\u001b[0mJSON\u001b[0m \u001b[0;34m=\u001b[0m \u001b[0mHelper\u001b[0m\u001b[0;34m.\u001b[0m\u001b[0minvestigationFormat\u001b[0m\u001b[0;34m(\u001b[0m\u001b[0;34m)\u001b[0m\u001b[0;34m\u001b[0m\u001b[0m\n",
         "\u001b[0;32m~/Work/ThirdYear/Seek/TheSeekNotebook/Helper.py\u001b[0m in \u001b[0;36massayFormat\u001b[0;34m()\u001b[0m\n\u001b[1;32m     56\u001b[0m     \u001b[0mrelationsFormat\u001b[0m\u001b[0;34m(\u001b[0m\u001b[0mJSON\u001b[0m\u001b[0;34m,\u001b[0m \u001b[0;34m'models'\u001b[0m\u001b[0;34m,\u001b[0m \u001b[0;34m'assay'\u001b[0m\u001b[0;34m)\u001b[0m\u001b[0;34m\u001b[0m\u001b[0m\n\u001b[1;32m     57\u001b[0m     \u001b[0mrelationsFormat\u001b[0m\u001b[0;34m(\u001b[0m\u001b[0mJSON\u001b[0m\u001b[0;34m,\u001b[0m \u001b[0;34m'people'\u001b[0m\u001b[0;34m,\u001b[0m \u001b[0;34m'assay'\u001b[0m\u001b[0;34m)\u001b[0m\u001b[0;34m\u001b[0m\u001b[0m\n\u001b[0;32m---> 58\u001b[0;31m     \u001b[0mrelationsFormat\u001b[0m\u001b[0;34m(\u001b[0m\u001b[0mJSON\u001b[0m\u001b[0;34m,\u001b[0m \u001b[0;34m'projects'\u001b[0m\u001b[0;34m,\u001b[0m \u001b[0;34m'assay'\u001b[0m\u001b[0;34m)\u001b[0m\u001b[0;34m\u001b[0m\u001b[0m\n\u001b[0m\u001b[1;32m     59\u001b[0m     \u001b[0mrelationsFormat\u001b[0m\u001b[0;34m(\u001b[0m\u001b[0mJSON\u001b[0m\u001b[0;34m,\u001b[0m \u001b[0;34m'publications'\u001b[0m\u001b[0;34m,\u001b[0m \u001b[0;34m'assay'\u001b[0m\u001b[0;34m)\u001b[0m\u001b[0;34m\u001b[0m\u001b[0m\n\u001b[1;32m     60\u001b[0m     \u001b[0mrelationsFormat\u001b[0m\u001b[0;34m(\u001b[0m\u001b[0mJSON\u001b[0m\u001b[0;34m,\u001b[0m \u001b[0;34m'sops'\u001b[0m\u001b[0;34m,\u001b[0m \u001b[0;34m'assay'\u001b[0m\u001b[0;34m)\u001b[0m\u001b[0;34m\u001b[0m\u001b[0m\n",
         "\u001b[0;32m~/Work/ThirdYear/Seek/TheSeekNotebook/Helper.py\u001b[0m in \u001b[0;36mrelationsFormat\u001b[0;34m(JSON, type, source)\u001b[0m\n\u001b[1;32m      6\u001b[0m     \u001b[0;32mfor\u001b[0m \u001b[0mindex\u001b[0m \u001b[0;32min\u001b[0m \u001b[0mrange\u001b[0m\u001b[0;34m(\u001b[0m\u001b[0;36m1\u001b[0m\u001b[0;34m,\u001b[0m \u001b[0mnumberOfRelations\u001b[0m \u001b[0;34m+\u001b[0m \u001b[0;36m1\u001b[0m\u001b[0;34m)\u001b[0m\u001b[0;34m:\u001b[0m\u001b[0;34m\u001b[0m\u001b[0m\n\u001b[1;32m      7\u001b[0m \u001b[0;34m\u001b[0m\u001b[0m\n\u001b[0;32m----> 8\u001b[0;31m         \u001b[0mid\u001b[0m \u001b[0;34m=\u001b[0m \u001b[0mint\u001b[0m\u001b[0;34m(\u001b[0m\u001b[0minput\u001b[0m\u001b[0;34m(\u001b[0m\u001b[0;34m'Please specify the id of the '\u001b[0m \u001b[0;34m+\u001b[0m \u001b[0mtype\u001b[0m\u001b[0;34m[\u001b[0m\u001b[0;34m:\u001b[0m\u001b[0;34m-\u001b[0m\u001b[0;36m1\u001b[0m\u001b[0;34m]\u001b[0m \u001b[0;34m+\u001b[0m \u001b[0;34m' number '\u001b[0m \u001b[0;34m+\u001b[0m \u001b[0mstr\u001b[0m\u001b[0;34m(\u001b[0m\u001b[0mindex\u001b[0m\u001b[0;34m)\u001b[0m \u001b[0;34m+\u001b[0m \u001b[0;34m': '\u001b[0m\u001b[0;34m)\u001b[0m\u001b[0;34m)\u001b[0m\u001b[0;34m\u001b[0m\u001b[0m\n\u001b[0m\u001b[1;32m      9\u001b[0m         \u001b[0mJSON\u001b[0m\u001b[0;34m[\u001b[0m\u001b[0;34m'data'\u001b[0m\u001b[0;34m]\u001b[0m\u001b[0;34m[\u001b[0m\u001b[0;34m'relationships'\u001b[0m\u001b[0;34m]\u001b[0m\u001b[0;34m[\u001b[0m\u001b[0mtype\u001b[0m\u001b[0;34m]\u001b[0m\u001b[0;34m[\u001b[0m\u001b[0;34m'data'\u001b[0m\u001b[0;34m]\u001b[0m\u001b[0;34m.\u001b[0m\u001b[0mpop\u001b[0m\u001b[0;34m(\u001b[0m\u001b[0;36m0\u001b[0m\u001b[0;34m)\u001b[0m\u001b[0;34m\u001b[0m\u001b[0m\n\u001b[1;32m     10\u001b[0m         \u001b[0mJSON\u001b[0m\u001b[0;34m[\u001b[0m\u001b[0;34m'data'\u001b[0m\u001b[0;34m]\u001b[0m\u001b[0;34m[\u001b[0m\u001b[0;34m'relationships'\u001b[0m\u001b[0;34m]\u001b[0m\u001b[0;34m[\u001b[0m\u001b[0mtype\u001b[0m\u001b[0;34m]\u001b[0m\u001b[0;34m[\u001b[0m\u001b[0;34m'data'\u001b[0m\u001b[0;34m]\u001b[0m\u001b[0;34m.\u001b[0m\u001b[0mappend\u001b[0m\u001b[0;34m(\u001b[0m\u001b[0;34m{\u001b[0m\u001b[0;34m'id'\u001b[0m \u001b[0;34m:\u001b[0m \u001b[0mid\u001b[0m\u001b[0;34m,\u001b[0m \u001b[0;34m'type'\u001b[0m \u001b[0;34m:\u001b[0m \u001b[0mtype\u001b[0m\u001b[0;34m}\u001b[0m\u001b[0;34m)\u001b[0m\u001b[0;34m\u001b[0m\u001b[0m\n",
         "\u001b[0;31mValueError\u001b[0m: invalid literal for int() with base 10: ''"
        ]
       }
      ],
      "source": "from WriteObject import WriteObject\n\nWO = WriteObject()\n\nWO.SEEKForm()",
      "start_time": "2019-03-15T16:26:36.027Z"
     },
     {
      "end_time": "2019-03-15T16:28:26.224Z",
      "execution_time": "1m 8.83s",
      "outputs": [
       {
        "data": {
         "text/html": "<h3>SEEK FORM</h3>",
         "text/plain": "<IPython.core.display.HTML object>"
        },
        "metadata": {},
        "output_type": "display_data",
        "transient": {}
       },
       {
        "name": "stdout",
        "output_type": "stream",
        "text": "\nThe type of object you want to upload to SEEK: assays\n\nYou need to complete the following form in order to succesfully upload your information to SEEK\nPlease specify the description: Description\nPlease specify other creators: \nPlease specify the title: Title\nPlease specify the assay class description: test\nPlease specify the assay class key: test\nPlease specify the assay class title: test\nPlease specify the assay type label: test\nPlease specify the assay type uri: test\nPlease specify the technology type label: test\nPlease specify the technology type uri: test\nPlease specify how many creators is this assay related to: 1\nPlease specify the id of the creator number 1: 373\nPlease specify how many data_files is this assay related to: 0\nPlease specify how many documents is this assay related to: 0\nPlease specify the id of the investigation: \nPlease specify how many models is this assay related to: 0\nPlease specify how many people is this assay related to: 1\nPlease specify the id of the peopl number 1: 373\nPlease specify how many projects is this assay related to: 1\nPlease specify the id of the project number 1: 50\nPlease specify how many publications is this assay related to: 0\nPlease specify how many sops is this assay related to: 0\nPlease specify the id of the studie: \nPlease specify how many submitters is this assay related to: 0\n{'data': {'type': 'assays', 'attributes': {'description': 'Description', 'other_creators': '', 'title': 'Title', 'assay_class': {'description': 'test', 'key': 'test', 'title': 'test'}, 'assay_type': {'label': 'test', 'uri': 'test'}, 'technology_type': {'label': 'test', 'uri': 'test'}}, 'relationships': {'creators': {'data': [{'id': 373, 'type': 'creators'}]}, 'data_files': {'data': [{}]}, 'documents': {'data': [{}]}, 'models': {'data': [{}]}, 'people': {'data': [{'id': 373, 'type': 'people'}]}, 'projects': {'data': [{'id': 50, 'type': 'projects'}]}, 'publications': {'data': [{}]}, 'sops': {'data': [{}]}, 'submitters': {'data': [{}]}}}}\n"
       }
      ],
      "source": "from WriteObject import WriteObject\n\nWO = WriteObject()\n\nWO.SEEKForm()",
      "start_time": "2019-03-15T16:27:17.390Z"
     },
     {
      "end_time": "2019-03-15T16:32:04.789Z",
      "execution_time": "33.5s",
      "outputs": [
       {
        "data": {
         "text/html": "<h3>SEEK FORM</h3>",
         "text/plain": "<IPython.core.display.HTML object>"
        },
        "metadata": {},
        "output_type": "display_data",
        "transient": {}
       },
       {
        "name": "stdout",
        "output_type": "stream",
        "text": "\nThe type of object you want to upload to SEEK: assays\n\nYou need to complete the following form in order to succesfully upload your information to SEEK\nPlease specify the description: test\nPlease specify other creators: \nPlease specify the title: test\nPlease specify the assay class description: test\nPlease specify the assay class key: test\nPlease specify the assay class title: test\nPlease specify the assay type label: test\nPlease specify the assay type uri: test\nPlease specify the technology type label: test\nPlease specify the technology type uri: test\nPlease specify how many creators is this assay related to: 1\nPlease specify the id of the creator number 1: 373\nPlease specify how many data_files is this assay related to: 0\nPlease specify how many documents is this assay related to: 0\nPlease specify the id of the investigation: \nPlease specify how many models is this assay related to: 0\nPlease specify how many people is this assay related to: 0\nPlease specify how many projects is this assay related to: 1\nPlease specify the id of the project number 1: 50\nPlease specify how many publications is this assay related to: 0\nPlease specify how many sops is this assay related to: 0\nPlease specify the id of the studie: \nPlease specify how many submitters is this assay related to: 0\n{'data': {'type': 'assays', 'attributes': {'description': 'test', 'other_creators': '', 'title': 'test', 'assay_class': {'description': 'test', 'key': 'test', 'title': 'test'}, 'assay_type': {'label': 'test', 'uri': 'test'}, 'technology_type': {'label': 'test', 'uri': 'test'}}, 'relationships': {'creators': {'data': [{'id': 373, 'type': 'creators'}]}, 'data_files': {'data': [{}]}, 'documents': {'data': [{}]}, 'models': {'data': [{}]}, 'people': {'data': [{}]}, 'projects': {'data': [{'id': 50, 'type': 'projects'}]}, 'publications': {'data': [{}]}, 'sops': {'data': [{}]}, 'submitters': {'data': [{}]}}}}\n"
       }
      ],
      "source": "from WriteObject import WriteObject\n\nWO = WriteObject()\n\nWO.SEEKForm()",
      "start_time": "2019-03-15T16:31:31.335Z"
     },
     {
      "end_time": "2019-03-15T16:34:00.225Z",
      "execution_time": "30.9s",
      "outputs": [
       {
        "data": {
         "text/html": "<h3>SEEK FORM</h3>",
         "text/plain": "<IPython.core.display.HTML object>"
        },
        "metadata": {},
        "output_type": "display_data",
        "transient": {}
       },
       {
        "name": "stdout",
        "output_type": "stream",
        "text": "\nThe type of object you want to upload to SEEK: assays\n\nYou need to complete the following form in order to succesfully upload your information to SEEK\nPlease specify the description: test\nPlease specify other creators: \nPlease specify the title: test\nPlease specify the assay class description: test\nPlease specify the assay class key: test\nPlease specify the assay class title: test\nPlease specify the assay type label: test\nPlease specify the assay type uri: test\nPlease specify the technology type label: test\nPlease specify the technology type uri: test\nPlease specify how many creators is this assay related to: 1\nPlease specify the id of the creator number 1: 373\nPlease specify how many data_files is this assay related to: 0\nPlease specify how many documents is this assay related to: 0\nPlease specify the id of the investigation: \nPlease specify how many models is this assay related to: 0\nPlease specify how many people is this assay related to: 0\nPlease specify how many projects is this assay related to: 1\nPlease specify the id of the project number 1: 50\nPlease specify how many publications is this assay related to: 0\nPlease specify how many sops is this assay related to: 0\nPlease specify the id of the studie: 0\n"
       },
       {
        "ename": "KeyError",
        "evalue": "'studies'",
        "output_type": "error",
        "traceback": [
         "\u001b[0;31m---------------------------------------------------------------------------\u001b[0m",
         "\u001b[0;31mKeyError\u001b[0m                                  Traceback (most recent call last)",
         "\u001b[0;32m<ipython-input-1-cd480b0c800a>\u001b[0m in \u001b[0;36m<module>\u001b[0;34m()\u001b[0m\n\u001b[1;32m      3\u001b[0m \u001b[0mWO\u001b[0m \u001b[0;34m=\u001b[0m \u001b[0mWriteObject\u001b[0m\u001b[0;34m(\u001b[0m\u001b[0;34m)\u001b[0m\u001b[0;34m\u001b[0m\u001b[0m\n\u001b[1;32m      4\u001b[0m \u001b[0;34m\u001b[0m\u001b[0m\n\u001b[0;32m----> 5\u001b[0;31m \u001b[0mWO\u001b[0m\u001b[0;34m.\u001b[0m\u001b[0mSEEKForm\u001b[0m\u001b[0;34m(\u001b[0m\u001b[0;34m)\u001b[0m\u001b[0;34m\u001b[0m\u001b[0m\n\u001b[0m",
         "\u001b[0;32m~/Work/ThirdYear/Seek/TheSeekNotebook/WriteObject.py\u001b[0m in \u001b[0;36mSEEKForm\u001b[0;34m(self)\u001b[0m\n\u001b[1;32m     31\u001b[0m \u001b[0;34m\u001b[0m\u001b[0m\n\u001b[1;32m     32\u001b[0m         \u001b[0;32mif\u001b[0m \u001b[0mself\u001b[0m\u001b[0;34m.\u001b[0m\u001b[0mtype\u001b[0m \u001b[0;34m==\u001b[0m \u001b[0;34m'assays'\u001b[0m\u001b[0;34m:\u001b[0m\u001b[0;34m\u001b[0m\u001b[0m\n\u001b[0;32m---> 33\u001b[0;31m             \u001b[0mself\u001b[0m\u001b[0;34m.\u001b[0m\u001b[0mJSON\u001b[0m \u001b[0;34m=\u001b[0m \u001b[0mHelper\u001b[0m\u001b[0;34m.\u001b[0m\u001b[0massayFormat\u001b[0m\u001b[0;34m(\u001b[0m\u001b[0;34m)\u001b[0m\u001b[0;34m\u001b[0m\u001b[0m\n\u001b[0m\u001b[1;32m     34\u001b[0m         \u001b[0;32melif\u001b[0m \u001b[0mself\u001b[0m\u001b[0;34m.\u001b[0m\u001b[0mtype\u001b[0m \u001b[0;34m==\u001b[0m \u001b[0;34m'investigations'\u001b[0m\u001b[0;34m:\u001b[0m\u001b[0;34m\u001b[0m\u001b[0m\n\u001b[1;32m     35\u001b[0m             \u001b[0mself\u001b[0m\u001b[0;34m.\u001b[0m\u001b[0mJSON\u001b[0m \u001b[0;34m=\u001b[0m \u001b[0mHelper\u001b[0m\u001b[0;34m.\u001b[0m\u001b[0minvestigationFormat\u001b[0m\u001b[0;34m(\u001b[0m\u001b[0;34m)\u001b[0m\u001b[0;34m\u001b[0m\u001b[0m\n",
         "\u001b[0;32m~/Work/ThirdYear/Seek/TheSeekNotebook/Helper.py\u001b[0m in \u001b[0;36massayFormat\u001b[0;34m()\u001b[0m\n\u001b[1;32m     61\u001b[0m     \u001b[0mrelationsFormat\u001b[0m\u001b[0;34m(\u001b[0m\u001b[0mJSON\u001b[0m\u001b[0;34m,\u001b[0m \u001b[0;34m'publications'\u001b[0m\u001b[0;34m,\u001b[0m \u001b[0;34m'assay'\u001b[0m\u001b[0;34m)\u001b[0m\u001b[0;34m\u001b[0m\u001b[0m\n\u001b[1;32m     62\u001b[0m     \u001b[0mrelationsFormat\u001b[0m\u001b[0;34m(\u001b[0m\u001b[0mJSON\u001b[0m\u001b[0;34m,\u001b[0m \u001b[0;34m'sops'\u001b[0m\u001b[0;34m,\u001b[0m \u001b[0;34m'assay'\u001b[0m\u001b[0;34m)\u001b[0m\u001b[0;34m\u001b[0m\u001b[0m\n\u001b[0;32m---> 63\u001b[0;31m     \u001b[0mrelationFormat\u001b[0m\u001b[0;34m(\u001b[0m\u001b[0mJSON\u001b[0m\u001b[0;34m,\u001b[0m \u001b[0;34m'studies'\u001b[0m\u001b[0;34m)\u001b[0m\u001b[0;34m\u001b[0m\u001b[0m\n\u001b[0m\u001b[1;32m     64\u001b[0m     \u001b[0mrelationsFormat\u001b[0m\u001b[0;34m(\u001b[0m\u001b[0mJSON\u001b[0m\u001b[0;34m,\u001b[0m \u001b[0;34m'submitters'\u001b[0m\u001b[0;34m,\u001b[0m \u001b[0;34m'assay'\u001b[0m\u001b[0;34m)\u001b[0m\u001b[0;34m\u001b[0m\u001b[0m\n\u001b[1;32m     65\u001b[0m \u001b[0;34m\u001b[0m\u001b[0m\n",
         "\u001b[0;32m~/Work/ThirdYear/Seek/TheSeekNotebook/Helper.py\u001b[0m in \u001b[0;36mrelationFormat\u001b[0;34m(JSON, type)\u001b[0m\n\u001b[1;32m     18\u001b[0m     \u001b[0mid\u001b[0m \u001b[0;34m=\u001b[0m \u001b[0minput\u001b[0m\u001b[0;34m(\u001b[0m\u001b[0;34m'Please specify the id of the '\u001b[0m \u001b[0;34m+\u001b[0m \u001b[0mtype\u001b[0m\u001b[0;34m[\u001b[0m\u001b[0;34m:\u001b[0m\u001b[0;34m-\u001b[0m\u001b[0;36m1\u001b[0m\u001b[0;34m]\u001b[0m \u001b[0;34m+\u001b[0m \u001b[0;34m\": \"\u001b[0m\u001b[0;34m)\u001b[0m\u001b[0;34m\u001b[0m\u001b[0m\n\u001b[1;32m     19\u001b[0m     \u001b[0;32mif\u001b[0m \u001b[0mid\u001b[0m \u001b[0;34m!=\u001b[0m \u001b[0;34m''\u001b[0m\u001b[0;34m:\u001b[0m\u001b[0;34m\u001b[0m\u001b[0m\n\u001b[0;32m---> 20\u001b[0;31m         \u001b[0mJSON\u001b[0m\u001b[0;34m[\u001b[0m\u001b[0;34m'data'\u001b[0m\u001b[0;34m]\u001b[0m\u001b[0;34m[\u001b[0m\u001b[0;34m'relationships'\u001b[0m\u001b[0;34m]\u001b[0m\u001b[0;34m[\u001b[0m\u001b[0mtype\u001b[0m\u001b[0;34m]\u001b[0m\u001b[0;34m[\u001b[0m\u001b[0;34m'data'\u001b[0m\u001b[0;34m]\u001b[0m \u001b[0;34m=\u001b[0m \u001b[0;34m{\u001b[0m\u001b[0;34m'id'\u001b[0m \u001b[0;34m:\u001b[0m \u001b[0mint\u001b[0m\u001b[0;34m(\u001b[0m\u001b[0mid\u001b[0m\u001b[0;34m)\u001b[0m\u001b[0;34m,\u001b[0m \u001b[0;34m'type'\u001b[0m \u001b[0;34m:\u001b[0m \u001b[0mtype\u001b[0m\u001b[0;34m}\u001b[0m\u001b[0;34m\u001b[0m\u001b[0m\n\u001b[0m\u001b[1;32m     21\u001b[0m \u001b[0;34m\u001b[0m\u001b[0m\n\u001b[1;32m     22\u001b[0m \u001b[0;32mdef\u001b[0m \u001b[0massayFormat\u001b[0m\u001b[0;34m(\u001b[0m\u001b[0;34m)\u001b[0m\u001b[0;34m:\u001b[0m\u001b[0;34m\u001b[0m\u001b[0m\n",
         "\u001b[0;31mKeyError\u001b[0m: 'studies'"
        ]
       }
      ],
      "source": "from WriteObject import WriteObject\n\nWO = WriteObject()\n\nWO.SEEKForm()",
      "start_time": "2019-03-15T16:33:29.346Z"
     },
     {
      "end_time": "2019-03-15T16:34:45.624Z",
      "execution_time": "43.9s",
      "outputs": [
       {
        "data": {
         "text/html": "<h3>SEEK FORM</h3>",
         "text/plain": "<IPython.core.display.HTML object>"
        },
        "metadata": {},
        "output_type": "display_data",
        "transient": {}
       },
       {
        "name": "stdout",
        "output_type": "stream",
        "text": "\nThe type of object you want to upload to SEEK: assays\n\nYou need to complete the following form in order to succesfully upload your information to SEEK\nPlease specify the description: test\nPlease specify other creators: \nPlease specify the title: test\nPlease specify the assay class description: test\nPlease specify the assay class key: test\nPlease specify the assay class title: test\nPlease specify the assay type label: test\nPlease specify the assay type uri: test\nPlease specify the technology type label: test\nPlease specify the technology type uri: test\nPlease specify how many creators is this assay related to: 1\nPlease specify the id of the creator number 1: 373\nPlease specify how many data_files is this assay related to: 0\nPlease specify how many documents is this assay related to: 0\nPlease specify the id of the investigation: \nPlease specify how many models is this assay related to: 0\nPlease specify how many people is this assay related to: 0\nPlease specify how many projects is this assay related to: 1\nPlease specify the id of the project number 1: 50\nPlease specify how many publications is this assay related to: 0\nPlease specify how many sops is this assay related to: 0\nPlease specify the id of the studie: \nPlease specify how many submitters is this assay related to: 0\n{'data': {'type': 'assays', 'attributes': {'description': 'test', 'other_creators': '', 'title': 'test', 'assay_class': {'description': 'test', 'key': 'test', 'title': 'test'}, 'assay_type': {'label': 'test', 'uri': 'test'}, 'technology_type': {'label': 'test', 'uri': 'test'}}, 'relationships': {'creators': {'data': [{'id': 373, 'type': 'creators'}]}, 'projects': {'data': [{'id': 50, 'type': 'projects'}]}}}}\n"
       }
      ],
      "source": "from WriteObject import WriteObject\n\nWO = WriteObject()\n\nWO.SEEKForm()",
      "start_time": "2019-03-15T16:34:01.753Z"
     },
     {
      "end_time": "2019-03-16T11:56:43.099Z",
      "execution_time": "19h 22m 41s",
      "outputs": [],
      "source": "from WriteObject import WriteObject\n\nWO = WriteObject()\n\nWO.SEEKForm()",
      "start_time": "2019-03-15T16:34:01.753Z"
     },
     {
      "end_time": "2019-03-16T12:01:35.840Z",
      "execution_time": "4m 51s",
      "outputs": [
       {
        "data": {
         "text/html": "<h3>SEEK FORM</h3>",
         "text/plain": "<IPython.core.display.HTML object>"
        },
        "metadata": {},
        "output_type": "display_data",
        "transient": {}
       },
       {
        "name": "stdout",
        "output_type": "stream",
        "text": "\nThe type of object you want to upload to SEEK: assays\n\nYou need to complete the following form in order to succesfully upload your information to SEEK\nPlease specify the description: asda\nPlease specify other creators: asda\nPlease specify the title: dasda\nPlease specify the assay class description: asda\nPlease specify the assay class key: dasd\nPlease specify the assay class title: asd\nPlease specify the assay type label: asd\nPlease specify the assay type uri: asd\nPlease specify the technology type label: asd\nPlease specify the technology type uri: asd\nPlease specify how many creators is this assay related to: 1\nPlease specify the id of the creator number 1: 373\nPlease specify how many data_files is this assay related to: 0\nPlease specify how many documents is this assay related to: 0\nPlease specify the id of the investigation: \nPlease specify how many models is this assay related to: 0\nPlease specify how many people is this assay related to: 0\nPlease specify how many projects is this assay related to: 0\nPlease specify how many publications is this assay related to: 0\nPlease specify how many sops is this assay related to: 0\nPlease specify the id of the studie: 0\n"
       },
       {
        "ename": "KeyError",
        "evalue": "'studies'",
        "output_type": "error",
        "traceback": [
         "\u001b[0;31m---------------------------------------------------------------------------\u001b[0m",
         "\u001b[0;31mKeyError\u001b[0m                                  Traceback (most recent call last)",
         "\u001b[0;32m<ipython-input-2-cd480b0c800a>\u001b[0m in \u001b[0;36m<module>\u001b[0;34m()\u001b[0m\n\u001b[1;32m      3\u001b[0m \u001b[0mWO\u001b[0m \u001b[0;34m=\u001b[0m \u001b[0mWriteObject\u001b[0m\u001b[0;34m(\u001b[0m\u001b[0;34m)\u001b[0m\u001b[0;34m\u001b[0m\u001b[0m\n\u001b[1;32m      4\u001b[0m \u001b[0;34m\u001b[0m\u001b[0m\n\u001b[0;32m----> 5\u001b[0;31m \u001b[0mWO\u001b[0m\u001b[0;34m.\u001b[0m\u001b[0mSEEKForm\u001b[0m\u001b[0;34m(\u001b[0m\u001b[0;34m)\u001b[0m\u001b[0;34m\u001b[0m\u001b[0m\n\u001b[0m",
         "\u001b[0;32m~/Work/ThirdYear/Seek/TheSeekNotebook/WriteObject.py\u001b[0m in \u001b[0;36mSEEKForm\u001b[0;34m(self)\u001b[0m\n\u001b[1;32m     31\u001b[0m \u001b[0;34m\u001b[0m\u001b[0m\n\u001b[1;32m     32\u001b[0m         \u001b[0;32mif\u001b[0m \u001b[0mself\u001b[0m\u001b[0;34m.\u001b[0m\u001b[0mtype\u001b[0m \u001b[0;34m==\u001b[0m \u001b[0;34m'assays'\u001b[0m\u001b[0;34m:\u001b[0m\u001b[0;34m\u001b[0m\u001b[0m\n\u001b[0;32m---> 33\u001b[0;31m             \u001b[0mself\u001b[0m\u001b[0;34m.\u001b[0m\u001b[0mJSON\u001b[0m \u001b[0;34m=\u001b[0m \u001b[0mHelper\u001b[0m\u001b[0;34m.\u001b[0m\u001b[0massayFormat\u001b[0m\u001b[0;34m(\u001b[0m\u001b[0;34m)\u001b[0m\u001b[0;34m\u001b[0m\u001b[0m\n\u001b[0m\u001b[1;32m     34\u001b[0m         \u001b[0;32melif\u001b[0m \u001b[0mself\u001b[0m\u001b[0;34m.\u001b[0m\u001b[0mtype\u001b[0m \u001b[0;34m==\u001b[0m \u001b[0;34m'investigations'\u001b[0m\u001b[0;34m:\u001b[0m\u001b[0;34m\u001b[0m\u001b[0m\n\u001b[1;32m     35\u001b[0m             \u001b[0mself\u001b[0m\u001b[0;34m.\u001b[0m\u001b[0mJSON\u001b[0m \u001b[0;34m=\u001b[0m \u001b[0mHelper\u001b[0m\u001b[0;34m.\u001b[0m\u001b[0minvestigationFormat\u001b[0m\u001b[0;34m(\u001b[0m\u001b[0;34m)\u001b[0m\u001b[0;34m\u001b[0m\u001b[0m\n",
         "\u001b[0;32m~/Work/ThirdYear/Seek/TheSeekNotebook/Helper.py\u001b[0m in \u001b[0;36massayFormat\u001b[0;34m()\u001b[0m\n\u001b[1;32m     61\u001b[0m     \u001b[0mrelationsFormat\u001b[0m\u001b[0;34m(\u001b[0m\u001b[0mJSON\u001b[0m\u001b[0;34m,\u001b[0m \u001b[0;34m'publications'\u001b[0m\u001b[0;34m,\u001b[0m \u001b[0;34m'assay'\u001b[0m\u001b[0;34m)\u001b[0m\u001b[0;34m\u001b[0m\u001b[0m\n\u001b[1;32m     62\u001b[0m     \u001b[0mrelationsFormat\u001b[0m\u001b[0;34m(\u001b[0m\u001b[0mJSON\u001b[0m\u001b[0;34m,\u001b[0m \u001b[0;34m'sops'\u001b[0m\u001b[0;34m,\u001b[0m \u001b[0;34m'assay'\u001b[0m\u001b[0;34m)\u001b[0m\u001b[0;34m\u001b[0m\u001b[0m\n\u001b[0;32m---> 63\u001b[0;31m     \u001b[0mrelationFormat\u001b[0m\u001b[0;34m(\u001b[0m\u001b[0mJSON\u001b[0m\u001b[0;34m,\u001b[0m \u001b[0;34m'studies'\u001b[0m\u001b[0;34m)\u001b[0m\u001b[0;34m\u001b[0m\u001b[0m\n\u001b[0m\u001b[1;32m     64\u001b[0m     \u001b[0mrelationsFormat\u001b[0m\u001b[0;34m(\u001b[0m\u001b[0mJSON\u001b[0m\u001b[0;34m,\u001b[0m \u001b[0;34m'submitters'\u001b[0m\u001b[0;34m,\u001b[0m \u001b[0;34m'assay'\u001b[0m\u001b[0;34m)\u001b[0m\u001b[0;34m\u001b[0m\u001b[0m\n\u001b[1;32m     65\u001b[0m \u001b[0;34m\u001b[0m\u001b[0m\n",
         "\u001b[0;32m~/Work/ThirdYear/Seek/TheSeekNotebook/Helper.py\u001b[0m in \u001b[0;36mrelationFormat\u001b[0;34m(JSON, type)\u001b[0m\n\u001b[1;32m     18\u001b[0m     \u001b[0mid\u001b[0m \u001b[0;34m=\u001b[0m \u001b[0minput\u001b[0m\u001b[0;34m(\u001b[0m\u001b[0;34m'Please specify the id of the '\u001b[0m \u001b[0;34m+\u001b[0m \u001b[0mtype\u001b[0m\u001b[0;34m[\u001b[0m\u001b[0;34m:\u001b[0m\u001b[0;34m-\u001b[0m\u001b[0;36m1\u001b[0m\u001b[0;34m]\u001b[0m \u001b[0;34m+\u001b[0m \u001b[0;34m\": \"\u001b[0m\u001b[0;34m)\u001b[0m\u001b[0;34m\u001b[0m\u001b[0m\n\u001b[1;32m     19\u001b[0m     \u001b[0;32mif\u001b[0m \u001b[0mid\u001b[0m \u001b[0;34m!=\u001b[0m \u001b[0;34m''\u001b[0m\u001b[0;34m:\u001b[0m\u001b[0;34m\u001b[0m\u001b[0m\n\u001b[0;32m---> 20\u001b[0;31m         \u001b[0mJSON\u001b[0m\u001b[0;34m[\u001b[0m\u001b[0;34m'data'\u001b[0m\u001b[0;34m]\u001b[0m\u001b[0;34m[\u001b[0m\u001b[0;34m'relationships'\u001b[0m\u001b[0;34m]\u001b[0m\u001b[0;34m[\u001b[0m\u001b[0mtype\u001b[0m\u001b[0;34m]\u001b[0m\u001b[0;34m[\u001b[0m\u001b[0;34m'data'\u001b[0m\u001b[0;34m]\u001b[0m \u001b[0;34m=\u001b[0m \u001b[0;34m{\u001b[0m\u001b[0;34m'id'\u001b[0m \u001b[0;34m:\u001b[0m \u001b[0mint\u001b[0m\u001b[0;34m(\u001b[0m\u001b[0mid\u001b[0m\u001b[0;34m)\u001b[0m\u001b[0;34m,\u001b[0m \u001b[0;34m'type'\u001b[0m \u001b[0;34m:\u001b[0m \u001b[0mtype\u001b[0m\u001b[0;34m}\u001b[0m\u001b[0;34m\u001b[0m\u001b[0m\n\u001b[0m\u001b[1;32m     21\u001b[0m \u001b[0;34m\u001b[0m\u001b[0m\n\u001b[1;32m     22\u001b[0m \u001b[0;32mdef\u001b[0m \u001b[0massayFormat\u001b[0m\u001b[0;34m(\u001b[0m\u001b[0;34m)\u001b[0m\u001b[0;34m:\u001b[0m\u001b[0;34m\u001b[0m\u001b[0m\n",
         "\u001b[0;31mKeyError\u001b[0m: 'studies'"
        ]
       }
      ],
      "source": "from WriteObject import WriteObject\n\nWO = WriteObject()\n\nWO.SEEKForm()",
      "start_time": "2019-03-16T11:56:45.012Z"
     },
     {
      "end_time": "2019-03-16T12:59:49.136Z",
      "execution_time": "16.2s",
      "outputs": [
       {
        "data": {
         "text/html": "<h3>SEEK FORM</h3>",
         "text/plain": "<IPython.core.display.HTML object>"
        },
        "metadata": {},
        "output_type": "display_data",
        "transient": {}
       },
       {
        "name": "stdout",
        "output_type": "stream",
        "text": "\nThe type of object you want to upload to SEEK: assays\n\nYou need to complete the following form in order to succesfully upload your information to SEEK\nPlease specify the description: a\nPlease specify other creators: a\nPlease specify the title: a\nPlease specify the assay class description: a\nPlease specify the assay class title(Experimental assay / Modelling Analysis): a\nPlease specify the assay type label: a\nPlease specify the assay type uri: a\nPlease specify the technology type label: a\nPlease specify the technology type uri: a\nPlease specify how many creators is this assay related to: a\n"
       },
       {
        "ename": "ValueError",
        "evalue": "invalid literal for int() with base 10: 'a'",
        "output_type": "error",
        "traceback": [
         "\u001b[0;31m---------------------------------------------------------------------------\u001b[0m",
         "\u001b[0;31mValueError\u001b[0m                                Traceback (most recent call last)",
         "\u001b[0;32m<ipython-input-1-cd480b0c800a>\u001b[0m in \u001b[0;36m<module>\u001b[0;34m()\u001b[0m\n\u001b[1;32m      3\u001b[0m \u001b[0mWO\u001b[0m \u001b[0;34m=\u001b[0m \u001b[0mWriteObject\u001b[0m\u001b[0;34m(\u001b[0m\u001b[0;34m)\u001b[0m\u001b[0;34m\u001b[0m\u001b[0m\n\u001b[1;32m      4\u001b[0m \u001b[0;34m\u001b[0m\u001b[0m\n\u001b[0;32m----> 5\u001b[0;31m \u001b[0mWO\u001b[0m\u001b[0;34m.\u001b[0m\u001b[0mSEEKForm\u001b[0m\u001b[0;34m(\u001b[0m\u001b[0;34m)\u001b[0m\u001b[0;34m\u001b[0m\u001b[0m\n\u001b[0m",
         "\u001b[0;32m~/Work/ThirdYear/Seek/TheSeekNotebook/WriteObject.py\u001b[0m in \u001b[0;36mSEEKForm\u001b[0;34m(self)\u001b[0m\n\u001b[1;32m     31\u001b[0m \u001b[0;34m\u001b[0m\u001b[0m\n\u001b[1;32m     32\u001b[0m         \u001b[0;32mif\u001b[0m \u001b[0mself\u001b[0m\u001b[0;34m.\u001b[0m\u001b[0mtype\u001b[0m \u001b[0;34m==\u001b[0m \u001b[0;34m'assays'\u001b[0m\u001b[0;34m:\u001b[0m\u001b[0;34m\u001b[0m\u001b[0m\n\u001b[0;32m---> 33\u001b[0;31m             \u001b[0mself\u001b[0m\u001b[0;34m.\u001b[0m\u001b[0mJSON\u001b[0m \u001b[0;34m=\u001b[0m \u001b[0mHelper\u001b[0m\u001b[0;34m.\u001b[0m\u001b[0massayFormat\u001b[0m\u001b[0;34m(\u001b[0m\u001b[0;34m)\u001b[0m\u001b[0;34m\u001b[0m\u001b[0m\n\u001b[0m\u001b[1;32m     34\u001b[0m         \u001b[0;32melif\u001b[0m \u001b[0mself\u001b[0m\u001b[0;34m.\u001b[0m\u001b[0mtype\u001b[0m \u001b[0;34m==\u001b[0m \u001b[0;34m'investigations'\u001b[0m\u001b[0;34m:\u001b[0m\u001b[0;34m\u001b[0m\u001b[0m\n\u001b[1;32m     35\u001b[0m             \u001b[0mself\u001b[0m\u001b[0;34m.\u001b[0m\u001b[0mJSON\u001b[0m \u001b[0;34m=\u001b[0m \u001b[0mHelper\u001b[0m\u001b[0;34m.\u001b[0m\u001b[0minvestigationFormat\u001b[0m\u001b[0;34m(\u001b[0m\u001b[0;34m)\u001b[0m\u001b[0;34m\u001b[0m\u001b[0m\n",
         "\u001b[0;32m~/Work/ThirdYear/Seek/TheSeekNotebook/Helper.py\u001b[0m in \u001b[0;36massayFormat\u001b[0;34m()\u001b[0m\n\u001b[1;32m     59\u001b[0m \u001b[0;34m\u001b[0m\u001b[0m\n\u001b[1;32m     60\u001b[0m \u001b[0;34m\u001b[0m\u001b[0m\n\u001b[0;32m---> 61\u001b[0;31m     \u001b[0mrelationsFormat\u001b[0m\u001b[0;34m(\u001b[0m\u001b[0mJSON\u001b[0m\u001b[0;34m,\u001b[0m \u001b[0;34m'creators'\u001b[0m\u001b[0;34m,\u001b[0m \u001b[0;34m'assay'\u001b[0m\u001b[0;34m)\u001b[0m\u001b[0;34m\u001b[0m\u001b[0m\n\u001b[0m\u001b[1;32m     62\u001b[0m     \u001b[0mrelationsFormat\u001b[0m\u001b[0;34m(\u001b[0m\u001b[0mJSON\u001b[0m\u001b[0;34m,\u001b[0m \u001b[0;34m'data_files'\u001b[0m\u001b[0;34m,\u001b[0m \u001b[0;34m'assay'\u001b[0m\u001b[0;34m)\u001b[0m\u001b[0;34m\u001b[0m\u001b[0m\n\u001b[1;32m     63\u001b[0m     \u001b[0mrelationsFormat\u001b[0m\u001b[0;34m(\u001b[0m\u001b[0mJSON\u001b[0m\u001b[0;34m,\u001b[0m \u001b[0;34m'documents'\u001b[0m\u001b[0;34m,\u001b[0m \u001b[0;34m'assay'\u001b[0m\u001b[0;34m)\u001b[0m\u001b[0;34m\u001b[0m\u001b[0m\n",
         "\u001b[0;32m~/Work/ThirdYear/Seek/TheSeekNotebook/Helper.py\u001b[0m in \u001b[0;36mrelationsFormat\u001b[0;34m(JSON, type, source)\u001b[0m\n\u001b[1;32m      2\u001b[0m \u001b[0;34m\u001b[0m\u001b[0m\n\u001b[1;32m      3\u001b[0m \u001b[0;32mdef\u001b[0m \u001b[0mrelationsFormat\u001b[0m\u001b[0;34m(\u001b[0m\u001b[0mJSON\u001b[0m\u001b[0;34m,\u001b[0m \u001b[0mtype\u001b[0m\u001b[0;34m,\u001b[0m \u001b[0msource\u001b[0m\u001b[0;34m)\u001b[0m\u001b[0;34m:\u001b[0m\u001b[0;34m\u001b[0m\u001b[0m\n\u001b[0;32m----> 4\u001b[0;31m     \u001b[0mnumberOfRelations\u001b[0m \u001b[0;34m=\u001b[0m \u001b[0mint\u001b[0m\u001b[0;34m(\u001b[0m\u001b[0minput\u001b[0m\u001b[0;34m(\u001b[0m\u001b[0;34m'Please specify how many '\u001b[0m \u001b[0;34m+\u001b[0m \u001b[0mtype\u001b[0m \u001b[0;34m+\u001b[0m \u001b[0;34m' is this '\u001b[0m \u001b[0;34m+\u001b[0m \u001b[0msource\u001b[0m \u001b[0;34m+\u001b[0m \u001b[0;34m' related to: '\u001b[0m\u001b[0;34m)\u001b[0m\u001b[0;34m)\u001b[0m\u001b[0;34m\u001b[0m\u001b[0m\n\u001b[0m\u001b[1;32m      5\u001b[0m \u001b[0;34m\u001b[0m\u001b[0m\n\u001b[1;32m      6\u001b[0m     \u001b[0;32mif\u001b[0m \u001b[0mnumberOfRelations\u001b[0m \u001b[0;34m!=\u001b[0m \u001b[0;36m0\u001b[0m\u001b[0;34m:\u001b[0m\u001b[0;34m\u001b[0m\u001b[0m\n",
         "\u001b[0;31mValueError\u001b[0m: invalid literal for int() with base 10: 'a'"
        ]
       }
      ],
      "source": "from WriteObject import WriteObject\n\nWO = WriteObject()\n\nWO.SEEKForm()",
      "start_time": "2019-03-16T12:59:32.972Z"
     },
     {
      "end_time": "2019-03-16T13:02:49.893Z",
      "execution_time": "4.82s",
      "outputs": [
       {
        "data": {
         "text/html": "<h3>SEEK FORM</h3>",
         "text/plain": "<IPython.core.display.HTML object>"
        },
        "metadata": {},
        "output_type": "display_data",
        "transient": {}
       },
       {
        "name": "stdout",
        "output_type": "stream",
        "text": "\nThe type of object you want to upload to SEEK: assays\n\nYou need to complete the following form in order to succesfully upload your information to SEEK\nPlease specify the description: a\nPlease specify other creators: a\nPlease specify the title: a\nPlease specify the assay class description: a\n"
       },
       {
        "ename": "AttributeError",
        "evalue": "'Select' object has no attribute 'display'",
        "output_type": "error",
        "traceback": [
         "\u001b[0;31m---------------------------------------------------------------------------\u001b[0m",
         "\u001b[0;31mAttributeError\u001b[0m                            Traceback (most recent call last)",
         "\u001b[0;32m<ipython-input-1-cd480b0c800a>\u001b[0m in \u001b[0;36m<module>\u001b[0;34m()\u001b[0m\n\u001b[1;32m      3\u001b[0m \u001b[0mWO\u001b[0m \u001b[0;34m=\u001b[0m \u001b[0mWriteObject\u001b[0m\u001b[0;34m(\u001b[0m\u001b[0;34m)\u001b[0m\u001b[0;34m\u001b[0m\u001b[0m\n\u001b[1;32m      4\u001b[0m \u001b[0;34m\u001b[0m\u001b[0m\n\u001b[0;32m----> 5\u001b[0;31m \u001b[0mWO\u001b[0m\u001b[0;34m.\u001b[0m\u001b[0mSEEKForm\u001b[0m\u001b[0;34m(\u001b[0m\u001b[0;34m)\u001b[0m\u001b[0;34m\u001b[0m\u001b[0m\n\u001b[0m",
         "\u001b[0;32m~/Work/ThirdYear/Seek/TheSeekNotebook/WriteObject.py\u001b[0m in \u001b[0;36mSEEKForm\u001b[0;34m(self)\u001b[0m\n\u001b[1;32m     31\u001b[0m \u001b[0;34m\u001b[0m\u001b[0m\n\u001b[1;32m     32\u001b[0m         \u001b[0;32mif\u001b[0m \u001b[0mself\u001b[0m\u001b[0;34m.\u001b[0m\u001b[0mtype\u001b[0m \u001b[0;34m==\u001b[0m \u001b[0;34m'assays'\u001b[0m\u001b[0;34m:\u001b[0m\u001b[0;34m\u001b[0m\u001b[0m\n\u001b[0;32m---> 33\u001b[0;31m             \u001b[0mself\u001b[0m\u001b[0;34m.\u001b[0m\u001b[0mJSON\u001b[0m \u001b[0;34m=\u001b[0m \u001b[0mHelper\u001b[0m\u001b[0;34m.\u001b[0m\u001b[0massayFormat\u001b[0m\u001b[0;34m(\u001b[0m\u001b[0;34m)\u001b[0m\u001b[0;34m\u001b[0m\u001b[0m\n\u001b[0m\u001b[1;32m     34\u001b[0m         \u001b[0;32melif\u001b[0m \u001b[0mself\u001b[0m\u001b[0;34m.\u001b[0m\u001b[0mtype\u001b[0m \u001b[0;34m==\u001b[0m \u001b[0;34m'investigations'\u001b[0m\u001b[0;34m:\u001b[0m\u001b[0;34m\u001b[0m\u001b[0m\n\u001b[1;32m     35\u001b[0m             \u001b[0mself\u001b[0m\u001b[0;34m.\u001b[0m\u001b[0mJSON\u001b[0m \u001b[0;34m=\u001b[0m \u001b[0mHelper\u001b[0m\u001b[0;34m.\u001b[0m\u001b[0minvestigationFormat\u001b[0m\u001b[0;34m(\u001b[0m\u001b[0;34m)\u001b[0m\u001b[0;34m\u001b[0m\u001b[0m\n",
         "\u001b[0;32m~/Work/ThirdYear/Seek/TheSeekNotebook/Helper.py\u001b[0m in \u001b[0;36massayFormat\u001b[0;34m()\u001b[0m\n\u001b[1;32m     42\u001b[0m                         disabled=False)\n\u001b[1;32m     43\u001b[0m \u001b[0;34m\u001b[0m\u001b[0m\n\u001b[0;32m---> 44\u001b[0;31m     \u001b[0mw\u001b[0m\u001b[0;34m.\u001b[0m\u001b[0mdisplay\u001b[0m\u001b[0;34m(\u001b[0m\u001b[0;34m)\u001b[0m\u001b[0;34m\u001b[0m\u001b[0m\n\u001b[0m\u001b[1;32m     45\u001b[0m     \u001b[0mJSON\u001b[0m\u001b[0;34m[\u001b[0m\u001b[0;34m'data'\u001b[0m\u001b[0;34m]\u001b[0m\u001b[0;34m[\u001b[0m\u001b[0;34m'attributes'\u001b[0m\u001b[0;34m]\u001b[0m\u001b[0;34m[\u001b[0m\u001b[0;34m'assay_class'\u001b[0m\u001b[0;34m]\u001b[0m\u001b[0;34m[\u001b[0m\u001b[0;34m'key'\u001b[0m\u001b[0;34m]\u001b[0m \u001b[0;34m=\u001b[0m \u001b[0mw\u001b[0m\u001b[0;34m.\u001b[0m\u001b[0mvalue\u001b[0m\u001b[0;34m\u001b[0m\u001b[0m\n\u001b[1;32m     46\u001b[0m         \u001b[0;31m# input('Please specify the assay class key(EXP / MODEL): ')\u001b[0m\u001b[0;34m\u001b[0m\u001b[0;34m\u001b[0m\u001b[0m\n",
         "\u001b[0;31mAttributeError\u001b[0m: 'Select' object has no attribute 'display'"
        ]
       }
      ],
      "source": "from WriteObject import WriteObject\n\nWO = WriteObject()\n\nWO.SEEKForm()",
      "start_time": "2019-03-16T13:02:45.074Z"
     },
     {
      "end_time": "2019-03-16T13:03:11.280Z",
      "execution_time": "5.44s",
      "outputs": [
       {
        "data": {
         "text/html": "<h3>SEEK FORM</h3>",
         "text/plain": "<IPython.core.display.HTML object>"
        },
        "metadata": {},
        "output_type": "display_data",
        "transient": {}
       },
       {
        "name": "stdout",
        "output_type": "stream",
        "text": "\nThe type of object you want to upload to SEEK: assays\n\nYou need to complete the following form in order to succesfully upload your information to SEEK\nPlease specify the description: a\nPlease specify other creators: a\nPlease specify the title: a\nPlease specify the assay class description: a\n"
       },
       {
        "ename": "AttributeError",
        "evalue": "'Select' object has no attribute 'display'",
        "output_type": "error",
        "traceback": [
         "\u001b[0;31m---------------------------------------------------------------------------\u001b[0m",
         "\u001b[0;31mAttributeError\u001b[0m                            Traceback (most recent call last)",
         "\u001b[0;32m<ipython-input-2-cd480b0c800a>\u001b[0m in \u001b[0;36m<module>\u001b[0;34m()\u001b[0m\n\u001b[1;32m      3\u001b[0m \u001b[0mWO\u001b[0m \u001b[0;34m=\u001b[0m \u001b[0mWriteObject\u001b[0m\u001b[0;34m(\u001b[0m\u001b[0;34m)\u001b[0m\u001b[0;34m\u001b[0m\u001b[0m\n\u001b[1;32m      4\u001b[0m \u001b[0;34m\u001b[0m\u001b[0m\n\u001b[0;32m----> 5\u001b[0;31m \u001b[0mWO\u001b[0m\u001b[0;34m.\u001b[0m\u001b[0mSEEKForm\u001b[0m\u001b[0;34m(\u001b[0m\u001b[0;34m)\u001b[0m\u001b[0;34m\u001b[0m\u001b[0m\n\u001b[0m",
         "\u001b[0;32m~/Work/ThirdYear/Seek/TheSeekNotebook/WriteObject.py\u001b[0m in \u001b[0;36mSEEKForm\u001b[0;34m(self)\u001b[0m\n\u001b[1;32m     31\u001b[0m \u001b[0;34m\u001b[0m\u001b[0m\n\u001b[1;32m     32\u001b[0m         \u001b[0;32mif\u001b[0m \u001b[0mself\u001b[0m\u001b[0;34m.\u001b[0m\u001b[0mtype\u001b[0m \u001b[0;34m==\u001b[0m \u001b[0;34m'assays'\u001b[0m\u001b[0;34m:\u001b[0m\u001b[0;34m\u001b[0m\u001b[0m\n\u001b[0;32m---> 33\u001b[0;31m             \u001b[0mself\u001b[0m\u001b[0;34m.\u001b[0m\u001b[0mJSON\u001b[0m \u001b[0;34m=\u001b[0m \u001b[0mHelper\u001b[0m\u001b[0;34m.\u001b[0m\u001b[0massayFormat\u001b[0m\u001b[0;34m(\u001b[0m\u001b[0;34m)\u001b[0m\u001b[0;34m\u001b[0m\u001b[0m\n\u001b[0m\u001b[1;32m     34\u001b[0m         \u001b[0;32melif\u001b[0m \u001b[0mself\u001b[0m\u001b[0;34m.\u001b[0m\u001b[0mtype\u001b[0m \u001b[0;34m==\u001b[0m \u001b[0;34m'investigations'\u001b[0m\u001b[0;34m:\u001b[0m\u001b[0;34m\u001b[0m\u001b[0m\n\u001b[1;32m     35\u001b[0m             \u001b[0mself\u001b[0m\u001b[0;34m.\u001b[0m\u001b[0mJSON\u001b[0m \u001b[0;34m=\u001b[0m \u001b[0mHelper\u001b[0m\u001b[0;34m.\u001b[0m\u001b[0minvestigationFormat\u001b[0m\u001b[0;34m(\u001b[0m\u001b[0;34m)\u001b[0m\u001b[0;34m\u001b[0m\u001b[0m\n",
         "\u001b[0;32m~/Work/ThirdYear/Seek/TheSeekNotebook/Helper.py\u001b[0m in \u001b[0;36massayFormat\u001b[0;34m()\u001b[0m\n\u001b[1;32m     42\u001b[0m                         disabled=False)\n\u001b[1;32m     43\u001b[0m \u001b[0;34m\u001b[0m\u001b[0m\n\u001b[0;32m---> 44\u001b[0;31m     \u001b[0mdisplay\u001b[0m\u001b[0;34m(\u001b[0m\u001b[0mw\u001b[0m\u001b[0;34m)\u001b[0m\u001b[0;34m\u001b[0m\u001b[0m\n\u001b[0m\u001b[1;32m     45\u001b[0m     \u001b[0mJSON\u001b[0m\u001b[0;34m[\u001b[0m\u001b[0;34m'data'\u001b[0m\u001b[0;34m]\u001b[0m\u001b[0;34m[\u001b[0m\u001b[0;34m'attributes'\u001b[0m\u001b[0;34m]\u001b[0m\u001b[0;34m[\u001b[0m\u001b[0;34m'assay_class'\u001b[0m\u001b[0;34m]\u001b[0m\u001b[0;34m[\u001b[0m\u001b[0;34m'key'\u001b[0m\u001b[0;34m]\u001b[0m \u001b[0;34m=\u001b[0m \u001b[0mw\u001b[0m\u001b[0;34m.\u001b[0m\u001b[0mvalue\u001b[0m\u001b[0;34m\u001b[0m\u001b[0m\n\u001b[1;32m     46\u001b[0m         \u001b[0;31m# input('Please specify the assay class key(EXP / MODEL): ')\u001b[0m\u001b[0;34m\u001b[0m\u001b[0;34m\u001b[0m\u001b[0m\n",
         "\u001b[0;31mAttributeError\u001b[0m: 'Select' object has no attribute 'display'"
        ]
       }
      ],
      "source": "from WriteObject import WriteObject\n\nWO = WriteObject()\n\nWO.SEEKForm()",
      "start_time": "2019-03-16T13:03:05.837Z"
     },
     {
      "end_time": "2019-03-16T13:26:38.455Z",
      "execution_time": "41.3s",
      "outputs": [
       {
        "data": {
         "text/html": "<h3>SEEK FORM</h3>",
         "text/plain": "<IPython.core.display.HTML object>"
        },
        "metadata": {},
        "output_type": "display_data",
        "transient": {}
       },
       {
        "name": "stdout",
        "output_type": "stream",
        "text": "\nThe type of object you want to upload to SEEK: assays\n\nYou need to complete the following form in order to succesfully upload your information to SEEK\nPlease specify the description: aa\nPlease specify other creators: k\nPlease specify the title: k\nPlease specify the assay class description: k\n"
       },
       {
        "data": {
         "application/vnd.jupyter.widget-view+json": {
          "model_id": "",
          "version_major": 2,
          "version_minor": 0
         },
         "text/plain": "Select(description='Assay Class Key', options=('EXP', 'MODEL'), rows=2, value='EXP')"
        },
        "metadata": {},
        "output_type": "display_data",
        "transient": {}
       },
       {
        "data": {
         "application/vnd.jupyter.widget-view+json": {
          "model_id": "",
          "version_major": 2,
          "version_minor": 0
         },
         "text/plain": "Button(button_style='success', description='Accept', icon='check', style=ButtonStyle(), tooltip='Select')"
        },
        "metadata": {},
        "output_type": "display_data",
        "transient": {}
       },
       {
        "ename": "KeyboardInterrupt",
        "evalue": "",
        "output_type": "error",
        "traceback": [
         "\u001b[0;31m---------------------------------------------------------------------------\u001b[0m",
         "\u001b[0;31mKeyboardInterrupt\u001b[0m                         Traceback (most recent call last)",
         "\u001b[0;32m<ipython-input-1-cd480b0c800a>\u001b[0m in \u001b[0;36m<module>\u001b[0;34m()\u001b[0m\n\u001b[1;32m      3\u001b[0m \u001b[0mWO\u001b[0m \u001b[0;34m=\u001b[0m \u001b[0mWriteObject\u001b[0m\u001b[0;34m(\u001b[0m\u001b[0;34m)\u001b[0m\u001b[0;34m\u001b[0m\u001b[0m\n\u001b[1;32m      4\u001b[0m \u001b[0;34m\u001b[0m\u001b[0m\n\u001b[0;32m----> 5\u001b[0;31m \u001b[0mWO\u001b[0m\u001b[0;34m.\u001b[0m\u001b[0mSEEKForm\u001b[0m\u001b[0;34m(\u001b[0m\u001b[0;34m)\u001b[0m\u001b[0;34m\u001b[0m\u001b[0m\n\u001b[0m",
         "\u001b[0;32m~/Work/ThirdYear/Seek/TheSeekNotebook/WriteObject.py\u001b[0m in \u001b[0;36mSEEKForm\u001b[0;34m(self)\u001b[0m\n\u001b[1;32m     31\u001b[0m \u001b[0;34m\u001b[0m\u001b[0m\n\u001b[1;32m     32\u001b[0m         \u001b[0;32mif\u001b[0m \u001b[0mself\u001b[0m\u001b[0;34m.\u001b[0m\u001b[0mtype\u001b[0m \u001b[0;34m==\u001b[0m \u001b[0;34m'assays'\u001b[0m\u001b[0;34m:\u001b[0m\u001b[0;34m\u001b[0m\u001b[0m\n\u001b[0;32m---> 33\u001b[0;31m             \u001b[0mself\u001b[0m\u001b[0;34m.\u001b[0m\u001b[0mJSON\u001b[0m \u001b[0;34m=\u001b[0m \u001b[0mHelper\u001b[0m\u001b[0;34m.\u001b[0m\u001b[0massayFormat\u001b[0m\u001b[0;34m(\u001b[0m\u001b[0;34m)\u001b[0m\u001b[0;34m\u001b[0m\u001b[0m\n\u001b[0m\u001b[1;32m     34\u001b[0m         \u001b[0;32melif\u001b[0m \u001b[0mself\u001b[0m\u001b[0;34m.\u001b[0m\u001b[0mtype\u001b[0m \u001b[0;34m==\u001b[0m \u001b[0;34m'investigations'\u001b[0m\u001b[0;34m:\u001b[0m\u001b[0;34m\u001b[0m\u001b[0m\n\u001b[1;32m     35\u001b[0m             \u001b[0mself\u001b[0m\u001b[0;34m.\u001b[0m\u001b[0mJSON\u001b[0m \u001b[0;34m=\u001b[0m \u001b[0mHelper\u001b[0m\u001b[0;34m.\u001b[0m\u001b[0minvestigationFormat\u001b[0m\u001b[0;34m(\u001b[0m\u001b[0;34m)\u001b[0m\u001b[0;34m\u001b[0m\u001b[0m\n",
         "\u001b[0;32m~/Work/ThirdYear/Seek/TheSeekNotebook/Helper.py\u001b[0m in \u001b[0;36massayFormat\u001b[0;34m()\u001b[0m\n\u001b[1;32m     58\u001b[0m     \u001b[0;32mwhile\u001b[0m \u001b[0;32mnot\u001b[0m \u001b[0misClicked\u001b[0m\u001b[0;34m:\u001b[0m\u001b[0;34m\u001b[0m\u001b[0m\n\u001b[1;32m     59\u001b[0m \u001b[0;34m\u001b[0m\u001b[0m\n\u001b[0;32m---> 60\u001b[0;31m         \u001b[0mbutton\u001b[0m\u001b[0;34m.\u001b[0m\u001b[0mon_click\u001b[0m\u001b[0;34m(\u001b[0m\u001b[0mbuttonClicked\u001b[0m\u001b[0;34m)\u001b[0m\u001b[0;34m\u001b[0m\u001b[0m\n\u001b[0m\u001b[1;32m     61\u001b[0m \u001b[0;34m\u001b[0m\u001b[0m\n\u001b[1;32m     62\u001b[0m     \u001b[0mJSON\u001b[0m\u001b[0;34m[\u001b[0m\u001b[0;34m'data'\u001b[0m\u001b[0;34m]\u001b[0m\u001b[0;34m[\u001b[0m\u001b[0;34m'attributes'\u001b[0m\u001b[0;34m]\u001b[0m\u001b[0;34m[\u001b[0m\u001b[0;34m'assay_class'\u001b[0m\u001b[0;34m]\u001b[0m\u001b[0;34m[\u001b[0m\u001b[0;34m'key'\u001b[0m\u001b[0;34m]\u001b[0m \u001b[0;34m=\u001b[0m \u001b[0mselect\u001b[0m\u001b[0;34m.\u001b[0m\u001b[0mvalue\u001b[0m\u001b[0;34m\u001b[0m\u001b[0m\n",
         "\u001b[0;32m~/anaconda3/lib/python3.6/site-packages/ipywidgets/widgets/widget_button.py\u001b[0m in \u001b[0;36mon_click\u001b[0;34m(self, callback, remove)\u001b[0m\n\u001b[1;32m     73\u001b[0m         \u001b[0;32mreturn\u001b[0m \u001b[0mvalue\u001b[0m\u001b[0;34m\u001b[0m\u001b[0m\n\u001b[1;32m     74\u001b[0m \u001b[0;34m\u001b[0m\u001b[0m\n\u001b[0;32m---> 75\u001b[0;31m     \u001b[0;32mdef\u001b[0m \u001b[0mon_click\u001b[0m\u001b[0;34m(\u001b[0m\u001b[0mself\u001b[0m\u001b[0;34m,\u001b[0m \u001b[0mcallback\u001b[0m\u001b[0;34m,\u001b[0m \u001b[0mremove\u001b[0m\u001b[0;34m=\u001b[0m\u001b[0;32mFalse\u001b[0m\u001b[0;34m)\u001b[0m\u001b[0;34m:\u001b[0m\u001b[0;34m\u001b[0m\u001b[0m\n\u001b[0m\u001b[1;32m     76\u001b[0m         \"\"\"Register a callback to execute when the button is clicked.\n\u001b[1;32m     77\u001b[0m \u001b[0;34m\u001b[0m\u001b[0m\n",
         "\u001b[0;31mKeyboardInterrupt\u001b[0m: "
        ]
       }
      ],
      "source": "from WriteObject import WriteObject\n\nWO = WriteObject()\n\nWO.SEEKForm()",
      "start_time": "2019-03-16T13:25:57.169Z"
     },
     {
      "end_time": "2019-03-16T16:10:01.684Z",
      "execution_time": "15.9s",
      "outputs": [
       {
        "data": {
         "text/html": "<h3>SEEK FORM</h3>",
         "text/plain": "<IPython.core.display.HTML object>"
        },
        "metadata": {},
        "output_type": "display_data",
        "transient": {}
       },
       {
        "name": "stdout",
        "output_type": "stream",
        "text": "\nThe type of object you want to upload to SEEK: assays\n\nYou need to complete the following form in order to succesfully upload your information to SEEK\nPlease specify the description: a\nPlease specify other creators: a\nPlease specify the title: a\nPlease specify the assay class description: a\n"
       },
       {
        "data": {
         "application/vnd.jupyter.widget-view+json": {
          "model_id": "",
          "version_major": 2,
          "version_minor": 0
         },
         "text/plain": "Select(description='Assay Class Key', options=('EXP', 'MODEL'), rows=2, value='EXP')"
        },
        "metadata": {},
        "output_type": "display_data",
        "transient": {}
       },
       {
        "data": {
         "application/vnd.jupyter.widget-view+json": {
          "model_id": "",
          "version_major": 2,
          "version_minor": 0
         },
         "text/plain": "Button(button_style='success', description='Accept', icon='check', style=ButtonStyle(), tooltip='Select')"
        },
        "metadata": {},
        "output_type": "display_data",
        "transient": {}
       },
       {
        "ename": "KeyboardInterrupt",
        "evalue": "",
        "output_type": "error",
        "traceback": [
         "\u001b[0;31m---------------------------------------------------------------------------\u001b[0m",
         "\u001b[0;31mKeyboardInterrupt\u001b[0m                         Traceback (most recent call last)",
         "\u001b[0;32m<ipython-input-2-cd480b0c800a>\u001b[0m in \u001b[0;36m<module>\u001b[0;34m()\u001b[0m\n\u001b[1;32m      3\u001b[0m \u001b[0mWO\u001b[0m \u001b[0;34m=\u001b[0m \u001b[0mWriteObject\u001b[0m\u001b[0;34m(\u001b[0m\u001b[0;34m)\u001b[0m\u001b[0;34m\u001b[0m\u001b[0m\n\u001b[1;32m      4\u001b[0m \u001b[0;34m\u001b[0m\u001b[0m\n\u001b[0;32m----> 5\u001b[0;31m \u001b[0mWO\u001b[0m\u001b[0;34m.\u001b[0m\u001b[0mSEEKForm\u001b[0m\u001b[0;34m(\u001b[0m\u001b[0;34m)\u001b[0m\u001b[0;34m\u001b[0m\u001b[0m\n\u001b[0m",
         "\u001b[0;32m~/Work/ThirdYear/Seek/TheSeekNotebook/WriteObject.py\u001b[0m in \u001b[0;36mSEEKForm\u001b[0;34m(self)\u001b[0m\n\u001b[1;32m     31\u001b[0m \u001b[0;34m\u001b[0m\u001b[0m\n\u001b[1;32m     32\u001b[0m         \u001b[0;32mif\u001b[0m \u001b[0mself\u001b[0m\u001b[0;34m.\u001b[0m\u001b[0mtype\u001b[0m \u001b[0;34m==\u001b[0m \u001b[0;34m'assays'\u001b[0m\u001b[0;34m:\u001b[0m\u001b[0;34m\u001b[0m\u001b[0m\n\u001b[0;32m---> 33\u001b[0;31m             \u001b[0mself\u001b[0m\u001b[0;34m.\u001b[0m\u001b[0mJSON\u001b[0m \u001b[0;34m=\u001b[0m \u001b[0mHelper\u001b[0m\u001b[0;34m.\u001b[0m\u001b[0massayFormat\u001b[0m\u001b[0;34m(\u001b[0m\u001b[0;34m)\u001b[0m\u001b[0;34m\u001b[0m\u001b[0m\n\u001b[0m\u001b[1;32m     34\u001b[0m         \u001b[0;32melif\u001b[0m \u001b[0mself\u001b[0m\u001b[0;34m.\u001b[0m\u001b[0mtype\u001b[0m \u001b[0;34m==\u001b[0m \u001b[0;34m'investigations'\u001b[0m\u001b[0;34m:\u001b[0m\u001b[0;34m\u001b[0m\u001b[0m\n\u001b[1;32m     35\u001b[0m             \u001b[0mself\u001b[0m\u001b[0;34m.\u001b[0m\u001b[0mJSON\u001b[0m \u001b[0;34m=\u001b[0m \u001b[0mHelper\u001b[0m\u001b[0;34m.\u001b[0m\u001b[0minvestigationFormat\u001b[0m\u001b[0;34m(\u001b[0m\u001b[0;34m)\u001b[0m\u001b[0;34m\u001b[0m\u001b[0m\n",
         "\u001b[0;32m~/Work/ThirdYear/Seek/TheSeekNotebook/Helper.py\u001b[0m in \u001b[0;36massayFormat\u001b[0;34m()\u001b[0m\n\u001b[1;32m     58\u001b[0m     \u001b[0;32mwhile\u001b[0m \u001b[0;32mnot\u001b[0m \u001b[0misClicked\u001b[0m\u001b[0;34m:\u001b[0m\u001b[0;34m\u001b[0m\u001b[0m\n\u001b[1;32m     59\u001b[0m \u001b[0;34m\u001b[0m\u001b[0m\n\u001b[0;32m---> 60\u001b[0;31m         \u001b[0mbutton\u001b[0m\u001b[0;34m.\u001b[0m\u001b[0mon_click\u001b[0m\u001b[0;34m(\u001b[0m\u001b[0mbuttonClicked\u001b[0m\u001b[0;34m)\u001b[0m\u001b[0;34m\u001b[0m\u001b[0m\n\u001b[0m\u001b[1;32m     61\u001b[0m \u001b[0;34m\u001b[0m\u001b[0m\n\u001b[1;32m     62\u001b[0m     \u001b[0mJSON\u001b[0m\u001b[0;34m[\u001b[0m\u001b[0;34m'data'\u001b[0m\u001b[0;34m]\u001b[0m\u001b[0;34m[\u001b[0m\u001b[0;34m'attributes'\u001b[0m\u001b[0;34m]\u001b[0m\u001b[0;34m[\u001b[0m\u001b[0;34m'assay_class'\u001b[0m\u001b[0;34m]\u001b[0m\u001b[0;34m[\u001b[0m\u001b[0;34m'key'\u001b[0m\u001b[0;34m]\u001b[0m \u001b[0;34m=\u001b[0m \u001b[0mselect\u001b[0m\u001b[0;34m.\u001b[0m\u001b[0mvalue\u001b[0m\u001b[0;34m\u001b[0m\u001b[0m\n",
         "\u001b[0;32m~/anaconda3/lib/python3.6/site-packages/ipywidgets/widgets/widget_button.py\u001b[0m in \u001b[0;36mon_click\u001b[0;34m(self, callback, remove)\u001b[0m\n\u001b[1;32m     84\u001b[0m             \u001b[0mSet\u001b[0m \u001b[0mto\u001b[0m \u001b[0mtrue\u001b[0m \u001b[0mto\u001b[0m \u001b[0mremove\u001b[0m \u001b[0mthe\u001b[0m \u001b[0mcallback\u001b[0m \u001b[0;32mfrom\u001b[0m \u001b[0mthe\u001b[0m \u001b[0mlist\u001b[0m \u001b[0mof\u001b[0m \u001b[0mcallbacks\u001b[0m\u001b[0;34m.\u001b[0m\u001b[0;34m\u001b[0m\u001b[0m\n\u001b[1;32m     85\u001b[0m         \"\"\"\n\u001b[0;32m---> 86\u001b[0;31m         \u001b[0mself\u001b[0m\u001b[0;34m.\u001b[0m\u001b[0m_click_handlers\u001b[0m\u001b[0;34m.\u001b[0m\u001b[0mregister_callback\u001b[0m\u001b[0;34m(\u001b[0m\u001b[0mcallback\u001b[0m\u001b[0;34m,\u001b[0m \u001b[0mremove\u001b[0m\u001b[0;34m=\u001b[0m\u001b[0mremove\u001b[0m\u001b[0;34m)\u001b[0m\u001b[0;34m\u001b[0m\u001b[0m\n\u001b[0m\u001b[1;32m     87\u001b[0m \u001b[0;34m\u001b[0m\u001b[0m\n\u001b[1;32m     88\u001b[0m     \u001b[0;32mdef\u001b[0m \u001b[0m_handle_button_msg\u001b[0m\u001b[0;34m(\u001b[0m\u001b[0mself\u001b[0m\u001b[0;34m,\u001b[0m \u001b[0m_\u001b[0m\u001b[0;34m,\u001b[0m \u001b[0mcontent\u001b[0m\u001b[0;34m,\u001b[0m \u001b[0mbuffers\u001b[0m\u001b[0;34m)\u001b[0m\u001b[0;34m:\u001b[0m\u001b[0;34m\u001b[0m\u001b[0m\n",
         "\u001b[0;32m~/anaconda3/lib/python3.6/site-packages/ipywidgets/widgets/widget.py\u001b[0m in \u001b[0;36mregister_callback\u001b[0;34m(self, callback, remove)\u001b[0m\n\u001b[1;32m    207\u001b[0m         \u001b[0;32mif\u001b[0m \u001b[0mremove\u001b[0m \u001b[0;32mand\u001b[0m \u001b[0mcallback\u001b[0m \u001b[0;32min\u001b[0m \u001b[0mself\u001b[0m\u001b[0;34m.\u001b[0m\u001b[0mcallbacks\u001b[0m\u001b[0;34m:\u001b[0m\u001b[0;34m\u001b[0m\u001b[0m\n\u001b[1;32m    208\u001b[0m             \u001b[0mself\u001b[0m\u001b[0;34m.\u001b[0m\u001b[0mcallbacks\u001b[0m\u001b[0;34m.\u001b[0m\u001b[0mremove\u001b[0m\u001b[0;34m(\u001b[0m\u001b[0mcallback\u001b[0m\u001b[0;34m)\u001b[0m\u001b[0;34m\u001b[0m\u001b[0m\n\u001b[0;32m--> 209\u001b[0;31m         \u001b[0;32melif\u001b[0m \u001b[0;32mnot\u001b[0m \u001b[0mremove\u001b[0m \u001b[0;32mand\u001b[0m \u001b[0mcallback\u001b[0m \u001b[0;32mnot\u001b[0m \u001b[0;32min\u001b[0m \u001b[0mself\u001b[0m\u001b[0;34m.\u001b[0m\u001b[0mcallbacks\u001b[0m\u001b[0;34m:\u001b[0m\u001b[0;34m\u001b[0m\u001b[0m\n\u001b[0m\u001b[1;32m    210\u001b[0m             \u001b[0mself\u001b[0m\u001b[0;34m.\u001b[0m\u001b[0mcallbacks\u001b[0m\u001b[0;34m.\u001b[0m\u001b[0mappend\u001b[0m\u001b[0;34m(\u001b[0m\u001b[0mcallback\u001b[0m\u001b[0;34m)\u001b[0m\u001b[0;34m\u001b[0m\u001b[0m\n\u001b[1;32m    211\u001b[0m \u001b[0;34m\u001b[0m\u001b[0m\n",
         "\u001b[0;31mKeyboardInterrupt\u001b[0m: "
        ]
       }
      ],
      "source": "from WriteObject import WriteObject\n\nWO = WriteObject()\n\nWO.SEEKForm()",
      "start_time": "2019-03-16T16:09:45.771Z"
     },
     {
      "end_time": "2019-03-16T16:13:50.984Z",
      "execution_time": "59.6s",
      "outputs": [
       {
        "data": {
         "text/html": "<h3>SEEK FORM</h3>",
         "text/plain": "<IPython.core.display.HTML object>"
        },
        "metadata": {},
        "output_type": "display_data",
        "transient": {}
       },
       {
        "name": "stdout",
        "output_type": "stream",
        "text": "\nThe type of object you want to upload to SEEK: assays\n\nYou need to complete the following form in order to succesfully upload your information to SEEK\nPlease specify the description: a\nPlease specify other creators: a\nPlease specify the title: a\nPlease specify the assay class description: a\n"
       },
       {
        "data": {
         "application/vnd.jupyter.widget-view+json": {
          "model_id": "",
          "version_major": 2,
          "version_minor": 0
         },
         "text/plain": "Select(description='Assay Class Key', options=('EXP', 'MODEL'), rows=2, value='EXP')"
        },
        "metadata": {},
        "output_type": "display_data",
        "transient": {}
       },
       {
        "data": {
         "application/vnd.jupyter.widget-view+json": {
          "model_id": "",
          "version_major": 2,
          "version_minor": 0
         },
         "text/plain": "Button(description='Accept', icon='check', style=ButtonStyle(), tooltip='Select')"
        },
        "metadata": {},
        "output_type": "display_data",
        "transient": {}
       },
       {
        "ename": "KeyboardInterrupt",
        "evalue": "",
        "output_type": "error",
        "traceback": [
         "\u001b[0;31m---------------------------------------------------------------------------\u001b[0m",
         "\u001b[0;31mKeyboardInterrupt\u001b[0m                         Traceback (most recent call last)",
         "\u001b[0;32m<ipython-input-1-cd480b0c800a>\u001b[0m in \u001b[0;36m<module>\u001b[0;34m()\u001b[0m\n\u001b[1;32m      3\u001b[0m \u001b[0mWO\u001b[0m \u001b[0;34m=\u001b[0m \u001b[0mWriteObject\u001b[0m\u001b[0;34m(\u001b[0m\u001b[0;34m)\u001b[0m\u001b[0;34m\u001b[0m\u001b[0m\n\u001b[1;32m      4\u001b[0m \u001b[0;34m\u001b[0m\u001b[0m\n\u001b[0;32m----> 5\u001b[0;31m \u001b[0mWO\u001b[0m\u001b[0;34m.\u001b[0m\u001b[0mSEEKForm\u001b[0m\u001b[0;34m(\u001b[0m\u001b[0;34m)\u001b[0m\u001b[0;34m\u001b[0m\u001b[0m\n\u001b[0m",
         "\u001b[0;32m~/Work/ThirdYear/Seek/TheSeekNotebook/WriteObject.py\u001b[0m in \u001b[0;36mSEEKForm\u001b[0;34m(self)\u001b[0m\n\u001b[1;32m     31\u001b[0m \u001b[0;34m\u001b[0m\u001b[0m\n\u001b[1;32m     32\u001b[0m         \u001b[0;32mif\u001b[0m \u001b[0mself\u001b[0m\u001b[0;34m.\u001b[0m\u001b[0mtype\u001b[0m \u001b[0;34m==\u001b[0m \u001b[0;34m'assays'\u001b[0m\u001b[0;34m:\u001b[0m\u001b[0;34m\u001b[0m\u001b[0m\n\u001b[0;32m---> 33\u001b[0;31m             \u001b[0mself\u001b[0m\u001b[0;34m.\u001b[0m\u001b[0mJSON\u001b[0m \u001b[0;34m=\u001b[0m \u001b[0mHelper\u001b[0m\u001b[0;34m.\u001b[0m\u001b[0massayFormat\u001b[0m\u001b[0;34m(\u001b[0m\u001b[0;34m)\u001b[0m\u001b[0;34m\u001b[0m\u001b[0m\n\u001b[0m\u001b[1;32m     34\u001b[0m         \u001b[0;32melif\u001b[0m \u001b[0mself\u001b[0m\u001b[0;34m.\u001b[0m\u001b[0mtype\u001b[0m \u001b[0;34m==\u001b[0m \u001b[0;34m'investigations'\u001b[0m\u001b[0;34m:\u001b[0m\u001b[0;34m\u001b[0m\u001b[0m\n\u001b[1;32m     35\u001b[0m             \u001b[0mself\u001b[0m\u001b[0;34m.\u001b[0m\u001b[0mJSON\u001b[0m \u001b[0;34m=\u001b[0m \u001b[0mHelper\u001b[0m\u001b[0;34m.\u001b[0m\u001b[0minvestigationFormat\u001b[0m\u001b[0;34m(\u001b[0m\u001b[0;34m)\u001b[0m\u001b[0;34m\u001b[0m\u001b[0m\n",
         "\u001b[0;32m~/Work/ThirdYear/Seek/TheSeekNotebook/Helper.py\u001b[0m in \u001b[0;36massayFormat\u001b[0;34m()\u001b[0m\n\u001b[1;32m     58\u001b[0m     \u001b[0;32mwhile\u001b[0m \u001b[0;32mnot\u001b[0m \u001b[0misClicked\u001b[0m\u001b[0;34m:\u001b[0m\u001b[0;34m\u001b[0m\u001b[0m\n\u001b[1;32m     59\u001b[0m \u001b[0;34m\u001b[0m\u001b[0m\n\u001b[0;32m---> 60\u001b[0;31m         \u001b[0mbutton\u001b[0m\u001b[0;34m.\u001b[0m\u001b[0mon_click\u001b[0m\u001b[0;34m(\u001b[0m\u001b[0mbuttonClicked\u001b[0m\u001b[0;34m)\u001b[0m\u001b[0;34m\u001b[0m\u001b[0m\n\u001b[0m\u001b[1;32m     61\u001b[0m \u001b[0;34m\u001b[0m\u001b[0m\n\u001b[1;32m     62\u001b[0m     \u001b[0mJSON\u001b[0m\u001b[0;34m[\u001b[0m\u001b[0;34m'data'\u001b[0m\u001b[0;34m]\u001b[0m\u001b[0;34m[\u001b[0m\u001b[0;34m'attributes'\u001b[0m\u001b[0;34m]\u001b[0m\u001b[0;34m[\u001b[0m\u001b[0;34m'assay_class'\u001b[0m\u001b[0;34m]\u001b[0m\u001b[0;34m[\u001b[0m\u001b[0;34m'key'\u001b[0m\u001b[0;34m]\u001b[0m \u001b[0;34m=\u001b[0m \u001b[0mselect\u001b[0m\u001b[0;34m.\u001b[0m\u001b[0mvalue\u001b[0m\u001b[0;34m\u001b[0m\u001b[0m\n",
         "\u001b[0;32m~/anaconda3/lib/python3.6/site-packages/ipywidgets/widgets/widget_button.py\u001b[0m in \u001b[0;36mon_click\u001b[0;34m(self, callback, remove)\u001b[0m\n\u001b[1;32m     84\u001b[0m             \u001b[0mSet\u001b[0m \u001b[0mto\u001b[0m \u001b[0mtrue\u001b[0m \u001b[0mto\u001b[0m \u001b[0mremove\u001b[0m \u001b[0mthe\u001b[0m \u001b[0mcallback\u001b[0m \u001b[0;32mfrom\u001b[0m \u001b[0mthe\u001b[0m \u001b[0mlist\u001b[0m \u001b[0mof\u001b[0m \u001b[0mcallbacks\u001b[0m\u001b[0;34m.\u001b[0m\u001b[0;34m\u001b[0m\u001b[0m\n\u001b[1;32m     85\u001b[0m         \"\"\"\n\u001b[0;32m---> 86\u001b[0;31m         \u001b[0mself\u001b[0m\u001b[0;34m.\u001b[0m\u001b[0m_click_handlers\u001b[0m\u001b[0;34m.\u001b[0m\u001b[0mregister_callback\u001b[0m\u001b[0;34m(\u001b[0m\u001b[0mcallback\u001b[0m\u001b[0;34m,\u001b[0m \u001b[0mremove\u001b[0m\u001b[0;34m=\u001b[0m\u001b[0mremove\u001b[0m\u001b[0;34m)\u001b[0m\u001b[0;34m\u001b[0m\u001b[0m\n\u001b[0m\u001b[1;32m     87\u001b[0m \u001b[0;34m\u001b[0m\u001b[0m\n\u001b[1;32m     88\u001b[0m     \u001b[0;32mdef\u001b[0m \u001b[0m_handle_button_msg\u001b[0m\u001b[0;34m(\u001b[0m\u001b[0mself\u001b[0m\u001b[0;34m,\u001b[0m \u001b[0m_\u001b[0m\u001b[0;34m,\u001b[0m \u001b[0mcontent\u001b[0m\u001b[0;34m,\u001b[0m \u001b[0mbuffers\u001b[0m\u001b[0;34m)\u001b[0m\u001b[0;34m:\u001b[0m\u001b[0;34m\u001b[0m\u001b[0m\n",
         "\u001b[0;32m~/anaconda3/lib/python3.6/site-packages/ipywidgets/widgets/widget.py\u001b[0m in \u001b[0;36mregister_callback\u001b[0;34m(self, callback, remove)\u001b[0m\n\u001b[1;32m    194\u001b[0m         \u001b[0;32mreturn\u001b[0m \u001b[0mvalue\u001b[0m\u001b[0;34m\u001b[0m\u001b[0m\n\u001b[1;32m    195\u001b[0m \u001b[0;34m\u001b[0m\u001b[0m\n\u001b[0;32m--> 196\u001b[0;31m     \u001b[0;32mdef\u001b[0m \u001b[0mregister_callback\u001b[0m\u001b[0;34m(\u001b[0m\u001b[0mself\u001b[0m\u001b[0;34m,\u001b[0m \u001b[0mcallback\u001b[0m\u001b[0;34m,\u001b[0m \u001b[0mremove\u001b[0m\u001b[0;34m=\u001b[0m\u001b[0;32mFalse\u001b[0m\u001b[0;34m)\u001b[0m\u001b[0;34m:\u001b[0m\u001b[0;34m\u001b[0m\u001b[0m\n\u001b[0m\u001b[1;32m    197\u001b[0m         \"\"\"(Un)Register a callback\n\u001b[1;32m    198\u001b[0m \u001b[0;34m\u001b[0m\u001b[0m\n",
         "\u001b[0;31mKeyboardInterrupt\u001b[0m: "
        ]
       }
      ],
      "source": "from WriteObject import WriteObject\n\nWO = WriteObject()\n\nWO.SEEKForm()",
      "start_time": "2019-03-16T16:12:51.383Z"
     },
     {
      "end_time": "2019-03-16T16:14:25.148Z",
      "execution_time": "15.5s",
      "outputs": [
       {
        "data": {
         "text/html": "<h3>SEEK FORM</h3>",
         "text/plain": "<IPython.core.display.HTML object>"
        },
        "metadata": {},
        "output_type": "display_data",
        "transient": {}
       },
       {
        "name": "stdout",
        "output_type": "stream",
        "text": "\nThe type of object you want to upload to SEEK: assays\n\nYou need to complete the following form in order to succesfully upload your information to SEEK\nPlease specify the description: a\nPlease specify other creators: a\nPlease specify the title: \nPlease specify the assay class description: a\n"
       },
       {
        "data": {
         "application/vnd.jupyter.widget-view+json": {
          "model_id": "99fea7f87b44414eb9d39d84ddaa0f4c",
          "version_major": 2,
          "version_minor": 0
         },
         "text/plain": "Select(description='Assay Class Key', options=('EXP', 'MODEL'), rows=2, value='EXP')"
        },
        "metadata": {},
        "output_type": "display_data",
        "transient": {}
       },
       {
        "data": {
         "application/vnd.jupyter.widget-view+json": {
          "model_id": "9e94c25822704c538336d9ace72d929c",
          "version_major": 2,
          "version_minor": 0
         },
         "text/plain": "Button(description='Accept', icon='check', style=ButtonStyle(), tooltip='Select')"
        },
        "metadata": {},
        "output_type": "display_data",
        "transient": {}
       },
       {
        "ename": "KeyboardInterrupt",
        "evalue": "",
        "output_type": "error",
        "traceback": [
         "\u001b[0;31m---------------------------------------------------------------------------\u001b[0m",
         "\u001b[0;31mKeyboardInterrupt\u001b[0m                         Traceback (most recent call last)",
         "\u001b[0;32m~/anaconda3/lib/python3.6/site-packages/ipykernel/kernelbase.py\u001b[0m in \u001b[0;36m_input_request\u001b[0;34m(self, prompt, ident, parent, password)\u001b[0m\n\u001b[1;32m    728\u001b[0m             \u001b[0;32mtry\u001b[0m\u001b[0;34m:\u001b[0m\u001b[0;34m\u001b[0m\u001b[0m\n\u001b[0;32m--> 729\u001b[0;31m                 \u001b[0mident\u001b[0m\u001b[0;34m,\u001b[0m \u001b[0mreply\u001b[0m \u001b[0;34m=\u001b[0m \u001b[0mself\u001b[0m\u001b[0;34m.\u001b[0m\u001b[0msession\u001b[0m\u001b[0;34m.\u001b[0m\u001b[0mrecv\u001b[0m\u001b[0;34m(\u001b[0m\u001b[0mself\u001b[0m\u001b[0;34m.\u001b[0m\u001b[0mstdin_socket\u001b[0m\u001b[0;34m,\u001b[0m \u001b[0;36m0\u001b[0m\u001b[0;34m)\u001b[0m\u001b[0;34m\u001b[0m\u001b[0m\n\u001b[0m\u001b[1;32m    730\u001b[0m             \u001b[0;32mexcept\u001b[0m \u001b[0mException\u001b[0m\u001b[0;34m:\u001b[0m\u001b[0;34m\u001b[0m\u001b[0m\n",
         "\u001b[0;32m~/anaconda3/lib/python3.6/site-packages/jupyter_client/session.py\u001b[0m in \u001b[0;36mrecv\u001b[0;34m(self, socket, mode, content, copy)\u001b[0m\n\u001b[1;32m    802\u001b[0m         \u001b[0;32mtry\u001b[0m\u001b[0;34m:\u001b[0m\u001b[0;34m\u001b[0m\u001b[0m\n\u001b[0;32m--> 803\u001b[0;31m             \u001b[0mmsg_list\u001b[0m \u001b[0;34m=\u001b[0m \u001b[0msocket\u001b[0m\u001b[0;34m.\u001b[0m\u001b[0mrecv_multipart\u001b[0m\u001b[0;34m(\u001b[0m\u001b[0mmode\u001b[0m\u001b[0;34m,\u001b[0m \u001b[0mcopy\u001b[0m\u001b[0;34m=\u001b[0m\u001b[0mcopy\u001b[0m\u001b[0;34m)\u001b[0m\u001b[0;34m\u001b[0m\u001b[0m\n\u001b[0m\u001b[1;32m    804\u001b[0m         \u001b[0;32mexcept\u001b[0m \u001b[0mzmq\u001b[0m\u001b[0;34m.\u001b[0m\u001b[0mZMQError\u001b[0m \u001b[0;32mas\u001b[0m \u001b[0me\u001b[0m\u001b[0;34m:\u001b[0m\u001b[0;34m\u001b[0m\u001b[0m\n",
         "\u001b[0;32m~/anaconda3/lib/python3.6/site-packages/zmq/sugar/socket.py\u001b[0m in \u001b[0;36mrecv_multipart\u001b[0;34m(self, flags, copy, track)\u001b[0m\n\u001b[1;32m    465\u001b[0m         \"\"\"\n\u001b[0;32m--> 466\u001b[0;31m         \u001b[0mparts\u001b[0m \u001b[0;34m=\u001b[0m \u001b[0;34m[\u001b[0m\u001b[0mself\u001b[0m\u001b[0;34m.\u001b[0m\u001b[0mrecv\u001b[0m\u001b[0;34m(\u001b[0m\u001b[0mflags\u001b[0m\u001b[0;34m,\u001b[0m \u001b[0mcopy\u001b[0m\u001b[0;34m=\u001b[0m\u001b[0mcopy\u001b[0m\u001b[0;34m,\u001b[0m \u001b[0mtrack\u001b[0m\u001b[0;34m=\u001b[0m\u001b[0mtrack\u001b[0m\u001b[0;34m)\u001b[0m\u001b[0;34m]\u001b[0m\u001b[0;34m\u001b[0m\u001b[0m\n\u001b[0m\u001b[1;32m    467\u001b[0m         \u001b[0;31m# have first part already, only loop while more to receive\u001b[0m\u001b[0;34m\u001b[0m\u001b[0;34m\u001b[0m\u001b[0m\n",
         "\u001b[0;32mzmq/backend/cython/socket.pyx\u001b[0m in \u001b[0;36mzmq.backend.cython.socket.Socket.recv\u001b[0;34m()\u001b[0m\n",
         "\u001b[0;32mzmq/backend/cython/socket.pyx\u001b[0m in \u001b[0;36mzmq.backend.cython.socket.Socket.recv\u001b[0;34m()\u001b[0m\n",
         "\u001b[0;32mzmq/backend/cython/socket.pyx\u001b[0m in \u001b[0;36mzmq.backend.cython.socket._recv_copy\u001b[0;34m()\u001b[0m\n",
         "\u001b[0;32m~/anaconda3/lib/python3.6/site-packages/zmq/backend/cython/checkrc.pxd\u001b[0m in \u001b[0;36mzmq.backend.cython.checkrc._check_rc\u001b[0;34m()\u001b[0m\n",
         "\u001b[0;31mKeyboardInterrupt\u001b[0m: ",
         "\nDuring handling of the above exception, another exception occurred:\n",
         "\u001b[0;31mKeyboardInterrupt\u001b[0m                         Traceback (most recent call last)",
         "\u001b[0;32m<ipython-input-1-cd480b0c800a>\u001b[0m in \u001b[0;36m<module>\u001b[0;34m()\u001b[0m\n\u001b[1;32m      3\u001b[0m \u001b[0mWO\u001b[0m \u001b[0;34m=\u001b[0m \u001b[0mWriteObject\u001b[0m\u001b[0;34m(\u001b[0m\u001b[0;34m)\u001b[0m\u001b[0;34m\u001b[0m\u001b[0m\n\u001b[1;32m      4\u001b[0m \u001b[0;34m\u001b[0m\u001b[0m\n\u001b[0;32m----> 5\u001b[0;31m \u001b[0mWO\u001b[0m\u001b[0;34m.\u001b[0m\u001b[0mSEEKForm\u001b[0m\u001b[0;34m(\u001b[0m\u001b[0;34m)\u001b[0m\u001b[0;34m\u001b[0m\u001b[0m\n\u001b[0m",
         "\u001b[0;32m~/Work/ThirdYear/Seek/TheSeekNotebook/WriteObject.py\u001b[0m in \u001b[0;36mSEEKForm\u001b[0;34m(self)\u001b[0m\n\u001b[1;32m     31\u001b[0m \u001b[0;34m\u001b[0m\u001b[0m\n\u001b[1;32m     32\u001b[0m         \u001b[0;32mif\u001b[0m \u001b[0mself\u001b[0m\u001b[0;34m.\u001b[0m\u001b[0mtype\u001b[0m \u001b[0;34m==\u001b[0m \u001b[0;34m'assays'\u001b[0m\u001b[0;34m:\u001b[0m\u001b[0;34m\u001b[0m\u001b[0m\n\u001b[0;32m---> 33\u001b[0;31m             \u001b[0mself\u001b[0m\u001b[0;34m.\u001b[0m\u001b[0mJSON\u001b[0m \u001b[0;34m=\u001b[0m \u001b[0mHelper\u001b[0m\u001b[0;34m.\u001b[0m\u001b[0massayFormat\u001b[0m\u001b[0;34m(\u001b[0m\u001b[0;34m)\u001b[0m\u001b[0;34m\u001b[0m\u001b[0m\n\u001b[0m\u001b[1;32m     34\u001b[0m         \u001b[0;32melif\u001b[0m \u001b[0mself\u001b[0m\u001b[0;34m.\u001b[0m\u001b[0mtype\u001b[0m \u001b[0;34m==\u001b[0m \u001b[0;34m'investigations'\u001b[0m\u001b[0;34m:\u001b[0m\u001b[0;34m\u001b[0m\u001b[0m\n\u001b[1;32m     35\u001b[0m             \u001b[0mself\u001b[0m\u001b[0;34m.\u001b[0m\u001b[0mJSON\u001b[0m \u001b[0;34m=\u001b[0m \u001b[0mHelper\u001b[0m\u001b[0;34m.\u001b[0m\u001b[0minvestigationFormat\u001b[0m\u001b[0;34m(\u001b[0m\u001b[0;34m)\u001b[0m\u001b[0;34m\u001b[0m\u001b[0m\n",
         "\u001b[0;32m~/Work/ThirdYear/Seek/TheSeekNotebook/Helper.py\u001b[0m in \u001b[0;36massayFormat\u001b[0;34m()\u001b[0m\n\u001b[1;32m     62\u001b[0m     \u001b[0mJSON\u001b[0m\u001b[0;34m[\u001b[0m\u001b[0;34m'data'\u001b[0m\u001b[0;34m]\u001b[0m\u001b[0;34m[\u001b[0m\u001b[0;34m'attributes'\u001b[0m\u001b[0;34m]\u001b[0m\u001b[0;34m[\u001b[0m\u001b[0;34m'assay_class'\u001b[0m\u001b[0;34m]\u001b[0m\u001b[0;34m[\u001b[0m\u001b[0;34m'key'\u001b[0m\u001b[0;34m]\u001b[0m \u001b[0;34m=\u001b[0m \u001b[0mselect\u001b[0m\u001b[0;34m.\u001b[0m\u001b[0mvalue\u001b[0m\u001b[0;34m\u001b[0m\u001b[0m\n\u001b[1;32m     63\u001b[0m         \u001b[0;31m# input('Please specify the assay class key(EXP / MODEL): ')\u001b[0m\u001b[0;34m\u001b[0m\u001b[0;34m\u001b[0m\u001b[0m\n\u001b[0;32m---> 64\u001b[0;31m     \u001b[0mJSON\u001b[0m\u001b[0;34m[\u001b[0m\u001b[0;34m'data'\u001b[0m\u001b[0;34m]\u001b[0m\u001b[0;34m[\u001b[0m\u001b[0;34m'attributes'\u001b[0m\u001b[0;34m]\u001b[0m\u001b[0;34m[\u001b[0m\u001b[0;34m'assay_class'\u001b[0m\u001b[0;34m]\u001b[0m\u001b[0;34m[\u001b[0m\u001b[0;34m'title'\u001b[0m\u001b[0;34m]\u001b[0m \u001b[0;34m=\u001b[0m \u001b[0minput\u001b[0m\u001b[0;34m(\u001b[0m\u001b[0;34m'Please specify the assay class title(Experimental assay / Modelling Analysis): '\u001b[0m\u001b[0;34m)\u001b[0m\u001b[0;34m\u001b[0m\u001b[0m\n\u001b[0m\u001b[1;32m     65\u001b[0m \u001b[0;34m\u001b[0m\u001b[0m\n\u001b[1;32m     66\u001b[0m     \u001b[0mJSON\u001b[0m\u001b[0;34m[\u001b[0m\u001b[0;34m'data'\u001b[0m\u001b[0;34m]\u001b[0m\u001b[0;34m[\u001b[0m\u001b[0;34m'attributes'\u001b[0m\u001b[0;34m]\u001b[0m\u001b[0;34m[\u001b[0m\u001b[0;34m'assay_type'\u001b[0m\u001b[0;34m]\u001b[0m \u001b[0;34m=\u001b[0m \u001b[0;34m{\u001b[0m\u001b[0;34m}\u001b[0m\u001b[0;34m\u001b[0m\u001b[0m\n",
         "\u001b[0;32m~/anaconda3/lib/python3.6/site-packages/ipykernel/kernelbase.py\u001b[0m in \u001b[0;36mraw_input\u001b[0;34m(self, prompt)\u001b[0m\n\u001b[1;32m    702\u001b[0m             \u001b[0mself\u001b[0m\u001b[0;34m.\u001b[0m\u001b[0m_parent_ident\u001b[0m\u001b[0;34m,\u001b[0m\u001b[0;34m\u001b[0m\u001b[0m\n\u001b[1;32m    703\u001b[0m             \u001b[0mself\u001b[0m\u001b[0;34m.\u001b[0m\u001b[0m_parent_header\u001b[0m\u001b[0;34m,\u001b[0m\u001b[0;34m\u001b[0m\u001b[0m\n\u001b[0;32m--> 704\u001b[0;31m             \u001b[0mpassword\u001b[0m\u001b[0;34m=\u001b[0m\u001b[0;32mFalse\u001b[0m\u001b[0;34m,\u001b[0m\u001b[0;34m\u001b[0m\u001b[0m\n\u001b[0m\u001b[1;32m    705\u001b[0m         )\n\u001b[1;32m    706\u001b[0m \u001b[0;34m\u001b[0m\u001b[0m\n",
         "\u001b[0;32m~/anaconda3/lib/python3.6/site-packages/ipykernel/kernelbase.py\u001b[0m in \u001b[0;36m_input_request\u001b[0;34m(self, prompt, ident, parent, password)\u001b[0m\n\u001b[1;32m    732\u001b[0m             \u001b[0;32mexcept\u001b[0m \u001b[0mKeyboardInterrupt\u001b[0m\u001b[0;34m:\u001b[0m\u001b[0;34m\u001b[0m\u001b[0m\n\u001b[1;32m    733\u001b[0m                 \u001b[0;31m# re-raise KeyboardInterrupt, to truncate traceback\u001b[0m\u001b[0;34m\u001b[0m\u001b[0;34m\u001b[0m\u001b[0m\n\u001b[0;32m--> 734\u001b[0;31m                 \u001b[0;32mraise\u001b[0m \u001b[0mKeyboardInterrupt\u001b[0m\u001b[0;34m\u001b[0m\u001b[0m\n\u001b[0m\u001b[1;32m    735\u001b[0m             \u001b[0;32melse\u001b[0m\u001b[0;34m:\u001b[0m\u001b[0;34m\u001b[0m\u001b[0m\n\u001b[1;32m    736\u001b[0m                 \u001b[0;32mbreak\u001b[0m\u001b[0;34m\u001b[0m\u001b[0m\n",
         "\u001b[0;31mKeyboardInterrupt\u001b[0m: "
        ]
       }
      ],
      "source": "from WriteObject import WriteObject\n\nWO = WriteObject()\n\nWO.SEEKForm()",
      "start_time": "2019-03-16T16:14:09.681Z"
     },
     {
      "end_time": "2019-03-19T13:55:04.945Z",
      "execution_time": "2d 21h 40m",
      "outputs": [],
      "source": "from WriteObject import WriteObject\n\nWO = WriteObject()\n\nWO.SEEKForm()",
      "start_time": "2019-03-16T16:14:09.681Z"
     },
     {
      "end_time": "2019-03-19T13:57:00.672Z",
      "execution_time": "1m 50.9s",
      "outputs": [
       {
        "data": {
         "text/html": "<h3>SEEK FORM</h3>",
         "text/plain": "<IPython.core.display.HTML object>"
        },
        "metadata": {},
        "output_type": "display_data",
        "transient": {}
       },
       {
        "name": "stdout",
        "output_type": "stream",
        "text": "\nThe type of object you want to upload to SEEK: assays\n\nYou need to complete the following form in order to succesfully upload your information to SEEK\n"
       },
       {
        "ename": "KeyboardInterrupt",
        "evalue": "",
        "output_type": "error",
        "traceback": [
         "\u001b[0;31m---------------------------------------------------------------------------\u001b[0m",
         "\u001b[0;31mKeyboardInterrupt\u001b[0m                         Traceback (most recent call last)",
         "\u001b[0;32m~/anaconda3/lib/python3.6/site-packages/ipykernel/kernelbase.py\u001b[0m in \u001b[0;36m_input_request\u001b[0;34m(self, prompt, ident, parent, password)\u001b[0m\n\u001b[1;32m    728\u001b[0m             \u001b[0;32mtry\u001b[0m\u001b[0;34m:\u001b[0m\u001b[0;34m\u001b[0m\u001b[0m\n\u001b[0;32m--> 729\u001b[0;31m                 \u001b[0mident\u001b[0m\u001b[0;34m,\u001b[0m \u001b[0mreply\u001b[0m \u001b[0;34m=\u001b[0m \u001b[0mself\u001b[0m\u001b[0;34m.\u001b[0m\u001b[0msession\u001b[0m\u001b[0;34m.\u001b[0m\u001b[0mrecv\u001b[0m\u001b[0;34m(\u001b[0m\u001b[0mself\u001b[0m\u001b[0;34m.\u001b[0m\u001b[0mstdin_socket\u001b[0m\u001b[0;34m,\u001b[0m \u001b[0;36m0\u001b[0m\u001b[0;34m)\u001b[0m\u001b[0;34m\u001b[0m\u001b[0m\n\u001b[0m\u001b[1;32m    730\u001b[0m             \u001b[0;32mexcept\u001b[0m \u001b[0mException\u001b[0m\u001b[0;34m:\u001b[0m\u001b[0;34m\u001b[0m\u001b[0m\n",
         "\u001b[0;32m~/anaconda3/lib/python3.6/site-packages/jupyter_client/session.py\u001b[0m in \u001b[0;36mrecv\u001b[0;34m(self, socket, mode, content, copy)\u001b[0m\n\u001b[1;32m    802\u001b[0m         \u001b[0;32mtry\u001b[0m\u001b[0;34m:\u001b[0m\u001b[0;34m\u001b[0m\u001b[0m\n\u001b[0;32m--> 803\u001b[0;31m             \u001b[0mmsg_list\u001b[0m \u001b[0;34m=\u001b[0m \u001b[0msocket\u001b[0m\u001b[0;34m.\u001b[0m\u001b[0mrecv_multipart\u001b[0m\u001b[0;34m(\u001b[0m\u001b[0mmode\u001b[0m\u001b[0;34m,\u001b[0m \u001b[0mcopy\u001b[0m\u001b[0;34m=\u001b[0m\u001b[0mcopy\u001b[0m\u001b[0;34m)\u001b[0m\u001b[0;34m\u001b[0m\u001b[0m\n\u001b[0m\u001b[1;32m    804\u001b[0m         \u001b[0;32mexcept\u001b[0m \u001b[0mzmq\u001b[0m\u001b[0;34m.\u001b[0m\u001b[0mZMQError\u001b[0m \u001b[0;32mas\u001b[0m \u001b[0me\u001b[0m\u001b[0;34m:\u001b[0m\u001b[0;34m\u001b[0m\u001b[0m\n",
         "\u001b[0;32m~/anaconda3/lib/python3.6/site-packages/zmq/sugar/socket.py\u001b[0m in \u001b[0;36mrecv_multipart\u001b[0;34m(self, flags, copy, track)\u001b[0m\n\u001b[1;32m    465\u001b[0m         \"\"\"\n\u001b[0;32m--> 466\u001b[0;31m         \u001b[0mparts\u001b[0m \u001b[0;34m=\u001b[0m \u001b[0;34m[\u001b[0m\u001b[0mself\u001b[0m\u001b[0;34m.\u001b[0m\u001b[0mrecv\u001b[0m\u001b[0;34m(\u001b[0m\u001b[0mflags\u001b[0m\u001b[0;34m,\u001b[0m \u001b[0mcopy\u001b[0m\u001b[0;34m=\u001b[0m\u001b[0mcopy\u001b[0m\u001b[0;34m,\u001b[0m \u001b[0mtrack\u001b[0m\u001b[0;34m=\u001b[0m\u001b[0mtrack\u001b[0m\u001b[0;34m)\u001b[0m\u001b[0;34m]\u001b[0m\u001b[0;34m\u001b[0m\u001b[0m\n\u001b[0m\u001b[1;32m    467\u001b[0m         \u001b[0;31m# have first part already, only loop while more to receive\u001b[0m\u001b[0;34m\u001b[0m\u001b[0;34m\u001b[0m\u001b[0m\n",
         "\u001b[0;32mzmq/backend/cython/socket.pyx\u001b[0m in \u001b[0;36mzmq.backend.cython.socket.Socket.recv\u001b[0;34m()\u001b[0m\n",
         "\u001b[0;32mzmq/backend/cython/socket.pyx\u001b[0m in \u001b[0;36mzmq.backend.cython.socket.Socket.recv\u001b[0;34m()\u001b[0m\n",
         "\u001b[0;32mzmq/backend/cython/socket.pyx\u001b[0m in \u001b[0;36mzmq.backend.cython.socket._recv_copy\u001b[0;34m()\u001b[0m\n",
         "\u001b[0;32m~/anaconda3/lib/python3.6/site-packages/zmq/backend/cython/checkrc.pxd\u001b[0m in \u001b[0;36mzmq.backend.cython.checkrc._check_rc\u001b[0;34m()\u001b[0m\n",
         "\u001b[0;31mKeyboardInterrupt\u001b[0m: ",
         "\nDuring handling of the above exception, another exception occurred:\n",
         "\u001b[0;31mKeyboardInterrupt\u001b[0m                         Traceback (most recent call last)",
         "\u001b[0;32m<ipython-input-1-cd480b0c800a>\u001b[0m in \u001b[0;36m<module>\u001b[0;34m()\u001b[0m\n\u001b[1;32m      3\u001b[0m \u001b[0mWO\u001b[0m \u001b[0;34m=\u001b[0m \u001b[0mWriteObject\u001b[0m\u001b[0;34m(\u001b[0m\u001b[0;34m)\u001b[0m\u001b[0;34m\u001b[0m\u001b[0m\n\u001b[1;32m      4\u001b[0m \u001b[0;34m\u001b[0m\u001b[0m\n\u001b[0;32m----> 5\u001b[0;31m \u001b[0mWO\u001b[0m\u001b[0;34m.\u001b[0m\u001b[0mSEEKForm\u001b[0m\u001b[0;34m(\u001b[0m\u001b[0;34m)\u001b[0m\u001b[0;34m\u001b[0m\u001b[0m\n\u001b[0m",
         "\u001b[0;32m~/Work/ThirdYear/Seek/TheSeekNotebook/WriteObject.py\u001b[0m in \u001b[0;36mSEEKForm\u001b[0;34m(self)\u001b[0m\n\u001b[1;32m     30\u001b[0m \u001b[0;34m\u001b[0m\u001b[0m\n\u001b[1;32m     31\u001b[0m         \u001b[0;32mif\u001b[0m \u001b[0mself\u001b[0m\u001b[0;34m.\u001b[0m\u001b[0mtype\u001b[0m \u001b[0;34m==\u001b[0m \u001b[0;34m'assays'\u001b[0m\u001b[0;34m:\u001b[0m\u001b[0;34m\u001b[0m\u001b[0m\n\u001b[0;32m---> 32\u001b[0;31m             \u001b[0mself\u001b[0m\u001b[0;34m.\u001b[0m\u001b[0mJSON\u001b[0m \u001b[0;34m=\u001b[0m \u001b[0mHelper\u001b[0m\u001b[0;34m.\u001b[0m\u001b[0massayFormat\u001b[0m\u001b[0;34m(\u001b[0m\u001b[0;34m)\u001b[0m\u001b[0;34m\u001b[0m\u001b[0m\n\u001b[0m\u001b[1;32m     33\u001b[0m         \u001b[0;32melif\u001b[0m \u001b[0mself\u001b[0m\u001b[0;34m.\u001b[0m\u001b[0mtype\u001b[0m \u001b[0;34m==\u001b[0m \u001b[0;34m'investigations'\u001b[0m\u001b[0;34m:\u001b[0m\u001b[0;34m\u001b[0m\u001b[0m\n\u001b[1;32m     34\u001b[0m             \u001b[0mself\u001b[0m\u001b[0;34m.\u001b[0m\u001b[0mJSON\u001b[0m \u001b[0;34m=\u001b[0m \u001b[0mHelper\u001b[0m\u001b[0;34m.\u001b[0m\u001b[0minvestigationFormat\u001b[0m\u001b[0;34m(\u001b[0m\u001b[0;34m)\u001b[0m\u001b[0;34m\u001b[0m\u001b[0m\n",
         "\u001b[0;32m~/Work/ThirdYear/Seek/TheSeekNotebook/Helper.py\u001b[0m in \u001b[0;36massayFormat\u001b[0;34m()\u001b[0m\n\u001b[1;32m     34\u001b[0m \u001b[0;34m\u001b[0m\u001b[0m\n\u001b[1;32m     35\u001b[0m     \u001b[0mJSON\u001b[0m\u001b[0;34m[\u001b[0m\u001b[0;34m'data'\u001b[0m\u001b[0;34m]\u001b[0m\u001b[0;34m[\u001b[0m\u001b[0;34m'attributes'\u001b[0m\u001b[0;34m]\u001b[0m \u001b[0;34m=\u001b[0m \u001b[0;34m{\u001b[0m\u001b[0;34m}\u001b[0m\u001b[0;34m\u001b[0m\u001b[0m\n\u001b[0;32m---> 36\u001b[0;31m     \u001b[0mJSON\u001b[0m\u001b[0;34m[\u001b[0m\u001b[0;34m'data'\u001b[0m\u001b[0;34m]\u001b[0m\u001b[0;34m[\u001b[0m\u001b[0;34m'attributes'\u001b[0m\u001b[0;34m]\u001b[0m\u001b[0;34m[\u001b[0m\u001b[0;34m'description'\u001b[0m\u001b[0;34m]\u001b[0m \u001b[0;34m=\u001b[0m \u001b[0minput\u001b[0m\u001b[0;34m(\u001b[0m\u001b[0;34m'Please specify the description: '\u001b[0m\u001b[0;34m)\u001b[0m\u001b[0;34m\u001b[0m\u001b[0m\n\u001b[0m\u001b[1;32m     37\u001b[0m     \u001b[0mJSON\u001b[0m\u001b[0;34m[\u001b[0m\u001b[0;34m'data'\u001b[0m\u001b[0;34m]\u001b[0m\u001b[0;34m[\u001b[0m\u001b[0;34m'attributes'\u001b[0m\u001b[0;34m]\u001b[0m\u001b[0;34m[\u001b[0m\u001b[0;34m'other_creators'\u001b[0m\u001b[0;34m]\u001b[0m \u001b[0;34m=\u001b[0m \u001b[0minput\u001b[0m\u001b[0;34m(\u001b[0m\u001b[0;34m'Please specify other creators: '\u001b[0m\u001b[0;34m)\u001b[0m\u001b[0;34m\u001b[0m\u001b[0m\n\u001b[1;32m     38\u001b[0m     \u001b[0;31m# JSON['data']['attributes']['snapshots'] = input('Please specify the snapshots: ')\u001b[0m\u001b[0;34m\u001b[0m\u001b[0;34m\u001b[0m\u001b[0m\n",
         "\u001b[0;32m~/anaconda3/lib/python3.6/site-packages/ipykernel/kernelbase.py\u001b[0m in \u001b[0;36mraw_input\u001b[0;34m(self, prompt)\u001b[0m\n\u001b[1;32m    702\u001b[0m             \u001b[0mself\u001b[0m\u001b[0;34m.\u001b[0m\u001b[0m_parent_ident\u001b[0m\u001b[0;34m,\u001b[0m\u001b[0;34m\u001b[0m\u001b[0m\n\u001b[1;32m    703\u001b[0m             \u001b[0mself\u001b[0m\u001b[0;34m.\u001b[0m\u001b[0m_parent_header\u001b[0m\u001b[0;34m,\u001b[0m\u001b[0;34m\u001b[0m\u001b[0m\n\u001b[0;32m--> 704\u001b[0;31m             \u001b[0mpassword\u001b[0m\u001b[0;34m=\u001b[0m\u001b[0;32mFalse\u001b[0m\u001b[0;34m,\u001b[0m\u001b[0;34m\u001b[0m\u001b[0m\n\u001b[0m\u001b[1;32m    705\u001b[0m         )\n\u001b[1;32m    706\u001b[0m \u001b[0;34m\u001b[0m\u001b[0m\n",
         "\u001b[0;32m~/anaconda3/lib/python3.6/site-packages/ipykernel/kernelbase.py\u001b[0m in \u001b[0;36m_input_request\u001b[0;34m(self, prompt, ident, parent, password)\u001b[0m\n\u001b[1;32m    732\u001b[0m             \u001b[0;32mexcept\u001b[0m \u001b[0mKeyboardInterrupt\u001b[0m\u001b[0;34m:\u001b[0m\u001b[0;34m\u001b[0m\u001b[0m\n\u001b[1;32m    733\u001b[0m                 \u001b[0;31m# re-raise KeyboardInterrupt, to truncate traceback\u001b[0m\u001b[0;34m\u001b[0m\u001b[0;34m\u001b[0m\u001b[0m\n\u001b[0;32m--> 734\u001b[0;31m                 \u001b[0;32mraise\u001b[0m \u001b[0mKeyboardInterrupt\u001b[0m\u001b[0;34m\u001b[0m\u001b[0m\n\u001b[0m\u001b[1;32m    735\u001b[0m             \u001b[0;32melse\u001b[0m\u001b[0;34m:\u001b[0m\u001b[0;34m\u001b[0m\u001b[0m\n\u001b[1;32m    736\u001b[0m                 \u001b[0;32mbreak\u001b[0m\u001b[0;34m\u001b[0m\u001b[0m\n",
         "\u001b[0;31mKeyboardInterrupt\u001b[0m: "
        ]
       }
      ],
      "source": "from WriteObject import WriteObject\n\nWO = WriteObject()\n\nWO.SEEKForm()\ninput()",
      "start_time": "2019-03-19T13:55:09.769Z"
     },
     {
      "end_time": "2019-03-19T14:07:38.931Z",
      "execution_time": "20ms",
      "outputs": [
       {
        "ename": "SyntaxError",
        "evalue": "EOL while scanning string literal (WriteObject.py, line 28)",
        "output_type": "error",
        "traceback": [
         "Traceback \u001b[0;36m(most recent call last)\u001b[0m:\n",
         "  File \u001b[1;32m\"/home/bogdan/anaconda3/lib/python3.6/site-packages/IPython/core/interactiveshell.py\"\u001b[0m, line \u001b[1;32m2963\u001b[0m, in \u001b[1;35mrun_code\u001b[0m\n    exec(code_obj, self.user_global_ns, self.user_ns)\n",
         "\u001b[0;36m  File \u001b[0;32m\"<ipython-input-1-db0ce1ca52c6>\"\u001b[0;36m, line \u001b[0;32m1\u001b[0;36m, in \u001b[0;35m<module>\u001b[0;36m\u001b[0m\n\u001b[0;31m    from WriteObject import WriteObject\u001b[0m\n",
         "\u001b[0;36m  File \u001b[0;32m\"/home/bogdan/Work/ThirdYear/Seek/TheSeekNotebook/WriteObject.py\"\u001b[0;36m, line \u001b[0;32m28\u001b[0m\n\u001b[0;31m    self.type = widgets.Dropdown(options=[\"assays\",\"data_files\"],description=\"\\nThe type of object you want to upload to SEEK: ')\u001b[0m\n\u001b[0m                                                                                                                                 ^\u001b[0m\n\u001b[0;31mSyntaxError\u001b[0m\u001b[0;31m:\u001b[0m EOL while scanning string literal\n"
        ]
       }
      ],
      "source": "from WriteObject import WriteObject\n\nWO = WriteObject()\n\nWO.SEEKForm()\ninput()",
      "start_time": "2019-03-19T14:07:38.911Z"
     },
     {
      "end_time": "2019-03-19T14:07:58.690Z",
      "execution_time": "162ms",
      "outputs": [
       {
        "data": {
         "text/html": "<h3>SEEK FORM</h3>",
         "text/plain": "<IPython.core.display.HTML object>"
        },
        "metadata": {},
        "output_type": "display_data",
        "transient": {}
       },
       {
        "name": "stdout",
        "output_type": "stream",
        "text": "\nYou need to complete the following form in order to succesfully upload your information to SEEK\n"
       },
       {
        "ename": "AttributeError",
        "evalue": "'WriteObject' object has no attribute 'JSON'",
        "output_type": "error",
        "traceback": [
         "\u001b[0;31m---------------------------------------------------------------------------\u001b[0m",
         "\u001b[0;31mAttributeError\u001b[0m                            Traceback (most recent call last)",
         "\u001b[0;32m<ipython-input-1-db0ce1ca52c6>\u001b[0m in \u001b[0;36m<module>\u001b[0;34m()\u001b[0m\n\u001b[1;32m      3\u001b[0m \u001b[0mWO\u001b[0m \u001b[0;34m=\u001b[0m \u001b[0mWriteObject\u001b[0m\u001b[0;34m(\u001b[0m\u001b[0;34m)\u001b[0m\u001b[0;34m\u001b[0m\u001b[0m\n\u001b[1;32m      4\u001b[0m \u001b[0;34m\u001b[0m\u001b[0m\n\u001b[0;32m----> 5\u001b[0;31m \u001b[0mWO\u001b[0m\u001b[0;34m.\u001b[0m\u001b[0mSEEKForm\u001b[0m\u001b[0;34m(\u001b[0m\u001b[0;34m)\u001b[0m\u001b[0;34m\u001b[0m\u001b[0m\n\u001b[0m\u001b[1;32m      6\u001b[0m \u001b[0minput\u001b[0m\u001b[0;34m(\u001b[0m\u001b[0;34m)\u001b[0m\u001b[0;34m\u001b[0m\u001b[0m\n",
         "\u001b[0;32m~/Work/ThirdYear/Seek/TheSeekNotebook/WriteObject.py\u001b[0m in \u001b[0;36mSEEKForm\u001b[0;34m(self)\u001b[0m\n\u001b[1;32m     36\u001b[0m             \u001b[0mself\u001b[0m\u001b[0;34m.\u001b[0m\u001b[0mJSON\u001b[0m \u001b[0;34m=\u001b[0m \u001b[0mHelper\u001b[0m\u001b[0;34m.\u001b[0m\u001b[0mstudyFormat\u001b[0m\u001b[0;34m(\u001b[0m\u001b[0;34m)\u001b[0m\u001b[0;34m\u001b[0m\u001b[0m\n\u001b[1;32m     37\u001b[0m \u001b[0;34m\u001b[0m\u001b[0m\n\u001b[0;32m---> 38\u001b[0;31m         \u001b[0mprint\u001b[0m\u001b[0;34m(\u001b[0m\u001b[0mself\u001b[0m\u001b[0;34m.\u001b[0m\u001b[0mJSON\u001b[0m\u001b[0;34m)\u001b[0m\u001b[0;34m\u001b[0m\u001b[0m\n\u001b[0m\u001b[1;32m     39\u001b[0m \u001b[0;34m\u001b[0m\u001b[0m\n\u001b[1;32m     40\u001b[0m     \u001b[0;32mdef\u001b[0m \u001b[0mrequest\u001b[0m\u001b[0;34m(\u001b[0m\u001b[0mself\u001b[0m\u001b[0;34m)\u001b[0m\u001b[0;34m:\u001b[0m\u001b[0;34m\u001b[0m\u001b[0m\n",
         "\u001b[0;31mAttributeError\u001b[0m: 'WriteObject' object has no attribute 'JSON'"
        ]
       }
      ],
      "source": "from WriteObject import WriteObject\n\nWO = WriteObject()\n\nWO.SEEKForm()\ninput()",
      "start_time": "2019-03-19T14:07:58.528Z"
     },
     {
      "end_time": "2019-03-19T14:08:30.675Z",
      "execution_time": "20ms",
      "outputs": [
       {
        "data": {
         "text/html": "<h3>SEEK FORM</h3>",
         "text/plain": "<IPython.core.display.HTML object>"
        },
        "metadata": {},
        "output_type": "display_data",
        "transient": {}
       },
       {
        "name": "stdout",
        "output_type": "stream",
        "text": "\nYou need to complete the following form in order to succesfully upload your information to SEEK\n"
       },
       {
        "ename": "AttributeError",
        "evalue": "'WriteObject' object has no attribute 'JSON'",
        "output_type": "error",
        "traceback": [
         "\u001b[0;31m---------------------------------------------------------------------------\u001b[0m",
         "\u001b[0;31mAttributeError\u001b[0m                            Traceback (most recent call last)",
         "\u001b[0;32m<ipython-input-2-db0ce1ca52c6>\u001b[0m in \u001b[0;36m<module>\u001b[0;34m()\u001b[0m\n\u001b[1;32m      3\u001b[0m \u001b[0mWO\u001b[0m \u001b[0;34m=\u001b[0m \u001b[0mWriteObject\u001b[0m\u001b[0;34m(\u001b[0m\u001b[0;34m)\u001b[0m\u001b[0;34m\u001b[0m\u001b[0m\n\u001b[1;32m      4\u001b[0m \u001b[0;34m\u001b[0m\u001b[0m\n\u001b[0;32m----> 5\u001b[0;31m \u001b[0mWO\u001b[0m\u001b[0;34m.\u001b[0m\u001b[0mSEEKForm\u001b[0m\u001b[0;34m(\u001b[0m\u001b[0;34m)\u001b[0m\u001b[0;34m\u001b[0m\u001b[0m\n\u001b[0m\u001b[1;32m      6\u001b[0m \u001b[0minput\u001b[0m\u001b[0;34m(\u001b[0m\u001b[0;34m)\u001b[0m\u001b[0;34m\u001b[0m\u001b[0m\n",
         "\u001b[0;32m~/Work/ThirdYear/Seek/TheSeekNotebook/WriteObject.py\u001b[0m in \u001b[0;36mSEEKForm\u001b[0;34m(self)\u001b[0m\n\u001b[1;32m     36\u001b[0m             \u001b[0mself\u001b[0m\u001b[0;34m.\u001b[0m\u001b[0mJSON\u001b[0m \u001b[0;34m=\u001b[0m \u001b[0mHelper\u001b[0m\u001b[0;34m.\u001b[0m\u001b[0mstudyFormat\u001b[0m\u001b[0;34m(\u001b[0m\u001b[0;34m)\u001b[0m\u001b[0;34m\u001b[0m\u001b[0m\n\u001b[1;32m     37\u001b[0m \u001b[0;34m\u001b[0m\u001b[0m\n\u001b[0;32m---> 38\u001b[0;31m         \u001b[0;31m# print(self.JSON)\u001b[0m\u001b[0;34m\u001b[0m\u001b[0;34m\u001b[0m\u001b[0m\n\u001b[0m\u001b[1;32m     39\u001b[0m \u001b[0;34m\u001b[0m\u001b[0m\n\u001b[1;32m     40\u001b[0m     \u001b[0;32mdef\u001b[0m \u001b[0mrequest\u001b[0m\u001b[0;34m(\u001b[0m\u001b[0mself\u001b[0m\u001b[0;34m)\u001b[0m\u001b[0;34m:\u001b[0m\u001b[0;34m\u001b[0m\u001b[0m\n",
         "\u001b[0;31mAttributeError\u001b[0m: 'WriteObject' object has no attribute 'JSON'"
        ]
       }
      ],
      "source": "from WriteObject import WriteObject\n\nWO = WriteObject()\n\nWO.SEEKForm()\ninput()",
      "start_time": "2019-03-19T14:08:30.655Z"
     },
     {
      "end_time": "2019-03-19T14:08:44.418Z",
      "execution_time": "4.02s",
      "outputs": [
       {
        "data": {
         "text/html": "<h3>SEEK FORM</h3>",
         "text/plain": "<IPython.core.display.HTML object>"
        },
        "metadata": {},
        "output_type": "display_data",
        "transient": {}
       },
       {
        "name": "stdout",
        "output_type": "stream",
        "text": "\nYou need to complete the following form in order to succesfully upload your information to SEEK\nuhm\n"
       },
       {
        "data": {
         "text/plain": "'uhm'"
        },
        "execution_count": 1,
        "metadata": {},
        "output_type": "execute_result"
       }
      ],
      "source": "from WriteObject import WriteObject\n\nWO = WriteObject()\n\nWO.SEEKForm()\ninput()",
      "start_time": "2019-03-19T14:08:40.400Z"
     },
     {
      "end_time": "2019-03-19T14:17:09.209Z",
      "execution_time": "8m 29s",
      "outputs": [],
      "source": "from WriteObject import WriteObject\n\nWO = WriteObject()\n\nWO.SEEKForm()\ninput()",
      "start_time": "2019-03-19T14:08:40.400Z"
     },
     {
      "end_time": "2019-03-19T14:18:30.845Z",
      "execution_time": "52.5s",
      "outputs": [
       {
        "data": {
         "text/html": "<h3>SEEK FORM</h3>",
         "text/plain": "<IPython.core.display.HTML object>"
        },
        "metadata": {},
        "output_type": "display_data",
        "transient": {}
       },
       {
        "name": "stdout",
        "output_type": "stream",
        "text": "\nThe type of object you want to upload to SEEK: assays\n\nYou need to complete the following form in order to succesfully upload your information to SEEK\nPlease specify the description: a\nPlease specify other creators: a\nPlease specify the title: a\nPlease specify the assay class title(Experimental assay / Modelling Analysis): a\nPlease specify the assay type label: a\nPlease specify the assay type uri: a\nPlease specify the technology type label: a\nPlease specify the technology type uri: a\nPlease specify how many creators is this assay related to: 0\nPlease specify how many data_files is this assay related to: 00\nPlease specify how many documents is this assay related to: 0\nPlease specify the id of the investigation: \nPlease specify how many models is this assay related to: 0\nPlease specify how many people is this assay related to: 0\nPlease specify how many projects is this assay related to: 0\nPlease specify how many publications is this assay related to: 0\nPlease specify how many sops is this assay related to: 0\nPlease specify the id of the studie: \nPlease specify how many submitters is this assay related to: 0\n{'data': {'type': 'assays', 'attributes': {'description': 'a', 'other_creators': 'a', 'title': 'a', 'assay_class': {'description': '', 'key': 'EXP', 'title': 'a'}, 'assay_type': {'label': 'a', 'uri': 'a'}, 'technology_type': {'label': 'a', 'uri': 'a'}}, 'relationships': {}}}\n\n"
       },
       {
        "data": {
         "text/plain": "''"
        },
        "execution_count": 1,
        "metadata": {},
        "output_type": "execute_result"
       }
      ],
      "source": "from WriteObject import WriteObject\n\nWO = WriteObject()\n\nWO.SEEKForm()\ninput()",
      "start_time": "2019-03-19T14:17:38.327Z"
     },
     {
      "end_time": "2019-03-19T16:29:51.163Z",
      "execution_time": "57ms",
      "outputs": [
       {
        "ename": "TypeError",
        "evalue": "'module' object is not callable",
        "output_type": "error",
        "traceback": [
         "\u001b[0;31m---------------------------------------------------------------------------\u001b[0m",
         "\u001b[0;31mTypeError\u001b[0m                                 Traceback (most recent call last)",
         "\u001b[0;32m<ipython-input-2-facb51c4f5ef>\u001b[0m in \u001b[0;36m<module>\u001b[0;34m()\u001b[0m\n\u001b[1;32m      1\u001b[0m \u001b[0;32mimport\u001b[0m \u001b[0mWriteObject\u001b[0m\u001b[0;34m\u001b[0m\u001b[0m\n\u001b[1;32m      2\u001b[0m \u001b[0;34m\u001b[0m\u001b[0m\n\u001b[0;32m----> 3\u001b[0;31m \u001b[0mWO\u001b[0m \u001b[0;34m=\u001b[0m \u001b[0mWriteObject\u001b[0m\u001b[0;34m(\u001b[0m\u001b[0;34m)\u001b[0m\u001b[0;34m\u001b[0m\u001b[0m\n\u001b[0m\u001b[1;32m      4\u001b[0m \u001b[0;34m\u001b[0m\u001b[0m\n\u001b[1;32m      5\u001b[0m \u001b[0mWO\u001b[0m\u001b[0;34m.\u001b[0m\u001b[0mSEEKForm\u001b[0m\u001b[0;34m(\u001b[0m\u001b[0;34m)\u001b[0m\u001b[0;34m\u001b[0m\u001b[0m\n",
         "\u001b[0;31mTypeError\u001b[0m: 'module' object is not callable"
        ]
       }
      ],
      "source": "import WriteObject\n\nWO = WriteObject()\n\nWO.SEEKForm()\ninput()",
      "start_time": "2019-03-19T16:29:51.106Z"
     },
     {
      "end_time": "2019-03-19T16:30:05.618Z",
      "execution_time": "8ms",
      "outputs": [
       {
        "ename": "TypeError",
        "evalue": "'module' object is not callable",
        "output_type": "error",
        "traceback": [
         "\u001b[0;31m---------------------------------------------------------------------------\u001b[0m",
         "\u001b[0;31mTypeError\u001b[0m                                 Traceback (most recent call last)",
         "\u001b[0;32m<ipython-input-3-7a2cc4b724fd>\u001b[0m in \u001b[0;36m<module>\u001b[0;34m()\u001b[0m\n\u001b[1;32m      1\u001b[0m \u001b[0;32mimport\u001b[0m \u001b[0mWriteObject\u001b[0m \u001b[0;32mas\u001b[0m \u001b[0mwo\u001b[0m\u001b[0;34m\u001b[0m\u001b[0m\n\u001b[1;32m      2\u001b[0m \u001b[0;34m\u001b[0m\u001b[0m\n\u001b[0;32m----> 3\u001b[0;31m \u001b[0mWO\u001b[0m \u001b[0;34m=\u001b[0m \u001b[0mwo\u001b[0m\u001b[0;34m(\u001b[0m\u001b[0;34m)\u001b[0m\u001b[0;34m\u001b[0m\u001b[0m\n\u001b[0m\u001b[1;32m      4\u001b[0m \u001b[0;34m\u001b[0m\u001b[0m\n\u001b[1;32m      5\u001b[0m \u001b[0mWO\u001b[0m\u001b[0;34m.\u001b[0m\u001b[0mSEEKForm\u001b[0m\u001b[0;34m(\u001b[0m\u001b[0;34m)\u001b[0m\u001b[0;34m\u001b[0m\u001b[0m\n",
         "\u001b[0;31mTypeError\u001b[0m: 'module' object is not callable"
        ]
       }
      ],
      "source": "import WriteObject as wo\n\nWO = wo()\n\nWO.SEEKForm()\ninput()",
      "start_time": "2019-03-19T16:30:05.610Z"
     },
     {
      "end_time": "2019-03-19T16:31:17.110Z",
      "execution_time": "1m 11.5s",
      "outputs": [],
      "source": "import WriteObject as wo\n\nWO = wo.WriteObject()\n\nWO.SEEKForm()",
      "start_time": "2019-03-19T16:30:05.610Z"
     },
     {
      "end_time": "2019-03-19T16:31:35.124Z",
      "execution_time": "495ms",
      "outputs": [
       {
        "data": {
         "text/html": "<h3>SEEK FORM</h3>",
         "text/plain": "<IPython.core.display.HTML object>"
        },
        "metadata": {},
        "output_type": "display_data",
        "transient": {}
       },
       {
        "name": "stdout",
        "output_type": "stream",
        "text": "\nYou need to complete the following form in order to succesfully upload your information to SEEK\n"
       },
       {
        "ename": "AttributeError",
        "evalue": "'WriteObject' object has no attribute 'JSON'",
        "output_type": "error",
        "traceback": [
         "\u001b[0;31m---------------------------------------------------------------------------\u001b[0m",
         "\u001b[0;31mAttributeError\u001b[0m                            Traceback (most recent call last)",
         "\u001b[0;32m<ipython-input-1-e7e875206f73>\u001b[0m in \u001b[0;36m<module>\u001b[0;34m()\u001b[0m\n\u001b[1;32m      3\u001b[0m \u001b[0mWO\u001b[0m \u001b[0;34m=\u001b[0m \u001b[0mwo\u001b[0m\u001b[0;34m.\u001b[0m\u001b[0mWriteObject\u001b[0m\u001b[0;34m(\u001b[0m\u001b[0;34m)\u001b[0m\u001b[0;34m\u001b[0m\u001b[0m\n\u001b[1;32m      4\u001b[0m \u001b[0;34m\u001b[0m\u001b[0m\n\u001b[0;32m----> 5\u001b[0;31m \u001b[0mWO\u001b[0m\u001b[0;34m.\u001b[0m\u001b[0mSEEKForm\u001b[0m\u001b[0;34m(\u001b[0m\u001b[0;34m)\u001b[0m\u001b[0;34m\u001b[0m\u001b[0m\n\u001b[0m",
         "\u001b[0;32m~/Work/ThirdYear/Seek/TheSeekNotebook/WriteObject.py\u001b[0m in \u001b[0;36mSEEKForm\u001b[0;34m(self)\u001b[0m\n\u001b[1;32m     37\u001b[0m             \u001b[0mself\u001b[0m\u001b[0;34m.\u001b[0m\u001b[0mJSON\u001b[0m \u001b[0;34m=\u001b[0m \u001b[0mHelper\u001b[0m\u001b[0;34m.\u001b[0m\u001b[0mstudyFormat\u001b[0m\u001b[0;34m(\u001b[0m\u001b[0;34m)\u001b[0m\u001b[0;34m\u001b[0m\u001b[0m\n\u001b[1;32m     38\u001b[0m \u001b[0;34m\u001b[0m\u001b[0m\n\u001b[0;32m---> 39\u001b[0;31m         \u001b[0mprint\u001b[0m\u001b[0;34m(\u001b[0m\u001b[0mself\u001b[0m\u001b[0;34m.\u001b[0m\u001b[0mJSON\u001b[0m\u001b[0;34m)\u001b[0m\u001b[0;34m\u001b[0m\u001b[0m\n\u001b[0m\u001b[1;32m     40\u001b[0m \u001b[0;34m\u001b[0m\u001b[0m\n\u001b[1;32m     41\u001b[0m     \u001b[0;32mdef\u001b[0m \u001b[0mrequest\u001b[0m\u001b[0;34m(\u001b[0m\u001b[0mself\u001b[0m\u001b[0;34m)\u001b[0m\u001b[0;34m:\u001b[0m\u001b[0;34m\u001b[0m\u001b[0m\n",
         "\u001b[0;31mAttributeError\u001b[0m: 'WriteObject' object has no attribute 'JSON'"
        ]
       }
      ],
      "source": "import WriteObject as wo\n\nWO = wo.WriteObject()\n\nWO.SEEKForm()",
      "start_time": "2019-03-19T16:31:34.629Z"
     },
     {
      "end_time": "2019-03-19T16:32:03.294Z",
      "execution_time": "39ms",
      "outputs": [
       {
        "data": {
         "text/html": "<h3>SEEK FORM</h3>",
         "text/plain": "<IPython.core.display.HTML object>"
        },
        "metadata": {},
        "output_type": "display_data",
        "transient": {}
       },
       {
        "name": "stdout",
        "output_type": "stream",
        "text": "\nYou need to complete the following form in order to succesfully upload your information to SEEK\n"
       },
       {
        "ename": "AttributeError",
        "evalue": "'WriteObject' object has no attribute 'JSON'",
        "output_type": "error",
        "traceback": [
         "\u001b[0;31m---------------------------------------------------------------------------\u001b[0m",
         "\u001b[0;31mAttributeError\u001b[0m                            Traceback (most recent call last)",
         "\u001b[0;32m<ipython-input-2-e7e875206f73>\u001b[0m in \u001b[0;36m<module>\u001b[0;34m()\u001b[0m\n\u001b[1;32m      3\u001b[0m \u001b[0mWO\u001b[0m \u001b[0;34m=\u001b[0m \u001b[0mwo\u001b[0m\u001b[0;34m.\u001b[0m\u001b[0mWriteObject\u001b[0m\u001b[0;34m(\u001b[0m\u001b[0;34m)\u001b[0m\u001b[0;34m\u001b[0m\u001b[0m\n\u001b[1;32m      4\u001b[0m \u001b[0;34m\u001b[0m\u001b[0m\n\u001b[0;32m----> 5\u001b[0;31m \u001b[0mWO\u001b[0m\u001b[0;34m.\u001b[0m\u001b[0mSEEKForm\u001b[0m\u001b[0;34m(\u001b[0m\u001b[0;34m)\u001b[0m\u001b[0;34m\u001b[0m\u001b[0m\n\u001b[0m",
         "\u001b[0;32m~/Work/ThirdYear/Seek/TheSeekNotebook/WriteObject.py\u001b[0m in \u001b[0;36mSEEKForm\u001b[0;34m(self)\u001b[0m\n\u001b[1;32m     37\u001b[0m             \u001b[0mself\u001b[0m\u001b[0;34m.\u001b[0m\u001b[0mJSON\u001b[0m \u001b[0;34m=\u001b[0m \u001b[0mHelper\u001b[0m\u001b[0;34m.\u001b[0m\u001b[0mstudyFormat\u001b[0m\u001b[0;34m(\u001b[0m\u001b[0;34m)\u001b[0m\u001b[0;34m\u001b[0m\u001b[0m\n\u001b[1;32m     38\u001b[0m \u001b[0;34m\u001b[0m\u001b[0m\n\u001b[0;32m---> 39\u001b[0;31m         \u001b[0mprint\u001b[0m\u001b[0;34m(\u001b[0m\u001b[0mself\u001b[0m\u001b[0;34m.\u001b[0m\u001b[0mJSON\u001b[0m\u001b[0;34m)\u001b[0m\u001b[0;34m\u001b[0m\u001b[0m\n\u001b[0m\u001b[1;32m     40\u001b[0m \u001b[0;34m\u001b[0m\u001b[0m\n\u001b[1;32m     41\u001b[0m     \u001b[0;32mdef\u001b[0m \u001b[0mrequest\u001b[0m\u001b[0;34m(\u001b[0m\u001b[0mself\u001b[0m\u001b[0;34m)\u001b[0m\u001b[0;34m:\u001b[0m\u001b[0;34m\u001b[0m\u001b[0m\n",
         "\u001b[0;31mAttributeError\u001b[0m: 'WriteObject' object has no attribute 'JSON'"
        ]
       }
      ],
      "source": "import WriteObject as wo\n\nWO = wo.WriteObject()\n\nWO.SEEKForm()",
      "start_time": "2019-03-19T16:32:03.255Z"
     },
     {
      "end_time": "2019-03-19T16:32:11.398Z",
      "execution_time": "127ms",
      "outputs": [
       {
        "data": {
         "text/html": "<h3>SEEK FORM</h3>",
         "text/plain": "<IPython.core.display.HTML object>"
        },
        "metadata": {},
        "output_type": "display_data",
        "transient": {}
       },
       {
        "name": "stdout",
        "output_type": "stream",
        "text": "\nYou need to complete the following form in order to succesfully upload your information to SEEK\nNone\n"
       }
      ],
      "source": "import WriteObject as wo\n\nWO = wo.WriteObject()\n\nWO.SEEKForm()",
      "start_time": "2019-03-19T16:32:11.271Z"
     },
     {
      "end_time": "2019-03-19T16:35:18.856Z",
      "execution_time": "125ms",
      "outputs": [
       {
        "data": {
         "text/html": "<h3>SEEK FORM</h3>",
         "text/plain": "<IPython.core.display.HTML object>"
        },
        "metadata": {},
        "output_type": "display_data",
        "transient": {}
       },
       {
        "name": "stdout",
        "output_type": "stream",
        "text": "\nYou need to complete the following form in order to succesfully upload your information to SEEK\nNone\n"
       }
      ],
      "source": "import WriteObject as wo\n\nWO = wo.WriteObject()\n\nWO.SEEKForm()",
      "start_time": "2019-03-19T16:35:18.731Z"
     },
     {
      "end_time": "2019-03-19T16:36:20.234Z",
      "execution_time": "32ms",
      "outputs": [
       {
        "data": {
         "text/html": "<h3>SEEK FORM</h3>",
         "text/plain": "<IPython.core.display.HTML object>"
        },
        "metadata": {},
        "output_type": "display_data",
        "transient": {}
       },
       {
        "name": "stdout",
        "output_type": "stream",
        "text": "\nYou need to complete the following form in order to succesfully upload your information to SEEK\nNone\n"
       }
      ],
      "source": "import WriteObject as wo\n\nWO = wo.WriteObject()\n\nWO.SEEKForm()",
      "start_time": "2019-03-19T16:36:20.202Z"
     },
     {
      "end_time": "2019-03-19T16:36:43.874Z",
      "execution_time": "125ms",
      "outputs": [
       {
        "data": {
         "text/html": "<h3>SEEK FORM</h3>",
         "text/plain": "<IPython.core.display.HTML object>"
        },
        "metadata": {},
        "output_type": "display_data",
        "transient": {}
       },
       {
        "name": "stdout",
        "output_type": "stream",
        "text": "\nYou need to complete the following form in order to succesfully upload your information to SEEK\nNone\n"
       }
      ],
      "source": "import WriteObject as wo\n\nWO = wo.WriteObject()\n\nWO.SEEKForm()",
      "start_time": "2019-03-19T16:36:43.749Z"
     },
     {
      "end_time": "2019-03-19T16:38:47.863Z",
      "execution_time": "121ms",
      "outputs": [
       {
        "data": {
         "text/html": "<h3>SEEK FORM</h3>",
         "text/plain": "<IPython.core.display.HTML object>"
        },
        "metadata": {},
        "output_type": "display_data",
        "transient": {}
       },
       {
        "name": "stdout",
        "output_type": "stream",
        "text": "\nYou need to complete the following form in order to succesfully upload your information to SEEK\nNone\n"
       }
      ],
      "source": "import WriteObject as wo\n\nWO = wo.WriteObject()\n\nWO.SEEKForm()",
      "start_time": "2019-03-19T16:38:47.742Z"
     },
     {
      "end_time": "2019-03-19T16:38:59.572Z",
      "execution_time": "144ms",
      "outputs": [
       {
        "data": {
         "text/html": "<h3>SEEK FORM</h3>",
         "text/plain": "<IPython.core.display.HTML object>"
        },
        "metadata": {},
        "output_type": "display_data",
        "transient": {}
       },
       {
        "name": "stdout",
        "output_type": "stream",
        "text": "None\n"
       }
      ],
      "source": "import WriteObject as wo\n\nWO = wo.WriteObject()\n\nWO.SEEKForm()",
      "start_time": "2019-03-19T16:38:59.428Z"
     },
     {
      "end_time": "2019-03-19T16:39:16.109Z",
      "execution_time": "121ms",
      "outputs": [
       {
        "data": {
         "text/html": "<h3>SEEK FORM</h3>",
         "text/plain": "<IPython.core.display.HTML object>"
        },
        "metadata": {},
        "output_type": "display_data",
        "transient": {}
       }
      ],
      "source": "import WriteObject as wo\n\nWO = wo.WriteObject()\n\nWO.SEEKForm()",
      "start_time": "2019-03-19T16:39:15.988Z"
     },
     {
      "end_time": "2019-03-19T16:39:28.766Z",
      "execution_time": "117ms",
      "outputs": [],
      "source": "import WriteObject as wo\n\nWO = wo.WriteObject()\n\nWO.SEEKForm()",
      "start_time": "2019-03-19T16:39:28.649Z"
     },
     {
      "end_time": "2019-03-19T16:40:15.789Z",
      "execution_time": "108ms",
      "outputs": [],
      "source": "import WriteObject as wo\n\nWO = wo.WriteObject()\n\nWO.SEEKForm()",
      "start_time": "2019-03-19T16:40:15.681Z"
     },
     {
      "end_time": "2019-03-19T16:40:43.428Z",
      "execution_time": "119ms",
      "outputs": [],
      "source": "import WriteObject as wo\n\nWO = wo.WriteObject()\n\nWO.SEEKForm()",
      "start_time": "2019-03-19T16:40:43.309Z"
     },
     {
      "end_time": "2019-03-19T16:43:07.328Z",
      "execution_time": "34ms",
      "outputs": [],
      "source": "import WriteObject as wo\n\nWO = wo.WriteObject()\n\nWO.SEEKForm()",
      "start_time": "2019-03-19T16:43:07.294Z"
     },
     {
      "end_time": "2019-03-19T16:43:22.724Z",
      "execution_time": "32ms",
      "outputs": [],
      "source": "import WriteObject as wo\n\nWO = wo.WriteObject()\n\nWO.SEEKForm()",
      "start_time": "2019-03-19T16:43:22.692Z"
     },
     {
      "end_time": "2019-03-19T16:43:27.893Z",
      "execution_time": "34ms",
      "outputs": [
       {
        "name": "stdout",
        "output_type": "stream",
        "text": "muie\n"
       }
      ],
      "source": "import WriteObject as wo\n\nWO = wo.WriteObject()\n\nWO.SEEKForm()",
      "start_time": "2019-03-19T16:43:27.859Z"
     },
     {
      "end_time": "2019-03-19T16:44:08.587Z",
      "execution_time": "28ms",
      "outputs": [],
      "source": "import WriteObject as wo\n\nWO = wo.WriteObject()\n\nWO.SEEKForm()",
      "start_time": "2019-03-19T16:44:08.559Z"
     },
     {
      "end_time": "2019-03-19T16:44:33.846Z",
      "execution_time": "38ms",
      "outputs": [
       {
        "data": {
         "application/vnd.jupyter.widget-view+json": {
          "model_id": "",
          "version_major": 2,
          "version_minor": 0
         },
         "text/plain": "Dropdown(description='Number:', index=1, options=('1', '2', '3'), value='2')"
        },
        "metadata": {},
        "output_type": "display_data",
        "transient": {}
       }
      ],
      "source": "import WriteObject as wo\n\nWO = wo.WriteObject()\n\nWO.SEEKForm()",
      "start_time": "2019-03-19T16:44:33.808Z"
     },
     {
      "end_time": "2019-03-19T16:46:53.907Z",
      "execution_time": "248ms",
      "outputs": [
       {
        "data": {
         "text/html": "<h3>SEEK FORM</h3>",
         "text/plain": "<IPython.core.display.HTML object>"
        },
        "metadata": {},
        "output_type": "display_data",
        "transient": {}
       },
       {
        "ename": "TraitError",
        "evalue": "Invalid selection: value not found",
        "output_type": "error",
        "traceback": [
         "\u001b[0;31m---------------------------------------------------------------------------\u001b[0m",
         "\u001b[0;31mStopIteration\u001b[0m                             Traceback (most recent call last)",
         "\u001b[0;32m~/anaconda3/lib/python3.6/site-packages/ipywidgets/widgets/widget_selection.py\u001b[0m in \u001b[0;36mfindvalue\u001b[0;34m(array, value, compare)\u001b[0m\n\u001b[1;32m    136\u001b[0m     \u001b[0;32mtry\u001b[0m\u001b[0;34m:\u001b[0m\u001b[0;34m\u001b[0m\u001b[0m\n\u001b[0;32m--> 137\u001b[0;31m         \u001b[0;32mreturn\u001b[0m \u001b[0mnext\u001b[0m\u001b[0;34m(\u001b[0m\u001b[0mx\u001b[0m \u001b[0;32mfor\u001b[0m \u001b[0mx\u001b[0m \u001b[0;32min\u001b[0m \u001b[0marray\u001b[0m \u001b[0;32mif\u001b[0m \u001b[0mcompare\u001b[0m\u001b[0;34m(\u001b[0m\u001b[0mx\u001b[0m\u001b[0;34m,\u001b[0m \u001b[0mvalue\u001b[0m\u001b[0;34m)\u001b[0m\u001b[0;34m)\u001b[0m\u001b[0;34m\u001b[0m\u001b[0m\n\u001b[0m\u001b[1;32m    138\u001b[0m     \u001b[0;32mexcept\u001b[0m \u001b[0mStopIteration\u001b[0m\u001b[0;34m:\u001b[0m\u001b[0;34m\u001b[0m\u001b[0m\n",
         "\u001b[0;31mStopIteration\u001b[0m: ",
         "\nDuring handling of the above exception, another exception occurred:\n",
         "\u001b[0;31mValueError\u001b[0m                                Traceback (most recent call last)",
         "\u001b[0;32m~/anaconda3/lib/python3.6/site-packages/ipywidgets/widgets/widget_selection.py\u001b[0m in \u001b[0;36m_validate_value\u001b[0;34m(self, proposal)\u001b[0m\n\u001b[1;32m    238\u001b[0m         \u001b[0;32mtry\u001b[0m\u001b[0;34m:\u001b[0m\u001b[0;34m\u001b[0m\u001b[0m\n\u001b[0;32m--> 239\u001b[0;31m             \u001b[0;32mreturn\u001b[0m \u001b[0mfindvalue\u001b[0m\u001b[0;34m(\u001b[0m\u001b[0mself\u001b[0m\u001b[0;34m.\u001b[0m\u001b[0m_options_values\u001b[0m\u001b[0;34m,\u001b[0m \u001b[0mvalue\u001b[0m\u001b[0;34m,\u001b[0m \u001b[0mself\u001b[0m\u001b[0;34m.\u001b[0m\u001b[0mequals\u001b[0m\u001b[0;34m)\u001b[0m \u001b[0;32mif\u001b[0m \u001b[0mvalue\u001b[0m \u001b[0;32mis\u001b[0m \u001b[0;32mnot\u001b[0m \u001b[0;32mNone\u001b[0m \u001b[0;32melse\u001b[0m \u001b[0;32mNone\u001b[0m\u001b[0;34m\u001b[0m\u001b[0m\n\u001b[0m\u001b[1;32m    240\u001b[0m         \u001b[0;32mexcept\u001b[0m \u001b[0mValueError\u001b[0m\u001b[0;34m:\u001b[0m\u001b[0;34m\u001b[0m\u001b[0m\n",
         "\u001b[0;32m~/anaconda3/lib/python3.6/site-packages/ipywidgets/widgets/widget_selection.py\u001b[0m in \u001b[0;36mfindvalue\u001b[0;34m(array, value, compare)\u001b[0m\n\u001b[1;32m    138\u001b[0m     \u001b[0;32mexcept\u001b[0m \u001b[0mStopIteration\u001b[0m\u001b[0;34m:\u001b[0m\u001b[0;34m\u001b[0m\u001b[0m\n\u001b[0;32m--> 139\u001b[0;31m         \u001b[0;32mraise\u001b[0m \u001b[0mValueError\u001b[0m\u001b[0;34m(\u001b[0m\u001b[0;34m'%r not in array'\u001b[0m\u001b[0;34m%\u001b[0m\u001b[0mvalue\u001b[0m\u001b[0;34m)\u001b[0m\u001b[0;34m\u001b[0m\u001b[0m\n\u001b[0m\u001b[1;32m    140\u001b[0m \u001b[0;34m\u001b[0m\u001b[0m\n",
         "\u001b[0;31mValueError\u001b[0m: '2' not in array",
         "\nDuring handling of the above exception, another exception occurred:\n",
         "\u001b[0;31mTraitError\u001b[0m                                Traceback (most recent call last)",
         "\u001b[0;32m<ipython-input-1-e7e875206f73>\u001b[0m in \u001b[0;36m<module>\u001b[0;34m()\u001b[0m\n\u001b[1;32m      3\u001b[0m \u001b[0mWO\u001b[0m \u001b[0;34m=\u001b[0m \u001b[0mwo\u001b[0m\u001b[0;34m.\u001b[0m\u001b[0mWriteObject\u001b[0m\u001b[0;34m(\u001b[0m\u001b[0;34m)\u001b[0m\u001b[0;34m\u001b[0m\u001b[0m\n\u001b[1;32m      4\u001b[0m \u001b[0;34m\u001b[0m\u001b[0m\n\u001b[0;32m----> 5\u001b[0;31m \u001b[0mWO\u001b[0m\u001b[0;34m.\u001b[0m\u001b[0mSEEKForm\u001b[0m\u001b[0;34m(\u001b[0m\u001b[0;34m)\u001b[0m\u001b[0;34m\u001b[0m\u001b[0m\n\u001b[0m",
         "\u001b[0;32m~/Work/ThirdYear/Seek/TheSeekNotebook/WriteObject.py\u001b[0m in \u001b[0;36mSEEKForm\u001b[0;34m(self)\u001b[0m\n\u001b[1;32m     41\u001b[0m         \u001b[0mdisplay\u001b[0m\u001b[0;34m(\u001b[0m\u001b[0mHTML\u001b[0m\u001b[0;34m(\u001b[0m\u001b[0;34m'<h3>SEEK FORM</h3>'\u001b[0m\u001b[0;34m)\u001b[0m\u001b[0;34m)\u001b[0m\u001b[0;34m\u001b[0m\u001b[0m\n\u001b[1;32m     42\u001b[0m         self.createDropdown(op=[\"assays\",\"data_files\"], \n\u001b[0;32m---> 43\u001b[0;31m                             desc='\\nThe type of object you want to upload to SEEK:  ')\n\u001b[0m\u001b[1;32m     44\u001b[0m \u001b[0;34m\u001b[0m\u001b[0m\n\u001b[1;32m     45\u001b[0m \u001b[0;34m\u001b[0m\u001b[0m\n",
         "\u001b[0;32m~/Work/ThirdYear/Seek/TheSeekNotebook/WriteObject.py\u001b[0m in \u001b[0;36mcreateDropdown\u001b[0;34m(self, op, desc)\u001b[0m\n\u001b[1;32m     33\u001b[0m             \u001b[0mvalue\u001b[0m\u001b[0;34m=\u001b[0m\u001b[0;34m'2'\u001b[0m\u001b[0;34m,\u001b[0m\u001b[0;34m\u001b[0m\u001b[0m\n\u001b[1;32m     34\u001b[0m             \u001b[0mdescription\u001b[0m\u001b[0;34m=\u001b[0m\u001b[0mdesc\u001b[0m\u001b[0;34m,\u001b[0m\u001b[0;34m\u001b[0m\u001b[0m\n\u001b[0;32m---> 35\u001b[0;31m             \u001b[0mdisabled\u001b[0m\u001b[0;34m=\u001b[0m\u001b[0;32mFalse\u001b[0m\u001b[0;34m,\u001b[0m\u001b[0;34m\u001b[0m\u001b[0m\n\u001b[0m\u001b[1;32m     36\u001b[0m         )\n\u001b[1;32m     37\u001b[0m \u001b[0;34m\u001b[0m\u001b[0m\n",
         "\u001b[0;32m~/anaconda3/lib/python3.6/site-packages/ipywidgets/widgets/widget_selection.py\u001b[0m in \u001b[0;36m__init__\u001b[0;34m(self, *args, **kwargs)\u001b[0m\n\u001b[1;32m    188\u001b[0m             \u001b[0mkwargs\u001b[0m\u001b[0;34m[\u001b[0m\u001b[0;34m'label'\u001b[0m\u001b[0;34m]\u001b[0m\u001b[0;34m,\u001b[0m \u001b[0mkwargs\u001b[0m\u001b[0;34m[\u001b[0m\u001b[0;34m'value'\u001b[0m\u001b[0;34m]\u001b[0m \u001b[0;34m=\u001b[0m \u001b[0moptions\u001b[0m\u001b[0;34m[\u001b[0m\u001b[0;36m0\u001b[0m\u001b[0;34m]\u001b[0m \u001b[0;32mif\u001b[0m \u001b[0mnonempty\u001b[0m \u001b[0;32melse\u001b[0m \u001b[0;34m(\u001b[0m\u001b[0;32mNone\u001b[0m\u001b[0;34m,\u001b[0m \u001b[0;32mNone\u001b[0m\u001b[0;34m)\u001b[0m\u001b[0;34m\u001b[0m\u001b[0m\n\u001b[1;32m    189\u001b[0m \u001b[0;34m\u001b[0m\u001b[0m\n\u001b[0;32m--> 190\u001b[0;31m         \u001b[0msuper\u001b[0m\u001b[0;34m(\u001b[0m\u001b[0m_Selection\u001b[0m\u001b[0;34m,\u001b[0m \u001b[0mself\u001b[0m\u001b[0;34m)\u001b[0m\u001b[0;34m.\u001b[0m\u001b[0m__init__\u001b[0m\u001b[0;34m(\u001b[0m\u001b[0;34m*\u001b[0m\u001b[0margs\u001b[0m\u001b[0;34m,\u001b[0m \u001b[0;34m**\u001b[0m\u001b[0mkwargs\u001b[0m\u001b[0;34m)\u001b[0m\u001b[0;34m\u001b[0m\u001b[0m\n\u001b[0m\u001b[1;32m    191\u001b[0m         \u001b[0mself\u001b[0m\u001b[0;34m.\u001b[0m\u001b[0m_initializing_traits_\u001b[0m \u001b[0;34m=\u001b[0m \u001b[0;32mFalse\u001b[0m\u001b[0;34m\u001b[0m\u001b[0m\n\u001b[1;32m    192\u001b[0m \u001b[0;34m\u001b[0m\u001b[0m\n",
         "\u001b[0;32m~/anaconda3/lib/python3.6/site-packages/ipywidgets/widgets/widget.py\u001b[0m in \u001b[0;36m__init__\u001b[0;34m(self, **kwargs)\u001b[0m\n\u001b[1;32m    409\u001b[0m         \u001b[0;34m\"\"\"Public constructor\"\"\"\u001b[0m\u001b[0;34m\u001b[0m\u001b[0m\n\u001b[1;32m    410\u001b[0m         \u001b[0mself\u001b[0m\u001b[0;34m.\u001b[0m\u001b[0m_model_id\u001b[0m \u001b[0;34m=\u001b[0m \u001b[0mkwargs\u001b[0m\u001b[0;34m.\u001b[0m\u001b[0mpop\u001b[0m\u001b[0;34m(\u001b[0m\u001b[0;34m'model_id'\u001b[0m\u001b[0;34m,\u001b[0m \u001b[0;32mNone\u001b[0m\u001b[0;34m)\u001b[0m\u001b[0;34m\u001b[0m\u001b[0m\n\u001b[0;32m--> 411\u001b[0;31m         \u001b[0msuper\u001b[0m\u001b[0;34m(\u001b[0m\u001b[0mWidget\u001b[0m\u001b[0;34m,\u001b[0m \u001b[0mself\u001b[0m\u001b[0;34m)\u001b[0m\u001b[0;34m.\u001b[0m\u001b[0m__init__\u001b[0m\u001b[0;34m(\u001b[0m\u001b[0;34m**\u001b[0m\u001b[0mkwargs\u001b[0m\u001b[0;34m)\u001b[0m\u001b[0;34m\u001b[0m\u001b[0m\n\u001b[0m\u001b[1;32m    412\u001b[0m \u001b[0;34m\u001b[0m\u001b[0m\n\u001b[1;32m    413\u001b[0m         \u001b[0mWidget\u001b[0m\u001b[0;34m.\u001b[0m\u001b[0m_call_widget_constructed\u001b[0m\u001b[0;34m(\u001b[0m\u001b[0mself\u001b[0m\u001b[0;34m)\u001b[0m\u001b[0;34m\u001b[0m\u001b[0m\n",
         "\u001b[0;32m~/anaconda3/lib/python3.6/site-packages/traitlets/traitlets.py\u001b[0m in \u001b[0;36m__init__\u001b[0;34m(self, *args, **kwargs)\u001b[0m\n\u001b[1;32m    998\u001b[0m                 \u001b[0;32melse\u001b[0m\u001b[0;34m:\u001b[0m\u001b[0;34m\u001b[0m\u001b[0m\n\u001b[1;32m    999\u001b[0m                     \u001b[0;31m# passthrough args that don't set traits to super\u001b[0m\u001b[0;34m\u001b[0m\u001b[0;34m\u001b[0m\u001b[0m\n\u001b[0;32m-> 1000\u001b[0;31m                     \u001b[0msuper_kwargs\u001b[0m\u001b[0;34m[\u001b[0m\u001b[0mkey\u001b[0m\u001b[0;34m]\u001b[0m \u001b[0;34m=\u001b[0m \u001b[0mvalue\u001b[0m\u001b[0;34m\u001b[0m\u001b[0m\n\u001b[0m\u001b[1;32m   1001\u001b[0m         \u001b[0;32mtry\u001b[0m\u001b[0;34m:\u001b[0m\u001b[0;34m\u001b[0m\u001b[0m\n\u001b[1;32m   1002\u001b[0m             \u001b[0msuper\u001b[0m\u001b[0;34m(\u001b[0m\u001b[0mHasTraits\u001b[0m\u001b[0;34m,\u001b[0m \u001b[0mself\u001b[0m\u001b[0;34m)\u001b[0m\u001b[0;34m.\u001b[0m\u001b[0m__init__\u001b[0m\u001b[0;34m(\u001b[0m\u001b[0;34m*\u001b[0m\u001b[0msuper_args\u001b[0m\u001b[0;34m,\u001b[0m \u001b[0;34m**\u001b[0m\u001b[0msuper_kwargs\u001b[0m\u001b[0;34m)\u001b[0m\u001b[0;34m\u001b[0m\u001b[0m\n",
         "\u001b[0;32m~/anaconda3/lib/python3.6/contextlib.py\u001b[0m in \u001b[0;36m__exit__\u001b[0;34m(self, type, value, traceback)\u001b[0m\n\u001b[1;32m     86\u001b[0m         \u001b[0;32mif\u001b[0m \u001b[0mtype\u001b[0m \u001b[0;32mis\u001b[0m \u001b[0;32mNone\u001b[0m\u001b[0;34m:\u001b[0m\u001b[0;34m\u001b[0m\u001b[0m\n\u001b[1;32m     87\u001b[0m             \u001b[0;32mtry\u001b[0m\u001b[0;34m:\u001b[0m\u001b[0;34m\u001b[0m\u001b[0m\n\u001b[0;32m---> 88\u001b[0;31m                 \u001b[0mnext\u001b[0m\u001b[0;34m(\u001b[0m\u001b[0mself\u001b[0m\u001b[0;34m.\u001b[0m\u001b[0mgen\u001b[0m\u001b[0;34m)\u001b[0m\u001b[0;34m\u001b[0m\u001b[0m\n\u001b[0m\u001b[1;32m     89\u001b[0m             \u001b[0;32mexcept\u001b[0m \u001b[0mStopIteration\u001b[0m\u001b[0;34m:\u001b[0m\u001b[0;34m\u001b[0m\u001b[0m\n\u001b[1;32m     90\u001b[0m                 \u001b[0;32mreturn\u001b[0m \u001b[0;32mFalse\u001b[0m\u001b[0;34m\u001b[0m\u001b[0m\n",
         "\u001b[0;32m~/anaconda3/lib/python3.6/site-packages/traitlets/traitlets.py\u001b[0m in \u001b[0;36mhold_trait_notifications\u001b[0;34m(self)\u001b[0m\n\u001b[1;32m   1120\u001b[0m                                 \u001b[0mself\u001b[0m\u001b[0;34m.\u001b[0m\u001b[0m_trait_values\u001b[0m\u001b[0;34m.\u001b[0m\u001b[0mpop\u001b[0m\u001b[0;34m(\u001b[0m\u001b[0mname\u001b[0m\u001b[0;34m)\u001b[0m\u001b[0;34m\u001b[0m\u001b[0m\n\u001b[1;32m   1121\u001b[0m                 \u001b[0mcache\u001b[0m \u001b[0;34m=\u001b[0m \u001b[0;34m{\u001b[0m\u001b[0;34m}\u001b[0m\u001b[0;34m\u001b[0m\u001b[0m\n\u001b[0;32m-> 1122\u001b[0;31m                 \u001b[0;32mraise\u001b[0m \u001b[0me\u001b[0m\u001b[0;34m\u001b[0m\u001b[0m\n\u001b[0m\u001b[1;32m   1123\u001b[0m             \u001b[0;32mfinally\u001b[0m\u001b[0;34m:\u001b[0m\u001b[0;34m\u001b[0m\u001b[0m\n\u001b[1;32m   1124\u001b[0m                 \u001b[0mself\u001b[0m\u001b[0;34m.\u001b[0m\u001b[0m_cross_validation_lock\u001b[0m \u001b[0;34m=\u001b[0m \u001b[0;32mFalse\u001b[0m\u001b[0;34m\u001b[0m\u001b[0m\n",
         "\u001b[0;32m~/anaconda3/lib/python3.6/site-packages/traitlets/traitlets.py\u001b[0m in \u001b[0;36mhold_trait_notifications\u001b[0;34m(self)\u001b[0m\n\u001b[1;32m   1106\u001b[0m                 \u001b[0;32mfor\u001b[0m \u001b[0mname\u001b[0m \u001b[0;32min\u001b[0m \u001b[0mlist\u001b[0m\u001b[0;34m(\u001b[0m\u001b[0mcache\u001b[0m\u001b[0;34m.\u001b[0m\u001b[0mkeys\u001b[0m\u001b[0;34m(\u001b[0m\u001b[0;34m)\u001b[0m\u001b[0;34m)\u001b[0m\u001b[0;34m:\u001b[0m\u001b[0;34m\u001b[0m\u001b[0m\n\u001b[1;32m   1107\u001b[0m                     \u001b[0mtrait\u001b[0m \u001b[0;34m=\u001b[0m \u001b[0mgetattr\u001b[0m\u001b[0;34m(\u001b[0m\u001b[0mself\u001b[0m\u001b[0;34m.\u001b[0m\u001b[0m__class__\u001b[0m\u001b[0;34m,\u001b[0m \u001b[0mname\u001b[0m\u001b[0;34m)\u001b[0m\u001b[0;34m\u001b[0m\u001b[0m\n\u001b[0;32m-> 1108\u001b[0;31m                     \u001b[0mvalue\u001b[0m \u001b[0;34m=\u001b[0m \u001b[0mtrait\u001b[0m\u001b[0;34m.\u001b[0m\u001b[0m_cross_validate\u001b[0m\u001b[0;34m(\u001b[0m\u001b[0mself\u001b[0m\u001b[0;34m,\u001b[0m \u001b[0mgetattr\u001b[0m\u001b[0;34m(\u001b[0m\u001b[0mself\u001b[0m\u001b[0;34m,\u001b[0m \u001b[0mname\u001b[0m\u001b[0;34m)\u001b[0m\u001b[0;34m)\u001b[0m\u001b[0;34m\u001b[0m\u001b[0m\n\u001b[0m\u001b[1;32m   1109\u001b[0m                     \u001b[0mself\u001b[0m\u001b[0;34m.\u001b[0m\u001b[0mset_trait\u001b[0m\u001b[0;34m(\u001b[0m\u001b[0mname\u001b[0m\u001b[0;34m,\u001b[0m \u001b[0mvalue\u001b[0m\u001b[0;34m)\u001b[0m\u001b[0;34m\u001b[0m\u001b[0m\n\u001b[1;32m   1110\u001b[0m             \u001b[0;32mexcept\u001b[0m \u001b[0mTraitError\u001b[0m \u001b[0;32mas\u001b[0m \u001b[0me\u001b[0m\u001b[0;34m:\u001b[0m\u001b[0;34m\u001b[0m\u001b[0m\n",
         "\u001b[0;32m~/anaconda3/lib/python3.6/site-packages/traitlets/traitlets.py\u001b[0m in \u001b[0;36m_cross_validate\u001b[0;34m(self, obj, value)\u001b[0m\n\u001b[1;32m    597\u001b[0m         \u001b[0;32mif\u001b[0m \u001b[0mself\u001b[0m\u001b[0;34m.\u001b[0m\u001b[0mname\u001b[0m \u001b[0;32min\u001b[0m \u001b[0mobj\u001b[0m\u001b[0;34m.\u001b[0m\u001b[0m_trait_validators\u001b[0m\u001b[0;34m:\u001b[0m\u001b[0;34m\u001b[0m\u001b[0m\n\u001b[1;32m    598\u001b[0m             \u001b[0mproposal\u001b[0m \u001b[0;34m=\u001b[0m \u001b[0mBunch\u001b[0m\u001b[0;34m(\u001b[0m\u001b[0;34m{\u001b[0m\u001b[0;34m'trait'\u001b[0m\u001b[0;34m:\u001b[0m \u001b[0mself\u001b[0m\u001b[0;34m,\u001b[0m \u001b[0;34m'value'\u001b[0m\u001b[0;34m:\u001b[0m \u001b[0mvalue\u001b[0m\u001b[0;34m,\u001b[0m \u001b[0;34m'owner'\u001b[0m\u001b[0;34m:\u001b[0m \u001b[0mobj\u001b[0m\u001b[0;34m}\u001b[0m\u001b[0;34m)\u001b[0m\u001b[0;34m\u001b[0m\u001b[0m\n\u001b[0;32m--> 599\u001b[0;31m             \u001b[0mvalue\u001b[0m \u001b[0;34m=\u001b[0m \u001b[0mobj\u001b[0m\u001b[0;34m.\u001b[0m\u001b[0m_trait_validators\u001b[0m\u001b[0;34m[\u001b[0m\u001b[0mself\u001b[0m\u001b[0;34m.\u001b[0m\u001b[0mname\u001b[0m\u001b[0;34m]\u001b[0m\u001b[0;34m(\u001b[0m\u001b[0mobj\u001b[0m\u001b[0;34m,\u001b[0m \u001b[0mproposal\u001b[0m\u001b[0;34m)\u001b[0m\u001b[0;34m\u001b[0m\u001b[0m\n\u001b[0m\u001b[1;32m    600\u001b[0m         \u001b[0;32melif\u001b[0m \u001b[0mhasattr\u001b[0m\u001b[0;34m(\u001b[0m\u001b[0mobj\u001b[0m\u001b[0;34m,\u001b[0m \u001b[0;34m'_%s_validate'\u001b[0m \u001b[0;34m%\u001b[0m \u001b[0mself\u001b[0m\u001b[0;34m.\u001b[0m\u001b[0mname\u001b[0m\u001b[0;34m)\u001b[0m\u001b[0;34m:\u001b[0m\u001b[0;34m\u001b[0m\u001b[0m\n\u001b[1;32m    601\u001b[0m             \u001b[0mmeth_name\u001b[0m \u001b[0;34m=\u001b[0m \u001b[0;34m'_%s_validate'\u001b[0m \u001b[0;34m%\u001b[0m \u001b[0mself\u001b[0m\u001b[0;34m.\u001b[0m\u001b[0mname\u001b[0m\u001b[0;34m\u001b[0m\u001b[0m\n",
         "\u001b[0;32m~/anaconda3/lib/python3.6/site-packages/traitlets/traitlets.py\u001b[0m in \u001b[0;36m__call__\u001b[0;34m(self, *args, **kwargs)\u001b[0m\n\u001b[1;32m    905\u001b[0m         \u001b[0;34m\"\"\"Pass `*args` and `**kwargs` to the handler's function if it exists.\"\"\"\u001b[0m\u001b[0;34m\u001b[0m\u001b[0m\n\u001b[1;32m    906\u001b[0m         \u001b[0;32mif\u001b[0m \u001b[0mhasattr\u001b[0m\u001b[0;34m(\u001b[0m\u001b[0mself\u001b[0m\u001b[0;34m,\u001b[0m \u001b[0;34m'func'\u001b[0m\u001b[0;34m)\u001b[0m\u001b[0;34m:\u001b[0m\u001b[0;34m\u001b[0m\u001b[0m\n\u001b[0;32m--> 907\u001b[0;31m             \u001b[0;32mreturn\u001b[0m \u001b[0mself\u001b[0m\u001b[0;34m.\u001b[0m\u001b[0mfunc\u001b[0m\u001b[0;34m(\u001b[0m\u001b[0;34m*\u001b[0m\u001b[0margs\u001b[0m\u001b[0;34m,\u001b[0m \u001b[0;34m**\u001b[0m\u001b[0mkwargs\u001b[0m\u001b[0;34m)\u001b[0m\u001b[0;34m\u001b[0m\u001b[0m\n\u001b[0m\u001b[1;32m    908\u001b[0m         \u001b[0;32melse\u001b[0m\u001b[0;34m:\u001b[0m\u001b[0;34m\u001b[0m\u001b[0m\n\u001b[1;32m    909\u001b[0m             \u001b[0;32mreturn\u001b[0m \u001b[0mself\u001b[0m\u001b[0;34m.\u001b[0m\u001b[0m_init_call\u001b[0m\u001b[0;34m(\u001b[0m\u001b[0;34m*\u001b[0m\u001b[0margs\u001b[0m\u001b[0;34m,\u001b[0m \u001b[0;34m**\u001b[0m\u001b[0mkwargs\u001b[0m\u001b[0;34m)\u001b[0m\u001b[0;34m\u001b[0m\u001b[0m\n",
         "\u001b[0;32m~/anaconda3/lib/python3.6/site-packages/ipywidgets/widgets/widget_selection.py\u001b[0m in \u001b[0;36m_validate_value\u001b[0;34m(self, proposal)\u001b[0m\n\u001b[1;32m    239\u001b[0m             \u001b[0;32mreturn\u001b[0m \u001b[0mfindvalue\u001b[0m\u001b[0;34m(\u001b[0m\u001b[0mself\u001b[0m\u001b[0;34m.\u001b[0m\u001b[0m_options_values\u001b[0m\u001b[0;34m,\u001b[0m \u001b[0mvalue\u001b[0m\u001b[0;34m,\u001b[0m \u001b[0mself\u001b[0m\u001b[0;34m.\u001b[0m\u001b[0mequals\u001b[0m\u001b[0;34m)\u001b[0m \u001b[0;32mif\u001b[0m \u001b[0mvalue\u001b[0m \u001b[0;32mis\u001b[0m \u001b[0;32mnot\u001b[0m \u001b[0;32mNone\u001b[0m \u001b[0;32melse\u001b[0m \u001b[0;32mNone\u001b[0m\u001b[0;34m\u001b[0m\u001b[0m\n\u001b[1;32m    240\u001b[0m         \u001b[0;32mexcept\u001b[0m \u001b[0mValueError\u001b[0m\u001b[0;34m:\u001b[0m\u001b[0;34m\u001b[0m\u001b[0m\n\u001b[0;32m--> 241\u001b[0;31m             \u001b[0;32mraise\u001b[0m \u001b[0mTraitError\u001b[0m\u001b[0;34m(\u001b[0m\u001b[0;34m'Invalid selection: value not found'\u001b[0m\u001b[0;34m)\u001b[0m\u001b[0;34m\u001b[0m\u001b[0m\n\u001b[0m\u001b[1;32m    242\u001b[0m \u001b[0;34m\u001b[0m\u001b[0m\n\u001b[1;32m    243\u001b[0m     \u001b[0;34m@\u001b[0m\u001b[0mobserve\u001b[0m\u001b[0;34m(\u001b[0m\u001b[0;34m'value'\u001b[0m\u001b[0;34m)\u001b[0m\u001b[0;34m\u001b[0m\u001b[0m\n",
         "\u001b[0;31mTraitError\u001b[0m: Invalid selection: value not found"
        ]
       }
      ],
      "source": "import WriteObject as wo\n\nWO = wo.WriteObject()\n\nWO.SEEKForm()",
      "start_time": "2019-03-19T16:46:53.659Z"
     },
     {
      "end_time": "2019-03-19T16:47:17.984Z",
      "execution_time": "30ms",
      "outputs": [
       {
        "data": {
         "text/html": "<h3>SEEK FORM</h3>",
         "text/plain": "<IPython.core.display.HTML object>"
        },
        "metadata": {},
        "output_type": "display_data",
        "transient": {}
       },
       {
        "ename": "TraitError",
        "evalue": "Invalid selection: value not found",
        "output_type": "error",
        "traceback": [
         "\u001b[0;31m---------------------------------------------------------------------------\u001b[0m",
         "\u001b[0;31mStopIteration\u001b[0m                             Traceback (most recent call last)",
         "\u001b[0;32m~/anaconda3/lib/python3.6/site-packages/ipywidgets/widgets/widget_selection.py\u001b[0m in \u001b[0;36mfindvalue\u001b[0;34m(array, value, compare)\u001b[0m\n\u001b[1;32m    136\u001b[0m     \u001b[0;32mtry\u001b[0m\u001b[0;34m:\u001b[0m\u001b[0;34m\u001b[0m\u001b[0m\n\u001b[0;32m--> 137\u001b[0;31m         \u001b[0;32mreturn\u001b[0m \u001b[0mnext\u001b[0m\u001b[0;34m(\u001b[0m\u001b[0mx\u001b[0m \u001b[0;32mfor\u001b[0m \u001b[0mx\u001b[0m \u001b[0;32min\u001b[0m \u001b[0marray\u001b[0m \u001b[0;32mif\u001b[0m \u001b[0mcompare\u001b[0m\u001b[0;34m(\u001b[0m\u001b[0mx\u001b[0m\u001b[0;34m,\u001b[0m \u001b[0mvalue\u001b[0m\u001b[0;34m)\u001b[0m\u001b[0;34m)\u001b[0m\u001b[0;34m\u001b[0m\u001b[0m\n\u001b[0m\u001b[1;32m    138\u001b[0m     \u001b[0;32mexcept\u001b[0m \u001b[0mStopIteration\u001b[0m\u001b[0;34m:\u001b[0m\u001b[0;34m\u001b[0m\u001b[0m\n",
         "\u001b[0;31mStopIteration\u001b[0m: ",
         "\nDuring handling of the above exception, another exception occurred:\n",
         "\u001b[0;31mValueError\u001b[0m                                Traceback (most recent call last)",
         "\u001b[0;32m~/anaconda3/lib/python3.6/site-packages/ipywidgets/widgets/widget_selection.py\u001b[0m in \u001b[0;36m_validate_value\u001b[0;34m(self, proposal)\u001b[0m\n\u001b[1;32m    238\u001b[0m         \u001b[0;32mtry\u001b[0m\u001b[0;34m:\u001b[0m\u001b[0;34m\u001b[0m\u001b[0m\n\u001b[0;32m--> 239\u001b[0;31m             \u001b[0;32mreturn\u001b[0m \u001b[0mfindvalue\u001b[0m\u001b[0;34m(\u001b[0m\u001b[0mself\u001b[0m\u001b[0;34m.\u001b[0m\u001b[0m_options_values\u001b[0m\u001b[0;34m,\u001b[0m \u001b[0mvalue\u001b[0m\u001b[0;34m,\u001b[0m \u001b[0mself\u001b[0m\u001b[0;34m.\u001b[0m\u001b[0mequals\u001b[0m\u001b[0;34m)\u001b[0m \u001b[0;32mif\u001b[0m \u001b[0mvalue\u001b[0m \u001b[0;32mis\u001b[0m \u001b[0;32mnot\u001b[0m \u001b[0;32mNone\u001b[0m \u001b[0;32melse\u001b[0m \u001b[0;32mNone\u001b[0m\u001b[0;34m\u001b[0m\u001b[0m\n\u001b[0m\u001b[1;32m    240\u001b[0m         \u001b[0;32mexcept\u001b[0m \u001b[0mValueError\u001b[0m\u001b[0;34m:\u001b[0m\u001b[0;34m\u001b[0m\u001b[0m\n",
         "\u001b[0;32m~/anaconda3/lib/python3.6/site-packages/ipywidgets/widgets/widget_selection.py\u001b[0m in \u001b[0;36mfindvalue\u001b[0;34m(array, value, compare)\u001b[0m\n\u001b[1;32m    138\u001b[0m     \u001b[0;32mexcept\u001b[0m \u001b[0mStopIteration\u001b[0m\u001b[0;34m:\u001b[0m\u001b[0;34m\u001b[0m\u001b[0m\n\u001b[0;32m--> 139\u001b[0;31m         \u001b[0;32mraise\u001b[0m \u001b[0mValueError\u001b[0m\u001b[0;34m(\u001b[0m\u001b[0;34m'%r not in array'\u001b[0m\u001b[0;34m%\u001b[0m\u001b[0mvalue\u001b[0m\u001b[0;34m)\u001b[0m\u001b[0;34m\u001b[0m\u001b[0m\n\u001b[0m\u001b[1;32m    140\u001b[0m \u001b[0;34m\u001b[0m\u001b[0m\n",
         "\u001b[0;31mValueError\u001b[0m: '2' not in array",
         "\nDuring handling of the above exception, another exception occurred:\n",
         "\u001b[0;31mTraitError\u001b[0m                                Traceback (most recent call last)",
         "\u001b[0;32m<ipython-input-2-e7e875206f73>\u001b[0m in \u001b[0;36m<module>\u001b[0;34m()\u001b[0m\n\u001b[1;32m      3\u001b[0m \u001b[0mWO\u001b[0m \u001b[0;34m=\u001b[0m \u001b[0mwo\u001b[0m\u001b[0;34m.\u001b[0m\u001b[0mWriteObject\u001b[0m\u001b[0;34m(\u001b[0m\u001b[0;34m)\u001b[0m\u001b[0;34m\u001b[0m\u001b[0m\n\u001b[1;32m      4\u001b[0m \u001b[0;34m\u001b[0m\u001b[0m\n\u001b[0;32m----> 5\u001b[0;31m \u001b[0mWO\u001b[0m\u001b[0;34m.\u001b[0m\u001b[0mSEEKForm\u001b[0m\u001b[0;34m(\u001b[0m\u001b[0;34m)\u001b[0m\u001b[0;34m\u001b[0m\u001b[0m\n\u001b[0m",
         "\u001b[0;32m~/Work/ThirdYear/Seek/TheSeekNotebook/WriteObject.py\u001b[0m in \u001b[0;36mSEEKForm\u001b[0;34m(self)\u001b[0m\n\u001b[1;32m     41\u001b[0m         self.createDropdown(op=[\"assays\",\"data_files\"], \n\u001b[1;32m     42\u001b[0m                             desc='\\nThe type of object you want to upload to SEEK:  ')\n\u001b[0;32m---> 43\u001b[0;31m \u001b[0;34m\u001b[0m\u001b[0m\n\u001b[0m\u001b[1;32m     44\u001b[0m \u001b[0;34m\u001b[0m\u001b[0m\n\u001b[1;32m     45\u001b[0m         \u001b[0;31m# print('\\nYou need to complete the following form in order to succesfully upload your information to SEEK')\u001b[0m\u001b[0;34m\u001b[0m\u001b[0;34m\u001b[0m\u001b[0m\n",
         "\u001b[0;32m~/Work/ThirdYear/Seek/TheSeekNotebook/WriteObject.py\u001b[0m in \u001b[0;36mcreateDropdown\u001b[0;34m(self, op, desc)\u001b[0m\n\u001b[1;32m     33\u001b[0m             \u001b[0mvalue\u001b[0m\u001b[0;34m=\u001b[0m\u001b[0;34m'2'\u001b[0m\u001b[0;34m,\u001b[0m\u001b[0;34m\u001b[0m\u001b[0m\n\u001b[1;32m     34\u001b[0m             \u001b[0mdescription\u001b[0m\u001b[0;34m=\u001b[0m\u001b[0mdesc\u001b[0m\u001b[0;34m,\u001b[0m\u001b[0;34m\u001b[0m\u001b[0m\n\u001b[0;32m---> 35\u001b[0;31m         )\n\u001b[0m\u001b[1;32m     36\u001b[0m \u001b[0;34m\u001b[0m\u001b[0m\n\u001b[1;32m     37\u001b[0m \u001b[0;34m\u001b[0m\u001b[0m\n",
         "\u001b[0;32m~/anaconda3/lib/python3.6/site-packages/ipywidgets/widgets/widget_selection.py\u001b[0m in \u001b[0;36m__init__\u001b[0;34m(self, *args, **kwargs)\u001b[0m\n\u001b[1;32m    188\u001b[0m             \u001b[0mkwargs\u001b[0m\u001b[0;34m[\u001b[0m\u001b[0;34m'label'\u001b[0m\u001b[0;34m]\u001b[0m\u001b[0;34m,\u001b[0m \u001b[0mkwargs\u001b[0m\u001b[0;34m[\u001b[0m\u001b[0;34m'value'\u001b[0m\u001b[0;34m]\u001b[0m \u001b[0;34m=\u001b[0m \u001b[0moptions\u001b[0m\u001b[0;34m[\u001b[0m\u001b[0;36m0\u001b[0m\u001b[0;34m]\u001b[0m \u001b[0;32mif\u001b[0m \u001b[0mnonempty\u001b[0m \u001b[0;32melse\u001b[0m \u001b[0;34m(\u001b[0m\u001b[0;32mNone\u001b[0m\u001b[0;34m,\u001b[0m \u001b[0;32mNone\u001b[0m\u001b[0;34m)\u001b[0m\u001b[0;34m\u001b[0m\u001b[0m\n\u001b[1;32m    189\u001b[0m \u001b[0;34m\u001b[0m\u001b[0m\n\u001b[0;32m--> 190\u001b[0;31m         \u001b[0msuper\u001b[0m\u001b[0;34m(\u001b[0m\u001b[0m_Selection\u001b[0m\u001b[0;34m,\u001b[0m \u001b[0mself\u001b[0m\u001b[0;34m)\u001b[0m\u001b[0;34m.\u001b[0m\u001b[0m__init__\u001b[0m\u001b[0;34m(\u001b[0m\u001b[0;34m*\u001b[0m\u001b[0margs\u001b[0m\u001b[0;34m,\u001b[0m \u001b[0;34m**\u001b[0m\u001b[0mkwargs\u001b[0m\u001b[0;34m)\u001b[0m\u001b[0;34m\u001b[0m\u001b[0m\n\u001b[0m\u001b[1;32m    191\u001b[0m         \u001b[0mself\u001b[0m\u001b[0;34m.\u001b[0m\u001b[0m_initializing_traits_\u001b[0m \u001b[0;34m=\u001b[0m \u001b[0;32mFalse\u001b[0m\u001b[0;34m\u001b[0m\u001b[0m\n\u001b[1;32m    192\u001b[0m \u001b[0;34m\u001b[0m\u001b[0m\n",
         "\u001b[0;32m~/anaconda3/lib/python3.6/site-packages/ipywidgets/widgets/widget.py\u001b[0m in \u001b[0;36m__init__\u001b[0;34m(self, **kwargs)\u001b[0m\n\u001b[1;32m    409\u001b[0m         \u001b[0;34m\"\"\"Public constructor\"\"\"\u001b[0m\u001b[0;34m\u001b[0m\u001b[0m\n\u001b[1;32m    410\u001b[0m         \u001b[0mself\u001b[0m\u001b[0;34m.\u001b[0m\u001b[0m_model_id\u001b[0m \u001b[0;34m=\u001b[0m \u001b[0mkwargs\u001b[0m\u001b[0;34m.\u001b[0m\u001b[0mpop\u001b[0m\u001b[0;34m(\u001b[0m\u001b[0;34m'model_id'\u001b[0m\u001b[0;34m,\u001b[0m \u001b[0;32mNone\u001b[0m\u001b[0;34m)\u001b[0m\u001b[0;34m\u001b[0m\u001b[0m\n\u001b[0;32m--> 411\u001b[0;31m         \u001b[0msuper\u001b[0m\u001b[0;34m(\u001b[0m\u001b[0mWidget\u001b[0m\u001b[0;34m,\u001b[0m \u001b[0mself\u001b[0m\u001b[0;34m)\u001b[0m\u001b[0;34m.\u001b[0m\u001b[0m__init__\u001b[0m\u001b[0;34m(\u001b[0m\u001b[0;34m**\u001b[0m\u001b[0mkwargs\u001b[0m\u001b[0;34m)\u001b[0m\u001b[0;34m\u001b[0m\u001b[0m\n\u001b[0m\u001b[1;32m    412\u001b[0m \u001b[0;34m\u001b[0m\u001b[0m\n\u001b[1;32m    413\u001b[0m         \u001b[0mWidget\u001b[0m\u001b[0;34m.\u001b[0m\u001b[0m_call_widget_constructed\u001b[0m\u001b[0;34m(\u001b[0m\u001b[0mself\u001b[0m\u001b[0;34m)\u001b[0m\u001b[0;34m\u001b[0m\u001b[0m\n",
         "\u001b[0;32m~/anaconda3/lib/python3.6/site-packages/traitlets/traitlets.py\u001b[0m in \u001b[0;36m__init__\u001b[0;34m(self, *args, **kwargs)\u001b[0m\n\u001b[1;32m    998\u001b[0m                 \u001b[0;32melse\u001b[0m\u001b[0;34m:\u001b[0m\u001b[0;34m\u001b[0m\u001b[0m\n\u001b[1;32m    999\u001b[0m                     \u001b[0;31m# passthrough args that don't set traits to super\u001b[0m\u001b[0;34m\u001b[0m\u001b[0;34m\u001b[0m\u001b[0m\n\u001b[0;32m-> 1000\u001b[0;31m                     \u001b[0msuper_kwargs\u001b[0m\u001b[0;34m[\u001b[0m\u001b[0mkey\u001b[0m\u001b[0;34m]\u001b[0m \u001b[0;34m=\u001b[0m \u001b[0mvalue\u001b[0m\u001b[0;34m\u001b[0m\u001b[0m\n\u001b[0m\u001b[1;32m   1001\u001b[0m         \u001b[0;32mtry\u001b[0m\u001b[0;34m:\u001b[0m\u001b[0;34m\u001b[0m\u001b[0m\n\u001b[1;32m   1002\u001b[0m             \u001b[0msuper\u001b[0m\u001b[0;34m(\u001b[0m\u001b[0mHasTraits\u001b[0m\u001b[0;34m,\u001b[0m \u001b[0mself\u001b[0m\u001b[0;34m)\u001b[0m\u001b[0;34m.\u001b[0m\u001b[0m__init__\u001b[0m\u001b[0;34m(\u001b[0m\u001b[0;34m*\u001b[0m\u001b[0msuper_args\u001b[0m\u001b[0;34m,\u001b[0m \u001b[0;34m**\u001b[0m\u001b[0msuper_kwargs\u001b[0m\u001b[0;34m)\u001b[0m\u001b[0;34m\u001b[0m\u001b[0m\n",
         "\u001b[0;32m~/anaconda3/lib/python3.6/contextlib.py\u001b[0m in \u001b[0;36m__exit__\u001b[0;34m(self, type, value, traceback)\u001b[0m\n\u001b[1;32m     86\u001b[0m         \u001b[0;32mif\u001b[0m \u001b[0mtype\u001b[0m \u001b[0;32mis\u001b[0m \u001b[0;32mNone\u001b[0m\u001b[0;34m:\u001b[0m\u001b[0;34m\u001b[0m\u001b[0m\n\u001b[1;32m     87\u001b[0m             \u001b[0;32mtry\u001b[0m\u001b[0;34m:\u001b[0m\u001b[0;34m\u001b[0m\u001b[0m\n\u001b[0;32m---> 88\u001b[0;31m                 \u001b[0mnext\u001b[0m\u001b[0;34m(\u001b[0m\u001b[0mself\u001b[0m\u001b[0;34m.\u001b[0m\u001b[0mgen\u001b[0m\u001b[0;34m)\u001b[0m\u001b[0;34m\u001b[0m\u001b[0m\n\u001b[0m\u001b[1;32m     89\u001b[0m             \u001b[0;32mexcept\u001b[0m \u001b[0mStopIteration\u001b[0m\u001b[0;34m:\u001b[0m\u001b[0;34m\u001b[0m\u001b[0m\n\u001b[1;32m     90\u001b[0m                 \u001b[0;32mreturn\u001b[0m \u001b[0;32mFalse\u001b[0m\u001b[0;34m\u001b[0m\u001b[0m\n",
         "\u001b[0;32m~/anaconda3/lib/python3.6/site-packages/traitlets/traitlets.py\u001b[0m in \u001b[0;36mhold_trait_notifications\u001b[0;34m(self)\u001b[0m\n\u001b[1;32m   1120\u001b[0m                                 \u001b[0mself\u001b[0m\u001b[0;34m.\u001b[0m\u001b[0m_trait_values\u001b[0m\u001b[0;34m.\u001b[0m\u001b[0mpop\u001b[0m\u001b[0;34m(\u001b[0m\u001b[0mname\u001b[0m\u001b[0;34m)\u001b[0m\u001b[0;34m\u001b[0m\u001b[0m\n\u001b[1;32m   1121\u001b[0m                 \u001b[0mcache\u001b[0m \u001b[0;34m=\u001b[0m \u001b[0;34m{\u001b[0m\u001b[0;34m}\u001b[0m\u001b[0;34m\u001b[0m\u001b[0m\n\u001b[0;32m-> 1122\u001b[0;31m                 \u001b[0;32mraise\u001b[0m \u001b[0me\u001b[0m\u001b[0;34m\u001b[0m\u001b[0m\n\u001b[0m\u001b[1;32m   1123\u001b[0m             \u001b[0;32mfinally\u001b[0m\u001b[0;34m:\u001b[0m\u001b[0;34m\u001b[0m\u001b[0m\n\u001b[1;32m   1124\u001b[0m                 \u001b[0mself\u001b[0m\u001b[0;34m.\u001b[0m\u001b[0m_cross_validation_lock\u001b[0m \u001b[0;34m=\u001b[0m \u001b[0;32mFalse\u001b[0m\u001b[0;34m\u001b[0m\u001b[0m\n",
         "\u001b[0;32m~/anaconda3/lib/python3.6/site-packages/traitlets/traitlets.py\u001b[0m in \u001b[0;36mhold_trait_notifications\u001b[0;34m(self)\u001b[0m\n\u001b[1;32m   1106\u001b[0m                 \u001b[0;32mfor\u001b[0m \u001b[0mname\u001b[0m \u001b[0;32min\u001b[0m \u001b[0mlist\u001b[0m\u001b[0;34m(\u001b[0m\u001b[0mcache\u001b[0m\u001b[0;34m.\u001b[0m\u001b[0mkeys\u001b[0m\u001b[0;34m(\u001b[0m\u001b[0;34m)\u001b[0m\u001b[0;34m)\u001b[0m\u001b[0;34m:\u001b[0m\u001b[0;34m\u001b[0m\u001b[0m\n\u001b[1;32m   1107\u001b[0m                     \u001b[0mtrait\u001b[0m \u001b[0;34m=\u001b[0m \u001b[0mgetattr\u001b[0m\u001b[0;34m(\u001b[0m\u001b[0mself\u001b[0m\u001b[0;34m.\u001b[0m\u001b[0m__class__\u001b[0m\u001b[0;34m,\u001b[0m \u001b[0mname\u001b[0m\u001b[0;34m)\u001b[0m\u001b[0;34m\u001b[0m\u001b[0m\n\u001b[0;32m-> 1108\u001b[0;31m                     \u001b[0mvalue\u001b[0m \u001b[0;34m=\u001b[0m \u001b[0mtrait\u001b[0m\u001b[0;34m.\u001b[0m\u001b[0m_cross_validate\u001b[0m\u001b[0;34m(\u001b[0m\u001b[0mself\u001b[0m\u001b[0;34m,\u001b[0m \u001b[0mgetattr\u001b[0m\u001b[0;34m(\u001b[0m\u001b[0mself\u001b[0m\u001b[0;34m,\u001b[0m \u001b[0mname\u001b[0m\u001b[0;34m)\u001b[0m\u001b[0;34m)\u001b[0m\u001b[0;34m\u001b[0m\u001b[0m\n\u001b[0m\u001b[1;32m   1109\u001b[0m                     \u001b[0mself\u001b[0m\u001b[0;34m.\u001b[0m\u001b[0mset_trait\u001b[0m\u001b[0;34m(\u001b[0m\u001b[0mname\u001b[0m\u001b[0;34m,\u001b[0m \u001b[0mvalue\u001b[0m\u001b[0;34m)\u001b[0m\u001b[0;34m\u001b[0m\u001b[0m\n\u001b[1;32m   1110\u001b[0m             \u001b[0;32mexcept\u001b[0m \u001b[0mTraitError\u001b[0m \u001b[0;32mas\u001b[0m \u001b[0me\u001b[0m\u001b[0;34m:\u001b[0m\u001b[0;34m\u001b[0m\u001b[0m\n",
         "\u001b[0;32m~/anaconda3/lib/python3.6/site-packages/traitlets/traitlets.py\u001b[0m in \u001b[0;36m_cross_validate\u001b[0;34m(self, obj, value)\u001b[0m\n\u001b[1;32m    597\u001b[0m         \u001b[0;32mif\u001b[0m \u001b[0mself\u001b[0m\u001b[0;34m.\u001b[0m\u001b[0mname\u001b[0m \u001b[0;32min\u001b[0m \u001b[0mobj\u001b[0m\u001b[0;34m.\u001b[0m\u001b[0m_trait_validators\u001b[0m\u001b[0;34m:\u001b[0m\u001b[0;34m\u001b[0m\u001b[0m\n\u001b[1;32m    598\u001b[0m             \u001b[0mproposal\u001b[0m \u001b[0;34m=\u001b[0m \u001b[0mBunch\u001b[0m\u001b[0;34m(\u001b[0m\u001b[0;34m{\u001b[0m\u001b[0;34m'trait'\u001b[0m\u001b[0;34m:\u001b[0m \u001b[0mself\u001b[0m\u001b[0;34m,\u001b[0m \u001b[0;34m'value'\u001b[0m\u001b[0;34m:\u001b[0m \u001b[0mvalue\u001b[0m\u001b[0;34m,\u001b[0m \u001b[0;34m'owner'\u001b[0m\u001b[0;34m:\u001b[0m \u001b[0mobj\u001b[0m\u001b[0;34m}\u001b[0m\u001b[0;34m)\u001b[0m\u001b[0;34m\u001b[0m\u001b[0m\n\u001b[0;32m--> 599\u001b[0;31m             \u001b[0mvalue\u001b[0m \u001b[0;34m=\u001b[0m \u001b[0mobj\u001b[0m\u001b[0;34m.\u001b[0m\u001b[0m_trait_validators\u001b[0m\u001b[0;34m[\u001b[0m\u001b[0mself\u001b[0m\u001b[0;34m.\u001b[0m\u001b[0mname\u001b[0m\u001b[0;34m]\u001b[0m\u001b[0;34m(\u001b[0m\u001b[0mobj\u001b[0m\u001b[0;34m,\u001b[0m \u001b[0mproposal\u001b[0m\u001b[0;34m)\u001b[0m\u001b[0;34m\u001b[0m\u001b[0m\n\u001b[0m\u001b[1;32m    600\u001b[0m         \u001b[0;32melif\u001b[0m \u001b[0mhasattr\u001b[0m\u001b[0;34m(\u001b[0m\u001b[0mobj\u001b[0m\u001b[0;34m,\u001b[0m \u001b[0;34m'_%s_validate'\u001b[0m \u001b[0;34m%\u001b[0m \u001b[0mself\u001b[0m\u001b[0;34m.\u001b[0m\u001b[0mname\u001b[0m\u001b[0;34m)\u001b[0m\u001b[0;34m:\u001b[0m\u001b[0;34m\u001b[0m\u001b[0m\n\u001b[1;32m    601\u001b[0m             \u001b[0mmeth_name\u001b[0m \u001b[0;34m=\u001b[0m \u001b[0;34m'_%s_validate'\u001b[0m \u001b[0;34m%\u001b[0m \u001b[0mself\u001b[0m\u001b[0;34m.\u001b[0m\u001b[0mname\u001b[0m\u001b[0;34m\u001b[0m\u001b[0m\n",
         "\u001b[0;32m~/anaconda3/lib/python3.6/site-packages/traitlets/traitlets.py\u001b[0m in \u001b[0;36m__call__\u001b[0;34m(self, *args, **kwargs)\u001b[0m\n\u001b[1;32m    905\u001b[0m         \u001b[0;34m\"\"\"Pass `*args` and `**kwargs` to the handler's function if it exists.\"\"\"\u001b[0m\u001b[0;34m\u001b[0m\u001b[0m\n\u001b[1;32m    906\u001b[0m         \u001b[0;32mif\u001b[0m \u001b[0mhasattr\u001b[0m\u001b[0;34m(\u001b[0m\u001b[0mself\u001b[0m\u001b[0;34m,\u001b[0m \u001b[0;34m'func'\u001b[0m\u001b[0;34m)\u001b[0m\u001b[0;34m:\u001b[0m\u001b[0;34m\u001b[0m\u001b[0m\n\u001b[0;32m--> 907\u001b[0;31m             \u001b[0;32mreturn\u001b[0m \u001b[0mself\u001b[0m\u001b[0;34m.\u001b[0m\u001b[0mfunc\u001b[0m\u001b[0;34m(\u001b[0m\u001b[0;34m*\u001b[0m\u001b[0margs\u001b[0m\u001b[0;34m,\u001b[0m \u001b[0;34m**\u001b[0m\u001b[0mkwargs\u001b[0m\u001b[0;34m)\u001b[0m\u001b[0;34m\u001b[0m\u001b[0m\n\u001b[0m\u001b[1;32m    908\u001b[0m         \u001b[0;32melse\u001b[0m\u001b[0;34m:\u001b[0m\u001b[0;34m\u001b[0m\u001b[0m\n\u001b[1;32m    909\u001b[0m             \u001b[0;32mreturn\u001b[0m \u001b[0mself\u001b[0m\u001b[0;34m.\u001b[0m\u001b[0m_init_call\u001b[0m\u001b[0;34m(\u001b[0m\u001b[0;34m*\u001b[0m\u001b[0margs\u001b[0m\u001b[0;34m,\u001b[0m \u001b[0;34m**\u001b[0m\u001b[0mkwargs\u001b[0m\u001b[0;34m)\u001b[0m\u001b[0;34m\u001b[0m\u001b[0m\n",
         "\u001b[0;32m~/anaconda3/lib/python3.6/site-packages/ipywidgets/widgets/widget_selection.py\u001b[0m in \u001b[0;36m_validate_value\u001b[0;34m(self, proposal)\u001b[0m\n\u001b[1;32m    239\u001b[0m             \u001b[0;32mreturn\u001b[0m \u001b[0mfindvalue\u001b[0m\u001b[0;34m(\u001b[0m\u001b[0mself\u001b[0m\u001b[0;34m.\u001b[0m\u001b[0m_options_values\u001b[0m\u001b[0;34m,\u001b[0m \u001b[0mvalue\u001b[0m\u001b[0;34m,\u001b[0m \u001b[0mself\u001b[0m\u001b[0;34m.\u001b[0m\u001b[0mequals\u001b[0m\u001b[0;34m)\u001b[0m \u001b[0;32mif\u001b[0m \u001b[0mvalue\u001b[0m \u001b[0;32mis\u001b[0m \u001b[0;32mnot\u001b[0m \u001b[0;32mNone\u001b[0m \u001b[0;32melse\u001b[0m \u001b[0;32mNone\u001b[0m\u001b[0;34m\u001b[0m\u001b[0m\n\u001b[1;32m    240\u001b[0m         \u001b[0;32mexcept\u001b[0m \u001b[0mValueError\u001b[0m\u001b[0;34m:\u001b[0m\u001b[0;34m\u001b[0m\u001b[0m\n\u001b[0;32m--> 241\u001b[0;31m             \u001b[0;32mraise\u001b[0m \u001b[0mTraitError\u001b[0m\u001b[0;34m(\u001b[0m\u001b[0;34m'Invalid selection: value not found'\u001b[0m\u001b[0;34m)\u001b[0m\u001b[0;34m\u001b[0m\u001b[0m\n\u001b[0m\u001b[1;32m    242\u001b[0m \u001b[0;34m\u001b[0m\u001b[0m\n\u001b[1;32m    243\u001b[0m     \u001b[0;34m@\u001b[0m\u001b[0mobserve\u001b[0m\u001b[0;34m(\u001b[0m\u001b[0;34m'value'\u001b[0m\u001b[0;34m)\u001b[0m\u001b[0;34m\u001b[0m\u001b[0m\n",
         "\u001b[0;31mTraitError\u001b[0m: Invalid selection: value not found"
        ]
       }
      ],
      "source": "import WriteObject as wo\n\nWO = wo.WriteObject()\n\nWO.SEEKForm()",
      "start_time": "2019-03-19T16:47:17.954Z"
     },
     {
      "end_time": "2019-03-19T16:47:25.918Z",
      "execution_time": "178ms",
      "outputs": [
       {
        "data": {
         "text/html": "<h3>SEEK FORM</h3>",
         "text/plain": "<IPython.core.display.HTML object>"
        },
        "metadata": {},
        "output_type": "display_data",
        "transient": {}
       },
       {
        "ename": "TraitError",
        "evalue": "Invalid selection: value not found",
        "output_type": "error",
        "traceback": [
         "\u001b[0;31m---------------------------------------------------------------------------\u001b[0m",
         "\u001b[0;31mStopIteration\u001b[0m                             Traceback (most recent call last)",
         "\u001b[0;32m~/anaconda3/lib/python3.6/site-packages/ipywidgets/widgets/widget_selection.py\u001b[0m in \u001b[0;36mfindvalue\u001b[0;34m(array, value, compare)\u001b[0m\n\u001b[1;32m    136\u001b[0m     \u001b[0;32mtry\u001b[0m\u001b[0;34m:\u001b[0m\u001b[0;34m\u001b[0m\u001b[0m\n\u001b[0;32m--> 137\u001b[0;31m         \u001b[0;32mreturn\u001b[0m \u001b[0mnext\u001b[0m\u001b[0;34m(\u001b[0m\u001b[0mx\u001b[0m \u001b[0;32mfor\u001b[0m \u001b[0mx\u001b[0m \u001b[0;32min\u001b[0m \u001b[0marray\u001b[0m \u001b[0;32mif\u001b[0m \u001b[0mcompare\u001b[0m\u001b[0;34m(\u001b[0m\u001b[0mx\u001b[0m\u001b[0;34m,\u001b[0m \u001b[0mvalue\u001b[0m\u001b[0;34m)\u001b[0m\u001b[0;34m)\u001b[0m\u001b[0;34m\u001b[0m\u001b[0m\n\u001b[0m\u001b[1;32m    138\u001b[0m     \u001b[0;32mexcept\u001b[0m \u001b[0mStopIteration\u001b[0m\u001b[0;34m:\u001b[0m\u001b[0;34m\u001b[0m\u001b[0m\n",
         "\u001b[0;31mStopIteration\u001b[0m: ",
         "\nDuring handling of the above exception, another exception occurred:\n",
         "\u001b[0;31mValueError\u001b[0m                                Traceback (most recent call last)",
         "\u001b[0;32m~/anaconda3/lib/python3.6/site-packages/ipywidgets/widgets/widget_selection.py\u001b[0m in \u001b[0;36m_validate_value\u001b[0;34m(self, proposal)\u001b[0m\n\u001b[1;32m    238\u001b[0m         \u001b[0;32mtry\u001b[0m\u001b[0;34m:\u001b[0m\u001b[0;34m\u001b[0m\u001b[0m\n\u001b[0;32m--> 239\u001b[0;31m             \u001b[0;32mreturn\u001b[0m \u001b[0mfindvalue\u001b[0m\u001b[0;34m(\u001b[0m\u001b[0mself\u001b[0m\u001b[0;34m.\u001b[0m\u001b[0m_options_values\u001b[0m\u001b[0;34m,\u001b[0m \u001b[0mvalue\u001b[0m\u001b[0;34m,\u001b[0m \u001b[0mself\u001b[0m\u001b[0;34m.\u001b[0m\u001b[0mequals\u001b[0m\u001b[0;34m)\u001b[0m \u001b[0;32mif\u001b[0m \u001b[0mvalue\u001b[0m \u001b[0;32mis\u001b[0m \u001b[0;32mnot\u001b[0m \u001b[0;32mNone\u001b[0m \u001b[0;32melse\u001b[0m \u001b[0;32mNone\u001b[0m\u001b[0;34m\u001b[0m\u001b[0m\n\u001b[0m\u001b[1;32m    240\u001b[0m         \u001b[0;32mexcept\u001b[0m \u001b[0mValueError\u001b[0m\u001b[0;34m:\u001b[0m\u001b[0;34m\u001b[0m\u001b[0m\n",
         "\u001b[0;32m~/anaconda3/lib/python3.6/site-packages/ipywidgets/widgets/widget_selection.py\u001b[0m in \u001b[0;36mfindvalue\u001b[0;34m(array, value, compare)\u001b[0m\n\u001b[1;32m    138\u001b[0m     \u001b[0;32mexcept\u001b[0m \u001b[0mStopIteration\u001b[0m\u001b[0;34m:\u001b[0m\u001b[0;34m\u001b[0m\u001b[0m\n\u001b[0;32m--> 139\u001b[0;31m         \u001b[0;32mraise\u001b[0m \u001b[0mValueError\u001b[0m\u001b[0;34m(\u001b[0m\u001b[0;34m'%r not in array'\u001b[0m\u001b[0;34m%\u001b[0m\u001b[0mvalue\u001b[0m\u001b[0;34m)\u001b[0m\u001b[0;34m\u001b[0m\u001b[0m\n\u001b[0m\u001b[1;32m    140\u001b[0m \u001b[0;34m\u001b[0m\u001b[0m\n",
         "\u001b[0;31mValueError\u001b[0m: '2' not in array",
         "\nDuring handling of the above exception, another exception occurred:\n",
         "\u001b[0;31mTraitError\u001b[0m                                Traceback (most recent call last)",
         "\u001b[0;32m<ipython-input-1-e7e875206f73>\u001b[0m in \u001b[0;36m<module>\u001b[0;34m()\u001b[0m\n\u001b[1;32m      3\u001b[0m \u001b[0mWO\u001b[0m \u001b[0;34m=\u001b[0m \u001b[0mwo\u001b[0m\u001b[0;34m.\u001b[0m\u001b[0mWriteObject\u001b[0m\u001b[0;34m(\u001b[0m\u001b[0;34m)\u001b[0m\u001b[0;34m\u001b[0m\u001b[0m\n\u001b[1;32m      4\u001b[0m \u001b[0;34m\u001b[0m\u001b[0m\n\u001b[0;32m----> 5\u001b[0;31m \u001b[0mWO\u001b[0m\u001b[0;34m.\u001b[0m\u001b[0mSEEKForm\u001b[0m\u001b[0;34m(\u001b[0m\u001b[0;34m)\u001b[0m\u001b[0;34m\u001b[0m\u001b[0m\n\u001b[0m",
         "\u001b[0;32m~/Work/ThirdYear/Seek/TheSeekNotebook/WriteObject.py\u001b[0m in \u001b[0;36mSEEKForm\u001b[0;34m(self)\u001b[0m\n\u001b[1;32m     40\u001b[0m         \u001b[0mdisplay\u001b[0m\u001b[0;34m(\u001b[0m\u001b[0mHTML\u001b[0m\u001b[0;34m(\u001b[0m\u001b[0;34m'<h3>SEEK FORM</h3>'\u001b[0m\u001b[0;34m)\u001b[0m\u001b[0;34m)\u001b[0m\u001b[0;34m\u001b[0m\u001b[0m\n\u001b[1;32m     41\u001b[0m         self.createDropdown(op=[\"assays\",\"data_files\"], \n\u001b[0;32m---> 42\u001b[0;31m                             desc='\\nThe type of object you want to upload to SEEK:  ')\n\u001b[0m\u001b[1;32m     43\u001b[0m \u001b[0;34m\u001b[0m\u001b[0m\n\u001b[1;32m     44\u001b[0m \u001b[0;34m\u001b[0m\u001b[0m\n",
         "\u001b[0;32m~/Work/ThirdYear/Seek/TheSeekNotebook/WriteObject.py\u001b[0m in \u001b[0;36mcreateDropdown\u001b[0;34m(self, op, desc)\u001b[0m\n\u001b[1;32m     32\u001b[0m             \u001b[0moptions\u001b[0m\u001b[0;34m=\u001b[0m\u001b[0mop\u001b[0m\u001b[0;34m,\u001b[0m\u001b[0;34m\u001b[0m\u001b[0m\n\u001b[1;32m     33\u001b[0m             \u001b[0mvalue\u001b[0m\u001b[0;34m=\u001b[0m\u001b[0;34m'2'\u001b[0m\u001b[0;34m,\u001b[0m\u001b[0;34m\u001b[0m\u001b[0m\n\u001b[0;32m---> 34\u001b[0;31m             \u001b[0mdescription\u001b[0m\u001b[0;34m=\u001b[0m\u001b[0mdesc\u001b[0m\u001b[0;34m,\u001b[0m\u001b[0;34m\u001b[0m\u001b[0m\n\u001b[0m\u001b[1;32m     35\u001b[0m         )\n\u001b[1;32m     36\u001b[0m \u001b[0;34m\u001b[0m\u001b[0m\n",
         "\u001b[0;32m~/anaconda3/lib/python3.6/site-packages/ipywidgets/widgets/widget_selection.py\u001b[0m in \u001b[0;36m__init__\u001b[0;34m(self, *args, **kwargs)\u001b[0m\n\u001b[1;32m    188\u001b[0m             \u001b[0mkwargs\u001b[0m\u001b[0;34m[\u001b[0m\u001b[0;34m'label'\u001b[0m\u001b[0;34m]\u001b[0m\u001b[0;34m,\u001b[0m \u001b[0mkwargs\u001b[0m\u001b[0;34m[\u001b[0m\u001b[0;34m'value'\u001b[0m\u001b[0;34m]\u001b[0m \u001b[0;34m=\u001b[0m \u001b[0moptions\u001b[0m\u001b[0;34m[\u001b[0m\u001b[0;36m0\u001b[0m\u001b[0;34m]\u001b[0m \u001b[0;32mif\u001b[0m \u001b[0mnonempty\u001b[0m \u001b[0;32melse\u001b[0m \u001b[0;34m(\u001b[0m\u001b[0;32mNone\u001b[0m\u001b[0;34m,\u001b[0m \u001b[0;32mNone\u001b[0m\u001b[0;34m)\u001b[0m\u001b[0;34m\u001b[0m\u001b[0m\n\u001b[1;32m    189\u001b[0m \u001b[0;34m\u001b[0m\u001b[0m\n\u001b[0;32m--> 190\u001b[0;31m         \u001b[0msuper\u001b[0m\u001b[0;34m(\u001b[0m\u001b[0m_Selection\u001b[0m\u001b[0;34m,\u001b[0m \u001b[0mself\u001b[0m\u001b[0;34m)\u001b[0m\u001b[0;34m.\u001b[0m\u001b[0m__init__\u001b[0m\u001b[0;34m(\u001b[0m\u001b[0;34m*\u001b[0m\u001b[0margs\u001b[0m\u001b[0;34m,\u001b[0m \u001b[0;34m**\u001b[0m\u001b[0mkwargs\u001b[0m\u001b[0;34m)\u001b[0m\u001b[0;34m\u001b[0m\u001b[0m\n\u001b[0m\u001b[1;32m    191\u001b[0m         \u001b[0mself\u001b[0m\u001b[0;34m.\u001b[0m\u001b[0m_initializing_traits_\u001b[0m \u001b[0;34m=\u001b[0m \u001b[0;32mFalse\u001b[0m\u001b[0;34m\u001b[0m\u001b[0m\n\u001b[1;32m    192\u001b[0m \u001b[0;34m\u001b[0m\u001b[0m\n",
         "\u001b[0;32m~/anaconda3/lib/python3.6/site-packages/ipywidgets/widgets/widget.py\u001b[0m in \u001b[0;36m__init__\u001b[0;34m(self, **kwargs)\u001b[0m\n\u001b[1;32m    409\u001b[0m         \u001b[0;34m\"\"\"Public constructor\"\"\"\u001b[0m\u001b[0;34m\u001b[0m\u001b[0m\n\u001b[1;32m    410\u001b[0m         \u001b[0mself\u001b[0m\u001b[0;34m.\u001b[0m\u001b[0m_model_id\u001b[0m \u001b[0;34m=\u001b[0m \u001b[0mkwargs\u001b[0m\u001b[0;34m.\u001b[0m\u001b[0mpop\u001b[0m\u001b[0;34m(\u001b[0m\u001b[0;34m'model_id'\u001b[0m\u001b[0;34m,\u001b[0m \u001b[0;32mNone\u001b[0m\u001b[0;34m)\u001b[0m\u001b[0;34m\u001b[0m\u001b[0m\n\u001b[0;32m--> 411\u001b[0;31m         \u001b[0msuper\u001b[0m\u001b[0;34m(\u001b[0m\u001b[0mWidget\u001b[0m\u001b[0;34m,\u001b[0m \u001b[0mself\u001b[0m\u001b[0;34m)\u001b[0m\u001b[0;34m.\u001b[0m\u001b[0m__init__\u001b[0m\u001b[0;34m(\u001b[0m\u001b[0;34m**\u001b[0m\u001b[0mkwargs\u001b[0m\u001b[0;34m)\u001b[0m\u001b[0;34m\u001b[0m\u001b[0m\n\u001b[0m\u001b[1;32m    412\u001b[0m \u001b[0;34m\u001b[0m\u001b[0m\n\u001b[1;32m    413\u001b[0m         \u001b[0mWidget\u001b[0m\u001b[0;34m.\u001b[0m\u001b[0m_call_widget_constructed\u001b[0m\u001b[0;34m(\u001b[0m\u001b[0mself\u001b[0m\u001b[0;34m)\u001b[0m\u001b[0;34m\u001b[0m\u001b[0m\n",
         "\u001b[0;32m~/anaconda3/lib/python3.6/site-packages/traitlets/traitlets.py\u001b[0m in \u001b[0;36m__init__\u001b[0;34m(self, *args, **kwargs)\u001b[0m\n\u001b[1;32m    998\u001b[0m                 \u001b[0;32melse\u001b[0m\u001b[0;34m:\u001b[0m\u001b[0;34m\u001b[0m\u001b[0m\n\u001b[1;32m    999\u001b[0m                     \u001b[0;31m# passthrough args that don't set traits to super\u001b[0m\u001b[0;34m\u001b[0m\u001b[0;34m\u001b[0m\u001b[0m\n\u001b[0;32m-> 1000\u001b[0;31m                     \u001b[0msuper_kwargs\u001b[0m\u001b[0;34m[\u001b[0m\u001b[0mkey\u001b[0m\u001b[0;34m]\u001b[0m \u001b[0;34m=\u001b[0m \u001b[0mvalue\u001b[0m\u001b[0;34m\u001b[0m\u001b[0m\n\u001b[0m\u001b[1;32m   1001\u001b[0m         \u001b[0;32mtry\u001b[0m\u001b[0;34m:\u001b[0m\u001b[0;34m\u001b[0m\u001b[0m\n\u001b[1;32m   1002\u001b[0m             \u001b[0msuper\u001b[0m\u001b[0;34m(\u001b[0m\u001b[0mHasTraits\u001b[0m\u001b[0;34m,\u001b[0m \u001b[0mself\u001b[0m\u001b[0;34m)\u001b[0m\u001b[0;34m.\u001b[0m\u001b[0m__init__\u001b[0m\u001b[0;34m(\u001b[0m\u001b[0;34m*\u001b[0m\u001b[0msuper_args\u001b[0m\u001b[0;34m,\u001b[0m \u001b[0;34m**\u001b[0m\u001b[0msuper_kwargs\u001b[0m\u001b[0;34m)\u001b[0m\u001b[0;34m\u001b[0m\u001b[0m\n",
         "\u001b[0;32m~/anaconda3/lib/python3.6/contextlib.py\u001b[0m in \u001b[0;36m__exit__\u001b[0;34m(self, type, value, traceback)\u001b[0m\n\u001b[1;32m     86\u001b[0m         \u001b[0;32mif\u001b[0m \u001b[0mtype\u001b[0m \u001b[0;32mis\u001b[0m \u001b[0;32mNone\u001b[0m\u001b[0;34m:\u001b[0m\u001b[0;34m\u001b[0m\u001b[0m\n\u001b[1;32m     87\u001b[0m             \u001b[0;32mtry\u001b[0m\u001b[0;34m:\u001b[0m\u001b[0;34m\u001b[0m\u001b[0m\n\u001b[0;32m---> 88\u001b[0;31m                 \u001b[0mnext\u001b[0m\u001b[0;34m(\u001b[0m\u001b[0mself\u001b[0m\u001b[0;34m.\u001b[0m\u001b[0mgen\u001b[0m\u001b[0;34m)\u001b[0m\u001b[0;34m\u001b[0m\u001b[0m\n\u001b[0m\u001b[1;32m     89\u001b[0m             \u001b[0;32mexcept\u001b[0m \u001b[0mStopIteration\u001b[0m\u001b[0;34m:\u001b[0m\u001b[0;34m\u001b[0m\u001b[0m\n\u001b[1;32m     90\u001b[0m                 \u001b[0;32mreturn\u001b[0m \u001b[0;32mFalse\u001b[0m\u001b[0;34m\u001b[0m\u001b[0m\n",
         "\u001b[0;32m~/anaconda3/lib/python3.6/site-packages/traitlets/traitlets.py\u001b[0m in \u001b[0;36mhold_trait_notifications\u001b[0;34m(self)\u001b[0m\n\u001b[1;32m   1120\u001b[0m                                 \u001b[0mself\u001b[0m\u001b[0;34m.\u001b[0m\u001b[0m_trait_values\u001b[0m\u001b[0;34m.\u001b[0m\u001b[0mpop\u001b[0m\u001b[0;34m(\u001b[0m\u001b[0mname\u001b[0m\u001b[0;34m)\u001b[0m\u001b[0;34m\u001b[0m\u001b[0m\n\u001b[1;32m   1121\u001b[0m                 \u001b[0mcache\u001b[0m \u001b[0;34m=\u001b[0m \u001b[0;34m{\u001b[0m\u001b[0;34m}\u001b[0m\u001b[0;34m\u001b[0m\u001b[0m\n\u001b[0;32m-> 1122\u001b[0;31m                 \u001b[0;32mraise\u001b[0m \u001b[0me\u001b[0m\u001b[0;34m\u001b[0m\u001b[0m\n\u001b[0m\u001b[1;32m   1123\u001b[0m             \u001b[0;32mfinally\u001b[0m\u001b[0;34m:\u001b[0m\u001b[0;34m\u001b[0m\u001b[0m\n\u001b[1;32m   1124\u001b[0m                 \u001b[0mself\u001b[0m\u001b[0;34m.\u001b[0m\u001b[0m_cross_validation_lock\u001b[0m \u001b[0;34m=\u001b[0m \u001b[0;32mFalse\u001b[0m\u001b[0;34m\u001b[0m\u001b[0m\n",
         "\u001b[0;32m~/anaconda3/lib/python3.6/site-packages/traitlets/traitlets.py\u001b[0m in \u001b[0;36mhold_trait_notifications\u001b[0;34m(self)\u001b[0m\n\u001b[1;32m   1106\u001b[0m                 \u001b[0;32mfor\u001b[0m \u001b[0mname\u001b[0m \u001b[0;32min\u001b[0m \u001b[0mlist\u001b[0m\u001b[0;34m(\u001b[0m\u001b[0mcache\u001b[0m\u001b[0;34m.\u001b[0m\u001b[0mkeys\u001b[0m\u001b[0;34m(\u001b[0m\u001b[0;34m)\u001b[0m\u001b[0;34m)\u001b[0m\u001b[0;34m:\u001b[0m\u001b[0;34m\u001b[0m\u001b[0m\n\u001b[1;32m   1107\u001b[0m                     \u001b[0mtrait\u001b[0m \u001b[0;34m=\u001b[0m \u001b[0mgetattr\u001b[0m\u001b[0;34m(\u001b[0m\u001b[0mself\u001b[0m\u001b[0;34m.\u001b[0m\u001b[0m__class__\u001b[0m\u001b[0;34m,\u001b[0m \u001b[0mname\u001b[0m\u001b[0;34m)\u001b[0m\u001b[0;34m\u001b[0m\u001b[0m\n\u001b[0;32m-> 1108\u001b[0;31m                     \u001b[0mvalue\u001b[0m \u001b[0;34m=\u001b[0m \u001b[0mtrait\u001b[0m\u001b[0;34m.\u001b[0m\u001b[0m_cross_validate\u001b[0m\u001b[0;34m(\u001b[0m\u001b[0mself\u001b[0m\u001b[0;34m,\u001b[0m \u001b[0mgetattr\u001b[0m\u001b[0;34m(\u001b[0m\u001b[0mself\u001b[0m\u001b[0;34m,\u001b[0m \u001b[0mname\u001b[0m\u001b[0;34m)\u001b[0m\u001b[0;34m)\u001b[0m\u001b[0;34m\u001b[0m\u001b[0m\n\u001b[0m\u001b[1;32m   1109\u001b[0m                     \u001b[0mself\u001b[0m\u001b[0;34m.\u001b[0m\u001b[0mset_trait\u001b[0m\u001b[0;34m(\u001b[0m\u001b[0mname\u001b[0m\u001b[0;34m,\u001b[0m \u001b[0mvalue\u001b[0m\u001b[0;34m)\u001b[0m\u001b[0;34m\u001b[0m\u001b[0m\n\u001b[1;32m   1110\u001b[0m             \u001b[0;32mexcept\u001b[0m \u001b[0mTraitError\u001b[0m \u001b[0;32mas\u001b[0m \u001b[0me\u001b[0m\u001b[0;34m:\u001b[0m\u001b[0;34m\u001b[0m\u001b[0m\n",
         "\u001b[0;32m~/anaconda3/lib/python3.6/site-packages/traitlets/traitlets.py\u001b[0m in \u001b[0;36m_cross_validate\u001b[0;34m(self, obj, value)\u001b[0m\n\u001b[1;32m    597\u001b[0m         \u001b[0;32mif\u001b[0m \u001b[0mself\u001b[0m\u001b[0;34m.\u001b[0m\u001b[0mname\u001b[0m \u001b[0;32min\u001b[0m \u001b[0mobj\u001b[0m\u001b[0;34m.\u001b[0m\u001b[0m_trait_validators\u001b[0m\u001b[0;34m:\u001b[0m\u001b[0;34m\u001b[0m\u001b[0m\n\u001b[1;32m    598\u001b[0m             \u001b[0mproposal\u001b[0m \u001b[0;34m=\u001b[0m \u001b[0mBunch\u001b[0m\u001b[0;34m(\u001b[0m\u001b[0;34m{\u001b[0m\u001b[0;34m'trait'\u001b[0m\u001b[0;34m:\u001b[0m \u001b[0mself\u001b[0m\u001b[0;34m,\u001b[0m \u001b[0;34m'value'\u001b[0m\u001b[0;34m:\u001b[0m \u001b[0mvalue\u001b[0m\u001b[0;34m,\u001b[0m \u001b[0;34m'owner'\u001b[0m\u001b[0;34m:\u001b[0m \u001b[0mobj\u001b[0m\u001b[0;34m}\u001b[0m\u001b[0;34m)\u001b[0m\u001b[0;34m\u001b[0m\u001b[0m\n\u001b[0;32m--> 599\u001b[0;31m             \u001b[0mvalue\u001b[0m \u001b[0;34m=\u001b[0m \u001b[0mobj\u001b[0m\u001b[0;34m.\u001b[0m\u001b[0m_trait_validators\u001b[0m\u001b[0;34m[\u001b[0m\u001b[0mself\u001b[0m\u001b[0;34m.\u001b[0m\u001b[0mname\u001b[0m\u001b[0;34m]\u001b[0m\u001b[0;34m(\u001b[0m\u001b[0mobj\u001b[0m\u001b[0;34m,\u001b[0m \u001b[0mproposal\u001b[0m\u001b[0;34m)\u001b[0m\u001b[0;34m\u001b[0m\u001b[0m\n\u001b[0m\u001b[1;32m    600\u001b[0m         \u001b[0;32melif\u001b[0m \u001b[0mhasattr\u001b[0m\u001b[0;34m(\u001b[0m\u001b[0mobj\u001b[0m\u001b[0;34m,\u001b[0m \u001b[0;34m'_%s_validate'\u001b[0m \u001b[0;34m%\u001b[0m \u001b[0mself\u001b[0m\u001b[0;34m.\u001b[0m\u001b[0mname\u001b[0m\u001b[0;34m)\u001b[0m\u001b[0;34m:\u001b[0m\u001b[0;34m\u001b[0m\u001b[0m\n\u001b[1;32m    601\u001b[0m             \u001b[0mmeth_name\u001b[0m \u001b[0;34m=\u001b[0m \u001b[0;34m'_%s_validate'\u001b[0m \u001b[0;34m%\u001b[0m \u001b[0mself\u001b[0m\u001b[0;34m.\u001b[0m\u001b[0mname\u001b[0m\u001b[0;34m\u001b[0m\u001b[0m\n",
         "\u001b[0;32m~/anaconda3/lib/python3.6/site-packages/traitlets/traitlets.py\u001b[0m in \u001b[0;36m__call__\u001b[0;34m(self, *args, **kwargs)\u001b[0m\n\u001b[1;32m    905\u001b[0m         \u001b[0;34m\"\"\"Pass `*args` and `**kwargs` to the handler's function if it exists.\"\"\"\u001b[0m\u001b[0;34m\u001b[0m\u001b[0m\n\u001b[1;32m    906\u001b[0m         \u001b[0;32mif\u001b[0m \u001b[0mhasattr\u001b[0m\u001b[0;34m(\u001b[0m\u001b[0mself\u001b[0m\u001b[0;34m,\u001b[0m \u001b[0;34m'func'\u001b[0m\u001b[0;34m)\u001b[0m\u001b[0;34m:\u001b[0m\u001b[0;34m\u001b[0m\u001b[0m\n\u001b[0;32m--> 907\u001b[0;31m             \u001b[0;32mreturn\u001b[0m \u001b[0mself\u001b[0m\u001b[0;34m.\u001b[0m\u001b[0mfunc\u001b[0m\u001b[0;34m(\u001b[0m\u001b[0;34m*\u001b[0m\u001b[0margs\u001b[0m\u001b[0;34m,\u001b[0m \u001b[0;34m**\u001b[0m\u001b[0mkwargs\u001b[0m\u001b[0;34m)\u001b[0m\u001b[0;34m\u001b[0m\u001b[0m\n\u001b[0m\u001b[1;32m    908\u001b[0m         \u001b[0;32melse\u001b[0m\u001b[0;34m:\u001b[0m\u001b[0;34m\u001b[0m\u001b[0m\n\u001b[1;32m    909\u001b[0m             \u001b[0;32mreturn\u001b[0m \u001b[0mself\u001b[0m\u001b[0;34m.\u001b[0m\u001b[0m_init_call\u001b[0m\u001b[0;34m(\u001b[0m\u001b[0;34m*\u001b[0m\u001b[0margs\u001b[0m\u001b[0;34m,\u001b[0m \u001b[0;34m**\u001b[0m\u001b[0mkwargs\u001b[0m\u001b[0;34m)\u001b[0m\u001b[0;34m\u001b[0m\u001b[0m\n",
         "\u001b[0;32m~/anaconda3/lib/python3.6/site-packages/ipywidgets/widgets/widget_selection.py\u001b[0m in \u001b[0;36m_validate_value\u001b[0;34m(self, proposal)\u001b[0m\n\u001b[1;32m    239\u001b[0m             \u001b[0;32mreturn\u001b[0m \u001b[0mfindvalue\u001b[0m\u001b[0;34m(\u001b[0m\u001b[0mself\u001b[0m\u001b[0;34m.\u001b[0m\u001b[0m_options_values\u001b[0m\u001b[0;34m,\u001b[0m \u001b[0mvalue\u001b[0m\u001b[0;34m,\u001b[0m \u001b[0mself\u001b[0m\u001b[0;34m.\u001b[0m\u001b[0mequals\u001b[0m\u001b[0;34m)\u001b[0m \u001b[0;32mif\u001b[0m \u001b[0mvalue\u001b[0m \u001b[0;32mis\u001b[0m \u001b[0;32mnot\u001b[0m \u001b[0;32mNone\u001b[0m \u001b[0;32melse\u001b[0m \u001b[0;32mNone\u001b[0m\u001b[0;34m\u001b[0m\u001b[0m\n\u001b[1;32m    240\u001b[0m         \u001b[0;32mexcept\u001b[0m \u001b[0mValueError\u001b[0m\u001b[0;34m:\u001b[0m\u001b[0;34m\u001b[0m\u001b[0m\n\u001b[0;32m--> 241\u001b[0;31m             \u001b[0;32mraise\u001b[0m \u001b[0mTraitError\u001b[0m\u001b[0;34m(\u001b[0m\u001b[0;34m'Invalid selection: value not found'\u001b[0m\u001b[0;34m)\u001b[0m\u001b[0;34m\u001b[0m\u001b[0m\n\u001b[0m\u001b[1;32m    242\u001b[0m \u001b[0;34m\u001b[0m\u001b[0m\n\u001b[1;32m    243\u001b[0m     \u001b[0;34m@\u001b[0m\u001b[0mobserve\u001b[0m\u001b[0;34m(\u001b[0m\u001b[0;34m'value'\u001b[0m\u001b[0;34m)\u001b[0m\u001b[0;34m\u001b[0m\u001b[0m\n",
         "\u001b[0;31mTraitError\u001b[0m: Invalid selection: value not found"
        ]
       }
      ],
      "source": "import WriteObject as wo\n\nWO = wo.WriteObject()\n\nWO.SEEKForm()",
      "start_time": "2019-03-19T16:47:25.740Z"
     },
     {
      "end_time": "2019-03-19T16:47:43.849Z",
      "execution_time": "47ms",
      "outputs": [
       {
        "data": {
         "text/html": "<h3>SEEK FORM</h3>",
         "text/plain": "<IPython.core.display.HTML object>"
        },
        "metadata": {},
        "output_type": "display_data",
        "transient": {}
       },
       {
        "ename": "TraitError",
        "evalue": "Invalid selection: value not found",
        "output_type": "error",
        "traceback": [
         "\u001b[0;31m---------------------------------------------------------------------------\u001b[0m",
         "\u001b[0;31mStopIteration\u001b[0m                             Traceback (most recent call last)",
         "\u001b[0;32m~/anaconda3/lib/python3.6/site-packages/ipywidgets/widgets/widget_selection.py\u001b[0m in \u001b[0;36mfindvalue\u001b[0;34m(array, value, compare)\u001b[0m\n\u001b[1;32m    136\u001b[0m     \u001b[0;32mtry\u001b[0m\u001b[0;34m:\u001b[0m\u001b[0;34m\u001b[0m\u001b[0m\n\u001b[0;32m--> 137\u001b[0;31m         \u001b[0;32mreturn\u001b[0m \u001b[0mnext\u001b[0m\u001b[0;34m(\u001b[0m\u001b[0mx\u001b[0m \u001b[0;32mfor\u001b[0m \u001b[0mx\u001b[0m \u001b[0;32min\u001b[0m \u001b[0marray\u001b[0m \u001b[0;32mif\u001b[0m \u001b[0mcompare\u001b[0m\u001b[0;34m(\u001b[0m\u001b[0mx\u001b[0m\u001b[0;34m,\u001b[0m \u001b[0mvalue\u001b[0m\u001b[0;34m)\u001b[0m\u001b[0;34m)\u001b[0m\u001b[0;34m\u001b[0m\u001b[0m\n\u001b[0m\u001b[1;32m    138\u001b[0m     \u001b[0;32mexcept\u001b[0m \u001b[0mStopIteration\u001b[0m\u001b[0;34m:\u001b[0m\u001b[0;34m\u001b[0m\u001b[0m\n",
         "\u001b[0;31mStopIteration\u001b[0m: ",
         "\nDuring handling of the above exception, another exception occurred:\n",
         "\u001b[0;31mValueError\u001b[0m                                Traceback (most recent call last)",
         "\u001b[0;32m~/anaconda3/lib/python3.6/site-packages/ipywidgets/widgets/widget_selection.py\u001b[0m in \u001b[0;36m_validate_value\u001b[0;34m(self, proposal)\u001b[0m\n\u001b[1;32m    238\u001b[0m         \u001b[0;32mtry\u001b[0m\u001b[0;34m:\u001b[0m\u001b[0;34m\u001b[0m\u001b[0m\n\u001b[0;32m--> 239\u001b[0;31m             \u001b[0;32mreturn\u001b[0m \u001b[0mfindvalue\u001b[0m\u001b[0;34m(\u001b[0m\u001b[0mself\u001b[0m\u001b[0;34m.\u001b[0m\u001b[0m_options_values\u001b[0m\u001b[0;34m,\u001b[0m \u001b[0mvalue\u001b[0m\u001b[0;34m,\u001b[0m \u001b[0mself\u001b[0m\u001b[0;34m.\u001b[0m\u001b[0mequals\u001b[0m\u001b[0;34m)\u001b[0m \u001b[0;32mif\u001b[0m \u001b[0mvalue\u001b[0m \u001b[0;32mis\u001b[0m \u001b[0;32mnot\u001b[0m \u001b[0;32mNone\u001b[0m \u001b[0;32melse\u001b[0m \u001b[0;32mNone\u001b[0m\u001b[0;34m\u001b[0m\u001b[0m\n\u001b[0m\u001b[1;32m    240\u001b[0m         \u001b[0;32mexcept\u001b[0m \u001b[0mValueError\u001b[0m\u001b[0;34m:\u001b[0m\u001b[0;34m\u001b[0m\u001b[0m\n",
         "\u001b[0;32m~/anaconda3/lib/python3.6/site-packages/ipywidgets/widgets/widget_selection.py\u001b[0m in \u001b[0;36mfindvalue\u001b[0;34m(array, value, compare)\u001b[0m\n\u001b[1;32m    138\u001b[0m     \u001b[0;32mexcept\u001b[0m \u001b[0mStopIteration\u001b[0m\u001b[0;34m:\u001b[0m\u001b[0;34m\u001b[0m\u001b[0m\n\u001b[0;32m--> 139\u001b[0;31m         \u001b[0;32mraise\u001b[0m \u001b[0mValueError\u001b[0m\u001b[0;34m(\u001b[0m\u001b[0;34m'%r not in array'\u001b[0m\u001b[0;34m%\u001b[0m\u001b[0mvalue\u001b[0m\u001b[0;34m)\u001b[0m\u001b[0;34m\u001b[0m\u001b[0m\n\u001b[0m\u001b[1;32m    140\u001b[0m \u001b[0;34m\u001b[0m\u001b[0m\n",
         "\u001b[0;31mValueError\u001b[0m: '2' not in array",
         "\nDuring handling of the above exception, another exception occurred:\n",
         "\u001b[0;31mTraitError\u001b[0m                                Traceback (most recent call last)",
         "\u001b[0;32m<ipython-input-2-e7e875206f73>\u001b[0m in \u001b[0;36m<module>\u001b[0;34m()\u001b[0m\n\u001b[1;32m      3\u001b[0m \u001b[0mWO\u001b[0m \u001b[0;34m=\u001b[0m \u001b[0mwo\u001b[0m\u001b[0;34m.\u001b[0m\u001b[0mWriteObject\u001b[0m\u001b[0;34m(\u001b[0m\u001b[0;34m)\u001b[0m\u001b[0;34m\u001b[0m\u001b[0m\n\u001b[1;32m      4\u001b[0m \u001b[0;34m\u001b[0m\u001b[0m\n\u001b[0;32m----> 5\u001b[0;31m \u001b[0mWO\u001b[0m\u001b[0;34m.\u001b[0m\u001b[0mSEEKForm\u001b[0m\u001b[0;34m(\u001b[0m\u001b[0;34m)\u001b[0m\u001b[0;34m\u001b[0m\u001b[0m\n\u001b[0m",
         "\u001b[0;32m~/Work/ThirdYear/Seek/TheSeekNotebook/WriteObject.py\u001b[0m in \u001b[0;36mSEEKForm\u001b[0;34m(self)\u001b[0m\n\u001b[1;32m     40\u001b[0m \u001b[0;34m\u001b[0m\u001b[0m\n\u001b[1;32m     41\u001b[0m         \u001b[0mdisplay\u001b[0m\u001b[0;34m(\u001b[0m\u001b[0mHTML\u001b[0m\u001b[0;34m(\u001b[0m\u001b[0;34m'<h3>SEEK FORM</h3>'\u001b[0m\u001b[0;34m)\u001b[0m\u001b[0;34m)\u001b[0m\u001b[0;34m\u001b[0m\u001b[0m\n\u001b[0;32m---> 42\u001b[0;31m         self.createDropdown(op=[\"assays\",\"data_files\"], \n\u001b[0m\u001b[1;32m     43\u001b[0m                             desc='\\nThe type of object you want to upload to SEEK:  ')\n\u001b[1;32m     44\u001b[0m \u001b[0;34m\u001b[0m\u001b[0m\n",
         "\u001b[0;32m~/Work/ThirdYear/Seek/TheSeekNotebook/WriteObject.py\u001b[0m in \u001b[0;36mcreateDropdown\u001b[0;34m(self, op, desc)\u001b[0m\n\u001b[1;32m     32\u001b[0m             \u001b[0moptions\u001b[0m\u001b[0;34m=\u001b[0m\u001b[0mop\u001b[0m\u001b[0;34m,\u001b[0m\u001b[0;34m\u001b[0m\u001b[0m\n\u001b[1;32m     33\u001b[0m             \u001b[0mvalue\u001b[0m\u001b[0;34m=\u001b[0m\u001b[0;34m'assays'\u001b[0m\u001b[0;34m,\u001b[0m\u001b[0;34m\u001b[0m\u001b[0m\n\u001b[0;32m---> 34\u001b[0;31m             \u001b[0mdescription\u001b[0m\u001b[0;34m=\u001b[0m\u001b[0mdesc\u001b[0m\u001b[0;34m,\u001b[0m\u001b[0;34m\u001b[0m\u001b[0m\n\u001b[0m\u001b[1;32m     35\u001b[0m             \u001b[0mdisabled\u001b[0m\u001b[0;34m=\u001b[0m\u001b[0;32mFalse\u001b[0m\u001b[0;34m,\u001b[0m\u001b[0;34m\u001b[0m\u001b[0m\n\u001b[1;32m     36\u001b[0m         )\n",
         "\u001b[0;32m~/anaconda3/lib/python3.6/site-packages/ipywidgets/widgets/widget_selection.py\u001b[0m in \u001b[0;36m__init__\u001b[0;34m(self, *args, **kwargs)\u001b[0m\n\u001b[1;32m    188\u001b[0m             \u001b[0mkwargs\u001b[0m\u001b[0;34m[\u001b[0m\u001b[0;34m'label'\u001b[0m\u001b[0;34m]\u001b[0m\u001b[0;34m,\u001b[0m \u001b[0mkwargs\u001b[0m\u001b[0;34m[\u001b[0m\u001b[0;34m'value'\u001b[0m\u001b[0;34m]\u001b[0m \u001b[0;34m=\u001b[0m \u001b[0moptions\u001b[0m\u001b[0;34m[\u001b[0m\u001b[0;36m0\u001b[0m\u001b[0;34m]\u001b[0m \u001b[0;32mif\u001b[0m \u001b[0mnonempty\u001b[0m \u001b[0;32melse\u001b[0m \u001b[0;34m(\u001b[0m\u001b[0;32mNone\u001b[0m\u001b[0;34m,\u001b[0m \u001b[0;32mNone\u001b[0m\u001b[0;34m)\u001b[0m\u001b[0;34m\u001b[0m\u001b[0m\n\u001b[1;32m    189\u001b[0m \u001b[0;34m\u001b[0m\u001b[0m\n\u001b[0;32m--> 190\u001b[0;31m         \u001b[0msuper\u001b[0m\u001b[0;34m(\u001b[0m\u001b[0m_Selection\u001b[0m\u001b[0;34m,\u001b[0m \u001b[0mself\u001b[0m\u001b[0;34m)\u001b[0m\u001b[0;34m.\u001b[0m\u001b[0m__init__\u001b[0m\u001b[0;34m(\u001b[0m\u001b[0;34m*\u001b[0m\u001b[0margs\u001b[0m\u001b[0;34m,\u001b[0m \u001b[0;34m**\u001b[0m\u001b[0mkwargs\u001b[0m\u001b[0;34m)\u001b[0m\u001b[0;34m\u001b[0m\u001b[0m\n\u001b[0m\u001b[1;32m    191\u001b[0m         \u001b[0mself\u001b[0m\u001b[0;34m.\u001b[0m\u001b[0m_initializing_traits_\u001b[0m \u001b[0;34m=\u001b[0m \u001b[0;32mFalse\u001b[0m\u001b[0;34m\u001b[0m\u001b[0m\n\u001b[1;32m    192\u001b[0m \u001b[0;34m\u001b[0m\u001b[0m\n",
         "\u001b[0;32m~/anaconda3/lib/python3.6/site-packages/ipywidgets/widgets/widget.py\u001b[0m in \u001b[0;36m__init__\u001b[0;34m(self, **kwargs)\u001b[0m\n\u001b[1;32m    409\u001b[0m         \u001b[0;34m\"\"\"Public constructor\"\"\"\u001b[0m\u001b[0;34m\u001b[0m\u001b[0m\n\u001b[1;32m    410\u001b[0m         \u001b[0mself\u001b[0m\u001b[0;34m.\u001b[0m\u001b[0m_model_id\u001b[0m \u001b[0;34m=\u001b[0m \u001b[0mkwargs\u001b[0m\u001b[0;34m.\u001b[0m\u001b[0mpop\u001b[0m\u001b[0;34m(\u001b[0m\u001b[0;34m'model_id'\u001b[0m\u001b[0;34m,\u001b[0m \u001b[0;32mNone\u001b[0m\u001b[0;34m)\u001b[0m\u001b[0;34m\u001b[0m\u001b[0m\n\u001b[0;32m--> 411\u001b[0;31m         \u001b[0msuper\u001b[0m\u001b[0;34m(\u001b[0m\u001b[0mWidget\u001b[0m\u001b[0;34m,\u001b[0m \u001b[0mself\u001b[0m\u001b[0;34m)\u001b[0m\u001b[0;34m.\u001b[0m\u001b[0m__init__\u001b[0m\u001b[0;34m(\u001b[0m\u001b[0;34m**\u001b[0m\u001b[0mkwargs\u001b[0m\u001b[0;34m)\u001b[0m\u001b[0;34m\u001b[0m\u001b[0m\n\u001b[0m\u001b[1;32m    412\u001b[0m \u001b[0;34m\u001b[0m\u001b[0m\n\u001b[1;32m    413\u001b[0m         \u001b[0mWidget\u001b[0m\u001b[0;34m.\u001b[0m\u001b[0m_call_widget_constructed\u001b[0m\u001b[0;34m(\u001b[0m\u001b[0mself\u001b[0m\u001b[0;34m)\u001b[0m\u001b[0;34m\u001b[0m\u001b[0m\n",
         "\u001b[0;32m~/anaconda3/lib/python3.6/site-packages/traitlets/traitlets.py\u001b[0m in \u001b[0;36m__init__\u001b[0;34m(self, *args, **kwargs)\u001b[0m\n\u001b[1;32m    998\u001b[0m                 \u001b[0;32melse\u001b[0m\u001b[0;34m:\u001b[0m\u001b[0;34m\u001b[0m\u001b[0m\n\u001b[1;32m    999\u001b[0m                     \u001b[0;31m# passthrough args that don't set traits to super\u001b[0m\u001b[0;34m\u001b[0m\u001b[0;34m\u001b[0m\u001b[0m\n\u001b[0;32m-> 1000\u001b[0;31m                     \u001b[0msuper_kwargs\u001b[0m\u001b[0;34m[\u001b[0m\u001b[0mkey\u001b[0m\u001b[0;34m]\u001b[0m \u001b[0;34m=\u001b[0m \u001b[0mvalue\u001b[0m\u001b[0;34m\u001b[0m\u001b[0m\n\u001b[0m\u001b[1;32m   1001\u001b[0m         \u001b[0;32mtry\u001b[0m\u001b[0;34m:\u001b[0m\u001b[0;34m\u001b[0m\u001b[0m\n\u001b[1;32m   1002\u001b[0m             \u001b[0msuper\u001b[0m\u001b[0;34m(\u001b[0m\u001b[0mHasTraits\u001b[0m\u001b[0;34m,\u001b[0m \u001b[0mself\u001b[0m\u001b[0;34m)\u001b[0m\u001b[0;34m.\u001b[0m\u001b[0m__init__\u001b[0m\u001b[0;34m(\u001b[0m\u001b[0;34m*\u001b[0m\u001b[0msuper_args\u001b[0m\u001b[0;34m,\u001b[0m \u001b[0;34m**\u001b[0m\u001b[0msuper_kwargs\u001b[0m\u001b[0;34m)\u001b[0m\u001b[0;34m\u001b[0m\u001b[0m\n",
         "\u001b[0;32m~/anaconda3/lib/python3.6/contextlib.py\u001b[0m in \u001b[0;36m__exit__\u001b[0;34m(self, type, value, traceback)\u001b[0m\n\u001b[1;32m     86\u001b[0m         \u001b[0;32mif\u001b[0m \u001b[0mtype\u001b[0m \u001b[0;32mis\u001b[0m \u001b[0;32mNone\u001b[0m\u001b[0;34m:\u001b[0m\u001b[0;34m\u001b[0m\u001b[0m\n\u001b[1;32m     87\u001b[0m             \u001b[0;32mtry\u001b[0m\u001b[0;34m:\u001b[0m\u001b[0;34m\u001b[0m\u001b[0m\n\u001b[0;32m---> 88\u001b[0;31m                 \u001b[0mnext\u001b[0m\u001b[0;34m(\u001b[0m\u001b[0mself\u001b[0m\u001b[0;34m.\u001b[0m\u001b[0mgen\u001b[0m\u001b[0;34m)\u001b[0m\u001b[0;34m\u001b[0m\u001b[0m\n\u001b[0m\u001b[1;32m     89\u001b[0m             \u001b[0;32mexcept\u001b[0m \u001b[0mStopIteration\u001b[0m\u001b[0;34m:\u001b[0m\u001b[0;34m\u001b[0m\u001b[0m\n\u001b[1;32m     90\u001b[0m                 \u001b[0;32mreturn\u001b[0m \u001b[0;32mFalse\u001b[0m\u001b[0;34m\u001b[0m\u001b[0m\n",
         "\u001b[0;32m~/anaconda3/lib/python3.6/site-packages/traitlets/traitlets.py\u001b[0m in \u001b[0;36mhold_trait_notifications\u001b[0;34m(self)\u001b[0m\n\u001b[1;32m   1120\u001b[0m                                 \u001b[0mself\u001b[0m\u001b[0;34m.\u001b[0m\u001b[0m_trait_values\u001b[0m\u001b[0;34m.\u001b[0m\u001b[0mpop\u001b[0m\u001b[0;34m(\u001b[0m\u001b[0mname\u001b[0m\u001b[0;34m)\u001b[0m\u001b[0;34m\u001b[0m\u001b[0m\n\u001b[1;32m   1121\u001b[0m                 \u001b[0mcache\u001b[0m \u001b[0;34m=\u001b[0m \u001b[0;34m{\u001b[0m\u001b[0;34m}\u001b[0m\u001b[0;34m\u001b[0m\u001b[0m\n\u001b[0;32m-> 1122\u001b[0;31m                 \u001b[0;32mraise\u001b[0m \u001b[0me\u001b[0m\u001b[0;34m\u001b[0m\u001b[0m\n\u001b[0m\u001b[1;32m   1123\u001b[0m             \u001b[0;32mfinally\u001b[0m\u001b[0;34m:\u001b[0m\u001b[0;34m\u001b[0m\u001b[0m\n\u001b[1;32m   1124\u001b[0m                 \u001b[0mself\u001b[0m\u001b[0;34m.\u001b[0m\u001b[0m_cross_validation_lock\u001b[0m \u001b[0;34m=\u001b[0m \u001b[0;32mFalse\u001b[0m\u001b[0;34m\u001b[0m\u001b[0m\n",
         "\u001b[0;32m~/anaconda3/lib/python3.6/site-packages/traitlets/traitlets.py\u001b[0m in \u001b[0;36mhold_trait_notifications\u001b[0;34m(self)\u001b[0m\n\u001b[1;32m   1106\u001b[0m                 \u001b[0;32mfor\u001b[0m \u001b[0mname\u001b[0m \u001b[0;32min\u001b[0m \u001b[0mlist\u001b[0m\u001b[0;34m(\u001b[0m\u001b[0mcache\u001b[0m\u001b[0;34m.\u001b[0m\u001b[0mkeys\u001b[0m\u001b[0;34m(\u001b[0m\u001b[0;34m)\u001b[0m\u001b[0;34m)\u001b[0m\u001b[0;34m:\u001b[0m\u001b[0;34m\u001b[0m\u001b[0m\n\u001b[1;32m   1107\u001b[0m                     \u001b[0mtrait\u001b[0m \u001b[0;34m=\u001b[0m \u001b[0mgetattr\u001b[0m\u001b[0;34m(\u001b[0m\u001b[0mself\u001b[0m\u001b[0;34m.\u001b[0m\u001b[0m__class__\u001b[0m\u001b[0;34m,\u001b[0m \u001b[0mname\u001b[0m\u001b[0;34m)\u001b[0m\u001b[0;34m\u001b[0m\u001b[0m\n\u001b[0;32m-> 1108\u001b[0;31m                     \u001b[0mvalue\u001b[0m \u001b[0;34m=\u001b[0m \u001b[0mtrait\u001b[0m\u001b[0;34m.\u001b[0m\u001b[0m_cross_validate\u001b[0m\u001b[0;34m(\u001b[0m\u001b[0mself\u001b[0m\u001b[0;34m,\u001b[0m \u001b[0mgetattr\u001b[0m\u001b[0;34m(\u001b[0m\u001b[0mself\u001b[0m\u001b[0;34m,\u001b[0m \u001b[0mname\u001b[0m\u001b[0;34m)\u001b[0m\u001b[0;34m)\u001b[0m\u001b[0;34m\u001b[0m\u001b[0m\n\u001b[0m\u001b[1;32m   1109\u001b[0m                     \u001b[0mself\u001b[0m\u001b[0;34m.\u001b[0m\u001b[0mset_trait\u001b[0m\u001b[0;34m(\u001b[0m\u001b[0mname\u001b[0m\u001b[0;34m,\u001b[0m \u001b[0mvalue\u001b[0m\u001b[0;34m)\u001b[0m\u001b[0;34m\u001b[0m\u001b[0m\n\u001b[1;32m   1110\u001b[0m             \u001b[0;32mexcept\u001b[0m \u001b[0mTraitError\u001b[0m \u001b[0;32mas\u001b[0m \u001b[0me\u001b[0m\u001b[0;34m:\u001b[0m\u001b[0;34m\u001b[0m\u001b[0m\n",
         "\u001b[0;32m~/anaconda3/lib/python3.6/site-packages/traitlets/traitlets.py\u001b[0m in \u001b[0;36m_cross_validate\u001b[0;34m(self, obj, value)\u001b[0m\n\u001b[1;32m    597\u001b[0m         \u001b[0;32mif\u001b[0m \u001b[0mself\u001b[0m\u001b[0;34m.\u001b[0m\u001b[0mname\u001b[0m \u001b[0;32min\u001b[0m \u001b[0mobj\u001b[0m\u001b[0;34m.\u001b[0m\u001b[0m_trait_validators\u001b[0m\u001b[0;34m:\u001b[0m\u001b[0;34m\u001b[0m\u001b[0m\n\u001b[1;32m    598\u001b[0m             \u001b[0mproposal\u001b[0m \u001b[0;34m=\u001b[0m \u001b[0mBunch\u001b[0m\u001b[0;34m(\u001b[0m\u001b[0;34m{\u001b[0m\u001b[0;34m'trait'\u001b[0m\u001b[0;34m:\u001b[0m \u001b[0mself\u001b[0m\u001b[0;34m,\u001b[0m \u001b[0;34m'value'\u001b[0m\u001b[0;34m:\u001b[0m \u001b[0mvalue\u001b[0m\u001b[0;34m,\u001b[0m \u001b[0;34m'owner'\u001b[0m\u001b[0;34m:\u001b[0m \u001b[0mobj\u001b[0m\u001b[0;34m}\u001b[0m\u001b[0;34m)\u001b[0m\u001b[0;34m\u001b[0m\u001b[0m\n\u001b[0;32m--> 599\u001b[0;31m             \u001b[0mvalue\u001b[0m \u001b[0;34m=\u001b[0m \u001b[0mobj\u001b[0m\u001b[0;34m.\u001b[0m\u001b[0m_trait_validators\u001b[0m\u001b[0;34m[\u001b[0m\u001b[0mself\u001b[0m\u001b[0;34m.\u001b[0m\u001b[0mname\u001b[0m\u001b[0;34m]\u001b[0m\u001b[0;34m(\u001b[0m\u001b[0mobj\u001b[0m\u001b[0;34m,\u001b[0m \u001b[0mproposal\u001b[0m\u001b[0;34m)\u001b[0m\u001b[0;34m\u001b[0m\u001b[0m\n\u001b[0m\u001b[1;32m    600\u001b[0m         \u001b[0;32melif\u001b[0m \u001b[0mhasattr\u001b[0m\u001b[0;34m(\u001b[0m\u001b[0mobj\u001b[0m\u001b[0;34m,\u001b[0m \u001b[0;34m'_%s_validate'\u001b[0m \u001b[0;34m%\u001b[0m \u001b[0mself\u001b[0m\u001b[0;34m.\u001b[0m\u001b[0mname\u001b[0m\u001b[0;34m)\u001b[0m\u001b[0;34m:\u001b[0m\u001b[0;34m\u001b[0m\u001b[0m\n\u001b[1;32m    601\u001b[0m             \u001b[0mmeth_name\u001b[0m \u001b[0;34m=\u001b[0m \u001b[0;34m'_%s_validate'\u001b[0m \u001b[0;34m%\u001b[0m \u001b[0mself\u001b[0m\u001b[0;34m.\u001b[0m\u001b[0mname\u001b[0m\u001b[0;34m\u001b[0m\u001b[0m\n",
         "\u001b[0;32m~/anaconda3/lib/python3.6/site-packages/traitlets/traitlets.py\u001b[0m in \u001b[0;36m__call__\u001b[0;34m(self, *args, **kwargs)\u001b[0m\n\u001b[1;32m    905\u001b[0m         \u001b[0;34m\"\"\"Pass `*args` and `**kwargs` to the handler's function if it exists.\"\"\"\u001b[0m\u001b[0;34m\u001b[0m\u001b[0m\n\u001b[1;32m    906\u001b[0m         \u001b[0;32mif\u001b[0m \u001b[0mhasattr\u001b[0m\u001b[0;34m(\u001b[0m\u001b[0mself\u001b[0m\u001b[0;34m,\u001b[0m \u001b[0;34m'func'\u001b[0m\u001b[0;34m)\u001b[0m\u001b[0;34m:\u001b[0m\u001b[0;34m\u001b[0m\u001b[0m\n\u001b[0;32m--> 907\u001b[0;31m             \u001b[0;32mreturn\u001b[0m \u001b[0mself\u001b[0m\u001b[0;34m.\u001b[0m\u001b[0mfunc\u001b[0m\u001b[0;34m(\u001b[0m\u001b[0;34m*\u001b[0m\u001b[0margs\u001b[0m\u001b[0;34m,\u001b[0m \u001b[0;34m**\u001b[0m\u001b[0mkwargs\u001b[0m\u001b[0;34m)\u001b[0m\u001b[0;34m\u001b[0m\u001b[0m\n\u001b[0m\u001b[1;32m    908\u001b[0m         \u001b[0;32melse\u001b[0m\u001b[0;34m:\u001b[0m\u001b[0;34m\u001b[0m\u001b[0m\n\u001b[1;32m    909\u001b[0m             \u001b[0;32mreturn\u001b[0m \u001b[0mself\u001b[0m\u001b[0;34m.\u001b[0m\u001b[0m_init_call\u001b[0m\u001b[0;34m(\u001b[0m\u001b[0;34m*\u001b[0m\u001b[0margs\u001b[0m\u001b[0;34m,\u001b[0m \u001b[0;34m**\u001b[0m\u001b[0mkwargs\u001b[0m\u001b[0;34m)\u001b[0m\u001b[0;34m\u001b[0m\u001b[0m\n",
         "\u001b[0;32m~/anaconda3/lib/python3.6/site-packages/ipywidgets/widgets/widget_selection.py\u001b[0m in \u001b[0;36m_validate_value\u001b[0;34m(self, proposal)\u001b[0m\n\u001b[1;32m    239\u001b[0m             \u001b[0;32mreturn\u001b[0m \u001b[0mfindvalue\u001b[0m\u001b[0;34m(\u001b[0m\u001b[0mself\u001b[0m\u001b[0;34m.\u001b[0m\u001b[0m_options_values\u001b[0m\u001b[0;34m,\u001b[0m \u001b[0mvalue\u001b[0m\u001b[0;34m,\u001b[0m \u001b[0mself\u001b[0m\u001b[0;34m.\u001b[0m\u001b[0mequals\u001b[0m\u001b[0;34m)\u001b[0m \u001b[0;32mif\u001b[0m \u001b[0mvalue\u001b[0m \u001b[0;32mis\u001b[0m \u001b[0;32mnot\u001b[0m \u001b[0;32mNone\u001b[0m \u001b[0;32melse\u001b[0m \u001b[0;32mNone\u001b[0m\u001b[0;34m\u001b[0m\u001b[0m\n\u001b[1;32m    240\u001b[0m         \u001b[0;32mexcept\u001b[0m \u001b[0mValueError\u001b[0m\u001b[0;34m:\u001b[0m\u001b[0;34m\u001b[0m\u001b[0m\n\u001b[0;32m--> 241\u001b[0;31m             \u001b[0;32mraise\u001b[0m \u001b[0mTraitError\u001b[0m\u001b[0;34m(\u001b[0m\u001b[0;34m'Invalid selection: value not found'\u001b[0m\u001b[0;34m)\u001b[0m\u001b[0;34m\u001b[0m\u001b[0m\n\u001b[0m\u001b[1;32m    242\u001b[0m \u001b[0;34m\u001b[0m\u001b[0m\n\u001b[1;32m    243\u001b[0m     \u001b[0;34m@\u001b[0m\u001b[0mobserve\u001b[0m\u001b[0;34m(\u001b[0m\u001b[0;34m'value'\u001b[0m\u001b[0;34m)\u001b[0m\u001b[0;34m\u001b[0m\u001b[0m\n",
         "\u001b[0;31mTraitError\u001b[0m: Invalid selection: value not found"
        ]
       }
      ],
      "source": "import WriteObject as wo\n\nWO = wo.WriteObject()\n\nWO.SEEKForm()",
      "start_time": "2019-03-19T16:47:43.802Z"
     },
     {
      "end_time": "2019-03-19T16:47:49.526Z",
      "execution_time": "128ms",
      "outputs": [
       {
        "data": {
         "text/html": "<h3>SEEK FORM</h3>",
         "text/plain": "<IPython.core.display.HTML object>"
        },
        "metadata": {},
        "output_type": "display_data",
        "transient": {}
       }
      ],
      "source": "import WriteObject as wo\n\nWO = wo.WriteObject()\n\nWO.SEEKForm()",
      "start_time": "2019-03-19T16:47:49.398Z"
     },
     {
      "end_time": "2019-03-19T16:53:02.635Z",
      "execution_time": "166ms",
      "outputs": [
       {
        "data": {
         "text/html": "<h3>SEEK FORM</h3>",
         "text/plain": "<IPython.core.display.HTML object>"
        },
        "metadata": {},
        "output_type": "display_data",
        "transient": {}
       },
       {
        "ename": "NameError",
        "evalue": "name 'op' is not defined",
        "output_type": "error",
        "traceback": [
         "\u001b[0;31m---------------------------------------------------------------------------\u001b[0m",
         "\u001b[0;31mNameError\u001b[0m                                 Traceback (most recent call last)",
         "\u001b[0;32m<ipython-input-1-e7e875206f73>\u001b[0m in \u001b[0;36m<module>\u001b[0;34m()\u001b[0m\n\u001b[1;32m      3\u001b[0m \u001b[0mWO\u001b[0m \u001b[0;34m=\u001b[0m \u001b[0mwo\u001b[0m\u001b[0;34m.\u001b[0m\u001b[0mWriteObject\u001b[0m\u001b[0;34m(\u001b[0m\u001b[0;34m)\u001b[0m\u001b[0;34m\u001b[0m\u001b[0m\n\u001b[1;32m      4\u001b[0m \u001b[0;34m\u001b[0m\u001b[0m\n\u001b[0;32m----> 5\u001b[0;31m \u001b[0mWO\u001b[0m\u001b[0;34m.\u001b[0m\u001b[0mSEEKForm\u001b[0m\u001b[0;34m(\u001b[0m\u001b[0;34m)\u001b[0m\u001b[0;34m\u001b[0m\u001b[0m\n\u001b[0m",
         "\u001b[0;32m~/Work/ThirdYear/Seek/TheSeekNotebook/WriteObject.py\u001b[0m in \u001b[0;36mSEEKForm\u001b[0;34m(self)\u001b[0m\n\u001b[1;32m     33\u001b[0m         \u001b[0mdisplay\u001b[0m\u001b[0;34m(\u001b[0m\u001b[0mHTML\u001b[0m\u001b[0;34m(\u001b[0m\u001b[0;34m'<h3>SEEK FORM</h3>'\u001b[0m\u001b[0;34m)\u001b[0m\u001b[0;34m)\u001b[0m\u001b[0;34m\u001b[0m\u001b[0m\n\u001b[1;32m     34\u001b[0m         dropdown = widgets.Dropdown(\n\u001b[0;32m---> 35\u001b[0;31m             \u001b[0moptions\u001b[0m\u001b[0;34m=\u001b[0m\u001b[0mop\u001b[0m\u001b[0;34m,\u001b[0m\u001b[0;34m\u001b[0m\u001b[0m\n\u001b[0m\u001b[1;32m     36\u001b[0m             \u001b[0mvalue\u001b[0m\u001b[0;34m=\u001b[0m\u001b[0;34m'assays'\u001b[0m\u001b[0;34m,\u001b[0m\u001b[0;34m\u001b[0m\u001b[0m\n\u001b[1;32m     37\u001b[0m             \u001b[0mdescription\u001b[0m\u001b[0;34m=\u001b[0m\u001b[0mdesc\u001b[0m\u001b[0;34m,\u001b[0m\u001b[0;34m\u001b[0m\u001b[0m\n",
         "\u001b[0;31mNameError\u001b[0m: name 'op' is not defined"
        ]
       }
      ],
      "source": "import WriteObject as wo\n\nWO = wo.WriteObject()\n\nWO.SEEKForm()",
      "start_time": "2019-03-19T16:53:02.469Z"
     },
     {
      "end_time": "2019-03-19T16:54:01.250Z",
      "execution_time": "105ms",
      "outputs": [
       {
        "data": {
         "text/html": "<h3>SEEK FORM</h3>",
         "text/plain": "<IPython.core.display.HTML object>"
        },
        "metadata": {},
        "output_type": "display_data",
        "transient": {}
       }
      ],
      "source": "import WriteObject as wo\n\nWO = wo.WriteObject()\n\nWO.SEEKForm()",
      "start_time": "2019-03-19T16:54:01.145Z"
     },
     {
      "end_time": "2019-03-19T16:57:40.463Z",
      "execution_time": "1.95s",
      "outputs": [
       {
        "name": "stdout",
        "output_type": "stream",
        "text": "Username: asd\nPassword: ········\n"
       },
       {
        "data": {
         "text/html": "<h3>SEEK FORM</h3>",
         "text/plain": "<IPython.core.display.HTML object>"
        },
        "metadata": {},
        "output_type": "display_data",
        "transient": {}
       }
      ],
      "source": "import WriteObject as wo\n\nWO = wo.WriteObject()\n\nWO.SEEKForm()",
      "start_time": "2019-03-19T16:57:38.516Z"
     },
     {
      "end_time": "2019-03-19T16:58:42.109Z",
      "execution_time": "1.71s",
      "outputs": [
       {
        "name": "stdout",
        "output_type": "stream",
        "text": "Username: dasd\nPassword: ········\n"
       },
       {
        "data": {
         "text/html": "<h3>SEEK FORM</h3>",
         "text/plain": "<IPython.core.display.HTML object>"
        },
        "metadata": {},
        "output_type": "display_data",
        "transient": {}
       }
      ],
      "source": "import WriteObject as wo\n\nWO = wo.WriteObject()\n\nWO.SEEKForm()",
      "start_time": "2019-03-19T16:58:40.404Z"
     },
     {
      "end_time": "2019-03-19T17:08:23.074Z",
      "execution_time": "1.51s",
      "outputs": [
       {
        "name": "stdout",
        "output_type": "stream",
        "text": "Username: asd\nPassword: ········\n"
       },
       {
        "data": {
         "text/html": "<h3>SEEK FORM</h3>",
         "text/plain": "<IPython.core.display.HTML object>"
        },
        "metadata": {},
        "output_type": "display_data",
        "transient": {}
       }
      ],
      "source": "import WriteObject as wo\n\nWO = wo.WriteObject()\n\nWO.SEEKForm()",
      "start_time": "2019-03-19T17:08:21.567Z"
     },
     {
      "end_time": "2019-03-19T17:08:37.980Z",
      "execution_time": "992ms",
      "outputs": [
       {
        "name": "stdout",
        "output_type": "stream",
        "text": "Username: asd\nPassword: ········\n"
       },
       {
        "data": {
         "text/html": "<h3>SEEK FORM</h3>",
         "text/plain": "<IPython.core.display.HTML object>"
        },
        "metadata": {},
        "output_type": "display_data",
        "transient": {}
       },
       {
        "data": {
         "application/vnd.jupyter.widget-view+json": {
          "model_id": "",
          "version_major": 2,
          "version_minor": 0
         },
         "text/plain": "Dropdown(description='What is it that you want to post?', options=('assays', 'data_files'), value='assays')"
        },
        "metadata": {},
        "output_type": "display_data",
        "transient": {}
       }
      ],
      "source": "import WriteObject as wo\n\nWO = wo.WriteObject()\n\nWO.SEEKForm()",
      "start_time": "2019-03-19T17:08:36.988Z"
     },
     {
      "end_time": "2019-03-19T17:13:19.784Z",
      "execution_time": "1.69s",
      "outputs": [
       {
        "name": "stdout",
        "output_type": "stream",
        "text": "Username: as\nPassword: ········\n"
       },
       {
        "data": {
         "text/html": "<h3>SEEK FORM</h3>",
         "text/plain": "<IPython.core.display.HTML object>"
        },
        "metadata": {},
        "output_type": "display_data",
        "transient": {}
       },
       {
        "data": {
         "application/vnd.jupyter.widget-view+json": {
          "model_id": "",
          "version_major": 2,
          "version_minor": 0
         },
         "text/plain": "HBox(children=(Label(value='What is it that you want to post?'), Dropdown(description='What is it that you wan…"
        },
        "metadata": {},
        "output_type": "display_data",
        "transient": {}
       }
      ],
      "source": "import WriteObject as wo\n\nWO = wo.WriteObject()\n\nWO.SEEKForm()",
      "start_time": "2019-03-19T17:13:18.090Z"
     },
     {
      "end_time": "2019-03-19T17:13:37.948Z",
      "execution_time": "1.64s",
      "outputs": [
       {
        "name": "stdout",
        "output_type": "stream",
        "text": "Username: as\nPassword: ········\n"
       },
       {
        "data": {
         "text/html": "<h3>SEEK FORM</h3>",
         "text/plain": "<IPython.core.display.HTML object>"
        },
        "metadata": {},
        "output_type": "display_data",
        "transient": {}
       },
       {
        "data": {
         "application/vnd.jupyter.widget-view+json": {
          "model_id": "",
          "version_major": 2,
          "version_minor": 0
         },
         "text/plain": "HBox(children=(Label(value='What is it that you want to post?'), Dropdown(options=('assays', 'data_files', 'st…"
        },
        "metadata": {},
        "output_type": "display_data",
        "transient": {}
       }
      ],
      "source": "import WriteObject as wo\n\nWO = wo.WriteObject()\n\nWO.SEEKForm()",
      "start_time": "2019-03-19T17:13:36.307Z"
     },
     {
      "end_time": "2019-03-19T17:14:45.874Z",
      "execution_time": "1.26s",
      "outputs": [
       {
        "name": "stdout",
        "output_type": "stream",
        "text": "Username: as\nPassword: ········\n"
       },
       {
        "data": {
         "text/html": "<h3>SEEK FORM</h3>",
         "text/plain": "<IPython.core.display.HTML object>"
        },
        "metadata": {},
        "output_type": "display_data",
        "transient": {}
       },
       {
        "data": {
         "application/vnd.jupyter.widget-view+json": {
          "model_id": "",
          "version_major": 2,
          "version_minor": 0
         },
         "text/plain": "HBox(children=(Label(value='What is it that you want to post?'), Dropdown(options=('assays', 'data_files', 'st…"
        },
        "metadata": {},
        "output_type": "display_data",
        "transient": {}
       }
      ],
      "source": "import WriteObject as wo\n\nWO = wo.WriteObject()\n\nWO.SEEKForm()",
      "start_time": "2019-03-19T17:14:44.617Z"
     },
     {
      "end_time": "2019-03-19T17:16:18.091Z",
      "execution_time": "2.00s",
      "outputs": [
       {
        "name": "stdout",
        "output_type": "stream",
        "text": "Username: asd\nPassword: ········\n"
       },
       {
        "data": {
         "text/html": "<h3>SEEK FORM</h3>",
         "text/plain": "<IPython.core.display.HTML object>"
        },
        "metadata": {},
        "output_type": "display_data",
        "transient": {}
       },
       {
        "data": {
         "application/vnd.jupyter.widget-view+json": {
          "model_id": "",
          "version_major": 2,
          "version_minor": 0
         },
         "text/plain": "HBox(children=(Label(value='What is it that you want to post?'), Dropdown(options=('assays', 'data_files', 'st…"
        },
        "metadata": {},
        "output_type": "display_data",
        "transient": {}
       }
      ],
      "source": "import WriteObject as wo\n\nWO = wo.WriteObject()\n\nWO.SEEKForm()",
      "start_time": "2019-03-19T17:16:16.086Z"
     },
     {
      "end_time": "2019-03-19T17:19:15.368Z",
      "execution_time": "1.60s",
      "outputs": [
       {
        "name": "stdout",
        "output_type": "stream",
        "text": "Username: as\nPassword: ········\n"
       },
       {
        "data": {
         "text/html": "<h3>SEEK FORM</h3>",
         "text/plain": "<IPython.core.display.HTML object>"
        },
        "metadata": {},
        "output_type": "display_data",
        "transient": {}
       },
       {
        "name": "stdout",
        "output_type": "stream",
        "text": "\nYou need to complete the following form in order to succesfully upload your information to SEEK\n"
       },
       {
        "data": {
         "application/vnd.jupyter.widget-view+json": {
          "model_id": "",
          "version_major": 2,
          "version_minor": 0
         },
         "text/plain": "HBox(children=(Label(value='What is it that you want to post?'), Dropdown(options=('assays', 'data_files', 'st…"
        },
        "metadata": {},
        "output_type": "display_data",
        "transient": {}
       }
      ],
      "source": "import WriteObject as wo\n\nWO = wo.WriteObject()\n\nWO.selectResearchType()",
      "start_time": "2019-03-19T17:19:13.763Z"
     },
     {
      "end_time": "2019-03-19T17:24:49.468Z",
      "execution_time": "1.86s",
      "outputs": [
       {
        "name": "stdout",
        "output_type": "stream",
        "text": "Username: asd\nPassword: ········\n"
       },
       {
        "data": {
         "text/html": "<h3>SEEK FORM</h3>",
         "text/plain": "<IPython.core.display.HTML object>"
        },
        "metadata": {},
        "output_type": "display_data",
        "transient": {}
       }
      ],
      "source": "import WriteObject as wo\n\nWO = wo.WriteObject()\n\nWO.selectResearchType()",
      "start_time": "2019-03-19T17:24:47.606Z"
     },
     {
      "end_time": "2019-03-19T17:33:05.205Z",
      "execution_time": "1.35s",
      "outputs": [
       {
        "name": "stdout",
        "output_type": "stream",
        "text": "Username: asd\nPassword: ········\n"
       },
       {
        "data": {
         "text/html": "<h3>SEEK FORM</h3>",
         "text/plain": "<IPython.core.display.HTML object>"
        },
        "metadata": {},
        "output_type": "display_data",
        "transient": {}
       },
       {
        "name": "stdout",
        "output_type": "stream",
        "text": "\nYou need to complete the following form in order to succesfully upload your information to SEEK\n"
       }
      ],
      "source": "import WriteObject as wo\n\nWO = wo.WriteObject()\n\nWO.selectResearchType()\nWO.fillDescription()",
      "start_time": "2019-03-19T17:33:03.850Z"
     },
     {
      "end_time": "2019-03-19T17:33:11.406Z",
      "execution_time": "1.32s",
      "outputs": [
       {
        "name": "stdout",
        "output_type": "stream",
        "text": "Username: asd\nPassword: ········\n"
       },
       {
        "data": {
         "text/html": "<h3>SEEK FORM</h3>",
         "text/plain": "<IPython.core.display.HTML object>"
        },
        "metadata": {},
        "output_type": "display_data",
        "transient": {}
       },
       {
        "name": "stdout",
        "output_type": "stream",
        "text": "\nYou need to complete the following form in order to succesfully upload your information to SEEK\n"
       },
       {
        "data": {
         "application/vnd.jupyter.widget-view+json": {
          "model_id": "",
          "version_major": 2,
          "version_minor": 0
         },
         "text/plain": "HBox(children=(Label(value='What is it that you want to post?'), Dropdown(options=('assays', 'data_files', 'st…"
        },
        "metadata": {},
        "output_type": "display_data",
        "transient": {}
       }
      ],
      "source": "import WriteObject as wo\n\nWO = wo.WriteObject()\n\nWO.selectResearchType()\n# WO.fillDescription()",
      "start_time": "2019-03-19T17:33:10.084Z"
     },
     {
      "end_time": "2019-03-19T17:34:53.399Z",
      "execution_time": "1.29s",
      "outputs": [
       {
        "name": "stdout",
        "output_type": "stream",
        "text": "Username: asd\nPassword: ········\n"
       },
       {
        "data": {
         "text/html": "<h3>SEEK FORM</h3>",
         "text/plain": "<IPython.core.display.HTML object>"
        },
        "metadata": {},
        "output_type": "display_data",
        "transient": {}
       },
       {
        "name": "stdout",
        "output_type": "stream",
        "text": "\nYou need to complete the following form in order to succesfully upload your information to SEEK\n"
       },
       {
        "data": {
         "application/vnd.jupyter.widget-view+json": {
          "model_id": "",
          "version_major": 2,
          "version_minor": 0
         },
         "text/plain": "HBox(children=(Label(value='Please provide your description'), Textarea(value='')))"
        },
        "metadata": {},
        "output_type": "display_data",
        "transient": {}
       }
      ],
      "source": "import WriteObject as wo\n\nWO = wo.WriteObject()\n\nWO.selectResearchType()\nWO.fillDescription()",
      "start_time": "2019-03-19T17:34:52.104Z"
     },
     {
      "end_time": "2019-03-19T17:34:58.528Z",
      "execution_time": "1.08s",
      "outputs": [
       {
        "name": "stdout",
        "output_type": "stream",
        "text": "Username: asd\nPassword: ········\n"
       },
       {
        "data": {
         "text/html": "<h3>SEEK FORM</h3>",
         "text/plain": "<IPython.core.display.HTML object>"
        },
        "metadata": {},
        "output_type": "display_data",
        "transient": {}
       },
       {
        "name": "stdout",
        "output_type": "stream",
        "text": "\nYou need to complete the following form in order to succesfully upload your information to SEEK\n"
       },
       {
        "data": {
         "application/vnd.jupyter.widget-view+json": {
          "model_id": "",
          "version_major": 2,
          "version_minor": 0
         },
         "text/plain": "HBox(children=(Label(value='What is it that you want to post?'), Dropdown(options=('assays', 'data_files', 'st…"
        },
        "metadata": {},
        "output_type": "display_data",
        "transient": {}
       }
      ],
      "source": "import WriteObject as wo\n\nWO = wo.WriteObject()\n\nWO.selectResearchType()\n# WO.fillDescription()",
      "start_time": "2019-03-19T17:34:57.448Z"
     },
     {
      "end_time": "2019-03-19T17:39:40.887Z",
      "execution_time": "1.48s",
      "outputs": [
       {
        "name": "stdout",
        "output_type": "stream",
        "text": "Username: asd\nPassword: ········\n"
       },
       {
        "data": {
         "text/html": "<h3>SEEK FORM</h3>",
         "text/plain": "<IPython.core.display.HTML object>"
        },
        "metadata": {},
        "output_type": "display_data",
        "transient": {}
       },
       {
        "name": "stdout",
        "output_type": "stream",
        "text": "\nYou need to complete the following form in order to succesfully upload your information to SEEK\n"
       },
       {
        "data": {
         "application/vnd.jupyter.widget-view+json": {
          "model_id": "",
          "version_major": 2,
          "version_minor": 0
         },
         "text/plain": "HBox(children=(Label(value='What is it that you want to post?'), Dropdown(options=('assays', 'data_files', 'st…"
        },
        "metadata": {},
        "output_type": "display_data",
        "transient": {}
       }
      ],
      "source": "import WriteObject as wo\n\nWO = wo.WriteObject()\n\nWO.selectResearchType()",
      "start_time": "2019-03-19T17:39:39.412Z"
     },
     {
      "end_time": "2019-03-19T17:40:05.483Z",
      "execution_time": "1.40s",
      "outputs": [
       {
        "name": "stdout",
        "output_type": "stream",
        "text": "Username: asd\nPassword: ········\n"
       },
       {
        "data": {
         "text/html": "<h3>SEEK FORM</h3>",
         "text/plain": "<IPython.core.display.HTML object>"
        },
        "metadata": {},
        "output_type": "display_data",
        "transient": {}
       },
       {
        "name": "stdout",
        "output_type": "stream",
        "text": "\nYou need to complete the following form in order to succesfully upload your information to SEEK\n"
       },
       {
        "data": {
         "application/vnd.jupyter.widget-view+json": {
          "model_id": "",
          "version_major": 2,
          "version_minor": 0
         },
         "text/plain": "HBox(children=(Label(value='What is it that you want to post?'), Dropdown(options=('assays', 'data_files', 'st…"
        },
        "metadata": {},
        "output_type": "display_data",
        "transient": {}
       }
      ],
      "source": "import WriteObject as wo\n\nWO = wo.WriteObject()\n\nWO.selectResearchType()",
      "start_time": "2019-03-19T17:40:04.083Z"
     },
     {
      "end_time": "2019-03-19T17:40:25.216Z",
      "execution_time": "1.80s",
      "outputs": [
       {
        "name": "stdout",
        "output_type": "stream",
        "text": "Username: asd\nPassword: ········\n"
       },
       {
        "data": {
         "text/html": "<h3>SEEK FORM</h3>",
         "text/plain": "<IPython.core.display.HTML object>"
        },
        "metadata": {},
        "output_type": "display_data",
        "transient": {}
       },
       {
        "name": "stdout",
        "output_type": "stream",
        "text": "\nYou need to complete the following form in order to succesfully upload your information to SEEK\n"
       },
       {
        "data": {
         "application/vnd.jupyter.widget-view+json": {
          "model_id": "",
          "version_major": 2,
          "version_minor": 0
         },
         "text/plain": "HBox(children=(Label(value='What is it that you want to post?'), Dropdown(options=('assays', 'data_files', 'st…"
        },
        "metadata": {},
        "output_type": "display_data",
        "transient": {}
       }
      ],
      "source": "import WriteObject as wo\n\nWO = wo.WriteObject()\n\nWO.selectResearchType()",
      "start_time": "2019-03-19T17:40:23.415Z"
     },
     {
      "end_time": "2019-03-19T17:41:13.596Z",
      "execution_time": "2.14s",
      "outputs": [
       {
        "name": "stdout",
        "output_type": "stream",
        "text": "Username: asd\nPassword: ········\n"
       },
       {
        "data": {
         "text/html": "<h3>SEEK FORM</h3>",
         "text/plain": "<IPython.core.display.HTML object>"
        },
        "metadata": {},
        "output_type": "display_data",
        "transient": {}
       },
       {
        "name": "stdout",
        "output_type": "stream",
        "text": "\nYou need to complete the following form in order to succesfully upload your information to SEEK\n"
       },
       {
        "data": {
         "application/vnd.jupyter.widget-view+json": {
          "model_id": "",
          "version_major": 2,
          "version_minor": 0
         },
         "text/plain": "HBox(children=(Label(value='What is it that you want to post?'), Dropdown(options=('assays', 'data_files', 'st…"
        },
        "metadata": {},
        "output_type": "display_data",
        "transient": {}
       }
      ],
      "source": "import WriteObject as wo\n\nWO = wo.WriteObject()\n\nWO.selectResearchType()",
      "start_time": "2019-03-19T17:41:11.457Z"
     },
     {
      "end_time": "2019-03-19T17:57:13.823Z",
      "execution_time": "2.76s",
      "outputs": [
       {
        "name": "stdout",
        "output_type": "stream",
        "text": "Username: asd\nPassword: ········\n"
       },
       {
        "data": {
         "text/html": "<h3>SEEK FORM</h3>",
         "text/plain": "<IPython.core.display.HTML object>"
        },
        "metadata": {},
        "output_type": "display_data",
        "transient": {}
       },
       {
        "name": "stdout",
        "output_type": "stream",
        "text": "\nYou need to complete the following form in order to succesfully upload your information to SEEK\n"
       },
       {
        "data": {
         "application/vnd.jupyter.widget-view+json": {
          "model_id": "",
          "version_major": 2,
          "version_minor": 0
         },
         "text/plain": "HBox(children=(Label(value='What is it that you want to post?'), Dropdown(options=('assays', 'data_files', 'st…"
        },
        "metadata": {},
        "output_type": "display_data",
        "transient": {}
       }
      ],
      "source": "import WriteObject as wo\n\nWO = wo.WriteObject()\n\nWO.selectResearchType()",
      "start_time": "2019-03-19T17:57:11.067Z"
     },
     {
      "end_time": "2019-03-19T18:02:42.119Z",
      "execution_time": "1.32s",
      "outputs": [
       {
        "name": "stdout",
        "output_type": "stream",
        "text": "Username: asd\nPassword: ········\n"
       },
       {
        "data": {
         "text/html": "<h3>SEEK FORM</h3>",
         "text/plain": "<IPython.core.display.HTML object>"
        },
        "metadata": {},
        "output_type": "display_data",
        "transient": {}
       },
       {
        "name": "stdout",
        "output_type": "stream",
        "text": "\nYou need to complete the following form in order to succesfully upload your information to SEEK\n"
       },
       {
        "data": {
         "application/vnd.jupyter.widget-view+json": {
          "model_id": "",
          "version_major": 2,
          "version_minor": 0
         },
         "text/plain": "HBox(children=(Label(value='What is it that you want to post?'), Dropdown(options=('assays', 'data_files', 'st…"
        },
        "metadata": {},
        "output_type": "display_data",
        "transient": {}
       }
      ],
      "source": "import WriteObject as wo\n\nWO = wo.WriteObject()\n\nWO.selectResearchType()",
      "start_time": "2019-03-19T18:02:40.798Z"
     },
     {
      "end_time": "2019-03-19T18:02:54.767Z",
      "execution_time": "22ms",
      "outputs": [
       {
        "ename": "SyntaxError",
        "evalue": "EOL while scanning string literal (WriteObject.py, line 94)",
        "output_type": "error",
        "traceback": [
         "Traceback \u001b[0;36m(most recent call last)\u001b[0m:\n",
         "  File \u001b[1;32m\"/home/bogdan/anaconda3/lib/python3.6/site-packages/IPython/core/interactiveshell.py\"\u001b[0m, line \u001b[1;32m2963\u001b[0m, in \u001b[1;35mrun_code\u001b[0m\n    exec(code_obj, self.user_global_ns, self.user_ns)\n",
         "\u001b[0;36m  File \u001b[0;32m\"<ipython-input-1-37dcdf329261>\"\u001b[0;36m, line \u001b[0;32m1\u001b[0;36m, in \u001b[0;35m<module>\u001b[0;36m\u001b[0m\n\u001b[0;31m    import WriteObject as wo\u001b[0m\n",
         "\u001b[0;36m  File \u001b[0;32m\"/home/bogdan/Work/ThirdYear/Seek/TheSeekNotebook/WriteObject.py\"\u001b[0;36m, line \u001b[0;32m94\u001b[0m\n\u001b[0;31m    value=\"Please select the class of Assay you wish to create:),\u001b[0m\n\u001b[0m                                                                  ^\u001b[0m\n\u001b[0;31mSyntaxError\u001b[0m\u001b[0;31m:\u001b[0m EOL while scanning string literal\n"
        ]
       }
      ],
      "source": "import WriteObject as wo\n\nWO = wo.WriteObject()\n\nWO.selectResearchType()",
      "start_time": "2019-03-19T18:02:54.745Z"
     },
     {
      "end_time": "2019-03-19T18:03:19.493Z",
      "execution_time": "1.58s",
      "outputs": [
       {
        "name": "stdout",
        "output_type": "stream",
        "text": "Username: asd\nPassword: ········\n"
       },
       {
        "data": {
         "text/html": "<h3>SEEK FORM</h3>",
         "text/plain": "<IPython.core.display.HTML object>"
        },
        "metadata": {},
        "output_type": "display_data",
        "transient": {}
       },
       {
        "name": "stdout",
        "output_type": "stream",
        "text": "\nYou need to complete the following form in order to succesfully upload your information to SEEK\n"
       },
       {
        "data": {
         "application/vnd.jupyter.widget-view+json": {
          "model_id": "",
          "version_major": 2,
          "version_minor": 0
         },
         "text/plain": "HBox(children=(Label(value='What is it that you want to post?'), Dropdown(options=('assays', 'data_files', 'st…"
        },
        "metadata": {},
        "output_type": "display_data",
        "transient": {}
       }
      ],
      "source": "import WriteObject as wo\n\nWO = wo.WriteObject()\n\nWO.selectResearchType()",
      "start_time": "2019-03-19T18:03:17.914Z"
     },
     {
      "end_time": "2019-03-19T18:08:41.440Z",
      "execution_time": "1.43s",
      "outputs": [
       {
        "name": "stdout",
        "output_type": "stream",
        "text": "Username: asd\nPassword: ········\n"
       },
       {
        "data": {
         "text/html": "<h3>SEEK FORM</h3>",
         "text/plain": "<IPython.core.display.HTML object>"
        },
        "metadata": {},
        "output_type": "display_data",
        "transient": {}
       },
       {
        "name": "stdout",
        "output_type": "stream",
        "text": "\nYou need to complete the following form in order to succesfully upload your information to SEEK\n"
       },
       {
        "data": {
         "application/vnd.jupyter.widget-view+json": {
          "model_id": "",
          "version_major": 2,
          "version_minor": 0
         },
         "text/plain": "HBox(children=(Label(value='What is it that you want to post?'), Dropdown(options=('assays', 'data_files', 'st…"
        },
        "metadata": {},
        "output_type": "display_data",
        "transient": {}
       }
      ],
      "source": "import WriteObject as wo\n\nWO = wo.WriteObject()\n\nWO.selectResearchType()",
      "start_time": "2019-03-19T18:08:40.008Z"
     },
     {
      "end_time": "2019-03-19T18:10:08.511Z",
      "execution_time": "1.27s",
      "outputs": [
       {
        "name": "stdout",
        "output_type": "stream",
        "text": "Username: asd\nPassword: ········\n"
       },
       {
        "data": {
         "text/html": "<h3>SEEK FORM</h3>",
         "text/plain": "<IPython.core.display.HTML object>"
        },
        "metadata": {},
        "output_type": "display_data",
        "transient": {}
       },
       {
        "name": "stdout",
        "output_type": "stream",
        "text": "\nYou need to complete the following form in order to succesfully upload your information to SEEK\n"
       },
       {
        "data": {
         "application/vnd.jupyter.widget-view+json": {
          "model_id": "",
          "version_major": 2,
          "version_minor": 0
         },
         "text/plain": "HBox(children=(Label(value='What is it that you want to post?'), Dropdown(options=('assays', 'data_files', 'st…"
        },
        "metadata": {},
        "output_type": "display_data",
        "transient": {}
       }
      ],
      "source": "import WriteObject as wo\n\nWO = wo.WriteObject()\n\nWO.selectResearchType()",
      "start_time": "2019-03-19T18:10:07.238Z"
     },
     {
      "end_time": "2019-03-19T18:11:49.100Z",
      "execution_time": "1.19s",
      "outputs": [
       {
        "name": "stdout",
        "output_type": "stream",
        "text": "Username: asda\nPassword: ········\n"
       },
       {
        "data": {
         "text/html": "<h3>SEEK FORM</h3>",
         "text/plain": "<IPython.core.display.HTML object>"
        },
        "metadata": {},
        "output_type": "display_data",
        "transient": {}
       },
       {
        "name": "stdout",
        "output_type": "stream",
        "text": "\nYou need to complete the following form in order to succesfully upload your information to SEEK\n"
       },
       {
        "data": {
         "application/vnd.jupyter.widget-view+json": {
          "model_id": "",
          "version_major": 2,
          "version_minor": 0
         },
         "text/plain": "HBox(children=(Label(value='What is it that you want to post?'), Dropdown(options=('assays', 'data_files', 'st…"
        },
        "metadata": {},
        "output_type": "display_data",
        "transient": {}
       }
      ],
      "source": "import WriteObject as wo\n\nWO = wo.WriteObject()\n\nWO.selectResearchType()",
      "start_time": "2019-03-19T18:11:47.908Z"
     },
     {
      "end_time": "2019-03-19T18:17:28.518Z",
      "execution_time": "1.74s",
      "outputs": [
       {
        "name": "stdout",
        "output_type": "stream",
        "text": "Username: sad\nPassword: ········\n"
       },
       {
        "data": {
         "text/html": "<h3>SEEK FORM</h3>",
         "text/plain": "<IPython.core.display.HTML object>"
        },
        "metadata": {},
        "output_type": "display_data",
        "transient": {}
       },
       {
        "name": "stdout",
        "output_type": "stream",
        "text": "\nYou need to complete the following form in order to succesfully upload your information to SEEK\n"
       },
       {
        "data": {
         "application/vnd.jupyter.widget-view+json": {
          "model_id": "",
          "version_major": 2,
          "version_minor": 0
         },
         "text/plain": "HBox(children=(Label(value='What is it that you want to post?'), Dropdown(options=('assays', 'data_files', 'st…"
        },
        "metadata": {},
        "output_type": "display_data",
        "transient": {}
       }
      ],
      "source": "import WriteObject as wo\n\nWO = wo.WriteObject()\n\nWO.selectResearchType()",
      "start_time": "2019-03-19T18:17:26.780Z"
     },
     {
      "end_time": "2019-03-19T19:54:10.326Z",
      "execution_time": "3.29s",
      "outputs": [
       {
        "name": "stdout",
        "output_type": "stream",
        "text": "Username: as\nPassword: ········\n"
       },
       {
        "data": {
         "text/html": "<h3>SEEK FORM</h3>",
         "text/plain": "<IPython.core.display.HTML object>"
        },
        "metadata": {},
        "output_type": "display_data",
        "transient": {}
       },
       {
        "name": "stdout",
        "output_type": "stream",
        "text": "\nYou need to complete the following form in order to succesfully upload your information to SEEK\n"
       },
       {
        "data": {
         "application/vnd.jupyter.widget-view+json": {
          "model_id": "",
          "version_major": 2,
          "version_minor": 0
         },
         "text/plain": "HBox(children=(Label(value='What is it that you want to post?'), Dropdown(options=('assays', 'data_files', 'st…"
        },
        "metadata": {},
        "output_type": "display_data",
        "transient": {}
       }
      ],
      "source": "import WriteObject as wo\n\nWO = wo.WriteObject()\n\nWO.selectResearchType()",
      "start_time": "2019-03-19T19:54:07.034Z"
     },
     {
      "end_time": "2019-03-19T19:58:16.277Z",
      "execution_time": "6.81s",
      "outputs": [
       {
        "name": "stdout",
        "output_type": "stream",
        "text": "Username: bogdan23a\nPassword: ········\n"
       },
       {
        "data": {
         "text/html": "<h3>SEEK FORM</h3>",
         "text/plain": "<IPython.core.display.HTML object>"
        },
        "metadata": {},
        "output_type": "display_data",
        "transient": {}
       },
       {
        "name": "stdout",
        "output_type": "stream",
        "text": "\nYou need to complete the following form in order to succesfully upload your information to SEEK\n"
       },
       {
        "data": {
         "application/vnd.jupyter.widget-view+json": {
          "model_id": "",
          "version_major": 2,
          "version_minor": 0
         },
         "text/plain": "HBox(children=(Label(value='What is it that you want to post?'), Dropdown(options=('assays', 'data_files', 'st…"
        },
        "metadata": {},
        "output_type": "display_data",
        "transient": {}
       }
      ],
      "source": "import WriteObject as wo\n\nWO = wo.WriteObject()\n\nWO.selectResearchType()",
      "start_time": "2019-03-19T19:58:09.471Z"
     },
     {
      "end_time": "2019-03-19T20:00:00.060Z",
      "execution_time": "5.19s",
      "outputs": [
       {
        "name": "stdout",
        "output_type": "stream",
        "text": "Username: bogdan23a\nPassword: ········\n"
       },
       {
        "data": {
         "text/html": "<h3>SEEK FORM</h3>",
         "text/plain": "<IPython.core.display.HTML object>"
        },
        "metadata": {},
        "output_type": "display_data",
        "transient": {}
       },
       {
        "name": "stdout",
        "output_type": "stream",
        "text": "\nYou need to complete the following form in order to succesfully upload your information to SEEK\n"
       },
       {
        "data": {
         "application/vnd.jupyter.widget-view+json": {
          "model_id": "",
          "version_major": 2,
          "version_minor": 0
         },
         "text/plain": "HBox(children=(Label(value='What is it that you want to post?'), Dropdown(options=('assays', 'data_files', 'st…"
        },
        "metadata": {},
        "output_type": "display_data",
        "transient": {}
       }
      ],
      "source": "import WriteObject as wo\n\nWO = wo.WriteObject()\n\nWO.selectResearchType()",
      "start_time": "2019-03-19T19:59:54.870Z"
     },
     {
      "end_time": "2019-03-19T20:11:30.708Z",
      "execution_time": "5.10s",
      "outputs": [
       {
        "name": "stdout",
        "output_type": "stream",
        "text": "Username: bogdan23a\nPassword: ········\n"
       },
       {
        "data": {
         "text/html": "<h3>SEEK FORM</h3>",
         "text/plain": "<IPython.core.display.HTML object>"
        },
        "metadata": {},
        "output_type": "display_data",
        "transient": {}
       },
       {
        "name": "stdout",
        "output_type": "stream",
        "text": "\nYou need to complete the following form in order to succesfully upload your information to SEEK\n"
       },
       {
        "data": {
         "application/vnd.jupyter.widget-view+json": {
          "model_id": "",
          "version_major": 2,
          "version_minor": 0
         },
         "text/plain": "HBox(children=(Label(value='What is it that you want to post?'), Dropdown(options=('assays', 'data_files', 'st…"
        },
        "metadata": {},
        "output_type": "display_data",
        "transient": {}
       }
      ],
      "source": "import WriteObject as wo\n\nWO = wo.WriteObject()\n\nWO.selectResearchType()",
      "start_time": "2019-03-19T20:11:25.605Z"
     },
     {
      "end_time": "2019-03-19T20:19:23.367Z",
      "execution_time": "9.96s",
      "outputs": [
       {
        "name": "stdout",
        "output_type": "stream",
        "text": "Username: bogdan23a\nPassword: ········\n"
       },
       {
        "data": {
         "text/html": "<h3>SEEK FORM</h3>",
         "text/plain": "<IPython.core.display.HTML object>"
        },
        "metadata": {},
        "output_type": "display_data",
        "transient": {}
       },
       {
        "name": "stdout",
        "output_type": "stream",
        "text": "\nYou need to complete the following form in order to succesfully upload your information to SEEK\n"
       },
       {
        "data": {
         "application/vnd.jupyter.widget-view+json": {
          "model_id": "",
          "version_major": 2,
          "version_minor": 0
         },
         "text/plain": "HBox(children=(Label(value='What is it that you want to post?'), Dropdown(options=('assays', 'data_files', 'st…"
        },
        "metadata": {},
        "output_type": "display_data",
        "transient": {}
       }
      ],
      "source": "import WriteObject as wo\n\nWO = wo.WriteObject()\n\nWO.selectResearchType()",
      "start_time": "2019-03-19T20:19:13.406Z"
     },
     {
      "end_time": "2019-03-19T20:58:26.508Z",
      "execution_time": "6.14s",
      "outputs": [
       {
        "name": "stdout",
        "output_type": "stream",
        "text": "Username: bogdan23a\nPassword: ········\n"
       },
       {
        "data": {
         "text/html": "<h3>SEEK FORM</h3>",
         "text/plain": "<IPython.core.display.HTML object>"
        },
        "metadata": {},
        "output_type": "display_data",
        "transient": {}
       },
       {
        "name": "stdout",
        "output_type": "stream",
        "text": "\nYou need to complete the following form in order to succesfully upload your information to SEEK\n"
       },
       {
        "data": {
         "application/vnd.jupyter.widget-view+json": {
          "model_id": "",
          "version_major": 2,
          "version_minor": 0
         },
         "text/plain": "HBox(children=(Label(value='What is it that you want to post?'), Dropdown(options=('assays', 'data_files', 'st…"
        },
        "metadata": {},
        "output_type": "display_data",
        "transient": {}
       }
      ],
      "source": "import WriteObject as wo\n\nWO = wo.WriteObject()\n\nWO.selectResearchType()",
      "start_time": "2019-03-19T20:58:20.370Z"
     },
     {
      "end_time": "2019-03-19T20:59:35.402Z",
      "execution_time": "6.16s",
      "outputs": [
       {
        "name": "stdout",
        "output_type": "stream",
        "text": "Username: bogdan23a\nPassword: ········\n"
       },
       {
        "data": {
         "text/html": "<h3>SEEK FORM</h3>",
         "text/plain": "<IPython.core.display.HTML object>"
        },
        "metadata": {},
        "output_type": "display_data",
        "transient": {}
       },
       {
        "name": "stdout",
        "output_type": "stream",
        "text": "\nYou need to complete the following form in order to succesfully upload your information to SEEK\n"
       },
       {
        "data": {
         "application/vnd.jupyter.widget-view+json": {
          "model_id": "",
          "version_major": 2,
          "version_minor": 0
         },
         "text/plain": "HBox(children=(Label(value='What is it that you want to post?'), Dropdown(options=('assays', 'data_files', 'st…"
        },
        "metadata": {},
        "output_type": "display_data",
        "transient": {}
       }
      ],
      "source": "import WriteObject as wo\n\nWO = wo.WriteObject()\n\nWO.selectResearchType()",
      "start_time": "2019-03-19T20:59:29.242Z"
     },
     {
      "end_time": "2019-03-19T21:00:09.002Z",
      "execution_time": "8.96s",
      "outputs": [
       {
        "name": "stdout",
        "output_type": "stream",
        "text": "Username: bogdan23a\nPassword: ········\n"
       },
       {
        "data": {
         "text/html": "<h3>SEEK FORM</h3>",
         "text/plain": "<IPython.core.display.HTML object>"
        },
        "metadata": {},
        "output_type": "display_data",
        "transient": {}
       },
       {
        "name": "stdout",
        "output_type": "stream",
        "text": "\nYou need to complete the following form in order to succesfully upload your information to SEEK\n"
       },
       {
        "data": {
         "application/vnd.jupyter.widget-view+json": {
          "model_id": "",
          "version_major": 2,
          "version_minor": 0
         },
         "text/plain": "HBox(children=(Label(value='What is it that you want to post?'), Dropdown(options=('assays', 'data_files', 'st…"
        },
        "metadata": {},
        "output_type": "display_data",
        "transient": {}
       }
      ],
      "source": "import WriteObject as wo\n\nWO = wo.WriteObject()\n\nWO.selectResearchType()",
      "start_time": "2019-03-19T21:00:00.045Z"
     },
     {
      "end_time": "2019-03-19T21:27:22.708Z",
      "execution_time": "6.12s",
      "outputs": [
       {
        "name": "stdout",
        "output_type": "stream",
        "text": "Username: bogdan23a\nPassword: ········\n"
       },
       {
        "data": {
         "text/html": "<h3>SEEK FORM</h3>",
         "text/plain": "<IPython.core.display.HTML object>"
        },
        "metadata": {},
        "output_type": "display_data",
        "transient": {}
       },
       {
        "name": "stdout",
        "output_type": "stream",
        "text": "\nYou need to complete the following form in order to succesfully upload your information to SEEK\n"
       },
       {
        "data": {
         "application/vnd.jupyter.widget-view+json": {
          "model_id": "5e8b31d296484c83b5e1ccd5313f2229",
          "version_major": 2,
          "version_minor": 0
         },
         "text/plain": "HBox(children=(Label(value='What is it that you want to post?'), Dropdown(options=('assays', 'data_files', 'st…"
        },
        "metadata": {},
        "output_type": "display_data",
        "transient": {}
       }
      ],
      "source": "import WriteObject as wo\n\nWO = wo.WriteObject()\n\nWO.selectResearchType()",
      "start_time": "2019-03-19T21:27:16.592Z"
     },
     {
      "end_time": "2019-03-22T11:43:25.460Z",
      "execution_time": "2.55s",
      "outputs": [
       {
        "name": "stdout",
        "output_type": "stream",
        "text": "Username: asd\nPassword: ········\n"
       },
       {
        "data": {
         "text/html": "<h3>SEEK FORM</h3>",
         "text/plain": "<IPython.core.display.HTML object>"
        },
        "metadata": {},
        "output_type": "display_data",
        "transient": {}
       },
       {
        "name": "stdout",
        "output_type": "stream",
        "text": "\nYou need to complete the following form in order to succesfully upload your information to SEEK\n"
       },
       {
        "data": {
         "application/vnd.jupyter.widget-view+json": {
          "model_id": "",
          "version_major": 2,
          "version_minor": 0
         },
         "text/plain": "HBox(children=(Label(value='What is it that you want to post?'), Dropdown(options=('assays', 'data_files', 'st…"
        },
        "metadata": {},
        "output_type": "display_data",
        "transient": {}
       }
      ],
      "source": "import WriteObject as wo\n\nWO = wo.WriteObject()\n\nWO.selectResearchType()",
      "start_time": "2019-03-22T11:43:22.911Z"
     },
     {
      "end_time": "2019-03-22T11:44:22.768Z",
      "execution_time": "5.76s",
      "outputs": [
       {
        "name": "stdout",
        "output_type": "stream",
        "text": "Username: bogdan23a\nPassword: ········\n"
       },
       {
        "data": {
         "text/html": "<h3>SEEK FORM</h3>",
         "text/plain": "<IPython.core.display.HTML object>"
        },
        "metadata": {},
        "output_type": "display_data",
        "transient": {}
       },
       {
        "name": "stdout",
        "output_type": "stream",
        "text": "\nYou need to complete the following form in order to succesfully upload your information to SEEK\n"
       },
       {
        "data": {
         "application/vnd.jupyter.widget-view+json": {
          "model_id": "8db1f93edd9846bd892fdad73052c470",
          "version_major": 2,
          "version_minor": 0
         },
         "text/plain": "HBox(children=(Label(value='What is it that you want to post?'), Dropdown(options=('assays', 'data_files', 'st…"
        },
        "metadata": {},
        "output_type": "display_data",
        "transient": {}
       }
      ],
      "source": "import WriteObject as wo\n\nWO = wo.WriteObject()\n\nWO.selectResearchType()",
      "start_time": "2019-03-22T11:44:17.008Z"
     },
     {
      "end_time": "2019-03-25T10:19:23.756Z",
      "execution_time": "5.47s",
      "outputs": [
       {
        "name": "stdout",
        "output_type": "stream",
        "text": "Username: bogdan23a\nPassword: ········\n"
       },
       {
        "data": {
         "text/html": "<h3>SEEK FORM</h3>",
         "text/plain": "<IPython.core.display.HTML object>"
        },
        "metadata": {},
        "output_type": "display_data",
        "transient": {}
       },
       {
        "name": "stdout",
        "output_type": "stream",
        "text": "\nYou need to complete the following form in order to succesfully upload your information to SEEK\n"
       },
       {
        "data": {
         "application/vnd.jupyter.widget-view+json": {
          "model_id": "",
          "version_major": 2,
          "version_minor": 0
         },
         "text/plain": "HBox(children=(Label(value='What is it that you want to post?'), Dropdown(options=('assays', 'data_files', 'st…"
        },
        "metadata": {},
        "output_type": "display_data",
        "transient": {}
       }
      ],
      "source": "import WriteObject as wo\n\nWO = wo.WriteObject()\n\nWO.selectResearchType()",
      "start_time": "2019-03-25T10:19:18.286Z"
     },
     {
      "end_time": "2019-03-25T10:25:21.121Z",
      "execution_time": "5.44s",
      "outputs": [
       {
        "name": "stdout",
        "output_type": "stream",
        "text": "Username: bogdan23a\nPassword: ········\n"
       },
       {
        "data": {
         "text/html": "<h3>SEEK FORM</h3>",
         "text/plain": "<IPython.core.display.HTML object>"
        },
        "metadata": {},
        "output_type": "display_data",
        "transient": {}
       },
       {
        "name": "stdout",
        "output_type": "stream",
        "text": "\nYou need to complete the following form in order to succesfully upload your information to SEEK\n"
       },
       {
        "data": {
         "application/vnd.jupyter.widget-view+json": {
          "model_id": "",
          "version_major": 2,
          "version_minor": 0
         },
         "text/plain": "HBox(children=(Label(value='What is it that you want to post?'), Dropdown(options=('assays', 'data_files', 'st…"
        },
        "metadata": {},
        "output_type": "display_data",
        "transient": {}
       }
      ],
      "source": "import WriteObject as wo\n\nWO = wo.WriteObject()\n\nWO.selectResearchType()",
      "start_time": "2019-03-25T10:25:15.684Z"
     },
     {
      "end_time": "2019-03-25T10:29:37.621Z",
      "execution_time": "5.27s",
      "outputs": [
       {
        "name": "stdout",
        "output_type": "stream",
        "text": "Username: bogdan23a\nPassword: ········\n"
       },
       {
        "data": {
         "text/html": "<h3>SEEK FORM</h3>",
         "text/plain": "<IPython.core.display.HTML object>"
        },
        "metadata": {},
        "output_type": "display_data",
        "transient": {}
       },
       {
        "name": "stdout",
        "output_type": "stream",
        "text": "\nYou need to complete the following form in order to succesfully upload your information to SEEK\n"
       },
       {
        "data": {
         "application/vnd.jupyter.widget-view+json": {
          "model_id": "",
          "version_major": 2,
          "version_minor": 0
         },
         "text/plain": "HBox(children=(Label(value='What is it that you want to post?'), Dropdown(options=('assays', 'data_files', 'st…"
        },
        "metadata": {},
        "output_type": "display_data",
        "transient": {}
       }
      ],
      "source": "import WriteObject as wo\n\nWO = wo.WriteObject()\n\nWO.selectResearchType()",
      "start_time": "2019-03-25T10:29:32.351Z"
     },
     {
      "end_time": "2019-03-25T10:33:34.132Z",
      "execution_time": "5.36s",
      "outputs": [
       {
        "name": "stdout",
        "output_type": "stream",
        "text": "Username: bogdan23a\nPassword: ········\n"
       },
       {
        "data": {
         "text/html": "<h3>SEEK FORM</h3>",
         "text/plain": "<IPython.core.display.HTML object>"
        },
        "metadata": {},
        "output_type": "display_data",
        "transient": {}
       },
       {
        "name": "stdout",
        "output_type": "stream",
        "text": "\nYou need to complete the following form in order to succesfully upload your information to SEEK\n"
       },
       {
        "data": {
         "application/vnd.jupyter.widget-view+json": {
          "model_id": "",
          "version_major": 2,
          "version_minor": 0
         },
         "text/plain": "HBox(children=(Label(value='What is it that you want to post?'), Dropdown(options=('assays', 'data_files', 'st…"
        },
        "metadata": {},
        "output_type": "display_data",
        "transient": {}
       }
      ],
      "source": "import WriteObject as wo\n\nWO = wo.WriteObject()\n\nWO.selectResearchType()",
      "start_time": "2019-03-25T10:33:28.769Z"
     },
     {
      "end_time": "2019-03-25T10:34:42.068Z",
      "execution_time": "9.03s",
      "outputs": [
       {
        "name": "stdout",
        "output_type": "stream",
        "text": "Username: bogdan23a\nPassword: ········\n"
       },
       {
        "data": {
         "text/html": "<h3>SEEK FORM</h3>",
         "text/plain": "<IPython.core.display.HTML object>"
        },
        "metadata": {},
        "output_type": "display_data",
        "transient": {}
       },
       {
        "name": "stdout",
        "output_type": "stream",
        "text": "\nYou need to complete the following form in order to succesfully upload your information to SEEK\n"
       },
       {
        "data": {
         "application/vnd.jupyter.widget-view+json": {
          "model_id": "",
          "version_major": 2,
          "version_minor": 0
         },
         "text/plain": "HBox(children=(Label(value='What is it that you want to post?'), Dropdown(options=('assays', 'data_files', 'st…"
        },
        "metadata": {},
        "output_type": "display_data",
        "transient": {}
       }
      ],
      "source": "import WriteObject as wo\n\nWO = wo.WriteObject()\n\nWO.selectResearchType()",
      "start_time": "2019-03-25T10:34:33.036Z"
     },
     {
      "end_time": "2019-03-25T10:39:18.586Z",
      "execution_time": "5.77s",
      "outputs": [
       {
        "name": "stdout",
        "output_type": "stream",
        "text": "Username: bogdan23a\nPassword: ········\n"
       },
       {
        "data": {
         "text/html": "<h3>SEEK FORM</h3>",
         "text/plain": "<IPython.core.display.HTML object>"
        },
        "metadata": {},
        "output_type": "display_data",
        "transient": {}
       },
       {
        "name": "stdout",
        "output_type": "stream",
        "text": "\nYou need to complete the following form in order to succesfully upload your information to SEEK\n"
       },
       {
        "data": {
         "application/vnd.jupyter.widget-view+json": {
          "model_id": "",
          "version_major": 2,
          "version_minor": 0
         },
         "text/plain": "HBox(children=(Label(value='What is it that you want to post?'), Dropdown(options=('assays', 'data_files', 'st…"
        },
        "metadata": {},
        "output_type": "display_data",
        "transient": {}
       }
      ],
      "source": "import WriteObject as wo\n\nWO = wo.WriteObject()\n\nWO.selectResearchType()",
      "start_time": "2019-03-25T10:39:12.815Z"
     },
     {
      "end_time": "2019-03-25T10:40:27.425Z",
      "execution_time": "5.24s",
      "outputs": [
       {
        "name": "stdout",
        "output_type": "stream",
        "text": "Username: bogdan23a\nPassword: ········\n"
       },
       {
        "data": {
         "text/html": "<h3>SEEK FORM</h3>",
         "text/plain": "<IPython.core.display.HTML object>"
        },
        "metadata": {},
        "output_type": "display_data",
        "transient": {}
       },
       {
        "name": "stdout",
        "output_type": "stream",
        "text": "\nYou need to complete the following form in order to succesfully upload your information to SEEK\n"
       },
       {
        "data": {
         "application/vnd.jupyter.widget-view+json": {
          "model_id": "",
          "version_major": 2,
          "version_minor": 0
         },
         "text/plain": "HBox(children=(Label(value='What is it that you want to post?'), Dropdown(options=('assays', 'data_files', 'st…"
        },
        "metadata": {},
        "output_type": "display_data",
        "transient": {}
       }
      ],
      "source": "import WriteObject as wo\n\nWO = wo.WriteObject()\n\nWO.selectResearchType()",
      "start_time": "2019-03-25T10:40:22.190Z"
     },
     {
      "end_time": "2019-03-25T10:41:14.274Z",
      "execution_time": "5.08s",
      "outputs": [
       {
        "name": "stdout",
        "output_type": "stream",
        "text": "Username: bogdan23a\nPassword: ········\n"
       },
       {
        "data": {
         "text/html": "<h3>SEEK FORM</h3>",
         "text/plain": "<IPython.core.display.HTML object>"
        },
        "metadata": {},
        "output_type": "display_data",
        "transient": {}
       },
       {
        "name": "stdout",
        "output_type": "stream",
        "text": "\nYou need to complete the following form in order to succesfully upload your information to SEEK\n"
       },
       {
        "data": {
         "application/vnd.jupyter.widget-view+json": {
          "model_id": "",
          "version_major": 2,
          "version_minor": 0
         },
         "text/plain": "HBox(children=(Label(value='What is it that you want to post?'), Dropdown(options=('assays', 'data_files', 'st…"
        },
        "metadata": {},
        "output_type": "display_data",
        "transient": {}
       }
      ],
      "source": "import WriteObject as wo\n\nWO = wo.WriteObject()\n\nWO.selectResearchType()",
      "start_time": "2019-03-25T10:41:09.192Z"
     },
     {
      "end_time": "2019-03-25T10:43:21.926Z",
      "execution_time": "4.84s",
      "outputs": [
       {
        "name": "stdout",
        "output_type": "stream",
        "text": "Username: bogdan23a\nPassword: ········\n"
       },
       {
        "data": {
         "text/html": "<h3>SEEK FORM</h3>",
         "text/plain": "<IPython.core.display.HTML object>"
        },
        "metadata": {},
        "output_type": "display_data",
        "transient": {}
       },
       {
        "name": "stdout",
        "output_type": "stream",
        "text": "\nYou need to complete the following form in order to succesfully upload your information to SEEK\n"
       },
       {
        "data": {
         "application/vnd.jupyter.widget-view+json": {
          "model_id": "",
          "version_major": 2,
          "version_minor": 0
         },
         "text/plain": "HBox(children=(Label(value='What is it that you want to post?'), Dropdown(options=('assays', 'data_files', 'st…"
        },
        "metadata": {},
        "output_type": "display_data",
        "transient": {}
       }
      ],
      "source": "import WriteObject as wo\n\nWO = wo.WriteObject()\n\nWO.selectResearchType()",
      "start_time": "2019-03-25T10:43:17.090Z"
     },
     {
      "end_time": "2019-03-25T10:44:59.461Z",
      "execution_time": "5.92s",
      "outputs": [
       {
        "name": "stdout",
        "output_type": "stream",
        "text": "Username: bogdan23a\nPassword: ········\n"
       },
       {
        "data": {
         "text/html": "<h3>SEEK FORM</h3>",
         "text/plain": "<IPython.core.display.HTML object>"
        },
        "metadata": {},
        "output_type": "display_data",
        "transient": {}
       },
       {
        "name": "stdout",
        "output_type": "stream",
        "text": "\nYou need to complete the following form in order to succesfully upload your information to SEEK\n"
       },
       {
        "data": {
         "application/vnd.jupyter.widget-view+json": {
          "model_id": "",
          "version_major": 2,
          "version_minor": 0
         },
         "text/plain": "HBox(children=(Label(value='What is it that you want to post?'), Dropdown(options=('assays', 'data_files', 'st…"
        },
        "metadata": {},
        "output_type": "display_data",
        "transient": {}
       }
      ],
      "source": "import WriteObject as wo\n\nWO = wo.WriteObject()\n\nWO.selectResearchType()",
      "start_time": "2019-03-25T10:44:53.540Z"
     },
     {
      "end_time": "2019-03-25T10:45:49.289Z",
      "execution_time": "4.72s",
      "outputs": [
       {
        "name": "stdout",
        "output_type": "stream",
        "text": "Username: bogdan23a\nPassword: ········\n"
       },
       {
        "data": {
         "text/html": "<h3>SEEK FORM</h3>",
         "text/plain": "<IPython.core.display.HTML object>"
        },
        "metadata": {},
        "output_type": "display_data",
        "transient": {}
       },
       {
        "name": "stdout",
        "output_type": "stream",
        "text": "\nYou need to complete the following form in order to succesfully upload your information to SEEK\n"
       },
       {
        "data": {
         "application/vnd.jupyter.widget-view+json": {
          "model_id": "",
          "version_major": 2,
          "version_minor": 0
         },
         "text/plain": "HBox(children=(Label(value='What is it that you want to post?'), Dropdown(options=('assays', 'data_files', 'st…"
        },
        "metadata": {},
        "output_type": "display_data",
        "transient": {}
       }
      ],
      "source": "import WriteObject as wo\n\nWO = wo.WriteObject()\n\nWO.selectResearchType()",
      "start_time": "2019-03-25T10:45:44.566Z"
     },
     {
      "end_time": "2019-03-25T10:46:44.008Z",
      "execution_time": "4.81s",
      "outputs": [
       {
        "name": "stdout",
        "output_type": "stream",
        "text": "Username: bogdan23a\nPassword: ········\n"
       },
       {
        "data": {
         "text/html": "<h3>SEEK FORM</h3>",
         "text/plain": "<IPython.core.display.HTML object>"
        },
        "metadata": {},
        "output_type": "display_data",
        "transient": {}
       },
       {
        "name": "stdout",
        "output_type": "stream",
        "text": "\nYou need to complete the following form in order to succesfully upload your information to SEEK\n"
       },
       {
        "data": {
         "application/vnd.jupyter.widget-view+json": {
          "model_id": "",
          "version_major": 2,
          "version_minor": 0
         },
         "text/plain": "HBox(children=(Label(value='What is it that you want to post?'), Dropdown(options=('assays', 'data_files', 'st…"
        },
        "metadata": {},
        "output_type": "display_data",
        "transient": {}
       }
      ],
      "source": "import WriteObject as wo\n\nWO = wo.WriteObject()\n\nWO.selectResearchType()",
      "start_time": "2019-03-25T10:46:39.200Z"
     },
     {
      "end_time": "2019-03-25T10:52:30.348Z",
      "execution_time": "5.52s",
      "outputs": [
       {
        "name": "stdout",
        "output_type": "stream",
        "text": "Username: bogdan23a\nPassword: ········\n"
       },
       {
        "data": {
         "text/html": "<h3>SEEK FORM</h3>",
         "text/plain": "<IPython.core.display.HTML object>"
        },
        "metadata": {},
        "output_type": "display_data",
        "transient": {}
       },
       {
        "name": "stdout",
        "output_type": "stream",
        "text": "\nYou need to complete the following form in order to succesfully upload your information to SEEK\n"
       },
       {
        "data": {
         "application/vnd.jupyter.widget-view+json": {
          "model_id": "",
          "version_major": 2,
          "version_minor": 0
         },
         "text/plain": "HBox(children=(Label(value='What is it that you want to post?'), Dropdown(options=('assays', 'data_files', 'st…"
        },
        "metadata": {},
        "output_type": "display_data",
        "transient": {}
       }
      ],
      "source": "import WriteObject as wo\n\nWO = wo.WriteObject()\n\nWO.selectResearchType()",
      "start_time": "2019-03-25T10:52:24.824Z"
     },
     {
      "end_time": "2019-03-25T10:53:36.758Z",
      "execution_time": "4.52s",
      "outputs": [
       {
        "name": "stdout",
        "output_type": "stream",
        "text": "Username: bogdan23a\nPassword: ········\n"
       },
       {
        "data": {
         "text/html": "<h3>SEEK FORM</h3>",
         "text/plain": "<IPython.core.display.HTML object>"
        },
        "metadata": {},
        "output_type": "display_data",
        "transient": {}
       },
       {
        "name": "stdout",
        "output_type": "stream",
        "text": "\nYou need to complete the following form in order to succesfully upload your information to SEEK\n"
       },
       {
        "data": {
         "application/vnd.jupyter.widget-view+json": {
          "model_id": "",
          "version_major": 2,
          "version_minor": 0
         },
         "text/plain": "HBox(children=(Label(value='What is it that you want to post?'), Dropdown(options=('assays', 'data_files', 'st…"
        },
        "metadata": {},
        "output_type": "display_data",
        "transient": {}
       }
      ],
      "source": "import WriteObject as wo\n\nWO = wo.WriteObject()\n\nWO.selectResearchType()",
      "start_time": "2019-03-25T10:53:32.241Z"
     },
     {
      "end_time": "2019-03-25T10:53:44.339Z",
      "execution_time": "4.56s",
      "outputs": [
       {
        "name": "stdout",
        "output_type": "stream",
        "text": "Username: bogdan23a\nPassword: ········\n"
       },
       {
        "data": {
         "text/html": "<h3>SEEK FORM</h3>",
         "text/plain": "<IPython.core.display.HTML object>"
        },
        "metadata": {},
        "output_type": "display_data",
        "transient": {}
       },
       {
        "name": "stdout",
        "output_type": "stream",
        "text": "\nYou need to complete the following form in order to succesfully upload your information to SEEK\n"
       },
       {
        "data": {
         "application/vnd.jupyter.widget-view+json": {
          "model_id": "",
          "version_major": 2,
          "version_minor": 0
         },
         "text/plain": "HBox(children=(Label(value='What is it that you want to post?'), Dropdown(options=('assays', 'data_files', 'st…"
        },
        "metadata": {},
        "output_type": "display_data",
        "transient": {}
       }
      ],
      "source": "import WriteObject as wo\n\nWO = wo.WriteObject()\n\nWO.selectResearchType()",
      "start_time": "2019-03-25T10:53:39.781Z"
     },
     {
      "end_time": "2019-03-25T10:58:24.308Z",
      "execution_time": "5.04s",
      "outputs": [
       {
        "name": "stdout",
        "output_type": "stream",
        "text": "Username: bogdan23a\nPassword: ········\n"
       },
       {
        "data": {
         "text/html": "<h3>SEEK FORM</h3>",
         "text/plain": "<IPython.core.display.HTML object>"
        },
        "metadata": {},
        "output_type": "display_data",
        "transient": {}
       },
       {
        "name": "stdout",
        "output_type": "stream",
        "text": "\nYou need to complete the following form in order to succesfully upload your information to SEEK\n"
       },
       {
        "data": {
         "application/vnd.jupyter.widget-view+json": {
          "model_id": "",
          "version_major": 2,
          "version_minor": 0
         },
         "text/plain": "HBox(children=(Label(value='What is it that you want to post?'), Dropdown(options=('assays', 'data_files', 'st…"
        },
        "metadata": {},
        "output_type": "display_data",
        "transient": {}
       }
      ],
      "source": "import WriteObject as wo\n\nWO = wo.WriteObject()\n\nWO.selectResearchType()",
      "start_time": "2019-03-25T10:58:19.265Z"
     },
     {
      "end_time": "2019-03-25T10:59:17.917Z",
      "execution_time": "5.82s",
      "outputs": [
       {
        "name": "stdout",
        "output_type": "stream",
        "text": "Username: bogdan23a\nPassword: ········\n"
       },
       {
        "data": {
         "text/html": "<h3>SEEK FORM</h3>",
         "text/plain": "<IPython.core.display.HTML object>"
        },
        "metadata": {},
        "output_type": "display_data",
        "transient": {}
       },
       {
        "name": "stdout",
        "output_type": "stream",
        "text": "\nYou need to complete the following form in order to succesfully upload your information to SEEK\n"
       },
       {
        "data": {
         "application/vnd.jupyter.widget-view+json": {
          "model_id": "",
          "version_major": 2,
          "version_minor": 0
         },
         "text/plain": "HBox(children=(Label(value='What is it that you want to post?'), Dropdown(options=('assays', 'data_files', 'st…"
        },
        "metadata": {},
        "output_type": "display_data",
        "transient": {}
       }
      ],
      "source": "import WriteObject as wo\n\nWO = wo.WriteObject()\n\nWO.selectResearchType()",
      "start_time": "2019-03-25T10:59:12.100Z"
     },
     {
      "end_time": "2019-03-25T11:01:44.294Z",
      "execution_time": "5.33s",
      "outputs": [
       {
        "name": "stdout",
        "output_type": "stream",
        "text": "Username: bogdan23a\nPassword: ········\n"
       },
       {
        "data": {
         "text/html": "<h3>SEEK FORM</h3>",
         "text/plain": "<IPython.core.display.HTML object>"
        },
        "metadata": {},
        "output_type": "display_data",
        "transient": {}
       },
       {
        "name": "stdout",
        "output_type": "stream",
        "text": "\nYou need to complete the following form in order to succesfully upload your information to SEEK\n"
       },
       {
        "data": {
         "application/vnd.jupyter.widget-view+json": {
          "model_id": "",
          "version_major": 2,
          "version_minor": 0
         },
         "text/plain": "HBox(children=(Label(value='What is it that you want to post?'), Dropdown(options=('assays', 'data_files', 'st…"
        },
        "metadata": {},
        "output_type": "display_data",
        "transient": {}
       }
      ],
      "source": "import WriteObject as wo\n\nWO = wo.WriteObject()\n\nWO.selectResearchType()",
      "start_time": "2019-03-25T11:01:38.965Z"
     },
     {
      "end_time": "2019-03-25T11:04:36.017Z",
      "execution_time": "4.40s",
      "outputs": [
       {
        "name": "stdout",
        "output_type": "stream",
        "text": "Username: bogdan23a\nPassword: ········\n"
       },
       {
        "data": {
         "text/html": "<h3>SEEK FORM</h3>",
         "text/plain": "<IPython.core.display.HTML object>"
        },
        "metadata": {},
        "output_type": "display_data",
        "transient": {}
       },
       {
        "name": "stdout",
        "output_type": "stream",
        "text": "\nYou need to complete the following form in order to succesfully upload your information to SEEK\n"
       },
       {
        "data": {
         "application/vnd.jupyter.widget-view+json": {
          "model_id": "",
          "version_major": 2,
          "version_minor": 0
         },
         "text/plain": "HBox(children=(Label(value='What is it that you want to post?'), Dropdown(options=('assays', 'data_files', 'st…"
        },
        "metadata": {},
        "output_type": "display_data",
        "transient": {}
       }
      ],
      "source": "import WriteObject as wo\n\nWO = wo.WriteObject()\n\nWO.selectResearchType()",
      "start_time": "2019-03-25T11:04:31.614Z"
     },
     {
      "end_time": "2019-03-25T11:08:24.288Z",
      "execution_time": "4.07s",
      "outputs": [
       {
        "name": "stdout",
        "output_type": "stream",
        "text": "Username: bogdan23a\nPassword: ········\n"
       },
       {
        "data": {
         "text/html": "<h3>SEEK FORM</h3>",
         "text/plain": "<IPython.core.display.HTML object>"
        },
        "metadata": {},
        "output_type": "display_data",
        "transient": {}
       },
       {
        "name": "stdout",
        "output_type": "stream",
        "text": "\nYou need to complete the following form in order to succesfully upload your information to SEEK\n"
       },
       {
        "data": {
         "application/vnd.jupyter.widget-view+json": {
          "model_id": "",
          "version_major": 2,
          "version_minor": 0
         },
         "text/plain": "HBox(children=(Label(value='What is it that you want to post?'), Dropdown(options=('assays', 'data_files', 'st…"
        },
        "metadata": {},
        "output_type": "display_data",
        "transient": {}
       }
      ],
      "source": "import WriteObject as wo\n\nWO = wo.WriteObject()\n\nWO.selectResearchType()",
      "start_time": "2019-03-25T11:08:20.219Z"
     },
     {
      "end_time": "2019-03-25T11:09:20.398Z",
      "execution_time": "4.47s",
      "outputs": [
       {
        "name": "stdout",
        "output_type": "stream",
        "text": "Username: bogdan23a\nPassword: ········\n"
       },
       {
        "data": {
         "text/html": "<h3>SEEK FORM</h3>",
         "text/plain": "<IPython.core.display.HTML object>"
        },
        "metadata": {},
        "output_type": "display_data",
        "transient": {}
       },
       {
        "name": "stdout",
        "output_type": "stream",
        "text": "\nYou need to complete the following form in order to succesfully upload your information to SEEK\n"
       },
       {
        "data": {
         "application/vnd.jupyter.widget-view+json": {
          "model_id": "",
          "version_major": 2,
          "version_minor": 0
         },
         "text/plain": "HBox(children=(Label(value='What is it that you want to post?'), Dropdown(options=('assays', 'data_files', 'st…"
        },
        "metadata": {},
        "output_type": "display_data",
        "transient": {}
       }
      ],
      "source": "import WriteObject as wo\n\nWO = wo.WriteObject()\n\nWO.selectResearchType()",
      "start_time": "2019-03-25T11:09:15.925Z"
     },
     {
      "end_time": "2019-03-25T11:13:44.637Z",
      "execution_time": "5.21s",
      "outputs": [
       {
        "name": "stdout",
        "output_type": "stream",
        "text": "Username: bogdan23a\nPassword: ········\n"
       },
       {
        "data": {
         "text/html": "<h3>SEEK FORM</h3>",
         "text/plain": "<IPython.core.display.HTML object>"
        },
        "metadata": {},
        "output_type": "display_data",
        "transient": {}
       },
       {
        "name": "stdout",
        "output_type": "stream",
        "text": "\nYou need to complete the following form in order to succesfully upload your information to SEEK\n"
       },
       {
        "data": {
         "application/vnd.jupyter.widget-view+json": {
          "model_id": "",
          "version_major": 2,
          "version_minor": 0
         },
         "text/plain": "HBox(children=(Label(value='What is it that you want to post?'), Dropdown(options=('assays', 'data_files', 'st…"
        },
        "metadata": {},
        "output_type": "display_data",
        "transient": {}
       }
      ],
      "source": "import WriteObject as wo\n\nWO = wo.WriteObject()\n\nWO.selectResearchType()",
      "start_time": "2019-03-25T11:13:39.425Z"
     },
     {
      "end_time": "2019-03-25T11:23:30.539Z",
      "execution_time": "114ms",
      "outputs": [
       {
        "ename": "SyntaxError",
        "evalue": "invalid syntax (Helper.py, line 50)",
        "output_type": "error",
        "traceback": [
         "Traceback \u001b[0;36m(most recent call last)\u001b[0m:\n",
         "  File \u001b[1;32m\"/home/bogdan/anaconda3/lib/python3.6/site-packages/IPython/core/interactiveshell.py\"\u001b[0m, line \u001b[1;32m2963\u001b[0m, in \u001b[1;35mrun_code\u001b[0m\n    exec(code_obj, self.user_global_ns, self.user_ns)\n",
         "  File \u001b[1;32m\"<ipython-input-1-37dcdf329261>\"\u001b[0m, line \u001b[1;32m1\u001b[0m, in \u001b[1;35m<module>\u001b[0m\n    import WriteObject as wo\n",
         "\u001b[0;36m  File \u001b[0;32m\"/home/bogdan/Work/ThirdYear/TheSeekNotebook/WriteObject.py\"\u001b[0;36m, line \u001b[0;32m4\u001b[0;36m, in \u001b[0;35m<module>\u001b[0;36m\u001b[0m\n\u001b[0;31m    import Helper\u001b[0m\n",
         "\u001b[0;36m  File \u001b[0;32m\"/home/bogdan/Work/ThirdYear/TheSeekNotebook/Helper.py\"\u001b[0;36m, line \u001b[0;32m50\u001b[0m\n\u001b[0;31m    if assayTypeUri not \"\":\u001b[0m\n\u001b[0m                         ^\u001b[0m\n\u001b[0;31mSyntaxError\u001b[0m\u001b[0;31m:\u001b[0m invalid syntax\n"
        ]
       }
      ],
      "source": "import WriteObject as wo\n\nWO = wo.WriteObject()\n\nWO.selectResearchType()",
      "start_time": "2019-03-25T11:23:30.425Z"
     },
     {
      "end_time": "2019-03-25T11:23:41.842Z",
      "execution_time": "13ms",
      "outputs": [
       {
        "ename": "SyntaxError",
        "evalue": "invalid syntax (Helper.py, line 57)",
        "output_type": "error",
        "traceback": [
         "Traceback \u001b[0;36m(most recent call last)\u001b[0m:\n",
         "  File \u001b[1;32m\"/home/bogdan/anaconda3/lib/python3.6/site-packages/IPython/core/interactiveshell.py\"\u001b[0m, line \u001b[1;32m2963\u001b[0m, in \u001b[1;35mrun_code\u001b[0m\n    exec(code_obj, self.user_global_ns, self.user_ns)\n",
         "  File \u001b[1;32m\"<ipython-input-2-37dcdf329261>\"\u001b[0m, line \u001b[1;32m1\u001b[0m, in \u001b[1;35m<module>\u001b[0m\n    import WriteObject as wo\n",
         "\u001b[0;36m  File \u001b[0;32m\"/home/bogdan/Work/ThirdYear/TheSeekNotebook/WriteObject.py\"\u001b[0;36m, line \u001b[0;32m4\u001b[0;36m, in \u001b[0;35m<module>\u001b[0;36m\u001b[0m\n\u001b[0;31m    import Helper\u001b[0m\n",
         "\u001b[0;36m  File \u001b[0;32m\"/home/bogdan/Work/ThirdYear/TheSeekNotebook/Helper.py\"\u001b[0;36m, line \u001b[0;32m57\u001b[0m\n\u001b[0;31m    if techTypeUri not \"\":\u001b[0m\n\u001b[0m                        ^\u001b[0m\n\u001b[0;31mSyntaxError\u001b[0m\u001b[0;31m:\u001b[0m invalid syntax\n"
        ]
       }
      ],
      "source": "import WriteObject as wo\n\nWO = wo.WriteObject()\n\nWO.selectResearchType()",
      "start_time": "2019-03-25T11:23:41.829Z"
     },
     {
      "end_time": "2019-03-25T11:23:47.211Z",
      "execution_time": "106ms",
      "outputs": [
       {
        "ename": "SyntaxError",
        "evalue": "invalid syntax (Helper.py, line 57)",
        "output_type": "error",
        "traceback": [
         "Traceback \u001b[0;36m(most recent call last)\u001b[0m:\n",
         "  File \u001b[1;32m\"/home/bogdan/anaconda3/lib/python3.6/site-packages/IPython/core/interactiveshell.py\"\u001b[0m, line \u001b[1;32m2963\u001b[0m, in \u001b[1;35mrun_code\u001b[0m\n    exec(code_obj, self.user_global_ns, self.user_ns)\n",
         "  File \u001b[1;32m\"<ipython-input-1-37dcdf329261>\"\u001b[0m, line \u001b[1;32m1\u001b[0m, in \u001b[1;35m<module>\u001b[0m\n    import WriteObject as wo\n",
         "\u001b[0;36m  File \u001b[0;32m\"/home/bogdan/Work/ThirdYear/TheSeekNotebook/WriteObject.py\"\u001b[0;36m, line \u001b[0;32m4\u001b[0;36m, in \u001b[0;35m<module>\u001b[0;36m\u001b[0m\n\u001b[0;31m    import Helper\u001b[0m\n",
         "\u001b[0;36m  File \u001b[0;32m\"/home/bogdan/Work/ThirdYear/TheSeekNotebook/Helper.py\"\u001b[0;36m, line \u001b[0;32m57\u001b[0m\n\u001b[0;31m    if techTypeUri not \"\":\u001b[0m\n\u001b[0m                        ^\u001b[0m\n\u001b[0;31mSyntaxError\u001b[0m\u001b[0;31m:\u001b[0m invalid syntax\n"
        ]
       }
      ],
      "source": "import WriteObject as wo\n\nWO = wo.WriteObject()\n\nWO.selectResearchType()",
      "start_time": "2019-03-25T11:23:47.105Z"
     },
     {
      "end_time": "2019-03-25T11:23:58.931Z",
      "execution_time": "4.90s",
      "outputs": [
       {
        "name": "stdout",
        "output_type": "stream",
        "text": "Username: bogdan23a\nPassword: ········\n"
       },
       {
        "data": {
         "text/html": "<h3>SEEK FORM</h3>",
         "text/plain": "<IPython.core.display.HTML object>"
        },
        "metadata": {},
        "output_type": "display_data",
        "transient": {}
       },
       {
        "name": "stdout",
        "output_type": "stream",
        "text": "\nYou need to complete the following form in order to succesfully upload your information to SEEK\n"
       },
       {
        "data": {
         "application/vnd.jupyter.widget-view+json": {
          "model_id": "",
          "version_major": 2,
          "version_minor": 0
         },
         "text/plain": "HBox(children=(Label(value='What is it that you want to post?'), Dropdown(options=('assays', 'data_files', 'st…"
        },
        "metadata": {},
        "output_type": "display_data",
        "transient": {}
       }
      ],
      "source": "import WriteObject as wo\n\nWO = wo.WriteObject()\n\nWO.selectResearchType()",
      "start_time": "2019-03-25T11:23:54.028Z"
     },
     {
      "end_time": "2019-03-25T11:25:13.151Z",
      "execution_time": "1m 19.1s",
      "outputs": [],
      "source": "import WriteObject as wo\n\nWO = wo.WriteObject()\n\nWO.selectResearchType()",
      "start_time": "2019-03-25T11:23:54.028Z"
     },
     {
      "end_time": "2019-03-25T11:25:19.234Z",
      "execution_time": "3.97s",
      "outputs": [
       {
        "name": "stdout",
        "output_type": "stream",
        "text": "Username: bogdan23a\nPassword: ········\n"
       },
       {
        "data": {
         "text/html": "<h3>SEEK FORM</h3>",
         "text/plain": "<IPython.core.display.HTML object>"
        },
        "metadata": {},
        "output_type": "display_data",
        "transient": {}
       },
       {
        "name": "stdout",
        "output_type": "stream",
        "text": "\nYou need to complete the following form in order to succesfully upload your information to SEEK\n"
       },
       {
        "data": {
         "application/vnd.jupyter.widget-view+json": {
          "model_id": "",
          "version_major": 2,
          "version_minor": 0
         },
         "text/plain": "HBox(children=(Label(value='What is it that you want to post?'), Dropdown(options=('assays', 'data_files', 'st…"
        },
        "metadata": {},
        "output_type": "display_data",
        "transient": {}
       }
      ],
      "source": "import WriteObject as wo\n\nWO = wo.WriteObject()\n\nWO.selectResearchType()",
      "start_time": "2019-03-25T11:25:15.261Z"
     },
     {
      "end_time": "2019-03-25T11:26:21.399Z",
      "execution_time": "4.03s",
      "outputs": [
       {
        "name": "stdout",
        "output_type": "stream",
        "text": "Username: bogdan23a\nPassword: ········\n"
       },
       {
        "data": {
         "text/html": "<h3>SEEK FORM</h3>",
         "text/plain": "<IPython.core.display.HTML object>"
        },
        "metadata": {},
        "output_type": "display_data",
        "transient": {}
       },
       {
        "name": "stdout",
        "output_type": "stream",
        "text": "\nYou need to complete the following form in order to succesfully upload your information to SEEK\n"
       },
       {
        "data": {
         "application/vnd.jupyter.widget-view+json": {
          "model_id": "",
          "version_major": 2,
          "version_minor": 0
         },
         "text/plain": "HBox(children=(Label(value='What is it that you want to post?'), Dropdown(options=('assays', 'data_files', 'st…"
        },
        "metadata": {},
        "output_type": "display_data",
        "transient": {}
       }
      ],
      "source": "import WriteObject as wo\n\nWO = wo.WriteObject()\n\nWO.selectResearchType()",
      "start_time": "2019-03-25T11:26:17.372Z"
     },
     {
      "end_time": "2019-03-25T11:28:05.143Z",
      "execution_time": "5.21s",
      "outputs": [
       {
        "name": "stdout",
        "output_type": "stream",
        "text": "Username: bogdan23a\nPassword: ········\n"
       },
       {
        "data": {
         "text/html": "<h3>SEEK FORM</h3>",
         "text/plain": "<IPython.core.display.HTML object>"
        },
        "metadata": {},
        "output_type": "display_data",
        "transient": {}
       },
       {
        "name": "stdout",
        "output_type": "stream",
        "text": "\nYou need to complete the following form in order to succesfully upload your information to SEEK\n"
       },
       {
        "data": {
         "application/vnd.jupyter.widget-view+json": {
          "model_id": "",
          "version_major": 2,
          "version_minor": 0
         },
         "text/plain": "HBox(children=(Label(value='What is it that you want to post?'), Dropdown(options=('assays', 'data_files', 'st…"
        },
        "metadata": {},
        "output_type": "display_data",
        "transient": {}
       }
      ],
      "source": "import WriteObject as wo\n\nWO = wo.WriteObject()\n\nWO.selectResearchType()",
      "start_time": "2019-03-25T11:27:59.934Z"
     },
     {
      "end_time": "2019-03-25T11:31:10.431Z",
      "execution_time": "4.76s",
      "outputs": [
       {
        "name": "stdout",
        "output_type": "stream",
        "text": "Username: bogdan23a\nPassword: ········\n"
       },
       {
        "data": {
         "text/html": "<h3>SEEK FORM</h3>",
         "text/plain": "<IPython.core.display.HTML object>"
        },
        "metadata": {},
        "output_type": "display_data",
        "transient": {}
       },
       {
        "name": "stdout",
        "output_type": "stream",
        "text": "\nYou need to complete the following form in order to succesfully upload your information to SEEK\n"
       },
       {
        "data": {
         "application/vnd.jupyter.widget-view+json": {
          "model_id": "",
          "version_major": 2,
          "version_minor": 0
         },
         "text/plain": "HBox(children=(Label(value='What is it that you want to post?'), Dropdown(options=('assays', 'data_files', 'st…"
        },
        "metadata": {},
        "output_type": "display_data",
        "transient": {}
       }
      ],
      "source": "import WriteObject as wo\n\nWO = wo.WriteObject()\n\nWO.selectResearchType()",
      "start_time": "2019-03-25T11:31:05.666Z"
     },
     {
      "end_time": "2019-03-25T12:14:00.339Z",
      "execution_time": "5.75s",
      "outputs": [
       {
        "name": "stdout",
        "output_type": "stream",
        "text": "Username: bogdan23a\nPassword: ········\n"
       }
      ],
      "source": "import WriteObject as wo\n\nassay = wo.WriteObject()",
      "start_time": "2019-03-25T12:13:54.588Z"
     },
     {
      "end_time": "2019-03-25T12:25:07.571Z",
      "execution_time": "5.11s",
      "outputs": [
       {
        "name": "stdout",
        "output_type": "stream",
        "text": "Username: bogdan23a\nPassword: ········\n"
       }
      ],
      "source": "import WriteObject as wo\n\nassay = wo.WriteObject()",
      "start_time": "2019-03-25T12:25:02.466Z"
     },
     {
      "end_time": "2019-03-25T12:31:59.087Z",
      "execution_time": "4.52s",
      "outputs": [
       {
        "name": "stdout",
        "output_type": "stream",
        "text": "Username: bogdan23a\nPassword: ········\n"
       }
      ],
      "source": "import WriteObject as wo\n\nassay = wo.WriteObject()",
      "start_time": "2019-03-25T12:31:54.570Z"
     },
     {
      "end_time": "2019-03-25T12:35:00.618Z",
      "execution_time": "5.04s",
      "outputs": [
       {
        "name": "stdout",
        "output_type": "stream",
        "text": "Username: bogdan23a\nPassword: ········\n"
       }
      ],
      "source": "import WriteObject as wo\n\nassay = wo.WriteObject()",
      "start_time": "2019-03-25T12:34:55.578Z"
     },
     {
      "end_time": "2019-03-25T12:43:15.925Z",
      "execution_time": "5.10s",
      "outputs": [
       {
        "name": "stdout",
        "output_type": "stream",
        "text": "Username: bogdan23a\nPassword: ········\n"
       }
      ],
      "source": "import WriteObject as wo\n\nassay = wo.WriteObject()",
      "start_time": "2019-03-25T12:43:10.828Z"
     }
    ],
    "scrolled": false
   },
   "outputs": [
    {
     "name": "stdout",
     "output_type": "stream",
     "text": [
      "Username: bogdan23a\n",
      "Password: ········\n"
     ]
    }
   ],
   "source": [
    "import WriteObject as wo\n",
    "\n",
    "assay = wo.WriteObject()"
   ]
  },
  {
   "cell_type": "code",
   "execution_count": 2,
   "metadata": {
    "ExecutionTime": {
     "end_time": "2019-03-25T12:43:16.861350Z",
     "start_time": "2019-03-25T12:43:16.827310Z"
    },
    "provenance": [
     {
      "end_time": "2019-03-25T12:14:02.484Z",
      "execution_time": "104ms",
      "outputs": [
       {
        "data": {
         "text/html": "<h3>SEEK FORM</h3>",
         "text/plain": "<IPython.core.display.HTML object>"
        },
        "metadata": {},
        "output_type": "display_data",
        "transient": {}
       },
       {
        "name": "stdout",
        "output_type": "stream",
        "text": "\nYou need to complete the following form in order to succesfully upload your information to SEEK\n"
       },
       {
        "data": {
         "application/vnd.jupyter.widget-view+json": {
          "model_id": "",
          "version_major": 2,
          "version_minor": 0
         },
         "text/plain": "HBox(children=(Label(value='What is it that you want to post?'), Dropdown(options=('assays', 'data_files', 'st…"
        },
        "metadata": {},
        "output_type": "display_data",
        "transient": {}
       }
      ],
      "source": "assay.selectResearchType()",
      "start_time": "2019-03-25T12:14:02.380Z"
     },
     {
      "end_time": "2019-03-25T12:26:10.081Z",
      "execution_time": "54ms",
      "outputs": [
       {
        "data": {
         "text/html": "<h3>SEEK FORM</h3>",
         "text/plain": "<IPython.core.display.HTML object>"
        },
        "metadata": {},
        "output_type": "display_data",
        "transient": {}
       },
       {
        "name": "stdout",
        "output_type": "stream",
        "text": "\nYou need to complete the following form in order to succesfully upload your information to SEEK\n"
       },
       {
        "data": {
         "application/vnd.jupyter.widget-view+json": {
          "model_id": "",
          "version_major": 2,
          "version_minor": 0
         },
         "text/plain": "HBox(children=(Label(value='What is it that you want to post?'), Dropdown(options=('assays', 'data_files', 'st…"
        },
        "metadata": {},
        "output_type": "display_data",
        "transient": {}
       }
      ],
      "source": "assay.selectResearchType()",
      "start_time": "2019-03-25T12:26:10.027Z"
     },
     {
      "end_time": "2019-03-25T12:32:00.068Z",
      "execution_time": "40ms",
      "outputs": [
       {
        "data": {
         "text/html": "<h3>SEEK FORM</h3>",
         "text/plain": "<IPython.core.display.HTML object>"
        },
        "metadata": {},
        "output_type": "display_data",
        "transient": {}
       },
       {
        "name": "stdout",
        "output_type": "stream",
        "text": "\nYou need to complete the following form in order to succesfully upload your information to SEEK\n"
       },
       {
        "data": {
         "application/vnd.jupyter.widget-view+json": {
          "model_id": "",
          "version_major": 2,
          "version_minor": 0
         },
         "text/plain": "HBox(children=(Label(value='What is it that you want to post?'), Dropdown(options=('assays', 'data_files', 'st…"
        },
        "metadata": {},
        "output_type": "display_data",
        "transient": {}
       }
      ],
      "source": "assay.selectResearchType()",
      "start_time": "2019-03-25T12:32:00.028Z"
     },
     {
      "end_time": "2019-03-25T12:35:36.425Z",
      "execution_time": "52ms",
      "outputs": [
       {
        "data": {
         "text/html": "<h3>SEEK FORM</h3>",
         "text/plain": "<IPython.core.display.HTML object>"
        },
        "metadata": {},
        "output_type": "display_data",
        "transient": {}
       },
       {
        "name": "stdout",
        "output_type": "stream",
        "text": "\nYou need to complete the following form in order to succesfully upload your information to SEEK\n"
       },
       {
        "data": {
         "application/vnd.jupyter.widget-view+json": {
          "model_id": "",
          "version_major": 2,
          "version_minor": 0
         },
         "text/plain": "HBox(children=(Label(value='What is it that you want to post?'), Dropdown(options=('assays', 'data_files', 'st…"
        },
        "metadata": {},
        "output_type": "display_data",
        "transient": {}
       }
      ],
      "source": "assay.selectResearchType()",
      "start_time": "2019-03-25T12:35:36.373Z"
     },
     {
      "end_time": "2019-03-25T12:43:16.861Z",
      "execution_time": "34ms",
      "outputs": [
       {
        "data": {
         "text/html": "<h3>SEEK FORM</h3>",
         "text/plain": "<IPython.core.display.HTML object>"
        },
        "metadata": {},
        "output_type": "display_data",
        "transient": {}
       },
       {
        "name": "stdout",
        "output_type": "stream",
        "text": "\nYou need to complete the following form in order to succesfully upload your information to SEEK\n"
       },
       {
        "data": {
         "application/vnd.jupyter.widget-view+json": {
          "model_id": "1f7f1261cd2348fda044c7fe099e10da",
          "version_major": 2,
          "version_minor": 0
         },
         "text/plain": "HBox(children=(Label(value='What is it that you want to post?'), Dropdown(options=('assays', 'data_files', 'st…"
        },
        "metadata": {},
        "output_type": "display_data",
        "transient": {}
       }
      ],
      "source": "assay.selectResearchType()",
      "start_time": "2019-03-25T12:43:16.827Z"
     }
    ]
   },
   "outputs": [
    {
     "data": {
      "text/html": [
       "<h3>SEEK FORM</h3>"
      ],
      "text/plain": [
       "<IPython.core.display.HTML object>"
      ]
     },
     "metadata": {},
     "output_type": "display_data"
    },
    {
     "name": "stdout",
     "output_type": "stream",
     "text": [
      "\n",
      "You need to complete the following form in order to succesfully upload your information to SEEK\n"
     ]
    },
    {
     "data": {
      "application/vnd.jupyter.widget-view+json": {
       "model_id": "1f7f1261cd2348fda044c7fe099e10da",
       "version_major": 2,
       "version_minor": 0
      },
      "text/plain": [
       "HBox(children=(Label(value='What is it that you want to post?'), Dropdown(options=('assays', 'data_files', 'st…"
      ]
     },
     "metadata": {},
     "output_type": "display_data"
    }
   ],
   "source": [
    "assay.selectResearchType()"
   ]
  },
  {
   "cell_type": "code",
   "execution_count": 3,
   "metadata": {
    "ExecutionTime": {
     "end_time": "2019-03-25T12:43:18.522723Z",
     "start_time": "2019-03-25T12:43:18.486147Z"
    },
    "provenance": [
     {
      "end_time": "2019-03-25T11:24:19.364Z",
      "execution_time": "44ms",
      "outputs": [
       {
        "data": {
         "application/vnd.jupyter.widget-view+json": {
          "model_id": "",
          "version_major": 2,
          "version_minor": 0
         },
         "text/plain": "HBox(children=(Label(value='Please select the class of Assay you wish to create:'), Dropdown(options=('EXP', '…"
        },
        "metadata": {},
        "output_type": "display_data",
        "transient": {}
       }
      ],
      "source": "WO.selectAssayKind()",
      "start_time": "2019-03-25T11:24:19.320Z"
     },
     {
      "end_time": "2019-03-25T11:26:24.890Z",
      "execution_time": "42ms",
      "outputs": [
       {
        "data": {
         "application/vnd.jupyter.widget-view+json": {
          "model_id": "",
          "version_major": 2,
          "version_minor": 0
         },
         "text/plain": "HBox(children=(Label(value='Please select the class of Assay you wish to create:'), Dropdown(options=('EXP', '…"
        },
        "metadata": {},
        "output_type": "display_data",
        "transient": {}
       }
      ],
      "source": "WO.selectAssayKind()",
      "start_time": "2019-03-25T11:26:24.848Z"
     },
     {
      "end_time": "2019-03-25T11:28:07.428Z",
      "execution_time": "97ms",
      "outputs": [
       {
        "data": {
         "application/vnd.jupyter.widget-view+json": {
          "model_id": "",
          "version_major": 2,
          "version_minor": 0
         },
         "text/plain": "HBox(children=(Label(value='Please select the class of Assay you wish to create:'), Dropdown(options=('EXP', '…"
        },
        "metadata": {},
        "output_type": "display_data",
        "transient": {}
       }
      ],
      "source": "WO.selectAssayKind()",
      "start_time": "2019-03-25T11:28:07.331Z"
     },
     {
      "end_time": "2019-03-25T11:31:12.694Z",
      "execution_time": "37ms",
      "outputs": [
       {
        "data": {
         "application/vnd.jupyter.widget-view+json": {
          "model_id": "",
          "version_major": 2,
          "version_minor": 0
         },
         "text/plain": "HBox(children=(Label(value='Please select the class of Assay you wish to create:'), Dropdown(options=('EXP', '…"
        },
        "metadata": {},
        "output_type": "display_data",
        "transient": {}
       }
      ],
      "source": "WO.selectAssayKind()",
      "start_time": "2019-03-25T11:31:12.657Z"
     },
     {
      "end_time": "2019-03-25T12:14:13.697Z",
      "execution_time": "82ms",
      "outputs": [
       {
        "data": {
         "application/vnd.jupyter.widget-view+json": {
          "model_id": "",
          "version_major": 2,
          "version_minor": 0
         },
         "text/plain": "HBox(children=(Label(value='Please select the class of Assay you wish to create:'), Dropdown(options=('EXP', '…"
        },
        "metadata": {},
        "output_type": "display_data",
        "transient": {}
       }
      ],
      "source": "assay.selectAssayKind()",
      "start_time": "2019-03-25T12:14:13.615Z"
     },
     {
      "end_time": "2019-03-25T12:26:13.362Z",
      "execution_time": "41ms",
      "outputs": [
       {
        "data": {
         "application/vnd.jupyter.widget-view+json": {
          "model_id": "",
          "version_major": 2,
          "version_minor": 0
         },
         "text/plain": "HBox(children=(Label(value='Please select the class of Assay you wish to create:'), Dropdown(options=('EXP', '…"
        },
        "metadata": {},
        "output_type": "display_data",
        "transient": {}
       }
      ],
      "source": "assay.selectAssayKind()",
      "start_time": "2019-03-25T12:26:13.321Z"
     },
     {
      "end_time": "2019-03-25T12:32:03.481Z",
      "execution_time": "41ms",
      "outputs": [
       {
        "data": {
         "application/vnd.jupyter.widget-view+json": {
          "model_id": "",
          "version_major": 2,
          "version_minor": 0
         },
         "text/plain": "HBox(children=(Label(value='Please select the class of Assay you wish to create:'), Dropdown(options=('EXP', '…"
        },
        "metadata": {},
        "output_type": "display_data",
        "transient": {}
       }
      ],
      "source": "assay.selectAssayKind()",
      "start_time": "2019-03-25T12:32:03.440Z"
     },
     {
      "end_time": "2019-03-25T12:35:38.236Z",
      "execution_time": "43ms",
      "outputs": [
       {
        "data": {
         "application/vnd.jupyter.widget-view+json": {
          "model_id": "",
          "version_major": 2,
          "version_minor": 0
         },
         "text/plain": "HBox(children=(Label(value='Please select the class of Assay you wish to create:'), Dropdown(options=('EXP', '…"
        },
        "metadata": {},
        "output_type": "display_data",
        "transient": {}
       }
      ],
      "source": "assay.selectAssayKind()",
      "start_time": "2019-03-25T12:35:38.193Z"
     },
     {
      "end_time": "2019-03-25T12:43:18.522Z",
      "execution_time": "36ms",
      "outputs": [
       {
        "data": {
         "application/vnd.jupyter.widget-view+json": {
          "model_id": "b9f8b0f780244751a3726c99a96d20cc",
          "version_major": 2,
          "version_minor": 0
         },
         "text/plain": "HBox(children=(Label(value='Please select the class of Assay you wish to create:'), Dropdown(options=('EXP', '…"
        },
        "metadata": {},
        "output_type": "display_data",
        "transient": {}
       }
      ],
      "source": "assay.selectAssayKind()",
      "start_time": "2019-03-25T12:43:18.486Z"
     }
    ]
   },
   "outputs": [
    {
     "data": {
      "application/vnd.jupyter.widget-view+json": {
       "model_id": "b9f8b0f780244751a3726c99a96d20cc",
       "version_major": 2,
       "version_minor": 0
      },
      "text/plain": [
       "HBox(children=(Label(value='Please select the class of Assay you wish to create:'), Dropdown(options=('EXP', '…"
      ]
     },
     "metadata": {},
     "output_type": "display_data"
    }
   ],
   "source": [
    "assay.selectAssayKind()"
   ]
  },
  {
   "cell_type": "code",
   "execution_count": 4,
   "metadata": {
    "ExecutionTime": {
     "end_time": "2019-03-25T12:43:19.430195Z",
     "start_time": "2019-03-25T12:43:19.394138Z"
    },
    "provenance": [
     {
      "end_time": "2019-03-25T11:24:28.029Z",
      "execution_time": "19ms",
      "outputs": [
       {
        "data": {
         "text/plain": "<bound method WriteObject.fillDescription of <WriteObject.WriteObject object at 0x7fb12a43f2b0>>"
        },
        "execution_count": 4,
        "metadata": {},
        "output_type": "execute_result"
       }
      ],
      "source": "WO.fillDescription",
      "start_time": "2019-03-25T11:24:28.010Z"
     },
     {
      "end_time": "2019-03-25T11:24:30.628Z",
      "execution_time": "46ms",
      "outputs": [
       {
        "data": {
         "application/vnd.jupyter.widget-view+json": {
          "model_id": "",
          "version_major": 2,
          "version_minor": 0
         },
         "text/plain": "HBox(children=(Label(value='Please provide your description:'), Textarea(value='', layout=Layout(flex='0 1 aut…"
        },
        "metadata": {},
        "output_type": "display_data",
        "transient": {}
       }
      ],
      "source": "WO.fillDescription()",
      "start_time": "2019-03-25T11:24:30.582Z"
     },
     {
      "end_time": "2019-03-25T11:26:26.649Z",
      "execution_time": "44ms",
      "outputs": [
       {
        "data": {
         "application/vnd.jupyter.widget-view+json": {
          "model_id": "",
          "version_major": 2,
          "version_minor": 0
         },
         "text/plain": "HBox(children=(Label(value='Please provide your description:'), Textarea(value='', layout=Layout(flex='0 1 aut…"
        },
        "metadata": {},
        "output_type": "display_data",
        "transient": {}
       }
      ],
      "source": "WO.fillDescription()",
      "start_time": "2019-03-25T11:26:26.605Z"
     },
     {
      "end_time": "2019-03-25T11:28:09.091Z",
      "execution_time": "74ms",
      "outputs": [
       {
        "data": {
         "application/vnd.jupyter.widget-view+json": {
          "model_id": "",
          "version_major": 2,
          "version_minor": 0
         },
         "text/plain": "HBox(children=(Label(value='Please provide your description:'), Textarea(value='', layout=Layout(flex='0 1 aut…"
        },
        "metadata": {},
        "output_type": "display_data",
        "transient": {}
       }
      ],
      "source": "WO.fillDescription()",
      "start_time": "2019-03-25T11:28:09.017Z"
     },
     {
      "end_time": "2019-03-25T11:31:14.088Z",
      "execution_time": "41ms",
      "outputs": [
       {
        "data": {
         "application/vnd.jupyter.widget-view+json": {
          "model_id": "",
          "version_major": 2,
          "version_minor": 0
         },
         "text/plain": "HBox(children=(Label(value='Please provide your description:'), Textarea(value='', layout=Layout(flex='0 1 aut…"
        },
        "metadata": {},
        "output_type": "display_data",
        "transient": {}
       }
      ],
      "source": "WO.fillDescription()",
      "start_time": "2019-03-25T11:31:14.047Z"
     },
     {
      "end_time": "2019-03-25T12:14:16.817Z",
      "execution_time": "38ms",
      "outputs": [
       {
        "data": {
         "application/vnd.jupyter.widget-view+json": {
          "model_id": "",
          "version_major": 2,
          "version_minor": 0
         },
         "text/plain": "HBox(children=(Label(value='Please provide your description:'), Textarea(value='', layout=Layout(flex='0 1 aut…"
        },
        "metadata": {},
        "output_type": "display_data",
        "transient": {}
       }
      ],
      "source": "assay.fillDescription()",
      "start_time": "2019-03-25T12:14:16.779Z"
     },
     {
      "end_time": "2019-03-25T12:26:17.075Z",
      "execution_time": "41ms",
      "outputs": [
       {
        "data": {
         "application/vnd.jupyter.widget-view+json": {
          "model_id": "",
          "version_major": 2,
          "version_minor": 0
         },
         "text/plain": "HBox(children=(Label(value='Please provide your description:'), Textarea(value='', layout=Layout(flex='0 1 aut…"
        },
        "metadata": {},
        "output_type": "display_data",
        "transient": {}
       }
      ],
      "source": "assay.fillDescription()",
      "start_time": "2019-03-25T12:26:17.034Z"
     },
     {
      "end_time": "2019-03-25T12:32:04.743Z",
      "execution_time": "44ms",
      "outputs": [
       {
        "data": {
         "application/vnd.jupyter.widget-view+json": {
          "model_id": "",
          "version_major": 2,
          "version_minor": 0
         },
         "text/plain": "HBox(children=(Label(value='Please provide your description:'), Textarea(value='', layout=Layout(flex='0 1 aut…"
        },
        "metadata": {},
        "output_type": "display_data",
        "transient": {}
       }
      ],
      "source": "assay.fillDescription()",
      "start_time": "2019-03-25T12:32:04.699Z"
     },
     {
      "end_time": "2019-03-25T12:35:39.296Z",
      "execution_time": "42ms",
      "outputs": [
       {
        "data": {
         "application/vnd.jupyter.widget-view+json": {
          "model_id": "",
          "version_major": 2,
          "version_minor": 0
         },
         "text/plain": "HBox(children=(Label(value='Please provide your description:'), Textarea(value='', layout=Layout(flex='0 1 aut…"
        },
        "metadata": {},
        "output_type": "display_data",
        "transient": {}
       }
      ],
      "source": "assay.fillDescription()",
      "start_time": "2019-03-25T12:35:39.254Z"
     },
     {
      "end_time": "2019-03-25T12:43:19.430Z",
      "execution_time": "36ms",
      "outputs": [
       {
        "data": {
         "application/vnd.jupyter.widget-view+json": {
          "model_id": "4871c843314b433996ef029007b2ae3e",
          "version_major": 2,
          "version_minor": 0
         },
         "text/plain": "HBox(children=(Label(value='Please provide your description:'), Textarea(value='', layout=Layout(flex='0 1 aut…"
        },
        "metadata": {},
        "output_type": "display_data",
        "transient": {}
       }
      ],
      "source": "assay.fillDescription()",
      "start_time": "2019-03-25T12:43:19.394Z"
     }
    ]
   },
   "outputs": [
    {
     "data": {
      "application/vnd.jupyter.widget-view+json": {
       "model_id": "4871c843314b433996ef029007b2ae3e",
       "version_major": 2,
       "version_minor": 0
      },
      "text/plain": [
       "HBox(children=(Label(value='Please provide your description:'), Textarea(value='', layout=Layout(flex='0 1 aut…"
      ]
     },
     "metadata": {},
     "output_type": "display_data"
    }
   ],
   "source": [
    "assay.fillDescription()"
   ]
  },
  {
   "cell_type": "code",
   "execution_count": 5,
   "metadata": {
    "ExecutionTime": {
     "end_time": "2019-03-25T12:43:25.452441Z",
     "start_time": "2019-03-25T12:43:25.406707Z"
    },
    "provenance": [
     {
      "end_time": "2019-03-25T12:14:30.795Z",
      "execution_time": "60ms",
      "outputs": [
       {
        "data": {
         "application/vnd.jupyter.widget-view+json": {
          "model_id": "",
          "version_major": 2,
          "version_minor": 0
         },
         "text/plain": "HBox(children=(Label(value='Please select the policy access:'), Dropdown(options=('no_access', 'view', 'downlo…"
        },
        "metadata": {},
        "output_type": "display_data",
        "transient": {}
       }
      ],
      "source": "assay.selectPolicyAccess()",
      "start_time": "2019-03-25T12:14:30.735Z"
     },
     {
      "end_time": "2019-03-25T12:26:20.197Z",
      "execution_time": "48ms",
      "outputs": [
       {
        "data": {
         "application/vnd.jupyter.widget-view+json": {
          "model_id": "",
          "version_major": 2,
          "version_minor": 0
         },
         "text/plain": "HBox(children=(Label(value='Please select the policy access:'), Dropdown(options=('no_access', 'view', 'downlo…"
        },
        "metadata": {},
        "output_type": "display_data",
        "transient": {}
       }
      ],
      "source": "assay.selectPolicyAccess()",
      "start_time": "2019-03-25T12:26:20.149Z"
     },
     {
      "end_time": "2019-03-25T12:32:06.193Z",
      "execution_time": "31ms",
      "outputs": [
       {
        "data": {
         "application/vnd.jupyter.widget-view+json": {
          "model_id": "",
          "version_major": 2,
          "version_minor": 0
         },
         "text/plain": "HBox(children=(Label(value='Please select the policy access:'), Dropdown(options=('no_access', 'view', 'downlo…"
        },
        "metadata": {},
        "output_type": "display_data",
        "transient": {}
       }
      ],
      "source": "assay.selectPolicyAccess()",
      "start_time": "2019-03-25T12:32:06.162Z"
     },
     {
      "end_time": "2019-03-25T12:35:47.182Z",
      "execution_time": "39ms",
      "outputs": [
       {
        "data": {
         "application/vnd.jupyter.widget-view+json": {
          "model_id": "",
          "version_major": 2,
          "version_minor": 0
         },
         "text/plain": "HBox(children=(Label(value='Please select the policy access:'), Dropdown(options=('no_access', 'view', 'downlo…"
        },
        "metadata": {},
        "output_type": "display_data",
        "transient": {}
       }
      ],
      "source": "assay.selectPolicyAccess()",
      "start_time": "2019-03-25T12:35:47.143Z"
     },
     {
      "end_time": "2019-03-25T12:43:25.452Z",
      "execution_time": "46ms",
      "outputs": [
       {
        "data": {
         "application/vnd.jupyter.widget-view+json": {
          "model_id": "fccb53a5d4174613a41f1fe3ba52face",
          "version_major": 2,
          "version_minor": 0
         },
         "text/plain": "HBox(children=(Label(value='Please select the policy access:'), Dropdown(options=('no_access', 'view', 'downlo…"
        },
        "metadata": {},
        "output_type": "display_data",
        "transient": {}
       }
      ],
      "source": "assay.selectPolicyAccess()",
      "start_time": "2019-03-25T12:43:25.406Z"
     }
    ]
   },
   "outputs": [
    {
     "data": {
      "application/vnd.jupyter.widget-view+json": {
       "model_id": "fccb53a5d4174613a41f1fe3ba52face",
       "version_major": 2,
       "version_minor": 0
      },
      "text/plain": [
       "HBox(children=(Label(value='Please select the policy access:'), Dropdown(options=('no_access', 'view', 'downlo…"
      ]
     },
     "metadata": {},
     "output_type": "display_data"
    }
   ],
   "source": [
    "assay.selectPolicyAccess()"
   ]
  },
  {
   "cell_type": "code",
   "execution_count": 10,
   "metadata": {
    "ExecutionTime": {
     "end_time": "2019-03-25T12:47:06.021885Z",
     "start_time": "2019-03-25T12:46:49.533282Z"
    },
    "provenance": [
     {
      "end_time": "2019-03-19T17:14:56.936Z",
      "execution_time": "84ms",
      "outputs": [
       {
        "data": {
         "text/html": "<h3>SEEK FORM</h3>",
         "text/plain": "<IPython.core.display.HTML object>"
        },
        "metadata": {},
        "output_type": "display_data",
        "transient": {}
       },
       {
        "ename": "AttributeError",
        "evalue": "'HBox' object has no attribute 'value'",
        "output_type": "error",
        "traceback": [
         "\u001b[0;31m---------------------------------------------------------------------------\u001b[0m",
         "\u001b[0;31mAttributeError\u001b[0m                            Traceback (most recent call last)",
         "\u001b[0;32m<ipython-input-2-c4fbdd204ac2>\u001b[0m in \u001b[0;36m<module>\u001b[0;34m()\u001b[0m\n\u001b[0;32m----> 1\u001b[0;31m \u001b[0mWO\u001b[0m\u001b[0;34m.\u001b[0m\u001b[0mSEEKForm\u001b[0m\u001b[0;34m(\u001b[0m\u001b[0;34m)\u001b[0m\u001b[0;34m.\u001b[0m\u001b[0mvalue\u001b[0m\u001b[0;34m\u001b[0m\u001b[0m\n\u001b[0m",
         "\u001b[0;31mAttributeError\u001b[0m: 'HBox' object has no attribute 'value'"
        ]
       }
      ],
      "source": "WO.SEEKForm().value",
      "start_time": "2019-03-19T17:14:56.852Z"
     },
     {
      "end_time": "2019-03-19T17:15:06.012Z",
      "execution_time": "32ms",
      "outputs": [
       {
        "ename": "AttributeError",
        "evalue": "'Dropdown' object has no attribute 'vallue'",
        "output_type": "error",
        "traceback": [
         "\u001b[0;31m---------------------------------------------------------------------------\u001b[0m",
         "\u001b[0;31mAttributeError\u001b[0m                            Traceback (most recent call last)",
         "\u001b[0;32m<ipython-input-3-fdb41c3bd0e5>\u001b[0m in \u001b[0;36m<module>\u001b[0;34m()\u001b[0m\n\u001b[0;32m----> 1\u001b[0;31m \u001b[0mWO\u001b[0m\u001b[0;34m.\u001b[0m\u001b[0mdd\u001b[0m\u001b[0;34m.\u001b[0m\u001b[0mvallue\u001b[0m\u001b[0;34m\u001b[0m\u001b[0m\n\u001b[0m",
         "\u001b[0;31mAttributeError\u001b[0m: 'Dropdown' object has no attribute 'vallue'"
        ]
       }
      ],
      "source": "WO.dd.vallue",
      "start_time": "2019-03-19T17:15:05.980Z"
     },
     {
      "end_time": "2019-03-19T17:15:08.365Z",
      "execution_time": "15ms",
      "outputs": [
       {
        "data": {
         "text/plain": "'assays'"
        },
        "execution_count": 4,
        "metadata": {},
        "output_type": "execute_result"
       }
      ],
      "source": "WO.dd.value",
      "start_time": "2019-03-19T17:15:08.350Z"
     },
     {
      "end_time": "2019-03-19T17:15:12.212Z",
      "execution_time": "10ms",
      "outputs": [
       {
        "data": {
         "text/plain": "'assays'"
        },
        "execution_count": 5,
        "metadata": {},
        "output_type": "execute_result"
       }
      ],
      "source": "WO.dd.value",
      "start_time": "2019-03-19T17:15:12.202Z"
     },
     {
      "end_time": "2019-03-19T17:15:15.025Z",
      "execution_time": "18ms",
      "outputs": [
       {
        "data": {
         "text/plain": "'assays'"
        },
        "execution_count": 6,
        "metadata": {},
        "output_type": "execute_result"
       }
      ],
      "source": "WO.dd.value",
      "start_time": "2019-03-19T17:15:15.007Z"
     },
     {
      "end_time": "2019-03-19T17:16:21.684Z",
      "execution_time": "10ms",
      "outputs": [
       {
        "data": {
         "text/plain": "'data_files'"
        },
        "execution_count": 8,
        "metadata": {},
        "output_type": "execute_result"
       }
      ],
      "source": "WO.dd.value",
      "start_time": "2019-03-19T17:16:21.674Z"
     },
     {
      "end_time": "2019-03-19T17:16:29.777Z",
      "execution_time": "14ms",
      "outputs": [
       {
        "data": {
         "text/plain": "'investigations'"
        },
        "execution_count": 9,
        "metadata": {},
        "output_type": "execute_result"
       }
      ],
      "source": "WO.dd.value",
      "start_time": "2019-03-19T17:16:29.763Z"
     },
     {
      "end_time": "2019-03-19T17:24:53.925Z",
      "execution_time": "63ms",
      "outputs": [
       {
        "ename": "NameError",
        "evalue": "name 'widgets' is not defined",
        "output_type": "error",
        "traceback": [
         "\u001b[0;31m---------------------------------------------------------------------------\u001b[0m",
         "\u001b[0;31mNameError\u001b[0m                                 Traceback (most recent call last)",
         "\u001b[0;32m<ipython-input-2-b37f0c557f2d>\u001b[0m in \u001b[0;36m<module>\u001b[0;34m()\u001b[0m\n\u001b[0;32m----> 1\u001b[0;31m widgets.Textarea(\n\u001b[0m\u001b[1;32m      2\u001b[0m     \u001b[0mvalue\u001b[0m\u001b[0;34m=\u001b[0m\u001b[0;34m'Hello World'\u001b[0m\u001b[0;34m,\u001b[0m\u001b[0;34m\u001b[0m\u001b[0m\n\u001b[1;32m      3\u001b[0m     \u001b[0mplaceholder\u001b[0m\u001b[0;34m=\u001b[0m\u001b[0;34m'Type something'\u001b[0m\u001b[0;34m,\u001b[0m\u001b[0;34m\u001b[0m\u001b[0m\n\u001b[1;32m      4\u001b[0m     \u001b[0mdescription\u001b[0m\u001b[0;34m=\u001b[0m\u001b[0;34m'String:'\u001b[0m\u001b[0;34m,\u001b[0m\u001b[0;34m\u001b[0m\u001b[0m\n\u001b[1;32m      5\u001b[0m     \u001b[0mdisabled\u001b[0m\u001b[0;34m=\u001b[0m\u001b[0;32mFalse\u001b[0m\u001b[0;34m\u001b[0m\u001b[0m\n",
         "\u001b[0;31mNameError\u001b[0m: name 'widgets' is not defined"
        ]
       }
      ],
      "source": "widgets.Textarea(\n    value='Hello World',\n    placeholder='Type something',\n    description='String:',\n    disabled=False\n)",
      "start_time": "2019-03-19T17:24:53.862Z"
     },
     {
      "end_time": "2019-03-19T17:25:04.861Z",
      "execution_time": "9ms",
      "outputs": [
       {
        "ename": "SyntaxError",
        "evalue": "invalid syntax (<ipython-input-3-3eef1eaa51a7>, line 1)",
        "output_type": "error",
        "traceback": [
         "\u001b[0;36m  File \u001b[0;32m\"<ipython-input-3-3eef1eaa51a7>\"\u001b[0;36m, line \u001b[0;32m1\u001b[0m\n\u001b[0;31m    import ipywidget widgets\u001b[0m\n\u001b[0m                           ^\u001b[0m\n\u001b[0;31mSyntaxError\u001b[0m\u001b[0;31m:\u001b[0m invalid syntax\n"
        ]
       }
      ],
      "source": "import ipywidget widgets\nwidgets.Textarea(\n    value='Hello World',\n    placeholder='Type something',\n    description='String:',\n    disabled=False\n)",
      "start_time": "2019-03-19T17:25:04.852Z"
     },
     {
      "end_time": "2019-03-19T17:25:09.672Z",
      "execution_time": "27ms",
      "outputs": [
       {
        "data": {
         "application/vnd.jupyter.widget-view+json": {
          "model_id": "",
          "version_major": 2,
          "version_minor": 0
         },
         "text/plain": "Textarea(value='Hello World', description='String:', placeholder='Type something')"
        },
        "metadata": {},
        "output_type": "display_data",
        "transient": {}
       }
      ],
      "source": "import ipywidgets as widgets\nwidgets.Textarea(\n    value='Hello World',\n    placeholder='Type something',\n    description='String:',\n    disabled=False\n)",
      "start_time": "2019-03-19T17:25:09.645Z"
     },
     {
      "end_time": "2019-03-19T18:08:52.320Z",
      "execution_time": "63ms",
      "outputs": [
       {
        "ename": "AttributeError",
        "evalue": "'WriteObject' object has no attribute 'SEEKForm'",
        "output_type": "error",
        "traceback": [
         "\u001b[0;31m---------------------------------------------------------------------------\u001b[0m",
         "\u001b[0;31mAttributeError\u001b[0m                            Traceback (most recent call last)",
         "\u001b[0;32m<ipython-input-5-f3a80bffc804>\u001b[0m in \u001b[0;36m<module>\u001b[0;34m()\u001b[0m\n\u001b[0;32m----> 1\u001b[0;31m \u001b[0mWO\u001b[0m\u001b[0;34m.\u001b[0m\u001b[0mSEEKForm\u001b[0m\u001b[0;34m(\u001b[0m\u001b[0;34m)\u001b[0m\u001b[0;34m\u001b[0m\u001b[0m\n\u001b[0m",
         "\u001b[0;31mAttributeError\u001b[0m: 'WriteObject' object has no attribute 'SEEKForm'"
        ]
       }
      ],
      "source": "WO.SEEKForm()",
      "start_time": "2019-03-19T18:08:52.257Z"
     },
     {
      "end_time": "2019-03-19T18:09:01.744Z",
      "execution_time": "2.91s",
      "outputs": [
       {
        "name": "stdout",
        "output_type": "stream",
        "text": "Please list other creators: \n"
       },
       {
        "ename": "KeyError",
        "evalue": "'policy'",
        "output_type": "error",
        "traceback": [
         "\u001b[0;31m---------------------------------------------------------------------------\u001b[0m",
         "\u001b[0;31mKeyError\u001b[0m                                  Traceback (most recent call last)",
         "\u001b[0;32m<ipython-input-6-aab3ee8483e7>\u001b[0m in \u001b[0;36m<module>\u001b[0;34m()\u001b[0m\n\u001b[0;32m----> 1\u001b[0;31m \u001b[0mWO\u001b[0m\u001b[0;34m.\u001b[0m\u001b[0mfillSEEKForm\u001b[0m\u001b[0;34m(\u001b[0m\u001b[0;34m)\u001b[0m\u001b[0;34m\u001b[0m\u001b[0m\n\u001b[0m",
         "\u001b[0;32m~/Work/ThirdYear/Seek/TheSeekNotebook/WriteObject.py\u001b[0m in \u001b[0;36mfillSEEKForm\u001b[0;34m(self)\u001b[0m\n\u001b[1;32m     63\u001b[0m             self.JSON = Helper.assayFormat(self.description, \n\u001b[1;32m     64\u001b[0m                                            \u001b[0mself\u001b[0m\u001b[0;34m.\u001b[0m\u001b[0massayKind\u001b[0m\u001b[0;34m,\u001b[0m\u001b[0;34m\u001b[0m\u001b[0m\n\u001b[0;32m---> 65\u001b[0;31m                                            self.policyAccess)\n\u001b[0m\u001b[1;32m     66\u001b[0m \u001b[0;34m\u001b[0m\u001b[0m\n\u001b[1;32m     67\u001b[0m         \u001b[0;32melif\u001b[0m \u001b[0mself\u001b[0m\u001b[0;34m.\u001b[0m\u001b[0mtype\u001b[0m\u001b[0;34m.\u001b[0m\u001b[0mvalue\u001b[0m \u001b[0;34m==\u001b[0m \u001b[0;34m'investigations'\u001b[0m\u001b[0;34m:\u001b[0m\u001b[0;34m\u001b[0m\u001b[0m\n",
         "\u001b[0;32m~/Work/ThirdYear/Seek/TheSeekNotebook/Helper.py\u001b[0m in \u001b[0;36massayFormat\u001b[0;34m(assayKind, description, policy)\u001b[0m\n\u001b[1;32m     37\u001b[0m     \u001b[0mJSON\u001b[0m\u001b[0;34m[\u001b[0m\u001b[0;34m'data'\u001b[0m\u001b[0;34m]\u001b[0m\u001b[0;34m[\u001b[0m\u001b[0;34m'attributes'\u001b[0m\u001b[0;34m]\u001b[0m\u001b[0;34m[\u001b[0m\u001b[0;34m'description'\u001b[0m\u001b[0;34m]\u001b[0m \u001b[0;34m=\u001b[0m \u001b[0mdescription\u001b[0m\u001b[0;34m\u001b[0m\u001b[0m\n\u001b[1;32m     38\u001b[0m     \u001b[0mJSON\u001b[0m\u001b[0;34m[\u001b[0m\u001b[0;34m'data'\u001b[0m\u001b[0;34m]\u001b[0m\u001b[0;34m[\u001b[0m\u001b[0;34m'attributes'\u001b[0m\u001b[0;34m]\u001b[0m\u001b[0;34m[\u001b[0m\u001b[0;34m'other_creators'\u001b[0m\u001b[0;34m]\u001b[0m \u001b[0;34m=\u001b[0m \u001b[0minput\u001b[0m\u001b[0;34m(\u001b[0m\u001b[0;34m'Please list other creators: '\u001b[0m\u001b[0;34m)\u001b[0m\u001b[0;34m\u001b[0m\u001b[0m\n\u001b[0;32m---> 39\u001b[0;31m     \u001b[0mJSON\u001b[0m\u001b[0;34m[\u001b[0m\u001b[0;34m'data'\u001b[0m\u001b[0;34m]\u001b[0m\u001b[0;34m[\u001b[0m\u001b[0;34m'attributes'\u001b[0m\u001b[0;34m]\u001b[0m\u001b[0;34m[\u001b[0m\u001b[0;34m'policy'\u001b[0m\u001b[0;34m]\u001b[0m\u001b[0;34m[\u001b[0m\u001b[0;34m'access'\u001b[0m\u001b[0;34m]\u001b[0m \u001b[0;34m=\u001b[0m \u001b[0mpolicy\u001b[0m\u001b[0;34m\u001b[0m\u001b[0m\n\u001b[0m\u001b[1;32m     40\u001b[0m     \u001b[0mJSON\u001b[0m\u001b[0;34m[\u001b[0m\u001b[0;34m'data'\u001b[0m\u001b[0;34m]\u001b[0m\u001b[0;34m[\u001b[0m\u001b[0;34m'attributes'\u001b[0m\u001b[0;34m]\u001b[0m\u001b[0;34m[\u001b[0m\u001b[0;34m'title'\u001b[0m\u001b[0;34m]\u001b[0m \u001b[0;34m=\u001b[0m \u001b[0minput\u001b[0m\u001b[0;34m(\u001b[0m\u001b[0;34m'Please specify the title: '\u001b[0m\u001b[0;34m)\u001b[0m\u001b[0;34m\u001b[0m\u001b[0m\n\u001b[1;32m     41\u001b[0m \u001b[0;34m\u001b[0m\u001b[0m\n",
         "\u001b[0;31mKeyError\u001b[0m: 'policy'"
        ]
       }
      ],
      "source": "WO.fillSEEKForm()",
      "start_time": "2019-03-19T18:08:58.834Z"
     },
     {
      "end_time": "2019-03-19T18:11:15.069Z",
      "execution_time": "54.5s",
      "outputs": [
       {
        "name": "stdout",
        "output_type": "stream",
        "text": "Please list other creators: \nPlease specify the title: Test Assay\nPlease specify the assay type uri: \nPlease specify the technology type uri: \nPlease specify how many creators is this assay related to: 1\nPlease specify the id of the creator number 1: 373\nPlease specify how many data_files is this assay related to: 0\nPlease specify how many documents is this assay related to: 0\nPlease specify the id of the investigation: \nPlease specify how many models is this assay related to: 0\nPlease specify how many people is this assay related to: 1\nPlease specify the id of the peopl number 1: 373\nPlease specify how many projects is this assay related to: 1\nPlease specify the id of the project number 1: 50\nPlease specify how many publications is this assay related to: 0\nPlease specify how many sops is this assay related to: 0\nPlease specify the id of the studie: \nPlease specify how many submitters is this assay related to: 1\nPlease specify the id of the submitter number 1: 373\n{'data': {'type': 'assays', 'attributes': {'description': Dropdown(options=('EXP', 'MOD'), value='EXP'), 'other_creators': '', 'policy': {'access': Dropdown(options=('no_access', 'view', 'download', 'edit', 'manage'), value='no_access')}, 'title': 'Test Assay', 'assay_class': {'key': Textarea(value='My assay is the best, the best assay of all. The time have passed and although every other assay has changed, my assay stays the same till this day. Every assay has his moment of change in his lifetime when he questions his entire existence, a time of struggle in the assay world. Going trough such a hard time, my assay stayed loyal and never backed down. ', layout=Layout(flex='0 1 auto', height='120px', min_height='40px', width='500px'))}, 'assay_type': {'uri': ''}, 'technology_type': {'uri': ''}}, 'relationships': {'creators': {'data': [{'id': 373, 'type': 'creators'}]}, 'people': {'data': [{'id': 373, 'type': 'people'}]}, 'projects': {'data': [{'id': 50, 'type': 'projects'}]}, 'submitters': {'data': [{'id': 373, 'type': 'submitters'}]}}}}\n"
       }
      ],
      "source": "WO.fillSEEKForm()",
      "start_time": "2019-03-19T18:10:20.550Z"
     },
     {
      "end_time": "2019-03-19T18:12:39.211Z",
      "execution_time": "41.8s",
      "outputs": [
       {
        "name": "stdout",
        "output_type": "stream",
        "text": "Please list other creators: Bogdan Gherasim\nPlease specify the title: Test Assay\nPlease specify the assay type uri: \nPlease specify the technology type uri: \nPlease specify how many creators is this assay related to: 1\nPlease specify the id of the creator number 1: 373\nPlease specify how many data_files is this assay related to: 0\nPlease specify how many documents is this assay related to: 0\nPlease specify the id of the investigation: \nPlease specify how many models is this assay related to: 0\nPlease specify how many people is this assay related to: 1\nPlease specify the id of the peopl number 1: 373\nPlease specify how many projects is this assay related to: 1\nPlease specify the id of the project number 1: 50\nPlease specify how many publications is this assay related to: 0\nPlease specify how many sops is this assay related to: 0\nPlease specify the id of the studie: \nPlease specify how many submitters is this assay related to: 1\nPlease specify the id of the submitter number 1: 373\n{'data': {'type': 'assays', 'attributes': {'description': 'EXP', 'other_creators': 'Bogdan Gherasim', 'policy': {'access': 'no_access'}, 'title': 'Test Assay', 'assay_class': {'key': 'My assay is the best, the best assay of all. The time have passed and although every other assay has changed, my assay stays the same till this day. Every assay has his moment of change in his lifetime when he questions his entire existence, a time of struggle in the assay world. Going trough such a hard time, my assay stayed loyal and never backed down. '}, 'assay_type': {'uri': ''}, 'technology_type': {'uri': ''}}, 'relationships': {'creators': {'data': [{'id': 373, 'type': 'creators'}]}, 'people': {'data': [{'id': 373, 'type': 'people'}]}, 'projects': {'data': [{'id': 50, 'type': 'projects'}]}, 'submitters': {'data': [{'id': 373, 'type': 'submitters'}]}}}}\n"
       }
      ],
      "source": "WO.fillSEEKForm()",
      "start_time": "2019-03-19T18:11:57.399Z"
     },
     {
      "end_time": "2019-03-19T18:18:13.110Z",
      "execution_time": "34.4s",
      "outputs": [
       {
        "name": "stdout",
        "output_type": "stream",
        "text": "Please list other creators: Bogdan Gherasim\nPlease specify the title: Test Assay\nPlease specify the assay type uri: \nPlease specify the technology type uri: \nPlease specify how many creators is this assay related to: 1\nPlease specify the id of the creator number 1: 373\nPlease specify how many data_files is this assay related to: 0\nPlease specify how many documents is this assay related to: 0\nPlease specify the id of the investigation: \nPlease specify how many models is this assay related to: 0\nPlease specify how many people is this assay related to: 1\nPlease specify the id of the peopl number 1: 373\nPlease specify how many projects is this assay related to: 1\nPlease specify the id of the project number 1: 50\nPlease specify how many publications is this assay related to: 0\nPlease specify how many sops is this assay related to: 0\nPlease specify the id of the studie: \nPlease specify how many submitters is this assay related to: 1\nPlease specify the id of the submitter number 1: 373\n{'data': {'type': 'assays', 'attributes': {'description': 'EXP', 'other_creators': 'Bogdan Gherasim', 'policy': {'access': 'no_access'}, 'title': 'Test Assay', 'assay_class': {'key': 'My assay is the best, the best assay of all. The time have passed and although every other assay has changed, my assay stays the same till this day. Every assay has his moment of change in his lifetime when he questions his entire existence, a time of struggle in the assay world. Going trough such a hard time, my assay stayed loyal and never backed down. '}, 'assay_type': {'uri': ''}, 'technology_type': {'uri': ''}}, 'relationships': {'creators': {'data': [{'id': 373, 'type': 'creators'}]}, 'people': {'data': [{'id': 373, 'type': 'people'}]}, 'projects': {'data': [{'id': 50, 'type': 'projects'}]}, 'submitters': {'data': [{'id': 373, 'type': 'submitters'}]}}}}\n"
       }
      ],
      "source": "WO.fillSEEKForm()",
      "start_time": "2019-03-19T18:17:38.699Z"
     },
     {
      "end_time": "2019-03-19T19:57:37.367Z",
      "execution_time": "3m 11s",
      "outputs": [
       {
        "name": "stdout",
        "output_type": "stream",
        "text": "Please list other creators: Bogdan Gherasim\nPlease specify the title: Test Assay\nPlease specify the assay type uri: \nPlease specify the technology type uri: \nPlease specify how many creators is this assay related to: 1\nPlease specify the id of the creator number 1: 373\nPlease specify how many data_files is this assay related to: 1\nPlease specify the id of the data_file number 1: 278\nPlease specify how many documents is this assay related to: 1\nPlease specify the id of the document number 1: 2\nPlease specify the id of the investigation: 36\n"
       },
       {
        "ename": "KeyError",
        "evalue": "'investigations'",
        "output_type": "error",
        "traceback": [
         "\u001b[0;31m---------------------------------------------------------------------------\u001b[0m",
         "\u001b[0;31mKeyError\u001b[0m                                  Traceback (most recent call last)",
         "\u001b[0;32m<ipython-input-5-aab3ee8483e7>\u001b[0m in \u001b[0;36m<module>\u001b[0;34m()\u001b[0m\n\u001b[0;32m----> 1\u001b[0;31m \u001b[0mWO\u001b[0m\u001b[0;34m.\u001b[0m\u001b[0mfillSEEKForm\u001b[0m\u001b[0;34m(\u001b[0m\u001b[0;34m)\u001b[0m\u001b[0;34m\u001b[0m\u001b[0m\n\u001b[0m",
         "\u001b[0;32m~/Work/ThirdYear/Seek/TheSeekNotebook/WriteObject.py\u001b[0m in \u001b[0;36mfillSEEKForm\u001b[0;34m(self)\u001b[0m\n\u001b[1;32m     62\u001b[0m             self.JSON = Helper.assayFormat(self.assayKind.value,\n\u001b[1;32m     63\u001b[0m                                            \u001b[0mself\u001b[0m\u001b[0;34m.\u001b[0m\u001b[0mdescription\u001b[0m\u001b[0;34m.\u001b[0m\u001b[0mvalue\u001b[0m\u001b[0;34m,\u001b[0m\u001b[0;34m\u001b[0m\u001b[0m\n\u001b[0;32m---> 64\u001b[0;31m                                            self.policyAccess.value)\n\u001b[0m\u001b[1;32m     65\u001b[0m \u001b[0;34m\u001b[0m\u001b[0m\n\u001b[1;32m     66\u001b[0m         \u001b[0;32melif\u001b[0m \u001b[0mself\u001b[0m\u001b[0;34m.\u001b[0m\u001b[0mtype\u001b[0m\u001b[0;34m.\u001b[0m\u001b[0mvalue\u001b[0m \u001b[0;34m==\u001b[0m \u001b[0;34m'investigations'\u001b[0m\u001b[0;34m:\u001b[0m\u001b[0;34m\u001b[0m\u001b[0m\n",
         "\u001b[0;32m~/Work/ThirdYear/Seek/TheSeekNotebook/Helper.py\u001b[0m in \u001b[0;36massayFormat\u001b[0;34m(assayKind, description, policy)\u001b[0m\n\u001b[1;32m     57\u001b[0m     \u001b[0mrelationsFormat\u001b[0m\u001b[0;34m(\u001b[0m\u001b[0mJSON\u001b[0m\u001b[0;34m,\u001b[0m \u001b[0;34m'data_files'\u001b[0m\u001b[0;34m,\u001b[0m \u001b[0;34m'assay'\u001b[0m\u001b[0;34m)\u001b[0m\u001b[0;34m\u001b[0m\u001b[0m\n\u001b[1;32m     58\u001b[0m     \u001b[0mrelationsFormat\u001b[0m\u001b[0;34m(\u001b[0m\u001b[0mJSON\u001b[0m\u001b[0;34m,\u001b[0m \u001b[0;34m'documents'\u001b[0m\u001b[0;34m,\u001b[0m \u001b[0;34m'assay'\u001b[0m\u001b[0;34m)\u001b[0m\u001b[0;34m\u001b[0m\u001b[0m\n\u001b[0;32m---> 59\u001b[0;31m     \u001b[0mrelationFormat\u001b[0m\u001b[0;34m(\u001b[0m\u001b[0mJSON\u001b[0m\u001b[0;34m,\u001b[0m \u001b[0;34m'investigations'\u001b[0m\u001b[0;34m)\u001b[0m\u001b[0;34m\u001b[0m\u001b[0m\n\u001b[0m\u001b[1;32m     60\u001b[0m     \u001b[0mrelationsFormat\u001b[0m\u001b[0;34m(\u001b[0m\u001b[0mJSON\u001b[0m\u001b[0;34m,\u001b[0m \u001b[0;34m'models'\u001b[0m\u001b[0;34m,\u001b[0m \u001b[0;34m'assay'\u001b[0m\u001b[0;34m)\u001b[0m\u001b[0;34m\u001b[0m\u001b[0m\n\u001b[1;32m     61\u001b[0m     \u001b[0mrelationsFormat\u001b[0m\u001b[0;34m(\u001b[0m\u001b[0mJSON\u001b[0m\u001b[0;34m,\u001b[0m \u001b[0;34m'people'\u001b[0m\u001b[0;34m,\u001b[0m \u001b[0;34m'assay'\u001b[0m\u001b[0;34m)\u001b[0m\u001b[0;34m\u001b[0m\u001b[0m\n",
         "\u001b[0;32m~/Work/ThirdYear/Seek/TheSeekNotebook/Helper.py\u001b[0m in \u001b[0;36mrelationFormat\u001b[0;34m(JSON, type)\u001b[0m\n\u001b[1;32m     22\u001b[0m     \u001b[0mid\u001b[0m \u001b[0;34m=\u001b[0m \u001b[0minput\u001b[0m\u001b[0;34m(\u001b[0m\u001b[0;34m'Please specify the id of the '\u001b[0m \u001b[0;34m+\u001b[0m \u001b[0mtype\u001b[0m\u001b[0;34m[\u001b[0m\u001b[0;34m:\u001b[0m\u001b[0;34m-\u001b[0m\u001b[0;36m1\u001b[0m\u001b[0;34m]\u001b[0m \u001b[0;34m+\u001b[0m \u001b[0;34m\": \"\u001b[0m\u001b[0;34m)\u001b[0m\u001b[0;34m\u001b[0m\u001b[0m\n\u001b[1;32m     23\u001b[0m     \u001b[0;32mif\u001b[0m \u001b[0mid\u001b[0m \u001b[0;34m!=\u001b[0m \u001b[0;34m''\u001b[0m\u001b[0;34m:\u001b[0m\u001b[0;34m\u001b[0m\u001b[0m\n\u001b[0;32m---> 24\u001b[0;31m         \u001b[0mJSON\u001b[0m\u001b[0;34m[\u001b[0m\u001b[0;34m'data'\u001b[0m\u001b[0;34m]\u001b[0m\u001b[0;34m[\u001b[0m\u001b[0;34m'relationships'\u001b[0m\u001b[0;34m]\u001b[0m\u001b[0;34m[\u001b[0m\u001b[0mtype\u001b[0m\u001b[0;34m]\u001b[0m\u001b[0;34m[\u001b[0m\u001b[0;34m'data'\u001b[0m\u001b[0;34m]\u001b[0m \u001b[0;34m=\u001b[0m \u001b[0;34m{\u001b[0m\u001b[0;34m'id'\u001b[0m \u001b[0;34m:\u001b[0m \u001b[0mint\u001b[0m\u001b[0;34m(\u001b[0m\u001b[0mid\u001b[0m\u001b[0;34m)\u001b[0m\u001b[0;34m,\u001b[0m \u001b[0;34m'type'\u001b[0m \u001b[0;34m:\u001b[0m \u001b[0mtype\u001b[0m\u001b[0;34m}\u001b[0m\u001b[0;34m\u001b[0m\u001b[0m\n\u001b[0m\u001b[1;32m     25\u001b[0m \u001b[0;34m\u001b[0m\u001b[0m\n\u001b[1;32m     26\u001b[0m \u001b[0;32mdef\u001b[0m \u001b[0mbuttonClicked\u001b[0m\u001b[0;34m(\u001b[0m\u001b[0;34m)\u001b[0m\u001b[0;34m:\u001b[0m\u001b[0;34m\u001b[0m\u001b[0m\n",
         "\u001b[0;31mKeyError\u001b[0m: 'investigations'"
        ]
       }
      ],
      "source": "WO.fillSEEKForm()",
      "start_time": "2019-03-19T19:54:26.385Z"
     },
     {
      "end_time": "2019-03-19T19:59:05.693Z",
      "execution_time": "37.8s",
      "outputs": [
       {
        "name": "stdout",
        "output_type": "stream",
        "text": "Please list other creators: Bogdan Gherasim\nPlease specify the title: Test Assay\nPlease specify the assay type uri: \nPlease specify the technology type uri: \nPlease specify how many creators is this assay related to: 1\nPlease specify the id of the creator number 1: 373\nPlease specify how many data_files is this assay related to: 1\nPlease specify the id of the data_file number 1: 278\nPlease specify how many documents is this assay related to: 1\nPlease specify the id of the document number 1: 2\nPlease specify the id of the investigatio: 36\n"
       },
       {
        "ename": "KeyError",
        "evalue": "'investigation'",
        "output_type": "error",
        "traceback": [
         "\u001b[0;31m---------------------------------------------------------------------------\u001b[0m",
         "\u001b[0;31mKeyError\u001b[0m                                  Traceback (most recent call last)",
         "\u001b[0;32m<ipython-input-5-aab3ee8483e7>\u001b[0m in \u001b[0;36m<module>\u001b[0;34m()\u001b[0m\n\u001b[0;32m----> 1\u001b[0;31m \u001b[0mWO\u001b[0m\u001b[0;34m.\u001b[0m\u001b[0mfillSEEKForm\u001b[0m\u001b[0;34m(\u001b[0m\u001b[0;34m)\u001b[0m\u001b[0;34m\u001b[0m\u001b[0m\n\u001b[0m",
         "\u001b[0;32m~/Work/ThirdYear/Seek/TheSeekNotebook/WriteObject.py\u001b[0m in \u001b[0;36mfillSEEKForm\u001b[0;34m(self)\u001b[0m\n\u001b[1;32m     62\u001b[0m             self.JSON = Helper.assayFormat(self.assayKind.value,\n\u001b[1;32m     63\u001b[0m                                            \u001b[0mself\u001b[0m\u001b[0;34m.\u001b[0m\u001b[0mdescription\u001b[0m\u001b[0;34m.\u001b[0m\u001b[0mvalue\u001b[0m\u001b[0;34m,\u001b[0m\u001b[0;34m\u001b[0m\u001b[0m\n\u001b[0;32m---> 64\u001b[0;31m                                            self.policyAccess.value)\n\u001b[0m\u001b[1;32m     65\u001b[0m \u001b[0;34m\u001b[0m\u001b[0m\n\u001b[1;32m     66\u001b[0m         \u001b[0;32melif\u001b[0m \u001b[0mself\u001b[0m\u001b[0;34m.\u001b[0m\u001b[0mtype\u001b[0m\u001b[0;34m.\u001b[0m\u001b[0mvalue\u001b[0m \u001b[0;34m==\u001b[0m \u001b[0;34m'investigations'\u001b[0m\u001b[0;34m:\u001b[0m\u001b[0;34m\u001b[0m\u001b[0m\n",
         "\u001b[0;32m~/Work/ThirdYear/Seek/TheSeekNotebook/Helper.py\u001b[0m in \u001b[0;36massayFormat\u001b[0;34m(assayKind, description, policy)\u001b[0m\n\u001b[1;32m     57\u001b[0m     \u001b[0mrelationsFormat\u001b[0m\u001b[0;34m(\u001b[0m\u001b[0mJSON\u001b[0m\u001b[0;34m,\u001b[0m \u001b[0;34m'data_files'\u001b[0m\u001b[0;34m,\u001b[0m \u001b[0;34m'assay'\u001b[0m\u001b[0;34m)\u001b[0m\u001b[0;34m\u001b[0m\u001b[0m\n\u001b[1;32m     58\u001b[0m     \u001b[0mrelationsFormat\u001b[0m\u001b[0;34m(\u001b[0m\u001b[0mJSON\u001b[0m\u001b[0;34m,\u001b[0m \u001b[0;34m'documents'\u001b[0m\u001b[0;34m,\u001b[0m \u001b[0;34m'assay'\u001b[0m\u001b[0;34m)\u001b[0m\u001b[0;34m\u001b[0m\u001b[0m\n\u001b[0;32m---> 59\u001b[0;31m     \u001b[0mrelationFormat\u001b[0m\u001b[0;34m(\u001b[0m\u001b[0mJSON\u001b[0m\u001b[0;34m,\u001b[0m \u001b[0;34m'investigation'\u001b[0m\u001b[0;34m)\u001b[0m\u001b[0;34m\u001b[0m\u001b[0m\n\u001b[0m\u001b[1;32m     60\u001b[0m     \u001b[0mrelationsFormat\u001b[0m\u001b[0;34m(\u001b[0m\u001b[0mJSON\u001b[0m\u001b[0;34m,\u001b[0m \u001b[0;34m'models'\u001b[0m\u001b[0;34m,\u001b[0m \u001b[0;34m'assay'\u001b[0m\u001b[0;34m)\u001b[0m\u001b[0;34m\u001b[0m\u001b[0m\n\u001b[1;32m     61\u001b[0m     \u001b[0mrelationsFormat\u001b[0m\u001b[0;34m(\u001b[0m\u001b[0mJSON\u001b[0m\u001b[0;34m,\u001b[0m \u001b[0;34m'people'\u001b[0m\u001b[0;34m,\u001b[0m \u001b[0;34m'assay'\u001b[0m\u001b[0;34m)\u001b[0m\u001b[0;34m\u001b[0m\u001b[0m\n",
         "\u001b[0;32m~/Work/ThirdYear/Seek/TheSeekNotebook/Helper.py\u001b[0m in \u001b[0;36mrelationFormat\u001b[0;34m(JSON, type)\u001b[0m\n\u001b[1;32m     22\u001b[0m     \u001b[0mid\u001b[0m \u001b[0;34m=\u001b[0m \u001b[0minput\u001b[0m\u001b[0;34m(\u001b[0m\u001b[0;34m'Please specify the id of the '\u001b[0m \u001b[0;34m+\u001b[0m \u001b[0mtype\u001b[0m\u001b[0;34m[\u001b[0m\u001b[0;34m:\u001b[0m\u001b[0;34m-\u001b[0m\u001b[0;36m1\u001b[0m\u001b[0;34m]\u001b[0m \u001b[0;34m+\u001b[0m \u001b[0;34m\": \"\u001b[0m\u001b[0;34m)\u001b[0m\u001b[0;34m\u001b[0m\u001b[0m\n\u001b[1;32m     23\u001b[0m     \u001b[0;32mif\u001b[0m \u001b[0mid\u001b[0m \u001b[0;34m!=\u001b[0m \u001b[0;34m''\u001b[0m\u001b[0;34m:\u001b[0m\u001b[0;34m\u001b[0m\u001b[0m\n\u001b[0;32m---> 24\u001b[0;31m         \u001b[0mJSON\u001b[0m\u001b[0;34m[\u001b[0m\u001b[0;34m'data'\u001b[0m\u001b[0;34m]\u001b[0m\u001b[0;34m[\u001b[0m\u001b[0;34m'relationships'\u001b[0m\u001b[0;34m]\u001b[0m\u001b[0;34m[\u001b[0m\u001b[0mtype\u001b[0m\u001b[0;34m]\u001b[0m\u001b[0;34m[\u001b[0m\u001b[0;34m'data'\u001b[0m\u001b[0;34m]\u001b[0m \u001b[0;34m=\u001b[0m \u001b[0;34m{\u001b[0m\u001b[0;34m'id'\u001b[0m \u001b[0;34m:\u001b[0m \u001b[0mint\u001b[0m\u001b[0;34m(\u001b[0m\u001b[0mid\u001b[0m\u001b[0;34m)\u001b[0m\u001b[0;34m,\u001b[0m \u001b[0;34m'type'\u001b[0m \u001b[0;34m:\u001b[0m \u001b[0mtype\u001b[0m\u001b[0;34m}\u001b[0m\u001b[0;34m\u001b[0m\u001b[0m\n\u001b[0m\u001b[1;32m     25\u001b[0m \u001b[0;34m\u001b[0m\u001b[0m\n\u001b[1;32m     26\u001b[0m \u001b[0;32mdef\u001b[0m \u001b[0mbuttonClicked\u001b[0m\u001b[0;34m(\u001b[0m\u001b[0;34m)\u001b[0m\u001b[0;34m:\u001b[0m\u001b[0;34m\u001b[0m\u001b[0m\n",
         "\u001b[0;31mKeyError\u001b[0m: 'investigation'"
        ]
       }
      ],
      "source": "WO.fillSEEKForm()",
      "start_time": "2019-03-19T19:58:27.865Z"
     },
     {
      "end_time": "2019-03-19T20:01:53.023Z",
      "execution_time": "1m 42.7s",
      "outputs": [
       {
        "name": "stdout",
        "output_type": "stream",
        "text": "Please list other creators: Bogdan Gherasim\nPlease specify the title: Test Assay\nPlease specify the assay type uri: \nPlease specify the technology type uri: \nPlease specify how many creators is this assay related to: 1\nPlease specify the id of the creator number 1: 373\nPlease specify how many data_files is this assay related to: 1\nPlease specify the id of the data_file number 1: 278\nPlease specify how many documents is this assay related to: 1\nPlease specify the id of the document number 1: 2\nPlease specify the id of the investigatio: 36\nPlease specify how many models is this assay related to: 1\nPlease specify the id of the model number 1: 103\nPlease specify how many people is this assay related to: 1\nPlease specify the id of the peopl number 1: 373\nPlease specify how many projects is this assay related to: 1\nPlease specify the id of the project number 1: 50\nPlease specify how many publications is this assay related to: 1\nPlease specify the id of the publication number 1: 62\nPlease specify how many sops is this assay related to: 1\nPlease specify the id of the sop number 1: 43\nPlease specify the id of the stud: 54\nPlease specify how many submitters is this assay related to: 1\nPlease specify the id of the submitter number 1: 373\n{'data': {'type': 'assays', 'attributes': {'description': 'My assay is the best, the best assay of all. The time have passed and although every other assay has changed, my assay stays the same till this day. Every assay has his moment of change in his lifetime when he questions his entire existence, a time of struggle in the assay world. Going trough such a hard time, my assay stayed loyal and never backed down. ', 'other_creators': 'Bogdan Gherasim', 'policy': {'access': 'no_access', 'permissions': []}, 'title': 'Test Assay', 'assay_class': {'key': 'EXP'}, 'assay_type': {'uri': ''}, 'technology_type': {'uri': ''}}, 'relationships': {'creators': {'data': [{'id': 373, 'type': 'creators'}]}, 'data_files': {'data': [{'id': 278, 'type': 'data_files'}]}, 'documents': {'data': [{'id': 2, 'type': 'documents'}]}, 'investigation': {'data': {'id': 36, 'type': 'investigation'}}, 'models': {'data': [{'id': 103, 'type': 'models'}]}, 'people': {'data': [{'id': 373, 'type': 'people'}]}, 'projects': {'data': [{'id': 50, 'type': 'projects'}]}, 'publications': {'data': [{'id': 62, 'type': 'publications'}]}, 'sops': {'data': [{'id': 43, 'type': 'sops'}]}, 'study': {'data': {'id': 54, 'type': 'study'}}, 'submitters': {'data': [{'id': 373, 'type': 'submitters'}]}}}}\n"
       }
      ],
      "source": "WO.fillSEEKForm()",
      "start_time": "2019-03-19T20:00:10.318Z"
     },
     {
      "end_time": "2019-03-19T20:13:07.476Z",
      "execution_time": "1m 29.0s",
      "outputs": [
       {
        "name": "stdout",
        "output_type": "stream",
        "text": "Please list other creators: Bogdan Gherasim\nPlease specify the title: Test Assay\nPlease specify the assay type uri: \nPlease specify the technology type uri: \nPlease specify how many creators is this assay related to: 1\nPlease specify the id of the creator number 1: 373\nPlease specify how many data_files is this assay related to: 1\nPlease specify the id of the data_file number 1: 278\nPlease specify how many documents is this assay related to: 1\nPlease specify the id of the document number 1: 2\nPlease specify the id of the investigation: 1\nPlease specify how many models is this assay related to: 1\nPlease specify the id of the model number 1: 103\nPlease specify how many people is this assay related to: 1\nPlease specify the id of the peopl number 1: 373\nPlease specify how many projects is this assay related to: 1\nPlease specify the id of the project number 1: 50\nPlease specify how many publications is this assay related to: 1\nPlease specify the id of the publication number 1: 62\nPlease specify how many sops is this assay related to: 1\nPlease specify the id of the sop number 1: 43\nPlease specify the id of the study: 54\nPlease specify how many submitters is this assay related to: 1\nPlease specify the id of the submitter number 1: 373\n{'data': {'type': 'assays', 'attributes': {'description': 'My assay is the best, the best assay of all. The time have passed and although every other assay has changed, my assay stays the same till this day. Every assay has his moment of change in his lifetime when he questions his entire existence, a time of struggle in the assay world. Going trough such a hard time, my assay stayed loyal and never backed down. \\n', 'other_creators': 'Bogdan Gherasim', 'policy': {'access': 'no_access', 'permissions': []}, 'title': 'Test Assay', 'assay_class': {'key': 'EXP'}, 'assay_type': {'uri': ''}, 'technology_type': {'uri': ''}}, 'relationships': {'creators': {'data': [{'id': 373, 'type': 'creators'}]}, 'data_files': {'data': [{'id': 278, 'type': 'data_files'}]}, 'documents': {'data': [{'id': 2, 'type': 'documents'}]}, 'investigation': {'data': {'id': '1', 'type': 'investigations'}}, 'models': {'data': [{'id': 103, 'type': 'models'}]}, 'people': {'data': [{'id': 373, 'type': 'people'}]}, 'projects': {'data': [{'id': 50, 'type': 'projects'}]}, 'publications': {'data': [{'id': 62, 'type': 'publications'}]}, 'sops': {'data': [{'id': 43, 'type': 'sops'}]}, 'study': {'data': {'id': '54', 'type': 'studies'}}, 'submitters': {'data': [{'id': 373, 'type': 'submitters'}]}}}}\n"
       }
      ],
      "source": "WO.fillSEEKForm()",
      "start_time": "2019-03-19T20:11:38.497Z"
     },
     {
      "end_time": "2019-03-19T20:21:52.574Z",
      "execution_time": "2m 14s",
      "outputs": [
       {
        "name": "stdout",
        "output_type": "stream",
        "text": "Please list other creators: Bogdan Gherasim\nPlease specify the title: Test Assay\nPlease specify the assay type uri: https://www.youtube.com/watch?v=T2p3dpA_zwg&list=PL9nj4j0NRA_nBXy1dihC91oOBgqmpAmVa&index=6&t=150s\nPlease specify the technology type uri: https://www.youtube.com/watch?v=T2p3dpA_zwg&list=PL9nj4j0NRA_nBXy1dihC91oOBgqmpAmVa&index=6&t=150s\nPlease specify how many data_files is this assay related to: 1\nPlease specify the id of the data_file number 1: 278\nPlease specify how many documents is this assay related to: 1\nPlease specify the id of the document number 1: 2\nPlease specify the id of the investigation: 36\nPlease specify how many models is this assay related to: 1\nPlease specify the id of the model number 1: 103\nPlease specify how many people is this assay related to: 1\nPlease specify the id of the peopl number 1: 373\nPlease specify how many publications is this assay related to: 1\nPlease specify the id of the publication number 1: 62\nPlease specify how many sops is this assay related to: 1\nPlease specify the id of the sop number 1: 43\nPlease specify the id of the study: 54\nPlease specify how many organisms is this assay related to: 1\nPlease specify the id of the organism number 1: 1933753703\n{'data': {'type': 'assays', 'attributes': {'description': 'My assay is the best, the best assay of all. The time have passed and although every other assay has changed, my assay stays the same till this day. Every assay has his moment of change in his lifetime when he questions his entire existence, a time of struggle in the assay world. Going trough such a hard time, my assay stayed loyal and never backed down. ', 'other_creators': 'Bogdan Gherasim', 'policy': {'access': 'no_access', 'permissions': []}, 'title': 'Test Assay', 'assay_class': {'key': 'EXP'}, 'assay_type': {'uri': 'https://www.youtube.com/watch?v=T2p3dpA_zwg&list=PL9nj4j0NRA_nBXy1dihC91oOBgqmpAmVa&index=6&t=150s'}, 'technology_type': {'uri': 'https://www.youtube.com/watch?v=T2p3dpA_zwg&list=PL9nj4j0NRA_nBXy1dihC91oOBgqmpAmVa&index=6&t=150s'}}, 'relationships': {'data_files': {'data': [{'id': 278, 'type': 'data_files'}]}, 'documents': {'data': [{'id': 2, 'type': 'documents'}]}, 'investigation': {'data': {'id': '36', 'type': 'investigations'}}, 'models': {'data': [{'id': 103, 'type': 'models'}]}, 'people': {'data': [{'id': 373, 'type': 'people'}]}, 'publications': {'data': [{'id': 62, 'type': 'publications'}]}, 'sops': {'data': [{'id': 43, 'type': 'sops'}]}, 'study': {'data': {'id': '54', 'type': 'studies'}}, 'organisms': {'data': [{'id': 1933753703, 'type': 'organisms'}]}}}}\n"
       }
      ],
      "source": "WO.fillSEEKForm()",
      "start_time": "2019-03-19T20:19:38.958Z"
     },
     {
      "end_time": "2019-03-19T20:58:37.310Z",
      "execution_time": "254ms",
      "outputs": [
       {
        "ename": "AttributeError",
        "evalue": "'WriteObject' object has no attribute 'description'",
        "output_type": "error",
        "traceback": [
         "\u001b[0;31m---------------------------------------------------------------------------\u001b[0m",
         "\u001b[0;31mAttributeError\u001b[0m                            Traceback (most recent call last)",
         "\u001b[0;32m<ipython-input-3-aab3ee8483e7>\u001b[0m in \u001b[0;36m<module>\u001b[0;34m()\u001b[0m\n\u001b[0;32m----> 1\u001b[0;31m \u001b[0mWO\u001b[0m\u001b[0;34m.\u001b[0m\u001b[0mfillSEEKForm\u001b[0m\u001b[0;34m(\u001b[0m\u001b[0;34m)\u001b[0m\u001b[0;34m\u001b[0m\u001b[0m\n\u001b[0m",
         "\u001b[0;32m~/Work/ThirdYear/Seek/TheSeekNotebook/WriteObject.py\u001b[0m in \u001b[0;36mfillSEEKForm\u001b[0;34m(self)\u001b[0m\n\u001b[1;32m     61\u001b[0m         \u001b[0;32mif\u001b[0m \u001b[0mself\u001b[0m\u001b[0;34m.\u001b[0m\u001b[0mtype\u001b[0m\u001b[0;34m.\u001b[0m\u001b[0mvalue\u001b[0m \u001b[0;34m==\u001b[0m \u001b[0;34m'assays'\u001b[0m\u001b[0;34m:\u001b[0m\u001b[0;34m\u001b[0m\u001b[0m\n\u001b[1;32m     62\u001b[0m             self.JSON = Helper.assayFormat(self.assayKind.value,\n\u001b[0;32m---> 63\u001b[0;31m                                            \u001b[0mself\u001b[0m\u001b[0;34m.\u001b[0m\u001b[0mdescription\u001b[0m\u001b[0;34m.\u001b[0m\u001b[0mvalue\u001b[0m\u001b[0;34m,\u001b[0m\u001b[0;34m\u001b[0m\u001b[0m\n\u001b[0m\u001b[1;32m     64\u001b[0m                                            self.policyAccess.value)\n\u001b[1;32m     65\u001b[0m \u001b[0;34m\u001b[0m\u001b[0m\n",
         "\u001b[0;31mAttributeError\u001b[0m: 'WriteObject' object has no attribute 'description'"
        ]
       }
      ],
      "source": "WO.fillSEEKForm()",
      "start_time": "2019-03-19T20:58:37.056Z"
     },
     {
      "end_time": "2019-03-19T20:59:39.057Z",
      "execution_time": "76ms",
      "outputs": [
       {
        "ename": "AttributeError",
        "evalue": "'WriteObject' object has no attribute 'policyAccess'",
        "output_type": "error",
        "traceback": [
         "\u001b[0;31m---------------------------------------------------------------------------\u001b[0m",
         "\u001b[0;31mAttributeError\u001b[0m                            Traceback (most recent call last)",
         "\u001b[0;32m<ipython-input-3-aab3ee8483e7>\u001b[0m in \u001b[0;36m<module>\u001b[0;34m()\u001b[0m\n\u001b[0;32m----> 1\u001b[0;31m \u001b[0mWO\u001b[0m\u001b[0;34m.\u001b[0m\u001b[0mfillSEEKForm\u001b[0m\u001b[0;34m(\u001b[0m\u001b[0;34m)\u001b[0m\u001b[0;34m\u001b[0m\u001b[0m\n\u001b[0m",
         "\u001b[0;32m~/Work/ThirdYear/Seek/TheSeekNotebook/WriteObject.py\u001b[0m in \u001b[0;36mfillSEEKForm\u001b[0;34m(self)\u001b[0m\n\u001b[1;32m     61\u001b[0m         \u001b[0;32mif\u001b[0m \u001b[0mself\u001b[0m\u001b[0;34m.\u001b[0m\u001b[0mtype\u001b[0m\u001b[0;34m.\u001b[0m\u001b[0mvalue\u001b[0m \u001b[0;34m==\u001b[0m \u001b[0;34m'assays'\u001b[0m\u001b[0;34m:\u001b[0m\u001b[0;34m\u001b[0m\u001b[0m\n\u001b[1;32m     62\u001b[0m             self.JSON = Helper.assayFormat(self.assayKind.value, \n\u001b[0;32m---> 63\u001b[0;31m                                            self.policyAccess.value)\n\u001b[0m\u001b[1;32m     64\u001b[0m \u001b[0;34m\u001b[0m\u001b[0m\n\u001b[1;32m     65\u001b[0m         \u001b[0;32melif\u001b[0m \u001b[0mself\u001b[0m\u001b[0;34m.\u001b[0m\u001b[0mtype\u001b[0m\u001b[0;34m.\u001b[0m\u001b[0mvalue\u001b[0m \u001b[0;34m==\u001b[0m \u001b[0;34m'investigations'\u001b[0m\u001b[0;34m:\u001b[0m\u001b[0;34m\u001b[0m\u001b[0m\n",
         "\u001b[0;31mAttributeError\u001b[0m: 'WriteObject' object has no attribute 'policyAccess'"
        ]
       }
      ],
      "source": "WO.fillSEEKForm()",
      "start_time": "2019-03-19T20:59:38.981Z"
     },
     {
      "end_time": "2019-03-19T21:00:56.734Z",
      "execution_time": "41.8s",
      "outputs": [
       {
        "name": "stdout",
        "output_type": "stream",
        "text": "Please specify the title: Assay title\nPlease specify the assay type uri: https://www.youtube.com/watch?v=SXFBJufngkA&list=PL9nj4j0NRA_nBXy1dihC91oOBgqmpAmVa&index=23\nPlease specify the technology type uri: https://www.youtube.com/watch?v=SXFBJufngkA&list=PL9nj4j0NRA_nBXy1dihC91oOBgqmpAmVa&index=23\nPlease specify the id of the study: 54\n{'data': {'type': 'assays', 'attributes': {'title': 'Assay title', 'assay_class': {'key': 'EXP'}, 'assay_type': {'uri': 'https://www.youtube.com/watch?v=SXFBJufngkA&list=PL9nj4j0NRA_nBXy1dihC91oOBgqmpAmVa&index=23'}, 'technology_type': {'uri': 'https://www.youtube.com/watch?v=SXFBJufngkA&list=PL9nj4j0NRA_nBXy1dihC91oOBgqmpAmVa&index=23'}}, 'relationships': {'study': {'data': {'id': '54', 'type': 'studies'}}}}}\n"
       }
      ],
      "source": "WO.fillSEEKForm()",
      "start_time": "2019-03-19T21:00:14.939Z"
     },
     {
      "end_time": "2019-03-22T11:44:35.136Z",
      "execution_time": "7.46s",
      "outputs": [
       {
        "name": "stdout",
        "output_type": "stream",
        "text": "Please enter the name for the investigation: Test Investigation\n{'data': {'type': 'investigations', 'attributes': {'title': 'Test Investigation'}, 'relationships': {'projects': {'data': [{'id': 33, 'type': 'projects'}]}}}}\n"
       }
      ],
      "source": "WO.fillSEEKForm()",
      "start_time": "2019-03-22T11:44:27.681Z"
     },
     {
      "end_time": "2019-03-25T10:19:31.315Z",
      "execution_time": "8ms",
      "outputs": [
       {
        "name": "stdout",
        "output_type": "stream",
        "text": "{'data': {'type': 'investigations', 'attributes': {'title': 'my lovely investigation', 'description': 'the description of my lovely investigation'}, 'relationships': {'projects': {'data': [{'id': 50, 'type': 'projects'}]}}}}\n"
       }
      ],
      "source": "WO.fillSEEKForm()",
      "start_time": "2019-03-25T10:19:31.307Z"
     },
     {
      "end_time": "2019-03-25T10:25:27.537Z",
      "execution_time": "22ms",
      "outputs": [
       {
        "name": "stdout",
        "output_type": "stream",
        "text": "{'data': {'type': 'investigations', 'attributes': {'title': 'my lovely investigation', 'description': 'the description of my lovely investigation'}, 'relationships': {'projects': {'data': [{'id': 50, 'type': 'projects'}]}}}}\n"
       }
      ],
      "source": "WO.fillSEEKForm()",
      "start_time": "2019-03-25T10:25:27.515Z"
     },
     {
      "end_time": "2019-03-25T10:29:47.968Z",
      "execution_time": "5.88s",
      "outputs": [
       {
        "name": "stdout",
        "output_type": "stream",
        "text": "Please specify how many projects is this investigation related to: 1\nPlease specify the id of the project number 1: 50\n{'data': {'type': 'investigations', 'attributes': {'title': 'my lovely investigation', 'description': 'the description of my lovely investigation'}, 'relationships': {'projects': {'data': [{'id': 50, 'type': 'projects'}]}}}}\n"
       }
      ],
      "source": "WO.fillSEEKForm()",
      "start_time": "2019-03-25T10:29:42.089Z"
     },
     {
      "end_time": "2019-03-25T10:33:54.183Z",
      "execution_time": "10.5s",
      "outputs": [
       {
        "name": "stdout",
        "output_type": "stream",
        "text": "Please enter the title: Test Assay\n"
       },
       {
        "ename": "KeyboardInterrupt",
        "evalue": "",
        "output_type": "error",
        "traceback": [
         "\u001b[0;31m---------------------------------------------------------------------------\u001b[0m",
         "\u001b[0;31mKeyboardInterrupt\u001b[0m                         Traceback (most recent call last)",
         "\u001b[0;32m~/anaconda3/lib/python3.6/site-packages/ipykernel/kernelbase.py\u001b[0m in \u001b[0;36m_input_request\u001b[0;34m(self, prompt, ident, parent, password)\u001b[0m\n\u001b[1;32m    728\u001b[0m             \u001b[0;32mtry\u001b[0m\u001b[0;34m:\u001b[0m\u001b[0;34m\u001b[0m\u001b[0m\n\u001b[0;32m--> 729\u001b[0;31m                 \u001b[0mident\u001b[0m\u001b[0;34m,\u001b[0m \u001b[0mreply\u001b[0m \u001b[0;34m=\u001b[0m \u001b[0mself\u001b[0m\u001b[0;34m.\u001b[0m\u001b[0msession\u001b[0m\u001b[0;34m.\u001b[0m\u001b[0mrecv\u001b[0m\u001b[0;34m(\u001b[0m\u001b[0mself\u001b[0m\u001b[0;34m.\u001b[0m\u001b[0mstdin_socket\u001b[0m\u001b[0;34m,\u001b[0m \u001b[0;36m0\u001b[0m\u001b[0;34m)\u001b[0m\u001b[0;34m\u001b[0m\u001b[0m\n\u001b[0m\u001b[1;32m    730\u001b[0m             \u001b[0;32mexcept\u001b[0m \u001b[0mException\u001b[0m\u001b[0;34m:\u001b[0m\u001b[0;34m\u001b[0m\u001b[0m\n",
         "\u001b[0;32m~/anaconda3/lib/python3.6/site-packages/jupyter_client/session.py\u001b[0m in \u001b[0;36mrecv\u001b[0;34m(self, socket, mode, content, copy)\u001b[0m\n\u001b[1;32m    802\u001b[0m         \u001b[0;32mtry\u001b[0m\u001b[0;34m:\u001b[0m\u001b[0;34m\u001b[0m\u001b[0m\n\u001b[0;32m--> 803\u001b[0;31m             \u001b[0mmsg_list\u001b[0m \u001b[0;34m=\u001b[0m \u001b[0msocket\u001b[0m\u001b[0;34m.\u001b[0m\u001b[0mrecv_multipart\u001b[0m\u001b[0;34m(\u001b[0m\u001b[0mmode\u001b[0m\u001b[0;34m,\u001b[0m \u001b[0mcopy\u001b[0m\u001b[0;34m=\u001b[0m\u001b[0mcopy\u001b[0m\u001b[0;34m)\u001b[0m\u001b[0;34m\u001b[0m\u001b[0m\n\u001b[0m\u001b[1;32m    804\u001b[0m         \u001b[0;32mexcept\u001b[0m \u001b[0mzmq\u001b[0m\u001b[0;34m.\u001b[0m\u001b[0mZMQError\u001b[0m \u001b[0;32mas\u001b[0m \u001b[0me\u001b[0m\u001b[0;34m:\u001b[0m\u001b[0;34m\u001b[0m\u001b[0m\n",
         "\u001b[0;32m~/anaconda3/lib/python3.6/site-packages/zmq/sugar/socket.py\u001b[0m in \u001b[0;36mrecv_multipart\u001b[0;34m(self, flags, copy, track)\u001b[0m\n\u001b[1;32m    465\u001b[0m         \"\"\"\n\u001b[0;32m--> 466\u001b[0;31m         \u001b[0mparts\u001b[0m \u001b[0;34m=\u001b[0m \u001b[0;34m[\u001b[0m\u001b[0mself\u001b[0m\u001b[0;34m.\u001b[0m\u001b[0mrecv\u001b[0m\u001b[0;34m(\u001b[0m\u001b[0mflags\u001b[0m\u001b[0;34m,\u001b[0m \u001b[0mcopy\u001b[0m\u001b[0;34m=\u001b[0m\u001b[0mcopy\u001b[0m\u001b[0;34m,\u001b[0m \u001b[0mtrack\u001b[0m\u001b[0;34m=\u001b[0m\u001b[0mtrack\u001b[0m\u001b[0;34m)\u001b[0m\u001b[0;34m]\u001b[0m\u001b[0;34m\u001b[0m\u001b[0m\n\u001b[0m\u001b[1;32m    467\u001b[0m         \u001b[0;31m# have first part already, only loop while more to receive\u001b[0m\u001b[0;34m\u001b[0m\u001b[0;34m\u001b[0m\u001b[0m\n",
         "\u001b[0;32mzmq/backend/cython/socket.pyx\u001b[0m in \u001b[0;36mzmq.backend.cython.socket.Socket.recv\u001b[0;34m()\u001b[0m\n",
         "\u001b[0;32mzmq/backend/cython/socket.pyx\u001b[0m in \u001b[0;36mzmq.backend.cython.socket.Socket.recv\u001b[0;34m()\u001b[0m\n",
         "\u001b[0;32mzmq/backend/cython/socket.pyx\u001b[0m in \u001b[0;36mzmq.backend.cython.socket._recv_copy\u001b[0;34m()\u001b[0m\n",
         "\u001b[0;32m~/anaconda3/lib/python3.6/site-packages/zmq/backend/cython/checkrc.pxd\u001b[0m in \u001b[0;36mzmq.backend.cython.checkrc._check_rc\u001b[0;34m()\u001b[0m\n",
         "\u001b[0;31mKeyboardInterrupt\u001b[0m: ",
         "\nDuring handling of the above exception, another exception occurred:\n",
         "\u001b[0;31mKeyboardInterrupt\u001b[0m                         Traceback (most recent call last)",
         "\u001b[0;32m<ipython-input-2-aab3ee8483e7>\u001b[0m in \u001b[0;36m<module>\u001b[0;34m()\u001b[0m\n\u001b[0;32m----> 1\u001b[0;31m \u001b[0mWO\u001b[0m\u001b[0;34m.\u001b[0m\u001b[0mfillSEEKForm\u001b[0m\u001b[0;34m(\u001b[0m\u001b[0;34m)\u001b[0m\u001b[0;34m\u001b[0m\u001b[0m\n\u001b[0m",
         "\u001b[0;32m~/Work/ThirdYear/TheSeekNotebook/WriteObject.py\u001b[0m in \u001b[0;36mfillSEEKForm\u001b[0;34m(self)\u001b[0m\n\u001b[1;32m     63\u001b[0m \u001b[0;34m\u001b[0m\u001b[0m\n\u001b[1;32m     64\u001b[0m         \u001b[0;32melif\u001b[0m \u001b[0mself\u001b[0m\u001b[0;34m.\u001b[0m\u001b[0mtype\u001b[0m\u001b[0;34m.\u001b[0m\u001b[0mvalue\u001b[0m \u001b[0;34m==\u001b[0m \u001b[0;34m'investigations'\u001b[0m\u001b[0;34m:\u001b[0m\u001b[0;34m\u001b[0m\u001b[0m\n\u001b[0;32m---> 65\u001b[0;31m             \u001b[0mself\u001b[0m\u001b[0;34m.\u001b[0m\u001b[0mJSON\u001b[0m \u001b[0;34m=\u001b[0m \u001b[0mHelper\u001b[0m\u001b[0;34m.\u001b[0m\u001b[0minvestigationFormat\u001b[0m\u001b[0;34m(\u001b[0m\u001b[0;34m)\u001b[0m\u001b[0;34m\u001b[0m\u001b[0m\n\u001b[0m\u001b[1;32m     66\u001b[0m         \u001b[0;32melif\u001b[0m \u001b[0mself\u001b[0m\u001b[0;34m.\u001b[0m\u001b[0mtype\u001b[0m\u001b[0;34m.\u001b[0m\u001b[0mvalue\u001b[0m \u001b[0;34m==\u001b[0m \u001b[0;34m'studies'\u001b[0m\u001b[0;34m:\u001b[0m\u001b[0;34m\u001b[0m\u001b[0m\n\u001b[1;32m     67\u001b[0m             \u001b[0mself\u001b[0m\u001b[0;34m.\u001b[0m\u001b[0mJSON\u001b[0m \u001b[0;34m=\u001b[0m \u001b[0mHelper\u001b[0m\u001b[0;34m.\u001b[0m\u001b[0mstudyFormat\u001b[0m\u001b[0;34m(\u001b[0m\u001b[0;34m)\u001b[0m\u001b[0;34m\u001b[0m\u001b[0m\n",
         "\u001b[0;32m~/Work/ThirdYear/TheSeekNotebook/Helper.py\u001b[0m in \u001b[0;36minvestigationFormat\u001b[0;34m()\u001b[0m\n\u001b[1;32m    107\u001b[0m     \u001b[0mJSON\u001b[0m\u001b[0;34m[\u001b[0m\u001b[0;34m'data'\u001b[0m\u001b[0;34m]\u001b[0m\u001b[0;34m[\u001b[0m\u001b[0;34m'attributes'\u001b[0m\u001b[0;34m]\u001b[0m \u001b[0;34m=\u001b[0m \u001b[0;34m{\u001b[0m\u001b[0;34m}\u001b[0m\u001b[0;34m\u001b[0m\u001b[0m\n\u001b[1;32m    108\u001b[0m     \u001b[0mJSON\u001b[0m\u001b[0;34m[\u001b[0m\u001b[0;34m'data'\u001b[0m\u001b[0;34m]\u001b[0m\u001b[0;34m[\u001b[0m\u001b[0;34m'attributes'\u001b[0m\u001b[0;34m]\u001b[0m\u001b[0;34m[\u001b[0m\u001b[0;34m'title'\u001b[0m\u001b[0;34m]\u001b[0m \u001b[0;34m=\u001b[0m \u001b[0minput\u001b[0m\u001b[0;34m(\u001b[0m\u001b[0;34m'Please enter the title: '\u001b[0m\u001b[0;34m)\u001b[0m\u001b[0;34m\u001b[0m\u001b[0m\n\u001b[0;32m--> 109\u001b[0;31m     \u001b[0mJSON\u001b[0m\u001b[0;34m[\u001b[0m\u001b[0;34m'data'\u001b[0m\u001b[0;34m]\u001b[0m\u001b[0;34m[\u001b[0m\u001b[0;34m'attributes'\u001b[0m\u001b[0;34m]\u001b[0m\u001b[0;34m[\u001b[0m\u001b[0;34m'description'\u001b[0m\u001b[0;34m]\u001b[0m \u001b[0;34m=\u001b[0m \u001b[0minput\u001b[0m\u001b[0;34m(\u001b[0m\u001b[0;34m'Please enter the description: '\u001b[0m\u001b[0;34m)\u001b[0m\u001b[0;34m\u001b[0m\u001b[0m\n\u001b[0m\u001b[1;32m    110\u001b[0m     \u001b[0mJSON\u001b[0m\u001b[0;34m[\u001b[0m\u001b[0;34m'data'\u001b[0m\u001b[0;34m]\u001b[0m\u001b[0;34m[\u001b[0m\u001b[0;34m'relationships'\u001b[0m\u001b[0;34m]\u001b[0m \u001b[0;34m=\u001b[0m \u001b[0;34m{\u001b[0m\u001b[0;34m}\u001b[0m\u001b[0;34m\u001b[0m\u001b[0m\n\u001b[1;32m    111\u001b[0m \u001b[0;34m\u001b[0m\u001b[0m\n",
         "\u001b[0;32m~/anaconda3/lib/python3.6/site-packages/ipykernel/kernelbase.py\u001b[0m in \u001b[0;36mraw_input\u001b[0;34m(self, prompt)\u001b[0m\n\u001b[1;32m    702\u001b[0m             \u001b[0mself\u001b[0m\u001b[0;34m.\u001b[0m\u001b[0m_parent_ident\u001b[0m\u001b[0;34m,\u001b[0m\u001b[0;34m\u001b[0m\u001b[0m\n\u001b[1;32m    703\u001b[0m             \u001b[0mself\u001b[0m\u001b[0;34m.\u001b[0m\u001b[0m_parent_header\u001b[0m\u001b[0;34m,\u001b[0m\u001b[0;34m\u001b[0m\u001b[0m\n\u001b[0;32m--> 704\u001b[0;31m             \u001b[0mpassword\u001b[0m\u001b[0;34m=\u001b[0m\u001b[0;32mFalse\u001b[0m\u001b[0;34m,\u001b[0m\u001b[0;34m\u001b[0m\u001b[0m\n\u001b[0m\u001b[1;32m    705\u001b[0m         )\n\u001b[1;32m    706\u001b[0m \u001b[0;34m\u001b[0m\u001b[0m\n",
         "\u001b[0;32m~/anaconda3/lib/python3.6/site-packages/ipykernel/kernelbase.py\u001b[0m in \u001b[0;36m_input_request\u001b[0;34m(self, prompt, ident, parent, password)\u001b[0m\n\u001b[1;32m    732\u001b[0m             \u001b[0;32mexcept\u001b[0m \u001b[0mKeyboardInterrupt\u001b[0m\u001b[0;34m:\u001b[0m\u001b[0;34m\u001b[0m\u001b[0m\n\u001b[1;32m    733\u001b[0m                 \u001b[0;31m# re-raise KeyboardInterrupt, to truncate traceback\u001b[0m\u001b[0;34m\u001b[0m\u001b[0;34m\u001b[0m\u001b[0m\n\u001b[0;32m--> 734\u001b[0;31m                 \u001b[0;32mraise\u001b[0m \u001b[0mKeyboardInterrupt\u001b[0m\u001b[0;34m\u001b[0m\u001b[0m\n\u001b[0m\u001b[1;32m    735\u001b[0m             \u001b[0;32melse\u001b[0m\u001b[0;34m:\u001b[0m\u001b[0;34m\u001b[0m\u001b[0m\n\u001b[1;32m    736\u001b[0m                 \u001b[0;32mbreak\u001b[0m\u001b[0;34m\u001b[0m\u001b[0m\n",
         "\u001b[0;31mKeyboardInterrupt\u001b[0m: "
        ]
       }
      ],
      "source": "WO.fillSEEKForm()",
      "start_time": "2019-03-25T10:33:43.679Z"
     },
     {
      "end_time": "2019-03-25T10:34:08.446Z",
      "execution_time": "13.3s",
      "outputs": [
       {
        "name": "stdout",
        "output_type": "stream",
        "text": "Please enter the title: Test investigation\nPlease enter the description: a fabulous investigation\nPlease specify how many projects is this investigation related to: 1\nPlease specify the id of the project number 1: 50\n{'data': {'type': 'investigations', 'attributes': {'title': 'Test investigation', 'description': 'a fabulous investigation'}, 'relationships': {'projects': {'data': [{'id': 50, 'type': 'projects'}]}}}}\n"
       }
      ],
      "source": "WO.fillSEEKForm()",
      "start_time": "2019-03-25T10:33:55.109Z"
     },
     {
      "end_time": "2019-03-25T10:34:47.504Z",
      "execution_time": "37ms",
      "outputs": [
       {
        "ename": "AttributeError",
        "evalue": "'WriteObject' object has no attribute 'assayKind'",
        "output_type": "error",
        "traceback": [
         "\u001b[0;31m---------------------------------------------------------------------------\u001b[0m",
         "\u001b[0;31mAttributeError\u001b[0m                            Traceback (most recent call last)",
         "\u001b[0;32m<ipython-input-7-aab3ee8483e7>\u001b[0m in \u001b[0;36m<module>\u001b[0;34m()\u001b[0m\n\u001b[0;32m----> 1\u001b[0;31m \u001b[0mWO\u001b[0m\u001b[0;34m.\u001b[0m\u001b[0mfillSEEKForm\u001b[0m\u001b[0;34m(\u001b[0m\u001b[0;34m)\u001b[0m\u001b[0;34m\u001b[0m\u001b[0m\n\u001b[0m",
         "\u001b[0;32m~/Work/ThirdYear/TheSeekNotebook/WriteObject.py\u001b[0m in \u001b[0;36mfillSEEKForm\u001b[0;34m(self)\u001b[0m\n\u001b[1;32m     60\u001b[0m \u001b[0;34m\u001b[0m\u001b[0m\n\u001b[1;32m     61\u001b[0m         \u001b[0;32mif\u001b[0m \u001b[0mself\u001b[0m\u001b[0;34m.\u001b[0m\u001b[0mtype\u001b[0m\u001b[0;34m.\u001b[0m\u001b[0mvalue\u001b[0m \u001b[0;34m==\u001b[0m \u001b[0;34m'assays'\u001b[0m\u001b[0;34m:\u001b[0m\u001b[0;34m\u001b[0m\u001b[0m\n\u001b[0;32m---> 62\u001b[0;31m             \u001b[0mself\u001b[0m\u001b[0;34m.\u001b[0m\u001b[0mJSON\u001b[0m \u001b[0;34m=\u001b[0m \u001b[0mHelper\u001b[0m\u001b[0;34m.\u001b[0m\u001b[0massayFormat\u001b[0m\u001b[0;34m(\u001b[0m\u001b[0mself\u001b[0m\u001b[0;34m.\u001b[0m\u001b[0massayKind\u001b[0m\u001b[0;34m.\u001b[0m\u001b[0mvalue\u001b[0m\u001b[0;34m)\u001b[0m\u001b[0;34m\u001b[0m\u001b[0m\n\u001b[0m\u001b[1;32m     63\u001b[0m \u001b[0;34m\u001b[0m\u001b[0m\n\u001b[1;32m     64\u001b[0m         \u001b[0;32melif\u001b[0m \u001b[0mself\u001b[0m\u001b[0;34m.\u001b[0m\u001b[0mtype\u001b[0m\u001b[0;34m.\u001b[0m\u001b[0mvalue\u001b[0m \u001b[0;34m==\u001b[0m \u001b[0;34m'investigations'\u001b[0m\u001b[0;34m:\u001b[0m\u001b[0;34m\u001b[0m\u001b[0m\n",
         "\u001b[0;31mAttributeError\u001b[0m: 'WriteObject' object has no attribute 'assayKind'"
        ]
       }
      ],
      "source": "WO.fillSEEKForm()",
      "start_time": "2019-03-25T10:34:47.467Z"
     },
     {
      "end_time": "2019-03-25T10:36:26.931Z",
      "execution_time": "34.4s",
      "outputs": [
       {
        "name": "stdout",
        "output_type": "stream",
        "text": "Please specify the title: Test assay\nPlease specify the assay type uri: \nPlease specify the technology type uri: \nPlease specify the id of the study: \n{'data': {'type': 'assays', 'attributes': {'title': 'Test assay', 'assay_class': {'key': 'EXP'}, 'assay_type': {'uri': ''}, 'technology_type': {'uri': ''}}, 'relationships': {'study': {'data': {'id': '', 'type': 'studies'}}}}}\n"
       }
      ],
      "source": "WO.fillSEEKForm()",
      "start_time": "2019-03-25T10:35:52.537Z"
     },
     {
      "end_time": "2019-03-25T10:39:36.234Z",
      "execution_time": "12.3s",
      "outputs": [
       {
        "name": "stdout",
        "output_type": "stream",
        "text": "Please specify how many investigations is this study related to: 1\n"
       },
       {
        "ename": "KeyError",
        "evalue": "'relationships'",
        "output_type": "error",
        "traceback": [
         "\u001b[0;31m---------------------------------------------------------------------------\u001b[0m",
         "\u001b[0;31mKeyError\u001b[0m                                  Traceback (most recent call last)",
         "\u001b[0;32m<ipython-input-2-aab3ee8483e7>\u001b[0m in \u001b[0;36m<module>\u001b[0;34m()\u001b[0m\n\u001b[0;32m----> 1\u001b[0;31m \u001b[0mWO\u001b[0m\u001b[0;34m.\u001b[0m\u001b[0mfillSEEKForm\u001b[0m\u001b[0;34m(\u001b[0m\u001b[0;34m)\u001b[0m\u001b[0;34m\u001b[0m\u001b[0m\n\u001b[0m",
         "\u001b[0;32m~/Work/ThirdYear/TheSeekNotebook/WriteObject.py\u001b[0m in \u001b[0;36mfillSEEKForm\u001b[0;34m(self)\u001b[0m\n\u001b[1;32m     65\u001b[0m             \u001b[0mself\u001b[0m\u001b[0;34m.\u001b[0m\u001b[0mJSON\u001b[0m \u001b[0;34m=\u001b[0m \u001b[0mHelper\u001b[0m\u001b[0;34m.\u001b[0m\u001b[0minvestigationFormat\u001b[0m\u001b[0;34m(\u001b[0m\u001b[0;34m)\u001b[0m\u001b[0;34m\u001b[0m\u001b[0m\n\u001b[1;32m     66\u001b[0m         \u001b[0;32melif\u001b[0m \u001b[0mself\u001b[0m\u001b[0;34m.\u001b[0m\u001b[0mtype\u001b[0m\u001b[0;34m.\u001b[0m\u001b[0mvalue\u001b[0m \u001b[0;34m==\u001b[0m \u001b[0;34m'studies'\u001b[0m\u001b[0;34m:\u001b[0m\u001b[0;34m\u001b[0m\u001b[0m\n\u001b[0;32m---> 67\u001b[0;31m             \u001b[0mself\u001b[0m\u001b[0;34m.\u001b[0m\u001b[0mJSON\u001b[0m \u001b[0;34m=\u001b[0m \u001b[0mHelper\u001b[0m\u001b[0;34m.\u001b[0m\u001b[0mstudyFormat\u001b[0m\u001b[0;34m(\u001b[0m\u001b[0;34m)\u001b[0m\u001b[0;34m\u001b[0m\u001b[0m\n\u001b[0m\u001b[1;32m     68\u001b[0m \u001b[0;34m\u001b[0m\u001b[0m\n\u001b[1;32m     69\u001b[0m         \u001b[0mprint\u001b[0m\u001b[0;34m(\u001b[0m\u001b[0mself\u001b[0m\u001b[0;34m.\u001b[0m\u001b[0mJSON\u001b[0m\u001b[0;34m)\u001b[0m\u001b[0;34m\u001b[0m\u001b[0m\n",
         "\u001b[0;32m~/Work/ThirdYear/TheSeekNotebook/Helper.py\u001b[0m in \u001b[0;36mstudyFormat\u001b[0;34m()\u001b[0m\n\u001b[1;32m     96\u001b[0m     \u001b[0;31m# relationsFormat(JSON, 'data_files', 'study')\u001b[0m\u001b[0;34m\u001b[0m\u001b[0;34m\u001b[0m\u001b[0m\n\u001b[1;32m     97\u001b[0m     \u001b[0;31m# relationsFormat(JSON, 'documents', 'study')\u001b[0m\u001b[0;34m\u001b[0m\u001b[0;34m\u001b[0m\u001b[0m\n\u001b[0;32m---> 98\u001b[0;31m     \u001b[0mrelationsFormat\u001b[0m\u001b[0;34m(\u001b[0m\u001b[0mJSON\u001b[0m\u001b[0;34m,\u001b[0m \u001b[0;34m'investigations'\u001b[0m\u001b[0;34m,\u001b[0m \u001b[0;34m'study'\u001b[0m\u001b[0;34m)\u001b[0m\u001b[0;34m\u001b[0m\u001b[0m\n\u001b[0m\u001b[1;32m     99\u001b[0m     \u001b[0;31m# relationsFormat(JSON, 'models', 'study')\u001b[0m\u001b[0;34m\u001b[0m\u001b[0;34m\u001b[0m\u001b[0m\n\u001b[1;32m    100\u001b[0m     \u001b[0;31m# relationsFormat(JSON, 'people', 'study')\u001b[0m\u001b[0;34m\u001b[0m\u001b[0;34m\u001b[0m\u001b[0m\n",
         "\u001b[0;32m~/Work/ThirdYear/TheSeekNotebook/Helper.py\u001b[0m in \u001b[0;36mrelationsFormat\u001b[0;34m(JSON, type, source)\u001b[0m\n\u001b[1;32m      6\u001b[0m \u001b[0;34m\u001b[0m\u001b[0m\n\u001b[1;32m      7\u001b[0m     \u001b[0;32mif\u001b[0m \u001b[0mnumberOfRelations\u001b[0m \u001b[0;34m!=\u001b[0m \u001b[0;36m0\u001b[0m\u001b[0;34m:\u001b[0m\u001b[0;34m\u001b[0m\u001b[0m\n\u001b[0;32m----> 8\u001b[0;31m         \u001b[0mJSON\u001b[0m\u001b[0;34m[\u001b[0m\u001b[0;34m\"data\"\u001b[0m\u001b[0;34m]\u001b[0m\u001b[0;34m[\u001b[0m\u001b[0;34m\"relationships\"\u001b[0m\u001b[0;34m]\u001b[0m\u001b[0;34m[\u001b[0m\u001b[0mtype\u001b[0m\u001b[0;34m]\u001b[0m \u001b[0;34m=\u001b[0m \u001b[0;34m{\u001b[0m\u001b[0;34m}\u001b[0m\u001b[0;34m\u001b[0m\u001b[0m\n\u001b[0m\u001b[1;32m      9\u001b[0m         \u001b[0mJSON\u001b[0m\u001b[0;34m[\u001b[0m\u001b[0;34m\"data\"\u001b[0m\u001b[0;34m]\u001b[0m\u001b[0;34m[\u001b[0m\u001b[0;34m\"relationships\"\u001b[0m\u001b[0;34m]\u001b[0m\u001b[0;34m[\u001b[0m\u001b[0mtype\u001b[0m\u001b[0;34m]\u001b[0m\u001b[0;34m[\u001b[0m\u001b[0;34m\"data\"\u001b[0m\u001b[0;34m]\u001b[0m \u001b[0;34m=\u001b[0m \u001b[0;34m[\u001b[0m\u001b[0;34m{\u001b[0m\u001b[0;34m}\u001b[0m\u001b[0;34m]\u001b[0m\u001b[0;34m\u001b[0m\u001b[0m\n\u001b[1;32m     10\u001b[0m \u001b[0;34m\u001b[0m\u001b[0m\n",
         "\u001b[0;31mKeyError\u001b[0m: 'relationships'"
        ]
       }
      ],
      "source": "WO.fillSEEKForm()",
      "start_time": "2019-03-25T10:39:23.945Z"
     },
     {
      "end_time": "2019-03-25T10:39:45.803Z",
      "execution_time": "990ms",
      "outputs": [
       {
        "name": "stdout",
        "output_type": "stream",
        "text": "Please specify how many investigations is this study related to: 1\n"
       },
       {
        "ename": "KeyError",
        "evalue": "'relationships'",
        "output_type": "error",
        "traceback": [
         "\u001b[0;31m---------------------------------------------------------------------------\u001b[0m",
         "\u001b[0;31mKeyError\u001b[0m                                  Traceback (most recent call last)",
         "\u001b[0;32m<ipython-input-3-aab3ee8483e7>\u001b[0m in \u001b[0;36m<module>\u001b[0;34m()\u001b[0m\n\u001b[0;32m----> 1\u001b[0;31m \u001b[0mWO\u001b[0m\u001b[0;34m.\u001b[0m\u001b[0mfillSEEKForm\u001b[0m\u001b[0;34m(\u001b[0m\u001b[0;34m)\u001b[0m\u001b[0;34m\u001b[0m\u001b[0m\n\u001b[0m",
         "\u001b[0;32m~/Work/ThirdYear/TheSeekNotebook/WriteObject.py\u001b[0m in \u001b[0;36mfillSEEKForm\u001b[0;34m(self)\u001b[0m\n\u001b[1;32m     65\u001b[0m             \u001b[0mself\u001b[0m\u001b[0;34m.\u001b[0m\u001b[0mJSON\u001b[0m \u001b[0;34m=\u001b[0m \u001b[0mHelper\u001b[0m\u001b[0;34m.\u001b[0m\u001b[0minvestigationFormat\u001b[0m\u001b[0;34m(\u001b[0m\u001b[0;34m)\u001b[0m\u001b[0;34m\u001b[0m\u001b[0m\n\u001b[1;32m     66\u001b[0m         \u001b[0;32melif\u001b[0m \u001b[0mself\u001b[0m\u001b[0;34m.\u001b[0m\u001b[0mtype\u001b[0m\u001b[0;34m.\u001b[0m\u001b[0mvalue\u001b[0m \u001b[0;34m==\u001b[0m \u001b[0;34m'studies'\u001b[0m\u001b[0;34m:\u001b[0m\u001b[0;34m\u001b[0m\u001b[0m\n\u001b[0;32m---> 67\u001b[0;31m             \u001b[0mself\u001b[0m\u001b[0;34m.\u001b[0m\u001b[0mJSON\u001b[0m \u001b[0;34m=\u001b[0m \u001b[0mHelper\u001b[0m\u001b[0;34m.\u001b[0m\u001b[0mstudyFormat\u001b[0m\u001b[0;34m(\u001b[0m\u001b[0;34m)\u001b[0m\u001b[0;34m\u001b[0m\u001b[0m\n\u001b[0m\u001b[1;32m     68\u001b[0m \u001b[0;34m\u001b[0m\u001b[0m\n\u001b[1;32m     69\u001b[0m         \u001b[0mprint\u001b[0m\u001b[0;34m(\u001b[0m\u001b[0mself\u001b[0m\u001b[0;34m.\u001b[0m\u001b[0mJSON\u001b[0m\u001b[0;34m)\u001b[0m\u001b[0;34m\u001b[0m\u001b[0m\n",
         "\u001b[0;32m~/Work/ThirdYear/TheSeekNotebook/Helper.py\u001b[0m in \u001b[0;36mstudyFormat\u001b[0;34m()\u001b[0m\n\u001b[1;32m     96\u001b[0m     \u001b[0;31m# relationsFormat(JSON, 'data_files', 'study')\u001b[0m\u001b[0;34m\u001b[0m\u001b[0;34m\u001b[0m\u001b[0m\n\u001b[1;32m     97\u001b[0m     \u001b[0;31m# relationsFormat(JSON, 'documents', 'study')\u001b[0m\u001b[0;34m\u001b[0m\u001b[0;34m\u001b[0m\u001b[0m\n\u001b[0;32m---> 98\u001b[0;31m     \u001b[0mrelationsFormat\u001b[0m\u001b[0;34m(\u001b[0m\u001b[0mJSON\u001b[0m\u001b[0;34m,\u001b[0m \u001b[0;34m'investigations'\u001b[0m\u001b[0;34m,\u001b[0m \u001b[0;34m'study'\u001b[0m\u001b[0;34m)\u001b[0m\u001b[0;34m\u001b[0m\u001b[0m\n\u001b[0m\u001b[1;32m     99\u001b[0m     \u001b[0;31m# relationsFormat(JSON, 'models', 'study')\u001b[0m\u001b[0;34m\u001b[0m\u001b[0;34m\u001b[0m\u001b[0m\n\u001b[1;32m    100\u001b[0m     \u001b[0;31m# relationsFormat(JSON, 'people', 'study')\u001b[0m\u001b[0;34m\u001b[0m\u001b[0;34m\u001b[0m\u001b[0m\n",
         "\u001b[0;32m~/Work/ThirdYear/TheSeekNotebook/Helper.py\u001b[0m in \u001b[0;36mrelationsFormat\u001b[0;34m(JSON, type, source)\u001b[0m\n\u001b[1;32m      6\u001b[0m \u001b[0;34m\u001b[0m\u001b[0m\n\u001b[1;32m      7\u001b[0m     \u001b[0;32mif\u001b[0m \u001b[0mnumberOfRelations\u001b[0m \u001b[0;34m!=\u001b[0m \u001b[0;36m0\u001b[0m\u001b[0;34m:\u001b[0m\u001b[0;34m\u001b[0m\u001b[0m\n\u001b[0;32m----> 8\u001b[0;31m         \u001b[0mJSON\u001b[0m\u001b[0;34m[\u001b[0m\u001b[0;34m\"data\"\u001b[0m\u001b[0;34m]\u001b[0m\u001b[0;34m[\u001b[0m\u001b[0;34m\"relationships\"\u001b[0m\u001b[0;34m]\u001b[0m\u001b[0;34m[\u001b[0m\u001b[0mtype\u001b[0m\u001b[0;34m]\u001b[0m \u001b[0;34m=\u001b[0m \u001b[0;34m{\u001b[0m\u001b[0;34m}\u001b[0m\u001b[0;34m\u001b[0m\u001b[0m\n\u001b[0m\u001b[1;32m      9\u001b[0m         \u001b[0mJSON\u001b[0m\u001b[0;34m[\u001b[0m\u001b[0;34m\"data\"\u001b[0m\u001b[0;34m]\u001b[0m\u001b[0;34m[\u001b[0m\u001b[0;34m\"relationships\"\u001b[0m\u001b[0;34m]\u001b[0m\u001b[0;34m[\u001b[0m\u001b[0mtype\u001b[0m\u001b[0;34m]\u001b[0m\u001b[0;34m[\u001b[0m\u001b[0;34m\"data\"\u001b[0m\u001b[0;34m]\u001b[0m \u001b[0;34m=\u001b[0m \u001b[0;34m[\u001b[0m\u001b[0;34m{\u001b[0m\u001b[0;34m}\u001b[0m\u001b[0;34m]\u001b[0m\u001b[0;34m\u001b[0m\u001b[0m\n\u001b[1;32m     10\u001b[0m \u001b[0;34m\u001b[0m\u001b[0m\n",
         "\u001b[0;31mKeyError\u001b[0m: 'relationships'"
        ]
       }
      ],
      "source": "WO.fillSEEKForm()",
      "start_time": "2019-03-25T10:39:44.813Z"
     },
     {
      "end_time": "2019-03-25T10:40:34.903Z",
      "execution_time": "2.00s",
      "outputs": [
       {
        "name": "stdout",
        "output_type": "stream",
        "text": "Please specify how many investigations is this study related to: 1\nPlease specify the id of the investigation number 1: 41\n{'data': {'type': 'studies', 'attributes': {'title': 'my lovely study', 'description': 'the description of lovely study', 'policy': {'access': 'view', 'permissions': [{'resource': {'id': '1', 'type': 'people'}, 'access': 'manage'}]}}, 'relationships': {'investigations': {'data': [{'id': 41, 'type': 'investigations'}]}}}}\n"
       }
      ],
      "source": "WO.fillSEEKForm()",
      "start_time": "2019-03-25T10:40:32.899Z"
     },
     {
      "end_time": "2019-03-25T10:41:21.665Z",
      "execution_time": "10ms",
      "outputs": [
       {
        "name": "stdout",
        "output_type": "stream",
        "text": "{'data': {'type': 'studies', 'attributes': {'title': 'my lovely study', 'description': 'the description of lovely study', 'policy': {'access': 'view', 'permissions': [{'resource': {'id': '1', 'type': 'people'}, 'access': 'manage'}]}}, 'relationships': {'investigation': {'data': {'id': 41, 'type': 'investigations'}}}}}\n"
       }
      ],
      "source": "WO.fillSEEKForm()",
      "start_time": "2019-03-25T10:41:21.655Z"
     },
     {
      "end_time": "2019-03-25T10:43:26.826Z",
      "execution_time": "21ms",
      "outputs": [
       {
        "name": "stdout",
        "output_type": "stream",
        "text": "{'data': {'type': 'studies', 'attributes': {'title': 'my lovely study', 'description': 'the description of lovely study', 'policy': {'access': 'view', 'permissions': [{'resource': {'id': '373', 'type': 'people'}, 'access': 'manage'}]}}, 'relationships': {'investigation': {'data': {'id': 41, 'type': 'investigations'}}}}}\n"
       }
      ],
      "source": "WO.fillSEEKForm()",
      "start_time": "2019-03-25T10:43:26.805Z"
     },
     {
      "end_time": "2019-03-25T10:45:14.987Z",
      "execution_time": "10.3s",
      "outputs": [
       {
        "name": "stdout",
        "output_type": "stream",
        "text": "What is your user ID? 373\nPlease specify how many investigations is this study related to: 1\nPlease specify the id of the investigation number 1: 41\n{'data': {'type': 'studies', 'attributes': {'title': 'my lovely study', 'description': 'the description of lovely study', 'policy': {'access': 'view', 'permissions': [{'resource': {'id': '373', 'type': 'people'}, 'access': 'manage'}]}}, 'relationships': {'investigations': {'data': [{'id': 41, 'type': 'investigations'}]}}}}\n"
       }
      ],
      "source": "WO.fillSEEKForm()",
      "start_time": "2019-03-25T10:45:04.671Z"
     },
     {
      "end_time": "2019-03-25T10:45:59.131Z",
      "execution_time": "5.56s",
      "outputs": [
       {
        "name": "stdout",
        "output_type": "stream",
        "text": "What is your user ID? 373\nPlease specify how many investigations is this study related to: 1\nPlease specify the id of the investigation number 1: 41\n{'data': {'type': 'studies', 'attributes': {'title': 'my lovely study', 'description': 'the description of lovely study', 'policy': {'access': 'view', 'permissions': [{'resource': {'id': 373, 'type': 'people'}, 'access': 'manage'}]}}, 'relationships': {'investigations': {'data': [{'id': 41, 'type': 'investigations'}]}}}}\n"
       }
      ],
      "source": "WO.fillSEEKForm()",
      "start_time": "2019-03-25T10:45:53.573Z"
     },
     {
      "end_time": "2019-03-25T10:47:10.892Z",
      "execution_time": "23.0s",
      "outputs": [
       {
        "name": "stdout",
        "output_type": "stream",
        "text": "Please enter the title: Another one\nPlease enter the description: description\nPlease specify how many projects is this investigation related to: 1\nPlease specify the id of the project number 1: 50\n{'data': {'type': 'investigations', 'attributes': {'title': 'Another one', 'description': 'description'}, 'relationships': {'projects': {'data': [{'id': 50, 'type': 'projects'}]}}}}\n"
       }
      ],
      "source": "WO.fillSEEKForm()",
      "start_time": "2019-03-25T10:46:47.911Z"
     },
     {
      "end_time": "2019-03-25T10:52:47.153Z",
      "execution_time": "12.7s",
      "outputs": [
       {
        "name": "stdout",
        "output_type": "stream",
        "text": "Please enter the title: Another test\nPlease enter the description: description\nPlease specify how many projects is this investigation related to: 2\nPlease specify the id of the project number 1: 50\nPlease specify the id of the project number 2: 44\n{'data': {'type': 'investigations', 'attributes': {'title': 'Another test', 'description': 'description'}, 'relationships': {'projects': {'data': [{'id': 44, 'type': 'projects'}]}}}}\n"
       }
      ],
      "source": "WO.fillSEEKForm()",
      "start_time": "2019-03-25T10:52:34.425Z"
     },
     {
      "end_time": "2019-03-25T10:54:00.624Z",
      "execution_time": "11.5s",
      "outputs": [
       {
        "name": "stdout",
        "output_type": "stream",
        "text": "Please enter the title: another test\nPlease enter the description: decsription\nPlease specify how many projects is this investigation related to: 2\nPlease specify the id of the project number 1: 50\nPlease specify the id of the project number 2: 44\n{'data': {'type': 'investigations', 'attributes': {'title': 'another test', 'description': 'decsription'}, 'relationships': {'projects': {'data': [{'id': 50, 'type': 'projects'}, {'id': 44, 'type': 'projects'}]}}}}\n"
       }
      ],
      "source": "WO.fillSEEKForm()",
      "start_time": "2019-03-25T10:53:49.141Z"
     },
     {
      "end_time": "2019-03-25T10:58:34.549Z",
      "execution_time": "5.90s",
      "outputs": [
       {
        "name": "stdout",
        "output_type": "stream",
        "text": "Please enter the title: title\nPlease enter the description: desc\nPlease specify how many projects is this investigation related to: 1\nPlease specify the id of the project number 1: 50\n{'data': {'type': 'investigations', 'attributes': {'title': 'title', 'description': 'desc'}, 'relationships': {'projects': {'data': [{'id': 50, 'type': 'projects'}]}}}}\n"
       }
      ],
      "source": "WO.fillSEEKForm()",
      "start_time": "2019-03-25T10:58:28.648Z"
     },
     {
      "end_time": "2019-03-25T10:59:57.517Z",
      "execution_time": "34.7s",
      "outputs": [
       {
        "name": "stdout",
        "output_type": "stream",
        "text": "What is your user ID? 373\nPlease specify how many investigations is this study related to: 2\nPlease specify the id of the investigation number 1: 46\nPlease specify the id of the investigation number 2: 41\n{'data': {'type': 'studies', 'attributes': {'title': 'my lovely study', 'description': 'the description of lovely study', 'policy': {'access': 'view', 'permissions': [{'resource': {'id': 373, 'type': 'people'}, 'access': 'manage'}]}}, 'relationships': {'investigations': {'data': [{'id': 46, 'type': 'investigations'}, {'id': 41, 'type': 'investigations'}]}}}}\n"
       }
      ],
      "source": "WO.fillSEEKForm()",
      "start_time": "2019-03-25T10:59:22.853Z"
     },
     {
      "end_time": "2019-03-25T11:02:03.807Z",
      "execution_time": "9.70s",
      "outputs": [
       {
        "name": "stdout",
        "output_type": "stream",
        "text": "What is your user ID? 373\nPlease specify the id of the investigation: 46\n{'data': {'type': 'studies', 'attributes': {'title': 'my lovely study', 'description': 'the description of lovely study', 'policy': {'access': 'view', 'permissions': [{'resource': {'id': 373, 'type': 'people'}, 'access': 'manage'}]}}, 'relationships': {'investigation': {'data': {'id': 46, 'type': 'investigation'}}}}}\n"
       }
      ],
      "source": "WO.fillSEEKForm()",
      "start_time": "2019-03-25T11:01:54.104Z"
     },
     {
      "end_time": "2019-03-25T11:04:47.369Z",
      "execution_time": "5.73s",
      "outputs": [
       {
        "name": "stdout",
        "output_type": "stream",
        "text": "What is your user ID? 373\nPlease enter the investigation id: 41\n{'data': {'type': 'studies', 'attributes': {'title': 'my lovely study', 'description': 'the description of lovely study', 'policy': {'access': 'view', 'permissions': [{'resource': {'id': 373, 'type': 'people'}, 'access': 'manage'}]}}, 'relationships': {'investigation': {'data': {'id': 41, 'type': 'investigations'}}}}}\n"
       }
      ],
      "source": "WO.fillSEEKForm()",
      "start_time": "2019-03-25T11:04:41.637Z"
     },
     {
      "end_time": "2019-03-25T11:08:27.308Z",
      "execution_time": "132ms",
      "outputs": [
       {
        "ename": "AttributeError",
        "evalue": "'WriteObject' object has no attribute 'assayKind'",
        "output_type": "error",
        "traceback": [
         "\u001b[0;31m---------------------------------------------------------------------------\u001b[0m",
         "\u001b[0;31mAttributeError\u001b[0m                            Traceback (most recent call last)",
         "\u001b[0;32m<ipython-input-2-aab3ee8483e7>\u001b[0m in \u001b[0;36m<module>\u001b[0;34m()\u001b[0m\n\u001b[0;32m----> 1\u001b[0;31m \u001b[0mWO\u001b[0m\u001b[0;34m.\u001b[0m\u001b[0mfillSEEKForm\u001b[0m\u001b[0;34m(\u001b[0m\u001b[0;34m)\u001b[0m\u001b[0;34m\u001b[0m\u001b[0m\n\u001b[0m",
         "\u001b[0;32m~/Work/ThirdYear/TheSeekNotebook/WriteObject.py\u001b[0m in \u001b[0;36mfillSEEKForm\u001b[0;34m(self)\u001b[0m\n\u001b[1;32m     60\u001b[0m \u001b[0;34m\u001b[0m\u001b[0m\n\u001b[1;32m     61\u001b[0m         \u001b[0;32mif\u001b[0m \u001b[0mself\u001b[0m\u001b[0;34m.\u001b[0m\u001b[0mtype\u001b[0m\u001b[0;34m.\u001b[0m\u001b[0mvalue\u001b[0m \u001b[0;34m==\u001b[0m \u001b[0;34m'assays'\u001b[0m\u001b[0;34m:\u001b[0m\u001b[0;34m\u001b[0m\u001b[0m\n\u001b[0;32m---> 62\u001b[0;31m             \u001b[0mself\u001b[0m\u001b[0;34m.\u001b[0m\u001b[0mJSON\u001b[0m \u001b[0;34m=\u001b[0m \u001b[0mHelper\u001b[0m\u001b[0;34m.\u001b[0m\u001b[0massayFormat\u001b[0m\u001b[0;34m(\u001b[0m\u001b[0mself\u001b[0m\u001b[0;34m.\u001b[0m\u001b[0massayKind\u001b[0m\u001b[0;34m.\u001b[0m\u001b[0mvalue\u001b[0m\u001b[0;34m)\u001b[0m\u001b[0;34m\u001b[0m\u001b[0m\n\u001b[0m\u001b[1;32m     63\u001b[0m \u001b[0;34m\u001b[0m\u001b[0m\n\u001b[1;32m     64\u001b[0m         \u001b[0;32melif\u001b[0m \u001b[0mself\u001b[0m\u001b[0;34m.\u001b[0m\u001b[0mtype\u001b[0m\u001b[0;34m.\u001b[0m\u001b[0mvalue\u001b[0m \u001b[0;34m==\u001b[0m \u001b[0;34m'investigations'\u001b[0m\u001b[0;34m:\u001b[0m\u001b[0;34m\u001b[0m\u001b[0m\n",
         "\u001b[0;31mAttributeError\u001b[0m: 'WriteObject' object has no attribute 'assayKind'"
        ]
       }
      ],
      "source": "WO.fillSEEKForm()",
      "start_time": "2019-03-25T11:08:27.176Z"
     },
     {
      "end_time": "2019-03-25T11:09:53.621Z",
      "execution_time": "30.7s",
      "outputs": [
       {
        "name": "stdout",
        "output_type": "stream",
        "text": "Enter the title: Assay\nDescriptionking of assays\nPlease specify the id of the study: 56\n{'data': {'type': 'assays', 'attributes': {'title': 'Assay', 'description': 'king of assays', 'policy': {'access': 'view', 'permissions': []}, 'assay_class': {'key': 'EXP'}}, 'relationships': {'study': {'data': {'id': '56', 'type': 'studies'}}}}}\n"
       }
      ],
      "source": "WO.fillSEEKForm()",
      "start_time": "2019-03-25T11:09:22.882Z"
     },
     {
      "end_time": "2019-03-25T11:14:55.512Z",
      "execution_time": "59.4s",
      "outputs": [
       {
        "name": "stdout",
        "output_type": "stream",
        "text": "Please enter the title: title\nPlease enter the description: desc\nPlease specify how many assays is this investigation related to: 0\nPlease specify how many creators is this investigation related to: 0\nPlease specify how many data_files is this investigation related to: 0\nPlease specify how many documents is this investigation related to: 0\nPlease specify how many models is this investigation related to: 0\nPlease specify how many people is this investigation related to: 0\nPlease specify how many projects is this investigation related to: 1\nPlease specify the id of the project number 1: 50\nPlease specify how many publications is this investigation related to: 0\nPlease specify how many sops is this investigation related to: 0\nPlease specify how many studies is this investigation related to: 0\nPlease specify how many submitters is this investigation related to: 0\n{'data': {'type': 'investigations', 'attributes': {'title': 'title', 'description': 'desc'}, 'relationships': {'projects': {'data': [{'id': 50, 'type': 'projects'}]}}}}\n"
       }
      ],
      "source": "WO.fillSEEKForm()",
      "start_time": "2019-03-25T11:13:56.063Z"
     },
     {
      "end_time": "2019-03-25T11:25:13.150Z",
      "execution_time": "34.1s",
      "outputs": [
       {
        "name": "stdout",
        "output_type": "stream",
        "text": "Enter the title: new assay\nPlease list other creators: \nPlease specify the assay type uri: \nPlease specify the assay type uri: \n"
       },
       {
        "ename": "KeyboardInterrupt",
        "evalue": "",
        "output_type": "error",
        "traceback": [
         "\u001b[0;31m---------------------------------------------------------------------------\u001b[0m",
         "\u001b[0;31mKeyboardInterrupt\u001b[0m                         Traceback (most recent call last)",
         "\u001b[0;32m~/anaconda3/lib/python3.6/site-packages/ipykernel/kernelbase.py\u001b[0m in \u001b[0;36m_input_request\u001b[0;34m(self, prompt, ident, parent, password)\u001b[0m\n\u001b[1;32m    728\u001b[0m             \u001b[0;32mtry\u001b[0m\u001b[0;34m:\u001b[0m\u001b[0;34m\u001b[0m\u001b[0m\n\u001b[0;32m--> 729\u001b[0;31m                 \u001b[0mident\u001b[0m\u001b[0;34m,\u001b[0m \u001b[0mreply\u001b[0m \u001b[0;34m=\u001b[0m \u001b[0mself\u001b[0m\u001b[0;34m.\u001b[0m\u001b[0msession\u001b[0m\u001b[0;34m.\u001b[0m\u001b[0mrecv\u001b[0m\u001b[0;34m(\u001b[0m\u001b[0mself\u001b[0m\u001b[0;34m.\u001b[0m\u001b[0mstdin_socket\u001b[0m\u001b[0;34m,\u001b[0m \u001b[0;36m0\u001b[0m\u001b[0;34m)\u001b[0m\u001b[0;34m\u001b[0m\u001b[0m\n\u001b[0m\u001b[1;32m    730\u001b[0m             \u001b[0;32mexcept\u001b[0m \u001b[0mException\u001b[0m\u001b[0;34m:\u001b[0m\u001b[0;34m\u001b[0m\u001b[0m\n",
         "\u001b[0;32m~/anaconda3/lib/python3.6/site-packages/jupyter_client/session.py\u001b[0m in \u001b[0;36mrecv\u001b[0;34m(self, socket, mode, content, copy)\u001b[0m\n\u001b[1;32m    802\u001b[0m         \u001b[0;32mtry\u001b[0m\u001b[0;34m:\u001b[0m\u001b[0;34m\u001b[0m\u001b[0m\n\u001b[0;32m--> 803\u001b[0;31m             \u001b[0mmsg_list\u001b[0m \u001b[0;34m=\u001b[0m \u001b[0msocket\u001b[0m\u001b[0;34m.\u001b[0m\u001b[0mrecv_multipart\u001b[0m\u001b[0;34m(\u001b[0m\u001b[0mmode\u001b[0m\u001b[0;34m,\u001b[0m \u001b[0mcopy\u001b[0m\u001b[0;34m=\u001b[0m\u001b[0mcopy\u001b[0m\u001b[0;34m)\u001b[0m\u001b[0;34m\u001b[0m\u001b[0m\n\u001b[0m\u001b[1;32m    804\u001b[0m         \u001b[0;32mexcept\u001b[0m \u001b[0mzmq\u001b[0m\u001b[0;34m.\u001b[0m\u001b[0mZMQError\u001b[0m \u001b[0;32mas\u001b[0m \u001b[0me\u001b[0m\u001b[0;34m:\u001b[0m\u001b[0;34m\u001b[0m\u001b[0m\n",
         "\u001b[0;32m~/anaconda3/lib/python3.6/site-packages/zmq/sugar/socket.py\u001b[0m in \u001b[0;36mrecv_multipart\u001b[0;34m(self, flags, copy, track)\u001b[0m\n\u001b[1;32m    465\u001b[0m         \"\"\"\n\u001b[0;32m--> 466\u001b[0;31m         \u001b[0mparts\u001b[0m \u001b[0;34m=\u001b[0m \u001b[0;34m[\u001b[0m\u001b[0mself\u001b[0m\u001b[0;34m.\u001b[0m\u001b[0mrecv\u001b[0m\u001b[0;34m(\u001b[0m\u001b[0mflags\u001b[0m\u001b[0;34m,\u001b[0m \u001b[0mcopy\u001b[0m\u001b[0;34m=\u001b[0m\u001b[0mcopy\u001b[0m\u001b[0;34m,\u001b[0m \u001b[0mtrack\u001b[0m\u001b[0;34m=\u001b[0m\u001b[0mtrack\u001b[0m\u001b[0;34m)\u001b[0m\u001b[0;34m]\u001b[0m\u001b[0;34m\u001b[0m\u001b[0m\n\u001b[0m\u001b[1;32m    467\u001b[0m         \u001b[0;31m# have first part already, only loop while more to receive\u001b[0m\u001b[0;34m\u001b[0m\u001b[0;34m\u001b[0m\u001b[0m\n",
         "\u001b[0;32mzmq/backend/cython/socket.pyx\u001b[0m in \u001b[0;36mzmq.backend.cython.socket.Socket.recv\u001b[0;34m()\u001b[0m\n",
         "\u001b[0;32mzmq/backend/cython/socket.pyx\u001b[0m in \u001b[0;36mzmq.backend.cython.socket.Socket.recv\u001b[0;34m()\u001b[0m\n",
         "\u001b[0;32mzmq/backend/cython/socket.pyx\u001b[0m in \u001b[0;36mzmq.backend.cython.socket._recv_copy\u001b[0;34m()\u001b[0m\n",
         "\u001b[0;32m~/anaconda3/lib/python3.6/site-packages/zmq/backend/cython/checkrc.pxd\u001b[0m in \u001b[0;36mzmq.backend.cython.checkrc._check_rc\u001b[0;34m()\u001b[0m\n",
         "\u001b[0;31mKeyboardInterrupt\u001b[0m: ",
         "\nDuring handling of the above exception, another exception occurred:\n",
         "\u001b[0;31mKeyboardInterrupt\u001b[0m                         Traceback (most recent call last)",
         "\u001b[0;32m<ipython-input-6-aab3ee8483e7>\u001b[0m in \u001b[0;36m<module>\u001b[0;34m()\u001b[0m\n\u001b[0;32m----> 1\u001b[0;31m \u001b[0mWO\u001b[0m\u001b[0;34m.\u001b[0m\u001b[0mfillSEEKForm\u001b[0m\u001b[0;34m(\u001b[0m\u001b[0;34m)\u001b[0m\u001b[0;34m\u001b[0m\u001b[0m\n\u001b[0m",
         "\u001b[0;32m~/Work/ThirdYear/TheSeekNotebook/WriteObject.py\u001b[0m in \u001b[0;36mfillSEEKForm\u001b[0;34m(self)\u001b[0m\n\u001b[1;32m     61\u001b[0m         \u001b[0;32mif\u001b[0m \u001b[0mself\u001b[0m\u001b[0;34m.\u001b[0m\u001b[0mtype\u001b[0m\u001b[0;34m.\u001b[0m\u001b[0mvalue\u001b[0m \u001b[0;34m==\u001b[0m \u001b[0;34m'assays'\u001b[0m\u001b[0;34m:\u001b[0m\u001b[0;34m\u001b[0m\u001b[0m\n\u001b[1;32m     62\u001b[0m             self.JSON = Helper.assayFormat(self.selectAssayKind,\n\u001b[0;32m---> 63\u001b[0;31m                                            self.fillDescription)\n\u001b[0m\u001b[1;32m     64\u001b[0m \u001b[0;34m\u001b[0m\u001b[0m\n\u001b[1;32m     65\u001b[0m         \u001b[0;32melif\u001b[0m \u001b[0mself\u001b[0m\u001b[0;34m.\u001b[0m\u001b[0mtype\u001b[0m\u001b[0;34m.\u001b[0m\u001b[0mvalue\u001b[0m \u001b[0;34m==\u001b[0m \u001b[0;34m'investigations'\u001b[0m\u001b[0;34m:\u001b[0m\u001b[0;34m\u001b[0m\u001b[0m\n",
         "\u001b[0;32m~/Work/ThirdYear/TheSeekNotebook/Helper.py\u001b[0m in \u001b[0;36massayFormat\u001b[0;34m(assayKind, description)\u001b[0m\n\u001b[1;32m     70\u001b[0m     \u001b[0;31m# relationsFormat(JSON, \"sops\", \"assay\")\u001b[0m\u001b[0;34m\u001b[0m\u001b[0;34m\u001b[0m\u001b[0m\n\u001b[1;32m     71\u001b[0m     \u001b[0mJSON\u001b[0m\u001b[0;34m[\u001b[0m\u001b[0;34m\"data\"\u001b[0m\u001b[0;34m]\u001b[0m\u001b[0;34m[\u001b[0m\u001b[0;34m\"relationships\"\u001b[0m\u001b[0;34m]\u001b[0m\u001b[0;34m[\u001b[0m\u001b[0;34m\"study\"\u001b[0m\u001b[0;34m]\u001b[0m \u001b[0;34m=\u001b[0m \u001b[0;34m{\u001b[0m\u001b[0;34m}\u001b[0m\u001b[0;34m\u001b[0m\u001b[0m\n\u001b[0;32m---> 72\u001b[0;31m     \u001b[0mJSON\u001b[0m\u001b[0;34m[\u001b[0m\u001b[0;34m\"data\"\u001b[0m\u001b[0;34m]\u001b[0m\u001b[0;34m[\u001b[0m\u001b[0;34m\"relationships\"\u001b[0m\u001b[0;34m]\u001b[0m\u001b[0;34m[\u001b[0m\u001b[0;34m\"study\"\u001b[0m\u001b[0;34m]\u001b[0m\u001b[0;34m[\u001b[0m\u001b[0;34m\"data\"\u001b[0m\u001b[0;34m]\u001b[0m \u001b[0;34m=\u001b[0m \u001b[0;34m{\u001b[0m\u001b[0;34m\"id\"\u001b[0m\u001b[0;34m:\u001b[0m \u001b[0minput\u001b[0m\u001b[0;34m(\u001b[0m\u001b[0;34m\"Please specify the id of the study: \"\u001b[0m\u001b[0;34m)\u001b[0m\u001b[0;34m,\u001b[0m \u001b[0;34m\"type\"\u001b[0m\u001b[0;34m:\u001b[0m\u001b[0;34m\"studies\"\u001b[0m\u001b[0;34m}\u001b[0m\u001b[0;34m\u001b[0m\u001b[0m\n\u001b[0m\u001b[1;32m     73\u001b[0m     \u001b[0;31m# relationsFormat(JSON, \"organisms\", \"assay\")\u001b[0m\u001b[0;34m\u001b[0m\u001b[0;34m\u001b[0m\u001b[0m\n\u001b[1;32m     74\u001b[0m \u001b[0;34m\u001b[0m\u001b[0m\n",
         "\u001b[0;32m~/anaconda3/lib/python3.6/site-packages/ipykernel/kernelbase.py\u001b[0m in \u001b[0;36mraw_input\u001b[0;34m(self, prompt)\u001b[0m\n\u001b[1;32m    702\u001b[0m             \u001b[0mself\u001b[0m\u001b[0;34m.\u001b[0m\u001b[0m_parent_ident\u001b[0m\u001b[0;34m,\u001b[0m\u001b[0;34m\u001b[0m\u001b[0m\n\u001b[1;32m    703\u001b[0m             \u001b[0mself\u001b[0m\u001b[0;34m.\u001b[0m\u001b[0m_parent_header\u001b[0m\u001b[0;34m,\u001b[0m\u001b[0;34m\u001b[0m\u001b[0m\n\u001b[0;32m--> 704\u001b[0;31m             \u001b[0mpassword\u001b[0m\u001b[0;34m=\u001b[0m\u001b[0;32mFalse\u001b[0m\u001b[0;34m,\u001b[0m\u001b[0;34m\u001b[0m\u001b[0m\n\u001b[0m\u001b[1;32m    705\u001b[0m         )\n\u001b[1;32m    706\u001b[0m \u001b[0;34m\u001b[0m\u001b[0m\n",
         "\u001b[0;32m~/anaconda3/lib/python3.6/site-packages/ipykernel/kernelbase.py\u001b[0m in \u001b[0;36m_input_request\u001b[0;34m(self, prompt, ident, parent, password)\u001b[0m\n\u001b[1;32m    732\u001b[0m             \u001b[0;32mexcept\u001b[0m \u001b[0mKeyboardInterrupt\u001b[0m\u001b[0;34m:\u001b[0m\u001b[0;34m\u001b[0m\u001b[0m\n\u001b[1;32m    733\u001b[0m                 \u001b[0;31m# re-raise KeyboardInterrupt, to truncate traceback\u001b[0m\u001b[0;34m\u001b[0m\u001b[0;34m\u001b[0m\u001b[0m\n\u001b[0;32m--> 734\u001b[0;31m                 \u001b[0;32mraise\u001b[0m \u001b[0mKeyboardInterrupt\u001b[0m\u001b[0;34m\u001b[0m\u001b[0m\n\u001b[0m\u001b[1;32m    735\u001b[0m             \u001b[0;32melse\u001b[0m\u001b[0;34m:\u001b[0m\u001b[0;34m\u001b[0m\u001b[0m\n\u001b[1;32m    736\u001b[0m                 \u001b[0;32mbreak\u001b[0m\u001b[0;34m\u001b[0m\u001b[0m\n",
         "\u001b[0;31mKeyboardInterrupt\u001b[0m: "
        ]
       }
      ],
      "source": "WO.fillSEEKForm()",
      "start_time": "2019-03-25T11:24:39.019Z"
     },
     {
      "end_time": "2019-03-25T11:26:11.119Z",
      "execution_time": "47.4s",
      "outputs": [
       {
        "name": "stdout",
        "output_type": "stream",
        "text": "Enter the title: el rampa selestial\nDescription: desc\nWhat is your user ID? 373\nPlease enter the investigation id: 41\n{'data': {'type': 'studies', 'attributes': {'title': 'el rampa selestial', 'description': 'desc', 'policy': {'access': 'view', 'permissions': [{'resource': {'id': 373, 'type': 'people'}, 'access': 'manage'}]}}, 'relationships': {'investigation': {'data': {'id': 41, 'type': 'investigations'}}}}}\n"
       }
      ],
      "source": "WO.fillSEEKForm()",
      "start_time": "2019-03-25T11:25:23.715Z"
     },
     {
      "end_time": "2019-03-25T11:27:07.203Z",
      "execution_time": "35.0s",
      "outputs": [
       {
        "name": "stdout",
        "output_type": "stream",
        "text": "Enter the title: Per aspera ad astra\nPlease list other creators: \nPlease specify the assay type uri: \nPlease specify the assay type uri: \nPlease specify the id of the study: 57\n{'data': {'type': 'assays', 'attributes': {'title': 'Per aspera ad astra', 'description': <bound method WriteObject.fillDescription of <WriteObject.WriteObject object at 0x7fb12a3e3898>>, 'policy': {'access': 'view', 'permissions': []}, 'assay_class': {'key': <bound method WriteObject.selectAssayKind of <WriteObject.WriteObject object at 0x7fb12a3e3898>>}, 'other_creators': '', 'assay_type': {}, 'technology_type': {}}, 'relationships': {'study': {'data': {'id': '57', 'type': 'studies'}}}}}\n"
       }
      ],
      "source": "WO.fillSEEKForm()",
      "start_time": "2019-03-25T11:26:32.167Z"
     },
     {
      "end_time": "2019-03-25T11:28:27.725Z",
      "execution_time": "11.5s",
      "outputs": [
       {
        "name": "stdout",
        "output_type": "stream",
        "text": "Enter the title: Per aspera add astra\nPlease list other creators: \nPlease specify the assay type uri: \nPlease specify the assay type uri: \nPlease specify the id of the study: 57\n{'data': {'type': 'assays', 'attributes': {'title': 'Per aspera add astra', 'description': 'Per aspera ad astra', 'policy': {'access': 'view', 'permissions': []}, 'assay_class': {'key': 'EXP'}, 'other_creators': '', 'assay_type': {}, 'technology_type': {}}, 'relationships': {'study': {'data': {'id': '57', 'type': 'studies'}}}}}\n"
       }
      ],
      "source": "WO.fillSEEKForm()",
      "start_time": "2019-03-25T11:28:16.246Z"
     },
     {
      "end_time": "2019-03-25T11:31:35.029Z",
      "execution_time": "14.0s",
      "outputs": [
       {
        "name": "stdout",
        "output_type": "stream",
        "text": "Enter the title: Ad Astrae\nPlease list other creators: \nPlease specify the assay type uri: \nPlease specify the assay type uri: \nPlease specify the id of the study: 57\n{'data': {'type': 'assays', 'attributes': {'title': 'Ad Astrae', 'description': 'Per aspera', 'policy': {'access': 'view', 'permissions': []}, 'assay_class': {'key': 'EXP'}, 'other_creators': ''}, 'relationships': {'study': {'data': {'id': '57', 'type': 'studies'}}}}}\n"
       }
      ],
      "source": "WO.fillSEEKForm()",
      "start_time": "2019-03-25T11:31:21.013Z"
     },
     {
      "end_time": "2019-03-25T12:14:56.822Z",
      "execution_time": "17.7s",
      "outputs": [
       {
        "name": "stdout",
        "output_type": "stream",
        "text": "Enter the title: Expecto patronum\nPlease list other creators: \nPlease specify the assay type uri: \nPlease specify the assay type uri: \nPlease specify the id of the study: 57\n{'data': {'type': 'assays', 'attributes': {'title': 'Expecto patronum', 'description': 'A fantastic description about this assay', 'policy': {'access': 'edit', 'permissions': []}, 'other_creators': '', 'assay_class': {'key': 'MOD'}}, 'relationships': {'study': {'data': {'id': '57', 'type': 'studies'}}}}}\n"
       }
      ],
      "source": "assay.fillSEEKForm()",
      "start_time": "2019-03-25T12:14:39.171Z"
     },
     {
      "end_time": "2019-03-25T12:20:16.718Z",
      "execution_time": "8.60s",
      "outputs": [
       {
        "name": "stdout",
        "output_type": "stream",
        "text": "Enter the title: Expecto patronum\nPlease list other creators: \nPlease specify the assay type uri: \nPlease specify the assay type uri: \nPlease specify the id of the study: 57\n{'data': {'type': 'assays', 'attributes': {'title': 'Expecto patronum', 'description': 'A fantastic description about this assay', 'policy': {'access': 'view', 'permissions': []}, 'other_creators': '', 'assay_class': {'key': 'MOD'}}, 'relationships': {'study': {'data': {'id': '57', 'type': 'studies'}}}}}\n"
       }
      ],
      "source": "assay.fillSEEKForm()",
      "start_time": "2019-03-25T12:20:08.121Z"
     },
     {
      "end_time": "2019-03-25T12:21:43.417Z",
      "execution_time": "7.45s",
      "outputs": [
       {
        "name": "stdout",
        "output_type": "stream",
        "text": "Enter the title: Expecto patronum\nPlease list other creators: \nPlease specify the assay type uri: \nPlease specify the assay type uri: \nPlease specify the id of the study: 57\n{'data': {'type': 'assays', 'attributes': {'title': 'Expecto patronum', 'description': 'A fantastic description about this assay', 'policy': {'access': 'no_access', 'permissions': []}, 'other_creators': '', 'assay_class': {'key': 'MOD'}}, 'relationships': {'study': {'data': {'id': '57', 'type': 'studies'}}}}}\n"
       }
      ],
      "source": "assay.fillSEEKForm()",
      "start_time": "2019-03-25T12:21:35.964Z"
     },
     {
      "end_time": "2019-03-25T12:24:14.807Z",
      "execution_time": "9.22s",
      "outputs": [
       {
        "name": "stdout",
        "output_type": "stream",
        "text": "Enter the title: Expecto patronum\nPlease list other creators: \nPlease specify the assay type uri: \nPlease specify the assay type uri: \nPlease specify the id of the study: 57\n{'data': {'type': 'assays', 'attributes': {'title': 'Expecto patronum', 'description': 'A fantastic description about this assay', 'policy': {'access': 'view', 'permissions': []}, 'other_creators': '', 'assay_class': {'key': 'EXP'}}, 'relationships': {'study': {'data': {'id': '57', 'type': 'studies'}}}}}\n"
       }
      ],
      "source": "assay.fillSEEKForm()",
      "start_time": "2019-03-25T12:24:05.589Z"
     },
     {
      "end_time": "2019-03-25T12:27:36.179Z",
      "execution_time": "1m 13.0s",
      "outputs": [
       {
        "name": "stdout",
        "output_type": "stream",
        "text": "Enter the title: scooby doo\nPlease list other creators: \nPlease specify the assay type uri: \nPlease specify the assay type uri: \nPlease specify how many data_files is this assay related to: 0\nPlease specify how many documents is this assay related to: 0\nPlease specify the id of the investigation: 57\nPlease specify how many models is this assay related to: 0\nPlease specify how many people is this assay related to: 0\nPlease specify how many publications is this assay related to: 0\nPlease specify how many sops is this assay related to: 0\nPlease specify the id of the study: \nPlease specify how many organisms is this assay related to: 0\n{'data': {'type': 'assays', 'attributes': {'title': 'scooby doo', 'description': '', 'policy': {'access': 'view', 'permissions': []}, 'other_creators': '', 'assay_class': {'key': 'EXP'}}, 'relationships': {'investigation': {'data': {'id': '57', 'type': 'investigations'}}, 'study': {'data': {'id': '', 'type': 'studies'}}}}}\n"
       }
      ],
      "source": "assay.fillSEEKForm()",
      "start_time": "2019-03-25T12:26:23.177Z"
     },
     {
      "end_time": "2019-03-25T12:32:38.691Z",
      "execution_time": "28.3s",
      "outputs": [
       {
        "name": "stdout",
        "output_type": "stream",
        "text": "Enter the title: scooby doo\nPlease list other creators: \nPlease specify the assay type uri: \nPlease specify the assay type uri: \nPlease specify how many data_files is this assay related to: 0\nPlease specify how many documents is this assay related to: 0\nPlease specify the id of the investigation: 57\nPlease specify how many models is this assay related to: 0\nPlease specify how many people is this assay related to: 0\nPlease specify how many publications is this assay related to: 0\nPlease specify how many sops is this assay related to: 0\nPlease specify the id of the study: \nPlease specify how many organisms is this assay related to: 0\n{'data': {'type': 'assays', 'attributes': {'title': 'scooby doo', 'description': '', 'policy': {'access': 'view', 'permissions': []}, 'other_creators': '', 'assay_class': {'key': 'EXP'}}, 'relationships': {'investigation': {'data': {'id': '57', 'type': 'investigations'}}}}}\n"
       }
      ],
      "source": "assay.fillSEEKForm()",
      "start_time": "2019-03-25T12:32:10.343Z"
     },
     {
      "end_time": "2019-03-25T12:33:06.437Z",
      "execution_time": "13.1s",
      "outputs": [
       {
        "name": "stdout",
        "output_type": "stream",
        "text": "Enter the title: scooby doo\nPlease list other creators: \n"
       },
       {
        "ename": "KeyboardInterrupt",
        "evalue": "",
        "output_type": "error",
        "traceback": [
         "\u001b[0;31m---------------------------------------------------------------------------\u001b[0m",
         "\u001b[0;31mKeyboardInterrupt\u001b[0m                         Traceback (most recent call last)",
         "\u001b[0;32m~/anaconda3/lib/python3.6/site-packages/ipykernel/kernelbase.py\u001b[0m in \u001b[0;36m_input_request\u001b[0;34m(self, prompt, ident, parent, password)\u001b[0m\n\u001b[1;32m    728\u001b[0m             \u001b[0;32mtry\u001b[0m\u001b[0;34m:\u001b[0m\u001b[0;34m\u001b[0m\u001b[0m\n\u001b[0;32m--> 729\u001b[0;31m                 \u001b[0mident\u001b[0m\u001b[0;34m,\u001b[0m \u001b[0mreply\u001b[0m \u001b[0;34m=\u001b[0m \u001b[0mself\u001b[0m\u001b[0;34m.\u001b[0m\u001b[0msession\u001b[0m\u001b[0;34m.\u001b[0m\u001b[0mrecv\u001b[0m\u001b[0;34m(\u001b[0m\u001b[0mself\u001b[0m\u001b[0;34m.\u001b[0m\u001b[0mstdin_socket\u001b[0m\u001b[0;34m,\u001b[0m \u001b[0;36m0\u001b[0m\u001b[0;34m)\u001b[0m\u001b[0;34m\u001b[0m\u001b[0m\n\u001b[0m\u001b[1;32m    730\u001b[0m             \u001b[0;32mexcept\u001b[0m \u001b[0mException\u001b[0m\u001b[0;34m:\u001b[0m\u001b[0;34m\u001b[0m\u001b[0m\n",
         "\u001b[0;32m~/anaconda3/lib/python3.6/site-packages/jupyter_client/session.py\u001b[0m in \u001b[0;36mrecv\u001b[0;34m(self, socket, mode, content, copy)\u001b[0m\n\u001b[1;32m    802\u001b[0m         \u001b[0;32mtry\u001b[0m\u001b[0;34m:\u001b[0m\u001b[0;34m\u001b[0m\u001b[0m\n\u001b[0;32m--> 803\u001b[0;31m             \u001b[0mmsg_list\u001b[0m \u001b[0;34m=\u001b[0m \u001b[0msocket\u001b[0m\u001b[0;34m.\u001b[0m\u001b[0mrecv_multipart\u001b[0m\u001b[0;34m(\u001b[0m\u001b[0mmode\u001b[0m\u001b[0;34m,\u001b[0m \u001b[0mcopy\u001b[0m\u001b[0;34m=\u001b[0m\u001b[0mcopy\u001b[0m\u001b[0;34m)\u001b[0m\u001b[0;34m\u001b[0m\u001b[0m\n\u001b[0m\u001b[1;32m    804\u001b[0m         \u001b[0;32mexcept\u001b[0m \u001b[0mzmq\u001b[0m\u001b[0;34m.\u001b[0m\u001b[0mZMQError\u001b[0m \u001b[0;32mas\u001b[0m \u001b[0me\u001b[0m\u001b[0;34m:\u001b[0m\u001b[0;34m\u001b[0m\u001b[0m\n",
         "\u001b[0;32m~/anaconda3/lib/python3.6/site-packages/zmq/sugar/socket.py\u001b[0m in \u001b[0;36mrecv_multipart\u001b[0;34m(self, flags, copy, track)\u001b[0m\n\u001b[1;32m    465\u001b[0m         \"\"\"\n\u001b[0;32m--> 466\u001b[0;31m         \u001b[0mparts\u001b[0m \u001b[0;34m=\u001b[0m \u001b[0;34m[\u001b[0m\u001b[0mself\u001b[0m\u001b[0;34m.\u001b[0m\u001b[0mrecv\u001b[0m\u001b[0;34m(\u001b[0m\u001b[0mflags\u001b[0m\u001b[0;34m,\u001b[0m \u001b[0mcopy\u001b[0m\u001b[0;34m=\u001b[0m\u001b[0mcopy\u001b[0m\u001b[0;34m,\u001b[0m \u001b[0mtrack\u001b[0m\u001b[0;34m=\u001b[0m\u001b[0mtrack\u001b[0m\u001b[0;34m)\u001b[0m\u001b[0;34m]\u001b[0m\u001b[0;34m\u001b[0m\u001b[0m\n\u001b[0m\u001b[1;32m    467\u001b[0m         \u001b[0;31m# have first part already, only loop while more to receive\u001b[0m\u001b[0;34m\u001b[0m\u001b[0;34m\u001b[0m\u001b[0m\n",
         "\u001b[0;32mzmq/backend/cython/socket.pyx\u001b[0m in \u001b[0;36mzmq.backend.cython.socket.Socket.recv\u001b[0;34m()\u001b[0m\n",
         "\u001b[0;32mzmq/backend/cython/socket.pyx\u001b[0m in \u001b[0;36mzmq.backend.cython.socket.Socket.recv\u001b[0;34m()\u001b[0m\n",
         "\u001b[0;32mzmq/backend/cython/socket.pyx\u001b[0m in \u001b[0;36mzmq.backend.cython.socket._recv_copy\u001b[0;34m()\u001b[0m\n",
         "\u001b[0;32m~/anaconda3/lib/python3.6/site-packages/zmq/backend/cython/checkrc.pxd\u001b[0m in \u001b[0;36mzmq.backend.cython.checkrc._check_rc\u001b[0;34m()\u001b[0m\n",
         "\u001b[0;31mKeyboardInterrupt\u001b[0m: ",
         "\nDuring handling of the above exception, another exception occurred:\n",
         "\u001b[0;31mKeyboardInterrupt\u001b[0m                         Traceback (most recent call last)",
         "\u001b[0;32m<ipython-input-8-3ecd535a19cc>\u001b[0m in \u001b[0;36m<module>\u001b[0;34m()\u001b[0m\n\u001b[0;32m----> 1\u001b[0;31m \u001b[0massay\u001b[0m\u001b[0;34m.\u001b[0m\u001b[0mfillSEEKForm\u001b[0m\u001b[0;34m(\u001b[0m\u001b[0;34m)\u001b[0m\u001b[0;34m\u001b[0m\u001b[0m\n\u001b[0m",
         "\u001b[0;32m~/Work/ThirdYear/TheSeekNotebook/WriteObject.py\u001b[0m in \u001b[0;36mfillSEEKForm\u001b[0;34m(self)\u001b[0m\n\u001b[1;32m     62\u001b[0m             self.JSON = Helper.assayFormat(self.assayKind.value,\n\u001b[1;32m     63\u001b[0m                                            \u001b[0mself\u001b[0m\u001b[0;34m.\u001b[0m\u001b[0mdescription\u001b[0m\u001b[0;34m.\u001b[0m\u001b[0mvalue\u001b[0m\u001b[0;34m,\u001b[0m\u001b[0;34m\u001b[0m\u001b[0m\n\u001b[0;32m---> 64\u001b[0;31m                                            self.policyAccess.value)\n\u001b[0m\u001b[1;32m     65\u001b[0m \u001b[0;34m\u001b[0m\u001b[0m\n\u001b[1;32m     66\u001b[0m         \u001b[0;32melif\u001b[0m \u001b[0mself\u001b[0m\u001b[0;34m.\u001b[0m\u001b[0mtype\u001b[0m\u001b[0;34m.\u001b[0m\u001b[0mvalue\u001b[0m \u001b[0;34m==\u001b[0m \u001b[0;34m'investigations'\u001b[0m\u001b[0;34m:\u001b[0m\u001b[0;34m\u001b[0m\u001b[0m\n",
         "\u001b[0;32m~/Work/ThirdYear/TheSeekNotebook/Helper.py\u001b[0m in \u001b[0;36massayFormat\u001b[0;34m(assayKind, description, policy)\u001b[0m\n\u001b[1;32m     41\u001b[0m \u001b[0;34m\u001b[0m\u001b[0m\n\u001b[1;32m     42\u001b[0m     \u001b[0massayTypeUri\u001b[0m \u001b[0;34m=\u001b[0m \u001b[0;34m\"\"\u001b[0m\u001b[0;34m\u001b[0m\u001b[0m\n\u001b[0;32m---> 43\u001b[0;31m     \u001b[0massayTypeUri\u001b[0m \u001b[0;34m=\u001b[0m \u001b[0minput\u001b[0m\u001b[0;34m(\u001b[0m\u001b[0;34m\"Please specify the assay type uri: \"\u001b[0m\u001b[0;34m)\u001b[0m\u001b[0;34m\u001b[0m\u001b[0m\n\u001b[0m\u001b[1;32m     44\u001b[0m     \u001b[0;32mif\u001b[0m \u001b[0massayTypeUri\u001b[0m \u001b[0;34m!=\u001b[0m \u001b[0;34m\"\"\u001b[0m\u001b[0;34m:\u001b[0m\u001b[0;34m\u001b[0m\u001b[0m\n\u001b[1;32m     45\u001b[0m         \u001b[0mJSON\u001b[0m\u001b[0;34m[\u001b[0m\u001b[0;34m\"data\"\u001b[0m\u001b[0;34m]\u001b[0m\u001b[0;34m[\u001b[0m\u001b[0;34m\"attributes\"\u001b[0m\u001b[0;34m]\u001b[0m\u001b[0;34m[\u001b[0m\u001b[0;34m\"assay_type\"\u001b[0m\u001b[0;34m]\u001b[0m \u001b[0;34m=\u001b[0m \u001b[0;34m{\u001b[0m\u001b[0;34m}\u001b[0m\u001b[0;34m\u001b[0m\u001b[0m\n",
         "\u001b[0;32m~/anaconda3/lib/python3.6/site-packages/ipykernel/kernelbase.py\u001b[0m in \u001b[0;36mraw_input\u001b[0;34m(self, prompt)\u001b[0m\n\u001b[1;32m    702\u001b[0m             \u001b[0mself\u001b[0m\u001b[0;34m.\u001b[0m\u001b[0m_parent_ident\u001b[0m\u001b[0;34m,\u001b[0m\u001b[0;34m\u001b[0m\u001b[0m\n\u001b[1;32m    703\u001b[0m             \u001b[0mself\u001b[0m\u001b[0;34m.\u001b[0m\u001b[0m_parent_header\u001b[0m\u001b[0;34m,\u001b[0m\u001b[0;34m\u001b[0m\u001b[0m\n\u001b[0;32m--> 704\u001b[0;31m             \u001b[0mpassword\u001b[0m\u001b[0;34m=\u001b[0m\u001b[0;32mFalse\u001b[0m\u001b[0;34m,\u001b[0m\u001b[0;34m\u001b[0m\u001b[0m\n\u001b[0m\u001b[1;32m    705\u001b[0m         )\n\u001b[1;32m    706\u001b[0m \u001b[0;34m\u001b[0m\u001b[0m\n",
         "\u001b[0;32m~/anaconda3/lib/python3.6/site-packages/ipykernel/kernelbase.py\u001b[0m in \u001b[0;36m_input_request\u001b[0;34m(self, prompt, ident, parent, password)\u001b[0m\n\u001b[1;32m    732\u001b[0m             \u001b[0;32mexcept\u001b[0m \u001b[0mKeyboardInterrupt\u001b[0m\u001b[0;34m:\u001b[0m\u001b[0;34m\u001b[0m\u001b[0m\n\u001b[1;32m    733\u001b[0m                 \u001b[0;31m# re-raise KeyboardInterrupt, to truncate traceback\u001b[0m\u001b[0;34m\u001b[0m\u001b[0;34m\u001b[0m\u001b[0m\n\u001b[0;32m--> 734\u001b[0;31m                 \u001b[0;32mraise\u001b[0m \u001b[0mKeyboardInterrupt\u001b[0m\u001b[0;34m\u001b[0m\u001b[0m\n\u001b[0m\u001b[1;32m    735\u001b[0m             \u001b[0;32melse\u001b[0m\u001b[0;34m:\u001b[0m\u001b[0;34m\u001b[0m\u001b[0m\n\u001b[1;32m    736\u001b[0m                 \u001b[0;32mbreak\u001b[0m\u001b[0;34m\u001b[0m\u001b[0m\n",
         "\u001b[0;31mKeyboardInterrupt\u001b[0m: "
        ]
       }
      ],
      "source": "assay.fillSEEKForm()",
      "start_time": "2019-03-25T12:32:53.363Z"
     },
     {
      "end_time": "2019-03-25T12:33:47.703Z",
      "execution_time": "40.4s",
      "outputs": [
       {
        "name": "stdout",
        "output_type": "stream",
        "text": "Enter the title: scooby doo\nPlease list other creators: \nPlease specify the assay type uri: \nPlease specify the assay type uri: \nPlease specify how many data_files is this assay related to: 0\nPlease specify how many documents is this assay related to: 0\nPlease specify the id of the investigation: 57\nPlease specify how many models is this assay related to: 0\nPlease specify how many people is this assay related to: 0\nPlease specify how many publications is this assay related to: 0\nPlease specify how many sops is this assay related to: \n"
       },
       {
        "ename": "ValueError",
        "evalue": "invalid literal for int() with base 10: ''",
        "output_type": "error",
        "traceback": [
         "\u001b[0;31m---------------------------------------------------------------------------\u001b[0m",
         "\u001b[0;31mValueError\u001b[0m                                Traceback (most recent call last)",
         "\u001b[0;32m<ipython-input-9-3ecd535a19cc>\u001b[0m in \u001b[0;36m<module>\u001b[0;34m()\u001b[0m\n\u001b[0;32m----> 1\u001b[0;31m \u001b[0massay\u001b[0m\u001b[0;34m.\u001b[0m\u001b[0mfillSEEKForm\u001b[0m\u001b[0;34m(\u001b[0m\u001b[0;34m)\u001b[0m\u001b[0;34m\u001b[0m\u001b[0m\n\u001b[0m",
         "\u001b[0;32m~/Work/ThirdYear/TheSeekNotebook/WriteObject.py\u001b[0m in \u001b[0;36mfillSEEKForm\u001b[0;34m(self)\u001b[0m\n\u001b[1;32m     62\u001b[0m             self.JSON = Helper.assayFormat(self.assayKind.value,\n\u001b[1;32m     63\u001b[0m                                            \u001b[0mself\u001b[0m\u001b[0;34m.\u001b[0m\u001b[0mdescription\u001b[0m\u001b[0;34m.\u001b[0m\u001b[0mvalue\u001b[0m\u001b[0;34m,\u001b[0m\u001b[0;34m\u001b[0m\u001b[0m\n\u001b[0;32m---> 64\u001b[0;31m                                            self.policyAccess.value)\n\u001b[0m\u001b[1;32m     65\u001b[0m \u001b[0;34m\u001b[0m\u001b[0m\n\u001b[1;32m     66\u001b[0m         \u001b[0;32melif\u001b[0m \u001b[0mself\u001b[0m\u001b[0;34m.\u001b[0m\u001b[0mtype\u001b[0m\u001b[0;34m.\u001b[0m\u001b[0mvalue\u001b[0m \u001b[0;34m==\u001b[0m \u001b[0;34m'investigations'\u001b[0m\u001b[0;34m:\u001b[0m\u001b[0;34m\u001b[0m\u001b[0m\n",
         "\u001b[0;32m~/Work/ThirdYear/TheSeekNotebook/Helper.py\u001b[0m in \u001b[0;36massayFormat\u001b[0;34m(assayKind, description, policy)\u001b[0m\n\u001b[1;32m     69\u001b[0m     \u001b[0mrelationsFormat\u001b[0m\u001b[0;34m(\u001b[0m\u001b[0mJSON\u001b[0m\u001b[0;34m,\u001b[0m \u001b[0;34m\"people\"\u001b[0m\u001b[0;34m,\u001b[0m \u001b[0;34m\"assay\"\u001b[0m\u001b[0;34m)\u001b[0m\u001b[0;34m\u001b[0m\u001b[0m\n\u001b[1;32m     70\u001b[0m     \u001b[0mrelationsFormat\u001b[0m\u001b[0;34m(\u001b[0m\u001b[0mJSON\u001b[0m\u001b[0;34m,\u001b[0m \u001b[0;34m\"publications\"\u001b[0m\u001b[0;34m,\u001b[0m \u001b[0;34m\"assay\"\u001b[0m\u001b[0;34m)\u001b[0m\u001b[0;34m\u001b[0m\u001b[0m\n\u001b[0;32m---> 71\u001b[0;31m     \u001b[0mrelationsFormat\u001b[0m\u001b[0;34m(\u001b[0m\u001b[0mJSON\u001b[0m\u001b[0;34m,\u001b[0m \u001b[0;34m\"sops\"\u001b[0m\u001b[0;34m,\u001b[0m \u001b[0;34m\"assay\"\u001b[0m\u001b[0;34m)\u001b[0m\u001b[0;34m\u001b[0m\u001b[0m\n\u001b[0m\u001b[1;32m     72\u001b[0m \u001b[0;34m\u001b[0m\u001b[0m\n\u001b[1;32m     73\u001b[0m     \u001b[0mstudyID\u001b[0m \u001b[0;34m=\u001b[0m \u001b[0;34m\"\"\u001b[0m\u001b[0;34m\u001b[0m\u001b[0m\n",
         "\u001b[0;32m~/Work/ThirdYear/TheSeekNotebook/Helper.py\u001b[0m in \u001b[0;36mrelationsFormat\u001b[0;34m(JSON, type, source)\u001b[0m\n\u001b[1;32m      3\u001b[0m \u001b[0;34m\u001b[0m\u001b[0m\n\u001b[1;32m      4\u001b[0m \u001b[0;32mdef\u001b[0m \u001b[0mrelationsFormat\u001b[0m\u001b[0;34m(\u001b[0m\u001b[0mJSON\u001b[0m\u001b[0;34m,\u001b[0m \u001b[0mtype\u001b[0m\u001b[0;34m,\u001b[0m \u001b[0msource\u001b[0m\u001b[0;34m)\u001b[0m\u001b[0;34m:\u001b[0m\u001b[0;34m\u001b[0m\u001b[0m\n\u001b[0;32m----> 5\u001b[0;31m     \u001b[0mnumberOfRelations\u001b[0m \u001b[0;34m=\u001b[0m \u001b[0mint\u001b[0m\u001b[0;34m(\u001b[0m\u001b[0minput\u001b[0m\u001b[0;34m(\u001b[0m\u001b[0;34m\"Please specify how many \"\u001b[0m \u001b[0;34m+\u001b[0m \u001b[0mtype\u001b[0m \u001b[0;34m+\u001b[0m \u001b[0;34m\" is this \"\u001b[0m \u001b[0;34m+\u001b[0m \u001b[0msource\u001b[0m \u001b[0;34m+\u001b[0m \u001b[0;34m\" related to: \"\u001b[0m\u001b[0;34m)\u001b[0m\u001b[0;34m)\u001b[0m\u001b[0;34m\u001b[0m\u001b[0m\n\u001b[0m\u001b[1;32m      6\u001b[0m \u001b[0;34m\u001b[0m\u001b[0m\n\u001b[1;32m      7\u001b[0m     \u001b[0;32mif\u001b[0m \u001b[0mnumberOfRelations\u001b[0m \u001b[0;34m!=\u001b[0m \u001b[0;36m0\u001b[0m\u001b[0;34m:\u001b[0m\u001b[0;34m\u001b[0m\u001b[0m\n",
         "\u001b[0;31mValueError\u001b[0m: invalid literal for int() with base 10: ''"
        ]
       }
      ],
      "source": "assay.fillSEEKForm()",
      "start_time": "2019-03-25T12:33:07.267Z"
     },
     {
      "end_time": "2019-03-25T12:34:41.218Z",
      "execution_time": "19.9s",
      "outputs": [
       {
        "name": "stdout",
        "output_type": "stream",
        "text": "Enter the title: scooby doo\nPlease list other creators: \nPlease specify the assay type uri: \nPlease specify the assay type uri: \nPlease specify how many data_files is this assay related to: 0\nPlease specify how many documents is this assay related to: 0\nPlease specify the id of the investigation: 57\nPlease specify how many models is this assay related to: 0\nPlease specify how many people is this assay related to: 0\nPlease specify how many publications is this assay related to: 0\nPlease specify how many sops is this assay related to: 0\nPlease specify the id of the study: \nPlease specify how many organisms is this assay related to: 0\n{'data': {'type': 'assays', 'attributes': {'title': 'scooby doo', 'description': '', 'policy': {'access': 'view', 'permissions': []}, 'other_creators': '', 'assay_class': {'key': 'EXP'}}, 'relationships': {'investigation': {'data': {'id': '57', 'type': 'investigations'}}}}}\n"
       }
      ],
      "source": "assay.fillSEEKForm()",
      "start_time": "2019-03-25T12:34:21.309Z"
     },
     {
      "end_time": "2019-03-25T12:36:07.005Z",
      "execution_time": "16.4s",
      "outputs": [
       {
        "name": "stdout",
        "output_type": "stream",
        "text": "Enter the title: scooby doo\nPlease list other creators: \nPlease specify the assay type uri: \nPlease specify the technology type uri: \nPlease specify how many data_files is this assay related to: 0\nPlease specify how many documents is this assay related to: 0\nPlease specify the id of the investigation: 57\nPlease specify how many models is this assay related to: 0\nPlease specify how many people is this assay related to: 0\nPlease specify how many publications is this assay related to: 0\nPlease specify how many sops is this assay related to: 0\nPlease specify the id of the study: \nPlease specify how many organisms is this assay related to: 0\n{'data': {'type': 'assays', 'attributes': {'title': 'scooby doo', 'description': 'unde esti tu', 'policy': {'access': 'view', 'permissions': []}, 'other_creators': '', 'assay_class': {'key': 'EXP'}}, 'relationships': {'investigation': {'data': {'id': '57', 'type': 'investigations'}}}}}\n"
       }
      ],
      "source": "assay.fillSEEKForm()",
      "start_time": "2019-03-25T12:35:50.628Z"
     },
     {
      "end_time": "2019-03-25T12:43:42.114Z",
      "execution_time": "13.6s",
      "outputs": [
       {
        "name": "stdout",
        "output_type": "stream",
        "text": "Enter the title: scooby do\nPlease list other creators: \nPlease specify the assay type uri: \nPlease specify the technology type uri: \nPlease specify how many data_files is this assay related to: 0\nPlease specify how many documents is this assay related to: 0\nPlease specify the id of the investigation: 57\nPlease specify how many models is this assay related to: 0\nPlease specify how many people is this assay related to: 0\nPlease specify how many publications is this assay related to: 0\nPlease specify how many sops is this assay related to: \n"
       },
       {
        "ename": "ValueError",
        "evalue": "invalid literal for int() with base 10: ''",
        "output_type": "error",
        "traceback": [
         "\u001b[0;31m---------------------------------------------------------------------------\u001b[0m",
         "\u001b[0;31mValueError\u001b[0m                                Traceback (most recent call last)",
         "\u001b[0;32m<ipython-input-6-3ecd535a19cc>\u001b[0m in \u001b[0;36m<module>\u001b[0;34m()\u001b[0m\n\u001b[0;32m----> 1\u001b[0;31m \u001b[0massay\u001b[0m\u001b[0;34m.\u001b[0m\u001b[0mfillSEEKForm\u001b[0m\u001b[0;34m(\u001b[0m\u001b[0;34m)\u001b[0m\u001b[0;34m\u001b[0m\u001b[0m\n\u001b[0m",
         "\u001b[0;32m~/Work/ThirdYear/TheSeekNotebook/WriteObject.py\u001b[0m in \u001b[0;36mfillSEEKForm\u001b[0;34m(self)\u001b[0m\n\u001b[1;32m     62\u001b[0m             self.JSON = Helper.assayFormat(self.assayKind.value,\n\u001b[1;32m     63\u001b[0m                                            \u001b[0mself\u001b[0m\u001b[0;34m.\u001b[0m\u001b[0mdescription\u001b[0m\u001b[0;34m.\u001b[0m\u001b[0mvalue\u001b[0m\u001b[0;34m,\u001b[0m\u001b[0;34m\u001b[0m\u001b[0m\n\u001b[0;32m---> 64\u001b[0;31m                                            self.policyAccess.value)\n\u001b[0m\u001b[1;32m     65\u001b[0m \u001b[0;34m\u001b[0m\u001b[0m\n\u001b[1;32m     66\u001b[0m         \u001b[0;32melif\u001b[0m \u001b[0mself\u001b[0m\u001b[0;34m.\u001b[0m\u001b[0mtype\u001b[0m\u001b[0;34m.\u001b[0m\u001b[0mvalue\u001b[0m \u001b[0;34m==\u001b[0m \u001b[0;34m'investigations'\u001b[0m\u001b[0;34m:\u001b[0m\u001b[0;34m\u001b[0m\u001b[0m\n",
         "\u001b[0;32m~/Work/ThirdYear/TheSeekNotebook/Helper.py\u001b[0m in \u001b[0;36massayFormat\u001b[0;34m(assayKind, description, policy)\u001b[0m\n\u001b[1;32m     72\u001b[0m     \u001b[0mrelationsFormat\u001b[0m\u001b[0;34m(\u001b[0m\u001b[0mJSON\u001b[0m\u001b[0;34m,\u001b[0m \u001b[0;34m\"people\"\u001b[0m\u001b[0;34m,\u001b[0m \u001b[0;34m\"assay\"\u001b[0m\u001b[0;34m)\u001b[0m\u001b[0;34m\u001b[0m\u001b[0m\n\u001b[1;32m     73\u001b[0m     \u001b[0mrelationsFormat\u001b[0m\u001b[0;34m(\u001b[0m\u001b[0mJSON\u001b[0m\u001b[0;34m,\u001b[0m \u001b[0;34m\"publications\"\u001b[0m\u001b[0;34m,\u001b[0m \u001b[0;34m\"assay\"\u001b[0m\u001b[0;34m)\u001b[0m\u001b[0;34m\u001b[0m\u001b[0m\n\u001b[0;32m---> 74\u001b[0;31m     \u001b[0mrelationsFormat\u001b[0m\u001b[0;34m(\u001b[0m\u001b[0mJSON\u001b[0m\u001b[0;34m,\u001b[0m \u001b[0;34m\"sops\"\u001b[0m\u001b[0;34m,\u001b[0m \u001b[0;34m\"assay\"\u001b[0m\u001b[0;34m)\u001b[0m\u001b[0;34m\u001b[0m\u001b[0m\n\u001b[0m\u001b[1;32m     75\u001b[0m \u001b[0;34m\u001b[0m\u001b[0m\n\u001b[1;32m     76\u001b[0m     \u001b[0mstudyID\u001b[0m \u001b[0;34m=\u001b[0m \u001b[0;34m\"\"\u001b[0m\u001b[0;34m\u001b[0m\u001b[0m\n",
         "\u001b[0;32m~/Work/ThirdYear/TheSeekNotebook/Helper.py\u001b[0m in \u001b[0;36mrelationsFormat\u001b[0;34m(JSON, type, source)\u001b[0m\n\u001b[1;32m      3\u001b[0m \u001b[0;34m\u001b[0m\u001b[0m\n\u001b[1;32m      4\u001b[0m \u001b[0;32mdef\u001b[0m \u001b[0mrelationsFormat\u001b[0m\u001b[0;34m(\u001b[0m\u001b[0mJSON\u001b[0m\u001b[0;34m,\u001b[0m \u001b[0mtype\u001b[0m\u001b[0;34m,\u001b[0m \u001b[0msource\u001b[0m\u001b[0;34m)\u001b[0m\u001b[0;34m:\u001b[0m\u001b[0;34m\u001b[0m\u001b[0m\n\u001b[0;32m----> 5\u001b[0;31m     \u001b[0mnumberOfRelations\u001b[0m \u001b[0;34m=\u001b[0m \u001b[0mint\u001b[0m\u001b[0;34m(\u001b[0m\u001b[0minput\u001b[0m\u001b[0;34m(\u001b[0m\u001b[0;34m\"Please specify how many \"\u001b[0m \u001b[0;34m+\u001b[0m \u001b[0mtype\u001b[0m \u001b[0;34m+\u001b[0m \u001b[0;34m\" is this \"\u001b[0m \u001b[0;34m+\u001b[0m \u001b[0msource\u001b[0m \u001b[0;34m+\u001b[0m \u001b[0;34m\" related to: \"\u001b[0m\u001b[0;34m)\u001b[0m\u001b[0;34m)\u001b[0m\u001b[0;34m\u001b[0m\u001b[0m\n\u001b[0m\u001b[1;32m      6\u001b[0m \u001b[0;34m\u001b[0m\u001b[0m\n\u001b[1;32m      7\u001b[0m     \u001b[0;32mif\u001b[0m \u001b[0mnumberOfRelations\u001b[0m \u001b[0;34m!=\u001b[0m \u001b[0;36m0\u001b[0m\u001b[0;34m:\u001b[0m\u001b[0;34m\u001b[0m\u001b[0m\n",
         "\u001b[0;31mValueError\u001b[0m: invalid literal for int() with base 10: ''"
        ]
       }
      ],
      "source": "assay.fillSEEKForm()",
      "start_time": "2019-03-25T12:43:28.501Z"
     },
     {
      "end_time": "2019-03-25T12:44:10.476Z",
      "execution_time": "26.1s",
      "outputs": [
       {
        "name": "stdout",
        "output_type": "stream",
        "text": "Enter the title: scooby doo\nPlease list other creators: \nPlease specify the assay type uri: \nPlease specify the technology type uri: \nPlease specify how many data_files is this assay related to: 0\nPlease specify how many documents is this assay related to: 0\nPlease specify the id of the investigation: 57\nPlease specify how many models is this assay related to: 0\nPlease specify how many people is this assay related to: 0\nPlease specify how many publications is this assay related to: 0\nPlease specify how many sops is this assay related to: 0\nPlease specify the id of the study: \nPlease specify how many organisms is this assay related to: 0\n{'data': {'type': 'assays', 'attributes': {'title': 'scooby doo', 'description': 'unde esti tu', 'policy': {'access': 'view', 'permissions': []}, 'assay_class': {'key': 'EXP'}}, 'relationships': {'investigation': {'data': {'id': '57', 'type': 'investigations'}}}}}\n"
       }
      ],
      "source": "assay.fillSEEKForm()",
      "start_time": "2019-03-25T12:43:44.344Z"
     },
     {
      "end_time": "2019-03-25T12:46:47.935Z",
      "execution_time": "26.8s",
      "outputs": [
       {
        "name": "stdout",
        "output_type": "stream",
        "text": "Enter the title: scooby doo\nPlease list other creators: \nPlease specify the assay type uri: \nPlease specify the technology type uri: \nPlease specify how many data_files is this assay related to: 0\nPlease specify how many documents is this assay related to: 0\nPlease specify the id of the investigation: 41\nPlease specify how many models is this assay related to: 0\nPlease specify how many people is this assay related to: \n"
       },
       {
        "ename": "ValueError",
        "evalue": "invalid literal for int() with base 10: ''",
        "output_type": "error",
        "traceback": [
         "\u001b[0;31m---------------------------------------------------------------------------\u001b[0m",
         "\u001b[0;31mValueError\u001b[0m                                Traceback (most recent call last)",
         "\u001b[0;32m<ipython-input-9-3ecd535a19cc>\u001b[0m in \u001b[0;36m<module>\u001b[0;34m()\u001b[0m\n\u001b[0;32m----> 1\u001b[0;31m \u001b[0massay\u001b[0m\u001b[0;34m.\u001b[0m\u001b[0mfillSEEKForm\u001b[0m\u001b[0;34m(\u001b[0m\u001b[0;34m)\u001b[0m\u001b[0;34m\u001b[0m\u001b[0m\n\u001b[0m",
         "\u001b[0;32m~/Work/ThirdYear/TheSeekNotebook/WriteObject.py\u001b[0m in \u001b[0;36mfillSEEKForm\u001b[0;34m(self)\u001b[0m\n\u001b[1;32m     62\u001b[0m             self.JSON = Helper.assayFormat(self.assayKind.value,\n\u001b[1;32m     63\u001b[0m                                            \u001b[0mself\u001b[0m\u001b[0;34m.\u001b[0m\u001b[0mdescription\u001b[0m\u001b[0;34m.\u001b[0m\u001b[0mvalue\u001b[0m\u001b[0;34m,\u001b[0m\u001b[0;34m\u001b[0m\u001b[0m\n\u001b[0;32m---> 64\u001b[0;31m                                            self.policyAccess.value)\n\u001b[0m\u001b[1;32m     65\u001b[0m \u001b[0;34m\u001b[0m\u001b[0m\n\u001b[1;32m     66\u001b[0m         \u001b[0;32melif\u001b[0m \u001b[0mself\u001b[0m\u001b[0;34m.\u001b[0m\u001b[0mtype\u001b[0m\u001b[0;34m.\u001b[0m\u001b[0mvalue\u001b[0m \u001b[0;34m==\u001b[0m \u001b[0;34m'investigations'\u001b[0m\u001b[0;34m:\u001b[0m\u001b[0;34m\u001b[0m\u001b[0m\n",
         "\u001b[0;32m~/Work/ThirdYear/TheSeekNotebook/Helper.py\u001b[0m in \u001b[0;36massayFormat\u001b[0;34m(assayKind, description, policy)\u001b[0m\n\u001b[1;32m     70\u001b[0m \u001b[0;34m\u001b[0m\u001b[0m\n\u001b[1;32m     71\u001b[0m     \u001b[0mrelationsFormat\u001b[0m\u001b[0;34m(\u001b[0m\u001b[0mJSON\u001b[0m\u001b[0;34m,\u001b[0m \u001b[0;34m\"models\"\u001b[0m\u001b[0;34m,\u001b[0m \u001b[0;34m\"assay\"\u001b[0m\u001b[0;34m)\u001b[0m\u001b[0;34m\u001b[0m\u001b[0m\n\u001b[0;32m---> 72\u001b[0;31m     \u001b[0mrelationsFormat\u001b[0m\u001b[0;34m(\u001b[0m\u001b[0mJSON\u001b[0m\u001b[0;34m,\u001b[0m \u001b[0;34m\"people\"\u001b[0m\u001b[0;34m,\u001b[0m \u001b[0;34m\"assay\"\u001b[0m\u001b[0;34m)\u001b[0m\u001b[0;34m\u001b[0m\u001b[0m\n\u001b[0m\u001b[1;32m     73\u001b[0m     \u001b[0mrelationsFormat\u001b[0m\u001b[0;34m(\u001b[0m\u001b[0mJSON\u001b[0m\u001b[0;34m,\u001b[0m \u001b[0;34m\"publications\"\u001b[0m\u001b[0;34m,\u001b[0m \u001b[0;34m\"assay\"\u001b[0m\u001b[0;34m)\u001b[0m\u001b[0;34m\u001b[0m\u001b[0m\n\u001b[1;32m     74\u001b[0m     \u001b[0mrelationsFormat\u001b[0m\u001b[0;34m(\u001b[0m\u001b[0mJSON\u001b[0m\u001b[0;34m,\u001b[0m \u001b[0;34m\"sops\"\u001b[0m\u001b[0;34m,\u001b[0m \u001b[0;34m\"assay\"\u001b[0m\u001b[0;34m)\u001b[0m\u001b[0;34m\u001b[0m\u001b[0m\n",
         "\u001b[0;32m~/Work/ThirdYear/TheSeekNotebook/Helper.py\u001b[0m in \u001b[0;36mrelationsFormat\u001b[0;34m(JSON, type, source)\u001b[0m\n\u001b[1;32m      3\u001b[0m \u001b[0;34m\u001b[0m\u001b[0m\n\u001b[1;32m      4\u001b[0m \u001b[0;32mdef\u001b[0m \u001b[0mrelationsFormat\u001b[0m\u001b[0;34m(\u001b[0m\u001b[0mJSON\u001b[0m\u001b[0;34m,\u001b[0m \u001b[0mtype\u001b[0m\u001b[0;34m,\u001b[0m \u001b[0msource\u001b[0m\u001b[0;34m)\u001b[0m\u001b[0;34m:\u001b[0m\u001b[0;34m\u001b[0m\u001b[0m\n\u001b[0;32m----> 5\u001b[0;31m     \u001b[0mnumberOfRelations\u001b[0m \u001b[0;34m=\u001b[0m \u001b[0mint\u001b[0m\u001b[0;34m(\u001b[0m\u001b[0minput\u001b[0m\u001b[0;34m(\u001b[0m\u001b[0;34m\"Please specify how many \"\u001b[0m \u001b[0;34m+\u001b[0m \u001b[0mtype\u001b[0m \u001b[0;34m+\u001b[0m \u001b[0;34m\" is this \"\u001b[0m \u001b[0;34m+\u001b[0m \u001b[0msource\u001b[0m \u001b[0;34m+\u001b[0m \u001b[0;34m\" related to: \"\u001b[0m\u001b[0;34m)\u001b[0m\u001b[0;34m)\u001b[0m\u001b[0;34m\u001b[0m\u001b[0m\n\u001b[0m\u001b[1;32m      6\u001b[0m \u001b[0;34m\u001b[0m\u001b[0m\n\u001b[1;32m      7\u001b[0m     \u001b[0;32mif\u001b[0m \u001b[0mnumberOfRelations\u001b[0m \u001b[0;34m!=\u001b[0m \u001b[0;36m0\u001b[0m\u001b[0;34m:\u001b[0m\u001b[0;34m\u001b[0m\u001b[0m\n",
         "\u001b[0;31mValueError\u001b[0m: invalid literal for int() with base 10: ''"
        ]
       }
      ],
      "source": "assay.fillSEEKForm()",
      "start_time": "2019-03-25T12:46:21.158Z"
     },
     {
      "end_time": "2019-03-25T12:47:06.021Z",
      "execution_time": "16.5s",
      "outputs": [
       {
        "name": "stdout",
        "output_type": "stream",
        "text": "Enter the title: scooby doo\nPlease list other creators: \nPlease specify the assay type uri: \nPlease specify the technology type uri: \nPlease specify how many data_files is this assay related to: 0\nPlease specify how many documents is this assay related to: 0\nPlease specify the id of the investigation: 41\nPlease specify how many models is this assay related to: 0\nPlease specify how many people is this assay related to: 0\nPlease specify how many publications is this assay related to: 0\nPlease specify how many sops is this assay related to: 0\nPlease specify the id of the study: 57\nPlease specify how many organisms is this assay related to: 0\n{'data': {'type': 'assays', 'attributes': {'title': 'scooby doo', 'description': 'unde esti tu', 'policy': {'access': 'view', 'permissions': []}, 'assay_class': {'key': 'EXP'}}, 'relationships': {'investigation': {'data': {'id': '41', 'type': 'investigations'}}, 'study': {'data': {'id': '57', 'type': 'studies'}}}}}\n"
       }
      ],
      "source": "assay.fillSEEKForm()",
      "start_time": "2019-03-25T12:46:49.533Z"
     }
    ]
   },
   "outputs": [
    {
     "name": "stdout",
     "output_type": "stream",
     "text": [
      "Enter the title: scooby doo\n",
      "Please list other creators: \n",
      "Please specify the assay type uri: \n",
      "Please specify the technology type uri: \n",
      "Please specify how many data_files is this assay related to: 0\n",
      "Please specify how many documents is this assay related to: 0\n",
      "Please specify the id of the investigation: 41\n",
      "Please specify how many models is this assay related to: 0\n",
      "Please specify how many people is this assay related to: 0\n",
      "Please specify how many publications is this assay related to: 0\n",
      "Please specify how many sops is this assay related to: 0\n",
      "Please specify the id of the study: 57\n",
      "Please specify how many organisms is this assay related to: 0\n",
      "{'data': {'type': 'assays', 'attributes': {'title': 'scooby doo', 'description': 'unde esti tu', 'policy': {'access': 'view', 'permissions': []}, 'assay_class': {'key': 'EXP'}}, 'relationships': {'investigation': {'data': {'id': '41', 'type': 'investigations'}}, 'study': {'data': {'id': '57', 'type': 'studies'}}}}}\n"
     ]
    }
   ],
   "source": [
    "assay.fillSEEKForm()"
   ]
  },
  {
   "cell_type": "code",
   "execution_count": 11,
   "metadata": {
    "ExecutionTime": {
     "end_time": "2019-03-25T12:47:08.418955Z",
     "start_time": "2019-03-25T12:47:07.674084Z"
    },
    "provenance": [
     {
      "end_time": "2019-03-15T14:15:44.907Z",
      "execution_time": "76ms",
      "outputs": [
       {
        "ename": "NameError",
        "evalue": "name 'session' is not defined",
        "output_type": "error",
        "traceback": [
         "\u001b[0;31m---------------------------------------------------------------------------\u001b[0m",
         "\u001b[0;31mNameError\u001b[0m                                 Traceback (most recent call last)",
         "\u001b[0;32m<ipython-input-2-352cab6f49f8>\u001b[0m in \u001b[0;36m<module>\u001b[0;34m()\u001b[0m\n\u001b[0;32m----> 1\u001b[0;31m \u001b[0mWO\u001b[0m\u001b[0;34m.\u001b[0m\u001b[0mrequest\u001b[0m\u001b[0;34m(\u001b[0m\u001b[0;34m)\u001b[0m\u001b[0;34m\u001b[0m\u001b[0m\n\u001b[0m",
         "\u001b[0;32m~/Work/ThirdYear/Seek/TheSeekNotebook/WriteObject.py\u001b[0m in \u001b[0;36mrequest\u001b[0;34m(self)\u001b[0m\n\u001b[1;32m     40\u001b[0m \u001b[0;34m\u001b[0m\u001b[0m\n\u001b[1;32m     41\u001b[0m     \u001b[0;32mdef\u001b[0m \u001b[0mrequest\u001b[0m\u001b[0;34m(\u001b[0m\u001b[0mself\u001b[0m\u001b[0;34m)\u001b[0m\u001b[0;34m:\u001b[0m\u001b[0;34m\u001b[0m\u001b[0m\n\u001b[0;32m---> 42\u001b[0;31m         \u001b[0mr\u001b[0m \u001b[0;34m=\u001b[0m \u001b[0msession\u001b[0m\u001b[0;34m.\u001b[0m\u001b[0mpost\u001b[0m\u001b[0;34m(\u001b[0m\u001b[0mbase_url\u001b[0m \u001b[0;34m+\u001b[0m \u001b[0;34m'/'\u001b[0m \u001b[0;34m+\u001b[0m \u001b[0mself\u001b[0m\u001b[0;34m.\u001b[0m\u001b[0mtype\u001b[0m\u001b[0;34m,\u001b[0m \u001b[0mjson\u001b[0m\u001b[0;34m=\u001b[0m\u001b[0mself\u001b[0m\u001b[0;34m.\u001b[0m\u001b[0mJSON\u001b[0m\u001b[0;34m)\u001b[0m\u001b[0;34m\u001b[0m\u001b[0m\n\u001b[0m\u001b[1;32m     43\u001b[0m         \u001b[0mr\u001b[0m\u001b[0;34m.\u001b[0m\u001b[0mraise_for_status\u001b[0m\u001b[0;34m(\u001b[0m\u001b[0;34m)\u001b[0m\u001b[0;34m\u001b[0m\u001b[0m\n",
         "\u001b[0;31mNameError\u001b[0m: name 'session' is not defined"
        ]
       }
      ],
      "source": "WO.request()",
      "start_time": "2019-03-15T14:15:44.831Z"
     },
     {
      "end_time": "2019-03-15T14:16:56.450Z",
      "execution_time": "111ms",
      "outputs": [
       {
        "ename": "NameError",
        "evalue": "name 'base_url' is not defined",
        "output_type": "error",
        "traceback": [
         "\u001b[0;31m---------------------------------------------------------------------------\u001b[0m",
         "\u001b[0;31mNameError\u001b[0m                                 Traceback (most recent call last)",
         "\u001b[0;32m<ipython-input-3-352cab6f49f8>\u001b[0m in \u001b[0;36m<module>\u001b[0;34m()\u001b[0m\n\u001b[0;32m----> 1\u001b[0;31m \u001b[0mWO\u001b[0m\u001b[0;34m.\u001b[0m\u001b[0mrequest\u001b[0m\u001b[0;34m(\u001b[0m\u001b[0;34m)\u001b[0m\u001b[0;34m\u001b[0m\u001b[0m\n\u001b[0m",
         "\u001b[0;32m~/Work/ThirdYear/Seek/TheSeekNotebook/WriteObject.py\u001b[0m in \u001b[0;36mrequest\u001b[0;34m(self)\u001b[0m\n\u001b[1;32m     40\u001b[0m \u001b[0;34m\u001b[0m\u001b[0m\n\u001b[1;32m     41\u001b[0m     \u001b[0;32mdef\u001b[0m \u001b[0mrequest\u001b[0m\u001b[0;34m(\u001b[0m\u001b[0mself\u001b[0m\u001b[0;34m)\u001b[0m\u001b[0;34m:\u001b[0m\u001b[0;34m\u001b[0m\u001b[0m\n\u001b[0;32m---> 42\u001b[0;31m         \u001b[0mr\u001b[0m \u001b[0;34m=\u001b[0m \u001b[0mself\u001b[0m\u001b[0;34m.\u001b[0m\u001b[0msession\u001b[0m\u001b[0;34m.\u001b[0m\u001b[0mpost\u001b[0m\u001b[0;34m(\u001b[0m\u001b[0mbase_url\u001b[0m \u001b[0;34m+\u001b[0m \u001b[0;34m'/'\u001b[0m \u001b[0;34m+\u001b[0m \u001b[0mself\u001b[0m\u001b[0;34m.\u001b[0m\u001b[0mtype\u001b[0m\u001b[0;34m,\u001b[0m \u001b[0mjson\u001b[0m\u001b[0;34m=\u001b[0m\u001b[0mself\u001b[0m\u001b[0;34m.\u001b[0m\u001b[0mJSON\u001b[0m\u001b[0;34m)\u001b[0m\u001b[0;34m\u001b[0m\u001b[0m\n\u001b[0m\u001b[1;32m     43\u001b[0m         \u001b[0mr\u001b[0m\u001b[0;34m.\u001b[0m\u001b[0mraise_for_status\u001b[0m\u001b[0;34m(\u001b[0m\u001b[0;34m)\u001b[0m\u001b[0;34m\u001b[0m\u001b[0m\n",
         "\u001b[0;31mNameError\u001b[0m: name 'base_url' is not defined"
        ]
       }
      ],
      "source": "WO.request()",
      "start_time": "2019-03-15T14:16:56.339Z"
     },
     {
      "end_time": "2019-03-15T14:18:01.861Z",
      "execution_time": "29ms",
      "outputs": [
       {
        "ename": "TypeError",
        "evalue": "unsupported operand type(s) for +: 'NoneType' and 'str'",
        "output_type": "error",
        "traceback": [
         "\u001b[0;31m---------------------------------------------------------------------------\u001b[0m",
         "\u001b[0;31mTypeError\u001b[0m                                 Traceback (most recent call last)",
         "\u001b[0;32m<ipython-input-3-352cab6f49f8>\u001b[0m in \u001b[0;36m<module>\u001b[0;34m()\u001b[0m\n\u001b[0;32m----> 1\u001b[0;31m \u001b[0mWO\u001b[0m\u001b[0;34m.\u001b[0m\u001b[0mrequest\u001b[0m\u001b[0;34m(\u001b[0m\u001b[0;34m)\u001b[0m\u001b[0;34m\u001b[0m\u001b[0m\n\u001b[0m",
         "\u001b[0;32m~/Work/ThirdYear/Seek/TheSeekNotebook/WriteObject.py\u001b[0m in \u001b[0;36mrequest\u001b[0;34m(self)\u001b[0m\n\u001b[1;32m     40\u001b[0m \u001b[0;34m\u001b[0m\u001b[0m\n\u001b[1;32m     41\u001b[0m     \u001b[0;32mdef\u001b[0m \u001b[0mrequest\u001b[0m\u001b[0;34m(\u001b[0m\u001b[0mself\u001b[0m\u001b[0;34m)\u001b[0m\u001b[0;34m:\u001b[0m\u001b[0;34m\u001b[0m\u001b[0m\n\u001b[0;32m---> 42\u001b[0;31m         \u001b[0mr\u001b[0m \u001b[0;34m=\u001b[0m \u001b[0mself\u001b[0m\u001b[0;34m.\u001b[0m\u001b[0msession\u001b[0m\u001b[0;34m.\u001b[0m\u001b[0mpost\u001b[0m\u001b[0;34m(\u001b[0m\u001b[0mself\u001b[0m\u001b[0;34m.\u001b[0m\u001b[0mbase_url\u001b[0m \u001b[0;34m+\u001b[0m \u001b[0;34m'/'\u001b[0m \u001b[0;34m+\u001b[0m \u001b[0mself\u001b[0m\u001b[0;34m.\u001b[0m\u001b[0mtype\u001b[0m\u001b[0;34m,\u001b[0m \u001b[0mjson\u001b[0m\u001b[0;34m=\u001b[0m\u001b[0mself\u001b[0m\u001b[0;34m.\u001b[0m\u001b[0mJSON\u001b[0m\u001b[0;34m)\u001b[0m\u001b[0;34m\u001b[0m\u001b[0m\n\u001b[0m\u001b[1;32m     43\u001b[0m         \u001b[0mr\u001b[0m\u001b[0;34m.\u001b[0m\u001b[0mraise_for_status\u001b[0m\u001b[0;34m(\u001b[0m\u001b[0;34m)\u001b[0m\u001b[0;34m\u001b[0m\u001b[0m\n",
         "\u001b[0;31mTypeError\u001b[0m: unsupported operand type(s) for +: 'NoneType' and 'str'"
        ]
       }
      ],
      "source": "WO.request()",
      "start_time": "2019-03-15T14:18:01.832Z"
     },
     {
      "end_time": "2019-03-15T14:19:37.018Z",
      "execution_time": "303ms",
      "outputs": [
       {
        "ename": "HTTPError",
        "evalue": "401 Client Error: Unauthorized for url: https://testing.sysmo-db.org/assays",
        "output_type": "error",
        "traceback": [
         "\u001b[0;31m---------------------------------------------------------------------------\u001b[0m",
         "\u001b[0;31mHTTPError\u001b[0m                                 Traceback (most recent call last)",
         "\u001b[0;32m<ipython-input-2-352cab6f49f8>\u001b[0m in \u001b[0;36m<module>\u001b[0;34m()\u001b[0m\n\u001b[0;32m----> 1\u001b[0;31m \u001b[0mWO\u001b[0m\u001b[0;34m.\u001b[0m\u001b[0mrequest\u001b[0m\u001b[0;34m(\u001b[0m\u001b[0;34m)\u001b[0m\u001b[0;34m\u001b[0m\u001b[0m\n\u001b[0m",
         "\u001b[0;32m~/Work/ThirdYear/Seek/TheSeekNotebook/WriteObject.py\u001b[0m in \u001b[0;36mrequest\u001b[0;34m(self)\u001b[0m\n\u001b[1;32m     41\u001b[0m     \u001b[0;32mdef\u001b[0m \u001b[0mrequest\u001b[0m\u001b[0;34m(\u001b[0m\u001b[0mself\u001b[0m\u001b[0;34m)\u001b[0m\u001b[0;34m:\u001b[0m\u001b[0;34m\u001b[0m\u001b[0m\n\u001b[1;32m     42\u001b[0m         \u001b[0mr\u001b[0m \u001b[0;34m=\u001b[0m \u001b[0mself\u001b[0m\u001b[0;34m.\u001b[0m\u001b[0msession\u001b[0m\u001b[0;34m.\u001b[0m\u001b[0mpost\u001b[0m\u001b[0;34m(\u001b[0m\u001b[0mself\u001b[0m\u001b[0;34m.\u001b[0m\u001b[0mbase_url\u001b[0m \u001b[0;34m+\u001b[0m \u001b[0;34m'/'\u001b[0m \u001b[0;34m+\u001b[0m \u001b[0mself\u001b[0m\u001b[0;34m.\u001b[0m\u001b[0mtype\u001b[0m\u001b[0;34m,\u001b[0m \u001b[0mjson\u001b[0m\u001b[0;34m=\u001b[0m\u001b[0mself\u001b[0m\u001b[0;34m.\u001b[0m\u001b[0mJSON\u001b[0m\u001b[0;34m)\u001b[0m\u001b[0;34m\u001b[0m\u001b[0m\n\u001b[0;32m---> 43\u001b[0;31m         \u001b[0mr\u001b[0m\u001b[0;34m.\u001b[0m\u001b[0mraise_for_status\u001b[0m\u001b[0;34m(\u001b[0m\u001b[0;34m)\u001b[0m\u001b[0;34m\u001b[0m\u001b[0m\n\u001b[0m",
         "\u001b[0;32m~/anaconda3/lib/python3.6/site-packages/requests/models.py\u001b[0m in \u001b[0;36mraise_for_status\u001b[0;34m(self)\u001b[0m\n\u001b[1;32m    933\u001b[0m \u001b[0;34m\u001b[0m\u001b[0m\n\u001b[1;32m    934\u001b[0m         \u001b[0;32mif\u001b[0m \u001b[0mhttp_error_msg\u001b[0m\u001b[0;34m:\u001b[0m\u001b[0;34m\u001b[0m\u001b[0m\n\u001b[0;32m--> 935\u001b[0;31m             \u001b[0;32mraise\u001b[0m \u001b[0mHTTPError\u001b[0m\u001b[0;34m(\u001b[0m\u001b[0mhttp_error_msg\u001b[0m\u001b[0;34m,\u001b[0m \u001b[0mresponse\u001b[0m\u001b[0;34m=\u001b[0m\u001b[0mself\u001b[0m\u001b[0;34m)\u001b[0m\u001b[0;34m\u001b[0m\u001b[0m\n\u001b[0m\u001b[1;32m    936\u001b[0m \u001b[0;34m\u001b[0m\u001b[0m\n\u001b[1;32m    937\u001b[0m     \u001b[0;32mdef\u001b[0m \u001b[0mclose\u001b[0m\u001b[0;34m(\u001b[0m\u001b[0mself\u001b[0m\u001b[0;34m)\u001b[0m\u001b[0;34m:\u001b[0m\u001b[0;34m\u001b[0m\u001b[0m\n",
         "\u001b[0;31mHTTPError\u001b[0m: 401 Client Error: Unauthorized for url: https://testing.sysmo-db.org/assays"
        ]
       }
      ],
      "source": "WO.request()",
      "start_time": "2019-03-15T14:19:36.715Z"
     },
     {
      "end_time": "2019-03-15T14:28:26.550Z",
      "execution_time": "274ms",
      "outputs": [
       {
        "ename": "HTTPError",
        "evalue": "401 Client Error: Unauthorized for url: https://testing.sysmo-db.org/assays",
        "output_type": "error",
        "traceback": [
         "\u001b[0;31m---------------------------------------------------------------------------\u001b[0m",
         "\u001b[0;31mHTTPError\u001b[0m                                 Traceback (most recent call last)",
         "\u001b[0;32m<ipython-input-2-352cab6f49f8>\u001b[0m in \u001b[0;36m<module>\u001b[0;34m()\u001b[0m\n\u001b[0;32m----> 1\u001b[0;31m \u001b[0mWO\u001b[0m\u001b[0;34m.\u001b[0m\u001b[0mrequest\u001b[0m\u001b[0;34m(\u001b[0m\u001b[0;34m)\u001b[0m\u001b[0;34m\u001b[0m\u001b[0m\n\u001b[0m",
         "\u001b[0;32m~/Work/ThirdYear/Seek/TheSeekNotebook/WriteObject.py\u001b[0m in \u001b[0;36mrequest\u001b[0;34m(self)\u001b[0m\n\u001b[1;32m     41\u001b[0m     \u001b[0;32mdef\u001b[0m \u001b[0mrequest\u001b[0m\u001b[0;34m(\u001b[0m\u001b[0mself\u001b[0m\u001b[0;34m)\u001b[0m\u001b[0;34m:\u001b[0m\u001b[0;34m\u001b[0m\u001b[0m\n\u001b[1;32m     42\u001b[0m         \u001b[0mr\u001b[0m \u001b[0;34m=\u001b[0m \u001b[0mself\u001b[0m\u001b[0;34m.\u001b[0m\u001b[0msession\u001b[0m\u001b[0;34m.\u001b[0m\u001b[0mpost\u001b[0m\u001b[0;34m(\u001b[0m\u001b[0mself\u001b[0m\u001b[0;34m.\u001b[0m\u001b[0mbase_url\u001b[0m \u001b[0;34m+\u001b[0m \u001b[0;34m'/'\u001b[0m \u001b[0;34m+\u001b[0m \u001b[0mself\u001b[0m\u001b[0;34m.\u001b[0m\u001b[0mtype\u001b[0m\u001b[0;34m,\u001b[0m \u001b[0mjson\u001b[0m\u001b[0;34m=\u001b[0m\u001b[0mself\u001b[0m\u001b[0;34m.\u001b[0m\u001b[0mJSON\u001b[0m\u001b[0;34m)\u001b[0m\u001b[0;34m\u001b[0m\u001b[0m\n\u001b[0;32m---> 43\u001b[0;31m         \u001b[0mr\u001b[0m\u001b[0;34m.\u001b[0m\u001b[0mraise_for_status\u001b[0m\u001b[0;34m(\u001b[0m\u001b[0;34m)\u001b[0m\u001b[0;34m\u001b[0m\u001b[0m\n\u001b[0m",
         "\u001b[0;32m~/anaconda3/lib/python3.6/site-packages/requests/models.py\u001b[0m in \u001b[0;36mraise_for_status\u001b[0;34m(self)\u001b[0m\n\u001b[1;32m    933\u001b[0m \u001b[0;34m\u001b[0m\u001b[0m\n\u001b[1;32m    934\u001b[0m         \u001b[0;32mif\u001b[0m \u001b[0mhttp_error_msg\u001b[0m\u001b[0;34m:\u001b[0m\u001b[0;34m\u001b[0m\u001b[0m\n\u001b[0;32m--> 935\u001b[0;31m             \u001b[0;32mraise\u001b[0m \u001b[0mHTTPError\u001b[0m\u001b[0;34m(\u001b[0m\u001b[0mhttp_error_msg\u001b[0m\u001b[0;34m,\u001b[0m \u001b[0mresponse\u001b[0m\u001b[0;34m=\u001b[0m\u001b[0mself\u001b[0m\u001b[0;34m)\u001b[0m\u001b[0;34m\u001b[0m\u001b[0m\n\u001b[0m\u001b[1;32m    936\u001b[0m \u001b[0;34m\u001b[0m\u001b[0m\n\u001b[1;32m    937\u001b[0m     \u001b[0;32mdef\u001b[0m \u001b[0mclose\u001b[0m\u001b[0;34m(\u001b[0m\u001b[0mself\u001b[0m\u001b[0;34m)\u001b[0m\u001b[0;34m:\u001b[0m\u001b[0;34m\u001b[0m\u001b[0m\n",
         "\u001b[0;31mHTTPError\u001b[0m: 401 Client Error: Unauthorized for url: https://testing.sysmo-db.org/assays"
        ]
       }
      ],
      "source": "WO.request()",
      "start_time": "2019-03-15T14:28:26.276Z"
     },
     {
      "end_time": "2019-03-15T14:41:47.999Z",
      "execution_time": "313ms",
      "outputs": [
       {
        "ename": "HTTPError",
        "evalue": "401 Client Error: Unauthorized for url: https://testing.sysmo-db.org/assays",
        "output_type": "error",
        "traceback": [
         "\u001b[0;31m---------------------------------------------------------------------------\u001b[0m",
         "\u001b[0;31mHTTPError\u001b[0m                                 Traceback (most recent call last)",
         "\u001b[0;32m<ipython-input-2-352cab6f49f8>\u001b[0m in \u001b[0;36m<module>\u001b[0;34m()\u001b[0m\n\u001b[0;32m----> 1\u001b[0;31m \u001b[0mWO\u001b[0m\u001b[0;34m.\u001b[0m\u001b[0mrequest\u001b[0m\u001b[0;34m(\u001b[0m\u001b[0;34m)\u001b[0m\u001b[0;34m\u001b[0m\u001b[0m\n\u001b[0m",
         "\u001b[0;32m~/Work/ThirdYear/Seek/TheSeekNotebook/WriteObject.py\u001b[0m in \u001b[0;36mrequest\u001b[0;34m(self)\u001b[0m\n\u001b[1;32m     41\u001b[0m     \u001b[0;32mdef\u001b[0m \u001b[0mrequest\u001b[0m\u001b[0;34m(\u001b[0m\u001b[0mself\u001b[0m\u001b[0;34m)\u001b[0m\u001b[0;34m:\u001b[0m\u001b[0;34m\u001b[0m\u001b[0m\n\u001b[1;32m     42\u001b[0m         \u001b[0mr\u001b[0m \u001b[0;34m=\u001b[0m \u001b[0mself\u001b[0m\u001b[0;34m.\u001b[0m\u001b[0msession\u001b[0m\u001b[0;34m.\u001b[0m\u001b[0mpost\u001b[0m\u001b[0;34m(\u001b[0m\u001b[0mself\u001b[0m\u001b[0;34m.\u001b[0m\u001b[0mbase_url\u001b[0m \u001b[0;34m+\u001b[0m \u001b[0;34m'/'\u001b[0m \u001b[0;34m+\u001b[0m \u001b[0mself\u001b[0m\u001b[0;34m.\u001b[0m\u001b[0mtype\u001b[0m\u001b[0;34m,\u001b[0m \u001b[0mjson\u001b[0m\u001b[0;34m=\u001b[0m\u001b[0mself\u001b[0m\u001b[0;34m.\u001b[0m\u001b[0mJSON\u001b[0m\u001b[0;34m)\u001b[0m\u001b[0;34m\u001b[0m\u001b[0m\n\u001b[0;32m---> 43\u001b[0;31m         \u001b[0mr\u001b[0m\u001b[0;34m.\u001b[0m\u001b[0mraise_for_status\u001b[0m\u001b[0;34m(\u001b[0m\u001b[0;34m)\u001b[0m\u001b[0;34m\u001b[0m\u001b[0m\n\u001b[0m",
         "\u001b[0;32m~/anaconda3/lib/python3.6/site-packages/requests/models.py\u001b[0m in \u001b[0;36mraise_for_status\u001b[0;34m(self)\u001b[0m\n\u001b[1;32m    933\u001b[0m \u001b[0;34m\u001b[0m\u001b[0m\n\u001b[1;32m    934\u001b[0m         \u001b[0;32mif\u001b[0m \u001b[0mhttp_error_msg\u001b[0m\u001b[0;34m:\u001b[0m\u001b[0;34m\u001b[0m\u001b[0m\n\u001b[0;32m--> 935\u001b[0;31m             \u001b[0;32mraise\u001b[0m \u001b[0mHTTPError\u001b[0m\u001b[0;34m(\u001b[0m\u001b[0mhttp_error_msg\u001b[0m\u001b[0;34m,\u001b[0m \u001b[0mresponse\u001b[0m\u001b[0;34m=\u001b[0m\u001b[0mself\u001b[0m\u001b[0;34m)\u001b[0m\u001b[0;34m\u001b[0m\u001b[0m\n\u001b[0m\u001b[1;32m    936\u001b[0m \u001b[0;34m\u001b[0m\u001b[0m\n\u001b[1;32m    937\u001b[0m     \u001b[0;32mdef\u001b[0m \u001b[0mclose\u001b[0m\u001b[0;34m(\u001b[0m\u001b[0mself\u001b[0m\u001b[0;34m)\u001b[0m\u001b[0;34m:\u001b[0m\u001b[0;34m\u001b[0m\u001b[0m\n",
         "\u001b[0;31mHTTPError\u001b[0m: 401 Client Error: Unauthorized for url: https://testing.sysmo-db.org/assays"
        ]
       }
      ],
      "source": "WO.request()",
      "start_time": "2019-03-15T14:41:47.686Z"
     },
     {
      "end_time": "2019-03-15T16:28:29.396Z",
      "execution_time": "372ms",
      "outputs": [
       {
        "ename": "HTTPError",
        "evalue": "404 Client Error: Not Found for url: https://testing.sysmo-db.org/assays",
        "output_type": "error",
        "traceback": [
         "\u001b[0;31m---------------------------------------------------------------------------\u001b[0m",
         "\u001b[0;31mHTTPError\u001b[0m                                 Traceback (most recent call last)",
         "\u001b[0;32m<ipython-input-6-352cab6f49f8>\u001b[0m in \u001b[0;36m<module>\u001b[0;34m()\u001b[0m\n\u001b[0;32m----> 1\u001b[0;31m \u001b[0mWO\u001b[0m\u001b[0;34m.\u001b[0m\u001b[0mrequest\u001b[0m\u001b[0;34m(\u001b[0m\u001b[0;34m)\u001b[0m\u001b[0;34m\u001b[0m\u001b[0m\n\u001b[0m",
         "\u001b[0;32m~/Work/ThirdYear/Seek/TheSeekNotebook/WriteObject.py\u001b[0m in \u001b[0;36mrequest\u001b[0;34m(self)\u001b[0m\n\u001b[1;32m     41\u001b[0m     \u001b[0;32mdef\u001b[0m \u001b[0mrequest\u001b[0m\u001b[0;34m(\u001b[0m\u001b[0mself\u001b[0m\u001b[0;34m)\u001b[0m\u001b[0;34m:\u001b[0m\u001b[0;34m\u001b[0m\u001b[0m\n\u001b[1;32m     42\u001b[0m         \u001b[0mr\u001b[0m \u001b[0;34m=\u001b[0m \u001b[0mself\u001b[0m\u001b[0;34m.\u001b[0m\u001b[0msession\u001b[0m\u001b[0;34m.\u001b[0m\u001b[0mpost\u001b[0m\u001b[0;34m(\u001b[0m\u001b[0mself\u001b[0m\u001b[0;34m.\u001b[0m\u001b[0mbase_url\u001b[0m \u001b[0;34m+\u001b[0m \u001b[0;34m'/'\u001b[0m \u001b[0;34m+\u001b[0m \u001b[0mself\u001b[0m\u001b[0;34m.\u001b[0m\u001b[0mtype\u001b[0m\u001b[0;34m,\u001b[0m \u001b[0mjson\u001b[0m\u001b[0;34m=\u001b[0m\u001b[0mself\u001b[0m\u001b[0;34m.\u001b[0m\u001b[0mJSON\u001b[0m\u001b[0;34m)\u001b[0m\u001b[0;34m\u001b[0m\u001b[0m\n\u001b[0;32m---> 43\u001b[0;31m         \u001b[0mr\u001b[0m\u001b[0;34m.\u001b[0m\u001b[0mraise_for_status\u001b[0m\u001b[0;34m(\u001b[0m\u001b[0;34m)\u001b[0m\u001b[0;34m\u001b[0m\u001b[0m\n\u001b[0m",
         "\u001b[0;32m~/anaconda3/lib/python3.6/site-packages/requests/models.py\u001b[0m in \u001b[0;36mraise_for_status\u001b[0;34m(self)\u001b[0m\n\u001b[1;32m    933\u001b[0m \u001b[0;34m\u001b[0m\u001b[0m\n\u001b[1;32m    934\u001b[0m         \u001b[0;32mif\u001b[0m \u001b[0mhttp_error_msg\u001b[0m\u001b[0;34m:\u001b[0m\u001b[0;34m\u001b[0m\u001b[0m\n\u001b[0;32m--> 935\u001b[0;31m             \u001b[0;32mraise\u001b[0m \u001b[0mHTTPError\u001b[0m\u001b[0;34m(\u001b[0m\u001b[0mhttp_error_msg\u001b[0m\u001b[0;34m,\u001b[0m \u001b[0mresponse\u001b[0m\u001b[0;34m=\u001b[0m\u001b[0mself\u001b[0m\u001b[0;34m)\u001b[0m\u001b[0;34m\u001b[0m\u001b[0m\n\u001b[0m\u001b[1;32m    936\u001b[0m \u001b[0;34m\u001b[0m\u001b[0m\n\u001b[1;32m    937\u001b[0m     \u001b[0;32mdef\u001b[0m \u001b[0mclose\u001b[0m\u001b[0;34m(\u001b[0m\u001b[0mself\u001b[0m\u001b[0;34m)\u001b[0m\u001b[0;34m:\u001b[0m\u001b[0;34m\u001b[0m\u001b[0m\n",
         "\u001b[0;31mHTTPError\u001b[0m: 404 Client Error: Not Found for url: https://testing.sysmo-db.org/assays"
        ]
       }
      ],
      "source": "WO.request()",
      "start_time": "2019-03-15T16:28:29.024Z"
     },
     {
      "end_time": "2019-03-15T16:32:09.238Z",
      "execution_time": "249ms",
      "outputs": [
       {
        "ename": "HTTPError",
        "evalue": "404 Client Error: Not Found for url: https://testing.sysmo-db.org/assays/new",
        "output_type": "error",
        "traceback": [
         "\u001b[0;31m---------------------------------------------------------------------------\u001b[0m",
         "\u001b[0;31mHTTPError\u001b[0m                                 Traceback (most recent call last)",
         "\u001b[0;32m<ipython-input-2-352cab6f49f8>\u001b[0m in \u001b[0;36m<module>\u001b[0;34m()\u001b[0m\n\u001b[0;32m----> 1\u001b[0;31m \u001b[0mWO\u001b[0m\u001b[0;34m.\u001b[0m\u001b[0mrequest\u001b[0m\u001b[0;34m(\u001b[0m\u001b[0;34m)\u001b[0m\u001b[0;34m\u001b[0m\u001b[0m\n\u001b[0m",
         "\u001b[0;32m~/Work/ThirdYear/Seek/TheSeekNotebook/WriteObject.py\u001b[0m in \u001b[0;36mrequest\u001b[0;34m(self)\u001b[0m\n\u001b[1;32m     41\u001b[0m     \u001b[0;32mdef\u001b[0m \u001b[0mrequest\u001b[0m\u001b[0;34m(\u001b[0m\u001b[0mself\u001b[0m\u001b[0;34m)\u001b[0m\u001b[0;34m:\u001b[0m\u001b[0;34m\u001b[0m\u001b[0m\n\u001b[1;32m     42\u001b[0m         \u001b[0mr\u001b[0m \u001b[0;34m=\u001b[0m \u001b[0mself\u001b[0m\u001b[0;34m.\u001b[0m\u001b[0msession\u001b[0m\u001b[0;34m.\u001b[0m\u001b[0mpost\u001b[0m\u001b[0;34m(\u001b[0m\u001b[0mself\u001b[0m\u001b[0;34m.\u001b[0m\u001b[0mbase_url\u001b[0m \u001b[0;34m+\u001b[0m \u001b[0;34m'/'\u001b[0m \u001b[0;34m+\u001b[0m \u001b[0mself\u001b[0m\u001b[0;34m.\u001b[0m\u001b[0mtype\u001b[0m \u001b[0;34m+\u001b[0m \u001b[0;34m\"/new\"\u001b[0m\u001b[0;34m,\u001b[0m \u001b[0mjson\u001b[0m\u001b[0;34m=\u001b[0m\u001b[0mself\u001b[0m\u001b[0;34m.\u001b[0m\u001b[0mJSON\u001b[0m\u001b[0;34m)\u001b[0m\u001b[0;34m\u001b[0m\u001b[0m\n\u001b[0;32m---> 43\u001b[0;31m         \u001b[0mr\u001b[0m\u001b[0;34m.\u001b[0m\u001b[0mraise_for_status\u001b[0m\u001b[0;34m(\u001b[0m\u001b[0;34m)\u001b[0m\u001b[0;34m\u001b[0m\u001b[0m\n\u001b[0m",
         "\u001b[0;32m~/anaconda3/lib/python3.6/site-packages/requests/models.py\u001b[0m in \u001b[0;36mraise_for_status\u001b[0;34m(self)\u001b[0m\n\u001b[1;32m    933\u001b[0m \u001b[0;34m\u001b[0m\u001b[0m\n\u001b[1;32m    934\u001b[0m         \u001b[0;32mif\u001b[0m \u001b[0mhttp_error_msg\u001b[0m\u001b[0;34m:\u001b[0m\u001b[0;34m\u001b[0m\u001b[0m\n\u001b[0;32m--> 935\u001b[0;31m             \u001b[0;32mraise\u001b[0m \u001b[0mHTTPError\u001b[0m\u001b[0;34m(\u001b[0m\u001b[0mhttp_error_msg\u001b[0m\u001b[0;34m,\u001b[0m \u001b[0mresponse\u001b[0m\u001b[0;34m=\u001b[0m\u001b[0mself\u001b[0m\u001b[0;34m)\u001b[0m\u001b[0;34m\u001b[0m\u001b[0m\n\u001b[0m\u001b[1;32m    936\u001b[0m \u001b[0;34m\u001b[0m\u001b[0m\n\u001b[1;32m    937\u001b[0m     \u001b[0;32mdef\u001b[0m \u001b[0mclose\u001b[0m\u001b[0;34m(\u001b[0m\u001b[0mself\u001b[0m\u001b[0;34m)\u001b[0m\u001b[0;34m:\u001b[0m\u001b[0;34m\u001b[0m\u001b[0m\n",
         "\u001b[0;31mHTTPError\u001b[0m: 404 Client Error: Not Found for url: https://testing.sysmo-db.org/assays/new"
        ]
       }
      ],
      "source": "WO.request()",
      "start_time": "2019-03-15T16:32:08.989Z"
     },
     {
      "end_time": "2019-03-15T16:35:01.197Z",
      "execution_time": "209ms",
      "outputs": [
       {
        "ename": "HTTPError",
        "evalue": "404 Client Error: Not Found for url: https://testing.sysmo-db.org/assays/new",
        "output_type": "error",
        "traceback": [
         "\u001b[0;31m---------------------------------------------------------------------------\u001b[0m",
         "\u001b[0;31mHTTPError\u001b[0m                                 Traceback (most recent call last)",
         "\u001b[0;32m<ipython-input-3-352cab6f49f8>\u001b[0m in \u001b[0;36m<module>\u001b[0;34m()\u001b[0m\n\u001b[0;32m----> 1\u001b[0;31m \u001b[0mWO\u001b[0m\u001b[0;34m.\u001b[0m\u001b[0mrequest\u001b[0m\u001b[0;34m(\u001b[0m\u001b[0;34m)\u001b[0m\u001b[0;34m\u001b[0m\u001b[0m\n\u001b[0m",
         "\u001b[0;32m~/Work/ThirdYear/Seek/TheSeekNotebook/WriteObject.py\u001b[0m in \u001b[0;36mrequest\u001b[0;34m(self)\u001b[0m\n\u001b[1;32m     41\u001b[0m     \u001b[0;32mdef\u001b[0m \u001b[0mrequest\u001b[0m\u001b[0;34m(\u001b[0m\u001b[0mself\u001b[0m\u001b[0;34m)\u001b[0m\u001b[0;34m:\u001b[0m\u001b[0;34m\u001b[0m\u001b[0m\n\u001b[1;32m     42\u001b[0m         \u001b[0mr\u001b[0m \u001b[0;34m=\u001b[0m \u001b[0mself\u001b[0m\u001b[0;34m.\u001b[0m\u001b[0msession\u001b[0m\u001b[0;34m.\u001b[0m\u001b[0mpost\u001b[0m\u001b[0;34m(\u001b[0m\u001b[0mself\u001b[0m\u001b[0;34m.\u001b[0m\u001b[0mbase_url\u001b[0m \u001b[0;34m+\u001b[0m \u001b[0;34m'/'\u001b[0m \u001b[0;34m+\u001b[0m \u001b[0mself\u001b[0m\u001b[0;34m.\u001b[0m\u001b[0mtype\u001b[0m \u001b[0;34m+\u001b[0m \u001b[0;34m\"/new\"\u001b[0m\u001b[0;34m,\u001b[0m \u001b[0mjson\u001b[0m\u001b[0;34m=\u001b[0m\u001b[0mself\u001b[0m\u001b[0;34m.\u001b[0m\u001b[0mJSON\u001b[0m\u001b[0;34m)\u001b[0m\u001b[0;34m\u001b[0m\u001b[0m\n\u001b[0;32m---> 43\u001b[0;31m         \u001b[0mr\u001b[0m\u001b[0;34m.\u001b[0m\u001b[0mraise_for_status\u001b[0m\u001b[0;34m(\u001b[0m\u001b[0;34m)\u001b[0m\u001b[0;34m\u001b[0m\u001b[0m\n\u001b[0m",
         "\u001b[0;32m~/anaconda3/lib/python3.6/site-packages/requests/models.py\u001b[0m in \u001b[0;36mraise_for_status\u001b[0;34m(self)\u001b[0m\n\u001b[1;32m    933\u001b[0m \u001b[0;34m\u001b[0m\u001b[0m\n\u001b[1;32m    934\u001b[0m         \u001b[0;32mif\u001b[0m \u001b[0mhttp_error_msg\u001b[0m\u001b[0;34m:\u001b[0m\u001b[0;34m\u001b[0m\u001b[0m\n\u001b[0;32m--> 935\u001b[0;31m             \u001b[0;32mraise\u001b[0m \u001b[0mHTTPError\u001b[0m\u001b[0;34m(\u001b[0m\u001b[0mhttp_error_msg\u001b[0m\u001b[0;34m,\u001b[0m \u001b[0mresponse\u001b[0m\u001b[0;34m=\u001b[0m\u001b[0mself\u001b[0m\u001b[0;34m)\u001b[0m\u001b[0;34m\u001b[0m\u001b[0m\n\u001b[0m\u001b[1;32m    936\u001b[0m \u001b[0;34m\u001b[0m\u001b[0m\n\u001b[1;32m    937\u001b[0m     \u001b[0;32mdef\u001b[0m \u001b[0mclose\u001b[0m\u001b[0;34m(\u001b[0m\u001b[0mself\u001b[0m\u001b[0;34m)\u001b[0m\u001b[0;34m:\u001b[0m\u001b[0;34m\u001b[0m\u001b[0m\n",
         "\u001b[0;31mHTTPError\u001b[0m: 404 Client Error: Not Found for url: https://testing.sysmo-db.org/assays/new"
        ]
       }
      ],
      "source": "WO.request()",
      "start_time": "2019-03-15T16:35:00.988Z"
     },
     {
      "end_time": "2019-03-19T18:13:50.451Z",
      "execution_time": "54ms",
      "outputs": [
       {
        "ename": "TypeError",
        "evalue": "must be str, not Dropdown",
        "output_type": "error",
        "traceback": [
         "\u001b[0;31m---------------------------------------------------------------------------\u001b[0m",
         "\u001b[0;31mTypeError\u001b[0m                                 Traceback (most recent call last)",
         "\u001b[0;32m<ipython-input-6-a88cfb6a4f2a>\u001b[0m in \u001b[0;36m<module>\u001b[0;34m()\u001b[0m\n\u001b[0;32m----> 1\u001b[0;31m \u001b[0mWO\u001b[0m\u001b[0;34m.\u001b[0m\u001b[0mrequest\u001b[0m\u001b[0;34m(\u001b[0m\u001b[0;34m)\u001b[0m\u001b[0;34m\u001b[0m\u001b[0m\n\u001b[0m\u001b[1;32m      2\u001b[0m \u001b[0;34m\u001b[0m\u001b[0m\n\u001b[1;32m      3\u001b[0m \u001b[0;31m# JUST ENOUGH\u001b[0m\u001b[0;34m\u001b[0m\u001b[0;34m\u001b[0m\u001b[0m\n\u001b[1;32m      4\u001b[0m \u001b[0;34m\u001b[0m\u001b[0m\n\u001b[1;32m      5\u001b[0m \u001b[0;31m# file version vs new file\u001b[0m\u001b[0;34m\u001b[0m\u001b[0;34m\u001b[0m\u001b[0m\n",
         "\u001b[0;32m~/Work/ThirdYear/Seek/TheSeekNotebook/WriteObject.py\u001b[0m in \u001b[0;36mrequest\u001b[0;34m(self)\u001b[0m\n\u001b[1;32m    118\u001b[0m \u001b[0;34m\u001b[0m\u001b[0m\n\u001b[1;32m    119\u001b[0m     \u001b[0;32mdef\u001b[0m \u001b[0mrequest\u001b[0m\u001b[0;34m(\u001b[0m\u001b[0mself\u001b[0m\u001b[0;34m)\u001b[0m\u001b[0;34m:\u001b[0m\u001b[0;34m\u001b[0m\u001b[0m\n\u001b[0;32m--> 120\u001b[0;31m         \u001b[0mr\u001b[0m \u001b[0;34m=\u001b[0m \u001b[0mself\u001b[0m\u001b[0;34m.\u001b[0m\u001b[0msession\u001b[0m\u001b[0;34m.\u001b[0m\u001b[0mpost\u001b[0m\u001b[0;34m(\u001b[0m\u001b[0mself\u001b[0m\u001b[0;34m.\u001b[0m\u001b[0mbase_url\u001b[0m \u001b[0;34m+\u001b[0m \u001b[0;34m'/'\u001b[0m \u001b[0;34m+\u001b[0m \u001b[0mself\u001b[0m\u001b[0;34m.\u001b[0m\u001b[0mtype\u001b[0m\u001b[0;34m,\u001b[0m \u001b[0mjson\u001b[0m\u001b[0;34m=\u001b[0m\u001b[0mself\u001b[0m\u001b[0;34m.\u001b[0m\u001b[0mJSON\u001b[0m\u001b[0;34m)\u001b[0m\u001b[0;34m\u001b[0m\u001b[0m\n\u001b[0m\u001b[1;32m    121\u001b[0m         \u001b[0mr\u001b[0m\u001b[0;34m.\u001b[0m\u001b[0mraise_for_status\u001b[0m\u001b[0;34m(\u001b[0m\u001b[0;34m)\u001b[0m\u001b[0;34m\u001b[0m\u001b[0m\n",
         "\u001b[0;31mTypeError\u001b[0m: must be str, not Dropdown"
        ]
       }
      ],
      "source": "WO.request()\n\n# JUST ENOUGH \n\n# file version vs new file",
      "start_time": "2019-03-19T18:13:50.397Z"
     },
     {
      "end_time": "2019-03-19T18:17:19.366Z",
      "execution_time": "24ms",
      "outputs": [
       {
        "ename": "TypeError",
        "evalue": "must be str, not Dropdown",
        "output_type": "error",
        "traceback": [
         "\u001b[0;31m---------------------------------------------------------------------------\u001b[0m",
         "\u001b[0;31mTypeError\u001b[0m                                 Traceback (most recent call last)",
         "\u001b[0;32m<ipython-input-9-a88cfb6a4f2a>\u001b[0m in \u001b[0;36m<module>\u001b[0;34m()\u001b[0m\n\u001b[0;32m----> 1\u001b[0;31m \u001b[0mWO\u001b[0m\u001b[0;34m.\u001b[0m\u001b[0mrequest\u001b[0m\u001b[0;34m(\u001b[0m\u001b[0;34m)\u001b[0m\u001b[0;34m\u001b[0m\u001b[0m\n\u001b[0m\u001b[1;32m      2\u001b[0m \u001b[0;34m\u001b[0m\u001b[0m\n\u001b[1;32m      3\u001b[0m \u001b[0;31m# JUST ENOUGH\u001b[0m\u001b[0;34m\u001b[0m\u001b[0;34m\u001b[0m\u001b[0m\n\u001b[1;32m      4\u001b[0m \u001b[0;34m\u001b[0m\u001b[0m\n\u001b[1;32m      5\u001b[0m \u001b[0;31m# file version vs new file\u001b[0m\u001b[0;34m\u001b[0m\u001b[0;34m\u001b[0m\u001b[0m\n",
         "\u001b[0;32m~/Work/ThirdYear/Seek/TheSeekNotebook/WriteObject.py\u001b[0m in \u001b[0;36mrequest\u001b[0;34m(self)\u001b[0m\n\u001b[1;32m    118\u001b[0m \u001b[0;34m\u001b[0m\u001b[0m\n\u001b[1;32m    119\u001b[0m     \u001b[0;32mdef\u001b[0m \u001b[0mrequest\u001b[0m\u001b[0;34m(\u001b[0m\u001b[0mself\u001b[0m\u001b[0;34m)\u001b[0m\u001b[0;34m:\u001b[0m\u001b[0;34m\u001b[0m\u001b[0m\n\u001b[0;32m--> 120\u001b[0;31m         \u001b[0mr\u001b[0m \u001b[0;34m=\u001b[0m \u001b[0mself\u001b[0m\u001b[0;34m.\u001b[0m\u001b[0msession\u001b[0m\u001b[0;34m.\u001b[0m\u001b[0mpost\u001b[0m\u001b[0;34m(\u001b[0m\u001b[0mself\u001b[0m\u001b[0;34m.\u001b[0m\u001b[0mbase_url\u001b[0m \u001b[0;34m+\u001b[0m \u001b[0;34m'/'\u001b[0m \u001b[0;34m+\u001b[0m \u001b[0mself\u001b[0m\u001b[0;34m.\u001b[0m\u001b[0mtype\u001b[0m\u001b[0;34m.\u001b[0m\u001b[0mvalue\u001b[0m\u001b[0;34m,\u001b[0m \u001b[0mjson\u001b[0m\u001b[0;34m=\u001b[0m\u001b[0mself\u001b[0m\u001b[0;34m.\u001b[0m\u001b[0mJSON\u001b[0m\u001b[0;34m)\u001b[0m\u001b[0;34m\u001b[0m\u001b[0m\n\u001b[0m\u001b[1;32m    121\u001b[0m         \u001b[0mr\u001b[0m\u001b[0;34m.\u001b[0m\u001b[0mraise_for_status\u001b[0m\u001b[0;34m(\u001b[0m\u001b[0;34m)\u001b[0m\u001b[0;34m\u001b[0m\u001b[0m\n",
         "\u001b[0;31mTypeError\u001b[0m: must be str, not Dropdown"
        ]
       }
      ],
      "source": "WO.request()\n\n# JUST ENOUGH \n\n# file version vs new file",
      "start_time": "2019-03-19T18:17:19.342Z"
     },
     {
      "end_time": "2019-03-19T18:18:20.754Z",
      "execution_time": "3.59s",
      "outputs": [
       {
        "ename": "HTTPError",
        "evalue": "401 Client Error: Unauthorized for url: https://testing.sysmo-db.org/assays",
        "output_type": "error",
        "traceback": [
         "\u001b[0;31m---------------------------------------------------------------------------\u001b[0m",
         "\u001b[0;31mHTTPError\u001b[0m                                 Traceback (most recent call last)",
         "\u001b[0;32m<ipython-input-6-a88cfb6a4f2a>\u001b[0m in \u001b[0;36m<module>\u001b[0;34m()\u001b[0m\n\u001b[0;32m----> 1\u001b[0;31m \u001b[0mWO\u001b[0m\u001b[0;34m.\u001b[0m\u001b[0mrequest\u001b[0m\u001b[0;34m(\u001b[0m\u001b[0;34m)\u001b[0m\u001b[0;34m\u001b[0m\u001b[0m\n\u001b[0m\u001b[1;32m      2\u001b[0m \u001b[0;34m\u001b[0m\u001b[0m\n\u001b[1;32m      3\u001b[0m \u001b[0;31m# JUST ENOUGH\u001b[0m\u001b[0;34m\u001b[0m\u001b[0;34m\u001b[0m\u001b[0m\n\u001b[1;32m      4\u001b[0m \u001b[0;34m\u001b[0m\u001b[0m\n\u001b[1;32m      5\u001b[0m \u001b[0;31m# file version vs new file\u001b[0m\u001b[0;34m\u001b[0m\u001b[0;34m\u001b[0m\u001b[0m\n",
         "\u001b[0;32m~/Work/ThirdYear/Seek/TheSeekNotebook/WriteObject.py\u001b[0m in \u001b[0;36mrequest\u001b[0;34m(self)\u001b[0m\n\u001b[1;32m    119\u001b[0m     \u001b[0;32mdef\u001b[0m \u001b[0mrequest\u001b[0m\u001b[0;34m(\u001b[0m\u001b[0mself\u001b[0m\u001b[0;34m)\u001b[0m\u001b[0;34m:\u001b[0m\u001b[0;34m\u001b[0m\u001b[0m\n\u001b[1;32m    120\u001b[0m         \u001b[0mr\u001b[0m \u001b[0;34m=\u001b[0m \u001b[0mself\u001b[0m\u001b[0;34m.\u001b[0m\u001b[0msession\u001b[0m\u001b[0;34m.\u001b[0m\u001b[0mpost\u001b[0m\u001b[0;34m(\u001b[0m\u001b[0mself\u001b[0m\u001b[0;34m.\u001b[0m\u001b[0mbase_url\u001b[0m \u001b[0;34m+\u001b[0m \u001b[0;34m'/'\u001b[0m \u001b[0;34m+\u001b[0m \u001b[0mself\u001b[0m\u001b[0;34m.\u001b[0m\u001b[0mtype\u001b[0m\u001b[0;34m.\u001b[0m\u001b[0mvalue\u001b[0m\u001b[0;34m,\u001b[0m \u001b[0mjson\u001b[0m\u001b[0;34m=\u001b[0m\u001b[0mself\u001b[0m\u001b[0;34m.\u001b[0m\u001b[0mJSON\u001b[0m\u001b[0;34m)\u001b[0m\u001b[0;34m\u001b[0m\u001b[0m\n\u001b[0;32m--> 121\u001b[0;31m         \u001b[0mr\u001b[0m\u001b[0;34m.\u001b[0m\u001b[0mraise_for_status\u001b[0m\u001b[0;34m(\u001b[0m\u001b[0;34m)\u001b[0m\u001b[0;34m\u001b[0m\u001b[0m\n\u001b[0m",
         "\u001b[0;32m~/anaconda3/lib/python3.6/site-packages/requests/models.py\u001b[0m in \u001b[0;36mraise_for_status\u001b[0;34m(self)\u001b[0m\n\u001b[1;32m    933\u001b[0m \u001b[0;34m\u001b[0m\u001b[0m\n\u001b[1;32m    934\u001b[0m         \u001b[0;32mif\u001b[0m \u001b[0mhttp_error_msg\u001b[0m\u001b[0;34m:\u001b[0m\u001b[0;34m\u001b[0m\u001b[0m\n\u001b[0;32m--> 935\u001b[0;31m             \u001b[0;32mraise\u001b[0m \u001b[0mHTTPError\u001b[0m\u001b[0;34m(\u001b[0m\u001b[0mhttp_error_msg\u001b[0m\u001b[0;34m,\u001b[0m \u001b[0mresponse\u001b[0m\u001b[0;34m=\u001b[0m\u001b[0mself\u001b[0m\u001b[0;34m)\u001b[0m\u001b[0;34m\u001b[0m\u001b[0m\n\u001b[0m\u001b[1;32m    936\u001b[0m \u001b[0;34m\u001b[0m\u001b[0m\n\u001b[1;32m    937\u001b[0m     \u001b[0;32mdef\u001b[0m \u001b[0mclose\u001b[0m\u001b[0;34m(\u001b[0m\u001b[0mself\u001b[0m\u001b[0;34m)\u001b[0m\u001b[0;34m:\u001b[0m\u001b[0;34m\u001b[0m\u001b[0m\n",
         "\u001b[0;31mHTTPError\u001b[0m: 401 Client Error: Unauthorized for url: https://testing.sysmo-db.org/assays"
        ]
       }
      ],
      "source": "WO.request()\n\n# JUST ENOUGH \n\n# file version vs new file",
      "start_time": "2019-03-19T18:18:17.160Z"
     },
     {
      "end_time": "2019-03-19T20:02:02.883Z",
      "execution_time": "2.88s",
      "outputs": [
       {
        "ename": "HTTPError",
        "evalue": "422 Client Error: Unprocessable Entity for url: https://testing.sysmo-db.org/assays",
        "output_type": "error",
        "traceback": [
         "\u001b[0;31m---------------------------------------------------------------------------\u001b[0m",
         "\u001b[0;31mHTTPError\u001b[0m                                 Traceback (most recent call last)",
         "\u001b[0;32m<ipython-input-6-dc9a99fa8eac>\u001b[0m in \u001b[0;36m<module>\u001b[0;34m()\u001b[0m\n\u001b[0;32m----> 1\u001b[0;31m \u001b[0mWO\u001b[0m\u001b[0;34m.\u001b[0m\u001b[0mrequest\u001b[0m\u001b[0;34m(\u001b[0m\u001b[0;34m)\u001b[0m\u001b[0;34m\u001b[0m\u001b[0m\n\u001b[0m\u001b[1;32m      2\u001b[0m \u001b[0;31m# HTTPError: 401 Client Error: Unauthorized for url: https://testing.sysmo-db.org/assays\u001b[0m\u001b[0;34m\u001b[0m\u001b[0;34m\u001b[0m\u001b[0m\n\u001b[1;32m      3\u001b[0m \u001b[0;31m# JUST ENOUGH\u001b[0m\u001b[0;34m\u001b[0m\u001b[0;34m\u001b[0m\u001b[0m\n\u001b[1;32m      4\u001b[0m \u001b[0;34m\u001b[0m\u001b[0m\n\u001b[1;32m      5\u001b[0m \u001b[0;31m# file version vs new file\u001b[0m\u001b[0;34m\u001b[0m\u001b[0;34m\u001b[0m\u001b[0m\n",
         "\u001b[0;32m~/Work/ThirdYear/Seek/TheSeekNotebook/WriteObject.py\u001b[0m in \u001b[0;36mrequest\u001b[0;34m(self)\u001b[0m\n\u001b[1;32m    118\u001b[0m     \u001b[0;32mdef\u001b[0m \u001b[0mrequest\u001b[0m\u001b[0;34m(\u001b[0m\u001b[0mself\u001b[0m\u001b[0;34m)\u001b[0m\u001b[0;34m:\u001b[0m\u001b[0;34m\u001b[0m\u001b[0m\n\u001b[1;32m    119\u001b[0m         \u001b[0mr\u001b[0m \u001b[0;34m=\u001b[0m \u001b[0mself\u001b[0m\u001b[0;34m.\u001b[0m\u001b[0msession\u001b[0m\u001b[0;34m.\u001b[0m\u001b[0mpost\u001b[0m\u001b[0;34m(\u001b[0m\u001b[0mself\u001b[0m\u001b[0;34m.\u001b[0m\u001b[0mbase_url\u001b[0m \u001b[0;34m+\u001b[0m \u001b[0;34m'/'\u001b[0m \u001b[0;34m+\u001b[0m \u001b[0mself\u001b[0m\u001b[0;34m.\u001b[0m\u001b[0mtype\u001b[0m\u001b[0;34m.\u001b[0m\u001b[0mvalue\u001b[0m\u001b[0;34m,\u001b[0m \u001b[0mjson\u001b[0m\u001b[0;34m=\u001b[0m\u001b[0mself\u001b[0m\u001b[0;34m.\u001b[0m\u001b[0mJSON\u001b[0m\u001b[0;34m)\u001b[0m\u001b[0;34m\u001b[0m\u001b[0m\n\u001b[0;32m--> 120\u001b[0;31m         \u001b[0mr\u001b[0m\u001b[0;34m.\u001b[0m\u001b[0mraise_for_status\u001b[0m\u001b[0;34m(\u001b[0m\u001b[0;34m)\u001b[0m\u001b[0;34m\u001b[0m\u001b[0m\n\u001b[0m",
         "\u001b[0;32m~/anaconda3/lib/python3.6/site-packages/requests/models.py\u001b[0m in \u001b[0;36mraise_for_status\u001b[0;34m(self)\u001b[0m\n\u001b[1;32m    933\u001b[0m \u001b[0;34m\u001b[0m\u001b[0m\n\u001b[1;32m    934\u001b[0m         \u001b[0;32mif\u001b[0m \u001b[0mhttp_error_msg\u001b[0m\u001b[0;34m:\u001b[0m\u001b[0;34m\u001b[0m\u001b[0m\n\u001b[0;32m--> 935\u001b[0;31m             \u001b[0;32mraise\u001b[0m \u001b[0mHTTPError\u001b[0m\u001b[0;34m(\u001b[0m\u001b[0mhttp_error_msg\u001b[0m\u001b[0;34m,\u001b[0m \u001b[0mresponse\u001b[0m\u001b[0;34m=\u001b[0m\u001b[0mself\u001b[0m\u001b[0;34m)\u001b[0m\u001b[0;34m\u001b[0m\u001b[0m\n\u001b[0m\u001b[1;32m    936\u001b[0m \u001b[0;34m\u001b[0m\u001b[0m\n\u001b[1;32m    937\u001b[0m     \u001b[0;32mdef\u001b[0m \u001b[0mclose\u001b[0m\u001b[0;34m(\u001b[0m\u001b[0mself\u001b[0m\u001b[0;34m)\u001b[0m\u001b[0;34m:\u001b[0m\u001b[0;34m\u001b[0m\u001b[0m\n",
         "\u001b[0;31mHTTPError\u001b[0m: 422 Client Error: Unprocessable Entity for url: https://testing.sysmo-db.org/assays"
        ]
       }
      ],
      "source": "WO.request()\n# HTTPError: 401 Client Error: Unauthorized for url: https://testing.sysmo-db.org/assays\n# JUST ENOUGH \n\n# file version vs new file",
      "start_time": "2019-03-19T20:01:59.998Z"
     },
     {
      "end_time": "2019-03-19T20:13:11.147Z",
      "execution_time": "481ms",
      "outputs": [
       {
        "ename": "HTTPError",
        "evalue": "422 Client Error: Unprocessable Entity for url: https://testing.sysmo-db.org/assays",
        "output_type": "error",
        "traceback": [
         "\u001b[0;31m---------------------------------------------------------------------------\u001b[0m",
         "\u001b[0;31mHTTPError\u001b[0m                                 Traceback (most recent call last)",
         "\u001b[0;32m<ipython-input-6-dc9a99fa8eac>\u001b[0m in \u001b[0;36m<module>\u001b[0;34m()\u001b[0m\n\u001b[0;32m----> 1\u001b[0;31m \u001b[0mWO\u001b[0m\u001b[0;34m.\u001b[0m\u001b[0mrequest\u001b[0m\u001b[0;34m(\u001b[0m\u001b[0;34m)\u001b[0m\u001b[0;34m\u001b[0m\u001b[0m\n\u001b[0m\u001b[1;32m      2\u001b[0m \u001b[0;31m# HTTPError: 401 Client Error: Unauthorized for url: https://testing.sysmo-db.org/assays\u001b[0m\u001b[0;34m\u001b[0m\u001b[0;34m\u001b[0m\u001b[0m\n\u001b[1;32m      3\u001b[0m \u001b[0;31m# JUST ENOUGH\u001b[0m\u001b[0;34m\u001b[0m\u001b[0;34m\u001b[0m\u001b[0m\n\u001b[1;32m      4\u001b[0m \u001b[0;34m\u001b[0m\u001b[0m\n\u001b[1;32m      5\u001b[0m \u001b[0;31m# file version vs new file\u001b[0m\u001b[0;34m\u001b[0m\u001b[0;34m\u001b[0m\u001b[0m\n",
         "\u001b[0;32m~/Work/ThirdYear/Seek/TheSeekNotebook/WriteObject.py\u001b[0m in \u001b[0;36mrequest\u001b[0;34m(self)\u001b[0m\n\u001b[1;32m    118\u001b[0m     \u001b[0;32mdef\u001b[0m \u001b[0mrequest\u001b[0m\u001b[0;34m(\u001b[0m\u001b[0mself\u001b[0m\u001b[0;34m)\u001b[0m\u001b[0;34m:\u001b[0m\u001b[0;34m\u001b[0m\u001b[0m\n\u001b[1;32m    119\u001b[0m         \u001b[0mr\u001b[0m \u001b[0;34m=\u001b[0m \u001b[0mself\u001b[0m\u001b[0;34m.\u001b[0m\u001b[0msession\u001b[0m\u001b[0;34m.\u001b[0m\u001b[0mpost\u001b[0m\u001b[0;34m(\u001b[0m\u001b[0mself\u001b[0m\u001b[0;34m.\u001b[0m\u001b[0mbase_url\u001b[0m \u001b[0;34m+\u001b[0m \u001b[0;34m'/'\u001b[0m \u001b[0;34m+\u001b[0m \u001b[0mself\u001b[0m\u001b[0;34m.\u001b[0m\u001b[0mtype\u001b[0m\u001b[0;34m.\u001b[0m\u001b[0mvalue\u001b[0m\u001b[0;34m,\u001b[0m \u001b[0mjson\u001b[0m\u001b[0;34m=\u001b[0m\u001b[0mself\u001b[0m\u001b[0;34m.\u001b[0m\u001b[0mJSON\u001b[0m\u001b[0;34m)\u001b[0m\u001b[0;34m\u001b[0m\u001b[0m\n\u001b[0;32m--> 120\u001b[0;31m         \u001b[0mr\u001b[0m\u001b[0;34m.\u001b[0m\u001b[0mraise_for_status\u001b[0m\u001b[0;34m(\u001b[0m\u001b[0;34m)\u001b[0m\u001b[0;34m\u001b[0m\u001b[0m\n\u001b[0m",
         "\u001b[0;32m~/anaconda3/lib/python3.6/site-packages/requests/models.py\u001b[0m in \u001b[0;36mraise_for_status\u001b[0;34m(self)\u001b[0m\n\u001b[1;32m    933\u001b[0m \u001b[0;34m\u001b[0m\u001b[0m\n\u001b[1;32m    934\u001b[0m         \u001b[0;32mif\u001b[0m \u001b[0mhttp_error_msg\u001b[0m\u001b[0;34m:\u001b[0m\u001b[0;34m\u001b[0m\u001b[0m\n\u001b[0;32m--> 935\u001b[0;31m             \u001b[0;32mraise\u001b[0m \u001b[0mHTTPError\u001b[0m\u001b[0;34m(\u001b[0m\u001b[0mhttp_error_msg\u001b[0m\u001b[0;34m,\u001b[0m \u001b[0mresponse\u001b[0m\u001b[0;34m=\u001b[0m\u001b[0mself\u001b[0m\u001b[0;34m)\u001b[0m\u001b[0;34m\u001b[0m\u001b[0m\n\u001b[0m\u001b[1;32m    936\u001b[0m \u001b[0;34m\u001b[0m\u001b[0m\n\u001b[1;32m    937\u001b[0m     \u001b[0;32mdef\u001b[0m \u001b[0mclose\u001b[0m\u001b[0;34m(\u001b[0m\u001b[0mself\u001b[0m\u001b[0;34m)\u001b[0m\u001b[0;34m:\u001b[0m\u001b[0;34m\u001b[0m\u001b[0m\n",
         "\u001b[0;31mHTTPError\u001b[0m: 422 Client Error: Unprocessable Entity for url: https://testing.sysmo-db.org/assays"
        ]
       }
      ],
      "source": "WO.request()\n# HTTPError: 401 Client Error: Unauthorized for url: https://testing.sysmo-db.org/assays\n# JUST ENOUGH \n\n# file version vs new file",
      "start_time": "2019-03-19T20:13:10.666Z"
     },
     {
      "end_time": "2019-03-19T20:21:59.119Z",
      "execution_time": "2.24s",
      "outputs": [
       {
        "ename": "HTTPError",
        "evalue": "401 Client Error: Unauthorized for url: https://testing.sysmo-db.org/assays",
        "output_type": "error",
        "traceback": [
         "\u001b[0;31m---------------------------------------------------------------------------\u001b[0m",
         "\u001b[0;31mHTTPError\u001b[0m                                 Traceback (most recent call last)",
         "\u001b[0;32m<ipython-input-6-29bade0fc531>\u001b[0m in \u001b[0;36m<module>\u001b[0;34m()\u001b[0m\n\u001b[0;32m----> 1\u001b[0;31m \u001b[0mWO\u001b[0m\u001b[0;34m.\u001b[0m\u001b[0mrequest\u001b[0m\u001b[0;34m(\u001b[0m\u001b[0;34m)\u001b[0m\u001b[0;34m\u001b[0m\u001b[0m\n\u001b[0m\u001b[1;32m      2\u001b[0m \u001b[0;31m# HTTPError: 401 Client Error: Unauthorized for url: https://testing.sysmo-db.org/assays\u001b[0m\u001b[0;34m\u001b[0m\u001b[0;34m\u001b[0m\u001b[0m\n\u001b[1;32m      3\u001b[0m \u001b[0;31m# 422 Client Error: Unprocessable Entity for url: https://testing.sysmo-db.org/assays\u001b[0m\u001b[0;34m\u001b[0m\u001b[0;34m\u001b[0m\u001b[0m\n\u001b[1;32m      4\u001b[0m \u001b[0;31m# JUST ENOUGH\u001b[0m\u001b[0;34m\u001b[0m\u001b[0;34m\u001b[0m\u001b[0m\n\u001b[1;32m      5\u001b[0m \u001b[0;34m\u001b[0m\u001b[0m\n",
         "\u001b[0;32m~/Work/ThirdYear/Seek/TheSeekNotebook/WriteObject.py\u001b[0m in \u001b[0;36mrequest\u001b[0;34m(self)\u001b[0m\n\u001b[1;32m    118\u001b[0m     \u001b[0;32mdef\u001b[0m \u001b[0mrequest\u001b[0m\u001b[0;34m(\u001b[0m\u001b[0mself\u001b[0m\u001b[0;34m)\u001b[0m\u001b[0;34m:\u001b[0m\u001b[0;34m\u001b[0m\u001b[0m\n\u001b[1;32m    119\u001b[0m         \u001b[0mr\u001b[0m \u001b[0;34m=\u001b[0m \u001b[0mself\u001b[0m\u001b[0;34m.\u001b[0m\u001b[0msession\u001b[0m\u001b[0;34m.\u001b[0m\u001b[0mpost\u001b[0m\u001b[0;34m(\u001b[0m\u001b[0mself\u001b[0m\u001b[0;34m.\u001b[0m\u001b[0mbase_url\u001b[0m \u001b[0;34m+\u001b[0m \u001b[0;34m'/'\u001b[0m \u001b[0;34m+\u001b[0m \u001b[0mself\u001b[0m\u001b[0;34m.\u001b[0m\u001b[0mtype\u001b[0m\u001b[0;34m.\u001b[0m\u001b[0mvalue\u001b[0m\u001b[0;34m,\u001b[0m \u001b[0mjson\u001b[0m\u001b[0;34m=\u001b[0m\u001b[0mself\u001b[0m\u001b[0;34m.\u001b[0m\u001b[0mJSON\u001b[0m\u001b[0;34m)\u001b[0m\u001b[0;34m\u001b[0m\u001b[0m\n\u001b[0;32m--> 120\u001b[0;31m         \u001b[0mr\u001b[0m\u001b[0;34m.\u001b[0m\u001b[0mraise_for_status\u001b[0m\u001b[0;34m(\u001b[0m\u001b[0;34m)\u001b[0m\u001b[0;34m\u001b[0m\u001b[0m\n\u001b[0m",
         "\u001b[0;32m~/anaconda3/lib/python3.6/site-packages/requests/models.py\u001b[0m in \u001b[0;36mraise_for_status\u001b[0;34m(self)\u001b[0m\n\u001b[1;32m    933\u001b[0m \u001b[0;34m\u001b[0m\u001b[0m\n\u001b[1;32m    934\u001b[0m         \u001b[0;32mif\u001b[0m \u001b[0mhttp_error_msg\u001b[0m\u001b[0;34m:\u001b[0m\u001b[0;34m\u001b[0m\u001b[0m\n\u001b[0;32m--> 935\u001b[0;31m             \u001b[0;32mraise\u001b[0m \u001b[0mHTTPError\u001b[0m\u001b[0;34m(\u001b[0m\u001b[0mhttp_error_msg\u001b[0m\u001b[0;34m,\u001b[0m \u001b[0mresponse\u001b[0m\u001b[0;34m=\u001b[0m\u001b[0mself\u001b[0m\u001b[0;34m)\u001b[0m\u001b[0;34m\u001b[0m\u001b[0m\n\u001b[0m\u001b[1;32m    936\u001b[0m \u001b[0;34m\u001b[0m\u001b[0m\n\u001b[1;32m    937\u001b[0m     \u001b[0;32mdef\u001b[0m \u001b[0mclose\u001b[0m\u001b[0;34m(\u001b[0m\u001b[0mself\u001b[0m\u001b[0;34m)\u001b[0m\u001b[0;34m:\u001b[0m\u001b[0;34m\u001b[0m\u001b[0m\n",
         "\u001b[0;31mHTTPError\u001b[0m: 401 Client Error: Unauthorized for url: https://testing.sysmo-db.org/assays"
        ]
       }
      ],
      "source": "WO.request()\n# HTTPError: 401 Client Error: Unauthorized for url: https://testing.sysmo-db.org/assays\n# 422 Client Error: Unprocessable Entity for url: https://testing.sysmo-db.org/assays\n# JUST ENOUGH \n\n# file version vs new file",
      "start_time": "2019-03-19T20:21:56.882Z"
     },
     {
      "end_time": "2019-03-19T21:01:01.345Z",
      "execution_time": "372ms",
      "outputs": [
       {
        "ename": "HTTPError",
        "evalue": "422 Client Error: Unprocessable Entity for url: https://testing.sysmo-db.org/assays",
        "output_type": "error",
        "traceback": [
         "\u001b[0;31m---------------------------------------------------------------------------\u001b[0m",
         "\u001b[0;31mHTTPError\u001b[0m                                 Traceback (most recent call last)",
         "\u001b[0;32m<ipython-input-4-55fcb232b75e>\u001b[0m in \u001b[0;36m<module>\u001b[0;34m()\u001b[0m\n\u001b[0;32m----> 1\u001b[0;31m \u001b[0mWO\u001b[0m\u001b[0;34m.\u001b[0m\u001b[0mrequest\u001b[0m\u001b[0;34m(\u001b[0m\u001b[0;34m)\u001b[0m\u001b[0;34m\u001b[0m\u001b[0m\n\u001b[0m\u001b[1;32m      2\u001b[0m \u001b[0;31m# HTTPError: 401 Client Error: Unauthorized for url: https://testing.sysmo-db.org/assays\u001b[0m\u001b[0;34m\u001b[0m\u001b[0;34m\u001b[0m\u001b[0m\n\u001b[1;32m      3\u001b[0m \u001b[0;31m# 422 Client Error: Unprocessable Entity for url: https://testing.sysmo-db.org/assays\u001b[0m\u001b[0;34m\u001b[0m\u001b[0;34m\u001b[0m\u001b[0m\n\u001b[1;32m      4\u001b[0m \u001b[0;31m# 401 Client Error: Unauthorized for url: https://testing.sysmo-db.org/assays\u001b[0m\u001b[0;34m\u001b[0m\u001b[0;34m\u001b[0m\u001b[0m\n\u001b[1;32m      5\u001b[0m \u001b[0;34m\u001b[0m\u001b[0m\n",
         "\u001b[0;32m~/Work/ThirdYear/Seek/TheSeekNotebook/WriteObject.py\u001b[0m in \u001b[0;36mrequest\u001b[0;34m(self)\u001b[0m\n\u001b[1;32m    116\u001b[0m     \u001b[0;32mdef\u001b[0m \u001b[0mrequest\u001b[0m\u001b[0;34m(\u001b[0m\u001b[0mself\u001b[0m\u001b[0;34m)\u001b[0m\u001b[0;34m:\u001b[0m\u001b[0;34m\u001b[0m\u001b[0m\n\u001b[1;32m    117\u001b[0m         \u001b[0mr\u001b[0m \u001b[0;34m=\u001b[0m \u001b[0mself\u001b[0m\u001b[0;34m.\u001b[0m\u001b[0msession\u001b[0m\u001b[0;34m.\u001b[0m\u001b[0mpost\u001b[0m\u001b[0;34m(\u001b[0m\u001b[0mself\u001b[0m\u001b[0;34m.\u001b[0m\u001b[0mbase_url\u001b[0m \u001b[0;34m+\u001b[0m \u001b[0;34m'/'\u001b[0m \u001b[0;34m+\u001b[0m \u001b[0mself\u001b[0m\u001b[0;34m.\u001b[0m\u001b[0mtype\u001b[0m\u001b[0;34m.\u001b[0m\u001b[0mvalue\u001b[0m\u001b[0;34m,\u001b[0m \u001b[0mjson\u001b[0m\u001b[0;34m=\u001b[0m\u001b[0mself\u001b[0m\u001b[0;34m.\u001b[0m\u001b[0mJSON\u001b[0m\u001b[0;34m)\u001b[0m\u001b[0;34m\u001b[0m\u001b[0m\n\u001b[0;32m--> 118\u001b[0;31m         \u001b[0mr\u001b[0m\u001b[0;34m.\u001b[0m\u001b[0mraise_for_status\u001b[0m\u001b[0;34m(\u001b[0m\u001b[0;34m)\u001b[0m\u001b[0;34m\u001b[0m\u001b[0m\n\u001b[0m",
         "\u001b[0;32m~/anaconda3/lib/python3.6/site-packages/requests/models.py\u001b[0m in \u001b[0;36mraise_for_status\u001b[0;34m(self)\u001b[0m\n\u001b[1;32m    933\u001b[0m \u001b[0;34m\u001b[0m\u001b[0m\n\u001b[1;32m    934\u001b[0m         \u001b[0;32mif\u001b[0m \u001b[0mhttp_error_msg\u001b[0m\u001b[0;34m:\u001b[0m\u001b[0;34m\u001b[0m\u001b[0m\n\u001b[0;32m--> 935\u001b[0;31m             \u001b[0;32mraise\u001b[0m \u001b[0mHTTPError\u001b[0m\u001b[0;34m(\u001b[0m\u001b[0mhttp_error_msg\u001b[0m\u001b[0;34m,\u001b[0m \u001b[0mresponse\u001b[0m\u001b[0;34m=\u001b[0m\u001b[0mself\u001b[0m\u001b[0;34m)\u001b[0m\u001b[0;34m\u001b[0m\u001b[0m\n\u001b[0m\u001b[1;32m    936\u001b[0m \u001b[0;34m\u001b[0m\u001b[0m\n\u001b[1;32m    937\u001b[0m     \u001b[0;32mdef\u001b[0m \u001b[0mclose\u001b[0m\u001b[0;34m(\u001b[0m\u001b[0mself\u001b[0m\u001b[0;34m)\u001b[0m\u001b[0;34m:\u001b[0m\u001b[0;34m\u001b[0m\u001b[0m\n",
         "\u001b[0;31mHTTPError\u001b[0m: 422 Client Error: Unprocessable Entity for url: https://testing.sysmo-db.org/assays"
        ]
       }
      ],
      "source": "WO.request()\n# HTTPError: 401 Client Error: Unauthorized for url: https://testing.sysmo-db.org/assays\n# 422 Client Error: Unprocessable Entity for url: https://testing.sysmo-db.org/assays\n# 401 Client Error: Unauthorized for url: https://testing.sysmo-db.org/assays\n\n# JUST ENOUGH \n\n# file version vs new file",
      "start_time": "2019-03-19T21:01:00.973Z"
     },
     {
      "end_time": "2019-03-19T21:18:09.503Z",
      "execution_time": "205ms",
      "outputs": [
       {
        "ename": "HTTPError",
        "evalue": "422 Client Error: Unprocessable Entity for url: https://testing.sysmo-db.org/assays",
        "output_type": "error",
        "traceback": [
         "\u001b[0;31m---------------------------------------------------------------------------\u001b[0m",
         "\u001b[0;31mHTTPError\u001b[0m                                 Traceback (most recent call last)",
         "\u001b[0;32m<ipython-input-7-55fcb232b75e>\u001b[0m in \u001b[0;36m<module>\u001b[0;34m()\u001b[0m\n\u001b[0;32m----> 1\u001b[0;31m \u001b[0mWO\u001b[0m\u001b[0;34m.\u001b[0m\u001b[0mrequest\u001b[0m\u001b[0;34m(\u001b[0m\u001b[0;34m)\u001b[0m\u001b[0;34m\u001b[0m\u001b[0m\n\u001b[0m\u001b[1;32m      2\u001b[0m \u001b[0;31m# HTTPError: 401 Client Error: Unauthorized for url: https://testing.sysmo-db.org/assays\u001b[0m\u001b[0;34m\u001b[0m\u001b[0;34m\u001b[0m\u001b[0m\n\u001b[1;32m      3\u001b[0m \u001b[0;31m# 422 Client Error: Unprocessable Entity for url: https://testing.sysmo-db.org/assays\u001b[0m\u001b[0;34m\u001b[0m\u001b[0;34m\u001b[0m\u001b[0m\n\u001b[1;32m      4\u001b[0m \u001b[0;31m# 401 Client Error: Unauthorized for url: https://testing.sysmo-db.org/assays\u001b[0m\u001b[0;34m\u001b[0m\u001b[0;34m\u001b[0m\u001b[0m\n\u001b[1;32m      5\u001b[0m \u001b[0;34m\u001b[0m\u001b[0m\n",
         "\u001b[0;32m~/Work/ThirdYear/Seek/TheSeekNotebook/WriteObject.py\u001b[0m in \u001b[0;36mrequest\u001b[0;34m(self)\u001b[0m\n\u001b[1;32m    116\u001b[0m     \u001b[0;32mdef\u001b[0m \u001b[0mrequest\u001b[0m\u001b[0;34m(\u001b[0m\u001b[0mself\u001b[0m\u001b[0;34m)\u001b[0m\u001b[0;34m:\u001b[0m\u001b[0;34m\u001b[0m\u001b[0m\n\u001b[1;32m    117\u001b[0m         \u001b[0mr\u001b[0m \u001b[0;34m=\u001b[0m \u001b[0mself\u001b[0m\u001b[0;34m.\u001b[0m\u001b[0msession\u001b[0m\u001b[0;34m.\u001b[0m\u001b[0mpost\u001b[0m\u001b[0;34m(\u001b[0m\u001b[0mself\u001b[0m\u001b[0;34m.\u001b[0m\u001b[0mbase_url\u001b[0m \u001b[0;34m+\u001b[0m \u001b[0;34m'/'\u001b[0m \u001b[0;34m+\u001b[0m \u001b[0mself\u001b[0m\u001b[0;34m.\u001b[0m\u001b[0mtype\u001b[0m\u001b[0;34m.\u001b[0m\u001b[0mvalue\u001b[0m\u001b[0;34m,\u001b[0m \u001b[0mjson\u001b[0m\u001b[0;34m=\u001b[0m\u001b[0mself\u001b[0m\u001b[0;34m.\u001b[0m\u001b[0mJSON\u001b[0m\u001b[0;34m)\u001b[0m\u001b[0;34m\u001b[0m\u001b[0m\n\u001b[0;32m--> 118\u001b[0;31m         \u001b[0mr\u001b[0m\u001b[0;34m.\u001b[0m\u001b[0mraise_for_status\u001b[0m\u001b[0;34m(\u001b[0m\u001b[0;34m)\u001b[0m\u001b[0;34m\u001b[0m\u001b[0m\n\u001b[0m",
         "\u001b[0;32m~/anaconda3/lib/python3.6/site-packages/requests/models.py\u001b[0m in \u001b[0;36mraise_for_status\u001b[0;34m(self)\u001b[0m\n\u001b[1;32m    933\u001b[0m \u001b[0;34m\u001b[0m\u001b[0m\n\u001b[1;32m    934\u001b[0m         \u001b[0;32mif\u001b[0m \u001b[0mhttp_error_msg\u001b[0m\u001b[0;34m:\u001b[0m\u001b[0;34m\u001b[0m\u001b[0m\n\u001b[0;32m--> 935\u001b[0;31m             \u001b[0;32mraise\u001b[0m \u001b[0mHTTPError\u001b[0m\u001b[0;34m(\u001b[0m\u001b[0mhttp_error_msg\u001b[0m\u001b[0;34m,\u001b[0m \u001b[0mresponse\u001b[0m\u001b[0;34m=\u001b[0m\u001b[0mself\u001b[0m\u001b[0;34m)\u001b[0m\u001b[0;34m\u001b[0m\u001b[0m\n\u001b[0m\u001b[1;32m    936\u001b[0m \u001b[0;34m\u001b[0m\u001b[0m\n\u001b[1;32m    937\u001b[0m     \u001b[0;32mdef\u001b[0m \u001b[0mclose\u001b[0m\u001b[0;34m(\u001b[0m\u001b[0mself\u001b[0m\u001b[0;34m)\u001b[0m\u001b[0;34m:\u001b[0m\u001b[0;34m\u001b[0m\u001b[0m\n",
         "\u001b[0;31mHTTPError\u001b[0m: 422 Client Error: Unprocessable Entity for url: https://testing.sysmo-db.org/assays"
        ]
       }
      ],
      "source": "WO.request()\n# HTTPError: 401 Client Error: Unauthorized for url: https://testing.sysmo-db.org/assays\n# 422 Client Error: Unprocessable Entity for url: https://testing.sysmo-db.org/assays\n# 401 Client Error: Unauthorized for url: https://testing.sysmo-db.org/assays\n\n# JUST ENOUGH \n\n# file version vs new file",
      "start_time": "2019-03-19T21:18:09.298Z"
     },
     {
      "end_time": "2019-03-19T21:27:44.348Z",
      "execution_time": "193ms",
      "outputs": [
       {
        "ename": "HTTPError",
        "evalue": "422 Client Error: Unprocessable Entity for url: https://testing.sysmo-db.org/assays",
        "output_type": "error",
        "traceback": [
         "\u001b[0;31m---------------------------------------------------------------------------\u001b[0m",
         "\u001b[0;31mHTTPError\u001b[0m                                 Traceback (most recent call last)",
         "\u001b[0;32m<ipython-input-5-55fcb232b75e>\u001b[0m in \u001b[0;36m<module>\u001b[0;34m()\u001b[0m\n\u001b[0;32m----> 1\u001b[0;31m \u001b[0mWO\u001b[0m\u001b[0;34m.\u001b[0m\u001b[0mrequest\u001b[0m\u001b[0;34m(\u001b[0m\u001b[0;34m)\u001b[0m\u001b[0;34m\u001b[0m\u001b[0m\n\u001b[0m\u001b[1;32m      2\u001b[0m \u001b[0;31m# HTTPError: 401 Client Error: Unauthorized for url: https://testing.sysmo-db.org/assays\u001b[0m\u001b[0;34m\u001b[0m\u001b[0;34m\u001b[0m\u001b[0m\n\u001b[1;32m      3\u001b[0m \u001b[0;31m# 422 Client Error: Unprocessable Entity for url: https://testing.sysmo-db.org/assays\u001b[0m\u001b[0;34m\u001b[0m\u001b[0;34m\u001b[0m\u001b[0m\n\u001b[1;32m      4\u001b[0m \u001b[0;31m# 401 Client Error: Unauthorized for url: https://testing.sysmo-db.org/assays\u001b[0m\u001b[0;34m\u001b[0m\u001b[0;34m\u001b[0m\u001b[0m\n\u001b[1;32m      5\u001b[0m \u001b[0;34m\u001b[0m\u001b[0m\n",
         "\u001b[0;32m~/Work/ThirdYear/Seek/TheSeekNotebook/WriteObject.py\u001b[0m in \u001b[0;36mrequest\u001b[0;34m(self)\u001b[0m\n\u001b[1;32m    116\u001b[0m     \u001b[0;32mdef\u001b[0m \u001b[0mrequest\u001b[0m\u001b[0;34m(\u001b[0m\u001b[0mself\u001b[0m\u001b[0;34m)\u001b[0m\u001b[0;34m:\u001b[0m\u001b[0;34m\u001b[0m\u001b[0m\n\u001b[1;32m    117\u001b[0m         \u001b[0mr\u001b[0m \u001b[0;34m=\u001b[0m \u001b[0mself\u001b[0m\u001b[0;34m.\u001b[0m\u001b[0msession\u001b[0m\u001b[0;34m.\u001b[0m\u001b[0mpost\u001b[0m\u001b[0;34m(\u001b[0m\u001b[0mself\u001b[0m\u001b[0;34m.\u001b[0m\u001b[0mbase_url\u001b[0m \u001b[0;34m+\u001b[0m \u001b[0;34m'/'\u001b[0m \u001b[0;34m+\u001b[0m \u001b[0mself\u001b[0m\u001b[0;34m.\u001b[0m\u001b[0mtype\u001b[0m\u001b[0;34m.\u001b[0m\u001b[0mvalue\u001b[0m\u001b[0;34m,\u001b[0m \u001b[0mjson\u001b[0m\u001b[0;34m=\u001b[0m\u001b[0mself\u001b[0m\u001b[0;34m.\u001b[0m\u001b[0mJSON\u001b[0m\u001b[0;34m)\u001b[0m\u001b[0;34m\u001b[0m\u001b[0m\n\u001b[0;32m--> 118\u001b[0;31m         \u001b[0mr\u001b[0m\u001b[0;34m.\u001b[0m\u001b[0mraise_for_status\u001b[0m\u001b[0;34m(\u001b[0m\u001b[0;34m)\u001b[0m\u001b[0;34m\u001b[0m\u001b[0m\n\u001b[0m",
         "\u001b[0;32m~/anaconda3/lib/python3.6/site-packages/requests/models.py\u001b[0m in \u001b[0;36mraise_for_status\u001b[0;34m(self)\u001b[0m\n\u001b[1;32m    933\u001b[0m \u001b[0;34m\u001b[0m\u001b[0m\n\u001b[1;32m    934\u001b[0m         \u001b[0;32mif\u001b[0m \u001b[0mhttp_error_msg\u001b[0m\u001b[0;34m:\u001b[0m\u001b[0;34m\u001b[0m\u001b[0m\n\u001b[0;32m--> 935\u001b[0;31m             \u001b[0;32mraise\u001b[0m \u001b[0mHTTPError\u001b[0m\u001b[0;34m(\u001b[0m\u001b[0mhttp_error_msg\u001b[0m\u001b[0;34m,\u001b[0m \u001b[0mresponse\u001b[0m\u001b[0;34m=\u001b[0m\u001b[0mself\u001b[0m\u001b[0;34m)\u001b[0m\u001b[0;34m\u001b[0m\u001b[0m\n\u001b[0m\u001b[1;32m    936\u001b[0m \u001b[0;34m\u001b[0m\u001b[0m\n\u001b[1;32m    937\u001b[0m     \u001b[0;32mdef\u001b[0m \u001b[0mclose\u001b[0m\u001b[0;34m(\u001b[0m\u001b[0mself\u001b[0m\u001b[0;34m)\u001b[0m\u001b[0;34m:\u001b[0m\u001b[0;34m\u001b[0m\u001b[0m\n",
         "\u001b[0;31mHTTPError\u001b[0m: 422 Client Error: Unprocessable Entity for url: https://testing.sysmo-db.org/assays"
        ]
       }
      ],
      "source": "WO.request()\n# HTTPError: 401 Client Error: Unauthorized for url: https://testing.sysmo-db.org/assays\n# 422 Client Error: Unprocessable Entity for url: https://testing.sysmo-db.org/assays\n# 401 Client Error: Unauthorized for url: https://testing.sysmo-db.org/assays\n\n# JUST ENOUGH \n\n# file version vs new file",
      "start_time": "2019-03-19T21:27:44.155Z"
     },
     {
      "end_time": "2019-03-22T11:44:41.831Z",
      "execution_time": "531ms",
      "outputs": [
       {
        "ename": "HTTPError",
        "evalue": "422 Client Error: Unprocessable Entity for url: https://testing.sysmo-db.org/investigations",
        "output_type": "error",
        "traceback": [
         "\u001b[0;31m---------------------------------------------------------------------------\u001b[0m",
         "\u001b[0;31mHTTPError\u001b[0m                                 Traceback (most recent call last)",
         "\u001b[0;32m<ipython-input-3-55fcb232b75e>\u001b[0m in \u001b[0;36m<module>\u001b[0;34m()\u001b[0m\n\u001b[0;32m----> 1\u001b[0;31m \u001b[0mWO\u001b[0m\u001b[0;34m.\u001b[0m\u001b[0mrequest\u001b[0m\u001b[0;34m(\u001b[0m\u001b[0;34m)\u001b[0m\u001b[0;34m\u001b[0m\u001b[0m\n\u001b[0m\u001b[1;32m      2\u001b[0m \u001b[0;31m# HTTPError: 401 Client Error: Unauthorized for url: https://testing.sysmo-db.org/assays\u001b[0m\u001b[0;34m\u001b[0m\u001b[0;34m\u001b[0m\u001b[0m\n\u001b[1;32m      3\u001b[0m \u001b[0;31m# 422 Client Error: Unprocessable Entity for url: https://testing.sysmo-db.org/assays\u001b[0m\u001b[0;34m\u001b[0m\u001b[0;34m\u001b[0m\u001b[0m\n\u001b[1;32m      4\u001b[0m \u001b[0;31m# 401 Client Error: Unauthorized for url: https://testing.sysmo-db.org/assays\u001b[0m\u001b[0;34m\u001b[0m\u001b[0;34m\u001b[0m\u001b[0m\n\u001b[1;32m      5\u001b[0m \u001b[0;34m\u001b[0m\u001b[0m\n",
         "\u001b[0;32m~/Work/ThirdYear/Seek/TheSeekNotebook/WriteObject.py\u001b[0m in \u001b[0;36mrequest\u001b[0;34m(self)\u001b[0m\n\u001b[1;32m    116\u001b[0m     \u001b[0;32mdef\u001b[0m \u001b[0mrequest\u001b[0m\u001b[0;34m(\u001b[0m\u001b[0mself\u001b[0m\u001b[0;34m)\u001b[0m\u001b[0;34m:\u001b[0m\u001b[0;34m\u001b[0m\u001b[0m\n\u001b[1;32m    117\u001b[0m         \u001b[0mr\u001b[0m \u001b[0;34m=\u001b[0m \u001b[0mself\u001b[0m\u001b[0;34m.\u001b[0m\u001b[0msession\u001b[0m\u001b[0;34m.\u001b[0m\u001b[0mpost\u001b[0m\u001b[0;34m(\u001b[0m\u001b[0mself\u001b[0m\u001b[0;34m.\u001b[0m\u001b[0mbase_url\u001b[0m \u001b[0;34m+\u001b[0m \u001b[0;34m'/'\u001b[0m \u001b[0;34m+\u001b[0m \u001b[0mself\u001b[0m\u001b[0;34m.\u001b[0m\u001b[0mtype\u001b[0m\u001b[0;34m.\u001b[0m\u001b[0mvalue\u001b[0m\u001b[0;34m,\u001b[0m \u001b[0mjson\u001b[0m\u001b[0;34m=\u001b[0m\u001b[0mself\u001b[0m\u001b[0;34m.\u001b[0m\u001b[0mJSON\u001b[0m\u001b[0;34m)\u001b[0m\u001b[0;34m\u001b[0m\u001b[0m\n\u001b[0;32m--> 118\u001b[0;31m         \u001b[0mr\u001b[0m\u001b[0;34m.\u001b[0m\u001b[0mraise_for_status\u001b[0m\u001b[0;34m(\u001b[0m\u001b[0;34m)\u001b[0m\u001b[0;34m\u001b[0m\u001b[0m\n\u001b[0m",
         "\u001b[0;32m~/anaconda3/lib/python3.6/site-packages/requests/models.py\u001b[0m in \u001b[0;36mraise_for_status\u001b[0;34m(self)\u001b[0m\n\u001b[1;32m    933\u001b[0m \u001b[0;34m\u001b[0m\u001b[0m\n\u001b[1;32m    934\u001b[0m         \u001b[0;32mif\u001b[0m \u001b[0mhttp_error_msg\u001b[0m\u001b[0;34m:\u001b[0m\u001b[0;34m\u001b[0m\u001b[0m\n\u001b[0;32m--> 935\u001b[0;31m             \u001b[0;32mraise\u001b[0m \u001b[0mHTTPError\u001b[0m\u001b[0;34m(\u001b[0m\u001b[0mhttp_error_msg\u001b[0m\u001b[0;34m,\u001b[0m \u001b[0mresponse\u001b[0m\u001b[0;34m=\u001b[0m\u001b[0mself\u001b[0m\u001b[0;34m)\u001b[0m\u001b[0;34m\u001b[0m\u001b[0m\n\u001b[0m\u001b[1;32m    936\u001b[0m \u001b[0;34m\u001b[0m\u001b[0m\n\u001b[1;32m    937\u001b[0m     \u001b[0;32mdef\u001b[0m \u001b[0mclose\u001b[0m\u001b[0;34m(\u001b[0m\u001b[0mself\u001b[0m\u001b[0;34m)\u001b[0m\u001b[0;34m:\u001b[0m\u001b[0;34m\u001b[0m\u001b[0m\n",
         "\u001b[0;31mHTTPError\u001b[0m: 422 Client Error: Unprocessable Entity for url: https://testing.sysmo-db.org/investigations"
        ]
       }
      ],
      "source": "WO.request()\n# HTTPError: 401 Client Error: Unauthorized for url: https://testing.sysmo-db.org/assays\n# 422 Client Error: Unprocessable Entity for url: https://testing.sysmo-db.org/assays\n# 401 Client Error: Unauthorized for url: https://testing.sysmo-db.org/assays\n\n# JUST ENOUGH \n\n# file version vs new file",
      "start_time": "2019-03-22T11:44:41.300Z"
     },
     {
      "end_time": "2019-03-25T10:19:40.060Z",
      "execution_time": "5.10s",
      "outputs": [],
      "source": "WO.request()\n# HTTPError: 401 Client Error: Unauthorized for url: https://testing.sysmo-db.org/assays\n# 422 Client Error: Unprocessable Entity for url: https://testing.sysmo-db.org/assays\n# 401 Client Error: Unauthorized for url: https://testing.sysmo-db.org/assays\n\n# JUST ENOUGH \n\n# file version vs new file",
      "start_time": "2019-03-25T10:19:34.959Z"
     },
     {
      "end_time": "2019-03-25T10:25:31.197Z",
      "execution_time": "636ms",
      "outputs": [],
      "source": "WO.request()\n# HTTPError: 401 Client Error: Unauthorized for url: https://testing.sysmo-db.org/assays\n# 422 Client Error: Unprocessable Entity for url: https://testing.sysmo-db.org/assays\n# 401 Client Error: Unauthorized for url: https://testing.sysmo-db.org/assays\n\n# JUST ENOUGH \n\n# file version vs new file",
      "start_time": "2019-03-25T10:25:30.561Z"
     },
     {
      "end_time": "2019-03-25T10:29:57.339Z",
      "execution_time": "706ms",
      "outputs": [],
      "source": "WO.request()\n# HTTPError: 401 Client Error: Unauthorized for url: https://testing.sysmo-db.org/assays\n# 422 Client Error: Unprocessable Entity for url: https://testing.sysmo-db.org/assays\n# 401 Client Error: Unauthorized for url: https://testing.sysmo-db.org/assays\n\n# JUST ENOUGH \n\n# file version vs new file",
      "start_time": "2019-03-25T10:29:56.633Z"
     },
     {
      "end_time": "2019-03-25T10:34:12.424Z",
      "execution_time": "577ms",
      "outputs": [],
      "source": "WO.request()\n# HTTPError: 401 Client Error: Unauthorized for url: https://testing.sysmo-db.org/assays\n# 422 Client Error: Unprocessable Entity for url: https://testing.sysmo-db.org/assays\n# 401 Client Error: Unauthorized for url: https://testing.sysmo-db.org/assays\n\n# JUST ENOUGH \n\n# file version vs new file",
      "start_time": "2019-03-25T10:34:11.847Z"
     },
     {
      "end_time": "2019-03-25T10:36:33.345Z",
      "execution_time": "281ms",
      "outputs": [
       {
        "ename": "HTTPError",
        "evalue": "422 Client Error: Unprocessable Entity for url: https://testing.sysmo-db.org/assays",
        "output_type": "error",
        "traceback": [
         "\u001b[0;31m---------------------------------------------------------------------------\u001b[0m",
         "\u001b[0;31mHTTPError\u001b[0m                                 Traceback (most recent call last)",
         "\u001b[0;32m<ipython-input-12-55fcb232b75e>\u001b[0m in \u001b[0;36m<module>\u001b[0;34m()\u001b[0m\n\u001b[0;32m----> 1\u001b[0;31m \u001b[0mWO\u001b[0m\u001b[0;34m.\u001b[0m\u001b[0mrequest\u001b[0m\u001b[0;34m(\u001b[0m\u001b[0;34m)\u001b[0m\u001b[0;34m\u001b[0m\u001b[0m\n\u001b[0m\u001b[1;32m      2\u001b[0m \u001b[0;31m# HTTPError: 401 Client Error: Unauthorized for url: https://testing.sysmo-db.org/assays\u001b[0m\u001b[0;34m\u001b[0m\u001b[0;34m\u001b[0m\u001b[0m\n\u001b[1;32m      3\u001b[0m \u001b[0;31m# 422 Client Error: Unprocessable Entity for url: https://testing.sysmo-db.org/assays\u001b[0m\u001b[0;34m\u001b[0m\u001b[0;34m\u001b[0m\u001b[0m\n\u001b[1;32m      4\u001b[0m \u001b[0;31m# 401 Client Error: Unauthorized for url: https://testing.sysmo-db.org/assays\u001b[0m\u001b[0;34m\u001b[0m\u001b[0;34m\u001b[0m\u001b[0m\n\u001b[1;32m      5\u001b[0m \u001b[0;34m\u001b[0m\u001b[0m\n",
         "\u001b[0;32m~/Work/ThirdYear/TheSeekNotebook/WriteObject.py\u001b[0m in \u001b[0;36mrequest\u001b[0;34m(self)\u001b[0m\n\u001b[1;32m    116\u001b[0m     \u001b[0;32mdef\u001b[0m \u001b[0mrequest\u001b[0m\u001b[0;34m(\u001b[0m\u001b[0mself\u001b[0m\u001b[0;34m)\u001b[0m\u001b[0;34m:\u001b[0m\u001b[0;34m\u001b[0m\u001b[0m\n\u001b[1;32m    117\u001b[0m         \u001b[0mr\u001b[0m \u001b[0;34m=\u001b[0m \u001b[0mself\u001b[0m\u001b[0;34m.\u001b[0m\u001b[0msession\u001b[0m\u001b[0;34m.\u001b[0m\u001b[0mpost\u001b[0m\u001b[0;34m(\u001b[0m\u001b[0mself\u001b[0m\u001b[0;34m.\u001b[0m\u001b[0mbase_url\u001b[0m \u001b[0;34m+\u001b[0m \u001b[0;34m'/'\u001b[0m \u001b[0;34m+\u001b[0m \u001b[0mself\u001b[0m\u001b[0;34m.\u001b[0m\u001b[0mtype\u001b[0m\u001b[0;34m.\u001b[0m\u001b[0mvalue\u001b[0m\u001b[0;34m,\u001b[0m \u001b[0mjson\u001b[0m\u001b[0;34m=\u001b[0m\u001b[0mself\u001b[0m\u001b[0;34m.\u001b[0m\u001b[0mJSON\u001b[0m\u001b[0;34m)\u001b[0m\u001b[0;34m\u001b[0m\u001b[0m\n\u001b[0;32m--> 118\u001b[0;31m         \u001b[0mr\u001b[0m\u001b[0;34m.\u001b[0m\u001b[0mraise_for_status\u001b[0m\u001b[0;34m(\u001b[0m\u001b[0;34m)\u001b[0m\u001b[0;34m\u001b[0m\u001b[0m\n\u001b[0m\u001b[1;32m    119\u001b[0m         \u001b[0mself\u001b[0m\u001b[0;34m.\u001b[0m\u001b[0mjson\u001b[0m \u001b[0;34m=\u001b[0m \u001b[0mr\u001b[0m\u001b[0;34m.\u001b[0m\u001b[0mjson\u001b[0m\u001b[0;34m(\u001b[0m\u001b[0;34m)\u001b[0m\u001b[0;34m\u001b[0m\u001b[0m\n\u001b[1;32m    120\u001b[0m         \u001b[0mr\u001b[0m\u001b[0;34m.\u001b[0m\u001b[0mclose\u001b[0m\u001b[0;34m(\u001b[0m\u001b[0;34m)\u001b[0m\u001b[0;34m\u001b[0m\u001b[0m\n",
         "\u001b[0;32m~/anaconda3/lib/python3.6/site-packages/requests/models.py\u001b[0m in \u001b[0;36mraise_for_status\u001b[0;34m(self)\u001b[0m\n\u001b[1;32m    933\u001b[0m \u001b[0;34m\u001b[0m\u001b[0m\n\u001b[1;32m    934\u001b[0m         \u001b[0;32mif\u001b[0m \u001b[0mhttp_error_msg\u001b[0m\u001b[0;34m:\u001b[0m\u001b[0;34m\u001b[0m\u001b[0m\n\u001b[0;32m--> 935\u001b[0;31m             \u001b[0;32mraise\u001b[0m \u001b[0mHTTPError\u001b[0m\u001b[0;34m(\u001b[0m\u001b[0mhttp_error_msg\u001b[0m\u001b[0;34m,\u001b[0m \u001b[0mresponse\u001b[0m\u001b[0;34m=\u001b[0m\u001b[0mself\u001b[0m\u001b[0;34m)\u001b[0m\u001b[0;34m\u001b[0m\u001b[0m\n\u001b[0m\u001b[1;32m    936\u001b[0m \u001b[0;34m\u001b[0m\u001b[0m\n\u001b[1;32m    937\u001b[0m     \u001b[0;32mdef\u001b[0m \u001b[0mclose\u001b[0m\u001b[0;34m(\u001b[0m\u001b[0mself\u001b[0m\u001b[0;34m)\u001b[0m\u001b[0;34m:\u001b[0m\u001b[0;34m\u001b[0m\u001b[0m\n",
         "\u001b[0;31mHTTPError\u001b[0m: 422 Client Error: Unprocessable Entity for url: https://testing.sysmo-db.org/assays"
        ]
       }
      ],
      "source": "WO.request()\n# HTTPError: 401 Client Error: Unauthorized for url: https://testing.sysmo-db.org/assays\n# 422 Client Error: Unprocessable Entity for url: https://testing.sysmo-db.org/assays\n# 401 Client Error: Unauthorized for url: https://testing.sysmo-db.org/assays\n\n# JUST ENOUGH \n\n# file version vs new file",
      "start_time": "2019-03-25T10:36:33.064Z"
     },
     {
      "end_time": "2019-03-25T10:40:38.343Z",
      "execution_time": "349ms",
      "outputs": [
       {
        "ename": "HTTPError",
        "evalue": "422 Client Error: Unprocessable Entity for url: https://testing.sysmo-db.org/studies",
        "output_type": "error",
        "traceback": [
         "\u001b[0;31m---------------------------------------------------------------------------\u001b[0m",
         "\u001b[0;31mHTTPError\u001b[0m                                 Traceback (most recent call last)",
         "\u001b[0;32m<ipython-input-3-55fcb232b75e>\u001b[0m in \u001b[0;36m<module>\u001b[0;34m()\u001b[0m\n\u001b[0;32m----> 1\u001b[0;31m \u001b[0mWO\u001b[0m\u001b[0;34m.\u001b[0m\u001b[0mrequest\u001b[0m\u001b[0;34m(\u001b[0m\u001b[0;34m)\u001b[0m\u001b[0;34m\u001b[0m\u001b[0m\n\u001b[0m\u001b[1;32m      2\u001b[0m \u001b[0;31m# HTTPError: 401 Client Error: Unauthorized for url: https://testing.sysmo-db.org/assays\u001b[0m\u001b[0;34m\u001b[0m\u001b[0;34m\u001b[0m\u001b[0m\n\u001b[1;32m      3\u001b[0m \u001b[0;31m# 422 Client Error: Unprocessable Entity for url: https://testing.sysmo-db.org/assays\u001b[0m\u001b[0;34m\u001b[0m\u001b[0;34m\u001b[0m\u001b[0m\n\u001b[1;32m      4\u001b[0m \u001b[0;31m# 401 Client Error: Unauthorized for url: https://testing.sysmo-db.org/assays\u001b[0m\u001b[0;34m\u001b[0m\u001b[0;34m\u001b[0m\u001b[0m\n\u001b[1;32m      5\u001b[0m \u001b[0;34m\u001b[0m\u001b[0m\n",
         "\u001b[0;32m~/Work/ThirdYear/TheSeekNotebook/WriteObject.py\u001b[0m in \u001b[0;36mrequest\u001b[0;34m(self)\u001b[0m\n\u001b[1;32m    116\u001b[0m     \u001b[0;32mdef\u001b[0m \u001b[0mrequest\u001b[0m\u001b[0;34m(\u001b[0m\u001b[0mself\u001b[0m\u001b[0;34m)\u001b[0m\u001b[0;34m:\u001b[0m\u001b[0;34m\u001b[0m\u001b[0m\n\u001b[1;32m    117\u001b[0m         \u001b[0mr\u001b[0m \u001b[0;34m=\u001b[0m \u001b[0mself\u001b[0m\u001b[0;34m.\u001b[0m\u001b[0msession\u001b[0m\u001b[0;34m.\u001b[0m\u001b[0mpost\u001b[0m\u001b[0;34m(\u001b[0m\u001b[0mself\u001b[0m\u001b[0;34m.\u001b[0m\u001b[0mbase_url\u001b[0m \u001b[0;34m+\u001b[0m \u001b[0;34m'/'\u001b[0m \u001b[0;34m+\u001b[0m \u001b[0mself\u001b[0m\u001b[0;34m.\u001b[0m\u001b[0mtype\u001b[0m\u001b[0;34m.\u001b[0m\u001b[0mvalue\u001b[0m\u001b[0;34m,\u001b[0m \u001b[0mjson\u001b[0m\u001b[0;34m=\u001b[0m\u001b[0mself\u001b[0m\u001b[0;34m.\u001b[0m\u001b[0mJSON\u001b[0m\u001b[0;34m)\u001b[0m\u001b[0;34m\u001b[0m\u001b[0m\n\u001b[0;32m--> 118\u001b[0;31m         \u001b[0mr\u001b[0m\u001b[0;34m.\u001b[0m\u001b[0mraise_for_status\u001b[0m\u001b[0;34m(\u001b[0m\u001b[0;34m)\u001b[0m\u001b[0;34m\u001b[0m\u001b[0m\n\u001b[0m\u001b[1;32m    119\u001b[0m         \u001b[0mself\u001b[0m\u001b[0;34m.\u001b[0m\u001b[0mjson\u001b[0m \u001b[0;34m=\u001b[0m \u001b[0mr\u001b[0m\u001b[0;34m.\u001b[0m\u001b[0mjson\u001b[0m\u001b[0;34m(\u001b[0m\u001b[0;34m)\u001b[0m\u001b[0;34m\u001b[0m\u001b[0m\n\u001b[1;32m    120\u001b[0m         \u001b[0mr\u001b[0m\u001b[0;34m.\u001b[0m\u001b[0mclose\u001b[0m\u001b[0;34m(\u001b[0m\u001b[0;34m)\u001b[0m\u001b[0;34m\u001b[0m\u001b[0m\n",
         "\u001b[0;32m~/anaconda3/lib/python3.6/site-packages/requests/models.py\u001b[0m in \u001b[0;36mraise_for_status\u001b[0;34m(self)\u001b[0m\n\u001b[1;32m    933\u001b[0m \u001b[0;34m\u001b[0m\u001b[0m\n\u001b[1;32m    934\u001b[0m         \u001b[0;32mif\u001b[0m \u001b[0mhttp_error_msg\u001b[0m\u001b[0;34m:\u001b[0m\u001b[0;34m\u001b[0m\u001b[0m\n\u001b[0;32m--> 935\u001b[0;31m             \u001b[0;32mraise\u001b[0m \u001b[0mHTTPError\u001b[0m\u001b[0;34m(\u001b[0m\u001b[0mhttp_error_msg\u001b[0m\u001b[0;34m,\u001b[0m \u001b[0mresponse\u001b[0m\u001b[0;34m=\u001b[0m\u001b[0mself\u001b[0m\u001b[0;34m)\u001b[0m\u001b[0;34m\u001b[0m\u001b[0m\n\u001b[0m\u001b[1;32m    936\u001b[0m \u001b[0;34m\u001b[0m\u001b[0m\n\u001b[1;32m    937\u001b[0m     \u001b[0;32mdef\u001b[0m \u001b[0mclose\u001b[0m\u001b[0;34m(\u001b[0m\u001b[0mself\u001b[0m\u001b[0;34m)\u001b[0m\u001b[0;34m:\u001b[0m\u001b[0;34m\u001b[0m\u001b[0m\n",
         "\u001b[0;31mHTTPError\u001b[0m: 422 Client Error: Unprocessable Entity for url: https://testing.sysmo-db.org/studies"
        ]
       }
      ],
      "source": "WO.request()\n# HTTPError: 401 Client Error: Unauthorized for url: https://testing.sysmo-db.org/assays\n# 422 Client Error: Unprocessable Entity for url: https://testing.sysmo-db.org/assays\n# 401 Client Error: Unauthorized for url: https://testing.sysmo-db.org/assays\n\n# JUST ENOUGH \n\n# file version vs new file",
      "start_time": "2019-03-25T10:40:37.994Z"
     },
     {
      "end_time": "2019-03-25T10:41:25.266Z",
      "execution_time": "322ms",
      "outputs": [
       {
        "ename": "HTTPError",
        "evalue": "422 Client Error: Unprocessable Entity for url: https://testing.sysmo-db.org/studies",
        "output_type": "error",
        "traceback": [
         "\u001b[0;31m---------------------------------------------------------------------------\u001b[0m",
         "\u001b[0;31mHTTPError\u001b[0m                                 Traceback (most recent call last)",
         "\u001b[0;32m<ipython-input-4-55fcb232b75e>\u001b[0m in \u001b[0;36m<module>\u001b[0;34m()\u001b[0m\n\u001b[0;32m----> 1\u001b[0;31m \u001b[0mWO\u001b[0m\u001b[0;34m.\u001b[0m\u001b[0mrequest\u001b[0m\u001b[0;34m(\u001b[0m\u001b[0;34m)\u001b[0m\u001b[0;34m\u001b[0m\u001b[0m\n\u001b[0m\u001b[1;32m      2\u001b[0m \u001b[0;31m# HTTPError: 401 Client Error: Unauthorized for url: https://testing.sysmo-db.org/assays\u001b[0m\u001b[0;34m\u001b[0m\u001b[0;34m\u001b[0m\u001b[0m\n\u001b[1;32m      3\u001b[0m \u001b[0;31m# 422 Client Error: Unprocessable Entity for url: https://testing.sysmo-db.org/assays\u001b[0m\u001b[0;34m\u001b[0m\u001b[0;34m\u001b[0m\u001b[0m\n\u001b[1;32m      4\u001b[0m \u001b[0;31m# 401 Client Error: Unauthorized for url: https://testing.sysmo-db.org/assays\u001b[0m\u001b[0;34m\u001b[0m\u001b[0;34m\u001b[0m\u001b[0m\n\u001b[1;32m      5\u001b[0m \u001b[0;34m\u001b[0m\u001b[0m\n",
         "\u001b[0;32m~/Work/ThirdYear/TheSeekNotebook/WriteObject.py\u001b[0m in \u001b[0;36mrequest\u001b[0;34m(self)\u001b[0m\n\u001b[1;32m    116\u001b[0m     \u001b[0;32mdef\u001b[0m \u001b[0mrequest\u001b[0m\u001b[0;34m(\u001b[0m\u001b[0mself\u001b[0m\u001b[0;34m)\u001b[0m\u001b[0;34m:\u001b[0m\u001b[0;34m\u001b[0m\u001b[0m\n\u001b[1;32m    117\u001b[0m         \u001b[0mr\u001b[0m \u001b[0;34m=\u001b[0m \u001b[0mself\u001b[0m\u001b[0;34m.\u001b[0m\u001b[0msession\u001b[0m\u001b[0;34m.\u001b[0m\u001b[0mpost\u001b[0m\u001b[0;34m(\u001b[0m\u001b[0mself\u001b[0m\u001b[0;34m.\u001b[0m\u001b[0mbase_url\u001b[0m \u001b[0;34m+\u001b[0m \u001b[0;34m'/'\u001b[0m \u001b[0;34m+\u001b[0m \u001b[0mself\u001b[0m\u001b[0;34m.\u001b[0m\u001b[0mtype\u001b[0m\u001b[0;34m.\u001b[0m\u001b[0mvalue\u001b[0m\u001b[0;34m,\u001b[0m \u001b[0mjson\u001b[0m\u001b[0;34m=\u001b[0m\u001b[0mself\u001b[0m\u001b[0;34m.\u001b[0m\u001b[0mJSON\u001b[0m\u001b[0;34m)\u001b[0m\u001b[0;34m\u001b[0m\u001b[0m\n\u001b[0;32m--> 118\u001b[0;31m         \u001b[0mr\u001b[0m\u001b[0;34m.\u001b[0m\u001b[0mraise_for_status\u001b[0m\u001b[0;34m(\u001b[0m\u001b[0;34m)\u001b[0m\u001b[0;34m\u001b[0m\u001b[0m\n\u001b[0m\u001b[1;32m    119\u001b[0m         \u001b[0mself\u001b[0m\u001b[0;34m.\u001b[0m\u001b[0mjson\u001b[0m \u001b[0;34m=\u001b[0m \u001b[0mr\u001b[0m\u001b[0;34m.\u001b[0m\u001b[0mjson\u001b[0m\u001b[0;34m(\u001b[0m\u001b[0;34m)\u001b[0m\u001b[0;34m\u001b[0m\u001b[0m\n\u001b[1;32m    120\u001b[0m         \u001b[0mr\u001b[0m\u001b[0;34m.\u001b[0m\u001b[0mclose\u001b[0m\u001b[0;34m(\u001b[0m\u001b[0;34m)\u001b[0m\u001b[0;34m\u001b[0m\u001b[0m\n",
         "\u001b[0;32m~/anaconda3/lib/python3.6/site-packages/requests/models.py\u001b[0m in \u001b[0;36mraise_for_status\u001b[0;34m(self)\u001b[0m\n\u001b[1;32m    933\u001b[0m \u001b[0;34m\u001b[0m\u001b[0m\n\u001b[1;32m    934\u001b[0m         \u001b[0;32mif\u001b[0m \u001b[0mhttp_error_msg\u001b[0m\u001b[0;34m:\u001b[0m\u001b[0;34m\u001b[0m\u001b[0m\n\u001b[0;32m--> 935\u001b[0;31m             \u001b[0;32mraise\u001b[0m \u001b[0mHTTPError\u001b[0m\u001b[0;34m(\u001b[0m\u001b[0mhttp_error_msg\u001b[0m\u001b[0;34m,\u001b[0m \u001b[0mresponse\u001b[0m\u001b[0;34m=\u001b[0m\u001b[0mself\u001b[0m\u001b[0;34m)\u001b[0m\u001b[0;34m\u001b[0m\u001b[0m\n\u001b[0m\u001b[1;32m    936\u001b[0m \u001b[0;34m\u001b[0m\u001b[0m\n\u001b[1;32m    937\u001b[0m     \u001b[0;32mdef\u001b[0m \u001b[0mclose\u001b[0m\u001b[0;34m(\u001b[0m\u001b[0mself\u001b[0m\u001b[0;34m)\u001b[0m\u001b[0;34m:\u001b[0m\u001b[0;34m\u001b[0m\u001b[0m\n",
         "\u001b[0;31mHTTPError\u001b[0m: 422 Client Error: Unprocessable Entity for url: https://testing.sysmo-db.org/studies"
        ]
       }
      ],
      "source": "WO.request()\n# HTTPError: 401 Client Error: Unauthorized for url: https://testing.sysmo-db.org/assays\n# 422 Client Error: Unprocessable Entity for url: https://testing.sysmo-db.org/assays\n# 401 Client Error: Unauthorized for url: https://testing.sysmo-db.org/assays\n\n# JUST ENOUGH \n\n# file version vs new file",
      "start_time": "2019-03-25T10:41:24.944Z"
     },
     {
      "end_time": "2019-03-25T10:43:32.866Z",
      "execution_time": "742ms",
      "outputs": [],
      "source": "WO.request()\n# HTTPError: 401 Client Error: Unauthorized for url: https://testing.sysmo-db.org/assays\n# 422 Client Error: Unprocessable Entity for url: https://testing.sysmo-db.org/assays\n# 401 Client Error: Unauthorized for url: https://testing.sysmo-db.org/assays\n\n# JUST ENOUGH \n\n# file version vs new file",
      "start_time": "2019-03-25T10:43:32.124Z"
     },
     {
      "end_time": "2019-03-25T10:45:20.625Z",
      "execution_time": "2.00s",
      "outputs": [
       {
        "ename": "HTTPError",
        "evalue": "422 Client Error: Unprocessable Entity for url: https://testing.sysmo-db.org/studies",
        "output_type": "error",
        "traceback": [
         "\u001b[0;31m---------------------------------------------------------------------------\u001b[0m",
         "\u001b[0;31mHTTPError\u001b[0m                                 Traceback (most recent call last)",
         "\u001b[0;32m<ipython-input-3-55fcb232b75e>\u001b[0m in \u001b[0;36m<module>\u001b[0;34m()\u001b[0m\n\u001b[0;32m----> 1\u001b[0;31m \u001b[0mWO\u001b[0m\u001b[0;34m.\u001b[0m\u001b[0mrequest\u001b[0m\u001b[0;34m(\u001b[0m\u001b[0;34m)\u001b[0m\u001b[0;34m\u001b[0m\u001b[0m\n\u001b[0m\u001b[1;32m      2\u001b[0m \u001b[0;31m# HTTPError: 401 Client Error: Unauthorized for url: https://testing.sysmo-db.org/assays\u001b[0m\u001b[0;34m\u001b[0m\u001b[0;34m\u001b[0m\u001b[0m\n\u001b[1;32m      3\u001b[0m \u001b[0;31m# 422 Client Error: Unprocessable Entity for url: https://testing.sysmo-db.org/assays\u001b[0m\u001b[0;34m\u001b[0m\u001b[0;34m\u001b[0m\u001b[0m\n\u001b[1;32m      4\u001b[0m \u001b[0;31m# 401 Client Error: Unauthorized for url: https://testing.sysmo-db.org/assays\u001b[0m\u001b[0;34m\u001b[0m\u001b[0;34m\u001b[0m\u001b[0m\n\u001b[1;32m      5\u001b[0m \u001b[0;34m\u001b[0m\u001b[0m\n",
         "\u001b[0;32m~/Work/ThirdYear/TheSeekNotebook/WriteObject.py\u001b[0m in \u001b[0;36mrequest\u001b[0;34m(self)\u001b[0m\n\u001b[1;32m    116\u001b[0m     \u001b[0;32mdef\u001b[0m \u001b[0mrequest\u001b[0m\u001b[0;34m(\u001b[0m\u001b[0mself\u001b[0m\u001b[0;34m)\u001b[0m\u001b[0;34m:\u001b[0m\u001b[0;34m\u001b[0m\u001b[0m\n\u001b[1;32m    117\u001b[0m         \u001b[0mr\u001b[0m \u001b[0;34m=\u001b[0m \u001b[0mself\u001b[0m\u001b[0;34m.\u001b[0m\u001b[0msession\u001b[0m\u001b[0;34m.\u001b[0m\u001b[0mpost\u001b[0m\u001b[0;34m(\u001b[0m\u001b[0mself\u001b[0m\u001b[0;34m.\u001b[0m\u001b[0mbase_url\u001b[0m \u001b[0;34m+\u001b[0m \u001b[0;34m'/'\u001b[0m \u001b[0;34m+\u001b[0m \u001b[0mself\u001b[0m\u001b[0;34m.\u001b[0m\u001b[0mtype\u001b[0m\u001b[0;34m.\u001b[0m\u001b[0mvalue\u001b[0m\u001b[0;34m,\u001b[0m \u001b[0mjson\u001b[0m\u001b[0;34m=\u001b[0m\u001b[0mself\u001b[0m\u001b[0;34m.\u001b[0m\u001b[0mJSON\u001b[0m\u001b[0;34m)\u001b[0m\u001b[0;34m\u001b[0m\u001b[0m\n\u001b[0;32m--> 118\u001b[0;31m         \u001b[0mr\u001b[0m\u001b[0;34m.\u001b[0m\u001b[0mraise_for_status\u001b[0m\u001b[0;34m(\u001b[0m\u001b[0;34m)\u001b[0m\u001b[0;34m\u001b[0m\u001b[0m\n\u001b[0m\u001b[1;32m    119\u001b[0m         \u001b[0mself\u001b[0m\u001b[0;34m.\u001b[0m\u001b[0mjson\u001b[0m \u001b[0;34m=\u001b[0m \u001b[0mr\u001b[0m\u001b[0;34m.\u001b[0m\u001b[0mjson\u001b[0m\u001b[0;34m(\u001b[0m\u001b[0;34m)\u001b[0m\u001b[0;34m\u001b[0m\u001b[0m\n\u001b[1;32m    120\u001b[0m         \u001b[0mr\u001b[0m\u001b[0;34m.\u001b[0m\u001b[0mclose\u001b[0m\u001b[0;34m(\u001b[0m\u001b[0;34m)\u001b[0m\u001b[0;34m\u001b[0m\u001b[0m\n",
         "\u001b[0;32m~/anaconda3/lib/python3.6/site-packages/requests/models.py\u001b[0m in \u001b[0;36mraise_for_status\u001b[0;34m(self)\u001b[0m\n\u001b[1;32m    933\u001b[0m \u001b[0;34m\u001b[0m\u001b[0m\n\u001b[1;32m    934\u001b[0m         \u001b[0;32mif\u001b[0m \u001b[0mhttp_error_msg\u001b[0m\u001b[0;34m:\u001b[0m\u001b[0;34m\u001b[0m\u001b[0m\n\u001b[0;32m--> 935\u001b[0;31m             \u001b[0;32mraise\u001b[0m \u001b[0mHTTPError\u001b[0m\u001b[0;34m(\u001b[0m\u001b[0mhttp_error_msg\u001b[0m\u001b[0;34m,\u001b[0m \u001b[0mresponse\u001b[0m\u001b[0;34m=\u001b[0m\u001b[0mself\u001b[0m\u001b[0;34m)\u001b[0m\u001b[0;34m\u001b[0m\u001b[0m\n\u001b[0m\u001b[1;32m    936\u001b[0m \u001b[0;34m\u001b[0m\u001b[0m\n\u001b[1;32m    937\u001b[0m     \u001b[0;32mdef\u001b[0m \u001b[0mclose\u001b[0m\u001b[0;34m(\u001b[0m\u001b[0mself\u001b[0m\u001b[0;34m)\u001b[0m\u001b[0;34m:\u001b[0m\u001b[0;34m\u001b[0m\u001b[0m\n",
         "\u001b[0;31mHTTPError\u001b[0m: 422 Client Error: Unprocessable Entity for url: https://testing.sysmo-db.org/studies"
        ]
       }
      ],
      "source": "WO.request()\n# HTTPError: 401 Client Error: Unauthorized for url: https://testing.sysmo-db.org/assays\n# 422 Client Error: Unprocessable Entity for url: https://testing.sysmo-db.org/assays\n# 401 Client Error: Unauthorized for url: https://testing.sysmo-db.org/assays\n\n# JUST ENOUGH \n\n# file version vs new file",
      "start_time": "2019-03-25T10:45:18.621Z"
     },
     {
      "end_time": "2019-03-25T10:46:02.014Z",
      "execution_time": "343ms",
      "outputs": [
       {
        "ename": "HTTPError",
        "evalue": "422 Client Error: Unprocessable Entity for url: https://testing.sysmo-db.org/studies",
        "output_type": "error",
        "traceback": [
         "\u001b[0;31m---------------------------------------------------------------------------\u001b[0m",
         "\u001b[0;31mHTTPError\u001b[0m                                 Traceback (most recent call last)",
         "\u001b[0;32m<ipython-input-3-55fcb232b75e>\u001b[0m in \u001b[0;36m<module>\u001b[0;34m()\u001b[0m\n\u001b[0;32m----> 1\u001b[0;31m \u001b[0mWO\u001b[0m\u001b[0;34m.\u001b[0m\u001b[0mrequest\u001b[0m\u001b[0;34m(\u001b[0m\u001b[0;34m)\u001b[0m\u001b[0;34m\u001b[0m\u001b[0m\n\u001b[0m\u001b[1;32m      2\u001b[0m \u001b[0;31m# HTTPError: 401 Client Error: Unauthorized for url: https://testing.sysmo-db.org/assays\u001b[0m\u001b[0;34m\u001b[0m\u001b[0;34m\u001b[0m\u001b[0m\n\u001b[1;32m      3\u001b[0m \u001b[0;31m# 422 Client Error: Unprocessable Entity for url: https://testing.sysmo-db.org/assays\u001b[0m\u001b[0;34m\u001b[0m\u001b[0;34m\u001b[0m\u001b[0m\n\u001b[1;32m      4\u001b[0m \u001b[0;31m# 401 Client Error: Unauthorized for url: https://testing.sysmo-db.org/assays\u001b[0m\u001b[0;34m\u001b[0m\u001b[0;34m\u001b[0m\u001b[0m\n\u001b[1;32m      5\u001b[0m \u001b[0;34m\u001b[0m\u001b[0m\n",
         "\u001b[0;32m~/Work/ThirdYear/TheSeekNotebook/WriteObject.py\u001b[0m in \u001b[0;36mrequest\u001b[0;34m(self)\u001b[0m\n\u001b[1;32m    116\u001b[0m     \u001b[0;32mdef\u001b[0m \u001b[0mrequest\u001b[0m\u001b[0;34m(\u001b[0m\u001b[0mself\u001b[0m\u001b[0;34m)\u001b[0m\u001b[0;34m:\u001b[0m\u001b[0;34m\u001b[0m\u001b[0m\n\u001b[1;32m    117\u001b[0m         \u001b[0mr\u001b[0m \u001b[0;34m=\u001b[0m \u001b[0mself\u001b[0m\u001b[0;34m.\u001b[0m\u001b[0msession\u001b[0m\u001b[0;34m.\u001b[0m\u001b[0mpost\u001b[0m\u001b[0;34m(\u001b[0m\u001b[0mself\u001b[0m\u001b[0;34m.\u001b[0m\u001b[0mbase_url\u001b[0m \u001b[0;34m+\u001b[0m \u001b[0;34m'/'\u001b[0m \u001b[0;34m+\u001b[0m \u001b[0mself\u001b[0m\u001b[0;34m.\u001b[0m\u001b[0mtype\u001b[0m\u001b[0;34m.\u001b[0m\u001b[0mvalue\u001b[0m\u001b[0;34m,\u001b[0m \u001b[0mjson\u001b[0m\u001b[0;34m=\u001b[0m\u001b[0mself\u001b[0m\u001b[0;34m.\u001b[0m\u001b[0mJSON\u001b[0m\u001b[0;34m)\u001b[0m\u001b[0;34m\u001b[0m\u001b[0m\n\u001b[0;32m--> 118\u001b[0;31m         \u001b[0mr\u001b[0m\u001b[0;34m.\u001b[0m\u001b[0mraise_for_status\u001b[0m\u001b[0;34m(\u001b[0m\u001b[0;34m)\u001b[0m\u001b[0;34m\u001b[0m\u001b[0m\n\u001b[0m\u001b[1;32m    119\u001b[0m         \u001b[0mself\u001b[0m\u001b[0;34m.\u001b[0m\u001b[0mjson\u001b[0m \u001b[0;34m=\u001b[0m \u001b[0mr\u001b[0m\u001b[0;34m.\u001b[0m\u001b[0mjson\u001b[0m\u001b[0;34m(\u001b[0m\u001b[0;34m)\u001b[0m\u001b[0;34m\u001b[0m\u001b[0m\n\u001b[1;32m    120\u001b[0m         \u001b[0mr\u001b[0m\u001b[0;34m.\u001b[0m\u001b[0mclose\u001b[0m\u001b[0;34m(\u001b[0m\u001b[0;34m)\u001b[0m\u001b[0;34m\u001b[0m\u001b[0m\n",
         "\u001b[0;32m~/anaconda3/lib/python3.6/site-packages/requests/models.py\u001b[0m in \u001b[0;36mraise_for_status\u001b[0;34m(self)\u001b[0m\n\u001b[1;32m    933\u001b[0m \u001b[0;34m\u001b[0m\u001b[0m\n\u001b[1;32m    934\u001b[0m         \u001b[0;32mif\u001b[0m \u001b[0mhttp_error_msg\u001b[0m\u001b[0;34m:\u001b[0m\u001b[0;34m\u001b[0m\u001b[0m\n\u001b[0;32m--> 935\u001b[0;31m             \u001b[0;32mraise\u001b[0m \u001b[0mHTTPError\u001b[0m\u001b[0;34m(\u001b[0m\u001b[0mhttp_error_msg\u001b[0m\u001b[0;34m,\u001b[0m \u001b[0mresponse\u001b[0m\u001b[0;34m=\u001b[0m\u001b[0mself\u001b[0m\u001b[0;34m)\u001b[0m\u001b[0;34m\u001b[0m\u001b[0m\n\u001b[0m\u001b[1;32m    936\u001b[0m \u001b[0;34m\u001b[0m\u001b[0m\n\u001b[1;32m    937\u001b[0m     \u001b[0;32mdef\u001b[0m \u001b[0mclose\u001b[0m\u001b[0;34m(\u001b[0m\u001b[0mself\u001b[0m\u001b[0;34m)\u001b[0m\u001b[0;34m:\u001b[0m\u001b[0;34m\u001b[0m\u001b[0m\n",
         "\u001b[0;31mHTTPError\u001b[0m: 422 Client Error: Unprocessable Entity for url: https://testing.sysmo-db.org/studies"
        ]
       }
      ],
      "source": "WO.request()\n# HTTPError: 401 Client Error: Unauthorized for url: https://testing.sysmo-db.org/assays\n# 422 Client Error: Unprocessable Entity for url: https://testing.sysmo-db.org/assays\n# 401 Client Error: Unauthorized for url: https://testing.sysmo-db.org/assays\n\n# JUST ENOUGH \n\n# file version vs new file",
      "start_time": "2019-03-25T10:46:01.671Z"
     },
     {
      "end_time": "2019-03-25T10:47:17.751Z",
      "execution_time": "684ms",
      "outputs": [],
      "source": "WO.request()\n# HTTPError: 401 Client Error: Unauthorized for url: https://testing.sysmo-db.org/assays\n# 422 Client Error: Unprocessable Entity for url: https://testing.sysmo-db.org/assays\n# 401 Client Error: Unauthorized for url: https://testing.sysmo-db.org/assays\n\n# JUST ENOUGH \n\n# file version vs new file",
      "start_time": "2019-03-25T10:47:17.067Z"
     },
     {
      "end_time": "2019-03-25T10:54:06.508Z",
      "execution_time": "321ms",
      "outputs": [
       {
        "ename": "HTTPError",
        "evalue": "422 Client Error: Unprocessable Entity for url: https://testing.sysmo-db.org/investigations",
        "output_type": "error",
        "traceback": [
         "\u001b[0;31m---------------------------------------------------------------------------\u001b[0m",
         "\u001b[0;31mHTTPError\u001b[0m                                 Traceback (most recent call last)",
         "\u001b[0;32m<ipython-input-4-55fcb232b75e>\u001b[0m in \u001b[0;36m<module>\u001b[0;34m()\u001b[0m\n\u001b[0;32m----> 1\u001b[0;31m \u001b[0mWO\u001b[0m\u001b[0;34m.\u001b[0m\u001b[0mrequest\u001b[0m\u001b[0;34m(\u001b[0m\u001b[0;34m)\u001b[0m\u001b[0;34m\u001b[0m\u001b[0m\n\u001b[0m\u001b[1;32m      2\u001b[0m \u001b[0;31m# HTTPError: 401 Client Error: Unauthorized for url: https://testing.sysmo-db.org/assays\u001b[0m\u001b[0;34m\u001b[0m\u001b[0;34m\u001b[0m\u001b[0m\n\u001b[1;32m      3\u001b[0m \u001b[0;31m# 422 Client Error: Unprocessable Entity for url: https://testing.sysmo-db.org/assays\u001b[0m\u001b[0;34m\u001b[0m\u001b[0;34m\u001b[0m\u001b[0m\n\u001b[1;32m      4\u001b[0m \u001b[0;31m# 401 Client Error: Unauthorized for url: https://testing.sysmo-db.org/assays\u001b[0m\u001b[0;34m\u001b[0m\u001b[0;34m\u001b[0m\u001b[0m\n\u001b[1;32m      5\u001b[0m \u001b[0;34m\u001b[0m\u001b[0m\n",
         "\u001b[0;32m~/Work/ThirdYear/TheSeekNotebook/WriteObject.py\u001b[0m in \u001b[0;36mrequest\u001b[0;34m(self)\u001b[0m\n\u001b[1;32m    116\u001b[0m     \u001b[0;32mdef\u001b[0m \u001b[0mrequest\u001b[0m\u001b[0;34m(\u001b[0m\u001b[0mself\u001b[0m\u001b[0;34m)\u001b[0m\u001b[0;34m:\u001b[0m\u001b[0;34m\u001b[0m\u001b[0m\n\u001b[1;32m    117\u001b[0m         \u001b[0mr\u001b[0m \u001b[0;34m=\u001b[0m \u001b[0mself\u001b[0m\u001b[0;34m.\u001b[0m\u001b[0msession\u001b[0m\u001b[0;34m.\u001b[0m\u001b[0mpost\u001b[0m\u001b[0;34m(\u001b[0m\u001b[0mself\u001b[0m\u001b[0;34m.\u001b[0m\u001b[0mbase_url\u001b[0m \u001b[0;34m+\u001b[0m \u001b[0;34m'/'\u001b[0m \u001b[0;34m+\u001b[0m \u001b[0mself\u001b[0m\u001b[0;34m.\u001b[0m\u001b[0mtype\u001b[0m\u001b[0;34m.\u001b[0m\u001b[0mvalue\u001b[0m\u001b[0;34m,\u001b[0m \u001b[0mjson\u001b[0m\u001b[0;34m=\u001b[0m\u001b[0mself\u001b[0m\u001b[0;34m.\u001b[0m\u001b[0mJSON\u001b[0m\u001b[0;34m)\u001b[0m\u001b[0;34m\u001b[0m\u001b[0m\n\u001b[0;32m--> 118\u001b[0;31m         \u001b[0mr\u001b[0m\u001b[0;34m.\u001b[0m\u001b[0mraise_for_status\u001b[0m\u001b[0;34m(\u001b[0m\u001b[0;34m)\u001b[0m\u001b[0;34m\u001b[0m\u001b[0m\n\u001b[0m\u001b[1;32m    119\u001b[0m         \u001b[0mself\u001b[0m\u001b[0;34m.\u001b[0m\u001b[0mjson\u001b[0m \u001b[0;34m=\u001b[0m \u001b[0mr\u001b[0m\u001b[0;34m.\u001b[0m\u001b[0mjson\u001b[0m\u001b[0;34m(\u001b[0m\u001b[0;34m)\u001b[0m\u001b[0;34m\u001b[0m\u001b[0m\n\u001b[1;32m    120\u001b[0m         \u001b[0mr\u001b[0m\u001b[0;34m.\u001b[0m\u001b[0mclose\u001b[0m\u001b[0;34m(\u001b[0m\u001b[0;34m)\u001b[0m\u001b[0;34m\u001b[0m\u001b[0m\n",
         "\u001b[0;32m~/anaconda3/lib/python3.6/site-packages/requests/models.py\u001b[0m in \u001b[0;36mraise_for_status\u001b[0;34m(self)\u001b[0m\n\u001b[1;32m    933\u001b[0m \u001b[0;34m\u001b[0m\u001b[0m\n\u001b[1;32m    934\u001b[0m         \u001b[0;32mif\u001b[0m \u001b[0mhttp_error_msg\u001b[0m\u001b[0;34m:\u001b[0m\u001b[0;34m\u001b[0m\u001b[0m\n\u001b[0;32m--> 935\u001b[0;31m             \u001b[0;32mraise\u001b[0m \u001b[0mHTTPError\u001b[0m\u001b[0;34m(\u001b[0m\u001b[0mhttp_error_msg\u001b[0m\u001b[0;34m,\u001b[0m \u001b[0mresponse\u001b[0m\u001b[0;34m=\u001b[0m\u001b[0mself\u001b[0m\u001b[0;34m)\u001b[0m\u001b[0;34m\u001b[0m\u001b[0m\n\u001b[0m\u001b[1;32m    936\u001b[0m \u001b[0;34m\u001b[0m\u001b[0m\n\u001b[1;32m    937\u001b[0m     \u001b[0;32mdef\u001b[0m \u001b[0mclose\u001b[0m\u001b[0;34m(\u001b[0m\u001b[0mself\u001b[0m\u001b[0;34m)\u001b[0m\u001b[0;34m:\u001b[0m\u001b[0;34m\u001b[0m\u001b[0m\n",
         "\u001b[0;31mHTTPError\u001b[0m: 422 Client Error: Unprocessable Entity for url: https://testing.sysmo-db.org/investigations"
        ]
       }
      ],
      "source": "WO.request()\n# HTTPError: 401 Client Error: Unauthorized for url: https://testing.sysmo-db.org/assays\n# 422 Client Error: Unprocessable Entity for url: https://testing.sysmo-db.org/assays\n# 401 Client Error: Unauthorized for url: https://testing.sysmo-db.org/assays\n\n# JUST ENOUGH \n\n# file version vs new file",
      "start_time": "2019-03-25T10:54:06.187Z"
     },
     {
      "end_time": "2019-03-25T10:58:39.074Z",
      "execution_time": "586ms",
      "outputs": [],
      "source": "WO.request()\n# HTTPError: 401 Client Error: Unauthorized for url: https://testing.sysmo-db.org/assays\n# 422 Client Error: Unprocessable Entity for url: https://testing.sysmo-db.org/assays\n# 401 Client Error: Unauthorized for url: https://testing.sysmo-db.org/assays\n\n# JUST ENOUGH \n\n# file version vs new file",
      "start_time": "2019-03-25T10:58:38.488Z"
     },
     {
      "end_time": "2019-03-25T11:00:04.224Z",
      "execution_time": "234ms",
      "outputs": [
       {
        "ename": "HTTPError",
        "evalue": "422 Client Error: Unprocessable Entity for url: https://testing.sysmo-db.org/studies",
        "output_type": "error",
        "traceback": [
         "\u001b[0;31m---------------------------------------------------------------------------\u001b[0m",
         "\u001b[0;31mHTTPError\u001b[0m                                 Traceback (most recent call last)",
         "\u001b[0;32m<ipython-input-10-55fcb232b75e>\u001b[0m in \u001b[0;36m<module>\u001b[0;34m()\u001b[0m\n\u001b[0;32m----> 1\u001b[0;31m \u001b[0mWO\u001b[0m\u001b[0;34m.\u001b[0m\u001b[0mrequest\u001b[0m\u001b[0;34m(\u001b[0m\u001b[0;34m)\u001b[0m\u001b[0;34m\u001b[0m\u001b[0m\n\u001b[0m\u001b[1;32m      2\u001b[0m \u001b[0;31m# HTTPError: 401 Client Error: Unauthorized for url: https://testing.sysmo-db.org/assays\u001b[0m\u001b[0;34m\u001b[0m\u001b[0;34m\u001b[0m\u001b[0m\n\u001b[1;32m      3\u001b[0m \u001b[0;31m# 422 Client Error: Unprocessable Entity for url: https://testing.sysmo-db.org/assays\u001b[0m\u001b[0;34m\u001b[0m\u001b[0;34m\u001b[0m\u001b[0m\n\u001b[1;32m      4\u001b[0m \u001b[0;31m# 401 Client Error: Unauthorized for url: https://testing.sysmo-db.org/assays\u001b[0m\u001b[0;34m\u001b[0m\u001b[0;34m\u001b[0m\u001b[0m\n\u001b[1;32m      5\u001b[0m \u001b[0;34m\u001b[0m\u001b[0m\n",
         "\u001b[0;32m~/Work/ThirdYear/TheSeekNotebook/WriteObject.py\u001b[0m in \u001b[0;36mrequest\u001b[0;34m(self)\u001b[0m\n\u001b[1;32m    116\u001b[0m     \u001b[0;32mdef\u001b[0m \u001b[0mrequest\u001b[0m\u001b[0;34m(\u001b[0m\u001b[0mself\u001b[0m\u001b[0;34m)\u001b[0m\u001b[0;34m:\u001b[0m\u001b[0;34m\u001b[0m\u001b[0m\n\u001b[1;32m    117\u001b[0m         \u001b[0mr\u001b[0m \u001b[0;34m=\u001b[0m \u001b[0mself\u001b[0m\u001b[0;34m.\u001b[0m\u001b[0msession\u001b[0m\u001b[0;34m.\u001b[0m\u001b[0mpost\u001b[0m\u001b[0;34m(\u001b[0m\u001b[0mself\u001b[0m\u001b[0;34m.\u001b[0m\u001b[0mbase_url\u001b[0m \u001b[0;34m+\u001b[0m \u001b[0;34m'/'\u001b[0m \u001b[0;34m+\u001b[0m \u001b[0mself\u001b[0m\u001b[0;34m.\u001b[0m\u001b[0mtype\u001b[0m\u001b[0;34m.\u001b[0m\u001b[0mvalue\u001b[0m\u001b[0;34m,\u001b[0m \u001b[0mjson\u001b[0m\u001b[0;34m=\u001b[0m\u001b[0mself\u001b[0m\u001b[0;34m.\u001b[0m\u001b[0mJSON\u001b[0m\u001b[0;34m)\u001b[0m\u001b[0;34m\u001b[0m\u001b[0m\n\u001b[0;32m--> 118\u001b[0;31m         \u001b[0mr\u001b[0m\u001b[0;34m.\u001b[0m\u001b[0mraise_for_status\u001b[0m\u001b[0;34m(\u001b[0m\u001b[0;34m)\u001b[0m\u001b[0;34m\u001b[0m\u001b[0m\n\u001b[0m\u001b[1;32m    119\u001b[0m         \u001b[0mself\u001b[0m\u001b[0;34m.\u001b[0m\u001b[0mjson\u001b[0m \u001b[0;34m=\u001b[0m \u001b[0mr\u001b[0m\u001b[0;34m.\u001b[0m\u001b[0mjson\u001b[0m\u001b[0;34m(\u001b[0m\u001b[0;34m)\u001b[0m\u001b[0;34m\u001b[0m\u001b[0m\n\u001b[1;32m    120\u001b[0m         \u001b[0mr\u001b[0m\u001b[0;34m.\u001b[0m\u001b[0mclose\u001b[0m\u001b[0;34m(\u001b[0m\u001b[0;34m)\u001b[0m\u001b[0;34m\u001b[0m\u001b[0m\n",
         "\u001b[0;32m~/anaconda3/lib/python3.6/site-packages/requests/models.py\u001b[0m in \u001b[0;36mraise_for_status\u001b[0;34m(self)\u001b[0m\n\u001b[1;32m    933\u001b[0m \u001b[0;34m\u001b[0m\u001b[0m\n\u001b[1;32m    934\u001b[0m         \u001b[0;32mif\u001b[0m \u001b[0mhttp_error_msg\u001b[0m\u001b[0;34m:\u001b[0m\u001b[0;34m\u001b[0m\u001b[0m\n\u001b[0;32m--> 935\u001b[0;31m             \u001b[0;32mraise\u001b[0m \u001b[0mHTTPError\u001b[0m\u001b[0;34m(\u001b[0m\u001b[0mhttp_error_msg\u001b[0m\u001b[0;34m,\u001b[0m \u001b[0mresponse\u001b[0m\u001b[0;34m=\u001b[0m\u001b[0mself\u001b[0m\u001b[0;34m)\u001b[0m\u001b[0;34m\u001b[0m\u001b[0m\n\u001b[0m\u001b[1;32m    936\u001b[0m \u001b[0;34m\u001b[0m\u001b[0m\n\u001b[1;32m    937\u001b[0m     \u001b[0;32mdef\u001b[0m \u001b[0mclose\u001b[0m\u001b[0;34m(\u001b[0m\u001b[0mself\u001b[0m\u001b[0;34m)\u001b[0m\u001b[0;34m:\u001b[0m\u001b[0;34m\u001b[0m\u001b[0m\n",
         "\u001b[0;31mHTTPError\u001b[0m: 422 Client Error: Unprocessable Entity for url: https://testing.sysmo-db.org/studies"
        ]
       }
      ],
      "source": "WO.request()\n# HTTPError: 401 Client Error: Unauthorized for url: https://testing.sysmo-db.org/assays\n# 422 Client Error: Unprocessable Entity for url: https://testing.sysmo-db.org/assays\n# 401 Client Error: Unauthorized for url: https://testing.sysmo-db.org/assays\n\n# JUST ENOUGH \n\n# file version vs new file",
      "start_time": "2019-03-25T11:00:03.990Z"
     },
     {
      "end_time": "2019-03-25T11:02:06.815Z",
      "execution_time": "343ms",
      "outputs": [
       {
        "ename": "HTTPError",
        "evalue": "422 Client Error: Unprocessable Entity for url: https://testing.sysmo-db.org/studies",
        "output_type": "error",
        "traceback": [
         "\u001b[0;31m---------------------------------------------------------------------------\u001b[0m",
         "\u001b[0;31mHTTPError\u001b[0m                                 Traceback (most recent call last)",
         "\u001b[0;32m<ipython-input-3-55fcb232b75e>\u001b[0m in \u001b[0;36m<module>\u001b[0;34m()\u001b[0m\n\u001b[0;32m----> 1\u001b[0;31m \u001b[0mWO\u001b[0m\u001b[0;34m.\u001b[0m\u001b[0mrequest\u001b[0m\u001b[0;34m(\u001b[0m\u001b[0;34m)\u001b[0m\u001b[0;34m\u001b[0m\u001b[0m\n\u001b[0m\u001b[1;32m      2\u001b[0m \u001b[0;31m# HTTPError: 401 Client Error: Unauthorized for url: https://testing.sysmo-db.org/assays\u001b[0m\u001b[0;34m\u001b[0m\u001b[0;34m\u001b[0m\u001b[0m\n\u001b[1;32m      3\u001b[0m \u001b[0;31m# 422 Client Error: Unprocessable Entity for url: https://testing.sysmo-db.org/assays\u001b[0m\u001b[0;34m\u001b[0m\u001b[0;34m\u001b[0m\u001b[0m\n\u001b[1;32m      4\u001b[0m \u001b[0;31m# 401 Client Error: Unauthorized for url: https://testing.sysmo-db.org/assays\u001b[0m\u001b[0;34m\u001b[0m\u001b[0;34m\u001b[0m\u001b[0m\n\u001b[1;32m      5\u001b[0m \u001b[0;34m\u001b[0m\u001b[0m\n",
         "\u001b[0;32m~/Work/ThirdYear/TheSeekNotebook/WriteObject.py\u001b[0m in \u001b[0;36mrequest\u001b[0;34m(self)\u001b[0m\n\u001b[1;32m    116\u001b[0m     \u001b[0;32mdef\u001b[0m \u001b[0mrequest\u001b[0m\u001b[0;34m(\u001b[0m\u001b[0mself\u001b[0m\u001b[0;34m)\u001b[0m\u001b[0;34m:\u001b[0m\u001b[0;34m\u001b[0m\u001b[0m\n\u001b[1;32m    117\u001b[0m         \u001b[0mr\u001b[0m \u001b[0;34m=\u001b[0m \u001b[0mself\u001b[0m\u001b[0;34m.\u001b[0m\u001b[0msession\u001b[0m\u001b[0;34m.\u001b[0m\u001b[0mpost\u001b[0m\u001b[0;34m(\u001b[0m\u001b[0mself\u001b[0m\u001b[0;34m.\u001b[0m\u001b[0mbase_url\u001b[0m \u001b[0;34m+\u001b[0m \u001b[0;34m'/'\u001b[0m \u001b[0;34m+\u001b[0m \u001b[0mself\u001b[0m\u001b[0;34m.\u001b[0m\u001b[0mtype\u001b[0m\u001b[0;34m.\u001b[0m\u001b[0mvalue\u001b[0m\u001b[0;34m,\u001b[0m \u001b[0mjson\u001b[0m\u001b[0;34m=\u001b[0m\u001b[0mself\u001b[0m\u001b[0;34m.\u001b[0m\u001b[0mJSON\u001b[0m\u001b[0;34m)\u001b[0m\u001b[0;34m\u001b[0m\u001b[0m\n\u001b[0;32m--> 118\u001b[0;31m         \u001b[0mr\u001b[0m\u001b[0;34m.\u001b[0m\u001b[0mraise_for_status\u001b[0m\u001b[0;34m(\u001b[0m\u001b[0;34m)\u001b[0m\u001b[0;34m\u001b[0m\u001b[0m\n\u001b[0m\u001b[1;32m    119\u001b[0m         \u001b[0mself\u001b[0m\u001b[0;34m.\u001b[0m\u001b[0mjson\u001b[0m \u001b[0;34m=\u001b[0m \u001b[0mr\u001b[0m\u001b[0;34m.\u001b[0m\u001b[0mjson\u001b[0m\u001b[0;34m(\u001b[0m\u001b[0;34m)\u001b[0m\u001b[0;34m\u001b[0m\u001b[0m\n\u001b[1;32m    120\u001b[0m         \u001b[0mr\u001b[0m\u001b[0;34m.\u001b[0m\u001b[0mclose\u001b[0m\u001b[0;34m(\u001b[0m\u001b[0;34m)\u001b[0m\u001b[0;34m\u001b[0m\u001b[0m\n",
         "\u001b[0;32m~/anaconda3/lib/python3.6/site-packages/requests/models.py\u001b[0m in \u001b[0;36mraise_for_status\u001b[0;34m(self)\u001b[0m\n\u001b[1;32m    933\u001b[0m \u001b[0;34m\u001b[0m\u001b[0m\n\u001b[1;32m    934\u001b[0m         \u001b[0;32mif\u001b[0m \u001b[0mhttp_error_msg\u001b[0m\u001b[0;34m:\u001b[0m\u001b[0;34m\u001b[0m\u001b[0m\n\u001b[0;32m--> 935\u001b[0;31m             \u001b[0;32mraise\u001b[0m \u001b[0mHTTPError\u001b[0m\u001b[0;34m(\u001b[0m\u001b[0mhttp_error_msg\u001b[0m\u001b[0;34m,\u001b[0m \u001b[0mresponse\u001b[0m\u001b[0;34m=\u001b[0m\u001b[0mself\u001b[0m\u001b[0;34m)\u001b[0m\u001b[0;34m\u001b[0m\u001b[0m\n\u001b[0m\u001b[1;32m    936\u001b[0m \u001b[0;34m\u001b[0m\u001b[0m\n\u001b[1;32m    937\u001b[0m     \u001b[0;32mdef\u001b[0m \u001b[0mclose\u001b[0m\u001b[0;34m(\u001b[0m\u001b[0mself\u001b[0m\u001b[0;34m)\u001b[0m\u001b[0;34m:\u001b[0m\u001b[0;34m\u001b[0m\u001b[0m\n",
         "\u001b[0;31mHTTPError\u001b[0m: 422 Client Error: Unprocessable Entity for url: https://testing.sysmo-db.org/studies"
        ]
       }
      ],
      "source": "WO.request()\n# HTTPError: 401 Client Error: Unauthorized for url: https://testing.sysmo-db.org/assays\n# 422 Client Error: Unprocessable Entity for url: https://testing.sysmo-db.org/assays\n# 401 Client Error: Unauthorized for url: https://testing.sysmo-db.org/assays\n\n# JUST ENOUGH \n\n# file version vs new file",
      "start_time": "2019-03-25T11:02:06.472Z"
     },
     {
      "end_time": "2019-03-25T11:04:51.093Z",
      "execution_time": "730ms",
      "outputs": [],
      "source": "WO.request()\n# HTTPError: 401 Client Error: Unauthorized for url: https://testing.sysmo-db.org/assays\n# 422 Client Error: Unprocessable Entity for url: https://testing.sysmo-db.org/assays\n# 401 Client Error: Unauthorized for url: https://testing.sysmo-db.org/assays\n\n# JUST ENOUGH \n\n# file version vs new file",
      "start_time": "2019-03-25T11:04:50.363Z"
     },
     {
      "end_time": "2019-03-25T11:09:57.673Z",
      "execution_time": "716ms",
      "outputs": [],
      "source": "WO.request()\n# HTTPError: 401 Client Error: Unauthorized for url: https://testing.sysmo-db.org/assays\n# 422 Client Error: Unprocessable Entity for url: https://testing.sysmo-db.org/assays\n# 401 Client Error: Unauthorized for url: https://testing.sysmo-db.org/assays\n\n# JUST ENOUGH \n\n# file version vs new file",
      "start_time": "2019-03-25T11:09:56.957Z"
     },
     {
      "end_time": "2019-03-25T11:15:00.178Z",
      "execution_time": "633ms",
      "outputs": [],
      "source": "WO.request()\n# HTTPError: 401 Client Error: Unauthorized for url: https://testing.sysmo-db.org/assays\n# 422 Client Error: Unprocessable Entity for url: https://testing.sysmo-db.org/assays\n# 401 Client Error: Unauthorized for url: https://testing.sysmo-db.org/assays\n\n# JUST ENOUGH \n\n# file version vs new file",
      "start_time": "2019-03-25T11:14:59.545Z"
     },
     {
      "end_time": "2019-03-25T11:26:14.790Z",
      "execution_time": "622ms",
      "outputs": [],
      "source": "WO.request()\n# JUST ENOUGH \n\n# file version vs new file",
      "start_time": "2019-03-25T11:26:14.168Z"
     },
     {
      "end_time": "2019-03-25T11:28:32.847Z",
      "execution_time": "244ms",
      "outputs": [
       {
        "ename": "ConnectionError",
        "evalue": "HTTPSConnectionPool(host='testing.sysmo-db.org', port=443): Max retries exceeded with url: /assays (Caused by NewConnectionError('<urllib3.connection.VerifiedHTTPSConnection object at 0x7f02f378ebe0>: Failed to establish a new connection: [Errno -2] Name or service not known',))",
        "output_type": "error",
        "traceback": [
         "\u001b[0;31m---------------------------------------------------------------------------\u001b[0m",
         "\u001b[0;31mgaierror\u001b[0m                                  Traceback (most recent call last)",
         "\u001b[0;32m~/anaconda3/lib/python3.6/site-packages/urllib3/connection.py\u001b[0m in \u001b[0;36m_new_conn\u001b[0;34m(self)\u001b[0m\n\u001b[1;32m    140\u001b[0m             conn = connection.create_connection(\n\u001b[0;32m--> 141\u001b[0;31m                 (self.host, self.port), self.timeout, **extra_kw)\n\u001b[0m\u001b[1;32m    142\u001b[0m \u001b[0;34m\u001b[0m\u001b[0m\n",
         "\u001b[0;32m~/anaconda3/lib/python3.6/site-packages/urllib3/util/connection.py\u001b[0m in \u001b[0;36mcreate_connection\u001b[0;34m(address, timeout, source_address, socket_options)\u001b[0m\n\u001b[1;32m     59\u001b[0m \u001b[0;34m\u001b[0m\u001b[0m\n\u001b[0;32m---> 60\u001b[0;31m     \u001b[0;32mfor\u001b[0m \u001b[0mres\u001b[0m \u001b[0;32min\u001b[0m \u001b[0msocket\u001b[0m\u001b[0;34m.\u001b[0m\u001b[0mgetaddrinfo\u001b[0m\u001b[0;34m(\u001b[0m\u001b[0mhost\u001b[0m\u001b[0;34m,\u001b[0m \u001b[0mport\u001b[0m\u001b[0;34m,\u001b[0m \u001b[0mfamily\u001b[0m\u001b[0;34m,\u001b[0m \u001b[0msocket\u001b[0m\u001b[0;34m.\u001b[0m\u001b[0mSOCK_STREAM\u001b[0m\u001b[0;34m)\u001b[0m\u001b[0;34m:\u001b[0m\u001b[0;34m\u001b[0m\u001b[0m\n\u001b[0m\u001b[1;32m     61\u001b[0m         \u001b[0maf\u001b[0m\u001b[0;34m,\u001b[0m \u001b[0msocktype\u001b[0m\u001b[0;34m,\u001b[0m \u001b[0mproto\u001b[0m\u001b[0;34m,\u001b[0m \u001b[0mcanonname\u001b[0m\u001b[0;34m,\u001b[0m \u001b[0msa\u001b[0m \u001b[0;34m=\u001b[0m \u001b[0mres\u001b[0m\u001b[0;34m\u001b[0m\u001b[0m\n",
         "\u001b[0;32m~/anaconda3/lib/python3.6/socket.py\u001b[0m in \u001b[0;36mgetaddrinfo\u001b[0;34m(host, port, family, type, proto, flags)\u001b[0m\n\u001b[1;32m    744\u001b[0m     \u001b[0maddrlist\u001b[0m \u001b[0;34m=\u001b[0m \u001b[0;34m[\u001b[0m\u001b[0;34m]\u001b[0m\u001b[0;34m\u001b[0m\u001b[0m\n\u001b[0;32m--> 745\u001b[0;31m     \u001b[0;32mfor\u001b[0m \u001b[0mres\u001b[0m \u001b[0;32min\u001b[0m \u001b[0m_socket\u001b[0m\u001b[0;34m.\u001b[0m\u001b[0mgetaddrinfo\u001b[0m\u001b[0;34m(\u001b[0m\u001b[0mhost\u001b[0m\u001b[0;34m,\u001b[0m \u001b[0mport\u001b[0m\u001b[0;34m,\u001b[0m \u001b[0mfamily\u001b[0m\u001b[0;34m,\u001b[0m \u001b[0mtype\u001b[0m\u001b[0;34m,\u001b[0m \u001b[0mproto\u001b[0m\u001b[0;34m,\u001b[0m \u001b[0mflags\u001b[0m\u001b[0;34m)\u001b[0m\u001b[0;34m:\u001b[0m\u001b[0;34m\u001b[0m\u001b[0m\n\u001b[0m\u001b[1;32m    746\u001b[0m         \u001b[0maf\u001b[0m\u001b[0;34m,\u001b[0m \u001b[0msocktype\u001b[0m\u001b[0;34m,\u001b[0m \u001b[0mproto\u001b[0m\u001b[0;34m,\u001b[0m \u001b[0mcanonname\u001b[0m\u001b[0;34m,\u001b[0m \u001b[0msa\u001b[0m \u001b[0;34m=\u001b[0m \u001b[0mres\u001b[0m\u001b[0;34m\u001b[0m\u001b[0m\n",
         "\u001b[0;31mgaierror\u001b[0m: [Errno -2] Name or service not known",
         "\nDuring handling of the above exception, another exception occurred:\n",
         "\u001b[0;31mNewConnectionError\u001b[0m                        Traceback (most recent call last)",
         "\u001b[0;32m~/anaconda3/lib/python3.6/site-packages/urllib3/connectionpool.py\u001b[0m in \u001b[0;36murlopen\u001b[0;34m(self, method, url, body, headers, retries, redirect, assert_same_host, timeout, pool_timeout, release_conn, chunked, body_pos, **response_kw)\u001b[0m\n\u001b[1;32m    600\u001b[0m                                                   \u001b[0mbody\u001b[0m\u001b[0;34m=\u001b[0m\u001b[0mbody\u001b[0m\u001b[0;34m,\u001b[0m \u001b[0mheaders\u001b[0m\u001b[0;34m=\u001b[0m\u001b[0mheaders\u001b[0m\u001b[0;34m,\u001b[0m\u001b[0;34m\u001b[0m\u001b[0m\n\u001b[0;32m--> 601\u001b[0;31m                                                   chunked=chunked)\n\u001b[0m\u001b[1;32m    602\u001b[0m \u001b[0;34m\u001b[0m\u001b[0m\n",
         "\u001b[0;32m~/anaconda3/lib/python3.6/site-packages/urllib3/connectionpool.py\u001b[0m in \u001b[0;36m_make_request\u001b[0;34m(self, conn, method, url, timeout, chunked, **httplib_request_kw)\u001b[0m\n\u001b[1;32m    345\u001b[0m         \u001b[0;32mtry\u001b[0m\u001b[0;34m:\u001b[0m\u001b[0;34m\u001b[0m\u001b[0m\n\u001b[0;32m--> 346\u001b[0;31m             \u001b[0mself\u001b[0m\u001b[0;34m.\u001b[0m\u001b[0m_validate_conn\u001b[0m\u001b[0;34m(\u001b[0m\u001b[0mconn\u001b[0m\u001b[0;34m)\u001b[0m\u001b[0;34m\u001b[0m\u001b[0m\n\u001b[0m\u001b[1;32m    347\u001b[0m         \u001b[0;32mexcept\u001b[0m \u001b[0;34m(\u001b[0m\u001b[0mSocketTimeout\u001b[0m\u001b[0;34m,\u001b[0m \u001b[0mBaseSSLError\u001b[0m\u001b[0;34m)\u001b[0m \u001b[0;32mas\u001b[0m \u001b[0me\u001b[0m\u001b[0;34m:\u001b[0m\u001b[0;34m\u001b[0m\u001b[0m\n",
         "\u001b[0;32m~/anaconda3/lib/python3.6/site-packages/urllib3/connectionpool.py\u001b[0m in \u001b[0;36m_validate_conn\u001b[0;34m(self, conn)\u001b[0m\n\u001b[1;32m    849\u001b[0m         \u001b[0;32mif\u001b[0m \u001b[0;32mnot\u001b[0m \u001b[0mgetattr\u001b[0m\u001b[0;34m(\u001b[0m\u001b[0mconn\u001b[0m\u001b[0;34m,\u001b[0m \u001b[0;34m'sock'\u001b[0m\u001b[0;34m,\u001b[0m \u001b[0;32mNone\u001b[0m\u001b[0;34m)\u001b[0m\u001b[0;34m:\u001b[0m  \u001b[0;31m# AppEngine might not have  `.sock`\u001b[0m\u001b[0;34m\u001b[0m\u001b[0m\n\u001b[0;32m--> 850\u001b[0;31m             \u001b[0mconn\u001b[0m\u001b[0;34m.\u001b[0m\u001b[0mconnect\u001b[0m\u001b[0;34m(\u001b[0m\u001b[0;34m)\u001b[0m\u001b[0;34m\u001b[0m\u001b[0m\n\u001b[0m\u001b[1;32m    851\u001b[0m \u001b[0;34m\u001b[0m\u001b[0m\n",
         "\u001b[0;32m~/anaconda3/lib/python3.6/site-packages/urllib3/connection.py\u001b[0m in \u001b[0;36mconnect\u001b[0;34m(self)\u001b[0m\n\u001b[1;32m    283\u001b[0m         \u001b[0;31m# Add certificate verification\u001b[0m\u001b[0;34m\u001b[0m\u001b[0;34m\u001b[0m\u001b[0m\n\u001b[0;32m--> 284\u001b[0;31m         \u001b[0mconn\u001b[0m \u001b[0;34m=\u001b[0m \u001b[0mself\u001b[0m\u001b[0;34m.\u001b[0m\u001b[0m_new_conn\u001b[0m\u001b[0;34m(\u001b[0m\u001b[0;34m)\u001b[0m\u001b[0;34m\u001b[0m\u001b[0m\n\u001b[0m\u001b[1;32m    285\u001b[0m \u001b[0;34m\u001b[0m\u001b[0m\n",
         "\u001b[0;32m~/anaconda3/lib/python3.6/site-packages/urllib3/connection.py\u001b[0m in \u001b[0;36m_new_conn\u001b[0;34m(self)\u001b[0m\n\u001b[1;32m    149\u001b[0m             raise NewConnectionError(\n\u001b[0;32m--> 150\u001b[0;31m                 self, \"Failed to establish a new connection: %s\" % e)\n\u001b[0m\u001b[1;32m    151\u001b[0m \u001b[0;34m\u001b[0m\u001b[0m\n",
         "\u001b[0;31mNewConnectionError\u001b[0m: <urllib3.connection.VerifiedHTTPSConnection object at 0x7f02f378ebe0>: Failed to establish a new connection: [Errno -2] Name or service not known",
         "\nDuring handling of the above exception, another exception occurred:\n",
         "\u001b[0;31mMaxRetryError\u001b[0m                             Traceback (most recent call last)",
         "\u001b[0;32m~/anaconda3/lib/python3.6/site-packages/requests/adapters.py\u001b[0m in \u001b[0;36msend\u001b[0;34m(self, request, stream, timeout, verify, cert, proxies)\u001b[0m\n\u001b[1;32m    439\u001b[0m                     \u001b[0mretries\u001b[0m\u001b[0;34m=\u001b[0m\u001b[0mself\u001b[0m\u001b[0;34m.\u001b[0m\u001b[0mmax_retries\u001b[0m\u001b[0;34m,\u001b[0m\u001b[0;34m\u001b[0m\u001b[0m\n\u001b[0;32m--> 440\u001b[0;31m                     \u001b[0mtimeout\u001b[0m\u001b[0;34m=\u001b[0m\u001b[0mtimeout\u001b[0m\u001b[0;34m\u001b[0m\u001b[0m\n\u001b[0m\u001b[1;32m    441\u001b[0m                 )\n",
         "\u001b[0;32m~/anaconda3/lib/python3.6/site-packages/urllib3/connectionpool.py\u001b[0m in \u001b[0;36murlopen\u001b[0;34m(self, method, url, body, headers, retries, redirect, assert_same_host, timeout, pool_timeout, release_conn, chunked, body_pos, **response_kw)\u001b[0m\n\u001b[1;32m    638\u001b[0m             retries = retries.increment(method, url, error=e, _pool=self,\n\u001b[0;32m--> 639\u001b[0;31m                                         _stacktrace=sys.exc_info()[2])\n\u001b[0m\u001b[1;32m    640\u001b[0m             \u001b[0mretries\u001b[0m\u001b[0;34m.\u001b[0m\u001b[0msleep\u001b[0m\u001b[0;34m(\u001b[0m\u001b[0;34m)\u001b[0m\u001b[0;34m\u001b[0m\u001b[0m\n",
         "\u001b[0;32m~/anaconda3/lib/python3.6/site-packages/urllib3/util/retry.py\u001b[0m in \u001b[0;36mincrement\u001b[0;34m(self, method, url, response, error, _pool, _stacktrace)\u001b[0m\n\u001b[1;32m    387\u001b[0m         \u001b[0;32mif\u001b[0m \u001b[0mnew_retry\u001b[0m\u001b[0;34m.\u001b[0m\u001b[0mis_exhausted\u001b[0m\u001b[0;34m(\u001b[0m\u001b[0;34m)\u001b[0m\u001b[0;34m:\u001b[0m\u001b[0;34m\u001b[0m\u001b[0m\n\u001b[0;32m--> 388\u001b[0;31m             \u001b[0;32mraise\u001b[0m \u001b[0mMaxRetryError\u001b[0m\u001b[0;34m(\u001b[0m\u001b[0m_pool\u001b[0m\u001b[0;34m,\u001b[0m \u001b[0murl\u001b[0m\u001b[0;34m,\u001b[0m \u001b[0merror\u001b[0m \u001b[0;32mor\u001b[0m \u001b[0mResponseError\u001b[0m\u001b[0;34m(\u001b[0m\u001b[0mcause\u001b[0m\u001b[0;34m)\u001b[0m\u001b[0;34m)\u001b[0m\u001b[0;34m\u001b[0m\u001b[0m\n\u001b[0m\u001b[1;32m    389\u001b[0m \u001b[0;34m\u001b[0m\u001b[0m\n",
         "\u001b[0;31mMaxRetryError\u001b[0m: HTTPSConnectionPool(host='testing.sysmo-db.org', port=443): Max retries exceeded with url: /assays (Caused by NewConnectionError('<urllib3.connection.VerifiedHTTPSConnection object at 0x7f02f378ebe0>: Failed to establish a new connection: [Errno -2] Name or service not known',))",
         "\nDuring handling of the above exception, another exception occurred:\n",
         "\u001b[0;31mConnectionError\u001b[0m                           Traceback (most recent call last)",
         "\u001b[0;32m<ipython-input-5-4330c50c8ea6>\u001b[0m in \u001b[0;36m<module>\u001b[0;34m()\u001b[0m\n\u001b[0;32m----> 1\u001b[0;31m \u001b[0mWO\u001b[0m\u001b[0;34m.\u001b[0m\u001b[0mrequest\u001b[0m\u001b[0;34m(\u001b[0m\u001b[0;34m)\u001b[0m\u001b[0;34m\u001b[0m\u001b[0m\n\u001b[0m\u001b[1;32m      2\u001b[0m \u001b[0;31m# JUST ENOUGH\u001b[0m\u001b[0;34m\u001b[0m\u001b[0;34m\u001b[0m\u001b[0m\n\u001b[1;32m      3\u001b[0m \u001b[0;34m\u001b[0m\u001b[0m\n\u001b[1;32m      4\u001b[0m \u001b[0;31m# file version vs new file\u001b[0m\u001b[0;34m\u001b[0m\u001b[0;34m\u001b[0m\u001b[0m\n",
         "\u001b[0;32m~/Work/ThirdYear/TheSeekNotebook/WriteObject.py\u001b[0m in \u001b[0;36mrequest\u001b[0;34m(self)\u001b[0m\n\u001b[1;32m    116\u001b[0m \u001b[0;34m\u001b[0m\u001b[0m\n\u001b[1;32m    117\u001b[0m     \u001b[0;32mdef\u001b[0m \u001b[0mrequest\u001b[0m\u001b[0;34m(\u001b[0m\u001b[0mself\u001b[0m\u001b[0;34m)\u001b[0m\u001b[0;34m:\u001b[0m\u001b[0;34m\u001b[0m\u001b[0m\n\u001b[0;32m--> 118\u001b[0;31m         \u001b[0mr\u001b[0m \u001b[0;34m=\u001b[0m \u001b[0mself\u001b[0m\u001b[0;34m.\u001b[0m\u001b[0msession\u001b[0m\u001b[0;34m.\u001b[0m\u001b[0mpost\u001b[0m\u001b[0;34m(\u001b[0m\u001b[0mself\u001b[0m\u001b[0;34m.\u001b[0m\u001b[0mbase_url\u001b[0m \u001b[0;34m+\u001b[0m \u001b[0;34m'/'\u001b[0m \u001b[0;34m+\u001b[0m \u001b[0mself\u001b[0m\u001b[0;34m.\u001b[0m\u001b[0mtype\u001b[0m\u001b[0;34m.\u001b[0m\u001b[0mvalue\u001b[0m\u001b[0;34m,\u001b[0m \u001b[0mjson\u001b[0m\u001b[0;34m=\u001b[0m\u001b[0mself\u001b[0m\u001b[0;34m.\u001b[0m\u001b[0mJSON\u001b[0m\u001b[0;34m)\u001b[0m\u001b[0;34m\u001b[0m\u001b[0m\n\u001b[0m\u001b[1;32m    119\u001b[0m         \u001b[0mr\u001b[0m\u001b[0;34m.\u001b[0m\u001b[0mraise_for_status\u001b[0m\u001b[0;34m(\u001b[0m\u001b[0;34m)\u001b[0m\u001b[0;34m\u001b[0m\u001b[0m\n\u001b[1;32m    120\u001b[0m         \u001b[0mself\u001b[0m\u001b[0;34m.\u001b[0m\u001b[0mjson\u001b[0m \u001b[0;34m=\u001b[0m \u001b[0mr\u001b[0m\u001b[0;34m.\u001b[0m\u001b[0mjson\u001b[0m\u001b[0;34m(\u001b[0m\u001b[0;34m)\u001b[0m\u001b[0;34m\u001b[0m\u001b[0m\n",
         "\u001b[0;32m~/anaconda3/lib/python3.6/site-packages/requests/sessions.py\u001b[0m in \u001b[0;36mpost\u001b[0;34m(self, url, data, json, **kwargs)\u001b[0m\n\u001b[1;32m    553\u001b[0m         \"\"\"\n\u001b[1;32m    554\u001b[0m \u001b[0;34m\u001b[0m\u001b[0m\n\u001b[0;32m--> 555\u001b[0;31m         \u001b[0;32mreturn\u001b[0m \u001b[0mself\u001b[0m\u001b[0;34m.\u001b[0m\u001b[0mrequest\u001b[0m\u001b[0;34m(\u001b[0m\u001b[0;34m'POST'\u001b[0m\u001b[0;34m,\u001b[0m \u001b[0murl\u001b[0m\u001b[0;34m,\u001b[0m \u001b[0mdata\u001b[0m\u001b[0;34m=\u001b[0m\u001b[0mdata\u001b[0m\u001b[0;34m,\u001b[0m \u001b[0mjson\u001b[0m\u001b[0;34m=\u001b[0m\u001b[0mjson\u001b[0m\u001b[0;34m,\u001b[0m \u001b[0;34m**\u001b[0m\u001b[0mkwargs\u001b[0m\u001b[0;34m)\u001b[0m\u001b[0;34m\u001b[0m\u001b[0m\n\u001b[0m\u001b[1;32m    556\u001b[0m \u001b[0;34m\u001b[0m\u001b[0m\n\u001b[1;32m    557\u001b[0m     \u001b[0;32mdef\u001b[0m \u001b[0mput\u001b[0m\u001b[0;34m(\u001b[0m\u001b[0mself\u001b[0m\u001b[0;34m,\u001b[0m \u001b[0murl\u001b[0m\u001b[0;34m,\u001b[0m \u001b[0mdata\u001b[0m\u001b[0;34m=\u001b[0m\u001b[0;32mNone\u001b[0m\u001b[0;34m,\u001b[0m \u001b[0;34m**\u001b[0m\u001b[0mkwargs\u001b[0m\u001b[0;34m)\u001b[0m\u001b[0;34m:\u001b[0m\u001b[0;34m\u001b[0m\u001b[0m\n",
         "\u001b[0;32m~/anaconda3/lib/python3.6/site-packages/requests/sessions.py\u001b[0m in \u001b[0;36mrequest\u001b[0;34m(self, method, url, params, data, headers, cookies, files, auth, timeout, allow_redirects, proxies, hooks, stream, verify, cert, json)\u001b[0m\n\u001b[1;32m    506\u001b[0m         }\n\u001b[1;32m    507\u001b[0m         \u001b[0msend_kwargs\u001b[0m\u001b[0;34m.\u001b[0m\u001b[0mupdate\u001b[0m\u001b[0;34m(\u001b[0m\u001b[0msettings\u001b[0m\u001b[0;34m)\u001b[0m\u001b[0;34m\u001b[0m\u001b[0m\n\u001b[0;32m--> 508\u001b[0;31m         \u001b[0mresp\u001b[0m \u001b[0;34m=\u001b[0m \u001b[0mself\u001b[0m\u001b[0;34m.\u001b[0m\u001b[0msend\u001b[0m\u001b[0;34m(\u001b[0m\u001b[0mprep\u001b[0m\u001b[0;34m,\u001b[0m \u001b[0;34m**\u001b[0m\u001b[0msend_kwargs\u001b[0m\u001b[0;34m)\u001b[0m\u001b[0;34m\u001b[0m\u001b[0m\n\u001b[0m\u001b[1;32m    509\u001b[0m \u001b[0;34m\u001b[0m\u001b[0m\n\u001b[1;32m    510\u001b[0m         \u001b[0;32mreturn\u001b[0m \u001b[0mresp\u001b[0m\u001b[0;34m\u001b[0m\u001b[0m\n",
         "\u001b[0;32m~/anaconda3/lib/python3.6/site-packages/requests/sessions.py\u001b[0m in \u001b[0;36msend\u001b[0;34m(self, request, **kwargs)\u001b[0m\n\u001b[1;32m    616\u001b[0m \u001b[0;34m\u001b[0m\u001b[0m\n\u001b[1;32m    617\u001b[0m         \u001b[0;31m# Send the request\u001b[0m\u001b[0;34m\u001b[0m\u001b[0;34m\u001b[0m\u001b[0m\n\u001b[0;32m--> 618\u001b[0;31m         \u001b[0mr\u001b[0m \u001b[0;34m=\u001b[0m \u001b[0madapter\u001b[0m\u001b[0;34m.\u001b[0m\u001b[0msend\u001b[0m\u001b[0;34m(\u001b[0m\u001b[0mrequest\u001b[0m\u001b[0;34m,\u001b[0m \u001b[0;34m**\u001b[0m\u001b[0mkwargs\u001b[0m\u001b[0;34m)\u001b[0m\u001b[0;34m\u001b[0m\u001b[0m\n\u001b[0m\u001b[1;32m    619\u001b[0m \u001b[0;34m\u001b[0m\u001b[0m\n\u001b[1;32m    620\u001b[0m         \u001b[0;31m# Total elapsed time of the request (approximately)\u001b[0m\u001b[0;34m\u001b[0m\u001b[0;34m\u001b[0m\u001b[0m\n",
         "\u001b[0;32m~/anaconda3/lib/python3.6/site-packages/requests/adapters.py\u001b[0m in \u001b[0;36msend\u001b[0;34m(self, request, stream, timeout, verify, cert, proxies)\u001b[0m\n\u001b[1;32m    506\u001b[0m                 \u001b[0;32mraise\u001b[0m \u001b[0mSSLError\u001b[0m\u001b[0;34m(\u001b[0m\u001b[0me\u001b[0m\u001b[0;34m,\u001b[0m \u001b[0mrequest\u001b[0m\u001b[0;34m=\u001b[0m\u001b[0mrequest\u001b[0m\u001b[0;34m)\u001b[0m\u001b[0;34m\u001b[0m\u001b[0m\n\u001b[1;32m    507\u001b[0m \u001b[0;34m\u001b[0m\u001b[0m\n\u001b[0;32m--> 508\u001b[0;31m             \u001b[0;32mraise\u001b[0m \u001b[0mConnectionError\u001b[0m\u001b[0;34m(\u001b[0m\u001b[0me\u001b[0m\u001b[0;34m,\u001b[0m \u001b[0mrequest\u001b[0m\u001b[0;34m=\u001b[0m\u001b[0mrequest\u001b[0m\u001b[0;34m)\u001b[0m\u001b[0;34m\u001b[0m\u001b[0m\n\u001b[0m\u001b[1;32m    509\u001b[0m \u001b[0;34m\u001b[0m\u001b[0m\n\u001b[1;32m    510\u001b[0m         \u001b[0;32mexcept\u001b[0m \u001b[0mClosedPoolError\u001b[0m \u001b[0;32mas\u001b[0m \u001b[0me\u001b[0m\u001b[0;34m:\u001b[0m\u001b[0;34m\u001b[0m\u001b[0m\n",
         "\u001b[0;31mConnectionError\u001b[0m: HTTPSConnectionPool(host='testing.sysmo-db.org', port=443): Max retries exceeded with url: /assays (Caused by NewConnectionError('<urllib3.connection.VerifiedHTTPSConnection object at 0x7f02f378ebe0>: Failed to establish a new connection: [Errno -2] Name or service not known',))"
        ]
       }
      ],
      "source": "WO.request()\n# JUST ENOUGH \n\n# file version vs new file",
      "start_time": "2019-03-25T11:28:32.603Z"
     },
     {
      "end_time": "2019-03-25T11:31:41.038Z",
      "execution_time": "746ms",
      "outputs": [],
      "source": "WO.request()\n# JUST ENOUGH \n\n# file version vs new file",
      "start_time": "2019-03-25T11:31:40.292Z"
     },
     {
      "end_time": "2019-03-25T12:15:00.655Z",
      "execution_time": "607ms",
      "outputs": [
       {
        "ename": "HTTPError",
        "evalue": "422 Client Error: Unprocessable Entity for url: https://testing.sysmo-db.org/assays",
        "output_type": "error",
        "traceback": [
         "\u001b[0;31m---------------------------------------------------------------------------\u001b[0m",
         "\u001b[0;31mHTTPError\u001b[0m                                 Traceback (most recent call last)",
         "\u001b[0;32m<ipython-input-7-599f5a711dd6>\u001b[0m in \u001b[0;36m<module>\u001b[0;34m()\u001b[0m\n\u001b[0;32m----> 1\u001b[0;31m \u001b[0massay\u001b[0m\u001b[0;34m.\u001b[0m\u001b[0mpost\u001b[0m\u001b[0;34m(\u001b[0m\u001b[0;34m)\u001b[0m\u001b[0;34m\u001b[0m\u001b[0m\n\u001b[0m\u001b[1;32m      2\u001b[0m \u001b[0;31m# JUST ENOUGH\u001b[0m\u001b[0;34m\u001b[0m\u001b[0;34m\u001b[0m\u001b[0m\n\u001b[1;32m      3\u001b[0m \u001b[0;34m\u001b[0m\u001b[0m\n\u001b[1;32m      4\u001b[0m \u001b[0;31m# file version vs new file\u001b[0m\u001b[0;34m\u001b[0m\u001b[0;34m\u001b[0m\u001b[0m\n",
         "\u001b[0;32m~/Work/ThirdYear/TheSeekNotebook/WriteObject.py\u001b[0m in \u001b[0;36mpost\u001b[0;34m(self)\u001b[0m\n\u001b[1;32m    118\u001b[0m     \u001b[0;32mdef\u001b[0m \u001b[0mpost\u001b[0m\u001b[0;34m(\u001b[0m\u001b[0mself\u001b[0m\u001b[0;34m)\u001b[0m\u001b[0;34m:\u001b[0m\u001b[0;34m\u001b[0m\u001b[0m\n\u001b[1;32m    119\u001b[0m         \u001b[0mr\u001b[0m \u001b[0;34m=\u001b[0m \u001b[0mself\u001b[0m\u001b[0;34m.\u001b[0m\u001b[0msession\u001b[0m\u001b[0;34m.\u001b[0m\u001b[0mpost\u001b[0m\u001b[0;34m(\u001b[0m\u001b[0mself\u001b[0m\u001b[0;34m.\u001b[0m\u001b[0mbase_url\u001b[0m \u001b[0;34m+\u001b[0m \u001b[0;34m'/'\u001b[0m \u001b[0;34m+\u001b[0m \u001b[0mself\u001b[0m\u001b[0;34m.\u001b[0m\u001b[0mtype\u001b[0m\u001b[0;34m.\u001b[0m\u001b[0mvalue\u001b[0m\u001b[0;34m,\u001b[0m \u001b[0mjson\u001b[0m\u001b[0;34m=\u001b[0m\u001b[0mself\u001b[0m\u001b[0;34m.\u001b[0m\u001b[0mJSON\u001b[0m\u001b[0;34m)\u001b[0m\u001b[0;34m\u001b[0m\u001b[0m\n\u001b[0;32m--> 120\u001b[0;31m         \u001b[0mr\u001b[0m\u001b[0;34m.\u001b[0m\u001b[0mraise_for_status\u001b[0m\u001b[0;34m(\u001b[0m\u001b[0;34m)\u001b[0m\u001b[0;34m\u001b[0m\u001b[0m\n\u001b[0m\u001b[1;32m    121\u001b[0m         \u001b[0mself\u001b[0m\u001b[0;34m.\u001b[0m\u001b[0mjson\u001b[0m \u001b[0;34m=\u001b[0m \u001b[0mr\u001b[0m\u001b[0;34m.\u001b[0m\u001b[0mjson\u001b[0m\u001b[0;34m(\u001b[0m\u001b[0;34m)\u001b[0m\u001b[0;34m\u001b[0m\u001b[0m\n\u001b[1;32m    122\u001b[0m         \u001b[0mr\u001b[0m\u001b[0;34m.\u001b[0m\u001b[0mclose\u001b[0m\u001b[0;34m(\u001b[0m\u001b[0;34m)\u001b[0m\u001b[0;34m\u001b[0m\u001b[0m\n",
         "\u001b[0;32m~/anaconda3/lib/python3.6/site-packages/requests/models.py\u001b[0m in \u001b[0;36mraise_for_status\u001b[0;34m(self)\u001b[0m\n\u001b[1;32m    933\u001b[0m \u001b[0;34m\u001b[0m\u001b[0m\n\u001b[1;32m    934\u001b[0m         \u001b[0;32mif\u001b[0m \u001b[0mhttp_error_msg\u001b[0m\u001b[0;34m:\u001b[0m\u001b[0;34m\u001b[0m\u001b[0m\n\u001b[0;32m--> 935\u001b[0;31m             \u001b[0;32mraise\u001b[0m \u001b[0mHTTPError\u001b[0m\u001b[0;34m(\u001b[0m\u001b[0mhttp_error_msg\u001b[0m\u001b[0;34m,\u001b[0m \u001b[0mresponse\u001b[0m\u001b[0;34m=\u001b[0m\u001b[0mself\u001b[0m\u001b[0;34m)\u001b[0m\u001b[0;34m\u001b[0m\u001b[0m\n\u001b[0m\u001b[1;32m    936\u001b[0m \u001b[0;34m\u001b[0m\u001b[0m\n\u001b[1;32m    937\u001b[0m     \u001b[0;32mdef\u001b[0m \u001b[0mclose\u001b[0m\u001b[0;34m(\u001b[0m\u001b[0mself\u001b[0m\u001b[0;34m)\u001b[0m\u001b[0;34m:\u001b[0m\u001b[0;34m\u001b[0m\u001b[0m\n",
         "\u001b[0;31mHTTPError\u001b[0m: 422 Client Error: Unprocessable Entity for url: https://testing.sysmo-db.org/assays"
        ]
       }
      ],
      "source": "assay.post()\n# JUST ENOUGH \n\n# file version vs new file",
      "start_time": "2019-03-25T12:15:00.048Z"
     },
     {
      "end_time": "2019-03-25T12:20:18.734Z",
      "execution_time": "231ms",
      "outputs": [
       {
        "ename": "HTTPError",
        "evalue": "422 Client Error: Unprocessable Entity for url: https://testing.sysmo-db.org/assays",
        "output_type": "error",
        "traceback": [
         "\u001b[0;31m---------------------------------------------------------------------------\u001b[0m",
         "\u001b[0;31mHTTPError\u001b[0m                                 Traceback (most recent call last)",
         "\u001b[0;32m<ipython-input-9-599f5a711dd6>\u001b[0m in \u001b[0;36m<module>\u001b[0;34m()\u001b[0m\n\u001b[0;32m----> 1\u001b[0;31m \u001b[0massay\u001b[0m\u001b[0;34m.\u001b[0m\u001b[0mpost\u001b[0m\u001b[0;34m(\u001b[0m\u001b[0;34m)\u001b[0m\u001b[0;34m\u001b[0m\u001b[0m\n\u001b[0m\u001b[1;32m      2\u001b[0m \u001b[0;31m# JUST ENOUGH\u001b[0m\u001b[0;34m\u001b[0m\u001b[0;34m\u001b[0m\u001b[0m\n\u001b[1;32m      3\u001b[0m \u001b[0;34m\u001b[0m\u001b[0m\n\u001b[1;32m      4\u001b[0m \u001b[0;31m# file version vs new file\u001b[0m\u001b[0;34m\u001b[0m\u001b[0;34m\u001b[0m\u001b[0m\n",
         "\u001b[0;32m~/Work/ThirdYear/TheSeekNotebook/WriteObject.py\u001b[0m in \u001b[0;36mpost\u001b[0;34m(self)\u001b[0m\n\u001b[1;32m    118\u001b[0m     \u001b[0;32mdef\u001b[0m \u001b[0mpost\u001b[0m\u001b[0;34m(\u001b[0m\u001b[0mself\u001b[0m\u001b[0;34m)\u001b[0m\u001b[0;34m:\u001b[0m\u001b[0;34m\u001b[0m\u001b[0m\n\u001b[1;32m    119\u001b[0m         \u001b[0mr\u001b[0m \u001b[0;34m=\u001b[0m \u001b[0mself\u001b[0m\u001b[0;34m.\u001b[0m\u001b[0msession\u001b[0m\u001b[0;34m.\u001b[0m\u001b[0mpost\u001b[0m\u001b[0;34m(\u001b[0m\u001b[0mself\u001b[0m\u001b[0;34m.\u001b[0m\u001b[0mbase_url\u001b[0m \u001b[0;34m+\u001b[0m \u001b[0;34m'/'\u001b[0m \u001b[0;34m+\u001b[0m \u001b[0mself\u001b[0m\u001b[0;34m.\u001b[0m\u001b[0mtype\u001b[0m\u001b[0;34m.\u001b[0m\u001b[0mvalue\u001b[0m\u001b[0;34m,\u001b[0m \u001b[0mjson\u001b[0m\u001b[0;34m=\u001b[0m\u001b[0mself\u001b[0m\u001b[0;34m.\u001b[0m\u001b[0mJSON\u001b[0m\u001b[0;34m)\u001b[0m\u001b[0;34m\u001b[0m\u001b[0m\n\u001b[0;32m--> 120\u001b[0;31m         \u001b[0mr\u001b[0m\u001b[0;34m.\u001b[0m\u001b[0mraise_for_status\u001b[0m\u001b[0;34m(\u001b[0m\u001b[0;34m)\u001b[0m\u001b[0;34m\u001b[0m\u001b[0m\n\u001b[0m\u001b[1;32m    121\u001b[0m         \u001b[0mself\u001b[0m\u001b[0;34m.\u001b[0m\u001b[0mjson\u001b[0m \u001b[0;34m=\u001b[0m \u001b[0mr\u001b[0m\u001b[0;34m.\u001b[0m\u001b[0mjson\u001b[0m\u001b[0;34m(\u001b[0m\u001b[0;34m)\u001b[0m\u001b[0;34m\u001b[0m\u001b[0m\n\u001b[1;32m    122\u001b[0m         \u001b[0mr\u001b[0m\u001b[0;34m.\u001b[0m\u001b[0mclose\u001b[0m\u001b[0;34m(\u001b[0m\u001b[0;34m)\u001b[0m\u001b[0;34m\u001b[0m\u001b[0m\n",
         "\u001b[0;32m~/anaconda3/lib/python3.6/site-packages/requests/models.py\u001b[0m in \u001b[0;36mraise_for_status\u001b[0;34m(self)\u001b[0m\n\u001b[1;32m    933\u001b[0m \u001b[0;34m\u001b[0m\u001b[0m\n\u001b[1;32m    934\u001b[0m         \u001b[0;32mif\u001b[0m \u001b[0mhttp_error_msg\u001b[0m\u001b[0;34m:\u001b[0m\u001b[0;34m\u001b[0m\u001b[0m\n\u001b[0;32m--> 935\u001b[0;31m             \u001b[0;32mraise\u001b[0m \u001b[0mHTTPError\u001b[0m\u001b[0;34m(\u001b[0m\u001b[0mhttp_error_msg\u001b[0m\u001b[0;34m,\u001b[0m \u001b[0mresponse\u001b[0m\u001b[0;34m=\u001b[0m\u001b[0mself\u001b[0m\u001b[0;34m)\u001b[0m\u001b[0;34m\u001b[0m\u001b[0m\n\u001b[0m\u001b[1;32m    936\u001b[0m \u001b[0;34m\u001b[0m\u001b[0m\n\u001b[1;32m    937\u001b[0m     \u001b[0;32mdef\u001b[0m \u001b[0mclose\u001b[0m\u001b[0;34m(\u001b[0m\u001b[0mself\u001b[0m\u001b[0;34m)\u001b[0m\u001b[0;34m:\u001b[0m\u001b[0;34m\u001b[0m\u001b[0m\n",
         "\u001b[0;31mHTTPError\u001b[0m: 422 Client Error: Unprocessable Entity for url: https://testing.sysmo-db.org/assays"
        ]
       }
      ],
      "source": "assay.post()\n# JUST ENOUGH \n\n# file version vs new file",
      "start_time": "2019-03-25T12:20:18.503Z"
     },
     {
      "end_time": "2019-03-25T12:21:47.477Z",
      "execution_time": "236ms",
      "outputs": [
       {
        "ename": "HTTPError",
        "evalue": "422 Client Error: Unprocessable Entity for url: https://testing.sysmo-db.org/assays",
        "output_type": "error",
        "traceback": [
         "\u001b[0;31m---------------------------------------------------------------------------\u001b[0m",
         "\u001b[0;31mHTTPError\u001b[0m                                 Traceback (most recent call last)",
         "\u001b[0;32m<ipython-input-11-599f5a711dd6>\u001b[0m in \u001b[0;36m<module>\u001b[0;34m()\u001b[0m\n\u001b[0;32m----> 1\u001b[0;31m \u001b[0massay\u001b[0m\u001b[0;34m.\u001b[0m\u001b[0mpost\u001b[0m\u001b[0;34m(\u001b[0m\u001b[0;34m)\u001b[0m\u001b[0;34m\u001b[0m\u001b[0m\n\u001b[0m\u001b[1;32m      2\u001b[0m \u001b[0;31m# JUST ENOUGH\u001b[0m\u001b[0;34m\u001b[0m\u001b[0;34m\u001b[0m\u001b[0m\n\u001b[1;32m      3\u001b[0m \u001b[0;34m\u001b[0m\u001b[0m\n\u001b[1;32m      4\u001b[0m \u001b[0;31m# file version vs new file\u001b[0m\u001b[0;34m\u001b[0m\u001b[0;34m\u001b[0m\u001b[0m\n",
         "\u001b[0;32m~/Work/ThirdYear/TheSeekNotebook/WriteObject.py\u001b[0m in \u001b[0;36mpost\u001b[0;34m(self)\u001b[0m\n\u001b[1;32m    118\u001b[0m     \u001b[0;32mdef\u001b[0m \u001b[0mpost\u001b[0m\u001b[0;34m(\u001b[0m\u001b[0mself\u001b[0m\u001b[0;34m)\u001b[0m\u001b[0;34m:\u001b[0m\u001b[0;34m\u001b[0m\u001b[0m\n\u001b[1;32m    119\u001b[0m         \u001b[0mr\u001b[0m \u001b[0;34m=\u001b[0m \u001b[0mself\u001b[0m\u001b[0;34m.\u001b[0m\u001b[0msession\u001b[0m\u001b[0;34m.\u001b[0m\u001b[0mpost\u001b[0m\u001b[0;34m(\u001b[0m\u001b[0mself\u001b[0m\u001b[0;34m.\u001b[0m\u001b[0mbase_url\u001b[0m \u001b[0;34m+\u001b[0m \u001b[0;34m'/'\u001b[0m \u001b[0;34m+\u001b[0m \u001b[0mself\u001b[0m\u001b[0;34m.\u001b[0m\u001b[0mtype\u001b[0m\u001b[0;34m.\u001b[0m\u001b[0mvalue\u001b[0m\u001b[0;34m,\u001b[0m \u001b[0mjson\u001b[0m\u001b[0;34m=\u001b[0m\u001b[0mself\u001b[0m\u001b[0;34m.\u001b[0m\u001b[0mJSON\u001b[0m\u001b[0;34m)\u001b[0m\u001b[0;34m\u001b[0m\u001b[0m\n\u001b[0;32m--> 120\u001b[0;31m         \u001b[0mr\u001b[0m\u001b[0;34m.\u001b[0m\u001b[0mraise_for_status\u001b[0m\u001b[0;34m(\u001b[0m\u001b[0;34m)\u001b[0m\u001b[0;34m\u001b[0m\u001b[0m\n\u001b[0m\u001b[1;32m    121\u001b[0m         \u001b[0mself\u001b[0m\u001b[0;34m.\u001b[0m\u001b[0mjson\u001b[0m \u001b[0;34m=\u001b[0m \u001b[0mr\u001b[0m\u001b[0;34m.\u001b[0m\u001b[0mjson\u001b[0m\u001b[0;34m(\u001b[0m\u001b[0;34m)\u001b[0m\u001b[0;34m\u001b[0m\u001b[0m\n\u001b[1;32m    122\u001b[0m         \u001b[0mr\u001b[0m\u001b[0;34m.\u001b[0m\u001b[0mclose\u001b[0m\u001b[0;34m(\u001b[0m\u001b[0;34m)\u001b[0m\u001b[0;34m\u001b[0m\u001b[0m\n",
         "\u001b[0;32m~/anaconda3/lib/python3.6/site-packages/requests/models.py\u001b[0m in \u001b[0;36mraise_for_status\u001b[0;34m(self)\u001b[0m\n\u001b[1;32m    933\u001b[0m \u001b[0;34m\u001b[0m\u001b[0m\n\u001b[1;32m    934\u001b[0m         \u001b[0;32mif\u001b[0m \u001b[0mhttp_error_msg\u001b[0m\u001b[0;34m:\u001b[0m\u001b[0;34m\u001b[0m\u001b[0m\n\u001b[0;32m--> 935\u001b[0;31m             \u001b[0;32mraise\u001b[0m \u001b[0mHTTPError\u001b[0m\u001b[0;34m(\u001b[0m\u001b[0mhttp_error_msg\u001b[0m\u001b[0;34m,\u001b[0m \u001b[0mresponse\u001b[0m\u001b[0;34m=\u001b[0m\u001b[0mself\u001b[0m\u001b[0;34m)\u001b[0m\u001b[0;34m\u001b[0m\u001b[0m\n\u001b[0m\u001b[1;32m    936\u001b[0m \u001b[0;34m\u001b[0m\u001b[0m\n\u001b[1;32m    937\u001b[0m     \u001b[0;32mdef\u001b[0m \u001b[0mclose\u001b[0m\u001b[0;34m(\u001b[0m\u001b[0mself\u001b[0m\u001b[0;34m)\u001b[0m\u001b[0;34m:\u001b[0m\u001b[0;34m\u001b[0m\u001b[0m\n",
         "\u001b[0;31mHTTPError\u001b[0m: 422 Client Error: Unprocessable Entity for url: https://testing.sysmo-db.org/assays"
        ]
       }
      ],
      "source": "assay.post()\n# JUST ENOUGH \n\n# file version vs new file",
      "start_time": "2019-03-25T12:21:47.241Z"
     },
     {
      "end_time": "2019-03-25T12:24:20.840Z",
      "execution_time": "730ms",
      "outputs": [],
      "source": "assay.post()\n# JUST ENOUGH \n\n# file version vs new file",
      "start_time": "2019-03-25T12:24:20.110Z"
     },
     {
      "end_time": "2019-03-25T12:27:38.637Z",
      "execution_time": "282ms",
      "outputs": [
       {
        "ename": "HTTPError",
        "evalue": "422 Client Error: Unprocessable Entity for url: https://testing.sysmo-db.org/assays",
        "output_type": "error",
        "traceback": [
         "\u001b[0;31m---------------------------------------------------------------------------\u001b[0m",
         "\u001b[0;31mHTTPError\u001b[0m                                 Traceback (most recent call last)",
         "\u001b[0;32m<ipython-input-7-599f5a711dd6>\u001b[0m in \u001b[0;36m<module>\u001b[0;34m()\u001b[0m\n\u001b[0;32m----> 1\u001b[0;31m \u001b[0massay\u001b[0m\u001b[0;34m.\u001b[0m\u001b[0mpost\u001b[0m\u001b[0;34m(\u001b[0m\u001b[0;34m)\u001b[0m\u001b[0;34m\u001b[0m\u001b[0m\n\u001b[0m\u001b[1;32m      2\u001b[0m \u001b[0;31m# JUST ENOUGH\u001b[0m\u001b[0;34m\u001b[0m\u001b[0;34m\u001b[0m\u001b[0m\n\u001b[1;32m      3\u001b[0m \u001b[0;34m\u001b[0m\u001b[0m\n\u001b[1;32m      4\u001b[0m \u001b[0;31m# file version vs new file\u001b[0m\u001b[0;34m\u001b[0m\u001b[0;34m\u001b[0m\u001b[0m\n",
         "\u001b[0;32m~/Work/ThirdYear/TheSeekNotebook/WriteObject.py\u001b[0m in \u001b[0;36mpost\u001b[0;34m(self)\u001b[0m\n\u001b[1;32m    118\u001b[0m     \u001b[0;32mdef\u001b[0m \u001b[0mpost\u001b[0m\u001b[0;34m(\u001b[0m\u001b[0mself\u001b[0m\u001b[0;34m)\u001b[0m\u001b[0;34m:\u001b[0m\u001b[0;34m\u001b[0m\u001b[0m\n\u001b[1;32m    119\u001b[0m         \u001b[0mr\u001b[0m \u001b[0;34m=\u001b[0m \u001b[0mself\u001b[0m\u001b[0;34m.\u001b[0m\u001b[0msession\u001b[0m\u001b[0;34m.\u001b[0m\u001b[0mpost\u001b[0m\u001b[0;34m(\u001b[0m\u001b[0mself\u001b[0m\u001b[0;34m.\u001b[0m\u001b[0mbase_url\u001b[0m \u001b[0;34m+\u001b[0m \u001b[0;34m'/'\u001b[0m \u001b[0;34m+\u001b[0m \u001b[0mself\u001b[0m\u001b[0;34m.\u001b[0m\u001b[0mtype\u001b[0m\u001b[0;34m.\u001b[0m\u001b[0mvalue\u001b[0m\u001b[0;34m,\u001b[0m \u001b[0mjson\u001b[0m\u001b[0;34m=\u001b[0m\u001b[0mself\u001b[0m\u001b[0;34m.\u001b[0m\u001b[0mJSON\u001b[0m\u001b[0;34m)\u001b[0m\u001b[0;34m\u001b[0m\u001b[0m\n\u001b[0;32m--> 120\u001b[0;31m         \u001b[0mr\u001b[0m\u001b[0;34m.\u001b[0m\u001b[0mraise_for_status\u001b[0m\u001b[0;34m(\u001b[0m\u001b[0;34m)\u001b[0m\u001b[0;34m\u001b[0m\u001b[0m\n\u001b[0m\u001b[1;32m    121\u001b[0m         \u001b[0mself\u001b[0m\u001b[0;34m.\u001b[0m\u001b[0mjson\u001b[0m \u001b[0;34m=\u001b[0m \u001b[0mr\u001b[0m\u001b[0;34m.\u001b[0m\u001b[0mjson\u001b[0m\u001b[0;34m(\u001b[0m\u001b[0;34m)\u001b[0m\u001b[0;34m\u001b[0m\u001b[0m\n\u001b[1;32m    122\u001b[0m         \u001b[0mr\u001b[0m\u001b[0;34m.\u001b[0m\u001b[0mclose\u001b[0m\u001b[0;34m(\u001b[0m\u001b[0;34m)\u001b[0m\u001b[0;34m\u001b[0m\u001b[0m\n",
         "\u001b[0;32m~/anaconda3/lib/python3.6/site-packages/requests/models.py\u001b[0m in \u001b[0;36mraise_for_status\u001b[0;34m(self)\u001b[0m\n\u001b[1;32m    933\u001b[0m \u001b[0;34m\u001b[0m\u001b[0m\n\u001b[1;32m    934\u001b[0m         \u001b[0;32mif\u001b[0m \u001b[0mhttp_error_msg\u001b[0m\u001b[0;34m:\u001b[0m\u001b[0;34m\u001b[0m\u001b[0m\n\u001b[0;32m--> 935\u001b[0;31m             \u001b[0;32mraise\u001b[0m \u001b[0mHTTPError\u001b[0m\u001b[0;34m(\u001b[0m\u001b[0mhttp_error_msg\u001b[0m\u001b[0;34m,\u001b[0m \u001b[0mresponse\u001b[0m\u001b[0;34m=\u001b[0m\u001b[0mself\u001b[0m\u001b[0;34m)\u001b[0m\u001b[0;34m\u001b[0m\u001b[0m\n\u001b[0m\u001b[1;32m    936\u001b[0m \u001b[0;34m\u001b[0m\u001b[0m\n\u001b[1;32m    937\u001b[0m     \u001b[0;32mdef\u001b[0m \u001b[0mclose\u001b[0m\u001b[0;34m(\u001b[0m\u001b[0mself\u001b[0m\u001b[0;34m)\u001b[0m\u001b[0;34m:\u001b[0m\u001b[0;34m\u001b[0m\u001b[0m\n",
         "\u001b[0;31mHTTPError\u001b[0m: 422 Client Error: Unprocessable Entity for url: https://testing.sysmo-db.org/assays"
        ]
       }
      ],
      "source": "assay.post()\n# JUST ENOUGH \n\n# file version vs new file",
      "start_time": "2019-03-25T12:27:38.355Z"
     },
     {
      "end_time": "2019-03-25T12:32:41.685Z",
      "execution_time": "305ms",
      "outputs": [
       {
        "ename": "HTTPError",
        "evalue": "422 Client Error: Unprocessable Entity for url: https://testing.sysmo-db.org/assays",
        "output_type": "error",
        "traceback": [
         "\u001b[0;31m---------------------------------------------------------------------------\u001b[0m",
         "\u001b[0;31mHTTPError\u001b[0m                                 Traceback (most recent call last)",
         "\u001b[0;32m<ipython-input-7-599f5a711dd6>\u001b[0m in \u001b[0;36m<module>\u001b[0;34m()\u001b[0m\n\u001b[0;32m----> 1\u001b[0;31m \u001b[0massay\u001b[0m\u001b[0;34m.\u001b[0m\u001b[0mpost\u001b[0m\u001b[0;34m(\u001b[0m\u001b[0;34m)\u001b[0m\u001b[0;34m\u001b[0m\u001b[0m\n\u001b[0m\u001b[1;32m      2\u001b[0m \u001b[0;31m# JUST ENOUGH\u001b[0m\u001b[0;34m\u001b[0m\u001b[0;34m\u001b[0m\u001b[0m\n\u001b[1;32m      3\u001b[0m \u001b[0;34m\u001b[0m\u001b[0m\n\u001b[1;32m      4\u001b[0m \u001b[0;31m# file version vs new file\u001b[0m\u001b[0;34m\u001b[0m\u001b[0;34m\u001b[0m\u001b[0m\n",
         "\u001b[0;32m~/Work/ThirdYear/TheSeekNotebook/WriteObject.py\u001b[0m in \u001b[0;36mpost\u001b[0;34m(self)\u001b[0m\n\u001b[1;32m    118\u001b[0m     \u001b[0;32mdef\u001b[0m \u001b[0mpost\u001b[0m\u001b[0;34m(\u001b[0m\u001b[0mself\u001b[0m\u001b[0;34m)\u001b[0m\u001b[0;34m:\u001b[0m\u001b[0;34m\u001b[0m\u001b[0m\n\u001b[1;32m    119\u001b[0m         \u001b[0mr\u001b[0m \u001b[0;34m=\u001b[0m \u001b[0mself\u001b[0m\u001b[0;34m.\u001b[0m\u001b[0msession\u001b[0m\u001b[0;34m.\u001b[0m\u001b[0mpost\u001b[0m\u001b[0;34m(\u001b[0m\u001b[0mself\u001b[0m\u001b[0;34m.\u001b[0m\u001b[0mbase_url\u001b[0m \u001b[0;34m+\u001b[0m \u001b[0;34m'/'\u001b[0m \u001b[0;34m+\u001b[0m \u001b[0mself\u001b[0m\u001b[0;34m.\u001b[0m\u001b[0mtype\u001b[0m\u001b[0;34m.\u001b[0m\u001b[0mvalue\u001b[0m\u001b[0;34m,\u001b[0m \u001b[0mjson\u001b[0m\u001b[0;34m=\u001b[0m\u001b[0mself\u001b[0m\u001b[0;34m.\u001b[0m\u001b[0mJSON\u001b[0m\u001b[0;34m)\u001b[0m\u001b[0;34m\u001b[0m\u001b[0m\n\u001b[0;32m--> 120\u001b[0;31m         \u001b[0mr\u001b[0m\u001b[0;34m.\u001b[0m\u001b[0mraise_for_status\u001b[0m\u001b[0;34m(\u001b[0m\u001b[0;34m)\u001b[0m\u001b[0;34m\u001b[0m\u001b[0m\n\u001b[0m\u001b[1;32m    121\u001b[0m         \u001b[0mself\u001b[0m\u001b[0;34m.\u001b[0m\u001b[0mjson\u001b[0m \u001b[0;34m=\u001b[0m \u001b[0mr\u001b[0m\u001b[0;34m.\u001b[0m\u001b[0mjson\u001b[0m\u001b[0;34m(\u001b[0m\u001b[0;34m)\u001b[0m\u001b[0;34m\u001b[0m\u001b[0m\n\u001b[1;32m    122\u001b[0m         \u001b[0mr\u001b[0m\u001b[0;34m.\u001b[0m\u001b[0mclose\u001b[0m\u001b[0;34m(\u001b[0m\u001b[0;34m)\u001b[0m\u001b[0;34m\u001b[0m\u001b[0m\n",
         "\u001b[0;32m~/anaconda3/lib/python3.6/site-packages/requests/models.py\u001b[0m in \u001b[0;36mraise_for_status\u001b[0;34m(self)\u001b[0m\n\u001b[1;32m    933\u001b[0m \u001b[0;34m\u001b[0m\u001b[0m\n\u001b[1;32m    934\u001b[0m         \u001b[0;32mif\u001b[0m \u001b[0mhttp_error_msg\u001b[0m\u001b[0;34m:\u001b[0m\u001b[0;34m\u001b[0m\u001b[0m\n\u001b[0;32m--> 935\u001b[0;31m             \u001b[0;32mraise\u001b[0m \u001b[0mHTTPError\u001b[0m\u001b[0;34m(\u001b[0m\u001b[0mhttp_error_msg\u001b[0m\u001b[0;34m,\u001b[0m \u001b[0mresponse\u001b[0m\u001b[0;34m=\u001b[0m\u001b[0mself\u001b[0m\u001b[0;34m)\u001b[0m\u001b[0;34m\u001b[0m\u001b[0m\n\u001b[0m\u001b[1;32m    936\u001b[0m \u001b[0;34m\u001b[0m\u001b[0m\n\u001b[1;32m    937\u001b[0m     \u001b[0;32mdef\u001b[0m \u001b[0mclose\u001b[0m\u001b[0;34m(\u001b[0m\u001b[0mself\u001b[0m\u001b[0;34m)\u001b[0m\u001b[0;34m:\u001b[0m\u001b[0;34m\u001b[0m\u001b[0m\n",
         "\u001b[0;31mHTTPError\u001b[0m: 422 Client Error: Unprocessable Entity for url: https://testing.sysmo-db.org/assays"
        ]
       }
      ],
      "source": "assay.post()\n# JUST ENOUGH \n\n# file version vs new file",
      "start_time": "2019-03-25T12:32:41.380Z"
     },
     {
      "end_time": "2019-03-25T12:34:44.457Z",
      "execution_time": "238ms",
      "outputs": [
       {
        "ename": "HTTPError",
        "evalue": "422 Client Error: Unprocessable Entity for url: https://testing.sysmo-db.org/assays",
        "output_type": "error",
        "traceback": [
         "\u001b[0;31m---------------------------------------------------------------------------\u001b[0m",
         "\u001b[0;31mHTTPError\u001b[0m                                 Traceback (most recent call last)",
         "\u001b[0;32m<ipython-input-11-599f5a711dd6>\u001b[0m in \u001b[0;36m<module>\u001b[0;34m()\u001b[0m\n\u001b[0;32m----> 1\u001b[0;31m \u001b[0massay\u001b[0m\u001b[0;34m.\u001b[0m\u001b[0mpost\u001b[0m\u001b[0;34m(\u001b[0m\u001b[0;34m)\u001b[0m\u001b[0;34m\u001b[0m\u001b[0m\n\u001b[0m\u001b[1;32m      2\u001b[0m \u001b[0;31m# JUST ENOUGH\u001b[0m\u001b[0;34m\u001b[0m\u001b[0;34m\u001b[0m\u001b[0m\n\u001b[1;32m      3\u001b[0m \u001b[0;34m\u001b[0m\u001b[0m\n\u001b[1;32m      4\u001b[0m \u001b[0;31m# file version vs new file\u001b[0m\u001b[0;34m\u001b[0m\u001b[0;34m\u001b[0m\u001b[0m\n",
         "\u001b[0;32m~/Work/ThirdYear/TheSeekNotebook/WriteObject.py\u001b[0m in \u001b[0;36mpost\u001b[0;34m(self)\u001b[0m\n\u001b[1;32m    118\u001b[0m     \u001b[0;32mdef\u001b[0m \u001b[0mpost\u001b[0m\u001b[0;34m(\u001b[0m\u001b[0mself\u001b[0m\u001b[0;34m)\u001b[0m\u001b[0;34m:\u001b[0m\u001b[0;34m\u001b[0m\u001b[0m\n\u001b[1;32m    119\u001b[0m         \u001b[0mr\u001b[0m \u001b[0;34m=\u001b[0m \u001b[0mself\u001b[0m\u001b[0;34m.\u001b[0m\u001b[0msession\u001b[0m\u001b[0;34m.\u001b[0m\u001b[0mpost\u001b[0m\u001b[0;34m(\u001b[0m\u001b[0mself\u001b[0m\u001b[0;34m.\u001b[0m\u001b[0mbase_url\u001b[0m \u001b[0;34m+\u001b[0m \u001b[0;34m'/'\u001b[0m \u001b[0;34m+\u001b[0m \u001b[0mself\u001b[0m\u001b[0;34m.\u001b[0m\u001b[0mtype\u001b[0m\u001b[0;34m.\u001b[0m\u001b[0mvalue\u001b[0m\u001b[0;34m,\u001b[0m \u001b[0mjson\u001b[0m\u001b[0;34m=\u001b[0m\u001b[0mself\u001b[0m\u001b[0;34m.\u001b[0m\u001b[0mJSON\u001b[0m\u001b[0;34m)\u001b[0m\u001b[0;34m\u001b[0m\u001b[0m\n\u001b[0;32m--> 120\u001b[0;31m         \u001b[0mr\u001b[0m\u001b[0;34m.\u001b[0m\u001b[0mraise_for_status\u001b[0m\u001b[0;34m(\u001b[0m\u001b[0;34m)\u001b[0m\u001b[0;34m\u001b[0m\u001b[0m\n\u001b[0m\u001b[1;32m    121\u001b[0m         \u001b[0mself\u001b[0m\u001b[0;34m.\u001b[0m\u001b[0mjson\u001b[0m \u001b[0;34m=\u001b[0m \u001b[0mr\u001b[0m\u001b[0;34m.\u001b[0m\u001b[0mjson\u001b[0m\u001b[0;34m(\u001b[0m\u001b[0;34m)\u001b[0m\u001b[0;34m\u001b[0m\u001b[0m\n\u001b[1;32m    122\u001b[0m         \u001b[0mr\u001b[0m\u001b[0;34m.\u001b[0m\u001b[0mclose\u001b[0m\u001b[0;34m(\u001b[0m\u001b[0;34m)\u001b[0m\u001b[0;34m\u001b[0m\u001b[0m\n",
         "\u001b[0;32m~/anaconda3/lib/python3.6/site-packages/requests/models.py\u001b[0m in \u001b[0;36mraise_for_status\u001b[0;34m(self)\u001b[0m\n\u001b[1;32m    933\u001b[0m \u001b[0;34m\u001b[0m\u001b[0m\n\u001b[1;32m    934\u001b[0m         \u001b[0;32mif\u001b[0m \u001b[0mhttp_error_msg\u001b[0m\u001b[0;34m:\u001b[0m\u001b[0;34m\u001b[0m\u001b[0m\n\u001b[0;32m--> 935\u001b[0;31m             \u001b[0;32mraise\u001b[0m \u001b[0mHTTPError\u001b[0m\u001b[0;34m(\u001b[0m\u001b[0mhttp_error_msg\u001b[0m\u001b[0;34m,\u001b[0m \u001b[0mresponse\u001b[0m\u001b[0;34m=\u001b[0m\u001b[0mself\u001b[0m\u001b[0;34m)\u001b[0m\u001b[0;34m\u001b[0m\u001b[0m\n\u001b[0m\u001b[1;32m    936\u001b[0m \u001b[0;34m\u001b[0m\u001b[0m\n\u001b[1;32m    937\u001b[0m     \u001b[0;32mdef\u001b[0m \u001b[0mclose\u001b[0m\u001b[0;34m(\u001b[0m\u001b[0mself\u001b[0m\u001b[0;34m)\u001b[0m\u001b[0;34m:\u001b[0m\u001b[0;34m\u001b[0m\u001b[0m\n",
         "\u001b[0;31mHTTPError\u001b[0m: 422 Client Error: Unprocessable Entity for url: https://testing.sysmo-db.org/assays"
        ]
       }
      ],
      "source": "assay.post()\n# JUST ENOUGH \n\n# file version vs new file",
      "start_time": "2019-03-25T12:34:44.219Z"
     },
     {
      "end_time": "2019-03-25T12:36:09.433Z",
      "execution_time": "276ms",
      "outputs": [
       {
        "ename": "HTTPError",
        "evalue": "422 Client Error: Unprocessable Entity for url: https://testing.sysmo-db.org/assays",
        "output_type": "error",
        "traceback": [
         "\u001b[0;31m---------------------------------------------------------------------------\u001b[0m",
         "\u001b[0;31mHTTPError\u001b[0m                                 Traceback (most recent call last)",
         "\u001b[0;32m<ipython-input-7-599f5a711dd6>\u001b[0m in \u001b[0;36m<module>\u001b[0;34m()\u001b[0m\n\u001b[0;32m----> 1\u001b[0;31m \u001b[0massay\u001b[0m\u001b[0;34m.\u001b[0m\u001b[0mpost\u001b[0m\u001b[0;34m(\u001b[0m\u001b[0;34m)\u001b[0m\u001b[0;34m\u001b[0m\u001b[0m\n\u001b[0m\u001b[1;32m      2\u001b[0m \u001b[0;31m# JUST ENOUGH\u001b[0m\u001b[0;34m\u001b[0m\u001b[0;34m\u001b[0m\u001b[0m\n\u001b[1;32m      3\u001b[0m \u001b[0;34m\u001b[0m\u001b[0m\n\u001b[1;32m      4\u001b[0m \u001b[0;31m# file version vs new file\u001b[0m\u001b[0;34m\u001b[0m\u001b[0;34m\u001b[0m\u001b[0m\n",
         "\u001b[0;32m~/Work/ThirdYear/TheSeekNotebook/WriteObject.py\u001b[0m in \u001b[0;36mpost\u001b[0;34m(self)\u001b[0m\n\u001b[1;32m    118\u001b[0m     \u001b[0;32mdef\u001b[0m \u001b[0mpost\u001b[0m\u001b[0;34m(\u001b[0m\u001b[0mself\u001b[0m\u001b[0;34m)\u001b[0m\u001b[0;34m:\u001b[0m\u001b[0;34m\u001b[0m\u001b[0m\n\u001b[1;32m    119\u001b[0m         \u001b[0mr\u001b[0m \u001b[0;34m=\u001b[0m \u001b[0mself\u001b[0m\u001b[0;34m.\u001b[0m\u001b[0msession\u001b[0m\u001b[0;34m.\u001b[0m\u001b[0mpost\u001b[0m\u001b[0;34m(\u001b[0m\u001b[0mself\u001b[0m\u001b[0;34m.\u001b[0m\u001b[0mbase_url\u001b[0m \u001b[0;34m+\u001b[0m \u001b[0;34m'/'\u001b[0m \u001b[0;34m+\u001b[0m \u001b[0mself\u001b[0m\u001b[0;34m.\u001b[0m\u001b[0mtype\u001b[0m\u001b[0;34m.\u001b[0m\u001b[0mvalue\u001b[0m\u001b[0;34m,\u001b[0m \u001b[0mjson\u001b[0m\u001b[0;34m=\u001b[0m\u001b[0mself\u001b[0m\u001b[0;34m.\u001b[0m\u001b[0mJSON\u001b[0m\u001b[0;34m)\u001b[0m\u001b[0;34m\u001b[0m\u001b[0m\n\u001b[0;32m--> 120\u001b[0;31m         \u001b[0mr\u001b[0m\u001b[0;34m.\u001b[0m\u001b[0mraise_for_status\u001b[0m\u001b[0;34m(\u001b[0m\u001b[0;34m)\u001b[0m\u001b[0;34m\u001b[0m\u001b[0m\n\u001b[0m\u001b[1;32m    121\u001b[0m         \u001b[0mself\u001b[0m\u001b[0;34m.\u001b[0m\u001b[0mjson\u001b[0m \u001b[0;34m=\u001b[0m \u001b[0mr\u001b[0m\u001b[0;34m.\u001b[0m\u001b[0mjson\u001b[0m\u001b[0;34m(\u001b[0m\u001b[0;34m)\u001b[0m\u001b[0;34m\u001b[0m\u001b[0m\n\u001b[1;32m    122\u001b[0m         \u001b[0mr\u001b[0m\u001b[0;34m.\u001b[0m\u001b[0mclose\u001b[0m\u001b[0;34m(\u001b[0m\u001b[0;34m)\u001b[0m\u001b[0;34m\u001b[0m\u001b[0m\n",
         "\u001b[0;32m~/anaconda3/lib/python3.6/site-packages/requests/models.py\u001b[0m in \u001b[0;36mraise_for_status\u001b[0;34m(self)\u001b[0m\n\u001b[1;32m    933\u001b[0m \u001b[0;34m\u001b[0m\u001b[0m\n\u001b[1;32m    934\u001b[0m         \u001b[0;32mif\u001b[0m \u001b[0mhttp_error_msg\u001b[0m\u001b[0;34m:\u001b[0m\u001b[0;34m\u001b[0m\u001b[0m\n\u001b[0;32m--> 935\u001b[0;31m             \u001b[0;32mraise\u001b[0m \u001b[0mHTTPError\u001b[0m\u001b[0;34m(\u001b[0m\u001b[0mhttp_error_msg\u001b[0m\u001b[0;34m,\u001b[0m \u001b[0mresponse\u001b[0m\u001b[0;34m=\u001b[0m\u001b[0mself\u001b[0m\u001b[0;34m)\u001b[0m\u001b[0;34m\u001b[0m\u001b[0m\n\u001b[0m\u001b[1;32m    936\u001b[0m \u001b[0;34m\u001b[0m\u001b[0m\n\u001b[1;32m    937\u001b[0m     \u001b[0;32mdef\u001b[0m \u001b[0mclose\u001b[0m\u001b[0;34m(\u001b[0m\u001b[0mself\u001b[0m\u001b[0;34m)\u001b[0m\u001b[0;34m:\u001b[0m\u001b[0;34m\u001b[0m\u001b[0m\n",
         "\u001b[0;31mHTTPError\u001b[0m: 422 Client Error: Unprocessable Entity for url: https://testing.sysmo-db.org/assays"
        ]
       }
      ],
      "source": "assay.post()\n# JUST ENOUGH \n\n# file version vs new file",
      "start_time": "2019-03-25T12:36:09.157Z"
     },
     {
      "end_time": "2019-03-25T12:44:12.819Z",
      "execution_time": "250ms",
      "outputs": [
       {
        "ename": "HTTPError",
        "evalue": "422 Client Error: Unprocessable Entity for url: https://testing.sysmo-db.org/assays",
        "output_type": "error",
        "traceback": [
         "\u001b[0;31m---------------------------------------------------------------------------\u001b[0m",
         "\u001b[0;31mHTTPError\u001b[0m                                 Traceback (most recent call last)",
         "\u001b[0;32m<ipython-input-8-599f5a711dd6>\u001b[0m in \u001b[0;36m<module>\u001b[0;34m()\u001b[0m\n\u001b[0;32m----> 1\u001b[0;31m \u001b[0massay\u001b[0m\u001b[0;34m.\u001b[0m\u001b[0mpost\u001b[0m\u001b[0;34m(\u001b[0m\u001b[0;34m)\u001b[0m\u001b[0;34m\u001b[0m\u001b[0m\n\u001b[0m\u001b[1;32m      2\u001b[0m \u001b[0;31m# JUST ENOUGH\u001b[0m\u001b[0;34m\u001b[0m\u001b[0;34m\u001b[0m\u001b[0m\n\u001b[1;32m      3\u001b[0m \u001b[0;34m\u001b[0m\u001b[0m\n\u001b[1;32m      4\u001b[0m \u001b[0;31m# file version vs new file\u001b[0m\u001b[0;34m\u001b[0m\u001b[0;34m\u001b[0m\u001b[0m\n",
         "\u001b[0;32m~/Work/ThirdYear/TheSeekNotebook/WriteObject.py\u001b[0m in \u001b[0;36mpost\u001b[0;34m(self)\u001b[0m\n\u001b[1;32m    118\u001b[0m     \u001b[0;32mdef\u001b[0m \u001b[0mpost\u001b[0m\u001b[0;34m(\u001b[0m\u001b[0mself\u001b[0m\u001b[0;34m)\u001b[0m\u001b[0;34m:\u001b[0m\u001b[0;34m\u001b[0m\u001b[0m\n\u001b[1;32m    119\u001b[0m         \u001b[0mr\u001b[0m \u001b[0;34m=\u001b[0m \u001b[0mself\u001b[0m\u001b[0;34m.\u001b[0m\u001b[0msession\u001b[0m\u001b[0;34m.\u001b[0m\u001b[0mpost\u001b[0m\u001b[0;34m(\u001b[0m\u001b[0mself\u001b[0m\u001b[0;34m.\u001b[0m\u001b[0mbase_url\u001b[0m \u001b[0;34m+\u001b[0m \u001b[0;34m'/'\u001b[0m \u001b[0;34m+\u001b[0m \u001b[0mself\u001b[0m\u001b[0;34m.\u001b[0m\u001b[0mtype\u001b[0m\u001b[0;34m.\u001b[0m\u001b[0mvalue\u001b[0m\u001b[0;34m,\u001b[0m \u001b[0mjson\u001b[0m\u001b[0;34m=\u001b[0m\u001b[0mself\u001b[0m\u001b[0;34m.\u001b[0m\u001b[0mJSON\u001b[0m\u001b[0;34m)\u001b[0m\u001b[0;34m\u001b[0m\u001b[0m\n\u001b[0;32m--> 120\u001b[0;31m         \u001b[0mr\u001b[0m\u001b[0;34m.\u001b[0m\u001b[0mraise_for_status\u001b[0m\u001b[0;34m(\u001b[0m\u001b[0;34m)\u001b[0m\u001b[0;34m\u001b[0m\u001b[0m\n\u001b[0m\u001b[1;32m    121\u001b[0m         \u001b[0mself\u001b[0m\u001b[0;34m.\u001b[0m\u001b[0mjson\u001b[0m \u001b[0;34m=\u001b[0m \u001b[0mr\u001b[0m\u001b[0;34m.\u001b[0m\u001b[0mjson\u001b[0m\u001b[0;34m(\u001b[0m\u001b[0;34m)\u001b[0m\u001b[0;34m\u001b[0m\u001b[0m\n\u001b[1;32m    122\u001b[0m         \u001b[0mr\u001b[0m\u001b[0;34m.\u001b[0m\u001b[0mclose\u001b[0m\u001b[0;34m(\u001b[0m\u001b[0;34m)\u001b[0m\u001b[0;34m\u001b[0m\u001b[0m\n",
         "\u001b[0;32m~/anaconda3/lib/python3.6/site-packages/requests/models.py\u001b[0m in \u001b[0;36mraise_for_status\u001b[0;34m(self)\u001b[0m\n\u001b[1;32m    933\u001b[0m \u001b[0;34m\u001b[0m\u001b[0m\n\u001b[1;32m    934\u001b[0m         \u001b[0;32mif\u001b[0m \u001b[0mhttp_error_msg\u001b[0m\u001b[0;34m:\u001b[0m\u001b[0;34m\u001b[0m\u001b[0m\n\u001b[0;32m--> 935\u001b[0;31m             \u001b[0;32mraise\u001b[0m \u001b[0mHTTPError\u001b[0m\u001b[0;34m(\u001b[0m\u001b[0mhttp_error_msg\u001b[0m\u001b[0;34m,\u001b[0m \u001b[0mresponse\u001b[0m\u001b[0;34m=\u001b[0m\u001b[0mself\u001b[0m\u001b[0;34m)\u001b[0m\u001b[0;34m\u001b[0m\u001b[0m\n\u001b[0m\u001b[1;32m    936\u001b[0m \u001b[0;34m\u001b[0m\u001b[0m\n\u001b[1;32m    937\u001b[0m     \u001b[0;32mdef\u001b[0m \u001b[0mclose\u001b[0m\u001b[0;34m(\u001b[0m\u001b[0mself\u001b[0m\u001b[0;34m)\u001b[0m\u001b[0;34m:\u001b[0m\u001b[0;34m\u001b[0m\u001b[0m\n",
         "\u001b[0;31mHTTPError\u001b[0m: 422 Client Error: Unprocessable Entity for url: https://testing.sysmo-db.org/assays"
        ]
       }
      ],
      "source": "assay.post()\n# JUST ENOUGH \n\n# file version vs new file",
      "start_time": "2019-03-25T12:44:12.569Z"
     },
     {
      "end_time": "2019-03-25T12:47:08.418Z",
      "execution_time": "744ms",
      "outputs": [],
      "source": "assay.post()\n# JUST ENOUGH \n\n# file version vs new file",
      "start_time": "2019-03-25T12:47:07.674Z"
     }
    ]
   },
   "outputs": [],
   "source": [
    "assay.post()\n",
    "# JUST ENOUGH \n",
    "\n",
    "# file version vs new file"
   ]
  }
 ],
 "metadata": {
  "kernelspec": {
   "display_name": "Python 3",
   "language": "python",
   "name": "python3"
  },
  "language_info": {
   "codemirror_mode": {
    "name": "ipython",
    "version": 3
   },
   "file_extension": ".py",
   "mimetype": "text/x-python",
   "name": "python",
   "nbconvert_exporter": "python",
   "pygments_lexer": "ipython3",
   "version": "3.6.5"
  }
 },
 "nbformat": 4,
 "nbformat_minor": 2
}
