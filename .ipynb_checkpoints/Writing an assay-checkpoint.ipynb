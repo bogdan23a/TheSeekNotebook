{
 "cells": [
  {
   "cell_type": "code",
   "execution_count": 1,
   "metadata": {
    "ExecutionTime": {
     "end_time": "2019-03-15T14:15:29.872948Z",
     "start_time": "2019-03-15T14:13:07.860759Z"
    },
    "provenance": [
     {
      "end_time": "Unknown",
      "execution_time": "Unknown",
      "outputs": [],
      "source": "",
      "start_time": "Unknown"
     },
     {
      "end_time": "2019-03-15T11:08:11.717Z",
      "execution_time": "9.45s",
      "outputs": [
       {
        "name": "stdout",
        "output_type": "stream",
        "text": "Please enter the name for the investigation: dada\n"
       },
       {
        "ename": "NameError",
        "evalue": "name 'containing_project_id' is not defined",
        "output_type": "error",
        "traceback": [
         "\u001b[0;31m---------------------------------------------------------------------------\u001b[0m",
         "\u001b[0;31mNameError\u001b[0m                                 Traceback (most recent call last)",
         "\u001b[0;32m<ipython-input-1-8f0274c1b3e2>\u001b[0m in \u001b[0;36m<module>\u001b[0;34m()\u001b[0m\n\u001b[1;32m      6\u001b[0m \u001b[0minvestigation\u001b[0m\u001b[0;34m[\u001b[0m\u001b[0;34m'data'\u001b[0m\u001b[0;34m]\u001b[0m\u001b[0;34m[\u001b[0m\u001b[0;34m'relationships'\u001b[0m\u001b[0;34m]\u001b[0m \u001b[0;34m=\u001b[0m \u001b[0;34m{\u001b[0m\u001b[0;34m}\u001b[0m\u001b[0;34m\u001b[0m\u001b[0m\n\u001b[1;32m      7\u001b[0m \u001b[0minvestigation\u001b[0m\u001b[0;34m[\u001b[0m\u001b[0;34m'data'\u001b[0m\u001b[0;34m]\u001b[0m\u001b[0;34m[\u001b[0m\u001b[0;34m'relationships'\u001b[0m\u001b[0;34m]\u001b[0m\u001b[0;34m[\u001b[0m\u001b[0;34m'projects'\u001b[0m\u001b[0;34m]\u001b[0m \u001b[0;34m=\u001b[0m \u001b[0;34m{\u001b[0m\u001b[0;34m}\u001b[0m\u001b[0;34m\u001b[0m\u001b[0m\n\u001b[0;32m----> 8\u001b[0;31m \u001b[0minvestigation\u001b[0m\u001b[0;34m[\u001b[0m\u001b[0;34m'data'\u001b[0m\u001b[0;34m]\u001b[0m\u001b[0;34m[\u001b[0m\u001b[0;34m'relationships'\u001b[0m\u001b[0;34m]\u001b[0m\u001b[0;34m[\u001b[0m\u001b[0;34m'projects'\u001b[0m\u001b[0;34m]\u001b[0m\u001b[0;34m[\u001b[0m\u001b[0;34m'data'\u001b[0m\u001b[0;34m]\u001b[0m \u001b[0;34m=\u001b[0m \u001b[0;34m[\u001b[0m\u001b[0;34m{\u001b[0m\u001b[0;34m'id'\u001b[0m \u001b[0;34m:\u001b[0m \u001b[0mcontaining_project_id\u001b[0m\u001b[0;34m,\u001b[0m \u001b[0;34m'type'\u001b[0m \u001b[0;34m:\u001b[0m \u001b[0;34m'projects'\u001b[0m\u001b[0;34m}\u001b[0m\u001b[0;34m]\u001b[0m\u001b[0;34m\u001b[0m\u001b[0m\n\u001b[0m",
         "\u001b[0;31mNameError\u001b[0m: name 'containing_project_id' is not defined"
        ]
       }
      ],
      "source": "investigation = {}\ninvestigation['data'] = {}\ninvestigation['data']['type'] = 'investigations'\ninvestigation['data']['attributes'] = {}\ninvestigation['data']['attributes']['title'] = input('Please enter the name for the investigation: ')\ninvestigation['data']['relationships'] = {}\ninvestigation['data']['relationships']['projects'] = {}\ninvestigation['data']['relationships']['projects']['data'] = [{'id' : containing_project_id, 'type' : 'projects'}]",
      "start_time": "2019-03-15T11:08:02.269Z"
     },
     {
      "end_time": "2019-03-15T11:09:21.237Z",
      "execution_time": "6.40s",
      "outputs": [
       {
        "name": "stdout",
        "output_type": "stream",
        "text": "Please enter the name for the investigation: alabala\nPlease enter the id of the project for this investigation23\n"
       }
      ],
      "source": "investigation = {}\ninvestigation['data'] = {}\ninvestigation['data']['type'] = 'investigations'\ninvestigation['data']['attributes'] = {}\ninvestigation['data']['attributes']['title'] = input('Please enter the name for the investigation: ')\ninvestigation['data']['relationships'] = {}\ninvestigation['data']['relationships']['projects'] = {}\ninvestigation['data']['relationships']['projects']['data'] = [{'id' : input('Please enter the id of the project for this investigation'), 'type' : 'projects'}]",
      "start_time": "2019-03-15T11:09:14.836Z"
     },
     {
      "end_time": "2019-03-15T11:09:29.230Z",
      "execution_time": "3.22s",
      "outputs": [
       {
        "name": "stdout",
        "output_type": "stream",
        "text": "Please enter the name for the investigation: alabala\nPlease enter the id of the project for this investigation: 123\n"
       }
      ],
      "source": "investigation = {}\ninvestigation['data'] = {}\ninvestigation['data']['type'] = 'investigations'\ninvestigation['data']['attributes'] = {}\ninvestigation['data']['attributes']['title'] = input('Please enter the name for the investigation: ')\ninvestigation['data']['relationships'] = {}\ninvestigation['data']['relationships']['projects'] = {}\ninvestigation['data']['relationships']['projects']['data'] = [{'id' : input('Please enter the id of the project for this investigation: '), 'type' : 'projects'}]",
      "start_time": "2019-03-15T11:09:26.012Z"
     },
     {
      "end_time": "2019-03-15T11:14:24.938Z",
      "execution_time": "5ms",
      "outputs": [
       {
        "ename": "SyntaxError",
        "evalue": "invalid syntax (WriteObject.py, line 21)",
        "output_type": "error",
        "traceback": [
         "Traceback \u001b[0;36m(most recent call last)\u001b[0m:\n",
         "  File \u001b[1;32m\"/home/bogdan/anaconda3/lib/python3.6/site-packages/IPython/core/interactiveshell.py\"\u001b[0m, line \u001b[1;32m2963\u001b[0m, in \u001b[1;35mrun_code\u001b[0m\n    exec(code_obj, self.user_global_ns, self.user_ns)\n",
         "\u001b[0;36m  File \u001b[0;32m\"<ipython-input-4-cd480b0c800a>\"\u001b[0;36m, line \u001b[0;32m1\u001b[0;36m, in \u001b[0;35m<module>\u001b[0;36m\u001b[0m\n\u001b[0;31m    from WriteObject import WriteObject\u001b[0m\n",
         "\u001b[0;36m  File \u001b[0;32m\"/home/bogdan/Work/ThirdYear/Seek/TheSeekNotebook/WriteObject.py\"\u001b[0;36m, line \u001b[0;32m21\u001b[0m\n\u001b[0;31m    def\u001b[0m\n\u001b[0m        ^\u001b[0m\n\u001b[0;31mSyntaxError\u001b[0m\u001b[0;31m:\u001b[0m invalid syntax\n"
        ]
       }
      ],
      "source": "from WriteObject import WriteObject\n\nWO = WriteObject()\n\nWO.SEEKForm()",
      "start_time": "2019-03-15T11:14:24.933Z"
     },
     {
      "end_time": "2019-03-15T11:14:35.191Z",
      "execution_time": "369ms",
      "outputs": [
       {
        "ename": "ImportError",
        "evalue": "cannot import name 'WriteObject'",
        "output_type": "error",
        "traceback": [
         "\u001b[0;31m---------------------------------------------------------------------------\u001b[0m",
         "\u001b[0;31mImportError\u001b[0m                               Traceback (most recent call last)",
         "\u001b[0;32m<ipython-input-5-cd480b0c800a>\u001b[0m in \u001b[0;36m<module>\u001b[0;34m()\u001b[0m\n\u001b[0;32m----> 1\u001b[0;31m \u001b[0;32mfrom\u001b[0m \u001b[0mWriteObject\u001b[0m \u001b[0;32mimport\u001b[0m \u001b[0mWriteObject\u001b[0m\u001b[0;34m\u001b[0m\u001b[0m\n\u001b[0m\u001b[1;32m      2\u001b[0m \u001b[0;34m\u001b[0m\u001b[0m\n\u001b[1;32m      3\u001b[0m \u001b[0mWO\u001b[0m \u001b[0;34m=\u001b[0m \u001b[0mWriteObject\u001b[0m\u001b[0;34m(\u001b[0m\u001b[0;34m)\u001b[0m\u001b[0;34m\u001b[0m\u001b[0m\n\u001b[1;32m      4\u001b[0m \u001b[0;34m\u001b[0m\u001b[0m\n\u001b[1;32m      5\u001b[0m \u001b[0mWO\u001b[0m\u001b[0;34m.\u001b[0m\u001b[0mSEEKForm\u001b[0m\u001b[0;34m(\u001b[0m\u001b[0;34m)\u001b[0m\u001b[0;34m\u001b[0m\u001b[0m\n",
         "\u001b[0;31mImportError\u001b[0m: cannot import name 'WriteObject'"
        ]
       }
      ],
      "source": "from WriteObject import WriteObject\n\nWO = WriteObject()\n\nWO.SEEKForm()",
      "start_time": "2019-03-15T11:14:34.822Z"
     },
     {
      "end_time": "2019-03-15T11:14:51.721Z",
      "execution_time": "151ms",
      "outputs": [
       {
        "ename": "ImportError",
        "evalue": "cannot import name 'WriteObject'",
        "output_type": "error",
        "traceback": [
         "\u001b[0;31m---------------------------------------------------------------------------\u001b[0m",
         "\u001b[0;31mImportError\u001b[0m                               Traceback (most recent call last)",
         "\u001b[0;32m<ipython-input-1-cd480b0c800a>\u001b[0m in \u001b[0;36m<module>\u001b[0;34m()\u001b[0m\n\u001b[0;32m----> 1\u001b[0;31m \u001b[0;32mfrom\u001b[0m \u001b[0mWriteObject\u001b[0m \u001b[0;32mimport\u001b[0m \u001b[0mWriteObject\u001b[0m\u001b[0;34m\u001b[0m\u001b[0m\n\u001b[0m\u001b[1;32m      2\u001b[0m \u001b[0;34m\u001b[0m\u001b[0m\n\u001b[1;32m      3\u001b[0m \u001b[0mWO\u001b[0m \u001b[0;34m=\u001b[0m \u001b[0mWriteObject\u001b[0m\u001b[0;34m(\u001b[0m\u001b[0;34m)\u001b[0m\u001b[0;34m\u001b[0m\u001b[0m\n\u001b[1;32m      4\u001b[0m \u001b[0;34m\u001b[0m\u001b[0m\n\u001b[1;32m      5\u001b[0m \u001b[0mWO\u001b[0m\u001b[0;34m.\u001b[0m\u001b[0mSEEKForm\u001b[0m\u001b[0;34m(\u001b[0m\u001b[0;34m)\u001b[0m\u001b[0;34m\u001b[0m\u001b[0m\n",
         "\u001b[0;31mImportError\u001b[0m: cannot import name 'WriteObject'"
        ]
       }
      ],
      "source": "from WriteObject import WriteObject\n\nWO = WriteObject()\n\nWO.SEEKForm()",
      "start_time": "2019-03-15T11:14:51.570Z"
     },
     {
      "end_time": "2019-03-15T11:15:05.606Z",
      "execution_time": "19ms",
      "outputs": [
       {
        "ename": "ImportError",
        "evalue": "cannot import name 'WriteObject'",
        "output_type": "error",
        "traceback": [
         "\u001b[0;31m---------------------------------------------------------------------------\u001b[0m",
         "\u001b[0;31mImportError\u001b[0m                               Traceback (most recent call last)",
         "\u001b[0;32m<ipython-input-2-cd480b0c800a>\u001b[0m in \u001b[0;36m<module>\u001b[0;34m()\u001b[0m\n\u001b[0;32m----> 1\u001b[0;31m \u001b[0;32mfrom\u001b[0m \u001b[0mWriteObject\u001b[0m \u001b[0;32mimport\u001b[0m \u001b[0mWriteObject\u001b[0m\u001b[0;34m\u001b[0m\u001b[0m\n\u001b[0m\u001b[1;32m      2\u001b[0m \u001b[0;34m\u001b[0m\u001b[0m\n\u001b[1;32m      3\u001b[0m \u001b[0mWO\u001b[0m \u001b[0;34m=\u001b[0m \u001b[0mWriteObject\u001b[0m\u001b[0;34m(\u001b[0m\u001b[0;34m)\u001b[0m\u001b[0;34m\u001b[0m\u001b[0m\n\u001b[1;32m      4\u001b[0m \u001b[0;34m\u001b[0m\u001b[0m\n\u001b[1;32m      5\u001b[0m \u001b[0mWO\u001b[0m\u001b[0;34m.\u001b[0m\u001b[0mSEEKForm\u001b[0m\u001b[0;34m(\u001b[0m\u001b[0;34m)\u001b[0m\u001b[0;34m\u001b[0m\u001b[0m\n",
         "\u001b[0;31mImportError\u001b[0m: cannot import name 'WriteObject'"
        ]
       }
      ],
      "source": "from WriteObject import WriteObject\n\nWO = WriteObject()\n\nWO.SEEKForm()",
      "start_time": "2019-03-15T11:15:05.587Z"
     },
     {
      "end_time": "2019-03-15T11:15:15.242Z",
      "execution_time": "4.79s",
      "outputs": [
       {
        "data": {
         "text/html": "<h3>SEEK FORM</h3>",
         "text/plain": "<IPython.core.display.HTML object>"
        },
        "metadata": {},
        "output_type": "display_data",
        "transient": {}
       },
       {
        "name": "stdout",
        "output_type": "stream",
        "text": "\nThe type of object you want to upload to SEEK: investigation\nYou need to complete the following for in order to succesfully upload your information to SEEK\n"
       }
      ],
      "source": "from WriteObject import WriteObject\n\nWO = WriteObject()\n\nWO.SEEKForm()",
      "start_time": "2019-03-15T11:15:10.453Z"
     },
     {
      "end_time": "2019-03-15T11:59:52.246Z",
      "execution_time": "4.14s",
      "outputs": [
       {
        "data": {
         "text/html": "<h3>SEEK FORM</h3>",
         "text/plain": "<IPython.core.display.HTML object>"
        },
        "metadata": {},
        "output_type": "display_data",
        "transient": {}
       },
       {
        "name": "stdout",
        "output_type": "stream",
        "text": "\nThe type of object you want to upload to SEEK: da\n\nYou need to complete the following for in order to succesfully upload your information to SEEK\n"
       }
      ],
      "source": "from WriteObject import WriteObject\n\nWO = WriteObject()\n\nWO.SEEKForm()",
      "start_time": "2019-03-15T11:59:48.103Z"
     },
     {
      "end_time": "2019-03-15T12:04:58.709Z",
      "execution_time": "2.12s",
      "outputs": [
       {
        "data": {
         "text/html": "<h3>SEEK FORM</h3>",
         "text/plain": "<IPython.core.display.HTML object>"
        },
        "metadata": {},
        "output_type": "display_data",
        "transient": {}
       },
       {
        "name": "stdout",
        "output_type": "stream",
        "text": "\nThe type of object you want to upload to SEEK: as\n\nYou need to complete the following for in order to succesfully upload your information to SEEK\n"
       }
      ],
      "source": "from WriteObject import WriteObject\n\nWO = WriteObject()\n\nWO.SEEKForm()",
      "start_time": "2019-03-15T12:04:56.593Z"
     },
     {
      "end_time": "2019-03-15T12:09:18.334Z",
      "execution_time": "4.67s",
      "outputs": [
       {
        "name": "stdout",
        "output_type": "stream",
        "text": "Please specify the type: da\nPlease specify the description: da\nPlease specify other creators: da\nPlease specify the snapshots: da\nPlease specify the title: da\nPlease specify how many assays is this investigation related to: 10\n"
       },
       {
        "ename": "TypeError",
        "evalue": "must be str, not int",
        "output_type": "error",
        "traceback": [
         "\u001b[0;31m---------------------------------------------------------------------------\u001b[0m",
         "\u001b[0;31mTypeError\u001b[0m                                 Traceback (most recent call last)",
         "\u001b[0;32m<ipython-input-1-ed7a91e8dfa5>\u001b[0m in \u001b[0;36m<module>\u001b[0;34m()\u001b[0m\n\u001b[1;32m      3\u001b[0m \u001b[0mWO\u001b[0m \u001b[0;34m=\u001b[0m \u001b[0mWriteObject\u001b[0m\u001b[0;34m(\u001b[0m\u001b[0;34m)\u001b[0m\u001b[0;34m\u001b[0m\u001b[0m\n\u001b[1;32m      4\u001b[0m \u001b[0;34m\u001b[0m\u001b[0m\n\u001b[0;32m----> 5\u001b[0;31m \u001b[0mWO\u001b[0m\u001b[0;34m.\u001b[0m\u001b[0mJSONForm\u001b[0m\u001b[0;34m(\u001b[0m\u001b[0;34m)\u001b[0m\u001b[0;34m\u001b[0m\u001b[0m\n\u001b[0m",
         "\u001b[0;32m~/Work/ThirdYear/Seek/TheSeekNotebook/WriteObject.py\u001b[0m in \u001b[0;36mJSONForm\u001b[0;34m(self)\u001b[0m\n\u001b[1;32m     33\u001b[0m     \u001b[0;32mdef\u001b[0m \u001b[0mJSONForm\u001b[0m\u001b[0;34m(\u001b[0m\u001b[0mself\u001b[0m\u001b[0;34m)\u001b[0m\u001b[0;34m:\u001b[0m\u001b[0;34m\u001b[0m\u001b[0m\n\u001b[1;32m     34\u001b[0m \u001b[0;34m\u001b[0m\u001b[0m\n\u001b[0;32m---> 35\u001b[0;31m         \u001b[0mprint\u001b[0m\u001b[0;34m(\u001b[0m\u001b[0mHelper\u001b[0m\u001b[0;34m.\u001b[0m\u001b[0minvestigationFormat\u001b[0m\u001b[0;34m(\u001b[0m\u001b[0;34m)\u001b[0m\u001b[0;34m)\u001b[0m\u001b[0;34m\u001b[0m\u001b[0m\n\u001b[0m",
         "\u001b[0;32m~/Work/ThirdYear/Seek/TheSeekNotebook/Helper.py\u001b[0m in \u001b[0;36minvestigationFormat\u001b[0;34m()\u001b[0m\n\u001b[1;32m     15\u001b[0m     \u001b[0;32mfor\u001b[0m \u001b[0mindex\u001b[0m \u001b[0;32min\u001b[0m \u001b[0mrange\u001b[0m\u001b[0;34m(\u001b[0m\u001b[0;36m0\u001b[0m\u001b[0;34m,\u001b[0m \u001b[0mnumberOfAssays\u001b[0m\u001b[0;34m)\u001b[0m\u001b[0;34m:\u001b[0m\u001b[0;34m\u001b[0m\u001b[0m\n\u001b[1;32m     16\u001b[0m \u001b[0;34m\u001b[0m\u001b[0m\n\u001b[0;32m---> 17\u001b[0;31m         \u001b[0mJSON\u001b[0m\u001b[0;34m[\u001b[0m\u001b[0;34m'data'\u001b[0m\u001b[0;34m]\u001b[0m\u001b[0;34m[\u001b[0m\u001b[0;34m'relationships'\u001b[0m\u001b[0;34m]\u001b[0m\u001b[0;34m[\u001b[0m\u001b[0;34m'assays'\u001b[0m\u001b[0;34m]\u001b[0m\u001b[0;34m[\u001b[0m\u001b[0mindex\u001b[0m\u001b[0;34m]\u001b[0m \u001b[0;34m=\u001b[0m \u001b[0;34m[\u001b[0m\u001b[0;34m{\u001b[0m\u001b[0;34m'id'\u001b[0m \u001b[0;34m:\u001b[0m \u001b[0minput\u001b[0m\u001b[0;34m(\u001b[0m\u001b[0;34m'Please specify the id of the '\u001b[0m \u001b[0;34m+\u001b[0m \u001b[0mindex\u001b[0m \u001b[0;34m+\u001b[0m \u001b[0;34m' assay: '\u001b[0m\u001b[0;34m)\u001b[0m\u001b[0;34m,\u001b[0m \u001b[0;34m'type'\u001b[0m \u001b[0;34m:\u001b[0m \u001b[0;34m'assays'\u001b[0m\u001b[0;34m}\u001b[0m\u001b[0;34m]\u001b[0m\u001b[0;34m\u001b[0m\u001b[0m\n\u001b[0m\u001b[1;32m     18\u001b[0m     \u001b[0mJSON\u001b[0m\u001b[0;34m[\u001b[0m\u001b[0;34m'data'\u001b[0m\u001b[0;34m]\u001b[0m\u001b[0;34m[\u001b[0m\u001b[0;34m'relationships'\u001b[0m\u001b[0;34m]\u001b[0m\u001b[0;34m[\u001b[0m\u001b[0;34m'creators'\u001b[0m\u001b[0;34m]\u001b[0m \u001b[0;34m=\u001b[0m \u001b[0minput\u001b[0m\u001b[0;34m(\u001b[0m\u001b[0;34m'Please input the type: '\u001b[0m\u001b[0;34m)\u001b[0m\u001b[0;34m\u001b[0m\u001b[0m\n\u001b[1;32m     19\u001b[0m     \u001b[0mJSON\u001b[0m\u001b[0;34m[\u001b[0m\u001b[0;34m'data'\u001b[0m\u001b[0;34m]\u001b[0m\u001b[0;34m[\u001b[0m\u001b[0;34m'relationships'\u001b[0m\u001b[0;34m]\u001b[0m\u001b[0;34m[\u001b[0m\u001b[0;34m'data_files'\u001b[0m\u001b[0;34m]\u001b[0m \u001b[0;34m=\u001b[0m \u001b[0minput\u001b[0m\u001b[0;34m(\u001b[0m\u001b[0;34m'Please input the type: '\u001b[0m\u001b[0;34m)\u001b[0m\u001b[0;34m\u001b[0m\u001b[0m\n",
         "\u001b[0;31mTypeError\u001b[0m: must be str, not int"
        ]
       }
      ],
      "source": "from WriteObject import WriteObject\n\nWO = WriteObject()\n\nWO.JSONForm()",
      "start_time": "2019-03-15T12:09:13.663Z"
     },
     {
      "end_time": "2019-03-15T12:11:19.203Z",
      "execution_time": "42.8s",
      "outputs": [
       {
        "name": "stdout",
        "output_type": "stream",
        "text": "Please specify the type: ad\nPlease specify the description: da\nPlease specify other creators: da\nPlease specify the snapshots: da\nPlease specify the title: da\nPlease specify how many assays is this investigation related to: 10\nPlease specify the id of the 0 assay: 123\n"
       },
       {
        "ename": "KeyError",
        "evalue": "'assays'",
        "output_type": "error",
        "traceback": [
         "\u001b[0;31m---------------------------------------------------------------------------\u001b[0m",
         "\u001b[0;31mKeyError\u001b[0m                                  Traceback (most recent call last)",
         "\u001b[0;32m<ipython-input-1-ed7a91e8dfa5>\u001b[0m in \u001b[0;36m<module>\u001b[0;34m()\u001b[0m\n\u001b[1;32m      3\u001b[0m \u001b[0mWO\u001b[0m \u001b[0;34m=\u001b[0m \u001b[0mWriteObject\u001b[0m\u001b[0;34m(\u001b[0m\u001b[0;34m)\u001b[0m\u001b[0;34m\u001b[0m\u001b[0m\n\u001b[1;32m      4\u001b[0m \u001b[0;34m\u001b[0m\u001b[0m\n\u001b[0;32m----> 5\u001b[0;31m \u001b[0mWO\u001b[0m\u001b[0;34m.\u001b[0m\u001b[0mJSONForm\u001b[0m\u001b[0;34m(\u001b[0m\u001b[0;34m)\u001b[0m\u001b[0;34m\u001b[0m\u001b[0m\n\u001b[0m",
         "\u001b[0;32m~/Work/ThirdYear/Seek/TheSeekNotebook/WriteObject.py\u001b[0m in \u001b[0;36mJSONForm\u001b[0;34m(self)\u001b[0m\n\u001b[1;32m     33\u001b[0m     \u001b[0;32mdef\u001b[0m \u001b[0mJSONForm\u001b[0m\u001b[0;34m(\u001b[0m\u001b[0mself\u001b[0m\u001b[0;34m)\u001b[0m\u001b[0;34m:\u001b[0m\u001b[0;34m\u001b[0m\u001b[0m\n\u001b[1;32m     34\u001b[0m \u001b[0;34m\u001b[0m\u001b[0m\n\u001b[0;32m---> 35\u001b[0;31m         \u001b[0mprint\u001b[0m\u001b[0;34m(\u001b[0m\u001b[0mHelper\u001b[0m\u001b[0;34m.\u001b[0m\u001b[0minvestigationFormat\u001b[0m\u001b[0;34m(\u001b[0m\u001b[0;34m)\u001b[0m\u001b[0;34m)\u001b[0m\u001b[0;34m\u001b[0m\u001b[0m\n\u001b[0m",
         "\u001b[0;32m~/Work/ThirdYear/Seek/TheSeekNotebook/Helper.py\u001b[0m in \u001b[0;36minvestigationFormat\u001b[0;34m()\u001b[0m\n\u001b[1;32m     15\u001b[0m     \u001b[0;32mfor\u001b[0m \u001b[0mindex\u001b[0m \u001b[0;32min\u001b[0m \u001b[0mrange\u001b[0m\u001b[0;34m(\u001b[0m\u001b[0;36m0\u001b[0m\u001b[0;34m,\u001b[0m \u001b[0mnumberOfAssays\u001b[0m\u001b[0;34m)\u001b[0m\u001b[0;34m:\u001b[0m\u001b[0;34m\u001b[0m\u001b[0m\n\u001b[1;32m     16\u001b[0m \u001b[0;34m\u001b[0m\u001b[0m\n\u001b[0;32m---> 17\u001b[0;31m         \u001b[0mJSON\u001b[0m\u001b[0;34m[\u001b[0m\u001b[0;34m'data'\u001b[0m\u001b[0;34m]\u001b[0m\u001b[0;34m[\u001b[0m\u001b[0;34m'relationships'\u001b[0m\u001b[0;34m]\u001b[0m\u001b[0;34m[\u001b[0m\u001b[0;34m'assays'\u001b[0m\u001b[0;34m]\u001b[0m\u001b[0;34m[\u001b[0m\u001b[0mindex\u001b[0m\u001b[0;34m]\u001b[0m \u001b[0;34m=\u001b[0m \u001b[0;34m[\u001b[0m\u001b[0;34m{\u001b[0m\u001b[0;34m'id'\u001b[0m \u001b[0;34m:\u001b[0m \u001b[0minput\u001b[0m\u001b[0;34m(\u001b[0m\u001b[0;34m'Please specify the id of the '\u001b[0m \u001b[0;34m+\u001b[0m \u001b[0mstr\u001b[0m\u001b[0;34m(\u001b[0m\u001b[0mindex\u001b[0m\u001b[0;34m)\u001b[0m \u001b[0;34m+\u001b[0m \u001b[0;34m' assay: '\u001b[0m\u001b[0;34m)\u001b[0m\u001b[0;34m,\u001b[0m \u001b[0;34m'type'\u001b[0m \u001b[0;34m:\u001b[0m \u001b[0;34m'assays'\u001b[0m\u001b[0;34m}\u001b[0m\u001b[0;34m]\u001b[0m\u001b[0;34m\u001b[0m\u001b[0m\n\u001b[0m\u001b[1;32m     18\u001b[0m     \u001b[0mJSON\u001b[0m\u001b[0;34m[\u001b[0m\u001b[0;34m'data'\u001b[0m\u001b[0;34m]\u001b[0m\u001b[0;34m[\u001b[0m\u001b[0;34m'relationships'\u001b[0m\u001b[0;34m]\u001b[0m\u001b[0;34m[\u001b[0m\u001b[0;34m'creators'\u001b[0m\u001b[0;34m]\u001b[0m \u001b[0;34m=\u001b[0m \u001b[0minput\u001b[0m\u001b[0;34m(\u001b[0m\u001b[0;34m'Please input the type: '\u001b[0m\u001b[0;34m)\u001b[0m\u001b[0;34m\u001b[0m\u001b[0m\n\u001b[1;32m     19\u001b[0m     \u001b[0mJSON\u001b[0m\u001b[0;34m[\u001b[0m\u001b[0;34m'data'\u001b[0m\u001b[0;34m]\u001b[0m\u001b[0;34m[\u001b[0m\u001b[0;34m'relationships'\u001b[0m\u001b[0;34m]\u001b[0m\u001b[0;34m[\u001b[0m\u001b[0;34m'data_files'\u001b[0m\u001b[0;34m]\u001b[0m \u001b[0;34m=\u001b[0m \u001b[0minput\u001b[0m\u001b[0;34m(\u001b[0m\u001b[0;34m'Please input the type: '\u001b[0m\u001b[0;34m)\u001b[0m\u001b[0;34m\u001b[0m\u001b[0m\n",
         "\u001b[0;31mKeyError\u001b[0m: 'assays'"
        ]
       }
      ],
      "source": "from WriteObject import WriteObject\n\nWO = WriteObject()\n\nWO.JSONForm()",
      "start_time": "2019-03-15T12:10:36.425Z"
     },
     {
      "end_time": "2019-03-15T12:22:14.350Z",
      "execution_time": "8.76s",
      "outputs": [
       {
        "name": "stdout",
        "output_type": "stream",
        "text": "Please specify the type: ad\nPlease specify the description: ad\nPlease specify other creators: ad\nPlease specify the snapshots: ad\nPlease specify the title: ad\nPlease specify how many assays is this investigation related to: 10\nPlease specify the id of the assay number 112\n"
       },
       {
        "ename": "IndexError",
        "evalue": "list assignment index out of range",
        "output_type": "error",
        "traceback": [
         "\u001b[0;31m---------------------------------------------------------------------------\u001b[0m",
         "\u001b[0;31mIndexError\u001b[0m                                Traceback (most recent call last)",
         "\u001b[0;32m<ipython-input-1-ed7a91e8dfa5>\u001b[0m in \u001b[0;36m<module>\u001b[0;34m()\u001b[0m\n\u001b[1;32m      3\u001b[0m \u001b[0mWO\u001b[0m \u001b[0;34m=\u001b[0m \u001b[0mWriteObject\u001b[0m\u001b[0;34m(\u001b[0m\u001b[0;34m)\u001b[0m\u001b[0;34m\u001b[0m\u001b[0m\n\u001b[1;32m      4\u001b[0m \u001b[0;34m\u001b[0m\u001b[0m\n\u001b[0;32m----> 5\u001b[0;31m \u001b[0mWO\u001b[0m\u001b[0;34m.\u001b[0m\u001b[0mJSONForm\u001b[0m\u001b[0;34m(\u001b[0m\u001b[0;34m)\u001b[0m\u001b[0;34m\u001b[0m\u001b[0m\n\u001b[0m",
         "\u001b[0;32m~/Work/ThirdYear/Seek/TheSeekNotebook/WriteObject.py\u001b[0m in \u001b[0;36mJSONForm\u001b[0;34m(self)\u001b[0m\n\u001b[1;32m     33\u001b[0m     \u001b[0;32mdef\u001b[0m \u001b[0mJSONForm\u001b[0m\u001b[0;34m(\u001b[0m\u001b[0mself\u001b[0m\u001b[0;34m)\u001b[0m\u001b[0;34m:\u001b[0m\u001b[0;34m\u001b[0m\u001b[0m\n\u001b[1;32m     34\u001b[0m \u001b[0;34m\u001b[0m\u001b[0m\n\u001b[0;32m---> 35\u001b[0;31m         \u001b[0mprint\u001b[0m\u001b[0;34m(\u001b[0m\u001b[0mHelper\u001b[0m\u001b[0;34m.\u001b[0m\u001b[0minvestigationFormat\u001b[0m\u001b[0;34m(\u001b[0m\u001b[0;34m)\u001b[0m\u001b[0;34m)\u001b[0m\u001b[0;34m\u001b[0m\u001b[0m\n\u001b[0m",
         "\u001b[0;32m~/Work/ThirdYear/Seek/TheSeekNotebook/Helper.py\u001b[0m in \u001b[0;36minvestigationFormat\u001b[0;34m()\u001b[0m\n\u001b[1;32m     17\u001b[0m     \u001b[0;32mfor\u001b[0m \u001b[0mindex\u001b[0m \u001b[0;32min\u001b[0m \u001b[0mrange\u001b[0m\u001b[0;34m(\u001b[0m\u001b[0;36m1\u001b[0m\u001b[0;34m,\u001b[0m \u001b[0mnumberOfAssays\u001b[0m \u001b[0;34m+\u001b[0m \u001b[0;36m1\u001b[0m\u001b[0;34m)\u001b[0m\u001b[0;34m:\u001b[0m\u001b[0;34m\u001b[0m\u001b[0m\n\u001b[1;32m     18\u001b[0m \u001b[0;34m\u001b[0m\u001b[0m\n\u001b[0;32m---> 19\u001b[0;31m         \u001b[0mJSON\u001b[0m\u001b[0;34m[\u001b[0m\u001b[0;34m'data'\u001b[0m\u001b[0;34m]\u001b[0m\u001b[0;34m[\u001b[0m\u001b[0;34m'relationships'\u001b[0m\u001b[0;34m]\u001b[0m\u001b[0;34m[\u001b[0m\u001b[0;34m'assays'\u001b[0m\u001b[0;34m]\u001b[0m\u001b[0;34m[\u001b[0m\u001b[0mindex\u001b[0m\u001b[0;34m]\u001b[0m \u001b[0;34m=\u001b[0m \u001b[0;34m[\u001b[0m\u001b[0;34m{\u001b[0m\u001b[0;34m'id'\u001b[0m \u001b[0;34m:\u001b[0m \u001b[0minput\u001b[0m\u001b[0;34m(\u001b[0m\u001b[0;34m'Please specify the id of the assay number '\u001b[0m \u001b[0;34m+\u001b[0m \u001b[0mstr\u001b[0m\u001b[0;34m(\u001b[0m\u001b[0mindex\u001b[0m\u001b[0;34m)\u001b[0m\u001b[0;34m)\u001b[0m\u001b[0;34m,\u001b[0m \u001b[0;34m'type'\u001b[0m \u001b[0;34m:\u001b[0m \u001b[0;34m'assays'\u001b[0m\u001b[0;34m}\u001b[0m\u001b[0;34m]\u001b[0m\u001b[0;34m\u001b[0m\u001b[0m\n\u001b[0m\u001b[1;32m     20\u001b[0m \u001b[0;34m\u001b[0m\u001b[0m\n\u001b[1;32m     21\u001b[0m     \u001b[0mJSON\u001b[0m\u001b[0;34m[\u001b[0m\u001b[0;34m'data'\u001b[0m\u001b[0;34m]\u001b[0m\u001b[0;34m[\u001b[0m\u001b[0;34m'relationships'\u001b[0m\u001b[0;34m]\u001b[0m\u001b[0;34m[\u001b[0m\u001b[0;34m'assays'\u001b[0m\u001b[0;34m]\u001b[0m \u001b[0;34m=\u001b[0m \u001b[0;34m[\u001b[0m\u001b[0;34m]\u001b[0m\u001b[0;34m\u001b[0m\u001b[0m\n",
         "\u001b[0;31mIndexError\u001b[0m: list assignment index out of range"
        ]
       }
      ],
      "source": "from WriteObject import WriteObject\n\nWO = WriteObject()\n\nWO.JSONForm()",
      "start_time": "2019-03-15T12:22:05.590Z"
     },
     {
      "end_time": "2019-03-15T12:22:29.283Z",
      "execution_time": "5.83s",
      "outputs": [
       {
        "name": "stdout",
        "output_type": "stream",
        "text": "Please specify the type: asd\nPlease specify the description: asd\nPlease specify other creators: asd\nPlease specify the snapshots: asd\nPlease specify the title: asd\nPlease specify how many assays is this investigation related to: 10\nPlease specify the id of the assay number 123\n"
       },
       {
        "ename": "IndexError",
        "evalue": "list assignment index out of range",
        "output_type": "error",
        "traceback": [
         "\u001b[0;31m---------------------------------------------------------------------------\u001b[0m",
         "\u001b[0;31mIndexError\u001b[0m                                Traceback (most recent call last)",
         "\u001b[0;32m<ipython-input-2-ed7a91e8dfa5>\u001b[0m in \u001b[0;36m<module>\u001b[0;34m()\u001b[0m\n\u001b[1;32m      3\u001b[0m \u001b[0mWO\u001b[0m \u001b[0;34m=\u001b[0m \u001b[0mWriteObject\u001b[0m\u001b[0;34m(\u001b[0m\u001b[0;34m)\u001b[0m\u001b[0;34m\u001b[0m\u001b[0m\n\u001b[1;32m      4\u001b[0m \u001b[0;34m\u001b[0m\u001b[0m\n\u001b[0;32m----> 5\u001b[0;31m \u001b[0mWO\u001b[0m\u001b[0;34m.\u001b[0m\u001b[0mJSONForm\u001b[0m\u001b[0;34m(\u001b[0m\u001b[0;34m)\u001b[0m\u001b[0;34m\u001b[0m\u001b[0m\n\u001b[0m",
         "\u001b[0;32m~/Work/ThirdYear/Seek/TheSeekNotebook/WriteObject.py\u001b[0m in \u001b[0;36mJSONForm\u001b[0;34m(self)\u001b[0m\n\u001b[1;32m     33\u001b[0m     \u001b[0;32mdef\u001b[0m \u001b[0mJSONForm\u001b[0m\u001b[0;34m(\u001b[0m\u001b[0mself\u001b[0m\u001b[0;34m)\u001b[0m\u001b[0;34m:\u001b[0m\u001b[0;34m\u001b[0m\u001b[0m\n\u001b[1;32m     34\u001b[0m \u001b[0;34m\u001b[0m\u001b[0m\n\u001b[0;32m---> 35\u001b[0;31m         \u001b[0mprint\u001b[0m\u001b[0;34m(\u001b[0m\u001b[0mHelper\u001b[0m\u001b[0;34m.\u001b[0m\u001b[0minvestigationFormat\u001b[0m\u001b[0;34m(\u001b[0m\u001b[0;34m)\u001b[0m\u001b[0;34m)\u001b[0m\u001b[0;34m\u001b[0m\u001b[0m\n\u001b[0m",
         "\u001b[0;32m~/Work/ThirdYear/Seek/TheSeekNotebook/Helper.py\u001b[0m in \u001b[0;36minvestigationFormat\u001b[0;34m()\u001b[0m\n\u001b[1;32m     17\u001b[0m     \u001b[0;32mfor\u001b[0m \u001b[0mindex\u001b[0m \u001b[0;32min\u001b[0m \u001b[0mrange\u001b[0m\u001b[0;34m(\u001b[0m\u001b[0;36m1\u001b[0m\u001b[0;34m,\u001b[0m \u001b[0mnumberOfAssays\u001b[0m \u001b[0;34m+\u001b[0m \u001b[0;36m1\u001b[0m\u001b[0;34m)\u001b[0m\u001b[0;34m:\u001b[0m\u001b[0;34m\u001b[0m\u001b[0m\n\u001b[1;32m     18\u001b[0m \u001b[0;34m\u001b[0m\u001b[0m\n\u001b[0;32m---> 19\u001b[0;31m         \u001b[0mJSON\u001b[0m\u001b[0;34m[\u001b[0m\u001b[0;34m'data'\u001b[0m\u001b[0;34m]\u001b[0m\u001b[0;34m[\u001b[0m\u001b[0;34m'relationships'\u001b[0m\u001b[0;34m]\u001b[0m\u001b[0;34m[\u001b[0m\u001b[0;34m'assays'\u001b[0m\u001b[0;34m]\u001b[0m\u001b[0;34m[\u001b[0m\u001b[0mindex\u001b[0m\u001b[0;34m]\u001b[0m \u001b[0;34m=\u001b[0m \u001b[0;34m[\u001b[0m\u001b[0;34m{\u001b[0m\u001b[0;34m'id'\u001b[0m \u001b[0;34m:\u001b[0m \u001b[0minput\u001b[0m\u001b[0;34m(\u001b[0m\u001b[0;34m'Please specify the id of the assay number '\u001b[0m \u001b[0;34m+\u001b[0m \u001b[0mstr\u001b[0m\u001b[0;34m(\u001b[0m\u001b[0mindex\u001b[0m\u001b[0;34m)\u001b[0m\u001b[0;34m)\u001b[0m\u001b[0;34m,\u001b[0m \u001b[0;34m'type'\u001b[0m \u001b[0;34m:\u001b[0m \u001b[0;34m'assays'\u001b[0m\u001b[0;34m}\u001b[0m\u001b[0;34m]\u001b[0m\u001b[0;34m\u001b[0m\u001b[0m\n\u001b[0m\u001b[1;32m     20\u001b[0m \u001b[0;34m\u001b[0m\u001b[0m\n\u001b[1;32m     21\u001b[0m     \u001b[0mJSON\u001b[0m\u001b[0;34m[\u001b[0m\u001b[0;34m'data'\u001b[0m\u001b[0;34m]\u001b[0m\u001b[0;34m[\u001b[0m\u001b[0;34m'relationships'\u001b[0m\u001b[0;34m]\u001b[0m\u001b[0;34m[\u001b[0m\u001b[0;34m'assays'\u001b[0m\u001b[0;34m]\u001b[0m \u001b[0;34m=\u001b[0m \u001b[0;34m[\u001b[0m\u001b[0;34m]\u001b[0m\u001b[0;34m\u001b[0m\u001b[0m\n",
         "\u001b[0;31mIndexError\u001b[0m: list assignment index out of range"
        ]
       }
      ],
      "source": "from WriteObject import WriteObject\n\nWO = WriteObject()\n\nWO.JSONForm()",
      "start_time": "2019-03-15T12:22:23.451Z"
     },
     {
      "end_time": "2019-03-15T12:22:56.383Z",
      "execution_time": "103ms",
      "outputs": [
       {
        "ename": "SyntaxError",
        "evalue": "invalid syntax (Helper.py, line 19)",
        "output_type": "error",
        "traceback": [
         "Traceback \u001b[0;36m(most recent call last)\u001b[0m:\n",
         "  File \u001b[1;32m\"/home/bogdan/anaconda3/lib/python3.6/site-packages/IPython/core/interactiveshell.py\"\u001b[0m, line \u001b[1;32m2963\u001b[0m, in \u001b[1;35mrun_code\u001b[0m\n    exec(code_obj, self.user_global_ns, self.user_ns)\n",
         "  File \u001b[1;32m\"<ipython-input-1-ed7a91e8dfa5>\"\u001b[0m, line \u001b[1;32m1\u001b[0m, in \u001b[1;35m<module>\u001b[0m\n    from WriteObject import WriteObject\n",
         "\u001b[0;36m  File \u001b[0;32m\"/home/bogdan/Work/ThirdYear/Seek/TheSeekNotebook/WriteObject.py\"\u001b[0;36m, line \u001b[0;32m5\u001b[0;36m, in \u001b[0;35m<module>\u001b[0;36m\u001b[0m\n\u001b[0;31m    import Helper\u001b[0m\n",
         "\u001b[0;36m  File \u001b[0;32m\"/home/bogdan/Work/ThirdYear/Seek/TheSeekNotebook/Helper.py\"\u001b[0;36m, line \u001b[0;32m19\u001b[0m\n\u001b[0;31m    JSON['data']['relationships']['assays'].append([{'id' : input('Please specify the id of the assay number ' + str(index)), 'type' : 'assays'})\u001b[0m\n\u001b[0m                                                                                                                                                ^\u001b[0m\n\u001b[0;31mSyntaxError\u001b[0m\u001b[0;31m:\u001b[0m invalid syntax\n"
        ]
       }
      ],
      "source": "from WriteObject import WriteObject\n\nWO = WriteObject()\n\nWO.JSONForm()",
      "start_time": "2019-03-15T12:22:56.280Z"
     },
     {
      "end_time": "2019-03-15T12:36:50.929Z",
      "execution_time": "2m 5s",
      "outputs": [
       {
        "name": "stdout",
        "output_type": "stream",
        "text": "Please specify the type: l\nPlease specify the description: l\nPlease specify other creators: \nPlease specify the snapshots: l\nPlease specify the title: l\nPlease specify how many assays is this investigation related to: 0\nPlease specify how many creators is this investigation related to: 0\nPlease specify how many data files is this investigation related to: 1\nPlease specify the id of the data file number 1123\nPlease specify how many documents is this investigation related to: 0\nPlease specify how many models is this investigation related to: 23\nPlease specify the id of the model number 12\nPlease specify the id of the model number 23\nPlease specify the id of the model number 34\nPlease specify the id of the model number 45\nPlease specify the id of the model number 56\nPlease specify the id of the model number 63\nPlease specify the id of the model number 76\nPlease specify the id of the model number 83\nPlease specify the id of the model number 95\nPlease specify the id of the model number 106\nPlease specify the id of the model number 113\nPlease specify the id of the model number 125\nPlease specify the id of the model number 132\nPlease specify the id of the model number 145\nPlease specify the id of the model number 152\nPlease specify the id of the model number 165\nPlease specify the id of the model number 173\nPlease specify the id of the model number 185\nPlease specify the id of the model number 192\nPlease specify the id of the model number 201\nPlease specify the id of the model number 215\nPlease specify the id of the model number 222\nPlease specify the id of the model number 235\nPlease specify how many people is this investigation related to: 0\nPlease specify how many projects is this investigation related to: 0\nPlease specify how many publications is this investigation related to: 0\nPlease specify how many sops is this investigation related to: 0\nPlease specify how many studies is this investigation related to: 0\nPlease specify how many submitters is this investigation related to: 0\nPlease input the type: asd\nPlease input the type: asd\nPlease input the type: asd\nPlease input the type: \nPlease input the type: asd\nPlease input the type: asd\n"
       },
       {
        "ename": "KeyError",
        "evalue": "'links'",
        "output_type": "error",
        "traceback": [
         "\u001b[0;31m---------------------------------------------------------------------------\u001b[0m",
         "\u001b[0;31mKeyError\u001b[0m                                  Traceback (most recent call last)",
         "\u001b[0;32m<ipython-input-1-ed7a91e8dfa5>\u001b[0m in \u001b[0;36m<module>\u001b[0;34m()\u001b[0m\n\u001b[1;32m      3\u001b[0m \u001b[0mWO\u001b[0m \u001b[0;34m=\u001b[0m \u001b[0mWriteObject\u001b[0m\u001b[0;34m(\u001b[0m\u001b[0;34m)\u001b[0m\u001b[0;34m\u001b[0m\u001b[0m\n\u001b[1;32m      4\u001b[0m \u001b[0;34m\u001b[0m\u001b[0m\n\u001b[0;32m----> 5\u001b[0;31m \u001b[0mWO\u001b[0m\u001b[0;34m.\u001b[0m\u001b[0mJSONForm\u001b[0m\u001b[0;34m(\u001b[0m\u001b[0;34m)\u001b[0m\u001b[0;34m\u001b[0m\u001b[0m\n\u001b[0m",
         "\u001b[0;32m~/Work/ThirdYear/Seek/TheSeekNotebook/WriteObject.py\u001b[0m in \u001b[0;36mJSONForm\u001b[0;34m(self)\u001b[0m\n\u001b[1;32m     33\u001b[0m     \u001b[0;32mdef\u001b[0m \u001b[0mJSONForm\u001b[0m\u001b[0;34m(\u001b[0m\u001b[0mself\u001b[0m\u001b[0;34m)\u001b[0m\u001b[0;34m:\u001b[0m\u001b[0;34m\u001b[0m\u001b[0m\n\u001b[1;32m     34\u001b[0m \u001b[0;34m\u001b[0m\u001b[0m\n\u001b[0;32m---> 35\u001b[0;31m         \u001b[0mprint\u001b[0m\u001b[0;34m(\u001b[0m\u001b[0mHelper\u001b[0m\u001b[0;34m.\u001b[0m\u001b[0minvestigationFormat\u001b[0m\u001b[0;34m(\u001b[0m\u001b[0;34m)\u001b[0m\u001b[0;34m)\u001b[0m\u001b[0;34m\u001b[0m\u001b[0m\n\u001b[0m",
         "\u001b[0;32m~/Work/ThirdYear/Seek/TheSeekNotebook/Helper.py\u001b[0m in \u001b[0;36minvestigationFormat\u001b[0;34m()\u001b[0m\n\u001b[1;32m     86\u001b[0m     \u001b[0mJSON\u001b[0m\u001b[0;34m[\u001b[0m\u001b[0;34m'data'\u001b[0m\u001b[0;34m]\u001b[0m\u001b[0;34m[\u001b[0m\u001b[0;34m'meta'\u001b[0m\u001b[0;34m]\u001b[0m\u001b[0;34m[\u001b[0m\u001b[0;34m'modified'\u001b[0m\u001b[0;34m]\u001b[0m \u001b[0;34m=\u001b[0m \u001b[0minput\u001b[0m\u001b[0;34m(\u001b[0m\u001b[0;34m'Please input the type: '\u001b[0m\u001b[0;34m)\u001b[0m\u001b[0;34m\u001b[0m\u001b[0m\n\u001b[1;32m     87\u001b[0m \u001b[0;34m\u001b[0m\u001b[0m\n\u001b[0;32m---> 88\u001b[0;31m     \u001b[0mJSON\u001b[0m\u001b[0;34m[\u001b[0m\u001b[0;34m'data'\u001b[0m\u001b[0;34m]\u001b[0m\u001b[0;34m[\u001b[0m\u001b[0;34m'links'\u001b[0m\u001b[0;34m]\u001b[0m\u001b[0;34m[\u001b[0m\u001b[0;34m'self'\u001b[0m\u001b[0;34m]\u001b[0m \u001b[0;34m=\u001b[0m \u001b[0minput\u001b[0m\u001b[0;34m(\u001b[0m\u001b[0;34m'Please input the type: '\u001b[0m\u001b[0;34m)\u001b[0m\u001b[0;34m\u001b[0m\u001b[0m\n\u001b[0m\u001b[1;32m     89\u001b[0m \u001b[0;34m\u001b[0m\u001b[0m\n\u001b[1;32m     90\u001b[0m     \u001b[0;32mreturn\u001b[0m \u001b[0mJSON\u001b[0m\u001b[0;34m\u001b[0m\u001b[0m\n",
         "\u001b[0;31mKeyError\u001b[0m: 'links'"
        ]
       }
      ],
      "source": "from WriteObject import WriteObject\n\nWO = WriteObject()\n\nWO.JSONForm()",
      "start_time": "2019-03-15T12:34:46.097Z"
     },
     {
      "end_time": "2019-03-15T12:46:25.168Z",
      "execution_time": "38.3s",
      "outputs": [
       {
        "name": "stdout",
        "output_type": "stream",
        "text": "Please specify the type: liver\nPlease specify the description: sd\nPlease specify other creators: asd\nPlease specify the snapshots: asd\nPlease specify the title: a\nPlease specify how many assays is this investigation related to: 1\nPlease specify the id of the assay number 1123\nPlease specify how many creators is this investigation related to: 0\nPlease specify how many data files is this investigation related to: 3\nPlease specify the id of the data file number 1213\nPlease specify the id of the data file number 232\nPlease specify the id of the data file number 342\nPlease specify how many documents is this investigation related to: 1\nPlease specify the id of the document number 1241\nPlease specify how many models is this investigation related to: 1\nPlease specify the id of the model number 1421\nPlease specify how many people is this investigation related to: 1\nPlease specify the id of the person number 142\nPlease specify how many projects is this investigation related to: 1\nPlease specify the id of the project number 1421\nPlease specify how many publications is this investigation related to: 1\nPlease specify the id of the publication number 142\nPlease specify how many sops is this investigation related to: 1\nPlease specify the id of the sop number 142\nPlease specify how many studies is this investigation related to: 0\nPlease specify how many submitters is this investigation related to: 0\n{'data': {'type': 'liver', 'attributes': {'description': 'sd', 'other_creators': 'asd', 'snapshots': 'asd', 'title': 'a'}, 'relationships': {'assays': [[{'id': '123', 'type': 'assays'}]], 'creators': [], 'data_files': [[{'id': '213', 'type': 'data_files'}], [{'id': '32', 'type': 'data_files'}], [{'id': '42', 'type': 'data_files'}]], 'documents': [[{'id': '241', 'type': 'documents'}]], 'models': [[{'id': '421', 'type': 'models'}]], 'people': [[{'id': '42', 'type': 'people'}]], 'projects': [[{'id': '421', 'type': 'projects'}], [{'id': '42', 'type': 'publications'}]], 'publications': [], 'sops': [[{'id': '42', 'type': 'sops'}]], 'studies': [], 'submitter': []}}}\n"
       }
      ],
      "source": "from WriteObject import WriteObject\n\nWO = WriteObject()\n\nWO.JSONForm()",
      "start_time": "2019-03-15T12:45:46.913Z"
     },
     {
      "end_time": "2019-03-15T12:56:27.609Z",
      "execution_time": "32.6s",
      "outputs": [
       {
        "name": "stdout",
        "output_type": "stream",
        "text": "Please specify the type: ds\nPlease specify the description: ds\nPlease specify other creators: ds\nPlease specify the snapshots: ds\nPlease specify the title: ds\nPlease specify how many assays is this investigation related to: 1\nPlease specify the id of the assay number 123\nPlease specify how many creators is this investigation related to: 0\nPlease specify how many data files is this investigation related to: 9\nPlease specify the id of the data file number 1123\nPlease specify the id of the data file number 2123\nPlease specify the id of the data file number 3123\nPlease specify the id of the data file number 41\nPlease specify the id of the data file number 51\nPlease specify the id of the data file number 61\nPlease specify the id of the data file number 71\nPlease specify the id of the data file number 81\nPlease specify the id of the data file number 91\nPlease specify how many documents is this investigation related to: 1\nPlease specify the id of the document number 111\nPlease specify how many models is this investigation related to: 1\nPlease specify the id of the model number 11\nPlease specify how many people is this investigation related to: 1\nPlease specify the id of the person number 11\nPlease specify how many projects is this investigation related to: 1\nPlease specify the id of the project number 11\nPlease specify how many publications is this investigation related to: 1\nPlease specify the id of the publication number 11\nPlease specify how many sops is this investigation related to: 1\nPlease specify the id of the sop number 11\nPlease specify how many studies is this investigation related to: 1\nPlease specify the id of the study number 11\nPlease specify how many submitters is this investigation related to: 1\n"
       },
       {
        "ename": "KeyError",
        "evalue": "'submitters'",
        "output_type": "error",
        "traceback": [
         "\u001b[0;31m---------------------------------------------------------------------------\u001b[0m",
         "\u001b[0;31mKeyError\u001b[0m                                  Traceback (most recent call last)",
         "\u001b[0;32m<ipython-input-1-ed7a91e8dfa5>\u001b[0m in \u001b[0;36m<module>\u001b[0;34m()\u001b[0m\n\u001b[1;32m      3\u001b[0m \u001b[0mWO\u001b[0m \u001b[0;34m=\u001b[0m \u001b[0mWriteObject\u001b[0m\u001b[0;34m(\u001b[0m\u001b[0;34m)\u001b[0m\u001b[0;34m\u001b[0m\u001b[0m\n\u001b[1;32m      4\u001b[0m \u001b[0;34m\u001b[0m\u001b[0m\n\u001b[0;32m----> 5\u001b[0;31m \u001b[0mWO\u001b[0m\u001b[0;34m.\u001b[0m\u001b[0mJSONForm\u001b[0m\u001b[0;34m(\u001b[0m\u001b[0;34m)\u001b[0m\u001b[0;34m\u001b[0m\u001b[0m\n\u001b[0m",
         "\u001b[0;32m~/Work/ThirdYear/Seek/TheSeekNotebook/WriteObject.py\u001b[0m in \u001b[0;36mJSONForm\u001b[0;34m(self)\u001b[0m\n\u001b[1;32m     33\u001b[0m     \u001b[0;32mdef\u001b[0m \u001b[0mJSONForm\u001b[0m\u001b[0;34m(\u001b[0m\u001b[0mself\u001b[0m\u001b[0;34m)\u001b[0m\u001b[0;34m:\u001b[0m\u001b[0;34m\u001b[0m\u001b[0m\n\u001b[1;32m     34\u001b[0m \u001b[0;34m\u001b[0m\u001b[0m\n\u001b[0;32m---> 35\u001b[0;31m         \u001b[0mprint\u001b[0m\u001b[0;34m(\u001b[0m\u001b[0mHelper\u001b[0m\u001b[0;34m.\u001b[0m\u001b[0minvestigationFormat\u001b[0m\u001b[0;34m(\u001b[0m\u001b[0;34m)\u001b[0m\u001b[0;34m)\u001b[0m\u001b[0;34m\u001b[0m\u001b[0m\n\u001b[0m",
         "\u001b[0;32m~/Work/ThirdYear/Seek/TheSeekNotebook/Helper.py\u001b[0m in \u001b[0;36minvestigationFormat\u001b[0;34m()\u001b[0m\n\u001b[1;32m    170\u001b[0m     \u001b[0;32mfor\u001b[0m \u001b[0mindex\u001b[0m \u001b[0;32min\u001b[0m \u001b[0mrange\u001b[0m\u001b[0;34m(\u001b[0m\u001b[0;36m1\u001b[0m\u001b[0;34m,\u001b[0m \u001b[0mnumberOfSubmitters\u001b[0m \u001b[0;34m+\u001b[0m \u001b[0;36m1\u001b[0m\u001b[0;34m)\u001b[0m\u001b[0;34m:\u001b[0m\u001b[0;34m\u001b[0m\u001b[0m\n\u001b[1;32m    171\u001b[0m \u001b[0;34m\u001b[0m\u001b[0m\n\u001b[0;32m--> 172\u001b[0;31m         \u001b[0mJSON\u001b[0m\u001b[0;34m[\u001b[0m\u001b[0;34m'data'\u001b[0m\u001b[0;34m]\u001b[0m\u001b[0;34m[\u001b[0m\u001b[0;34m'relationships'\u001b[0m\u001b[0;34m]\u001b[0m\u001b[0;34m[\u001b[0m\u001b[0;34m'submitters'\u001b[0m\u001b[0;34m]\u001b[0m\u001b[0;34m.\u001b[0m\u001b[0mappend\u001b[0m\u001b[0;34m(\u001b[0m\u001b[0;34m[\u001b[0m\u001b[0;34m{\u001b[0m\u001b[0;34m'id'\u001b[0m \u001b[0;34m:\u001b[0m \u001b[0minput\u001b[0m\u001b[0;34m(\u001b[0m\u001b[0;34m'Please specify the id of the submitters number '\u001b[0m \u001b[0;34m+\u001b[0m \u001b[0mstr\u001b[0m\u001b[0;34m(\u001b[0m\u001b[0mindex\u001b[0m\u001b[0;34m)\u001b[0m\u001b[0;34m)\u001b[0m\u001b[0;34m,\u001b[0m \u001b[0;34m'type'\u001b[0m \u001b[0;34m:\u001b[0m \u001b[0;34m'submitters'\u001b[0m\u001b[0;34m}\u001b[0m\u001b[0;34m]\u001b[0m\u001b[0;34m)\u001b[0m\u001b[0;34m\u001b[0m\u001b[0m\n\u001b[0m\u001b[1;32m    173\u001b[0m \u001b[0;34m\u001b[0m\u001b[0m\n\u001b[1;32m    174\u001b[0m \u001b[0;34m\u001b[0m\u001b[0m\n",
         "\u001b[0;31mKeyError\u001b[0m: 'submitters'"
        ]
       }
      ],
      "source": "from WriteObject import WriteObject\n\nWO = WriteObject()\n\nWO.JSONForm()",
      "start_time": "2019-03-15T12:55:55.039Z"
     },
     {
      "end_time": "2019-03-15T13:13:27.966Z",
      "execution_time": "34.5s",
      "outputs": [
       {
        "name": "stdout",
        "output_type": "stream",
        "text": "Please specify the description: d\nPlease specify other creators: d\nPlease specify the snapshots: d\nPlease specify the title: Mega title\nPlease specify the assay class description: da\nPlease specify the assay class key: da\nPlease specify the assay class title: da\nPlease specify the assay type label: da\nPlease specify the assay type uri: da\nPlease specify the technology type label: da\nPlease specify the technology type uri: da\nPlease specify other creators: daa\nPlease specify the snapshots: da\nPlease specify the title: da\n"
       },
       {
        "ename": "NameError",
        "evalue": "name 'JSON' is not defined",
        "output_type": "error",
        "traceback": [
         "\u001b[0;31m---------------------------------------------------------------------------\u001b[0m",
         "\u001b[0;31mNameError\u001b[0m                                 Traceback (most recent call last)",
         "\u001b[0;32m<ipython-input-1-ed7a91e8dfa5>\u001b[0m in \u001b[0;36m<module>\u001b[0;34m()\u001b[0m\n\u001b[1;32m      3\u001b[0m \u001b[0mWO\u001b[0m \u001b[0;34m=\u001b[0m \u001b[0mWriteObject\u001b[0m\u001b[0;34m(\u001b[0m\u001b[0;34m)\u001b[0m\u001b[0;34m\u001b[0m\u001b[0m\n\u001b[1;32m      4\u001b[0m \u001b[0;34m\u001b[0m\u001b[0m\n\u001b[0;32m----> 5\u001b[0;31m \u001b[0mWO\u001b[0m\u001b[0;34m.\u001b[0m\u001b[0mJSONForm\u001b[0m\u001b[0;34m(\u001b[0m\u001b[0;34m)\u001b[0m\u001b[0;34m\u001b[0m\u001b[0m\n\u001b[0m",
         "\u001b[0;32m~/Work/ThirdYear/Seek/TheSeekNotebook/WriteObject.py\u001b[0m in \u001b[0;36mJSONForm\u001b[0;34m(self)\u001b[0m\n\u001b[1;32m     33\u001b[0m     \u001b[0;32mdef\u001b[0m \u001b[0mJSONForm\u001b[0m\u001b[0;34m(\u001b[0m\u001b[0mself\u001b[0m\u001b[0;34m)\u001b[0m\u001b[0;34m:\u001b[0m\u001b[0;34m\u001b[0m\u001b[0m\n\u001b[1;32m     34\u001b[0m \u001b[0;34m\u001b[0m\u001b[0m\n\u001b[0;32m---> 35\u001b[0;31m         \u001b[0mprint\u001b[0m\u001b[0;34m(\u001b[0m\u001b[0mHelper\u001b[0m\u001b[0;34m.\u001b[0m\u001b[0massayFormat\u001b[0m\u001b[0;34m(\u001b[0m\u001b[0;34m)\u001b[0m\u001b[0;34m)\u001b[0m\u001b[0;34m\u001b[0m\u001b[0m\n\u001b[0m",
         "\u001b[0;32m~/Work/ThirdYear/Seek/TheSeekNotebook/Helper.py\u001b[0m in \u001b[0;36massayFormat\u001b[0;34m()\u001b[0m\n\u001b[1;32m     38\u001b[0m \u001b[0;34m\u001b[0m\u001b[0m\n\u001b[1;32m     39\u001b[0m \u001b[0;34m\u001b[0m\u001b[0m\n\u001b[0;32m---> 40\u001b[0;31m     \u001b[0mrelationsFormat\u001b[0m\u001b[0;34m(\u001b[0m\u001b[0;34m'creators'\u001b[0m\u001b[0;34m)\u001b[0m\u001b[0;34m\u001b[0m\u001b[0m\n\u001b[0m\u001b[1;32m     41\u001b[0m     \u001b[0mrelationsFormat\u001b[0m\u001b[0;34m(\u001b[0m\u001b[0;34m'data_files'\u001b[0m\u001b[0;34m)\u001b[0m\u001b[0;34m\u001b[0m\u001b[0m\n\u001b[1;32m     42\u001b[0m     \u001b[0mrelationsFormat\u001b[0m\u001b[0;34m(\u001b[0m\u001b[0;34m'documents'\u001b[0m\u001b[0;34m)\u001b[0m\u001b[0;34m\u001b[0m\u001b[0m\n",
         "\u001b[0;32m~/Work/ThirdYear/Seek/TheSeekNotebook/Helper.py\u001b[0m in \u001b[0;36mrelationsFormat\u001b[0;34m(type)\u001b[0m\n\u001b[1;32m      1\u001b[0m \u001b[0;32mdef\u001b[0m \u001b[0mrelationsFormat\u001b[0m\u001b[0;34m(\u001b[0m\u001b[0mtype\u001b[0m\u001b[0;34m)\u001b[0m\u001b[0;34m:\u001b[0m\u001b[0;34m\u001b[0m\u001b[0m\n\u001b[0;32m----> 2\u001b[0;31m     \u001b[0mJSON\u001b[0m\u001b[0;34m[\u001b[0m\u001b[0;34m'data'\u001b[0m\u001b[0;34m]\u001b[0m\u001b[0;34m[\u001b[0m\u001b[0;34m'relationships'\u001b[0m\u001b[0;34m]\u001b[0m\u001b[0;34m[\u001b[0m\u001b[0mtype\u001b[0m\u001b[0;34m]\u001b[0m \u001b[0;34m=\u001b[0m \u001b[0;34m[\u001b[0m\u001b[0;34m]\u001b[0m\u001b[0;34m\u001b[0m\u001b[0m\n\u001b[0m\u001b[1;32m      3\u001b[0m     \u001b[0mnumberOfRelations\u001b[0m \u001b[0;34m=\u001b[0m \u001b[0mint\u001b[0m\u001b[0;34m(\u001b[0m\u001b[0minput\u001b[0m\u001b[0;34m(\u001b[0m\u001b[0;34m'Please specify how many '\u001b[0m \u001b[0;34m+\u001b[0m \u001b[0mtype\u001b[0m \u001b[0;34m+\u001b[0m \u001b[0;34m' is this investigation related to: '\u001b[0m\u001b[0;34m)\u001b[0m\u001b[0;34m)\u001b[0m\u001b[0;34m\u001b[0m\u001b[0m\n\u001b[1;32m      4\u001b[0m     \u001b[0;32mfor\u001b[0m \u001b[0mindex\u001b[0m \u001b[0;32min\u001b[0m \u001b[0mrange\u001b[0m\u001b[0;34m(\u001b[0m\u001b[0;36m1\u001b[0m\u001b[0;34m,\u001b[0m \u001b[0mnumberOfRelations\u001b[0m \u001b[0;34m+\u001b[0m \u001b[0;36m1\u001b[0m\u001b[0;34m)\u001b[0m\u001b[0;34m:\u001b[0m\u001b[0;34m\u001b[0m\u001b[0m\n\u001b[1;32m      5\u001b[0m \u001b[0;34m\u001b[0m\u001b[0m\n",
         "\u001b[0;31mNameError\u001b[0m: name 'JSON' is not defined"
        ]
       }
      ],
      "source": "from WriteObject import WriteObject\n\nWO = WriteObject()\n\nWO.JSONForm()",
      "start_time": "2019-03-15T13:12:53.512Z"
     },
     {
      "end_time": "2019-03-15T13:15:02.102Z",
      "execution_time": "19.9s",
      "outputs": [
       {
        "name": "stdout",
        "output_type": "stream",
        "text": "Please specify the description: d\nPlease specify other creators: d\nPlease specify the snapshots: d\nPlease specify the title: d\nPlease specify the assay class description: d\nPlease specify the assay class key: d\nPlease specify the assay class title: d\nPlease specify the assay type label: d\nPlease specify the assay type uri: d\nPlease specify the technology type label: d\nPlease specify the technology type uri: d\nPlease specify other creators: d\nPlease specify the snapshots: d\nPlease specify the title: Mega title\nPlease specify how many creators is this investigation related to: 0\nPlease specify how many data_files is this investigation related to: 0\nPlease specify how many documents is this investigation related to: 0\nPlease specify how many investigations is this investigation related to: 0\nPlease specify how many models is this investigation related to: 0\nPlease specify how many people is this investigation related to: 0\nPlease specify how many projects is this investigation related to: 0\nPlease specify how many publications is this investigation related to: 0\nPlease specify how many sops is this investigation related to: 0\nPlease specify how many studies is this investigation related to: 0\nPlease specify how many submitters is this investigation related to: 0\n{'data': {'type': 'assays', 'attributes': {'description': 'd', 'other_creators': 'd', 'snapshots': 'd', 'title': 'Mega title', 'assay_class': {'description': 'd', 'key': 'd', 'title': 'd'}, 'assay_type': {'label': 'd', 'uri': 'd'}, 'technology_type': {'label': 'd', 'uri': 'd'}}, 'relationships': {'creators': [], 'data_files': [], 'documents': [], 'investigations': [], 'models': [], 'people': [], 'projects': [], 'publications': [], 'sops': [], 'studies': [], 'submitters': []}}}\n"
       }
      ],
      "source": "from WriteObject import WriteObject\n\nWO = WriteObject()\n\nWO.JSONForm()",
      "start_time": "2019-03-15T13:14:42.217Z"
     },
     {
      "end_time": "2019-03-15T13:22:52.251Z",
      "execution_time": "3.58s",
      "outputs": [
       {
        "data": {
         "text/html": "<h3>SEEK FORM</h3>",
         "text/plain": "<IPython.core.display.HTML object>"
        },
        "metadata": {},
        "output_type": "display_data",
        "transient": {}
       },
       {
        "name": "stdout",
        "output_type": "stream",
        "text": "\nThe type of object you want to upload to SEEK: assays\n\nYou need to complete the following for in order to succesfully upload your information to SEEK\n"
       }
      ],
      "source": "from WriteObject import WriteObject\n\nWO = WriteObject()\n\nWO.SEEKForm()",
      "start_time": "2019-03-15T13:22:48.668Z"
     },
     {
      "end_time": "2019-03-15T13:24:49.308Z",
      "execution_time": "40.0s",
      "outputs": [
       {
        "data": {
         "text/html": "<h3>SEEK FORM</h3>",
         "text/plain": "<IPython.core.display.HTML object>"
        },
        "metadata": {},
        "output_type": "display_data",
        "transient": {}
       },
       {
        "name": "stdout",
        "output_type": "stream",
        "text": "\nThe type of object you want to upload to SEEK: assays\n\nYou need to complete the following form in order to succesfully upload your information to SEEK\nPlease specify the description: a\nPlease specify other creators: a\nPlease specify the snapshots: a\nPlease specify the title: a\nPlease specify the assay class description: a\nPlease specify the assay class key: a\nPlease specify the assay class title: a\nPlease specify the assay type label: a\nPlease specify the assay type uri: a\nPlease specify the technology type label: a\nPlease specify the technology type uri: a\nPlease specify other creators: a\nPlease specify the snapshots: a\nPlease specify the title: a\nPlease specify how many creators is this investigation related to: 1\nPlease specify the id of the creator number 11\nPlease specify how many data_files is this investigation related to: 1\nPlease specify the id of the data_file number 11\nPlease specify how many documents is this investigation related to: 1\nPlease specify the id of the document number 11\nPlease specify how many investigations is this investigation related to: 1\nPlease specify the id of the investigation number 11\nPlease specify how many models is this investigation related to: 1\nPlease specify the id of the model number 11\nPlease specify how many people is this investigation related to: 1\nPlease specify the id of the peopl number 11\nPlease specify how many projects is this investigation related to: 1\nPlease specify the id of the project number 11\nPlease specify how many publications is this investigation related to: 1\nPlease specify the id of the publication number 11\nPlease specify how many sops is this investigation related to: 1\nPlease specify the id of the sop number 11\nPlease specify how many studies is this investigation related to: 1\nPlease specify the id of the studie number 11\nPlease specify how many submitters is this investigation related to: 1\nPlease specify the id of the submitter number 11\n{'data': {'type': 'assays', 'attributes': {'description': 'a', 'other_creators': 'a', 'snapshots': 'a', 'title': 'a', 'assay_class': {'description': 'a', 'key': 'a', 'title': 'a'}, 'assay_type': {'label': 'a', 'uri': 'a'}, 'technology_type': {'label': 'a', 'uri': 'a'}}, 'relationships': {'creators': [{}, [{'id': '1', 'type': 'creators'}]], 'data_files': [{}, [{'id': '1', 'type': 'data_files'}]], 'documents': [{}, [{'id': '1', 'type': 'documents'}]], 'investigations': [{}, [{'id': '1', 'type': 'investigations'}]], 'models': [{}, [{'id': '1', 'type': 'models'}]], 'people': [{}, [{'id': '1', 'type': 'people'}]], 'projects': [{}, [{'id': '1', 'type': 'projects'}]], 'publications': [{}, [{'id': '1', 'type': 'publications'}]], 'sops': [{}, [{'id': '1', 'type': 'sops'}]], 'studies': [{}, [{'id': '1', 'type': 'studies'}]], 'submitters': [{}, [{'id': '1', 'type': 'submitters'}]]}}}\n"
       }
      ],
      "source": "from WriteObject import WriteObject\n\nWO = WriteObject()\n\nWO.SEEKForm()",
      "start_time": "2019-03-15T13:24:09.279Z"
     },
     {
      "end_time": "2019-03-15T14:15:29.872Z",
      "execution_time": "2m 22s",
      "outputs": [
       {
        "data": {
         "text/html": "<h3>SEEK FORM</h3>",
         "text/plain": "<IPython.core.display.HTML object>"
        },
        "metadata": {},
        "output_type": "display_data",
        "transient": {}
       },
       {
        "name": "stdout",
        "output_type": "stream",
        "text": "\nThe type of object you want to upload to SEEK: assays\n\nYou need to complete the following form in order to succesfully upload your information to SEEK\nPlease specify the description: This is a template example used to test the POST reqeust from the Jupyter Notebook.\nPlease specify other creators: Bogdan Gherasim\nPlease specify the snapshots: None\nPlease specify the title: TESTING\nPlease specify the assay class description: Test\nPlease specify the assay class key: Test\nPlease specify the assay class title: Test\nPlease specify the assay type label: Test\nPlease specify the assay type uri: https://www.test.test\nPlease specify the technology type label: Test\nPlease specify the technology type uri: Test\nPlease specify other creators: Bogdan Gherasim\nPlease specify the snapshots: None\nPlease specify the title: TESTING\nPlease specify how many creators is this investigation related to: 0\nPlease specify how many data_files is this investigation related to: 0\nPlease specify how many documents is this investigation related to: 0\nPlease specify how many investigations is this investigation related to: 0\nPlease specify how many models is this investigation related to: 0\nPlease specify how many people is this investigation related to: 0\nPlease specify how many projects is this investigation related to: 0\nPlease specify how many publications is this investigation related to: 0\nPlease specify how many sops is this investigation related to: 0\nPlease specify how many studies is this investigation related to: 0\nPlease specify how many submitters is this investigation related to: 0\n{'data': {'type': 'assays', 'attributes': {'description': 'This is a template example used to test the POST reqeust from the Jupyter Notebook.', 'other_creators': 'Bogdan Gherasim', 'snapshots': 'None', 'title': 'TESTING', 'assay_class': {'description': 'Test', 'key': 'Test', 'title': 'Test'}, 'assay_type': {'label': 'Test', 'uri': 'https://www.test.test'}, 'technology_type': {'label': 'Test', 'uri': 'Test'}}, 'relationships': {'creators': [{}], 'data_files': [{}], 'documents': [{}], 'investigations': [{}], 'models': [{}], 'people': [{}], 'projects': [{}], 'publications': [{}], 'sops': [{}], 'studies': [{}], 'submitters': [{}]}}}\n"
       }
      ],
      "source": "from WriteObject import WriteObject\n\nWO = WriteObject()\n\nWO.SEEKForm()",
      "start_time": "2019-03-15T14:13:07.860Z"
     }
    ]
   },
   "outputs": [
    {
     "data": {
      "text/html": [
       "<h3>SEEK FORM</h3>"
      ],
      "text/plain": [
       "<IPython.core.display.HTML object>"
      ]
     },
     "metadata": {},
     "output_type": "display_data"
    },
    {
     "name": "stdout",
     "output_type": "stream",
     "text": [
      "\n",
      "The type of object you want to upload to SEEK: assays\n",
      "\n",
      "You need to complete the following form in order to succesfully upload your information to SEEK\n",
      "Please specify the description: This is a template example used to test the POST reqeust from the Jupyter Notebook.\n",
      "Please specify other creators: Bogdan Gherasim\n",
      "Please specify the snapshots: None\n",
      "Please specify the title: TESTING\n",
      "Please specify the assay class description: Test\n",
      "Please specify the assay class key: Test\n",
      "Please specify the assay class title: Test\n",
      "Please specify the assay type label: Test\n",
      "Please specify the assay type uri: https://www.test.test\n",
      "Please specify the technology type label: Test\n",
      "Please specify the technology type uri: Test\n",
      "Please specify other creators: Bogdan Gherasim\n",
      "Please specify the snapshots: None\n",
      "Please specify the title: TESTING\n",
      "Please specify how many creators is this investigation related to: 0\n",
      "Please specify how many data_files is this investigation related to: 0\n",
      "Please specify how many documents is this investigation related to: 0\n",
      "Please specify how many investigations is this investigation related to: 0\n",
      "Please specify how many models is this investigation related to: 0\n",
      "Please specify how many people is this investigation related to: 0\n",
      "Please specify how many projects is this investigation related to: 0\n",
      "Please specify how many publications is this investigation related to: 0\n",
      "Please specify how many sops is this investigation related to: 0\n",
      "Please specify how many studies is this investigation related to: 0\n",
      "Please specify how many submitters is this investigation related to: 0\n",
      "{'data': {'type': 'assays', 'attributes': {'description': 'This is a template example used to test the POST reqeust from the Jupyter Notebook.', 'other_creators': 'Bogdan Gherasim', 'snapshots': 'None', 'title': 'TESTING', 'assay_class': {'description': 'Test', 'key': 'Test', 'title': 'Test'}, 'assay_type': {'label': 'Test', 'uri': 'https://www.test.test'}, 'technology_type': {'label': 'Test', 'uri': 'Test'}}, 'relationships': {'creators': [{}], 'data_files': [{}], 'documents': [{}], 'investigations': [{}], 'models': [{}], 'people': [{}], 'projects': [{}], 'publications': [{}], 'sops': [{}], 'studies': [{}], 'submitters': [{}]}}}\n"
     ]
    }
   ],
   "source": [
    "from WriteObject import WriteObject\n",
    "\n",
    "WO = WriteObject()\n",
    "\n",
    "WO.SEEKForm()"
   ]
  },
  {
   "cell_type": "code",
   "execution_count": null,
   "metadata": {},
   "outputs": [],
   "source": [
    "WO.request"
   ]
  }
 ],
 "metadata": {
  "kernelspec": {
   "display_name": "Python 3",
   "language": "python",
   "name": "python3"
  },
  "language_info": {
   "codemirror_mode": {
    "name": "ipython",
    "version": 3
   },
   "file_extension": ".py",
   "mimetype": "text/x-python",
   "name": "python",
   "nbconvert_exporter": "python",
   "pygments_lexer": "ipython3",
   "version": "3.6.5"
  }
 },
 "nbformat": 4,
 "nbformat_minor": 2
}
