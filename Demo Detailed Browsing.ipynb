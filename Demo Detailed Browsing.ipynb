{
 "cells": [
  {
   "cell_type": "code",
   "execution_count": 1,
   "metadata": {
    "ExecutionTime": {
     "end_time": "2019-03-13T21:19:27.004359Z",
     "start_time": "2019-03-13T21:19:24.671458Z"
    },
    "provenance": [
     {
      "end_time": "Unknown",
      "execution_time": "Unknown",
      "outputs": [],
      "source": "",
      "start_time": "Unknown"
     },
     {
      "end_time": "2019-03-13T19:59:03.687Z",
      "execution_time": "3.80s",
      "outputs": [
       {
        "name": "stdout",
        "output_type": "stream",
        "text": "Enter your search: \nliver\nPlease enter one of: assays, data_files, events, institutions, investigations, models, organisms, people, presentations, programmes, projects, publications, sample_types, sops, studies, allall\n"
       }
      ],
      "source": "from Search import Search\n\ns = Search()\ns.demoSearch()",
      "start_time": "2019-03-13T19:58:59.883Z"
     },
     {
      "end_time": "2019-03-13T20:50:27.516Z",
      "execution_time": "3.04s",
      "outputs": [
       {
        "name": "stdout",
        "output_type": "stream",
        "text": "Enter your search: \nliver\nPlease enter one of: assays, data_files, events, institutions, investigations, models, organisms, people, presentations, programmes, projects, publications, sample_types, sops, studies, allall\n"
       }
      ],
      "source": "from Search import Search\n\ns = Search()\ns.demoSearch()",
      "start_time": "2019-03-13T20:50:24.481Z"
     },
     {
      "end_time": "2019-03-13T21:19:00.573Z",
      "execution_time": "3.04s",
      "outputs": [
       {
        "name": "stdout",
        "output_type": "stream",
        "text": "Enter your search: \nliver\nPlease enter one of: assays, data_files, events, institutions, investigations, models, organisms, people, presentations, programmes, projects, publications, sample_types, sops, studies, allall\n"
       }
      ],
      "source": "from Search import Search\n\ns = Search()\ns.demoSearch()",
      "start_time": "2019-03-13T21:18:57.538Z"
     },
     {
      "end_time": "2019-03-13T21:19:27.004Z",
      "execution_time": "2.33s",
      "outputs": [
       {
        "name": "stdout",
        "output_type": "stream",
        "text": "Enter your search: \nliver\nPlease enter one of: assays, data_files, events, institutions, investigations, models, organisms, people, presentations, programmes, projects, publications, sample_types, sops, studies, allall\n"
       }
      ],
      "source": "from Search import Search\n\ns = Search()\ns.demoSearch()",
      "start_time": "2019-03-13T21:19:24.671Z"
     }
    ]
   },
   "outputs": [
    {
     "name": "stdout",
     "output_type": "stream",
     "text": [
      "Enter your search: \n",
      "liver\n",
      "Please enter one of: assays, data_files, events, institutions, investigations, models, organisms, people, presentations, programmes, projects, publications, sample_types, sops, studies, allall\n"
     ]
    }
   ],
   "source": [
    "from Search import Search\n",
    "\n",
    "s = Search()\n",
    "s.demoSearch()"
   ]
  },
  {
   "cell_type": "code",
   "execution_count": 2,
   "metadata": {
    "ExecutionTime": {
     "end_time": "2019-03-13T21:19:27.051205Z",
     "start_time": "2019-03-13T21:19:27.039637Z"
    },
    "provenance": [
     {
      "end_time": "2019-03-13T20:14:51.527Z",
      "execution_time": "11ms",
      "outputs": [
       {
        "data": {
         "text/plain": "'\\n135 results found'"
        },
        "execution_count": 2,
        "metadata": {},
        "output_type": "execute_result"
       }
      ],
      "source": "s.createRequestList()",
      "start_time": "2019-03-13T20:14:51.516Z"
     },
     {
      "end_time": "2019-03-13T20:26:51.401Z",
      "execution_time": "15ms",
      "outputs": [
       {
        "data": {
         "text/plain": "'135 results found'"
        },
        "execution_count": 3,
        "metadata": {},
        "output_type": "execute_result"
       }
      ],
      "source": "s.createRequestList()[1:]",
      "start_time": "2019-03-13T20:26:51.386Z"
     },
     {
      "end_time": "2019-03-13T20:50:29.140Z",
      "execution_time": "12ms",
      "outputs": [
       {
        "data": {
         "text/plain": "'135 results found'"
        },
        "execution_count": 2,
        "metadata": {},
        "output_type": "execute_result"
       }
      ],
      "source": "s.createRequestList()[1:]",
      "start_time": "2019-03-13T20:50:29.128Z"
     },
     {
      "end_time": "2019-03-13T21:19:10.214Z",
      "execution_time": "11ms",
      "outputs": [
       {
        "data": {
         "text/plain": "'135 results found'"
        },
        "execution_count": 5,
        "metadata": {},
        "output_type": "execute_result"
       }
      ],
      "source": "s.createRequestList()[1:]",
      "start_time": "2019-03-13T21:19:10.203Z"
     },
     {
      "end_time": "2019-03-13T21:19:27.051Z",
      "execution_time": "12ms",
      "outputs": [
       {
        "data": {
         "text/plain": "'135 results found'"
        },
        "execution_count": 2,
        "metadata": {},
        "output_type": "execute_result"
       }
      ],
      "source": "s.createRequestList()[1:]",
      "start_time": "2019-03-13T21:19:27.039Z"
     }
    ]
   },
   "outputs": [
    {
     "data": {
      "text/plain": [
       "'135 results found'"
      ]
     },
     "execution_count": 2,
     "metadata": {},
     "output_type": "execute_result"
    }
   ],
   "source": [
    "s.createRequestList()[1:]"
   ]
  },
  {
   "cell_type": "code",
   "execution_count": null,
   "metadata": {
    "ExecutionTime": {
     "end_time": "2019-03-13T20:52:14.305494Z",
     "start_time": "2019-03-13T20:50:30.247254Z"
    },
    "provenance": [
     {
      "end_time": "2019-03-13T20:27:59.579Z",
      "execution_time": "76ms",
      "outputs": [
       {
        "ename": "NameError",
        "evalue": "name 'self' is not defined",
        "output_type": "error",
        "traceback": [
         "\u001b[0;31m--------------------------------------------------------------------------\u001b[0m",
         "\u001b[0;31mNameError\u001b[0m                                Traceback (most recent call last)",
         "\u001b[0;32m<ipython-input-4-4f84f9ef2d9f>\u001b[0m in \u001b[0;36m<module>\u001b[0;34m()\u001b[0m\n\u001b[1;32m      2\u001b[0m \u001b[0;34m\u001b[0m\u001b[0m\n\u001b[1;32m      3\u001b[0m \u001b[0mps\u001b[0m \u001b[0;34m=\u001b[0m \u001b[0mParallelSearch\u001b[0m\u001b[0;34m(\u001b[0m\u001b[0;34m)\u001b[0m\u001b[0;34m\u001b[0m\u001b[0m\n\u001b[0;32m----> 4\u001b[0;31m \u001b[0mps\u001b[0m\u001b[0;34m.\u001b[0m\u001b[0mparallelRequest\u001b[0m\u001b[0;34m(\u001b[0m\u001b[0mself\u001b[0m\u001b[0;34m.\u001b[0m\u001b[0mrequestList\u001b[0m\u001b[0;34m,\u001b[0m \u001b[0mrequestPerThread\u001b[0m\u001b[0;34m=\u001b[0m\u001b[0;36m2\u001b[0m\u001b[0;34m)\u001b[0m\u001b[0;34m\u001b[0m\u001b[0m\n\u001b[0m",
         "\u001b[0;31mNameError\u001b[0m: name 'self' is not defined"
        ]
       }
      ],
      "source": "from ParallelSearch import ParallelSearch\n\nps = ParallelSearch()\nps.parallelRequest(self.requestList, requestPerThread=2)",
      "start_time": "2019-03-13T20:27:59.503Z"
     },
     {
      "end_time": "2019-03-13T20:28:03.663Z",
      "execution_time": "124ms",
      "outputs": [
       {
        "name": "stdout",
        "output_type": "stream",
        "text": "Loading results. Please wait...........................................501 Server Error: Not Implemented for url: https://fairdomhub.org/sample_types/70\n..501 Server Error: Not Implemented for url: https://fairdomhub.org/sample_types/15\n................................................501 Server Error: Not Implemented for url: https://fairdomhub.org/sample_types/58\n..501 Server Error: Not Implemented for url: https://fairdomhub.org/sample_types/68\n........................................."
       }
      ],
      "source": "from ParallelSearch import ParallelSearch\n\nps = ParallelSearch()\nps.parallelRequest(s.requestList, requestPerThread=2)",
      "start_time": "2019-03-13T20:28:03.539Z"
     },
     {
      "end_time": "2019-03-13T20:52:14.305Z",
      "execution_time": "1m 44.1s",
      "outputs": [
       {
        "name": "stdout",
        "output_type": "stream",
        "text": "Loading results. Please wait.................................................................................................................................\nInternal Error(result ommited).\nInternal Error(result ommited).\nInternal Error(result ommited).\nInternal Error(result ommited)...."
       }
      ],
      "source": "from ParallelSearch import ParallelSearch\n\nps = ParallelSearch()\nps.parallelRequest(s.requestList, requestPerThread=2)",
      "start_time": "2019-03-13T20:50:30.247Z"
     }
    ]
   },
   "outputs": [],
   "source": [
    "from ParallelSearch import ParallelSearch\n",
    "\n",
    "ps = ParallelSearch()\n",
    "ps.parallelRequest(s.requestList, requestPerThread=2)"
   ]
  },
  {
   "cell_type": "code",
   "execution_count": null,
   "metadata": {},
   "outputs": [],
   "source": [
    "ps.createRelationshipList()"
   ]
  },
  {
   "cell_type": "code",
   "execution_count": null,
   "metadata": {},
   "outputs": [],
   "source": [
    "# remove duplicates and split into cache-matching and non-cache-matching\n",
    "from Search import Search\n",
    "\n",
    "ps.removeDuplicateRelationships()\n",
    "\n",
    "non_Cached = ps.relationshipList\n",
    "print(\"The number of relationships in this search = \" + str(len(non_Cached)))"
   ]
  },
  {
   "cell_type": "code",
   "execution_count": null,
   "metadata": {},
   "outputs": [],
   "source": [
    "# request all the relationships\n",
    "from ParallelSearch import ParallelSearch\n",
    "\n",
    "PS = ParallelSearch()\n",
    "PS.parallelRequest(non_Cached, requestPerThread=5)"
   ]
  },
  {
   "cell_type": "code",
   "execution_count": null,
   "metadata": {},
   "outputs": [],
   "source": [
    "ps.substituteRelationships(PS.requestList)"
   ]
  },
  {
   "cell_type": "code",
   "execution_count": null,
   "metadata": {},
   "outputs": [],
   "source": [
    "for request in ps.requestList:\n",
    "\n",
    "    request.print()\n",
    "    print('\\n________________________________________________________\\n')"
   ]
  }
 ],
 "metadata": {
  "kernelspec": {
   "display_name": "Python 3",
   "language": "python",
   "name": "python3"
  },
  "language_info": {
   "codemirror_mode": {
    "name": "ipython",
    "version": 3
   },
   "file_extension": ".py",
   "mimetype": "text/x-python",
   "name": "python",
   "nbconvert_exporter": "python",
   "pygments_lexer": "ipython3",
   "version": "3.6.5"
  }
 },
 "nbformat": 4,
 "nbformat_minor": 2
}
