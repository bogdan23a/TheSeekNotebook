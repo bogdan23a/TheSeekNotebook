{
 "cells": [
  {
   "cell_type": "code",
   "execution_count": null,
   "metadata": {
    "ExecutionTime": {
     "end_time": "2019-03-15T10:39:15.774114Z",
     "start_time": "2019-03-15T10:39:15.769404Z"
    },
    "provenance": [
     {
      "end_time": "2019-03-15T10:39:15.774Z",
      "execution_time": "5ms",
      "outputs": [],
      "source": "from ParallelSearch import ParallelSearch\nfrom Search import Search",
      "start_time": "2019-03-15T10:39:15.769Z"
     }
    ]
   },
   "outputs": [],
   "source": [
    "from ParallelSearch import ParallelSearch\n",
    "from Search import Search"
   ]
  },
  {
   "cell_type": "code",
   "execution_count": null,
   "metadata": {
    "ExecutionTime": {
     "end_time": "2019-03-15T10:35:14.476313Z",
     "start_time": "2019-03-15T10:35:10.335236Z"
    },
    "provenance": [
     {
      "end_time": "Unknown",
      "execution_time": "Unknown",
      "outputs": [],
      "source": "",
      "start_time": "Unknown"
     },
     {
      "end_time": "2019-03-13T19:59:03.687Z",
      "execution_time": "3.80s",
      "outputs": [
       {
        "name": "stdout",
        "output_type": "stream",
        "text": "Enter your search: \nliver\nPlease enter one of: assays, data_files, events, institutions, investigations, models, organisms, people, presentations, programmes, projects, publications, sample_types, sops, studies, allall\n"
       }
      ],
      "source": "from Search import Search\n\ns = Search()\ns.demoSearch()",
      "start_time": "2019-03-13T19:58:59.883Z"
     },
     {
      "end_time": "2019-03-13T20:50:27.516Z",
      "execution_time": "3.04s",
      "outputs": [
       {
        "name": "stdout",
        "output_type": "stream",
        "text": "Enter your search: \nliver\nPlease enter one of: assays, data_files, events, institutions, investigations, models, organisms, people, presentations, programmes, projects, publications, sample_types, sops, studies, allall\n"
       }
      ],
      "source": "from Search import Search\n\ns = Search()\ns.demoSearch()",
      "start_time": "2019-03-13T20:50:24.481Z"
     },
     {
      "end_time": "2019-03-13T21:19:00.573Z",
      "execution_time": "3.04s",
      "outputs": [
       {
        "name": "stdout",
        "output_type": "stream",
        "text": "Enter your search: \nliver\nPlease enter one of: assays, data_files, events, institutions, investigations, models, organisms, people, presentations, programmes, projects, publications, sample_types, sops, studies, allall\n"
       }
      ],
      "source": "from Search import Search\n\ns = Search()\ns.demoSearch()",
      "start_time": "2019-03-13T21:18:57.538Z"
     },
     {
      "end_time": "2019-03-13T21:19:27.004Z",
      "execution_time": "2.33s",
      "outputs": [
       {
        "name": "stdout",
        "output_type": "stream",
        "text": "Enter your search: \nliver\nPlease enter one of: assays, data_files, events, institutions, investigations, models, organisms, people, presentations, programmes, projects, publications, sample_types, sops, studies, allall\n"
       }
      ],
      "source": "from Search import Search\n\ns = Search()\ns.demoSearch()",
      "start_time": "2019-03-13T21:19:24.671Z"
     },
     {
      "end_time": "2019-03-14T13:00:22.309Z",
      "execution_time": "5.18s",
      "outputs": [
       {
        "name": "stdout",
        "output_type": "stream",
        "text": "Enter your search: \nliver\nPlease enter one of: assays, data_files, events, institutions, investigations, models, organisms, people, presentations, programmes, projects, publications, sample_types, sops, studies, allassays\n"
       }
      ],
      "source": "from Search import Search\n\ns = Search()\ns.demoSearch()",
      "start_time": "2019-03-14T13:00:17.132Z"
     },
     {
      "end_time": "2019-03-14T13:04:51.852Z",
      "execution_time": "4.60s",
      "outputs": [
       {
        "name": "stdout",
        "output_type": "stream",
        "text": "Enter your search: \nliver\nPlease enter one of: assays, data_files, events, institutions, investigations, models, organisms, people, presentations, programmes, projects, publications, sample_types, sops, studies, allall\n"
       }
      ],
      "source": "from Search import Search\n\ns = Search()\ns.demoSearch()",
      "start_time": "2019-03-14T13:04:47.249Z"
     },
     {
      "end_time": "2019-03-15T10:35:14.476Z",
      "execution_time": "4.14s",
      "outputs": [
       {
        "name": "stdout",
        "output_type": "stream",
        "text": "Enter your search: \nliver\nPlease enter one of: assays, data_files, events, institutions, investigations, models, organisms, people, presentations, programmes, projects, publications, sample_types, sops, studies, allall\n"
       }
      ],
      "source": "from Search import Search\n\ns = Search()\ns.demoSearch()",
      "start_time": "2019-03-15T10:35:10.335Z"
     }
    ]
   },
   "outputs": [],
   "source": [
    "s = Search()\n",
    "s.demoSearch()"
   ]
  },
  {
   "cell_type": "code",
   "execution_count": null,
   "metadata": {
    "ExecutionTime": {
     "end_time": "2019-03-15T10:36:11.847900Z",
     "start_time": "2019-03-15T10:36:11.838922Z"
    },
    "provenance": [
     {
      "end_time": "2019-03-13T20:14:51.527Z",
      "execution_time": "11ms",
      "outputs": [
       {
        "data": {
         "text/plain": "'\\n135 results found'"
        },
        "execution_count": 2,
        "metadata": {},
        "output_type": "execute_result"
       }
      ],
      "source": "s.createRequestList()",
      "start_time": "2019-03-13T20:14:51.516Z"
     },
     {
      "end_time": "2019-03-13T20:26:51.401Z",
      "execution_time": "15ms",
      "outputs": [
       {
        "data": {
         "text/plain": "'135 results found'"
        },
        "execution_count": 3,
        "metadata": {},
        "output_type": "execute_result"
       }
      ],
      "source": "s.createRequestList()[1:]",
      "start_time": "2019-03-13T20:26:51.386Z"
     },
     {
      "end_time": "2019-03-13T20:50:29.140Z",
      "execution_time": "12ms",
      "outputs": [
       {
        "data": {
         "text/plain": "'135 results found'"
        },
        "execution_count": 2,
        "metadata": {},
        "output_type": "execute_result"
       }
      ],
      "source": "s.createRequestList()[1:]",
      "start_time": "2019-03-13T20:50:29.128Z"
     },
     {
      "end_time": "2019-03-13T21:19:10.214Z",
      "execution_time": "11ms",
      "outputs": [
       {
        "data": {
         "text/plain": "'135 results found'"
        },
        "execution_count": 5,
        "metadata": {},
        "output_type": "execute_result"
       }
      ],
      "source": "s.createRequestList()[1:]",
      "start_time": "2019-03-13T21:19:10.203Z"
     },
     {
      "end_time": "2019-03-13T21:19:27.051Z",
      "execution_time": "12ms",
      "outputs": [
       {
        "data": {
         "text/plain": "'135 results found'"
        },
        "execution_count": 2,
        "metadata": {},
        "output_type": "execute_result"
       }
      ],
      "source": "s.createRequestList()[1:]",
      "start_time": "2019-03-13T21:19:27.039Z"
     },
     {
      "end_time": "2019-03-14T13:00:23.278Z",
      "execution_time": "51ms",
      "outputs": [
       {
        "data": {
         "text/plain": "'6 results found'"
        },
        "execution_count": 2,
        "metadata": {},
        "output_type": "execute_result"
       }
      ],
      "source": "s.createRequestList()[1:]",
      "start_time": "2019-03-14T13:00:23.227Z"
     },
     {
      "end_time": "2019-03-14T13:01:27.323Z",
      "execution_time": "14ms",
      "outputs": [
       {
        "data": {
         "text/plain": "'6 results found'"
        },
        "execution_count": 5,
        "metadata": {},
        "output_type": "execute_result"
       }
      ],
      "source": "numberOfResults = s.createRequestList()\nnumberOfResults[1:]",
      "start_time": "2019-03-14T13:01:27.309Z"
     },
     {
      "end_time": "2019-03-14T13:04:52.494Z",
      "execution_time": "28ms",
      "outputs": [
       {
        "data": {
         "text/plain": "'135 results found'"
        },
        "execution_count": 2,
        "metadata": {},
        "output_type": "execute_result"
       }
      ],
      "source": "numberOfResults = s.createRequestList()\nnumberOfResults[1:]",
      "start_time": "2019-03-14T13:04:52.466Z"
     },
     {
      "end_time": "2019-03-15T10:35:21.174Z",
      "execution_time": "1.88s",
      "outputs": [
       {
        "ename": "TypeError",
        "evalue": "'NoneType' object is not subscriptable",
        "output_type": "error",
        "traceback": [
         "\u001b[0;31m---------------------------------------------------------------------------\u001b[0m",
         "\u001b[0;31mTypeError\u001b[0m                                 Traceback (most recent call last)",
         "\u001b[0;32m<ipython-input-2-e2295ce6ce82>\u001b[0m in \u001b[0;36m<module>\u001b[0;34m()\u001b[0m\n\u001b[1;32m      1\u001b[0m \u001b[0mnumberOfResults\u001b[0m \u001b[0;34m=\u001b[0m \u001b[0ms\u001b[0m\u001b[0;34m.\u001b[0m\u001b[0mcreateRequestList\u001b[0m\u001b[0;34m(\u001b[0m\u001b[0;34m)\u001b[0m\u001b[0;34m\u001b[0m\u001b[0m\n\u001b[0;32m----> 2\u001b[0;31m \u001b[0mnumberOfResults\u001b[0m\u001b[0;34m[\u001b[0m\u001b[0;36m1\u001b[0m\u001b[0;34m:\u001b[0m\u001b[0;34m]\u001b[0m\u001b[0;34m\u001b[0m\u001b[0m\n\u001b[0m",
         "\u001b[0;31mTypeError\u001b[0m: 'NoneType' object is not subscriptable"
        ]
       }
      ],
      "source": "numberOfResults = s.createRequestList()\nnumberOfResults[1:]",
      "start_time": "2019-03-15T10:35:19.292Z"
     },
     {
      "end_time": "2019-03-15T10:36:11.847Z",
      "execution_time": "9ms",
      "outputs": [
       {
        "name": "stdout",
        "output_type": "stream",
        "text": "135 requests found\n"
       }
      ],
      "source": "s.createRequestList()\nprint(str(len(s.requestList)) + \" requests found\")",
      "start_time": "2019-03-15T10:36:11.838Z"
     }
    ]
   },
   "outputs": [],
   "source": [
    "s.createRequestList()\n",
    "print(str(len(s.requestList)) + \" requests found\")"
   ]
  },
  {
   "cell_type": "code",
   "execution_count": null,
   "metadata": {
    "ExecutionTime": {
     "end_time": "2019-03-15T10:36:21.847692Z",
     "start_time": "2019-03-15T10:36:21.519483Z"
    },
    "provenance": [
     {
      "end_time": "2019-03-13T20:27:59.579Z",
      "execution_time": "76ms",
      "outputs": [
       {
        "ename": "NameError",
        "evalue": "name 'self' is not defined",
        "output_type": "error",
        "traceback": [
         "\u001b[0;31m--------------------------------------------------------------------------\u001b[0m",
         "\u001b[0;31mNameError\u001b[0m                                Traceback (most recent call last)",
         "\u001b[0;32m<ipython-input-4-4f84f9ef2d9f>\u001b[0m in \u001b[0;36m<module>\u001b[0;34m()\u001b[0m\n\u001b[1;32m      2\u001b[0m \u001b[0;34m\u001b[0m\u001b[0m\n\u001b[1;32m      3\u001b[0m \u001b[0mps\u001b[0m \u001b[0;34m=\u001b[0m \u001b[0mParallelSearch\u001b[0m\u001b[0;34m(\u001b[0m\u001b[0;34m)\u001b[0m\u001b[0;34m\u001b[0m\u001b[0m\n\u001b[0;32m----> 4\u001b[0;31m \u001b[0mps\u001b[0m\u001b[0;34m.\u001b[0m\u001b[0mparallelRequest\u001b[0m\u001b[0;34m(\u001b[0m\u001b[0mself\u001b[0m\u001b[0;34m.\u001b[0m\u001b[0mrequestList\u001b[0m\u001b[0;34m,\u001b[0m \u001b[0mrequestPerThread\u001b[0m\u001b[0;34m=\u001b[0m\u001b[0;36m2\u001b[0m\u001b[0;34m)\u001b[0m\u001b[0;34m\u001b[0m\u001b[0m\n\u001b[0m",
         "\u001b[0;31mNameError\u001b[0m: name 'self' is not defined"
        ]
       }
      ],
      "source": "from ParallelSearch import ParallelSearch\n\nps = ParallelSearch()\nps.parallelRequest(self.requestList, requestPerThread=2)",
      "start_time": "2019-03-13T20:27:59.503Z"
     },
     {
      "end_time": "2019-03-13T20:28:03.663Z",
      "execution_time": "124ms",
      "outputs": [
       {
        "name": "stdout",
        "output_type": "stream",
        "text": "Loading results. Please wait...........................................501 Server Error: Not Implemented for url: https://fairdomhub.org/sample_types/70\n..501 Server Error: Not Implemented for url: https://fairdomhub.org/sample_types/15\n................................................501 Server Error: Not Implemented for url: https://fairdomhub.org/sample_types/58\n..501 Server Error: Not Implemented for url: https://fairdomhub.org/sample_types/68\n........................................."
       }
      ],
      "source": "from ParallelSearch import ParallelSearch\n\nps = ParallelSearch()\nps.parallelRequest(s.requestList, requestPerThread=2)",
      "start_time": "2019-03-13T20:28:03.539Z"
     },
     {
      "end_time": "2019-03-13T20:52:14.305Z",
      "execution_time": "1m 44.1s",
      "outputs": [
       {
        "name": "stdout",
        "output_type": "stream",
        "text": "Loading results. Please wait.................................................................................................................................\nInternal Error(result ommited).\nInternal Error(result ommited).\nInternal Error(result ommited).\nInternal Error(result ommited)...."
       }
      ],
      "source": "from ParallelSearch import ParallelSearch\n\nps = ParallelSearch()\nps.parallelRequest(s.requestList, requestPerThread=2)",
      "start_time": "2019-03-13T20:50:30.247Z"
     },
     {
      "end_time": "2019-03-14T13:00:24.994Z",
      "execution_time": "119ms",
      "outputs": [
       {
        "ename": "TypeError",
        "evalue": "parallelRequest() missing 1 required positional argument: 'total'",
        "output_type": "error",
        "traceback": [
         "\u001b[0;31m--------------------------------------------------------------------------\u001b[0m",
         "\u001b[0;31mTypeError\u001b[0m                                Traceback (most recent call last)",
         "\u001b[0;32m<ipython-input-3-2864d7059b5b>\u001b[0m in \u001b[0;36m<module>\u001b[0;34m()\u001b[0m\n\u001b[1;32m      2\u001b[0m \u001b[0;34m\u001b[0m\u001b[0m\n\u001b[1;32m      3\u001b[0m \u001b[0mps\u001b[0m \u001b[0;34m=\u001b[0m \u001b[0mParallelSearch\u001b[0m\u001b[0;34m(\u001b[0m\u001b[0;34m)\u001b[0m\u001b[0;34m\u001b[0m\u001b[0m\n\u001b[0;32m----> 4\u001b[0;31m \u001b[0mps\u001b[0m\u001b[0;34m.\u001b[0m\u001b[0mparallelRequest\u001b[0m\u001b[0;34m(\u001b[0m\u001b[0ms\u001b[0m\u001b[0;34m.\u001b[0m\u001b[0mrequestList\u001b[0m\u001b[0;34m,\u001b[0m \u001b[0mrequestPerThread\u001b[0m\u001b[0;34m=\u001b[0m\u001b[0;36m2\u001b[0m\u001b[0;34m)\u001b[0m\u001b[0;34m\u001b[0m\u001b[0m\n\u001b[0m",
         "\u001b[0;31mTypeError\u001b[0m: parallelRequest() missing 1 required positional argument: 'total'"
        ]
       }
      ],
      "source": "from ParallelSearch import ParallelSearch\n\nps = ParallelSearch()\nps.parallelRequest(s.requestList, requestPerThread=2)",
      "start_time": "2019-03-14T13:00:24.875Z"
     },
     {
      "end_time": "2019-03-14T13:01:25.589Z",
      "execution_time": "12ms",
      "outputs": [
       {
        "ename": "SyntaxError",
        "evalue": "invalid syntax (<ipython-input-4-6527511907a2>, line 4)",
        "output_type": "error",
        "traceback": [
         "\u001b[0;36m  File \u001b[0;32m\"<ipython-input-4-6527511907a2>\"\u001b[0;36m, line \u001b[0;32m4\u001b[0m\n\u001b[0;31m    ps.parallelRequest(s.requestList, int(numberOfResults[1:-14]) requestPerThread=2)\u001b[0m\n\u001b[0m                                                                                 ^\u001b[0m\n\u001b[0;31mSyntaxError\u001b[0m\u001b[0;31m:\u001b[0m invalid syntax\n"
        ]
       }
      ],
      "source": "from ParallelSearch import ParallelSearch\n\nps = ParallelSearch()\nps.parallelRequest(s.requestList, int(numberOfResults[1:-14]) requestPerThread=2)",
      "start_time": "2019-03-14T13:01:25.577Z"
     },
     {
      "end_time": "2019-03-14T13:01:28.576Z",
      "execution_time": "15ms",
      "outputs": [
       {
        "ename": "SyntaxError",
        "evalue": "invalid syntax (<ipython-input-6-6527511907a2>, line 4)",
        "output_type": "error",
        "traceback": [
         "\u001b[0;36m  File \u001b[0;32m\"<ipython-input-6-6527511907a2>\"\u001b[0;36m, line \u001b[0;32m4\u001b[0m\n\u001b[0;31m    ps.parallelRequest(s.requestList, int(numberOfResults[1:-14]) requestPerThread=2)\u001b[0m\n\u001b[0m                                                                                 ^\u001b[0m\n\u001b[0;31mSyntaxError\u001b[0m\u001b[0;31m:\u001b[0m invalid syntax\n"
        ]
       }
      ],
      "source": "from ParallelSearch import ParallelSearch\n\nps = ParallelSearch()\nps.parallelRequest(s.requestList, int(numberOfResults[1:-14]) requestPerThread=2)",
      "start_time": "2019-03-14T13:01:28.561Z"
     },
     {
      "end_time": "2019-03-14T13:01:32.367Z",
      "execution_time": "27ms",
      "outputs": [
       {
        "name": "stdout",
        "output_type": "stream",
        "text": "'ParallelSearch' object has no attribute 'requestList'\n'ParallelSearch' object has no attribute 'requestList'\n'ParallelSearch' object has no attribute 'requestList'\n'ParallelSearch' object has no attribute 'requestList'\n'ParallelSearch' object has no attribute 'requestList'\n'ParallelSearch' object has no attribute 'requestList'\n"
       }
      ],
      "source": "from ParallelSearch import ParallelSearch\n\nps = ParallelSearch()\nps.parallelRequest(s.requestList, int(numberOfResults[1:-14]), requestPerThread=2)",
      "start_time": "2019-03-14T13:01:32.340Z"
     },
     {
      "end_time": "2019-03-14T13:04:54.382Z",
      "execution_time": "293ms",
      "outputs": [
       {
        "name": "stdout",
        "output_type": "stream",
        "text": "Loading 99.26%\nLoading Completed\r"
       }
      ],
      "source": "from ParallelSearch import ParallelSearch\n\nps = ParallelSearch()\nps.parallelRequest(s.requestList, int(numberOfResults[1:-14]), requestPerThread=1)",
      "start_time": "2019-03-14T13:04:54.089Z"
     },
     {
      "end_time": "2019-03-15T10:36:14.371Z",
      "execution_time": "23ms",
      "outputs": [
       {
        "ename": "TypeError",
        "evalue": "'NoneType' object is not subscriptable",
        "output_type": "error",
        "traceback": [
         "\u001b[0;31m---------------------------------------------------------------------------\u001b[0m",
         "\u001b[0;31mTypeError\u001b[0m                                 Traceback (most recent call last)",
         "\u001b[0;32m<ipython-input-4-c479a7223800>\u001b[0m in \u001b[0;36m<module>\u001b[0;34m()\u001b[0m\n\u001b[1;32m      2\u001b[0m \u001b[0;34m\u001b[0m\u001b[0m\n\u001b[1;32m      3\u001b[0m \u001b[0mps\u001b[0m \u001b[0;34m=\u001b[0m \u001b[0mParallelSearch\u001b[0m\u001b[0;34m(\u001b[0m\u001b[0;34m)\u001b[0m\u001b[0;34m\u001b[0m\u001b[0m\n\u001b[0;32m----> 4\u001b[0;31m \u001b[0mps\u001b[0m\u001b[0;34m.\u001b[0m\u001b[0mparallelRequest\u001b[0m\u001b[0;34m(\u001b[0m\u001b[0ms\u001b[0m\u001b[0;34m.\u001b[0m\u001b[0mrequestList\u001b[0m\u001b[0;34m,\u001b[0m \u001b[0mint\u001b[0m\u001b[0;34m(\u001b[0m\u001b[0mnumberOfResults\u001b[0m\u001b[0;34m[\u001b[0m\u001b[0;36m1\u001b[0m\u001b[0;34m:\u001b[0m\u001b[0;34m-\u001b[0m\u001b[0;36m14\u001b[0m\u001b[0;34m]\u001b[0m\u001b[0;34m)\u001b[0m\u001b[0;34m,\u001b[0m \u001b[0mrequestPerThread\u001b[0m\u001b[0;34m=\u001b[0m\u001b[0;36m1\u001b[0m\u001b[0;34m)\u001b[0m\u001b[0;34m\u001b[0m\u001b[0m\n\u001b[0m",
         "\u001b[0;31mTypeError\u001b[0m: 'NoneType' object is not subscriptable"
        ]
       }
      ],
      "source": "from ParallelSearch import ParallelSearch\n\nps = ParallelSearch()\nps.parallelRequest(s.requestList, int(numberOfResults[1:-14]), requestPerThread=1)",
      "start_time": "2019-03-15T10:36:14.348Z"
     },
     {
      "end_time": "2019-03-15T10:36:21.847Z",
      "execution_time": "328ms",
      "outputs": [
       {
        "name": "stdout",
        "output_type": "stream",
        "text": "Loading 98.52%\r"
       }
      ],
      "source": "from ParallelSearch import ParallelSearch\n\nps = ParallelSearch()\nps.parallelRequest(s.requestList, requestPerThread=1)",
      "start_time": "2019-03-15T10:36:21.519Z"
     }
    ]
   },
   "outputs": [],
   "source": [
    "ps = ParallelSearch()\n",
    "ps.parallelRequest(s.requestList, requestPerThread=1)"
   ]
  },
  {
   "cell_type": "code",
   "execution_count": null,
   "metadata": {
    "ExecutionTime": {
     "end_time": "2019-03-15T10:38:42.882141Z",
     "start_time": "2019-03-15T10:38:42.864369Z"
    },
    "provenance": [
     {
      "end_time": "Unknown",
      "execution_time": "Unknown",
      "outputs": [],
      "source": "ps.createRelationshipList()",
      "start_time": "Unknown"
     },
     {
      "end_time": "2019-03-14T13:05:06.245Z",
      "execution_time": "29ms",
      "outputs": [
       {
        "data": {
         "text/plain": "1441"
        },
        "execution_count": 4,
        "metadata": {},
        "output_type": "execute_result"
       }
      ],
      "source": "ps.createRelationshipList()",
      "start_time": "2019-03-14T13:05:06.216Z"
     },
     {
      "end_time": "2019-03-14T13:05:48.088Z",
      "execution_time": "24ms",
      "outputs": [],
      "source": "totalNumberRelationships = ps.createRelationshipList()",
      "start_time": "2019-03-14T13:05:48.064Z"
     },
     {
      "end_time": "2019-03-15T10:38:10.754Z",
      "execution_time": "20ms",
      "outputs": [],
      "source": "totalNumberRelationships = ps.createRelationshipList()",
      "start_time": "2019-03-15T10:38:10.734Z"
     },
     {
      "end_time": "2019-03-15T10:38:42.882Z",
      "execution_time": "18ms",
      "outputs": [
       {
        "name": "stdout",
        "output_type": "stream",
        "text": "1445 relations found\n"
       }
      ],
      "source": "totalNumberRelationships = ps.createRelationshipList()\nprint(str(totalNumberRelationships) + \" relations found\")",
      "start_time": "2019-03-15T10:38:42.864Z"
     }
    ]
   },
   "outputs": [],
   "source": [
    "totalNumberRelationships = ps.createRelationshipList()\n",
    "print(str(totalNumberRelationships) + \" relations found\")"
   ]
  },
  {
   "cell_type": "code",
   "execution_count": null,
   "metadata": {
    "ExecutionTime": {
     "end_time": "2019-03-15T10:38:55.212876Z",
     "start_time": "2019-03-15T10:38:55.181962Z"
    },
    "provenance": [
     {
      "end_time": "Unknown",
      "execution_time": "Unknown",
      "outputs": [],
      "source": "# remove duplicates and split into cache-matching and non-cache-matching\nfrom Search import Search\n\nps.removeDuplicateRelationships()\n\nnon_Cached = ps.relationshipList\nprint(\"The number of relationships in this search = \" + str(len(non_Cached)))",
      "start_time": "Unknown"
     },
     {
      "end_time": "2019-03-14T13:05:22.054Z",
      "execution_time": "41ms",
      "outputs": [
       {
        "name": "stdout",
        "output_type": "stream",
        "text": "The number of relationships in this search = 557\n"
       }
      ],
      "source": "# remove duplicates and split into cache-matching and non-cache-matching\nfrom Search import Search\n\nps.removeDuplicateRelationships()\n\nprint(\"The number of relationships in this search = \" + str(len(ps.relationshipList)))",
      "start_time": "2019-03-14T13:05:22.013Z"
     },
     {
      "end_time": "2019-03-15T10:38:55.212Z",
      "execution_time": "31ms",
      "outputs": [
       {
        "name": "stdout",
        "output_type": "stream",
        "text": "The number of relationships in this search = 558\n"
       }
      ],
      "source": "ps.removeDuplicateRelationships()\nprint(\"The number of relationships in this search = \" + str(len(ps.relationshipList)))",
      "start_time": "2019-03-15T10:38:55.181Z"
     }
    ]
   },
   "outputs": [],
   "source": [
    "ps.removeDuplicateRelationships()\n",
    "print(str(len(ps.relationshipList)) + \" relations without duplicates\")"
   ]
  },
  {
   "cell_type": "code",
   "execution_count": null,
   "metadata": {
    "ExecutionTime": {
     "end_time": "2019-03-15T10:39:48.287162Z",
     "start_time": "2019-03-15T10:39:47.982811Z"
    },
    "provenance": [
     {
      "end_time": "Unknown",
      "execution_time": "Unknown",
      "outputs": [],
      "source": "# request all the relationships\nfrom ParallelSearch import ParallelSearch\n\nPS = ParallelSearch()\nPS.parallelRequest(non_Cached, requestPerThread=5)",
      "start_time": "Unknown"
     },
     {
      "end_time": "2019-03-14T13:05:24.978Z",
      "execution_time": "52ms",
      "outputs": [
       {
        "ename": "TypeError",
        "evalue": "parallelRequest() missing 1 required positional argument: 'total'",
        "output_type": "error",
        "traceback": [
         "\u001b[0;31m--------------------------------------------------------------------------\u001b[0m",
         "\u001b[0;31mTypeError\u001b[0m                                Traceback (most recent call last)",
         "\u001b[0;32m<ipython-input-6-cf0ad78776df>\u001b[0m in \u001b[0;36m<module>\u001b[0;34m()\u001b[0m\n\u001b[1;32m      3\u001b[0m \u001b[0;34m\u001b[0m\u001b[0m\n\u001b[1;32m      4\u001b[0m \u001b[0mPS\u001b[0m \u001b[0;34m=\u001b[0m \u001b[0mParallelSearch\u001b[0m\u001b[0;34m(\u001b[0m\u001b[0;34m)\u001b[0m\u001b[0;34m\u001b[0m\u001b[0m\n\u001b[0;32m----> 5\u001b[0;31m \u001b[0mPS\u001b[0m\u001b[0;34m.\u001b[0m\u001b[0mparallelRequest\u001b[0m\u001b[0;34m(\u001b[0m\u001b[0mps\u001b[0m\u001b[0;34m.\u001b[0m\u001b[0mrelationshipList\u001b[0m\u001b[0;34m,\u001b[0m \u001b[0mrequestPerThread\u001b[0m\u001b[0;34m=\u001b[0m\u001b[0;36m5\u001b[0m\u001b[0;34m)\u001b[0m\u001b[0;34m\u001b[0m\u001b[0m\n\u001b[0m",
         "\u001b[0;31mTypeError\u001b[0m: parallelRequest() missing 1 required positional argument: 'total'"
        ]
       }
      ],
      "source": "# request all the relationships\nfrom ParallelSearch import ParallelSearch\n\nPS = ParallelSearch()\nPS.parallelRequest(ps.relationshipList, requestPerThread=5)",
      "start_time": "2019-03-14T13:05:24.926Z"
     },
     {
      "end_time": "2019-03-14T13:05:57.093Z",
      "execution_time": "650ms",
      "outputs": [
       {
        "name": "stdout",
        "output_type": "stream",
        "text": "Loading 99.93%\nLoading Completed\r"
       }
      ],
      "source": "# request all the relationships\nfrom ParallelSearch import ParallelSearch\n\nPS = ParallelSearch()\nPS.parallelRequest(ps.relationshipList, totalNumberRelationships, requestPerThread=5)",
      "start_time": "2019-03-14T13:05:56.443Z"
     },
     {
      "end_time": "2019-03-15T10:39:36.132Z",
      "execution_time": "23ms",
      "outputs": [
       {
        "ename": "TypeError",
        "evalue": "parallelRequest() got multiple values for argument 'requestPerThread'",
        "output_type": "error",
        "traceback": [
         "\u001b[0;31m---------------------------------------------------------------------------\u001b[0m",
         "\u001b[0;31mTypeError\u001b[0m                                 Traceback (most recent call last)",
         "\u001b[0;32m<ipython-input-10-8b349efd9a90>\u001b[0m in \u001b[0;36m<module>\u001b[0;34m()\u001b[0m\n\u001b[1;32m      1\u001b[0m \u001b[0mPS\u001b[0m \u001b[0;34m=\u001b[0m \u001b[0mParallelSearch\u001b[0m\u001b[0;34m(\u001b[0m\u001b[0;34m)\u001b[0m\u001b[0;34m\u001b[0m\u001b[0m\n\u001b[0;32m----> 2\u001b[0;31m \u001b[0mPS\u001b[0m\u001b[0;34m.\u001b[0m\u001b[0mparallelRequest\u001b[0m\u001b[0;34m(\u001b[0m\u001b[0mps\u001b[0m\u001b[0;34m.\u001b[0m\u001b[0mrelationshipList\u001b[0m\u001b[0;34m,\u001b[0m \u001b[0mtotalNumberRelationships\u001b[0m\u001b[0;34m,\u001b[0m \u001b[0mrequestPerThread\u001b[0m\u001b[0;34m=\u001b[0m\u001b[0;36m5\u001b[0m\u001b[0;34m)\u001b[0m\u001b[0;34m\u001b[0m\u001b[0m\n\u001b[0m",
         "\u001b[0;31mTypeError\u001b[0m: parallelRequest() got multiple values for argument 'requestPerThread'"
        ]
       }
      ],
      "source": "PS = ParallelSearch()\nPS.parallelRequest(ps.relationshipList, totalNumberRelationships, requestPerThread=5)",
      "start_time": "2019-03-15T10:39:36.109Z"
     },
     {
      "end_time": "2019-03-15T10:39:48.287Z",
      "execution_time": "305ms",
      "outputs": [
       {
        "name": "stdout",
        "output_type": "stream",
        "text": "Loading Completed\n"
       }
      ],
      "source": "PS = ParallelSearch()\nPS.parallelRequest(ps.relationshipList, requestPerThread=5)",
      "start_time": "2019-03-15T10:39:47.982Z"
     }
    ]
   },
   "outputs": [],
   "source": [
    "PS = ParallelSearch()\n",
    "PS.parallelRequest(ps.relationshipList, requestPerThread=5)"
   ]
  },
  {
   "cell_type": "code",
   "execution_count": null,
   "metadata": {
    "ExecutionTime": {
     "end_time": "2019-03-15T10:40:53.535774Z",
     "start_time": "2019-03-15T10:40:53.207804Z"
    },
    "provenance": [
     {
      "end_time": "Unknown",
      "execution_time": "Unknown",
      "outputs": [],
      "source": "ps.substituteRelationships(PS.requestList)",
      "start_time": "Unknown"
     },
     {
      "end_time": "2019-03-15T10:40:39.844Z",
      "execution_time": "25ms",
      "outputs": [
       {
        "ename": "TypeError",
        "evalue": "substituteRelationships() missing 1 required positional argument: 'total'",
        "output_type": "error",
        "traceback": [
         "\u001b[0;31m---------------------------------------------------------------------------\u001b[0m",
         "\u001b[0;31mTypeError\u001b[0m                                 Traceback (most recent call last)",
         "\u001b[0;32m<ipython-input-12-ef6141f879a6>\u001b[0m in \u001b[0;36m<module>\u001b[0;34m()\u001b[0m\n\u001b[0;32m----> 1\u001b[0;31m \u001b[0mps\u001b[0m\u001b[0;34m.\u001b[0m\u001b[0msubstituteRelationships\u001b[0m\u001b[0;34m(\u001b[0m\u001b[0mPS\u001b[0m\u001b[0;34m.\u001b[0m\u001b[0mrequestList\u001b[0m\u001b[0;34m)\u001b[0m\u001b[0;34m\u001b[0m\u001b[0m\n\u001b[0m",
         "\u001b[0;31mTypeError\u001b[0m: substituteRelationships() missing 1 required positional argument: 'total'"
        ]
       }
      ],
      "source": "ps.substituteRelationships(PS.requestList)",
      "start_time": "2019-03-15T10:40:39.819Z"
     },
     {
      "end_time": "2019-03-15T10:40:50.338Z",
      "execution_time": "22ms",
      "outputs": [
       {
        "ename": "NameError",
        "evalue": "name 'tootalNumberRelationships' is not defined",
        "output_type": "error",
        "traceback": [
         "\u001b[0;31m---------------------------------------------------------------------------\u001b[0m",
         "\u001b[0;31mNameError\u001b[0m                                 Traceback (most recent call last)",
         "\u001b[0;32m<ipython-input-13-3113302d1055>\u001b[0m in \u001b[0;36m<module>\u001b[0;34m()\u001b[0m\n\u001b[0;32m----> 1\u001b[0;31m \u001b[0mps\u001b[0m\u001b[0;34m.\u001b[0m\u001b[0msubstituteRelationships\u001b[0m\u001b[0;34m(\u001b[0m\u001b[0mPS\u001b[0m\u001b[0;34m.\u001b[0m\u001b[0mrequestList\u001b[0m\u001b[0;34m,\u001b[0m \u001b[0mtootalNumberRelationships\u001b[0m\u001b[0;34m)\u001b[0m\u001b[0;34m\u001b[0m\u001b[0m\n\u001b[0m",
         "\u001b[0;31mNameError\u001b[0m: name 'tootalNumberRelationships' is not defined"
        ]
       }
      ],
      "source": "ps.substituteRelationships(PS.requestList, tootalNumberRelationships)",
      "start_time": "2019-03-15T10:40:50.316Z"
     },
     {
      "end_time": "2019-03-15T10:40:53.535Z",
      "execution_time": "328ms",
      "outputs": [
       {
        "name": "stdout",
        "output_type": "stream",
        "text": "\nSubstituting relationships into original search results: \n"
       },
       {
        "name": "stdout",
        "output_type": "stream",
        "text": "Loading 0.0%\rLoading 0.07%\rLoading 0.14%\rLoading 0.21%\rLoading 0.28%\rLoading 0.35%\rLoading 0.42%\rLoading 0.48%\rLoading 0.55%\rLoading 0.62%\rLoading 0.69%\rLoading 0.76%\rLoading 0.83%\rLoading 0.9%\rLoading 0.97%\rLoading 1.04%\rLoading 1.11%\rLoading 1.18%\rLoading 1.25%\rLoading 1.31%\rLoading 1.38%\rLoading 1.45%\rLoading 1.52%\rLoading 1.59%\rLoading 1.66%\rLoading 1.73%\rLoading 1.8%\rLoading 1.87%\rLoading 1.94%\rLoading 2.01%\rLoading 2.08%\rLoading 2.15%\rLoading 2.21%\rLoading 2.28%\rLoading 2.35%\rLoading 2.42%\rLoading 2.49%\rLoading 2.56%\rLoading 2.63%\rLoading 2.7%\rLoading 2.77%\rLoading 2.84%\rLoading 2.91%\rLoading 2.98%\rLoading 3.04%\rLoading 3.11%\rLoading 3.18%\rLoading 3.25%\rLoading 3.32%\rLoading 3.39%\rLoading 3.46%\rLoading 3.53%\rLoading 3.6%\rLoading 3.67%\rLoading 3.74%\rLoading 3.81%\rLoading 3.88%\rLoading 3.94%\rLoading 4.01%\rLoading 4.08%\rLoading 4.15%\rLoading 4.22%\rLoading 4.29%\rLoading 4.36%\rLoading 4.43%\rLoading 4.5%\rLoading 4.57%\rLoading 4.64%\rLoading 4.71%\rLoading 4.78%\rLoading 4.84%\rLoading 4.91%\rLoading 4.98%\rLoading 5.05%\rLoading 5.12%\rLoading 5.19%\rLoading 5.26%\rLoading 5.33%\rLoading 5.4%\rLoading 5.47%\rLoading 5.54%\rLoading 5.61%\rLoading 5.67%\rLoading 5.74%\rLoading 5.81%\rLoading 5.88%\rLoading 5.95%\rLoading 6.02%\rLoading 6.09%\rLoading 6.16%\rLoading 6.23%\rLoading 6.3%\rLoading 6.37%\rLoading 6.44%\rLoading 6.51%\rLoading 6.57%\rLoading 6.64%\rLoading 6.71%\rLoading 6.78%\rLoading 6.85%\rLoading 6.92%\rLoading 6.99%\rLoading 7.06%\rLoading 7.13%\rLoading 7.2%\rLoading 7.27%\rLoading 7.34%\rLoading 7.4%\rLoading 7.47%\rLoading 7.54%\rLoading 7.61%\rLoading 7.68%\rLoading 7.75%\rLoading 7.82%\rLoading 7.89%\rLoading 7.96%\rLoading 8.03%\rLoading 8.1%\rLoading 8.17%\rLoading 8.24%\rLoading 8.3%\rLoading 8.37%\rLoading 8.44%\rLoading 8.51%\rLoading 8.58%\rLoading 8.65%\rLoading 8.72%\rLoading 8.79%\rLoading 8.86%\rLoading 8.93%\rLoading 9.0%\rLoading 9.07%\rLoading 9.13%\rLoading 9.2%\rLoading 9.27%\rLoading 9.34%\rLoading 9.41%\rLoading 9.48%\rLoading 9.55%\rLoading 9.62%\rLoading 9.69%\rLoading 9.76%\rLoading 9.83%\rLoading 9.9%\rLoading 9.97%\rLoading 10.03%\rLoading 10.1%\rLoading 10.17%\rLoading 10.24%\rLoading 10.31%\rLoading 10.38%\rLoading 10.45%\rLoading 10.52%\rLoading 10.59%\rLoading 10.66%\rLoading 10.73%\rLoading 10.8%\rLoading 10.87%\rLoading 10.93%\rLoading 11.0%\rLoading 11.07%\rLoading 11.14%\rLoading 11.21%\rLoading 11.28%\rLoading 11.35%\rLoading 11.42%\rLoading 11.49%\rLoading 11.56%\rLoading 11.63%\rLoading 11.7%\rLoading 11.76%\rLoading 11.83%\rLoading 11.9%\rLoading 11.97%\rLoading 12.04%\rLoading 12.11%\rLoading 12.18%\rLoading 12.25%\rLoading 12.32%\rLoading 12.39%\rLoading 12.46%\rLoading 12.53%\rLoading 12.6%\rLoading 12.66%\rLoading 12.73%\rLoading 12.8%\rLoading 12.87%\rLoading 12.94%\rLoading 13.01%\rLoading 13.08%\rLoading 13.15%\rLoading 13.22%\rLoading 13.29%\rLoading 13.36%\rLoading 13.43%\rLoading 13.49%\rLoading 13.56%\rLoading 13.63%\rLoading 13.7%\rLoading 13.77%\rLoading 13.84%\rLoading 13.91%\rLoading 13.98%\rLoading 14.05%\rLoading 14.12%\rLoading 14.19%\rLoading 14.26%\rLoading 14.33%\rLoading 14.39%\rLoading 14.46%\rLoading 14.53%\rLoading 14.6%\rLoading 14.67%\rLoading 14.74%\rLoading 14.81%\rLoading 14.88%\rLoading 14.95%\rLoading 15.02%\rLoading 15.09%\rLoading 15.16%\rLoading 15.22%\rLoading 15.29%\rLoading 15.36%\rLoading 15.43%\rLoading 15.5%\rLoading 15.57%\rLoading 15.64%\rLoading 15.71%\rLoading 15.78%\rLoading 15.85%\rLoading 15.92%\rLoading 15.99%\rLoading 16.06%\rLoading 16.12%\rLoading 16.19%\rLoading 16.26%\rLoading 16.33%\rLoading 16.4%\rLoading 16.47%\rLoading 16.54%\rLoading 16.61%\rLoading 16.68%\rLoading 16.75%\rLoading 16.82%\rLoading 16.89%\rLoading 16.96%\rLoading 17.02%\rLoading 17.09%\rLoading 17.16%\rLoading 17.23%\rLoading 17.3%\rLoading 17.37%\rLoading 17.44%\rLoading 17.51%\rLoading 17.58%\rLoading 17.65%\rLoading 17.72%\rLoading 17.79%\rLoading 17.85%\rLoading 17.92%\rLoading 17.99%\rLoading 18.06%\rLoading 18.13%\rLoading 18.2%\rLoading 18.27%\rLoading 18.34%\rLoading 18.41%\rLoading 18.48%\rLoading 18.55%\rLoading 18.62%\rLoading 18.69%\rLoading 18.75%\rLoading 18.82%\rLoading 18.89%\rLoading 18.96%\rLoading 19.03%\rLoading 19.1%\rLoading 19.17%\rLoading 19.24%\rLoading 19.31%\rLoading 19.38%\rLoading 19.45%\rLoading 19.52%\rLoading 19.58%\rLoading 19.65%\rLoading 19.72%\rLoading 19.79%\rLoading 19.86%\rLoading 19.93%\rLoading 20.0%\rLoading 20.07%\rLoading 20.14%\rLoading 20.21%\rLoading 20.28%\rLoading 20.35%\rLoading 20.42%\rLoading 20.48%\rLoading 20.55%\rLoading 20.62%\rLoading 20.69%\rLoading 20.76%\rLoading 20.83%\rLoading 20.9%\rLoading 20.97%\rLoading 21.04%\rLoading 21.11%\rLoading 21.18%\rLoading 21.25%\rLoading 21.31%\rLoading 21.38%\rLoading 21.45%\rLoading 21.52%\rLoading 21.59%\rLoading 21.66%\rLoading 21.73%\rLoading 21.8%\rLoading 21.87%\rLoading 21.94%\rLoading 22.01%\rLoading 22.08%\rLoading 22.15%\rLoading 22.21%\rLoading 22.28%\rLoading 22.35%\rLoading 22.42%\rLoading 22.49%\rLoading 22.56%\rLoading 22.63%\rLoading 22.7%\rLoading 22.77%\rLoading 22.84%\rLoading 22.91%\rLoading 22.98%\rLoading 23.04%\rLoading 23.11%\rLoading 23.18%\rLoading 23.25%\rLoading 23.32%\rLoading 23.39%\rLoading 23.46%\rLoading 23.53%\rLoading 23.6%\rLoading 23.67%\rLoading 23.74%\rLoading 23.81%\rLoading 23.88%\rLoading 23.94%\rLoading 24.01%\rLoading 24.08%\rLoading 24.15%\rLoading 24.22%\rLoading 24.29%\rLoading 24.36%\rLoading 24.43%\rLoading 24.5%\rLoading 24.57%\rLoading 24.64%\rLoading 24.71%\rLoading 24.78%\rLoading 24.84%\rLoading 24.91%\rLoading 24.98%\rLoading 25.05%\rLoading 25.12%\rLoading 25.19%\rLoading 25.26%\rLoading 25.33%\rLoading 25.4%\rLoading 25.47%\rLoading 25.54%\rLoading 25.61%\rLoading 25.67%\rLoading 25.74%\rLoading 25.81%\rLoading 25.88%\rLoading 25.95%\rLoading 26.02%\rLoading 26.09%\rLoading 26.16%\rLoading 26.23%\rLoading 26.3%\rLoading 26.37%\rLoading 26.44%\rLoading 26.51%\rLoading 26.57%\rLoading 26.64%\rLoading 26.71%\rLoading 26.78%\rLoading 26.85%\rLoading 26.92%\rLoading 26.99%\rLoading 27.06%\rLoading 27.13%\rLoading 27.2%\rLoading 27.27%\rLoading 27.34%\rLoading 27.4%\rLoading 27.47%\rLoading 27.54%\rLoading 27.61%\rLoading 27.68%\rLoading 27.75%\rLoading 27.82%\rLoading 27.89%\rLoading 27.96%\rLoading 28.03%\rLoading 28.1%\rLoading 28.17%\rLoading 28.24%\rLoading 28.3%\rLoading 28.37%\rLoading 28.44%\rLoading 28.51%\rLoading 28.58%\rLoading 28.65%\rLoading 28.72%\rLoading 28.79%\rLoading 28.86%\rLoading 28.93%\rLoading 29.0%\rLoading 29.07%\rLoading 29.13%\rLoading 29.2%\rLoading 29.27%\rLoading 29.34%\rLoading 29.41%\rLoading 29.48%\rLoading 29.55%\rLoading 29.62%\rLoading 29.69%\rLoading 29.76%\rLoading 29.83%\rLoading 29.9%\rLoading 29.97%\rLoading 30.03%\rLoading 30.1%\rLoading 30.17%\rLoading 30.24%\rLoading 30.31%\rLoading 30.38%\rLoading 30.45%\rLoading 30.52%\rLoading 30.59%\rLoading 30.66%\rLoading 30.73%\rLoading 30.8%\rLoading 30.87%\rLoading 30.93%\rLoading 31.0%\rLoading 31.07%\rLoading 31.14%\rLoading 31.21%\rLoading 31.28%\rLoading 31.35%\rLoading 31.42%\rLoading 31.49%\rLoading 31.56%\rLoading 31.63%\rLoading 31.7%\rLoading 31.76%\rLoading 31.83%\rLoading 31.9%\rLoading 31.97%\rLoading 32.04%\rLoading 32.11%\rLoading 32.18%\rLoading 32.25%\rLoading 32.32%\rLoading 32.39%\rLoading 32.46%\rLoading 32.53%\rLoading 32.6%\rLoading 32.66%\rLoading 32.73%\rLoading 32.8%\rLoading 32.87%\rLoading 32.94%\rLoading 33.01%\rLoading 33.08%\rLoading 33.15%\rLoading 33.22%\rLoading 33.29%\rLoading 33.36%\rLoading 33.43%\rLoading 33.49%\rLoading 33.56%\rLoading 33.63%\rLoading 33.7%\rLoading 33.77%\rLoading 33.84%\rLoading 33.91%\rLoading 33.98%\rLoading 34.05%\rLoading 34.12%\rLoading 34.19%\rLoading 34.26%\rLoading 34.33%\rLoading 34.39%\rLoading 34.46%\rLoading 34.53%\rLoading 34.6%\rLoading 34.67%\rLoading 34.74%\rLoading 34.81%\rLoading 34.88%\rLoading 34.95%\rLoading 35.02%\rLoading 35.09%\rLoading 35.16%\rLoading 35.22%\rLoading 35.29%\rLoading 35.36%\rLoading 35.43%\rLoading 35.5%\rLoading 35.57%\rLoading 35.64%\rLoading 35.71%\rLoading 35.78%\rLoading 35.85%\rLoading 35.92%\rLoading 35.99%\rLoading 36.06%\rLoading 36.12%\rLoading 36.19%\rLoading 36.26%\rLoading 36.33%\rLoading 36.4%\rLoading 36.47%\rLoading 36.54%\rLoading 36.61%\rLoading 36.68%\rLoading 36.75%\rLoading 36.82%\rLoading 36.89%\rLoading 36.96%\rLoading 37.02%\rLoading 37.09%\rLoading 37.16%\rLoading 37.23%\rLoading 37.3%\rLoading 37.37%\rLoading 37.44%\rLoading 37.51%\rLoading 37.58%\rLoading 37.65%\rLoading 37.72%\rLoading 37.79%\rLoading 37.85%\rLoading 37.92%\rLoading 37.99%\rLoading 38.06%\rLoading 38.13%\rLoading 38.2%\rLoading 38.27%\rLoading 38.34%\rLoading 38.41%\rLoading 38.48%\rLoading 38.55%\rLoading 38.62%\rLoading 38.69%\rLoading 38.75%\rLoading 38.82%\rLoading 38.89%\rLoading 38.96%\rLoading 39.03%\rLoading 39.1%\rLoading 39.17%\rLoading 39.24%\rLoading 39.31%\rLoading 39.38%\rLoading 39.45%\rLoading 39.52%\rLoading 39.58%\rLoading 39.65%\rLoading 39.72%\rLoading 39.79%\rLoading 39.86%\rLoading 39.93%\rLoading 40.0%\rLoading 40.07%\rLoading 40.14%\rLoading 40.21%\rLoading 40.28%\rLoading 40.35%\rLoading 40.42%\rLoading 40.48%\rLoading 40.55%\rLoading 40.62%\rLoading 40.69%\rLoading 40.76%\rLoading 40.83%\rLoading 40.9%\rLoading 40.97%\rLoading 41.04%\rLoading 41.11%\rLoading 41.18%\rLoading 41.25%\rLoading 41.31%\rLoading 41.38%\rLoading 41.45%\rLoading 41.52%\rLoading 41.59%\rLoading 41.66%\rLoading 41.73%\rLoading 41.8%\rLoading 41.87%\rLoading 41.94%\rLoading 42.01%\rLoading 42.08%\rLoading 42.15%\rLoading 42.21%\rLoading 42.28%\rLoading 42.35%\rLoading 42.42%\rLoading 42.49%\rLoading 42.56%\rLoading 42.63%\rLoading 42.7%\rLoading 42.77%\rLoading 42.84%\rLoading 42.91%\rLoading 42.98%\rLoading 43.04%\rLoading 43.11%\rLoading 43.18%\rLoading 43.25%\rLoading 43.32%\rLoading 43.39%\rLoading 43.46%\rLoading 43.53%\rLoading 43.6%\rLoading 43.67%\rLoading 43.74%\rLoading 43.81%\rLoading 43.88%\rLoading 43.94%\rLoading 44.01%\rLoading 44.08%\rLoading 44.15%\rLoading 44.22%\rLoading 44.29%\rLoading 44.36%\rLoading 44.43%\rLoading 44.5%\rLoading 44.57%\rLoading 44.64%\rLoading 44.71%\rLoading 44.78%\rLoading 44.84%\rLoading 44.91%\rLoading 44.98%\rLoading 45.05%\rLoading 45.12%\rLoading 45.19%\rLoading 45.26%\rLoading 45.33%\rLoading 45.4%\rLoading 45.47%\rLoading 45.54%\rLoading 45.61%\rLoading 45.67%\rLoading 45.74%\rLoading 45.81%\rLoading 45.88%\rLoading 45.95%\rLoading 46.02%\rLoading 46.09%\rLoading 46.16%\rLoading 46.23%\rLoading 46.3%\rLoading 46.37%\rLoading 46.44%\rLoading 46.51%\rLoading 46.57%\rLoading 46.64%\rLoading 46.71%\rLoading 46.78%\rLoading 46.85%\rLoading 46.92%\rLoading 46.99%\rLoading 47.06%\rLoading 47.13%\rLoading 47.2%\rLoading 47.27%\rLoading 47.34%\rLoading 47.4%\rLoading 47.47%\rLoading 47.54%\rLoading 47.61%\rLoading 47.68%\rLoading 47.75%\rLoading 47.82%\rLoading 47.89%\rLoading 47.96%\rLoading 48.03%\rLoading 48.1%\rLoading 48.17%\rLoading 48.24%\rLoading 48.3%\rLoading 48.37%\rLoading 48.44%\rLoading 48.51%\rLoading 48.58%\rLoading 48.65%\rLoading 48.72%\rLoading 48.79%\rLoading 48.86%\rLoading 48.93%\rLoading 49.0%\rLoading 49.07%\rLoading 49.13%\rLoading 49.2%\rLoading 49.27%\rLoading 49.34%\rLoading 49.41%\rLoading 49.48%\rLoading 49.55%\rLoading 49.62%\rLoading 49.69%\rLoading 49.76%\rLoading 49.83%\rLoading 49.9%\rLoading 49.97%\rLoading 50.03%\rLoading 50.1%\rLoading 50.17%\rLoading 50.24%\rLoading 50.31%\rLoading 50.38%\rLoading 50.45%\rLoading 50.52%\rLoading 50.59%\rLoading 50.66%\rLoading 50.73%\rLoading 50.8%\rLoading 50.87%\rLoading 50.93%\rLoading 51.0%\rLoading 51.07%\rLoading 51.14%\rLoading 51.21%\rLoading 51.28%\rLoading 51.35%\rLoading 51.42%\rLoading 51.49%\rLoading 51.56%\rLoading 51.63%\rLoading 51.7%\rLoading 51.76%\rLoading 51.83%\rLoading 51.9%\rLoading 51.97%\rLoading 52.04%\rLoading 52.11%\rLoading 52.18%\rLoading 52.25%\rLoading 52.32%\rLoading 52.39%\rLoading 52.46%\rLoading 52.53%\rLoading 52.6%\rLoading 52.66%\rLoading 52.73%\rLoading 52.8%\rLoading 52.87%\rLoading 52.94%\rLoading 53.01%\rLoading 53.08%\rLoading 53.15%\rLoading 53.22%\rLoading 53.29%\rLoading 53.36%\rLoading 53.43%\rLoading 53.49%\rLoading 53.56%\rLoading 53.63%\rLoading 53.7%\rLoading 53.77%\rLoading 53.84%\rLoading 53.91%\rLoading 53.98%\rLoading 54.05%\rLoading 54.12%\rLoading 54.19%\rLoading 54.26%\rLoading 54.33%\rLoading 54.39%\rLoading 54.46%\rLoading 54.53%\rLoading 54.6%\rLoading 54.67%\rLoading 54.74%\rLoading 54.81%\rLoading 54.88%\rLoading 54.95%\rLoading 55.02%\rLoading 55.09%\rLoading 55.16%\rLoading 55.22%\rLoading 55.29%\rLoading 55.36%\rLoading 55.43%\rLoading 55.5%\rLoading 55.57%\rLoading 55.64%\rLoading 55.71%\rLoading 55.78%\rLoading 55.85%\rLoading 55.92%\rLoading 55.99%\rLoading 56.06%\rLoading 56.12%\rLoading 56.19%\rLoading 56.26%\rLoading 56.33%\rLoading 56.4%\rLoading 56.47%\rLoading 56.54%\rLoading 56.61%\rLoading 56.68%\rLoading 56.75%\rLoading 56.82%\rLoading 56.89%\rLoading 56.96%\rLoading 57.02%\rLoading 57.09%\rLoading 57.16%\rLoading 57.23%\rLoading 57.3%\rLoading 57.37%\rLoading 57.44%\rLoading 57.51%\rLoading 57.58%\rLoading 57.65%\rLoading 57.72%\rLoading 57.79%\rLoading 57.85%\rLoading 57.92%\rLoading 57.99%\rLoading 58.06%\rLoading 58.13%\rLoading 58.2%\rLoading 58.27%\rLoading 58.34%\rLoading 58.41%\rLoading 58.48%\rLoading 58.55%\rLoading 58.62%\rLoading 58.69%\rLoading 58.75%\rLoading 58.82%\rLoading 58.89%\rLoading 58.96%\rLoading 59.03%\rLoading 59.1%\rLoading 59.17%\rLoading 59.24%\rLoading 59.31%\rLoading 59.38%\rLoading 59.45%\rLoading 59.52%\rLoading 59.58%\rLoading 59.65%\rLoading 59.72%\rLoading 59.79%\rLoading 59.86%\rLoading 59.93%\rLoading 60.0%\rLoading 60.07%\rLoading 60.14%\rLoading 60.21%\rLoading 60.28%\rLoading 60.35%\rLoading 60.42%\rLoading 60.48%\rLoading 60.55%\rLoading 60.62%\rLoading 60.69%\rLoading 60.76%\rLoading 60.83%\rLoading 60.9%\rLoading 60.97%\rLoading 61.04%\rLoading 61.11%\rLoading 61.18%\rLoading 61.25%\rLoading 61.31%\rLoading 61.38%\rLoading 61.45%\rLoading 61.52%\rLoading 61.59%\rLoading 61.66%\rLoading 61.73%\rLoading 61.8%\rLoading 61.87%\rLoading 61.94%\rLoading 62.01%\rLoading 62.08%\rLoading 62.15%\rLoading 62.21%\rLoading 62.28%\rLoading 62.35%\rLoading 62.42%\rLoading 62.49%\rLoading 62.56%\rLoading 62.63%\rLoading 62.7%\rLoading 62.77%\rLoading 62.84%\rLoading 62.91%\rLoading 62.98%\rLoading 63.04%\rLoading 63.11%\rLoading 63.18%\rLoading 63.25%\rLoading 63.32%\rLoading 63.39%\rLoading 63.46%\rLoading 63.53%\rLoading 63.6%\rLoading 63.67%\rLoading 63.74%\rLoading 63.81%\rLoading 63.88%\rLoading 63.94%\rLoading 64.01%\rLoading 64.08%\rLoading 64.15%\rLoading 64.22%\rLoading 64.29%\rLoading 64.36%\rLoading 64.43%\rLoading 64.5%\rLoading 64.57%\rLoading 64.64%\rLoading 64.71%\rLoading 64.78%\rLoading 64.84%\rLoading 64.91%\rLoading 64.98%\rLoading 65.05%\rLoading 65.12%\rLoading 65.19%\rLoading 65.26%\rLoading 65.33%\rLoading 65.4%\rLoading 65.47%\rLoading 65.54%\rLoading 65.61%\rLoading 65.67%\rLoading 65.74%\rLoading 65.81%\rLoading 65.88%\rLoading 65.95%\rLoading 66.02%\rLoading 66.09%\rLoading 66.16%\rLoading 66.23%\rLoading 66.3%\rLoading 66.37%\rLoading 66.44%\rLoading 66.51%\rLoading 66.57%\rLoading 66.64%\rLoading 66.71%\rLoading 66.78%\rLoading 66.85%\rLoading 66.92%\rLoading 66.99%\rLoading 67.06%\rLoading 67.13%\rLoading 67.2%\rLoading 67.27%\rLoading 67.34%\rLoading 67.4%\rLoading 67.47%\rLoading 67.54%\rLoading 67.61%\rLoading 67.68%\rLoading 67.75%\rLoading 67.82%\rLoading 67.89%\rLoading 67.96%\rLoading 68.03%\rLoading 68.1%\rLoading 68.17%\rLoading 68.24%\rLoading 68.3%\rLoading 68.37%\rLoading 68.44%\rLoading 68.51%\rLoading 68.58%\rLoading 68.65%\rLoading 68.72%\rLoading 68.79%\rLoading 68.86%\rLoading 68.93%\rLoading 69.0%\rLoading 69.07%\rLoading 69.13%\rLoading 69.2%\rLoading 69.27%\rLoading 69.34%\rLoading 69.41%\rLoading 69.48%\rLoading 69.55%\rLoading 69.62%\rLoading 69.69%\rLoading 69.76%\rLoading 69.83%\rLoading 69.9%\rLoading 69.97%\rLoading 70.03%\rLoading 70.1%\rLoading 70.17%\rLoading 70.24%\rLoading 70.31%\rLoading 70.38%\rLoading 70.45%\rLoading 70.52%\rLoading 70.59%\rLoading 70.66%\rLoading 70.73%\rLoading 70.8%\rLoading 70.87%\rLoading 70.93%\rLoading 71.0%\rLoading 71.07%\rLoading 71.14%\rLoading 71.21%\rLoading 71.28%\rLoading 71.35%\rLoading 71.42%\rLoading 71.49%\rLoading 71.56%\rLoading 71.63%\rLoading 71.7%\rLoading 71.76%\rLoading 71.83%\rLoading 71.9%\rLoading 71.97%\rLoading 72.04%\rLoading 72.11%\rLoading 72.18%\rLoading 72.25%\rLoading 72.32%\rLoading 72.39%\rLoading 72.46%\rLoading 72.53%\rLoading 72.6%\rLoading 72.66%\rLoading 72.73%\rLoading 72.8%\rLoading 72.87%\rLoading 72.94%\rLoading 73.01%\rLoading 73.08%\rLoading 73.15%\rLoading 73.22%\rLoading 73.29%\rLoading 73.36%\rLoading 73.43%\rLoading 73.49%\rLoading 73.56%\rLoading 73.63%\rLoading 73.7%\rLoading 73.77%\rLoading 73.84%\rLoading 73.91%\rLoading 73.98%\rLoading 74.05%\rLoading 74.12%\rLoading 74.19%\rLoading 74.26%\rLoading 74.33%\rLoading 74.39%\rLoading 74.46%\rLoading 74.53%\rLoading 74.6%\rLoading 74.67%\rLoading 74.74%\rLoading 74.81%\rLoading 74.88%\rLoading 74.95%\rLoading 75.02%\rLoading 75.09%\rLoading 75.16%\rLoading 75.22%\rLoading 75.29%\rLoading 75.36%\rLoading 75.43%\rLoading 75.5%\rLoading 75.57%\rLoading 75.64%\rLoading 75.71%\rLoading 75.78%\rLoading 75.85%\rLoading 75.92%\rLoading 75.99%\rLoading 76.06%\rLoading 76.12%\rLoading 76.19%\rLoading 76.26%\rLoading 76.33%\rLoading 76.4%\rLoading 76.47%\rLoading 76.54%\rLoading 76.61%\rLoading 76.68%\rLoading 76.75%\rLoading 76.82%\rLoading 76.89%\rLoading 76.96%\rLoading 77.02%\rLoading 77.09%\rLoading 77.16%\rLoading 77.23%\rLoading 77.3%\rLoading 77.37%\rLoading 77.44%\rLoading 77.51%\rLoading 77.58%\rLoading 77.65%\rLoading 77.72%\rLoading 77.79%\rLoading 77.85%\rLoading 77.92%\rLoading 77.99%\rLoading 78.06%\rLoading 78.13%\rLoading 78.2%\rLoading 78.27%\rLoading 78.34%\rLoading 78.41%\rLoading 78.48%\rLoading 78.55%\rLoading 78.62%\rLoading 78.69%\rLoading 78.75%\rLoading 78.82%\rLoading 78.89%\rLoading 78.96%\rLoading 79.03%\rLoading 79.1%\rLoading 79.17%\rLoading 79.24%\rLoading 79.31%\rLoading 79.38%\rLoading 79.45%\rLoading 79.52%\rLoading 79.58%\rLoading 79.65%\rLoading 79.72%\rLoading 79.79%\rLoading 79.86%\rLoading 79.93%\rLoading 80.0%\rLoading 80.07%\rLoading 80.14%\rLoading 80.21%\rLoading 80.28%\rLoading 80.35%\rLoading 80.42%\rLoading 80.48%\rLoading 80.55%\rLoading 80.62%\rLoading 80.69%\rLoading 80.76%\rLoading 80.83%\rLoading 80.9%\rLoading 80.97%\rLoading 81.04%\rLoading 81.11%\rLoading 81.18%\rLoading 81.25%\rLoading 81.31%\rLoading 81.38%\rLoading 81.45%\rLoading 81.52%\rLoading 81.59%\rLoading 81.66%\rLoading 81.73%\rLoading 81.8%\rLoading 81.87%\rLoading 81.94%\rLoading 82.01%\rLoading 82.08%\rLoading 82.15%\rLoading 82.21%\rLoading 82.28%\rLoading 82.35%\rLoading 82.42%\rLoading 82.49%\rLoading 82.56%\rLoading 82.63%\rLoading 82.7%\rLoading 82.77%\rLoading 82.84%\rLoading 82.91%\rLoading 82.98%\rLoading 83.04%\rLoading 83.11%\rLoading 83.18%\rLoading 83.25%\rLoading 83.32%\rLoading 83.39%\rLoading 83.46%\rLoading 83.53%\rLoading 83.6%\rLoading 83.67%\rLoading 83.74%\rLoading 83.81%\rLoading 83.88%\rLoading 83.94%\rLoading 84.01%\rLoading 84.08%\rLoading 84.15%\rLoading 84.22%\rLoading 84.29%\rLoading 84.36%\rLoading 84.43%\rLoading 84.5%\rLoading 84.57%\rLoading 84.64%\rLoading 84.71%\rLoading 84.78%\rLoading 84.84%\rLoading 84.91%\rLoading 84.98%\rLoading 85.05%\rLoading 85.12%\rLoading 85.19%\rLoading 85.26%\rLoading 85.33%\rLoading 85.4%\rLoading 85.47%\rLoading 85.54%\rLoading 85.61%\rLoading 85.67%\rLoading 85.74%\rLoading 85.81%\rLoading 85.88%\rLoading 85.95%\rLoading 86.02%\rLoading 86.09%\rLoading 86.16%\rLoading 86.23%\rLoading 86.3%\rLoading 86.37%\rLoading 86.44%\rLoading 86.51%\rLoading 86.57%\rLoading 86.64%\rLoading 86.71%\rLoading 86.78%\rLoading 86.85%\rLoading 86.92%\rLoading 86.99%\rLoading 87.06%\rLoading 87.13%\rLoading 87.2%\rLoading 87.27%\rLoading 87.34%\rLoading 87.4%\rLoading 87.47%\rLoading 87.54%\rLoading 87.61%\rLoading 87.68%\rLoading 87.75%\rLoading 87.82%\rLoading 87.89%\rLoading 87.96%\rLoading 88.03%\rLoading 88.1%\rLoading 88.17%\rLoading 88.24%\rLoading 88.3%\rLoading 88.37%\rLoading 88.44%\rLoading 88.51%\rLoading 88.58%\rLoading 88.65%\rLoading 88.72%\rLoading 88.79%\rLoading 88.86%\rLoading 88.93%\rLoading 89.0%\rLoading 89.07%\rLoading 89.13%\rLoading 89.2%\rLoading 89.27%\rLoading 89.34%\rLoading 89.41%\rLoading 89.48%\rLoading 89.55%\rLoading 89.62%\rLoading 89.69%\rLoading 89.76%\rLoading 89.83%\rLoading 89.9%\rLoading 89.97%\rLoading 90.03%\rLoading 90.1%\rLoading 90.17%\rLoading 90.24%\rLoading 90.31%\rLoading 90.38%\rLoading 90.45%\rLoading 90.52%\rLoading 90.59%\rLoading 90.66%\rLoading 90.73%\rLoading 90.8%\rLoading 90.87%\rLoading 90.93%\rLoading 91.0%\rLoading 91.07%\rLoading 91.14%\rLoading 91.21%\rLoading 91.28%\rLoading 91.35%\rLoading 91.42%\rLoading 91.49%\rLoading 91.56%\rLoading 91.63%\rLoading 91.7%\rLoading 91.76%\rLoading 91.83%\rLoading 91.9%\rLoading 91.97%\rLoading 92.04%\rLoading 92.11%\rLoading 92.18%\rLoading 92.25%\rLoading 92.32%\rLoading 92.39%\rLoading 92.46%\rLoading 92.53%\rLoading 92.6%\rLoading 92.66%\rLoading 92.73%\rLoading 92.8%\rLoading 92.87%\rLoading 92.94%\rLoading 93.01%\rLoading 93.08%\rLoading 93.15%\rLoading 93.22%\rLoading 93.29%\rLoading 93.36%\rLoading 93.43%\rLoading 93.49%\rLoading 93.56%\rLoading 93.63%\rLoading 93.7%\rLoading 93.77%\rLoading 93.84%\rLoading 93.91%\rLoading 93.98%\rLoading 94.05%\rLoading 94.12%\rLoading 94.19%\rLoading 94.26%\rLoading 94.33%\rLoading 94.39%\rLoading 94.46%\rLoading 94.53%\rLoading 94.6%\rLoading 94.67%\rLoading 94.74%\rLoading 94.81%\rLoading 94.88%\rLoading 94.95%\rLoading 95.02%\rLoading 95.09%\rLoading 95.16%\rLoading 95.22%\rLoading 95.29%\rLoading 95.36%\rLoading 95.43%\rLoading 95.5%\rLoading 95.57%\rLoading 95.64%\rLoading 95.71%\rLoading 95.78%\rLoading 95.85%\rLoading 95.92%\rLoading 95.99%\rLoading 96.06%\rLoading 96.12%\rLoading 96.19%\rLoading 96.26%\rLoading 96.33%\rLoading 96.4%\rLoading 96.47%\rLoading 96.54%\rLoading 96.61%\rLoading 96.68%\rLoading 96.75%\rLoading 96.82%\rLoading 96.89%\rLoading 96.96%\rLoading 97.02%\rLoading 97.09%\rLoading 97.16%\rLoading 97.23%\rLoading 97.3%\rLoading 97.37%\rLoading 97.44%\rLoading 97.51%\rLoading 97.58%\rLoading 97.65%\rLoading 97.72%\rLoading 97.79%\rLoading 97.85%\rLoading 97.92%\rLoading 97.99%\rLoading 98.06%\rLoading 98.13%\rLoading 98.2%\rLoading 98.27%\rLoading 98.34%\rLoading 98.41%\rLoading 98.48%\rLoading 98.55%\rLoading 98.62%\rLoading 98.69%\rLoading 98.75%\rLoading 98.82%\rLoading 98.89%\rLoading 98.96%\rLoading 99.03%\rLoading 99.1%\rLoading 99.17%\rLoading 99.24%\rLoading 99.31%\rLoading 99.38%\rLoading 99.45%\rLoading 99.52%\rLoading 99.58%\r"
       }
      ],
      "source": "ps.substituteRelationships(PS.requestList, totalNumberRelationships)",
      "start_time": "2019-03-15T10:40:53.207Z"
     }
    ]
   },
   "outputs": [],
   "source": [
    "ps.substituteRelationships(PS.requestList, totalNumberRelationships)"
   ]
  },
  {
   "cell_type": "code",
   "execution_count": null,
   "metadata": {
    "ExecutionTime": {
     "end_time": "2019-03-15T10:40:57.913075Z",
     "start_time": "2019-03-15T10:40:57.703982Z"
    },
    "provenance": [
     {
      "end_time": "Unknown",
      "execution_time": "Unknown",
      "outputs": [],
      "source": "for request in ps.requestList:\n\n    request.print()\n    print('\\n________________________________________________________\\n')",
      "start_time": "Unknown"
     },
     {
      "end_time": "2019-03-15T10:40:57.913Z",
      "execution_time": "210ms",
      "outputs": [
       {
        "name": "stdout",
        "output_type": "stream",
        "text": "Gene expression(id: 753 | type: assays)\n\nDescription: Analyses of gene expression: qPCR analyses in liver (relative expression) and ovaries (absolute expression). \n\n\nCREATORS\nKarina Dale\nDATA_FILES\nKollevåg biometrics\nqPCR ovaries_Kollevåg\nqPCR liver_Kollevåg\nPEOPLE\nKarina Dale\nPROJECTS\nSystems toxicology of Atlantic cod\nSTUDY\nCaging study - Kollevåg\nSUBMITTER\nKarina Dale\n\n________________________________________________________\n\nChemical analyses(id: 751 | type: assays)\n\nDescription: Chemical analyses in Kollevåg includes sediment contaminant concentrations, concentrations of various contaminants in cod liver and concentrations of PAH metabolites in cod bile.\n\n\nCREATORS\nKarina Dale\nDATA_FILES\nKollevåg biometrics\nPAH metabolites in bile Kollevåg\nSediment chemistry\nLiver chemistry_Kollevåg\nORGANISMS\nGadus morhua\nPEOPLE\nKarina Dale\nPROJECTS\nSystems toxicology of Atlantic cod\nSTUDY\nCaging study - Kollevåg\nSUBMITTER\nKarina Dale\n\n________________________________________________________\n\nFatty Acid Analysis(id: 776 | type: assays)\n\nDescription: Total lipids are extracted from tissues of white muscle, liver and whole brain from three fish per dietary treatment. \n\n\nCREATORS\nSahar Hassani\nDATA_FILES\nInitial FAD KO_Liver phospholipid fatty acid profile\nInitial FAD KO_White muscle phospholipid fatty acid profile\nPEOPLE\nSahar Hassani\nPROJECTS\nDigiSal\nSTUDY\nELOVL2 Knockout\nSUBMITTER\nSahar Hassani\n\n________________________________________________________\n\nInes Thiele(id: 753 | type: people)\n\nDescription: Associate Professor for Systems Biomedicine, Luxembourg Centre for Systems Biomedicine, University of Luxembourg\n\n\nINSTITUTIONS\nUniversity of Luxembourg\nPROJECTS\nHUMET Startup\nPoLiMeR -   Polymers in the Liver: Metabolism and Regulation\n\n________________________________________________________\n\ncy3sabiork-SupplementaryFile-S2(id: 1428 | type: data_files)\n\nDescription: Supplementary File S2: Kinetic entries for human galactose metabolism.\r\nSBML for query: http://sabiork.h-its.org/sabioRestWebServices/searchKineticLaws/sbml?q=Pathway:%22galactose%20metabolism%22%20AND%20Organism:%22homo%20sapiens%22\n\n\nCREATORS\nMatthias König\nPEOPLE\nMatthias König\nPROJECTS\nMulti-Scale Models for Personalized Liver Function Tests (LiSyM-MM-PLF)\nSUBMITTER\nMatthias König\n\n________________________________________________________\n\nKaren Van Eunen(id: 1229 | type: people)\n\nDescription: missing\n\n\nINSTITUTIONS\nUniversity of Groningen\nPROJECTS\nPoLiMeR -   Polymers in the Liver: Metabolism and Regulation\n\n________________________________________________________\n\nRWTH Aachen University Hospital - Department of Internal Medicine III(id: 203 | type: institutions)\n\nDescription: missing\n\n\nPEOPLE\nJanine Koehncke\nPROJECTS\nChronic Liver Disease Progression (LiSyM-DP - Pillar II)\nFAIRDOM & LiSyM & de.NBI Data Structuring Training\n\n________________________________________________________\n\nMimetas(id: 262 | type: institutions)\n\nDescription: missing\n\n\nPEOPLE\nDorota Kurek\nPROJECTS\nPoLiMeR -   Polymers in the Liver: Metabolism and Regulation\n\n________________________________________________________\n\nTBARS: Oxidative stress(id: 754 | type: assays)\n\nDescription: TBARS assay measured oxidative stress as levels of malondialdehyde in samples.\r\nPerformed in cod liver samples.\n\n\nCREATORS\nKarina Dale\nDATA_FILES\nKollevåg biometrics\nTBARS_Kollevåg\nPEOPLE\nKarina Dale\nPROJECTS\nSystems toxicology of Atlantic cod\nSTUDY\nCaging study - Kollevåg\nSUBMITTER\nKarina Dale\n\n________________________________________________________\n\nContext-specific flow through the MEK/ERK module produces cell- and ligand-specific patterns of ERK single and double phosphorylation(id: 274 | type: publications)\n\nDescription: missing\n\n\nINVESTIGATIONS\nWP1: Integration of Epo-induced Signal Transduction\nPEOPLE\nMaja Rey\nMarcel Schilling\nPROJECTS\nSBEpo - Systems Biology of Erythropoietin\n\n________________________________________________________\n\nLiver transcriptome analysis of Atlantic cod (Gadus morhua) exposed to PCB 153 indicates effects on cell cycle regulation and lipid metabolism(id: 309 | type: publications)\n\nDescription: missing\n\n\nPEOPLE\nFekadu Yadetie\nPROJECTS\nSystems toxicology of Atlantic cod\n\n________________________________________________________\n\nNew SEEK features (presentation at last PALs meeing in Heidelberg on 27th of August)(id: 11 | type: presentations)\n\nDescription: The presentation of new features in SEEK at last PALs meeing in Heidelberg on 27th of August by David, Lihua and Quyen\n\n\nCREATORS\nOlga Krebs\nEVENTS\nAll Hands SySMO PALs  meeting \nPEOPLE\nOlga Krebs\nPROJECTS\nSysMO DB\nSUBMITTER\nOlga Krebs\n\n________________________________________________________\n\ncy3sabiork: A Cytoscape app for visualizing kinetic data from SABIO-RK(id: 266 | type: publications)\n\nDescription: missing\n\n\nINVESTIGATIONS\nTools and standards for computational modeling in biology\nPEOPLE\nMatthias König\nPROJECTS\nMulti-Scale Models for Personalized Liver Function Tests (LiSyM-MM-PLF)\nKinetics on the move - Workshop 2016\n\n________________________________________________________\n\nA Predictive 3D Multi-Scale Model of Biliary Fluid Dynamics in the Liver Lobule.(id: 366 | type: publications)\n\nDescription: missing\n\n\nMODELS\nMorpheus: open source modelling and simulation framework for multicellular systems\nPEOPLE\nLutz Brusch\nPROJECTS\nEarly Metabolic Injury (LiSyM-EMI - Pillar I)\n\n________________________________________________________\n\nKathrin Thedieck(id: 1039 | type: people)\n\nDescription: Prof. Dr. Kathrin Thedieck\r\nMESI-STRAT Coordinator\r\nLeader WP8 – Project Coordination\n\n\nINSTITUTIONS\nUniversity of Groningen\nPROJECTS\nMESI-STRAT\nPoLiMeR -   Polymers in the Liver: Metabolism and Regulation\nPUBLICATIONS\nA systems study reveals concurrent activation of AMPK and mTOR by amino acids.\n\n________________________________________________________\n\nMorpheus: open source modelling and simulation framework for multicellular systems(id: 320 | type: models)\n\nDescription: Morpheus is the modelling and simulation framework for multicellular systems biology developed at Technische Universität Dresden.\r\nManual, examples and binaries for Windows, Linux, MacOS at: https://imc.zih.tu-dresden.de/wiki/morpheus\r\nOpen source code at: https://gitlab.com/morpheus.lab/morpheus\n\n\nCREATORS\nLutz Brusch\nPEOPLE\nLutz Brusch\nPROJECTS\nEarly Metabolic Injury (LiSyM-EMI - Pillar I)\nPUBLICATIONS\nMorpheus: a user-friendly modeling environment for multiscale and multicellular systems biology.\nA Predictive 3D Multi-Scale Model of Biliary Fluid Dynamics in the Liver Lobule.\nSUBMITTER\nLutz Brusch\n\n________________________________________________________\n\nPAL report – Data management LiSyM Multiscale Models for Liver Function Tests(id: 378 | type: presentations)\n\nDescription: Report about PAL experience and data management solutions in MM-PLF LiSyM.\n\n\nCREATORS\nMatthias König\nEVENTS\nJoint LiSyM & ERASysAPP Data Management PALs Meeting\nPEOPLE\nMatthias König\nPROJECTS\nMulti-Scale Models for Personalized Liver Function Tests (LiSyM-MM-PLF)\nSUBMITTER\nMatthias König\n\n________________________________________________________\n\nSABIO-RK documentation user interface(id: 1391 | type: data_files)\n\nDescription: missing\n\n\nCREATORS\nUlrike Wittig\nPEOPLE\nUlrike Wittig\nPROJECTS\nKinetics on the move - Workshop 2016\nSUBMITTER\nUlrike Wittig\n\n________________________________________________________\n\nQuantitative proteomics analysis reveals perturbation of lipid metabolic pathways in the liver of Atlantic cod (Gadus morhua) treated with PCB 153(id: 312 | type: publications)\n\nDescription: missing\n\n\nPEOPLE\nFekadu Yadetie\nPROJECTS\nSystems toxicology of Atlantic cod\n\n________________________________________________________\n\nMaaike H. Oosterveer(id: 1240 | type: people)\n\nDescription: missing\n\n\nINSTITUTIONS\nUniversity of Groningen\nPROJECTS\nPoLiMeR -   Polymers in the Liver: Metabolism and Regulation\n\n________________________________________________________\n\nUniversity of Duesseldorf(id: 27 | type: institutions)\n\nDescription: missing\n\n\nPEOPLE\nKarl-Erich Jaeger\nHorst Funken\nOliver Ebenhöh\nAdelaide Raguin\nPROJECTS\nPSYSMO\nPoLiMeR -   Polymers in the Liver: Metabolism and Regulation\n\n________________________________________________________\n\nRNAseq(id: 771 | type: assays)\n\nDescription: Stranded RNAseq libraries were prepared from 1µg total RNA from liver tissue using TruSeq Stranded mRNA library preparation kit (Illumina, San Diego, USA) using double unique indices (#20022371), according to the manufacturer's instruction (Part 15031057 Rev.E). Libraries were sequenced at the Norwegian Sequencing Centre (NSC). All libraries were pooled, and the same pool was sequenced on 4 flow cell lanes on a HiSeq 3000 machine (Illumina), generating 100bp single-end reads. \r\nRNA sequencing files (.fastq) were processed in the following manner: (i) All reads from the same individual were merged into one fastq file. (ii) Reads were mapped to the Atlantic salmon genome (GenBank Accession number: GCA_0002333375.4) using STAR (v 2.6.0c) 50. (iii) Read alignments, recorded in BAM format were subsequently used to count uniquely mapped reads per gene using featurecounts (v1.4.4) 51, with the RefSeq gene_ids. Raw illumina reads as well as gene counts are publicly available through ArrayExpress 52 accession E-MTAB-7220.  \n\n\nCREATORS\nSahar Hassani\nDATA_FILES\nCombined.counts\nCrispr_metadata\nPEOPLE\nSahar Hassani\nPROJECTS\nDigiSal\nSTUDY\nELOVL2 Knockout\nSUBMITTER\nSahar Hassani\n\n________________________________________________________\n\n7th Conference on Systems Biology of Mammalian Cells (SBMC 2018)(id: 119 | type: events)\n\nDescription: The overarching integrating power of computational modelling, from systems biology to systems medicine\n\n\nPROJECTS\nFAIRDOM\nEarly Metabolic Injury (LiSyM-EMI - Pillar I)\nChronic Liver Disease Progression (LiSyM-DP - Pillar II)\nRegeneration and Repair in Acute-on-Chronic Liver Failure (LiSyM-ACLF - Pillar III)\nLiSyM Core Infrastructure and Management (LiSyM-PD)\nLiver Function Diagnostics (LiSyM-LiFuDi - Pillar IV)\nModel Guided Pharmacotherapy In Chronic Liver Disease (LiSyM-MGP)\nMulti-Scale Models for Personalized Liver Function Tests (LiSyM-MM-PLF)\nThe Hedgehog Signalling Pathway (LiSyM-JGMMS)\nMolecular Steatosis - Imaging & Modeling (LiSyM-MSIM)\nSUBMITTER\nMartin Golebiewski\n\n________________________________________________________\n\nSABIO-RK tasks for hands on training(id: 2144 | type: data_files)\n\nDescription: missing\n\n\nCREATORS\nUlrike Wittig\nMaja Rey\nEVENTS\nTools for systems biology modeling and data exchange 2018\nPEOPLE\nMaja Rey\nUlrike Wittig\nPROJECTS\nde.NBI-SysBio\nSUBMITTER\nMaja Rey\n\n________________________________________________________\n\nIceni Diagnostics Ltd(id: 260 | type: institutions)\n\nDescription: missing\n\n\nPEOPLE\nStephan Goetz\nPROJECTS\nPoLiMeR -   Polymers in the Liver: Metabolism and Regulation\n\n________________________________________________________\n\nqPCR liver_Kollevåg(id: 2279 | type: data_files)\n\nDescription: Gene expression data of various genes from cod liver.\n\n\nASSAYS\nGene expression\nPEOPLE\nKarina Dale\nPROJECTS\nSystems toxicology of Atlantic cod\nSTUDIES\nCaging study - Kollevåg\nSUBMITTER\nKarina Dale\n\n________________________________________________________\n\nProteomics Template from PRIDE(id: 9 | type: data_files)\n\nDescription: An example of a completed data sheet for Mass spectrometry data. This is not SysMO specific, but it is an example of a MIAPE compliant data format taken from the PRIDE website (http://www.ebi.ac.uk/pride).\n\n\nASSAYS\nProteomics Templates (Mass spectrometry)\nCREATORS\nKaty Wolstencroft\nINVESTIGATIONS\nCreating data sheet template for 'omics data\nPEOPLE\nKaty Wolstencroft\nPROJECTS\nSysMO DB\nSTUDIES\nCreating Templates for Proteomics\nSUBMITTER\nKaty Wolstencroft\n\n________________________________________________________\n\nTBARS_Kollevåg(id: 2280 | type: data_files)\n\nDescription: Measurement of oxidative stress (TBARS) assay in liver of cod caged in Kollevåg and at reference location.\n\n\nASSAYS\nTBARS: Oxidative stress\nPEOPLE\nKarina Dale\nPROJECTS\nSystems toxicology of Atlantic cod\nSTUDIES\nCaging study - Kollevåg\nSUBMITTER\nKarina Dale\n\n________________________________________________________\n\nTerry G.J. Derks(id: 1250 | type: people)\n\nDescription: missing\n\n\nINSTITUTIONS\nUniversity of Leiden\nPROJECTS\nPoLiMeR -   Polymers in the Liver: Metabolism and Regulation\n\n________________________________________________________\n\nThe SysMO SEEK - A Tale of Systems Biologists, Sharing and Stealth. Why every platform builder needs PALs(id: 105 | type: presentations)\n\nDescription: Carole Goble's KeyNote talk at the 9th Intl Symp on Integrative Bioinformatics 2013 from the 20th Martch 2013\r\n\n\n\nCREATORS\nCarole Goble\nPEOPLE\nCarole Goble\nStuart Owen\nPROJECTS\nSysMO DB\nSUBMITTER\nStuart Owen\n\n________________________________________________________\n\nLiSyM/de.NBI/ERASysAPP Tutorial: How to Share FAIR — The FAIRDOM Data and Model Management Practice(id: 120 | type: events)\n\nDescription: Participants will learn how to structure and share complex data in a Findable, Accessible, Interoperable and Reusable (FAIR) manner. Hands-on sessions, lectures and software demonstrations will provide attendees with the necessary skills to apply components of the FAIRDOM infrastructure in their daily work for interrelating and exchanging data, models and corresponding information.\r\n\r\nFAIRDOM is a research infrastructure offering data management support. The SEEK software is designed as registry and storage place for data, models, biological samples, processes, publications and presentations, and at the same time as yellow pages for projects, people and events. SEEK is implemented as central data management platform in research networks such as LiSyM (https://seek.lisym.org), but also as cross-project platform FAIRDOMhub (https://www.fairdomhub.org) used e.g. by the European ERASysAPP initiative. The tutorial is jointly organized by LiSyM, ERASysAPP and the the German Network for Bioinformatics Infrastructure (de.NBI).\r\n\r\nParticipants need to bring their own laptop.\n\n\nPRESENTATIONS\nFAIRDOM tutorial workshop SBMC2018 Bremen - Introduction\nFAIRDOM tutorial workshop SBMC2018 Bremen - Introduction into SABIO-RK\nFAIRDOM tutorial workshop SBMC2018 Bremen - SEEK_Hands-on-tasks\nFAIRDOM tutorial workshop SBMC2018 Bremen - SEEK-slides_Hands-on\nFAIRDOM tutorial workshop SBMC2018 Bremen - SEEK_api-slides\nFAIRDOM tutorial workshop SBMC2018 Bremen - SEEK-access_Jupyter_notebook\nPROJECTS\nFAIRDOM\nde.NBI-SysBio\nEarly Metabolic Injury (LiSyM-EMI - Pillar I)\nChronic Liver Disease Progression (LiSyM-DP - Pillar II)\nRegeneration and Repair in Acute-on-Chronic Liver Failure (LiSyM-ACLF - Pillar III)\nLiSyM Core Infrastructure and Management (LiSyM-PD)\nLiver Function Diagnostics (LiSyM-LiFuDi - Pillar IV)\nModel Guided Pharmacotherapy In Chronic Liver Disease (LiSyM-MGP)\nMulti-Scale Models for Personalized Liver Function Tests (LiSyM-MM-PLF)\nThe Hedgehog Signalling Pathway (LiSyM-JGMMS)\nMolecular Steatosis - Imaging & Modeling (LiSyM-MSIM)\nSUBMITTER\nMartin Golebiewski\n\n________________________________________________________\n\nManagement of data, models, analyses and code for reproducible computational research: Present and Future(id: 284 | type: presentations)\n\nDescription: Our group develops computational models of the liver within the German systems biology projects VLN (Virtual Liver Network) and LiSyM (Systems Medicine of the Liver). In this talk we present our experiences in data and model management in recent years and future directions towards reproducible computational research we plan to implement.\r\n\r\nWe give an overview over the role of Fairdom and SEEK within our data management solution and how this integrates with and complements other approaches such as code repositories, COMBINE archives, and Research Objects. We present challenges in data management within the typical workflows in model building, the integration of data with models and the preparation of results from computational analysis for publications.\n\n\nCREATORS\nMatthias König\nEVENTS\nFirst FAIRDOM User Meeting held  as a satellite meeting of ICSB 2016 in Barcelona \nPEOPLE\nMatthias König\nPROJECTS\nFAIRDOM user meeting\nSUBMITTER\nMatthias König\n\n________________________________________________________\n\nSABIO-RK results for hands on training(id: 2145 | type: data_files)\n\nDescription: missing\n\n\nCREATORS\nMaja Rey\nUlrike Wittig\nEVENTS\nTools for systems biology modeling and data exchange 2018\nPEOPLE\nMaja Rey\nUlrike Wittig\nPROJECTS\nde.NBI-SysBio\nSUBMITTER\nMaja Rey\n\n________________________________________________________\n\nFirst LiSyM PostDoc and PhD student retreat(id: 64 | type: events)\n\nDescription: The meeting will provide a great opportunity for discussion between modellers, experimentalists and clinicians and to organize and harmonize our future work within the LiSyM network on the grassroot level. \r\n \r\nAll PhD students as well as all PostDocs of the LiSyM network are kindly requested to register by February 1st\n\n\nPROJECTS\nEarly Metabolic Injury (LiSyM-EMI - Pillar I)\nChronic Liver Disease Progression (LiSyM-DP - Pillar II)\nRegeneration and Repair in Acute-on-Chronic Liver Failure (LiSyM-ACLF - Pillar III)\nLiSyM Core Infrastructure and Management (LiSyM-PD)\nLiver Function Diagnostics (LiSyM-LiFuDi - Pillar IV)\nModel Guided Pharmacotherapy In Chronic Liver Disease (LiSyM-MGP)\nMulti-Scale Models for Personalized Liver Function Tests (LiSyM-MM-PLF)\nThe Hedgehog Signalling Pathway (LiSyM-JGMMS)\nMolecular Steatosis - Imaging & Modeling (LiSyM-MSIM)\nSUBMITTER\nMartin Golebiewski\n\n________________________________________________________\n\nRonan Fleming(id: 1244 | type: people)\n\nDescription: missing\n\n\nINSTITUTIONS\nUniversity of Leiden\nPROJECTS\nPoLiMeR -   Polymers in the Liver: Metabolism and Regulation\n\n________________________________________________________\n\nRightField presentation for Virtual Liver Network(id: 100 | type: presentations)\n\nDescription: Introduction to RightField and Demo were presented at the  Virtual Liver Network PALs meeting on 31st of October in Hünfeld, Germany\n\n\nCREATORS\nOlga Krebs\nStuart Owen\nKaty Wolstencroft\nPEOPLE\nKaty Wolstencroft\nStuart Owen\nOlga Krebs\nPROJECTS\nSysMO DB\nPUBLICATIONS\nRightField: embedding ontology annotation in spreadsheets\nSUBMITTER\nOlga Krebs\n\n________________________________________________________\n\n1st LiSyM Jamboree & SAB Meeting(id: 73 | type: events)\n\nDescription: missing\n\n\nPROJECTS\nEarly Metabolic Injury (LiSyM-EMI - Pillar I)\nChronic Liver Disease Progression (LiSyM-DP - Pillar II)\nRegeneration and Repair in Acute-on-Chronic Liver Failure (LiSyM-ACLF - Pillar III)\nLiSyM Core Infrastructure and Management (LiSyM-PD)\nLiver Function Diagnostics (LiSyM-LiFuDi - Pillar IV)\nModel Guided Pharmacotherapy In Chronic Liver Disease (LiSyM-MGP)\nMulti-Scale Models for Personalized Liver Function Tests (LiSyM-MM-PLF)\nThe Hedgehog Signalling Pathway (LiSyM-JGMMS)\nMolecular Steatosis - Imaging & Modeling (LiSyM-MSIM)\nSUBMITTER\nMartin Golebiewski\n\n________________________________________________________\n\nKollevåg biometrics(id: 2249 | type: data_files)\n\nDescription: Biometry data of fish from Kollevåg caging study\n\n\nASSAYS\nFish Biometrics\nEnzyme activity assays\nEnzyme immunoassay\nChemical analyses\nWestern blot - protein expression\nGene expression\nTBARS: Oxidative stress\nVitellogenin in blood plasma\nCREATORS\nKarina Dale\nPEOPLE\nKarina Dale\nPROJECTS\nSystems toxicology of Atlantic cod\nSTUDIES\nCaging study - Kollevåg\nSUBMITTER\nKarina Dale\n\n________________________________________________________\n\nOliver Ebenhöh(id: 1241 | type: people)\n\nDescription: missing\n\n\nINSTITUTIONS\nUniversity of Duesseldorf\nPROJECTS\nPoLiMeR -   Polymers in the Liver: Metabolism and Regulation\n\n________________________________________________________\n\nAn update on SEEK BioSamples\r\n(id: 51 | type: presentations)\n\nDescription: Olga's presentation at SySMO PALs meeting 29 – 30 November 2012, Heidelberg\r\n\n\n\nCREATORS\nOlga Krebs\nEVENTS\n6th All hands PALs meeting on 29 - 30 of November 2012 in Heidelberg\nPEOPLE\nOlga Krebs\nPROJECTS\nSysMO DB\nSUBMITTER\nOlga Krebs\n\n________________________________________________________\n\nEnzyme activity Gst+Cat_Kollevåg(id: 2255 | type: data_files)\n\nDescription: Measurement of Gst and Cat enzyme activity in liver of fish caged in Kollevåg.\n\n\nASSAYS\nEnzyme activity assays\nCREATORS\nKarina Dale\nPEOPLE\nKarina Dale\nPROJECTS\nSystems toxicology of Atlantic cod\nSTUDIES\nCaging study - Kollevåg\nSUBMITTER\nKarina Dale\n\n________________________________________________________\n\nSara Tucci(id: 1246 | type: people)\n\nDescription: missing\n\n\nINSTITUTIONS\nUniversity of Freiburg\nPROJECTS\nPoLiMeR -   Polymers in the Liver: Metabolism and Regulation\n\n________________________________________________________\n\nData and model management needs for a knowledge base of salmon physiology. Use Case: The Digital Salmon(id: 305 | type: presentations)\n\nDescription: Talk by Jon Olav Vik, Norwegian University of Life Sciences\n\n\nCREATORS\nJon Olav Vik\nEVENTS\nFirst FAIRDOM User Meeting held  as a satellite meeting of ICSB 2016 in Barcelona \nPEOPLE\nOlga Krebs\nJon Olav Vik\nPROJECTS\nFAIRDOM user meeting\nSUBMITTER\nOlga Krebs\n\n________________________________________________________\n\nThomas Hankemeier(id: 1248 | type: people)\n\nDescription: missing\n\n\nINSTITUTIONS\nUniversity of Leiden\nPROJECTS\nPoLiMeR -   Polymers in the Liver: Metabolism and Regulation\n\n________________________________________________________\n\nMM-PLF: Multiscale modeling for personalized liver function(id: 96 | type: investigations)\n\nDescription: Understanding how liver function arises from the complex interaction of morphology, perfusion, and metabolism from single cells up to the entire organ requires systems-levels computational approaches.\r\n\n\n\nASSAYS\nGalactose Modelling\nCREATORS\nMatthias König\nMODELS\nHepatic galactose model\nPEOPLE\nMatthias König\nPROJECTS\nMulti-Scale Models for Personalized Liver Function Tests (LiSyM-MM-PLF)\nSTUDIES\nA Multiscale Computational Model of Human Galactose Metabolism\nHuman Caffeine Metabolism\nSUBMITTER\nMatthias König\n\n________________________________________________________\n\nAnton Wagenmakers(id: 792 | type: people)\n\nDescription: Anton JM Wagenmakers is Professor of Exercise Metabolism and Academic Lead of the Exercise Metabolism and Adaptation Research Group (EMARG) at Liverpool John Moores University, UK. Anton is a leading researcher in skeletal muscle and integrative human physiology and metabolism with 185 peer reviewed journal publications and a Web of Science h-index of 50. His research is focussing on mechanisms by which impairments in fat metabolism lead to impaired glucose tolerance, insulin resistance, and muscle wasting (sarcopenia) in sedentary, obese, and elderly individuals, and on the design of optimal exercise/nutrition interventions that can be implemented in real life and reverse mechanisms that lead to development of the ageing phenotype and chronic disease. In these intervention studies the underlying molecular and physiological mechanisms are investigaetd as well. Anton is a leading expert in stable isotope methodology measuring glucose, fatty acid and protein kinetics in living human beings. Confocal immunohistochemical microscopy methods have been developed more recently to stain key enzymes playing a role in insulin resistance mechanisms in sections of skeletal muscle and its microvasculature to visualise the spatial distribution and co-localisation with membranes, mitochondria, lipid droplets and the endothelial layer of muscle arterioles and capillaries. This research has generated compelling evidence that insulin resistance occurs both in muscle fibers and their microvasculature. In obesity, metabolic syndrome and ageing insulin mediated dilation of the muscle microvasculature is impaired due to failure of insulin to activate eNOS (ser1177-P) and quenching of NO by superoxide anions (generated by NADPH oxidase). As a result of impaired arteriolar dilation the muscle fibres are starved of nutrients in well-fed bodies and meal derived glucose, lipids and amino acids are deposited in non-muscle tissues such as liver and adipose tissue. Anton was Editor for the Journal of Physiology (2007-14) and Chair of the Scientific Board of the European College of Sport Sciences (2007-15). Anton currently is Editor of the American Journal of Physiology - Endocrinology and Metabolism, and has a Web of Science h-index of 50. \r\n\n\n\nINSTITUTIONS\nLiverpool John Moores University\nPROJECTS\nHUMET Startup\n\n________________________________________________________\n\nCharité University Medicine Berlin(id: 96 | type: institutions)\n\nDescription: missing\n\n\nPEOPLE\nDaniel Seehofer\nGeorg Damm\nMelanie Kiessig\nMatthias König\nMarkus Morkel\nChristine Sers\nPamela Riemer\nCornelia Gieseler\nPROJECTS\nIMOMESIC\nMulti-Scale Models for Personalized Liver Function Tests (LiSyM-MM-PLF)\nKinetics on the move - Workshop 2016\nCausalDB\nColosys\nMESI-STRAT\n\n________________________________________________________\n\nSharing data, models and procedures between Systems Biologists: technical and social engineering(id: 87 | type: presentations)\n\nDescription: Katy Wolstencroft's talk at the \"3rd Eagle Genomics Symposium:Will Big Data and Bigger Cuts Cripple Bioinformatics?\", presented on 21st March 2013.\r\n\r\nhttp://www.eaglegenomics.com/2013/01/eagles-third-symposium-how-the-efficient-bioinformatician-reduces-rd-costs/\n\n\nCREATORS\nKaty Wolstencroft\nPEOPLE\nKaty Wolstencroft\nStuart Owen\nPROJECTS\nSysMO DB\nSUBMITTER\nStuart Owen\n\n________________________________________________________\n\nPAL`s experience - IMOMESIC Project(id: 295 | type: presentations)\n\nDescription: Presented by Martin Böhm, German Cancer Research Center, Heidelberg, Germany\n\n\nCREATORS\nMarkus Stepath\nMartin Böhm\nEVENTS\nFirst FAIRDOM User Meeting held  as a satellite meeting of ICSB 2016 in Barcelona \nPEOPLE\nOlga Krebs\nMarkus Stepath\nMartin Böhm\nPROJECTS\nFAIRDOM\nFAIRDOM user meeting\nSUBMITTER\nOlga Krebs\n\n________________________________________________________\n\nLiver chemistry_Kollevåg(id: 2277 | type: data_files)\n\nDescription: Concentrations of various contaminants in liver from cod caged in Kollevåg and at reference location.\n\n\nASSAYS\nChemical analyses\nPEOPLE\nKarina Dale\nPROJECTS\nSystems toxicology of Atlantic cod\nSTUDIES\nCaging study - Kollevåg\nSUBMITTER\nKarina Dale\n\n________________________________________________________\n\nSEEK Users Meeting Report(id: 951 | type: data_files)\n\nDescription: This report gives an overview of the sessions and outcomes from the recent SEEK Users meeting in Berlin. \r\nPlease see related 'Presentation' entries for related slides and supplementary material.\n\n\nCREATORS\nKaty Wolstencroft\nEVENTS\nSySMO SEEK Users Meeting  2012\nPEOPLE\nKaty Wolstencroft\nPROJECTS\nSysMO DB\nSUBMITTER\nKaty Wolstencroft\n\n________________________________________________________\n\nJan Boren(id: 783 | type: people)\n\nDescription: POSITION:  Professor of Cardiovascular Research at University of Gothenburg, chair of Dept of Molecular and Clinical Medicine, Institute of Medicine, University of Gothenburg, and part-time physician at Clinical Chemistry, Sahlgrenska University Hospital, Gothenburg, Sweden\r\n\r\nRESEARCH:  My main long-term interest has been to understand the underlying mechanisms that lead to, and consequences of, lipid accumulation in the liver, arterial wall and heart, with the goal of translating this knowledge into effective treatment. My research program is translational and involves both in vitro and in vivo studies, including pathophysiological studies and mouse models, and kinetic studies in carefully phenotyped human volunteers.\r\n\r\nPUBLICATIONS:  Please see http://scholar.google.se/citations?user=OeiIGqcAAAAJ&hl=sv (Google Citations jan Boren)\n\n\nINSTITUTIONS\nUniversity of Gothenburg\nPROJECTS\nHUMET Startup\n\n________________________________________________________\n\nTools and standards for computational modeling in biology(id: 94 | type: investigations)\n\nDescription: Tool and work flow development for computational biology.\n\n\nCREATORS\nMatthias König\nPEOPLE\nMatthias König\nPROJECTS\nMulti-Scale Models for Personalized Liver Function Tests (LiSyM-MM-PLF)\nPUBLICATIONS\ncy3sabiork: A Cytoscape app for visualizing kinetic data from SABIO-RK\nToward community standards and software for whole-cell modeling\nSUBMITTER\nMatthias König\n\n________________________________________________________\n\nJohannes Bausch(id: 759 | type: people)\n\nDescription: missing\n\n\nINSTITUTIONS\nUniversity of Freiburg\nPROJECTS\nEarly Metabolic Injury (LiSyM-EMI - Pillar I)\nChronic Liver Disease Progression (LiSyM-DP - Pillar II)\nRegeneration and Repair in Acute-on-Chronic Liver Failure (LiSyM-ACLF - Pillar III)\nLiSyM Core Infrastructure and Management (LiSyM-PD)\nLiver Function Diagnostics (LiSyM-LiFuDi - Pillar IV)\nModel Guided Pharmacotherapy In Chronic Liver Disease (LiSyM-MGP)\nMulti-Scale Models for Personalized Liver Function Tests (LiSyM-MM-PLF)\nThe Hedgehog Signalling Pathway (LiSyM-JGMMS)\nMolecular Steatosis - Imaging & Modeling (LiSyM-MSIM)\n\n________________________________________________________\n\nmRNA decay(id: 942 | type: data_files)\n\nDescription: missing\n\n\nASSAYS\nmRNA decay assay\nModelling the gene expression cascade with length-dependent processes\nCREATORS\nAbeer Fadda\nINVESTIGATIONS\nGene expression in Trypanosoma brucei\nPEOPLE\nAbeer Fadda\nPROJECTS\nSilicoTryp\nPUBLICATIONS\nTranscriptome-wide analysis of trypanosome mRNA decay reveals complex degradation kinetics and suggests a role for co-transcriptional degradation in determining mRNA levels\nSTUDIES\nDetermination and integration of abundance, processing efficiency, and degradation kinetics of the mRNAs encoding all T. brucei redox and pentose\r\nphosphate pathway enzymes\nSUBMITTER\nAbeer Fadda\n\n________________________________________________________\n\nMartin Böhm(id: 700 | type: people)\n\nDescription: missing\n\n\nINSTITUTIONS\nGerman Cancer Research Center (DKFZ)\nPRESENTATIONS\nPAL`s experience - IMOMESIC Project\nPROJECTS\nIMOMESIC\nChronic Liver Disease Progression (LiSyM-DP - Pillar II)\nRegeneration and Repair in Acute-on-Chronic Liver Failure (LiSyM-ACLF - Pillar III)\nFAIRDOM user meeting\nPUBLICATIONS\nDivision of labor by dual feedback regulators controls JAK2/STAT5 signaling over broad ligand range\n\n________________________________________________________\n\nJohn Innes Centre(id: 261 | type: institutions)\n\nDescription: missing\n\n\nPEOPLE\nRobert Field\nPROJECTS\nPoLiMeR -   Polymers in the Liver: Metabolism and Regulation\n\n________________________________________________________\n\nUte Spiekerkötter(id: 1243 | type: people)\n\nDescription: missing\n\n\nINSTITUTIONS\nUniversity of Freiburg\nPROJECTS\nPoLiMeR -   Polymers in the Liver: Metabolism and Regulation\n\n________________________________________________________\n\nAdil Mardinoglu(id: 523 | type: people)\n\nDescription: missing\n\n\nINSTITUTIONS\nChalmers University of Technology\nPROJECTS\nIMOMESIC\nHUMET Startup\nPoLiMeR -   Polymers in the Liver: Metabolism and Regulation\n\n________________________________________________________\n\nMathias Ziegler(id: 1045 | type: people)\n\nDescription: missing\n\n\nINSTITUTIONS\nUniversity of Bergen\nPROJECTS\nMESI-STRAT\nPoLiMeR -   Polymers in the Liver: Metabolism and Regulation\nNAD COMPARTMENTATION\nPUBLICATIONS\nModel of tryptophan metabolism, readily scalable using tissue-specific gene expression data.\n\n________________________________________________________\n\nUniversity of Leiden(id: 40 | type: institutions)\n\nDescription: missing\n\n\nPEOPLE\nPaul Heusden\nKaty Wolstencroft\nWouter Hendriksen\nGilles P. Wezel Van\nClara Posthuma\nDino Van Dissel\nChao Du\nRonan Fleming\nThomas Hankemeier\nTerry G.J. Derks\nPROJECTS\nTRANSLUCENT\nSysMO DB\nFAIRDOM\nSysVirDrug\nSYSTERACT\nFAIRDOM user meeting\nHUMET Startup\nPoLiMeR -   Polymers in the Liver: Metabolism and Regulation\n\n________________________________________________________\n\nTechnical University of Munich(id: 72 | type: institutions)\n\nDescription: missing\n\n\nPEOPLE\nDaniel Hönicke\nMax Luedemann\nPROJECTS\nCOSMIC\nRegeneration and Repair in Acute-on-Chronic Liver Failure (LiSyM-ACLF - Pillar III)\n\n________________________________________________________\n\nAdelaide Raguin(id: 1249 | type: people)\n\nDescription: missing\n\n\nINSTITUTIONS\nUniversity of Duesseldorf\nPROJECTS\nPoLiMeR -   Polymers in the Liver: Metabolism and Regulation\n\n________________________________________________________\n\nJanine Koehncke(id: 907 | type: people)\n\nDescription: missing\n\n\nINSTITUTIONS\nRWTH Aachen University Hospital - Department of Internal Medicine III\nPROJECTS\nChronic Liver Disease Progression (LiSyM-DP - Pillar II)\nFAIRDOM & LiSyM & de.NBI Data Structuring Training\n\n________________________________________________________\n\nJens Timmer(id: 476 | type: people)\n\nDescription: missing\n\n\nINSTITUTIONS\nUniversity of Freiburg\nPROJECTS\nIMOMESIC\nChronic Liver Disease Progression (LiSyM-DP - Pillar II)\nRegeneration and Repair in Acute-on-Chronic Liver Failure (LiSyM-ACLF - Pillar III)\nMS_DILI\nPUBLICATIONS\nDivision of labor by dual feedback regulators controls JAK2/STAT5 signaling over broad ligand range\nCause and cure of sloppiness in ordinary differential equation models\nL1 regularization facilitates detection of cell type-specific parameters in dynamical systems\nDriving the Model to Its Limit: Profile Likelihood Based Model Reduction\n\n________________________________________________________\n\nHepatic galactose model(id: 226 | type: models)\n\nDescription: missing\n\n\nASSAYS\nGalactose Modelling\nCREATORS\nMatthias König\nINVESTIGATIONS\nMM-PLF: Multiscale modeling for personalized liver function\nPEOPLE\nMatthias König\nPROJECTS\nMulti-Scale Models for Personalized Liver Function Tests (LiSyM-MM-PLF)\nSTUDIES\nA Multiscale Computational Model of Human Galactose Metabolism\nSUBMITTER\nMatthias König\n\n________________________________________________________\n\nMatthias König(id: 678 | type: people)\n\nDescription: We are investigating liver metabolism and function with the help of computational models and methods.\r\nRead more about the LiSyM junior group at: www.livermetabolism.com\r\n\r\nJunior Group Leader\r\nDr. Matthias König\r\n\r\nInstitute for Theoretical Biology\r\nHumboldt-University Berlin\r\nInvalidenstraße 43, 10117 Berlin, Germany\r\nphone +49 30 2093-8450\r\nkonigmatt@googlemail.com\r\n\r\nThe liver is the central metabolic organ of our body playing a crucial role in the clearance of drugs, xenobiotics and numerous metabolites from the bloodstream. The quantification of these liver functions is essential to assess the status of the liver, obtain information about the degree of impairment, to evaluate treatment response or to select transplant recipients.\r\n\r\nWithin the Systems Medicine of the Liver (LiSyM) consortium we establish a standardized multiscale model framework of the human liver readily adaptable to various quantitative liver function tests currently used in the clinics. The resulting models will be personalized with individual imaging data from CT and PET in combination with anthropomorphic information like gender, age, body weight and height and used for the evaluation of quantitative liver function tests in a personalized context. \n\n\nASSAYS\nGalactose Modelling\nDATA_FILES\ncy3sabiork-SupplementaryFile-S1\ncy3sabiork-SupplementaryFile-S2\nINSTITUTIONS\nHumboldt-Universität zu Berlin\nCharité University Medicine Berlin\nHumboldt University Berlin\nINVESTIGATIONS\nTools and standards for computational modeling in biology\nMM-PLF: Multiscale modeling for personalized liver function\nMODELS\nHepatic galactose model\nPRESENTATIONS\nManagement of data, models, analyses and code for reproducible computational research: Present and Future\nPAL report – Data management LiSyM Multiscale Models for Liver Function Tests\nPROJECTS\nMulti-Scale Models for Personalized Liver Function Tests (LiSyM-MM-PLF)\nKinetics on the move - Workshop 2016\nFAIRDOM user meeting\nCOMBINE Multicellular Modelling\nFAIRDOM & LiSyM & de.NBI Data Structuring Training\nPUBLICATIONS\ncy3sabiork: A Cytoscape app for visualizing kinetic data from SABIO-RK\nToward community standards and software for whole-cell modeling\nHarmonizing semantic annotations for computational models in biology\nSTUDIES\nA Multiscale Computational Model of Human Galactose Metabolism\nHuman Caffeine Metabolism\n\n________________________________________________________\n\nMax Luedemann(id: 903 | type: people)\n\nDescription: missing\n\n\nINSTITUTIONS\nTechnical University of Munich\nPROJECTS\nRegeneration and Repair in Acute-on-Chronic Liver Failure (LiSyM-ACLF - Pillar III)\n\n________________________________________________________\n\nDorota Kurek(id: 1242 | type: people)\n\nDescription: missing\n\n\nINSTITUTIONS\nMimetas\nPROJECTS\nPoLiMeR -   Polymers in the Liver: Metabolism and Regulation\n\n________________________________________________________\n\nSven Francque(id: 760 | type: people)\n\nDescription: Sven Francque is currently Head of the Department of Gastroenterology and Hepatology of the Antwerp University Hospital and full professor of gastroenterology and hepatology at the University of Antwerpen, with a longtanding interest and expertise in the field of Non-Alcohloic Fatty Liver Disease. In collaboration with the Department of Endocrinology, Diabetes and Metabolic Diseases, a large cohort of well-phenotyped patients has been built up.\n\n\nINSTITUTIONS\nUniversitair ziekenhuis Antwerpen\nPROJECTS\nHUMET Startup\n\n________________________________________________________\n\nAgenda Data Structuring Course(id: 1989 | type: data_files)\n\nDescription: missing\n\n\nCREATORS\nMartin Golebiewski\nEVENTS\nFAIRDOM-LiSyM-de.NBI Data Structuring Course - Nov 22-23 - Hünfeld (D)\nPEOPLE\nMartin Golebiewski\nPROJECTS\nFAIRDOM\nEarly Metabolic Injury (LiSyM-EMI - Pillar I)\nChronic Liver Disease Progression (LiSyM-DP - Pillar II)\nRegeneration and Repair in Acute-on-Chronic Liver Failure (LiSyM-ACLF - Pillar III)\nLiSyM Core Infrastructure and Management (LiSyM-PD)\nLiver Function Diagnostics (LiSyM-LiFuDi - Pillar IV)\nModel Guided Pharmacotherapy In Chronic Liver Disease (LiSyM-MGP)\nMulti-Scale Models for Personalized Liver Function Tests (LiSyM-MM-PLF)\nThe Hedgehog Signalling Pathway (LiSyM-JGMMS)\nMolecular Steatosis - Imaging & Modeling (LiSyM-MSIM)\nSUBMITTER\nMartin Golebiewski\n\n________________________________________________________\n\nErik Schröder(id: 820 | type: people)\n\nDescription: missing\n\n\nINSTITUTIONS\nUniversität Leipzig - Medizinische Fakultät - Institut für Biochemie\nPROJECTS\nThe Hedgehog Signalling Pathway (LiSyM-JGMMS)\n\n________________________________________________________\n\nIMOMESIC(id: 24 | type: projects)\n\nDescription: IMOMESIC - Integrating Modelling of Metabolism and Signalling towards an Application in Liver Cancer\r\n\r\nOne of the most challenging questions in cancer research is currently the interconnection of metabolism and signalling. An understanding of mechanisms that facilitate the physiological shift towards a proliferative metabolism in cancer cells is considered a major upcoming topic in oncology and is a key activity for future drug development. Due to the complexity of interrelations, a systems biology approach would be most suited. However, rarely a systems biology approach is taken that: (i) works at standard conditions, (ii) combines modelling and quantitative data generation on metabolism and signalling, (iii) considers primary healthy and cancerous cells, and (iv) addresses patient heterogeneity. This project covers all these aspects. It is therefore timely, highly innovative and demonstrates the potential of systems biology towards an application in oncology. \r\n\r\nKey questions:\r\nWhich isoforms of glycolytic enzymes and key signalling components are relevant in hepatocytes and hepatoma cells?\r\n\r\nHow does growth factor and inflammatory signalling affect glycolysis in hepatocytes and hepatoma cells?\r\n\r\nCan we design strategies for combinatorial interventions of metabolism and signal transduction to inhibit proliferation of cancer cells but not affecting healthy cells?\r\n\r\n\n\n\nINSTITUTIONS\nVU University Amsterdam\nChalmers University of Technology\nUniversity of Freiburg\nGerman Cancer Research Center (DKFZ)\nCharité University Medicine Berlin\nGriffin Discoveries BV\nUniversitätsklinikum Leipzig\nORGANISMS\nHomo sapiens\nPEOPLE\nBas Teusink\nJens Nielsen\nJurgen  Haanstra\nFrank Bruggerman\nUrsula Klingmüller\nDaniel Seehofer\nJens Timmer\nIwan De Esch\nMarkus Stepath\nAdil Mardinoglu\nAvlant Nilsson\nGeorg Damm\nJoep Vanlier\nMelanie Kiessig\nIrina Titkova\nMartin Böhm\nGerda Schicht\nPROGRAMMES\nERASysAPP\n\n________________________________________________________\n\nUniversity of Luxembourg(id: 89 | type: institutions)\n\nDescription: missing\n\n\nPEOPLE\nJorge Goncalves\nClemens Ostrowicz\nSigmar Lampe\nMalte Herold\nPaul Wilmes\nYuan Qixia\nInes Thiele\nPROJECTS\nSysMetEx\nCropClock\nICYSB 2015 - International Practical Course in Systems Biology\nHUMET Startup\nPoLiMeR -   Polymers in the Liver: Metabolism and Regulation\n\n________________________________________________________\n\nLiverpool John Moores University(id: 182 | type: institutions)\n\nDescription: missing\n\n\nPEOPLE\nAnton Wagenmakers\nPROJECTS\nHUMET Startup\n\n________________________________________________________\n\nUniversity of Freiburg(id: 76 | type: institutions)\n\nDescription: missing\n\n\nPEOPLE\nJens Timmer\nMatthias Meier\nJoep Vanlier\nJohannes Bausch\nGeoffroy Andrieux\nMelanie Börries\nBernhard Steiert\nChristian Tönsing\nUte Spiekerkötter\nSara Tucci\nStefan Lenz\nPROJECTS\nIMOMESIC\nRootBook\nEarly Metabolic Injury (LiSyM-EMI - Pillar I)\nChronic Liver Disease Progression (LiSyM-DP - Pillar II)\nRegeneration and Repair in Acute-on-Chronic Liver Failure (LiSyM-ACLF - Pillar III)\nLiSyM Core Infrastructure and Management (LiSyM-PD)\nLiver Function Diagnostics (LiSyM-LiFuDi - Pillar IV)\nModel Guided Pharmacotherapy In Chronic Liver Disease (LiSyM-MGP)\nMulti-Scale Models for Personalized Liver Function Tests (LiSyM-MM-PLF)\nThe Hedgehog Signalling Pathway (LiSyM-JGMMS)\nMolecular Steatosis - Imaging & Modeling (LiSyM-MSIM)\nSBEpo - Systems Biology of Erythropoietin\nMS_DILI\nPoLiMeR -   Polymers in the Liver: Metabolism and Regulation\nGMDS Project Group \"FAIRe Dateninfrastrukturen für die Biomedizinische Informatik\"\n\n________________________________________________________\n\nAhmed Ghallab(id: 870 | type: people)\n\nDescription: missing\n\n\nINSTITUTIONS\nLeibniz-Institut für Arbeitsforschung (IfADo)\nPROJECTS\nModel Guided Pharmacotherapy In Chronic Liver Disease (LiSyM-MGP)\nMS_DILI\n\n________________________________________________________\n\nMartin Golebiewski(id: 623 | type: people)\n\nDescription: Data management and standardization expert for systems biology and systems medicine, responsible for the data management user requirements and user contacts within the German LiSyM network (Liver Systems Medicine: http://lisym.org/) and associated to the FAIRDOM team.\r\nInvolved in different standardization initiatives and committees, i.e. COMBINE (http://co.mbine.org), ISO/TC 276 Biotechnology (https://www.iso.org/committee/4514241.html), European COST action CHARME (http://www.cost-charme.eu) and others.\n\n\nDATA_FILES\nAgenda Data Structuring Course\nEVENTS\nFirst LiSyM PostDoc and PhD student retreat\nJoint LiSyM & ERASysAPP Data Management PALs Meeting\n1st LiSyM Jamboree & SAB Meeting\nFAIRDOM-LiSyM-de.NBI Data Structuring Course - Nov 22-23 - Hünfeld (D)\n19th International Conference on Systems Biology (ICSB2018)\n7th Conference on Systems Biology of Mammalian Cells (SBMC 2018)\nLiSyM/de.NBI/ERASysAPP Tutorial: How to Share FAIR — The FAIRDOM Data and Model Management Practice\nINSTITUTIONS\nHeidelberg Institute for Theoretical Studies (HITS gGmbH)\nPRESENTATIONS\nFAIRDOM tutorial workshop SBMC2018 Bremen - Introduction\nPROJECTS\nFAIRDOM\nEarly Metabolic Injury (LiSyM-EMI - Pillar I)\nChronic Liver Disease Progression (LiSyM-DP - Pillar II)\nRegeneration and Repair in Acute-on-Chronic Liver Failure (LiSyM-ACLF - Pillar III)\nLiSyM Core Infrastructure and Management (LiSyM-PD)\nLiver Function Diagnostics (LiSyM-LiFuDi - Pillar IV)\nModel Guided Pharmacotherapy In Chronic Liver Disease (LiSyM-MGP)\nMulti-Scale Models for Personalized Liver Function Tests (LiSyM-MM-PLF)\nThe Hedgehog Signalling Pathway (LiSyM-JGMMS)\nMolecular Steatosis - Imaging & Modeling (LiSyM-MSIM)\nKinetics on the move - Workshop 2016\nExample use cases\nFAIRDOM user meeting\nMS_DILI\nCOMBINE Multicellular Modelling\nFAIRDOM & LiSyM & de.NBI Data Structuring Training\nNew LiSyM project\nEnzymeML\nGMDS Project Group \"FAIRe Dateninfrastrukturen für die Biomedizinische Informatik\"\nPUBLICATIONS\nFAIRDOMHub: a repository and collaboration environment for sharing systems biology research\nThe Human Physiome: how standards, software and innovative service infrastructures are providing the building blocks to make it achievable\nSpecifications of Standards in Systems and Synthetic Biology: Status and Developments in 2016.\nSABIO-RK, von Daten in der Publikation zur Suchlösung für Spezialisten\nHarmonizing semantic annotations for computational models in biology\nSpecifications of Standards in Systems and Synthetic Biology: Status and Developments in 2017\n\n________________________________________________________\n\nRobert Field(id: 1245 | type: people)\n\nDescription: missing\n\n\nINSTITUTIONS\nJohn Innes Centre\nPROJECTS\nPoLiMeR -   Polymers in the Liver: Metabolism and Regulation\n\n________________________________________________________\n\nPablo José Giraudi(id: 1064 | type: people)\n\nDescription: I am performing research in biomarkers discovery, particularly regarding liver fibrosis in non-alcoholic fatty liver disease. My research activities involved the use of bioinformatic platforms, the analysis of biological protein-protein interaction networks and the experimental validation of candidates by ELISA.\n\n\nObject has no relationships\n\n________________________________________________________\n\nAnimating the Digital Salmon(id: 500 | type: presentations)\n\nDescription: How do you communicate a complex research endeavour in simple words and pictures using only two minutes? In my case that turned out to be scientifically impossible, but we managed to shave it down to three. This poster shows and tells how we went about it.\n\n\nCREATORS\nJon Olav Vik\nEVENTS\nDigital Life 2018 - DigiSal presentations\nPEOPLE\nJon Olav Vik\nPROJECTS\nDigiSal\nSUBMITTER\nJon Olav Vik\n\n________________________________________________________\n\nUrsula Klingmüller(id: 474 | type: people)\n\nDescription: missing\n\n\nINSTITUTIONS\nGerman Cancer Research Center (DKFZ)\nPROJECTS\nIMOMESIC\nChronic Liver Disease Progression (LiSyM-DP - Pillar II)\nRegeneration and Repair in Acute-on-Chronic Liver Failure (LiSyM-ACLF - Pillar III)\nMS_DILI\nPUBLICATIONS\nDivision of labor by dual feedback regulators controls JAK2/STAT5 signaling over broad ligand range\nExcemplify: a flexible template based solution, parsing and managing data in spreadsheets for experimentalists\n\n________________________________________________________\n\nFAIRDOM-LiSyM-de.NBI Data Structuring Course - Nov 22-23 - Hünfeld (D)(id: 96 | type: events)\n\nDescription: <b>Target audience:</b> Wet-lab scientists and people dealing with experimental and/or clinical data for research\r\n\r\n<b>Topics include:</b>\r\n- Best practice data structuring (spreadsheets) for experimental and (clinical) samples data\r\n- Comprehensive and unambiguous data description and annotation\r\n- Standard formats and terminologies for data and metadata \r\n- Guidelines for reporting data (Minimum information standards) \r\n- Annotation tools (e.g. RightField: http://www.rightfield.org.uk)\r\n- Using SEEK & FAIRDOMhub for integrated data management\r\n\r\n<b>Registration:</b> http://bit.ly/2ArOC7w\r\n(please state if you will attend on both days or only on one day)\r\n\r\nTo demonstrate the practical relevance, attendees are encouraged to bring their own data and ideally share the data (or spreadsheet data templates) with the data management team beforehand.\r\n\r\nParticipation is free of charge. Participants from the LiSyM network will get free accommodation and full board and their travel expenses to get to Hünfeld will be refunded.\r\n\r\n<b>Organization:</b>\r\n<b>LiSyM (http://www.lisym.org) Data Management Team</b>, in conjunction with\r\n<b>FAIRDOM</b> (https://fair-dom.org) / <b>ERASysAPP</b> (European ERA-Net for Systems Biology Applications: https://www.erasysapp.eu) and\r\n<b>de.NBI</b> (German Network for Bioinformatics Infrastructure: https://www.denbi.de)\n\n\nDATA_FILES\nAgenda Data Structuring Course\nPRESENTATIONS\nIntroduction to FAIRDOM Data Management : SEEK and openBIS\nPROJECTS\nFAIRDOM\nZucAt\nEarly Metabolic Injury (LiSyM-EMI - Pillar I)\nChronic Liver Disease Progression (LiSyM-DP - Pillar II)\nRegeneration and Repair in Acute-on-Chronic Liver Failure (LiSyM-ACLF - Pillar III)\nLiSyM Core Infrastructure and Management (LiSyM-PD)\nLiver Function Diagnostics (LiSyM-LiFuDi - Pillar IV)\nModel Guided Pharmacotherapy In Chronic Liver Disease (LiSyM-MGP)\nMulti-Scale Models for Personalized Liver Function Tests (LiSyM-MM-PLF)\nThe Hedgehog Signalling Pathway (LiSyM-JGMMS)\nMolecular Steatosis - Imaging & Modeling (LiSyM-MSIM)\nSUBMITTER\nMartin Golebiewski\n\n________________________________________________________\n\nFAIRDOM tutorial workshop SBMC2018 Bremen - Introduction(id: 604 | type: presentations)\n\nDescription: missing\n\n\nCREATORS\nMartin Golebiewski\nEVENTS\nLiSyM/de.NBI/ERASysAPP Tutorial: How to Share FAIR — The FAIRDOM Data and Model Management Practice\nPEOPLE\nMaja Rey\nMartin Golebiewski\nPROJECTS\nFAIRDOM\nde.NBI-SysBio\nEarly Metabolic Injury (LiSyM-EMI - Pillar I)\nChronic Liver Disease Progression (LiSyM-DP - Pillar II)\nRegeneration and Repair in Acute-on-Chronic Liver Failure (LiSyM-ACLF - Pillar III)\nLiSyM Core Infrastructure and Management (LiSyM-PD)\nLiver Function Diagnostics (LiSyM-LiFuDi - Pillar IV)\nModel Guided Pharmacotherapy In Chronic Liver Disease (LiSyM-MGP)\nMulti-Scale Models for Personalized Liver Function Tests (LiSyM-MM-PLF)\nThe Hedgehog Signalling Pathway (LiSyM-JGMMS)\nMolecular Steatosis - Imaging & Modeling (LiSyM-MSIM)\nMS_DILI\nSUBMITTER\nMaja Rey\n\n________________________________________________________\n\nBarbara Bakker(id: 335 | type: people)\n\nDescription: I am an Associate Professor in Systems Biology and the University Medical Centre Groningen. My research aims at understanding how energy metabolism is integrated and regulated. My work includes experimental, modelling as well as theoretical research. Recently I studied how metabolic regulation and gene-expression regulation work together towards in integrated response, e.g. when parasites are confronted with chemical inhibitors. Much of my work has been about the regulation of glycolysis and its various modes of action (steady-state, oscillations, turbo explosion).\r\nMy current research deals with the integration of different metabolic pathways. Research lines include:\r\n- Switching between lipids and carbohydrates and how this is affected in various metabolic diseases;\r\n- The relation between metabolism and biologial ageing;\r\n- The integration of redox and energy metabolism in African trypanosomes (SysMO project).\n\n\nINSTITUTIONS\nUniversity of Groningen\nMODELS\nModel of Trypanosoma brucei glycolysis as published in Achcar et al. (2012).\nPROJECTS\nSilicoTryp\nMESI-STRAT\nMultiscale modelling of state transitions in the host-microbiome-brain network\nPoLiMeR -   Polymers in the Liver: Metabolism and Regulation\nPUBLICATIONS\nThe silicon trypanosome\nMetabolomic systems biology of trypanosomes\nDynamic Modelling under Uncertainty: The Case of Trypanosoma brucei Energy Metabolism\nDissecting the Catalytic Mechanism of Trypanosoma brucei Trypanothione Synthetase by Kinetic Analysis and Computational Modelling\nThe silicon trypanosome: a test case of iterative model extension in systems biology\nHandling uncertainty in dynamic models: the pentose phosphate pathway in Trypanosoma brucei\nNaphthoquinone derivatives exert their antitrypanosomal activity via a multi-target mechanism\nProliferating bloodstream-form Trypanosoma brucei use a negligible part of consumed glucose for anabolic processes\nTranscriptome-wide analysis of trypanosome mRNA decay reveals complex degradation kinetics and suggests a role for co-transcriptional degradation in determining mRNA levels\nTranslational Targeted Proteomics Profiling of Mitochondrial Energy Metabolic Pathways in Mouse and Human Samples.\n\n________________________________________________________\n\nLeibniz-Institut für Arbeitsforschung (IfADo)(id: 198 | type: institutions)\n\nDescription: missing\n\n\nPEOPLE\nAhmed Ghallab\nPROJECTS\nModel Guided Pharmacotherapy In Chronic Liver Disease (LiSyM-MGP)\nMS_DILI\n\n________________________________________________________\n\nWolfgang Müller(id: 205 | type: people)\n\nDescription: I am group leader of the SDBV (Scientific Databases and Visualisation) group at the HITS gGmbH, the Heidelberg Institute for Theoretical Studies.\r\n\r\nI am interested in finding data. Starting with my master's thesis I have always worked on how to store data in a way that you can find it, and how to make sense out of data that has been stored.\r\n\r\nWithin FAIRDOM I find interesting to help people to store their data in a way that they make sense even after years.\r\n\n\n\nDATA_FILES\nList of Participants\nReport of the Data Management Foundry Workshop,  19th-20th of March, 2012, Vienna, Austria\nINSTITUTIONS\nHeidelberg Institute for Theoretical Studies (HITS gGmbH)\nINVESTIGATIONS\nData Management and Data Standardization\nPRESENTATIONS\nSEEK and Find:  Data Management for Systems Biology Projects\nSysMO-DB2 - Review and Update\nSemantic Data and Models Sharing in Systems Biology: The Just Enough Results Model and the SEEK Platform.\n FAIRDOM approach for semantic interoperability of systems biology data and models\nData and Model Management for ERASysAPP projects and Beyond\nFAIRDOM: Improving data, model, and SOP management from creation to publication\nFAIRDOM Data and Model Management for ERASysAPP. Part I\r\n\nReproducible and citable data and models: an introduction.\nMaking your data good enough for sharing.\nMaking the most of of the FAIRDOM: demo part\nIntroduction to FAIRDOMHub\nIntroduction into data management using FAIRDOMHub/SEEK\nFAIRDOM tutorial workshop SBMC2018 Bremen - SEEK_api-slides\nFAIRDOM tutorial workshop SBMC2018 Bremen - SEEK-access_Jupyter_notebook\nPROJECTS\nSysMO DB\nFAIRDOM\nICYSB 2015 - International Practical Course in Systems Biology\nde.NBI-SysBio\nEarly Metabolic Injury (LiSyM-EMI - Pillar I)\nChronic Liver Disease Progression (LiSyM-DP - Pillar II)\nRegeneration and Repair in Acute-on-Chronic Liver Failure (LiSyM-ACLF - Pillar III)\nLiSyM Core Infrastructure and Management (LiSyM-PD)\nLiver Function Diagnostics (LiSyM-LiFuDi - Pillar IV)\nModel Guided Pharmacotherapy In Chronic Liver Disease (LiSyM-MGP)\nMulti-Scale Models for Personalized Liver Function Tests (LiSyM-MM-PLF)\nThe Hedgehog Signalling Pathway (LiSyM-JGMMS)\nMolecular Steatosis - Imaging & Modeling (LiSyM-MSIM)\nKinetics on the move - Workshop 2016\nExample use cases\nSBEpo - Systems Biology of Erythropoietin\nMS_DILI\nFAIRDOM & LiSyM & de.NBI Data Structuring Training\nMESI-STRAT\nINCOME\nEnzymeML\nPoLiMeR -   Polymers in the Liver: Metabolism and Regulation\nGMDS Project Group \"FAIRe Dateninfrastrukturen für die Biomedizinische Informatik\"\nPUBLICATIONS\nThe SEEK: a platform for sharing data and models in systems biology\nRightField: embedding ontology annotation in spreadsheets\nSABIO-RK--database for biochemical reaction kinetics\nStealthy annotation of experimental biology by spreadsheets\nSemantic Data and Models Sharing in Systems Biology: The Just Enough Results Model and the SEEK Platform\nExcemplify: a flexible template based solution, parsing and managing data in spreadsheets for experimentalists\nFAIRDOMHub: a repository and collaboration environment for sharing systems biology research\nThe Human Physiome: how standards, software and innovative service infrastructures are providing the building blocks to make it achievable\nSABIO-RK, von Daten in der Publikation zur Suchlösung für Spezialisten\nRightField: Scientific Knowledge Acquisition by Stealth through Ontology-Enabled Spreadsheets\nSABIO-RK: an updated resource for manually curated biochemical reaction kinetics.\n\n________________________________________________________\n\nSysMO-DB - Progress update and future activities(id: 38 | type: presentations)\n\nDescription: Carole Goble's presentation at the SysMO Evaluation conference in Tenerife - May 2012.\n\n\nCREATORS\nCarole Goble\nPEOPLE\nCarole Goble\nStuart Owen\nPROJECTS\nSysMO DB\nSUBMITTER\nStuart Owen\n\n________________________________________________________\n\nIf we build it will they come?(id: 42 | type: presentations)\n\nDescription: Keynote presentation by Professor Carole Goble at BOSC (Bioinformatics Open Source Conference) Long Beach, California, USA, July 14 2012. Co-located with ISMB, Intelligent Systems in Molecular Biology\r\n\r\nAlso available on slideshare at http://www.slideshare.net/mygrid/if-we-build-it-will-they-come-13652794\n\n\nCREATORS\nCarole Goble\nPEOPLE\nCarole Goble\nStuart Owen\nPROJECTS\nSysMO DB\nSUBMITTER\nStuart Owen\n\n________________________________________________________\n\nHumboldt-Universität zu Berlin(id: 13 | type: institutions)\n\nDescription: missing\n\n\nPEOPLE\nEdda Klipp\nSimon Borger\nSusanne Gerber\nFalko Krause\nMamadou Bah\nSeverin Ehret\nMarcus Krantz\nMatthias König\nJudith Wodke\nClemens Kühn\nPROJECTS\nTRANSLUCENT\nICYSB 2015 - International Practical Course in Systems Biology\nMulti-Scale Models for Personalized Liver Function Tests (LiSyM-MM-PLF)\nCOMBINE Multicellular Modelling\n\n________________________________________________________\n\nJoint LiSyM & ERASysAPP Data Management PALs Meeting(id: 69 | type: events)\n\nDescription: This event is a jointly organized Data Management PALs Meeting that involves PALs from the German LiSyM (Liver Systems Medicine) network and from the ERASysAPP (ERA-Net for Systems Biology Applications) initiative. PALs (Project Area Liaisons) are the front line experts of the data management teams of these projects. They act as data management advocates and help gathering user requirements and testing potential data management solutions. An important part of the meeting will be to gather the user requirements from the LiSyM network and plan potential solutions. It is also the chance to get in direct contact with the data management experts and FAIRDOM/SEEK developers to discuss any data management issues.\r\nAfter the PALs meeting, there will be a tutorial data management session, including hands-on training for LiSyM SEEK and FAIRDOMhub, offered on the afternoon of May 3rd.\r\nParticipation is open to every LiSyM and EraSysApp project member who is interested to join and may want to act as PAL. Experienced ERASysAPP PALs will introduce LiSyM PALs to their tasks and responsibilities. Board and lodging for all attendees will be covered. If you are interested to attend please get in contact with Martin Golebiewski (martin.golebiewski@h-its.org) and Olga Krebs (olga.krebs@h-its.org) from HITS.\n\n\nPRESENTATIONS\nPAL report – Data management LiSyM Multiscale Models for Liver Function Tests\nPROJECTS\nFAIRDOM\nEarly Metabolic Injury (LiSyM-EMI - Pillar I)\nChronic Liver Disease Progression (LiSyM-DP - Pillar II)\nRegeneration and Repair in Acute-on-Chronic Liver Failure (LiSyM-ACLF - Pillar III)\nLiSyM Core Infrastructure and Management (LiSyM-PD)\nLiver Function Diagnostics (LiSyM-LiFuDi - Pillar IV)\nModel Guided Pharmacotherapy In Chronic Liver Disease (LiSyM-MGP)\nMulti-Scale Models for Personalized Liver Function Tests (LiSyM-MM-PLF)\nThe Hedgehog Signalling Pathway (LiSyM-JGMMS)\nMolecular Steatosis - Imaging & Modeling (LiSyM-MSIM)\nSUBMITTER\nMartin Golebiewski\n\n________________________________________________________\n\nStephan Goetz(id: 1247 | type: people)\n\nDescription: missing\n\n\nINSTITUTIONS\nIceni Diagnostics Ltd\nPROJECTS\nPoLiMeR -   Polymers in the Liver: Metabolism and Regulation\n\n________________________________________________________\n\nMadlen Matz-Soja(id: 816 | type: people)\n\nDescription: missing\n\n\nINSTITUTIONS\nUniversität Leipzig - Medizinische Fakultät - Institut für Biochemie\nPROJECTS\nThe Hedgehog Signalling Pathway (LiSyM-JGMMS)\nPUBLICATIONS\nHedgehog signaling is a potent regulator of liver lipid metabolism and reveals a GLI-code associated with steatosis\n\n________________________________________________________\n\nUniversity of Bergen(id: 23 | type: institutions)\n\nDescription: missing\n\n\nPEOPLE\nNils-Kåre Birkeland\nAnita Elin-Fedoy\nInge Jonassen\nFatemeh Zamanzad Ghavidel\nFekadu Yadetie\nKarina Dale\nNello Blaser\nAnders Goksøyr\nXiaokang Zhang\nMorten Brun\nDorothy Dankel\nShirin Fallahi\nMathias Ziegler\nMarta Eide\nKidane Tekle\nSofie Söderström\nLibe Aranguren Abadía\nSiri Øfsthus Goksøyr\nOdd André Karlsen\nEileen Marie Hanna\nPROJECTS\nSulfoSys\nGenoSysFat\nDigiSal\nFAIRDOM user meeting\nSystems toxicology of Atlantic cod\nMESI-STRAT\nPoLiMeR -   Polymers in the Liver: Metabolism and Regulation\nNAD COMPARTMENTATION\n\n________________________________________________________\n\nPatrick Schrauwen(id: 762 | type: people)\n\nDescription: missing\n\n\nINSTITUTIONS\nUniversity Maastricht\nPROJECTS\nHUMET Startup\n\n________________________________________________________\n\nChalmers University of Technology(id: 63 | type: institutions)\n\nDescription: missing\n\n\nPEOPLE\nJens Nielsen\nEduard Kerkhoven\nAndré Kelkkanen Innovationskontor\nAdil Mardinoglu\nAvlant Nilsson\nSimonas Marcisauskas\nBoyang Ji\nHao Wang\nPROJECTS\nSCaRAB\nSysMilk\nIMOMESIC\nSYSTERACT\nHUMET Startup\nPoLiMeR -   Polymers in the Liver: Metabolism and Regulation\n\n________________________________________________________\n\nGalactose Modelling(id: 405 | type: assays)\n\nDescription: missing\n\n\nCREATORS\nMatthias König\nINVESTIGATION\nMM-PLF: Multiscale modeling for personalized liver function\nMODELS\nHepatic galactose model\nPEOPLE\nMatthias König\nPROJECTS\nMulti-Scale Models for Personalized Liver Function Tests (LiSyM-MM-PLF)\nSTUDY\nA Multiscale Computational Model of Human Galactose Metabolism\nSUBMITTER\nMatthias König\n\n________________________________________________________\n\nIntroduction to FAIRDOMHub(id: 320 | type: presentations)\n\nDescription: Talk given by Olga Krebs at EmPowerPutida project meeting in Bruxeles  23rd November 2016\n\n\nCREATORS\nOlga Krebs\nCarole Goble\nRostyslav Kuzyakiv\nWolfgang Müller\nQuyen Nguyen\nStuart Owen\nBernd  Rinn\nJacky Snoep\nNatalie Stanford\nPEOPLE\nJacky Snoep\nCarole Goble\nStuart Owen\nOlga Krebs\nWolfgang Müller\nQuyen Nguyen\nNatalie Stanford\nRostyslav Kuzyakiv\nBernd  Rinn\nPROJECTS\nFAIRDOM\nSUBMITTER\nOlga Krebs\n\n________________________________________________________\n\nliterature values for allosteric regulation of pyruvate kinase(id: 915 | type: data_files)\n\nDescription: missing\n\n\nCREATORS\nStefan Henrich\nPEOPLE\nStefan Henrich\nPROJECTS\nSysMO-LAB\nSUBMITTER\nStefan Henrich\n\n________________________________________________________\n\nHuman Caffeine Metabolism(id: 255 | type: studies)\n\nDescription: Computational modeling of human caffeine clearance by the liver.\r\n\r\nMore information available from\r\nhttps://github.com/matthiaskoenig/caffeine\n\n\nCREATORS\nMatthias König\nINVESTIGATION\nMM-PLF: Multiscale modeling for personalized liver function\nPEOPLE\nMatthias König\nPROJECTS\nMulti-Scale Models for Personalized Liver Function Tests (LiSyM-MM-PLF)\nSUBMITTER\nMatthias König\n\n________________________________________________________\n\nA Multiscale Computational Model of Human Galactose Metabolism(id: 170 | type: studies)\n\nDescription: Personalized liver function tests: A Multiscale Computational Model Predicts Individual Human Liver Function From Single-Cell Metabolism\r\n\r\nUnderstanding how liver function arises from the complex interaction of morphology, perfusion, and metabolism from single cells up to the entire organ requires systems-levels computational approaches. We report a multiscale mathematical model of the Human liver comprising the scales from single hepatocytes, over representation of ultra-structure and micro-circulation in the hepatic tissue, up to the entire organ integrated with perfusion. The model was validated against data on multiple spatial and temporal scales. Herein we describe the model construction and application to hepatic galactose metabolism demonstrating its utility via i) the personalization of liver function tests based on galactose elimination capacity (GEC), ii) the explanation of changes in liver function with aging, and iii) the prediction of population variability in liver function based on variability in liver volume and perfusion. We conclude that physiology- and morphology-based multiscale models can improve the evaluation of individual liver function. \r\n\r\nAvailability: Personalized prediction of liver function (GEC) was implemented in a proof-of-principle app available at https://www.livermetabolism.com/gec_app/. Source code and additional information at https://github.com/matthiaskoenig/multiscale-galactose\n\n\nASSAYS\nGalactose Modelling\nCREATORS\nMatthias König\nINVESTIGATION\nMM-PLF: Multiscale modeling for personalized liver function\nMODELS\nHepatic galactose model\nPEOPLE\nMatthias König\nPROJECTS\nMulti-Scale Models for Personalized Liver Function Tests (LiSyM-MM-PLF)\nSUBMITTER\nMatthias König\n\n________________________________________________________\n\nLiver Function Diagnostics (LiSyM-LiFuDi - Pillar IV)(id: 44 | type: projects)\n\nDescription: missing\n\n\nDATA_FILES\nAgenda Data Structuring Course\nEVENTS\nFirst LiSyM PostDoc and PhD student retreat\nJoint LiSyM & ERASysAPP Data Management PALs Meeting\n1st LiSyM Jamboree & SAB Meeting\nFAIRDOM-LiSyM-de.NBI Data Structuring Course - Nov 22-23 - Hünfeld (D)\n7th Conference on Systems Biology of Mammalian Cells (SBMC 2018)\nLiSyM/de.NBI/ERASysAPP Tutorial: How to Share FAIR — The FAIRDOM Data and Model Management Practice\nINSTITUTIONS\nHeidelberg Institute for Theoretical Studies (HITS gGmbH)\nUniversity of Freiburg\nORGANISMS\nHomo sapiens\nMus musculus\nRattus norvegicus\nPEOPLE\nWolfgang Müller\nMartin Golebiewski\nJohannes Bausch\nPRESENTATIONS\nFAIRDOM tutorial workshop SBMC2018 Bremen - Introduction\nPROGRAMMES\nLiSyM - Systems Medicine of the Liver\n\n________________________________________________________\n\nHedgehog signaling is a potent regulator of liver lipid metabolism and reveals a GLI-code associated with steatosis(id: 288 | type: publications)\n\nDescription: missing\n\n\nPEOPLE\nMadlen Matz-Soja\nChristiane Rennert\nPROJECTS\nThe Hedgehog Signalling Pathway (LiSyM-JGMMS)\n\n________________________________________________________\n\nTranscriptomics Template Guidelines(id: 75 | type: sops)\n\nDescription: An overview of creating MAGE-TAB compliant spreadsheets for transcriptomics data in SysMO SEEK\n\n\nASSAYS\nGeneral Transcriptomics Templates\nAffy Transcriptomics Templates\nRT-PCR Excel Template\nChip-chip Excel Template\nCREATORS\nKaty Wolstencroft\nINVESTIGATIONS\nCreating data sheet template for 'omics data\nPEOPLE\nKaty Wolstencroft\nPROJECTS\nSysMO DB\nSTUDIES\nCreating Templates for Transcriptomics\nSUBMITTER\nKaty Wolstencroft\n\n________________________________________________________\n\nDisentangling the Complexity of HGF Signaling by Combining Qualitative and Quantitative Modeling(id: 272 | type: publications)\n\nDescription: missing\n\n\nINVESTIGATIONS\nWP1: Integration of Epo-induced Signal Transduction\nPEOPLE\nMaja Rey\nMarcel Schilling\nPROJECTS\nSBEpo - Systems Biology of Erythropoietin\n\n________________________________________________________\n\nModel of tryptophan metabolism, readily scalable using tissue-specific gene expression data.(id: 363 | type: publications)\n\nDescription: missing\n\n\nPEOPLE\nOlga Krebs\nMathias Ziegler\nInes Heiland\nPROJECTS\nMESI-STRAT\n\n________________________________________________________\n\nToward community standards and software for whole-cell modeling(id: 267 | type: publications)\n\nDescription: missing\n\n\nINVESTIGATIONS\nTools and standards for computational modeling in biology\nPEOPLE\nMatthias König\nPROJECTS\nMulti-Scale Models for Personalized Liver Function Tests (LiSyM-MM-PLF)\n\n________________________________________________________\n\nReport of the Data Management Foundry Workshop,  19th-20th of March, 2012, Vienna, Austria(id: 1320 | type: data_files)\n\nDescription: Report of the Data Management Foundry Workshop, \r\n19th-20th of March, 2012, Vienna, Austria\r\n\n\n\nCREATORS\nNatalie Stanford\nKaty Wolstencroft\nOlga Krebs\nStuart Owen\nCarole Goble\nWolfgang Müller\nPEOPLE\nKaty Wolstencroft\nCarole Goble\nStuart Owen\nOlga Krebs\nWolfgang Müller\nNatalie Stanford\nPROJECTS\nFAIRDOM\nSUBMITTER\nNatalie Stanford\n\n________________________________________________________\n\nGlobal transcriptome analysis of Atlantic cod (Gadus morhua) liver after in vivo methylmercury exposure suggests effects on energy metabolism pathways(id: 310 | type: publications)\n\nDescription: missing\n\n\nPEOPLE\nFekadu Yadetie\nPROJECTS\nSystems toxicology of Atlantic cod\n\n________________________________________________________\n\nTranslational Targeted Proteomics Profiling of Mitochondrial Energy Metabolic Pathways in Mouse and Human Samples.(id: 391 | type: publications)\n\nDescription: missing\n\n\nPEOPLE\nOlga Krebs\nBarbara Bakker\nPROJECTS\nPoLiMeR -   Polymers in the Liver: Metabolism and Regulation\n\n________________________________________________________\n\nDigitoxin metabolism by rat liver microsomes.(id: 338 | type: publications)\n\nDescription: missing\n\n\nPEOPLE\nOlga Krebs\nPROJECTS\nExample use cases\n\n________________________________________________________\n\nRegeneration and Repair in Acute-on-Chronic Liver Failure (LiSyM-ACLF - Pillar III)(id: 42 | type: projects)\n\nDescription: missing\n\n\nDATA_FILES\nAgenda Data Structuring Course\nEVENTS\nFirst LiSyM PostDoc and PhD student retreat\nJoint LiSyM & ERASysAPP Data Management PALs Meeting\n1st LiSyM Jamboree & SAB Meeting\nFAIRDOM-LiSyM-de.NBI Data Structuring Course - Nov 22-23 - Hünfeld (D)\n7th Conference on Systems Biology of Mammalian Cells (SBMC 2018)\nLiSyM/de.NBI/ERASysAPP Tutorial: How to Share FAIR — The FAIRDOM Data and Model Management Practice\nINSTITUTIONS\nHeidelberg Institute for Theoretical Studies (HITS gGmbH)\nTechnical University of Munich\nUniversity of Freiburg\nGerman Cancer Research Center (DKFZ)\nORGANISMS\nHomo sapiens\nMus musculus\nRattus norvegicus\nPEOPLE\nWolfgang Müller\nUrsula Klingmüller\nJens Timmer\nMartin Golebiewski\nMartin Böhm\nJohannes Bausch\nMax Luedemann\nPRESENTATIONS\nFAIRDOM tutorial workshop SBMC2018 Bremen - Introduction\nPROGRAMMES\nLiSyM - Systems Medicine of the Liver\n\n________________________________________________________\n\nQuantitative analyses of the hepatic proteome of methylmercury-exposed Atlantic cod (Gadus morhua) suggest oxidative stress-mediated effects on cellular energy metabolism(id: 311 | type: publications)\n\nDescription: missing\n\n\nPEOPLE\nFekadu Yadetie\nPROJECTS\nSystems toxicology of Atlantic cod\n\n________________________________________________________\n\nRev1 contributes to proper mitochondrial function via the PARP-NAD+-SIRT1-PGC1α axis(id: 394 | type: publications)\n\nDescription: missing\n\n\nPEOPLE\nTim Rasmussen\nDaryl Shanley\nPROJECTS\nDynamic interplay between nuclei and mitochondria in ageing cells\n\n________________________________________________________\n\nA systems study reveals concurrent activation of AMPK and mTOR by amino acids.(id: 390 | type: publications)\n\nDescription: missing\n\n\nPEOPLE\nOlga Krebs\nKathrin Thedieck\nDaryl Shanley\nPatricia Razquin Navas\nPROJECTS\nPoLiMeR -   Polymers in the Liver: Metabolism and Regulation\n\n________________________________________________________\n\nIdentification of HNRNPK as regulator of hepatitis C virus particle production(id: 239 | type: publications)\n\nDescription: missing\n\n\nPEOPLE\nLars Kaderali\nMarco Binder\nRalf Bartenschlager\nPROJECTS\nSysVirDrug\n\n________________________________________________________\n\nGenoSysFat(id: 34 | type: projects)\n\nDescription: Salmon farmed on modern feeds contains less of the healthy, long-chain fatty acids (EPA and DHA) than before. Up until the turn of the millennium, farmed salmon were fed fish oil as a replacement for their omega-3 rich natural prey. However, fish oil is now a scarce resource, and more than half of the fat in modern feeds comes from plant oils that are inexpensive, but devoid of long-chain omega-3 fatty acids. How can we increase the omega-3 content of salmon on sustainable feeds?\r\n\r\nOne option is to breed salmon that are well adapted to the feeds of the future. There is heritable variation in salmon’s ability to build EPA and DHA from shorter omega-3 fatty acids. The DNA sequence of salmon is now well known, allowing rapid characterization of heritable differences in nutrient utilization. A salmon family that appears promising on one feed, may not be the best on another. Therefore, we need to understand the salmon’s body as a system: a functional whole made up of parts that mutually affect, but also depend on, each other. A systems understanding of the interplay between feed and genetic factors will allow a tailoring of fish to feed and vice versa, which is robust to fluctuations in feedstuff availability and pricing.\r\n\r\nAs a first step towards such a systems understanding, the GenoSysFat project involves two biological experiments. 1) A traditional feeding experiment using high- vs low-omega-3 diets and salmon families that differ in feed utilization. 2) A novel study with pieces of liver kept alive and “fed” in laboratory dishes, studying for each fish how different feeds affect metabolism and gene activity. This allows faster and more detailed exploration of the interplay between genetics and feeds. Results will be interpreted with the help of mathematical models for the biochemical reaction networks, which are well established for other species and will be adapted to salmon based on the newly sequenced salmon genome.\n\n\nDATA_FILES\nSalmon genome\nCombined taxonomy table from freshwater and saltwater samples\nINSTITUTIONS\nNorwegian University of Science and Technology\nUniversity of Bergen\nUniversity of Rostock\nWageningen University & Research\nNorwegian University of Life Sciences\nSchool of Computer Science, University of Manchester\nCargill\nORGANISMS\nDanio rerio\nSalmo salar\nOncorhynchus mykiss\nPEOPLE\nVitor Martins Dos Santos\nMaksim Zakhartsev\nStuart Owen\nNatalie Stanford\nJon Olav Vik\nArne Gjuvsland\nDagmar Waltemath\nSandve Simen\nGareth Gillard\nJacob Seilø Torgersen\nHanne Hellerud Hansen\nKristil  Sundsaasen\nFabian Grammes\nThomas Harvey\nGraceline Tina Kirubakaran\nLars Snipen\nDominic Nanton\nJesse Van Dam\nTorgeir R. Hvidsten\nInga Leena Angell\nMagny Sidsel Thomassen\nTeshome Mulugeta\nTorfinn Nome\nFatemeh Zamanzad Ghavidel\nPer Bruheim\nMarit H Stafsnes\nJasper Koehorst\nZdenka Bartosova\nLiv Torunn Mydland\nFilip Rotnes\nYang Jin\nRenate Kvingedal\nLine Lieblein Røsæg\nSahar Hassani\nMarius André Strand\nPROGRAMMES\nThe Digital Salmon\nPUBLICATIONS\nReconstruction of Danio rerio metabolic model accounting for subcellular compartmentalisation\nQIIME allows analysis of high-throughput community sequencing data\nMinimum information about a microarray experiment (MIAME)-toward standards for microarray data\nSearch and clustering orders of magnitude faster than BLAST\nUPARSE: highly accurate OTU sequences from microbial amplicon reads\nStable Core Gut Microbiota across the Freshwater-to-Saltwater Transition for Farmed Atlantic Salmon\nLife-stage associated remodeling of lipid metabolism regulation in Atlantic salmon.\nAtlantic salmon raised with diets low in long-chain polyunsaturated n-3 fatty acids in freshwater have a Mycoplasma-dominated gut microbiota at sea\nSOPS\nISA structure for the Digital Salmon\n\n________________________________________________________\n\nModel Guided Pharmacotherapy In Chronic Liver Disease (LiSyM-MGP)(id: 45 | type: projects)\n\nDescription: missing\n\n\nDATA_FILES\nAgenda Data Structuring Course\nEVENTS\nFirst LiSyM PostDoc and PhD student retreat\nJoint LiSyM & ERASysAPP Data Management PALs Meeting\n1st LiSyM Jamboree & SAB Meeting\nFAIRDOM-LiSyM-de.NBI Data Structuring Course - Nov 22-23 - Hünfeld (D)\n7th Conference on Systems Biology of Mammalian Cells (SBMC 2018)\nLiSyM/de.NBI/ERASysAPP Tutorial: How to Share FAIR — The FAIRDOM Data and Model Management Practice\nINSTITUTIONS\nHeidelberg Institute for Theoretical Studies (HITS gGmbH)\nUniversity of Freiburg\nLeibniz-Institut für Arbeitsforschung (IfADo)\nORGANISMS\nHomo sapiens\nMus musculus\nRattus norvegicus\nPEOPLE\nWolfgang Müller\nMartin Golebiewski\nJohannes Bausch\nAhmed Ghallab\nPRESENTATIONS\nFAIRDOM tutorial workshop SBMC2018 Bremen - Introduction\nPROGRAMMES\nLiSyM - Systems Medicine of the Liver\n\n________________________________________________________\n\nHepatocytes contribute to residual glucose production in a mouse model for glycogen storage disease type Ia.(id: 389 | type: publications)\n\nDescription: missing\n\n\nPEOPLE\nOlga Krebs\nBert Groen\nPROJECTS\nPoLiMeR -   Polymers in the Liver: Metabolism and Regulation\n\n________________________________________________________\n\nRecruitment and activation of a lipid kinase by hepatitis C virus NS5A is essential for integrity of the membranous replication compartment(id: 242 | type: publications)\n\nDescription: missing\n\n\nPEOPLE\nLars Kaderali\nMarco Binder\nRalf Bartenschlager\nPROJECTS\nSysVirDrug\n\n________________________________________________________\n\nGerman Cancer Research Center (DKFZ)(id: 79 | type: institutions)\n\nDescription: missing\n\n\nPEOPLE\nMarco Binder\nUrsula Klingmüller\nMarkus Stepath\nSajib Chakraborty\nIrina Titkova\nAhmed Sadik\nChristopher Dächert\nMartin Böhm\nLorenz Adlung\nHauke Busch\nMelania Barile\nClarissa Feuerstein\nMarcel Schilling\nPatricia Sauer\nMarie-Christine Wagner\nChristiane Opitz\nDyah Dewi\nMirja Tamara Prentzell\nArtyom Vlasov\nPROJECTS\nSysVirDrug\nIMOMESIC\nChronic Liver Disease Progression (LiSyM-DP - Pillar II)\nRegeneration and Repair in Acute-on-Chronic Liver Failure (LiSyM-ACLF - Pillar III)\nFAIRDOM user meeting\nSBEpo - Systems Biology of Erythropoietin\nMS_DILI\nMESI-STRAT\n\n________________________________________________________\n\nMulti-Scale Models for Personalized Liver Function Tests (LiSyM-MM-PLF)(id: 46 | type: projects)\n\nDescription: We will contribute to the LiSyM Research Network an open source, freely available and reproducible multiscale model of the human liver from single cell metabolism to whole liver function. The model will be available in existing standards of systems biology, provide standardized interfaces for data integration and be fully annotated to available biological, medical and computational ontologies. All data, models and source code will be shared within the LiSyM Research Network and made available to the research community. We will fully support the de facto standard for computational models, the systems biology markup language (SBML).\n\n\nASSAYS\nGalactose Modelling\nDATA_FILES\ncy3sabiork-SupplementaryFile-S2\nAgenda Data Structuring Course\nEVENTS\nFirst LiSyM PostDoc and PhD student retreat\nJoint LiSyM & ERASysAPP Data Management PALs Meeting\n1st LiSyM Jamboree & SAB Meeting\nFAIRDOM-LiSyM-de.NBI Data Structuring Course - Nov 22-23 - Hünfeld (D)\n7th Conference on Systems Biology of Mammalian Cells (SBMC 2018)\nLiSyM/de.NBI/ERASysAPP Tutorial: How to Share FAIR — The FAIRDOM Data and Model Management Practice\nINSTITUTIONS\nHeidelberg Institute for Theoretical Studies (HITS gGmbH)\nHumboldt-Universität zu Berlin\nUniversity of Freiburg\nCharité University Medicine Berlin\nINVESTIGATIONS\nTools and standards for computational modeling in biology\nMM-PLF: Multiscale modeling for personalized liver function\nMODELS\nHepatic galactose model\nORGANISMS\nHomo sapiens\nMus musculus\nRattus norvegicus\nPEOPLE\nWolfgang Müller\nMartin Golebiewski\nMatthias König\nJohannes Bausch\nPRESENTATIONS\nPAL report – Data management LiSyM Multiscale Models for Liver Function Tests\nFAIRDOM tutorial workshop SBMC2018 Bremen - Introduction\nPROGRAMMES\nLiSyM - Systems Medicine of the Liver\nPUBLICATIONS\ncy3sabiork: A Cytoscape app for visualizing kinetic data from SABIO-RK\nToward community standards and software for whole-cell modeling\nSTUDIES\nA Multiscale Computational Model of Human Galactose Metabolism\nHuman Caffeine Metabolism\n\n________________________________________________________\n\nChronic Liver Disease Progression (LiSyM-DP - Pillar II)(id: 41 | type: projects)\n\nDescription: missing\n\n\nDATA_FILES\nAgenda Data Structuring Course\nEVENTS\nFirst LiSyM PostDoc and PhD student retreat\nJoint LiSyM & ERASysAPP Data Management PALs Meeting\n1st LiSyM Jamboree & SAB Meeting\nFAIRDOM-LiSyM-de.NBI Data Structuring Course - Nov 22-23 - Hünfeld (D)\n7th Conference on Systems Biology of Mammalian Cells (SBMC 2018)\nLiSyM/de.NBI/ERASysAPP Tutorial: How to Share FAIR — The FAIRDOM Data and Model Management Practice\nINSTITUTIONS\nHeidelberg Institute for Theoretical Studies (HITS gGmbH)\nUniversity of Freiburg\nGerman Cancer Research Center (DKFZ)\nRWTH Aachen University Hospital - Department of Internal Medicine III\nORGANISMS\nHomo sapiens\nMus musculus\nRattus norvegicus\nPEOPLE\nWolfgang Müller\nUrsula Klingmüller\nJens Timmer\nMartin Golebiewski\nMartin Böhm\nJohannes Bausch\nJanine Koehncke\nPRESENTATIONS\nFAIRDOM tutorial workshop SBMC2018 Bremen - Introduction\nPROGRAMMES\nLiSyM - Systems Medicine of the Liver\n\n________________________________________________________\n\nA mathematical modelling approach to assessing the reliability of biomarkers of glutathione metabolism(id: 194 | type: publications)\n\nDescription: missing\n\n\nPEOPLE\nJacky Snoep\nHans Westerhoff\nKaty Wolstencroft\nFranco Du Preez\nPROJECTS\nSysMO DB\n\n________________________________________________________\n\nHeidelberg Institute for Theoretical Studies (HITS gGmbH)(id: 7 | type: institutions)\n\nDescription: missing\n\n\nPEOPLE\nRebecca Wade\nRenate Kania\nIsabel Rojas\nOlga Krebs\nWolfgang Müller\nVlad Cojocaru\nStefan Henrich\nAnna Feldman-Salit\nMaja Rey\nQuyen Nguyen\nRon Henkel\nUlrike Wittig\nMartin Golebiewski\nAndreas Weidemann\nHadas Leonov\nSteffen Brinkmann\nDiego Sanchez\nXiaoming Hu\nPROJECTS\nSysMO-LAB\nSysMO DB\nFAIRDOM\nICYSB 2015 - International Practical Course in Systems Biology\nde.NBI-SysBio\nZucAt\nEarly Metabolic Injury (LiSyM-EMI - Pillar I)\nChronic Liver Disease Progression (LiSyM-DP - Pillar II)\nRegeneration and Repair in Acute-on-Chronic Liver Failure (LiSyM-ACLF - Pillar III)\nLiSyM Core Infrastructure and Management (LiSyM-PD)\nLiver Function Diagnostics (LiSyM-LiFuDi - Pillar IV)\nModel Guided Pharmacotherapy In Chronic Liver Disease (LiSyM-MGP)\nMulti-Scale Models for Personalized Liver Function Tests (LiSyM-MM-PLF)\nThe Hedgehog Signalling Pathway (LiSyM-JGMMS)\nMolecular Steatosis - Imaging & Modeling (LiSyM-MSIM)\nKinetics on the move - Workshop 2016\nExample use cases\nFAIRDOM user meeting\nErasysApp Funders\nSBEpo - Systems Biology of Erythropoietin\nService to URV Tarragona, Spain with respect to their Safety Assessment of Endocrine Disrupting Chemicals model (Active NOW)\nMS_DILI\nEraCoBiotech 2 nd call proposal preparation\nCOMBINE Multicellular Modelling\nFAIRDOM & LiSyM & de.NBI Data Structuring Training\nSustainable co-production\nMESI-STRAT\nINCOME\nMultiscale modelling of state transitions in the host-microbiome-brain network\nBESTER\nTRALAMINOL\nExtremophiles metabolsim\nINDIE - Biotechnological production of sustainable indole\nNew LiSyM project\nEnzymeML\nPoLiMeR -   Polymers in the Liver: Metabolism and Regulation\nGMDS Project Group \"FAIRe Dateninfrastrukturen für die Biomedizinische Informatik\"\nGB-XMap: Assessing the risk of gut-brain cross-diseases Investigating the gut-brain-axis\nNAD COMPARTMENTATION\n\n________________________________________________________\n\nUniversity of Groningen(id: 35 | type: institutions)\n\nDescription: missing\n\n\nPEOPLE\nOscar Kuipers\nBert Poolman\nEriko Takano\nLubbert Dijkhuizen\nRainer Breitling\nArnold Driessen\nJacek Mika\nM. Tauqeer Alam\nAnthony Palathingal\nR Jansen\nMorris Swertz\nMaria Elena Merlo\nImke De Jong\nBogumila Marciniak\nBarbara Bakker\nRobin Sorg\nJan-Willem Veening\nRuben Mars\nPamela Gamba\nJurgen  Haanstra\nSulman Shafeeq\nFentaw Abegaz\nKathrin Thedieck\nErnst Wit\nJanina Leyk\nSebastian Groothuis\nPatricia Razquin Navas\nKaren Van Eunen\nMaaike H. Oosterveer\nAlexander Heberle\nPROJECTS\nBaCell-SysMO\nKOSMOBAC\nSTREAM\nSulfoSys\nSilicoTryp\nNoisy-Strep\nMESI-STRAT\nMultiscale modelling of state transitions in the host-microbiome-brain network\nPoLiMeR -   Polymers in the Liver: Metabolism and Regulation\n\n________________________________________________________\n\nOlga Krebs(id: 136 | type: people)\n\nDescription: I am a researcher at the Scientific Databases and Visualization Group at Heidelberg Institute for Theoretical Studies (HITS)  , one of the  developers of SabioRK - System for the Analysis of Biochemical Pathways - Reaction Kinetics (http://sabiork.h-its.org/) . I am working on design  and maintenance of the information systems to store, query and analyse systems biology data; definition and implementation of methods for the integration of data from multiple sources.  In SySMO-DB project  (http://www.sysmo-db.org) I was responsible for metadata design (SEEK), conceptual and logical modelling of experimental data (JERM), now our team continue this work as  FAIRDOM project (http://fair-dom.org/).\n\n\nASSAYS\nStandard-based Excel template for metabolomics data\nMetabolomics Master Template\nHow to use templates to structure experimental data\nDATA_FILES\nExcel sheet template : concentrations of intracellular metabolites\nIntroduction to Lightning Talks and ISBE session at PALs meeting on 27th of August in Heidelberg\nMetabolomics Master Excel Template\nSysMO-SEEK Users Meeting\nThe map of Warnemuende\nAgenda: All Hands PALs meeting on 21-22 of May 2012 in Warnemünde/Rostock\nTravel Expense Report (HITS)\nMeeting location map\nTemplate for proteomics (2D gel)\nList of Participants\nList of participants\nReport of the Data Management Foundry Workshop,  19th-20th of March, 2012, Vienna, Austria\nAgenda for 3rd ERASysAPP – EXCHANGE Days\ntest file\nThe FAIR Guiding Principles for scientific data management and stewardship\nEVENTS\nAll Hands SySMO PALs  meeting \nSySMO SEEK Users Meeting  2012\n5th annual SySMO PALs All Hands meeting\nSEEK presentation at ICSB 2012 \nCOMBINE meeting\n6th All hands PALs meeting on 29 - 30 of November 2012 in Heidelberg\n7th All hands PALs + SEEK users meeting on 18 - 20 of September 2013 in Paris \nAdvanced Lecture Course on Systems Biology\nInternational SWAT4LS Workshop\n1st EraSysApp PALs meeting\n2nd FAIRDOM PALs meeting \nFirst FAIRDOM User Meeting held  as a satellite meeting of ICSB 2016 in Barcelona \nSummer school  SBB-2018\nINSTITUTIONS\nHeidelberg Institute for Theoretical Studies (HITS gGmbH)\nNorwegian University of Science and Technology\nFAIRDOM User meeting\nINVESTIGATIONS\nCreating data sheet template for 'omics data\nMetabolic analysis of effects of sucrose translocation on phenotypic traits of Arabidopsis thaliana\nUsing SEEK and I-S-A structure to integrate experimentation and mathematical modelling\nMODELS\nZucAt: multi-compartment metabolic model of growing Arabidopsis thaliana\nPRESENTATIONS\nNew SEEK features (presentation at last PALs meeing in Heidelberg on 27th of August)\nJERM and the new ‘Master Templates\n JERM templates presentation  at SEEK Users WS 2012 in Berlin\nJERM: new MASTER templates (at SySMO PALs meeting in Warnemünde/Rostock 21.05.2012)\nSEEK and Find:  Data Management for Systems Biology Projects\nSEEK and JERM - standard compliant integration of Systems Biology data\nAn update on SEEK BioSamples\r\n\nSBGN-ED - a tool for the Systems Biology Graphical Notation\nBiVeS & BudHat  - Version Control for Computational Models\nGraph based storage and retrieval of computational models\nPALs Meeting Report\nJERM templates: overview & recent development.\nRightField presentation for Virtual Liver Network\nSemantic Data and Models Sharing in Systems Biology: The Just Enough Results Model and the SEEK Platform.\n FAIRDOM approach for semantic interoperability of systems biology data and models\nData and Model Management for ERASysAPP projects and Beyond\nFAIRDOMhub: Managing data from Instrument to publication.\nFAIRDOM: Improving data, model, and SOP management from creation to publication\nFAIRDOM Data and Model Management for ERASysAPP. Part I\r\n\nFAIRDOMHUB / SEEK user documentation\nMaking the most of of the FAIRDOM: demo part\nInstructions for hands on session - Using SEEK to manage your research assets\nEvaluation of SEEK and OpenBIS for data management on a centre-wide level\nPAL`s experience - IMOMESIC Project\nPublishing FAIR studies with citable research assets: a case study. Modelling glucose metabolism in malaria patients\n“Siberian” SEEK: Multiscale modeling of microbial communities\nData and model management needs for a knowledge base of salmon physiology. Use Case: The Digital Salmon\nFAIRDOMHub training\nIntroduction to FAIRDOMHub\nGuidelines on FAIR Data Management in Horizon 2020\nData and Model Management with FAIRDOM, SEEK, and other tools\nData and Model Management with FAIRDOM, SEEK, and other tools\nIntroduction to FAIRDOM Data Management : SEEK and openBIS\nPROJECTS\nSysMO-LAB\nSysMO DB\nFAIRDOM\nICYSB 2015 - International Practical Course in Systems Biology\nZucAt\nKinetics on the move - Workshop 2016\nExample use cases\nFAIRDOM user meeting\nErasysApp Funders\nService to URV Tarragona, Spain with respect to their Safety Assessment of Endocrine Disrupting Chemicals model (Active NOW)\nEraCoBiotech 2 nd call proposal preparation\nFAIRDOM & LiSyM & de.NBI Data Structuring Training\nSustainable co-production\nMESI-STRAT\nINCOME\nMultiscale modelling of state transitions in the host-microbiome-brain network\nBESTER\nTRALAMINOL\nExtremophiles metabolsim\nINDIE - Biotechnological production of sustainable indole\nPoLiMeR -   Polymers in the Liver: Metabolism and Regulation\nGB-XMap: Assessing the risk of gut-brain cross-diseases Investigating the gut-brain-axis\nNAD COMPARTMENTATION\nPUBLICATIONS\nStoring and annotating of kinetic data\nThe SEEK: a platform for sharing data and models in systems biology\nRightField: embedding ontology annotation in spreadsheets\nSABIO-RK--database for biochemical reaction kinetics\nStealthy annotation of experimental biology by spreadsheets\nSemantic Data and Models Sharing in Systems Biology: The Just Enough Results Model and the SEEK Platform\nMeeting report from the fourth meeting of the Computational Modeling in Biology Network (COMBINE)\nThe FAIR Guiding Principles for scientific data management and stewardship\nFAIRDOMHub: a repository and collaboration environment for sharing systems biology research\nMetabolic model of central carbon and energy metabolisms of growing Arabidopsis thaliana in relation to sucrose translocation\nRightField: Scientific Knowledge Acquisition by Stealth through Ontology-Enabled Spreadsheets\nComparison of 432 Pseudomonas strains through integration of genomic, functional, metabolic and expression data.\nDigitoxin metabolism by rat liver microsomes.\nCopy number profiling by array comparative genomic hybridization identifies frequently occurring BRCA2-like male breast cancer.\nGene expression profiling of primary male breast cancers reveals two unique subgroups and identifies N-acetyltransferase-1 (NAT1) as a novel prognostic biomarker.\nModel of tryptophan metabolism, readily scalable using tissue-specific gene expression data.\nHepatocytes contribute to residual glucose production in a mouse model for glycogen storage disease type Ia.\nA systems study reveals concurrent activation of AMPK and mTOR by amino acids.\nTranslational Targeted Proteomics Profiling of Mitochondrial Energy Metabolic Pathways in Mouse and Human Samples.\nHarmonizing semantic annotations for computational models in biology\nSpecifications of Standards in Systems and Synthetic Biology: Status and Developments in 2017\nSOPS\nFluorescent probe labeling for microarrays\nGuidelines for Writing Standard Operating Procedures (SOP)\nExtraction and quantitative analysis of proteins from FFPE tissue\nExtraction and quantitative analysis of proteins from FFPE tissue\nSTUDIES\nCreating template for metabolomics data\nCreating Templates for Transcriptomics\nAnalysis of central carbon and energy metabolisms of growing Arabidopsis thaliana in relation to sucrose translocation\nExperimental study for hands on session\n\n________________________________________________________\n\nLife-stage associated remodeling of lipid metabolism regulation in Atlantic salmon.(id: 359 | type: publications)\n\nDescription: missing\n\n\nPEOPLE\nJon Olav Vik\nArne Gjuvsland\nSandve Simen\nGareth Gillard\nJacob Seilø Torgersen\nThomas Harvey\nTorgeir R. Hvidsten\nMagny Sidsel Thomassen\nYang Jin\nPROJECTS\nGenoSysFat\nDigiSal\n\n________________________________________________________\n\nPoLiMeR -   Polymers in the Liver: Metabolism and Regulation(id: 130 | type: projects)\n\nDescription: PoLiMeR is funded through the EU Marie Skłodowska-Curie Innovative Training Network (ITN), which drives scientific excellence and innovation. ITNs bring together universities, research institutes, industry and clinical partners from across the world to train researchers to doctorate level.\r\n\r\nMetabolic diseases are a burden on the European population and health care system. It is increasingly recognised that individual differences with respect to history, lifestyle, and genetic make-up affect disease progression and treatment response. A Systems Medicine approach, based on computational models fed with individual patient data, has the potential to provide the basis for a personalised diagnosis and treatment strategy. The PoLiMeR consortium (Polymers in the Liver: Metabolism and Regulation) has identified the inherited, liver-related diseases of glycogen and lipid metabolism as the ideal starting point for innovative research training in personalised ‘Systems Medicine'.\n\n\nINSTITUTIONS\nHeidelberg Institute for Theoretical Studies (HITS gGmbH)\nUniversity of Bergen\nUniversity of Duesseldorf\nUniversity of Groningen\nUniversity of Leiden\nChalmers University of Technology\nUniversity of Freiburg\nUniversity of Luxembourg\nIceni Diagnostics Ltd\nJohn Innes Centre\nMimetas\nORGANISMS\nHomo sapiens\nPEOPLE\nOlga Krebs\nWolfgang Müller\nBarbara Bakker\nAdil Mardinoglu\nInes Thiele\nKathrin Thedieck\nMathias Ziegler\nKaren Van Eunen\nMaaike H. Oosterveer\nOliver Ebenhöh\nDorota Kurek\nUte Spiekerkötter\nRonan Fleming\nRobert Field\nSara Tucci\nStephan Goetz\nThomas Hankemeier\nAdelaide Raguin\nTerry G.J. Derks\nPUBLICATIONS\nHepatocytes contribute to residual glucose production in a mouse model for glycogen storage disease type Ia.\nA systems study reveals concurrent activation of AMPK and mTOR by amino acids.\nTranslational Targeted Proteomics Profiling of Mitochondrial Energy Metabolic Pathways in Mouse and Human Samples.\n\n________________________________________________________\n\nHUMET(id: 15 | type: programmes)\n\nDescription: Consortium of European research groups that aim to develop - in the forthcoming 10 years - a cluster of interlinked models that describe the whole-body human energy metabolism and its multi-dimensional regulation. Regulation includes interations with the brain, the immune system and the gut.\n\n\nADMINISTRATORS\nRoel Van Driel\nDATA_FILES\nlist of publications 2006 - 2016\nINSTITUTIONS\nUniversity of Amsterdam\nUniversity of Leiden\nUniversity of Rostock\nWageningen University & Research\nChalmers University of Technology\nLeiden University Medical Center\nUniversity of Luxembourg\nUniversity of Gothenburg\nHumboldt University Berlin\nCentro de Investigación Príncipe Felipe\nUniversity of Ulster\nEuropean Institute for Systems Biology and Medicine\nUniversitair ziekenhuis Antwerpen\nUniversity Maastricht\ngeneXplain GmbH\nUniversité catholique de Louvain\nUniversity Medical Center Hamburg - Eppendorf Hamburg\nLiverpool John Moores University\nInstitut Pasteur\nAstraZeneca\nUniversity of Lausanne\nUniversity of Zurich\nBilkent University\nPEOPLE\nOlaf Wolkenhauer\nWillem De Vos\nVitor Martins Dos Santos\nEdda Klipp\nKaty Wolstencroft\nAdil Mardinoglu\nNatal Van Riel\nRoel Van Driel\nBert Groen\nJoaquin Dopazo\nInes Thiele\nSteven Watterson\nAlexander Mazein\nSander Kersten\nSven Francque\nPatrick Schrauwen\nAlexander Kel\nJan Boren\nIlja Arts\nPatrice D. Cani\nJudith Wodke\nBart Staels\nJoerg Heeren\nJan Oscarsson\nAnton Wagenmakers\nAndries Kalsbeek\nErwin Zoetendal\nKo Willems Van Dijk\nChris Evelo\nBeatrice Desvergne\nArnold Von Eckardstein\nUgur Dogrusoz\nPROJECTS\nHUMET Startup\n\n________________________________________________________\n\nLiSyM - Systems Medicine of the Liver(id: 9 | type: programmes)\n\nDescription: LiSyM (Liver Systems Medicine) represents a research network of German centers and institutions, brought together by a 20 Million Euro funding program of the German Government, in which mathematicians, modelers, pharmacologists, molecular biologists and clinical scientists work together to develop a Systems Medicine approach to study early and advanced liver disease. The aim of this unique research program is to acquire and use new experimental data and data from existing data bases to build computational models that facilitate decision making at the patient's bedsite and to predict the actions of new medicines in the treatment of metabolic liver disease.\n\n\nADMINISTRATORS\nMartin Golebiewski\nWolfgang Müller\nJohannes Bausch\nASSAYS\nGalactose Modelling\nDATA_FILES\ncy3sabiork-SupplementaryFile-S2\nAgenda Data Structuring Course\nEVENTS\nFirst LiSyM PostDoc and PhD student retreat\nJoint LiSyM & ERASysAPP Data Management PALs Meeting\n1st LiSyM Jamboree & SAB Meeting\nFAIRDOM-LiSyM-de.NBI Data Structuring Course - Nov 22-23 - Hünfeld (D)\n7th Conference on Systems Biology of Mammalian Cells (SBMC 2018)\nLiSyM/de.NBI/ERASysAPP Tutorial: How to Share FAIR — The FAIRDOM Data and Model Management Practice\nINSTITUTIONS\nHeidelberg Institute for Theoretical Studies (HITS gGmbH)\nHumboldt-Universität zu Berlin\nUniversity of Rostock\nNorwegian University of Life Sciences\nTechnical University of Munich\nUniversity of Freiburg\nTechnische Universität Dresden\nGerman Cancer Research Center (DKFZ)\nCharité University Medicine Berlin\nHumboldt University Berlin\nUniversität Leipzig - Medizinische Fakultät - Institut für Biochemie\nLeibniz-Institut für Arbeitsforschung (IfADo)\nUniversitätsklinikum Dresden - Medizinische Klinik I, Bereich Gastroenterologie & Hepatologie\nRWTH Aachen University Hospital - Department of Internal Medicine III\nUniversity Hospital Schleswig-Holstein, Kiel, General Surgery\nINVESTIGATIONS\nTools and standards for computational modeling in biology\nMM-PLF: Multiscale modeling for personalized liver function\nMODELS\nHepatic galactose model\nMorpheus: open source modelling and simulation framework for multicellular systems\nMorpheus model of spatio-temporal Smo regulation in response to Hh signaling\nSpatio-temporal dynamics of Rab5 domains on the membrane of early endosomes\nPEOPLE\nMaksim Zakhartsev\nOlga Krebs\nWolfgang Müller\nMaja Rey\nUrsula Klingmüller\nJens Timmer\nUlrike Wittig\nMartin Golebiewski\nMatthias König\nMartin Böhm\nJohannes Bausch\nLutz Brusch\nMadlen Matz-Soja\nChristiane Rennert\nSteffen Brinkmann\nErik Schröder\nAhmed Ghallab\nVincent Moser\nMax Luedemann\nJanine Koehncke\nAida Ayoubzadeh\nWitigo Von Schönfels\nPRESENTATIONS\nPAL report – Data management LiSyM Multiscale Models for Liver Function Tests\nIntroduction to FAIRDOM Data Management : SEEK and openBIS\nFAIRDOM tutorial workshop SBMC2018 Bremen - Introduction\nPROJECTS\nEarly Metabolic Injury (LiSyM-EMI - Pillar I)\nChronic Liver Disease Progression (LiSyM-DP - Pillar II)\nRegeneration and Repair in Acute-on-Chronic Liver Failure (LiSyM-ACLF - Pillar III)\nLiSyM Core Infrastructure and Management (LiSyM-PD)\nLiver Function Diagnostics (LiSyM-LiFuDi - Pillar IV)\nModel Guided Pharmacotherapy In Chronic Liver Disease (LiSyM-MGP)\nMulti-Scale Models for Personalized Liver Function Tests (LiSyM-MM-PLF)\nThe Hedgehog Signalling Pathway (LiSyM-JGMMS)\nMolecular Steatosis - Imaging & Modeling (LiSyM-MSIM)\nFAIRDOM & LiSyM & de.NBI Data Structuring Training\nNew LiSyM project\nPUBLICATIONS\ncy3sabiork: A Cytoscape app for visualizing kinetic data from SABIO-RK\nToward community standards and software for whole-cell modeling\nHedgehog signaling is a potent regulator of liver lipid metabolism and reveals a GLI-code associated with steatosis\nThe Human Physiome: how standards, software and innovative service infrastructures are providing the building blocks to make it achievable\nSpecifications of Standards in Systems and Synthetic Biology: Status and Developments in 2016.\nSABIO-RK, von Daten in der Publikation zur Suchlösung für Spezialisten\nMorpheus: a user-friendly modeling environment for multiscale and multicellular systems biology.\nA Predictive 3D Multi-Scale Model of Biliary Fluid Dynamics in the Liver Lobule.\npSSAlib: The partial-propensity stochastic chemical network simulator\nSpecifications of Standards in Systems and Synthetic Biology: Status and Developments in 2017\nSTUDIES\nA Multiscale Computational Model of Human Galactose Metabolism\nHuman Caffeine Metabolism\n\n________________________________________________________\n\n"
       }
      ],
      "source": "for request in ps.requestList:\n\n    request.print()\n    print('\\n________________________________________________________\\n')",
      "start_time": "2019-03-15T10:40:57.703Z"
     }
    ]
   },
   "outputs": [],
   "source": [
    "for request in ps.requestList:\n",
    "\n",
    "    request.print()\n",
    "    print('\\n________________________________________________________\\n')"
   ]
  }
 ],
 "metadata": {
  "kernelspec": {
   "display_name": "Python 3",
   "language": "python",
   "name": "python3"
  },
  "language_info": {
   "codemirror_mode": {
    "name": "ipython",
    "version": 3
   },
   "file_extension": ".py",
   "mimetype": "text/x-python",
   "name": "python",
   "nbconvert_exporter": "python",
   "pygments_lexer": "ipython3",
   "version": "3.6.5"
  }
 },
 "nbformat": 4,
 "nbformat_minor": 2
}
