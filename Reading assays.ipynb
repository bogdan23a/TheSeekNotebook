{
 "cells": [
  {
   "cell_type": "code",
   "execution_count": 5,
   "metadata": {
    "ExecutionTime": {
     "end_time": "2019-03-16T12:56:06.746799Z",
     "start_time": "2019-03-16T12:56:05.737793Z"
    },
    "provenance": [
     {
      "end_time": "Unknown",
      "execution_time": "Unknown",
      "outputs": [],
      "source": "",
      "start_time": "Unknown"
     },
     {
      "end_time": "2019-03-12T09:54:45.075Z",
      "execution_time": "1.15s",
      "outputs": [],
      "source": "from ReadObject import ReadObject\n\nassay = ReadObject()\n\nassay.request(\"assays\", \"754\")",
      "start_time": "2019-03-12T09:54:43.921Z"
     },
     {
      "end_time": "2019-03-15T10:45:10.649Z",
      "execution_time": "1.47s",
      "outputs": [
       {
        "data": {
         "text/plain": "True"
        },
        "execution_count": 2,
        "metadata": {},
        "output_type": "execute_result"
       }
      ],
      "source": "from ReadObject import ReadObject\n\nassay = ReadObject()\n\nassay.request(\"assays\", \"754\")",
      "start_time": "2019-03-15T10:45:09.176Z"
     },
     {
      "end_time": "2019-03-15T13:15:57.907Z",
      "execution_time": "922ms",
      "outputs": [
       {
        "data": {
         "text/plain": "False"
        },
        "execution_count": 16,
        "metadata": {},
        "output_type": "execute_result"
       }
      ],
      "source": "from ReadObject import ReadObject\n\nassay = ReadObject()\n\nassay.request(\"study\", \"754\")",
      "start_time": "2019-03-15T13:15:56.985Z"
     },
     {
      "end_time": "2019-03-15T13:16:00.747Z",
      "execution_time": "453ms",
      "outputs": [
       {
        "data": {
         "text/plain": "False"
        },
        "execution_count": 17,
        "metadata": {},
        "output_type": "execute_result"
       }
      ],
      "source": "from ReadObject import ReadObject\n\nassay = ReadObject()\n\nassay.request(\"study\", \"123\")",
      "start_time": "2019-03-15T13:16:00.294Z"
     },
     {
      "end_time": "2019-03-15T13:16:04.031Z",
      "execution_time": "420ms",
      "outputs": [
       {
        "data": {
         "text/plain": "False"
        },
        "execution_count": 18,
        "metadata": {},
        "output_type": "execute_result"
       }
      ],
      "source": "from ReadObject import ReadObject\n\nassay = ReadObject()\n\nassay.request(\"study\", \"1\")",
      "start_time": "2019-03-15T13:16:03.611Z"
     },
     {
      "end_time": "2019-03-15T13:16:06.770Z",
      "execution_time": "587ms",
      "outputs": [
       {
        "data": {
         "text/plain": "False"
        },
        "execution_count": 19,
        "metadata": {},
        "output_type": "execute_result"
       }
      ],
      "source": "from ReadObject import ReadObject\n\nassay = ReadObject()\n\nassay.request(\"study\", \"12\")",
      "start_time": "2019-03-15T13:16:06.183Z"
     },
     {
      "end_time": "2019-03-15T13:16:30.742Z",
      "execution_time": "425ms",
      "outputs": [
       {
        "data": {
         "text/plain": "False"
        },
        "execution_count": 20,
        "metadata": {},
        "output_type": "execute_result"
       }
      ],
      "source": "from ReadObject import ReadObject\n\nassay = ReadObject()\n\nassay.request(\"study\", \"576\")",
      "start_time": "2019-03-15T13:16:30.317Z"
     },
     {
      "end_time": "2019-03-15T13:16:35.907Z",
      "execution_time": "848ms",
      "outputs": [
       {
        "data": {
         "text/plain": "True"
        },
        "execution_count": 21,
        "metadata": {},
        "output_type": "execute_result"
       }
      ],
      "source": "from ReadObject import ReadObject\n\nassay = ReadObject()\n\nassay.request(\"studies\", \"576\")",
      "start_time": "2019-03-15T13:16:35.059Z"
     },
     {
      "end_time": "2019-03-15T16:21:05.751Z",
      "execution_time": "1.18s",
      "outputs": [
       {
        "name": "stdout",
        "output_type": "stream",
        "text": "name 'callback' is not defined\n"
       }
      ],
      "source": "from ReadObject import ReadObject\n\nassay = ReadObject()\n\nassay.request(\"studies\", \"576\")",
      "start_time": "2019-03-15T16:21:04.575Z"
     },
     {
      "end_time": "2019-03-15T16:21:16.641Z",
      "execution_time": "754ms",
      "outputs": [
       {
        "name": "stdout",
        "output_type": "stream",
        "text": "name 'callback' is not defined\n"
       }
      ],
      "source": "from ReadObject import ReadObject\n\nassay = ReadObject()\n\nassay.request(\"studies\", \"576\")",
      "start_time": "2019-03-15T16:21:15.887Z"
     },
     {
      "end_time": "2019-03-15T16:21:22.657Z",
      "execution_time": "872ms",
      "outputs": [
       {
        "data": {
         "text/plain": "True"
        },
        "execution_count": 1,
        "metadata": {},
        "output_type": "execute_result"
       }
      ],
      "source": "from ReadObject import ReadObject\n\nassay = ReadObject()\n\nassay.request(\"studies\", \"576\")",
      "start_time": "2019-03-15T16:21:21.785Z"
     },
     {
      "end_time": "2019-03-16T12:56:06.746Z",
      "execution_time": "1.01s",
      "outputs": [
       {
        "data": {
         "text/plain": "True"
        },
        "execution_count": 5,
        "metadata": {},
        "output_type": "execute_result"
       }
      ],
      "source": "from ReadObject import ReadObject\n\nassay = ReadObject()\n\nassay.request(\"assays\", \"576\")",
      "start_time": "2019-03-16T12:56:05.737Z"
     }
    ]
   },
   "outputs": [
    {
     "data": {
      "text/plain": [
       "True"
      ]
     },
     "execution_count": 5,
     "metadata": {},
     "output_type": "execute_result"
    }
   ],
   "source": [
    "from ReadObject import ReadObject\n",
    "\n",
    "assay = ReadObject()\n",
    "\n",
    "assay.request(\"assays\", \"576\")"
   ]
  },
  {
   "cell_type": "code",
   "execution_count": 6,
   "metadata": {
    "ExecutionTime": {
     "end_time": "2019-03-16T12:56:08.354708Z",
     "start_time": "2019-03-16T12:56:08.339415Z"
    },
    "provenance": [
     {
      "end_time": "2019-03-12T09:54:49.525Z",
      "execution_time": "29ms",
      "outputs": [
       {
        "data": {
         "text/plain": "<function ReadObject.ReadObject.loadJSON.<locals>.<lambda>()>"
        },
        "execution_count": 2,
        "metadata": {},
        "output_type": "execute_result"
       }
      ],
      "source": "assay.data",
      "start_time": "2019-03-12T09:54:49.496Z"
     },
     {
      "end_time": "2019-03-12T09:54:57.759Z",
      "execution_time": "140ms",
      "outputs": [
       {
        "name": "stdout",
        "output_type": "stream",
        "text": "TBARS: Oxidative stress\nExperimental Assay | Experimental Assay Type\n\nTBARS assay measured oxidative stress as levels of malondialdehyde in samples.\r\nPerformed in cod liver samples.\n\n\n STUDY:\n"
       },
       {
        "ename": "AttributeError",
        "evalue": "'function' object has no attribute 'studyAttributes'",
        "output_type": "error",
        "traceback": [
         "\u001b[0;31m---------------------------------------------------------------------------\u001b[0m",
         "\u001b[0;31mAttributeError\u001b[0m                            Traceback (most recent call last)",
         "\u001b[0;32m<ipython-input-3-729d4f9276ff>\u001b[0m in \u001b[0;36m<module>\u001b[0;34m()\u001b[0m\n\u001b[0;32m----> 1\u001b[0;31m \u001b[0massay\u001b[0m\u001b[0;34m.\u001b[0m\u001b[0massaySummary\u001b[0m\u001b[0;34m(\u001b[0m\u001b[0;34m)\u001b[0m\u001b[0;34m\u001b[0m\u001b[0m\n\u001b[0m",
         "\u001b[0;32m~/Work/ThirdYear/Seek/TheSEEKNotebook/ReadObject.py\u001b[0m in \u001b[0;36massaySummary\u001b[0;34m(self)\u001b[0m\n\u001b[1;32m     78\u001b[0m     \u001b[0;32mdef\u001b[0m \u001b[0massaySummary\u001b[0m\u001b[0;34m(\u001b[0m\u001b[0mself\u001b[0m\u001b[0;34m)\u001b[0m\u001b[0;34m:\u001b[0m\u001b[0;34m\u001b[0m\u001b[0m\n\u001b[1;32m     79\u001b[0m         \u001b[0mself\u001b[0m\u001b[0;34m.\u001b[0m\u001b[0massayAttributes\u001b[0m\u001b[0;34m(\u001b[0m\u001b[0;34m)\u001b[0m\u001b[0;34m\u001b[0m\u001b[0m\n\u001b[0;32m---> 80\u001b[0;31m         \u001b[0mself\u001b[0m\u001b[0;34m.\u001b[0m\u001b[0massayRelationships\u001b[0m\u001b[0;34m(\u001b[0m\u001b[0;34m)\u001b[0m\u001b[0;34m\u001b[0m\u001b[0m\n\u001b[0m\u001b[1;32m     81\u001b[0m \u001b[0;34m\u001b[0m\u001b[0m\n\u001b[1;32m     82\u001b[0m     \u001b[0;32mdef\u001b[0m \u001b[0mstudyAttributes\u001b[0m\u001b[0;34m(\u001b[0m\u001b[0mself\u001b[0m\u001b[0;34m)\u001b[0m\u001b[0;34m:\u001b[0m\u001b[0;34m\u001b[0m\u001b[0m\n",
         "\u001b[0;32m~/Work/ThirdYear/Seek/TheSEEKNotebook/ReadObject.py\u001b[0m in \u001b[0;36massayRelationships\u001b[0;34m(self)\u001b[0m\n\u001b[1;32m     69\u001b[0m \u001b[0;34m\u001b[0m\u001b[0m\n\u001b[1;32m     70\u001b[0m         \u001b[0mprint\u001b[0m\u001b[0;34m(\u001b[0m\u001b[0;34m\"\\n\\n STUDY:\"\u001b[0m\u001b[0;34m)\u001b[0m\u001b[0;34m\u001b[0m\u001b[0m\n\u001b[0;32m---> 71\u001b[0;31m         \u001b[0mself\u001b[0m\u001b[0;34m.\u001b[0m\u001b[0mdata\u001b[0m\u001b[0;34m.\u001b[0m\u001b[0mrelationships\u001b[0m\u001b[0;34m.\u001b[0m\u001b[0mstudy\u001b[0m\u001b[0;34m.\u001b[0m\u001b[0mstudyAttributes\u001b[0m\u001b[0;34m(\u001b[0m\u001b[0;34m)\u001b[0m\u001b[0;34m\u001b[0m\u001b[0m\n\u001b[0m\u001b[1;32m     72\u001b[0m         \u001b[0mprint\u001b[0m\u001b[0;34m(\u001b[0m\u001b[0;34m\"\\n\\n INVESTIGATION:\"\u001b[0m\u001b[0;34m)\u001b[0m\u001b[0;34m\u001b[0m\u001b[0m\n\u001b[1;32m     73\u001b[0m         \u001b[0mself\u001b[0m\u001b[0;34m.\u001b[0m\u001b[0mdata\u001b[0m\u001b[0;34m.\u001b[0m\u001b[0mrelationships\u001b[0m\u001b[0;34m.\u001b[0m\u001b[0minvestigation\u001b[0m\u001b[0;34m.\u001b[0m\u001b[0minvestigationAttributes\u001b[0m\u001b[0;34m(\u001b[0m\u001b[0;34m)\u001b[0m\u001b[0;34m\u001b[0m\u001b[0m\n",
         "\u001b[0;31mAttributeError\u001b[0m: 'function' object has no attribute 'studyAttributes'"
        ]
       }
      ],
      "source": "assay.assaySummary()",
      "start_time": "2019-03-12T09:54:57.619Z"
     },
     {
      "end_time": "2019-03-15T10:45:06.414Z",
      "execution_time": "57ms",
      "outputs": [
       {
        "ename": "NameError",
        "evalue": "name 'assay' is not defined",
        "output_type": "error",
        "traceback": [
         "\u001b[0;31m---------------------------------------------------------------------------\u001b[0m",
         "\u001b[0;31mNameError\u001b[0m                                 Traceback (most recent call last)",
         "\u001b[0;32m<ipython-input-1-b7471ee1bf93>\u001b[0m in \u001b[0;36m<module>\u001b[0;34m()\u001b[0m\n\u001b[0;32m----> 1\u001b[0;31m \u001b[0massay\u001b[0m\u001b[0;34m.\u001b[0m\u001b[0mprint\u001b[0m\u001b[0;34m(\u001b[0m\u001b[0;34m)\u001b[0m\u001b[0;34m\u001b[0m\u001b[0m\n\u001b[0m",
         "\u001b[0;31mNameError\u001b[0m: name 'assay' is not defined"
        ]
       }
      ],
      "source": "assay.print()",
      "start_time": "2019-03-15T10:45:06.357Z"
     },
     {
      "end_time": "2019-03-15T10:45:12.681Z",
      "execution_time": "8ms",
      "outputs": [
       {
        "name": "stdout",
        "output_type": "stream",
        "text": "TBARS: Oxidative stress(id: 754 | type: assays)\n\nDescription: TBARS assay measured oxidative stress as levels of malondialdehyde in samples.\r\nPerformed in cod liver samples.\n\n\nObject has no relationships\n"
       }
      ],
      "source": "assay.print()",
      "start_time": "2019-03-15T10:45:12.673Z"
     },
     {
      "end_time": "2019-03-15T12:52:34.067Z",
      "execution_time": "10ms",
      "outputs": [
       {
        "data": {
         "text/plain": "<function ReadObject.ReadObject.loadJSON.<locals>.<lambda>()>"
        },
        "execution_count": 4,
        "metadata": {},
        "output_type": "execute_result"
       }
      ],
      "source": "assay.data",
      "start_time": "2019-03-15T12:52:34.057Z"
     },
     {
      "end_time": "2019-03-15T12:53:13.272Z",
      "execution_time": "12ms",
      "outputs": [
       {
        "data": {
         "text/plain": "['__annotations__',\n '__call__',\n '__class__',\n '__closure__',\n '__code__',\n '__defaults__',\n '__delattr__',\n '__dict__',\n '__dir__',\n '__doc__',\n '__eq__',\n '__format__',\n '__ge__',\n '__get__',\n '__getattribute__',\n '__globals__',\n '__gt__',\n '__hash__',\n '__init__',\n '__init_subclass__',\n '__kwdefaults__',\n '__le__',\n '__lt__',\n '__module__',\n '__name__',\n '__ne__',\n '__new__',\n '__qualname__',\n '__reduce__',\n '__reduce_ex__',\n '__repr__',\n '__setattr__',\n '__sizeof__',\n '__str__',\n '__subclasshook__',\n 'attributes',\n 'id',\n 'links',\n 'meta',\n 'relationships',\n 'type']"
        },
        "execution_count": 5,
        "metadata": {},
        "output_type": "execute_result"
       }
      ],
      "source": "dir(assay.data)",
      "start_time": "2019-03-15T12:53:13.260Z"
     },
     {
      "end_time": "2019-03-15T13:02:19.653Z",
      "execution_time": "27ms",
      "outputs": [
       {
        "ename": "AttributeError",
        "evalue": "'ReadObject' object has no attribute 'attributes'",
        "output_type": "error",
        "traceback": [
         "\u001b[0;31m---------------------------------------------------------------------------\u001b[0m",
         "\u001b[0;31mAttributeError\u001b[0m                            Traceback (most recent call last)",
         "\u001b[0;32m<ipython-input-6-770fa2a518ef>\u001b[0m in \u001b[0;36m<module>\u001b[0;34m()\u001b[0m\n\u001b[0;32m----> 1\u001b[0;31m \u001b[0mdir\u001b[0m\u001b[0;34m(\u001b[0m\u001b[0massay\u001b[0m\u001b[0;34m.\u001b[0m\u001b[0mattributes\u001b[0m\u001b[0;34m)\u001b[0m\u001b[0;34m\u001b[0m\u001b[0m\n\u001b[0m",
         "\u001b[0;31mAttributeError\u001b[0m: 'ReadObject' object has no attribute 'attributes'"
        ]
       }
      ],
      "source": "dir(assay.attributes)",
      "start_time": "2019-03-15T13:02:19.626Z"
     },
     {
      "end_time": "2019-03-15T13:02:28.298Z",
      "execution_time": "14ms",
      "outputs": [
       {
        "data": {
         "text/plain": "['__annotations__',\n '__call__',\n '__class__',\n '__closure__',\n '__code__',\n '__defaults__',\n '__delattr__',\n '__dict__',\n '__dir__',\n '__doc__',\n '__eq__',\n '__format__',\n '__ge__',\n '__get__',\n '__getattribute__',\n '__globals__',\n '__gt__',\n '__hash__',\n '__init__',\n '__init_subclass__',\n '__kwdefaults__',\n '__le__',\n '__lt__',\n '__module__',\n '__name__',\n '__ne__',\n '__new__',\n '__qualname__',\n '__reduce__',\n '__reduce_ex__',\n '__repr__',\n '__setattr__',\n '__sizeof__',\n '__str__',\n '__subclasshook__',\n 'attributes',\n 'id',\n 'links',\n 'meta',\n 'relationships',\n 'type']"
        },
        "execution_count": 7,
        "metadata": {},
        "output_type": "execute_result"
       }
      ],
      "source": "dir(assay.data)",
      "start_time": "2019-03-15T13:02:28.284Z"
     },
     {
      "end_time": "2019-03-15T13:02:36.215Z",
      "execution_time": "14ms",
      "outputs": [
       {
        "data": {
         "text/plain": "['__annotations__',\n '__call__',\n '__class__',\n '__closure__',\n '__code__',\n '__defaults__',\n '__delattr__',\n '__dict__',\n '__dir__',\n '__doc__',\n '__eq__',\n '__format__',\n '__ge__',\n '__get__',\n '__getattribute__',\n '__globals__',\n '__gt__',\n '__hash__',\n '__init__',\n '__init_subclass__',\n '__kwdefaults__',\n '__le__',\n '__lt__',\n '__module__',\n '__name__',\n '__ne__',\n '__new__',\n '__qualname__',\n '__reduce__',\n '__reduce_ex__',\n '__repr__',\n '__setattr__',\n '__sizeof__',\n '__str__',\n '__subclasshook__',\n 'assay_class',\n 'assay_type',\n 'description',\n 'other_creators',\n 'snapshots',\n 'tags',\n 'technology_type',\n 'title']"
        },
        "execution_count": 8,
        "metadata": {},
        "output_type": "execute_result"
       }
      ],
      "source": "dir(assay.data.attributes)",
      "start_time": "2019-03-15T13:02:36.201Z"
     },
     {
      "end_time": "2019-03-15T13:03:20.576Z",
      "execution_time": "19ms",
      "outputs": [
       {
        "data": {
         "text/plain": "['__annotations__',\n '__call__',\n '__class__',\n '__closure__',\n '__code__',\n '__defaults__',\n '__delattr__',\n '__dict__',\n '__dir__',\n '__doc__',\n '__eq__',\n '__format__',\n '__ge__',\n '__get__',\n '__getattribute__',\n '__globals__',\n '__gt__',\n '__hash__',\n '__init__',\n '__init_subclass__',\n '__kwdefaults__',\n '__le__',\n '__lt__',\n '__module__',\n '__name__',\n '__ne__',\n '__new__',\n '__qualname__',\n '__reduce__',\n '__reduce_ex__',\n '__repr__',\n '__setattr__',\n '__sizeof__',\n '__str__',\n '__subclasshook__',\n 'description',\n 'key',\n 'title']"
        },
        "execution_count": 9,
        "metadata": {},
        "output_type": "execute_result"
       }
      ],
      "source": "dir(assay.data.attributes.assay_class)",
      "start_time": "2019-03-15T13:03:20.557Z"
     },
     {
      "end_time": "2019-03-15T13:08:37.652Z",
      "execution_time": "11ms",
      "outputs": [
       {
        "data": {
         "text/plain": "['__annotations__',\n '__call__',\n '__class__',\n '__closure__',\n '__code__',\n '__defaults__',\n '__delattr__',\n '__dict__',\n '__dir__',\n '__doc__',\n '__eq__',\n '__format__',\n '__ge__',\n '__get__',\n '__getattribute__',\n '__globals__',\n '__gt__',\n '__hash__',\n '__init__',\n '__init_subclass__',\n '__kwdefaults__',\n '__le__',\n '__lt__',\n '__module__',\n '__name__',\n '__ne__',\n '__new__',\n '__qualname__',\n '__reduce__',\n '__reduce_ex__',\n '__repr__',\n '__setattr__',\n '__sizeof__',\n '__str__',\n '__subclasshook__',\n 'assay_class',\n 'assay_type',\n 'description',\n 'other_creators',\n 'snapshots',\n 'tags',\n 'technology_type',\n 'title']"
        },
        "execution_count": 11,
        "metadata": {},
        "output_type": "execute_result"
       }
      ],
      "source": "dir(assay.data.attributes)",
      "start_time": "2019-03-15T13:08:37.641Z"
     },
     {
      "end_time": "2019-03-15T13:08:47.649Z",
      "execution_time": "10ms",
      "outputs": [
       {
        "data": {
         "text/plain": "['__annotations__',\n '__call__',\n '__class__',\n '__closure__',\n '__code__',\n '__defaults__',\n '__delattr__',\n '__dict__',\n '__dir__',\n '__doc__',\n '__eq__',\n '__format__',\n '__ge__',\n '__get__',\n '__getattribute__',\n '__globals__',\n '__gt__',\n '__hash__',\n '__init__',\n '__init_subclass__',\n '__kwdefaults__',\n '__le__',\n '__lt__',\n '__module__',\n '__name__',\n '__ne__',\n '__new__',\n '__qualname__',\n '__reduce__',\n '__reduce_ex__',\n '__repr__',\n '__setattr__',\n '__sizeof__',\n '__str__',\n '__subclasshook__',\n 'label',\n 'uri']"
        },
        "execution_count": 12,
        "metadata": {},
        "output_type": "execute_result"
       }
      ],
      "source": "dir(assay.data.attributes.assay_type)",
      "start_time": "2019-03-15T13:08:47.639Z"
     },
     {
      "end_time": "2019-03-15T13:09:58.966Z",
      "execution_time": "17ms",
      "outputs": [
       {
        "data": {
         "text/plain": "['__annotations__',\n '__call__',\n '__class__',\n '__closure__',\n '__code__',\n '__defaults__',\n '__delattr__',\n '__dict__',\n '__dir__',\n '__doc__',\n '__eq__',\n '__format__',\n '__ge__',\n '__get__',\n '__getattribute__',\n '__globals__',\n '__gt__',\n '__hash__',\n '__init__',\n '__init_subclass__',\n '__kwdefaults__',\n '__le__',\n '__lt__',\n '__module__',\n '__name__',\n '__ne__',\n '__new__',\n '__qualname__',\n '__reduce__',\n '__reduce_ex__',\n '__repr__',\n '__setattr__',\n '__sizeof__',\n '__str__',\n '__subclasshook__',\n 'assay_class',\n 'assay_type',\n 'description',\n 'other_creators',\n 'snapshots',\n 'tags',\n 'technology_type',\n 'title']"
        },
        "execution_count": 13,
        "metadata": {},
        "output_type": "execute_result"
       }
      ],
      "source": "dir(assay.data.attributes)",
      "start_time": "2019-03-15T13:09:58.949Z"
     },
     {
      "end_time": "2019-03-15T13:10:28.906Z",
      "execution_time": "16ms",
      "outputs": [
       {
        "data": {
         "text/plain": "['__annotations__',\n '__call__',\n '__class__',\n '__closure__',\n '__code__',\n '__defaults__',\n '__delattr__',\n '__dict__',\n '__dir__',\n '__doc__',\n '__eq__',\n '__format__',\n '__ge__',\n '__get__',\n '__getattribute__',\n '__globals__',\n '__gt__',\n '__hash__',\n '__init__',\n '__init_subclass__',\n '__kwdefaults__',\n '__le__',\n '__lt__',\n '__module__',\n '__name__',\n '__ne__',\n '__new__',\n '__qualname__',\n '__reduce__',\n '__reduce_ex__',\n '__repr__',\n '__setattr__',\n '__sizeof__',\n '__str__',\n '__subclasshook__',\n 'label',\n 'uri']"
        },
        "execution_count": 14,
        "metadata": {},
        "output_type": "execute_result"
       }
      ],
      "source": "dir(assay.data.attributes.technology_type)",
      "start_time": "2019-03-15T13:10:28.890Z"
     },
     {
      "end_time": "2019-03-15T13:11:19.805Z",
      "execution_time": "8ms",
      "outputs": [
       {
        "data": {
         "text/plain": "['__annotations__',\n '__call__',\n '__class__',\n '__closure__',\n '__code__',\n '__defaults__',\n '__delattr__',\n '__dict__',\n '__dir__',\n '__doc__',\n '__eq__',\n '__format__',\n '__ge__',\n '__get__',\n '__getattribute__',\n '__globals__',\n '__gt__',\n '__hash__',\n '__init__',\n '__init_subclass__',\n '__kwdefaults__',\n '__le__',\n '__lt__',\n '__module__',\n '__name__',\n '__ne__',\n '__new__',\n '__qualname__',\n '__reduce__',\n '__reduce_ex__',\n '__repr__',\n '__setattr__',\n '__sizeof__',\n '__str__',\n '__subclasshook__',\n 'creators',\n 'data_files',\n 'documents',\n 'investigation',\n 'models',\n 'organisms',\n 'people',\n 'projects',\n 'publications',\n 'sops',\n 'study',\n 'submitter']"
        },
        "execution_count": 15,
        "metadata": {},
        "output_type": "execute_result"
       }
      ],
      "source": "dir(assay.data.relationships)",
      "start_time": "2019-03-15T13:11:19.797Z"
     },
     {
      "end_time": "2019-03-15T13:16:37.409Z",
      "execution_time": "9ms",
      "outputs": [
       {
        "data": {
         "text/plain": "['__annotations__',\n '__call__',\n '__class__',\n '__closure__',\n '__code__',\n '__defaults__',\n '__delattr__',\n '__dict__',\n '__dir__',\n '__doc__',\n '__eq__',\n '__format__',\n '__ge__',\n '__get__',\n '__getattribute__',\n '__globals__',\n '__gt__',\n '__hash__',\n '__init__',\n '__init_subclass__',\n '__kwdefaults__',\n '__le__',\n '__lt__',\n '__module__',\n '__name__',\n '__ne__',\n '__new__',\n '__qualname__',\n '__reduce__',\n '__reduce_ex__',\n '__repr__',\n '__setattr__',\n '__sizeof__',\n '__str__',\n '__subclasshook__',\n 'assays',\n 'creators',\n 'data_files',\n 'documents',\n 'investigation',\n 'models',\n 'people',\n 'projects',\n 'publications',\n 'sops',\n 'submitter']"
        },
        "execution_count": 22,
        "metadata": {},
        "output_type": "execute_result"
       }
      ],
      "source": "dir(assay.data.relationships)",
      "start_time": "2019-03-15T13:16:37.400Z"
     },
     {
      "end_time": "2019-03-15T13:16:46.081Z",
      "execution_time": "15ms",
      "outputs": [
       {
        "data": {
         "text/plain": "['__annotations__',\n '__call__',\n '__class__',\n '__closure__',\n '__code__',\n '__defaults__',\n '__delattr__',\n '__dict__',\n '__dir__',\n '__doc__',\n '__eq__',\n '__format__',\n '__ge__',\n '__get__',\n '__getattribute__',\n '__globals__',\n '__gt__',\n '__hash__',\n '__init__',\n '__init_subclass__',\n '__kwdefaults__',\n '__le__',\n '__lt__',\n '__module__',\n '__name__',\n '__ne__',\n '__new__',\n '__qualname__',\n '__reduce__',\n '__reduce_ex__',\n '__repr__',\n '__setattr__',\n '__sizeof__',\n '__str__',\n '__subclasshook__',\n 'description',\n 'experimentalists',\n 'other_creators',\n 'person_responsible_id',\n 'snapshots',\n 'title']"
        },
        "execution_count": 23,
        "metadata": {},
        "output_type": "execute_result"
       }
      ],
      "source": "dir(assay.data.attributes)",
      "start_time": "2019-03-15T13:16:46.066Z"
     },
     {
      "end_time": "2019-03-15T13:17:34.596Z",
      "execution_time": "4ms",
      "outputs": [
       {
        "data": {
         "text/plain": "['__bool__',\n '__class__',\n '__delattr__',\n '__dir__',\n '__doc__',\n '__eq__',\n '__format__',\n '__ge__',\n '__getattribute__',\n '__gt__',\n '__hash__',\n '__init__',\n '__init_subclass__',\n '__le__',\n '__lt__',\n '__ne__',\n '__new__',\n '__reduce__',\n '__reduce_ex__',\n '__repr__',\n '__setattr__',\n '__sizeof__',\n '__str__',\n '__subclasshook__']"
        },
        "execution_count": 24,
        "metadata": {},
        "output_type": "execute_result"
       }
      ],
      "source": "dir(assay.data.attributes.experimentalists)",
      "start_time": "2019-03-15T13:17:34.592Z"
     },
     {
      "end_time": "2019-03-15T13:17:38.697Z",
      "execution_time": "12ms",
      "outputs": [
       {
        "data": {
         "text/plain": "['__annotations__',\n '__call__',\n '__class__',\n '__closure__',\n '__code__',\n '__defaults__',\n '__delattr__',\n '__dict__',\n '__dir__',\n '__doc__',\n '__eq__',\n '__format__',\n '__ge__',\n '__get__',\n '__getattribute__',\n '__globals__',\n '__gt__',\n '__hash__',\n '__init__',\n '__init_subclass__',\n '__kwdefaults__',\n '__le__',\n '__lt__',\n '__module__',\n '__name__',\n '__ne__',\n '__new__',\n '__qualname__',\n '__reduce__',\n '__reduce_ex__',\n '__repr__',\n '__setattr__',\n '__sizeof__',\n '__str__',\n '__subclasshook__',\n 'description',\n 'experimentalists',\n 'other_creators',\n 'person_responsible_id',\n 'snapshots',\n 'title']"
        },
        "execution_count": 25,
        "metadata": {},
        "output_type": "execute_result"
       }
      ],
      "source": "dir(assay.data.attributes)",
      "start_time": "2019-03-15T13:17:38.685Z"
     },
     {
      "end_time": "2019-03-15T13:18:30.019Z",
      "execution_time": "13ms",
      "outputs": [
       {
        "data": {
         "text/plain": "['__add__',\n '__class__',\n '__contains__',\n '__delattr__',\n '__dir__',\n '__doc__',\n '__eq__',\n '__format__',\n '__ge__',\n '__getattribute__',\n '__getitem__',\n '__getnewargs__',\n '__gt__',\n '__hash__',\n '__init__',\n '__init_subclass__',\n '__iter__',\n '__le__',\n '__len__',\n '__lt__',\n '__mod__',\n '__mul__',\n '__ne__',\n '__new__',\n '__reduce__',\n '__reduce_ex__',\n '__repr__',\n '__rmod__',\n '__rmul__',\n '__setattr__',\n '__sizeof__',\n '__str__',\n '__subclasshook__',\n 'capitalize',\n 'casefold',\n 'center',\n 'count',\n 'encode',\n 'endswith',\n 'expandtabs',\n 'find',\n 'format',\n 'format_map',\n 'index',\n 'isalnum',\n 'isalpha',\n 'isdecimal',\n 'isdigit',\n 'isidentifier',\n 'islower',\n 'isnumeric',\n 'isprintable',\n 'isspace',\n 'istitle',\n 'isupper',\n 'join',\n 'ljust',\n 'lower',\n 'lstrip',\n 'maketrans',\n 'partition',\n 'replace',\n 'rfind',\n 'rindex',\n 'rjust',\n 'rpartition',\n 'rsplit',\n 'rstrip',\n 'split',\n 'splitlines',\n 'startswith',\n 'strip',\n 'swapcase',\n 'title',\n 'translate',\n 'upper',\n 'zfill']"
        },
        "execution_count": 26,
        "metadata": {},
        "output_type": "execute_result"
       }
      ],
      "source": "dir(assay.data.attributes.person_responsible_id)",
      "start_time": "2019-03-15T13:18:30.006Z"
     },
     {
      "end_time": "2019-03-15T13:18:41.170Z",
      "execution_time": "11ms",
      "outputs": [
       {
        "data": {
         "text/plain": "'491'"
        },
        "execution_count": 27,
        "metadata": {},
        "output_type": "execute_result"
       }
      ],
      "source": "assay.data.attributes.person_responsible_id",
      "start_time": "2019-03-15T13:18:41.159Z"
     },
     {
      "end_time": "2019-03-15T13:19:02.419Z",
      "execution_time": "13ms",
      "outputs": [
       {
        "data": {
         "text/plain": "['__annotations__',\n '__call__',\n '__class__',\n '__closure__',\n '__code__',\n '__defaults__',\n '__delattr__',\n '__dict__',\n '__dir__',\n '__doc__',\n '__eq__',\n '__format__',\n '__ge__',\n '__get__',\n '__getattribute__',\n '__globals__',\n '__gt__',\n '__hash__',\n '__init__',\n '__init_subclass__',\n '__kwdefaults__',\n '__le__',\n '__lt__',\n '__module__',\n '__name__',\n '__ne__',\n '__new__',\n '__qualname__',\n '__reduce__',\n '__reduce_ex__',\n '__repr__',\n '__setattr__',\n '__sizeof__',\n '__str__',\n '__subclasshook__',\n 'attributes',\n 'id',\n 'links',\n 'meta',\n 'relationships',\n 'type']"
        },
        "execution_count": 28,
        "metadata": {},
        "output_type": "execute_result"
       }
      ],
      "source": "dir(assay.data)",
      "start_time": "2019-03-15T13:19:02.406Z"
     },
     {
      "end_time": "2019-03-15T13:19:06.506Z",
      "execution_time": "14ms",
      "outputs": [
       {
        "data": {
         "text/plain": "['__annotations__',\n '__call__',\n '__class__',\n '__closure__',\n '__code__',\n '__defaults__',\n '__delattr__',\n '__dict__',\n '__dir__',\n '__doc__',\n '__eq__',\n '__format__',\n '__ge__',\n '__get__',\n '__getattribute__',\n '__globals__',\n '__gt__',\n '__hash__',\n '__init__',\n '__init_subclass__',\n '__kwdefaults__',\n '__le__',\n '__lt__',\n '__module__',\n '__name__',\n '__ne__',\n '__new__',\n '__qualname__',\n '__reduce__',\n '__reduce_ex__',\n '__repr__',\n '__setattr__',\n '__sizeof__',\n '__str__',\n '__subclasshook__',\n 'assays',\n 'creators',\n 'data_files',\n 'documents',\n 'investigation',\n 'models',\n 'people',\n 'projects',\n 'publications',\n 'sops',\n 'submitter']"
        },
        "execution_count": 29,
        "metadata": {},
        "output_type": "execute_result"
       }
      ],
      "source": "dir(assay.data.relationships)",
      "start_time": "2019-03-15T13:19:06.492Z"
     },
     {
      "end_time": "2019-03-15T14:09:12.710Z",
      "execution_time": "14ms",
      "outputs": [
       {
        "data": {
         "text/plain": "['__annotations__',\n '__call__',\n '__class__',\n '__closure__',\n '__code__',\n '__defaults__',\n '__delattr__',\n '__dict__',\n '__dir__',\n '__doc__',\n '__eq__',\n '__format__',\n '__ge__',\n '__get__',\n '__getattribute__',\n '__globals__',\n '__gt__',\n '__hash__',\n '__init__',\n '__init_subclass__',\n '__kwdefaults__',\n '__le__',\n '__lt__',\n '__module__',\n '__name__',\n '__ne__',\n '__new__',\n '__qualname__',\n '__reduce__',\n '__reduce_ex__',\n '__repr__',\n '__setattr__',\n '__sizeof__',\n '__str__',\n '__subclasshook__',\n 'description',\n 'experimentalists',\n 'other_creators',\n 'person_responsible_id',\n 'snapshots',\n 'title']"
        },
        "execution_count": 30,
        "metadata": {},
        "output_type": "execute_result"
       }
      ],
      "source": "dir(assay.data.attributes)",
      "start_time": "2019-03-15T14:09:12.696Z"
     },
     {
      "end_time": "2019-03-15T14:09:18.998Z",
      "execution_time": "12ms",
      "outputs": [
       {
        "data": {
         "text/plain": "['__bool__',\n '__class__',\n '__delattr__',\n '__dir__',\n '__doc__',\n '__eq__',\n '__format__',\n '__ge__',\n '__getattribute__',\n '__gt__',\n '__hash__',\n '__init__',\n '__init_subclass__',\n '__le__',\n '__lt__',\n '__ne__',\n '__new__',\n '__reduce__',\n '__reduce_ex__',\n '__repr__',\n '__setattr__',\n '__sizeof__',\n '__str__',\n '__subclasshook__']"
        },
        "execution_count": 31,
        "metadata": {},
        "output_type": "execute_result"
       }
      ],
      "source": "dir(assay.data.attributes.snapshots)",
      "start_time": "2019-03-15T14:09:18.986Z"
     },
     {
      "end_time": "2019-03-15T14:09:24.331Z",
      "execution_time": "8ms",
      "outputs": [],
      "source": "assay.data.attributes.snapshots",
      "start_time": "2019-03-15T14:09:24.323Z"
     },
     {
      "end_time": "2019-03-15T16:20:34.369Z",
      "execution_time": "22ms",
      "outputs": [
       {
        "data": {
         "text/plain": "['__class__',\n '__delattr__',\n '__dict__',\n '__dir__',\n '__doc__',\n '__eq__',\n '__format__',\n '__ge__',\n '__getattribute__',\n '__gt__',\n '__hash__',\n '__init__',\n '__init_subclass__',\n '__le__',\n '__lt__',\n '__module__',\n '__ne__',\n '__new__',\n '__reduce__',\n '__reduce_ex__',\n '__repr__',\n '__setattr__',\n '__sizeof__',\n '__str__',\n '__subclasshook__',\n '__weakref__',\n 'base_url',\n 'data',\n 'headers',\n 'loadJSON',\n 'print',\n 'printAttributes',\n 'printRelationships',\n 'request',\n 'session']"
        },
        "execution_count": 33,
        "metadata": {},
        "output_type": "execute_result"
       }
      ],
      "source": "dir(assay)",
      "start_time": "2019-03-15T16:20:34.347Z"
     },
     {
      "end_time": "2019-03-15T16:21:24.694Z",
      "execution_time": "4ms",
      "outputs": [
       {
        "data": {
         "text/plain": "['__class__',\n '__delattr__',\n '__dict__',\n '__dir__',\n '__doc__',\n '__eq__',\n '__format__',\n '__ge__',\n '__getattribute__',\n '__gt__',\n '__hash__',\n '__init__',\n '__init_subclass__',\n '__le__',\n '__lt__',\n '__module__',\n '__ne__',\n '__new__',\n '__reduce__',\n '__reduce_ex__',\n '__repr__',\n '__setattr__',\n '__sizeof__',\n '__str__',\n '__subclasshook__',\n '__weakref__',\n 'base_url',\n 'data',\n 'headers',\n 'json',\n 'loadJSON',\n 'print',\n 'printAttributes',\n 'printRelationships',\n 'request',\n 'session']"
        },
        "execution_count": 2,
        "metadata": {},
        "output_type": "execute_result"
       }
      ],
      "source": "dir(assay)",
      "start_time": "2019-03-15T16:21:24.690Z"
     },
     {
      "end_time": "2019-03-15T16:21:31.198Z",
      "execution_time": "6ms",
      "outputs": [
       {
        "data": {
         "text/plain": "{'data': {'id': '576',\n  'type': 'studies',\n  'attributes': {'snapshots': None,\n   'title': 'Deep Neural Networks Outperform Human Expert’s Capacity in Characterizing Bioleaching Bacterial Biofilm Composition',\n   'description': 'edit later',\n   'experimentalists': None,\n   'other_creators': None,\n   'person_responsible_id': '491'},\n  'relationships': {'creators': {'data': [{'id': '505', 'type': 'people'}]},\n   'submitter': {'data': [{'id': '491', 'type': 'people'}]},\n   'people': {'data': [{'id': '491', 'type': 'people'},\n     {'id': '505', 'type': 'people'}]},\n   'projects': {'data': [{'id': '22', 'type': 'projects'}]},\n   'investigation': {'data': {'id': '281', 'type': 'investigations'}},\n   'assays': {'data': [{'id': '952', 'type': 'assays'},\n     {'id': '953', 'type': 'assays'}]},\n   'data_files': {'data': [{'id': '2811', 'type': 'data_files'},\n     {'id': '2812', 'type': 'data_files'}]},\n   'models': {'data': []},\n   'sops': {'data': []},\n   'publications': {'data': []},\n   'documents': {'data': []}},\n  'links': {'self': '/studies/576'},\n  'meta': {'created': '2019-02-26T12:42:37.000Z',\n   'modified': '2019-03-14T11:11:44.000Z',\n   'api_version': '0.2',\n   'uuid': 'ebfe1100-1bf1-0137-099a-549f350973c0',\n   'base_url': 'https://fairdomhub.org'}},\n 'jsonapi': {'version': '1.0'}}"
        },
        "execution_count": 3,
        "metadata": {},
        "output_type": "execute_result"
       }
      ],
      "source": "assay.json",
      "start_time": "2019-03-15T16:21:31.192Z"
     },
     {
      "end_time": "2019-03-16T12:56:08.354Z",
      "execution_time": "15ms",
      "outputs": [
       {
        "data": {
         "text/plain": "{'data': {'id': '576',\n  'type': 'assays',\n  'attributes': {'snapshots': None,\n   'title': 'PGK 70C model',\n   'description': 'PGK 70C model',\n   'other_creators': None,\n   'assay_class': {'title': 'Modelling Analysis',\n    'key': 'MODEL',\n    'description': None},\n   'assay_type': {'label': 'Model Analysis Type',\n    'uri': 'http://jermontology.org/ontology/JERMOntology#Model_analysis_type'},\n   'technology_type': {'label': None, 'uri': None},\n   'tags': None},\n  'relationships': {'creators': {'data': [{'id': '49', 'type': 'people'}]},\n   'submitter': {'data': [{'id': '49', 'type': 'people'}]},\n   'organisms': {'data': []},\n   'people': {'data': [{'id': '49', 'type': 'people'}]},\n   'projects': {'data': [{'id': '11', 'type': 'projects'},\n     {'id': '16', 'type': 'projects'}]},\n   'investigation': {'data': {'id': '156', 'type': 'investigations'}},\n   'study': {'data': {'id': '288', 'type': 'studies'}},\n   'data_files': {'data': []},\n   'models': {'data': [{'id': '283', 'type': 'models'},\n     {'id': '284', 'type': 'models'}]},\n   'sops': {'data': []},\n   'publications': {'data': []},\n   'documents': {'data': []}},\n  'links': {'self': '/assays/576'},\n  'meta': {'created': '2017-09-29T13:08:54.000Z',\n   'modified': '2017-11-08T14:21:05.000Z',\n   'api_version': '0.2',\n   'uuid': '4505f530-8745-0135-674b-549f350973c0',\n   'base_url': 'https://fairdomhub.org'}},\n 'jsonapi': {'version': '1.0'}}"
        },
        "execution_count": 6,
        "metadata": {},
        "output_type": "execute_result"
       }
      ],
      "source": "assay.json",
      "start_time": "2019-03-16T12:56:08.339Z"
     }
    ]
   },
   "outputs": [
    {
     "data": {
      "text/plain": [
       "{'data': {'id': '576',\n",
       "  'type': 'assays',\n",
       "  'attributes': {'snapshots': None,\n",
       "   'title': 'PGK 70C model',\n",
       "   'description': 'PGK 70C model',\n",
       "   'other_creators': None,\n",
       "   'assay_class': {'title': 'Modelling Analysis',\n",
       "    'key': 'MODEL',\n",
       "    'description': None},\n",
       "   'assay_type': {'label': 'Model Analysis Type',\n",
       "    'uri': 'http://jermontology.org/ontology/JERMOntology#Model_analysis_type'},\n",
       "   'technology_type': {'label': None, 'uri': None},\n",
       "   'tags': None},\n",
       "  'relationships': {'creators': {'data': [{'id': '49', 'type': 'people'}]},\n",
       "   'submitter': {'data': [{'id': '49', 'type': 'people'}]},\n",
       "   'organisms': {'data': []},\n",
       "   'people': {'data': [{'id': '49', 'type': 'people'}]},\n",
       "   'projects': {'data': [{'id': '11', 'type': 'projects'},\n",
       "     {'id': '16', 'type': 'projects'}]},\n",
       "   'investigation': {'data': {'id': '156', 'type': 'investigations'}},\n",
       "   'study': {'data': {'id': '288', 'type': 'studies'}},\n",
       "   'data_files': {'data': []},\n",
       "   'models': {'data': [{'id': '283', 'type': 'models'},\n",
       "     {'id': '284', 'type': 'models'}]},\n",
       "   'sops': {'data': []},\n",
       "   'publications': {'data': []},\n",
       "   'documents': {'data': []}},\n",
       "  'links': {'self': '/assays/576'},\n",
       "  'meta': {'created': '2017-09-29T13:08:54.000Z',\n",
       "   'modified': '2017-11-08T14:21:05.000Z',\n",
       "   'api_version': '0.2',\n",
       "   'uuid': '4505f530-8745-0135-674b-549f350973c0',\n",
       "   'base_url': 'https://fairdomhub.org'}},\n",
       " 'jsonapi': {'version': '1.0'}}"
      ]
     },
     "execution_count": 6,
     "metadata": {},
     "output_type": "execute_result"
    }
   ],
   "source": [
    "assay.json"
   ]
  }
 ],
 "metadata": {
  "kernelspec": {
   "display_name": "Python 3",
   "language": "python",
   "name": "python3"
  },
  "language_info": {
   "codemirror_mode": {
    "name": "ipython",
    "version": 3
   },
   "file_extension": ".py",
   "mimetype": "text/x-python",
   "name": "python",
   "nbconvert_exporter": "python",
   "pygments_lexer": "ipython3",
   "version": "3.6.5"
  }
 },
 "nbformat": 4,
 "nbformat_minor": 2
}
