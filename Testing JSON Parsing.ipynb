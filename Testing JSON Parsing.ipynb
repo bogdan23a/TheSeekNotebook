{
 "cells": [
  {
   "cell_type": "code",
   "execution_count": null,
   "metadata": {
    "ExecutionTime": {
     "end_time": "2019-02-26T14:55:41.830822Z",
     "start_time": "2019-02-26T14:55:40.550854Z"
    },
    "provenance": [
     {
      "end_time": "Unknown",
      "execution_time": "Unknown",
      "outputs": [],
      "source": "",
      "start_time": "Unknown"
     },
     {
      "end_time": "2019-02-26T11:41:10.914Z",
      "execution_time": "1.11s",
      "outputs": [],
      "source": "import json\nimport requests\n\nbase_url = 'http://www.fairdomhub.org/'\n        \nheaders = {\"Content-type\": \"application/vnd.api+json\",\n        \"Accept\": \"application/vnd.api+json\",\n        \"Accept-Charset\": \"ISO-8859-1\"}\n\nsession = requests.Session()\nsession.headers.update(headers)\nsession.auth = (\"asda\",\"asda\")\n        \ntry:\n    r = session.get(base_url + \"assays/753\")\n    r.raise_for_status()\n    json = r.json()\n\nexcept Exception as e:\n    print(str(e))",
      "start_time": "2019-02-26T11:41:09.804Z"
     },
     {
      "end_time": "2019-02-26T11:43:07.961Z",
      "execution_time": "1.03s",
      "outputs": [],
      "source": "import json\nimport requests\n\nbase_url = 'http://www.fairdomhub.org/'\n        \nheaders = {\"Content-type\": \"application/vnd.api+json\",\n        \"Accept\": \"application/vnd.api+json\",\n        \"Accept-Charset\": \"ISO-8859-1\"}\n\nsession = requests.Session()\nsession.headers.update(headers)\nsession.auth = (\"asda\",\"asda\")\n        \ntry:\n    r = session.get(base_url + \"assays/753\")\n    r.raise_for_status()\n    callback = r.json()\n\nexcept Exception as e:\n    print(str(e))",
      "start_time": "2019-02-26T11:43:06.933Z"
     },
     {
      "end_time": "2019-02-26T11:57:46.032Z",
      "execution_time": "1.15s",
      "outputs": [],
      "source": "import json\nimport requests\n\nbase_url = 'http://www.fairdomhub.org/'\n        \nheaders = {\"Content-type\": \"application/vnd.api+json\",\n        \"Accept\": \"application/vnd.api+json\",\n        \"Accept-Charset\": \"ISO-8859-1\"}\n\nsession = requests.Session()\nsession.headers.update(headers)\nsession.auth = (\"asda\",\"asda\")\n        \ntry:\n    r = session.get(base_url + \"assays/753\")\n    r.raise_for_status()\n    callback = r.json()\n\nexcept Exception as e:\n    print(str(e))",
      "start_time": "2019-02-26T11:57:44.886Z"
     },
     {
      "end_time": "2019-02-26T11:58:27.814Z",
      "execution_time": "980ms",
      "outputs": [],
      "source": "import json\nimport requests\n\nbase_url = 'http://www.fairdomhub.org/'\n        \nheaders = {\"Content-type\": \"application/vnd.api+json\",\n        \"Accept\": \"application/vnd.api+json\",\n        \"Accept-Charset\": \"ISO-8859-1\"}\n\nsession = requests.Session()\nsession.headers.update(headers)\nsession.auth = (\"asda\",\"asda\")\n        \ntry:\n    r = session.get(base_url + \"assays/753\")\n    r.raise_for_status()\n    callback = r.json()\n\nexcept Exception as e:\n    print(str(e))",
      "start_time": "2019-02-26T11:58:26.834Z"
     },
     {
      "end_time": "2019-02-26T14:55:41.830Z",
      "execution_time": "1.28s",
      "outputs": [],
      "source": "import json\nimport requests\n\nbase_url = 'http://www.fairdomhub.org/'\n        \nheaders = {\"Content-type\": \"application/vnd.api+json\",\n        \"Accept\": \"application/vnd.api+json\",\n        \"Accept-Charset\": \"ISO-8859-1\"}\n\nsession = requests.Session()\nsession.headers.update(headers)\nsession.auth = (\"asda\",\"asda\")\n        \ntry:\n    r = session.get(base_url + \"assays/753\")\n    r.raise_for_status()\n    callback = r.json()\n\nexcept Exception as e:\n    print(str(e))",
      "start_time": "2019-02-26T14:55:40.550Z"
     }
    ]
   },
   "outputs": [],
   "source": [
    "import json\n",
    "import requests\n",
    "\n",
    "base_url = 'http://www.fairdomhub.org/'\n",
    "        \n",
    "headers = {\"Content-type\": \"application/vnd.api+json\",\n",
    "        \"Accept\": \"application/vnd.api+json\",\n",
    "        \"Accept-Charset\": \"ISO-8859-1\"}\n",
    "\n",
    "session = requests.Session()\n",
    "session.headers.update(headers)\n",
    "session.auth = (\"asda\",\"asda\")\n",
    "        \n",
    "try:\n",
    "    r = session.get(base_url + \"assays/753\")\n",
    "    r.raise_for_status()\n",
    "    callback = r.json()\n",
    "\n",
    "except Exception as e:\n",
    "    print(str(e))"
   ]
  },
  {
   "cell_type": "code",
   "execution_count": null,
   "metadata": {
    "ExecutionTime": {
     "end_time": "2019-02-26T14:20:05.699886Z",
     "start_time": "2019-02-26T14:20:05.689919Z"
    },
    "provenance": [
     {
      "end_time": "2019-02-26T13:15:08.247Z",
      "execution_time": "4ms",
      "outputs": [
       {
        "ename": "SyntaxError",
        "evalue": "invalid syntax (<ipython-input-67-ff62851b9c97>, line 3)",
        "output_type": "error",
        "traceback": [
         "\u001b[0;36m  File \u001b[0;32m\"<ipython-input-67-ff62851b9c97>\"\u001b[0;36m, line \u001b[0;32m3\u001b[0m\n\u001b[0;31m    if !hasattr(layer, 'items'):\u001b[0m\n\u001b[0m       ^\u001b[0m\n\u001b[0;31mSyntaxError\u001b[0m\u001b[0;31m:\u001b[0m invalid syntax\n"
        ]
       }
      ],
      "source": "def parseRecurs(layerName, layer):\n    \n    if !hasattr(layer, 'items'):\n        setattr(self, layerName, layer)\n    \n    parseRecurs(layername, layer[1])",
      "start_time": "2019-02-26T13:15:08.243Z"
     },
     {
      "end_time": "2019-02-26T13:15:17.230Z",
      "execution_time": "8ms",
      "outputs": [],
      "source": "def parseRecurs(layerName, layer):\n    \n    if hasattr(layer, 'items') == False:\n        setattr(self, layerName, layer)\n    \n    parseRecurs(layername, layer[1])",
      "start_time": "2019-02-26T13:15:17.222Z"
     },
     {
      "end_time": "2019-02-26T13:15:55.703Z",
      "execution_time": "3ms",
      "outputs": [],
      "source": "def parseRecurs(layerName, layer):\n    \n    if hasattr(layer, 'items') == False:\n        setattr(self, layerName, layer)\n    \n    parseRecurs(layerName, layer[1])",
      "start_time": "2019-02-26T13:15:55.700Z"
     },
     {
      "end_time": "2019-02-26T13:16:20.115Z",
      "execution_time": "9ms",
      "outputs": [],
      "source": "def parseRecurs(layerName, layer):\n    \n    if hasattr(layer, 'items') == False:\n        setattr(self, layerName, layer)\n    \n    parseRecurs(layerName, layer.items()[1])",
      "start_time": "2019-02-26T13:16:20.106Z"
     },
     {
      "end_time": "2019-02-26T13:35:19.025Z",
      "execution_time": "12ms",
      "outputs": [],
      "source": "def parseRecurs(layerName, layer):\n    \n    if hasattr(layer, 'items') == False:\n        for item in layer:\n            setattr(layerName, str(item[0]), str(item[1]))\n    \n    else:\n        \n        for item in layer.items():\n            parseRecurs(item[0], item[1])",
      "start_time": "2019-02-26T13:35:19.013Z"
     },
     {
      "end_time": "2019-02-26T13:39:48.901Z",
      "execution_time": "4ms",
      "outputs": [],
      "source": "def parseRecurs(layerName, layer):\n    \n    if hasattr(layer, 'items') == False:\n        for key,value in layer.items():\n            setattr(layerName, str(item[0]), str(item[1]))\n    \n    else:\n        \n        for item in layer.items():\n            parseRecurs(item[0], item[1])",
      "start_time": "2019-02-26T13:39:48.897Z"
     },
     {
      "end_time": "2019-02-26T13:40:25.849Z",
      "execution_time": "3ms",
      "outputs": [],
      "source": "def parseRecurs(layerName, layer):\n    \n    if hasattr(layer, 'items') == False:\n        for key,value in layer:\n            setattr(layerName, str(item[0]), str(item[1]))\n    \n    else:\n        \n        for item in layer.items():\n            parseRecurs(item[0], item[1])",
      "start_time": "2019-02-26T13:40:25.846Z"
     },
     {
      "end_time": "2019-02-26T13:40:45.467Z",
      "execution_time": "9ms",
      "outputs": [],
      "source": "def parseRecurs(layerName, layer):\n    \n    if hasattr(layer, 'items') == False:\n        for key in layer:\n            setattr(layerName, str(item[0]), str(item[1]))\n    \n    else:\n        \n        for item in layer.items():\n            parseRecurs(item[0], item[1])",
      "start_time": "2019-02-26T13:40:45.458Z"
     },
     {
      "end_time": "2019-02-26T13:40:53.082Z",
      "execution_time": "6ms",
      "outputs": [],
      "source": "def parseRecurs(layerName, layer):\n    \n    if hasattr(layer, 'items') == False:\n        for key in layer:\n            setattr(layerName, str(key[0]), str(key[1]))\n    \n    else:\n        \n        for item in layer.items():\n            parseRecurs(item[0], item[1])",
      "start_time": "2019-02-26T13:40:53.076Z"
     },
     {
      "end_time": "2019-02-26T13:41:11.520Z",
      "execution_time": "6ms",
      "outputs": [],
      "source": "def parseRecurs(layerName, layer):\n    \n    if hasattr(layer, 'items') == False:\n        for key in layer:\n            print(str(key))\n            setattr(layerName, str(key[0]), str(key[1]))\n    \n    else:\n        \n        for item in layer.items():\n            parseRecurs(item[0], item[1])",
      "start_time": "2019-02-26T13:41:11.514Z"
     },
     {
      "end_time": "2019-02-26T13:41:29.081Z",
      "execution_time": "9ms",
      "outputs": [],
      "source": "def parseRecurs(layerName, layer):\n    \n    if hasattr(layer, 'items') == False:\n        print(layer)\n        for key in layer:\n            print(str(key))\n            setattr(layerName, str(key[0]), str(key[1]))\n    \n    else:\n        \n        for item in layer.items():\n            parseRecurs(item[0], item[1])",
      "start_time": "2019-02-26T13:41:29.072Z"
     },
     {
      "end_time": "2019-02-26T13:42:48.594Z",
      "execution_time": "9ms",
      "outputs": [],
      "source": "def parseRecurs(layerName, layer):\n    \n    if hasattr(layer.items(), 'items') == False:\n        print(layer)\n        for key in layer:\n            print(str(key))\n            setattr(layerName, str(key[0]), str(key[1]))\n    \n    else:\n        \n        for item in layer.items():\n            parseRecurs(item[0], item[1])",
      "start_time": "2019-02-26T13:42:48.585Z"
     },
     {
      "end_time": "2019-02-26T13:43:09.581Z",
      "execution_time": "3ms",
      "outputs": [],
      "source": "def parseRecurs(layerName, layer):\n    \n    if hasattr(layer.items(), 'items') == False:\n        print(layer)\n        for key in layer:\n#             print(str(key))\n            setattr(layerName, str(key[0]), str(key[1]))\n    \n    else:\n        \n        for item in layer.items():\n            parseRecurs(item[0], item[1])",
      "start_time": "2019-02-26T13:43:09.578Z"
     },
     {
      "end_time": "2019-02-26T13:43:32.010Z",
      "execution_time": "10ms",
      "outputs": [],
      "source": "def parseRecurs(layerName, layer):\n    \n    if hasattr(layer.items(), 'items') == False:\n#         print(layer)\n        for key,value in layer:\n            print(str(key))\n            setattr(layerName, str(key), str(value))\n    \n    else:\n        \n        for item in layer.items():\n            parseRecurs(item[0], item[1])",
      "start_time": "2019-02-26T13:43:32.000Z"
     },
     {
      "end_time": "2019-02-26T13:54:10.532Z",
      "execution_time": "9ms",
      "outputs": [],
      "source": "def parseRecurs(layerName, layer):\n    \n    for key, value in layer.items():\n        if hasattr(value, 'items') == False:\n            setattr(layer, key, value)\n            return \n        \n    for item in layer.items():\n        parseRecurs(item[0], item[1])",
      "start_time": "2019-02-26T13:54:10.523Z"
     },
     {
      "end_time": "2019-02-26T13:55:07.167Z",
      "execution_time": "10ms",
      "outputs": [],
      "source": "def parseRecurs(layerName, layer):\n    \n    for key, value in layer.items():\n        if hasattr(value, 'items') == False:\n            print(key + ' ' + value)\n            setattr(layer, key, value)\n            return \n        \n    for item in layer.items():\n        parseRecurs(item[0], item[1])",
      "start_time": "2019-02-26T13:55:07.157Z"
     },
     {
      "end_time": "2019-02-26T13:55:22.361Z",
      "execution_time": "9ms",
      "outputs": [],
      "source": "def parseRecurs(layerName, layer):\n    \n    for key, value in layer.items():\n        if hasattr(value, 'items') == False:\n            print(key + ' ' + value)\n            setattr(layerName, key, value)\n            return \n        \n    for item in layer.items():\n        parseRecurs(item[0], item[1])",
      "start_time": "2019-02-26T13:55:22.352Z"
     },
     {
      "end_time": "2019-02-26T13:57:24.404Z",
      "execution_time": "14ms",
      "outputs": [],
      "source": "def parseRecurs(layerName, layer):\n    \n    for key, value in layer.items():\n        \n        if hasattr(value, 'items') == False:\n            print(key + ' ' + value)\n            setattr(layerName, key, value)\n            return \n        \n        parseRecurs(key, value)",
      "start_time": "2019-02-26T13:57:24.390Z"
     },
     {
      "end_time": "2019-02-26T13:58:27.649Z",
      "execution_time": "10ms",
      "outputs": [],
      "source": "def parseRecurs(layerName, layer):\n    print(layerName + ' ' + layer)\n    for key, value in layer.items():\n        \n        if hasattr(value, 'items') == False:\n            print(key + ' ' + value)\n            setattr(layerName, key, value)\n            return \n        \n        parseRecurs(key, value)",
      "start_time": "2019-02-26T13:58:27.639Z"
     },
     {
      "end_time": "2019-02-26T13:58:44.510Z",
      "execution_time": "15ms",
      "outputs": [],
      "source": "def parseRecurs(layerName, layer):\n    print(str(layerName) + ' ' + str(layer))\n    for key, value in layer.items():\n        \n        if hasattr(value, 'items') == False:\n            print(key + ' ' + value)\n            setattr(layerName, key, value)\n            return \n        \n        parseRecurs(key, value)",
      "start_time": "2019-02-26T13:58:44.495Z"
     },
     {
      "end_time": "2019-02-26T13:59:03.664Z",
      "execution_time": "11ms",
      "outputs": [],
      "source": "def parseRecurs(layerName, layer):\n    print(str(layerName) + '\\n\\n' + str(layer))\n    for key, value in layer.items():\n        \n        if hasattr(value, 'items') == False:\n            print(key + ' ' + value)\n            setattr(layerName, key, value)\n            return \n        \n        parseRecurs(key, value)",
      "start_time": "2019-02-26T13:59:03.653Z"
     },
     {
      "end_time": "2019-02-26T13:59:41.661Z",
      "execution_time": "11ms",
      "outputs": [],
      "source": "def parseRecurs(layerName, layer):\n    print(str(layerName) + '\\n\\n' + str(layer))\n    for key, value in layer.items():\n        \n        if hasattr(value, 'items') == True:\n            parseRecurs(key, value)\n        else:\n            print(key + ' ' + value)\n            setattr(layerName, key, value)\n            return \n        \n        ",
      "start_time": "2019-02-26T13:59:41.650Z"
     },
     {
      "end_time": "2019-02-26T14:00:02.474Z",
      "execution_time": "11ms",
      "outputs": [],
      "source": "def parseRecurs(layerName, layer):\n    print(str(layerName) + '\\n\\n' + str(layer))\n    for key, value in layer.items():\n        \n        if hasattr(value, 'items') == True:\n            parseRecurs(key, value)\n        else:\n#             print(key + ' ' + value)\n            setattr(layerName, key, value)\n            return \n        \n        ",
      "start_time": "2019-02-26T14:00:02.463Z"
     },
     {
      "end_time": "2019-02-26T14:00:31.308Z",
      "execution_time": "5ms",
      "outputs": [],
      "source": "def parseRecurs(layerName, layer):\n#     print(str(layerName) + '\\n\\n' + str(layer))\n    for key, value in layer.items():\n        \n        print(key + ' ' + value)\n        if hasattr(value, 'items') == True:\n            parseRecurs(key, value)\n        else:\n#             print(key + ' ' + value)\n            setattr(layerName, key, value)\n            return \n        \n        ",
      "start_time": "2019-02-26T14:00:31.303Z"
     },
     {
      "end_time": "2019-02-26T14:00:47.408Z",
      "execution_time": "8ms",
      "outputs": [],
      "source": "def parseRecurs(layerName, layer):\n#     print(str(layerName) + '\\n\\n' + str(layer))\n    for key, value in layer.items():\n        \n        print(key + ' ' + value)\n        if hasattr(value, 'items') == True:\n            parseRecurs(key, value)\n        else:\n#             print(key + ' ' + value)\n            setattr(layerName, key, value)\n        \n        ",
      "start_time": "2019-02-26T14:00:47.400Z"
     },
     {
      "end_time": "2019-02-26T14:00:59.040Z",
      "execution_time": "4ms",
      "outputs": [],
      "source": "def parseRecurs(layerName, layer):\n#     print(str(layerName) + '\\n\\n' + str(layer))\n    for key, value in layer.items():\n        \n#         print(key + ' ' + value)\n        if hasattr(value, 'items') == True:\n            parseRecurs(key, value)\n        else:\n#             print(key + ' ' + value)\n            setattr(layerName, key, value)\n        \n        ",
      "start_time": "2019-02-26T14:00:59.036Z"
     },
     {
      "end_time": "2019-02-26T14:03:09.323Z",
      "execution_time": "13ms",
      "outputs": [],
      "source": "def parseRecurs(layerName, layer):\n#     print(str(layerName) + '\\n\\n' + str(layer))\n    for key, value in layer.items():\n        \n#         print(key + ' ' + value)\n        if hasattr(value, 'items') == True:\n            key = lambda: None\n            parseRecurs(key, value)\n        else:\n#             print(key + ' ' + value)\n            setattr(layerName, key, value)\n        \n        ",
      "start_time": "2019-02-26T14:03:09.310Z"
     },
     {
      "end_time": "2019-02-26T14:03:37.358Z",
      "execution_time": "12ms",
      "outputs": [],
      "source": "def parseRecurs(layerName, layer):\n#     print(str(layerName) + '\\n\\n' + str(layer))\n    for key, value in layer.items():\n        \n        print(key + ' ' + value)\n        if hasattr(value, 'items') == True:\n            key = lambda: None\n            parseRecurs(key, value)\n        else:\n#             print(key + ' ' + value)\n            setattr(layerName, key, value)\n        \n        ",
      "start_time": "2019-02-26T14:03:37.346Z"
     },
     {
      "end_time": "2019-02-26T14:03:47.650Z",
      "execution_time": "11ms",
      "outputs": [],
      "source": "def parseRecurs(layerName, layer):\n    print(str(layerName) + '\\n\\n' + str(layer))\n    for key, value in layer.items():\n        \n#         print(key + ' ' + value)\n        if hasattr(value, 'items') == True:\n            key = lambda: None\n            parseRecurs(key, value)\n        else:\n#             print(key + ' ' + value)\n            setattr(layerName, key, value)\n        \n        ",
      "start_time": "2019-02-26T14:03:47.639Z"
     },
     {
      "end_time": "2019-02-26T14:04:20.350Z",
      "execution_time": "9ms",
      "outputs": [],
      "source": "def parseRecurs(layerName, layer):\n    \n    for key, value in layer.items():\n        \n        print(str(key) + ' ' + str(value))\n        if hasattr(value, 'items') == True:\n            key = lambda: None\n            parseRecurs(key, value)\n        else:\n#             print(key + ' ' + value)\n            setattr(layerName, key, value)\n        \n        ",
      "start_time": "2019-02-26T14:04:20.341Z"
     },
     {
      "end_time": "2019-02-26T14:04:51.621Z",
      "execution_time": "4ms",
      "outputs": [],
      "source": "def parseRecurs(layerName, layer):\n    \n    for key, value in layer.items():\n        \n#         print(str(key) + ' ' + str(value))\n        if hasattr(value, 'items') == True:\n            key = lambda: None\n            parseRecurs(key, value)\n        else:\n            print(str(key) + ' ' + str(value))\n            setattr(layerName, key, value)\n        \n        ",
      "start_time": "2019-02-26T14:04:51.617Z"
     },
     {
      "end_time": "2019-02-26T14:09:26.426Z",
      "execution_time": "4ms",
      "outputs": [],
      "source": "def parseRecurs(layerName, layer):\n    \n    for key, value in layer.items():\n        \n#         print(str(key) + ' ' + str(value))\n        if hasattr(value, 'items') == True:\n            key = lambda: None\n            parseRecurs(key, value)\n        else:\n#             print(str(key) + ' ' + str(value))\n            setattr(layerName, key, value)\n            return layerName\n        \n        ",
      "start_time": "2019-02-26T14:09:26.422Z"
     },
     {
      "end_time": "2019-02-26T14:10:12.296Z",
      "execution_time": "3ms",
      "outputs": [],
      "source": "def parseRecurs(layerName, layer):\n    \n    for key, value in layer.items():\n        \n#         print(str(key) + ' ' + str(value))\n        if hasattr(value, 'items') == True:\n            key = lambda: None\n            parseRecurs(key, value)\n        else:\n#             print(str(key) + ' ' + str(value))\n            setattr(layerName, key, value)\n            \n    return layerName\n        \n        ",
      "start_time": "2019-02-26T14:10:12.293Z"
     },
     {
      "end_time": "2019-02-26T14:14:33.507Z",
      "execution_time": "6ms",
      "outputs": [],
      "source": "def parseRecurs(layerName, layer):\n    \n    for key, value in layer.items():\n        \n#         print(str(key) + ' ' + str(value))\n        if hasattr(value, 'items') == True:\n            key = lambda: None\n            \n            setattr(layerName, str(layer), parseRecurs(key, value))\n        else:\n#             print(str(key) + ' ' + str(value))\n            setattr(layerName, key, value)\n            \n    return layerName\n        \n        ",
      "start_time": "2019-02-26T14:14:33.501Z"
     },
     {
      "end_time": "2019-02-26T14:14:58.288Z",
      "execution_time": "8ms",
      "outputs": [],
      "source": "def parseRecurs(layerName, layer):\n    \n    for key, value in layer.items():\n        \n#         print(str(key) + ' ' + str(value))\n        if hasattr(value, 'items') == True:\n            key = lambda: None\n            print(str(layer))\n            setattr(layerName, str(layer), parseRecurs(key, value))\n        else:\n#             print(str(key) + ' ' + str(value))\n            setattr(layerName, key, value)\n            \n    return layerName\n        \n        ",
      "start_time": "2019-02-26T14:14:58.280Z"
     },
     {
      "end_time": "2019-02-26T14:14:58.891Z",
      "execution_time": "360ms",
      "outputs": [],
      "source": "def parseRecurs(layerName, layer):\n    \n    for key, value in layer.items():\n        \n#         print(str(key) + ' ' + str(value))\n        if hasattr(value, 'items') == True:\n            key = lambda: None\n            print(str(layer))\n            setattr(layerName, str(layer), parseRecurs(key, value))\n        else:\n#             print(str(key) + ' ' + str(value))\n            setattr(layerName, key, value)\n            \n    return layerName\n        \n        ",
      "start_time": "2019-02-26T14:14:58.531Z"
     },
     {
      "end_time": "2019-02-26T14:15:06.983Z",
      "execution_time": "4ms",
      "outputs": [],
      "source": "def parseRecurs(layerName, layer):\n    \n    for key, value in layer.items():\n        \n#         print(str(key) + ' ' + str(value))\n        if hasattr(value, 'items') == True:\n            key = lambda: None\n            print(str(layer))\n            setattr(layerName, str(layer), parseRecurs(key, value))\n        else:\n#             print(str(key) + ' ' + str(value))\n            setattr(layerName, key, value)\n            \n    return layerName\n        \n        ",
      "start_time": "2019-02-26T14:15:06.979Z"
     },
     {
      "end_time": "2019-02-26T14:15:29.966Z",
      "execution_time": "12ms",
      "outputs": [],
      "source": "def parseRecurs(layerName, layer):\n    \n    for key, value in layer.items():\n        \n#         print(str(key) + ' ' + str(value))\n        if hasattr(value, 'items') == True:\n            key = lambda: None\n            print(str(layer[0]))\n            setattr(layerName, str(layer), parseRecurs(key, value))\n        else:\n#             print(str(key) + ' ' + str(value))\n            setattr(layerName, key, value)\n            \n    return layerName\n        \n        ",
      "start_time": "2019-02-26T14:15:29.954Z"
     },
     {
      "end_time": "2019-02-26T14:16:13.698Z",
      "execution_time": "16ms",
      "outputs": [],
      "source": "def parseRecurs(layerName, layer):\n    \n    for key, value in layer.items():\n        \n#         print(str(key) + ' ' + str(value))\n        if hasattr(value, 'items') == True:\n            key = lambda: None\n            print(key)\n            setattr(layerName, str(layer), parseRecurs(key, value))\n        else:\n#             print(str(key) + ' ' + str(value))\n            setattr(layerName, key, value)\n            \n    return layerName\n        \n        ",
      "start_time": "2019-02-26T14:16:13.682Z"
     },
     {
      "end_time": "2019-02-26T14:17:01.286Z",
      "execution_time": "4ms",
      "outputs": [],
      "source": "def parseRecurs(layerName, layer):\n    \n    for key, value in layer.items():\n        \n        if hasattr(value, 'items') == True:\n            print(key)\n            key = lambda: None\n            \n            setattr(layerName, str(layer), parseRecurs(key, value))\n        else:\n\n            setattr(layerName, key, value)\n            \n    return layerName\n        \n        ",
      "start_time": "2019-02-26T14:17:01.282Z"
     },
     {
      "end_time": "2019-02-26T14:17:52.436Z",
      "execution_time": "14ms",
      "outputs": [],
      "source": "def parseRecurs(layerName, layer):\n    \n    for key, value in layer.items():\n        \n        if hasattr(value, 'items') == True:\n            print(key)\n#             key = lambda: None\n            \n            setattr(layerName, str(layer), parseRecurs(key, value))\n        else:\n\n            setattr(layerName, key, value)\n            \n    return layerName\n        \n        ",
      "start_time": "2019-02-26T14:17:52.422Z"
     },
     {
      "end_time": "2019-02-26T14:20:05.699Z",
      "execution_time": "10ms",
      "outputs": [],
      "source": "def parseRecurs(layerName, layer):\n    \n    layerName = lambda: None\n    for key, value in layer.items():\n        \n        if hasattr(value, 'items') == True:\n            print(key)\n#             key = lambda: None\n            \n            setattr(layerName, key, parseRecurs(key, value))\n        else:\n\n            setattr(layerName, key, value)\n            \n    return layerName\n        \n        ",
      "start_time": "2019-02-26T14:20:05.689Z"
     }
    ]
   },
   "outputs": [],
   "source": [
    "def parseRecurs(layerName, layer):\n",
    "    \n",
    "    layerName = lambda: None\n",
    "    for key, value in layer.items():\n",
    "        \n",
    "        if hasattr(value, 'items') == True:\n",
    "            \n",
    "            setattr(layerName, key, parseRecurs(key, value))\n",
    "        else:\n",
    "\n",
    "            setattr(layerName, key, value)\n",
    "            \n",
    "    return layerName\n",
    "        \n",
    "        "
   ]
  },
  {
   "cell_type": "code",
   "execution_count": null,
   "metadata": {
    "ExecutionTime": {
     "end_time": "2019-02-26T14:20:06.979053Z",
     "start_time": "2019-02-26T14:20:06.971487Z"
    },
    "provenance": [
     {
      "end_time": "2019-02-26T13:15:47.734Z",
      "execution_time": "33ms",
      "outputs": [
       {
        "ename": "NameError",
        "evalue": "name 'layername' is not defined",
        "output_type": "error",
        "traceback": [
         "\u001b[0;31m---------------------------------------------------------------------------\u001b[0m",
         "\u001b[0;31mNameError\u001b[0m                                 Traceback (most recent call last)",
         "\u001b[0;32m<ipython-input-69-53eb5e04ac49>\u001b[0m in \u001b[0;36m<module>\u001b[0;34m()\u001b[0m\n\u001b[0;32m----> 1\u001b[0;31m \u001b[0mparseRecurs\u001b[0m\u001b[0;34m(\u001b[0m\u001b[0;34m'story'\u001b[0m\u001b[0;34m,\u001b[0m \u001b[0mcallback\u001b[0m\u001b[0;34m)\u001b[0m\u001b[0;34m\u001b[0m\u001b[0m\n\u001b[0m",
         "\u001b[0;32m<ipython-input-68-4478aca69eac>\u001b[0m in \u001b[0;36mparseRecurs\u001b[0;34m(layerName, layer)\u001b[0m\n\u001b[1;32m      4\u001b[0m         \u001b[0msetattr\u001b[0m\u001b[0;34m(\u001b[0m\u001b[0mself\u001b[0m\u001b[0;34m,\u001b[0m \u001b[0mlayerName\u001b[0m\u001b[0;34m,\u001b[0m \u001b[0mlayer\u001b[0m\u001b[0;34m)\u001b[0m\u001b[0;34m\u001b[0m\u001b[0m\n\u001b[1;32m      5\u001b[0m \u001b[0;34m\u001b[0m\u001b[0m\n\u001b[0;32m----> 6\u001b[0;31m     \u001b[0mparseRecurs\u001b[0m\u001b[0;34m(\u001b[0m\u001b[0mlayername\u001b[0m\u001b[0;34m,\u001b[0m \u001b[0mlayer\u001b[0m\u001b[0;34m[\u001b[0m\u001b[0;36m1\u001b[0m\u001b[0;34m]\u001b[0m\u001b[0;34m)\u001b[0m\u001b[0;34m\u001b[0m\u001b[0m\n\u001b[0m",
         "\u001b[0;31mNameError\u001b[0m: name 'layername' is not defined"
        ]
       }
      ],
      "source": "parseRecurs('story', callback)",
      "start_time": "2019-02-26T13:15:47.701Z"
     },
     {
      "end_time": "2019-02-26T13:15:57.493Z",
      "execution_time": "28ms",
      "outputs": [
       {
        "ename": "KeyError",
        "evalue": "1",
        "output_type": "error",
        "traceback": [
         "\u001b[0;31m---------------------------------------------------------------------------\u001b[0m",
         "\u001b[0;31mKeyError\u001b[0m                                  Traceback (most recent call last)",
         "\u001b[0;32m<ipython-input-71-53eb5e04ac49>\u001b[0m in \u001b[0;36m<module>\u001b[0;34m()\u001b[0m\n\u001b[0;32m----> 1\u001b[0;31m \u001b[0mparseRecurs\u001b[0m\u001b[0;34m(\u001b[0m\u001b[0;34m'story'\u001b[0m\u001b[0;34m,\u001b[0m \u001b[0mcallback\u001b[0m\u001b[0;34m)\u001b[0m\u001b[0;34m\u001b[0m\u001b[0m\n\u001b[0m",
         "\u001b[0;32m<ipython-input-70-c36bc5b9f21c>\u001b[0m in \u001b[0;36mparseRecurs\u001b[0;34m(layerName, layer)\u001b[0m\n\u001b[1;32m      4\u001b[0m         \u001b[0msetattr\u001b[0m\u001b[0;34m(\u001b[0m\u001b[0mself\u001b[0m\u001b[0;34m,\u001b[0m \u001b[0mlayerName\u001b[0m\u001b[0;34m,\u001b[0m \u001b[0mlayer\u001b[0m\u001b[0;34m)\u001b[0m\u001b[0;34m\u001b[0m\u001b[0m\n\u001b[1;32m      5\u001b[0m \u001b[0;34m\u001b[0m\u001b[0m\n\u001b[0;32m----> 6\u001b[0;31m     \u001b[0mparseRecurs\u001b[0m\u001b[0;34m(\u001b[0m\u001b[0mlayerName\u001b[0m\u001b[0;34m,\u001b[0m \u001b[0mlayer\u001b[0m\u001b[0;34m[\u001b[0m\u001b[0;36m1\u001b[0m\u001b[0;34m]\u001b[0m\u001b[0;34m)\u001b[0m\u001b[0;34m\u001b[0m\u001b[0m\n\u001b[0m",
         "\u001b[0;31mKeyError\u001b[0m: 1"
        ]
       }
      ],
      "source": "parseRecurs('story', callback)",
      "start_time": "2019-02-26T13:15:57.465Z"
     },
     {
      "end_time": "2019-02-26T13:16:10.400Z",
      "execution_time": "14ms",
      "outputs": [
       {
        "ename": "KeyError",
        "evalue": "1",
        "output_type": "error",
        "traceback": [
         "\u001b[0;31m---------------------------------------------------------------------------\u001b[0m",
         "\u001b[0;31mKeyError\u001b[0m                                  Traceback (most recent call last)",
         "\u001b[0;32m<ipython-input-72-d243239dc97a>\u001b[0m in \u001b[0;36m<module>\u001b[0;34m()\u001b[0m\n\u001b[0;32m----> 1\u001b[0;31m \u001b[0mparseRecurs\u001b[0m\u001b[0;34m(\u001b[0m\u001b[0;34m'story'\u001b[0m\u001b[0;34m,\u001b[0m \u001b[0mcallback\u001b[0m\u001b[0;34m[\u001b[0m\u001b[0;34m'data'\u001b[0m\u001b[0;34m]\u001b[0m\u001b[0;34m)\u001b[0m\u001b[0;34m\u001b[0m\u001b[0m\n\u001b[0m",
         "\u001b[0;32m<ipython-input-70-c36bc5b9f21c>\u001b[0m in \u001b[0;36mparseRecurs\u001b[0;34m(layerName, layer)\u001b[0m\n\u001b[1;32m      4\u001b[0m         \u001b[0msetattr\u001b[0m\u001b[0;34m(\u001b[0m\u001b[0mself\u001b[0m\u001b[0;34m,\u001b[0m \u001b[0mlayerName\u001b[0m\u001b[0;34m,\u001b[0m \u001b[0mlayer\u001b[0m\u001b[0;34m)\u001b[0m\u001b[0;34m\u001b[0m\u001b[0m\n\u001b[1;32m      5\u001b[0m \u001b[0;34m\u001b[0m\u001b[0m\n\u001b[0;32m----> 6\u001b[0;31m     \u001b[0mparseRecurs\u001b[0m\u001b[0;34m(\u001b[0m\u001b[0mlayerName\u001b[0m\u001b[0;34m,\u001b[0m \u001b[0mlayer\u001b[0m\u001b[0;34m[\u001b[0m\u001b[0;36m1\u001b[0m\u001b[0;34m]\u001b[0m\u001b[0;34m)\u001b[0m\u001b[0;34m\u001b[0m\u001b[0m\n\u001b[0m",
         "\u001b[0;31mKeyError\u001b[0m: 1"
        ]
       }
      ],
      "source": "parseRecurs('story', callback['data'])",
      "start_time": "2019-02-26T13:16:10.386Z"
     },
     {
      "end_time": "2019-02-26T13:16:21.853Z",
      "execution_time": "37ms",
      "outputs": [
       {
        "ename": "TypeError",
        "evalue": "'dict_items' object does not support indexing",
        "output_type": "error",
        "traceback": [
         "\u001b[0;31m---------------------------------------------------------------------------\u001b[0m",
         "\u001b[0;31mTypeError\u001b[0m                                 Traceback (most recent call last)",
         "\u001b[0;32m<ipython-input-74-d243239dc97a>\u001b[0m in \u001b[0;36m<module>\u001b[0;34m()\u001b[0m\n\u001b[0;32m----> 1\u001b[0;31m \u001b[0mparseRecurs\u001b[0m\u001b[0;34m(\u001b[0m\u001b[0;34m'story'\u001b[0m\u001b[0;34m,\u001b[0m \u001b[0mcallback\u001b[0m\u001b[0;34m[\u001b[0m\u001b[0;34m'data'\u001b[0m\u001b[0;34m]\u001b[0m\u001b[0;34m)\u001b[0m\u001b[0;34m\u001b[0m\u001b[0m\n\u001b[0m",
         "\u001b[0;32m<ipython-input-73-c54051d28059>\u001b[0m in \u001b[0;36mparseRecurs\u001b[0;34m(layerName, layer)\u001b[0m\n\u001b[1;32m      4\u001b[0m         \u001b[0msetattr\u001b[0m\u001b[0;34m(\u001b[0m\u001b[0mself\u001b[0m\u001b[0;34m,\u001b[0m \u001b[0mlayerName\u001b[0m\u001b[0;34m,\u001b[0m \u001b[0mlayer\u001b[0m\u001b[0;34m)\u001b[0m\u001b[0;34m\u001b[0m\u001b[0m\n\u001b[1;32m      5\u001b[0m \u001b[0;34m\u001b[0m\u001b[0m\n\u001b[0;32m----> 6\u001b[0;31m     \u001b[0mparseRecurs\u001b[0m\u001b[0;34m(\u001b[0m\u001b[0mlayerName\u001b[0m\u001b[0;34m,\u001b[0m \u001b[0mlayer\u001b[0m\u001b[0;34m.\u001b[0m\u001b[0mitems\u001b[0m\u001b[0;34m(\u001b[0m\u001b[0;34m)\u001b[0m\u001b[0;34m[\u001b[0m\u001b[0;36m1\u001b[0m\u001b[0;34m]\u001b[0m\u001b[0;34m)\u001b[0m\u001b[0;34m\u001b[0m\u001b[0m\n\u001b[0m",
         "\u001b[0;31mTypeError\u001b[0m: 'dict_items' object does not support indexing"
        ]
       }
      ],
      "source": "parseRecurs('story', callback['data'])",
      "start_time": "2019-02-26T13:16:21.816Z"
     },
     {
      "end_time": "2019-02-26T13:33:54.484Z",
      "execution_time": "7ms",
      "outputs": [],
      "source": "example = '{ \"name\":\"John\", \"age\":30, \"city\":\"New York\", \"attributes\" : {\"alba\":\"neagra\",\"neagra\":\"alba\"}}'\nexample = json.dumps(example)\n",
      "start_time": "2019-02-26T13:33:54.477Z"
     },
     {
      "end_time": "2019-02-26T13:33:57.787Z",
      "execution_time": "11ms",
      "outputs": [
       {
        "data": {
         "text/plain": "'\"{ \\\\\"name\\\\\":\\\\\"John\\\\\", \\\\\"age\\\\\":30, \\\\\"city\\\\\":\\\\\"New York\\\\\", \\\\\"attributes\\\\\" : {\\\\\"alba\\\\\":\\\\\"neagra\\\\\",\\\\\"neagra\\\\\":\\\\\"alba\\\\\"}}\"'"
        },
        "execution_count": 82,
        "metadata": {},
        "output_type": "execute_result"
       }
      ],
      "source": "example = '{ \"name\":\"John\", \"age\":30, \"city\":\"New York\", \"attributes\" : {\"alba\":\"neagra\",\"neagra\":\"alba\"}}'\nexample = json.dumps(example)\nexample",
      "start_time": "2019-02-26T13:33:57.776Z"
     },
     {
      "end_time": "2019-02-26T13:34:22.571Z",
      "execution_time": "18ms",
      "outputs": [
       {
        "data": {
         "text/plain": "'\"{\\\\\"name\\\\\":\\\\\"John\\\\\",\\\\\"age\\\\\":30,\\\\\"city\\\\\":\\\\\"New York\\\\\",\\\\\"attributes\\\\\":{\\\\\"alba\\\\\":\\\\\"neagra\\\\\",\\\\\"neagra\\\\\":\\\\\"alba\\\\\"}}\"'"
        },
        "execution_count": 83,
        "metadata": {},
        "output_type": "execute_result"
       }
      ],
      "source": "example = '{\"name\":\"John\",\"age\":30,\"city\":\"New York\",\"attributes\":{\"alba\":\"neagra\",\"neagra\":\"alba\"}}'\nexample = json.dumps(example)\nexample",
      "start_time": "2019-02-26T13:34:22.553Z"
     },
     {
      "end_time": "2019-02-26T13:34:55.066Z",
      "execution_time": "27ms",
      "outputs": [
       {
        "ename": "NameError",
        "evalue": "name 'self' is not defined",
        "output_type": "error",
        "traceback": [
         "\u001b[0;31m---------------------------------------------------------------------------\u001b[0m",
         "\u001b[0;31mNameError\u001b[0m                                 Traceback (most recent call last)",
         "\u001b[0;32m<ipython-input-84-9f694ef4bf52>\u001b[0m in \u001b[0;36m<module>\u001b[0;34m()\u001b[0m\n\u001b[1;32m      4\u001b[0m \u001b[0mexample\u001b[0m \u001b[0;34m=\u001b[0m \u001b[0;34m'{\"name\":\"John\",\"age\":30,\"city\":\"New York\",\"attributes\":{\"alba\":\"neagra\",\"neagra\":\"alba\"}}'\u001b[0m\u001b[0;34m\u001b[0m\u001b[0m\n\u001b[1;32m      5\u001b[0m \u001b[0mexample\u001b[0m \u001b[0;34m=\u001b[0m \u001b[0mjson\u001b[0m\u001b[0;34m.\u001b[0m\u001b[0mdumps\u001b[0m\u001b[0;34m(\u001b[0m\u001b[0mexample\u001b[0m\u001b[0;34m)\u001b[0m\u001b[0;34m\u001b[0m\u001b[0m\n\u001b[0;32m----> 6\u001b[0;31m \u001b[0mparseRecurs\u001b[0m\u001b[0;34m(\u001b[0m\u001b[0mresult\u001b[0m\u001b[0;34m,\u001b[0m\u001b[0mexample\u001b[0m\u001b[0;34m)\u001b[0m\u001b[0;34m\u001b[0m\u001b[0m\n\u001b[0m",
         "\u001b[0;32m<ipython-input-73-c54051d28059>\u001b[0m in \u001b[0;36mparseRecurs\u001b[0;34m(layerName, layer)\u001b[0m\n\u001b[1;32m      2\u001b[0m \u001b[0;34m\u001b[0m\u001b[0m\n\u001b[1;32m      3\u001b[0m     \u001b[0;32mif\u001b[0m \u001b[0mhasattr\u001b[0m\u001b[0;34m(\u001b[0m\u001b[0mlayer\u001b[0m\u001b[0;34m,\u001b[0m \u001b[0;34m'items'\u001b[0m\u001b[0;34m)\u001b[0m \u001b[0;34m==\u001b[0m \u001b[0;32mFalse\u001b[0m\u001b[0;34m:\u001b[0m\u001b[0;34m\u001b[0m\u001b[0m\n\u001b[0;32m----> 4\u001b[0;31m         \u001b[0msetattr\u001b[0m\u001b[0;34m(\u001b[0m\u001b[0mself\u001b[0m\u001b[0;34m,\u001b[0m \u001b[0mlayerName\u001b[0m\u001b[0;34m,\u001b[0m \u001b[0mlayer\u001b[0m\u001b[0;34m)\u001b[0m\u001b[0;34m\u001b[0m\u001b[0m\n\u001b[0m\u001b[1;32m      5\u001b[0m \u001b[0;34m\u001b[0m\u001b[0m\n\u001b[1;32m      6\u001b[0m     \u001b[0mparseRecurs\u001b[0m\u001b[0;34m(\u001b[0m\u001b[0mlayerName\u001b[0m\u001b[0;34m,\u001b[0m \u001b[0mlayer\u001b[0m\u001b[0;34m.\u001b[0m\u001b[0mitems\u001b[0m\u001b[0;34m(\u001b[0m\u001b[0;34m)\u001b[0m\u001b[0;34m[\u001b[0m\u001b[0;36m1\u001b[0m\u001b[0;34m]\u001b[0m\u001b[0;34m)\u001b[0m\u001b[0;34m\u001b[0m\u001b[0m\n",
         "\u001b[0;31mNameError\u001b[0m: name 'self' is not defined"
        ]
       }
      ],
      "source": "result = object()\nresult = lambda: None\n\nexample = '{\"name\":\"John\",\"age\":30,\"city\":\"New York\",\"attributes\":{\"alba\":\"neagra\",\"neagra\":\"alba\"}}'\nexample = json.dumps(example)\nparseRecurs(result,example)",
      "start_time": "2019-02-26T13:34:55.039Z"
     },
     {
      "end_time": "2019-02-26T13:35:19.976Z",
      "execution_time": "12ms",
      "outputs": [
       {
        "ename": "IndexError",
        "evalue": "string index out of range",
        "output_type": "error",
        "traceback": [
         "\u001b[0;31m---------------------------------------------------------------------------\u001b[0m",
         "\u001b[0;31mIndexError\u001b[0m                                Traceback (most recent call last)",
         "\u001b[0;32m<ipython-input-86-9f694ef4bf52>\u001b[0m in \u001b[0;36m<module>\u001b[0;34m()\u001b[0m\n\u001b[1;32m      4\u001b[0m \u001b[0mexample\u001b[0m \u001b[0;34m=\u001b[0m \u001b[0;34m'{\"name\":\"John\",\"age\":30,\"city\":\"New York\",\"attributes\":{\"alba\":\"neagra\",\"neagra\":\"alba\"}}'\u001b[0m\u001b[0;34m\u001b[0m\u001b[0m\n\u001b[1;32m      5\u001b[0m \u001b[0mexample\u001b[0m \u001b[0;34m=\u001b[0m \u001b[0mjson\u001b[0m\u001b[0;34m.\u001b[0m\u001b[0mdumps\u001b[0m\u001b[0;34m(\u001b[0m\u001b[0mexample\u001b[0m\u001b[0;34m)\u001b[0m\u001b[0;34m\u001b[0m\u001b[0m\n\u001b[0;32m----> 6\u001b[0;31m \u001b[0mparseRecurs\u001b[0m\u001b[0;34m(\u001b[0m\u001b[0mresult\u001b[0m\u001b[0;34m,\u001b[0m\u001b[0mexample\u001b[0m\u001b[0;34m)\u001b[0m\u001b[0;34m\u001b[0m\u001b[0m\n\u001b[0m",
         "\u001b[0;32m<ipython-input-85-1f60921a6543>\u001b[0m in \u001b[0;36mparseRecurs\u001b[0;34m(layerName, layer)\u001b[0m\n\u001b[1;32m      3\u001b[0m     \u001b[0;32mif\u001b[0m \u001b[0mhasattr\u001b[0m\u001b[0;34m(\u001b[0m\u001b[0mlayer\u001b[0m\u001b[0;34m,\u001b[0m \u001b[0;34m'items'\u001b[0m\u001b[0;34m)\u001b[0m \u001b[0;34m==\u001b[0m \u001b[0;32mFalse\u001b[0m\u001b[0;34m:\u001b[0m\u001b[0;34m\u001b[0m\u001b[0m\n\u001b[1;32m      4\u001b[0m         \u001b[0;32mfor\u001b[0m \u001b[0mitem\u001b[0m \u001b[0;32min\u001b[0m \u001b[0mlayer\u001b[0m\u001b[0;34m:\u001b[0m\u001b[0;34m\u001b[0m\u001b[0m\n\u001b[0;32m----> 5\u001b[0;31m             \u001b[0msetattr\u001b[0m\u001b[0;34m(\u001b[0m\u001b[0mlayerName\u001b[0m\u001b[0;34m,\u001b[0m \u001b[0mstr\u001b[0m\u001b[0;34m(\u001b[0m\u001b[0mitem\u001b[0m\u001b[0;34m[\u001b[0m\u001b[0;36m0\u001b[0m\u001b[0;34m]\u001b[0m\u001b[0;34m)\u001b[0m\u001b[0;34m,\u001b[0m \u001b[0mstr\u001b[0m\u001b[0;34m(\u001b[0m\u001b[0mitem\u001b[0m\u001b[0;34m[\u001b[0m\u001b[0;36m1\u001b[0m\u001b[0;34m]\u001b[0m\u001b[0;34m)\u001b[0m\u001b[0;34m)\u001b[0m\u001b[0;34m\u001b[0m\u001b[0m\n\u001b[0m\u001b[1;32m      6\u001b[0m \u001b[0;34m\u001b[0m\u001b[0m\n\u001b[1;32m      7\u001b[0m     \u001b[0;32melse\u001b[0m\u001b[0;34m:\u001b[0m\u001b[0;34m\u001b[0m\u001b[0m\n",
         "\u001b[0;31mIndexError\u001b[0m: string index out of range"
        ]
       }
      ],
      "source": "result = object()\nresult = lambda: None\n\nexample = '{\"name\":\"John\",\"age\":30,\"city\":\"New York\",\"attributes\":{\"alba\":\"neagra\",\"neagra\":\"alba\"}}'\nexample = json.dumps(example)\nparseRecurs(result,example)",
      "start_time": "2019-02-26T13:35:19.964Z"
     },
     {
      "end_time": "2019-02-26T13:36:14.406Z",
      "execution_time": "19ms",
      "outputs": [
       {
        "ename": "TypeError",
        "evalue": "string indices must be integers",
        "output_type": "error",
        "traceback": [
         "\u001b[0;31m---------------------------------------------------------------------------\u001b[0m",
         "\u001b[0;31mTypeError\u001b[0m                                 Traceback (most recent call last)",
         "\u001b[0;32m<ipython-input-87-10b11873942a>\u001b[0m in \u001b[0;36m<module>\u001b[0;34m()\u001b[0m\n\u001b[1;32m      4\u001b[0m \u001b[0mexample\u001b[0m \u001b[0;34m=\u001b[0m \u001b[0;34m'{\"name\":\"John\",\"age\":30,\"city\":\"New York\",\"attributes\":{\"alba\":\"neagra\",\"neagra\":\"alba\"}}'\u001b[0m\u001b[0;34m\u001b[0m\u001b[0m\n\u001b[1;32m      5\u001b[0m \u001b[0mexample\u001b[0m \u001b[0;34m=\u001b[0m \u001b[0mjson\u001b[0m\u001b[0;34m.\u001b[0m\u001b[0mdumps\u001b[0m\u001b[0;34m(\u001b[0m\u001b[0mexample\u001b[0m\u001b[0;34m)\u001b[0m\u001b[0;34m\u001b[0m\u001b[0m\n\u001b[0;32m----> 6\u001b[0;31m \u001b[0mexample\u001b[0m\u001b[0;34m[\u001b[0m\u001b[0;36m0\u001b[0m\u001b[0;34m]\u001b[0m\u001b[0;34m[\u001b[0m\u001b[0;34m'name'\u001b[0m\u001b[0;34m]\u001b[0m\u001b[0;34m\u001b[0m\u001b[0m\n\u001b[0m",
         "\u001b[0;31mTypeError\u001b[0m: string indices must be integers"
        ]
       }
      ],
      "source": "result = object()\nresult = lambda: None\n\nexample = '{\"name\":\"John\",\"age\":30,\"city\":\"New York\",\"attributes\":{\"alba\":\"neagra\",\"neagra\":\"alba\"}}'\nexample = json.dumps(example)\nexample[0]['name']",
      "start_time": "2019-02-26T13:36:14.387Z"
     },
     {
      "end_time": "2019-02-26T13:36:20.102Z",
      "execution_time": "14ms",
      "outputs": [
       {
        "data": {
         "text/plain": "'\"'"
        },
        "execution_count": 88,
        "metadata": {},
        "output_type": "execute_result"
       }
      ],
      "source": "result = object()\nresult = lambda: None\n\nexample = '{\"name\":\"John\",\"age\":30,\"city\":\"New York\",\"attributes\":{\"alba\":\"neagra\",\"neagra\":\"alba\"}}'\nexample = json.dumps(example)\nexample[0][0]",
      "start_time": "2019-02-26T13:36:20.088Z"
     },
     {
      "end_time": "2019-02-26T13:36:45.041Z",
      "execution_time": "25ms",
      "outputs": [
       {
        "ename": "TypeError",
        "evalue": "parseRecurs() missing 1 required positional argument: 'layer'",
        "output_type": "error",
        "traceback": [
         "\u001b[0;31m---------------------------------------------------------------------------\u001b[0m",
         "\u001b[0;31mTypeError\u001b[0m                                 Traceback (most recent call last)",
         "\u001b[0;32m<ipython-input-89-519575373687>\u001b[0m in \u001b[0;36m<module>\u001b[0;34m()\u001b[0m\n\u001b[1;32m      5\u001b[0m \u001b[0;31m# example = json.dumps(example)\u001b[0m\u001b[0;34m\u001b[0m\u001b[0;34m\u001b[0m\u001b[0m\n\u001b[1;32m      6\u001b[0m \u001b[0;34m\u001b[0m\u001b[0m\n\u001b[0;32m----> 7\u001b[0;31m \u001b[0mparseRecurs\u001b[0m\u001b[0;34m(\u001b[0m\u001b[0mcallback\u001b[0m\u001b[0;34m)\u001b[0m\u001b[0;34m\u001b[0m\u001b[0m\n\u001b[0m",
         "\u001b[0;31mTypeError\u001b[0m: parseRecurs() missing 1 required positional argument: 'layer'"
        ]
       }
      ],
      "source": "result = object()\nresult = lambda: None\n\n# example = '{\"name\":\"John\",\"age\":30,\"city\":\"New York\",\"attributes\":{\"alba\":\"neagra\",\"neagra\":\"alba\"}}'\n# example = json.dumps(example)\n\nparseRecurs(callback)",
      "start_time": "2019-02-26T13:36:45.016Z"
     },
     {
      "end_time": "2019-02-26T13:36:50.472Z",
      "execution_time": "34ms",
      "outputs": [
       {
        "ename": "IndexError",
        "evalue": "string index out of range",
        "output_type": "error",
        "traceback": [
         "\u001b[0;31m---------------------------------------------------------------------------\u001b[0m",
         "\u001b[0;31mIndexError\u001b[0m                                Traceback (most recent call last)",
         "\u001b[0;32m<ipython-input-90-ef00c1a861c7>\u001b[0m in \u001b[0;36m<module>\u001b[0;34m()\u001b[0m\n\u001b[1;32m      5\u001b[0m \u001b[0;31m# example = json.dumps(example)\u001b[0m\u001b[0;34m\u001b[0m\u001b[0;34m\u001b[0m\u001b[0m\n\u001b[1;32m      6\u001b[0m \u001b[0;34m\u001b[0m\u001b[0m\n\u001b[0;32m----> 7\u001b[0;31m \u001b[0mparseRecurs\u001b[0m\u001b[0;34m(\u001b[0m\u001b[0mresult\u001b[0m\u001b[0;34m,\u001b[0m\u001b[0mcallback\u001b[0m\u001b[0;34m)\u001b[0m\u001b[0;34m\u001b[0m\u001b[0m\n\u001b[0m",
         "\u001b[0;32m<ipython-input-85-1f60921a6543>\u001b[0m in \u001b[0;36mparseRecurs\u001b[0;34m(layerName, layer)\u001b[0m\n\u001b[1;32m      8\u001b[0m \u001b[0;34m\u001b[0m\u001b[0m\n\u001b[1;32m      9\u001b[0m         \u001b[0;32mfor\u001b[0m \u001b[0mitem\u001b[0m \u001b[0;32min\u001b[0m \u001b[0mlayer\u001b[0m\u001b[0;34m.\u001b[0m\u001b[0mitems\u001b[0m\u001b[0;34m(\u001b[0m\u001b[0;34m)\u001b[0m\u001b[0;34m:\u001b[0m\u001b[0;34m\u001b[0m\u001b[0m\n\u001b[0;32m---> 10\u001b[0;31m             \u001b[0mparseRecurs\u001b[0m\u001b[0;34m(\u001b[0m\u001b[0mitem\u001b[0m\u001b[0;34m[\u001b[0m\u001b[0;36m0\u001b[0m\u001b[0;34m]\u001b[0m\u001b[0;34m,\u001b[0m \u001b[0mitem\u001b[0m\u001b[0;34m[\u001b[0m\u001b[0;36m1\u001b[0m\u001b[0;34m]\u001b[0m\u001b[0;34m)\u001b[0m\u001b[0;34m\u001b[0m\u001b[0m\n\u001b[0m",
         "\u001b[0;32m<ipython-input-85-1f60921a6543>\u001b[0m in \u001b[0;36mparseRecurs\u001b[0;34m(layerName, layer)\u001b[0m\n\u001b[1;32m      8\u001b[0m \u001b[0;34m\u001b[0m\u001b[0m\n\u001b[1;32m      9\u001b[0m         \u001b[0;32mfor\u001b[0m \u001b[0mitem\u001b[0m \u001b[0;32min\u001b[0m \u001b[0mlayer\u001b[0m\u001b[0;34m.\u001b[0m\u001b[0mitems\u001b[0m\u001b[0;34m(\u001b[0m\u001b[0;34m)\u001b[0m\u001b[0;34m:\u001b[0m\u001b[0;34m\u001b[0m\u001b[0m\n\u001b[0;32m---> 10\u001b[0;31m             \u001b[0mparseRecurs\u001b[0m\u001b[0;34m(\u001b[0m\u001b[0mitem\u001b[0m\u001b[0;34m[\u001b[0m\u001b[0;36m0\u001b[0m\u001b[0;34m]\u001b[0m\u001b[0;34m,\u001b[0m \u001b[0mitem\u001b[0m\u001b[0;34m[\u001b[0m\u001b[0;36m1\u001b[0m\u001b[0;34m]\u001b[0m\u001b[0;34m)\u001b[0m\u001b[0;34m\u001b[0m\u001b[0m\n\u001b[0m",
         "\u001b[0;32m<ipython-input-85-1f60921a6543>\u001b[0m in \u001b[0;36mparseRecurs\u001b[0;34m(layerName, layer)\u001b[0m\n\u001b[1;32m      3\u001b[0m     \u001b[0;32mif\u001b[0m \u001b[0mhasattr\u001b[0m\u001b[0;34m(\u001b[0m\u001b[0mlayer\u001b[0m\u001b[0;34m,\u001b[0m \u001b[0;34m'items'\u001b[0m\u001b[0;34m)\u001b[0m \u001b[0;34m==\u001b[0m \u001b[0;32mFalse\u001b[0m\u001b[0;34m:\u001b[0m\u001b[0;34m\u001b[0m\u001b[0m\n\u001b[1;32m      4\u001b[0m         \u001b[0;32mfor\u001b[0m \u001b[0mitem\u001b[0m \u001b[0;32min\u001b[0m \u001b[0mlayer\u001b[0m\u001b[0;34m:\u001b[0m\u001b[0;34m\u001b[0m\u001b[0m\n\u001b[0;32m----> 5\u001b[0;31m             \u001b[0msetattr\u001b[0m\u001b[0;34m(\u001b[0m\u001b[0mlayerName\u001b[0m\u001b[0;34m,\u001b[0m \u001b[0mstr\u001b[0m\u001b[0;34m(\u001b[0m\u001b[0mitem\u001b[0m\u001b[0;34m[\u001b[0m\u001b[0;36m0\u001b[0m\u001b[0;34m]\u001b[0m\u001b[0;34m)\u001b[0m\u001b[0;34m,\u001b[0m \u001b[0mstr\u001b[0m\u001b[0;34m(\u001b[0m\u001b[0mitem\u001b[0m\u001b[0;34m[\u001b[0m\u001b[0;36m1\u001b[0m\u001b[0;34m]\u001b[0m\u001b[0;34m)\u001b[0m\u001b[0;34m)\u001b[0m\u001b[0;34m\u001b[0m\u001b[0m\n\u001b[0m\u001b[1;32m      6\u001b[0m \u001b[0;34m\u001b[0m\u001b[0m\n\u001b[1;32m      7\u001b[0m     \u001b[0;32melse\u001b[0m\u001b[0;34m:\u001b[0m\u001b[0;34m\u001b[0m\u001b[0m\n",
         "\u001b[0;31mIndexError\u001b[0m: string index out of range"
        ]
       }
      ],
      "source": "result = object()\nresult = lambda: None\n\n# example = '{\"name\":\"John\",\"age\":30,\"city\":\"New York\",\"attributes\":{\"alba\":\"neagra\",\"neagra\":\"alba\"}}'\n# example = json.dumps(example)\n\nparseRecurs(result,callback)",
      "start_time": "2019-02-26T13:36:50.438Z"
     },
     {
      "end_time": "2019-02-26T13:38:35.517Z",
      "execution_time": "14ms",
      "outputs": [
       {
        "data": {
         "text/plain": "{'label': 'Experimental Assay Type',\n 'uri': 'http://jermontology.org/ontology/JERMOntology#Experimental_assay_type'}"
        },
        "execution_count": 91,
        "metadata": {},
        "output_type": "execute_result"
       }
      ],
      "source": "result = object()\nresult = lambda: None\n\n# example = '{\"name\":\"John\",\"age\":30,\"city\":\"New York\",\"attributes\":{\"alba\":\"neagra\",\"neagra\":\"alba\"}}'\n# example = json.dumps(example)\ncallback['data']['attributes']['assay_type']",
      "start_time": "2019-02-26T13:38:35.503Z"
     },
     {
      "end_time": "2019-02-26T13:38:49.539Z",
      "execution_time": "9ms",
      "outputs": [
       {
        "name": "stdout",
        "output_type": "stream",
        "text": "label\nuri\n"
       }
      ],
      "source": "result = object()\nresult = lambda: None\n\n# example = '{\"name\":\"John\",\"age\":30,\"city\":\"New York\",\"attributes\":{\"alba\":\"neagra\",\"neagra\":\"alba\"}}'\n# example = json.dumps(example)\nfor item in callback['data']['attributes']['assay_type']:\n    print(item)",
      "start_time": "2019-02-26T13:38:49.530Z"
     },
     {
      "end_time": "2019-02-26T13:38:56.455Z",
      "execution_time": "23ms",
      "outputs": [
       {
        "ename": "ValueError",
        "evalue": "too many values to unpack (expected 2)",
        "output_type": "error",
        "traceback": [
         "\u001b[0;31m---------------------------------------------------------------------------\u001b[0m",
         "\u001b[0;31mValueError\u001b[0m                                Traceback (most recent call last)",
         "\u001b[0;32m<ipython-input-93-ce937d108b59>\u001b[0m in \u001b[0;36m<module>\u001b[0;34m()\u001b[0m\n\u001b[1;32m      4\u001b[0m \u001b[0;31m# example = '{\"name\":\"John\",\"age\":30,\"city\":\"New York\",\"attributes\":{\"alba\":\"neagra\",\"neagra\":\"alba\"}}'\u001b[0m\u001b[0;34m\u001b[0m\u001b[0;34m\u001b[0m\u001b[0m\n\u001b[1;32m      5\u001b[0m \u001b[0;31m# example = json.dumps(example)\u001b[0m\u001b[0;34m\u001b[0m\u001b[0;34m\u001b[0m\u001b[0m\n\u001b[0;32m----> 6\u001b[0;31m \u001b[0;32mfor\u001b[0m \u001b[0mkey\u001b[0m\u001b[0;34m,\u001b[0m\u001b[0mvalue\u001b[0m \u001b[0;32min\u001b[0m \u001b[0mcallback\u001b[0m\u001b[0;34m[\u001b[0m\u001b[0;34m'data'\u001b[0m\u001b[0;34m]\u001b[0m\u001b[0;34m[\u001b[0m\u001b[0;34m'attributes'\u001b[0m\u001b[0;34m]\u001b[0m\u001b[0;34m[\u001b[0m\u001b[0;34m'assay_type'\u001b[0m\u001b[0;34m]\u001b[0m\u001b[0;34m:\u001b[0m\u001b[0;34m\u001b[0m\u001b[0m\n\u001b[0m\u001b[1;32m      7\u001b[0m     \u001b[0mprint\u001b[0m\u001b[0;34m(\u001b[0m\u001b[0mitem\u001b[0m\u001b[0;34m)\u001b[0m\u001b[0;34m\u001b[0m\u001b[0m\n",
         "\u001b[0;31mValueError\u001b[0m: too many values to unpack (expected 2)"
        ]
       }
      ],
      "source": "result = object()\nresult = lambda: None\n\n# example = '{\"name\":\"John\",\"age\":30,\"city\":\"New York\",\"attributes\":{\"alba\":\"neagra\",\"neagra\":\"alba\"}}'\n# example = json.dumps(example)\nfor key,value in callback['data']['attributes']['assay_type']:\n    print(item)",
      "start_time": "2019-02-26T13:38:56.432Z"
     },
     {
      "end_time": "2019-02-26T13:38:58.713Z",
      "execution_time": "30ms",
      "outputs": [
       {
        "ename": "ValueError",
        "evalue": "too many values to unpack (expected 2)",
        "output_type": "error",
        "traceback": [
         "\u001b[0;31m---------------------------------------------------------------------------\u001b[0m",
         "\u001b[0;31mValueError\u001b[0m                                Traceback (most recent call last)",
         "\u001b[0;32m<ipython-input-94-32cce19a4f6d>\u001b[0m in \u001b[0;36m<module>\u001b[0;34m()\u001b[0m\n\u001b[1;32m      4\u001b[0m \u001b[0;31m# example = '{\"name\":\"John\",\"age\":30,\"city\":\"New York\",\"attributes\":{\"alba\":\"neagra\",\"neagra\":\"alba\"}}'\u001b[0m\u001b[0;34m\u001b[0m\u001b[0;34m\u001b[0m\u001b[0m\n\u001b[1;32m      5\u001b[0m \u001b[0;31m# example = json.dumps(example)\u001b[0m\u001b[0;34m\u001b[0m\u001b[0;34m\u001b[0m\u001b[0m\n\u001b[0;32m----> 6\u001b[0;31m \u001b[0;32mfor\u001b[0m \u001b[0mkey\u001b[0m\u001b[0;34m,\u001b[0m\u001b[0mvalue\u001b[0m \u001b[0;32min\u001b[0m \u001b[0mcallback\u001b[0m\u001b[0;34m[\u001b[0m\u001b[0;34m'data'\u001b[0m\u001b[0;34m]\u001b[0m\u001b[0;34m[\u001b[0m\u001b[0;34m'attributes'\u001b[0m\u001b[0;34m]\u001b[0m\u001b[0;34m[\u001b[0m\u001b[0;34m'assay_type'\u001b[0m\u001b[0;34m]\u001b[0m\u001b[0;34m:\u001b[0m\u001b[0;34m\u001b[0m\u001b[0m\n\u001b[0m\u001b[1;32m      7\u001b[0m     \u001b[0mprint\u001b[0m\u001b[0;34m(\u001b[0m\u001b[0mkey\u001b[0m\u001b[0;34m)\u001b[0m\u001b[0;34m\u001b[0m\u001b[0m\n",
         "\u001b[0;31mValueError\u001b[0m: too many values to unpack (expected 2)"
        ]
       }
      ],
      "source": "result = object()\nresult = lambda: None\n\n# example = '{\"name\":\"John\",\"age\":30,\"city\":\"New York\",\"attributes\":{\"alba\":\"neagra\",\"neagra\":\"alba\"}}'\n# example = json.dumps(example)\nfor key,value in callback['data']['attributes']['assay_type']:\n    print(key)",
      "start_time": "2019-02-26T13:38:58.683Z"
     },
     {
      "end_time": "2019-02-26T13:39:08.241Z",
      "execution_time": "4ms",
      "outputs": [
       {
        "name": "stdout",
        "output_type": "stream",
        "text": "label\nuri\n"
       }
      ],
      "source": "result = object()\nresult = lambda: None\n\n# example = '{\"name\":\"John\",\"age\":30,\"city\":\"New York\",\"attributes\":{\"alba\":\"neagra\",\"neagra\":\"alba\"}}'\n# example = json.dumps(example)\nfor key,value in callback['data']['attributes']['assay_type'].items():\n    print(key)",
      "start_time": "2019-02-26T13:39:08.237Z"
     },
     {
      "end_time": "2019-02-26T13:39:16.310Z",
      "execution_time": "9ms",
      "outputs": [
       {
        "name": "stdout",
        "output_type": "stream",
        "text": "label Experimental Assay Type\nuri http://jermontology.org/ontology/JERMOntology#Experimental_assay_type\n"
       }
      ],
      "source": "result = object()\nresult = lambda: None\n\n# example = '{\"name\":\"John\",\"age\":30,\"city\":\"New York\",\"attributes\":{\"alba\":\"neagra\",\"neagra\":\"alba\"}}'\n# example = json.dumps(example)\nfor key,value in callback['data']['attributes']['assay_type'].items():\n    print(key + ' ' + value)",
      "start_time": "2019-02-26T13:39:16.301Z"
     },
     {
      "end_time": "2019-02-26T13:40:10.239Z",
      "execution_time": "43ms",
      "outputs": [
       {
        "ename": "AttributeError",
        "evalue": "'str' object has no attribute 'items'",
        "output_type": "error",
        "traceback": [
         "\u001b[0;31m---------------------------------------------------------------------------\u001b[0m",
         "\u001b[0;31mAttributeError\u001b[0m                            Traceback (most recent call last)",
         "\u001b[0;32m<ipython-input-98-cfe85216567f>\u001b[0m in \u001b[0;36m<module>\u001b[0;34m()\u001b[0m\n\u001b[1;32m      7\u001b[0m \u001b[0;31m#     print(key + ' ' + value)\u001b[0m\u001b[0;34m\u001b[0m\u001b[0;34m\u001b[0m\u001b[0m\n\u001b[1;32m      8\u001b[0m \u001b[0;34m\u001b[0m\u001b[0m\n\u001b[0;32m----> 9\u001b[0;31m \u001b[0mparseRecurs\u001b[0m\u001b[0;34m(\u001b[0m\u001b[0mresult\u001b[0m\u001b[0;34m,\u001b[0m \u001b[0mcallback\u001b[0m\u001b[0;34m)\u001b[0m\u001b[0;34m\u001b[0m\u001b[0m\n\u001b[0m",
         "\u001b[0;32m<ipython-input-97-08a00e13f870>\u001b[0m in \u001b[0;36mparseRecurs\u001b[0;34m(layerName, layer)\u001b[0m\n\u001b[1;32m      8\u001b[0m \u001b[0;34m\u001b[0m\u001b[0m\n\u001b[1;32m      9\u001b[0m         \u001b[0;32mfor\u001b[0m \u001b[0mitem\u001b[0m \u001b[0;32min\u001b[0m \u001b[0mlayer\u001b[0m\u001b[0;34m.\u001b[0m\u001b[0mitems\u001b[0m\u001b[0;34m(\u001b[0m\u001b[0;34m)\u001b[0m\u001b[0;34m:\u001b[0m\u001b[0;34m\u001b[0m\u001b[0m\n\u001b[0;32m---> 10\u001b[0;31m             \u001b[0mparseRecurs\u001b[0m\u001b[0;34m(\u001b[0m\u001b[0mitem\u001b[0m\u001b[0;34m[\u001b[0m\u001b[0;36m0\u001b[0m\u001b[0;34m]\u001b[0m\u001b[0;34m,\u001b[0m \u001b[0mitem\u001b[0m\u001b[0;34m[\u001b[0m\u001b[0;36m1\u001b[0m\u001b[0;34m]\u001b[0m\u001b[0;34m)\u001b[0m\u001b[0;34m\u001b[0m\u001b[0m\n\u001b[0m",
         "\u001b[0;32m<ipython-input-97-08a00e13f870>\u001b[0m in \u001b[0;36mparseRecurs\u001b[0;34m(layerName, layer)\u001b[0m\n\u001b[1;32m      8\u001b[0m \u001b[0;34m\u001b[0m\u001b[0m\n\u001b[1;32m      9\u001b[0m         \u001b[0;32mfor\u001b[0m \u001b[0mitem\u001b[0m \u001b[0;32min\u001b[0m \u001b[0mlayer\u001b[0m\u001b[0;34m.\u001b[0m\u001b[0mitems\u001b[0m\u001b[0;34m(\u001b[0m\u001b[0;34m)\u001b[0m\u001b[0;34m:\u001b[0m\u001b[0;34m\u001b[0m\u001b[0m\n\u001b[0;32m---> 10\u001b[0;31m             \u001b[0mparseRecurs\u001b[0m\u001b[0;34m(\u001b[0m\u001b[0mitem\u001b[0m\u001b[0;34m[\u001b[0m\u001b[0;36m0\u001b[0m\u001b[0;34m]\u001b[0m\u001b[0;34m,\u001b[0m \u001b[0mitem\u001b[0m\u001b[0;34m[\u001b[0m\u001b[0;36m1\u001b[0m\u001b[0;34m]\u001b[0m\u001b[0;34m)\u001b[0m\u001b[0;34m\u001b[0m\u001b[0m\n\u001b[0m",
         "\u001b[0;32m<ipython-input-97-08a00e13f870>\u001b[0m in \u001b[0;36mparseRecurs\u001b[0;34m(layerName, layer)\u001b[0m\n\u001b[1;32m      2\u001b[0m \u001b[0;34m\u001b[0m\u001b[0m\n\u001b[1;32m      3\u001b[0m     \u001b[0;32mif\u001b[0m \u001b[0mhasattr\u001b[0m\u001b[0;34m(\u001b[0m\u001b[0mlayer\u001b[0m\u001b[0;34m,\u001b[0m \u001b[0;34m'items'\u001b[0m\u001b[0;34m)\u001b[0m \u001b[0;34m==\u001b[0m \u001b[0;32mFalse\u001b[0m\u001b[0;34m:\u001b[0m\u001b[0;34m\u001b[0m\u001b[0m\n\u001b[0;32m----> 4\u001b[0;31m         \u001b[0;32mfor\u001b[0m \u001b[0mkey\u001b[0m\u001b[0;34m,\u001b[0m\u001b[0mvalue\u001b[0m \u001b[0;32min\u001b[0m \u001b[0mlayer\u001b[0m\u001b[0;34m.\u001b[0m\u001b[0mitems\u001b[0m\u001b[0;34m(\u001b[0m\u001b[0;34m)\u001b[0m\u001b[0;34m:\u001b[0m\u001b[0;34m\u001b[0m\u001b[0m\n\u001b[0m\u001b[1;32m      5\u001b[0m             \u001b[0msetattr\u001b[0m\u001b[0;34m(\u001b[0m\u001b[0mlayerName\u001b[0m\u001b[0;34m,\u001b[0m \u001b[0mstr\u001b[0m\u001b[0;34m(\u001b[0m\u001b[0mitem\u001b[0m\u001b[0;34m[\u001b[0m\u001b[0;36m0\u001b[0m\u001b[0;34m]\u001b[0m\u001b[0;34m)\u001b[0m\u001b[0;34m,\u001b[0m \u001b[0mstr\u001b[0m\u001b[0;34m(\u001b[0m\u001b[0mitem\u001b[0m\u001b[0;34m[\u001b[0m\u001b[0;36m1\u001b[0m\u001b[0;34m]\u001b[0m\u001b[0;34m)\u001b[0m\u001b[0;34m)\u001b[0m\u001b[0;34m\u001b[0m\u001b[0m\n\u001b[1;32m      6\u001b[0m \u001b[0;34m\u001b[0m\u001b[0m\n",
         "\u001b[0;31mAttributeError\u001b[0m: 'str' object has no attribute 'items'"
        ]
       }
      ],
      "source": "result = object()\nresult = lambda: None\n\n# example = '{\"name\":\"John\",\"age\":30,\"city\":\"New York\",\"attributes\":{\"alba\":\"neagra\",\"neagra\":\"alba\"}}'\n# example = json.dumps(example)\n# for key,value in callback['data']['attributes']['assay_type'].items():\n#     print(key + ' ' + value)\n\nparseRecurs(result, callback)",
      "start_time": "2019-02-26T13:40:10.196Z"
     },
     {
      "end_time": "2019-02-26T13:40:27.128Z",
      "execution_time": "18ms",
      "outputs": [
       {
        "ename": "ValueError",
        "evalue": "not enough values to unpack (expected 2, got 1)",
        "output_type": "error",
        "traceback": [
         "\u001b[0;31m---------------------------------------------------------------------------\u001b[0m",
         "\u001b[0;31mValueError\u001b[0m                                Traceback (most recent call last)",
         "\u001b[0;32m<ipython-input-100-cfe85216567f>\u001b[0m in \u001b[0;36m<module>\u001b[0;34m()\u001b[0m\n\u001b[1;32m      7\u001b[0m \u001b[0;31m#     print(key + ' ' + value)\u001b[0m\u001b[0;34m\u001b[0m\u001b[0;34m\u001b[0m\u001b[0m\n\u001b[1;32m      8\u001b[0m \u001b[0;34m\u001b[0m\u001b[0m\n\u001b[0;32m----> 9\u001b[0;31m \u001b[0mparseRecurs\u001b[0m\u001b[0;34m(\u001b[0m\u001b[0mresult\u001b[0m\u001b[0;34m,\u001b[0m \u001b[0mcallback\u001b[0m\u001b[0;34m)\u001b[0m\u001b[0;34m\u001b[0m\u001b[0m\n\u001b[0m",
         "\u001b[0;32m<ipython-input-99-d18034573ab3>\u001b[0m in \u001b[0;36mparseRecurs\u001b[0;34m(layerName, layer)\u001b[0m\n\u001b[1;32m      8\u001b[0m \u001b[0;34m\u001b[0m\u001b[0m\n\u001b[1;32m      9\u001b[0m         \u001b[0;32mfor\u001b[0m \u001b[0mitem\u001b[0m \u001b[0;32min\u001b[0m \u001b[0mlayer\u001b[0m\u001b[0;34m.\u001b[0m\u001b[0mitems\u001b[0m\u001b[0;34m(\u001b[0m\u001b[0;34m)\u001b[0m\u001b[0;34m:\u001b[0m\u001b[0;34m\u001b[0m\u001b[0m\n\u001b[0;32m---> 10\u001b[0;31m             \u001b[0mparseRecurs\u001b[0m\u001b[0;34m(\u001b[0m\u001b[0mitem\u001b[0m\u001b[0;34m[\u001b[0m\u001b[0;36m0\u001b[0m\u001b[0;34m]\u001b[0m\u001b[0;34m,\u001b[0m \u001b[0mitem\u001b[0m\u001b[0;34m[\u001b[0m\u001b[0;36m1\u001b[0m\u001b[0;34m]\u001b[0m\u001b[0;34m)\u001b[0m\u001b[0;34m\u001b[0m\u001b[0m\n\u001b[0m",
         "\u001b[0;32m<ipython-input-99-d18034573ab3>\u001b[0m in \u001b[0;36mparseRecurs\u001b[0;34m(layerName, layer)\u001b[0m\n\u001b[1;32m      8\u001b[0m \u001b[0;34m\u001b[0m\u001b[0m\n\u001b[1;32m      9\u001b[0m         \u001b[0;32mfor\u001b[0m \u001b[0mitem\u001b[0m \u001b[0;32min\u001b[0m \u001b[0mlayer\u001b[0m\u001b[0;34m.\u001b[0m\u001b[0mitems\u001b[0m\u001b[0;34m(\u001b[0m\u001b[0;34m)\u001b[0m\u001b[0;34m:\u001b[0m\u001b[0;34m\u001b[0m\u001b[0m\n\u001b[0;32m---> 10\u001b[0;31m             \u001b[0mparseRecurs\u001b[0m\u001b[0;34m(\u001b[0m\u001b[0mitem\u001b[0m\u001b[0;34m[\u001b[0m\u001b[0;36m0\u001b[0m\u001b[0;34m]\u001b[0m\u001b[0;34m,\u001b[0m \u001b[0mitem\u001b[0m\u001b[0;34m[\u001b[0m\u001b[0;36m1\u001b[0m\u001b[0;34m]\u001b[0m\u001b[0;34m)\u001b[0m\u001b[0;34m\u001b[0m\u001b[0m\n\u001b[0m",
         "\u001b[0;32m<ipython-input-99-d18034573ab3>\u001b[0m in \u001b[0;36mparseRecurs\u001b[0;34m(layerName, layer)\u001b[0m\n\u001b[1;32m      2\u001b[0m \u001b[0;34m\u001b[0m\u001b[0m\n\u001b[1;32m      3\u001b[0m     \u001b[0;32mif\u001b[0m \u001b[0mhasattr\u001b[0m\u001b[0;34m(\u001b[0m\u001b[0mlayer\u001b[0m\u001b[0;34m,\u001b[0m \u001b[0;34m'items'\u001b[0m\u001b[0;34m)\u001b[0m \u001b[0;34m==\u001b[0m \u001b[0;32mFalse\u001b[0m\u001b[0;34m:\u001b[0m\u001b[0;34m\u001b[0m\u001b[0m\n\u001b[0;32m----> 4\u001b[0;31m         \u001b[0;32mfor\u001b[0m \u001b[0mkey\u001b[0m\u001b[0;34m,\u001b[0m\u001b[0mvalue\u001b[0m \u001b[0;32min\u001b[0m \u001b[0mlayer\u001b[0m\u001b[0;34m:\u001b[0m\u001b[0;34m\u001b[0m\u001b[0m\n\u001b[0m\u001b[1;32m      5\u001b[0m             \u001b[0msetattr\u001b[0m\u001b[0;34m(\u001b[0m\u001b[0mlayerName\u001b[0m\u001b[0;34m,\u001b[0m \u001b[0mstr\u001b[0m\u001b[0;34m(\u001b[0m\u001b[0mitem\u001b[0m\u001b[0;34m[\u001b[0m\u001b[0;36m0\u001b[0m\u001b[0;34m]\u001b[0m\u001b[0;34m)\u001b[0m\u001b[0;34m,\u001b[0m \u001b[0mstr\u001b[0m\u001b[0;34m(\u001b[0m\u001b[0mitem\u001b[0m\u001b[0;34m[\u001b[0m\u001b[0;36m1\u001b[0m\u001b[0;34m]\u001b[0m\u001b[0;34m)\u001b[0m\u001b[0;34m)\u001b[0m\u001b[0;34m\u001b[0m\u001b[0m\n\u001b[1;32m      6\u001b[0m \u001b[0;34m\u001b[0m\u001b[0m\n",
         "\u001b[0;31mValueError\u001b[0m: not enough values to unpack (expected 2, got 1)"
        ]
       }
      ],
      "source": "result = object()\nresult = lambda: None\n\n# example = '{\"name\":\"John\",\"age\":30,\"city\":\"New York\",\"attributes\":{\"alba\":\"neagra\",\"neagra\":\"alba\"}}'\n# example = json.dumps(example)\n# for key,value in callback['data']['attributes']['assay_type'].items():\n#     print(key + ' ' + value)\n\nparseRecurs(result, callback)",
      "start_time": "2019-02-26T13:40:27.110Z"
     },
     {
      "end_time": "2019-02-26T13:40:37.089Z",
      "execution_time": "15ms",
      "outputs": [
       {
        "ename": "ValueError",
        "evalue": "not enough values to unpack (expected 2, got 1)",
        "output_type": "error",
        "traceback": [
         "\u001b[0;31m---------------------------------------------------------------------------\u001b[0m",
         "\u001b[0;31mValueError\u001b[0m                                Traceback (most recent call last)",
         "\u001b[0;32m<ipython-input-101-b3ace2fe486a>\u001b[0m in \u001b[0;36m<module>\u001b[0;34m()\u001b[0m\n\u001b[1;32m      7\u001b[0m \u001b[0;31m#     print(key + ' ' + value)\u001b[0m\u001b[0;34m\u001b[0m\u001b[0;34m\u001b[0m\u001b[0m\n\u001b[1;32m      8\u001b[0m \u001b[0;34m\u001b[0m\u001b[0m\n\u001b[0;32m----> 9\u001b[0;31m \u001b[0mparseRecurs\u001b[0m\u001b[0;34m(\u001b[0m\u001b[0mresult\u001b[0m\u001b[0;34m,\u001b[0m \u001b[0mcallback\u001b[0m\u001b[0;34m[\u001b[0m\u001b[0;34m'data'\u001b[0m\u001b[0;34m]\u001b[0m\u001b[0;34m)\u001b[0m\u001b[0;34m\u001b[0m\u001b[0m\n\u001b[0m",
         "\u001b[0;32m<ipython-input-99-d18034573ab3>\u001b[0m in \u001b[0;36mparseRecurs\u001b[0;34m(layerName, layer)\u001b[0m\n\u001b[1;32m      8\u001b[0m \u001b[0;34m\u001b[0m\u001b[0m\n\u001b[1;32m      9\u001b[0m         \u001b[0;32mfor\u001b[0m \u001b[0mitem\u001b[0m \u001b[0;32min\u001b[0m \u001b[0mlayer\u001b[0m\u001b[0;34m.\u001b[0m\u001b[0mitems\u001b[0m\u001b[0;34m(\u001b[0m\u001b[0;34m)\u001b[0m\u001b[0;34m:\u001b[0m\u001b[0;34m\u001b[0m\u001b[0m\n\u001b[0;32m---> 10\u001b[0;31m             \u001b[0mparseRecurs\u001b[0m\u001b[0;34m(\u001b[0m\u001b[0mitem\u001b[0m\u001b[0;34m[\u001b[0m\u001b[0;36m0\u001b[0m\u001b[0;34m]\u001b[0m\u001b[0;34m,\u001b[0m \u001b[0mitem\u001b[0m\u001b[0;34m[\u001b[0m\u001b[0;36m1\u001b[0m\u001b[0;34m]\u001b[0m\u001b[0;34m)\u001b[0m\u001b[0;34m\u001b[0m\u001b[0m\n\u001b[0m",
         "\u001b[0;32m<ipython-input-99-d18034573ab3>\u001b[0m in \u001b[0;36mparseRecurs\u001b[0;34m(layerName, layer)\u001b[0m\n\u001b[1;32m      2\u001b[0m \u001b[0;34m\u001b[0m\u001b[0m\n\u001b[1;32m      3\u001b[0m     \u001b[0;32mif\u001b[0m \u001b[0mhasattr\u001b[0m\u001b[0;34m(\u001b[0m\u001b[0mlayer\u001b[0m\u001b[0;34m,\u001b[0m \u001b[0;34m'items'\u001b[0m\u001b[0;34m)\u001b[0m \u001b[0;34m==\u001b[0m \u001b[0;32mFalse\u001b[0m\u001b[0;34m:\u001b[0m\u001b[0;34m\u001b[0m\u001b[0m\n\u001b[0;32m----> 4\u001b[0;31m         \u001b[0;32mfor\u001b[0m \u001b[0mkey\u001b[0m\u001b[0;34m,\u001b[0m\u001b[0mvalue\u001b[0m \u001b[0;32min\u001b[0m \u001b[0mlayer\u001b[0m\u001b[0;34m:\u001b[0m\u001b[0;34m\u001b[0m\u001b[0m\n\u001b[0m\u001b[1;32m      5\u001b[0m             \u001b[0msetattr\u001b[0m\u001b[0;34m(\u001b[0m\u001b[0mlayerName\u001b[0m\u001b[0;34m,\u001b[0m \u001b[0mstr\u001b[0m\u001b[0;34m(\u001b[0m\u001b[0mitem\u001b[0m\u001b[0;34m[\u001b[0m\u001b[0;36m0\u001b[0m\u001b[0;34m]\u001b[0m\u001b[0;34m)\u001b[0m\u001b[0;34m,\u001b[0m \u001b[0mstr\u001b[0m\u001b[0;34m(\u001b[0m\u001b[0mitem\u001b[0m\u001b[0;34m[\u001b[0m\u001b[0;36m1\u001b[0m\u001b[0;34m]\u001b[0m\u001b[0;34m)\u001b[0m\u001b[0;34m)\u001b[0m\u001b[0;34m\u001b[0m\u001b[0m\n\u001b[1;32m      6\u001b[0m \u001b[0;34m\u001b[0m\u001b[0m\n",
         "\u001b[0;31mValueError\u001b[0m: not enough values to unpack (expected 2, got 1)"
        ]
       }
      ],
      "source": "result = object()\nresult = lambda: None\n\n# example = '{\"name\":\"John\",\"age\":30,\"city\":\"New York\",\"attributes\":{\"alba\":\"neagra\",\"neagra\":\"alba\"}}'\n# example = json.dumps(example)\n# for key,value in callback['data']['attributes']['assay_type'].items():\n#     print(key + ' ' + value)\n\nparseRecurs(result, callback['data'])",
      "start_time": "2019-02-26T13:40:37.074Z"
     },
     {
      "end_time": "2019-02-26T13:40:54.284Z",
      "execution_time": "19ms",
      "outputs": [
       {
        "ename": "IndexError",
        "evalue": "string index out of range",
        "output_type": "error",
        "traceback": [
         "\u001b[0;31m---------------------------------------------------------------------------\u001b[0m",
         "\u001b[0;31mIndexError\u001b[0m                                Traceback (most recent call last)",
         "\u001b[0;32m<ipython-input-104-b3ace2fe486a>\u001b[0m in \u001b[0;36m<module>\u001b[0;34m()\u001b[0m\n\u001b[1;32m      7\u001b[0m \u001b[0;31m#     print(key + ' ' + value)\u001b[0m\u001b[0;34m\u001b[0m\u001b[0;34m\u001b[0m\u001b[0m\n\u001b[1;32m      8\u001b[0m \u001b[0;34m\u001b[0m\u001b[0m\n\u001b[0;32m----> 9\u001b[0;31m \u001b[0mparseRecurs\u001b[0m\u001b[0;34m(\u001b[0m\u001b[0mresult\u001b[0m\u001b[0;34m,\u001b[0m \u001b[0mcallback\u001b[0m\u001b[0;34m[\u001b[0m\u001b[0;34m'data'\u001b[0m\u001b[0;34m]\u001b[0m\u001b[0;34m)\u001b[0m\u001b[0;34m\u001b[0m\u001b[0m\n\u001b[0m",
         "\u001b[0;32m<ipython-input-103-f8aeaabd11af>\u001b[0m in \u001b[0;36mparseRecurs\u001b[0;34m(layerName, layer)\u001b[0m\n\u001b[1;32m      8\u001b[0m \u001b[0;34m\u001b[0m\u001b[0m\n\u001b[1;32m      9\u001b[0m         \u001b[0;32mfor\u001b[0m \u001b[0mitem\u001b[0m \u001b[0;32min\u001b[0m \u001b[0mlayer\u001b[0m\u001b[0;34m.\u001b[0m\u001b[0mitems\u001b[0m\u001b[0;34m(\u001b[0m\u001b[0;34m)\u001b[0m\u001b[0;34m:\u001b[0m\u001b[0;34m\u001b[0m\u001b[0m\n\u001b[0;32m---> 10\u001b[0;31m             \u001b[0mparseRecurs\u001b[0m\u001b[0;34m(\u001b[0m\u001b[0mitem\u001b[0m\u001b[0;34m[\u001b[0m\u001b[0;36m0\u001b[0m\u001b[0;34m]\u001b[0m\u001b[0;34m,\u001b[0m \u001b[0mitem\u001b[0m\u001b[0;34m[\u001b[0m\u001b[0;36m1\u001b[0m\u001b[0;34m]\u001b[0m\u001b[0;34m)\u001b[0m\u001b[0;34m\u001b[0m\u001b[0m\n\u001b[0m",
         "\u001b[0;32m<ipython-input-103-f8aeaabd11af>\u001b[0m in \u001b[0;36mparseRecurs\u001b[0;34m(layerName, layer)\u001b[0m\n\u001b[1;32m      3\u001b[0m     \u001b[0;32mif\u001b[0m \u001b[0mhasattr\u001b[0m\u001b[0;34m(\u001b[0m\u001b[0mlayer\u001b[0m\u001b[0;34m,\u001b[0m \u001b[0;34m'items'\u001b[0m\u001b[0;34m)\u001b[0m \u001b[0;34m==\u001b[0m \u001b[0;32mFalse\u001b[0m\u001b[0;34m:\u001b[0m\u001b[0;34m\u001b[0m\u001b[0m\n\u001b[1;32m      4\u001b[0m         \u001b[0;32mfor\u001b[0m \u001b[0mkey\u001b[0m \u001b[0;32min\u001b[0m \u001b[0mlayer\u001b[0m\u001b[0;34m:\u001b[0m\u001b[0;34m\u001b[0m\u001b[0m\n\u001b[0;32m----> 5\u001b[0;31m             \u001b[0msetattr\u001b[0m\u001b[0;34m(\u001b[0m\u001b[0mlayerName\u001b[0m\u001b[0;34m,\u001b[0m \u001b[0mstr\u001b[0m\u001b[0;34m(\u001b[0m\u001b[0mkey\u001b[0m\u001b[0;34m[\u001b[0m\u001b[0;36m0\u001b[0m\u001b[0;34m]\u001b[0m\u001b[0;34m)\u001b[0m\u001b[0;34m,\u001b[0m \u001b[0mstr\u001b[0m\u001b[0;34m(\u001b[0m\u001b[0mkey\u001b[0m\u001b[0;34m[\u001b[0m\u001b[0;36m1\u001b[0m\u001b[0;34m]\u001b[0m\u001b[0;34m)\u001b[0m\u001b[0;34m)\u001b[0m\u001b[0;34m\u001b[0m\u001b[0m\n\u001b[0m\u001b[1;32m      6\u001b[0m \u001b[0;34m\u001b[0m\u001b[0m\n\u001b[1;32m      7\u001b[0m     \u001b[0;32melse\u001b[0m\u001b[0;34m:\u001b[0m\u001b[0;34m\u001b[0m\u001b[0m\n",
         "\u001b[0;31mIndexError\u001b[0m: string index out of range"
        ]
       }
      ],
      "source": "result = object()\nresult = lambda: None\n\n# example = '{\"name\":\"John\",\"age\":30,\"city\":\"New York\",\"attributes\":{\"alba\":\"neagra\",\"neagra\":\"alba\"}}'\n# example = json.dumps(example)\n# for key,value in callback['data']['attributes']['assay_type'].items():\n#     print(key + ' ' + value)\n\nparseRecurs(result, callback['data'])",
      "start_time": "2019-02-26T13:40:54.265Z"
     },
     {
      "end_time": "2019-02-26T13:41:12.969Z",
      "execution_time": "30ms",
      "outputs": [
       {
        "name": "stdout",
        "output_type": "stream",
        "text": "7\n"
       },
       {
        "ename": "IndexError",
        "evalue": "string index out of range",
        "output_type": "error",
        "traceback": [
         "\u001b[0;31m---------------------------------------------------------------------------\u001b[0m",
         "\u001b[0;31mIndexError\u001b[0m                                Traceback (most recent call last)",
         "\u001b[0;32m<ipython-input-106-b3ace2fe486a>\u001b[0m in \u001b[0;36m<module>\u001b[0;34m()\u001b[0m\n\u001b[1;32m      7\u001b[0m \u001b[0;31m#     print(key + ' ' + value)\u001b[0m\u001b[0;34m\u001b[0m\u001b[0;34m\u001b[0m\u001b[0m\n\u001b[1;32m      8\u001b[0m \u001b[0;34m\u001b[0m\u001b[0m\n\u001b[0;32m----> 9\u001b[0;31m \u001b[0mparseRecurs\u001b[0m\u001b[0;34m(\u001b[0m\u001b[0mresult\u001b[0m\u001b[0;34m,\u001b[0m \u001b[0mcallback\u001b[0m\u001b[0;34m[\u001b[0m\u001b[0;34m'data'\u001b[0m\u001b[0;34m]\u001b[0m\u001b[0;34m)\u001b[0m\u001b[0;34m\u001b[0m\u001b[0m\n\u001b[0m",
         "\u001b[0;32m<ipython-input-105-eaab70f8f367>\u001b[0m in \u001b[0;36mparseRecurs\u001b[0;34m(layerName, layer)\u001b[0m\n\u001b[1;32m      9\u001b[0m \u001b[0;34m\u001b[0m\u001b[0m\n\u001b[1;32m     10\u001b[0m         \u001b[0;32mfor\u001b[0m \u001b[0mitem\u001b[0m \u001b[0;32min\u001b[0m \u001b[0mlayer\u001b[0m\u001b[0;34m.\u001b[0m\u001b[0mitems\u001b[0m\u001b[0;34m(\u001b[0m\u001b[0;34m)\u001b[0m\u001b[0;34m:\u001b[0m\u001b[0;34m\u001b[0m\u001b[0m\n\u001b[0;32m---> 11\u001b[0;31m             \u001b[0mparseRecurs\u001b[0m\u001b[0;34m(\u001b[0m\u001b[0mitem\u001b[0m\u001b[0;34m[\u001b[0m\u001b[0;36m0\u001b[0m\u001b[0;34m]\u001b[0m\u001b[0;34m,\u001b[0m \u001b[0mitem\u001b[0m\u001b[0;34m[\u001b[0m\u001b[0;36m1\u001b[0m\u001b[0;34m]\u001b[0m\u001b[0;34m)\u001b[0m\u001b[0;34m\u001b[0m\u001b[0m\n\u001b[0m",
         "\u001b[0;32m<ipython-input-105-eaab70f8f367>\u001b[0m in \u001b[0;36mparseRecurs\u001b[0;34m(layerName, layer)\u001b[0m\n\u001b[1;32m      4\u001b[0m         \u001b[0;32mfor\u001b[0m \u001b[0mkey\u001b[0m \u001b[0;32min\u001b[0m \u001b[0mlayer\u001b[0m\u001b[0;34m:\u001b[0m\u001b[0;34m\u001b[0m\u001b[0m\n\u001b[1;32m      5\u001b[0m             \u001b[0mprint\u001b[0m\u001b[0;34m(\u001b[0m\u001b[0mstr\u001b[0m\u001b[0;34m(\u001b[0m\u001b[0mkey\u001b[0m\u001b[0;34m)\u001b[0m\u001b[0;34m)\u001b[0m\u001b[0;34m\u001b[0m\u001b[0m\n\u001b[0;32m----> 6\u001b[0;31m             \u001b[0msetattr\u001b[0m\u001b[0;34m(\u001b[0m\u001b[0mlayerName\u001b[0m\u001b[0;34m,\u001b[0m \u001b[0mstr\u001b[0m\u001b[0;34m(\u001b[0m\u001b[0mkey\u001b[0m\u001b[0;34m[\u001b[0m\u001b[0;36m0\u001b[0m\u001b[0;34m]\u001b[0m\u001b[0;34m)\u001b[0m\u001b[0;34m,\u001b[0m \u001b[0mstr\u001b[0m\u001b[0;34m(\u001b[0m\u001b[0mkey\u001b[0m\u001b[0;34m[\u001b[0m\u001b[0;36m1\u001b[0m\u001b[0;34m]\u001b[0m\u001b[0;34m)\u001b[0m\u001b[0;34m)\u001b[0m\u001b[0;34m\u001b[0m\u001b[0m\n\u001b[0m\u001b[1;32m      7\u001b[0m \u001b[0;34m\u001b[0m\u001b[0m\n\u001b[1;32m      8\u001b[0m     \u001b[0;32melse\u001b[0m\u001b[0;34m:\u001b[0m\u001b[0;34m\u001b[0m\u001b[0m\n",
         "\u001b[0;31mIndexError\u001b[0m: string index out of range"
        ]
       }
      ],
      "source": "result = object()\nresult = lambda: None\n\n# example = '{\"name\":\"John\",\"age\":30,\"city\":\"New York\",\"attributes\":{\"alba\":\"neagra\",\"neagra\":\"alba\"}}'\n# example = json.dumps(example)\n# for key,value in callback['data']['attributes']['assay_type'].items():\n#     print(key + ' ' + value)\n\nparseRecurs(result, callback['data'])",
      "start_time": "2019-02-26T13:41:12.939Z"
     },
     {
      "end_time": "2019-02-26T13:41:30.314Z",
      "execution_time": "38ms",
      "outputs": [
       {
        "name": "stdout",
        "output_type": "stream",
        "text": "753\n7\n"
       },
       {
        "ename": "IndexError",
        "evalue": "string index out of range",
        "output_type": "error",
        "traceback": [
         "\u001b[0;31m---------------------------------------------------------------------------\u001b[0m",
         "\u001b[0;31mIndexError\u001b[0m                                Traceback (most recent call last)",
         "\u001b[0;32m<ipython-input-108-b3ace2fe486a>\u001b[0m in \u001b[0;36m<module>\u001b[0;34m()\u001b[0m\n\u001b[1;32m      7\u001b[0m \u001b[0;31m#     print(key + ' ' + value)\u001b[0m\u001b[0;34m\u001b[0m\u001b[0;34m\u001b[0m\u001b[0m\n\u001b[1;32m      8\u001b[0m \u001b[0;34m\u001b[0m\u001b[0m\n\u001b[0;32m----> 9\u001b[0;31m \u001b[0mparseRecurs\u001b[0m\u001b[0;34m(\u001b[0m\u001b[0mresult\u001b[0m\u001b[0;34m,\u001b[0m \u001b[0mcallback\u001b[0m\u001b[0;34m[\u001b[0m\u001b[0;34m'data'\u001b[0m\u001b[0;34m]\u001b[0m\u001b[0;34m)\u001b[0m\u001b[0;34m\u001b[0m\u001b[0m\n\u001b[0m",
         "\u001b[0;32m<ipython-input-107-c18fc3ed138e>\u001b[0m in \u001b[0;36mparseRecurs\u001b[0;34m(layerName, layer)\u001b[0m\n\u001b[1;32m     10\u001b[0m \u001b[0;34m\u001b[0m\u001b[0m\n\u001b[1;32m     11\u001b[0m         \u001b[0;32mfor\u001b[0m \u001b[0mitem\u001b[0m \u001b[0;32min\u001b[0m \u001b[0mlayer\u001b[0m\u001b[0;34m.\u001b[0m\u001b[0mitems\u001b[0m\u001b[0;34m(\u001b[0m\u001b[0;34m)\u001b[0m\u001b[0;34m:\u001b[0m\u001b[0;34m\u001b[0m\u001b[0m\n\u001b[0;32m---> 12\u001b[0;31m             \u001b[0mparseRecurs\u001b[0m\u001b[0;34m(\u001b[0m\u001b[0mitem\u001b[0m\u001b[0;34m[\u001b[0m\u001b[0;36m0\u001b[0m\u001b[0;34m]\u001b[0m\u001b[0;34m,\u001b[0m \u001b[0mitem\u001b[0m\u001b[0;34m[\u001b[0m\u001b[0;36m1\u001b[0m\u001b[0;34m]\u001b[0m\u001b[0;34m)\u001b[0m\u001b[0;34m\u001b[0m\u001b[0m\n\u001b[0m",
         "\u001b[0;32m<ipython-input-107-c18fc3ed138e>\u001b[0m in \u001b[0;36mparseRecurs\u001b[0;34m(layerName, layer)\u001b[0m\n\u001b[1;32m      5\u001b[0m         \u001b[0;32mfor\u001b[0m \u001b[0mkey\u001b[0m \u001b[0;32min\u001b[0m \u001b[0mlayer\u001b[0m\u001b[0;34m:\u001b[0m\u001b[0;34m\u001b[0m\u001b[0m\n\u001b[1;32m      6\u001b[0m             \u001b[0mprint\u001b[0m\u001b[0;34m(\u001b[0m\u001b[0mstr\u001b[0m\u001b[0;34m(\u001b[0m\u001b[0mkey\u001b[0m\u001b[0;34m)\u001b[0m\u001b[0;34m)\u001b[0m\u001b[0;34m\u001b[0m\u001b[0m\n\u001b[0;32m----> 7\u001b[0;31m             \u001b[0msetattr\u001b[0m\u001b[0;34m(\u001b[0m\u001b[0mlayerName\u001b[0m\u001b[0;34m,\u001b[0m \u001b[0mstr\u001b[0m\u001b[0;34m(\u001b[0m\u001b[0mkey\u001b[0m\u001b[0;34m[\u001b[0m\u001b[0;36m0\u001b[0m\u001b[0;34m]\u001b[0m\u001b[0;34m)\u001b[0m\u001b[0;34m,\u001b[0m \u001b[0mstr\u001b[0m\u001b[0;34m(\u001b[0m\u001b[0mkey\u001b[0m\u001b[0;34m[\u001b[0m\u001b[0;36m1\u001b[0m\u001b[0;34m]\u001b[0m\u001b[0;34m)\u001b[0m\u001b[0;34m)\u001b[0m\u001b[0;34m\u001b[0m\u001b[0m\n\u001b[0m\u001b[1;32m      8\u001b[0m \u001b[0;34m\u001b[0m\u001b[0m\n\u001b[1;32m      9\u001b[0m     \u001b[0;32melse\u001b[0m\u001b[0;34m:\u001b[0m\u001b[0;34m\u001b[0m\u001b[0m\n",
         "\u001b[0;31mIndexError\u001b[0m: string index out of range"
        ]
       }
      ],
      "source": "result = object()\nresult = lambda: None\n\n# example = '{\"name\":\"John\",\"age\":30,\"city\":\"New York\",\"attributes\":{\"alba\":\"neagra\",\"neagra\":\"alba\"}}'\n# example = json.dumps(example)\n# for key,value in callback['data']['attributes']['assay_type'].items():\n#     print(key + ' ' + value)\n\nparseRecurs(result, callback['data'])",
      "start_time": "2019-02-26T13:41:30.276Z"
     },
     {
      "end_time": "2019-02-26T13:42:51.481Z",
      "execution_time": "7ms",
      "outputs": [
       {
        "name": "stdout",
        "output_type": "stream",
        "text": "{'id': '753', 'type': 'assays', 'attributes': {'snapshots': None, 'title': 'Gene expression', 'description': 'Analyses of gene expression: qPCR analyses in liver (relative expression) and ovaries (absolute expression). ', 'other_creators': None, 'assay_class': {'title': 'Experimental Assay', 'key': 'EXP', 'description': None}, 'assay_type': {'label': 'Experimental Assay Type', 'uri': 'http://jermontology.org/ontology/JERMOntology#Experimental_assay_type'}, 'technology_type': {'label': 'Technology Type', 'uri': 'http://jermontology.org/ontology/JERMOntology#Technology_type'}, 'tags': None}, 'relationships': {'creators': {'data': [{'id': '848', 'type': 'people'}]}, 'submitter': {'data': [{'id': '848', 'type': 'people'}]}, 'organisms': {'data': []}, 'people': {'data': [{'id': '848', 'type': 'people'}]}, 'projects': {'data': [{'id': '60', 'type': 'projects'}]}, 'investigation': {'data': {'id': '130', 'type': 'investigations'}}, 'study': {'data': {'id': '361', 'type': 'studies'}}, 'data_files': {'data': [{'id': '2249', 'type': 'data_files'}, {'id': '2278', 'type': 'data_files'}, {'id': '2279', 'type': 'data_files'}]}, 'models': {'data': []}, 'sops': {'data': []}, 'publications': {'data': []}, 'documents': {'data': []}}, 'links': {'self': '/assays/753'}, 'meta': {'created': '2018-11-26T14:19:01.000Z', 'modified': '2018-11-27T10:20:31.000Z', 'api_version': '0.2', 'uuid': '25372ee0-d3b4-0136-516f-549f350973c0', 'base_url': 'https://fairdomhub.org'}}\nid\ntype\nattributes\nrelationships\nlinks\nmeta\n"
       }
      ],
      "source": "result = object()\nresult = lambda: None\n\n# example = '{\"name\":\"John\",\"age\":30,\"city\":\"New York\",\"attributes\":{\"alba\":\"neagra\",\"neagra\":\"alba\"}}'\n# example = json.dumps(example)\n# for key,value in callback['data']['attributes']['assay_type'].items():\n#     print(key + ' ' + value)\n\nparseRecurs(result, callback['data'])",
      "start_time": "2019-02-26T13:42:51.474Z"
     },
     {
      "end_time": "2019-02-26T13:43:10.733Z",
      "execution_time": "12ms",
      "outputs": [
       {
        "name": "stdout",
        "output_type": "stream",
        "text": "{'id': '753', 'type': 'assays', 'attributes': {'snapshots': None, 'title': 'Gene expression', 'description': 'Analyses of gene expression: qPCR analyses in liver (relative expression) and ovaries (absolute expression). ', 'other_creators': None, 'assay_class': {'title': 'Experimental Assay', 'key': 'EXP', 'description': None}, 'assay_type': {'label': 'Experimental Assay Type', 'uri': 'http://jermontology.org/ontology/JERMOntology#Experimental_assay_type'}, 'technology_type': {'label': 'Technology Type', 'uri': 'http://jermontology.org/ontology/JERMOntology#Technology_type'}, 'tags': None}, 'relationships': {'creators': {'data': [{'id': '848', 'type': 'people'}]}, 'submitter': {'data': [{'id': '848', 'type': 'people'}]}, 'organisms': {'data': []}, 'people': {'data': [{'id': '848', 'type': 'people'}]}, 'projects': {'data': [{'id': '60', 'type': 'projects'}]}, 'investigation': {'data': {'id': '130', 'type': 'investigations'}}, 'study': {'data': {'id': '361', 'type': 'studies'}}, 'data_files': {'data': [{'id': '2249', 'type': 'data_files'}, {'id': '2278', 'type': 'data_files'}, {'id': '2279', 'type': 'data_files'}]}, 'models': {'data': []}, 'sops': {'data': []}, 'publications': {'data': []}, 'documents': {'data': []}}, 'links': {'self': '/assays/753'}, 'meta': {'created': '2018-11-26T14:19:01.000Z', 'modified': '2018-11-27T10:20:31.000Z', 'api_version': '0.2', 'uuid': '25372ee0-d3b4-0136-516f-549f350973c0', 'base_url': 'https://fairdomhub.org'}}\n"
       }
      ],
      "source": "result = object()\nresult = lambda: None\n\n# example = '{\"name\":\"John\",\"age\":30,\"city\":\"New York\",\"attributes\":{\"alba\":\"neagra\",\"neagra\":\"alba\"}}'\n# example = json.dumps(example)\n# for key,value in callback['data']['attributes']['assay_type'].items():\n#     print(key + ' ' + value)\n\nparseRecurs(result, callback['data'])",
      "start_time": "2019-02-26T13:43:10.721Z"
     },
     {
      "end_time": "2019-02-26T13:43:33.464Z",
      "execution_time": "54ms",
      "outputs": [
       {
        "name": "stdout",
        "output_type": "stream",
        "text": "i\n"
       },
       {
        "ename": "ValueError",
        "evalue": "too many values to unpack (expected 2)",
        "output_type": "error",
        "traceback": [
         "\u001b[0;31m---------------------------------------------------------------------------\u001b[0m",
         "\u001b[0;31mValueError\u001b[0m                                Traceback (most recent call last)",
         "\u001b[0;32m<ipython-input-114-b3ace2fe486a>\u001b[0m in \u001b[0;36m<module>\u001b[0;34m()\u001b[0m\n\u001b[1;32m      7\u001b[0m \u001b[0;31m#     print(key + ' ' + value)\u001b[0m\u001b[0;34m\u001b[0m\u001b[0;34m\u001b[0m\u001b[0m\n\u001b[1;32m      8\u001b[0m \u001b[0;34m\u001b[0m\u001b[0m\n\u001b[0;32m----> 9\u001b[0;31m \u001b[0mparseRecurs\u001b[0m\u001b[0;34m(\u001b[0m\u001b[0mresult\u001b[0m\u001b[0;34m,\u001b[0m \u001b[0mcallback\u001b[0m\u001b[0;34m[\u001b[0m\u001b[0;34m'data'\u001b[0m\u001b[0;34m]\u001b[0m\u001b[0;34m)\u001b[0m\u001b[0;34m\u001b[0m\u001b[0m\n\u001b[0m",
         "\u001b[0;32m<ipython-input-113-fa0d219bb160>\u001b[0m in \u001b[0;36mparseRecurs\u001b[0;34m(layerName, layer)\u001b[0m\n\u001b[1;32m      3\u001b[0m     \u001b[0;32mif\u001b[0m \u001b[0mhasattr\u001b[0m\u001b[0;34m(\u001b[0m\u001b[0mlayer\u001b[0m\u001b[0;34m.\u001b[0m\u001b[0mitems\u001b[0m\u001b[0;34m(\u001b[0m\u001b[0;34m)\u001b[0m\u001b[0;34m,\u001b[0m \u001b[0;34m'items'\u001b[0m\u001b[0;34m)\u001b[0m \u001b[0;34m==\u001b[0m \u001b[0;32mFalse\u001b[0m\u001b[0;34m:\u001b[0m\u001b[0;34m\u001b[0m\u001b[0m\n\u001b[1;32m      4\u001b[0m \u001b[0;31m#         print(layer)\u001b[0m\u001b[0;34m\u001b[0m\u001b[0;34m\u001b[0m\u001b[0m\n\u001b[0;32m----> 5\u001b[0;31m         \u001b[0;32mfor\u001b[0m \u001b[0mkey\u001b[0m\u001b[0;34m,\u001b[0m\u001b[0mvalue\u001b[0m \u001b[0;32min\u001b[0m \u001b[0mlayer\u001b[0m\u001b[0;34m:\u001b[0m\u001b[0;34m\u001b[0m\u001b[0m\n\u001b[0m\u001b[1;32m      6\u001b[0m             \u001b[0mprint\u001b[0m\u001b[0;34m(\u001b[0m\u001b[0mstr\u001b[0m\u001b[0;34m(\u001b[0m\u001b[0mkey\u001b[0m\u001b[0;34m)\u001b[0m\u001b[0;34m)\u001b[0m\u001b[0;34m\u001b[0m\u001b[0m\n\u001b[1;32m      7\u001b[0m             \u001b[0msetattr\u001b[0m\u001b[0;34m(\u001b[0m\u001b[0mlayerName\u001b[0m\u001b[0;34m,\u001b[0m \u001b[0mstr\u001b[0m\u001b[0;34m(\u001b[0m\u001b[0mkey\u001b[0m\u001b[0;34m)\u001b[0m\u001b[0;34m,\u001b[0m \u001b[0mstr\u001b[0m\u001b[0;34m(\u001b[0m\u001b[0mvalue\u001b[0m\u001b[0;34m)\u001b[0m\u001b[0;34m)\u001b[0m\u001b[0;34m\u001b[0m\u001b[0m\n",
         "\u001b[0;31mValueError\u001b[0m: too many values to unpack (expected 2)"
        ]
       }
      ],
      "source": "result = object()\nresult = lambda: None\n\n# example = '{\"name\":\"John\",\"age\":30,\"city\":\"New York\",\"attributes\":{\"alba\":\"neagra\",\"neagra\":\"alba\"}}'\n# example = json.dumps(example)\n# for key,value in callback['data']['attributes']['assay_type'].items():\n#     print(key + ' ' + value)\n\nparseRecurs(result, callback['data'])",
      "start_time": "2019-02-26T13:43:33.410Z"
     },
     {
      "end_time": "2019-02-26T13:52:57.319Z",
      "execution_time": "12ms",
      "outputs": [
       {
        "name": "stdout",
        "output_type": "stream",
        "text": "label Experimental Assay Type\nuri http://jermontology.org/ontology/JERMOntology#Experimental_assay_type\n"
       }
      ],
      "source": "result = object()\nresult = lambda: None\n\n# example = '{\"name\":\"John\",\"age\":30,\"city\":\"New York\",\"attributes\":{\"alba\":\"neagra\",\"neagra\":\"alba\"}}'\n# example = json.dumps(example)\nfor key,value in callback['data']['attributes']['assay_type'].items():\n    print(key + ' ' + value)\n\n# parseRecurs(result, callback['data'])",
      "start_time": "2019-02-26T13:52:57.307Z"
     },
     {
      "end_time": "2019-02-26T13:54:14.465Z",
      "execution_time": "12ms",
      "outputs": [
       {
        "ename": "AttributeError",
        "evalue": "'dict' object has no attribute 'id'",
        "output_type": "error",
        "traceback": [
         "\u001b[0;31m---------------------------------------------------------------------------\u001b[0m",
         "\u001b[0;31mAttributeError\u001b[0m                            Traceback (most recent call last)",
         "\u001b[0;32m<ipython-input-117-b3ace2fe486a>\u001b[0m in \u001b[0;36m<module>\u001b[0;34m()\u001b[0m\n\u001b[1;32m      7\u001b[0m \u001b[0;31m#     print(key + ' ' + value)\u001b[0m\u001b[0;34m\u001b[0m\u001b[0;34m\u001b[0m\u001b[0m\n\u001b[1;32m      8\u001b[0m \u001b[0;34m\u001b[0m\u001b[0m\n\u001b[0;32m----> 9\u001b[0;31m \u001b[0mparseRecurs\u001b[0m\u001b[0;34m(\u001b[0m\u001b[0mresult\u001b[0m\u001b[0;34m,\u001b[0m \u001b[0mcallback\u001b[0m\u001b[0;34m[\u001b[0m\u001b[0;34m'data'\u001b[0m\u001b[0;34m]\u001b[0m\u001b[0;34m)\u001b[0m\u001b[0;34m\u001b[0m\u001b[0m\n\u001b[0m",
         "\u001b[0;32m<ipython-input-116-faaf6b081e2d>\u001b[0m in \u001b[0;36mparseRecurs\u001b[0;34m(layerName, layer)\u001b[0m\n\u001b[1;32m      3\u001b[0m     \u001b[0;32mfor\u001b[0m \u001b[0mkey\u001b[0m\u001b[0;34m,\u001b[0m \u001b[0mvalue\u001b[0m \u001b[0;32min\u001b[0m \u001b[0mlayer\u001b[0m\u001b[0;34m.\u001b[0m\u001b[0mitems\u001b[0m\u001b[0;34m(\u001b[0m\u001b[0;34m)\u001b[0m\u001b[0;34m:\u001b[0m\u001b[0;34m\u001b[0m\u001b[0m\n\u001b[1;32m      4\u001b[0m         \u001b[0;32mif\u001b[0m \u001b[0mhasattr\u001b[0m\u001b[0;34m(\u001b[0m\u001b[0mvalue\u001b[0m\u001b[0;34m,\u001b[0m \u001b[0;34m'items'\u001b[0m\u001b[0;34m)\u001b[0m \u001b[0;34m==\u001b[0m \u001b[0;32mFalse\u001b[0m\u001b[0;34m:\u001b[0m\u001b[0;34m\u001b[0m\u001b[0m\n\u001b[0;32m----> 5\u001b[0;31m             \u001b[0msetattr\u001b[0m\u001b[0;34m(\u001b[0m\u001b[0mlayer\u001b[0m\u001b[0;34m,\u001b[0m \u001b[0mkey\u001b[0m\u001b[0;34m,\u001b[0m \u001b[0mvalue\u001b[0m\u001b[0;34m)\u001b[0m\u001b[0;34m\u001b[0m\u001b[0m\n\u001b[0m\u001b[1;32m      6\u001b[0m             \u001b[0;32mreturn\u001b[0m\u001b[0;34m\u001b[0m\u001b[0m\n\u001b[1;32m      7\u001b[0m \u001b[0;34m\u001b[0m\u001b[0m\n",
         "\u001b[0;31mAttributeError\u001b[0m: 'dict' object has no attribute 'id'"
        ]
       }
      ],
      "source": "result = object()\nresult = lambda: None\n\n# example = '{\"name\":\"John\",\"age\":30,\"city\":\"New York\",\"attributes\":{\"alba\":\"neagra\",\"neagra\":\"alba\"}}'\n# example = json.dumps(example)\n# for key,value in callback['data']['attributes']['assay_type'].items():\n#     print(key + ' ' + value)\n\nparseRecurs(result, callback['data'])",
      "start_time": "2019-02-26T13:54:14.453Z"
     },
     {
      "end_time": "2019-02-26T13:54:52.620Z",
      "execution_time": "28ms",
      "outputs": [
       {
        "ename": "AttributeError",
        "evalue": "'dict' object has no attribute 'id'",
        "output_type": "error",
        "traceback": [
         "\u001b[0;31m---------------------------------------------------------------------------\u001b[0m",
         "\u001b[0;31mAttributeError\u001b[0m                            Traceback (most recent call last)",
         "\u001b[0;32m<ipython-input-118-cfe85216567f>\u001b[0m in \u001b[0;36m<module>\u001b[0;34m()\u001b[0m\n\u001b[1;32m      7\u001b[0m \u001b[0;31m#     print(key + ' ' + value)\u001b[0m\u001b[0;34m\u001b[0m\u001b[0;34m\u001b[0m\u001b[0m\n\u001b[1;32m      8\u001b[0m \u001b[0;34m\u001b[0m\u001b[0m\n\u001b[0;32m----> 9\u001b[0;31m \u001b[0mparseRecurs\u001b[0m\u001b[0;34m(\u001b[0m\u001b[0mresult\u001b[0m\u001b[0;34m,\u001b[0m \u001b[0mcallback\u001b[0m\u001b[0;34m)\u001b[0m\u001b[0;34m\u001b[0m\u001b[0m\n\u001b[0m",
         "\u001b[0;32m<ipython-input-116-faaf6b081e2d>\u001b[0m in \u001b[0;36mparseRecurs\u001b[0;34m(layerName, layer)\u001b[0m\n\u001b[1;32m      7\u001b[0m \u001b[0;34m\u001b[0m\u001b[0m\n\u001b[1;32m      8\u001b[0m     \u001b[0;32mfor\u001b[0m \u001b[0mitem\u001b[0m \u001b[0;32min\u001b[0m \u001b[0mlayer\u001b[0m\u001b[0;34m.\u001b[0m\u001b[0mitems\u001b[0m\u001b[0;34m(\u001b[0m\u001b[0;34m)\u001b[0m\u001b[0;34m:\u001b[0m\u001b[0;34m\u001b[0m\u001b[0m\n\u001b[0;32m----> 9\u001b[0;31m         \u001b[0mparseRecurs\u001b[0m\u001b[0;34m(\u001b[0m\u001b[0mitem\u001b[0m\u001b[0;34m[\u001b[0m\u001b[0;36m0\u001b[0m\u001b[0;34m]\u001b[0m\u001b[0;34m,\u001b[0m \u001b[0mitem\u001b[0m\u001b[0;34m[\u001b[0m\u001b[0;36m1\u001b[0m\u001b[0;34m]\u001b[0m\u001b[0;34m)\u001b[0m\u001b[0;34m\u001b[0m\u001b[0m\n\u001b[0m",
         "\u001b[0;32m<ipython-input-116-faaf6b081e2d>\u001b[0m in \u001b[0;36mparseRecurs\u001b[0;34m(layerName, layer)\u001b[0m\n\u001b[1;32m      3\u001b[0m     \u001b[0;32mfor\u001b[0m \u001b[0mkey\u001b[0m\u001b[0;34m,\u001b[0m \u001b[0mvalue\u001b[0m \u001b[0;32min\u001b[0m \u001b[0mlayer\u001b[0m\u001b[0;34m.\u001b[0m\u001b[0mitems\u001b[0m\u001b[0;34m(\u001b[0m\u001b[0;34m)\u001b[0m\u001b[0;34m:\u001b[0m\u001b[0;34m\u001b[0m\u001b[0m\n\u001b[1;32m      4\u001b[0m         \u001b[0;32mif\u001b[0m \u001b[0mhasattr\u001b[0m\u001b[0;34m(\u001b[0m\u001b[0mvalue\u001b[0m\u001b[0;34m,\u001b[0m \u001b[0;34m'items'\u001b[0m\u001b[0;34m)\u001b[0m \u001b[0;34m==\u001b[0m \u001b[0;32mFalse\u001b[0m\u001b[0;34m:\u001b[0m\u001b[0;34m\u001b[0m\u001b[0m\n\u001b[0;32m----> 5\u001b[0;31m             \u001b[0msetattr\u001b[0m\u001b[0;34m(\u001b[0m\u001b[0mlayer\u001b[0m\u001b[0;34m,\u001b[0m \u001b[0mkey\u001b[0m\u001b[0;34m,\u001b[0m \u001b[0mvalue\u001b[0m\u001b[0;34m)\u001b[0m\u001b[0;34m\u001b[0m\u001b[0m\n\u001b[0m\u001b[1;32m      6\u001b[0m             \u001b[0;32mreturn\u001b[0m\u001b[0;34m\u001b[0m\u001b[0m\n\u001b[1;32m      7\u001b[0m \u001b[0;34m\u001b[0m\u001b[0m\n",
         "\u001b[0;31mAttributeError\u001b[0m: 'dict' object has no attribute 'id'"
        ]
       }
      ],
      "source": "result = object()\nresult = lambda: None\n\n# example = '{\"name\":\"John\",\"age\":30,\"city\":\"New York\",\"attributes\":{\"alba\":\"neagra\",\"neagra\":\"alba\"}}'\n# example = json.dumps(example)\n# for key,value in callback['data']['attributes']['assay_type'].items():\n#     print(key + ' ' + value)\n\nparseRecurs(result, callback)",
      "start_time": "2019-02-26T13:54:52.592Z"
     },
     {
      "end_time": "2019-02-26T13:55:08.865Z",
      "execution_time": "18ms",
      "outputs": [
       {
        "name": "stdout",
        "output_type": "stream",
        "text": "id 753\n"
       },
       {
        "ename": "AttributeError",
        "evalue": "'dict' object has no attribute 'id'",
        "output_type": "error",
        "traceback": [
         "\u001b[0;31m---------------------------------------------------------------------------\u001b[0m",
         "\u001b[0;31mAttributeError\u001b[0m                            Traceback (most recent call last)",
         "\u001b[0;32m<ipython-input-120-cfe85216567f>\u001b[0m in \u001b[0;36m<module>\u001b[0;34m()\u001b[0m\n\u001b[1;32m      7\u001b[0m \u001b[0;31m#     print(key + ' ' + value)\u001b[0m\u001b[0;34m\u001b[0m\u001b[0;34m\u001b[0m\u001b[0m\n\u001b[1;32m      8\u001b[0m \u001b[0;34m\u001b[0m\u001b[0m\n\u001b[0;32m----> 9\u001b[0;31m \u001b[0mparseRecurs\u001b[0m\u001b[0;34m(\u001b[0m\u001b[0mresult\u001b[0m\u001b[0;34m,\u001b[0m \u001b[0mcallback\u001b[0m\u001b[0;34m)\u001b[0m\u001b[0;34m\u001b[0m\u001b[0m\n\u001b[0m",
         "\u001b[0;32m<ipython-input-119-2440db1bbfbe>\u001b[0m in \u001b[0;36mparseRecurs\u001b[0;34m(layerName, layer)\u001b[0m\n\u001b[1;32m      8\u001b[0m \u001b[0;34m\u001b[0m\u001b[0m\n\u001b[1;32m      9\u001b[0m     \u001b[0;32mfor\u001b[0m \u001b[0mitem\u001b[0m \u001b[0;32min\u001b[0m \u001b[0mlayer\u001b[0m\u001b[0;34m.\u001b[0m\u001b[0mitems\u001b[0m\u001b[0;34m(\u001b[0m\u001b[0;34m)\u001b[0m\u001b[0;34m:\u001b[0m\u001b[0;34m\u001b[0m\u001b[0m\n\u001b[0;32m---> 10\u001b[0;31m         \u001b[0mparseRecurs\u001b[0m\u001b[0;34m(\u001b[0m\u001b[0mitem\u001b[0m\u001b[0;34m[\u001b[0m\u001b[0;36m0\u001b[0m\u001b[0;34m]\u001b[0m\u001b[0;34m,\u001b[0m \u001b[0mitem\u001b[0m\u001b[0;34m[\u001b[0m\u001b[0;36m1\u001b[0m\u001b[0;34m]\u001b[0m\u001b[0;34m)\u001b[0m\u001b[0;34m\u001b[0m\u001b[0m\n\u001b[0m",
         "\u001b[0;32m<ipython-input-119-2440db1bbfbe>\u001b[0m in \u001b[0;36mparseRecurs\u001b[0;34m(layerName, layer)\u001b[0m\n\u001b[1;32m      4\u001b[0m         \u001b[0;32mif\u001b[0m \u001b[0mhasattr\u001b[0m\u001b[0;34m(\u001b[0m\u001b[0mvalue\u001b[0m\u001b[0;34m,\u001b[0m \u001b[0;34m'items'\u001b[0m\u001b[0;34m)\u001b[0m \u001b[0;34m==\u001b[0m \u001b[0;32mFalse\u001b[0m\u001b[0;34m:\u001b[0m\u001b[0;34m\u001b[0m\u001b[0m\n\u001b[1;32m      5\u001b[0m             \u001b[0mprint\u001b[0m\u001b[0;34m(\u001b[0m\u001b[0mkey\u001b[0m \u001b[0;34m+\u001b[0m \u001b[0;34m' '\u001b[0m \u001b[0;34m+\u001b[0m \u001b[0mvalue\u001b[0m\u001b[0;34m)\u001b[0m\u001b[0;34m\u001b[0m\u001b[0m\n\u001b[0;32m----> 6\u001b[0;31m             \u001b[0msetattr\u001b[0m\u001b[0;34m(\u001b[0m\u001b[0mlayer\u001b[0m\u001b[0;34m,\u001b[0m \u001b[0mkey\u001b[0m\u001b[0;34m,\u001b[0m \u001b[0mvalue\u001b[0m\u001b[0;34m)\u001b[0m\u001b[0;34m\u001b[0m\u001b[0m\n\u001b[0m\u001b[1;32m      7\u001b[0m             \u001b[0;32mreturn\u001b[0m\u001b[0;34m\u001b[0m\u001b[0m\n\u001b[1;32m      8\u001b[0m \u001b[0;34m\u001b[0m\u001b[0m\n",
         "\u001b[0;31mAttributeError\u001b[0m: 'dict' object has no attribute 'id'"
        ]
       }
      ],
      "source": "result = object()\nresult = lambda: None\n\n# example = '{\"name\":\"John\",\"age\":30,\"city\":\"New York\",\"attributes\":{\"alba\":\"neagra\",\"neagra\":\"alba\"}}'\n# example = json.dumps(example)\n# for key,value in callback['data']['attributes']['assay_type'].items():\n#     print(key + ' ' + value)\n\nparseRecurs(result, callback)",
      "start_time": "2019-02-26T13:55:08.847Z"
     },
     {
      "end_time": "2019-02-26T13:55:23.936Z",
      "execution_time": "32ms",
      "outputs": [
       {
        "name": "stdout",
        "output_type": "stream",
        "text": "id 753\n"
       },
       {
        "ename": "AttributeError",
        "evalue": "'str' object has no attribute 'id'",
        "output_type": "error",
        "traceback": [
         "\u001b[0;31m---------------------------------------------------------------------------\u001b[0m",
         "\u001b[0;31mAttributeError\u001b[0m                            Traceback (most recent call last)",
         "\u001b[0;32m<ipython-input-122-cfe85216567f>\u001b[0m in \u001b[0;36m<module>\u001b[0;34m()\u001b[0m\n\u001b[1;32m      7\u001b[0m \u001b[0;31m#     print(key + ' ' + value)\u001b[0m\u001b[0;34m\u001b[0m\u001b[0;34m\u001b[0m\u001b[0m\n\u001b[1;32m      8\u001b[0m \u001b[0;34m\u001b[0m\u001b[0m\n\u001b[0;32m----> 9\u001b[0;31m \u001b[0mparseRecurs\u001b[0m\u001b[0;34m(\u001b[0m\u001b[0mresult\u001b[0m\u001b[0;34m,\u001b[0m \u001b[0mcallback\u001b[0m\u001b[0;34m)\u001b[0m\u001b[0;34m\u001b[0m\u001b[0m\n\u001b[0m",
         "\u001b[0;32m<ipython-input-121-f1c9df3ae043>\u001b[0m in \u001b[0;36mparseRecurs\u001b[0;34m(layerName, layer)\u001b[0m\n\u001b[1;32m      8\u001b[0m \u001b[0;34m\u001b[0m\u001b[0m\n\u001b[1;32m      9\u001b[0m     \u001b[0;32mfor\u001b[0m \u001b[0mitem\u001b[0m \u001b[0;32min\u001b[0m \u001b[0mlayer\u001b[0m\u001b[0;34m.\u001b[0m\u001b[0mitems\u001b[0m\u001b[0;34m(\u001b[0m\u001b[0;34m)\u001b[0m\u001b[0;34m:\u001b[0m\u001b[0;34m\u001b[0m\u001b[0m\n\u001b[0;32m---> 10\u001b[0;31m         \u001b[0mparseRecurs\u001b[0m\u001b[0;34m(\u001b[0m\u001b[0mitem\u001b[0m\u001b[0;34m[\u001b[0m\u001b[0;36m0\u001b[0m\u001b[0;34m]\u001b[0m\u001b[0;34m,\u001b[0m \u001b[0mitem\u001b[0m\u001b[0;34m[\u001b[0m\u001b[0;36m1\u001b[0m\u001b[0;34m]\u001b[0m\u001b[0;34m)\u001b[0m\u001b[0;34m\u001b[0m\u001b[0m\n\u001b[0m",
         "\u001b[0;32m<ipython-input-121-f1c9df3ae043>\u001b[0m in \u001b[0;36mparseRecurs\u001b[0;34m(layerName, layer)\u001b[0m\n\u001b[1;32m      4\u001b[0m         \u001b[0;32mif\u001b[0m \u001b[0mhasattr\u001b[0m\u001b[0;34m(\u001b[0m\u001b[0mvalue\u001b[0m\u001b[0;34m,\u001b[0m \u001b[0;34m'items'\u001b[0m\u001b[0;34m)\u001b[0m \u001b[0;34m==\u001b[0m \u001b[0;32mFalse\u001b[0m\u001b[0;34m:\u001b[0m\u001b[0;34m\u001b[0m\u001b[0m\n\u001b[1;32m      5\u001b[0m             \u001b[0mprint\u001b[0m\u001b[0;34m(\u001b[0m\u001b[0mkey\u001b[0m \u001b[0;34m+\u001b[0m \u001b[0;34m' '\u001b[0m \u001b[0;34m+\u001b[0m \u001b[0mvalue\u001b[0m\u001b[0;34m)\u001b[0m\u001b[0;34m\u001b[0m\u001b[0m\n\u001b[0;32m----> 6\u001b[0;31m             \u001b[0msetattr\u001b[0m\u001b[0;34m(\u001b[0m\u001b[0mlayerName\u001b[0m\u001b[0;34m,\u001b[0m \u001b[0mkey\u001b[0m\u001b[0;34m,\u001b[0m \u001b[0mvalue\u001b[0m\u001b[0;34m)\u001b[0m\u001b[0;34m\u001b[0m\u001b[0m\n\u001b[0m\u001b[1;32m      7\u001b[0m             \u001b[0;32mreturn\u001b[0m\u001b[0;34m\u001b[0m\u001b[0m\n\u001b[1;32m      8\u001b[0m \u001b[0;34m\u001b[0m\u001b[0m\n",
         "\u001b[0;31mAttributeError\u001b[0m: 'str' object has no attribute 'id'"
        ]
       }
      ],
      "source": "result = object()\nresult = lambda: None\n\n# example = '{\"name\":\"John\",\"age\":30,\"city\":\"New York\",\"attributes\":{\"alba\":\"neagra\",\"neagra\":\"alba\"}}'\n# example = json.dumps(example)\n# for key,value in callback['data']['attributes']['assay_type'].items():\n#     print(key + ' ' + value)\n\nparseRecurs(result, callback)",
      "start_time": "2019-02-26T13:55:23.904Z"
     },
     {
      "end_time": "2019-02-26T13:57:02.583Z",
      "execution_time": "9ms",
      "outputs": [
       {
        "name": "stdout",
        "output_type": "stream",
        "text": "id 753\n"
       }
      ],
      "source": "result = object()\nresult = lambda: None\n\n# example = '{\"name\":\"John\",\"age\":30,\"city\":\"New York\",\"attributes\":{\"alba\":\"neagra\",\"neagra\":\"alba\"}}'\n# example = json.dumps(example)\n# for key,value in callback['data']['attributes']['assay_type'].items():\n#     print(key + ' ' + value)\n\nparseRecurs(result, callback['data'])",
      "start_time": "2019-02-26T13:57:02.574Z"
     },
     {
      "end_time": "2019-02-26T13:57:25.596Z",
      "execution_time": "13ms",
      "outputs": [
       {
        "name": "stdout",
        "output_type": "stream",
        "text": "id 753\n"
       }
      ],
      "source": "result = object()\nresult = lambda: None\n\nparseRecurs(result, callback['data'])",
      "start_time": "2019-02-26T13:57:25.583Z"
     },
     {
      "end_time": "2019-02-26T13:58:29.411Z",
      "execution_time": "22ms",
      "outputs": [
       {
        "ename": "TypeError",
        "evalue": "unsupported operand type(s) for +: 'function' and 'str'",
        "output_type": "error",
        "traceback": [
         "\u001b[0;31m---------------------------------------------------------------------------\u001b[0m",
         "\u001b[0;31mTypeError\u001b[0m                                 Traceback (most recent call last)",
         "\u001b[0;32m<ipython-input-131-24f7f8d61e97>\u001b[0m in \u001b[0;36m<module>\u001b[0;34m()\u001b[0m\n\u001b[1;32m      2\u001b[0m \u001b[0mresult\u001b[0m \u001b[0;34m=\u001b[0m \u001b[0;32mlambda\u001b[0m\u001b[0;34m:\u001b[0m \u001b[0;32mNone\u001b[0m\u001b[0;34m\u001b[0m\u001b[0m\n\u001b[1;32m      3\u001b[0m \u001b[0;34m\u001b[0m\u001b[0m\n\u001b[0;32m----> 4\u001b[0;31m \u001b[0mparseRecurs\u001b[0m\u001b[0;34m(\u001b[0m\u001b[0mresult\u001b[0m\u001b[0;34m,\u001b[0m \u001b[0mcallback\u001b[0m\u001b[0;34m[\u001b[0m\u001b[0;34m'data'\u001b[0m\u001b[0;34m]\u001b[0m\u001b[0;34m)\u001b[0m\u001b[0;34m\u001b[0m\u001b[0m\n\u001b[0m",
         "\u001b[0;32m<ipython-input-130-6b18fc5ad44f>\u001b[0m in \u001b[0;36mparseRecurs\u001b[0;34m(layerName, layer)\u001b[0m\n\u001b[1;32m      1\u001b[0m \u001b[0;32mdef\u001b[0m \u001b[0mparseRecurs\u001b[0m\u001b[0;34m(\u001b[0m\u001b[0mlayerName\u001b[0m\u001b[0;34m,\u001b[0m \u001b[0mlayer\u001b[0m\u001b[0;34m)\u001b[0m\u001b[0;34m:\u001b[0m\u001b[0;34m\u001b[0m\u001b[0m\n\u001b[0;32m----> 2\u001b[0;31m     \u001b[0mprint\u001b[0m\u001b[0;34m(\u001b[0m\u001b[0mlayerName\u001b[0m \u001b[0;34m+\u001b[0m \u001b[0;34m' '\u001b[0m \u001b[0;34m+\u001b[0m \u001b[0mlayer\u001b[0m\u001b[0;34m)\u001b[0m\u001b[0;34m\u001b[0m\u001b[0m\n\u001b[0m\u001b[1;32m      3\u001b[0m     \u001b[0;32mfor\u001b[0m \u001b[0mkey\u001b[0m\u001b[0;34m,\u001b[0m \u001b[0mvalue\u001b[0m \u001b[0;32min\u001b[0m \u001b[0mlayer\u001b[0m\u001b[0;34m.\u001b[0m\u001b[0mitems\u001b[0m\u001b[0;34m(\u001b[0m\u001b[0;34m)\u001b[0m\u001b[0;34m:\u001b[0m\u001b[0;34m\u001b[0m\u001b[0m\n\u001b[1;32m      4\u001b[0m \u001b[0;34m\u001b[0m\u001b[0m\n\u001b[1;32m      5\u001b[0m         \u001b[0;32mif\u001b[0m \u001b[0mhasattr\u001b[0m\u001b[0;34m(\u001b[0m\u001b[0mvalue\u001b[0m\u001b[0;34m,\u001b[0m \u001b[0;34m'items'\u001b[0m\u001b[0;34m)\u001b[0m \u001b[0;34m==\u001b[0m \u001b[0;32mFalse\u001b[0m\u001b[0;34m:\u001b[0m\u001b[0;34m\u001b[0m\u001b[0m\n",
         "\u001b[0;31mTypeError\u001b[0m: unsupported operand type(s) for +: 'function' and 'str'"
        ]
       }
      ],
      "source": "result = object()\nresult = lambda: None\n\nparseRecurs(result, callback['data'])",
      "start_time": "2019-02-26T13:58:29.389Z"
     },
     {
      "end_time": "2019-02-26T13:58:45.573Z",
      "execution_time": "10ms",
      "outputs": [
       {
        "name": "stdout",
        "output_type": "stream",
        "text": "<function <lambda> at 0x7fae040969d8> {'id': '753', 'type': 'assays', 'attributes': {'snapshots': None, 'title': 'Gene expression', 'description': 'Analyses of gene expression: qPCR analyses in liver (relative expression) and ovaries (absolute expression). ', 'other_creators': None, 'assay_class': {'title': 'Experimental Assay', 'key': 'EXP', 'description': None}, 'assay_type': {'label': 'Experimental Assay Type', 'uri': 'http://jermontology.org/ontology/JERMOntology#Experimental_assay_type'}, 'technology_type': {'label': 'Technology Type', 'uri': 'http://jermontology.org/ontology/JERMOntology#Technology_type'}, 'tags': None}, 'relationships': {'creators': {'data': [{'id': '848', 'type': 'people'}]}, 'submitter': {'data': [{'id': '848', 'type': 'people'}]}, 'organisms': {'data': []}, 'people': {'data': [{'id': '848', 'type': 'people'}]}, 'projects': {'data': [{'id': '60', 'type': 'projects'}]}, 'investigation': {'data': {'id': '130', 'type': 'investigations'}}, 'study': {'data': {'id': '361', 'type': 'studies'}}, 'data_files': {'data': [{'id': '2249', 'type': 'data_files'}, {'id': '2278', 'type': 'data_files'}, {'id': '2279', 'type': 'data_files'}]}, 'models': {'data': []}, 'sops': {'data': []}, 'publications': {'data': []}, 'documents': {'data': []}}, 'links': {'self': '/assays/753'}, 'meta': {'created': '2018-11-26T14:19:01.000Z', 'modified': '2018-11-27T10:20:31.000Z', 'api_version': '0.2', 'uuid': '25372ee0-d3b4-0136-516f-549f350973c0', 'base_url': 'https://fairdomhub.org'}}\nid 753\n"
       }
      ],
      "source": "result = object()\nresult = lambda: None\n\nparseRecurs(result, callback['data'])",
      "start_time": "2019-02-26T13:58:45.563Z"
     },
     {
      "end_time": "2019-02-26T13:59:04.826Z",
      "execution_time": "5ms",
      "outputs": [
       {
        "name": "stdout",
        "output_type": "stream",
        "text": "<function <lambda> at 0x7fae040969d8>\n\n{'id': '753', 'type': 'assays', 'attributes': {'snapshots': None, 'title': 'Gene expression', 'description': 'Analyses of gene expression: qPCR analyses in liver (relative expression) and ovaries (absolute expression). ', 'other_creators': None, 'assay_class': {'title': 'Experimental Assay', 'key': 'EXP', 'description': None}, 'assay_type': {'label': 'Experimental Assay Type', 'uri': 'http://jermontology.org/ontology/JERMOntology#Experimental_assay_type'}, 'technology_type': {'label': 'Technology Type', 'uri': 'http://jermontology.org/ontology/JERMOntology#Technology_type'}, 'tags': None}, 'relationships': {'creators': {'data': [{'id': '848', 'type': 'people'}]}, 'submitter': {'data': [{'id': '848', 'type': 'people'}]}, 'organisms': {'data': []}, 'people': {'data': [{'id': '848', 'type': 'people'}]}, 'projects': {'data': [{'id': '60', 'type': 'projects'}]}, 'investigation': {'data': {'id': '130', 'type': 'investigations'}}, 'study': {'data': {'id': '361', 'type': 'studies'}}, 'data_files': {'data': [{'id': '2249', 'type': 'data_files'}, {'id': '2278', 'type': 'data_files'}, {'id': '2279', 'type': 'data_files'}]}, 'models': {'data': []}, 'sops': {'data': []}, 'publications': {'data': []}, 'documents': {'data': []}}, 'links': {'self': '/assays/753'}, 'meta': {'created': '2018-11-26T14:19:01.000Z', 'modified': '2018-11-27T10:20:31.000Z', 'api_version': '0.2', 'uuid': '25372ee0-d3b4-0136-516f-549f350973c0', 'base_url': 'https://fairdomhub.org'}}\nid 753\n"
       }
      ],
      "source": "result = object()\nresult = lambda: None\n\nparseRecurs(result, callback['data'])",
      "start_time": "2019-02-26T13:59:04.821Z"
     },
     {
      "end_time": "2019-02-26T13:59:43.051Z",
      "execution_time": "4ms",
      "outputs": [
       {
        "name": "stdout",
        "output_type": "stream",
        "text": "<function <lambda> at 0x7fae040969d8>\n\n{'id': '753', 'type': 'assays', 'attributes': {'snapshots': None, 'title': 'Gene expression', 'description': 'Analyses of gene expression: qPCR analyses in liver (relative expression) and ovaries (absolute expression). ', 'other_creators': None, 'assay_class': {'title': 'Experimental Assay', 'key': 'EXP', 'description': None}, 'assay_type': {'label': 'Experimental Assay Type', 'uri': 'http://jermontology.org/ontology/JERMOntology#Experimental_assay_type'}, 'technology_type': {'label': 'Technology Type', 'uri': 'http://jermontology.org/ontology/JERMOntology#Technology_type'}, 'tags': None}, 'relationships': {'creators': {'data': [{'id': '848', 'type': 'people'}]}, 'submitter': {'data': [{'id': '848', 'type': 'people'}]}, 'organisms': {'data': []}, 'people': {'data': [{'id': '848', 'type': 'people'}]}, 'projects': {'data': [{'id': '60', 'type': 'projects'}]}, 'investigation': {'data': {'id': '130', 'type': 'investigations'}}, 'study': {'data': {'id': '361', 'type': 'studies'}}, 'data_files': {'data': [{'id': '2249', 'type': 'data_files'}, {'id': '2278', 'type': 'data_files'}, {'id': '2279', 'type': 'data_files'}]}, 'models': {'data': []}, 'sops': {'data': []}, 'publications': {'data': []}, 'documents': {'data': []}}, 'links': {'self': '/assays/753'}, 'meta': {'created': '2018-11-26T14:19:01.000Z', 'modified': '2018-11-27T10:20:31.000Z', 'api_version': '0.2', 'uuid': '25372ee0-d3b4-0136-516f-549f350973c0', 'base_url': 'https://fairdomhub.org'}}\nid 753\n"
       }
      ],
      "source": "result = object()\nresult = lambda: None\n\nparseRecurs(result, callback['data'])",
      "start_time": "2019-02-26T13:59:43.047Z"
     },
     {
      "end_time": "2019-02-26T14:00:03.423Z",
      "execution_time": "5ms",
      "outputs": [
       {
        "name": "stdout",
        "output_type": "stream",
        "text": "<function <lambda> at 0x7fae040969d8>\n\n{'id': '753', 'type': 'assays', 'attributes': {'snapshots': None, 'title': 'Gene expression', 'description': 'Analyses of gene expression: qPCR analyses in liver (relative expression) and ovaries (absolute expression). ', 'other_creators': None, 'assay_class': {'title': 'Experimental Assay', 'key': 'EXP', 'description': None}, 'assay_type': {'label': 'Experimental Assay Type', 'uri': 'http://jermontology.org/ontology/JERMOntology#Experimental_assay_type'}, 'technology_type': {'label': 'Technology Type', 'uri': 'http://jermontology.org/ontology/JERMOntology#Technology_type'}, 'tags': None}, 'relationships': {'creators': {'data': [{'id': '848', 'type': 'people'}]}, 'submitter': {'data': [{'id': '848', 'type': 'people'}]}, 'organisms': {'data': []}, 'people': {'data': [{'id': '848', 'type': 'people'}]}, 'projects': {'data': [{'id': '60', 'type': 'projects'}]}, 'investigation': {'data': {'id': '130', 'type': 'investigations'}}, 'study': {'data': {'id': '361', 'type': 'studies'}}, 'data_files': {'data': [{'id': '2249', 'type': 'data_files'}, {'id': '2278', 'type': 'data_files'}, {'id': '2279', 'type': 'data_files'}]}, 'models': {'data': []}, 'sops': {'data': []}, 'publications': {'data': []}, 'documents': {'data': []}}, 'links': {'self': '/assays/753'}, 'meta': {'created': '2018-11-26T14:19:01.000Z', 'modified': '2018-11-27T10:20:31.000Z', 'api_version': '0.2', 'uuid': '25372ee0-d3b4-0136-516f-549f350973c0', 'base_url': 'https://fairdomhub.org'}}\n"
       }
      ],
      "source": "result = object()\nresult = lambda: None\n\nparseRecurs(result, callback['data'])",
      "start_time": "2019-02-26T14:00:03.418Z"
     },
     {
      "end_time": "2019-02-26T14:00:32.461Z",
      "execution_time": "10ms",
      "outputs": [
       {
        "name": "stdout",
        "output_type": "stream",
        "text": "id 753\n"
       }
      ],
      "source": "result = object()\nresult = lambda: None\n\nparseRecurs(result, callback['data'])",
      "start_time": "2019-02-26T14:00:32.451Z"
     },
     {
      "end_time": "2019-02-26T14:00:48.360Z",
      "execution_time": "36ms",
      "outputs": [
       {
        "name": "stdout",
        "output_type": "stream",
        "text": "id 753\ntype assays\n"
       },
       {
        "ename": "TypeError",
        "evalue": "must be str, not dict",
        "output_type": "error",
        "traceback": [
         "\u001b[0;31m---------------------------------------------------------------------------\u001b[0m",
         "\u001b[0;31mTypeError\u001b[0m                                 Traceback (most recent call last)",
         "\u001b[0;32m<ipython-input-143-24f7f8d61e97>\u001b[0m in \u001b[0;36m<module>\u001b[0;34m()\u001b[0m\n\u001b[1;32m      2\u001b[0m \u001b[0mresult\u001b[0m \u001b[0;34m=\u001b[0m \u001b[0;32mlambda\u001b[0m\u001b[0;34m:\u001b[0m \u001b[0;32mNone\u001b[0m\u001b[0;34m\u001b[0m\u001b[0m\n\u001b[1;32m      3\u001b[0m \u001b[0;34m\u001b[0m\u001b[0m\n\u001b[0;32m----> 4\u001b[0;31m \u001b[0mparseRecurs\u001b[0m\u001b[0;34m(\u001b[0m\u001b[0mresult\u001b[0m\u001b[0;34m,\u001b[0m \u001b[0mcallback\u001b[0m\u001b[0;34m[\u001b[0m\u001b[0;34m'data'\u001b[0m\u001b[0;34m]\u001b[0m\u001b[0;34m)\u001b[0m\u001b[0;34m\u001b[0m\u001b[0m\n\u001b[0m",
         "\u001b[0;32m<ipython-input-142-a97fe8a0702c>\u001b[0m in \u001b[0;36mparseRecurs\u001b[0;34m(layerName, layer)\u001b[0m\n\u001b[1;32m      3\u001b[0m     \u001b[0;32mfor\u001b[0m \u001b[0mkey\u001b[0m\u001b[0;34m,\u001b[0m \u001b[0mvalue\u001b[0m \u001b[0;32min\u001b[0m \u001b[0mlayer\u001b[0m\u001b[0;34m.\u001b[0m\u001b[0mitems\u001b[0m\u001b[0;34m(\u001b[0m\u001b[0;34m)\u001b[0m\u001b[0;34m:\u001b[0m\u001b[0;34m\u001b[0m\u001b[0m\n\u001b[1;32m      4\u001b[0m \u001b[0;34m\u001b[0m\u001b[0m\n\u001b[0;32m----> 5\u001b[0;31m         \u001b[0mprint\u001b[0m\u001b[0;34m(\u001b[0m\u001b[0mkey\u001b[0m \u001b[0;34m+\u001b[0m \u001b[0;34m' '\u001b[0m \u001b[0;34m+\u001b[0m \u001b[0mvalue\u001b[0m\u001b[0;34m)\u001b[0m\u001b[0;34m\u001b[0m\u001b[0m\n\u001b[0m\u001b[1;32m      6\u001b[0m         \u001b[0;32mif\u001b[0m \u001b[0mhasattr\u001b[0m\u001b[0;34m(\u001b[0m\u001b[0mvalue\u001b[0m\u001b[0;34m,\u001b[0m \u001b[0;34m'items'\u001b[0m\u001b[0;34m)\u001b[0m \u001b[0;34m==\u001b[0m \u001b[0;32mTrue\u001b[0m\u001b[0;34m:\u001b[0m\u001b[0;34m\u001b[0m\u001b[0m\n\u001b[1;32m      7\u001b[0m             \u001b[0mparseRecurs\u001b[0m\u001b[0;34m(\u001b[0m\u001b[0mkey\u001b[0m\u001b[0;34m,\u001b[0m \u001b[0mvalue\u001b[0m\u001b[0;34m)\u001b[0m\u001b[0;34m\u001b[0m\u001b[0m\n",
         "\u001b[0;31mTypeError\u001b[0m: must be str, not dict"
        ]
       }
      ],
      "source": "result = object()\nresult = lambda: None\n\nparseRecurs(result, callback['data'])",
      "start_time": "2019-02-26T14:00:48.324Z"
     },
     {
      "end_time": "2019-02-26T14:00:59.833Z",
      "execution_time": "33ms",
      "outputs": [
       {
        "ename": "AttributeError",
        "evalue": "'str' object has no attribute 'snapshots'",
        "output_type": "error",
        "traceback": [
         "\u001b[0;31m---------------------------------------------------------------------------\u001b[0m",
         "\u001b[0;31mAttributeError\u001b[0m                            Traceback (most recent call last)",
         "\u001b[0;32m<ipython-input-145-24f7f8d61e97>\u001b[0m in \u001b[0;36m<module>\u001b[0;34m()\u001b[0m\n\u001b[1;32m      2\u001b[0m \u001b[0mresult\u001b[0m \u001b[0;34m=\u001b[0m \u001b[0;32mlambda\u001b[0m\u001b[0;34m:\u001b[0m \u001b[0;32mNone\u001b[0m\u001b[0;34m\u001b[0m\u001b[0m\n\u001b[1;32m      3\u001b[0m \u001b[0;34m\u001b[0m\u001b[0m\n\u001b[0;32m----> 4\u001b[0;31m \u001b[0mparseRecurs\u001b[0m\u001b[0;34m(\u001b[0m\u001b[0mresult\u001b[0m\u001b[0;34m,\u001b[0m \u001b[0mcallback\u001b[0m\u001b[0;34m[\u001b[0m\u001b[0;34m'data'\u001b[0m\u001b[0;34m]\u001b[0m\u001b[0;34m)\u001b[0m\u001b[0;34m\u001b[0m\u001b[0m\n\u001b[0m",
         "\u001b[0;32m<ipython-input-144-dfbcaa03bd31>\u001b[0m in \u001b[0;36mparseRecurs\u001b[0;34m(layerName, layer)\u001b[0m\n\u001b[1;32m      5\u001b[0m \u001b[0;31m#         print(key + ' ' + value)\u001b[0m\u001b[0;34m\u001b[0m\u001b[0;34m\u001b[0m\u001b[0m\n\u001b[1;32m      6\u001b[0m         \u001b[0;32mif\u001b[0m \u001b[0mhasattr\u001b[0m\u001b[0;34m(\u001b[0m\u001b[0mvalue\u001b[0m\u001b[0;34m,\u001b[0m \u001b[0;34m'items'\u001b[0m\u001b[0;34m)\u001b[0m \u001b[0;34m==\u001b[0m \u001b[0;32mTrue\u001b[0m\u001b[0;34m:\u001b[0m\u001b[0;34m\u001b[0m\u001b[0m\n\u001b[0;32m----> 7\u001b[0;31m             \u001b[0mparseRecurs\u001b[0m\u001b[0;34m(\u001b[0m\u001b[0mkey\u001b[0m\u001b[0;34m,\u001b[0m \u001b[0mvalue\u001b[0m\u001b[0;34m)\u001b[0m\u001b[0;34m\u001b[0m\u001b[0m\n\u001b[0m\u001b[1;32m      8\u001b[0m         \u001b[0;32melse\u001b[0m\u001b[0;34m:\u001b[0m\u001b[0;34m\u001b[0m\u001b[0m\n\u001b[1;32m      9\u001b[0m \u001b[0;31m#             print(key + ' ' + value)\u001b[0m\u001b[0;34m\u001b[0m\u001b[0;34m\u001b[0m\u001b[0m\n",
         "\u001b[0;32m<ipython-input-144-dfbcaa03bd31>\u001b[0m in \u001b[0;36mparseRecurs\u001b[0;34m(layerName, layer)\u001b[0m\n\u001b[1;32m      8\u001b[0m         \u001b[0;32melse\u001b[0m\u001b[0;34m:\u001b[0m\u001b[0;34m\u001b[0m\u001b[0m\n\u001b[1;32m      9\u001b[0m \u001b[0;31m#             print(key + ' ' + value)\u001b[0m\u001b[0;34m\u001b[0m\u001b[0;34m\u001b[0m\u001b[0m\n\u001b[0;32m---> 10\u001b[0;31m             \u001b[0msetattr\u001b[0m\u001b[0;34m(\u001b[0m\u001b[0mlayerName\u001b[0m\u001b[0;34m,\u001b[0m \u001b[0mkey\u001b[0m\u001b[0;34m,\u001b[0m \u001b[0mvalue\u001b[0m\u001b[0;34m)\u001b[0m\u001b[0;34m\u001b[0m\u001b[0m\n\u001b[0m\u001b[1;32m     11\u001b[0m \u001b[0;34m\u001b[0m\u001b[0m\n\u001b[1;32m     12\u001b[0m \u001b[0;34m\u001b[0m\u001b[0m\n",
         "\u001b[0;31mAttributeError\u001b[0m: 'str' object has no attribute 'snapshots'"
        ]
       }
      ],
      "source": "result = object()\nresult = lambda: None\n\nparseRecurs(result, callback['data'])",
      "start_time": "2019-02-26T14:00:59.800Z"
     },
     {
      "end_time": "2019-02-26T14:03:11.306Z",
      "execution_time": "3ms",
      "outputs": [],
      "source": "result = object()\nresult = lambda: None\n\nparseRecurs(result, callback['data'])",
      "start_time": "2019-02-26T14:03:11.303Z"
     },
     {
      "end_time": "2019-02-26T14:03:38.215Z",
      "execution_time": "38ms",
      "outputs": [
       {
        "name": "stdout",
        "output_type": "stream",
        "text": "id 753\ntype assays\n"
       },
       {
        "ename": "TypeError",
        "evalue": "must be str, not dict",
        "output_type": "error",
        "traceback": [
         "\u001b[0;31m---------------------------------------------------------------------------\u001b[0m",
         "\u001b[0;31mTypeError\u001b[0m                                 Traceback (most recent call last)",
         "\u001b[0;32m<ipython-input-154-24f7f8d61e97>\u001b[0m in \u001b[0;36m<module>\u001b[0;34m()\u001b[0m\n\u001b[1;32m      2\u001b[0m \u001b[0mresult\u001b[0m \u001b[0;34m=\u001b[0m \u001b[0;32mlambda\u001b[0m\u001b[0;34m:\u001b[0m \u001b[0;32mNone\u001b[0m\u001b[0;34m\u001b[0m\u001b[0m\n\u001b[1;32m      3\u001b[0m \u001b[0;34m\u001b[0m\u001b[0m\n\u001b[0;32m----> 4\u001b[0;31m \u001b[0mparseRecurs\u001b[0m\u001b[0;34m(\u001b[0m\u001b[0mresult\u001b[0m\u001b[0;34m,\u001b[0m \u001b[0mcallback\u001b[0m\u001b[0;34m[\u001b[0m\u001b[0;34m'data'\u001b[0m\u001b[0;34m]\u001b[0m\u001b[0;34m)\u001b[0m\u001b[0;34m\u001b[0m\u001b[0m\n\u001b[0m",
         "\u001b[0;32m<ipython-input-153-3a596affea4c>\u001b[0m in \u001b[0;36mparseRecurs\u001b[0;34m(layerName, layer)\u001b[0m\n\u001b[1;32m      3\u001b[0m     \u001b[0;32mfor\u001b[0m \u001b[0mkey\u001b[0m\u001b[0;34m,\u001b[0m \u001b[0mvalue\u001b[0m \u001b[0;32min\u001b[0m \u001b[0mlayer\u001b[0m\u001b[0;34m.\u001b[0m\u001b[0mitems\u001b[0m\u001b[0;34m(\u001b[0m\u001b[0;34m)\u001b[0m\u001b[0;34m:\u001b[0m\u001b[0;34m\u001b[0m\u001b[0m\n\u001b[1;32m      4\u001b[0m \u001b[0;34m\u001b[0m\u001b[0m\n\u001b[0;32m----> 5\u001b[0;31m         \u001b[0mprint\u001b[0m\u001b[0;34m(\u001b[0m\u001b[0mkey\u001b[0m \u001b[0;34m+\u001b[0m \u001b[0;34m' '\u001b[0m \u001b[0;34m+\u001b[0m \u001b[0mvalue\u001b[0m\u001b[0;34m)\u001b[0m\u001b[0;34m\u001b[0m\u001b[0m\n\u001b[0m\u001b[1;32m      6\u001b[0m         \u001b[0;32mif\u001b[0m \u001b[0mhasattr\u001b[0m\u001b[0;34m(\u001b[0m\u001b[0mvalue\u001b[0m\u001b[0;34m,\u001b[0m \u001b[0;34m'items'\u001b[0m\u001b[0;34m)\u001b[0m \u001b[0;34m==\u001b[0m \u001b[0;32mTrue\u001b[0m\u001b[0;34m:\u001b[0m\u001b[0;34m\u001b[0m\u001b[0m\n\u001b[1;32m      7\u001b[0m             \u001b[0mkey\u001b[0m \u001b[0;34m=\u001b[0m \u001b[0;32mlambda\u001b[0m\u001b[0;34m:\u001b[0m \u001b[0;32mNone\u001b[0m\u001b[0;34m\u001b[0m\u001b[0m\n",
         "\u001b[0;31mTypeError\u001b[0m: must be str, not dict"
        ]
       }
      ],
      "source": "result = object()\nresult = lambda: None\n\nparseRecurs(result, callback['data'])",
      "start_time": "2019-02-26T14:03:38.177Z"
     },
     {
      "end_time": "2019-02-26T14:03:48.374Z",
      "execution_time": "17ms",
      "outputs": [
       {
        "name": "stdout",
        "output_type": "stream",
        "text": "<function <lambda> at 0x7fae040618c8>\n\n{'id': '753', 'type': 'assays', 'attributes': {'snapshots': None, 'title': 'Gene expression', 'description': 'Analyses of gene expression: qPCR analyses in liver (relative expression) and ovaries (absolute expression). ', 'other_creators': None, 'assay_class': {'title': 'Experimental Assay', 'key': 'EXP', 'description': None}, 'assay_type': {'label': 'Experimental Assay Type', 'uri': 'http://jermontology.org/ontology/JERMOntology#Experimental_assay_type'}, 'technology_type': {'label': 'Technology Type', 'uri': 'http://jermontology.org/ontology/JERMOntology#Technology_type'}, 'tags': None}, 'relationships': {'creators': {'data': [{'id': '848', 'type': 'people'}]}, 'submitter': {'data': [{'id': '848', 'type': 'people'}]}, 'organisms': {'data': []}, 'people': {'data': [{'id': '848', 'type': 'people'}]}, 'projects': {'data': [{'id': '60', 'type': 'projects'}]}, 'investigation': {'data': {'id': '130', 'type': 'investigations'}}, 'study': {'data': {'id': '361', 'type': 'studies'}}, 'data_files': {'data': [{'id': '2249', 'type': 'data_files'}, {'id': '2278', 'type': 'data_files'}, {'id': '2279', 'type': 'data_files'}]}, 'models': {'data': []}, 'sops': {'data': []}, 'publications': {'data': []}, 'documents': {'data': []}}, 'links': {'self': '/assays/753'}, 'meta': {'created': '2018-11-26T14:19:01.000Z', 'modified': '2018-11-27T10:20:31.000Z', 'api_version': '0.2', 'uuid': '25372ee0-d3b4-0136-516f-549f350973c0', 'base_url': 'https://fairdomhub.org'}}\n<function parseRecurs.<locals>.<lambda> at 0x7fae04061e18>\n\n{'snapshots': None, 'title': 'Gene expression', 'description': 'Analyses of gene expression: qPCR analyses in liver (relative expression) and ovaries (absolute expression). ', 'other_creators': None, 'assay_class': {'title': 'Experimental Assay', 'key': 'EXP', 'description': None}, 'assay_type': {'label': 'Experimental Assay Type', 'uri': 'http://jermontology.org/ontology/JERMOntology#Experimental_assay_type'}, 'technology_type': {'label': 'Technology Type', 'uri': 'http://jermontology.org/ontology/JERMOntology#Technology_type'}, 'tags': None}\n<function parseRecurs.<locals>.<lambda> at 0x7fae04061488>\n\n{'title': 'Experimental Assay', 'key': 'EXP', 'description': None}\n<function parseRecurs.<locals>.<lambda> at 0x7fae04061488>\n\n{'label': 'Experimental Assay Type', 'uri': 'http://jermontology.org/ontology/JERMOntology#Experimental_assay_type'}\n<function parseRecurs.<locals>.<lambda> at 0x7fae04061488>\n\n{'label': 'Technology Type', 'uri': 'http://jermontology.org/ontology/JERMOntology#Technology_type'}\n<function parseRecurs.<locals>.<lambda> at 0x7fae04061e18>\n\n{'creators': {'data': [{'id': '848', 'type': 'people'}]}, 'submitter': {'data': [{'id': '848', 'type': 'people'}]}, 'organisms': {'data': []}, 'people': {'data': [{'id': '848', 'type': 'people'}]}, 'projects': {'data': [{'id': '60', 'type': 'projects'}]}, 'investigation': {'data': {'id': '130', 'type': 'investigations'}}, 'study': {'data': {'id': '361', 'type': 'studies'}}, 'data_files': {'data': [{'id': '2249', 'type': 'data_files'}, {'id': '2278', 'type': 'data_files'}, {'id': '2279', 'type': 'data_files'}]}, 'models': {'data': []}, 'sops': {'data': []}, 'publications': {'data': []}, 'documents': {'data': []}}\n<function parseRecurs.<locals>.<lambda> at 0x7fadef75e268>\n\n{'data': [{'id': '848', 'type': 'people'}]}\n<function parseRecurs.<locals>.<lambda> at 0x7fadef75e268>\n\n{'data': [{'id': '848', 'type': 'people'}]}\n<function parseRecurs.<locals>.<lambda> at 0x7fadef75e268>\n\n{'data': []}\n<function parseRecurs.<locals>.<lambda> at 0x7fadef75e268>\n\n{'data': [{'id': '848', 'type': 'people'}]}\n<function parseRecurs.<locals>.<lambda> at 0x7fadef75e268>\n\n{'data': [{'id': '60', 'type': 'projects'}]}\n<function parseRecurs.<locals>.<lambda> at 0x7fadef75e268>\n\n{'data': {'id': '130', 'type': 'investigations'}}\n<function parseRecurs.<locals>.<lambda> at 0x7fadef75e950>\n\n{'id': '130', 'type': 'investigations'}\n<function parseRecurs.<locals>.<lambda> at 0x7fadef75e268>\n\n{'data': {'id': '361', 'type': 'studies'}}\n<function parseRecurs.<locals>.<lambda> at 0x7fadef75eb70>\n\n{'id': '361', 'type': 'studies'}\n<function parseRecurs.<locals>.<lambda> at 0x7fadef75e268>\n\n{'data': [{'id': '2249', 'type': 'data_files'}, {'id': '2278', 'type': 'data_files'}, {'id': '2279', 'type': 'data_files'}]}\n<function parseRecurs.<locals>.<lambda> at 0x7fadef75e268>\n\n{'data': []}\n<function parseRecurs.<locals>.<lambda> at 0x7fadef75e268>\n\n{'data': []}\n<function parseRecurs.<locals>.<lambda> at 0x7fadef75e268>\n\n{'data': []}\n<function parseRecurs.<locals>.<lambda> at 0x7fadef75e268>\n\n{'data': []}\n<function parseRecurs.<locals>.<lambda> at 0x7fadef75e268>\n\n{'self': '/assays/753'}\n<function parseRecurs.<locals>.<lambda> at 0x7fadef75e268>\n\n{'created': '2018-11-26T14:19:01.000Z', 'modified': '2018-11-27T10:20:31.000Z', 'api_version': '0.2', 'uuid': '25372ee0-d3b4-0136-516f-549f350973c0', 'base_url': 'https://fairdomhub.org'}\n"
       }
      ],
      "source": "result = object()\nresult = lambda: None\n\nparseRecurs(result, callback['data'])",
      "start_time": "2019-02-26T14:03:48.357Z"
     },
     {
      "end_time": "2019-02-26T14:04:21.621Z",
      "execution_time": "20ms",
      "outputs": [
       {
        "name": "stdout",
        "output_type": "stream",
        "text": "id 753\ntype assays\nattributes {'snapshots': None, 'title': 'Gene expression', 'description': 'Analyses of gene expression: qPCR analyses in liver (relative expression) and ovaries (absolute expression). ', 'other_creators': None, 'assay_class': {'title': 'Experimental Assay', 'key': 'EXP', 'description': None}, 'assay_type': {'label': 'Experimental Assay Type', 'uri': 'http://jermontology.org/ontology/JERMOntology#Experimental_assay_type'}, 'technology_type': {'label': 'Technology Type', 'uri': 'http://jermontology.org/ontology/JERMOntology#Technology_type'}, 'tags': None}\nsnapshots None\ntitle Gene expression\ndescription Analyses of gene expression: qPCR analyses in liver (relative expression) and ovaries (absolute expression). \nother_creators None\nassay_class {'title': 'Experimental Assay', 'key': 'EXP', 'description': None}\ntitle Experimental Assay\nkey EXP\ndescription None\nassay_type {'label': 'Experimental Assay Type', 'uri': 'http://jermontology.org/ontology/JERMOntology#Experimental_assay_type'}\nlabel Experimental Assay Type\nuri http://jermontology.org/ontology/JERMOntology#Experimental_assay_type\ntechnology_type {'label': 'Technology Type', 'uri': 'http://jermontology.org/ontology/JERMOntology#Technology_type'}\nlabel Technology Type\nuri http://jermontology.org/ontology/JERMOntology#Technology_type\ntags None\nrelationships {'creators': {'data': [{'id': '848', 'type': 'people'}]}, 'submitter': {'data': [{'id': '848', 'type': 'people'}]}, 'organisms': {'data': []}, 'people': {'data': [{'id': '848', 'type': 'people'}]}, 'projects': {'data': [{'id': '60', 'type': 'projects'}]}, 'investigation': {'data': {'id': '130', 'type': 'investigations'}}, 'study': {'data': {'id': '361', 'type': 'studies'}}, 'data_files': {'data': [{'id': '2249', 'type': 'data_files'}, {'id': '2278', 'type': 'data_files'}, {'id': '2279', 'type': 'data_files'}]}, 'models': {'data': []}, 'sops': {'data': []}, 'publications': {'data': []}, 'documents': {'data': []}}\ncreators {'data': [{'id': '848', 'type': 'people'}]}\ndata [{'id': '848', 'type': 'people'}]\nsubmitter {'data': [{'id': '848', 'type': 'people'}]}\ndata [{'id': '848', 'type': 'people'}]\norganisms {'data': []}\ndata []\npeople {'data': [{'id': '848', 'type': 'people'}]}\ndata [{'id': '848', 'type': 'people'}]\nprojects {'data': [{'id': '60', 'type': 'projects'}]}\ndata [{'id': '60', 'type': 'projects'}]\ninvestigation {'data': {'id': '130', 'type': 'investigations'}}\ndata {'id': '130', 'type': 'investigations'}\nid 130\ntype investigations\nstudy {'data': {'id': '361', 'type': 'studies'}}\ndata {'id': '361', 'type': 'studies'}\nid 361\ntype studies\ndata_files {'data': [{'id': '2249', 'type': 'data_files'}, {'id': '2278', 'type': 'data_files'}, {'id': '2279', 'type': 'data_files'}]}\ndata [{'id': '2249', 'type': 'data_files'}, {'id': '2278', 'type': 'data_files'}, {'id': '2279', 'type': 'data_files'}]\nmodels {'data': []}\ndata []\nsops {'data': []}\ndata []\npublications {'data': []}\ndata []\ndocuments {'data': []}\ndata []\nlinks {'self': '/assays/753'}\nself /assays/753\nmeta {'created': '2018-11-26T14:19:01.000Z', 'modified': '2018-11-27T10:20:31.000Z', 'api_version': '0.2', 'uuid': '25372ee0-d3b4-0136-516f-549f350973c0', 'base_url': 'https://fairdomhub.org'}\ncreated 2018-11-26T14:19:01.000Z\nmodified 2018-11-27T10:20:31.000Z\napi_version 0.2\nuuid 25372ee0-d3b4-0136-516f-549f350973c0\nbase_url https://fairdomhub.org\n"
       }
      ],
      "source": "result = object()\nresult = lambda: None\n\nparseRecurs(result, callback['data'])",
      "start_time": "2019-02-26T14:04:21.601Z"
     },
     {
      "end_time": "2019-02-26T14:04:51.736Z",
      "execution_time": "46ms",
      "outputs": [
       {
        "name": "stdout",
        "output_type": "stream",
        "text": "id 753\ntype assays\nsnapshots None\ntitle Gene expression\ndescription Analyses of gene expression: qPCR analyses in liver (relative expression) and ovaries (absolute expression). \nother_creators None\ntitle Experimental Assay\nkey EXP\ndescription None\nlabel Experimental Assay Type\nuri http://jermontology.org/ontology/JERMOntology#Experimental_assay_type\nlabel Technology Type\nuri http://jermontology.org/ontology/JERMOntology#Technology_type\ntags None\ndata [{'id': '848', 'type': 'people'}]\ndata [{'id': '848', 'type': 'people'}]\ndata []\ndata [{'id': '848', 'type': 'people'}]\ndata [{'id': '60', 'type': 'projects'}]\nid 130\ntype investigations\nid 361\ntype studies\ndata [{'id': '2249', 'type': 'data_files'}, {'id': '2278', 'type': 'data_files'}, {'id': '2279', 'type': 'data_files'}]\ndata []\ndata []\ndata []\ndata []\nself /assays/753\ncreated 2018-11-26T14:19:01.000Z\nmodified 2018-11-27T10:20:31.000Z\napi_version 0.2\nuuid 25372ee0-d3b4-0136-516f-549f350973c0\nbase_url https://fairdomhub.org\n"
       }
      ],
      "source": "result = object()\nresult = lambda: None\n\nparseRecurs(result, callback['data'])",
      "start_time": "2019-02-26T14:04:51.690Z"
     },
     {
      "end_time": "2019-02-26T14:08:58.504Z",
      "execution_time": "9ms",
      "outputs": [
       {
        "name": "stdout",
        "output_type": "stream",
        "text": "id 753\ntype assays\nsnapshots None\ntitle Gene expression\ndescription Analyses of gene expression: qPCR analyses in liver (relative expression) and ovaries (absolute expression). \nother_creators None\ntitle Experimental Assay\nkey EXP\ndescription None\nlabel Experimental Assay Type\nuri http://jermontology.org/ontology/JERMOntology#Experimental_assay_type\nlabel Technology Type\nuri http://jermontology.org/ontology/JERMOntology#Technology_type\ntags None\ndata [{'id': '848', 'type': 'people'}]\ndata [{'id': '848', 'type': 'people'}]\ndata []\ndata [{'id': '848', 'type': 'people'}]\ndata [{'id': '60', 'type': 'projects'}]\nid 130\ntype investigations\nid 361\ntype studies\ndata [{'id': '2249', 'type': 'data_files'}, {'id': '2278', 'type': 'data_files'}, {'id': '2279', 'type': 'data_files'}]\ndata []\ndata []\ndata []\ndata []\nself /assays/753\ncreated 2018-11-26T14:19:01.000Z\nmodified 2018-11-27T10:20:31.000Z\napi_version 0.2\nuuid 25372ee0-d3b4-0136-516f-549f350973c0\nbase_url https://fairdomhub.org\n"
       }
      ],
      "source": "result = object()\nresult = lambda: None\n\nresult = parseRecurs(result, callback['data'])",
      "start_time": "2019-02-26T14:08:58.495Z"
     },
     {
      "end_time": "2019-02-26T14:09:27.539Z",
      "execution_time": "9ms",
      "outputs": [],
      "source": "result = object()\nresult = lambda: None\n\nresult = parseRecurs(result, callback['data'])",
      "start_time": "2019-02-26T14:09:27.530Z"
     },
     {
      "end_time": "2019-02-26T14:10:13.156Z",
      "execution_time": "9ms",
      "outputs": [],
      "source": "result = object()\nresult = lambda: None\n\nresult = parseRecurs(result, callback['data'])",
      "start_time": "2019-02-26T14:10:13.147Z"
     },
     {
      "end_time": "2019-02-26T14:14:34.542Z",
      "execution_time": "8ms",
      "outputs": [],
      "source": "result = object()\nresult = lambda: None\n\nresult = parseRecurs(result, callback['data'])",
      "start_time": "2019-02-26T14:14:34.534Z"
     },
     {
      "end_time": "2019-02-26T14:14:59.773Z",
      "execution_time": "9ms",
      "outputs": [
       {
        "name": "stdout",
        "output_type": "stream",
        "text": "{'id': '753', 'type': 'assays', 'attributes': {'snapshots': None, 'title': 'Gene expression', 'description': 'Analyses of gene expression: qPCR analyses in liver (relative expression) and ovaries (absolute expression). ', 'other_creators': None, 'assay_class': {'title': 'Experimental Assay', 'key': 'EXP', 'description': None}, 'assay_type': {'label': 'Experimental Assay Type', 'uri': 'http://jermontology.org/ontology/JERMOntology#Experimental_assay_type'}, 'technology_type': {'label': 'Technology Type', 'uri': 'http://jermontology.org/ontology/JERMOntology#Technology_type'}, 'tags': None}, 'relationships': {'creators': {'data': [{'id': '848', 'type': 'people'}]}, 'submitter': {'data': [{'id': '848', 'type': 'people'}]}, 'organisms': {'data': []}, 'people': {'data': [{'id': '848', 'type': 'people'}]}, 'projects': {'data': [{'id': '60', 'type': 'projects'}]}, 'investigation': {'data': {'id': '130', 'type': 'investigations'}}, 'study': {'data': {'id': '361', 'type': 'studies'}}, 'data_files': {'data': [{'id': '2249', 'type': 'data_files'}, {'id': '2278', 'type': 'data_files'}, {'id': '2279', 'type': 'data_files'}]}, 'models': {'data': []}, 'sops': {'data': []}, 'publications': {'data': []}, 'documents': {'data': []}}, 'links': {'self': '/assays/753'}, 'meta': {'created': '2018-11-26T14:19:01.000Z', 'modified': '2018-11-27T10:20:31.000Z', 'api_version': '0.2', 'uuid': '25372ee0-d3b4-0136-516f-549f350973c0', 'base_url': 'https://fairdomhub.org'}}\n{'snapshots': None, 'title': 'Gene expression', 'description': 'Analyses of gene expression: qPCR analyses in liver (relative expression) and ovaries (absolute expression). ', 'other_creators': None, 'assay_class': {'title': 'Experimental Assay', 'key': 'EXP', 'description': None}, 'assay_type': {'label': 'Experimental Assay Type', 'uri': 'http://jermontology.org/ontology/JERMOntology#Experimental_assay_type'}, 'technology_type': {'label': 'Technology Type', 'uri': 'http://jermontology.org/ontology/JERMOntology#Technology_type'}, 'tags': None}\n{'snapshots': None, 'title': 'Gene expression', 'description': 'Analyses of gene expression: qPCR analyses in liver (relative expression) and ovaries (absolute expression). ', 'other_creators': None, 'assay_class': {'title': 'Experimental Assay', 'key': 'EXP', 'description': None}, 'assay_type': {'label': 'Experimental Assay Type', 'uri': 'http://jermontology.org/ontology/JERMOntology#Experimental_assay_type'}, 'technology_type': {'label': 'Technology Type', 'uri': 'http://jermontology.org/ontology/JERMOntology#Technology_type'}, 'tags': None}\n{'snapshots': None, 'title': 'Gene expression', 'description': 'Analyses of gene expression: qPCR analyses in liver (relative expression) and ovaries (absolute expression). ', 'other_creators': None, 'assay_class': {'title': 'Experimental Assay', 'key': 'EXP', 'description': None}, 'assay_type': {'label': 'Experimental Assay Type', 'uri': 'http://jermontology.org/ontology/JERMOntology#Experimental_assay_type'}, 'technology_type': {'label': 'Technology Type', 'uri': 'http://jermontology.org/ontology/JERMOntology#Technology_type'}, 'tags': None}\n{'id': '753', 'type': 'assays', 'attributes': {'snapshots': None, 'title': 'Gene expression', 'description': 'Analyses of gene expression: qPCR analyses in liver (relative expression) and ovaries (absolute expression). ', 'other_creators': None, 'assay_class': {'title': 'Experimental Assay', 'key': 'EXP', 'description': None}, 'assay_type': {'label': 'Experimental Assay Type', 'uri': 'http://jermontology.org/ontology/JERMOntology#Experimental_assay_type'}, 'technology_type': {'label': 'Technology Type', 'uri': 'http://jermontology.org/ontology/JERMOntology#Technology_type'}, 'tags': None}, 'relationships': {'creators': {'data': [{'id': '848', 'type': 'people'}]}, 'submitter': {'data': [{'id': '848', 'type': 'people'}]}, 'organisms': {'data': []}, 'people': {'data': [{'id': '848', 'type': 'people'}]}, 'projects': {'data': [{'id': '60', 'type': 'projects'}]}, 'investigation': {'data': {'id': '130', 'type': 'investigations'}}, 'study': {'data': {'id': '361', 'type': 'studies'}}, 'data_files': {'data': [{'id': '2249', 'type': 'data_files'}, {'id': '2278', 'type': 'data_files'}, {'id': '2279', 'type': 'data_files'}]}, 'models': {'data': []}, 'sops': {'data': []}, 'publications': {'data': []}, 'documents': {'data': []}}, 'links': {'self': '/assays/753'}, 'meta': {'created': '2018-11-26T14:19:01.000Z', 'modified': '2018-11-27T10:20:31.000Z', 'api_version': '0.2', 'uuid': '25372ee0-d3b4-0136-516f-549f350973c0', 'base_url': 'https://fairdomhub.org'}}\n{'creators': {'data': [{'id': '848', 'type': 'people'}]}, 'submitter': {'data': [{'id': '848', 'type': 'people'}]}, 'organisms': {'data': []}, 'people': {'data': [{'id': '848', 'type': 'people'}]}, 'projects': {'data': [{'id': '60', 'type': 'projects'}]}, 'investigation': {'data': {'id': '130', 'type': 'investigations'}}, 'study': {'data': {'id': '361', 'type': 'studies'}}, 'data_files': {'data': [{'id': '2249', 'type': 'data_files'}, {'id': '2278', 'type': 'data_files'}, {'id': '2279', 'type': 'data_files'}]}, 'models': {'data': []}, 'sops': {'data': []}, 'publications': {'data': []}, 'documents': {'data': []}}\n{'creators': {'data': [{'id': '848', 'type': 'people'}]}, 'submitter': {'data': [{'id': '848', 'type': 'people'}]}, 'organisms': {'data': []}, 'people': {'data': [{'id': '848', 'type': 'people'}]}, 'projects': {'data': [{'id': '60', 'type': 'projects'}]}, 'investigation': {'data': {'id': '130', 'type': 'investigations'}}, 'study': {'data': {'id': '361', 'type': 'studies'}}, 'data_files': {'data': [{'id': '2249', 'type': 'data_files'}, {'id': '2278', 'type': 'data_files'}, {'id': '2279', 'type': 'data_files'}]}, 'models': {'data': []}, 'sops': {'data': []}, 'publications': {'data': []}, 'documents': {'data': []}}\n{'creators': {'data': [{'id': '848', 'type': 'people'}]}, 'submitter': {'data': [{'id': '848', 'type': 'people'}]}, 'organisms': {'data': []}, 'people': {'data': [{'id': '848', 'type': 'people'}]}, 'projects': {'data': [{'id': '60', 'type': 'projects'}]}, 'investigation': {'data': {'id': '130', 'type': 'investigations'}}, 'study': {'data': {'id': '361', 'type': 'studies'}}, 'data_files': {'data': [{'id': '2249', 'type': 'data_files'}, {'id': '2278', 'type': 'data_files'}, {'id': '2279', 'type': 'data_files'}]}, 'models': {'data': []}, 'sops': {'data': []}, 'publications': {'data': []}, 'documents': {'data': []}}\n{'creators': {'data': [{'id': '848', 'type': 'people'}]}, 'submitter': {'data': [{'id': '848', 'type': 'people'}]}, 'organisms': {'data': []}, 'people': {'data': [{'id': '848', 'type': 'people'}]}, 'projects': {'data': [{'id': '60', 'type': 'projects'}]}, 'investigation': {'data': {'id': '130', 'type': 'investigations'}}, 'study': {'data': {'id': '361', 'type': 'studies'}}, 'data_files': {'data': [{'id': '2249', 'type': 'data_files'}, {'id': '2278', 'type': 'data_files'}, {'id': '2279', 'type': 'data_files'}]}, 'models': {'data': []}, 'sops': {'data': []}, 'publications': {'data': []}, 'documents': {'data': []}}\n{'creators': {'data': [{'id': '848', 'type': 'people'}]}, 'submitter': {'data': [{'id': '848', 'type': 'people'}]}, 'organisms': {'data': []}, 'people': {'data': [{'id': '848', 'type': 'people'}]}, 'projects': {'data': [{'id': '60', 'type': 'projects'}]}, 'investigation': {'data': {'id': '130', 'type': 'investigations'}}, 'study': {'data': {'id': '361', 'type': 'studies'}}, 'data_files': {'data': [{'id': '2249', 'type': 'data_files'}, {'id': '2278', 'type': 'data_files'}, {'id': '2279', 'type': 'data_files'}]}, 'models': {'data': []}, 'sops': {'data': []}, 'publications': {'data': []}, 'documents': {'data': []}}\n{'creators': {'data': [{'id': '848', 'type': 'people'}]}, 'submitter': {'data': [{'id': '848', 'type': 'people'}]}, 'organisms': {'data': []}, 'people': {'data': [{'id': '848', 'type': 'people'}]}, 'projects': {'data': [{'id': '60', 'type': 'projects'}]}, 'investigation': {'data': {'id': '130', 'type': 'investigations'}}, 'study': {'data': {'id': '361', 'type': 'studies'}}, 'data_files': {'data': [{'id': '2249', 'type': 'data_files'}, {'id': '2278', 'type': 'data_files'}, {'id': '2279', 'type': 'data_files'}]}, 'models': {'data': []}, 'sops': {'data': []}, 'publications': {'data': []}, 'documents': {'data': []}}\n{'data': {'id': '130', 'type': 'investigations'}}\n{'creators': {'data': [{'id': '848', 'type': 'people'}]}, 'submitter': {'data': [{'id': '848', 'type': 'people'}]}, 'organisms': {'data': []}, 'people': {'data': [{'id': '848', 'type': 'people'}]}, 'projects': {'data': [{'id': '60', 'type': 'projects'}]}, 'investigation': {'data': {'id': '130', 'type': 'investigations'}}, 'study': {'data': {'id': '361', 'type': 'studies'}}, 'data_files': {'data': [{'id': '2249', 'type': 'data_files'}, {'id': '2278', 'type': 'data_files'}, {'id': '2279', 'type': 'data_files'}]}, 'models': {'data': []}, 'sops': {'data': []}, 'publications': {'data': []}, 'documents': {'data': []}}\n{'data': {'id': '361', 'type': 'studies'}}\n{'creators': {'data': [{'id': '848', 'type': 'people'}]}, 'submitter': {'data': [{'id': '848', 'type': 'people'}]}, 'organisms': {'data': []}, 'people': {'data': [{'id': '848', 'type': 'people'}]}, 'projects': {'data': [{'id': '60', 'type': 'projects'}]}, 'investigation': {'data': {'id': '130', 'type': 'investigations'}}, 'study': {'data': {'id': '361', 'type': 'studies'}}, 'data_files': {'data': [{'id': '2249', 'type': 'data_files'}, {'id': '2278', 'type': 'data_files'}, {'id': '2279', 'type': 'data_files'}]}, 'models': {'data': []}, 'sops': {'data': []}, 'publications': {'data': []}, 'documents': {'data': []}}\n{'creators': {'data': [{'id': '848', 'type': 'people'}]}, 'submitter': {'data': [{'id': '848', 'type': 'people'}]}, 'organisms': {'data': []}, 'people': {'data': [{'id': '848', 'type': 'people'}]}, 'projects': {'data': [{'id': '60', 'type': 'projects'}]}, 'investigation': {'data': {'id': '130', 'type': 'investigations'}}, 'study': {'data': {'id': '361', 'type': 'studies'}}, 'data_files': {'data': [{'id': '2249', 'type': 'data_files'}, {'id': '2278', 'type': 'data_files'}, {'id': '2279', 'type': 'data_files'}]}, 'models': {'data': []}, 'sops': {'data': []}, 'publications': {'data': []}, 'documents': {'data': []}}\n{'creators': {'data': [{'id': '848', 'type': 'people'}]}, 'submitter': {'data': [{'id': '848', 'type': 'people'}]}, 'organisms': {'data': []}, 'people': {'data': [{'id': '848', 'type': 'people'}]}, 'projects': {'data': [{'id': '60', 'type': 'projects'}]}, 'investigation': {'data': {'id': '130', 'type': 'investigations'}}, 'study': {'data': {'id': '361', 'type': 'studies'}}, 'data_files': {'data': [{'id': '2249', 'type': 'data_files'}, {'id': '2278', 'type': 'data_files'}, {'id': '2279', 'type': 'data_files'}]}, 'models': {'data': []}, 'sops': {'data': []}, 'publications': {'data': []}, 'documents': {'data': []}}\n{'creators': {'data': [{'id': '848', 'type': 'people'}]}, 'submitter': {'data': [{'id': '848', 'type': 'people'}]}, 'organisms': {'data': []}, 'people': {'data': [{'id': '848', 'type': 'people'}]}, 'projects': {'data': [{'id': '60', 'type': 'projects'}]}, 'investigation': {'data': {'id': '130', 'type': 'investigations'}}, 'study': {'data': {'id': '361', 'type': 'studies'}}, 'data_files': {'data': [{'id': '2249', 'type': 'data_files'}, {'id': '2278', 'type': 'data_files'}, {'id': '2279', 'type': 'data_files'}]}, 'models': {'data': []}, 'sops': {'data': []}, 'publications': {'data': []}, 'documents': {'data': []}}\n{'creators': {'data': [{'id': '848', 'type': 'people'}]}, 'submitter': {'data': [{'id': '848', 'type': 'people'}]}, 'organisms': {'data': []}, 'people': {'data': [{'id': '848', 'type': 'people'}]}, 'projects': {'data': [{'id': '60', 'type': 'projects'}]}, 'investigation': {'data': {'id': '130', 'type': 'investigations'}}, 'study': {'data': {'id': '361', 'type': 'studies'}}, 'data_files': {'data': [{'id': '2249', 'type': 'data_files'}, {'id': '2278', 'type': 'data_files'}, {'id': '2279', 'type': 'data_files'}]}, 'models': {'data': []}, 'sops': {'data': []}, 'publications': {'data': []}, 'documents': {'data': []}}\n{'id': '753', 'type': 'assays', 'attributes': {'snapshots': None, 'title': 'Gene expression', 'description': 'Analyses of gene expression: qPCR analyses in liver (relative expression) and ovaries (absolute expression). ', 'other_creators': None, 'assay_class': {'title': 'Experimental Assay', 'key': 'EXP', 'description': None}, 'assay_type': {'label': 'Experimental Assay Type', 'uri': 'http://jermontology.org/ontology/JERMOntology#Experimental_assay_type'}, 'technology_type': {'label': 'Technology Type', 'uri': 'http://jermontology.org/ontology/JERMOntology#Technology_type'}, 'tags': None}, 'relationships': {'creators': {'data': [{'id': '848', 'type': 'people'}]}, 'submitter': {'data': [{'id': '848', 'type': 'people'}]}, 'organisms': {'data': []}, 'people': {'data': [{'id': '848', 'type': 'people'}]}, 'projects': {'data': [{'id': '60', 'type': 'projects'}]}, 'investigation': {'data': {'id': '130', 'type': 'investigations'}}, 'study': {'data': {'id': '361', 'type': 'studies'}}, 'data_files': {'data': [{'id': '2249', 'type': 'data_files'}, {'id': '2278', 'type': 'data_files'}, {'id': '2279', 'type': 'data_files'}]}, 'models': {'data': []}, 'sops': {'data': []}, 'publications': {'data': []}, 'documents': {'data': []}}, 'links': {'self': '/assays/753'}, 'meta': {'created': '2018-11-26T14:19:01.000Z', 'modified': '2018-11-27T10:20:31.000Z', 'api_version': '0.2', 'uuid': '25372ee0-d3b4-0136-516f-549f350973c0', 'base_url': 'https://fairdomhub.org'}}\n{'id': '753', 'type': 'assays', 'attributes': {'snapshots': None, 'title': 'Gene expression', 'description': 'Analyses of gene expression: qPCR analyses in liver (relative expression) and ovaries (absolute expression). ', 'other_creators': None, 'assay_class': {'title': 'Experimental Assay', 'key': 'EXP', 'description': None}, 'assay_type': {'label': 'Experimental Assay Type', 'uri': 'http://jermontology.org/ontology/JERMOntology#Experimental_assay_type'}, 'technology_type': {'label': 'Technology Type', 'uri': 'http://jermontology.org/ontology/JERMOntology#Technology_type'}, 'tags': None}, 'relationships': {'creators': {'data': [{'id': '848', 'type': 'people'}]}, 'submitter': {'data': [{'id': '848', 'type': 'people'}]}, 'organisms': {'data': []}, 'people': {'data': [{'id': '848', 'type': 'people'}]}, 'projects': {'data': [{'id': '60', 'type': 'projects'}]}, 'investigation': {'data': {'id': '130', 'type': 'investigations'}}, 'study': {'data': {'id': '361', 'type': 'studies'}}, 'data_files': {'data': [{'id': '2249', 'type': 'data_files'}, {'id': '2278', 'type': 'data_files'}, {'id': '2279', 'type': 'data_files'}]}, 'models': {'data': []}, 'sops': {'data': []}, 'publications': {'data': []}, 'documents': {'data': []}}, 'links': {'self': '/assays/753'}, 'meta': {'created': '2018-11-26T14:19:01.000Z', 'modified': '2018-11-27T10:20:31.000Z', 'api_version': '0.2', 'uuid': '25372ee0-d3b4-0136-516f-549f350973c0', 'base_url': 'https://fairdomhub.org'}}\n"
       }
      ],
      "source": "result = object()\nresult = lambda: None\n\nresult = parseRecurs(result, callback['data'])",
      "start_time": "2019-02-26T14:14:59.764Z"
     },
     {
      "end_time": "2019-02-26T14:15:08.566Z",
      "execution_time": "6ms",
      "outputs": [
       {
        "name": "stdout",
        "output_type": "stream",
        "text": "{'id': '753', 'type': 'assays', 'attributes': {'snapshots': None, 'title': 'Gene expression', 'description': 'Analyses of gene expression: qPCR analyses in liver (relative expression) and ovaries (absolute expression). ', 'other_creators': None, 'assay_class': {'title': 'Experimental Assay', 'key': 'EXP', 'description': None}, 'assay_type': {'label': 'Experimental Assay Type', 'uri': 'http://jermontology.org/ontology/JERMOntology#Experimental_assay_type'}, 'technology_type': {'label': 'Technology Type', 'uri': 'http://jermontology.org/ontology/JERMOntology#Technology_type'}, 'tags': None}, 'relationships': {'creators': {'data': [{'id': '848', 'type': 'people'}]}, 'submitter': {'data': [{'id': '848', 'type': 'people'}]}, 'organisms': {'data': []}, 'people': {'data': [{'id': '848', 'type': 'people'}]}, 'projects': {'data': [{'id': '60', 'type': 'projects'}]}, 'investigation': {'data': {'id': '130', 'type': 'investigations'}}, 'study': {'data': {'id': '361', 'type': 'studies'}}, 'data_files': {'data': [{'id': '2249', 'type': 'data_files'}, {'id': '2278', 'type': 'data_files'}, {'id': '2279', 'type': 'data_files'}]}, 'models': {'data': []}, 'sops': {'data': []}, 'publications': {'data': []}, 'documents': {'data': []}}, 'links': {'self': '/assays/753'}, 'meta': {'created': '2018-11-26T14:19:01.000Z', 'modified': '2018-11-27T10:20:31.000Z', 'api_version': '0.2', 'uuid': '25372ee0-d3b4-0136-516f-549f350973c0', 'base_url': 'https://fairdomhub.org'}}\n{'snapshots': None, 'title': 'Gene expression', 'description': 'Analyses of gene expression: qPCR analyses in liver (relative expression) and ovaries (absolute expression). ', 'other_creators': None, 'assay_class': {'title': 'Experimental Assay', 'key': 'EXP', 'description': None}, 'assay_type': {'label': 'Experimental Assay Type', 'uri': 'http://jermontology.org/ontology/JERMOntology#Experimental_assay_type'}, 'technology_type': {'label': 'Technology Type', 'uri': 'http://jermontology.org/ontology/JERMOntology#Technology_type'}, 'tags': None}\n{'snapshots': None, 'title': 'Gene expression', 'description': 'Analyses of gene expression: qPCR analyses in liver (relative expression) and ovaries (absolute expression). ', 'other_creators': None, 'assay_class': {'title': 'Experimental Assay', 'key': 'EXP', 'description': None}, 'assay_type': {'label': 'Experimental Assay Type', 'uri': 'http://jermontology.org/ontology/JERMOntology#Experimental_assay_type'}, 'technology_type': {'label': 'Technology Type', 'uri': 'http://jermontology.org/ontology/JERMOntology#Technology_type'}, 'tags': None}\n{'snapshots': None, 'title': 'Gene expression', 'description': 'Analyses of gene expression: qPCR analyses in liver (relative expression) and ovaries (absolute expression). ', 'other_creators': None, 'assay_class': {'title': 'Experimental Assay', 'key': 'EXP', 'description': None}, 'assay_type': {'label': 'Experimental Assay Type', 'uri': 'http://jermontology.org/ontology/JERMOntology#Experimental_assay_type'}, 'technology_type': {'label': 'Technology Type', 'uri': 'http://jermontology.org/ontology/JERMOntology#Technology_type'}, 'tags': None}\n{'id': '753', 'type': 'assays', 'attributes': {'snapshots': None, 'title': 'Gene expression', 'description': 'Analyses of gene expression: qPCR analyses in liver (relative expression) and ovaries (absolute expression). ', 'other_creators': None, 'assay_class': {'title': 'Experimental Assay', 'key': 'EXP', 'description': None}, 'assay_type': {'label': 'Experimental Assay Type', 'uri': 'http://jermontology.org/ontology/JERMOntology#Experimental_assay_type'}, 'technology_type': {'label': 'Technology Type', 'uri': 'http://jermontology.org/ontology/JERMOntology#Technology_type'}, 'tags': None}, 'relationships': {'creators': {'data': [{'id': '848', 'type': 'people'}]}, 'submitter': {'data': [{'id': '848', 'type': 'people'}]}, 'organisms': {'data': []}, 'people': {'data': [{'id': '848', 'type': 'people'}]}, 'projects': {'data': [{'id': '60', 'type': 'projects'}]}, 'investigation': {'data': {'id': '130', 'type': 'investigations'}}, 'study': {'data': {'id': '361', 'type': 'studies'}}, 'data_files': {'data': [{'id': '2249', 'type': 'data_files'}, {'id': '2278', 'type': 'data_files'}, {'id': '2279', 'type': 'data_files'}]}, 'models': {'data': []}, 'sops': {'data': []}, 'publications': {'data': []}, 'documents': {'data': []}}, 'links': {'self': '/assays/753'}, 'meta': {'created': '2018-11-26T14:19:01.000Z', 'modified': '2018-11-27T10:20:31.000Z', 'api_version': '0.2', 'uuid': '25372ee0-d3b4-0136-516f-549f350973c0', 'base_url': 'https://fairdomhub.org'}}\n{'creators': {'data': [{'id': '848', 'type': 'people'}]}, 'submitter': {'data': [{'id': '848', 'type': 'people'}]}, 'organisms': {'data': []}, 'people': {'data': [{'id': '848', 'type': 'people'}]}, 'projects': {'data': [{'id': '60', 'type': 'projects'}]}, 'investigation': {'data': {'id': '130', 'type': 'investigations'}}, 'study': {'data': {'id': '361', 'type': 'studies'}}, 'data_files': {'data': [{'id': '2249', 'type': 'data_files'}, {'id': '2278', 'type': 'data_files'}, {'id': '2279', 'type': 'data_files'}]}, 'models': {'data': []}, 'sops': {'data': []}, 'publications': {'data': []}, 'documents': {'data': []}}\n{'creators': {'data': [{'id': '848', 'type': 'people'}]}, 'submitter': {'data': [{'id': '848', 'type': 'people'}]}, 'organisms': {'data': []}, 'people': {'data': [{'id': '848', 'type': 'people'}]}, 'projects': {'data': [{'id': '60', 'type': 'projects'}]}, 'investigation': {'data': {'id': '130', 'type': 'investigations'}}, 'study': {'data': {'id': '361', 'type': 'studies'}}, 'data_files': {'data': [{'id': '2249', 'type': 'data_files'}, {'id': '2278', 'type': 'data_files'}, {'id': '2279', 'type': 'data_files'}]}, 'models': {'data': []}, 'sops': {'data': []}, 'publications': {'data': []}, 'documents': {'data': []}}\n{'creators': {'data': [{'id': '848', 'type': 'people'}]}, 'submitter': {'data': [{'id': '848', 'type': 'people'}]}, 'organisms': {'data': []}, 'people': {'data': [{'id': '848', 'type': 'people'}]}, 'projects': {'data': [{'id': '60', 'type': 'projects'}]}, 'investigation': {'data': {'id': '130', 'type': 'investigations'}}, 'study': {'data': {'id': '361', 'type': 'studies'}}, 'data_files': {'data': [{'id': '2249', 'type': 'data_files'}, {'id': '2278', 'type': 'data_files'}, {'id': '2279', 'type': 'data_files'}]}, 'models': {'data': []}, 'sops': {'data': []}, 'publications': {'data': []}, 'documents': {'data': []}}\n{'creators': {'data': [{'id': '848', 'type': 'people'}]}, 'submitter': {'data': [{'id': '848', 'type': 'people'}]}, 'organisms': {'data': []}, 'people': {'data': [{'id': '848', 'type': 'people'}]}, 'projects': {'data': [{'id': '60', 'type': 'projects'}]}, 'investigation': {'data': {'id': '130', 'type': 'investigations'}}, 'study': {'data': {'id': '361', 'type': 'studies'}}, 'data_files': {'data': [{'id': '2249', 'type': 'data_files'}, {'id': '2278', 'type': 'data_files'}, {'id': '2279', 'type': 'data_files'}]}, 'models': {'data': []}, 'sops': {'data': []}, 'publications': {'data': []}, 'documents': {'data': []}}\n{'creators': {'data': [{'id': '848', 'type': 'people'}]}, 'submitter': {'data': [{'id': '848', 'type': 'people'}]}, 'organisms': {'data': []}, 'people': {'data': [{'id': '848', 'type': 'people'}]}, 'projects': {'data': [{'id': '60', 'type': 'projects'}]}, 'investigation': {'data': {'id': '130', 'type': 'investigations'}}, 'study': {'data': {'id': '361', 'type': 'studies'}}, 'data_files': {'data': [{'id': '2249', 'type': 'data_files'}, {'id': '2278', 'type': 'data_files'}, {'id': '2279', 'type': 'data_files'}]}, 'models': {'data': []}, 'sops': {'data': []}, 'publications': {'data': []}, 'documents': {'data': []}}\n{'creators': {'data': [{'id': '848', 'type': 'people'}]}, 'submitter': {'data': [{'id': '848', 'type': 'people'}]}, 'organisms': {'data': []}, 'people': {'data': [{'id': '848', 'type': 'people'}]}, 'projects': {'data': [{'id': '60', 'type': 'projects'}]}, 'investigation': {'data': {'id': '130', 'type': 'investigations'}}, 'study': {'data': {'id': '361', 'type': 'studies'}}, 'data_files': {'data': [{'id': '2249', 'type': 'data_files'}, {'id': '2278', 'type': 'data_files'}, {'id': '2279', 'type': 'data_files'}]}, 'models': {'data': []}, 'sops': {'data': []}, 'publications': {'data': []}, 'documents': {'data': []}}\n{'data': {'id': '130', 'type': 'investigations'}}\n{'creators': {'data': [{'id': '848', 'type': 'people'}]}, 'submitter': {'data': [{'id': '848', 'type': 'people'}]}, 'organisms': {'data': []}, 'people': {'data': [{'id': '848', 'type': 'people'}]}, 'projects': {'data': [{'id': '60', 'type': 'projects'}]}, 'investigation': {'data': {'id': '130', 'type': 'investigations'}}, 'study': {'data': {'id': '361', 'type': 'studies'}}, 'data_files': {'data': [{'id': '2249', 'type': 'data_files'}, {'id': '2278', 'type': 'data_files'}, {'id': '2279', 'type': 'data_files'}]}, 'models': {'data': []}, 'sops': {'data': []}, 'publications': {'data': []}, 'documents': {'data': []}}\n{'data': {'id': '361', 'type': 'studies'}}\n{'creators': {'data': [{'id': '848', 'type': 'people'}]}, 'submitter': {'data': [{'id': '848', 'type': 'people'}]}, 'organisms': {'data': []}, 'people': {'data': [{'id': '848', 'type': 'people'}]}, 'projects': {'data': [{'id': '60', 'type': 'projects'}]}, 'investigation': {'data': {'id': '130', 'type': 'investigations'}}, 'study': {'data': {'id': '361', 'type': 'studies'}}, 'data_files': {'data': [{'id': '2249', 'type': 'data_files'}, {'id': '2278', 'type': 'data_files'}, {'id': '2279', 'type': 'data_files'}]}, 'models': {'data': []}, 'sops': {'data': []}, 'publications': {'data': []}, 'documents': {'data': []}}\n{'creators': {'data': [{'id': '848', 'type': 'people'}]}, 'submitter': {'data': [{'id': '848', 'type': 'people'}]}, 'organisms': {'data': []}, 'people': {'data': [{'id': '848', 'type': 'people'}]}, 'projects': {'data': [{'id': '60', 'type': 'projects'}]}, 'investigation': {'data': {'id': '130', 'type': 'investigations'}}, 'study': {'data': {'id': '361', 'type': 'studies'}}, 'data_files': {'data': [{'id': '2249', 'type': 'data_files'}, {'id': '2278', 'type': 'data_files'}, {'id': '2279', 'type': 'data_files'}]}, 'models': {'data': []}, 'sops': {'data': []}, 'publications': {'data': []}, 'documents': {'data': []}}\n{'creators': {'data': [{'id': '848', 'type': 'people'}]}, 'submitter': {'data': [{'id': '848', 'type': 'people'}]}, 'organisms': {'data': []}, 'people': {'data': [{'id': '848', 'type': 'people'}]}, 'projects': {'data': [{'id': '60', 'type': 'projects'}]}, 'investigation': {'data': {'id': '130', 'type': 'investigations'}}, 'study': {'data': {'id': '361', 'type': 'studies'}}, 'data_files': {'data': [{'id': '2249', 'type': 'data_files'}, {'id': '2278', 'type': 'data_files'}, {'id': '2279', 'type': 'data_files'}]}, 'models': {'data': []}, 'sops': {'data': []}, 'publications': {'data': []}, 'documents': {'data': []}}\n{'creators': {'data': [{'id': '848', 'type': 'people'}]}, 'submitter': {'data': [{'id': '848', 'type': 'people'}]}, 'organisms': {'data': []}, 'people': {'data': [{'id': '848', 'type': 'people'}]}, 'projects': {'data': [{'id': '60', 'type': 'projects'}]}, 'investigation': {'data': {'id': '130', 'type': 'investigations'}}, 'study': {'data': {'id': '361', 'type': 'studies'}}, 'data_files': {'data': [{'id': '2249', 'type': 'data_files'}, {'id': '2278', 'type': 'data_files'}, {'id': '2279', 'type': 'data_files'}]}, 'models': {'data': []}, 'sops': {'data': []}, 'publications': {'data': []}, 'documents': {'data': []}}\n{'creators': {'data': [{'id': '848', 'type': 'people'}]}, 'submitter': {'data': [{'id': '848', 'type': 'people'}]}, 'organisms': {'data': []}, 'people': {'data': [{'id': '848', 'type': 'people'}]}, 'projects': {'data': [{'id': '60', 'type': 'projects'}]}, 'investigation': {'data': {'id': '130', 'type': 'investigations'}}, 'study': {'data': {'id': '361', 'type': 'studies'}}, 'data_files': {'data': [{'id': '2249', 'type': 'data_files'}, {'id': '2278', 'type': 'data_files'}, {'id': '2279', 'type': 'data_files'}]}, 'models': {'data': []}, 'sops': {'data': []}, 'publications': {'data': []}, 'documents': {'data': []}}\n{'id': '753', 'type': 'assays', 'attributes': {'snapshots': None, 'title': 'Gene expression', 'description': 'Analyses of gene expression: qPCR analyses in liver (relative expression) and ovaries (absolute expression). ', 'other_creators': None, 'assay_class': {'title': 'Experimental Assay', 'key': 'EXP', 'description': None}, 'assay_type': {'label': 'Experimental Assay Type', 'uri': 'http://jermontology.org/ontology/JERMOntology#Experimental_assay_type'}, 'technology_type': {'label': 'Technology Type', 'uri': 'http://jermontology.org/ontology/JERMOntology#Technology_type'}, 'tags': None}, 'relationships': {'creators': {'data': [{'id': '848', 'type': 'people'}]}, 'submitter': {'data': [{'id': '848', 'type': 'people'}]}, 'organisms': {'data': []}, 'people': {'data': [{'id': '848', 'type': 'people'}]}, 'projects': {'data': [{'id': '60', 'type': 'projects'}]}, 'investigation': {'data': {'id': '130', 'type': 'investigations'}}, 'study': {'data': {'id': '361', 'type': 'studies'}}, 'data_files': {'data': [{'id': '2249', 'type': 'data_files'}, {'id': '2278', 'type': 'data_files'}, {'id': '2279', 'type': 'data_files'}]}, 'models': {'data': []}, 'sops': {'data': []}, 'publications': {'data': []}, 'documents': {'data': []}}, 'links': {'self': '/assays/753'}, 'meta': {'created': '2018-11-26T14:19:01.000Z', 'modified': '2018-11-27T10:20:31.000Z', 'api_version': '0.2', 'uuid': '25372ee0-d3b4-0136-516f-549f350973c0', 'base_url': 'https://fairdomhub.org'}}\n{'id': '753', 'type': 'assays', 'attributes': {'snapshots': None, 'title': 'Gene expression', 'description': 'Analyses of gene expression: qPCR analyses in liver (relative expression) and ovaries (absolute expression). ', 'other_creators': None, 'assay_class': {'title': 'Experimental Assay', 'key': 'EXP', 'description': None}, 'assay_type': {'label': 'Experimental Assay Type', 'uri': 'http://jermontology.org/ontology/JERMOntology#Experimental_assay_type'}, 'technology_type': {'label': 'Technology Type', 'uri': 'http://jermontology.org/ontology/JERMOntology#Technology_type'}, 'tags': None}, 'relationships': {'creators': {'data': [{'id': '848', 'type': 'people'}]}, 'submitter': {'data': [{'id': '848', 'type': 'people'}]}, 'organisms': {'data': []}, 'people': {'data': [{'id': '848', 'type': 'people'}]}, 'projects': {'data': [{'id': '60', 'type': 'projects'}]}, 'investigation': {'data': {'id': '130', 'type': 'investigations'}}, 'study': {'data': {'id': '361', 'type': 'studies'}}, 'data_files': {'data': [{'id': '2249', 'type': 'data_files'}, {'id': '2278', 'type': 'data_files'}, {'id': '2279', 'type': 'data_files'}]}, 'models': {'data': []}, 'sops': {'data': []}, 'publications': {'data': []}, 'documents': {'data': []}}, 'links': {'self': '/assays/753'}, 'meta': {'created': '2018-11-26T14:19:01.000Z', 'modified': '2018-11-27T10:20:31.000Z', 'api_version': '0.2', 'uuid': '25372ee0-d3b4-0136-516f-549f350973c0', 'base_url': 'https://fairdomhub.org'}}\n"
       }
      ],
      "source": "result = object()\nresult = lambda: None\n\nresult = parseRecurs(result, callback['data'])",
      "start_time": "2019-02-26T14:15:08.560Z"
     },
     {
      "end_time": "2019-02-26T14:15:30.987Z",
      "execution_time": "29ms",
      "outputs": [
       {
        "ename": "KeyError",
        "evalue": "0",
        "output_type": "error",
        "traceback": [
         "\u001b[0;31m---------------------------------------------------------------------------\u001b[0m",
         "\u001b[0;31mKeyError\u001b[0m                                  Traceback (most recent call last)",
         "\u001b[0;32m<ipython-input-187-db5d25080392>\u001b[0m in \u001b[0;36m<module>\u001b[0;34m()\u001b[0m\n\u001b[1;32m      2\u001b[0m \u001b[0mresult\u001b[0m \u001b[0;34m=\u001b[0m \u001b[0;32mlambda\u001b[0m\u001b[0;34m:\u001b[0m \u001b[0;32mNone\u001b[0m\u001b[0;34m\u001b[0m\u001b[0m\n\u001b[1;32m      3\u001b[0m \u001b[0;34m\u001b[0m\u001b[0m\n\u001b[0;32m----> 4\u001b[0;31m \u001b[0mresult\u001b[0m \u001b[0;34m=\u001b[0m \u001b[0mparseRecurs\u001b[0m\u001b[0;34m(\u001b[0m\u001b[0mresult\u001b[0m\u001b[0;34m,\u001b[0m \u001b[0mcallback\u001b[0m\u001b[0;34m[\u001b[0m\u001b[0;34m'data'\u001b[0m\u001b[0;34m]\u001b[0m\u001b[0;34m)\u001b[0m\u001b[0;34m\u001b[0m\u001b[0m\n\u001b[0m",
         "\u001b[0;32m<ipython-input-186-dc48996541b8>\u001b[0m in \u001b[0;36mparseRecurs\u001b[0;34m(layerName, layer)\u001b[0m\n\u001b[1;32m      6\u001b[0m         \u001b[0;32mif\u001b[0m \u001b[0mhasattr\u001b[0m\u001b[0;34m(\u001b[0m\u001b[0mvalue\u001b[0m\u001b[0;34m,\u001b[0m \u001b[0;34m'items'\u001b[0m\u001b[0;34m)\u001b[0m \u001b[0;34m==\u001b[0m \u001b[0;32mTrue\u001b[0m\u001b[0;34m:\u001b[0m\u001b[0;34m\u001b[0m\u001b[0m\n\u001b[1;32m      7\u001b[0m             \u001b[0mkey\u001b[0m \u001b[0;34m=\u001b[0m \u001b[0;32mlambda\u001b[0m\u001b[0;34m:\u001b[0m \u001b[0;32mNone\u001b[0m\u001b[0;34m\u001b[0m\u001b[0m\n\u001b[0;32m----> 8\u001b[0;31m             \u001b[0mprint\u001b[0m\u001b[0;34m(\u001b[0m\u001b[0mstr\u001b[0m\u001b[0;34m(\u001b[0m\u001b[0mlayer\u001b[0m\u001b[0;34m[\u001b[0m\u001b[0;36m0\u001b[0m\u001b[0;34m]\u001b[0m\u001b[0;34m)\u001b[0m\u001b[0;34m)\u001b[0m\u001b[0;34m\u001b[0m\u001b[0m\n\u001b[0m\u001b[1;32m      9\u001b[0m             \u001b[0msetattr\u001b[0m\u001b[0;34m(\u001b[0m\u001b[0mlayerName\u001b[0m\u001b[0;34m,\u001b[0m \u001b[0mstr\u001b[0m\u001b[0;34m(\u001b[0m\u001b[0mlayer\u001b[0m\u001b[0;34m)\u001b[0m\u001b[0;34m,\u001b[0m \u001b[0mparseRecurs\u001b[0m\u001b[0;34m(\u001b[0m\u001b[0mkey\u001b[0m\u001b[0;34m,\u001b[0m \u001b[0mvalue\u001b[0m\u001b[0;34m)\u001b[0m\u001b[0;34m)\u001b[0m\u001b[0;34m\u001b[0m\u001b[0m\n\u001b[1;32m     10\u001b[0m         \u001b[0;32melse\u001b[0m\u001b[0;34m:\u001b[0m\u001b[0;34m\u001b[0m\u001b[0m\n",
         "\u001b[0;31mKeyError\u001b[0m: 0"
        ]
       }
      ],
      "source": "result = object()\nresult = lambda: None\n\nresult = parseRecurs(result, callback['data'])",
      "start_time": "2019-02-26T14:15:30.958Z"
     },
     {
      "end_time": "2019-02-26T14:16:14.836Z",
      "execution_time": "7ms",
      "outputs": [
       {
        "name": "stdout",
        "output_type": "stream",
        "text": "<function parseRecurs.<locals>.<lambda> at 0x7fadef77e048>\n<function parseRecurs.<locals>.<lambda> at 0x7fadef77ea60>\n<function parseRecurs.<locals>.<lambda> at 0x7fadef77e1e0>\n<function parseRecurs.<locals>.<lambda> at 0x7fadef77ea60>\n<function parseRecurs.<locals>.<lambda> at 0x7fadef77e1e0>\n<function parseRecurs.<locals>.<lambda> at 0x7fadef77e7b8>\n<function parseRecurs.<locals>.<lambda> at 0x7fadef77e9d8>\n<function parseRecurs.<locals>.<lambda> at 0x7fadef77e7b8>\n<function parseRecurs.<locals>.<lambda> at 0x7fadef77e9d8>\n<function parseRecurs.<locals>.<lambda> at 0x7fadef77e7b8>\n<function parseRecurs.<locals>.<lambda> at 0x7fadef77e9d8>\n<function parseRecurs.<locals>.<lambda> at 0x7fadef777268>\n<function parseRecurs.<locals>.<lambda> at 0x7fadef77e7b8>\n<function parseRecurs.<locals>.<lambda> at 0x7fadef777510>\n<function parseRecurs.<locals>.<lambda> at 0x7fadef77e9d8>\n<function parseRecurs.<locals>.<lambda> at 0x7fadef77e7b8>\n<function parseRecurs.<locals>.<lambda> at 0x7fadef77e9d8>\n<function parseRecurs.<locals>.<lambda> at 0x7fadef77e7b8>\n<function parseRecurs.<locals>.<lambda> at 0x7fadef77e9d8>\n<function parseRecurs.<locals>.<lambda> at 0x7fadef77e048>\n<function parseRecurs.<locals>.<lambda> at 0x7fadef77e1e0>\n"
       }
      ],
      "source": "result = object()\nresult = lambda: None\n\nresult = parseRecurs(result, callback['data'])",
      "start_time": "2019-02-26T14:16:14.829Z"
     },
     {
      "end_time": "2019-02-26T14:17:02.444Z",
      "execution_time": "10ms",
      "outputs": [
       {
        "name": "stdout",
        "output_type": "stream",
        "text": "attributes\nassay_class\nassay_type\ntechnology_type\nrelationships\ncreators\nsubmitter\norganisms\npeople\nprojects\ninvestigation\ndata\nstudy\ndata\ndata_files\nmodels\nsops\npublications\ndocuments\nlinks\nmeta\n"
       }
      ],
      "source": "result = object()\nresult = lambda: None\n\nresult = parseRecurs(result, callback['data'])",
      "start_time": "2019-02-26T14:17:02.434Z"
     },
     {
      "end_time": "2019-02-26T14:17:53.302Z",
      "execution_time": "47ms",
      "outputs": [
       {
        "name": "stdout",
        "output_type": "stream",
        "text": "attributes\n"
       },
       {
        "ename": "AttributeError",
        "evalue": "'str' object has no attribute 'snapshots'",
        "output_type": "error",
        "traceback": [
         "\u001b[0;31m---------------------------------------------------------------------------\u001b[0m",
         "\u001b[0;31mAttributeError\u001b[0m                            Traceback (most recent call last)",
         "\u001b[0;32m<ipython-input-193-db5d25080392>\u001b[0m in \u001b[0;36m<module>\u001b[0;34m()\u001b[0m\n\u001b[1;32m      2\u001b[0m \u001b[0mresult\u001b[0m \u001b[0;34m=\u001b[0m \u001b[0;32mlambda\u001b[0m\u001b[0;34m:\u001b[0m \u001b[0;32mNone\u001b[0m\u001b[0;34m\u001b[0m\u001b[0m\n\u001b[1;32m      3\u001b[0m \u001b[0;34m\u001b[0m\u001b[0m\n\u001b[0;32m----> 4\u001b[0;31m \u001b[0mresult\u001b[0m \u001b[0;34m=\u001b[0m \u001b[0mparseRecurs\u001b[0m\u001b[0;34m(\u001b[0m\u001b[0mresult\u001b[0m\u001b[0;34m,\u001b[0m \u001b[0mcallback\u001b[0m\u001b[0;34m[\u001b[0m\u001b[0;34m'data'\u001b[0m\u001b[0;34m]\u001b[0m\u001b[0;34m)\u001b[0m\u001b[0;34m\u001b[0m\u001b[0m\n\u001b[0m",
         "\u001b[0;32m<ipython-input-192-b4e5071dd5d7>\u001b[0m in \u001b[0;36mparseRecurs\u001b[0;34m(layerName, layer)\u001b[0m\n\u001b[1;32m      7\u001b[0m \u001b[0;31m#             key = lambda: None\u001b[0m\u001b[0;34m\u001b[0m\u001b[0;34m\u001b[0m\u001b[0m\n\u001b[1;32m      8\u001b[0m \u001b[0;34m\u001b[0m\u001b[0m\n\u001b[0;32m----> 9\u001b[0;31m             \u001b[0msetattr\u001b[0m\u001b[0;34m(\u001b[0m\u001b[0mlayerName\u001b[0m\u001b[0;34m,\u001b[0m \u001b[0mstr\u001b[0m\u001b[0;34m(\u001b[0m\u001b[0mlayer\u001b[0m\u001b[0;34m)\u001b[0m\u001b[0;34m,\u001b[0m \u001b[0mparseRecurs\u001b[0m\u001b[0;34m(\u001b[0m\u001b[0mkey\u001b[0m\u001b[0;34m,\u001b[0m \u001b[0mvalue\u001b[0m\u001b[0;34m)\u001b[0m\u001b[0;34m)\u001b[0m\u001b[0;34m\u001b[0m\u001b[0m\n\u001b[0m\u001b[1;32m     10\u001b[0m         \u001b[0;32melse\u001b[0m\u001b[0;34m:\u001b[0m\u001b[0;34m\u001b[0m\u001b[0m\n\u001b[1;32m     11\u001b[0m \u001b[0;34m\u001b[0m\u001b[0m\n",
         "\u001b[0;32m<ipython-input-192-b4e5071dd5d7>\u001b[0m in \u001b[0;36mparseRecurs\u001b[0;34m(layerName, layer)\u001b[0m\n\u001b[1;32m     10\u001b[0m         \u001b[0;32melse\u001b[0m\u001b[0;34m:\u001b[0m\u001b[0;34m\u001b[0m\u001b[0m\n\u001b[1;32m     11\u001b[0m \u001b[0;34m\u001b[0m\u001b[0m\n\u001b[0;32m---> 12\u001b[0;31m             \u001b[0msetattr\u001b[0m\u001b[0;34m(\u001b[0m\u001b[0mlayerName\u001b[0m\u001b[0;34m,\u001b[0m \u001b[0mkey\u001b[0m\u001b[0;34m,\u001b[0m \u001b[0mvalue\u001b[0m\u001b[0;34m)\u001b[0m\u001b[0;34m\u001b[0m\u001b[0m\n\u001b[0m\u001b[1;32m     13\u001b[0m \u001b[0;34m\u001b[0m\u001b[0m\n\u001b[1;32m     14\u001b[0m     \u001b[0;32mreturn\u001b[0m \u001b[0mlayerName\u001b[0m\u001b[0;34m\u001b[0m\u001b[0m\n",
         "\u001b[0;31mAttributeError\u001b[0m: 'str' object has no attribute 'snapshots'"
        ]
       }
      ],
      "source": "result = object()\nresult = lambda: None\n\nresult = parseRecurs(result, callback['data'])",
      "start_time": "2019-02-26T14:17:53.255Z"
     },
     {
      "end_time": "2019-02-26T14:20:06.979Z",
      "execution_time": "8ms",
      "outputs": [
       {
        "name": "stdout",
        "output_type": "stream",
        "text": "attributes\nassay_class\nassay_type\ntechnology_type\nrelationships\ncreators\nsubmitter\norganisms\npeople\nprojects\ninvestigation\ndata\nstudy\ndata\ndata_files\nmodels\nsops\npublications\ndocuments\nlinks\nmeta\n"
       }
      ],
      "source": "result = object()\n# result = lambda: None\n\nresult = parseRecurs(result, callback['data'])",
      "start_time": "2019-02-26T14:20:06.971Z"
     }
    ]
   },
   "outputs": [],
   "source": [
    "result = object()\n",
    "\n",
    "result = parseRecurs(result, callback['data'])"
   ]
  },
  {
   "cell_type": "code",
   "execution_count": null,
   "metadata": {
    "ExecutionTime": {
     "end_time": "2019-02-26T14:24:55.284672Z",
     "start_time": "2019-02-26T14:24:55.262819Z"
    },
    "provenance": [
     {
      "end_time": "2019-02-26T13:57:29.782Z",
      "execution_time": "4ms",
      "outputs": [
       {
        "data": {
         "text/plain": "'753'"
        },
        "execution_count": 126,
        "metadata": {},
        "output_type": "execute_result"
       }
      ],
      "source": "result.id",
      "start_time": "2019-02-26T13:57:29.778Z"
     },
     {
      "end_time": "2019-02-26T13:57:34.090Z",
      "execution_time": "25ms",
      "outputs": [
       {
        "ename": "AttributeError",
        "evalue": "'function' object has no attribute 'description'",
        "output_type": "error",
        "traceback": [
         "\u001b[0;31m---------------------------------------------------------------------------\u001b[0m",
         "\u001b[0;31mAttributeError\u001b[0m                            Traceback (most recent call last)",
         "\u001b[0;32m<ipython-input-127-fb0d1d772f39>\u001b[0m in \u001b[0;36m<module>\u001b[0;34m()\u001b[0m\n\u001b[0;32m----> 1\u001b[0;31m \u001b[0mresult\u001b[0m\u001b[0;34m.\u001b[0m\u001b[0mdescription\u001b[0m\u001b[0;34m\u001b[0m\u001b[0m\n\u001b[0m",
         "\u001b[0;31mAttributeError\u001b[0m: 'function' object has no attribute 'description'"
        ]
       }
      ],
      "source": "result.description",
      "start_time": "2019-02-26T13:57:34.065Z"
     },
     {
      "end_time": "2019-02-26T13:57:38.428Z",
      "execution_time": "23ms",
      "outputs": [
       {
        "ename": "AttributeError",
        "evalue": "'function' object has no attribute 'attributes'",
        "output_type": "error",
        "traceback": [
         "\u001b[0;31m---------------------------------------------------------------------------\u001b[0m",
         "\u001b[0;31mAttributeError\u001b[0m                            Traceback (most recent call last)",
         "\u001b[0;32m<ipython-input-128-ed6755cc0949>\u001b[0m in \u001b[0;36m<module>\u001b[0;34m()\u001b[0m\n\u001b[0;32m----> 1\u001b[0;31m \u001b[0mresult\u001b[0m\u001b[0;34m.\u001b[0m\u001b[0mattributes\u001b[0m\u001b[0;34m.\u001b[0m\u001b[0mdescription\u001b[0m\u001b[0;34m\u001b[0m\u001b[0m\n\u001b[0m",
         "\u001b[0;31mAttributeError\u001b[0m: 'function' object has no attribute 'attributes'"
        ]
       }
      ],
      "source": "result.attributes.description",
      "start_time": "2019-02-26T13:57:38.405Z"
     },
     {
      "end_time": "2019-02-26T13:57:49.897Z",
      "execution_time": "28ms",
      "outputs": [
       {
        "ename": "AttributeError",
        "evalue": "'function' object has no attribute 'type'",
        "output_type": "error",
        "traceback": [
         "\u001b[0;31m---------------------------------------------------------------------------\u001b[0m",
         "\u001b[0;31mAttributeError\u001b[0m                            Traceback (most recent call last)",
         "\u001b[0;32m<ipython-input-129-07d0c056579a>\u001b[0m in \u001b[0;36m<module>\u001b[0;34m()\u001b[0m\n\u001b[0;32m----> 1\u001b[0;31m \u001b[0mresult\u001b[0m\u001b[0;34m.\u001b[0m\u001b[0mtype\u001b[0m\u001b[0;34m\u001b[0m\u001b[0m\n\u001b[0m",
         "\u001b[0;31mAttributeError\u001b[0m: 'function' object has no attribute 'type'"
        ]
       }
      ],
      "source": "result.type",
      "start_time": "2019-02-26T13:57:49.869Z"
     },
     {
      "end_time": "2019-02-26T14:03:16.652Z",
      "execution_time": "10ms",
      "outputs": [
       {
        "data": {
         "text/plain": "'assays'"
        },
        "execution_count": 150,
        "metadata": {},
        "output_type": "execute_result"
       }
      ],
      "source": "result.type",
      "start_time": "2019-02-26T14:03:16.642Z"
     },
     {
      "end_time": "2019-02-26T14:03:22.620Z",
      "execution_time": "25ms",
      "outputs": [
       {
        "ename": "AttributeError",
        "evalue": "'function' object has no attribute 'attributes'",
        "output_type": "error",
        "traceback": [
         "\u001b[0;31m---------------------------------------------------------------------------\u001b[0m",
         "\u001b[0;31mAttributeError\u001b[0m                            Traceback (most recent call last)",
         "\u001b[0;32m<ipython-input-151-eee8ca686832>\u001b[0m in \u001b[0;36m<module>\u001b[0;34m()\u001b[0m\n\u001b[0;32m----> 1\u001b[0;31m \u001b[0mresult\u001b[0m\u001b[0;34m.\u001b[0m\u001b[0mattributes\u001b[0m\u001b[0;34m\u001b[0m\u001b[0m\n\u001b[0m",
         "\u001b[0;31mAttributeError\u001b[0m: 'function' object has no attribute 'attributes'"
        ]
       }
      ],
      "source": "result.attributes",
      "start_time": "2019-02-26T14:03:22.595Z"
     },
     {
      "end_time": "2019-02-26T14:03:29.692Z",
      "execution_time": "26ms",
      "outputs": [
       {
        "ename": "AttributeError",
        "evalue": "'function' object has no attribute 'assay_type'",
        "output_type": "error",
        "traceback": [
         "\u001b[0;31m---------------------------------------------------------------------------\u001b[0m",
         "\u001b[0;31mAttributeError\u001b[0m                            Traceback (most recent call last)",
         "\u001b[0;32m<ipython-input-152-7ff421f601b7>\u001b[0m in \u001b[0;36m<module>\u001b[0;34m()\u001b[0m\n\u001b[0;32m----> 1\u001b[0;31m \u001b[0mresult\u001b[0m\u001b[0;34m.\u001b[0m\u001b[0massay_type\u001b[0m\u001b[0;34m\u001b[0m\u001b[0m\n\u001b[0m",
         "\u001b[0;31mAttributeError\u001b[0m: 'function' object has no attribute 'assay_type'"
        ]
       }
      ],
      "source": "result.assay_type",
      "start_time": "2019-02-26T14:03:29.666Z"
     },
     {
      "end_time": "2019-02-26T14:05:45.787Z",
      "execution_time": "26ms",
      "outputs": [
       {
        "ename": "AttributeError",
        "evalue": "'function' object has no attribute 'created'",
        "output_type": "error",
        "traceback": [
         "\u001b[0;31m---------------------------------------------------------------------------\u001b[0m",
         "\u001b[0;31mAttributeError\u001b[0m                            Traceback (most recent call last)",
         "\u001b[0;32m<ipython-input-161-526a891de8d2>\u001b[0m in \u001b[0;36m<module>\u001b[0;34m()\u001b[0m\n\u001b[0;32m----> 1\u001b[0;31m \u001b[0mresult\u001b[0m\u001b[0;34m.\u001b[0m\u001b[0mcreated\u001b[0m\u001b[0;34m\u001b[0m\u001b[0m\n\u001b[0m",
         "\u001b[0;31mAttributeError\u001b[0m: 'function' object has no attribute 'created'"
        ]
       }
      ],
      "source": "result.created",
      "start_time": "2019-02-26T14:05:45.761Z"
     },
     {
      "end_time": "2019-02-26T14:05:50.185Z",
      "execution_time": "22ms",
      "outputs": [
       {
        "ename": "AttributeError",
        "evalue": "'function' object has no attribute 'base_url'",
        "output_type": "error",
        "traceback": [
         "\u001b[0;31m---------------------------------------------------------------------------\u001b[0m",
         "\u001b[0;31mAttributeError\u001b[0m                            Traceback (most recent call last)",
         "\u001b[0;32m<ipython-input-162-8affa1794f0f>\u001b[0m in \u001b[0;36m<module>\u001b[0;34m()\u001b[0m\n\u001b[0;32m----> 1\u001b[0;31m \u001b[0mresult\u001b[0m\u001b[0;34m.\u001b[0m\u001b[0mbase_url\u001b[0m\u001b[0;34m\u001b[0m\u001b[0m\n\u001b[0m",
         "\u001b[0;31mAttributeError\u001b[0m: 'function' object has no attribute 'base_url'"
        ]
       }
      ],
      "source": "result.base_url",
      "start_time": "2019-02-26T14:05:50.163Z"
     },
     {
      "end_time": "2019-02-26T14:05:56.427Z",
      "execution_time": "24ms",
      "outputs": [
       {
        "ename": "AttributeError",
        "evalue": "'function' object has no attribute 'title'",
        "output_type": "error",
        "traceback": [
         "\u001b[0;31m---------------------------------------------------------------------------\u001b[0m",
         "\u001b[0;31mAttributeError\u001b[0m                            Traceback (most recent call last)",
         "\u001b[0;32m<ipython-input-163-ea209e93ff39>\u001b[0m in \u001b[0;36m<module>\u001b[0;34m()\u001b[0m\n\u001b[0;32m----> 1\u001b[0;31m \u001b[0mresult\u001b[0m\u001b[0;34m.\u001b[0m\u001b[0mtitle\u001b[0m\u001b[0;34m\u001b[0m\u001b[0m\n\u001b[0m",
         "\u001b[0;31mAttributeError\u001b[0m: 'function' object has no attribute 'title'"
        ]
       }
      ],
      "source": "result.title",
      "start_time": "2019-02-26T14:05:56.403Z"
     },
     {
      "end_time": "2019-02-26T14:06:22.581Z",
      "execution_time": "25ms",
      "outputs": [
       {
        "ename": "AttributeError",
        "evalue": "'function' object has no attribute 'attributes'",
        "output_type": "error",
        "traceback": [
         "\u001b[0;31m---------------------------------------------------------------------------\u001b[0m",
         "\u001b[0;31mAttributeError\u001b[0m                            Traceback (most recent call last)",
         "\u001b[0;32m<ipython-input-164-eee8ca686832>\u001b[0m in \u001b[0;36m<module>\u001b[0;34m()\u001b[0m\n\u001b[0;32m----> 1\u001b[0;31m \u001b[0mresult\u001b[0m\u001b[0;34m.\u001b[0m\u001b[0mattributes\u001b[0m\u001b[0;34m\u001b[0m\u001b[0m\n\u001b[0m",
         "\u001b[0;31mAttributeError\u001b[0m: 'function' object has no attribute 'attributes'"
        ]
       }
      ],
      "source": "result.attributes",
      "start_time": "2019-02-26T14:06:22.556Z"
     },
     {
      "end_time": "2019-02-26T14:06:34.911Z",
      "execution_time": "25ms",
      "outputs": [
       {
        "ename": "AttributeError",
        "evalue": "'function' object has no attribute 'attributes'",
        "output_type": "error",
        "traceback": [
         "\u001b[0;31m---------------------------------------------------------------------------\u001b[0m",
         "\u001b[0;31mAttributeError\u001b[0m                            Traceback (most recent call last)",
         "\u001b[0;32m<ipython-input-165-34e359d29ee2>\u001b[0m in \u001b[0;36m<module>\u001b[0;34m()\u001b[0m\n\u001b[0;32m----> 1\u001b[0;31m \u001b[0mresult\u001b[0m\u001b[0;34m.\u001b[0m\u001b[0mattributes\u001b[0m\u001b[0;34m.\u001b[0m\u001b[0mtitle\u001b[0m\u001b[0;34m\u001b[0m\u001b[0m\n\u001b[0m",
         "\u001b[0;31mAttributeError\u001b[0m: 'function' object has no attribute 'attributes'"
        ]
       }
      ],
      "source": "result.attributes.title",
      "start_time": "2019-02-26T14:06:34.886Z"
     },
     {
      "end_time": "2019-02-26T14:07:01.300Z",
      "execution_time": "19ms",
      "outputs": [
       {
        "ename": "NameError",
        "evalue": "name 'title' is not defined",
        "output_type": "error",
        "traceback": [
         "\u001b[0;31m---------------------------------------------------------------------------\u001b[0m",
         "\u001b[0;31mNameError\u001b[0m                                 Traceback (most recent call last)",
         "\u001b[0;32m<ipython-input-166-eee3914a8eb9>\u001b[0m in \u001b[0;36m<module>\u001b[0;34m()\u001b[0m\n\u001b[0;32m----> 1\u001b[0;31m \u001b[0mtitle\u001b[0m\u001b[0;34m\u001b[0m\u001b[0m\n\u001b[0m",
         "\u001b[0;31mNameError\u001b[0m: name 'title' is not defined"
        ]
       }
      ],
      "source": "title",
      "start_time": "2019-02-26T14:07:01.281Z"
     },
     {
      "end_time": "2019-02-26T14:09:03.962Z",
      "execution_time": "7ms",
      "outputs": [],
      "source": "result",
      "start_time": "2019-02-26T14:09:03.955Z"
     },
     {
      "end_time": "2019-02-26T14:09:31.526Z",
      "execution_time": "9ms",
      "outputs": [
       {
        "data": {
         "text/plain": "<function __main__.<lambda>()>"
        },
        "execution_count": 171,
        "metadata": {},
        "output_type": "execute_result"
       }
      ],
      "source": "result",
      "start_time": "2019-02-26T14:09:31.517Z"
     },
     {
      "end_time": "2019-02-26T14:09:39.272Z",
      "execution_time": "11ms",
      "outputs": [
       {
        "data": {
         "text/plain": "'753'"
        },
        "execution_count": 172,
        "metadata": {},
        "output_type": "execute_result"
       }
      ],
      "source": "result.id",
      "start_time": "2019-02-26T14:09:39.261Z"
     },
     {
      "end_time": "2019-02-26T14:09:43.575Z",
      "execution_time": "23ms",
      "outputs": [
       {
        "ename": "AttributeError",
        "evalue": "'function' object has no attribute 'type'",
        "output_type": "error",
        "traceback": [
         "\u001b[0;31m---------------------------------------------------------------------------\u001b[0m",
         "\u001b[0;31mAttributeError\u001b[0m                            Traceback (most recent call last)",
         "\u001b[0;32m<ipython-input-173-07d0c056579a>\u001b[0m in \u001b[0;36m<module>\u001b[0;34m()\u001b[0m\n\u001b[0;32m----> 1\u001b[0;31m \u001b[0mresult\u001b[0m\u001b[0;34m.\u001b[0m\u001b[0mtype\u001b[0m\u001b[0;34m\u001b[0m\u001b[0m\n\u001b[0m",
         "\u001b[0;31mAttributeError\u001b[0m: 'function' object has no attribute 'type'"
        ]
       }
      ],
      "source": "result.type",
      "start_time": "2019-02-26T14:09:43.552Z"
     },
     {
      "end_time": "2019-02-26T14:10:14.114Z",
      "execution_time": "6ms",
      "outputs": [
       {
        "data": {
         "text/plain": "'assays'"
        },
        "execution_count": 176,
        "metadata": {},
        "output_type": "execute_result"
       }
      ],
      "source": "result.type",
      "start_time": "2019-02-26T14:10:14.108Z"
     },
     {
      "end_time": "2019-02-26T14:14:36.028Z",
      "execution_time": "10ms",
      "outputs": [
       {
        "data": {
         "text/plain": "'assays'"
        },
        "execution_count": 179,
        "metadata": {},
        "output_type": "execute_result"
       }
      ],
      "source": "result.type",
      "start_time": "2019-02-26T14:14:36.018Z"
     },
     {
      "end_time": "2019-02-26T14:14:40.582Z",
      "execution_time": "18ms",
      "outputs": [
       {
        "ename": "AttributeError",
        "evalue": "'function' object has no attribute 'attributes'",
        "output_type": "error",
        "traceback": [
         "\u001b[0;31m---------------------------------------------------------------------------\u001b[0m",
         "\u001b[0;31mAttributeError\u001b[0m                            Traceback (most recent call last)",
         "\u001b[0;32m<ipython-input-180-eee8ca686832>\u001b[0m in \u001b[0;36m<module>\u001b[0;34m()\u001b[0m\n\u001b[0;32m----> 1\u001b[0;31m \u001b[0mresult\u001b[0m\u001b[0;34m.\u001b[0m\u001b[0mattributes\u001b[0m\u001b[0;34m\u001b[0m\u001b[0m\n\u001b[0m",
         "\u001b[0;31mAttributeError\u001b[0m: 'function' object has no attribute 'attributes'"
        ]
       }
      ],
      "source": "result.attributes",
      "start_time": "2019-02-26T14:14:40.564Z"
     },
     {
      "end_time": "2019-02-26T14:20:08.488Z",
      "execution_time": "9ms",
      "outputs": [
       {
        "data": {
         "text/plain": "<function __main__.parseRecurs.<locals>.<lambda>()>"
        },
        "execution_count": 196,
        "metadata": {},
        "output_type": "execute_result"
       }
      ],
      "source": "result.attributes",
      "start_time": "2019-02-26T14:20:08.479Z"
     },
     {
      "end_time": "2019-02-26T14:20:15.151Z",
      "execution_time": "8ms",
      "outputs": [
       {
        "data": {
         "text/plain": "<function __main__.parseRecurs.<locals>.<lambda>()>"
        },
        "execution_count": 197,
        "metadata": {},
        "output_type": "execute_result"
       }
      ],
      "source": "result.attributes.assay_type",
      "start_time": "2019-02-26T14:20:15.143Z"
     },
     {
      "end_time": "2019-02-26T14:20:27.115Z",
      "execution_time": "4ms",
      "outputs": [
       {
        "data": {
         "text/plain": "'Experimental Assay Type'"
        },
        "execution_count": 198,
        "metadata": {},
        "output_type": "execute_result"
       }
      ],
      "source": "result.attributes.assay_type.label",
      "start_time": "2019-02-26T14:20:27.111Z"
     },
     {
      "end_time": "2019-02-26T14:23:59.734Z",
      "execution_time": "14ms",
      "outputs": [
       {
        "data": {
         "text/plain": "['__annotations__',\n '__call__',\n '__class__',\n '__closure__',\n '__code__',\n '__defaults__',\n '__delattr__',\n '__dict__',\n '__dir__',\n '__doc__',\n '__eq__',\n '__format__',\n '__ge__',\n '__get__',\n '__getattribute__',\n '__globals__',\n '__gt__',\n '__hash__',\n '__init__',\n '__init_subclass__',\n '__kwdefaults__',\n '__le__',\n '__lt__',\n '__module__',\n '__name__',\n '__ne__',\n '__new__',\n '__qualname__',\n '__reduce__',\n '__reduce_ex__',\n '__repr__',\n '__setattr__',\n '__sizeof__',\n '__str__',\n '__subclasshook__',\n 'attributes',\n 'id',\n 'links',\n 'meta',\n 'relationships',\n 'type']"
        },
        "execution_count": 199,
        "metadata": {},
        "output_type": "execute_result"
       }
      ],
      "source": "dir(result)",
      "start_time": "2019-02-26T14:23:59.720Z"
     },
     {
      "end_time": "2019-02-26T14:24:41.894Z",
      "execution_time": "12ms",
      "outputs": [
       {
        "ename": "SyntaxError",
        "evalue": "Missing parentheses in call to 'print'. Did you mean print(item)? (<ipython-input-200-760ff9d0c696>, line 3)",
        "output_type": "error",
        "traceback": [
         "\u001b[0;36m  File \u001b[0;32m\"<ipython-input-200-760ff9d0c696>\"\u001b[0;36m, line \u001b[0;32m3\u001b[0m\n\u001b[0;31m    print item\u001b[0m\n\u001b[0m             ^\u001b[0m\n\u001b[0;31mSyntaxError\u001b[0m\u001b[0;31m:\u001b[0m Missing parentheses in call to 'print'. Did you mean print(item)?\n"
        ]
       }
      ],
      "source": "for item in dir(result):\n    if item[:2] != '__':\n        print item",
      "start_time": "2019-02-26T14:24:41.882Z"
     },
     {
      "end_time": "2019-02-26T14:24:46.282Z",
      "execution_time": "15ms",
      "outputs": [
       {
        "name": "stdout",
        "output_type": "stream",
        "text": "attributes\nid\nlinks\nmeta\nrelationships\ntype\n"
       }
      ],
      "source": "for item in dir(result):\n    if item[:2] != '__':\n        print(item)",
      "start_time": "2019-02-26T14:24:46.267Z"
     },
     {
      "end_time": "2019-02-26T14:24:55.284Z",
      "execution_time": "22ms",
      "outputs": [
       {
        "name": "stdout",
        "output_type": "stream",
        "text": "assay_class\nassay_type\ndescription\nother_creators\nsnapshots\ntags\ntechnology_type\ntitle\n"
       }
      ],
      "source": "for item in dir(result.attributes):\n    if item[:2] != '__':\n        print(item)",
      "start_time": "2019-02-26T14:24:55.262Z"
     }
    ]
   },
   "outputs": [],
   "source": [
    "for item in dir(result.attributes):\n",
    "    if item[:2] != '__':\n",
    "        print(item)"
   ]
  },
  {
   "cell_type": "code",
   "execution_count": 1,
   "metadata": {
    "ExecutionTime": {
     "end_time": "2019-02-26T14:57:24.438497Z",
     "start_time": "2019-02-26T14:57:23.240497Z"
    },
    "provenance": [
     {
      "end_time": "2019-02-26T14:54:52.578Z",
      "execution_time": "24ms",
      "outputs": [
       {
        "ename": "AttributeError",
        "evalue": "'ReadObject' object has no attribute 'request'",
        "output_type": "error",
        "traceback": [
         "\u001b[0;31m---------------------------------------------------------------------------\u001b[0m",
         "\u001b[0;31mAttributeError\u001b[0m                            Traceback (most recent call last)",
         "\u001b[0;32m<ipython-input-203-b3d608d64e33>\u001b[0m in \u001b[0;36m<module>\u001b[0;34m()\u001b[0m\n\u001b[1;32m      2\u001b[0m \u001b[0;34m\u001b[0m\u001b[0m\n\u001b[1;32m      3\u001b[0m \u001b[0mRO\u001b[0m \u001b[0;34m=\u001b[0m \u001b[0mReadObject\u001b[0m\u001b[0;34m(\u001b[0m\u001b[0;34m)\u001b[0m\u001b[0;34m\u001b[0m\u001b[0m\n\u001b[0;32m----> 4\u001b[0;31m \u001b[0mRO\u001b[0m\u001b[0;34m.\u001b[0m\u001b[0mrequest\u001b[0m\u001b[0;34m(\u001b[0m\u001b[0;34m'assays'\u001b[0m\u001b[0;34m,\u001b[0m\u001b[0;34m'753'\u001b[0m\u001b[0;34m)\u001b[0m\u001b[0;34m\u001b[0m\u001b[0m\n\u001b[0m",
         "\u001b[0;31mAttributeError\u001b[0m: 'ReadObject' object has no attribute 'request'"
        ]
       }
      ],
      "source": "from ReadObject import ReadObject\n\nRO = ReadObject()\nRO.request('assays','753')",
      "start_time": "2019-02-26T14:54:52.554Z"
     },
     {
      "end_time": "2019-02-26T14:55:46.441Z",
      "execution_time": "854ms",
      "outputs": [
       {
        "name": "stdout",
        "output_type": "stream",
        "text": "'object' object has no attribute 'items'\n"
       }
      ],
      "source": "from ReadObject import ReadObject\n\nRO = ReadObject()\nRO.request('assays','753')",
      "start_time": "2019-02-26T14:55:45.587Z"
     },
     {
      "end_time": "2019-02-26T14:56:25.554Z",
      "execution_time": "923ms",
      "outputs": [
       {
        "name": "stdout",
        "output_type": "stream",
        "text": "'object' object has no attribute 'items'\n"
       }
      ],
      "source": "from ReadObject import ReadObject\n\nRO = ReadObject()\nRO.request('assays','753')",
      "start_time": "2019-02-26T14:56:24.631Z"
     },
     {
      "end_time": "2019-02-26T14:56:35.610Z",
      "execution_time": "1.05s",
      "outputs": [],
      "source": "from ReadObject import ReadObject\n\nRO = ReadObject()\nRO.request('assays','753')",
      "start_time": "2019-02-26T14:56:34.563Z"
     },
     {
      "end_time": "2019-02-26T14:57:24.438Z",
      "execution_time": "1.20s",
      "outputs": [],
      "source": "from ReadObject import ReadObject\n\nRO = ReadObject()\nRO.request('assays','753')",
      "start_time": "2019-02-26T14:57:23.240Z"
     }
    ]
   },
   "outputs": [],
   "source": [
    "from ReadObject import ReadObject\n",
    "\n",
    "RO = ReadObject()\n",
    "RO.request('assays','753')"
   ]
  },
  {
   "cell_type": "code",
   "execution_count": 7,
   "metadata": {
    "ExecutionTime": {
     "end_time": "2019-02-26T14:58:27.338305Z",
     "start_time": "2019-02-26T14:58:27.333474Z"
    },
    "provenance": [
     {
      "end_time": "2019-02-26T14:56:43.458Z",
      "execution_time": "34ms",
      "outputs": [
       {
        "data": {
         "text/plain": "<ReadObject.ReadObject at 0x7f616d275a90>"
        },
        "execution_count": 2,
        "metadata": {},
        "output_type": "execute_result"
       }
      ],
      "source": "RO",
      "start_time": "2019-02-26T14:56:43.424Z"
     },
     {
      "end_time": "2019-02-26T14:56:46.797Z",
      "execution_time": "71ms",
      "outputs": [
       {
        "ename": "AttributeError",
        "evalue": "'ReadObject' object has no attribute 'title'",
        "output_type": "error",
        "traceback": [
         "\u001b[0;31m---------------------------------------------------------------------------\u001b[0m",
         "\u001b[0;31mAttributeError\u001b[0m                            Traceback (most recent call last)",
         "\u001b[0;32m<ipython-input-3-e1ea38c39765>\u001b[0m in \u001b[0;36m<module>\u001b[0;34m()\u001b[0m\n\u001b[0;32m----> 1\u001b[0;31m \u001b[0mRO\u001b[0m\u001b[0;34m.\u001b[0m\u001b[0mtitle\u001b[0m\u001b[0;34m\u001b[0m\u001b[0m\n\u001b[0m",
         "\u001b[0;31mAttributeError\u001b[0m: 'ReadObject' object has no attribute 'title'"
        ]
       }
      ],
      "source": "RO.title",
      "start_time": "2019-02-26T14:56:46.726Z"
     },
     {
      "end_time": "2019-02-26T14:56:52.494Z",
      "execution_time": "21ms",
      "outputs": [
       {
        "ename": "AttributeError",
        "evalue": "'ReadObject' object has no attribute 'id'",
        "output_type": "error",
        "traceback": [
         "\u001b[0;31m---------------------------------------------------------------------------\u001b[0m",
         "\u001b[0;31mAttributeError\u001b[0m                            Traceback (most recent call last)",
         "\u001b[0;32m<ipython-input-4-387d9a38040f>\u001b[0m in \u001b[0;36m<module>\u001b[0;34m()\u001b[0m\n\u001b[0;32m----> 1\u001b[0;31m \u001b[0mRO\u001b[0m\u001b[0;34m.\u001b[0m\u001b[0mid\u001b[0m\u001b[0;34m\u001b[0m\u001b[0m\n\u001b[0m",
         "\u001b[0;31mAttributeError\u001b[0m: 'ReadObject' object has no attribute 'id'"
        ]
       }
      ],
      "source": "RO.id",
      "start_time": "2019-02-26T14:56:52.473Z"
     },
     {
      "end_time": "2019-02-26T14:56:57.386Z",
      "execution_time": "30ms",
      "outputs": [
       {
        "ename": "AttributeError",
        "evalue": "'object' object has no attribute 'id'",
        "output_type": "error",
        "traceback": [
         "\u001b[0;31m---------------------------------------------------------------------------\u001b[0m",
         "\u001b[0;31mAttributeError\u001b[0m                            Traceback (most recent call last)",
         "\u001b[0;32m<ipython-input-5-e79b39cf7398>\u001b[0m in \u001b[0;36m<module>\u001b[0;34m()\u001b[0m\n\u001b[0;32m----> 1\u001b[0;31m \u001b[0mRO\u001b[0m\u001b[0;34m.\u001b[0m\u001b[0mstory\u001b[0m\u001b[0;34m.\u001b[0m\u001b[0mid\u001b[0m\u001b[0;34m\u001b[0m\u001b[0m\n\u001b[0m",
         "\u001b[0;31mAttributeError\u001b[0m: 'object' object has no attribute 'id'"
        ]
       }
      ],
      "source": "RO.story.id",
      "start_time": "2019-02-26T14:56:57.356Z"
     },
     {
      "end_time": "2019-02-26T14:57:24.966Z",
      "execution_time": "11ms",
      "outputs": [
       {
        "data": {
         "text/plain": "'753'"
        },
        "execution_count": 2,
        "metadata": {},
        "output_type": "execute_result"
       }
      ],
      "source": "RO.story.id",
      "start_time": "2019-02-26T14:57:24.955Z"
     },
     {
      "end_time": "2019-02-26T14:57:29.803Z",
      "execution_time": "13ms",
      "outputs": [
       {
        "data": {
         "text/plain": "<function ReadObject.ReadObject.loadJSON.<locals>.<lambda>()>"
        },
        "execution_count": 3,
        "metadata": {},
        "output_type": "execute_result"
       }
      ],
      "source": "RO.story.attributes",
      "start_time": "2019-02-26T14:57:29.790Z"
     },
     {
      "end_time": "2019-02-26T14:57:33.968Z",
      "execution_time": "10ms",
      "outputs": [
       {
        "data": {
         "text/plain": "'Gene expression'"
        },
        "execution_count": 4,
        "metadata": {},
        "output_type": "execute_result"
       }
      ],
      "source": "RO.story.attributes.title",
      "start_time": "2019-02-26T14:57:33.958Z"
     },
     {
      "end_time": "2019-02-26T14:58:08.719Z",
      "execution_time": "54ms",
      "outputs": [
       {
        "ename": "AttributeError",
        "evalue": "'ReadObject' object has no attribute 'attributes'",
        "output_type": "error",
        "traceback": [
         "\u001b[0;31m---------------------------------------------------------------------------\u001b[0m",
         "\u001b[0;31mAttributeError\u001b[0m                            Traceback (most recent call last)",
         "\u001b[0;32m<ipython-input-5-83666fad3bd5>\u001b[0m in \u001b[0;36m<module>\u001b[0;34m()\u001b[0m\n\u001b[0;32m----> 1\u001b[0;31m \u001b[0;32mfor\u001b[0m \u001b[0mitem\u001b[0m \u001b[0;32min\u001b[0m \u001b[0mdir\u001b[0m\u001b[0;34m(\u001b[0m\u001b[0mRO\u001b[0m\u001b[0;34m.\u001b[0m\u001b[0mattributes\u001b[0m\u001b[0;34m)\u001b[0m\u001b[0;34m:\u001b[0m\u001b[0;34m\u001b[0m\u001b[0m\n\u001b[0m\u001b[1;32m      2\u001b[0m     \u001b[0;32mif\u001b[0m \u001b[0mitem\u001b[0m\u001b[0;34m[\u001b[0m\u001b[0;34m:\u001b[0m\u001b[0;36m2\u001b[0m\u001b[0;34m]\u001b[0m \u001b[0;34m!=\u001b[0m \u001b[0;34m'__'\u001b[0m\u001b[0;34m:\u001b[0m\u001b[0;34m\u001b[0m\u001b[0m\n\u001b[1;32m      3\u001b[0m         \u001b[0mprint\u001b[0m\u001b[0;34m(\u001b[0m\u001b[0mitem\u001b[0m\u001b[0;34m)\u001b[0m\u001b[0;34m\u001b[0m\u001b[0m\n",
         "\u001b[0;31mAttributeError\u001b[0m: 'ReadObject' object has no attribute 'attributes'"
        ]
       }
      ],
      "source": "for item in dir(RO.attributes):\n    if item[:2] != '__':\n        print(item)",
      "start_time": "2019-02-26T14:58:08.665Z"
     },
     {
      "end_time": "2019-02-26T14:58:12.876Z",
      "execution_time": "4ms",
      "outputs": [
       {
        "name": "stdout",
        "output_type": "stream",
        "text": "base_url\nheaders\nloadJSON\nrequest\nsession\nstory\n"
       }
      ],
      "source": "for item in dir(RO):\n    if item[:2] != '__':\n        print(item)",
      "start_time": "2019-02-26T14:58:12.872Z"
     },
     {
      "end_time": "2019-02-26T14:58:27.338Z",
      "execution_time": "5ms",
      "outputs": [
       {
        "name": "stdout",
        "output_type": "stream",
        "text": "attributes\nid\nlinks\nmeta\nrelationships\ntype\n"
       }
      ],
      "source": "for item in dir(RO.story):\n    if item[:2] != '__':\n        print(item)",
      "start_time": "2019-02-26T14:58:27.333Z"
     }
    ]
   },
   "outputs": [
    {
     "name": "stdout",
     "output_type": "stream",
     "text": [
      "attributes\n",
      "id\n",
      "links\n",
      "meta\n",
      "relationships\n",
      "type\n"
     ]
    }
   ],
   "source": [
    "for item in dir(RO.story):\n",
    "    if item[:2] != '__':\n",
    "        print(item)"
   ]
  }
 ],
 "metadata": {
  "kernelspec": {
   "display_name": "Python 3",
   "language": "python",
   "name": "python3"
  },
  "language_info": {
   "codemirror_mode": {
    "name": "ipython",
    "version": 3
   },
   "file_extension": ".py",
   "mimetype": "text/x-python",
   "name": "python",
   "nbconvert_exporter": "python",
   "pygments_lexer": "ipython3",
   "version": "3.6.5"
  }
 },
 "nbformat": 4,
 "nbformat_minor": 2
}
